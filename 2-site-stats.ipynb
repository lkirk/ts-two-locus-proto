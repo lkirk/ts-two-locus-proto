{
 "cells": [
  {
   "cell_type": "code",
   "execution_count": 1,
   "id": "099caea4-23ae-4e7c-b138-9ee5ab1975e0",
   "metadata": {},
   "outputs": [],
   "source": [
    "import io\n",
    "import msprime\n",
    "import numpy as np\n",
    "import tskit"
   ]
  },
  {
   "cell_type": "code",
   "execution_count": 2,
   "id": "d1d728d8-585c-4226-a5ae-02366cb8c6df",
   "metadata": {},
   "outputs": [],
   "source": [
    "import sys\n",
    "if not any(['tskit-ld-proto' in s for s in sys.path]):\n",
    "    sys.path.append('/home/lkirk/repo/tskit-ld-proto')"
   ]
  },
  {
   "cell_type": "code",
   "execution_count": 3,
   "id": "861de356-1512-4b7e-9d0f-63459adf517d",
   "metadata": {},
   "outputs": [],
   "source": [
    "from tskit_ld_proto.ld_proto import (\n",
    "    compute_stat_matrix,\n",
    "    compute_D,\n",
    "    compute_r2,\n",
    "    paper_ex_ts\n",
    ")"
   ]
  },
  {
   "cell_type": "code",
   "execution_count": 4,
   "id": "d9964ef6-6896-4934-97a5-494fdf758ea3",
   "metadata": {},
   "outputs": [
    {
     "data": {
      "image/svg+xml": [
       "<svg baseProfile=\"full\" height=\"200\" version=\"1.1\" width=\"600\" xmlns=\"http://www.w3.org/2000/svg\" xmlns:ev=\"http://www.w3.org/2001/xml-events\" xmlns:xlink=\"http://www.w3.org/1999/xlink\"><defs><style type=\"text/css\"><![CDATA[.background path {fill: #808080; fill-opacity: 0}.background path:nth-child(odd) {fill-opacity: .1}.axes {font-size: 14px}.x-axis .tick .lab {font-weight: bold; dominant-baseline: hanging}.axes, .tree {font-size: 14px; text-anchor: middle}.axes line, .edge {stroke: black; fill: none}.y-axis .grid {stroke: #FAFAFA}.node > .sym {fill: black; stroke: none}.site > .sym {stroke: black}.mut text {fill: red; font-style: italic}.mut.extra text {fill: hotpink}.mut line {fill: none; stroke: none}.mut .sym {fill: none; stroke: red}.mut.extra .sym {stroke: hotpink}.node .mut .sym {stroke-width: 1.5px}.tree text, .tree-sequence text {dominant-baseline: central}.plotbox .lab.lft {text-anchor: end}.plotbox .lab.rgt {text-anchor: start}]]></style></defs><g class=\"tree-sequence\"><g class=\"background\"><path d=\"M20,0 l186.667,0 l0,138.2 l-74.6667,25 l0,5 l-112,0 l0,-5 l0,-25 l0,-138.2z\" /><path d=\"M206.667,0 l186.667,0 l0,138.2 l18.6667,25 l0,5 l-280,0 l0,-5 l74.6667,-25 l0,-138.2z\" /><path d=\"M393.333,0 l186.667,0 l0,138.2 l0,25 l0,5 l-168,0 l0,-5 l-18.6667,-25 l0,-138.2z\" /></g><g class=\"axes\"><g class=\"x-axis\"><g transform=\"translate(300 200)\"><text class=\"lab\" text-anchor=\"middle\" transform=\"translate(0 -11)\">Genome position</text></g><line x1=\"20\" x2=\"580\" y1=\"163.2\" y2=\"163.2\" /><g class=\"ticks\"><g class=\"tick\" transform=\"translate(20 163.2)\"><line x1=\"0\" x2=\"0\" y1=\"0\" y2=\"5\" /><g transform=\"translate(0 6)\"><text class=\"lab\">0</text></g></g><g class=\"tick\" transform=\"translate(132 163.2)\"><line x1=\"0\" x2=\"0\" y1=\"0\" y2=\"5\" /><g transform=\"translate(0 6)\"><text class=\"lab\">2</text></g></g><g class=\"tick\" transform=\"translate(412 163.2)\"><line x1=\"0\" x2=\"0\" y1=\"0\" y2=\"5\" /><g transform=\"translate(0 6)\"><text class=\"lab\">7</text></g></g><g class=\"tick\" transform=\"translate(580 163.2)\"><line x1=\"0\" x2=\"0\" y1=\"0\" y2=\"5\" /><g transform=\"translate(0 6)\"><text class=\"lab\">10</text></g></g></g><g class=\"site s0\" transform=\"translate(76 163.2)\"><line class=\"sym\" x1=\"0\" x2=\"0\" y1=\"0\" y2=\"-10\" /><g class=\"mut m0\"><polyline class=\"sym\" points=\"2.5,-6.5 0,-1.5 -2.5,-6.5\" /></g></g><g class=\"site s1\" transform=\"translate(272 163.2)\"><line class=\"sym\" x1=\"0\" x2=\"0\" y1=\"0\" y2=\"-10\" /><g class=\"mut m1\"><polyline class=\"sym\" points=\"2.5,-6.5 0,-1.5 -2.5,-6.5\" /></g></g><g class=\"site s2\" transform=\"translate(496 163.2)\"><line class=\"sym\" x1=\"0\" x2=\"0\" y1=\"0\" y2=\"-10\" /><g class=\"mut m2\"><polyline class=\"sym\" points=\"2.5,-6.5 0,-1.5 -2.5,-6.5\" /></g></g></g></g><g class=\"plotbox trees\"><g class=\"tree t0\" transform=\"translate(20 0)\"><g class=\"plotbox\"><g class=\"c2 node n8 root\" transform=\"translate(107.083 26.8)\"><g class=\"a8 i1 leaf m0 node n2 s0 sample\" transform=\"translate(41.25 94.6)\"><path class=\"edge\" d=\"M 0 0 V -94.6 H -41.25\" /><g class=\"mut m0 s0 unknown_time\" transform=\"translate(0 -47.3)\"><line x1=\"0\" x2=\"0\" y1=\"0\" y2=\"47.3\" /><path class=\"sym\" d=\"M -3,-3 l 6,6 M -3,3 l 6,-6\" /><text class=\"lab rgt\" transform=\"translate(5 0)\">0</text></g><rect class=\"sym\" height=\"6\" width=\"6\" x=\"-3\" y=\"-3\" /><text class=\"lab\" transform=\"translate(0 11)\">2</text></g><g class=\"a8 c2 node n6\" transform=\"translate(-41.25 31.0348)\"><g class=\"a6 i0 leaf node n0 sample\" transform=\"translate(-27.5 63.5652)\"><path class=\"edge\" d=\"M 0 0 V -63.5652 H 27.5\" /><rect class=\"sym\" height=\"6\" width=\"6\" x=\"-3\" y=\"-3\" /><text class=\"lab\" transform=\"translate(0 11)\">0</text></g><g class=\"a6 c2 node n5\" transform=\"translate(27.5 29.913)\"><g class=\"a5 i0 leaf node n1 sample\" transform=\"translate(-18.3333 33.6522)\"><path class=\"edge\" d=\"M 0 0 V -33.6522 H 18.3333\" /><rect class=\"sym\" height=\"6\" width=\"6\" x=\"-3\" y=\"-3\" /><text class=\"lab\" transform=\"translate(0 11)\">1</text></g><g class=\"a5 i1 leaf node n3 sample\" transform=\"translate(18.3333 33.6522)\"><path class=\"edge\" d=\"M 0 0 V -33.6522 H -18.3333\" /><rect class=\"sym\" height=\"6\" width=\"6\" x=\"-3\" y=\"-3\" /><text class=\"lab\" transform=\"translate(0 11)\">3</text></g><path class=\"edge\" d=\"M 0 0 V -29.913 H -27.5\" /><circle class=\"sym\" cx=\"0\" cy=\"0\" r=\"3\" /><text class=\"lab rgt\" transform=\"translate(3 -7.0)\">5</text></g><path class=\"edge\" d=\"M 0 0 V -31.0348 H 41.25\" /><circle class=\"sym\" cx=\"0\" cy=\"0\" r=\"3\" /><text class=\"lab lft\" transform=\"translate(-3 -7.0)\">6</text></g><circle class=\"sym\" cx=\"0\" cy=\"0\" r=\"3\" /><text class=\"lab\" transform=\"translate(0 -11)\">8</text></g></g></g><g class=\"tree t1\" transform=\"translate(206.667 0)\"><g class=\"plotbox\"><g class=\"c2 node n6 root\" transform=\"translate(70.4167 57.8348)\"><g class=\"a6 i0 leaf m1 node n0 s1 sample\" transform=\"translate(-32.0833 63.5652)\"><path class=\"edge\" d=\"M 0 0 V -63.5652 H 32.0833\" /><g class=\"mut m1 s1 unknown_time\" transform=\"translate(0 -31.7826)\"><line x1=\"0\" x2=\"0\" y1=\"0\" y2=\"31.7826\" /><path class=\"sym\" d=\"M -3,-3 l 6,6 M -3,3 l 6,-6\" /><text class=\"lab lft\" transform=\"translate(-5 0)\">1</text></g><rect class=\"sym\" height=\"6\" width=\"6\" x=\"-3\" y=\"-3\" /><text class=\"lab\" transform=\"translate(0 11)\">0</text></g><g class=\"a6 c2 node n5\" transform=\"translate(32.0833 29.913)\"><g class=\"a5 i0 leaf node n1 sample\" transform=\"translate(-27.5 33.6522)\"><path class=\"edge\" d=\"M 0 0 V -33.6522 H 27.5\" /><rect class=\"sym\" height=\"6\" width=\"6\" x=\"-3\" y=\"-3\" /><text class=\"lab\" transform=\"translate(0 11)\">1</text></g><g class=\"a5 c2 node n4\" transform=\"translate(27.5 7.10435)\"><g class=\"a4 i1 leaf node n2 sample\" transform=\"translate(-18.3333 26.5478)\"><path class=\"edge\" d=\"M 0 0 V -26.5478 H 18.3333\" /><rect class=\"sym\" height=\"6\" width=\"6\" x=\"-3\" y=\"-3\" /><text class=\"lab\" transform=\"translate(0 11)\">2</text></g><g class=\"a4 i1 leaf node n3 sample\" transform=\"translate(18.3333 26.5478)\"><path class=\"edge\" d=\"M 0 0 V -26.5478 H -18.3333\" /><rect class=\"sym\" height=\"6\" width=\"6\" x=\"-3\" y=\"-3\" /><text class=\"lab\" transform=\"translate(0 11)\">3</text></g><path class=\"edge\" d=\"M 0 0 V -7.10435 H -27.5\" /><circle class=\"sym\" cx=\"0\" cy=\"0\" r=\"3\" /><text class=\"lab rgt\" transform=\"translate(3 -7.0)\">4</text></g><path class=\"edge\" d=\"M 0 0 V -29.913 H -32.0833\" /><circle class=\"sym\" cx=\"0\" cy=\"0\" r=\"3\" /><text class=\"lab rgt\" transform=\"translate(3 -7.0)\">5</text></g><circle class=\"sym\" cx=\"0\" cy=\"0\" r=\"3\" /><text class=\"lab\" transform=\"translate(0 -11)\">6</text></g></g></g><g class=\"tree t2\" transform=\"translate(393.333 0)\"><g class=\"plotbox\"><g class=\"c2 node n7 root\" transform=\"translate(70.4167 45.8696)\"><g class=\"a7 i0 leaf node n0 sample\" transform=\"translate(-32.0833 75.5304)\"><path class=\"edge\" d=\"M 0 0 V -75.5304 H 32.0833\" /><rect class=\"sym\" height=\"6\" width=\"6\" x=\"-3\" y=\"-3\" /><text class=\"lab\" transform=\"translate(0 11)\">0</text></g><g class=\"a7 c2 m2 node n5 s2\" transform=\"translate(32.0833 41.8783)\"><g class=\"a5 i0 leaf node n1 sample\" transform=\"translate(-27.5 33.6522)\"><path class=\"edge\" d=\"M 0 0 V -33.6522 H 27.5\" /><rect class=\"sym\" height=\"6\" width=\"6\" x=\"-3\" y=\"-3\" /><text class=\"lab\" transform=\"translate(0 11)\">1</text></g><g class=\"a5 c2 node n4\" transform=\"translate(27.5 7.10435)\"><g class=\"a4 i1 leaf node n2 sample\" transform=\"translate(-18.3333 26.5478)\"><path class=\"edge\" d=\"M 0 0 V -26.5478 H 18.3333\" /><rect class=\"sym\" height=\"6\" width=\"6\" x=\"-3\" y=\"-3\" /><text class=\"lab\" transform=\"translate(0 11)\">2</text></g><g class=\"a4 i1 leaf node n3 sample\" transform=\"translate(18.3333 26.5478)\"><path class=\"edge\" d=\"M 0 0 V -26.5478 H -18.3333\" /><rect class=\"sym\" height=\"6\" width=\"6\" x=\"-3\" y=\"-3\" /><text class=\"lab\" transform=\"translate(0 11)\">3</text></g><path class=\"edge\" d=\"M 0 0 V -7.10435 H -27.5\" /><circle class=\"sym\" cx=\"0\" cy=\"0\" r=\"3\" /><text class=\"lab rgt\" transform=\"translate(3 -7.0)\">4</text></g><path class=\"edge\" d=\"M 0 0 V -41.8783 H -32.0833\" /><g class=\"mut m2 s2 unknown_time\" transform=\"translate(0 -20.9391)\"><line x1=\"0\" x2=\"0\" y1=\"0\" y2=\"20.9391\" /><path class=\"sym\" d=\"M -3,-3 l 6,6 M -3,3 l 6,-6\" /><text class=\"lab rgt\" transform=\"translate(5 0)\">2</text></g><circle class=\"sym\" cx=\"0\" cy=\"0\" r=\"3\" /><text class=\"lab rgt\" transform=\"translate(3 -7.0)\">5</text></g><circle class=\"sym\" cx=\"0\" cy=\"0\" r=\"3\" /><text class=\"lab\" transform=\"translate(0 -11)\">7</text></g></g></g></g></g></svg>"
      ],
      "text/plain": [
       "'<svg baseProfile=\"full\" height=\"200\" version=\"1.1\" width=\"600\" xmlns=\"http://www.w3.org/2000/svg\" xmlns:ev=\"http://www.w3.org/2001/xml-events\" xmlns:xlink=\"http://www.w3.org/1999/xlink\"><defs><style type=\"text/css\"><![CDATA[.background path {fill: #808080; fill-opacity: 0}.background path:nth-child(odd) {fill-opacity: .1}.axes {font-size: 14px}.x-axis .tick .lab {font-weight: bold; dominant-baseline: hanging}.axes, .tree {font-size: 14px; text-anchor: middle}.axes line, .edge {stroke: black; fill: none}.y-axis .grid {stroke: #FAFAFA}.node > .sym {fill: black; stroke: none}.site > .sym {stroke: black}.mut text {fill: red; font-style: italic}.mut.extra text {fill: hotpink}.mut line {fill: none; stroke: none}.mut .sym {fill: none; stroke: red}.mut.extra .sym {stroke: hotpink}.node .mut .sym {stroke-width: 1.5px}.tree text, .tree-sequence text {dominant-baseline: central}.plotbox .lab.lft {text-anchor: end}.plotbox .lab.rgt {text-anchor: start}]]></style></defs><g class=\"tree-sequence\"><g class=\"background\"><path d=\"M20,0 l186.667,0 l0,138.2 l-74.6667,25 l0,5 l-112,0 l0,-5 l0,-25 l0,-138.2z\" /><path d=\"M206.667,0 l186.667,0 l0,138.2 l18.6667,25 l0,5 l-280,0 l0,-5 l74.6667,-25 l0,-138.2z\" /><path d=\"M393.333,0 l186.667,0 l0,138.2 l0,25 l0,5 l-168,0 l0,-5 l-18.6667,-25 l0,-138.2z\" /></g><g class=\"axes\"><g class=\"x-axis\"><g transform=\"translate(300 200)\"><text class=\"lab\" text-anchor=\"middle\" transform=\"translate(0 -11)\">Genome position</text></g><line x1=\"20\" x2=\"580\" y1=\"163.2\" y2=\"163.2\" /><g class=\"ticks\"><g class=\"tick\" transform=\"translate(20 163.2)\"><line x1=\"0\" x2=\"0\" y1=\"0\" y2=\"5\" /><g transform=\"translate(0 6)\"><text class=\"lab\">0</text></g></g><g class=\"tick\" transform=\"translate(132 163.2)\"><line x1=\"0\" x2=\"0\" y1=\"0\" y2=\"5\" /><g transform=\"translate(0 6)\"><text class=\"lab\">2</text></g></g><g class=\"tick\" transform=\"translate(412 163.2)\"><line x1=\"0\" x2=\"0\" y1=\"0\" y2=\"5\" /><g transform=\"translate(0 6)\"><text class=\"lab\">7</text></g></g><g class=\"tick\" transform=\"translate(580 163.2)\"><line x1=\"0\" x2=\"0\" y1=\"0\" y2=\"5\" /><g transform=\"translate(0 6)\"><text class=\"lab\">10</text></g></g></g><g class=\"site s0\" transform=\"translate(76 163.2)\"><line class=\"sym\" x1=\"0\" x2=\"0\" y1=\"0\" y2=\"-10\" /><g class=\"mut m0\"><polyline class=\"sym\" points=\"2.5,-6.5 0,-1.5 -2.5,-6.5\" /></g></g><g class=\"site s1\" transform=\"translate(272 163.2)\"><line class=\"sym\" x1=\"0\" x2=\"0\" y1=\"0\" y2=\"-10\" /><g class=\"mut m1\"><polyline class=\"sym\" points=\"2.5,-6.5 0,-1.5 -2.5,-6.5\" /></g></g><g class=\"site s2\" transform=\"translate(496 163.2)\"><line class=\"sym\" x1=\"0\" x2=\"0\" y1=\"0\" y2=\"-10\" /><g class=\"mut m2\"><polyline class=\"sym\" points=\"2.5,-6.5 0,-1.5 -2.5,-6.5\" /></g></g></g></g><g class=\"plotbox trees\"><g class=\"tree t0\" transform=\"translate(20 0)\"><g class=\"plotbox\"><g class=\"c2 node n8 root\" transform=\"translate(107.083 26.8)\"><g class=\"a8 i1 leaf m0 node n2 s0 sample\" transform=\"translate(41.25 94.6)\"><path class=\"edge\" d=\"M 0 0 V -94.6 H -41.25\" /><g class=\"mut m0 s0 unknown_time\" transform=\"translate(0 -47.3)\"><line x1=\"0\" x2=\"0\" y1=\"0\" y2=\"47.3\" /><path class=\"sym\" d=\"M -3,-3 l 6,6 M -3,3 l 6,-6\" /><text class=\"lab rgt\" transform=\"translate(5 0)\">0</text></g><rect class=\"sym\" height=\"6\" width=\"6\" x=\"-3\" y=\"-3\" /><text class=\"lab\" transform=\"translate(0 11)\">2</text></g><g class=\"a8 c2 node n6\" transform=\"translate(-41.25 31.0348)\"><g class=\"a6 i0 leaf node n0 sample\" transform=\"translate(-27.5 63.5652)\"><path class=\"edge\" d=\"M 0 0 V -63.5652 H 27.5\" /><rect class=\"sym\" height=\"6\" width=\"6\" x=\"-3\" y=\"-3\" /><text class=\"lab\" transform=\"translate(0 11)\">0</text></g><g class=\"a6 c2 node n5\" transform=\"translate(27.5 29.913)\"><g class=\"a5 i0 leaf node n1 sample\" transform=\"translate(-18.3333 33.6522)\"><path class=\"edge\" d=\"M 0 0 V -33.6522 H 18.3333\" /><rect class=\"sym\" height=\"6\" width=\"6\" x=\"-3\" y=\"-3\" /><text class=\"lab\" transform=\"translate(0 11)\">1</text></g><g class=\"a5 i1 leaf node n3 sample\" transform=\"translate(18.3333 33.6522)\"><path class=\"edge\" d=\"M 0 0 V -33.6522 H -18.3333\" /><rect class=\"sym\" height=\"6\" width=\"6\" x=\"-3\" y=\"-3\" /><text class=\"lab\" transform=\"translate(0 11)\">3</text></g><path class=\"edge\" d=\"M 0 0 V -29.913 H -27.5\" /><circle class=\"sym\" cx=\"0\" cy=\"0\" r=\"3\" /><text class=\"lab rgt\" transform=\"translate(3 -7.0)\">5</text></g><path class=\"edge\" d=\"M 0 0 V -31.0348 H 41.25\" /><circle class=\"sym\" cx=\"0\" cy=\"0\" r=\"3\" /><text class=\"lab lft\" transform=\"translate(-3 -7.0)\">6</text></g><circle class=\"sym\" cx=\"0\" cy=\"0\" r=\"3\" /><text class=\"lab\" transform=\"translate(0 -11)\">8</text></g></g></g><g class=\"tree t1\" transform=\"translate(206.667 0)\"><g class=\"plotbox\"><g class=\"c2 node n6 root\" transform=\"translate(70.4167 57.8348)\"><g class=\"a6 i0 leaf m1 node n0 s1 sample\" transform=\"translate(-32.0833 63.5652)\"><path class=\"edge\" d=\"M 0 0 V -63.5652 H 32.0833\" /><g class=\"mut m1 s1 unknown_time\" transform=\"translate(0 -31.7826)\"><line x1=\"0\" x2=\"0\" y1=\"0\" y2=\"31.7826\" /><path class=\"sym\" d=\"M -3,-3 l 6,6 M -3,3 l 6,-6\" /><text class=\"lab lft\" transform=\"translate(-5 0)\">1</text></g><rect class=\"sym\" height=\"6\" width=\"6\" x=\"-3\" y=\"-3\" /><text class=\"lab\" transform=\"translate(0 11)\">0</text></g><g class=\"a6 c2 node n5\" transform=\"translate(32.0833 29.913)\"><g class=\"a5 i0 leaf node n1 sample\" transform=\"translate(-27.5 33.6522)\"><path class=\"edge\" d=\"M 0 0 V -33.6522 H 27.5\" /><rect class=\"sym\" height=\"6\" width=\"6\" x=\"-3\" y=\"-3\" /><text class=\"lab\" transform=\"translate(0 11)\">1</text></g><g class=\"a5 c2 node n4\" transform=\"translate(27.5 7.10435)\"><g class=\"a4 i1 leaf node n2 sample\" transform=\"translate(-18.3333 26.5478)\"><path class=\"edge\" d=\"M 0 0 V -26.5478 H 18.3333\" /><rect class=\"sym\" height=\"6\" width=\"6\" x=\"-3\" y=\"-3\" /><text class=\"lab\" transform=\"translate(0 11)\">2</text></g><g class=\"a4 i1 leaf node n3 sample\" transform=\"translate(18.3333 26.5478)\"><path class=\"edge\" d=\"M 0 0 V -26.5478 H -18.3333\" /><rect class=\"sym\" height=\"6\" width=\"6\" x=\"-3\" y=\"-3\" /><text class=\"lab\" transform=\"translate(0 11)\">3</text></g><path class=\"edge\" d=\"M 0 0 V -7.10435 H -27.5\" /><circle class=\"sym\" cx=\"0\" cy=\"0\" r=\"3\" /><text class=\"lab rgt\" transform=\"translate(3 -7.0)\">4</text></g><path class=\"edge\" d=\"M 0 0 V -29.913 H -32.0833\" /><circle class=\"sym\" cx=\"0\" cy=\"0\" r=\"3\" /><text class=\"lab rgt\" transform=\"translate(3 -7.0)\">5</text></g><circle class=\"sym\" cx=\"0\" cy=\"0\" r=\"3\" /><text class=\"lab\" transform=\"translate(0 -11)\">6</text></g></g></g><g class=\"tree t2\" transform=\"translate(393.333 0)\"><g class=\"plotbox\"><g class=\"c2 node n7 root\" transform=\"translate(70.4167 45.8696)\"><g class=\"a7 i0 leaf node n0 sample\" transform=\"translate(-32.0833 75.5304)\"><path class=\"edge\" d=\"M 0 0 V -75.5304 H 32.0833\" /><rect class=\"sym\" height=\"6\" width=\"6\" x=\"-3\" y=\"-3\" /><text class=\"lab\" transform=\"translate(0 11)\">0</text></g><g class=\"a7 c2 m2 node n5 s2\" transform=\"translate(32.0833 41.8783)\"><g class=\"a5 i0 leaf node n1 sample\" transform=\"translate(-27.5 33.6522)\"><path class=\"edge\" d=\"M 0 0 V -33.6522 H 27.5\" /><rect class=\"sym\" height=\"6\" width=\"6\" x=\"-3\" y=\"-3\" /><text class=\"lab\" transform=\"translate(0 11)\">1</text></g><g class=\"a5 c2 node n4\" transform=\"translate(27.5 7.10435)\"><g class=\"a4 i1 leaf node n2 sample\" transform=\"translate(-18.3333 26.5478)\"><path class=\"edge\" d=\"M 0 0 V -26.5478 H 18.3333\" /><rect class=\"sym\" height=\"6\" width=\"6\" x=\"-3\" y=\"-3\" /><text class=\"lab\" transform=\"translate(0 11)\">2</text></g><g class=\"a4 i1 leaf node n3 sample\" transform=\"translate(18.3333 26.5478)\"><path class=\"edge\" d=\"M 0 0 V -26.5478 H -18.3333\" /><rect class=\"sym\" height=\"6\" width=\"6\" x=\"-3\" y=\"-3\" /><text class=\"lab\" transform=\"translate(0 11)\">3</text></g><path class=\"edge\" d=\"M 0 0 V -7.10435 H -27.5\" /><circle class=\"sym\" cx=\"0\" cy=\"0\" r=\"3\" /><text class=\"lab rgt\" transform=\"translate(3 -7.0)\">4</text></g><path class=\"edge\" d=\"M 0 0 V -41.8783 H -32.0833\" /><g class=\"mut m2 s2 unknown_time\" transform=\"translate(0 -20.9391)\"><line x1=\"0\" x2=\"0\" y1=\"0\" y2=\"20.9391\" /><path class=\"sym\" d=\"M -3,-3 l 6,6 M -3,3 l 6,-6\" /><text class=\"lab rgt\" transform=\"translate(5 0)\">2</text></g><circle class=\"sym\" cx=\"0\" cy=\"0\" r=\"3\" /><text class=\"lab rgt\" transform=\"translate(3 -7.0)\">5</text></g><circle class=\"sym\" cx=\"0\" cy=\"0\" r=\"3\" /><text class=\"lab\" transform=\"translate(0 -11)\">7</text></g></g></g></g></g></svg>'"
      ]
     },
     "execution_count": 4,
     "metadata": {},
     "output_type": "execute_result"
    }
   ],
   "source": [
    "paper_ex_ts.draw_svg()"
   ]
  },
  {
   "cell_type": "code",
   "execution_count": 5,
   "id": "079d1f87-4365-4b95-81e5-8dd531339942",
   "metadata": {},
   "outputs": [
    {
     "data": {
      "text/plain": [
       "array([[1.        , 0.11111111, 0.11111111],\n",
       "       [0.11111111, 1.        , 1.        ],\n",
       "       [0.11111111, 1.        , 1.        ]])"
      ]
     },
     "execution_count": 5,
     "metadata": {},
     "output_type": "execute_result"
    }
   ],
   "source": [
    "paper_ex_ld_calc = tskit.LdCalculator(paper_ex_ts)\n",
    "paper_ex_ld_calc.get_r2_matrix()"
   ]
  },
  {
   "cell_type": "code",
   "execution_count": 6,
   "id": "9b6014f6-0a6a-4340-a3ef-93078ae5da4b",
   "metadata": {},
   "outputs": [
    {
     "data": {
      "text/plain": [
       "array([[1.        , 0.11111111, 0.11111111],\n",
       "       [0.11111111, 1.        , 1.        ],\n",
       "       [0.11111111, 1.        , 1.        ]])"
      ]
     },
     "execution_count": 6,
     "metadata": {},
     "output_type": "execute_result"
    }
   ],
   "source": [
    "compute_stat_matrix(paper_ex_ts, compute_r2)"
   ]
  },
  {
   "cell_type": "code",
   "execution_count": 7,
   "id": "a343fc02-86ba-4cb9-8fb9-3d8d4af33471",
   "metadata": {},
   "outputs": [
    {
     "data": {
      "image/svg+xml": [
       "<svg baseProfile=\"full\" height=\"200\" version=\"1.1\" width=\"1000\" xmlns=\"http://www.w3.org/2000/svg\" xmlns:ev=\"http://www.w3.org/2001/xml-events\" xmlns:xlink=\"http://www.w3.org/1999/xlink\"><defs><style type=\"text/css\"><![CDATA[.background path {fill: #808080; fill-opacity: 0}.background path:nth-child(odd) {fill-opacity: .1}.axes {font-size: 14px}.x-axis .tick .lab {font-weight: bold; dominant-baseline: hanging}.axes, .tree {font-size: 14px; text-anchor: middle}.axes line, .edge {stroke: black; fill: none}.y-axis .grid {stroke: #FAFAFA}.node > .sym {fill: black; stroke: none}.site > .sym {stroke: black}.mut text {fill: red; font-style: italic}.mut.extra text {fill: hotpink}.mut line {fill: none; stroke: none}.mut .sym {fill: none; stroke: red}.mut.extra .sym {stroke: hotpink}.node .mut .sym {stroke-width: 1.5px}.tree text, .tree-sequence text {dominant-baseline: central}.plotbox .lab.lft {text-anchor: end}.plotbox .lab.rgt {text-anchor: start}]]></style></defs><g class=\"tree-sequence\"><g class=\"background\"><path d=\"M56.8,0 l184.64,0 l0,138.2 l92.32,25 l0,5 l-276.96,0 l0,-5 l0,-25 l0,-138.2z\" /><path d=\"M241.44,0 l184.64,0 l0,138.2 l0,25 l0,5 l-92.32,0 l0,-5 l-92.32,-25 l0,-138.2z\" /><path d=\"M426.08,0 l184.64,0 l0,138.2 l-1.13687e-13,25 l0,5 l-184.64,0 l0,-5 l0,-25 l0,-138.2z\" /><path d=\"M610.72,0 l184.64,0 l0,138.2 l92.32,25 l0,5 l-276.96,0 l0,-5 l1.13687e-13,-25 l0,-138.2z\" /><path d=\"M795.36,0 l184.64,0 l0,138.2 l0,25 l0,5 l-92.32,0 l0,-5 l-92.32,-25 l0,-138.2z\" /></g><g class=\"axes\"><g class=\"x-axis\"><g transform=\"translate(518.4 200)\"><text class=\"lab\" text-anchor=\"middle\" transform=\"translate(0 -11)\">Genome position</text></g><line x1=\"56.8\" x2=\"980\" y1=\"163.2\" y2=\"163.2\" /><g class=\"ticks\"><g class=\"tick\" transform=\"translate(56.8 163.2)\"><line x1=\"0\" x2=\"0\" y1=\"0\" y2=\"5\" /><g transform=\"translate(0 6)\"><text class=\"lab\">0</text></g></g><g class=\"tick\" transform=\"translate(333.76 163.2)\"><line x1=\"0\" x2=\"0\" y1=\"0\" y2=\"5\" /><g transform=\"translate(0 6)\"><text class=\"lab\">300</text></g></g><g class=\"tick\" transform=\"translate(426.08 163.2)\"><line x1=\"0\" x2=\"0\" y1=\"0\" y2=\"5\" /><g transform=\"translate(0 6)\"><text class=\"lab\">400</text></g></g><g class=\"tick\" transform=\"translate(610.72 163.2)\"><line x1=\"0\" x2=\"0\" y1=\"0\" y2=\"5\" /><g transform=\"translate(0 6)\"><text class=\"lab\">600</text></g></g><g class=\"tick\" transform=\"translate(887.68 163.2)\"><line x1=\"0\" x2=\"0\" y1=\"0\" y2=\"5\" /><g transform=\"translate(0 6)\"><text class=\"lab\">900</text></g></g><g class=\"tick\" transform=\"translate(980 163.2)\"><line x1=\"0\" x2=\"0\" y1=\"0\" y2=\"5\" /><g transform=\"translate(0 6)\"><text class=\"lab\">1000</text></g></g></g><g class=\"site s0\" transform=\"translate(130.656 163.2)\"><line class=\"sym\" x1=\"0\" x2=\"0\" y1=\"0\" y2=\"-10\" /><g class=\"mut m0\"><polyline class=\"sym\" points=\"2.5,-6.5 0,-1.5 -2.5,-6.5\" /></g></g><g class=\"site s1\" transform=\"translate(141.734 163.2)\"><line class=\"sym\" x1=\"0\" x2=\"0\" y1=\"0\" y2=\"-10\" /><g class=\"mut m1\"><polyline class=\"sym\" points=\"2.5,-6.5 0,-1.5 -2.5,-6.5\" /></g></g><g class=\"site s2\" transform=\"translate(176.816 163.2)\"><line class=\"sym\" x1=\"0\" x2=\"0\" y1=\"0\" y2=\"-10\" /><g class=\"mut m2\"><polyline class=\"sym\" points=\"2.5,-6.5 0,-1.5 -2.5,-6.5\" /></g></g><g class=\"site s3\" transform=\"translate(231.285 163.2)\"><line class=\"sym\" x1=\"0\" x2=\"0\" y1=\"0\" y2=\"-10\" /><g class=\"mut m3\"><polyline class=\"sym\" points=\"2.5,-6.5 0,-1.5 -2.5,-6.5\" /></g></g><g class=\"site s4\" transform=\"translate(251.595 163.2)\"><line class=\"sym\" x1=\"0\" x2=\"0\" y1=\"0\" y2=\"-10\" /><g class=\"mut m4\"><polyline class=\"sym\" points=\"2.5,-6.5 0,-1.5 -2.5,-6.5\" /></g></g><g class=\"site s5\" transform=\"translate(352.224 163.2)\"><line class=\"sym\" x1=\"0\" x2=\"0\" y1=\"0\" y2=\"-10\" /><g class=\"mut m5\"><polyline class=\"sym\" points=\"2.5,-6.5 0,-1.5 -2.5,-6.5\" /></g></g><g class=\"site s6\" transform=\"translate(363.302 163.2)\"><line class=\"sym\" x1=\"0\" x2=\"0\" y1=\"0\" y2=\"-10\" /><g class=\"mut m6\"><polyline class=\"sym\" points=\"2.5,-6.5 0,-1.5 -2.5,-6.5\" /></g></g><g class=\"site s7\" transform=\"translate(430.696 163.2)\"><line class=\"sym\" x1=\"0\" x2=\"0\" y1=\"0\" y2=\"-10\" /><g class=\"mut m7\"><polyline class=\"sym\" points=\"2.5,-6.5 0,-1.5 -2.5,-6.5\" /></g></g><g class=\"site s8\" transform=\"translate(463.931 163.2)\"><line class=\"sym\" x1=\"0\" x2=\"0\" y1=\"0\" y2=\"-10\" /><g class=\"mut m8\"><polyline class=\"sym\" points=\"2.5,-6.5 0,-1.5 -2.5,-6.5\" /></g></g><g class=\"site s9\" transform=\"translate(503.629 163.2)\"><line class=\"sym\" x1=\"0\" x2=\"0\" y1=\"0\" y2=\"-10\" /><g class=\"mut m9\"><polyline class=\"sym\" points=\"2.5,-6.5 0,-1.5 -2.5,-6.5\" /></g></g><g class=\"site s10\" transform=\"translate(520.246 163.2)\"><line class=\"sym\" x1=\"0\" x2=\"0\" y1=\"0\" y2=\"-10\" /><g class=\"mut m10\"><polyline class=\"sym\" points=\"2.5,-6.5 0,-1.5 -2.5,-6.5\" /></g></g><g class=\"site s11\" transform=\"translate(537.787 163.2)\"><line class=\"sym\" x1=\"0\" x2=\"0\" y1=\"0\" y2=\"-10\" /><g class=\"mut m11\"><polyline class=\"sym\" points=\"2.5,-6.5 0,-1.5 -2.5,-6.5\" /></g></g><g class=\"site s12\" transform=\"translate(575.638 163.2)\"><line class=\"sym\" x1=\"0\" x2=\"0\" y1=\"0\" y2=\"-10\" /><g class=\"mut m12\"><polyline class=\"sym\" points=\"2.5,-6.5 0,-1.5 -2.5,-6.5\" /></g></g><g class=\"site s13\" transform=\"translate(684.576 163.2)\"><line class=\"sym\" x1=\"0\" x2=\"0\" y1=\"0\" y2=\"-10\" /><g class=\"mut m13\"><polyline class=\"sym\" points=\"2.5,-6.5 0,-1.5 -2.5,-6.5\" /></g></g><g class=\"site s14\" transform=\"translate(723.35 163.2)\"><line class=\"sym\" x1=\"0\" x2=\"0\" y1=\"0\" y2=\"-10\" /><g class=\"mut m14\"><polyline class=\"sym\" points=\"2.5,-6.5 0,-1.5 -2.5,-6.5\" /></g></g><g class=\"site s15\" transform=\"translate(725.197 163.2)\"><line class=\"sym\" x1=\"0\" x2=\"0\" y1=\"0\" y2=\"-10\" /><g class=\"mut m15\"><polyline class=\"sym\" points=\"2.5,-6.5 0,-1.5 -2.5,-6.5\" /></g></g><g class=\"site s16\" transform=\"translate(813.824 163.2)\"><line class=\"sym\" x1=\"0\" x2=\"0\" y1=\"0\" y2=\"-10\" /><g class=\"mut m16\"><polyline class=\"sym\" points=\"2.5,-6.5 0,-1.5 -2.5,-6.5\" /></g></g><g class=\"site s17\" transform=\"translate(828.595 163.2)\"><line class=\"sym\" x1=\"0\" x2=\"0\" y1=\"0\" y2=\"-10\" /><g class=\"mut m17\"><polyline class=\"sym\" points=\"2.5,-6.5 0,-1.5 -2.5,-6.5\" /></g></g><g class=\"site s18\" transform=\"translate(904.298 163.2)\"><line class=\"sym\" x1=\"0\" x2=\"0\" y1=\"0\" y2=\"-10\" /><g class=\"mut m18\"><polyline class=\"sym\" points=\"2.5,-6.5 0,-1.5 -2.5,-6.5\" /></g></g><g class=\"site s19\" transform=\"translate(931.994 163.2)\"><line class=\"sym\" x1=\"0\" x2=\"0\" y1=\"0\" y2=\"-10\" /><g class=\"mut m19\"><polyline class=\"sym\" points=\"2.5,-6.5 0,-1.5 -2.5,-6.5\" /></g></g></g><g class=\"y-axis\"><g transform=\"translate(0 65.7)\"><text class=\"lab\" text-anchor=\"middle\" transform=\"translate(11) rotate(-90)\">Time</text></g><line x1=\"56.8\" x2=\"56.8\" y1=\"121.4\" y2=\"10\" /><g class=\"ticks\"><g class=\"tick\" transform=\"translate(56.8 121.4)\"><line x1=\"0\" x2=\"-5\" y1=\"0\" y2=\"0\" /><g transform=\"translate(-6 0)\"><text class=\"lab\" text-anchor=\"end\">0</text></g></g><g class=\"tick\" transform=\"translate(56.8 107.886)\"><line x1=\"0\" x2=\"-5\" y1=\"0\" y2=\"0\" /><g transform=\"translate(-6 0)\"><text class=\"lab\" text-anchor=\"end\">2</text></g></g><g class=\"tick\" transform=\"translate(56.8 94.3714)\"><line x1=\"0\" x2=\"-5\" y1=\"0\" y2=\"0\" /><g transform=\"translate(-6 0)\"><text class=\"lab\" text-anchor=\"end\">4</text></g></g><g class=\"tick\" transform=\"translate(56.8 67.3429)\"><line x1=\"0\" x2=\"-5\" y1=\"0\" y2=\"0\" /><g transform=\"translate(-6 0)\"><text class=\"lab\" text-anchor=\"end\">8</text></g></g><g class=\"tick\" transform=\"translate(56.8 53.8286)\"><line x1=\"0\" x2=\"-5\" y1=\"0\" y2=\"0\" /><g transform=\"translate(-6 0)\"><text class=\"lab\" text-anchor=\"end\">10</text></g></g><g class=\"tick\" transform=\"translate(56.8 33.5571)\"><line x1=\"0\" x2=\"-5\" y1=\"0\" y2=\"0\" /><g transform=\"translate(-6 0)\"><text class=\"lab\" text-anchor=\"end\">13</text></g></g><g class=\"tick\" transform=\"translate(56.8 26.8)\"><line x1=\"0\" x2=\"-5\" y1=\"0\" y2=\"0\" /><g transform=\"translate(-6 0)\"><text class=\"lab\" text-anchor=\"end\">14</text></g></g></g></g></g><g class=\"plotbox trees\"><g class=\"tree t0\" transform=\"translate(56.8 0)\"><g class=\"plotbox\"><g class=\"c2 node n6 root\" transform=\"translate(69.72 67.3429)\"><g class=\"a6 leaf m0 m1 m4 node n0 s0 s1 s4 sample\" transform=\"translate(-31.64 54.0571)\"><path class=\"edge\" d=\"M 0 0 V -54.0571 H 31.64\" /><g class=\"mut m0 s0\" transform=\"translate(0 -30.6323)\"><line x1=\"0\" x2=\"0\" y1=\"0\" y2=\"30.6323\" /><path class=\"sym\" d=\"M -3,-3 l 6,6 M -3,3 l 6,-6\" /><text class=\"lab lft\" transform=\"translate(-5 0)\">0</text></g><g class=\"mut m4 s4\" transform=\"translate(0 -16.9697)\"><line x1=\"0\" x2=\"0\" y1=\"0\" y2=\"16.9697\" /><path class=\"sym\" d=\"M -3,-3 l 6,6 M -3,3 l 6,-6\" /><text class=\"lab lft\" transform=\"translate(-5 0)\">4</text></g><g class=\"mut m1 s1\" transform=\"translate(0 -3.30215)\"><line x1=\"0\" x2=\"0\" y1=\"0\" y2=\"3.30215\" /><path class=\"sym\" d=\"M -3,-3 l 6,6 M -3,3 l 6,-6\" /><text class=\"lab lft\" transform=\"translate(-5 0)\">1</text></g><rect class=\"sym\" height=\"6\" width=\"6\" x=\"-3\" y=\"-3\" /><text class=\"lab\" transform=\"translate(0 11)\">0</text></g><g class=\"a6 c2 m3 node n5 s3\" transform=\"translate(31.64 27.0286)\"><g class=\"a5 leaf node n1 sample\" transform=\"translate(-27.12 27.0286)\"><path class=\"edge\" d=\"M 0 0 V -27.0286 H 27.12\" /><rect class=\"sym\" height=\"6\" width=\"6\" x=\"-3\" y=\"-3\" /><text class=\"lab\" transform=\"translate(0 11)\">1</text></g><g class=\"a5 c2 node n4\" transform=\"translate(27.12 13.5143)\"><g class=\"a4 leaf m2 node n2 s2 sample\" transform=\"translate(-18.08 13.5143)\"><path class=\"edge\" d=\"M 0 0 V -13.5143 H 18.08\" /><g class=\"mut m2 s2\" transform=\"translate(0 -9.46627)\"><line x1=\"0\" x2=\"0\" y1=\"0\" y2=\"9.46627\" /><path class=\"sym\" d=\"M -3,-3 l 6,6 M -3,3 l 6,-6\" /><text class=\"lab lft\" transform=\"translate(-5 0)\">2</text></g><rect class=\"sym\" height=\"6\" width=\"6\" x=\"-3\" y=\"-3\" /><text class=\"lab\" transform=\"translate(0 11)\">2</text></g><g class=\"a4 leaf node n3 sample\" transform=\"translate(18.08 13.5143)\"><path class=\"edge\" d=\"M 0 0 V -13.5143 H -18.08\" /><rect class=\"sym\" height=\"6\" width=\"6\" x=\"-3\" y=\"-3\" /><text class=\"lab\" transform=\"translate(0 11)\">3</text></g><path class=\"edge\" d=\"M 0 0 V -13.5143 H -27.12\" /><circle class=\"sym\" cx=\"0\" cy=\"0\" r=\"3\" /><text class=\"lab rgt\" transform=\"translate(3 -7.0)\">4</text></g><path class=\"edge\" d=\"M 0 0 V -27.0286 H -31.64\" /><g class=\"mut m3 s3\" transform=\"translate(0 -11.5823)\"><line x1=\"0\" x2=\"0\" y1=\"0\" y2=\"11.5823\" /><path class=\"sym\" d=\"M -3,-3 l 6,6 M -3,3 l 6,-6\" /><text class=\"lab rgt\" transform=\"translate(5 0)\">3</text></g><circle class=\"sym\" cx=\"0\" cy=\"0\" r=\"3\" /><text class=\"lab rgt\" transform=\"translate(3 -7.0)\">5</text></g><circle class=\"sym\" cx=\"0\" cy=\"0\" r=\"3\" /><text class=\"lab\" transform=\"translate(0 -11)\">6</text></g></g></g><g class=\"tree t1\" transform=\"translate(241.44 0)\"><g class=\"plotbox\"><g class=\"c2 node n8 root\" transform=\"translate(105.88 33.5571)\"><g class=\"a8 leaf m5 node n2 s5 sample\" transform=\"translate(40.68 87.8429)\"><path class=\"edge\" d=\"M 0 0 V -87.8429 H -40.68\" /><g class=\"mut m5 s5\" transform=\"translate(0 -11.7301)\"><line x1=\"0\" x2=\"0\" y1=\"0\" y2=\"11.7301\" /><path class=\"sym\" d=\"M -3,-3 l 6,6 M -3,3 l 6,-6\" /><text class=\"lab rgt\" transform=\"translate(5 0)\">5</text></g><rect class=\"sym\" height=\"6\" width=\"6\" x=\"-3\" y=\"-3\" /><text class=\"lab\" transform=\"translate(0 11)\">2</text></g><g class=\"a8 c2 node n6\" transform=\"translate(-40.68 33.7857)\"><g class=\"a6 leaf m6 node n0 s6 sample\" transform=\"translate(-27.12 54.0571)\"><path class=\"edge\" d=\"M 0 0 V -54.0571 H 27.12\" /><g class=\"mut m6 s6\" transform=\"translate(0 -46.5591)\"><line x1=\"0\" x2=\"0\" y1=\"0\" y2=\"46.5591\" /><path class=\"sym\" d=\"M -3,-3 l 6,6 M -3,3 l 6,-6\" /><text class=\"lab lft\" transform=\"translate(-5 0)\">6</text></g><rect class=\"sym\" height=\"6\" width=\"6\" x=\"-3\" y=\"-3\" /><text class=\"lab\" transform=\"translate(0 11)\">0</text></g><g class=\"a6 c2 node n5\" transform=\"translate(27.12 27.0286)\"><g class=\"a5 leaf node n1 sample\" transform=\"translate(-18.08 27.0286)\"><path class=\"edge\" d=\"M 0 0 V -27.0286 H 18.08\" /><rect class=\"sym\" height=\"6\" width=\"6\" x=\"-3\" y=\"-3\" /><text class=\"lab\" transform=\"translate(0 11)\">1</text></g><g class=\"a5 leaf node n3 sample\" transform=\"translate(18.08 27.0286)\"><path class=\"edge\" d=\"M 0 0 V -27.0286 H -18.08\" /><rect class=\"sym\" height=\"6\" width=\"6\" x=\"-3\" y=\"-3\" /><text class=\"lab\" transform=\"translate(0 11)\">3</text></g><path class=\"edge\" d=\"M 0 0 V -27.0286 H -27.12\" /><circle class=\"sym\" cx=\"0\" cy=\"0\" r=\"3\" /><text class=\"lab rgt\" transform=\"translate(3 -7.0)\">5</text></g><path class=\"edge\" d=\"M 0 0 V -33.7857 H 40.68\" /><circle class=\"sym\" cx=\"0\" cy=\"0\" r=\"3\" /><text class=\"lab lft\" transform=\"translate(-3 -7.0)\">6</text></g><circle class=\"sym\" cx=\"0\" cy=\"0\" r=\"3\" /><text class=\"lab\" transform=\"translate(0 -11)\">8</text></g></g></g><g class=\"tree t2\" transform=\"translate(426.08 0)\"><g class=\"plotbox\"><g class=\"c2 node n7 root\" transform=\"translate(105.88 53.8286)\"><g class=\"a7 leaf node n2 sample\" transform=\"translate(40.68 67.5714)\"><path class=\"edge\" d=\"M 0 0 V -67.5714 H -40.68\" /><rect class=\"sym\" height=\"6\" width=\"6\" x=\"-3\" y=\"-3\" /><text class=\"lab\" transform=\"translate(0 11)\">2</text></g><g class=\"a7 c2 node n6\" transform=\"translate(-40.68 13.5143)\"><g class=\"a6 leaf m10 m8 m9 node n0 s10 s8 s9 sample\" transform=\"translate(-27.12 54.0571)\"><path class=\"edge\" d=\"M 0 0 V -54.0571 H 27.12\" /><g class=\"mut m10 s10\" transform=\"translate(0 -42.5833)\"><line x1=\"0\" x2=\"0\" y1=\"0\" y2=\"42.5833\" /><path class=\"sym\" d=\"M -3,-3 l 6,6 M -3,3 l 6,-6\" /><text class=\"lab lft\" transform=\"translate(-5 0)\">10</text></g><g class=\"mut m8 s8\" transform=\"translate(0 -24.9351)\"><line x1=\"0\" x2=\"0\" y1=\"0\" y2=\"24.9351\" /><path class=\"sym\" d=\"M -3,-3 l 6,6 M -3,3 l 6,-6\" /><text class=\"lab lft\" transform=\"translate(-5 0)\">8</text></g><g class=\"mut m9 s9\" transform=\"translate(0 -1.79765)\"><line x1=\"0\" x2=\"0\" y1=\"0\" y2=\"1.79765\" /><path class=\"sym\" d=\"M -3,-3 l 6,6 M -3,3 l 6,-6\" /><text class=\"lab lft\" transform=\"translate(-5 0)\">9</text></g><rect class=\"sym\" height=\"6\" width=\"6\" x=\"-3\" y=\"-3\" /><text class=\"lab\" transform=\"translate(0 11)\">0</text></g><g class=\"a6 c2 m11 node n5 s11\" transform=\"translate(27.12 27.0286)\"><g class=\"a5 leaf node n1 sample\" transform=\"translate(-18.08 27.0286)\"><path class=\"edge\" d=\"M 0 0 V -27.0286 H 18.08\" /><rect class=\"sym\" height=\"6\" width=\"6\" x=\"-3\" y=\"-3\" /><text class=\"lab\" transform=\"translate(0 11)\">1</text></g><g class=\"a5 leaf m12 m7 node n3 s12 s7 sample\" transform=\"translate(18.08 27.0286)\"><path class=\"edge\" d=\"M 0 0 V -27.0286 H -18.08\" /><g class=\"mut m12 s12\" transform=\"translate(0 -13.8294)\"><line x1=\"0\" x2=\"0\" y1=\"0\" y2=\"13.8294\" /><path class=\"sym\" d=\"M -3,-3 l 6,6 M -3,3 l 6,-6\" /><text class=\"lab rgt\" transform=\"translate(5 0)\">12</text></g><g class=\"mut m7 s7\" transform=\"translate(0 -9.62699)\"><line x1=\"0\" x2=\"0\" y1=\"0\" y2=\"9.62699\" /><path class=\"sym\" d=\"M -3,-3 l 6,6 M -3,3 l 6,-6\" /><text class=\"lab rgt\" transform=\"translate(5 0)\">7</text></g><rect class=\"sym\" height=\"6\" width=\"6\" x=\"-3\" y=\"-3\" /><text class=\"lab\" transform=\"translate(0 11)\">3</text></g><path class=\"edge\" d=\"M 0 0 V -27.0286 H -27.12\" /><g class=\"mut m11 s11\" transform=\"translate(0 -14.2191)\"><line x1=\"0\" x2=\"0\" y1=\"0\" y2=\"14.2191\" /><path class=\"sym\" d=\"M -3,-3 l 6,6 M -3,3 l 6,-6\" /><text class=\"lab rgt\" transform=\"translate(5 0)\">11</text></g><circle class=\"sym\" cx=\"0\" cy=\"0\" r=\"3\" /><text class=\"lab rgt\" transform=\"translate(3 -7.0)\">5</text></g><path class=\"edge\" d=\"M 0 0 V -13.5143 H 40.68\" /><circle class=\"sym\" cx=\"0\" cy=\"0\" r=\"3\" /><text class=\"lab lft\" transform=\"translate(-3 -7.0)\">6</text></g><circle class=\"sym\" cx=\"0\" cy=\"0\" r=\"3\" /><text class=\"lab\" transform=\"translate(0 -11)\">7</text></g></g></g><g class=\"tree t3\" transform=\"translate(610.72 0)\"><g class=\"plotbox\"><g class=\"c2 node n7 root\" transform=\"translate(105.88 53.8286)\"><g class=\"a7 leaf m13 m16 m17 node n2 s13 s16 s17 sample\" transform=\"translate(40.68 67.5714)\"><path class=\"edge\" d=\"M 0 0 V -67.5714 H -40.68\" /><g class=\"mut m13 s13\" transform=\"translate(0 -44.1493)\"><line x1=\"0\" x2=\"0\" y1=\"0\" y2=\"44.1493\" /><path class=\"sym\" d=\"M -3,-3 l 6,6 M -3,3 l 6,-6\" /><text class=\"lab rgt\" transform=\"translate(5 0)\">13</text></g><g class=\"mut m16 s16\" transform=\"translate(0 -27.4565)\"><line x1=\"0\" x2=\"0\" y1=\"0\" y2=\"27.4565\" /><path class=\"sym\" d=\"M -3,-3 l 6,6 M -3,3 l 6,-6\" /><text class=\"lab rgt\" transform=\"translate(5 0)\">16</text></g><g class=\"mut m17 s17\" transform=\"translate(0 -3.51366)\"><line x1=\"0\" x2=\"0\" y1=\"0\" y2=\"3.51366\" /><path class=\"sym\" d=\"M -3,-3 l 6,6 M -3,3 l 6,-6\" /><text class=\"lab rgt\" transform=\"translate(5 0)\">17</text></g><rect class=\"sym\" height=\"6\" width=\"6\" x=\"-3\" y=\"-3\" /><text class=\"lab\" transform=\"translate(0 11)\">2</text></g><g class=\"a7 c2 node n6\" transform=\"translate(-40.68 13.5143)\"><g class=\"a6 leaf node n0 sample\" transform=\"translate(-27.12 54.0571)\"><path class=\"edge\" d=\"M 0 0 V -54.0571 H 27.12\" /><rect class=\"sym\" height=\"6\" width=\"6\" x=\"-3\" y=\"-3\" /><text class=\"lab\" transform=\"translate(0 11)\">0</text></g><g class=\"a6 c2 m14 node n4 s14\" transform=\"translate(27.12 40.5429)\"><g class=\"a4 leaf node n1 sample\" transform=\"translate(-18.08 13.5143)\"><path class=\"edge\" d=\"M 0 0 V -13.5143 H 18.08\" /><rect class=\"sym\" height=\"6\" width=\"6\" x=\"-3\" y=\"-3\" /><text class=\"lab\" transform=\"translate(0 11)\">1</text></g><g class=\"a4 leaf m15 node n3 s15 sample\" transform=\"translate(18.08 13.5143)\"><path class=\"edge\" d=\"M 0 0 V -13.5143 H -18.08\" /><g class=\"mut m15 s15\" transform=\"translate(0 -10.1646)\"><line x1=\"0\" x2=\"0\" y1=\"0\" y2=\"10.1646\" /><path class=\"sym\" d=\"M -3,-3 l 6,6 M -3,3 l 6,-6\" /><text class=\"lab rgt\" transform=\"translate(5 0)\">15</text></g><rect class=\"sym\" height=\"6\" width=\"6\" x=\"-3\" y=\"-3\" /><text class=\"lab\" transform=\"translate(0 11)\">3</text></g><path class=\"edge\" d=\"M 0 0 V -40.5429 H -27.12\" /><g class=\"mut m14 s14\" transform=\"translate(0 -29.1368)\"><line x1=\"0\" x2=\"0\" y1=\"0\" y2=\"29.1368\" /><path class=\"sym\" d=\"M -3,-3 l 6,6 M -3,3 l 6,-6\" /><text class=\"lab rgt\" transform=\"translate(5 0)\">14</text></g><circle class=\"sym\" cx=\"0\" cy=\"0\" r=\"3\" /><text class=\"lab rgt\" transform=\"translate(3 -7.0)\">4</text></g><path class=\"edge\" d=\"M 0 0 V -13.5143 H 40.68\" /><circle class=\"sym\" cx=\"0\" cy=\"0\" r=\"3\" /><text class=\"lab lft\" transform=\"translate(-3 -7.0)\">6</text></g><circle class=\"sym\" cx=\"0\" cy=\"0\" r=\"3\" /><text class=\"lab\" transform=\"translate(0 -11)\">7</text></g></g></g><g class=\"tree t4\" transform=\"translate(795.36 0)\"><g class=\"plotbox\"><g class=\"c2 node n9 root\" transform=\"translate(105.88 26.8)\"><g class=\"a9 leaf m19 node n2 s19 sample\" transform=\"translate(40.68 94.6)\"><path class=\"edge\" d=\"M 0 0 V -94.6 H -40.68\" /><g class=\"mut m19 s19\" transform=\"translate(0 -14.9796)\"><line x1=\"0\" x2=\"0\" y1=\"0\" y2=\"14.9796\" /><path class=\"sym\" d=\"M -3,-3 l 6,6 M -3,3 l 6,-6\" /><text class=\"lab rgt\" transform=\"translate(5 0)\">19</text></g><rect class=\"sym\" height=\"6\" width=\"6\" x=\"-3\" y=\"-3\" /><text class=\"lab\" transform=\"translate(0 11)\">2</text></g><g class=\"a9 c2 node n6\" transform=\"translate(-40.68 40.5429)\"><g class=\"a6 leaf node n0 sample\" transform=\"translate(-27.12 54.0571)\"><path class=\"edge\" d=\"M 0 0 V -54.0571 H 27.12\" /><rect class=\"sym\" height=\"6\" width=\"6\" x=\"-3\" y=\"-3\" /><text class=\"lab\" transform=\"translate(0 11)\">0</text></g><g class=\"a6 c2 m18 node n4 s18\" transform=\"translate(27.12 40.5429)\"><g class=\"a4 leaf node n1 sample\" transform=\"translate(-18.08 13.5143)\"><path class=\"edge\" d=\"M 0 0 V -13.5143 H 18.08\" /><rect class=\"sym\" height=\"6\" width=\"6\" x=\"-3\" y=\"-3\" /><text class=\"lab\" transform=\"translate(0 11)\">1</text></g><g class=\"a4 leaf node n3 sample\" transform=\"translate(18.08 13.5143)\"><path class=\"edge\" d=\"M 0 0 V -13.5143 H -18.08\" /><rect class=\"sym\" height=\"6\" width=\"6\" x=\"-3\" y=\"-3\" /><text class=\"lab\" transform=\"translate(0 11)\">3</text></g><path class=\"edge\" d=\"M 0 0 V -40.5429 H -27.12\" /><g class=\"mut m18 s18\" transform=\"translate(0 -36.1365)\"><line x1=\"0\" x2=\"0\" y1=\"0\" y2=\"36.1365\" /><path class=\"sym\" d=\"M -3,-3 l 6,6 M -3,3 l 6,-6\" /><text class=\"lab rgt\" transform=\"translate(5 0)\">18</text></g><circle class=\"sym\" cx=\"0\" cy=\"0\" r=\"3\" /><text class=\"lab rgt\" transform=\"translate(3 -7.0)\">4</text></g><path class=\"edge\" d=\"M 0 0 V -40.5429 H 40.68\" /><circle class=\"sym\" cx=\"0\" cy=\"0\" r=\"3\" /><text class=\"lab lft\" transform=\"translate(-3 -7.0)\">6</text></g><circle class=\"sym\" cx=\"0\" cy=\"0\" r=\"3\" /><text class=\"lab\" transform=\"translate(0 -11)\">9</text></g></g></g></g></g></svg>"
      ],
      "text/plain": [
       "'<svg baseProfile=\"full\" height=\"200\" version=\"1.1\" width=\"1000\" xmlns=\"http://www.w3.org/2000/svg\" xmlns:ev=\"http://www.w3.org/2001/xml-events\" xmlns:xlink=\"http://www.w3.org/1999/xlink\"><defs><style type=\"text/css\"><![CDATA[.background path {fill: #808080; fill-opacity: 0}.background path:nth-child(odd) {fill-opacity: .1}.axes {font-size: 14px}.x-axis .tick .lab {font-weight: bold; dominant-baseline: hanging}.axes, .tree {font-size: 14px; text-anchor: middle}.axes line, .edge {stroke: black; fill: none}.y-axis .grid {stroke: #FAFAFA}.node > .sym {fill: black; stroke: none}.site > .sym {stroke: black}.mut text {fill: red; font-style: italic}.mut.extra text {fill: hotpink}.mut line {fill: none; stroke: none}.mut .sym {fill: none; stroke: red}.mut.extra .sym {stroke: hotpink}.node .mut .sym {stroke-width: 1.5px}.tree text, .tree-sequence text {dominant-baseline: central}.plotbox .lab.lft {text-anchor: end}.plotbox .lab.rgt {text-anchor: start}]]></style></defs><g class=\"tree-sequence\"><g class=\"background\"><path d=\"M56.8,0 l184.64,0 l0,138.2 l92.32,25 l0,5 l-276.96,0 l0,-5 l0,-25 l0,-138.2z\" /><path d=\"M241.44,0 l184.64,0 l0,138.2 l0,25 l0,5 l-92.32,0 l0,-5 l-92.32,-25 l0,-138.2z\" /><path d=\"M426.08,0 l184.64,0 l0,138.2 l-1.13687e-13,25 l0,5 l-184.64,0 l0,-5 l0,-25 l0,-138.2z\" /><path d=\"M610.72,0 l184.64,0 l0,138.2 l92.32,25 l0,5 l-276.96,0 l0,-5 l1.13687e-13,-25 l0,-138.2z\" /><path d=\"M795.36,0 l184.64,0 l0,138.2 l0,25 l0,5 l-92.32,0 l0,-5 l-92.32,-25 l0,-138.2z\" /></g><g class=\"axes\"><g class=\"x-axis\"><g transform=\"translate(518.4 200)\"><text class=\"lab\" text-anchor=\"middle\" transform=\"translate(0 -11)\">Genome position</text></g><line x1=\"56.8\" x2=\"980\" y1=\"163.2\" y2=\"163.2\" /><g class=\"ticks\"><g class=\"tick\" transform=\"translate(56.8 163.2)\"><line x1=\"0\" x2=\"0\" y1=\"0\" y2=\"5\" /><g transform=\"translate(0 6)\"><text class=\"lab\">0</text></g></g><g class=\"tick\" transform=\"translate(333.76 163.2)\"><line x1=\"0\" x2=\"0\" y1=\"0\" y2=\"5\" /><g transform=\"translate(0 6)\"><text class=\"lab\">300</text></g></g><g class=\"tick\" transform=\"translate(426.08 163.2)\"><line x1=\"0\" x2=\"0\" y1=\"0\" y2=\"5\" /><g transform=\"translate(0 6)\"><text class=\"lab\">400</text></g></g><g class=\"tick\" transform=\"translate(610.72 163.2)\"><line x1=\"0\" x2=\"0\" y1=\"0\" y2=\"5\" /><g transform=\"translate(0 6)\"><text class=\"lab\">600</text></g></g><g class=\"tick\" transform=\"translate(887.68 163.2)\"><line x1=\"0\" x2=\"0\" y1=\"0\" y2=\"5\" /><g transform=\"translate(0 6)\"><text class=\"lab\">900</text></g></g><g class=\"tick\" transform=\"translate(980 163.2)\"><line x1=\"0\" x2=\"0\" y1=\"0\" y2=\"5\" /><g transform=\"translate(0 6)\"><text class=\"lab\">1000</text></g></g></g><g class=\"site s0\" transform=\"translate(130.656 163.2)\"><line class=\"sym\" x1=\"0\" x2=\"0\" y1=\"0\" y2=\"-10\" /><g class=\"mut m0\"><polyline class=\"sym\" points=\"2.5,-6.5 0,-1.5 -2.5,-6.5\" /></g></g><g class=\"site s1\" transform=\"translate(141.734 163.2)\"><line class=\"sym\" x1=\"0\" x2=\"0\" y1=\"0\" y2=\"-10\" /><g class=\"mut m1\"><polyline class=\"sym\" points=\"2.5,-6.5 0,-1.5 -2.5,-6.5\" /></g></g><g class=\"site s2\" transform=\"translate(176.816 163.2)\"><line class=\"sym\" x1=\"0\" x2=\"0\" y1=\"0\" y2=\"-10\" /><g class=\"mut m2\"><polyline class=\"sym\" points=\"2.5,-6.5 0,-1.5 -2.5,-6.5\" /></g></g><g class=\"site s3\" transform=\"translate(231.285 163.2)\"><line class=\"sym\" x1=\"0\" x2=\"0\" y1=\"0\" y2=\"-10\" /><g class=\"mut m3\"><polyline class=\"sym\" points=\"2.5,-6.5 0,-1.5 -2.5,-6.5\" /></g></g><g class=\"site s4\" transform=\"translate(251.595 163.2)\"><line class=\"sym\" x1=\"0\" x2=\"0\" y1=\"0\" y2=\"-10\" /><g class=\"mut m4\"><polyline class=\"sym\" points=\"2.5,-6.5 0,-1.5 -2.5,-6.5\" /></g></g><g class=\"site s5\" transform=\"translate(352.224 163.2)\"><line class=\"sym\" x1=\"0\" x2=\"0\" y1=\"0\" y2=\"-10\" /><g class=\"mut m5\"><polyline class=\"sym\" points=\"2.5,-6.5 0,-1.5 -2.5,-6.5\" /></g></g><g class=\"site s6\" transform=\"translate(363.302 163.2)\"><line class=\"sym\" x1=\"0\" x2=\"0\" y1=\"0\" y2=\"-10\" /><g class=\"mut m6\"><polyline class=\"sym\" points=\"2.5,-6.5 0,-1.5 -2.5,-6.5\" /></g></g><g class=\"site s7\" transform=\"translate(430.696 163.2)\"><line class=\"sym\" x1=\"0\" x2=\"0\" y1=\"0\" y2=\"-10\" /><g class=\"mut m7\"><polyline class=\"sym\" points=\"2.5,-6.5 0,-1.5 -2.5,-6.5\" /></g></g><g class=\"site s8\" transform=\"translate(463.931 163.2)\"><line class=\"sym\" x1=\"0\" x2=\"0\" y1=\"0\" y2=\"-10\" /><g class=\"mut m8\"><polyline class=\"sym\" points=\"2.5,-6.5 0,-1.5 -2.5,-6.5\" /></g></g><g class=\"site s9\" transform=\"translate(503.629 163.2)\"><line class=\"sym\" x1=\"0\" x2=\"0\" y1=\"0\" y2=\"-10\" /><g class=\"mut m9\"><polyline class=\"sym\" points=\"2.5,-6.5 0,-1.5 -2.5,-6.5\" /></g></g><g class=\"site s10\" transform=\"translate(520.246 163.2)\"><line class=\"sym\" x1=\"0\" x2=\"0\" y1=\"0\" y2=\"-10\" /><g class=\"mut m10\"><polyline class=\"sym\" points=\"2.5,-6.5 0,-1.5 -2.5,-6.5\" /></g></g><g class=\"site s11\" transform=\"translate(537.787 163.2)\"><line class=\"sym\" x1=\"0\" x2=\"0\" y1=\"0\" y2=\"-10\" /><g class=\"mut m11\"><polyline class=\"sym\" points=\"2.5,-6.5 0,-1.5 -2.5,-6.5\" /></g></g><g class=\"site s12\" transform=\"translate(575.638 163.2)\"><line class=\"sym\" x1=\"0\" x2=\"0\" y1=\"0\" y2=\"-10\" /><g class=\"mut m12\"><polyline class=\"sym\" points=\"2.5,-6.5 0,-1.5 -2.5,-6.5\" /></g></g><g class=\"site s13\" transform=\"translate(684.576 163.2)\"><line class=\"sym\" x1=\"0\" x2=\"0\" y1=\"0\" y2=\"-10\" /><g class=\"mut m13\"><polyline class=\"sym\" points=\"2.5,-6.5 0,-1.5 -2.5,-6.5\" /></g></g><g class=\"site s14\" transform=\"translate(723.35 163.2)\"><line class=\"sym\" x1=\"0\" x2=\"0\" y1=\"0\" y2=\"-10\" /><g class=\"mut m14\"><polyline class=\"sym\" points=\"2.5,-6.5 0,-1.5 -2.5,-6.5\" /></g></g><g class=\"site s15\" transform=\"translate(725.197 163.2)\"><line class=\"sym\" x1=\"0\" x2=\"0\" y1=\"0\" y2=\"-10\" /><g class=\"mut m15\"><polyline class=\"sym\" points=\"2.5,-6.5 0,-1.5 -2.5,-6.5\" /></g></g><g class=\"site s16\" transform=\"translate(813.824 163.2)\"><line class=\"sym\" x1=\"0\" x2=\"0\" y1=\"0\" y2=\"-10\" /><g class=\"mut m16\"><polyline class=\"sym\" points=\"2.5,-6.5 0,-1.5 -2.5,-6.5\" /></g></g><g class=\"site s17\" transform=\"translate(828.595 163.2)\"><line class=\"sym\" x1=\"0\" x2=\"0\" y1=\"0\" y2=\"-10\" /><g class=\"mut m17\"><polyline class=\"sym\" points=\"2.5,-6.5 0,-1.5 -2.5,-6.5\" /></g></g><g class=\"site s18\" transform=\"translate(904.298 163.2)\"><line class=\"sym\" x1=\"0\" x2=\"0\" y1=\"0\" y2=\"-10\" /><g class=\"mut m18\"><polyline class=\"sym\" points=\"2.5,-6.5 0,-1.5 -2.5,-6.5\" /></g></g><g class=\"site s19\" transform=\"translate(931.994 163.2)\"><line class=\"sym\" x1=\"0\" x2=\"0\" y1=\"0\" y2=\"-10\" /><g class=\"mut m19\"><polyline class=\"sym\" points=\"2.5,-6.5 0,-1.5 -2.5,-6.5\" /></g></g></g><g class=\"y-axis\"><g transform=\"translate(0 65.7)\"><text class=\"lab\" text-anchor=\"middle\" transform=\"translate(11) rotate(-90)\">Time</text></g><line x1=\"56.8\" x2=\"56.8\" y1=\"121.4\" y2=\"10\" /><g class=\"ticks\"><g class=\"tick\" transform=\"translate(56.8 121.4)\"><line x1=\"0\" x2=\"-5\" y1=\"0\" y2=\"0\" /><g transform=\"translate(-6 0)\"><text class=\"lab\" text-anchor=\"end\">0</text></g></g><g class=\"tick\" transform=\"translate(56.8 107.886)\"><line x1=\"0\" x2=\"-5\" y1=\"0\" y2=\"0\" /><g transform=\"translate(-6 0)\"><text class=\"lab\" text-anchor=\"end\">2</text></g></g><g class=\"tick\" transform=\"translate(56.8 94.3714)\"><line x1=\"0\" x2=\"-5\" y1=\"0\" y2=\"0\" /><g transform=\"translate(-6 0)\"><text class=\"lab\" text-anchor=\"end\">4</text></g></g><g class=\"tick\" transform=\"translate(56.8 67.3429)\"><line x1=\"0\" x2=\"-5\" y1=\"0\" y2=\"0\" /><g transform=\"translate(-6 0)\"><text class=\"lab\" text-anchor=\"end\">8</text></g></g><g class=\"tick\" transform=\"translate(56.8 53.8286)\"><line x1=\"0\" x2=\"-5\" y1=\"0\" y2=\"0\" /><g transform=\"translate(-6 0)\"><text class=\"lab\" text-anchor=\"end\">10</text></g></g><g class=\"tick\" transform=\"translate(56.8 33.5571)\"><line x1=\"0\" x2=\"-5\" y1=\"0\" y2=\"0\" /><g transform=\"translate(-6 0)\"><text class=\"lab\" text-anchor=\"end\">13</text></g></g><g class=\"tick\" transform=\"translate(56.8 26.8)\"><line x1=\"0\" x2=\"-5\" y1=\"0\" y2=\"0\" /><g transform=\"translate(-6 0)\"><text class=\"lab\" text-anchor=\"end\">14</text></g></g></g></g></g><g class=\"plotbox trees\"><g class=\"tree t0\" transform=\"translate(56.8 0)\"><g class=\"plotbox\"><g class=\"c2 node n6 root\" transform=\"translate(69.72 67.3429)\"><g class=\"a6 leaf m0 m1 m4 node n0 s0 s1 s4 sample\" transform=\"translate(-31.64 54.0571)\"><path class=\"edge\" d=\"M 0 0 V -54.0571 H 31.64\" /><g class=\"mut m0 s0\" transform=\"translate(0 -30.6323)\"><line x1=\"0\" x2=\"0\" y1=\"0\" y2=\"30.6323\" /><path class=\"sym\" d=\"M -3,-3 l 6,6 M -3,3 l 6,-6\" /><text class=\"lab lft\" transform=\"translate(-5 0)\">0</text></g><g class=\"mut m4 s4\" transform=\"translate(0 -16.9697)\"><line x1=\"0\" x2=\"0\" y1=\"0\" y2=\"16.9697\" /><path class=\"sym\" d=\"M -3,-3 l 6,6 M -3,3 l 6,-6\" /><text class=\"lab lft\" transform=\"translate(-5 0)\">4</text></g><g class=\"mut m1 s1\" transform=\"translate(0 -3.30215)\"><line x1=\"0\" x2=\"0\" y1=\"0\" y2=\"3.30215\" /><path class=\"sym\" d=\"M -3,-3 l 6,6 M -3,3 l 6,-6\" /><text class=\"lab lft\" transform=\"translate(-5 0)\">1</text></g><rect class=\"sym\" height=\"6\" width=\"6\" x=\"-3\" y=\"-3\" /><text class=\"lab\" transform=\"translate(0 11)\">0</text></g><g class=\"a6 c2 m3 node n5 s3\" transform=\"translate(31.64 27.0286)\"><g class=\"a5 leaf node n1 sample\" transform=\"translate(-27.12 27.0286)\"><path class=\"edge\" d=\"M 0 0 V -27.0286 H 27.12\" /><rect class=\"sym\" height=\"6\" width=\"6\" x=\"-3\" y=\"-3\" /><text class=\"lab\" transform=\"translate(0 11)\">1</text></g><g class=\"a5 c2 node n4\" transform=\"translate(27.12 13.5143)\"><g class=\"a4 leaf m2 node n2 s2 sample\" transform=\"translate(-18.08 13.5143)\"><path class=\"edge\" d=\"M 0 0 V -13.5143 H 18.08\" /><g class=\"mut m2 s2\" transform=\"translate(0 -9.46627)\"><line x1=\"0\" x2=\"0\" y1=\"0\" y2=\"9.46627\" /><path class=\"sym\" d=\"M -3,-3 l 6,6 M -3,3 l 6,-6\" /><text class=\"lab lft\" transform=\"translate(-5 0)\">2</text></g><rect class=\"sym\" height=\"6\" width=\"6\" x=\"-3\" y=\"-3\" /><text class=\"lab\" transform=\"translate(0 11)\">2</text></g><g class=\"a4 leaf node n3 sample\" transform=\"translate(18.08 13.5143)\"><path class=\"edge\" d=\"M 0 0 V -13.5143 H -18.08\" /><rect class=\"sym\" height=\"6\" width=\"6\" x=\"-3\" y=\"-3\" /><text class=\"lab\" transform=\"translate(0 11)\">3</text></g><path class=\"edge\" d=\"M 0 0 V -13.5143 H -27.12\" /><circle class=\"sym\" cx=\"0\" cy=\"0\" r=\"3\" /><text class=\"lab rgt\" transform=\"translate(3 -7.0)\">4</text></g><path class=\"edge\" d=\"M 0 0 V -27.0286 H -31.64\" /><g class=\"mut m3 s3\" transform=\"translate(0 -11.5823)\"><line x1=\"0\" x2=\"0\" y1=\"0\" y2=\"11.5823\" /><path class=\"sym\" d=\"M -3,-3 l 6,6 M -3,3 l 6,-6\" /><text class=\"lab rgt\" transform=\"translate(5 0)\">3</text></g><circle class=\"sym\" cx=\"0\" cy=\"0\" r=\"3\" /><text class=\"lab rgt\" transform=\"translate(3 -7.0)\">5</text></g><circle class=\"sym\" cx=\"0\" cy=\"0\" r=\"3\" /><text class=\"lab\" transform=\"translate(0 -11)\">6</text></g></g></g><g class=\"tree t1\" transform=\"translate(241.44 0)\"><g class=\"plotbox\"><g class=\"c2 node n8 root\" transform=\"translate(105.88 33.5571)\"><g class=\"a8 leaf m5 node n2 s5 sample\" transform=\"translate(40.68 87.8429)\"><path class=\"edge\" d=\"M 0 0 V -87.8429 H -40.68\" /><g class=\"mut m5 s5\" transform=\"translate(0 -11.7301)\"><line x1=\"0\" x2=\"0\" y1=\"0\" y2=\"11.7301\" /><path class=\"sym\" d=\"M -3,-3 l 6,6 M -3,3 l 6,-6\" /><text class=\"lab rgt\" transform=\"translate(5 0)\">5</text></g><rect class=\"sym\" height=\"6\" width=\"6\" x=\"-3\" y=\"-3\" /><text class=\"lab\" transform=\"translate(0 11)\">2</text></g><g class=\"a8 c2 node n6\" transform=\"translate(-40.68 33.7857)\"><g class=\"a6 leaf m6 node n0 s6 sample\" transform=\"translate(-27.12 54.0571)\"><path class=\"edge\" d=\"M 0 0 V -54.0571 H 27.12\" /><g class=\"mut m6 s6\" transform=\"translate(0 -46.5591)\"><line x1=\"0\" x2=\"0\" y1=\"0\" y2=\"46.5591\" /><path class=\"sym\" d=\"M -3,-3 l 6,6 M -3,3 l 6,-6\" /><text class=\"lab lft\" transform=\"translate(-5 0)\">6</text></g><rect class=\"sym\" height=\"6\" width=\"6\" x=\"-3\" y=\"-3\" /><text class=\"lab\" transform=\"translate(0 11)\">0</text></g><g class=\"a6 c2 node n5\" transform=\"translate(27.12 27.0286)\"><g class=\"a5 leaf node n1 sample\" transform=\"translate(-18.08 27.0286)\"><path class=\"edge\" d=\"M 0 0 V -27.0286 H 18.08\" /><rect class=\"sym\" height=\"6\" width=\"6\" x=\"-3\" y=\"-3\" /><text class=\"lab\" transform=\"translate(0 11)\">1</text></g><g class=\"a5 leaf node n3 sample\" transform=\"translate(18.08 27.0286)\"><path class=\"edge\" d=\"M 0 0 V -27.0286 H -18.08\" /><rect class=\"sym\" height=\"6\" width=\"6\" x=\"-3\" y=\"-3\" /><text class=\"lab\" transform=\"translate(0 11)\">3</text></g><path class=\"edge\" d=\"M 0 0 V -27.0286 H -27.12\" /><circle class=\"sym\" cx=\"0\" cy=\"0\" r=\"3\" /><text class=\"lab rgt\" transform=\"translate(3 -7.0)\">5</text></g><path class=\"edge\" d=\"M 0 0 V -33.7857 H 40.68\" /><circle class=\"sym\" cx=\"0\" cy=\"0\" r=\"3\" /><text class=\"lab lft\" transform=\"translate(-3 -7.0)\">6</text></g><circle class=\"sym\" cx=\"0\" cy=\"0\" r=\"3\" /><text class=\"lab\" transform=\"translate(0 -11)\">8</text></g></g></g><g class=\"tree t2\" transform=\"translate(426.08 0)\"><g class=\"plotbox\"><g class=\"c2 node n7 root\" transform=\"translate(105.88 53.8286)\"><g class=\"a7 leaf node n2 sample\" transform=\"translate(40.68 67.5714)\"><path class=\"edge\" d=\"M 0 0 V -67.5714 H -40.68\" /><rect class=\"sym\" height=\"6\" width=\"6\" x=\"-3\" y=\"-3\" /><text class=\"lab\" transform=\"translate(0 11)\">2</text></g><g class=\"a7 c2 node n6\" transform=\"translate(-40.68 13.5143)\"><g class=\"a6 leaf m10 m8 m9 node n0 s10 s8 s9 sample\" transform=\"translate(-27.12 54.0571)\"><path class=\"edge\" d=\"M 0 0 V -54.0571 H 27.12\" /><g class=\"mut m10 s10\" transform=\"translate(0 -42.5833)\"><line x1=\"0\" x2=\"0\" y1=\"0\" y2=\"42.5833\" /><path class=\"sym\" d=\"M -3,-3 l 6,6 M -3,3 l 6,-6\" /><text class=\"lab lft\" transform=\"translate(-5 0)\">10</text></g><g class=\"mut m8 s8\" transform=\"translate(0 -24.9351)\"><line x1=\"0\" x2=\"0\" y1=\"0\" y2=\"24.9351\" /><path class=\"sym\" d=\"M -3,-3 l 6,6 M -3,3 l 6,-6\" /><text class=\"lab lft\" transform=\"translate(-5 0)\">8</text></g><g class=\"mut m9 s9\" transform=\"translate(0 -1.79765)\"><line x1=\"0\" x2=\"0\" y1=\"0\" y2=\"1.79765\" /><path class=\"sym\" d=\"M -3,-3 l 6,6 M -3,3 l 6,-6\" /><text class=\"lab lft\" transform=\"translate(-5 0)\">9</text></g><rect class=\"sym\" height=\"6\" width=\"6\" x=\"-3\" y=\"-3\" /><text class=\"lab\" transform=\"translate(0 11)\">0</text></g><g class=\"a6 c2 m11 node n5 s11\" transform=\"translate(27.12 27.0286)\"><g class=\"a5 leaf node n1 sample\" transform=\"translate(-18.08 27.0286)\"><path class=\"edge\" d=\"M 0 0 V -27.0286 H 18.08\" /><rect class=\"sym\" height=\"6\" width=\"6\" x=\"-3\" y=\"-3\" /><text class=\"lab\" transform=\"translate(0 11)\">1</text></g><g class=\"a5 leaf m12 m7 node n3 s12 s7 sample\" transform=\"translate(18.08 27.0286)\"><path class=\"edge\" d=\"M 0 0 V -27.0286 H -18.08\" /><g class=\"mut m12 s12\" transform=\"translate(0 -13.8294)\"><line x1=\"0\" x2=\"0\" y1=\"0\" y2=\"13.8294\" /><path class=\"sym\" d=\"M -3,-3 l 6,6 M -3,3 l 6,-6\" /><text class=\"lab rgt\" transform=\"translate(5 0)\">12</text></g><g class=\"mut m7 s7\" transform=\"translate(0 -9.62699)\"><line x1=\"0\" x2=\"0\" y1=\"0\" y2=\"9.62699\" /><path class=\"sym\" d=\"M -3,-3 l 6,6 M -3,3 l 6,-6\" /><text class=\"lab rgt\" transform=\"translate(5 0)\">7</text></g><rect class=\"sym\" height=\"6\" width=\"6\" x=\"-3\" y=\"-3\" /><text class=\"lab\" transform=\"translate(0 11)\">3</text></g><path class=\"edge\" d=\"M 0 0 V -27.0286 H -27.12\" /><g class=\"mut m11 s11\" transform=\"translate(0 -14.2191)\"><line x1=\"0\" x2=\"0\" y1=\"0\" y2=\"14.2191\" /><path class=\"sym\" d=\"M -3,-3 l 6,6 M -3,3 l 6,-6\" /><text class=\"lab rgt\" transform=\"translate(5 0)\">11</text></g><circle class=\"sym\" cx=\"0\" cy=\"0\" r=\"3\" /><text class=\"lab rgt\" transform=\"translate(3 -7.0)\">5</text></g><path class=\"edge\" d=\"M 0 0 V -13.5143 H 40.68\" /><circle class=\"sym\" cx=\"0\" cy=\"0\" r=\"3\" /><text class=\"lab lft\" transform=\"translate(-3 -7.0)\">6</text></g><circle class=\"sym\" cx=\"0\" cy=\"0\" r=\"3\" /><text class=\"lab\" transform=\"translate(0 -11)\">7</text></g></g></g><g class=\"tree t3\" transform=\"translate(610.72 0)\"><g class=\"plotbox\"><g class=\"c2 node n7 root\" transform=\"translate(105.88 53.8286)\"><g class=\"a7 leaf m13 m16 m17 node n2 s13 s16 s17 sample\" transform=\"translate(40.68 67.5714)\"><path class=\"edge\" d=\"M 0 0 V -67.5714 H -40.68\" /><g class=\"mut m13 s13\" transform=\"translate(0 -44.1493)\"><line x1=\"0\" x2=\"0\" y1=\"0\" y2=\"44.1493\" /><path class=\"sym\" d=\"M -3,-3 l 6,6 M -3,3 l 6,-6\" /><text class=\"lab rgt\" transform=\"translate(5 0)\">13</text></g><g class=\"mut m16 s16\" transform=\"translate(0 -27.4565)\"><line x1=\"0\" x2=\"0\" y1=\"0\" y2=\"27.4565\" /><path class=\"sym\" d=\"M -3,-3 l 6,6 M -3,3 l 6,-6\" /><text class=\"lab rgt\" transform=\"translate(5 0)\">16</text></g><g class=\"mut m17 s17\" transform=\"translate(0 -3.51366)\"><line x1=\"0\" x2=\"0\" y1=\"0\" y2=\"3.51366\" /><path class=\"sym\" d=\"M -3,-3 l 6,6 M -3,3 l 6,-6\" /><text class=\"lab rgt\" transform=\"translate(5 0)\">17</text></g><rect class=\"sym\" height=\"6\" width=\"6\" x=\"-3\" y=\"-3\" /><text class=\"lab\" transform=\"translate(0 11)\">2</text></g><g class=\"a7 c2 node n6\" transform=\"translate(-40.68 13.5143)\"><g class=\"a6 leaf node n0 sample\" transform=\"translate(-27.12 54.0571)\"><path class=\"edge\" d=\"M 0 0 V -54.0571 H 27.12\" /><rect class=\"sym\" height=\"6\" width=\"6\" x=\"-3\" y=\"-3\" /><text class=\"lab\" transform=\"translate(0 11)\">0</text></g><g class=\"a6 c2 m14 node n4 s14\" transform=\"translate(27.12 40.5429)\"><g class=\"a4 leaf node n1 sample\" transform=\"translate(-18.08 13.5143)\"><path class=\"edge\" d=\"M 0 0 V -13.5143 H 18.08\" /><rect class=\"sym\" height=\"6\" width=\"6\" x=\"-3\" y=\"-3\" /><text class=\"lab\" transform=\"translate(0 11)\">1</text></g><g class=\"a4 leaf m15 node n3 s15 sample\" transform=\"translate(18.08 13.5143)\"><path class=\"edge\" d=\"M 0 0 V -13.5143 H -18.08\" /><g class=\"mut m15 s15\" transform=\"translate(0 -10.1646)\"><line x1=\"0\" x2=\"0\" y1=\"0\" y2=\"10.1646\" /><path class=\"sym\" d=\"M -3,-3 l 6,6 M -3,3 l 6,-6\" /><text class=\"lab rgt\" transform=\"translate(5 0)\">15</text></g><rect class=\"sym\" height=\"6\" width=\"6\" x=\"-3\" y=\"-3\" /><text class=\"lab\" transform=\"translate(0 11)\">3</text></g><path class=\"edge\" d=\"M 0 0 V -40.5429 H -27.12\" /><g class=\"mut m14 s14\" transform=\"translate(0 -29.1368)\"><line x1=\"0\" x2=\"0\" y1=\"0\" y2=\"29.1368\" /><path class=\"sym\" d=\"M -3,-3 l 6,6 M -3,3 l 6,-6\" /><text class=\"lab rgt\" transform=\"translate(5 0)\">14</text></g><circle class=\"sym\" cx=\"0\" cy=\"0\" r=\"3\" /><text class=\"lab rgt\" transform=\"translate(3 -7.0)\">4</text></g><path class=\"edge\" d=\"M 0 0 V -13.5143 H 40.68\" /><circle class=\"sym\" cx=\"0\" cy=\"0\" r=\"3\" /><text class=\"lab lft\" transform=\"translate(-3 -7.0)\">6</text></g><circle class=\"sym\" cx=\"0\" cy=\"0\" r=\"3\" /><text class=\"lab\" transform=\"translate(0 -11)\">7</text></g></g></g><g class=\"tree t4\" transform=\"translate(795.36 0)\"><g class=\"plotbox\"><g class=\"c2 node n9 root\" transform=\"translate(105.88 26.8)\"><g class=\"a9 leaf m19 node n2 s19 sample\" transform=\"translate(40.68 94.6)\"><path class=\"edge\" d=\"M 0 0 V -94.6 H -40.68\" /><g class=\"mut m19 s19\" transform=\"translate(0 -14.9796)\"><line x1=\"0\" x2=\"0\" y1=\"0\" y2=\"14.9796\" /><path class=\"sym\" d=\"M -3,-3 l 6,6 M -3,3 l 6,-6\" /><text class=\"lab rgt\" transform=\"translate(5 0)\">19</text></g><rect class=\"sym\" height=\"6\" width=\"6\" x=\"-3\" y=\"-3\" /><text class=\"lab\" transform=\"translate(0 11)\">2</text></g><g class=\"a9 c2 node n6\" transform=\"translate(-40.68 40.5429)\"><g class=\"a6 leaf node n0 sample\" transform=\"translate(-27.12 54.0571)\"><path class=\"edge\" d=\"M 0 0 V -54.0571 H 27.12\" /><rect class=\"sym\" height=\"6\" width=\"6\" x=\"-3\" y=\"-3\" /><text class=\"lab\" transform=\"translate(0 11)\">0</text></g><g class=\"a6 c2 m18 node n4 s18\" transform=\"translate(27.12 40.5429)\"><g class=\"a4 leaf node n1 sample\" transform=\"translate(-18.08 13.5143)\"><path class=\"edge\" d=\"M 0 0 V -13.5143 H 18.08\" /><rect class=\"sym\" height=\"6\" width=\"6\" x=\"-3\" y=\"-3\" /><text class=\"lab\" transform=\"translate(0 11)\">1</text></g><g class=\"a4 leaf node n3 sample\" transform=\"translate(18.08 13.5143)\"><path class=\"edge\" d=\"M 0 0 V -13.5143 H -18.08\" /><rect class=\"sym\" height=\"6\" width=\"6\" x=\"-3\" y=\"-3\" /><text class=\"lab\" transform=\"translate(0 11)\">3</text></g><path class=\"edge\" d=\"M 0 0 V -40.5429 H -27.12\" /><g class=\"mut m18 s18\" transform=\"translate(0 -36.1365)\"><line x1=\"0\" x2=\"0\" y1=\"0\" y2=\"36.1365\" /><path class=\"sym\" d=\"M -3,-3 l 6,6 M -3,3 l 6,-6\" /><text class=\"lab rgt\" transform=\"translate(5 0)\">18</text></g><circle class=\"sym\" cx=\"0\" cy=\"0\" r=\"3\" /><text class=\"lab rgt\" transform=\"translate(3 -7.0)\">4</text></g><path class=\"edge\" d=\"M 0 0 V -40.5429 H 40.68\" /><circle class=\"sym\" cx=\"0\" cy=\"0\" r=\"3\" /><text class=\"lab lft\" transform=\"translate(-3 -7.0)\">6</text></g><circle class=\"sym\" cx=\"0\" cy=\"0\" r=\"3\" /><text class=\"lab\" transform=\"translate(0 -11)\">9</text></g></g></g></g></g></svg>'"
      ]
     },
     "execution_count": 7,
     "metadata": {},
     "output_type": "execute_result"
    }
   ],
   "source": [
    "nodes = \"\"\"\\\n",
    "id      is_sample   time\n",
    "0       1           0\n",
    "1       1           0\n",
    "2       1           0\n",
    "3       1           0\n",
    "4       0           2\n",
    "5       0           4\n",
    "6       0           8\n",
    "7       0           10\n",
    "8       0           13\n",
    "9       0           14\n",
    "\"\"\"\n",
    "\n",
    "edges = \"\"\"\\\n",
    "left    right   parent  child\n",
    "0       300     4       2,3\n",
    "600     1000    4       1,3\n",
    "0       600     5       1\n",
    "0       300     5       4\n",
    "300     600     5       3\n",
    "0       1000    6       0\n",
    "0       600     6       5\n",
    "600     1000    6       4\n",
    "300     400     8       2,6\n",
    "400     900     7       2,6\n",
    "900     1000    9       2,6\n",
    "\"\"\"\n",
    "\n",
    "# simulate the tree sequence with tskit\n",
    "ts = tskit.load_text(\n",
    "    nodes=io.StringIO(nodes), edges=io.StringIO(edges), strict=False\n",
    ")\n",
    "\n",
    "# simulate mutations over tree sequence \n",
    "# mts = msprime.sim_mutations(ts, rate=.001, random_seed=678)\n",
    "ts = msprime.sim_mutations(ts, rate=.0008, random_seed=678)\n",
    "\n",
    "# draw the tree sequence with mutations \n",
    "ts.draw_svg(y_axis=True)"
   ]
  },
  {
   "cell_type": "code",
   "execution_count": 8,
   "id": "0d656135-fc05-4457-9994-05ffb6de13d2",
   "metadata": {},
   "outputs": [
    {
     "data": {
      "text/plain": [
       "(-0.1875, 0.25)"
      ]
     },
     "execution_count": 8,
     "metadata": {},
     "output_type": "execute_result"
    }
   ],
   "source": [
    "compute_stat_matrix(ts, compute_D).min(), compute_stat_matrix(ts, compute_D).max()"
   ]
  },
  {
   "cell_type": "code",
   "execution_count": 9,
   "id": "1d9acb29-7041-4688-8714-cb1dbf16df35",
   "metadata": {
    "scrolled": true,
    "tags": []
   },
   "outputs": [
    {
     "data": {
      "text/plain": [
       "array([[1.        , 1.        , 0.11111111, 1.        , 1.        ,\n",
       "        0.11111111, 1.        , 0.11111111, 1.        , 1.        ,\n",
       "        1.        , 0.33333333, 0.11111111, 0.11111111, 0.33333333,\n",
       "        0.11111111, 0.11111111, 0.11111111, 0.33333333, 0.11111111],\n",
       "       [1.        , 1.        , 0.11111111, 1.        , 1.        ,\n",
       "        0.11111111, 1.        , 0.11111111, 1.        , 1.        ,\n",
       "        1.        , 0.33333333, 0.11111111, 0.11111111, 0.33333333,\n",
       "        0.11111111, 0.11111111, 0.11111111, 0.33333333, 0.11111111],\n",
       "       [0.11111111, 0.11111111, 1.        , 0.11111111, 0.11111111,\n",
       "        1.        , 0.11111111, 0.11111111, 0.11111111, 0.11111111,\n",
       "        0.11111111, 0.33333333, 0.11111111, 1.        , 0.33333333,\n",
       "        0.11111111, 1.        , 1.        , 0.33333333, 1.        ],\n",
       "       [1.        , 1.        , 0.11111111, 1.        , 1.        ,\n",
       "        0.11111111, 1.        , 0.11111111, 1.        , 1.        ,\n",
       "        1.        , 0.33333333, 0.11111111, 0.11111111, 0.33333333,\n",
       "        0.11111111, 0.11111111, 0.11111111, 0.33333333, 0.11111111],\n",
       "       [1.        , 1.        , 0.11111111, 1.        , 1.        ,\n",
       "        0.11111111, 1.        , 0.11111111, 1.        , 1.        ,\n",
       "        1.        , 0.33333333, 0.11111111, 0.11111111, 0.33333333,\n",
       "        0.11111111, 0.11111111, 0.11111111, 0.33333333, 0.11111111],\n",
       "       [0.11111111, 0.11111111, 1.        , 0.11111111, 0.11111111,\n",
       "        1.        , 0.11111111, 0.11111111, 0.11111111, 0.11111111,\n",
       "        0.11111111, 0.33333333, 0.11111111, 1.        , 0.33333333,\n",
       "        0.11111111, 1.        , 1.        , 0.33333333, 1.        ],\n",
       "       [1.        , 1.        , 0.11111111, 1.        , 1.        ,\n",
       "        0.11111111, 1.        , 0.11111111, 1.        , 1.        ,\n",
       "        1.        , 0.33333333, 0.11111111, 0.11111111, 0.33333333,\n",
       "        0.11111111, 0.11111111, 0.11111111, 0.33333333, 0.11111111],\n",
       "       [0.11111111, 0.11111111, 0.11111111, 0.11111111, 0.11111111,\n",
       "        0.11111111, 0.11111111, 1.        , 0.11111111, 0.11111111,\n",
       "        0.11111111, 0.33333333, 1.        , 0.11111111, 0.33333333,\n",
       "        1.        , 0.11111111, 0.11111111, 0.33333333, 0.11111111],\n",
       "       [1.        , 1.        , 0.11111111, 1.        , 1.        ,\n",
       "        0.11111111, 1.        , 0.11111111, 1.        , 1.        ,\n",
       "        1.        , 0.33333333, 0.11111111, 0.11111111, 0.33333333,\n",
       "        0.11111111, 0.11111111, 0.11111111, 0.33333333, 0.11111111],\n",
       "       [1.        , 1.        , 0.11111111, 1.        , 1.        ,\n",
       "        0.11111111, 1.        , 0.11111111, 1.        , 1.        ,\n",
       "        1.        , 0.33333333, 0.11111111, 0.11111111, 0.33333333,\n",
       "        0.11111111, 0.11111111, 0.11111111, 0.33333333, 0.11111111],\n",
       "       [1.        , 1.        , 0.11111111, 1.        , 1.        ,\n",
       "        0.11111111, 1.        , 0.11111111, 1.        , 1.        ,\n",
       "        1.        , 0.33333333, 0.11111111, 0.11111111, 0.33333333,\n",
       "        0.11111111, 0.11111111, 0.11111111, 0.33333333, 0.11111111],\n",
       "       [0.33333333, 0.33333333, 0.33333333, 0.33333333, 0.33333333,\n",
       "        0.33333333, 0.33333333, 0.33333333, 0.33333333, 0.33333333,\n",
       "        0.33333333, 1.        , 0.33333333, 0.33333333, 1.        ,\n",
       "        0.33333333, 0.33333333, 0.33333333, 1.        , 0.33333333],\n",
       "       [0.11111111, 0.11111111, 0.11111111, 0.11111111, 0.11111111,\n",
       "        0.11111111, 0.11111111, 1.        , 0.11111111, 0.11111111,\n",
       "        0.11111111, 0.33333333, 1.        , 0.11111111, 0.33333333,\n",
       "        1.        , 0.11111111, 0.11111111, 0.33333333, 0.11111111],\n",
       "       [0.11111111, 0.11111111, 1.        , 0.11111111, 0.11111111,\n",
       "        1.        , 0.11111111, 0.11111111, 0.11111111, 0.11111111,\n",
       "        0.11111111, 0.33333333, 0.11111111, 1.        , 0.33333333,\n",
       "        0.11111111, 1.        , 1.        , 0.33333333, 1.        ],\n",
       "       [0.33333333, 0.33333333, 0.33333333, 0.33333333, 0.33333333,\n",
       "        0.33333333, 0.33333333, 0.33333333, 0.33333333, 0.33333333,\n",
       "        0.33333333, 1.        , 0.33333333, 0.33333333, 1.        ,\n",
       "        0.33333333, 0.33333333, 0.33333333, 1.        , 0.33333333],\n",
       "       [0.11111111, 0.11111111, 0.11111111, 0.11111111, 0.11111111,\n",
       "        0.11111111, 0.11111111, 1.        , 0.11111111, 0.11111111,\n",
       "        0.11111111, 0.33333333, 1.        , 0.11111111, 0.33333333,\n",
       "        1.        , 0.11111111, 0.11111111, 0.33333333, 0.11111111],\n",
       "       [0.11111111, 0.11111111, 1.        , 0.11111111, 0.11111111,\n",
       "        1.        , 0.11111111, 0.11111111, 0.11111111, 0.11111111,\n",
       "        0.11111111, 0.33333333, 0.11111111, 1.        , 0.33333333,\n",
       "        0.11111111, 1.        , 1.        , 0.33333333, 1.        ],\n",
       "       [0.11111111, 0.11111111, 1.        , 0.11111111, 0.11111111,\n",
       "        1.        , 0.11111111, 0.11111111, 0.11111111, 0.11111111,\n",
       "        0.11111111, 0.33333333, 0.11111111, 1.        , 0.33333333,\n",
       "        0.11111111, 1.        , 1.        , 0.33333333, 1.        ],\n",
       "       [0.33333333, 0.33333333, 0.33333333, 0.33333333, 0.33333333,\n",
       "        0.33333333, 0.33333333, 0.33333333, 0.33333333, 0.33333333,\n",
       "        0.33333333, 1.        , 0.33333333, 0.33333333, 1.        ,\n",
       "        0.33333333, 0.33333333, 0.33333333, 1.        , 0.33333333],\n",
       "       [0.11111111, 0.11111111, 1.        , 0.11111111, 0.11111111,\n",
       "        1.        , 0.11111111, 0.11111111, 0.11111111, 0.11111111,\n",
       "        0.11111111, 0.33333333, 0.11111111, 1.        , 0.33333333,\n",
       "        0.11111111, 1.        , 1.        , 0.33333333, 1.        ]])"
      ]
     },
     "execution_count": 9,
     "metadata": {},
     "output_type": "execute_result"
    }
   ],
   "source": [
    "ld_calc = tskit.LdCalculator(ts)\n",
    "ld_calc.get_r2_matrix()"
   ]
  },
  {
   "cell_type": "code",
   "execution_count": 10,
   "id": "da76703a-576a-4c76-ba6b-e481d0a6939a",
   "metadata": {
    "scrolled": true,
    "tags": []
   },
   "outputs": [
    {
     "data": {
      "text/plain": [
       "array([[1.        , 1.        , 0.11111111, 1.        , 1.        ,\n",
       "        0.11111111, 1.        , 0.11111111, 1.        , 1.        ,\n",
       "        1.        , 0.33333333, 0.11111111, 0.11111111, 0.33333333,\n",
       "        0.11111111, 0.11111111, 0.11111111, 0.33333333, 0.11111111],\n",
       "       [1.        , 1.        , 0.11111111, 1.        , 1.        ,\n",
       "        0.11111111, 1.        , 0.11111111, 1.        , 1.        ,\n",
       "        1.        , 0.33333333, 0.11111111, 0.11111111, 0.33333333,\n",
       "        0.11111111, 0.11111111, 0.11111111, 0.33333333, 0.11111111],\n",
       "       [0.11111111, 0.11111111, 1.        , 0.11111111, 0.11111111,\n",
       "        1.        , 0.11111111, 0.11111111, 0.11111111, 0.11111111,\n",
       "        0.11111111, 0.33333333, 0.11111111, 1.        , 0.33333333,\n",
       "        0.11111111, 1.        , 1.        , 0.33333333, 1.        ],\n",
       "       [1.        , 1.        , 0.11111111, 1.        , 1.        ,\n",
       "        0.11111111, 1.        , 0.11111111, 1.        , 1.        ,\n",
       "        1.        , 0.33333333, 0.11111111, 0.11111111, 0.33333333,\n",
       "        0.11111111, 0.11111111, 0.11111111, 0.33333333, 0.11111111],\n",
       "       [1.        , 1.        , 0.11111111, 1.        , 1.        ,\n",
       "        0.11111111, 1.        , 0.11111111, 1.        , 1.        ,\n",
       "        1.        , 0.33333333, 0.11111111, 0.11111111, 0.33333333,\n",
       "        0.11111111, 0.11111111, 0.11111111, 0.33333333, 0.11111111],\n",
       "       [0.11111111, 0.11111111, 1.        , 0.11111111, 0.11111111,\n",
       "        1.        , 0.11111111, 0.11111111, 0.11111111, 0.11111111,\n",
       "        0.11111111, 0.33333333, 0.11111111, 1.        , 0.33333333,\n",
       "        0.11111111, 1.        , 1.        , 0.33333333, 1.        ],\n",
       "       [1.        , 1.        , 0.11111111, 1.        , 1.        ,\n",
       "        0.11111111, 1.        , 0.11111111, 1.        , 1.        ,\n",
       "        1.        , 0.33333333, 0.11111111, 0.11111111, 0.33333333,\n",
       "        0.11111111, 0.11111111, 0.11111111, 0.33333333, 0.11111111],\n",
       "       [0.11111111, 0.11111111, 0.11111111, 0.11111111, 0.11111111,\n",
       "        0.11111111, 0.11111111, 1.        , 0.11111111, 0.11111111,\n",
       "        0.11111111, 0.33333333, 1.        , 0.11111111, 0.33333333,\n",
       "        1.        , 0.11111111, 0.11111111, 0.33333333, 0.11111111],\n",
       "       [1.        , 1.        , 0.11111111, 1.        , 1.        ,\n",
       "        0.11111111, 1.        , 0.11111111, 1.        , 1.        ,\n",
       "        1.        , 0.33333333, 0.11111111, 0.11111111, 0.33333333,\n",
       "        0.11111111, 0.11111111, 0.11111111, 0.33333333, 0.11111111],\n",
       "       [1.        , 1.        , 0.11111111, 1.        , 1.        ,\n",
       "        0.11111111, 1.        , 0.11111111, 1.        , 1.        ,\n",
       "        1.        , 0.33333333, 0.11111111, 0.11111111, 0.33333333,\n",
       "        0.11111111, 0.11111111, 0.11111111, 0.33333333, 0.11111111],\n",
       "       [1.        , 1.        , 0.11111111, 1.        , 1.        ,\n",
       "        0.11111111, 1.        , 0.11111111, 1.        , 1.        ,\n",
       "        1.        , 0.33333333, 0.11111111, 0.11111111, 0.33333333,\n",
       "        0.11111111, 0.11111111, 0.11111111, 0.33333333, 0.11111111],\n",
       "       [0.33333333, 0.33333333, 0.33333333, 0.33333333, 0.33333333,\n",
       "        0.33333333, 0.33333333, 0.33333333, 0.33333333, 0.33333333,\n",
       "        0.33333333, 1.        , 0.33333333, 0.33333333, 1.        ,\n",
       "        0.33333333, 0.33333333, 0.33333333, 1.        , 0.33333333],\n",
       "       [0.11111111, 0.11111111, 0.11111111, 0.11111111, 0.11111111,\n",
       "        0.11111111, 0.11111111, 1.        , 0.11111111, 0.11111111,\n",
       "        0.11111111, 0.33333333, 1.        , 0.11111111, 0.33333333,\n",
       "        1.        , 0.11111111, 0.11111111, 0.33333333, 0.11111111],\n",
       "       [0.11111111, 0.11111111, 1.        , 0.11111111, 0.11111111,\n",
       "        1.        , 0.11111111, 0.11111111, 0.11111111, 0.11111111,\n",
       "        0.11111111, 0.33333333, 0.11111111, 1.        , 0.33333333,\n",
       "        0.11111111, 1.        , 1.        , 0.33333333, 1.        ],\n",
       "       [0.33333333, 0.33333333, 0.33333333, 0.33333333, 0.33333333,\n",
       "        0.33333333, 0.33333333, 0.33333333, 0.33333333, 0.33333333,\n",
       "        0.33333333, 1.        , 0.33333333, 0.33333333, 1.        ,\n",
       "        0.33333333, 0.33333333, 0.33333333, 1.        , 0.33333333],\n",
       "       [0.11111111, 0.11111111, 0.11111111, 0.11111111, 0.11111111,\n",
       "        0.11111111, 0.11111111, 1.        , 0.11111111, 0.11111111,\n",
       "        0.11111111, 0.33333333, 1.        , 0.11111111, 0.33333333,\n",
       "        1.        , 0.11111111, 0.11111111, 0.33333333, 0.11111111],\n",
       "       [0.11111111, 0.11111111, 1.        , 0.11111111, 0.11111111,\n",
       "        1.        , 0.11111111, 0.11111111, 0.11111111, 0.11111111,\n",
       "        0.11111111, 0.33333333, 0.11111111, 1.        , 0.33333333,\n",
       "        0.11111111, 1.        , 1.        , 0.33333333, 1.        ],\n",
       "       [0.11111111, 0.11111111, 1.        , 0.11111111, 0.11111111,\n",
       "        1.        , 0.11111111, 0.11111111, 0.11111111, 0.11111111,\n",
       "        0.11111111, 0.33333333, 0.11111111, 1.        , 0.33333333,\n",
       "        0.11111111, 1.        , 1.        , 0.33333333, 1.        ],\n",
       "       [0.33333333, 0.33333333, 0.33333333, 0.33333333, 0.33333333,\n",
       "        0.33333333, 0.33333333, 0.33333333, 0.33333333, 0.33333333,\n",
       "        0.33333333, 1.        , 0.33333333, 0.33333333, 1.        ,\n",
       "        0.33333333, 0.33333333, 0.33333333, 1.        , 0.33333333],\n",
       "       [0.11111111, 0.11111111, 1.        , 0.11111111, 0.11111111,\n",
       "        1.        , 0.11111111, 0.11111111, 0.11111111, 0.11111111,\n",
       "        0.11111111, 0.33333333, 0.11111111, 1.        , 0.33333333,\n",
       "        0.11111111, 1.        , 1.        , 0.33333333, 1.        ]])"
      ]
     },
     "execution_count": 10,
     "metadata": {},
     "output_type": "execute_result"
    }
   ],
   "source": [
    "compute_stat_matrix(ts, compute_r2)"
   ]
  },
  {
   "cell_type": "code",
   "execution_count": 11,
   "id": "4ea1016f-0974-4025-b6bd-ccdb860a20a0",
   "metadata": {},
   "outputs": [
    {
     "data": {
      "text/plain": [
       "True"
      ]
     },
     "execution_count": 11,
     "metadata": {},
     "output_type": "execute_result"
    }
   ],
   "source": [
    "(ld_calc.get_r2_matrix() == compute_stat_matrix(ts, compute_r2)).all()"
   ]
  },
  {
   "cell_type": "code",
   "execution_count": 12,
   "id": "e05249d1-a2eb-470c-b6b6-d8be057f351b",
   "metadata": {},
   "outputs": [
    {
     "data": {
      "text/plain": [
       "array([[ 0.1875,  0.1875, -0.0625, -0.1875,  0.1875, -0.0625,  0.1875,\n",
       "        -0.0625,  0.1875,  0.1875,  0.1875, -0.125 , -0.0625, -0.0625,\n",
       "        -0.125 , -0.0625, -0.0625, -0.0625, -0.125 , -0.0625],\n",
       "       [ 0.1875,  0.1875, -0.0625, -0.1875,  0.1875, -0.0625,  0.1875,\n",
       "        -0.0625,  0.1875,  0.1875,  0.1875, -0.125 , -0.0625, -0.0625,\n",
       "        -0.125 , -0.0625, -0.0625, -0.0625, -0.125 , -0.0625],\n",
       "       [-0.0625, -0.0625,  0.1875,  0.0625, -0.0625,  0.1875, -0.0625,\n",
       "        -0.0625, -0.0625, -0.0625, -0.0625, -0.125 , -0.0625,  0.1875,\n",
       "        -0.125 , -0.0625,  0.1875,  0.1875, -0.125 ,  0.1875],\n",
       "       [-0.1875, -0.1875,  0.0625,  0.1875, -0.1875,  0.0625, -0.1875,\n",
       "         0.0625, -0.1875, -0.1875, -0.1875,  0.125 ,  0.0625,  0.0625,\n",
       "         0.125 ,  0.0625,  0.0625,  0.0625,  0.125 ,  0.0625],\n",
       "       [ 0.1875,  0.1875, -0.0625, -0.1875,  0.1875, -0.0625,  0.1875,\n",
       "        -0.0625,  0.1875,  0.1875,  0.1875, -0.125 , -0.0625, -0.0625,\n",
       "        -0.125 , -0.0625, -0.0625, -0.0625, -0.125 , -0.0625],\n",
       "       [-0.0625, -0.0625,  0.1875,  0.0625, -0.0625,  0.1875, -0.0625,\n",
       "        -0.0625, -0.0625, -0.0625, -0.0625, -0.125 , -0.0625,  0.1875,\n",
       "        -0.125 , -0.0625,  0.1875,  0.1875, -0.125 ,  0.1875],\n",
       "       [ 0.1875,  0.1875, -0.0625, -0.1875,  0.1875, -0.0625,  0.1875,\n",
       "        -0.0625,  0.1875,  0.1875,  0.1875, -0.125 , -0.0625, -0.0625,\n",
       "        -0.125 , -0.0625, -0.0625, -0.0625, -0.125 , -0.0625],\n",
       "       [-0.0625, -0.0625, -0.0625,  0.0625, -0.0625, -0.0625, -0.0625,\n",
       "         0.1875, -0.0625, -0.0625, -0.0625,  0.125 ,  0.1875, -0.0625,\n",
       "         0.125 ,  0.1875, -0.0625, -0.0625,  0.125 , -0.0625],\n",
       "       [ 0.1875,  0.1875, -0.0625, -0.1875,  0.1875, -0.0625,  0.1875,\n",
       "        -0.0625,  0.1875,  0.1875,  0.1875, -0.125 , -0.0625, -0.0625,\n",
       "        -0.125 , -0.0625, -0.0625, -0.0625, -0.125 , -0.0625],\n",
       "       [ 0.1875,  0.1875, -0.0625, -0.1875,  0.1875, -0.0625,  0.1875,\n",
       "        -0.0625,  0.1875,  0.1875,  0.1875, -0.125 , -0.0625, -0.0625,\n",
       "        -0.125 , -0.0625, -0.0625, -0.0625, -0.125 , -0.0625],\n",
       "       [ 0.1875,  0.1875, -0.0625, -0.1875,  0.1875, -0.0625,  0.1875,\n",
       "        -0.0625,  0.1875,  0.1875,  0.1875, -0.125 , -0.0625, -0.0625,\n",
       "        -0.125 , -0.0625, -0.0625, -0.0625, -0.125 , -0.0625],\n",
       "       [-0.125 , -0.125 , -0.125 ,  0.125 , -0.125 , -0.125 , -0.125 ,\n",
       "         0.125 , -0.125 , -0.125 , -0.125 ,  0.25  ,  0.125 , -0.125 ,\n",
       "         0.25  ,  0.125 , -0.125 , -0.125 ,  0.25  , -0.125 ],\n",
       "       [-0.0625, -0.0625, -0.0625,  0.0625, -0.0625, -0.0625, -0.0625,\n",
       "         0.1875, -0.0625, -0.0625, -0.0625,  0.125 ,  0.1875, -0.0625,\n",
       "         0.125 ,  0.1875, -0.0625, -0.0625,  0.125 , -0.0625],\n",
       "       [-0.0625, -0.0625,  0.1875,  0.0625, -0.0625,  0.1875, -0.0625,\n",
       "        -0.0625, -0.0625, -0.0625, -0.0625, -0.125 , -0.0625,  0.1875,\n",
       "        -0.125 , -0.0625,  0.1875,  0.1875, -0.125 ,  0.1875],\n",
       "       [-0.125 , -0.125 , -0.125 ,  0.125 , -0.125 , -0.125 , -0.125 ,\n",
       "         0.125 , -0.125 , -0.125 , -0.125 ,  0.25  ,  0.125 , -0.125 ,\n",
       "         0.25  ,  0.125 , -0.125 , -0.125 ,  0.25  , -0.125 ],\n",
       "       [-0.0625, -0.0625, -0.0625,  0.0625, -0.0625, -0.0625, -0.0625,\n",
       "         0.1875, -0.0625, -0.0625, -0.0625,  0.125 ,  0.1875, -0.0625,\n",
       "         0.125 ,  0.1875, -0.0625, -0.0625,  0.125 , -0.0625],\n",
       "       [-0.0625, -0.0625,  0.1875,  0.0625, -0.0625,  0.1875, -0.0625,\n",
       "        -0.0625, -0.0625, -0.0625, -0.0625, -0.125 , -0.0625,  0.1875,\n",
       "        -0.125 , -0.0625,  0.1875,  0.1875, -0.125 ,  0.1875],\n",
       "       [-0.0625, -0.0625,  0.1875,  0.0625, -0.0625,  0.1875, -0.0625,\n",
       "        -0.0625, -0.0625, -0.0625, -0.0625, -0.125 , -0.0625,  0.1875,\n",
       "        -0.125 , -0.0625,  0.1875,  0.1875, -0.125 ,  0.1875],\n",
       "       [-0.125 , -0.125 , -0.125 ,  0.125 , -0.125 , -0.125 , -0.125 ,\n",
       "         0.125 , -0.125 , -0.125 , -0.125 ,  0.25  ,  0.125 , -0.125 ,\n",
       "         0.25  ,  0.125 , -0.125 , -0.125 ,  0.25  , -0.125 ],\n",
       "       [-0.0625, -0.0625,  0.1875,  0.0625, -0.0625,  0.1875, -0.0625,\n",
       "        -0.0625, -0.0625, -0.0625, -0.0625, -0.125 , -0.0625,  0.1875,\n",
       "        -0.125 , -0.0625,  0.1875,  0.1875, -0.125 ,  0.1875]])"
      ]
     },
     "execution_count": 12,
     "metadata": {},
     "output_type": "execute_result"
    }
   ],
   "source": [
    "compute_stat_matrix(ts, compute_D)"
   ]
  },
  {
   "cell_type": "code",
   "execution_count": 8,
   "id": "93016da8",
   "metadata": {},
   "outputs": [
    {
     "data": {
      "text/plain": [
       "(-0.1875, 0.25)"
      ]
     },
     "execution_count": 8,
     "metadata": {},
     "output_type": "execute_result"
    }
   ],
   "source": [
    "compute_stat_matrix(ts, compute_D).min(), compute_stat_matrix(ts, compute_D).max()"
   ]
  }
 ],
 "metadata": {
  "kernelspec": {
   "display_name": "tskit-dev-1",
   "language": "python",
   "name": "tskit-dev-1"
  },
  "language_info": {
   "codemirror_mode": {
    "name": "ipython",
    "version": 3
   },
   "file_extension": ".py",
   "mimetype": "text/x-python",
   "name": "python",
   "nbconvert_exporter": "python",
   "pygments_lexer": "ipython3",
   "version": "3.9.13"
  }
 },
 "nbformat": 4,
 "nbformat_minor": 5
}
