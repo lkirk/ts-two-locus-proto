{
 "cells": [
  {
   "cell_type": "markdown",
   "id": "e00d79b1-b6a4-4a68-bfcf-d58dd34cdcde",
   "metadata": {},
   "source": [
    "# Validation of python prototype code\n",
    "\n",
    "This notebook provides a basic demonstration of the intended behavior of our summary functions."
   ]
  },
  {
   "cell_type": "markdown",
   "id": "b7ea7f73-cf9a-4477-a3e1-3df5c6f706d6",
   "metadata": {},
   "source": [
    "## Add prototype python code to the path"
   ]
  },
  {
   "cell_type": "code",
   "execution_count": 1,
   "id": "9b7ef5d9-3466-4329-a1c4-aee02badb8e0",
   "metadata": {},
   "outputs": [],
   "source": [
    "import os\n",
    "import sys\n",
    "if not any(['tskit-ld-proto' in s for s in sys.path]):\n",
    "    sys.path.append(os.path.abspath('.'))"
   ]
  },
  {
   "cell_type": "code",
   "execution_count": 2,
   "id": "ebbc7199-007f-42f8-ae5b-e5e7c810fa8c",
   "metadata": {},
   "outputs": [],
   "source": [
    "import numpy as np\n",
    "\n",
    "from tskit_ld_proto.ld_proto import _two_site_general_stat\n",
    "from tskit_ld_proto.summary_functions import r, r2, D, D_prime, Dz, pi2"
   ]
  },
  {
   "cell_type": "markdown",
   "id": "9cce503d-e88c-4038-8356-0b4cfcb78269",
   "metadata": {},
   "source": [
    "## Results display functionality"
   ]
  },
  {
   "cell_type": "code",
   "execution_count": 3,
   "id": "6eec043d-632e-49f9-b1b2-a98232cb2817",
   "metadata": {},
   "outputs": [],
   "source": [
    "from IPython.display import display_latex, display_markdown"
   ]
  },
  {
   "cell_type": "code",
   "execution_count": 4,
   "id": "d23f68b5-d9b4-4e5a-bdec-14e2b3c84df4",
   "metadata": {},
   "outputs": [],
   "source": [
    "DISPLAY_MODE = 'latex'\n",
    "def display_matrix(m, mode=DISPLAY_MODE, round_decimals=5):\n",
    "    m = m.copy()\n",
    "    if round_decimals:\n",
    "        m = np.round(m, decimals=round_decimals)\n",
    "    if mode == 'latex':\n",
    "        display_latex(matrix_to_latex(m), raw=True)\n",
    "    elif mode == 'raw_latex':\n",
    "        print(matrix_to_latex(m))\n",
    "    elif mode == 'print':\n",
    "        print(m)\n",
    "    else:\n",
    "        raise ValueError(mode)\n",
    "\n",
    "\n",
    "def matrix_to_latex(a):\n",
    "    assert len(a.shape) == 2, 'this fn works on matricies only'\n",
    "    out = r'$\\left(\\begin{array}'\n",
    "    out += f'{{{\"c\" * a.shape[1]}}}'\n",
    "    for r in a:\n",
    "        out += ' & '.join(map(str, r)) + ' \\\\\\\\'\n",
    "    out += r'\\end{array}\\right)$'\n",
    "    return out"
   ]
  },
  {
   "cell_type": "markdown",
   "id": "7c0df7e9-930d-4683-bd72-6e199ea82ab6",
   "metadata": {},
   "source": [
    "## Test Cases"
   ]
  },
  {
   "cell_type": "code",
   "execution_count": 5,
   "id": "1025dfba-4e0a-4921-8378-2d61fed70cff",
   "metadata": {},
   "outputs": [],
   "source": [
    "CORRELATED = (\n",
    "    np.array(\n",
    "        [[0, 1, 1, 0, 2, 2, 1, 0, 1],\n",
    "         [1, 2, 2, 1, 0, 0, 2, 1, 2]]\n",
    "    ),\n",
    "    np.array([3, 3])\n",
    ")"
   ]
  },
  {
   "cell_type": "code",
   "execution_count": 6,
   "id": "0da760cf-e9a7-4e71-86b3-00d6c4bd4ed2",
   "metadata": {},
   "outputs": [],
   "source": [
    "CORRELATED_BIALLELIC = (\n",
    "    np.array(\n",
    "        [[0, 0, 0, 0, 1, 1, 1, 1],\n",
    "         [0, 0, 0, 0, 1, 1, 1, 1]]\n",
    "    ),\n",
    "    np.array([2, 2])\n",
    ")"
   ]
  },
  {
   "cell_type": "code",
   "execution_count": 7,
   "id": "e14836aa-f382-4d59-a202-0369a6aa0758",
   "metadata": {},
   "outputs": [],
   "source": [
    "UNCORRELATED = (\n",
    "    np.array(\n",
    "        [[0, 0, 0, 1, 1, 1, 2, 2, 2],\n",
    "         [0, 1, 2, 0, 1, 2, 0, 1, 2]]\n",
    "    ),\n",
    "    np.array([3, 3])\n",
    ")"
   ]
  },
  {
   "cell_type": "code",
   "execution_count": 8,
   "id": "5818fd5b-0a4d-434b-a706-135491bb7fe7",
   "metadata": {},
   "outputs": [],
   "source": [
    "UNCORRELATED_BIALLELIC = (\n",
    "    np.array(\n",
    "        [[0, 0, 0, 0, 1, 1, 1, 1],\n",
    "         [1, 1, 0, 0, 0, 0, 1, 1]]\n",
    "    ),\n",
    "    np.array([2, 2])\n",
    ")"
   ]
  },
  {
   "cell_type": "code",
   "execution_count": 9,
   "id": "480666a3-3075-4622-b185-d2b37d1133cf",
   "metadata": {},
   "outputs": [],
   "source": [
    "REPULSION_BIALLELIC = (\n",
    "    np.array(\n",
    "        [[0, 0, 0, 0, 1, 1, 1, 1],\n",
    "         [1, 1, 1, 1, 0, 0, 0, 0]]\n",
    "    ),\n",
    "    np.array([2, 2])\n",
    ")"
   ]
  },
  {
   "cell_type": "code",
   "execution_count": 10,
   "id": "a304db66-85cd-4a15-ac47-18b76e5377fd",
   "metadata": {},
   "outputs": [],
   "source": [
    "TEST_CASES = {k: v for k, v in locals().items() if 'CORRELATED' in k or 'ALLELIC' in k}"
   ]
  },
  {
   "cell_type": "markdown",
   "id": "74e1da90-abea-47f3-b8d3-60c5ea436e3b",
   "metadata": {},
   "source": [
    "## Test Results"
   ]
  },
  {
   "cell_type": "code",
   "execution_count": 11,
   "id": "62765eca-2bc8-4915-a3b0-d395ca5c6b2b",
   "metadata": {},
   "outputs": [
    {
     "data": {
      "text/latex": [
       "$D$ unpolarized"
      ]
     },
     "metadata": {},
     "output_type": "display_data"
    },
    {
     "name": "stdout",
     "output_type": "stream",
     "text": [
      "correlated\n"
     ]
    },
    {
     "data": {
      "text/latex": [
       "$\\left(\\begin{array}{cc}0.0 & 0.0 \\\\0.0 & 0.0 \\\\\\end{array}\\right)$"
      ]
     },
     "metadata": {},
     "output_type": "display_data"
    },
    {
     "name": "stdout",
     "output_type": "stream",
     "text": [
      "correlated_biallelic\n"
     ]
    },
    {
     "data": {
      "text/latex": [
       "$\\left(\\begin{array}{cc}0.0 & 0.0 \\\\0.0 & 0.0 \\\\\\end{array}\\right)$"
      ]
     },
     "metadata": {},
     "output_type": "display_data"
    },
    {
     "name": "stdout",
     "output_type": "stream",
     "text": [
      "uncorrelated\n"
     ]
    },
    {
     "data": {
      "text/latex": [
       "$\\left(\\begin{array}{cc}0.0 & 0.0 \\\\0.0 & 0.0 \\\\\\end{array}\\right)$"
      ]
     },
     "metadata": {},
     "output_type": "display_data"
    },
    {
     "name": "stdout",
     "output_type": "stream",
     "text": [
      "uncorrelated_biallelic\n"
     ]
    },
    {
     "data": {
      "text/latex": [
       "$\\left(\\begin{array}{cc}0.0 & 0.0 \\\\0.0 & 0.0 \\\\\\end{array}\\right)$"
      ]
     },
     "metadata": {},
     "output_type": "display_data"
    },
    {
     "name": "stdout",
     "output_type": "stream",
     "text": [
      "repulsion_biallelic\n"
     ]
    },
    {
     "data": {
      "text/latex": [
       "$\\left(\\begin{array}{cc}0.0 & 0.0 \\\\0.0 & 0.0 \\\\\\end{array}\\right)$"
      ]
     },
     "metadata": {},
     "output_type": "display_data"
    }
   ],
   "source": [
    "display_latex(r'$D$ unpolarized', raw=True)\n",
    "for case_name, data in TEST_CASES.items():\n",
    "    print(case_name.lower())\n",
    "    display_matrix(_two_site_general_stat(*data, D, 'total'))"
   ]
  },
  {
   "cell_type": "code",
   "execution_count": 12,
   "id": "0334531f-0c8b-4f41-aebf-5b271a07c5e9",
   "metadata": {},
   "outputs": [
    {
     "data": {
      "text/latex": [
       "$D$ polarized"
      ]
     },
     "metadata": {},
     "output_type": "display_data"
    },
    {
     "name": "stdout",
     "output_type": "stream",
     "text": [
      "correlated\n"
     ]
    },
    {
     "data": {
      "text/latex": [
       "$\\left(\\begin{array}{cc}0.05556 & -0.01852 \\\\-0.01852 & 0.04321 \\\\\\end{array}\\right)$"
      ]
     },
     "metadata": {},
     "output_type": "display_data"
    },
    {
     "name": "stdout",
     "output_type": "stream",
     "text": [
      "correlated_biallelic\n"
     ]
    },
    {
     "data": {
      "text/latex": [
       "$\\left(\\begin{array}{cc}0.25 & 0.25 \\\\0.25 & 0.25 \\\\\\end{array}\\right)$"
      ]
     },
     "metadata": {},
     "output_type": "display_data"
    },
    {
     "name": "stdout",
     "output_type": "stream",
     "text": [
      "uncorrelated\n"
     ]
    },
    {
     "data": {
      "text/latex": [
       "$\\left(\\begin{array}{cc}0.05556 & 0.0 \\\\0.0 & 0.05556 \\\\\\end{array}\\right)$"
      ]
     },
     "metadata": {},
     "output_type": "display_data"
    },
    {
     "name": "stdout",
     "output_type": "stream",
     "text": [
      "uncorrelated_biallelic\n"
     ]
    },
    {
     "data": {
      "text/latex": [
       "$\\left(\\begin{array}{cc}0.25 & 0.0 \\\\0.0 & 0.25 \\\\\\end{array}\\right)$"
      ]
     },
     "metadata": {},
     "output_type": "display_data"
    },
    {
     "name": "stdout",
     "output_type": "stream",
     "text": [
      "repulsion_biallelic\n"
     ]
    },
    {
     "data": {
      "text/latex": [
       "$\\left(\\begin{array}{cc}0.25 & -0.25 \\\\-0.25 & 0.25 \\\\\\end{array}\\right)$"
      ]
     },
     "metadata": {},
     "output_type": "display_data"
    }
   ],
   "source": [
    "display_latex(r'$D$ polarized', raw=True)\n",
    "for case_name, data in TEST_CASES.items():\n",
    "    print(case_name.lower())\n",
    "    display_matrix(_two_site_general_stat(*data, D, 'total', polarized=True))"
   ]
  },
  {
   "cell_type": "code",
   "execution_count": 13,
   "id": "ff1280be-944f-4de9-910b-9bd8bed74bf8",
   "metadata": {},
   "outputs": [
    {
     "data": {
      "text/latex": [
       "$r^{2}$ unpolarized"
      ]
     },
     "metadata": {},
     "output_type": "display_data"
    },
    {
     "name": "stdout",
     "output_type": "stream",
     "text": [
      "correlated\n"
     ]
    },
    {
     "data": {
      "text/latex": [
       "$\\left(\\begin{array}{cc}1.0 & 1.0 \\\\1.0 & 1.0 \\\\\\end{array}\\right)$"
      ]
     },
     "metadata": {},
     "output_type": "display_data"
    },
    {
     "name": "stdout",
     "output_type": "stream",
     "text": [
      "correlated_biallelic\n"
     ]
    },
    {
     "data": {
      "text/latex": [
       "$\\left(\\begin{array}{cc}1.0 & 1.0 \\\\1.0 & 1.0 \\\\\\end{array}\\right)$"
      ]
     },
     "metadata": {},
     "output_type": "display_data"
    },
    {
     "name": "stdout",
     "output_type": "stream",
     "text": [
      "uncorrelated\n"
     ]
    },
    {
     "data": {
      "text/latex": [
       "$\\left(\\begin{array}{cc}1.0 & 0.0 \\\\0.0 & 1.0 \\\\\\end{array}\\right)$"
      ]
     },
     "metadata": {},
     "output_type": "display_data"
    },
    {
     "name": "stdout",
     "output_type": "stream",
     "text": [
      "uncorrelated_biallelic\n"
     ]
    },
    {
     "data": {
      "text/latex": [
       "$\\left(\\begin{array}{cc}1.0 & 0.0 \\\\0.0 & 1.0 \\\\\\end{array}\\right)$"
      ]
     },
     "metadata": {},
     "output_type": "display_data"
    },
    {
     "name": "stdout",
     "output_type": "stream",
     "text": [
      "repulsion_biallelic\n"
     ]
    },
    {
     "data": {
      "text/latex": [
       "$\\left(\\begin{array}{cc}1.0 & 1.0 \\\\1.0 & 1.0 \\\\\\end{array}\\right)$"
      ]
     },
     "metadata": {},
     "output_type": "display_data"
    }
   ],
   "source": [
    "display_latex(r'$r^{2}$ unpolarized', raw=True)\n",
    "for case_name, data in TEST_CASES.items():\n",
    "    print(case_name.lower())\n",
    "    display_matrix(_two_site_general_stat(*data, r2, 'hap_weighted'))"
   ]
  },
  {
   "cell_type": "code",
   "execution_count": 14,
   "id": "989e1f3a-43d3-46d8-b024-b8558cb9fe2f",
   "metadata": {},
   "outputs": [
    {
     "data": {
      "text/latex": [
       "$r^{2}$ polarized"
      ]
     },
     "metadata": {},
     "output_type": "display_data"
    },
    {
     "name": "stdout",
     "output_type": "stream",
     "text": [
      "correlated\n"
     ]
    },
    {
     "data": {
      "text/latex": [
       "$\\left(\\begin{array}{cc}0.66667 & 0.44444 \\\\0.44444 & 0.77778 \\\\\\end{array}\\right)$"
      ]
     },
     "metadata": {},
     "output_type": "display_data"
    },
    {
     "name": "stdout",
     "output_type": "stream",
     "text": [
      "correlated_biallelic\n"
     ]
    },
    {
     "data": {
      "text/latex": [
       "$\\left(\\begin{array}{cc}0.5 & 0.5 \\\\0.5 & 0.5 \\\\\\end{array}\\right)$"
      ]
     },
     "metadata": {},
     "output_type": "display_data"
    },
    {
     "name": "stdout",
     "output_type": "stream",
     "text": [
      "uncorrelated\n"
     ]
    },
    {
     "data": {
      "text/latex": [
       "$\\left(\\begin{array}{cc}0.66667 & 0.0 \\\\0.0 & 0.66667 \\\\\\end{array}\\right)$"
      ]
     },
     "metadata": {},
     "output_type": "display_data"
    },
    {
     "name": "stdout",
     "output_type": "stream",
     "text": [
      "uncorrelated_biallelic\n"
     ]
    },
    {
     "data": {
      "text/latex": [
       "$\\left(\\begin{array}{cc}0.5 & 0.0 \\\\0.0 & 0.5 \\\\\\end{array}\\right)$"
      ]
     },
     "metadata": {},
     "output_type": "display_data"
    },
    {
     "name": "stdout",
     "output_type": "stream",
     "text": [
      "repulsion_biallelic\n"
     ]
    },
    {
     "data": {
      "text/latex": [
       "$\\left(\\begin{array}{cc}0.5 & 0.0 \\\\0.0 & 0.5 \\\\\\end{array}\\right)$"
      ]
     },
     "metadata": {},
     "output_type": "display_data"
    }
   ],
   "source": [
    "display_latex(r'$r^{2}$ polarized', raw=True)\n",
    "for case_name, data in TEST_CASES.items():\n",
    "    print(case_name.lower())\n",
    "    display_matrix(_two_site_general_stat(*data, r2, 'hap_weighted', polarized=True))"
   ]
  },
  {
   "cell_type": "code",
   "execution_count": 15,
   "id": "9c74d7ca-e6bd-491b-874d-187afa886482",
   "metadata": {},
   "outputs": [
    {
     "data": {
      "text/latex": [
       "$D^{\\prime}$ polarized"
      ]
     },
     "metadata": {},
     "output_type": "display_data"
    },
    {
     "name": "stdout",
     "output_type": "stream",
     "text": [
      "correlated\n"
     ]
    },
    {
     "data": {
      "text/latex": [
       "$\\left(\\begin{array}{cc}0.0 & -0.5 \\\\-0.5 & 0.0 \\\\\\end{array}\\right)$"
      ]
     },
     "metadata": {},
     "output_type": "display_data"
    },
    {
     "name": "stdout",
     "output_type": "stream",
     "text": [
      "correlated_biallelic\n"
     ]
    },
    {
     "data": {
      "text/latex": [
       "$\\left(\\begin{array}{cc}1.0 & 1.0 \\\\1.0 & 1.0 \\\\\\end{array}\\right)$"
      ]
     },
     "metadata": {},
     "output_type": "display_data"
    },
    {
     "name": "stdout",
     "output_type": "stream",
     "text": [
      "uncorrelated\n"
     ]
    },
    {
     "data": {
      "text/latex": [
       "$\\left(\\begin{array}{cc}-0.0 & 0.0 \\\\0.0 & -0.0 \\\\\\end{array}\\right)$"
      ]
     },
     "metadata": {},
     "output_type": "display_data"
    },
    {
     "name": "stdout",
     "output_type": "stream",
     "text": [
      "uncorrelated_biallelic\n"
     ]
    },
    {
     "data": {
      "text/latex": [
       "$\\left(\\begin{array}{cc}1.0 & 0.0 \\\\0.0 & 1.0 \\\\\\end{array}\\right)$"
      ]
     },
     "metadata": {},
     "output_type": "display_data"
    },
    {
     "name": "stdout",
     "output_type": "stream",
     "text": [
      "repulsion_biallelic\n"
     ]
    },
    {
     "data": {
      "text/latex": [
       "$\\left(\\begin{array}{cc}1.0 & -1.0 \\\\-1.0 & 1.0 \\\\\\end{array}\\right)$"
      ]
     },
     "metadata": {},
     "output_type": "display_data"
    }
   ],
   "source": [
    "display_latex(r'$D^{\\prime}$ polarized', raw=True)\n",
    "for case_name, data in TEST_CASES.items():\n",
    "    print(case_name.lower())\n",
    "    display_matrix(_two_site_general_stat(*data, D_prime, 'total', polarized=True))"
   ]
  },
  {
   "cell_type": "code",
   "execution_count": 16,
   "id": "eb8b72d4-396d-444c-b30f-0df43ba0685a",
   "metadata": {},
   "outputs": [
    {
     "data": {
      "text/latex": [
       "$r$ unpolarized"
      ]
     },
     "metadata": {},
     "output_type": "display_data"
    },
    {
     "name": "stdout",
     "output_type": "stream",
     "text": [
      "correlated\n"
     ]
    },
    {
     "data": {
      "text/latex": [
       "$\\left(\\begin{array}{cc}1.0 & 1.0 \\\\1.0 & 1.0 \\\\\\end{array}\\right)$"
      ]
     },
     "metadata": {},
     "output_type": "display_data"
    },
    {
     "name": "stdout",
     "output_type": "stream",
     "text": [
      "correlated_biallelic\n"
     ]
    },
    {
     "data": {
      "text/latex": [
       "$\\left(\\begin{array}{cc}1.0 & 1.0 \\\\1.0 & 1.0 \\\\\\end{array}\\right)$"
      ]
     },
     "metadata": {},
     "output_type": "display_data"
    },
    {
     "name": "stdout",
     "output_type": "stream",
     "text": [
      "uncorrelated\n"
     ]
    },
    {
     "data": {
      "text/latex": [
       "$\\left(\\begin{array}{cc}1.0 & 0.0 \\\\0.0 & 1.0 \\\\\\end{array}\\right)$"
      ]
     },
     "metadata": {},
     "output_type": "display_data"
    },
    {
     "name": "stdout",
     "output_type": "stream",
     "text": [
      "uncorrelated_biallelic\n"
     ]
    },
    {
     "data": {
      "text/latex": [
       "$\\left(\\begin{array}{cc}1.0 & 0.0 \\\\0.0 & 1.0 \\\\\\end{array}\\right)$"
      ]
     },
     "metadata": {},
     "output_type": "display_data"
    },
    {
     "name": "stdout",
     "output_type": "stream",
     "text": [
      "repulsion_biallelic\n"
     ]
    },
    {
     "data": {
      "text/latex": [
       "$\\left(\\begin{array}{cc}1.0 & 1.0 \\\\1.0 & 1.0 \\\\\\end{array}\\right)$"
      ]
     },
     "metadata": {},
     "output_type": "display_data"
    }
   ],
   "source": [
    "display_latex(r'$r$ unpolarized', raw=True)\n",
    "for case_name, data in TEST_CASES.items():\n",
    "    print(case_name.lower())\n",
    "    display_matrix(_two_site_general_stat(*data, r, 'hap_weighted'))"
   ]
  },
  {
   "cell_type": "code",
   "execution_count": 17,
   "id": "6c1be4a4-368f-4c67-ba32-bb8a5fcaa37a",
   "metadata": {},
   "outputs": [
    {
     "data": {
      "text/latex": [
       "$r$ polarized"
      ]
     },
     "metadata": {},
     "output_type": "display_data"
    },
    {
     "name": "stdout",
     "output_type": "stream",
     "text": [
      "correlated\n"
     ]
    },
    {
     "data": {
      "text/latex": [
       "$\\left(\\begin{array}{cc}0.66667 & 0.44444 \\\\0.44444 & 0.77778 \\\\\\end{array}\\right)$"
      ]
     },
     "metadata": {},
     "output_type": "display_data"
    },
    {
     "name": "stdout",
     "output_type": "stream",
     "text": [
      "correlated_biallelic\n"
     ]
    },
    {
     "data": {
      "text/latex": [
       "$\\left(\\begin{array}{cc}0.5 & 0.5 \\\\0.5 & 0.5 \\\\\\end{array}\\right)$"
      ]
     },
     "metadata": {},
     "output_type": "display_data"
    },
    {
     "name": "stdout",
     "output_type": "stream",
     "text": [
      "uncorrelated\n"
     ]
    },
    {
     "data": {
      "text/latex": [
       "$\\left(\\begin{array}{cc}0.66667 & 0.0 \\\\0.0 & 0.66667 \\\\\\end{array}\\right)$"
      ]
     },
     "metadata": {},
     "output_type": "display_data"
    },
    {
     "name": "stdout",
     "output_type": "stream",
     "text": [
      "uncorrelated_biallelic\n"
     ]
    },
    {
     "data": {
      "text/latex": [
       "$\\left(\\begin{array}{cc}0.5 & 0.0 \\\\0.0 & 0.5 \\\\\\end{array}\\right)$"
      ]
     },
     "metadata": {},
     "output_type": "display_data"
    },
    {
     "name": "stdout",
     "output_type": "stream",
     "text": [
      "repulsion_biallelic\n"
     ]
    },
    {
     "data": {
      "text/latex": [
       "$\\left(\\begin{array}{cc}0.5 & 0.0 \\\\0.0 & 0.5 \\\\\\end{array}\\right)$"
      ]
     },
     "metadata": {},
     "output_type": "display_data"
    }
   ],
   "source": [
    "display_latex(r'$r$ polarized', raw=True)\n",
    "for case_name, data in TEST_CASES.items():\n",
    "    print(case_name.lower())\n",
    "    display_matrix(_two_site_general_stat(*data, r, 'hap_weighted', polarized=True))"
   ]
  },
  {
   "cell_type": "markdown",
   "id": "772432c9-19dc-4c41-9a3c-2adc8d956ec0",
   "metadata": {},
   "source": [
    "## Investigations/musings"
   ]
  },
  {
   "cell_type": "code",
   "execution_count": 18,
   "id": "8abd5a93-86b9-480b-ad61-e2964210b630",
   "metadata": {},
   "outputs": [
    {
     "data": {
      "text/plain": [
       "array([[0.5, 0. ],\n",
       "       [0. , 0.5]])"
      ]
     },
     "execution_count": 18,
     "metadata": {},
     "output_type": "execute_result"
    }
   ],
   "source": [
    "_two_site_general_stat(\n",
    "    np.array([[0, 0, 1, 2],[1, 2, 0 ,0 ]]), np.array([3, 3]), r2, 'hap_weighted', polarized=True)"
   ]
  },
  {
   "cell_type": "code",
   "execution_count": 19,
   "id": "6170347f-f04b-4355-9de6-11422ca84549",
   "metadata": {},
   "outputs": [
    {
     "data": {
      "text/plain": [
       "array([[1.        , 0.33333333],\n",
       "       [0.33333333, 1.        ]])"
      ]
     },
     "execution_count": 19,
     "metadata": {},
     "output_type": "execute_result"
    }
   ],
   "source": [
    "_two_site_general_stat(\n",
    "    np.array([[0, 0, 1, 2],[1, 2, 0 ,0 ]]), np.array([3, 3]), r2, 'hap_weighted')"
   ]
  },
  {
   "cell_type": "code",
   "execution_count": 20,
   "id": "42a76cde-0c50-4305-aee0-cdc5593063a6",
   "metadata": {},
   "outputs": [
    {
     "data": {
      "text/plain": [
       "array([[0.66666667, 0.        ],\n",
       "       [0.        , 0.33333333]])"
      ]
     },
     "execution_count": 20,
     "metadata": {},
     "output_type": "execute_result"
    }
   ],
   "source": [
    "_two_site_general_stat(\n",
    "    np.array([[0, 1, 2],[1, 0, 0]]), np.array([3, 2]), r2, 'hap_weighted', polarized=True)"
   ]
  },
  {
   "cell_type": "code",
   "execution_count": 21,
   "id": "719cc944-e000-47d8-83aa-252646768bca",
   "metadata": {},
   "outputs": [
    {
     "data": {
      "text/plain": [
       "array([[1. , 0.5],\n",
       "       [0.5, 1. ]])"
      ]
     },
     "execution_count": 21,
     "metadata": {},
     "output_type": "execute_result"
    }
   ],
   "source": [
    "_two_site_general_stat(\n",
    "    np.array([[0, 1, 2],[1, 0, 0]]), np.array([3, 2]), r2, 'hap_weighted')"
   ]
  },
  {
   "cell_type": "code",
   "execution_count": 22,
   "id": "8a4f8aef-0bb4-41e6-a3b2-6ae9137c84cb",
   "metadata": {},
   "outputs": [
    {
     "data": {
      "text/plain": [
       "array([[-0.33333333, -0.33333333],\n",
       "       [-0.33333333, -0.33333333]])"
      ]
     },
     "execution_count": 22,
     "metadata": {},
     "output_type": "execute_result"
    }
   ],
   "source": [
    "_two_site_general_stat(*CORRELATED, D_prime, 'total')"
   ]
  },
  {
   "cell_type": "code",
   "execution_count": 23,
   "id": "032638df-9416-4ad6-af97-3028f9537f1c",
   "metadata": {},
   "outputs": [
    {
     "data": {
      "text/plain": [
       "array([[1., 1.],\n",
       "       [1., 1.]])"
      ]
     },
     "execution_count": 23,
     "metadata": {},
     "output_type": "execute_result"
    }
   ],
   "source": [
    "_two_site_general_stat(*CORRELATED, D_prime, 'hap_weighted')"
   ]
  },
  {
   "cell_type": "code",
   "execution_count": 24,
   "id": "902c4b01-5c11-4701-bdea-91e12511d4a1",
   "metadata": {},
   "outputs": [
    {
     "data": {
      "text/plain": [
       "array([[-0.33333333,  0.        ],\n",
       "       [ 0.        , -0.33333333]])"
      ]
     },
     "execution_count": 24,
     "metadata": {},
     "output_type": "execute_result"
    }
   ],
   "source": [
    "_two_site_general_stat(*UNCORRELATED, D_prime, 'total')"
   ]
  },
  {
   "cell_type": "code",
   "execution_count": 25,
   "id": "805a813f-620a-46fb-a05e-29b77d5867df",
   "metadata": {},
   "outputs": [
    {
     "data": {
      "text/plain": [
       "array([[1., 0.],\n",
       "       [0., 1.]])"
      ]
     },
     "execution_count": 25,
     "metadata": {},
     "output_type": "execute_result"
    }
   ],
   "source": [
    "_two_site_general_stat(*UNCORRELATED, D_prime, 'hap_weighted')"
   ]
  },
  {
   "cell_type": "code",
   "execution_count": 26,
   "id": "3f65f777-8950-458e-ab0d-e5c85174061f",
   "metadata": {},
   "outputs": [
    {
     "data": {
      "text/plain": [
       "array([[0., 0.],\n",
       "       [0., 0.]])"
      ]
     },
     "execution_count": 26,
     "metadata": {},
     "output_type": "execute_result"
    }
   ],
   "source": [
    "_two_site_general_stat(*CORRELATED_BIALLELIC, D_prime, 'total')"
   ]
  },
  {
   "cell_type": "code",
   "execution_count": 27,
   "id": "fb234116-377e-4b2e-94f7-44a1bd3ec306",
   "metadata": {},
   "outputs": [
    {
     "data": {
      "text/plain": [
       "array([[0., 0.],\n",
       "       [0., 0.]])"
      ]
     },
     "execution_count": 27,
     "metadata": {},
     "output_type": "execute_result"
    }
   ],
   "source": [
    "_two_site_general_stat(*UNCORRELATED_BIALLELIC, D_prime, 'total')"
   ]
  },
  {
   "cell_type": "code",
   "execution_count": 28,
   "id": "2a8acfa2-a511-42b9-aace-eeb0fcead2dc",
   "metadata": {},
   "outputs": [
    {
     "data": {
      "text/plain": [
       "array([[0., 0.],\n",
       "       [0., 0.]])"
      ]
     },
     "execution_count": 28,
     "metadata": {},
     "output_type": "execute_result"
    }
   ],
   "source": [
    "_two_site_general_stat(*REPULSION_BIALLELIC, D_prime, 'total')"
   ]
  }
 ],
 "metadata": {
  "kernelspec": {
   "display_name": "tskit-dev-1",
   "language": "python",
   "name": "tskit-dev-1"
  },
  "language_info": {
   "codemirror_mode": {
    "name": "ipython",
    "version": 3
   },
   "file_extension": ".py",
   "mimetype": "text/x-python",
   "name": "python",
   "nbconvert_exporter": "python",
   "pygments_lexer": "ipython3",
   "version": "3.9.13"
  }
 },
 "nbformat": 4,
 "nbformat_minor": 5
}
