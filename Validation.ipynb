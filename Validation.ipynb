{
 "cells": [
  {
   "cell_type": "code",
   "execution_count": 1,
   "id": "9b7ef5d9-3466-4329-a1c4-aee02badb8e0",
   "metadata": {},
   "outputs": [],
   "source": [
    "import sys\n",
    "if not any(['tskit-ld-proto' in s for s in sys.path]):\n",
    "    sys.path.append('/home/lkirk/repo/tskit-ld-proto')"
   ]
  },
  {
   "cell_type": "code",
   "execution_count": 2,
   "id": "ebbc7199-007f-42f8-ae5b-e5e7c810fa8c",
   "metadata": {},
   "outputs": [],
   "source": [
    "import numpy as np\n",
    "\n",
    "from tskit_ld_proto.ld_proto import _two_site_general_stat"
   ]
  },
  {
   "cell_type": "code",
   "execution_count": 3,
   "id": "1025dfba-4e0a-4921-8378-2d61fed70cff",
   "metadata": {},
   "outputs": [],
   "source": [
    "correlated = (\n",
    "    np.array(\n",
    "        [[0, 1, 1, 0, 2, 2, 1, 0, 1],\n",
    "         [1, 2, 2, 1, 0, 0, 2, 1, 2]]\n",
    "    ),\n",
    "    np.array([3, 3])\n",
    ")"
   ]
  },
  {
   "cell_type": "code",
   "execution_count": 4,
   "id": "0da760cf-e9a7-4e71-86b3-00d6c4bd4ed2",
   "metadata": {},
   "outputs": [],
   "source": [
    "correlated_biallelic = (\n",
    "    np.array(\n",
    "        [[0, 0, 0, 0, 1, 1, 1, 1],\n",
    "         [0, 0, 0, 0, 1, 1, 1, 1]]\n",
    "    ),\n",
    "    np.array([2, 2])\n",
    ")"
   ]
  },
  {
   "cell_type": "code",
   "execution_count": 5,
   "id": "e14836aa-f382-4d59-a202-0369a6aa0758",
   "metadata": {},
   "outputs": [],
   "source": [
    "uncorrelated = (\n",
    "    np.array(\n",
    "        [[0, 0, 0, 1, 1, 1, 2, 2, 2],\n",
    "         [0, 1, 2, 0, 1, 2, 0, 1, 2]]\n",
    "    ),\n",
    "    np.array([3, 3])\n",
    ")"
   ]
  },
  {
   "cell_type": "code",
   "execution_count": 6,
   "id": "5818fd5b-0a4d-434b-a706-135491bb7fe7",
   "metadata": {},
   "outputs": [],
   "source": [
    "uncorrelated_biallelic = (\n",
    "    np.array(\n",
    "        [[0, 0, 0, 0, 1, 1, 1, 1],\n",
    "         [1, 1, 0, 0, 0, 0, 1, 1]]\n",
    "    ),\n",
    "    np.array([2, 2])\n",
    ")"
   ]
  },
  {
   "cell_type": "code",
   "execution_count": 7,
   "id": "480666a3-3075-4622-b185-d2b37d1133cf",
   "metadata": {},
   "outputs": [],
   "source": [
    "repulsion_biallelic = (\n",
    "    np.array(\n",
    "        [[0, 0, 0, 0, 1, 1, 1, 1],\n",
    "         [1, 1, 1, 1, 0, 0, 0, 0]]\n",
    "    ),\n",
    "    np.array([2, 2])\n",
    ")"
   ]
  },
  {
   "cell_type": "code",
   "execution_count": 18,
   "id": "583ff9ce-2bdd-45e3-bf4a-230c2f4f6af8",
   "metadata": {},
   "outputs": [
    {
     "name": "stdout",
     "output_type": "stream",
     "text": [
      "0 & 0 & 0 & 0 & 1 & 1 & 1 & 1 \\\\\n",
      "1 & 1 & 1 & 1 & 0 & 0 & 0 & 0 \\\\\n"
     ]
    }
   ],
   "source": [
    "for r in repulsion_biallelic[0]:\n",
    "    print(' & '.join(map(str, r)) + ' \\\\\\\\')"
   ]
  },
  {
   "cell_type": "code",
   "execution_count": 8,
   "id": "30dc99b0-582b-415f-9015-9131058d8e7b",
   "metadata": {},
   "outputs": [],
   "source": [
    "def D(w_AB, w_Ab, w_aB, n):\n",
    "    p_AB = w_AB / float(n)\n",
    "    p_Ab = w_Ab / float(n)\n",
    "    p_aB = w_aB / float(n)\n",
    "\n",
    "    p_A = p_AB + p_Ab\n",
    "    p_B = p_AB + p_aB\n",
    "\n",
    "    return p_AB - (p_A * p_B)"
   ]
  },
  {
   "cell_type": "code",
   "execution_count": 9,
   "id": "296be7ef-f06d-4064-8fd0-447b812a37c1",
   "metadata": {},
   "outputs": [
    {
     "data": {
      "text/plain": [
       "array([[0., 0.],\n",
       "       [0., 0.]])"
      ]
     },
     "execution_count": 9,
     "metadata": {},
     "output_type": "execute_result"
    }
   ],
   "source": [
    "_two_site_general_stat(*correlated, D, 'total')"
   ]
  },
  {
   "cell_type": "code",
   "execution_count": 10,
   "id": "d1b9b3a7-0f2c-4eef-ade1-43f6a6987a28",
   "metadata": {},
   "outputs": [
    {
     "data": {
      "text/plain": [
       "array([[0., 0.],\n",
       "       [0., 0.]])"
      ]
     },
     "execution_count": 10,
     "metadata": {},
     "output_type": "execute_result"
    }
   ],
   "source": [
    "_two_site_general_stat(*uncorrelated, D, 'total')"
   ]
  },
  {
   "cell_type": "code",
   "execution_count": 11,
   "id": "efc51a2a-02d2-490f-8560-904a0c27fc94",
   "metadata": {},
   "outputs": [
    {
     "data": {
      "text/plain": [
       "array([[0., 0.],\n",
       "       [0., 0.]])"
      ]
     },
     "execution_count": 11,
     "metadata": {},
     "output_type": "execute_result"
    }
   ],
   "source": [
    "_two_site_general_stat(*correlated_biallelic, D, 'total')"
   ]
  },
  {
   "cell_type": "code",
   "execution_count": 12,
   "id": "e19c5e17-123c-4813-a455-590ef6836db7",
   "metadata": {},
   "outputs": [
    {
     "data": {
      "text/plain": [
       "array([[0., 0.],\n",
       "       [0., 0.]])"
      ]
     },
     "execution_count": 12,
     "metadata": {},
     "output_type": "execute_result"
    }
   ],
   "source": [
    "_two_site_general_stat(*uncorrelated_biallelic, D, 'total')"
   ]
  },
  {
   "cell_type": "code",
   "execution_count": 13,
   "id": "9fe44b9e-c1bc-4772-a3c7-ad6e83b7de0a",
   "metadata": {},
   "outputs": [
    {
     "data": {
      "text/plain": [
       "array([[0., 0.],\n",
       "       [0., 0.]])"
      ]
     },
     "execution_count": 13,
     "metadata": {},
     "output_type": "execute_result"
    }
   ],
   "source": [
    "_two_site_general_stat(*repulsion_biallelic, D, 'total')"
   ]
  },
  {
   "cell_type": "code",
   "execution_count": null,
   "id": "c04441c1-339c-436d-977b-efba0b425555",
   "metadata": {},
   "outputs": [],
   "source": []
  },
  {
   "cell_type": "code",
   "execution_count": 14,
   "id": "8ffeb559-9107-491f-88b4-44c8cd405aa2",
   "metadata": {},
   "outputs": [
    {
     "data": {
      "text/plain": [
       "array([[ 0.05555556, -0.01851852],\n",
       "       [-0.01851852,  0.04320988]])"
      ]
     },
     "execution_count": 14,
     "metadata": {},
     "output_type": "execute_result"
    }
   ],
   "source": [
    "_two_site_general_stat(*correlated, D, 'total', polarized=True)"
   ]
  },
  {
   "cell_type": "code",
   "execution_count": 15,
   "id": "842f49b3-c67b-419a-a9eb-f50a1d088ed2",
   "metadata": {},
   "outputs": [
    {
     "data": {
      "text/plain": [
       "array([[0.05555556, 0.        ],\n",
       "       [0.        , 0.05555556]])"
      ]
     },
     "execution_count": 15,
     "metadata": {},
     "output_type": "execute_result"
    }
   ],
   "source": [
    "_two_site_general_stat(*uncorrelated, D, 'total', polarized=True)"
   ]
  },
  {
   "cell_type": "code",
   "execution_count": 16,
   "id": "34750960-c41e-45de-ae14-bd6e564892b8",
   "metadata": {},
   "outputs": [
    {
     "data": {
      "text/plain": [
       "array([[0.25, 0.25],\n",
       "       [0.25, 0.25]])"
      ]
     },
     "execution_count": 16,
     "metadata": {},
     "output_type": "execute_result"
    }
   ],
   "source": [
    "_two_site_general_stat(*correlated_biallelic, D, 'total', polarized=True)"
   ]
  },
  {
   "cell_type": "code",
   "execution_count": 17,
   "id": "89168ec9-50fa-4bc0-b5dd-f573b4330582",
   "metadata": {},
   "outputs": [
    {
     "data": {
      "text/plain": [
       "array([[0.25, 0.  ],\n",
       "       [0.  , 0.25]])"
      ]
     },
     "execution_count": 17,
     "metadata": {},
     "output_type": "execute_result"
    }
   ],
   "source": [
    "_two_site_general_stat(*uncorrelated_biallelic, D, 'total', polarized=True)"
   ]
  },
  {
   "cell_type": "code",
   "execution_count": 18,
   "id": "f241e6f6-dd31-471e-9d7b-9189c3e4621b",
   "metadata": {},
   "outputs": [
    {
     "data": {
      "text/plain": [
       "array([[ 0.25, -0.25],\n",
       "       [-0.25,  0.25]])"
      ]
     },
     "execution_count": 18,
     "metadata": {},
     "output_type": "execute_result"
    }
   ],
   "source": [
    "_two_site_general_stat(*repulsion_biallelic, D, 'total', polarized=True)"
   ]
  },
  {
   "cell_type": "code",
   "execution_count": null,
   "id": "ff1280be-944f-4de9-910b-9bd8bed74bf8",
   "metadata": {},
   "outputs": [],
   "source": []
  },
  {
   "cell_type": "code",
   "execution_count": 19,
   "id": "23fd79dc-9eec-414c-82ad-dd2f02628127",
   "metadata": {},
   "outputs": [],
   "source": [
    "def r2(w_AB, w_Ab, w_aB, n):\n",
    "    p_AB = w_AB / float(n)\n",
    "    p_Ab = w_Ab / float(n)\n",
    "    p_aB = w_aB / float(n)\n",
    "\n",
    "    p_A = p_AB + p_Ab\n",
    "    p_B = p_AB + p_aB\n",
    "\n",
    "    D = p_AB - (p_A * p_B)\n",
    "    denom = p_A * p_B * (1 - p_A) * (1 - p_B)\n",
    "\n",
    "    if denom == 0 and D == 0:\n",
    "        return np.nan\n",
    "\n",
    "    return (D * D) / denom"
   ]
  },
  {
   "cell_type": "code",
   "execution_count": 20,
   "id": "7d4da641-d56e-4290-bfbf-c8f1042c0eb4",
   "metadata": {},
   "outputs": [
    {
     "data": {
      "text/plain": [
       "array([[1., 1.],\n",
       "       [1., 1.]])"
      ]
     },
     "execution_count": 20,
     "metadata": {},
     "output_type": "execute_result"
    }
   ],
   "source": [
    "_two_site_general_stat(*correlated, r2, 'hap_weighted')"
   ]
  },
  {
   "cell_type": "code",
   "execution_count": 21,
   "id": "e293bc89-8b47-4b07-a54c-760c0148516d",
   "metadata": {},
   "outputs": [
    {
     "data": {
      "text/plain": [
       "array([[1., 0.],\n",
       "       [0., 1.]])"
      ]
     },
     "execution_count": 21,
     "metadata": {},
     "output_type": "execute_result"
    }
   ],
   "source": [
    "_two_site_general_stat(*uncorrelated, r2, 'hap_weighted')"
   ]
  },
  {
   "cell_type": "code",
   "execution_count": 22,
   "id": "a07acb75-593b-4570-965f-c82fb42e7757",
   "metadata": {},
   "outputs": [
    {
     "data": {
      "text/plain": [
       "array([[1., 1.],\n",
       "       [1., 1.]])"
      ]
     },
     "execution_count": 22,
     "metadata": {},
     "output_type": "execute_result"
    }
   ],
   "source": [
    "_two_site_general_stat(*correlated_biallelic, r2, 'hap_weighted')"
   ]
  },
  {
   "cell_type": "code",
   "execution_count": 23,
   "id": "a640caf6-6e05-4f52-99b4-16d09c5a2dc2",
   "metadata": {},
   "outputs": [
    {
     "data": {
      "text/plain": [
       "array([[1., 0.],\n",
       "       [0., 1.]])"
      ]
     },
     "execution_count": 23,
     "metadata": {},
     "output_type": "execute_result"
    }
   ],
   "source": [
    "_two_site_general_stat(*uncorrelated_biallelic, r2, 'hap_weighted')"
   ]
  },
  {
   "cell_type": "code",
   "execution_count": 24,
   "id": "ffd79b32-1a68-40e9-b096-38b667b97834",
   "metadata": {},
   "outputs": [
    {
     "data": {
      "text/plain": [
       "array([[1., 1.],\n",
       "       [1., 1.]])"
      ]
     },
     "execution_count": 24,
     "metadata": {},
     "output_type": "execute_result"
    }
   ],
   "source": [
    "_two_site_general_stat(*repulsion_biallelic, r2, 'hap_weighted')"
   ]
  },
  {
   "cell_type": "code",
   "execution_count": null,
   "id": "c7599a43-eef7-4c91-893a-53471beb21ba",
   "metadata": {},
   "outputs": [],
   "source": []
  },
  {
   "cell_type": "code",
   "execution_count": 25,
   "id": "c72105c0-8b53-4b32-8919-d26b65f92cd1",
   "metadata": {},
   "outputs": [
    {
     "data": {
      "text/plain": [
       "array([[0.66666667, 0.44444444],\n",
       "       [0.44444444, 0.77777778]])"
      ]
     },
     "execution_count": 25,
     "metadata": {},
     "output_type": "execute_result"
    }
   ],
   "source": [
    "_two_site_general_stat(*correlated, r2, 'hap_weighted', polarized=True)"
   ]
  },
  {
   "cell_type": "code",
   "execution_count": 26,
   "id": "d9a3cfdc-071b-42ee-aade-af9e6282047c",
   "metadata": {},
   "outputs": [
    {
     "data": {
      "text/plain": [
       "array([[0.66666667, 0.        ],\n",
       "       [0.        , 0.66666667]])"
      ]
     },
     "execution_count": 26,
     "metadata": {},
     "output_type": "execute_result"
    }
   ],
   "source": [
    "_two_site_general_stat(*uncorrelated, r2, 'hap_weighted', polarized=True)"
   ]
  },
  {
   "cell_type": "code",
   "execution_count": 27,
   "id": "9224b26f-f349-4815-b7f9-f09fcb587c51",
   "metadata": {},
   "outputs": [
    {
     "data": {
      "text/plain": [
       "array([[0.5, 0.5],\n",
       "       [0.5, 0.5]])"
      ]
     },
     "execution_count": 27,
     "metadata": {},
     "output_type": "execute_result"
    }
   ],
   "source": [
    "_two_site_general_stat(*correlated_biallelic, r2, 'hap_weighted', polarized=True)"
   ]
  },
  {
   "cell_type": "code",
   "execution_count": 28,
   "id": "a9ddc90a-657b-4899-85ae-2228855ab371",
   "metadata": {},
   "outputs": [
    {
     "data": {
      "text/plain": [
       "array([[0.5, 0. ],\n",
       "       [0. , 0.5]])"
      ]
     },
     "execution_count": 28,
     "metadata": {},
     "output_type": "execute_result"
    }
   ],
   "source": [
    "_two_site_general_stat(*uncorrelated_biallelic, r2, 'hap_weighted', polarized=True)"
   ]
  },
  {
   "cell_type": "code",
   "execution_count": 29,
   "id": "b1c5bbc0-8434-4d4e-91af-10e25503fb5b",
   "metadata": {},
   "outputs": [
    {
     "data": {
      "text/plain": [
       "array([[0.5, 0. ],\n",
       "       [0. , 0.5]])"
      ]
     },
     "execution_count": 29,
     "metadata": {},
     "output_type": "execute_result"
    }
   ],
   "source": [
    "_two_site_general_stat(*repulsion_biallelic, r2, 'hap_weighted', polarized=True)"
   ]
  },
  {
   "cell_type": "code",
   "execution_count": null,
   "id": "ac98a2d0-af69-4b00-b592-1bc00a53a9e8",
   "metadata": {},
   "outputs": [],
   "source": []
  },
  {
   "cell_type": "code",
   "execution_count": 30,
   "id": "8abd5a93-86b9-480b-ad61-e2964210b630",
   "metadata": {},
   "outputs": [
    {
     "data": {
      "text/plain": [
       "array([[0.5, 0. ],\n",
       "       [0. , 0.5]])"
      ]
     },
     "execution_count": 30,
     "metadata": {},
     "output_type": "execute_result"
    }
   ],
   "source": [
    "_two_site_general_stat(\n",
    "    np.array([[0, 0, 1, 2],[1, 2, 0 ,0 ]]), np.array([3, 3]), r2, 'hap_weighted', polarized=True)"
   ]
  },
  {
   "cell_type": "code",
   "execution_count": 31,
   "id": "6170347f-f04b-4355-9de6-11422ca84549",
   "metadata": {},
   "outputs": [
    {
     "data": {
      "text/plain": [
       "array([[1.        , 0.33333333],\n",
       "       [0.33333333, 1.        ]])"
      ]
     },
     "execution_count": 31,
     "metadata": {},
     "output_type": "execute_result"
    }
   ],
   "source": [
    "_two_site_general_stat(\n",
    "    np.array([[0, 0, 1, 2],[1, 2, 0 ,0 ]]), np.array([3, 3]), r2, 'hap_weighted')"
   ]
  },
  {
   "cell_type": "code",
   "execution_count": 32,
   "id": "42a76cde-0c50-4305-aee0-cdc5593063a6",
   "metadata": {},
   "outputs": [
    {
     "data": {
      "text/plain": [
       "array([[0.66666667, 0.        ],\n",
       "       [0.        , 0.33333333]])"
      ]
     },
     "execution_count": 32,
     "metadata": {},
     "output_type": "execute_result"
    }
   ],
   "source": [
    "_two_site_general_stat(\n",
    "    np.array([[0, 1, 2],[1, 0, 0]]), np.array([3, 2]), r2, 'hap_weighted', polarized=True)"
   ]
  },
  {
   "cell_type": "code",
   "execution_count": 33,
   "id": "719cc944-e000-47d8-83aa-252646768bca",
   "metadata": {},
   "outputs": [
    {
     "data": {
      "text/plain": [
       "array([[1. , 0.5],\n",
       "       [0.5, 1. ]])"
      ]
     },
     "execution_count": 33,
     "metadata": {},
     "output_type": "execute_result"
    }
   ],
   "source": [
    "_two_site_general_stat(\n",
    "    np.array([[0, 1, 2],[1, 0, 0]]), np.array([3, 2]), r2, 'hap_weighted')"
   ]
  },
  {
   "cell_type": "code",
   "execution_count": 34,
   "id": "52246d59-96c0-4e5c-b8ac-4ecf340d6176",
   "metadata": {},
   "outputs": [],
   "source": [
    "def D_prime(w_AB, w_Ab, w_aB, n):\n",
    "    p_AB = w_AB / float(n)\n",
    "    p_Ab = w_Ab / float(n)\n",
    "    p_aB = w_aB / float(n)\n",
    "\n",
    "    p_A = p_AB + p_Ab\n",
    "    p_B = p_AB + p_aB\n",
    "\n",
    "    D = p_AB - (p_A * p_B)\n",
    "    if D >= 0:\n",
    "        return D / min(p_A * (1 - p_B), (1 - p_A) * p_B)\n",
    "    return D / min(p_A * p_B, (1 - p_A) * (1 - p_B))"
   ]
  },
  {
   "cell_type": "code",
   "execution_count": null,
   "id": "fbd81416-c2cc-4a0a-8b58-2994de6c2548",
   "metadata": {},
   "outputs": [],
   "source": []
  },
  {
   "cell_type": "code",
   "execution_count": 35,
   "id": "8a4f8aef-0bb4-41e6-a3b2-6ae9137c84cb",
   "metadata": {},
   "outputs": [
    {
     "data": {
      "text/plain": [
       "array([[-0.33333333, -0.33333333],\n",
       "       [-0.33333333, -0.33333333]])"
      ]
     },
     "execution_count": 35,
     "metadata": {},
     "output_type": "execute_result"
    }
   ],
   "source": [
    "_two_site_general_stat(*correlated, D_prime, 'total')"
   ]
  },
  {
   "cell_type": "code",
   "execution_count": 36,
   "id": "032638df-9416-4ad6-af97-3028f9537f1c",
   "metadata": {},
   "outputs": [
    {
     "data": {
      "text/plain": [
       "array([[1., 1.],\n",
       "       [1., 1.]])"
      ]
     },
     "execution_count": 36,
     "metadata": {},
     "output_type": "execute_result"
    }
   ],
   "source": [
    "_two_site_general_stat(*correlated, D_prime, 'hap_weighted')"
   ]
  },
  {
   "cell_type": "code",
   "execution_count": 37,
   "id": "902c4b01-5c11-4701-bdea-91e12511d4a1",
   "metadata": {},
   "outputs": [
    {
     "data": {
      "text/plain": [
       "array([[-0.33333333,  0.        ],\n",
       "       [ 0.        , -0.33333333]])"
      ]
     },
     "execution_count": 37,
     "metadata": {},
     "output_type": "execute_result"
    }
   ],
   "source": [
    "_two_site_general_stat(*uncorrelated, D_prime, 'total')"
   ]
  },
  {
   "cell_type": "code",
   "execution_count": 38,
   "id": "805a813f-620a-46fb-a05e-29b77d5867df",
   "metadata": {},
   "outputs": [
    {
     "data": {
      "text/plain": [
       "array([[1., 0.],\n",
       "       [0., 1.]])"
      ]
     },
     "execution_count": 38,
     "metadata": {},
     "output_type": "execute_result"
    }
   ],
   "source": [
    "_two_site_general_stat(*uncorrelated, D_prime, 'hap_weighted')"
   ]
  },
  {
   "cell_type": "code",
   "execution_count": 39,
   "id": "3f65f777-8950-458e-ab0d-e5c85174061f",
   "metadata": {},
   "outputs": [
    {
     "data": {
      "text/plain": [
       "array([[0., 0.],\n",
       "       [0., 0.]])"
      ]
     },
     "execution_count": 39,
     "metadata": {},
     "output_type": "execute_result"
    }
   ],
   "source": [
    "_two_site_general_stat(*correlated_biallelic, D_prime, 'total')"
   ]
  },
  {
   "cell_type": "code",
   "execution_count": 40,
   "id": "fb234116-377e-4b2e-94f7-44a1bd3ec306",
   "metadata": {},
   "outputs": [
    {
     "data": {
      "text/plain": [
       "array([[0., 0.],\n",
       "       [0., 0.]])"
      ]
     },
     "execution_count": 40,
     "metadata": {},
     "output_type": "execute_result"
    }
   ],
   "source": [
    "_two_site_general_stat(*uncorrelated_biallelic, D_prime, 'total')"
   ]
  },
  {
   "cell_type": "code",
   "execution_count": 41,
   "id": "2a8acfa2-a511-42b9-aace-eeb0fcead2dc",
   "metadata": {},
   "outputs": [
    {
     "data": {
      "text/plain": [
       "array([[0., 0.],\n",
       "       [0., 0.]])"
      ]
     },
     "execution_count": 41,
     "metadata": {},
     "output_type": "execute_result"
    }
   ],
   "source": [
    "_two_site_general_stat(*repulsion_biallelic, D_prime, 'total')"
   ]
  },
  {
   "cell_type": "code",
   "execution_count": null,
   "id": "0cbaa456-9380-4953-a6e3-e815f02e27fa",
   "metadata": {},
   "outputs": [],
   "source": []
  },
  {
   "cell_type": "code",
   "execution_count": 42,
   "id": "f74b258e-153b-4222-b5a6-a7402b208b05",
   "metadata": {},
   "outputs": [
    {
     "data": {
      "text/plain": [
       "array([[ 0. , -0.5],\n",
       "       [-0.5,  0. ]])"
      ]
     },
     "execution_count": 42,
     "metadata": {},
     "output_type": "execute_result"
    }
   ],
   "source": [
    "_two_site_general_stat(*correlated, D_prime, 'total', polarized=True)"
   ]
  },
  {
   "cell_type": "code",
   "execution_count": 43,
   "id": "d9c8db85-cdde-4b82-8d79-984c9fe1f3c7",
   "metadata": {},
   "outputs": [
    {
     "data": {
      "text/plain": [
       "array([[-2.77555756e-17,  0.00000000e+00],\n",
       "       [ 0.00000000e+00, -2.77555756e-17]])"
      ]
     },
     "execution_count": 43,
     "metadata": {},
     "output_type": "execute_result"
    }
   ],
   "source": [
    "_two_site_general_stat(*uncorrelated, D_prime, 'total', polarized=True)"
   ]
  },
  {
   "cell_type": "code",
   "execution_count": 44,
   "id": "eede8b05-1470-4604-923f-182e7dc9b6dd",
   "metadata": {},
   "outputs": [
    {
     "data": {
      "text/plain": [
       "array([[1., 1.],\n",
       "       [1., 1.]])"
      ]
     },
     "execution_count": 44,
     "metadata": {},
     "output_type": "execute_result"
    }
   ],
   "source": [
    "_two_site_general_stat(*correlated_biallelic, D_prime, 'total', polarized=True)"
   ]
  },
  {
   "cell_type": "code",
   "execution_count": 45,
   "id": "b5575af9-2fa6-4285-8c03-348fd7aab8a5",
   "metadata": {},
   "outputs": [
    {
     "data": {
      "text/plain": [
       "array([[1., 0.],\n",
       "       [0., 1.]])"
      ]
     },
     "execution_count": 45,
     "metadata": {},
     "output_type": "execute_result"
    }
   ],
   "source": [
    "_two_site_general_stat(*uncorrelated_biallelic, D_prime, 'total', polarized=True)"
   ]
  },
  {
   "cell_type": "code",
   "execution_count": 46,
   "id": "9017d382-903b-4439-afa9-1359d5b551b4",
   "metadata": {},
   "outputs": [
    {
     "data": {
      "text/plain": [
       "array([[ 1., -1.],\n",
       "       [-1.,  1.]])"
      ]
     },
     "execution_count": 46,
     "metadata": {},
     "output_type": "execute_result"
    }
   ],
   "source": [
    "_two_site_general_stat(*repulsion_biallelic, D_prime, 'total', polarized=True)"
   ]
  },
  {
   "cell_type": "code",
   "execution_count": null,
   "id": "2f47a761-2a1b-43a0-9eaf-d253bddd6873",
   "metadata": {},
   "outputs": [],
   "source": []
  },
  {
   "cell_type": "code",
   "execution_count": 47,
   "id": "b4d2f1f1-3139-4e21-9e01-9090a141a5b6",
   "metadata": {},
   "outputs": [],
   "source": [
    "def r(w_AB, w_Ab, w_aB, n):\n",
    "    p_AB = w_AB / float(n)\n",
    "    p_Ab = w_Ab / float(n)\n",
    "    p_aB = w_aB / float(n)\n",
    "\n",
    "    p_A = p_AB + p_Ab\n",
    "    p_B = p_AB + p_aB\n",
    "\n",
    "    D = p_AB - (p_A * p_B)\n",
    "    denom = p_A * p_B * (1 - p_A) * (1 - p_B)\n",
    "\n",
    "    if denom == 0 and D == 0:\n",
    "        return np.nan\n",
    "\n",
    "    return D / np.sqrt(denom)"
   ]
  },
  {
   "cell_type": "code",
   "execution_count": 48,
   "id": "69f3a332-be36-4c05-b383-68680ccf4ef3",
   "metadata": {},
   "outputs": [
    {
     "data": {
      "text/plain": [
       "array([[1., 1.],\n",
       "       [1., 1.]])"
      ]
     },
     "execution_count": 48,
     "metadata": {},
     "output_type": "execute_result"
    }
   ],
   "source": [
    "_two_site_general_stat(*correlated, r, 'hap_weighted')"
   ]
  },
  {
   "cell_type": "code",
   "execution_count": 49,
   "id": "5b54e4a6-e197-48c0-9a92-6ea8cb02e18e",
   "metadata": {},
   "outputs": [
    {
     "data": {
      "text/plain": [
       "array([[1., 0.],\n",
       "       [0., 1.]])"
      ]
     },
     "execution_count": 49,
     "metadata": {},
     "output_type": "execute_result"
    }
   ],
   "source": [
    "_two_site_general_stat(*uncorrelated, r, 'hap_weighted')"
   ]
  },
  {
   "cell_type": "code",
   "execution_count": 50,
   "id": "c67538a7-67ad-4832-b724-4b5449e69fe5",
   "metadata": {},
   "outputs": [
    {
     "data": {
      "text/plain": [
       "array([[1., 1.],\n",
       "       [1., 1.]])"
      ]
     },
     "execution_count": 50,
     "metadata": {},
     "output_type": "execute_result"
    }
   ],
   "source": [
    "_two_site_general_stat(*correlated_biallelic, r, 'hap_weighted')"
   ]
  },
  {
   "cell_type": "code",
   "execution_count": 51,
   "id": "aeddc4c1-6c16-4158-a1b1-07ab3b25af2b",
   "metadata": {},
   "outputs": [
    {
     "data": {
      "text/plain": [
       "array([[1., 0.],\n",
       "       [0., 1.]])"
      ]
     },
     "execution_count": 51,
     "metadata": {},
     "output_type": "execute_result"
    }
   ],
   "source": [
    "_two_site_general_stat(*uncorrelated_biallelic, r, 'hap_weighted')"
   ]
  },
  {
   "cell_type": "code",
   "execution_count": 52,
   "id": "a26c4bef-965a-4510-b2c7-366c701d3d94",
   "metadata": {},
   "outputs": [
    {
     "data": {
      "text/plain": [
       "array([[1., 1.],\n",
       "       [1., 1.]])"
      ]
     },
     "execution_count": 52,
     "metadata": {},
     "output_type": "execute_result"
    }
   ],
   "source": [
    "_two_site_general_stat(*repulsion_biallelic, r, 'hap_weighted')"
   ]
  },
  {
   "cell_type": "code",
   "execution_count": null,
   "id": "61a2c6fd-e411-4d10-835b-4a0b2be2d260",
   "metadata": {},
   "outputs": [],
   "source": []
  },
  {
   "cell_type": "code",
   "execution_count": 53,
   "id": "25ea50ae-d396-471b-b1f3-0916a145d808",
   "metadata": {},
   "outputs": [
    {
     "data": {
      "text/plain": [
       "array([[0.66666667, 0.44444444],\n",
       "       [0.44444444, 0.77777778]])"
      ]
     },
     "execution_count": 53,
     "metadata": {},
     "output_type": "execute_result"
    }
   ],
   "source": [
    "_two_site_general_stat(*correlated, r, 'hap_weighted', polarized=True)"
   ]
  },
  {
   "cell_type": "code",
   "execution_count": 54,
   "id": "b4af4eb7-de65-4493-9270-6e10edeceb8d",
   "metadata": {},
   "outputs": [
    {
     "data": {
      "text/plain": [
       "array([[0.66666667, 0.        ],\n",
       "       [0.        , 0.66666667]])"
      ]
     },
     "execution_count": 54,
     "metadata": {},
     "output_type": "execute_result"
    }
   ],
   "source": [
    "_two_site_general_stat(*uncorrelated, r, 'hap_weighted', polarized=True)"
   ]
  },
  {
   "cell_type": "code",
   "execution_count": 55,
   "id": "71e3998b-6edd-40b6-b3e6-58528716d914",
   "metadata": {},
   "outputs": [
    {
     "data": {
      "text/plain": [
       "array([[0.5, 0.5],\n",
       "       [0.5, 0.5]])"
      ]
     },
     "execution_count": 55,
     "metadata": {},
     "output_type": "execute_result"
    }
   ],
   "source": [
    "_two_site_general_stat(*correlated_biallelic, r, 'hap_weighted', polarized=True)"
   ]
  },
  {
   "cell_type": "code",
   "execution_count": 56,
   "id": "1e255e35-0d43-49bc-bb93-32c852c44f22",
   "metadata": {},
   "outputs": [
    {
     "data": {
      "text/plain": [
       "array([[0.5, 0. ],\n",
       "       [0. , 0.5]])"
      ]
     },
     "execution_count": 56,
     "metadata": {},
     "output_type": "execute_result"
    }
   ],
   "source": [
    "_two_site_general_stat(*uncorrelated_biallelic, r, 'hap_weighted', polarized=True)"
   ]
  },
  {
   "cell_type": "code",
   "execution_count": 57,
   "id": "9e63e1d3-1a93-4508-9913-52cebf7ba87d",
   "metadata": {},
   "outputs": [
    {
     "data": {
      "text/plain": [
       "array([[0.5, 0. ],\n",
       "       [0. , 0.5]])"
      ]
     },
     "execution_count": 57,
     "metadata": {},
     "output_type": "execute_result"
    }
   ],
   "source": [
    "_two_site_general_stat(*repulsion_biallelic, r, 'hap_weighted', polarized=True)"
   ]
  },
  {
   "cell_type": "code",
   "execution_count": 58,
   "id": "ac20d76e-f66e-4872-8ac8-20aaf0623b07",
   "metadata": {},
   "outputs": [],
   "source": [
    "def Dz(w_AB, w_Ab, w_aB, n):\n",
    "    p_AB = w_AB / float(n)\n",
    "    p_Ab = w_Ab / float(n)\n",
    "    p_aB = w_aB / float(n)\n",
    "\n",
    "    p_A = p_AB + p_Ab\n",
    "    p_B = p_AB + p_aB\n",
    "\n",
    "    D = p_AB - (p_A * p_B)\n",
    "\n",
    "    return D * (1 - 2 * p_A) * (1 - 2 * p_B)"
   ]
  },
  {
   "cell_type": "code",
   "execution_count": 59,
   "id": "c0cd39dc-b2c4-4270-ba4f-3081b4d4394c",
   "metadata": {},
   "outputs": [],
   "source": [
    "def pi2(w_AB, w_Ab, w_aB, n):\n",
    "    p_AB = w_AB / float(n)\n",
    "    p_Ab = w_Ab / float(n)\n",
    "    p_aB = w_aB / float(n)\n",
    "\n",
    "    p_A = p_AB + p_Ab\n",
    "    p_B = p_AB + p_aB\n",
    "\n",
    "    return p_A * (1 - p_A) * p_B * (1 - p_B)"
   ]
  },
  {
   "cell_type": "code",
   "execution_count": 60,
   "id": "39e2fcae-d944-4f47-8077-0f0c528c9f75",
   "metadata": {},
   "outputs": [
    {
     "data": {
      "text/plain": [
       "0.046875"
      ]
     },
     "execution_count": 60,
     "metadata": {},
     "output_type": "execute_result"
    }
   ],
   "source": [
    "Dz(3, 0, 0, 4)"
   ]
  },
  {
   "cell_type": "code",
   "execution_count": 61,
   "id": "a8dca089-a5eb-4575-8a3c-860e0c34ae1c",
   "metadata": {},
   "outputs": [
    {
     "data": {
      "text/plain": [
       "0.046875"
      ]
     },
     "execution_count": 61,
     "metadata": {},
     "output_type": "execute_result"
    }
   ],
   "source": [
    "Dz(0, 1, 3, 4)"
   ]
  },
  {
   "cell_type": "code",
   "execution_count": 62,
   "id": "c5bf1110-61da-4e53-9671-24078d5c48a7",
   "metadata": {},
   "outputs": [
    {
     "name": "stdout",
     "output_type": "stream",
     "text": [
      "a: [0 0 1 2] b: [0 0 1 2]\n",
      "[[2 0 0]\n",
      " [0 1 0]\n",
      " [0 0 1]]\n",
      "wAB\twAb\twaB\tstat\thap_prop\n",
      "1\t0\t0\t1.0\t0.25\n",
      "0\t1\t1\t0.1111111111111111\t0.0\n",
      "0\t1\t1\t0.1111111111111111\t0.0\n",
      "1\t0\t0\t1.0\t0.25\n",
      "--------------------------------------------------------\n",
      "a: [0 0 1 2] b: [1 2 0 0]\n",
      "[[0 1 1]\n",
      " [1 0 0]\n",
      " [1 0 0]]\n",
      "wAB\twAb\twaB\tstat\thap_prop\n",
      "0\t1\t1\t0.1111111111111111\t0.0\n",
      "0\t1\t1\t0.1111111111111111\t0.0\n",
      "0\t1\t1\t0.1111111111111111\t0.0\n",
      "0\t1\t1\t0.1111111111111111\t0.0\n",
      "--------------------------------------------------------\n",
      "a: [1 2 0 0] b: [1 2 0 0]\n",
      "[[2 0 0]\n",
      " [0 1 0]\n",
      " [0 0 1]]\n",
      "wAB\twAb\twaB\tstat\thap_prop\n",
      "1\t0\t0\t1.0\t0.25\n",
      "0\t1\t1\t0.1111111111111111\t0.0\n",
      "0\t1\t1\t0.1111111111111111\t0.0\n",
      "1\t0\t0\t1.0\t0.25\n",
      "--------------------------------------------------------\n"
     ]
    },
    {
     "data": {
      "text/plain": [
       "array([[0.5, 0. ],\n",
       "       [0. , 0.5]])"
      ]
     },
     "execution_count": 62,
     "metadata": {},
     "output_type": "execute_result"
    }
   ],
   "source": [
    "_two_site_general_stat(\n",
    "    np.array([[0, 0, 1, 2],[1, 2, 0 ,0 ]]), np.array([3, 3]), r2, 'hap_weighted', polarized=True, debug=True)"
   ]
  },
  {
   "cell_type": "code",
   "execution_count": 63,
   "id": "6145c1de-ae88-4c22-b9f1-ac1aae619d5f",
   "metadata": {},
   "outputs": [
    {
     "data": {
      "text/plain": [
       "array([[1.        , 0.33333333],\n",
       "       [0.33333333, 1.        ]])"
      ]
     },
     "execution_count": 63,
     "metadata": {},
     "output_type": "execute_result"
    }
   ],
   "source": [
    "_two_site_general_stat(\n",
    "    np.array([[0, 0, 1, 2],[1, 2, 0 ,0 ]]), np.array([3, 3]), r2, 'hap_weighted')"
   ]
  },
  {
   "cell_type": "code",
   "execution_count": null,
   "id": "011ab4f3-f24c-469b-88f7-ee3c016d4ebf",
   "metadata": {},
   "outputs": [],
   "source": []
  },
  {
   "cell_type": "code",
   "execution_count": null,
   "id": "1f70a6b2-5187-474c-acd5-54d8bb36530e",
   "metadata": {},
   "outputs": [],
   "source": []
  },
  {
   "cell_type": "code",
   "execution_count": null,
   "id": "08dd5a24-81fd-44d0-8742-afd54417dd84",
   "metadata": {},
   "outputs": [],
   "source": []
  },
  {
   "cell_type": "code",
   "execution_count": null,
   "id": "9d882477-0e9f-4653-83f2-d03031561f1d",
   "metadata": {},
   "outputs": [],
   "source": []
  },
  {
   "cell_type": "code",
   "execution_count": 64,
   "id": "b3e40cdb-e501-4335-848b-eea1aaf9111f",
   "metadata": {},
   "outputs": [
    {
     "data": {
      "text/plain": [
       "array([[0.5, 0. ],\n",
       "       [0. , 0.5]])"
      ]
     },
     "execution_count": 64,
     "metadata": {},
     "output_type": "execute_result"
    }
   ],
   "source": [
    "_two_site_general_stat(\n",
    "    np.array([[0, 0, 1, 2],[1, 2, 0 ,0 ]]), np.array([3, 3]), D_prime, 'hap_weighted', polarized=True)"
   ]
  },
  {
   "cell_type": "code",
   "execution_count": 65,
   "id": "0bfbcbad-23f5-4dda-98af-960ed4e0ec82",
   "metadata": {},
   "outputs": [
    {
     "data": {
      "text/plain": [
       "array([[1., 1.],\n",
       "       [1., 1.]])"
      ]
     },
     "execution_count": 65,
     "metadata": {},
     "output_type": "execute_result"
    }
   ],
   "source": [
    "_two_site_general_stat(\n",
    "    np.array([[0, 0, 1, 2],[1, 2, 0 ,0 ]]), np.array([3, 3]), D_prime, 'hap_weighted')"
   ]
  }
 ],
 "metadata": {
  "kernelspec": {
   "display_name": "tskit-dev-1",
   "language": "python",
   "name": "tskit-dev-1"
  },
  "language_info": {
   "codemirror_mode": {
    "name": "ipython",
    "version": 3
   },
   "file_extension": ".py",
   "mimetype": "text/x-python",
   "name": "python",
   "nbconvert_exporter": "python",
   "pygments_lexer": "ipython3",
   "version": "3.9.13"
  }
 },
 "nbformat": 4,
 "nbformat_minor": 5
}
