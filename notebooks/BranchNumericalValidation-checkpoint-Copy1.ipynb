{
 "cells": [
  {
   "cell_type": "code",
   "execution_count": 1,
   "id": "89981845-7e0b-4079-9923-c0a2335d7484",
   "metadata": {},
   "outputs": [],
   "source": [
    "from itertools import combinations\n",
    "import numpy as np"
   ]
  },
  {
   "cell_type": "code",
   "execution_count": 2,
   "id": "9d1c3994-b977-4e0c-b4a3-6f35f16a9eac",
   "metadata": {},
   "outputs": [],
   "source": [
    "samples_0 = [{0}, {1}, {2}, {3}, {4}, {0, 1}, {3, 4}, {0, 1, 2}, set(), {0, 1, 2, 3, 4}]\n",
    "samples_1 = [{0}, {1}, {2}, {3}, {4}, {0, 1}, set(), {0, 1, 2}, {0, 1, 2, 3}, {0, 1, 2, 3, 4}]\n",
    "branch_len_0 = [2., 2., 4., 3., 3., 2., 4., 3., 0., 0.]\n",
    "branch_len_1 = [2., 2., 4., 6., 7., 2., 0., 2., 1., 0.]\n",
    "num_nodes_0 = 9\n",
    "num_nodes_1 = 9\n",
    "num_samples = 5"
   ]
  },
  {
   "cell_type": "code",
   "execution_count": 3,
   "id": "69de0659-41f8-4d06-ae47-d340824020bd",
   "metadata": {},
   "outputs": [],
   "source": [
    "def get_weights(A, B):\n",
    "    w_AB = A & B\n",
    "    w_Ab = A - w_AB\n",
    "    w_aB = B - w_AB\n",
    "    return tuple(map(len, (w_AB, w_Ab, w_aB)))"
   ]
  },
  {
   "cell_type": "code",
   "execution_count": 4,
   "id": "7772c948-2ca9-4475-922b-b0ef19b9c500",
   "metadata": {},
   "outputs": [],
   "source": [
    "from math import prod\n",
    "def sample(val, n):\n",
    "    \"\"\"\n",
    "    Perform ordered sampling without replacement\n",
    "    \"\"\"\n",
    "    assert n > 0, \"not valid for n < 1\"\n",
    "    vals = []\n",
    "    while n:\n",
    "        vals.append(val)\n",
    "        val -= 1\n",
    "        n -= 1\n",
    "    return prod(vals)\n",
    "\n",
    "def F_ijij(weights, n):\n",
    "    w_AB, w_Ab, w_aB = weights\n",
    "    return (\n",
    "        sample(w_AB, 2) / sample(n, 2)\n",
    "    )\n",
    "\n",
    "def F_ijik(weights, n):\n",
    "    w_AB, w_Ab, w_aB = weights\n",
    "    return (\n",
    "        (sample(w_AB, 3)) +\n",
    "        (sample(w_AB, 2) * sample(w_Ab, 1)) +\n",
    "        (sample(w_AB, 2) * sample(w_aB, 1)) +\n",
    "        (sample(w_AB, 1) * sample(w_Ab, 1) * sample(w_aB, 1))\n",
    "    ) / sample(n, 3)\n",
    "\n",
    "def F_ijkl(weights, n):\n",
    "    w_AB, w_Ab, w_aB = weights\n",
    "    return (\n",
    "        (1 * (sample(w_AB, 4))) +\n",
    "        (2 * (sample(w_AB, 3) * sample(w_Ab, 1))) +\n",
    "        (2 * (sample(w_AB, 3) * sample(w_aB, 1))) +\n",
    "        (1 * (sample(w_AB, 2) * sample(w_Ab, 2))) +\n",
    "        (1 * (sample(w_AB, 2) * sample(w_aB, 2))) +\n",
    "        (1 * (sample(w_Ab, 2) * sample(w_aB, 2))) +\n",
    "        (4 * (sample(w_AB, 2) * sample(w_Ab, 1) * sample(w_aB, 1))) +\n",
    "        (2 * (sample(w_AB, 1) * sample(w_Ab, 2) * sample(w_aB, 1))) +\n",
    "        (2 * (sample(w_AB, 1) * sample(w_Ab, 1) * sample(w_aB, 2)))\n",
    "    ) / sample(n, 4)"
   ]
  },
  {
   "cell_type": "code",
   "execution_count": 44,
   "id": "52253ab0-6ea9-4201-98c8-661249b6aa21",
   "metadata": {},
   "outputs": [
    {
     "data": {
      "text/plain": [
       "2.4"
      ]
     },
     "execution_count": 44,
     "metadata": {},
     "output_type": "execute_result"
    }
   ],
   "source": [
    "D2 = 0\n",
    "for l in range(num_nodes_0):\n",
    "    for r in range(num_nodes_1):\n",
    "        weights = get_weights(samples_0[l], samples_1[r])\n",
    "        D2 += (\n",
    "            F_ijij(weights, num_samples)\n",
    "            - 2 * F_ijik(weights, num_samples)\n",
    "            + F_ijkl(weights, num_samples)\n",
    "        ) * branch_len_0[l] * branch_len_1[r]\n",
    "D2"
   ]
  },
  {
   "cell_type": "code",
   "execution_count": 75,
   "id": "d503ca53-9a7b-4a86-943c-2f6b56c60c1c",
   "metadata": {},
   "outputs": [
    {
     "data": {
      "text/plain": [
       "6.233333333333333"
      ]
     },
     "execution_count": 75,
     "metadata": {},
     "output_type": "execute_result"
    }
   ],
   "source": [
    "D2 = 0\n",
    "for l in [0, 1, 3, 4, 2, 5, 6, 7]:\n",
    "    for r in [0, 1, 3, 4, 2, 5, 6, 7]:\n",
    "        weights = get_weights(samples_0[l], samples_0[r])\n",
    "        D2 += (\n",
    "            F_ijij(weights, num_samples)\n",
    "            - 2 * F_ijik(weights, num_samples)\n",
    "            + F_ijkl(weights, num_samples)\n",
    "        ) * branch_len_0[l] * branch_len_0[r]\n",
    "D2\n",
    "# 6.233333333333334"
   ]
  },
  {
   "cell_type": "code",
   "execution_count": 76,
   "id": "e53049ce-3375-4840-9e49-26300ee57ad8",
   "metadata": {},
   "outputs": [
    {
     "data": {
      "text/plain": [
       "0.8666666666666663"
      ]
     },
     "execution_count": 76,
     "metadata": {},
     "output_type": "execute_result"
    }
   ],
   "source": [
    "for l in [7, 6, 4, 3]:\n",
    "    for r in [0, 1, 3, 4, 2, 5, 6, 7]:\n",
    "        weights = get_weights(samples_0[l], samples_0[r])\n",
    "        D2 -= ( F_ijij(weights, num_samples)\n",
    "            - 2 * F_ijik(weights, num_samples)\n",
    "            + F_ijkl(weights, num_samples)\n",
    "        ) * branch_len_0[l] * branch_len_0[r]\n",
    "D2"
   ]
  },
  {
   "cell_type": "code",
   "execution_count": 77,
   "id": "94a74bbd-5fc3-430e-8229-dbeb1f43a00b",
   "metadata": {},
   "outputs": [
    {
     "data": {
      "text/plain": [
       "2.3999999999999995"
      ]
     },
     "execution_count": 77,
     "metadata": {},
     "output_type": "execute_result"
    }
   ],
   "source": [
    "# for l in [0, 1, 3, 4, 2, 5, 6, 7]:\n",
    "for l in [0, 1, 3, 4, 2, 5, 6, 7]:\n",
    "    for r in [3, 7, 4, 8]:\n",
    "        weights = get_weights(samples_0[l], samples_1[r])\n",
    "        D2 += (\n",
    "            F_ijij(weights, num_samples)\n",
    "            - 2 * F_ijik(weights, num_samples)\n",
    "            + F_ijkl(weights, num_samples)\n",
    "        ) * branch_len_0[l] * branch_len_1[r]\n",
    "D2\n",
    "# 2.4"
   ]
  }
 ],
 "metadata": {
  "kernelspec": {
   "display_name": "tskit-dev-2",
   "language": "python",
   "name": "tskit-dev-2"
  },
  "language_info": {
   "codemirror_mode": {
    "name": "ipython",
    "version": 3
   },
   "file_extension": ".py",
   "mimetype": "text/x-python",
   "name": "python",
   "nbconvert_exporter": "python",
   "pygments_lexer": "ipython3",
   "version": "3.11.4"
  }
 },
 "nbformat": 4,
 "nbformat_minor": 5
}
