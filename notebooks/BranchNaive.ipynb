{
 "cells": [
  {
   "cell_type": "code",
   "execution_count": 1,
   "id": "628d1f2f-1e2e-4fee-b360-f0f9e939c11d",
   "metadata": {},
   "outputs": [],
   "source": [
    "from itertools import combinations, product\n",
    "import math\n",
    "\n",
    "import tskit\n",
    "import msprime\n",
    "import numpy as np"
   ]
  },
  {
   "cell_type": "code",
   "execution_count": 40,
   "id": "648c19e2-4069-4c58-b735-1ba87e931626",
   "metadata": {},
   "outputs": [
    {
     "data": {
      "image/svg+xml": [
       "<svg baseProfile=\"full\" height=\"200\" version=\"1.1\" width=\"400\" xmlns=\"http://www.w3.org/2000/svg\" xmlns:ev=\"http://www.w3.org/2001/xml-events\" xmlns:xlink=\"http://www.w3.org/1999/xlink\"><defs><style type=\"text/css\"><![CDATA[.background path {fill: #808080; fill-opacity: 0}.background path:nth-child(odd) {fill-opacity: .1}.axes {font-size: 14px}.x-axis .tick .lab {font-weight: bold; dominant-baseline: hanging}.axes, .tree {font-size: 14px; text-anchor: middle}.axes line, .edge {stroke: black; fill: none}.axes .ax-skip {stroke-dasharray: 4}.y-axis .grid {stroke: #FAFAFA}.node > .sym {fill: black; stroke: none}.site > .sym {stroke: black}.mut text {fill: red; font-style: italic}.mut.extra text {fill: hotpink}.mut line {fill: none; stroke: none}.mut .sym {fill: none; stroke: red}.mut.extra .sym {stroke: hotpink}.node .mut .sym {stroke-width: 1.5px}.tree text, .tree-sequence text {dominant-baseline: central}.plotbox .lab.lft {text-anchor: end}.plotbox .lab.rgt {text-anchor: start}]]></style></defs><g class=\"tree-sequence\"><g class=\"background\"><path d=\"M56.8,0 l161.6,0 l0,138.2 l2.84217e-14,25 l0,5 l-161.6,0 l0,-5 l0,-25 l0,-138.2z\" /><path d=\"M218.4,0 l161.6,0 l0,138.2 l0,25 l0,5 l-161.6,0 l0,-5 l0,-25 l0,-138.2z\" /></g><g class=\"axes\"><g class=\"x-axis\"><g class=\"title\" transform=\"translate(218.4 200)\"><text class=\"lab\" text-anchor=\"middle\" transform=\"translate(0 -11)\">Genome position</text></g><line class=\"ax-line\" x1=\"56.8\" x2=\"380\" y1=\"163.2\" y2=\"163.2\" /><g class=\"ticks\"><g class=\"tick\" transform=\"translate(56.8 163.2)\"><line x1=\"0\" x2=\"0\" y1=\"0\" y2=\"5\" /><g transform=\"translate(0 6)\"><text class=\"lab\">0</text></g></g><g class=\"tick\" transform=\"translate(218.4 163.2)\"><line x1=\"0\" x2=\"0\" y1=\"0\" y2=\"5\" /><g transform=\"translate(0 6)\"><text class=\"lab\">1</text></g></g><g class=\"tick\" transform=\"translate(380 163.2)\"><line x1=\"0\" x2=\"0\" y1=\"0\" y2=\"5\" /><g transform=\"translate(0 6)\"><text class=\"lab\">2</text></g></g></g></g><g class=\"y-axis\"><g class=\"title\" transform=\"translate(0 65.7)\"><text class=\"lab\" text-anchor=\"middle\" transform=\"translate(11) rotate(-90)\">Time</text></g><line class=\"ax-line\" x1=\"56.8\" x2=\"56.8\" y1=\"121.4\" y2=\"10\" /><g class=\"ticks\"><g class=\"tick\" transform=\"translate(56.8 121.4)\"><line x1=\"0\" x2=\"-5\" y1=\"0\" y2=\"0\" /><g transform=\"translate(-6 0)\"><text class=\"lab\" text-anchor=\"end\">0</text></g></g><g class=\"tick\" transform=\"translate(56.8 67.3429)\"><line x1=\"0\" x2=\"-5\" y1=\"0\" y2=\"0\" /><g transform=\"translate(-6 0)\"><text class=\"lab\" text-anchor=\"end\">4</text></g></g><g class=\"tick\" transform=\"translate(56.8 53.8286)\"><line x1=\"0\" x2=\"-5\" y1=\"0\" y2=\"0\" /><g transform=\"translate(-6 0)\"><text class=\"lab\" text-anchor=\"end\">5</text></g></g><g class=\"tick\" transform=\"translate(56.8 40.3143)\"><line x1=\"0\" x2=\"-5\" y1=\"0\" y2=\"0\" /><g transform=\"translate(-6 0)\"><text class=\"lab\" text-anchor=\"end\">6</text></g></g><g class=\"tick\" transform=\"translate(56.8 26.8)\"><line x1=\"0\" x2=\"-5\" y1=\"0\" y2=\"0\" /><g transform=\"translate(-6 0)\"><text class=\"lab\" text-anchor=\"end\">7</text></g></g></g></g></g><g class=\"plotbox trees\"><g class=\"tree t0\" transform=\"translate(56.8 0)\"><g class=\"plotbox\"><g class=\"c2 node n6 root\" transform=\"translate(80.8 40.3143)\"><g class=\"a6 c2 node n4\" transform=\"translate(-30.4 27.0286)\"><g class=\"a4 leaf node n0 sample\" transform=\"translate(-15.2 54.0571)\"><path class=\"edge\" d=\"M 0 0 V -54.0571 H 15.2\" /><rect class=\"sym\" height=\"6\" width=\"6\" x=\"-3\" y=\"-3\" /><text class=\"lab\" transform=\"translate(0 11)\">0</text></g><g class=\"a4 leaf node n1 sample\" transform=\"translate(15.2 54.0571)\"><path class=\"edge\" d=\"M 0 0 V -54.0571 H -15.2\" /><rect class=\"sym\" height=\"6\" width=\"6\" x=\"-3\" y=\"-3\" /><text class=\"lab\" transform=\"translate(0 11)\">1</text></g><path class=\"edge\" d=\"M 0 0 V -27.0286 H 30.4\" /><circle class=\"sym\" cx=\"0\" cy=\"0\" r=\"3\" /><text class=\"lab lft\" transform=\"translate(-3 -7.0)\">4</text></g><g class=\"a6 c2 node n5\" transform=\"translate(30.4 13.5143)\"><g class=\"a5 leaf node n2 sample\" transform=\"translate(-15.2 67.5714)\"><path class=\"edge\" d=\"M 0 0 V -67.5714 H 15.2\" /><rect class=\"sym\" height=\"6\" width=\"6\" x=\"-3\" y=\"-3\" /><text class=\"lab\" transform=\"translate(0 11)\">2</text></g><g class=\"a5 leaf node n3 sample\" transform=\"translate(15.2 67.5714)\"><path class=\"edge\" d=\"M 0 0 V -67.5714 H -15.2\" /><rect class=\"sym\" height=\"6\" width=\"6\" x=\"-3\" y=\"-3\" /><text class=\"lab\" transform=\"translate(0 11)\">3</text></g><path class=\"edge\" d=\"M 0 0 V -13.5143 H -30.4\" /><circle class=\"sym\" cx=\"0\" cy=\"0\" r=\"3\" /><text class=\"lab rgt\" transform=\"translate(3 -7.0)\">5</text></g><circle class=\"sym\" cx=\"0\" cy=\"0\" r=\"3\" /><text class=\"lab\" transform=\"translate(0 -11)\">6</text></g></g></g><g class=\"tree t1\" transform=\"translate(218.4 0)\"><g class=\"plotbox\"><g class=\"c2 node n7 root\" transform=\"translate(80.8 26.8)\"><g class=\"a7 c2 node n4\" transform=\"translate(-30.4 40.5429)\"><g class=\"a4 leaf node n0 sample\" transform=\"translate(-15.2 54.0571)\"><path class=\"edge\" d=\"M 0 0 V -54.0571 H 15.2\" /><rect class=\"sym\" height=\"6\" width=\"6\" x=\"-3\" y=\"-3\" /><text class=\"lab\" transform=\"translate(0 11)\">0</text></g><g class=\"a4 leaf node n1 sample\" transform=\"translate(15.2 54.0571)\"><path class=\"edge\" d=\"M 0 0 V -54.0571 H -15.2\" /><rect class=\"sym\" height=\"6\" width=\"6\" x=\"-3\" y=\"-3\" /><text class=\"lab\" transform=\"translate(0 11)\">1</text></g><path class=\"edge\" d=\"M 0 0 V -40.5429 H 30.4\" /><circle class=\"sym\" cx=\"0\" cy=\"0\" r=\"3\" /><text class=\"lab lft\" transform=\"translate(-3 -7.0)\">4</text></g><g class=\"a7 c2 node n5\" transform=\"translate(30.4 27.0286)\"><g class=\"a5 leaf node n2 sample\" transform=\"translate(-15.2 67.5714)\"><path class=\"edge\" d=\"M 0 0 V -67.5714 H 15.2\" /><rect class=\"sym\" height=\"6\" width=\"6\" x=\"-3\" y=\"-3\" /><text class=\"lab\" transform=\"translate(0 11)\">2</text></g><g class=\"a5 leaf node n3 sample\" transform=\"translate(15.2 67.5714)\"><path class=\"edge\" d=\"M 0 0 V -67.5714 H -15.2\" /><rect class=\"sym\" height=\"6\" width=\"6\" x=\"-3\" y=\"-3\" /><text class=\"lab\" transform=\"translate(0 11)\">3</text></g><path class=\"edge\" d=\"M 0 0 V -27.0286 H -30.4\" /><circle class=\"sym\" cx=\"0\" cy=\"0\" r=\"3\" /><text class=\"lab rgt\" transform=\"translate(3 -7.0)\">5</text></g><circle class=\"sym\" cx=\"0\" cy=\"0\" r=\"3\" /><text class=\"lab\" transform=\"translate(0 -11)\">7</text></g></g></g></g></g></svg>"
      ],
      "text/plain": [
       "'<svg baseProfile=\"full\" height=\"200\" version=\"1.1\" width=\"400\" xmlns=\"http://www.w3.org/2000/svg\" xmlns:ev=\"http://www.w3.org/2001/xml-events\" xmlns:xlink=\"http://www.w3.org/1999/xlink\"><defs><style type=\"text/css\"><![CDATA[.background path {fill: #808080; fill-opacity: 0}.background path:nth-child(odd) {fill-opacity: .1}.axes {font-size: 14px}.x-axis .tick .lab {font-weight: bold; dominant-baseline: hanging}.axes, .tree {font-size: 14px; text-anchor: middle}.axes line, .edge {stroke: black; fill: none}.axes .ax-skip {stroke-dasharray: 4}.y-axis .grid {stroke: #FAFAFA}.node > .sym {fill: black; stroke: none}.site > .sym {stroke: black}.mut text {fill: red; font-style: italic}.mut.extra text {fill: hotpink}.mut line {fill: none; stroke: none}.mut .sym {fill: none; stroke: red}.mut.extra .sym {stroke: hotpink}.node .mut .sym {stroke-width: 1.5px}.tree text, .tree-sequence text {dominant-baseline: central}.plotbox .lab.lft {text-anchor: end}.plotbox .lab.rgt {text-anchor: start}]]></style></defs><g class=\"tree-sequence\"><g class=\"background\"><path d=\"M56.8,0 l161.6,0 l0,138.2 l2.84217e-14,25 l0,5 l-161.6,0 l0,-5 l0,-25 l0,-138.2z\" /><path d=\"M218.4,0 l161.6,0 l0,138.2 l0,25 l0,5 l-161.6,0 l0,-5 l0,-25 l0,-138.2z\" /></g><g class=\"axes\"><g class=\"x-axis\"><g class=\"title\" transform=\"translate(218.4 200)\"><text class=\"lab\" text-anchor=\"middle\" transform=\"translate(0 -11)\">Genome position</text></g><line class=\"ax-line\" x1=\"56.8\" x2=\"380\" y1=\"163.2\" y2=\"163.2\" /><g class=\"ticks\"><g class=\"tick\" transform=\"translate(56.8 163.2)\"><line x1=\"0\" x2=\"0\" y1=\"0\" y2=\"5\" /><g transform=\"translate(0 6)\"><text class=\"lab\">0</text></g></g><g class=\"tick\" transform=\"translate(218.4 163.2)\"><line x1=\"0\" x2=\"0\" y1=\"0\" y2=\"5\" /><g transform=\"translate(0 6)\"><text class=\"lab\">1</text></g></g><g class=\"tick\" transform=\"translate(380 163.2)\"><line x1=\"0\" x2=\"0\" y1=\"0\" y2=\"5\" /><g transform=\"translate(0 6)\"><text class=\"lab\">2</text></g></g></g></g><g class=\"y-axis\"><g class=\"title\" transform=\"translate(0 65.7)\"><text class=\"lab\" text-anchor=\"middle\" transform=\"translate(11) rotate(-90)\">Time</text></g><line class=\"ax-line\" x1=\"56.8\" x2=\"56.8\" y1=\"121.4\" y2=\"10\" /><g class=\"ticks\"><g class=\"tick\" transform=\"translate(56.8 121.4)\"><line x1=\"0\" x2=\"-5\" y1=\"0\" y2=\"0\" /><g transform=\"translate(-6 0)\"><text class=\"lab\" text-anchor=\"end\">0</text></g></g><g class=\"tick\" transform=\"translate(56.8 67.3429)\"><line x1=\"0\" x2=\"-5\" y1=\"0\" y2=\"0\" /><g transform=\"translate(-6 0)\"><text class=\"lab\" text-anchor=\"end\">4</text></g></g><g class=\"tick\" transform=\"translate(56.8 53.8286)\"><line x1=\"0\" x2=\"-5\" y1=\"0\" y2=\"0\" /><g transform=\"translate(-6 0)\"><text class=\"lab\" text-anchor=\"end\">5</text></g></g><g class=\"tick\" transform=\"translate(56.8 40.3143)\"><line x1=\"0\" x2=\"-5\" y1=\"0\" y2=\"0\" /><g transform=\"translate(-6 0)\"><text class=\"lab\" text-anchor=\"end\">6</text></g></g><g class=\"tick\" transform=\"translate(56.8 26.8)\"><line x1=\"0\" x2=\"-5\" y1=\"0\" y2=\"0\" /><g transform=\"translate(-6 0)\"><text class=\"lab\" text-anchor=\"end\">7</text></g></g></g></g></g><g class=\"plotbox trees\"><g class=\"tree t0\" transform=\"translate(56.8 0)\"><g class=\"plotbox\"><g class=\"c2 node n6 root\" transform=\"translate(80.8 40.3143)\"><g class=\"a6 c2 node n4\" transform=\"translate(-30.4 27.0286)\"><g class=\"a4 leaf node n0 sample\" transform=\"translate(-15.2 54.0571)\"><path class=\"edge\" d=\"M 0 0 V -54.0571 H 15.2\" /><rect class=\"sym\" height=\"6\" width=\"6\" x=\"-3\" y=\"-3\" /><text class=\"lab\" transform=\"translate(0 11)\">0</text></g><g class=\"a4 leaf node n1 sample\" transform=\"translate(15.2 54.0571)\"><path class=\"edge\" d=\"M 0 0 V -54.0571 H -15.2\" /><rect class=\"sym\" height=\"6\" width=\"6\" x=\"-3\" y=\"-3\" /><text class=\"lab\" transform=\"translate(0 11)\">1</text></g><path class=\"edge\" d=\"M 0 0 V -27.0286 H 30.4\" /><circle class=\"sym\" cx=\"0\" cy=\"0\" r=\"3\" /><text class=\"lab lft\" transform=\"translate(-3 -7.0)\">4</text></g><g class=\"a6 c2 node n5\" transform=\"translate(30.4 13.5143)\"><g class=\"a5 leaf node n2 sample\" transform=\"translate(-15.2 67.5714)\"><path class=\"edge\" d=\"M 0 0 V -67.5714 H 15.2\" /><rect class=\"sym\" height=\"6\" width=\"6\" x=\"-3\" y=\"-3\" /><text class=\"lab\" transform=\"translate(0 11)\">2</text></g><g class=\"a5 leaf node n3 sample\" transform=\"translate(15.2 67.5714)\"><path class=\"edge\" d=\"M 0 0 V -67.5714 H -15.2\" /><rect class=\"sym\" height=\"6\" width=\"6\" x=\"-3\" y=\"-3\" /><text class=\"lab\" transform=\"translate(0 11)\">3</text></g><path class=\"edge\" d=\"M 0 0 V -13.5143 H -30.4\" /><circle class=\"sym\" cx=\"0\" cy=\"0\" r=\"3\" /><text class=\"lab rgt\" transform=\"translate(3 -7.0)\">5</text></g><circle class=\"sym\" cx=\"0\" cy=\"0\" r=\"3\" /><text class=\"lab\" transform=\"translate(0 -11)\">6</text></g></g></g><g class=\"tree t1\" transform=\"translate(218.4 0)\"><g class=\"plotbox\"><g class=\"c2 node n7 root\" transform=\"translate(80.8 26.8)\"><g class=\"a7 c2 node n4\" transform=\"translate(-30.4 40.5429)\"><g class=\"a4 leaf node n0 sample\" transform=\"translate(-15.2 54.0571)\"><path class=\"edge\" d=\"M 0 0 V -54.0571 H 15.2\" /><rect class=\"sym\" height=\"6\" width=\"6\" x=\"-3\" y=\"-3\" /><text class=\"lab\" transform=\"translate(0 11)\">0</text></g><g class=\"a4 leaf node n1 sample\" transform=\"translate(15.2 54.0571)\"><path class=\"edge\" d=\"M 0 0 V -54.0571 H -15.2\" /><rect class=\"sym\" height=\"6\" width=\"6\" x=\"-3\" y=\"-3\" /><text class=\"lab\" transform=\"translate(0 11)\">1</text></g><path class=\"edge\" d=\"M 0 0 V -40.5429 H 30.4\" /><circle class=\"sym\" cx=\"0\" cy=\"0\" r=\"3\" /><text class=\"lab lft\" transform=\"translate(-3 -7.0)\">4</text></g><g class=\"a7 c2 node n5\" transform=\"translate(30.4 27.0286)\"><g class=\"a5 leaf node n2 sample\" transform=\"translate(-15.2 67.5714)\"><path class=\"edge\" d=\"M 0 0 V -67.5714 H 15.2\" /><rect class=\"sym\" height=\"6\" width=\"6\" x=\"-3\" y=\"-3\" /><text class=\"lab\" transform=\"translate(0 11)\">2</text></g><g class=\"a5 leaf node n3 sample\" transform=\"translate(15.2 67.5714)\"><path class=\"edge\" d=\"M 0 0 V -67.5714 H -15.2\" /><rect class=\"sym\" height=\"6\" width=\"6\" x=\"-3\" y=\"-3\" /><text class=\"lab\" transform=\"translate(0 11)\">3</text></g><path class=\"edge\" d=\"M 0 0 V -27.0286 H -30.4\" /><circle class=\"sym\" cx=\"0\" cy=\"0\" r=\"3\" /><text class=\"lab rgt\" transform=\"translate(3 -7.0)\">5</text></g><circle class=\"sym\" cx=\"0\" cy=\"0\" r=\"3\" /><text class=\"lab\" transform=\"translate(0 -11)\">7</text></g></g></g></g></g></svg>'"
      ]
     },
     "execution_count": 40,
     "metadata": {},
     "output_type": "execute_result"
    }
   ],
   "source": [
    "import io\n",
    "import tskit\n",
    "\n",
    "nodes = \"\"\"\\\n",
    "is_sample time\n",
    "1         0\n",
    "1         0\n",
    "1         0\n",
    "1         0\n",
    "1         0\n",
    "0         2\n",
    "0         3\n",
    "0         4\n",
    "0         6\n",
    "0         7\n",
    "\"\"\"\n",
    "\n",
    "edges = \"\"\"\\\n",
    "left   right   parent  child\n",
    "0      20      5       0,1\n",
    "0      10      6       3,4\n",
    "0      20      7       5,2\n",
    "0      10      9       7,6\n",
    "10     20      8       7,3\n",
    "10     20      9       8,4\n",
    "\"\"\"\n",
    "\n",
    "nodes = \"\"\"\\\n",
    "is_sample time\n",
    "1         0\n",
    "1         0\n",
    "1         0\n",
    "1         0\n",
    "0         4\n",
    "0         5\n",
    "0         6\n",
    "0         7\n",
    "\"\"\"\n",
    "edges = \"\"\"\\\n",
    "left   right   parent  child\n",
    "0      2       4       0,1\n",
    "0      2       5       2,3\n",
    "0      1       6       4,5\n",
    "1      2       7       4,5\n",
    "\"\"\"\n",
    "\n",
    "# sites = \"\"\"\\\n",
    "# position ancestral_state\n",
    "# \"\"\"\n",
    "\n",
    "# mutations = \"\"\"\\\n",
    "# site node parent derived_state\n",
    "# \"\"\"\n",
    "\n",
    "ts = tskit.load_text(\n",
    "    nodes=io.StringIO(nodes),\n",
    "    edges=io.StringIO(edges),\n",
    "    # sites=io.StringIO(sites),\n",
    "    # mutations=io.StringIO(mutations),\n",
    "    strict=False,\n",
    ")\n",
    "\n",
    "ts.draw_svg(y_axis=True)"
   ]
  },
  {
   "cell_type": "code",
   "execution_count": 52,
   "id": "07c56240-8b6f-4318-aede-511a38e43465",
   "metadata": {},
   "outputs": [
    {
     "data": {
      "text/plain": [
       "(4236067.296980768, 40051916.98423794, 49274798.26322764)"
      ]
     },
     "execution_count": 52,
     "metadata": {},
     "output_type": "execute_result"
    }
   ],
   "source": [
    "x = ts.at_index(0)\n",
    "y = ts.at_index(1)\n",
    "ij, ijk, ijkl = combine(ts.samples())\n",
    "# stats.append(compute_D2(ts, x, y, ij, ijk, ijkl, mu=2e-8))\n",
    "compute_D2(ts, x, y, ij, ijk, ijkl, mu=1), compute_Dz(x, y, ijk, ijkl, mu=1), compute_pi2(x, y, ijkl, mu=1)"
   ]
  },
  {
   "cell_type": "code",
   "execution_count": 53,
   "id": "8ff45a4c-8943-418d-b7eb-5b91c5718427",
   "metadata": {},
   "outputs": [
    {
     "data": {
      "text/plain": [
       "4236067.296980768"
      ]
     },
     "execution_count": 53,
     "metadata": {},
     "output_type": "execute_result"
    }
   ],
   "source": [
    "compute_D2(ts, x, y, ij, ijk, ijkl)"
   ]
  },
  {
   "cell_type": "code",
   "execution_count": 57,
   "id": "f333eb28-0449-4cf7-a8fa-3695cf248cd5",
   "metadata": {},
   "outputs": [
    {
     "data": {
      "text/plain": [
       "49274798.26322764"
      ]
     },
     "execution_count": 57,
     "metadata": {},
     "output_type": "execute_result"
    }
   ],
   "source": [
    "compute_pi2(x, y, ijkl, mu=1)"
   ]
  },
  {
   "cell_type": "code",
   "execution_count": null,
   "id": "c53bee4c-c1ba-4de3-9954-08def647164d",
   "metadata": {},
   "outputs": [],
   "source": []
  },
  {
   "cell_type": "code",
   "execution_count": 56,
   "id": "ea30d56a-4ac1-436f-b820-805acfb84572",
   "metadata": {},
   "outputs": [
    {
     "data": {
      "text/plain": [
       "49274798.26322764"
      ]
     },
     "execution_count": 56,
     "metadata": {},
     "output_type": "execute_result"
    }
   ],
   "source": [
    "np.mean([x.tmrca(i, j) * y.tmrca(k, l) for i, j, k, l in ijkl])"
   ]
  },
  {
   "cell_type": "code",
   "execution_count": 38,
   "id": "7b516e3e-acc0-44bf-841e-e27c49d736d8",
   "metadata": {},
   "outputs": [
    {
     "name": "stdout",
     "output_type": "stream",
     "text": [
      "T 330.0\n",
      "E 33.0 30.566666666666666 30.533333333333335\n"
     ]
    },
    {
     "data": {
      "text/plain": [
       "2.400000000000002"
      ]
     },
     "execution_count": 38,
     "metadata": {},
     "output_type": "execute_result"
    }
   ],
   "source": [
    "compute_D2(ts, ts.at_index(0), ts.at_index(1), ij, ijk, ijkl)"
   ]
  },
  {
   "cell_type": "code",
   "execution_count": 34,
   "id": "37aa0b8c-e95e-49c6-84ca-705d24e5e8ae",
   "metadata": {},
   "outputs": [
    {
     "name": "stdout",
     "output_type": "stream",
     "text": [
      "T 339.0\n",
      "E 5.9 1.3 2.933333333333333\n"
     ]
    },
    {
     "data": {
      "text/plain": [
       "6.233333333333333"
      ]
     },
     "execution_count": 34,
     "metadata": {},
     "output_type": "execute_result"
    }
   ],
   "source": [
    "compute_D2_I(ts, x, y, ij, ijk, ijkl)"
   ]
  },
  {
   "cell_type": "code",
   "execution_count": 26,
   "id": "80524e9f-0291-4b29-8a9d-8a2f093dd481",
   "metadata": {},
   "outputs": [
    {
     "data": {
      "text/plain": [
       "[(0, 1, 2),\n",
       " (0, 1, 3),\n",
       " (0, 2, 1),\n",
       " (0, 2, 3),\n",
       " (0, 3, 1),\n",
       " (0, 3, 2),\n",
       " (1, 0, 2),\n",
       " (1, 0, 3),\n",
       " (1, 2, 0),\n",
       " (1, 2, 3),\n",
       " (1, 3, 0),\n",
       " (1, 3, 2),\n",
       " (2, 0, 1),\n",
       " (2, 0, 3),\n",
       " (2, 1, 0),\n",
       " (2, 1, 3),\n",
       " (2, 3, 0),\n",
       " (2, 3, 1),\n",
       " (3, 0, 1),\n",
       " (3, 0, 2),\n",
       " (3, 1, 0),\n",
       " (3, 1, 2),\n",
       " (3, 2, 0),\n",
       " (3, 2, 1)]"
      ]
     },
     "execution_count": 26,
     "metadata": {},
     "output_type": "execute_result"
    }
   ],
   "source": [
    "combine(range(4))[1]"
   ]
  },
  {
   "cell_type": "code",
   "execution_count": 3,
   "id": "70d522c3-002a-44ca-805d-a1e5802d2361",
   "metadata": {},
   "outputs": [],
   "source": [
    "def combine(samples):\n",
    "    ij = list(combinations(samples, 2))\n",
    "    ijk = [(i, j, k) for i, j, k in product(samples, repeat=3)\n",
    "           if i != k and i != j and j != k]\n",
    "    ijkl = [(i, j, k, l) for i, j in combinations(samples, 2)\n",
    "            for k in range(len(samples))\n",
    "            for l in range(k + 1, len(samples))\n",
    "            if i != k and j != k and l != i and l != j]\n",
    "    return ij, ijk, ijkl"
   ]
  },
  {
   "cell_type": "code",
   "execution_count": 43,
   "id": "508a4a73-cb89-4781-8f09-a496adf3a91e",
   "metadata": {},
   "outputs": [],
   "source": [
    "def compute_D2(ts, x, y, ij, ijk, ijkl, norm=False, mu=None):\n",
    "    E_ijij = np.mean([x.tmrca(i, j) * y.tmrca(i, j) for i, j in ij]) \n",
    "    E_ijik = np.mean([x.tmrca(i, j) * y.tmrca(i, k) for i, j, k in ijk])\n",
    "    E_ijkl = np.mean([x.tmrca(i, j) * y.tmrca(k, l) for i, j, k, l in ijkl])\n",
    "    # print('T', sum([x.tmrca(i, j) * y.tmrca(i, j) for i, j in ij]))\n",
    "    # print('E', E_ijij, E_ijik, E_ijkl)\n",
    "    D2 = E_ijij - 2 * E_ijik + E_ijkl\n",
    "    if norm:\n",
    "        T_xy = ts.get_time(x.root) * ts.get_time(y.root)\n",
    "        return D2 / T_xy\n",
    "    elif mu:\n",
    "        return D2 * (mu ** 2)\n",
    "    return D2"
   ]
  },
  {
   "cell_type": "code",
   "execution_count": 18,
   "id": "52adca6e-ad61-4dab-b2a3-0d0a7c1da5b2",
   "metadata": {},
   "outputs": [],
   "source": [
    "def compute_D2_I(ts, x, y, ij, ijk, ijkl, norm=False, mu=None):\n",
    "    T_x = ts.tables.nodes.time[x.root]\n",
    "    T_y = ts.tables.nodes.time[y.root]\n",
    "    E_ijij = np.mean([(T_x - x.tmrca(i, j)) * (T_y - y.tmrca(i, j)) for i, j in ij]) \n",
    "    E_ijik = np.mean([(T_x - x.tmrca(i, j)) * (T_y - y.tmrca(i, k)) for i, j, k in ijk])\n",
    "    E_ijkl = np.mean([(T_x - x.tmrca(i, j)) * (T_y - y.tmrca(k, l)) for i, j, k, l in ijkl])\n",
    "    print('T', sum([x.tmrca(i, j) * y.tmrca(i, j) for i, j in ij]))\n",
    "    print('E', E_ijij, E_ijik, E_ijkl)\n",
    "    D2 = E_ijij - 2 * E_ijik + E_ijkl\n",
    "    if norm:\n",
    "        T_xy = ts.get_time(x.root) * ts.get_time(y.root)\n",
    "        return D2 / T_xy\n",
    "    elif mu:\n",
    "        return D2 * (mu ** 2)\n",
    "    return D2"
   ]
  },
  {
   "cell_type": "code",
   "execution_count": 49,
   "id": "6cb3367d-a188-4ed0-93c0-17a40f38d302",
   "metadata": {},
   "outputs": [],
   "source": [
    "def compute_pi2(x, y, ijkl, mu):\n",
    "    E_ijkl = np.mean([x.tmrca(i, j) * y.tmrca(k, l) for i, j, k, l in ijkl])\n",
    "    return E_ijkl * (mu ** 2)"
   ]
  },
  {
   "cell_type": "code",
   "execution_count": 6,
   "id": "e1c60566-d2fb-463b-9e38-60f182300acc",
   "metadata": {},
   "outputs": [],
   "source": [
    "def compute_Dz(x, y, ijk, ijkl, mu):\n",
    "    E_ijik = np.mean([x.tmrca(i, j) * y.tmrca(i, k) for i, j, k in ijk])\n",
    "    E_ijkl = np.mean([x.tmrca(i, j) * y.tmrca(k, l) for i, j, k, l in ijkl])\n",
    "    return 4 * (E_ijik - E_ijkl) * (mu ** 2)"
   ]
  },
  {
   "cell_type": "code",
   "execution_count": null,
   "id": "0c4bc694-ce1a-4851-9bdc-9de5ee3d62bd",
   "metadata": {},
   "outputs": [],
   "source": [
    "def ld_matrix_branch(pos):\n",
    "    for "
   ]
  },
  {
   "cell_type": "code",
   "execution_count": 46,
   "id": "081cdae0-93b3-41f8-a7c2-c93eb37c2c6e",
   "metadata": {},
   "outputs": [
    {
     "name": "stdout",
     "output_type": "stream",
     "text": [
      "[7.06553131e-09 1.85878032e-09 1.61133246e-07]\n",
      "[7.09357418e-09 1.88674227e-09 1.61066552e-07]\n",
      "[6.97829797e-09 2.29045879e-09 1.61044887e-07]\n",
      "[7.11350386e-09 1.81144869e-09 1.61089826e-07]\n",
      "[7.09954952e-09 1.55200385e-09 1.61082243e-07]\n",
      "[7.13260564e-09 2.05147532e-09 1.61086143e-07]\n",
      "[7.04682312e-09 1.83031389e-09 1.61233355e-07]\n",
      "[6.98053033e-09 2.14491890e-09 1.61161069e-07]\n",
      "[7.10697794e-09 1.99953618e-09 1.61052495e-07]\n",
      "[7.01025189e-09 2.02500391e-09 1.61011647e-07]\n",
      "[7.16727322e-09 1.54750461e-09 1.61383448e-07]\n",
      "[7.02088142e-09 1.82693923e-09 1.60864015e-07]\n",
      "[7.02198264e-09 1.94351103e-09 1.60920020e-07]\n",
      "[7.09254491e-09 1.96663023e-09 1.60860867e-07]\n",
      "[7.18101638e-09 1.71696209e-09 1.60926565e-07]\n",
      "[7.03008572e-09 1.94535786e-09 1.61098467e-07]\n",
      "[7.11115784e-09 1.72659917e-09 1.61102882e-07]\n",
      "[7.12525984e-09 1.58110805e-09 1.61190934e-07]\n",
      "[7.03413492e-09 2.06483629e-09 1.60999271e-07]\n",
      "[7.11853573e-09 1.81143110e-09 1.61279035e-07]\n",
      "[6.99920660e-09 2.09422463e-09 1.61179946e-07]\n",
      "[6.96631027e-09 2.29516359e-09 1.60896079e-07]\n",
      "[7.17051663e-09 1.68687355e-09 1.60998035e-07]\n",
      "[7.24112748e-09 1.82647735e-09 1.61184625e-07]\n",
      "[7.13185687e-09 1.99768248e-09 1.61144956e-07]\n",
      "[7.05683034e-09 1.85790883e-09 1.61206928e-07]\n",
      "[7.07316569e-09 1.78682816e-09 1.61300170e-07]\n",
      "[7.03260555e-09 2.16148333e-09 1.61176610e-07]\n",
      "[7.18536490e-09 1.66042566e-09 1.61153308e-07]\n",
      "[6.94475971e-09 2.16757527e-09 1.60831033e-07]\n",
      "[7.22614364e-09 1.65119041e-09 1.61095695e-07]\n",
      "[7.06266253e-09 1.88817675e-09 1.60751075e-07]\n",
      "[7.07049154e-09 1.96276628e-09 1.61299310e-07]\n",
      "[7.08490349e-09 1.98790080e-09 1.61157579e-07]\n",
      "[7.08931168e-09 2.03377283e-09 1.61374740e-07]\n",
      "[7.02338122e-09 2.06591486e-09 1.61389136e-07]\n",
      "[7.09922454e-09 2.13034973e-09 1.61016960e-07]\n",
      "[7.05248748e-09 2.26524317e-09 1.60910240e-07]\n",
      "[7.04416970e-09 2.09464679e-09 1.60925524e-07]\n",
      "[7.08611239e-09 1.78397991e-09 1.61175930e-07]\n",
      "[7.08707078e-09 1.74287434e-09 1.60857840e-07]\n",
      "[7.10252203e-09 1.91860574e-09 1.60950148e-07]\n",
      "[7.13773099e-09 1.73247718e-09 1.61066162e-07]\n",
      "[7.15368523e-09 1.88890937e-09 1.61393753e-07]\n",
      "[7.05110614e-09 1.92235749e-09 1.61518108e-07]\n",
      "[6.95620669e-09 2.11927128e-09 1.61062734e-07]\n",
      "[7.01752710e-09 2.15367651e-09 1.61235243e-07]\n",
      "[6.91136143e-09 1.88431154e-09 1.61046236e-07]\n",
      "[7.03752666e-09 1.86690264e-09 1.60937780e-07]\n",
      "[7.12430202e-09 1.54699229e-09 1.61135645e-07]\n",
      "[7.22051276e-09 1.46747921e-09 1.61030210e-07]\n",
      "[7.10065904e-09 2.19384829e-09 1.60991180e-07]\n",
      "[7.16115427e-09 1.78414444e-09 1.61144529e-07]\n",
      "[6.99241551e-09 2.37627717e-09 1.60945002e-07]\n",
      "[6.96067268e-09 2.17655188e-09 1.60859028e-07]\n",
      "[7.06689032e-09 1.80028122e-09 1.60955053e-07]\n",
      "[7.04847320e-09 1.81702449e-09 1.61188993e-07]\n",
      "[7.21914837e-09 1.66242295e-09 1.61180647e-07]\n",
      "[7.00032571e-09 2.02043889e-09 1.60990861e-07]\n",
      "[7.19991924e-09 2.07574911e-09 1.60954001e-07]\n",
      "[7.13436743e-09 1.78476195e-09 1.60957771e-07]\n",
      "[7.08965719e-09 1.80427126e-09 1.61353549e-07]\n",
      "[7.05060274e-09 2.01269724e-09 1.60897810e-07]\n",
      "[7.10359257e-09 1.83853018e-09 1.61171387e-07]\n",
      "[7.15040302e-09 1.48903967e-09 1.61490574e-07]\n",
      "[7.08539759e-09 1.84217576e-09 1.61137752e-07]\n",
      "[7.10020207e-09 1.93331643e-09 1.61014450e-07]\n",
      "[7.06860820e-09 2.00930908e-09 1.61211639e-07]\n",
      "[7.04495916e-09 1.96296893e-09 1.61118702e-07]\n",
      "[7.11028132e-09 1.86847809e-09 1.61029246e-07]\n",
      "[6.99729979e-09 2.37655457e-09 1.61003086e-07]\n",
      "[7.1898968e-09 1.9572746e-09 1.6083322e-07]\n",
      "[7.08805835e-09 1.91255650e-09 1.61091944e-07]\n",
      "[7.00766483e-09 1.95969429e-09 1.61217802e-07]\n",
      "[7.04548074e-09 1.93794009e-09 1.60914553e-07]\n",
      "[7.16725235e-09 1.81633059e-09 1.61047532e-07]\n",
      "[7.09969983e-09 1.84313382e-09 1.61009781e-07]\n",
      "[7.00445293e-09 1.93380396e-09 1.61017702e-07]\n",
      "[7.04783247e-09 2.10860644e-09 1.61289333e-07]\n",
      "[7.09174338e-09 1.80941042e-09 1.61083194e-07]\n",
      "[7.03067597e-09 1.93073048e-09 1.60931349e-07]\n",
      "[7.08306214e-09 1.98402422e-09 1.60787820e-07]\n",
      "[7.05815659e-09 2.00566747e-09 1.60924846e-07]\n",
      "[7.07325809e-09 1.90637920e-09 1.60932552e-07]\n",
      "[7.16824440e-09 1.72788326e-09 1.61037190e-07]\n",
      "[6.98413663e-09 2.39719997e-09 1.60962445e-07]\n",
      "[7.06475359e-09 1.91183234e-09 1.61265206e-07]\n",
      "[7.07760981e-09 1.93189971e-09 1.61079337e-07]\n",
      "[7.11033753e-09 1.91778475e-09 1.61172226e-07]\n",
      "[7.11771260e-09 1.92559338e-09 1.60961445e-07]\n",
      "[7.09836949e-09 1.75227582e-09 1.61101034e-07]\n",
      "[6.89041037e-09 2.28271927e-09 1.61081298e-07]\n"
     ]
    },
    {
     "ename": "KeyboardInterrupt",
     "evalue": "",
     "output_type": "error",
     "traceback": [
      "\u001b[0;31m---------------------------------------------------------------------------\u001b[0m",
      "\u001b[0;31mKeyboardInterrupt\u001b[0m                         Traceback (most recent call last)",
      "Cell \u001b[0;32mIn[46], line 17\u001b[0m\n\u001b[1;32m     15\u001b[0m x \u001b[38;5;241m=\u001b[39m ts\u001b[38;5;241m.\u001b[39mat_index(\u001b[38;5;241m0\u001b[39m)\n\u001b[1;32m     16\u001b[0m y \u001b[38;5;241m=\u001b[39m ts\u001b[38;5;241m.\u001b[39mat_index(\u001b[38;5;241m1\u001b[39m)\n\u001b[0;32m---> 17\u001b[0m ij, ijk, ijkl \u001b[38;5;241m=\u001b[39m \u001b[43mcombine\u001b[49m\u001b[43m(\u001b[49m\u001b[43mts\u001b[49m\u001b[38;5;241;43m.\u001b[39;49m\u001b[43msamples\u001b[49m\u001b[43m(\u001b[49m\u001b[43m)\u001b[49m\u001b[43m)\u001b[49m\n\u001b[1;32m     18\u001b[0m \u001b[38;5;66;03m# stats.append(compute_D2(ts, x, y, ij, ijk, ijkl, mu=2e-8))\u001b[39;00m\n\u001b[1;32m     19\u001b[0m stats\u001b[38;5;241m.\u001b[39mappend([\n\u001b[1;32m     20\u001b[0m     compute_D2(ts, x, y, ij, ijk, ijkl, mu\u001b[38;5;241m=\u001b[39m\u001b[38;5;241m2e-8\u001b[39m),\n\u001b[1;32m     21\u001b[0m     compute_Dz(x, y, ijk, ijkl, mu\u001b[38;5;241m=\u001b[39m\u001b[38;5;241m2e-8\u001b[39m),\n\u001b[1;32m     22\u001b[0m     compute_pi2(x, y, ijkl, mu\u001b[38;5;241m=\u001b[39m\u001b[38;5;241m2e-8\u001b[39m)\n\u001b[1;32m     23\u001b[0m ])\n",
      "Cell \u001b[0;32mIn[3], line 5\u001b[0m, in \u001b[0;36mcombine\u001b[0;34m(samples)\u001b[0m\n\u001b[1;32m      2\u001b[0m ij \u001b[38;5;241m=\u001b[39m \u001b[38;5;28mlist\u001b[39m(combinations(samples, \u001b[38;5;241m2\u001b[39m))\n\u001b[1;32m      3\u001b[0m ijk \u001b[38;5;241m=\u001b[39m [(i, j, k) \u001b[38;5;28;01mfor\u001b[39;00m i, j, k \u001b[38;5;129;01min\u001b[39;00m product(samples, repeat\u001b[38;5;241m=\u001b[39m\u001b[38;5;241m3\u001b[39m)\n\u001b[1;32m      4\u001b[0m        \u001b[38;5;28;01mif\u001b[39;00m i \u001b[38;5;241m!=\u001b[39m k \u001b[38;5;129;01mand\u001b[39;00m i \u001b[38;5;241m!=\u001b[39m j \u001b[38;5;129;01mand\u001b[39;00m j \u001b[38;5;241m!=\u001b[39m k]\n\u001b[0;32m----> 5\u001b[0m ijkl \u001b[38;5;241m=\u001b[39m \u001b[43m[\u001b[49m\u001b[43m(\u001b[49m\u001b[43mi\u001b[49m\u001b[43m,\u001b[49m\u001b[43m \u001b[49m\u001b[43mj\u001b[49m\u001b[43m,\u001b[49m\u001b[43m \u001b[49m\u001b[43mk\u001b[49m\u001b[43m,\u001b[49m\u001b[43m \u001b[49m\u001b[43ml\u001b[49m\u001b[43m)\u001b[49m\u001b[43m \u001b[49m\u001b[38;5;28;43;01mfor\u001b[39;49;00m\u001b[43m \u001b[49m\u001b[43mi\u001b[49m\u001b[43m,\u001b[49m\u001b[43m \u001b[49m\u001b[43mj\u001b[49m\u001b[43m \u001b[49m\u001b[38;5;129;43;01min\u001b[39;49;00m\u001b[43m \u001b[49m\u001b[43mcombinations\u001b[49m\u001b[43m(\u001b[49m\u001b[43msamples\u001b[49m\u001b[43m,\u001b[49m\u001b[43m \u001b[49m\u001b[38;5;241;43m2\u001b[39;49m\u001b[43m)\u001b[49m\n\u001b[1;32m      6\u001b[0m \u001b[43m        \u001b[49m\u001b[38;5;28;43;01mfor\u001b[39;49;00m\u001b[43m \u001b[49m\u001b[43mk\u001b[49m\u001b[43m \u001b[49m\u001b[38;5;129;43;01min\u001b[39;49;00m\u001b[43m \u001b[49m\u001b[38;5;28;43mrange\u001b[39;49m\u001b[43m(\u001b[49m\u001b[38;5;28;43mlen\u001b[39;49m\u001b[43m(\u001b[49m\u001b[43msamples\u001b[49m\u001b[43m)\u001b[49m\u001b[43m)\u001b[49m\n\u001b[1;32m      7\u001b[0m \u001b[43m        \u001b[49m\u001b[38;5;28;43;01mfor\u001b[39;49;00m\u001b[43m \u001b[49m\u001b[43ml\u001b[49m\u001b[43m \u001b[49m\u001b[38;5;129;43;01min\u001b[39;49;00m\u001b[43m \u001b[49m\u001b[38;5;28;43mrange\u001b[39;49m\u001b[43m(\u001b[49m\u001b[43mk\u001b[49m\u001b[43m \u001b[49m\u001b[38;5;241;43m+\u001b[39;49m\u001b[43m \u001b[49m\u001b[38;5;241;43m1\u001b[39;49m\u001b[43m,\u001b[49m\u001b[43m \u001b[49m\u001b[38;5;28;43mlen\u001b[39;49m\u001b[43m(\u001b[49m\u001b[43msamples\u001b[49m\u001b[43m)\u001b[49m\u001b[43m)\u001b[49m\n\u001b[1;32m      8\u001b[0m \u001b[43m        \u001b[49m\u001b[38;5;28;43;01mif\u001b[39;49;00m\u001b[43m \u001b[49m\u001b[43mi\u001b[49m\u001b[43m \u001b[49m\u001b[38;5;241;43m!=\u001b[39;49m\u001b[43m \u001b[49m\u001b[43mk\u001b[49m\u001b[43m \u001b[49m\u001b[38;5;129;43;01mand\u001b[39;49;00m\u001b[43m \u001b[49m\u001b[43mj\u001b[49m\u001b[43m \u001b[49m\u001b[38;5;241;43m!=\u001b[39;49m\u001b[43m \u001b[49m\u001b[43mk\u001b[49m\u001b[43m \u001b[49m\u001b[38;5;129;43;01mand\u001b[39;49;00m\u001b[43m \u001b[49m\u001b[43ml\u001b[49m\u001b[43m \u001b[49m\u001b[38;5;241;43m!=\u001b[39;49m\u001b[43m \u001b[49m\u001b[43mi\u001b[49m\u001b[43m \u001b[49m\u001b[38;5;129;43;01mand\u001b[39;49;00m\u001b[43m \u001b[49m\u001b[43ml\u001b[49m\u001b[43m \u001b[49m\u001b[38;5;241;43m!=\u001b[39;49m\u001b[43m \u001b[49m\u001b[43mj\u001b[49m\u001b[43m]\u001b[49m\n\u001b[1;32m      9\u001b[0m \u001b[38;5;28;01mreturn\u001b[39;00m ij, ijk, ijkl\n",
      "Cell \u001b[0;32mIn[3], line 8\u001b[0m, in \u001b[0;36m<listcomp>\u001b[0;34m(.0)\u001b[0m\n\u001b[1;32m      2\u001b[0m ij \u001b[38;5;241m=\u001b[39m \u001b[38;5;28mlist\u001b[39m(combinations(samples, \u001b[38;5;241m2\u001b[39m))\n\u001b[1;32m      3\u001b[0m ijk \u001b[38;5;241m=\u001b[39m [(i, j, k) \u001b[38;5;28;01mfor\u001b[39;00m i, j, k \u001b[38;5;129;01min\u001b[39;00m product(samples, repeat\u001b[38;5;241m=\u001b[39m\u001b[38;5;241m3\u001b[39m)\n\u001b[1;32m      4\u001b[0m        \u001b[38;5;28;01mif\u001b[39;00m i \u001b[38;5;241m!=\u001b[39m k \u001b[38;5;129;01mand\u001b[39;00m i \u001b[38;5;241m!=\u001b[39m j \u001b[38;5;129;01mand\u001b[39;00m j \u001b[38;5;241m!=\u001b[39m k]\n\u001b[1;32m      5\u001b[0m ijkl \u001b[38;5;241m=\u001b[39m [(i, j, k, l) \u001b[38;5;28;01mfor\u001b[39;00m i, j \u001b[38;5;129;01min\u001b[39;00m combinations(samples, \u001b[38;5;241m2\u001b[39m)\n\u001b[1;32m      6\u001b[0m         \u001b[38;5;28;01mfor\u001b[39;00m k \u001b[38;5;129;01min\u001b[39;00m \u001b[38;5;28mrange\u001b[39m(\u001b[38;5;28mlen\u001b[39m(samples))\n\u001b[1;32m      7\u001b[0m         \u001b[38;5;28;01mfor\u001b[39;00m l \u001b[38;5;129;01min\u001b[39;00m \u001b[38;5;28mrange\u001b[39m(k \u001b[38;5;241m+\u001b[39m \u001b[38;5;241m1\u001b[39m, \u001b[38;5;28mlen\u001b[39m(samples))\n\u001b[0;32m----> 8\u001b[0m         \u001b[38;5;28;01mif\u001b[39;00m i \u001b[38;5;241m!=\u001b[39m k \u001b[38;5;129;01mand\u001b[39;00m j \u001b[38;5;241m!=\u001b[39m k \u001b[38;5;129;01mand\u001b[39;00m l \u001b[38;5;241m!=\u001b[39m i \u001b[38;5;129;01mand\u001b[39;00m l \u001b[38;5;241m!=\u001b[39m j]\n\u001b[1;32m      9\u001b[0m \u001b[38;5;28;01mreturn\u001b[39;00m ij, ijk, ijkl\n",
      "\u001b[0;31mKeyboardInterrupt\u001b[0m: "
     ]
    }
   ],
   "source": [
    "while True:\n",
    "    tss = msprime.sim_ancestry(\n",
    "        samples=2,\n",
    "        population_size=10_000,\n",
    "        recombination_rate=5e-4,\n",
    "        sequence_length=2,\n",
    "        # random_seed=123,\n",
    "        num_replicates=1_000_000,\n",
    "        # num_replicates=100_000,\n",
    "    )\n",
    "    stats = []\n",
    "    for ts in tss:\n",
    "        if ts.num_trees != 2:\n",
    "            continue\n",
    "        x = ts.at_index(0)\n",
    "        y = ts.at_index(1)\n",
    "        ij, ijk, ijkl = combine(ts.samples())\n",
    "        # stats.append(compute_D2(ts, x, y, ij, ijk, ijkl, mu=2e-8))\n",
    "        stats.append([\n",
    "            compute_D2(ts, x, y, ij, ijk, ijkl, mu=2e-8),\n",
    "            compute_Dz(x, y, ijk, ijkl, mu=2e-8),\n",
    "            compute_pi2(x, y, ijkl, mu=2e-8)\n",
    "        ])\n",
    "    print(np.mean(stats, 0))"
   ]
  },
  {
   "cell_type": "code",
   "execution_count": 29,
   "id": "374fbdc4-1dc4-4d71-b86c-9ee03acfa0bb",
   "metadata": {},
   "outputs": [
    {
     "data": {
      "text/plain": [
       "[(0, 1, 2, 3),\n",
       " (0, 2, 1, 3),\n",
       " (0, 3, 1, 2),\n",
       " (1, 2, 0, 3),\n",
       " (1, 3, 0, 2),\n",
       " (2, 3, 0, 1)]"
      ]
     },
     "execution_count": 29,
     "metadata": {},
     "output_type": "execute_result"
    }
   ],
   "source": [
    "ijkl"
   ]
  }
 ],
 "metadata": {
  "kernelspec": {
   "display_name": "tskit-dev-2",
   "language": "python",
   "name": "tskit-dev-2"
  },
  "language_info": {
   "codemirror_mode": {
    "name": "ipython",
    "version": 3
   },
   "file_extension": ".py",
   "mimetype": "text/x-python",
   "name": "python",
   "nbconvert_exporter": "python",
   "pygments_lexer": "ipython3",
   "version": "3.11.4"
  }
 },
 "nbformat": 4,
 "nbformat_minor": 5
}
