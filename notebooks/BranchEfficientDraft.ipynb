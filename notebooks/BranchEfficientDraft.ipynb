{
 "cells": [
  {
   "cell_type": "code",
   "execution_count": 38,
   "id": "8f1676b2-bdfa-473f-b0dc-1107a768d5d5",
   "metadata": {},
   "outputs": [
    {
     "data": {
      "image/svg+xml": [
       "<svg baseProfile=\"full\" height=\"200\" version=\"1.1\" width=\"400\" xmlns=\"http://www.w3.org/2000/svg\" xmlns:ev=\"http://www.w3.org/2001/xml-events\" xmlns:xlink=\"http://www.w3.org/1999/xlink\"><defs><style type=\"text/css\"><![CDATA[.background path {fill: #808080; fill-opacity: 0}.background path:nth-child(odd) {fill-opacity: .1}.axes {font-size: 14px}.x-axis .tick .lab {font-weight: bold; dominant-baseline: hanging}.axes, .tree {font-size: 14px; text-anchor: middle}.axes line, .edge {stroke: black; fill: none}.axes .ax-skip {stroke-dasharray: 4}.y-axis .grid {stroke: #FAFAFA}.node > .sym {fill: black; stroke: none}.site > .sym {stroke: black}.mut text {fill: red; font-style: italic}.mut.extra text {fill: hotpink}.mut line {fill: none; stroke: none}.mut .sym {fill: none; stroke: red}.mut.extra .sym {stroke: hotpink}.node .mut .sym {stroke-width: 1.5px}.tree text, .tree-sequence text {dominant-baseline: central}.plotbox .lab.lft {text-anchor: end}.plotbox .lab.rgt {text-anchor: start}]]></style></defs><g class=\"tree-sequence\"><g class=\"background\"><path d=\"M56.8,0 l161.6,0 l0,138.2 l2.84217e-14,25 l0,5 l-161.6,0 l0,-5 l0,-25 l0,-138.2z\" /><path d=\"M218.4,0 l161.6,0 l0,138.2 l0,25 l0,5 l-161.6,0 l0,-5 l0,-25 l0,-138.2z\" /></g><g class=\"axes\"><g class=\"x-axis\"><g class=\"title\" transform=\"translate(218.4 200)\"><text class=\"lab\" text-anchor=\"middle\" transform=\"translate(0 -11)\">Genome position</text></g><line class=\"ax-line\" x1=\"56.8\" x2=\"380\" y1=\"163.2\" y2=\"163.2\" /><g class=\"ticks\"><g class=\"tick\" transform=\"translate(56.8 163.2)\"><line x1=\"0\" x2=\"0\" y1=\"0\" y2=\"5\" /><g transform=\"translate(0 6)\"><text class=\"lab\">0</text></g></g><g class=\"tick\" transform=\"translate(218.4 163.2)\"><line x1=\"0\" x2=\"0\" y1=\"0\" y2=\"5\" /><g transform=\"translate(0 6)\"><text class=\"lab\">10</text></g></g><g class=\"tick\" transform=\"translate(380 163.2)\"><line x1=\"0\" x2=\"0\" y1=\"0\" y2=\"5\" /><g transform=\"translate(0 6)\"><text class=\"lab\">20</text></g></g></g></g><g class=\"y-axis\"><g class=\"title\" transform=\"translate(0 65.7)\"><text class=\"lab\" text-anchor=\"middle\" transform=\"translate(11) rotate(-90)\">Time</text></g><line class=\"ax-line\" x1=\"56.8\" x2=\"56.8\" y1=\"121.4\" y2=\"10\" /><g class=\"ticks\"><g class=\"tick\" transform=\"translate(56.8 121.4)\"><line x1=\"0\" x2=\"-5\" y1=\"0\" y2=\"0\" /><g transform=\"translate(-6 0)\"><text class=\"lab\" text-anchor=\"end\">0</text></g></g><g class=\"tick\" transform=\"translate(56.8 95.6)\"><line x1=\"0\" x2=\"-5\" y1=\"0\" y2=\"0\" /><g transform=\"translate(-6 0)\"><text class=\"lab\" text-anchor=\"end\">3</text></g></g><g class=\"tick\" transform=\"translate(56.8 87)\"><line x1=\"0\" x2=\"-5\" y1=\"0\" y2=\"0\" /><g transform=\"translate(-6 0)\"><text class=\"lab\" text-anchor=\"end\">4</text></g></g><g class=\"tick\" transform=\"translate(56.8 78.4)\"><line x1=\"0\" x2=\"-5\" y1=\"0\" y2=\"0\" /><g transform=\"translate(-6 0)\"><text class=\"lab\" text-anchor=\"end\">5</text></g></g><g class=\"tick\" transform=\"translate(56.8 61.2)\"><line x1=\"0\" x2=\"-5\" y1=\"0\" y2=\"0\" /><g transform=\"translate(-6 0)\"><text class=\"lab\" text-anchor=\"end\">7</text></g></g><g class=\"tick\" transform=\"translate(56.8 35.4)\"><line x1=\"0\" x2=\"-5\" y1=\"0\" y2=\"0\" /><g transform=\"translate(-6 0)\"><text class=\"lab\" text-anchor=\"end\">10</text></g></g><g class=\"tick\" transform=\"translate(56.8 26.8)\"><line x1=\"0\" x2=\"-5\" y1=\"0\" y2=\"0\" /><g transform=\"translate(-6 0)\"><text class=\"lab\" text-anchor=\"end\">11</text></g></g></g></g></g><g class=\"plotbox trees\"><g class=\"tree t0\" transform=\"translate(56.8 0)\"><g class=\"plotbox\"><g class=\"c2 node n8 root\" transform=\"translate(99.8 35.4)\"><g class=\"a8 leaf node n3 sample\" transform=\"translate(26.6 86)\"><path class=\"edge\" d=\"M 0 0 V -86 H -26.6\" /><rect class=\"sym\" height=\"6\" width=\"6\" x=\"-3\" y=\"-3\" /><text class=\"lab\" transform=\"translate(0 11)\">3</text></g><g class=\"a8 c2 node n7\" transform=\"translate(-26.6 25.8)\"><g class=\"a7 leaf node n2 sample\" transform=\"translate(22.8 60.2)\"><path class=\"edge\" d=\"M 0 0 V -60.2 H -22.8\" /><rect class=\"sym\" height=\"6\" width=\"6\" x=\"-3\" y=\"-3\" /><text class=\"lab\" transform=\"translate(0 11)\">2</text></g><g class=\"a7 c2 node n4\" transform=\"translate(-22.8 34.4)\"><g class=\"a4 leaf node n0 sample\" transform=\"translate(-15.2 25.8)\"><path class=\"edge\" d=\"M 0 0 V -25.8 H 15.2\" /><rect class=\"sym\" height=\"6\" width=\"6\" x=\"-3\" y=\"-3\" /><text class=\"lab\" transform=\"translate(0 11)\">0</text></g><g class=\"a4 leaf node n1 sample\" transform=\"translate(15.2 25.8)\"><path class=\"edge\" d=\"M 0 0 V -25.8 H -15.2\" /><rect class=\"sym\" height=\"6\" width=\"6\" x=\"-3\" y=\"-3\" /><text class=\"lab\" transform=\"translate(0 11)\">1</text></g><path class=\"edge\" d=\"M 0 0 V -34.4 H 22.8\" /><circle class=\"sym\" cx=\"0\" cy=\"0\" r=\"3\" /><text class=\"lab lft\" transform=\"translate(-3 -7.0)\">4</text></g><path class=\"edge\" d=\"M 0 0 V -25.8 H 26.6\" /><circle class=\"sym\" cx=\"0\" cy=\"0\" r=\"3\" /><text class=\"lab lft\" transform=\"translate(-3 -7.0)\">7</text></g><circle class=\"sym\" cx=\"0\" cy=\"0\" r=\"3\" /><text class=\"lab\" transform=\"translate(0 -11)\">8</text></g></g></g><g class=\"tree t1\" transform=\"translate(218.4 0)\"><g class=\"plotbox\"><g class=\"c2 node n9 root\" transform=\"translate(80.8 26.8)\"><g class=\"a9 c2 node n5\" transform=\"translate(-30.4 60.2)\"><g class=\"a5 leaf node n0 sample\" transform=\"translate(-15.2 34.4)\"><path class=\"edge\" d=\"M 0 0 V -34.4 H 15.2\" /><rect class=\"sym\" height=\"6\" width=\"6\" x=\"-3\" y=\"-3\" /><text class=\"lab\" transform=\"translate(0 11)\">0</text></g><g class=\"a5 leaf node n1 sample\" transform=\"translate(15.2 34.4)\"><path class=\"edge\" d=\"M 0 0 V -34.4 H -15.2\" /><rect class=\"sym\" height=\"6\" width=\"6\" x=\"-3\" y=\"-3\" /><text class=\"lab\" transform=\"translate(0 11)\">1</text></g><path class=\"edge\" d=\"M 0 0 V -60.2 H 30.4\" /><circle class=\"sym\" cx=\"0\" cy=\"0\" r=\"3\" /><text class=\"lab lft\" transform=\"translate(-3 -7.0)\">5</text></g><g class=\"a9 c2 node n6\" transform=\"translate(30.4 51.6)\"><g class=\"a6 leaf node n2 sample\" transform=\"translate(-15.2 43)\"><path class=\"edge\" d=\"M 0 0 V -43 H 15.2\" /><rect class=\"sym\" height=\"6\" width=\"6\" x=\"-3\" y=\"-3\" /><text class=\"lab\" transform=\"translate(0 11)\">2</text></g><g class=\"a6 leaf node n3 sample\" transform=\"translate(15.2 43)\"><path class=\"edge\" d=\"M 0 0 V -43 H -15.2\" /><rect class=\"sym\" height=\"6\" width=\"6\" x=\"-3\" y=\"-3\" /><text class=\"lab\" transform=\"translate(0 11)\">3</text></g><path class=\"edge\" d=\"M 0 0 V -51.6 H -30.4\" /><circle class=\"sym\" cx=\"0\" cy=\"0\" r=\"3\" /><text class=\"lab rgt\" transform=\"translate(3 -7.0)\">6</text></g><circle class=\"sym\" cx=\"0\" cy=\"0\" r=\"3\" /><text class=\"lab\" transform=\"translate(0 -11)\">9</text></g></g></g></g></g></svg>"
      ],
      "text/plain": [
       "'<svg baseProfile=\"full\" height=\"200\" version=\"1.1\" width=\"400\" xmlns=\"http://www.w3.org/2000/svg\" xmlns:ev=\"http://www.w3.org/2001/xml-events\" xmlns:xlink=\"http://www.w3.org/1999/xlink\"><defs><style type=\"text/css\"><![CDATA[.background path {fill: #808080; fill-opacity: 0}.background path:nth-child(odd) {fill-opacity: .1}.axes {font-size: 14px}.x-axis .tick .lab {font-weight: bold; dominant-baseline: hanging}.axes, .tree {font-size: 14px; text-anchor: middle}.axes line, .edge {stroke: black; fill: none}.axes .ax-skip {stroke-dasharray: 4}.y-axis .grid {stroke: #FAFAFA}.node > .sym {fill: black; stroke: none}.site > .sym {stroke: black}.mut text {fill: red; font-style: italic}.mut.extra text {fill: hotpink}.mut line {fill: none; stroke: none}.mut .sym {fill: none; stroke: red}.mut.extra .sym {stroke: hotpink}.node .mut .sym {stroke-width: 1.5px}.tree text, .tree-sequence text {dominant-baseline: central}.plotbox .lab.lft {text-anchor: end}.plotbox .lab.rgt {text-anchor: start}]]></style></defs><g class=\"tree-sequence\"><g class=\"background\"><path d=\"M56.8,0 l161.6,0 l0,138.2 l2.84217e-14,25 l0,5 l-161.6,0 l0,-5 l0,-25 l0,-138.2z\" /><path d=\"M218.4,0 l161.6,0 l0,138.2 l0,25 l0,5 l-161.6,0 l0,-5 l0,-25 l0,-138.2z\" /></g><g class=\"axes\"><g class=\"x-axis\"><g class=\"title\" transform=\"translate(218.4 200)\"><text class=\"lab\" text-anchor=\"middle\" transform=\"translate(0 -11)\">Genome position</text></g><line class=\"ax-line\" x1=\"56.8\" x2=\"380\" y1=\"163.2\" y2=\"163.2\" /><g class=\"ticks\"><g class=\"tick\" transform=\"translate(56.8 163.2)\"><line x1=\"0\" x2=\"0\" y1=\"0\" y2=\"5\" /><g transform=\"translate(0 6)\"><text class=\"lab\">0</text></g></g><g class=\"tick\" transform=\"translate(218.4 163.2)\"><line x1=\"0\" x2=\"0\" y1=\"0\" y2=\"5\" /><g transform=\"translate(0 6)\"><text class=\"lab\">10</text></g></g><g class=\"tick\" transform=\"translate(380 163.2)\"><line x1=\"0\" x2=\"0\" y1=\"0\" y2=\"5\" /><g transform=\"translate(0 6)\"><text class=\"lab\">20</text></g></g></g></g><g class=\"y-axis\"><g class=\"title\" transform=\"translate(0 65.7)\"><text class=\"lab\" text-anchor=\"middle\" transform=\"translate(11) rotate(-90)\">Time</text></g><line class=\"ax-line\" x1=\"56.8\" x2=\"56.8\" y1=\"121.4\" y2=\"10\" /><g class=\"ticks\"><g class=\"tick\" transform=\"translate(56.8 121.4)\"><line x1=\"0\" x2=\"-5\" y1=\"0\" y2=\"0\" /><g transform=\"translate(-6 0)\"><text class=\"lab\" text-anchor=\"end\">0</text></g></g><g class=\"tick\" transform=\"translate(56.8 95.6)\"><line x1=\"0\" x2=\"-5\" y1=\"0\" y2=\"0\" /><g transform=\"translate(-6 0)\"><text class=\"lab\" text-anchor=\"end\">3</text></g></g><g class=\"tick\" transform=\"translate(56.8 87)\"><line x1=\"0\" x2=\"-5\" y1=\"0\" y2=\"0\" /><g transform=\"translate(-6 0)\"><text class=\"lab\" text-anchor=\"end\">4</text></g></g><g class=\"tick\" transform=\"translate(56.8 78.4)\"><line x1=\"0\" x2=\"-5\" y1=\"0\" y2=\"0\" /><g transform=\"translate(-6 0)\"><text class=\"lab\" text-anchor=\"end\">5</text></g></g><g class=\"tick\" transform=\"translate(56.8 61.2)\"><line x1=\"0\" x2=\"-5\" y1=\"0\" y2=\"0\" /><g transform=\"translate(-6 0)\"><text class=\"lab\" text-anchor=\"end\">7</text></g></g><g class=\"tick\" transform=\"translate(56.8 35.4)\"><line x1=\"0\" x2=\"-5\" y1=\"0\" y2=\"0\" /><g transform=\"translate(-6 0)\"><text class=\"lab\" text-anchor=\"end\">10</text></g></g><g class=\"tick\" transform=\"translate(56.8 26.8)\"><line x1=\"0\" x2=\"-5\" y1=\"0\" y2=\"0\" /><g transform=\"translate(-6 0)\"><text class=\"lab\" text-anchor=\"end\">11</text></g></g></g></g></g><g class=\"plotbox trees\"><g class=\"tree t0\" transform=\"translate(56.8 0)\"><g class=\"plotbox\"><g class=\"c2 node n8 root\" transform=\"translate(99.8 35.4)\"><g class=\"a8 leaf node n3 sample\" transform=\"translate(26.6 86)\"><path class=\"edge\" d=\"M 0 0 V -86 H -26.6\" /><rect class=\"sym\" height=\"6\" width=\"6\" x=\"-3\" y=\"-3\" /><text class=\"lab\" transform=\"translate(0 11)\">3</text></g><g class=\"a8 c2 node n7\" transform=\"translate(-26.6 25.8)\"><g class=\"a7 leaf node n2 sample\" transform=\"translate(22.8 60.2)\"><path class=\"edge\" d=\"M 0 0 V -60.2 H -22.8\" /><rect class=\"sym\" height=\"6\" width=\"6\" x=\"-3\" y=\"-3\" /><text class=\"lab\" transform=\"translate(0 11)\">2</text></g><g class=\"a7 c2 node n4\" transform=\"translate(-22.8 34.4)\"><g class=\"a4 leaf node n0 sample\" transform=\"translate(-15.2 25.8)\"><path class=\"edge\" d=\"M 0 0 V -25.8 H 15.2\" /><rect class=\"sym\" height=\"6\" width=\"6\" x=\"-3\" y=\"-3\" /><text class=\"lab\" transform=\"translate(0 11)\">0</text></g><g class=\"a4 leaf node n1 sample\" transform=\"translate(15.2 25.8)\"><path class=\"edge\" d=\"M 0 0 V -25.8 H -15.2\" /><rect class=\"sym\" height=\"6\" width=\"6\" x=\"-3\" y=\"-3\" /><text class=\"lab\" transform=\"translate(0 11)\">1</text></g><path class=\"edge\" d=\"M 0 0 V -34.4 H 22.8\" /><circle class=\"sym\" cx=\"0\" cy=\"0\" r=\"3\" /><text class=\"lab lft\" transform=\"translate(-3 -7.0)\">4</text></g><path class=\"edge\" d=\"M 0 0 V -25.8 H 26.6\" /><circle class=\"sym\" cx=\"0\" cy=\"0\" r=\"3\" /><text class=\"lab lft\" transform=\"translate(-3 -7.0)\">7</text></g><circle class=\"sym\" cx=\"0\" cy=\"0\" r=\"3\" /><text class=\"lab\" transform=\"translate(0 -11)\">8</text></g></g></g><g class=\"tree t1\" transform=\"translate(218.4 0)\"><g class=\"plotbox\"><g class=\"c2 node n9 root\" transform=\"translate(80.8 26.8)\"><g class=\"a9 c2 node n5\" transform=\"translate(-30.4 60.2)\"><g class=\"a5 leaf node n0 sample\" transform=\"translate(-15.2 34.4)\"><path class=\"edge\" d=\"M 0 0 V -34.4 H 15.2\" /><rect class=\"sym\" height=\"6\" width=\"6\" x=\"-3\" y=\"-3\" /><text class=\"lab\" transform=\"translate(0 11)\">0</text></g><g class=\"a5 leaf node n1 sample\" transform=\"translate(15.2 34.4)\"><path class=\"edge\" d=\"M 0 0 V -34.4 H -15.2\" /><rect class=\"sym\" height=\"6\" width=\"6\" x=\"-3\" y=\"-3\" /><text class=\"lab\" transform=\"translate(0 11)\">1</text></g><path class=\"edge\" d=\"M 0 0 V -60.2 H 30.4\" /><circle class=\"sym\" cx=\"0\" cy=\"0\" r=\"3\" /><text class=\"lab lft\" transform=\"translate(-3 -7.0)\">5</text></g><g class=\"a9 c2 node n6\" transform=\"translate(30.4 51.6)\"><g class=\"a6 leaf node n2 sample\" transform=\"translate(-15.2 43)\"><path class=\"edge\" d=\"M 0 0 V -43 H 15.2\" /><rect class=\"sym\" height=\"6\" width=\"6\" x=\"-3\" y=\"-3\" /><text class=\"lab\" transform=\"translate(0 11)\">2</text></g><g class=\"a6 leaf node n3 sample\" transform=\"translate(15.2 43)\"><path class=\"edge\" d=\"M 0 0 V -43 H -15.2\" /><rect class=\"sym\" height=\"6\" width=\"6\" x=\"-3\" y=\"-3\" /><text class=\"lab\" transform=\"translate(0 11)\">3</text></g><path class=\"edge\" d=\"M 0 0 V -51.6 H -30.4\" /><circle class=\"sym\" cx=\"0\" cy=\"0\" r=\"3\" /><text class=\"lab rgt\" transform=\"translate(3 -7.0)\">6</text></g><circle class=\"sym\" cx=\"0\" cy=\"0\" r=\"3\" /><text class=\"lab\" transform=\"translate(0 -11)\">9</text></g></g></g></g></g></svg>'"
      ]
     },
     "execution_count": 38,
     "metadata": {},
     "output_type": "execute_result"
    }
   ],
   "source": [
    "import io\n",
    "import tskit\n",
    "\n",
    "nodes = \"\"\"\\\n",
    "is_sample time\n",
    "1         0\n",
    "1         0\n",
    "1         0\n",
    "1         0\n",
    "0         3\n",
    "0         4\n",
    "0         5\n",
    "0         7\n",
    "0         10\n",
    "0         11\n",
    "\"\"\"\n",
    "\n",
    "edges = \"\"\"\\\n",
    "left   right   parent  child\n",
    "0      10      4       0,1\n",
    "0      10      7       2,4\n",
    "0      10      8       3,7\n",
    "10     20      5       0,1\n",
    "10     20      6       2,3\n",
    "10     20      9       5,6\n",
    "\"\"\"\n",
    "\n",
    "# sites = \"\"\"\\\n",
    "# position ancestral_state\n",
    "# \"\"\"\n",
    "\n",
    "# mutations = \"\"\"\\\n",
    "# site node parent derived_state\n",
    "# \"\"\"\n",
    "\n",
    "ts = tskit.load_text(\n",
    "    nodes=io.StringIO(nodes),\n",
    "    edges=io.StringIO(edges),\n",
    "    # sites=io.StringIO(sites),\n",
    "    # mutations=io.StringIO(mutations),\n",
    "    strict=False,\n",
    ")\n",
    "\n",
    "ts.draw_svg(y_axis=True)"
   ]
  },
  {
   "cell_type": "code",
   "execution_count": 68,
   "id": "20865c43-39bb-4fdb-a255-7de215acaf59",
   "metadata": {},
   "outputs": [],
   "source": [
    "import msprime\n",
    "ts = msprime.sim_ancestry(samples=4, recombination_rate=0.2, sequence_length=10, random_seed=1)"
   ]
  },
  {
   "cell_type": "code",
   "execution_count": 183,
   "id": "4b40f019-d32c-4f50-a703-b9bbb3d47328",
   "metadata": {},
   "outputs": [
    {
     "data": {
      "image/svg+xml": [
       "<svg baseProfile=\"full\" height=\"400\" version=\"1.1\" width=\"1500\" xmlns=\"http://www.w3.org/2000/svg\" xmlns:ev=\"http://www.w3.org/2001/xml-events\" xmlns:xlink=\"http://www.w3.org/1999/xlink\"><defs><style type=\"text/css\"><![CDATA[.background path {fill: #808080; fill-opacity: 0}.background path:nth-child(odd) {fill-opacity: .1}.axes {font-size: 14px}.x-axis .tick .lab {font-weight: bold; dominant-baseline: hanging}.axes, .tree {font-size: 14px; text-anchor: middle}.axes line, .edge {stroke: black; fill: none}.axes .ax-skip {stroke-dasharray: 4}.y-axis .grid {stroke: #FAFAFA}.node > .sym {fill: black; stroke: none}.site > .sym {stroke: black}.mut text {fill: red; font-style: italic}.mut.extra text {fill: hotpink}.mut line {fill: none; stroke: none}.mut .sym {fill: none; stroke: red}.mut.extra .sym {stroke: hotpink}.node .mut .sym {stroke-width: 1.5px}.tree text, .tree-sequence text {dominant-baseline: central}.plotbox .lab.lft {text-anchor: end}.plotbox .lab.rgt {text-anchor: start}]]></style></defs><g class=\"tree-sequence\"><g class=\"background\"><path d=\"M56.8,0 l284.64,0 l0,338.2 l-142.32,25 l0,5 l-142.32,0 l0,-5 l0,-25 l0,-338.2z\" /><path d=\"M341.44,0 l284.64,0 l0,338.2 l-142.32,25 l0,5 l-284.64,0 l0,-5 l142.32,-25 l0,-338.2z\" /><path d=\"M626.08,0 l284.64,0 l0,338.2 l0,25 l0,5 l-426.96,0 l0,-5 l142.32,-25 l0,-338.2z\" /><path d=\"M910.72,0 l284.64,0 l0,338.2 l-142.32,25 l0,5 l-142.32,0 l0,-5 l0,-25 l0,-338.2z\" /><path d=\"M1195.36,0 l284.64,0 l0,338.2 l0,25 l0,5 l-426.96,0 l0,-5 l142.32,-25 l0,-338.2z\" /></g><g class=\"axes\"><g class=\"x-axis\"><g class=\"title\" transform=\"translate(768.4 400)\"><text class=\"lab\" text-anchor=\"middle\" transform=\"translate(0 -11)\">Genome position</text></g><line class=\"ax-line\" x1=\"56.8\" x2=\"1480\" y1=\"363.2\" y2=\"363.2\" /><g class=\"ticks\"><g class=\"tick\" transform=\"translate(56.8 363.2)\"><line x1=\"0\" x2=\"0\" y1=\"0\" y2=\"5\" /><g transform=\"translate(0 6)\"><text class=\"lab\">0</text></g></g><g class=\"tick\" transform=\"translate(199.12 363.2)\"><line x1=\"0\" x2=\"0\" y1=\"0\" y2=\"5\" /><g transform=\"translate(0 6)\"><text class=\"lab\">1</text></g></g><g class=\"tick\" transform=\"translate(483.76 363.2)\"><line x1=\"0\" x2=\"0\" y1=\"0\" y2=\"5\" /><g transform=\"translate(0 6)\"><text class=\"lab\">3</text></g></g><g class=\"tick\" transform=\"translate(910.72 363.2)\"><line x1=\"0\" x2=\"0\" y1=\"0\" y2=\"5\" /><g transform=\"translate(0 6)\"><text class=\"lab\">6</text></g></g><g class=\"tick\" transform=\"translate(1053.04 363.2)\"><line x1=\"0\" x2=\"0\" y1=\"0\" y2=\"5\" /><g transform=\"translate(0 6)\"><text class=\"lab\">7</text></g></g><g class=\"tick\" transform=\"translate(1480 363.2)\"><line x1=\"0\" x2=\"0\" y1=\"0\" y2=\"5\" /><g transform=\"translate(0 6)\"><text class=\"lab\">10</text></g></g></g></g><g class=\"y-axis\"><g class=\"title\" transform=\"translate(0 165.7)\"><text class=\"lab\" text-anchor=\"middle\" transform=\"translate(11) rotate(-90)\">Time (generations)</text></g><line class=\"ax-line\" x1=\"56.8\" x2=\"56.8\" y1=\"321.4\" y2=\"10\" /><g class=\"ticks\"><g class=\"tick\" transform=\"translate(56.8 321.4)\"><line x1=\"0\" x2=\"-5\" y1=\"0\" y2=\"0\" /><g transform=\"translate(-6 0)\"><text class=\"lab\" text-anchor=\"end\">0.00</text></g></g><g class=\"tick\" transform=\"translate(56.8 317.519)\"><line x1=\"0\" x2=\"-5\" y1=\"0\" y2=\"0\" /><g transform=\"translate(-6 0)\"><text class=\"lab\" text-anchor=\"end\">0.04</text></g></g><g class=\"tick\" transform=\"translate(56.8 316.345)\"><line x1=\"0\" x2=\"-5\" y1=\"0\" y2=\"0\" /><g transform=\"translate(-6 0)\"><text class=\"lab\" text-anchor=\"end\">0.05</text></g></g><g class=\"tick\" transform=\"translate(56.8 314.312)\"><line x1=\"0\" x2=\"-5\" y1=\"0\" y2=\"0\" /><g transform=\"translate(-6 0)\"><text class=\"lab\" text-anchor=\"end\">0.07</text></g></g><g class=\"tick\" transform=\"translate(56.8 307.333)\"><line x1=\"0\" x2=\"-5\" y1=\"0\" y2=\"0\" /><g transform=\"translate(-6 0)\"><text class=\"lab\" text-anchor=\"end\">0.14</text></g></g><g class=\"tick\" transform=\"translate(56.8 296.08)\"><line x1=\"0\" x2=\"-5\" y1=\"0\" y2=\"0\" /><g transform=\"translate(-6 0)\"><text class=\"lab\" text-anchor=\"end\">0.24</text></g></g><g class=\"tick\" transform=\"translate(56.8 288.185)\"><line x1=\"0\" x2=\"-5\" y1=\"0\" y2=\"0\" /><g transform=\"translate(-6 0)\"><text class=\"lab\" text-anchor=\"end\">0.32</text></g></g><g class=\"tick\" transform=\"translate(56.8 286.268)\"><line x1=\"0\" x2=\"-5\" y1=\"0\" y2=\"0\" /><g transform=\"translate(-6 0)\"><text class=\"lab\" text-anchor=\"end\">0.34</text></g></g><g class=\"tick\" transform=\"translate(56.8 141.477)\"><line x1=\"0\" x2=\"-5\" y1=\"0\" y2=\"0\" /><g transform=\"translate(-6 0)\"><text class=\"lab\" text-anchor=\"end\">1.74</text></g></g><g class=\"tick\" transform=\"translate(56.8 61.0902)\"><line x1=\"0\" x2=\"-5\" y1=\"0\" y2=\"0\" /><g transform=\"translate(-6 0)\"><text class=\"lab\" text-anchor=\"end\">2.51</text></g></g><g class=\"tick\" transform=\"translate(56.8 26.8)\"><line x1=\"0\" x2=\"-5\" y1=\"0\" y2=\"0\" /><g transform=\"translate(-6 0)\"><text class=\"lab\" text-anchor=\"end\">2.84</text></g></g></g></g></g><g class=\"plotbox trees\"><g class=\"tree t0\" transform=\"translate(56.8 0)\"><g class=\"plotbox\"><g class=\"c2 node n16 p0 root\" transform=\"translate(169.078 61.0902)\"><g class=\"a16 c2 node n10 p0\" transform=\"translate(64.9825 253.222)\"><g class=\"a10 i1 leaf node n3 p0 sample\" transform=\"translate(-15.29 7.08778)\"><path class=\"edge\" d=\"M 0 0 V -7.08778 H 15.29\" /><rect class=\"sym\" height=\"6\" width=\"6\" x=\"-3\" y=\"-3\" /><text class=\"lab\" transform=\"translate(0 11)\">3</text></g><g class=\"a10 i2 leaf node n4 p0 sample\" transform=\"translate(15.29 7.08778)\"><path class=\"edge\" d=\"M 0 0 V -7.08778 H -15.29\" /><rect class=\"sym\" height=\"6\" width=\"6\" x=\"-3\" y=\"-3\" /><text class=\"lab\" transform=\"translate(0 11)\">4</text></g><path class=\"edge\" d=\"M 0 0 V -253.222 H -64.9825\" /><circle class=\"sym\" cx=\"0\" cy=\"0\" r=\"3\" /><text class=\"lab rgt\" transform=\"translate(3 -7.0)\">10</text></g><g class=\"a16 c2 node n14 p0\" transform=\"translate(-64.9825 225.178)\"><g class=\"a14 c2 node n11 p0\" transform=\"translate(-45.87 21.0652)\"><g class=\"a11 i0 leaf node n0 p0 sample\" transform=\"translate(-22.935 14.0667)\"><path class=\"edge\" d=\"M 0 0 V -14.0667 H 22.935\" /><rect class=\"sym\" height=\"6\" width=\"6\" x=\"-3\" y=\"-3\" /><text class=\"lab\" transform=\"translate(0 11)\">0</text></g><g class=\"a11 c2 node n8 p0\" transform=\"translate(22.935 10.1856)\"><g class=\"a8 i2 leaf node n5 p0 sample\" transform=\"translate(-15.29 3.88109)\"><path class=\"edge\" d=\"M 0 0 V -3.88109 H 15.29\" /><rect class=\"sym\" height=\"6\" width=\"6\" x=\"-3\" y=\"-3\" /><text class=\"lab\" transform=\"translate(0 11)\">5</text></g><g class=\"a8 i3 leaf node n7 p0 sample\" transform=\"translate(15.29 3.88109)\"><path class=\"edge\" d=\"M 0 0 V -3.88109 H -15.29\" /><rect class=\"sym\" height=\"6\" width=\"6\" x=\"-3\" y=\"-3\" /><text class=\"lab\" transform=\"translate(0 11)\">7</text></g><path class=\"edge\" d=\"M 0 0 V -10.1856 H -22.935\" /><circle class=\"sym\" cx=\"0\" cy=\"0\" r=\"3\" /><text class=\"lab rgt\" transform=\"translate(3 -7.0)\">8</text></g><path class=\"edge\" d=\"M 0 0 V -21.0652 H 45.87\" /><circle class=\"sym\" cx=\"0\" cy=\"0\" r=\"3\" /><text class=\"lab lft\" transform=\"translate(-3 -7.0)\">11</text></g><g class=\"a14 c2 node n13 p0\" transform=\"translate(45.87 1.9171)\"><g class=\"a13 i0 leaf node n1 p0 sample\" transform=\"translate(-22.935 33.2147)\"><path class=\"edge\" d=\"M 0 0 V -33.2147 H 22.935\" /><rect class=\"sym\" height=\"6\" width=\"6\" x=\"-3\" y=\"-3\" /><text class=\"lab\" transform=\"translate(0 11)\">1</text></g><g class=\"a13 c2 node n12 p0\" transform=\"translate(22.935 7.8951)\"><g class=\"a12 i1 leaf node n2 p0 sample\" transform=\"translate(-15.29 25.3196)\"><path class=\"edge\" d=\"M 0 0 V -25.3196 H 15.29\" /><rect class=\"sym\" height=\"6\" width=\"6\" x=\"-3\" y=\"-3\" /><text class=\"lab\" transform=\"translate(0 11)\">2</text></g><g class=\"a12 i3 leaf node n6 p0 sample\" transform=\"translate(15.29 25.3196)\"><path class=\"edge\" d=\"M 0 0 V -25.3196 H -15.29\" /><rect class=\"sym\" height=\"6\" width=\"6\" x=\"-3\" y=\"-3\" /><text class=\"lab\" transform=\"translate(0 11)\">6</text></g><path class=\"edge\" d=\"M 0 0 V -7.8951 H -22.935\" /><circle class=\"sym\" cx=\"0\" cy=\"0\" r=\"3\" /><text class=\"lab rgt\" transform=\"translate(3 -7.0)\">12</text></g><path class=\"edge\" d=\"M 0 0 V -1.9171 H -45.87\" /><circle class=\"sym\" cx=\"0\" cy=\"0\" r=\"3\" /><text class=\"lab rgt\" transform=\"translate(3 -7.0)\">13</text></g><path class=\"edge\" d=\"M 0 0 V -225.178 H 64.9825\" /><circle class=\"sym\" cx=\"0\" cy=\"0\" r=\"3\" /><text class=\"lab lft\" transform=\"translate(-3 -7.0)\">14</text></g><circle class=\"sym\" cx=\"0\" cy=\"0\" r=\"3\" /><text class=\"lab\" transform=\"translate(0 -11)\">16</text></g></g></g><g class=\"tree t1\" transform=\"translate(341.44 0)\"><g class=\"plotbox\"><g class=\"c2 node n17 p0 root\" transform=\"translate(169.078 26.8)\"><g class=\"a17 c2 node n10 p0\" transform=\"translate(64.9825 287.512)\"><g class=\"a10 i1 leaf node n3 p0 sample\" transform=\"translate(-15.29 7.08778)\"><path class=\"edge\" d=\"M 0 0 V -7.08778 H 15.29\" /><rect class=\"sym\" height=\"6\" width=\"6\" x=\"-3\" y=\"-3\" /><text class=\"lab\" transform=\"translate(0 11)\">3</text></g><g class=\"a10 i2 leaf node n4 p0 sample\" transform=\"translate(15.29 7.08778)\"><path class=\"edge\" d=\"M 0 0 V -7.08778 H -15.29\" /><rect class=\"sym\" height=\"6\" width=\"6\" x=\"-3\" y=\"-3\" /><text class=\"lab\" transform=\"translate(0 11)\">4</text></g><path class=\"edge\" d=\"M 0 0 V -287.512 H -64.9825\" /><circle class=\"sym\" cx=\"0\" cy=\"0\" r=\"3\" /><text class=\"lab rgt\" transform=\"translate(3 -7.0)\">10</text></g><g class=\"a17 c2 node n14 p0\" transform=\"translate(-64.9825 259.468)\"><g class=\"a14 c2 node n11 p0\" transform=\"translate(-45.87 21.0652)\"><g class=\"a11 i0 leaf node n0 p0 sample\" transform=\"translate(-22.935 14.0667)\"><path class=\"edge\" d=\"M 0 0 V -14.0667 H 22.935\" /><rect class=\"sym\" height=\"6\" width=\"6\" x=\"-3\" y=\"-3\" /><text class=\"lab\" transform=\"translate(0 11)\">0</text></g><g class=\"a11 c2 node n8 p0\" transform=\"translate(22.935 10.1856)\"><g class=\"a8 i2 leaf node n5 p0 sample\" transform=\"translate(-15.29 3.88109)\"><path class=\"edge\" d=\"M 0 0 V -3.88109 H 15.29\" /><rect class=\"sym\" height=\"6\" width=\"6\" x=\"-3\" y=\"-3\" /><text class=\"lab\" transform=\"translate(0 11)\">5</text></g><g class=\"a8 i3 leaf node n7 p0 sample\" transform=\"translate(15.29 3.88109)\"><path class=\"edge\" d=\"M 0 0 V -3.88109 H -15.29\" /><rect class=\"sym\" height=\"6\" width=\"6\" x=\"-3\" y=\"-3\" /><text class=\"lab\" transform=\"translate(0 11)\">7</text></g><path class=\"edge\" d=\"M 0 0 V -10.1856 H -22.935\" /><circle class=\"sym\" cx=\"0\" cy=\"0\" r=\"3\" /><text class=\"lab rgt\" transform=\"translate(3 -7.0)\">8</text></g><path class=\"edge\" d=\"M 0 0 V -21.0652 H 45.87\" /><circle class=\"sym\" cx=\"0\" cy=\"0\" r=\"3\" /><text class=\"lab lft\" transform=\"translate(-3 -7.0)\">11</text></g><g class=\"a14 c2 node n13 p0\" transform=\"translate(45.87 1.9171)\"><g class=\"a13 i0 leaf node n1 p0 sample\" transform=\"translate(-22.935 33.2147)\"><path class=\"edge\" d=\"M 0 0 V -33.2147 H 22.935\" /><rect class=\"sym\" height=\"6\" width=\"6\" x=\"-3\" y=\"-3\" /><text class=\"lab\" transform=\"translate(0 11)\">1</text></g><g class=\"a13 c2 node n12 p0\" transform=\"translate(22.935 7.8951)\"><g class=\"a12 i1 leaf node n2 p0 sample\" transform=\"translate(-15.29 25.3196)\"><path class=\"edge\" d=\"M 0 0 V -25.3196 H 15.29\" /><rect class=\"sym\" height=\"6\" width=\"6\" x=\"-3\" y=\"-3\" /><text class=\"lab\" transform=\"translate(0 11)\">2</text></g><g class=\"a12 i3 leaf node n6 p0 sample\" transform=\"translate(15.29 25.3196)\"><path class=\"edge\" d=\"M 0 0 V -25.3196 H -15.29\" /><rect class=\"sym\" height=\"6\" width=\"6\" x=\"-3\" y=\"-3\" /><text class=\"lab\" transform=\"translate(0 11)\">6</text></g><path class=\"edge\" d=\"M 0 0 V -7.8951 H -22.935\" /><circle class=\"sym\" cx=\"0\" cy=\"0\" r=\"3\" /><text class=\"lab rgt\" transform=\"translate(3 -7.0)\">12</text></g><path class=\"edge\" d=\"M 0 0 V -1.9171 H -45.87\" /><circle class=\"sym\" cx=\"0\" cy=\"0\" r=\"3\" /><text class=\"lab rgt\" transform=\"translate(3 -7.0)\">13</text></g><path class=\"edge\" d=\"M 0 0 V -259.468 H 64.9825\" /><circle class=\"sym\" cx=\"0\" cy=\"0\" r=\"3\" /><text class=\"lab lft\" transform=\"translate(-3 -7.0)\">14</text></g><circle class=\"sym\" cx=\"0\" cy=\"0\" r=\"3\" /><text class=\"lab\" transform=\"translate(0 -11)\">17</text></g></g></g><g class=\"tree t2\" transform=\"translate(626.08 0)\"><g class=\"plotbox\"><g class=\"c2 node n15 p0 root\" transform=\"translate(169.078 141.477)\"><g class=\"a15 c2 node n10 p0\" transform=\"translate(64.9825 172.836)\"><g class=\"a10 i1 leaf node n3 p0 sample\" transform=\"translate(-15.29 7.08778)\"><path class=\"edge\" d=\"M 0 0 V -7.08778 H 15.29\" /><rect class=\"sym\" height=\"6\" width=\"6\" x=\"-3\" y=\"-3\" /><text class=\"lab\" transform=\"translate(0 11)\">3</text></g><g class=\"a10 i2 leaf node n4 p0 sample\" transform=\"translate(15.29 7.08778)\"><path class=\"edge\" d=\"M 0 0 V -7.08778 H -15.29\" /><rect class=\"sym\" height=\"6\" width=\"6\" x=\"-3\" y=\"-3\" /><text class=\"lab\" transform=\"translate(0 11)\">4</text></g><path class=\"edge\" d=\"M 0 0 V -172.836 H -64.9825\" /><circle class=\"sym\" cx=\"0\" cy=\"0\" r=\"3\" /><text class=\"lab rgt\" transform=\"translate(3 -7.0)\">10</text></g><g class=\"a15 c2 node n14 p0\" transform=\"translate(-64.9825 144.792)\"><g class=\"a14 c2 node n11 p0\" transform=\"translate(-45.87 21.0652)\"><g class=\"a11 i0 leaf node n0 p0 sample\" transform=\"translate(-22.935 14.0667)\"><path class=\"edge\" d=\"M 0 0 V -14.0667 H 22.935\" /><rect class=\"sym\" height=\"6\" width=\"6\" x=\"-3\" y=\"-3\" /><text class=\"lab\" transform=\"translate(0 11)\">0</text></g><g class=\"a11 c2 node n8 p0\" transform=\"translate(22.935 10.1856)\"><g class=\"a8 i2 leaf node n5 p0 sample\" transform=\"translate(-15.29 3.88109)\"><path class=\"edge\" d=\"M 0 0 V -3.88109 H 15.29\" /><rect class=\"sym\" height=\"6\" width=\"6\" x=\"-3\" y=\"-3\" /><text class=\"lab\" transform=\"translate(0 11)\">5</text></g><g class=\"a8 i3 leaf node n7 p0 sample\" transform=\"translate(15.29 3.88109)\"><path class=\"edge\" d=\"M 0 0 V -3.88109 H -15.29\" /><rect class=\"sym\" height=\"6\" width=\"6\" x=\"-3\" y=\"-3\" /><text class=\"lab\" transform=\"translate(0 11)\">7</text></g><path class=\"edge\" d=\"M 0 0 V -10.1856 H -22.935\" /><circle class=\"sym\" cx=\"0\" cy=\"0\" r=\"3\" /><text class=\"lab rgt\" transform=\"translate(3 -7.0)\">8</text></g><path class=\"edge\" d=\"M 0 0 V -21.0652 H 45.87\" /><circle class=\"sym\" cx=\"0\" cy=\"0\" r=\"3\" /><text class=\"lab lft\" transform=\"translate(-3 -7.0)\">11</text></g><g class=\"a14 c2 node n13 p0\" transform=\"translate(45.87 1.9171)\"><g class=\"a13 i0 leaf node n1 p0 sample\" transform=\"translate(-22.935 33.2147)\"><path class=\"edge\" d=\"M 0 0 V -33.2147 H 22.935\" /><rect class=\"sym\" height=\"6\" width=\"6\" x=\"-3\" y=\"-3\" /><text class=\"lab\" transform=\"translate(0 11)\">1</text></g><g class=\"a13 c2 node n12 p0\" transform=\"translate(22.935 7.8951)\"><g class=\"a12 i1 leaf node n2 p0 sample\" transform=\"translate(-15.29 25.3196)\"><path class=\"edge\" d=\"M 0 0 V -25.3196 H 15.29\" /><rect class=\"sym\" height=\"6\" width=\"6\" x=\"-3\" y=\"-3\" /><text class=\"lab\" transform=\"translate(0 11)\">2</text></g><g class=\"a12 i3 leaf node n6 p0 sample\" transform=\"translate(15.29 25.3196)\"><path class=\"edge\" d=\"M 0 0 V -25.3196 H -15.29\" /><rect class=\"sym\" height=\"6\" width=\"6\" x=\"-3\" y=\"-3\" /><text class=\"lab\" transform=\"translate(0 11)\">6</text></g><path class=\"edge\" d=\"M 0 0 V -7.8951 H -22.935\" /><circle class=\"sym\" cx=\"0\" cy=\"0\" r=\"3\" /><text class=\"lab rgt\" transform=\"translate(3 -7.0)\">12</text></g><path class=\"edge\" d=\"M 0 0 V -1.9171 H -45.87\" /><circle class=\"sym\" cx=\"0\" cy=\"0\" r=\"3\" /><text class=\"lab rgt\" transform=\"translate(3 -7.0)\">13</text></g><path class=\"edge\" d=\"M 0 0 V -144.792 H 64.9825\" /><circle class=\"sym\" cx=\"0\" cy=\"0\" r=\"3\" /><text class=\"lab lft\" transform=\"translate(-3 -7.0)\">14</text></g><circle class=\"sym\" cx=\"0\" cy=\"0\" r=\"3\" /><text class=\"lab\" transform=\"translate(0 -11)\">15</text></g></g></g><g class=\"tree t3\" transform=\"translate(910.72 0)\"><g class=\"plotbox\"><g class=\"c2 node n17 p0 root\" transform=\"translate(169.078 26.8)\"><g class=\"a17 c2 node n10 p0\" transform=\"translate(64.9825 287.512)\"><g class=\"a10 i1 leaf node n3 p0 sample\" transform=\"translate(-15.29 7.08778)\"><path class=\"edge\" d=\"M 0 0 V -7.08778 H 15.29\" /><rect class=\"sym\" height=\"6\" width=\"6\" x=\"-3\" y=\"-3\" /><text class=\"lab\" transform=\"translate(0 11)\">3</text></g><g class=\"a10 i2 leaf node n4 p0 sample\" transform=\"translate(15.29 7.08778)\"><path class=\"edge\" d=\"M 0 0 V -7.08778 H -15.29\" /><rect class=\"sym\" height=\"6\" width=\"6\" x=\"-3\" y=\"-3\" /><text class=\"lab\" transform=\"translate(0 11)\">4</text></g><path class=\"edge\" d=\"M 0 0 V -287.512 H -64.9825\" /><circle class=\"sym\" cx=\"0\" cy=\"0\" r=\"3\" /><text class=\"lab rgt\" transform=\"translate(3 -7.0)\">10</text></g><g class=\"a17 c2 node n14 p0\" transform=\"translate(-64.9825 259.468)\"><g class=\"a14 c2 node n11 p0\" transform=\"translate(-45.87 21.0652)\"><g class=\"a11 i0 leaf node n0 p0 sample\" transform=\"translate(-22.935 14.0667)\"><path class=\"edge\" d=\"M 0 0 V -14.0667 H 22.935\" /><rect class=\"sym\" height=\"6\" width=\"6\" x=\"-3\" y=\"-3\" /><text class=\"lab\" transform=\"translate(0 11)\">0</text></g><g class=\"a11 c2 node n8 p0\" transform=\"translate(22.935 10.1856)\"><g class=\"a8 i2 leaf node n5 p0 sample\" transform=\"translate(-15.29 3.88109)\"><path class=\"edge\" d=\"M 0 0 V -3.88109 H 15.29\" /><rect class=\"sym\" height=\"6\" width=\"6\" x=\"-3\" y=\"-3\" /><text class=\"lab\" transform=\"translate(0 11)\">5</text></g><g class=\"a8 i3 leaf node n7 p0 sample\" transform=\"translate(15.29 3.88109)\"><path class=\"edge\" d=\"M 0 0 V -3.88109 H -15.29\" /><rect class=\"sym\" height=\"6\" width=\"6\" x=\"-3\" y=\"-3\" /><text class=\"lab\" transform=\"translate(0 11)\">7</text></g><path class=\"edge\" d=\"M 0 0 V -10.1856 H -22.935\" /><circle class=\"sym\" cx=\"0\" cy=\"0\" r=\"3\" /><text class=\"lab rgt\" transform=\"translate(3 -7.0)\">8</text></g><path class=\"edge\" d=\"M 0 0 V -21.0652 H 45.87\" /><circle class=\"sym\" cx=\"0\" cy=\"0\" r=\"3\" /><text class=\"lab lft\" transform=\"translate(-3 -7.0)\">11</text></g><g class=\"a14 c2 node n13 p0\" transform=\"translate(45.87 1.9171)\"><g class=\"a13 i0 leaf node n1 p0 sample\" transform=\"translate(-22.935 33.2147)\"><path class=\"edge\" d=\"M 0 0 V -33.2147 H 22.935\" /><rect class=\"sym\" height=\"6\" width=\"6\" x=\"-3\" y=\"-3\" /><text class=\"lab\" transform=\"translate(0 11)\">1</text></g><g class=\"a13 c2 node n12 p0\" transform=\"translate(22.935 7.8951)\"><g class=\"a12 i1 leaf node n2 p0 sample\" transform=\"translate(-15.29 25.3196)\"><path class=\"edge\" d=\"M 0 0 V -25.3196 H 15.29\" /><rect class=\"sym\" height=\"6\" width=\"6\" x=\"-3\" y=\"-3\" /><text class=\"lab\" transform=\"translate(0 11)\">2</text></g><g class=\"a12 i3 leaf node n6 p0 sample\" transform=\"translate(15.29 25.3196)\"><path class=\"edge\" d=\"M 0 0 V -25.3196 H -15.29\" /><rect class=\"sym\" height=\"6\" width=\"6\" x=\"-3\" y=\"-3\" /><text class=\"lab\" transform=\"translate(0 11)\">6</text></g><path class=\"edge\" d=\"M 0 0 V -7.8951 H -22.935\" /><circle class=\"sym\" cx=\"0\" cy=\"0\" r=\"3\" /><text class=\"lab rgt\" transform=\"translate(3 -7.0)\">12</text></g><path class=\"edge\" d=\"M 0 0 V -1.9171 H -45.87\" /><circle class=\"sym\" cx=\"0\" cy=\"0\" r=\"3\" /><text class=\"lab rgt\" transform=\"translate(3 -7.0)\">13</text></g><path class=\"edge\" d=\"M 0 0 V -259.468 H 64.9825\" /><circle class=\"sym\" cx=\"0\" cy=\"0\" r=\"3\" /><text class=\"lab lft\" transform=\"translate(-3 -7.0)\">14</text></g><circle class=\"sym\" cx=\"0\" cy=\"0\" r=\"3\" /><text class=\"lab\" transform=\"translate(0 -11)\">17</text></g></g></g><g class=\"tree t4\" transform=\"translate(1195.36 0)\"><g class=\"plotbox\"><g class=\"c2 node n17 p0 root\" transform=\"translate(175.767 26.8)\"><g class=\"a17 c2 node n10 p0\" transform=\"translate(58.2931 287.512)\"><g class=\"a10 i1 leaf node n3 p0 sample\" transform=\"translate(-15.29 7.08778)\"><path class=\"edge\" d=\"M 0 0 V -7.08778 H 15.29\" /><rect class=\"sym\" height=\"6\" width=\"6\" x=\"-3\" y=\"-3\" /><text class=\"lab\" transform=\"translate(0 11)\">3</text></g><g class=\"a10 i2 leaf node n4 p0 sample\" transform=\"translate(15.29 7.08778)\"><path class=\"edge\" d=\"M 0 0 V -7.08778 H -15.29\" /><rect class=\"sym\" height=\"6\" width=\"6\" x=\"-3\" y=\"-3\" /><text class=\"lab\" transform=\"translate(0 11)\">4</text></g><path class=\"edge\" d=\"M 0 0 V -287.512 H -58.2931\" /><circle class=\"sym\" cx=\"0\" cy=\"0\" r=\"3\" /><text class=\"lab rgt\" transform=\"translate(3 -7.0)\">10</text></g><g class=\"a17 c2 node n14 p0\" transform=\"translate(-58.2931 259.468)\"><g class=\"a14 c2 node n11 p0\" transform=\"translate(-55.4262 21.0652)\"><g class=\"a11 i0 leaf node n0 p0 sample\" transform=\"translate(-26.7575 14.0667)\"><path class=\"edge\" d=\"M 0 0 V -14.0667 H 26.7575\" /><rect class=\"sym\" height=\"6\" width=\"6\" x=\"-3\" y=\"-3\" /><text class=\"lab\" transform=\"translate(0 11)\">0</text></g><g class=\"a11 c2 node n9 p0\" transform=\"translate(26.7575 9.01164)\"><g class=\"a9 i1 leaf node n2 p0 sample\" transform=\"translate(-22.935 5.05502)\"><path class=\"edge\" d=\"M 0 0 V -5.05502 H 22.935\" /><rect class=\"sym\" height=\"6\" width=\"6\" x=\"-3\" y=\"-3\" /><text class=\"lab\" transform=\"translate(0 11)\">2</text></g><g class=\"a9 c2 node n8 p0\" transform=\"translate(22.935 1.17393)\"><g class=\"a8 i2 leaf node n5 p0 sample\" transform=\"translate(-15.29 3.88109)\"><path class=\"edge\" d=\"M 0 0 V -3.88109 H 15.29\" /><rect class=\"sym\" height=\"6\" width=\"6\" x=\"-3\" y=\"-3\" /><text class=\"lab\" transform=\"translate(0 11)\">5</text></g><g class=\"a8 i3 leaf node n7 p0 sample\" transform=\"translate(15.29 3.88109)\"><path class=\"edge\" d=\"M 0 0 V -3.88109 H -15.29\" /><rect class=\"sym\" height=\"6\" width=\"6\" x=\"-3\" y=\"-3\" /><text class=\"lab\" transform=\"translate(0 11)\">7</text></g><path class=\"edge\" d=\"M 0 0 V -1.17393 H -22.935\" /><circle class=\"sym\" cx=\"0\" cy=\"0\" r=\"3\" /><text class=\"lab rgt\" transform=\"translate(3 -7.0)\">8</text></g><path class=\"edge\" d=\"M 0 0 V -9.01164 H -26.7575\" /><circle class=\"sym\" cx=\"0\" cy=\"0\" r=\"3\" /><text class=\"lab rgt\" transform=\"translate(3 -7.0)\">9</text></g><path class=\"edge\" d=\"M 0 0 V -21.0652 H 55.4262\" /><circle class=\"sym\" cx=\"0\" cy=\"0\" r=\"3\" /><text class=\"lab lft\" transform=\"translate(-3 -7.0)\">11</text></g><g class=\"a14 c2 node n13 p0\" transform=\"translate(55.4263 1.9171)\"><g class=\"a13 i0 leaf node n1 p0 sample\" transform=\"translate(-15.29 33.2147)\"><path class=\"edge\" d=\"M 0 0 V -33.2147 H 15.29\" /><rect class=\"sym\" height=\"6\" width=\"6\" x=\"-3\" y=\"-3\" /><text class=\"lab\" transform=\"translate(0 11)\">1</text></g><g class=\"a13 i3 leaf node n6 p0 sample\" transform=\"translate(15.29 33.2147)\"><path class=\"edge\" d=\"M 0 0 V -33.2147 H -15.29\" /><rect class=\"sym\" height=\"6\" width=\"6\" x=\"-3\" y=\"-3\" /><text class=\"lab\" transform=\"translate(0 11)\">6</text></g><path class=\"edge\" d=\"M 0 0 V -1.9171 H -55.4263\" /><circle class=\"sym\" cx=\"0\" cy=\"0\" r=\"3\" /><text class=\"lab rgt\" transform=\"translate(3 -7.0)\">13</text></g><path class=\"edge\" d=\"M 0 0 V -259.468 H 58.2931\" /><circle class=\"sym\" cx=\"0\" cy=\"0\" r=\"3\" /><text class=\"lab lft\" transform=\"translate(-3 -7.0)\">14</text></g><circle class=\"sym\" cx=\"0\" cy=\"0\" r=\"3\" /><text class=\"lab\" transform=\"translate(0 -11)\">17</text></g></g></g></g></g></svg>"
      ],
      "text/plain": [
       "'<svg baseProfile=\"full\" height=\"400\" version=\"1.1\" width=\"1500\" xmlns=\"http://www.w3.org/2000/svg\" xmlns:ev=\"http://www.w3.org/2001/xml-events\" xmlns:xlink=\"http://www.w3.org/1999/xlink\"><defs><style type=\"text/css\"><![CDATA[.background path {fill: #808080; fill-opacity: 0}.background path:nth-child(odd) {fill-opacity: .1}.axes {font-size: 14px}.x-axis .tick .lab {font-weight: bold; dominant-baseline: hanging}.axes, .tree {font-size: 14px; text-anchor: middle}.axes line, .edge {stroke: black; fill: none}.axes .ax-skip {stroke-dasharray: 4}.y-axis .grid {stroke: #FAFAFA}.node > .sym {fill: black; stroke: none}.site > .sym {stroke: black}.mut text {fill: red; font-style: italic}.mut.extra text {fill: hotpink}.mut line {fill: none; stroke: none}.mut .sym {fill: none; stroke: red}.mut.extra .sym {stroke: hotpink}.node .mut .sym {stroke-width: 1.5px}.tree text, .tree-sequence text {dominant-baseline: central}.plotbox .lab.lft {text-anchor: end}.plotbox .lab.rgt {text-anchor: start}]]></style></defs><g class=\"tree-sequence\"><g class=\"background\"><path d=\"M56.8,0 l284.64,0 l0,338.2 l-142.32,25 l0,5 l-142.32,0 l0,-5 l0,-25 l0,-338.2z\" /><path d=\"M341.44,0 l284.64,0 l0,338.2 l-142.32,25 l0,5 l-284.64,0 l0,-5 l142.32,-25 l0,-338.2z\" /><path d=\"M626.08,0 l284.64,0 l0,338.2 l0,25 l0,5 l-426.96,0 l0,-5 l142.32,-25 l0,-338.2z\" /><path d=\"M910.72,0 l284.64,0 l0,338.2 l-142.32,25 l0,5 l-142.32,0 l0,-5 l0,-25 l0,-338.2z\" /><path d=\"M1195.36,0 l284.64,0 l0,338.2 l0,25 l0,5 l-426.96,0 l0,-5 l142.32,-25 l0,-338.2z\" /></g><g class=\"axes\"><g class=\"x-axis\"><g class=\"title\" transform=\"translate(768.4 400)\"><text class=\"lab\" text-anchor=\"middle\" transform=\"translate(0 -11)\">Genome position</text></g><line class=\"ax-line\" x1=\"56.8\" x2=\"1480\" y1=\"363.2\" y2=\"363.2\" /><g class=\"ticks\"><g class=\"tick\" transform=\"translate(56.8 363.2)\"><line x1=\"0\" x2=\"0\" y1=\"0\" y2=\"5\" /><g transform=\"translate(0 6)\"><text class=\"lab\">0</text></g></g><g class=\"tick\" transform=\"translate(199.12 363.2)\"><line x1=\"0\" x2=\"0\" y1=\"0\" y2=\"5\" /><g transform=\"translate(0 6)\"><text class=\"lab\">1</text></g></g><g class=\"tick\" transform=\"translate(483.76 363.2)\"><line x1=\"0\" x2=\"0\" y1=\"0\" y2=\"5\" /><g transform=\"translate(0 6)\"><text class=\"lab\">3</text></g></g><g class=\"tick\" transform=\"translate(910.72 363.2)\"><line x1=\"0\" x2=\"0\" y1=\"0\" y2=\"5\" /><g transform=\"translate(0 6)\"><text class=\"lab\">6</text></g></g><g class=\"tick\" transform=\"translate(1053.04 363.2)\"><line x1=\"0\" x2=\"0\" y1=\"0\" y2=\"5\" /><g transform=\"translate(0 6)\"><text class=\"lab\">7</text></g></g><g class=\"tick\" transform=\"translate(1480 363.2)\"><line x1=\"0\" x2=\"0\" y1=\"0\" y2=\"5\" /><g transform=\"translate(0 6)\"><text class=\"lab\">10</text></g></g></g></g><g class=\"y-axis\"><g class=\"title\" transform=\"translate(0 165.7)\"><text class=\"lab\" text-anchor=\"middle\" transform=\"translate(11) rotate(-90)\">Time (generations)</text></g><line class=\"ax-line\" x1=\"56.8\" x2=\"56.8\" y1=\"321.4\" y2=\"10\" /><g class=\"ticks\"><g class=\"tick\" transform=\"translate(56.8 321.4)\"><line x1=\"0\" x2=\"-5\" y1=\"0\" y2=\"0\" /><g transform=\"translate(-6 0)\"><text class=\"lab\" text-anchor=\"end\">0.00</text></g></g><g class=\"tick\" transform=\"translate(56.8 317.519)\"><line x1=\"0\" x2=\"-5\" y1=\"0\" y2=\"0\" /><g transform=\"translate(-6 0)\"><text class=\"lab\" text-anchor=\"end\">0.04</text></g></g><g class=\"tick\" transform=\"translate(56.8 316.345)\"><line x1=\"0\" x2=\"-5\" y1=\"0\" y2=\"0\" /><g transform=\"translate(-6 0)\"><text class=\"lab\" text-anchor=\"end\">0.05</text></g></g><g class=\"tick\" transform=\"translate(56.8 314.312)\"><line x1=\"0\" x2=\"-5\" y1=\"0\" y2=\"0\" /><g transform=\"translate(-6 0)\"><text class=\"lab\" text-anchor=\"end\">0.07</text></g></g><g class=\"tick\" transform=\"translate(56.8 307.333)\"><line x1=\"0\" x2=\"-5\" y1=\"0\" y2=\"0\" /><g transform=\"translate(-6 0)\"><text class=\"lab\" text-anchor=\"end\">0.14</text></g></g><g class=\"tick\" transform=\"translate(56.8 296.08)\"><line x1=\"0\" x2=\"-5\" y1=\"0\" y2=\"0\" /><g transform=\"translate(-6 0)\"><text class=\"lab\" text-anchor=\"end\">0.24</text></g></g><g class=\"tick\" transform=\"translate(56.8 288.185)\"><line x1=\"0\" x2=\"-5\" y1=\"0\" y2=\"0\" /><g transform=\"translate(-6 0)\"><text class=\"lab\" text-anchor=\"end\">0.32</text></g></g><g class=\"tick\" transform=\"translate(56.8 286.268)\"><line x1=\"0\" x2=\"-5\" y1=\"0\" y2=\"0\" /><g transform=\"translate(-6 0)\"><text class=\"lab\" text-anchor=\"end\">0.34</text></g></g><g class=\"tick\" transform=\"translate(56.8 141.477)\"><line x1=\"0\" x2=\"-5\" y1=\"0\" y2=\"0\" /><g transform=\"translate(-6 0)\"><text class=\"lab\" text-anchor=\"end\">1.74</text></g></g><g class=\"tick\" transform=\"translate(56.8 61.0902)\"><line x1=\"0\" x2=\"-5\" y1=\"0\" y2=\"0\" /><g transform=\"translate(-6 0)\"><text class=\"lab\" text-anchor=\"end\">2.51</text></g></g><g class=\"tick\" transform=\"translate(56.8 26.8)\"><line x1=\"0\" x2=\"-5\" y1=\"0\" y2=\"0\" /><g transform=\"translate(-6 0)\"><text class=\"lab\" text-anchor=\"end\">2.84</text></g></g></g></g></g><g class=\"plotbox trees\"><g class=\"tree t0\" transform=\"translate(56.8 0)\"><g class=\"plotbox\"><g class=\"c2 node n16 p0 root\" transform=\"translate(169.078 61.0902)\"><g class=\"a16 c2 node n10 p0\" transform=\"translate(64.9825 253.222)\"><g class=\"a10 i1 leaf node n3 p0 sample\" transform=\"translate(-15.29 7.08778)\"><path class=\"edge\" d=\"M 0 0 V -7.08778 H 15.29\" /><rect class=\"sym\" height=\"6\" width=\"6\" x=\"-3\" y=\"-3\" /><text class=\"lab\" transform=\"translate(0 11)\">3</text></g><g class=\"a10 i2 leaf node n4 p0 sample\" transform=\"translate(15.29 7.08778)\"><path class=\"edge\" d=\"M 0 0 V -7.08778 H -15.29\" /><rect class=\"sym\" height=\"6\" width=\"6\" x=\"-3\" y=\"-3\" /><text class=\"lab\" transform=\"translate(0 11)\">4</text></g><path class=\"edge\" d=\"M 0 0 V -253.222 H -64.9825\" /><circle class=\"sym\" cx=\"0\" cy=\"0\" r=\"3\" /><text class=\"lab rgt\" transform=\"translate(3 -7.0)\">10</text></g><g class=\"a16 c2 node n14 p0\" transform=\"translate(-64.9825 225.178)\"><g class=\"a14 c2 node n11 p0\" transform=\"translate(-45.87 21.0652)\"><g class=\"a11 i0 leaf node n0 p0 sample\" transform=\"translate(-22.935 14.0667)\"><path class=\"edge\" d=\"M 0 0 V -14.0667 H 22.935\" /><rect class=\"sym\" height=\"6\" width=\"6\" x=\"-3\" y=\"-3\" /><text class=\"lab\" transform=\"translate(0 11)\">0</text></g><g class=\"a11 c2 node n8 p0\" transform=\"translate(22.935 10.1856)\"><g class=\"a8 i2 leaf node n5 p0 sample\" transform=\"translate(-15.29 3.88109)\"><path class=\"edge\" d=\"M 0 0 V -3.88109 H 15.29\" /><rect class=\"sym\" height=\"6\" width=\"6\" x=\"-3\" y=\"-3\" /><text class=\"lab\" transform=\"translate(0 11)\">5</text></g><g class=\"a8 i3 leaf node n7 p0 sample\" transform=\"translate(15.29 3.88109)\"><path class=\"edge\" d=\"M 0 0 V -3.88109 H -15.29\" /><rect class=\"sym\" height=\"6\" width=\"6\" x=\"-3\" y=\"-3\" /><text class=\"lab\" transform=\"translate(0 11)\">7</text></g><path class=\"edge\" d=\"M 0 0 V -10.1856 H -22.935\" /><circle class=\"sym\" cx=\"0\" cy=\"0\" r=\"3\" /><text class=\"lab rgt\" transform=\"translate(3 -7.0)\">8</text></g><path class=\"edge\" d=\"M 0 0 V -21.0652 H 45.87\" /><circle class=\"sym\" cx=\"0\" cy=\"0\" r=\"3\" /><text class=\"lab lft\" transform=\"translate(-3 -7.0)\">11</text></g><g class=\"a14 c2 node n13 p0\" transform=\"translate(45.87 1.9171)\"><g class=\"a13 i0 leaf node n1 p0 sample\" transform=\"translate(-22.935 33.2147)\"><path class=\"edge\" d=\"M 0 0 V -33.2147 H 22.935\" /><rect class=\"sym\" height=\"6\" width=\"6\" x=\"-3\" y=\"-3\" /><text class=\"lab\" transform=\"translate(0 11)\">1</text></g><g class=\"a13 c2 node n12 p0\" transform=\"translate(22.935 7.8951)\"><g class=\"a12 i1 leaf node n2 p0 sample\" transform=\"translate(-15.29 25.3196)\"><path class=\"edge\" d=\"M 0 0 V -25.3196 H 15.29\" /><rect class=\"sym\" height=\"6\" width=\"6\" x=\"-3\" y=\"-3\" /><text class=\"lab\" transform=\"translate(0 11)\">2</text></g><g class=\"a12 i3 leaf node n6 p0 sample\" transform=\"translate(15.29 25.3196)\"><path class=\"edge\" d=\"M 0 0 V -25.3196 H -15.29\" /><rect class=\"sym\" height=\"6\" width=\"6\" x=\"-3\" y=\"-3\" /><text class=\"lab\" transform=\"translate(0 11)\">6</text></g><path class=\"edge\" d=\"M 0 0 V -7.8951 H -22.935\" /><circle class=\"sym\" cx=\"0\" cy=\"0\" r=\"3\" /><text class=\"lab rgt\" transform=\"translate(3 -7.0)\">12</text></g><path class=\"edge\" d=\"M 0 0 V -1.9171 H -45.87\" /><circle class=\"sym\" cx=\"0\" cy=\"0\" r=\"3\" /><text class=\"lab rgt\" transform=\"translate(3 -7.0)\">13</text></g><path class=\"edge\" d=\"M 0 0 V -225.178 H 64.9825\" /><circle class=\"sym\" cx=\"0\" cy=\"0\" r=\"3\" /><text class=\"lab lft\" transform=\"translate(-3 -7.0)\">14</text></g><circle class=\"sym\" cx=\"0\" cy=\"0\" r=\"3\" /><text class=\"lab\" transform=\"translate(0 -11)\">16</text></g></g></g><g class=\"tree t1\" transform=\"translate(341.44 0)\"><g class=\"plotbox\"><g class=\"c2 node n17 p0 root\" transform=\"translate(169.078 26.8)\"><g class=\"a17 c2 node n10 p0\" transform=\"translate(64.9825 287.512)\"><g class=\"a10 i1 leaf node n3 p0 sample\" transform=\"translate(-15.29 7.08778)\"><path class=\"edge\" d=\"M 0 0 V -7.08778 H 15.29\" /><rect class=\"sym\" height=\"6\" width=\"6\" x=\"-3\" y=\"-3\" /><text class=\"lab\" transform=\"translate(0 11)\">3</text></g><g class=\"a10 i2 leaf node n4 p0 sample\" transform=\"translate(15.29 7.08778)\"><path class=\"edge\" d=\"M 0 0 V -7.08778 H -15.29\" /><rect class=\"sym\" height=\"6\" width=\"6\" x=\"-3\" y=\"-3\" /><text class=\"lab\" transform=\"translate(0 11)\">4</text></g><path class=\"edge\" d=\"M 0 0 V -287.512 H -64.9825\" /><circle class=\"sym\" cx=\"0\" cy=\"0\" r=\"3\" /><text class=\"lab rgt\" transform=\"translate(3 -7.0)\">10</text></g><g class=\"a17 c2 node n14 p0\" transform=\"translate(-64.9825 259.468)\"><g class=\"a14 c2 node n11 p0\" transform=\"translate(-45.87 21.0652)\"><g class=\"a11 i0 leaf node n0 p0 sample\" transform=\"translate(-22.935 14.0667)\"><path class=\"edge\" d=\"M 0 0 V -14.0667 H 22.935\" /><rect class=\"sym\" height=\"6\" width=\"6\" x=\"-3\" y=\"-3\" /><text class=\"lab\" transform=\"translate(0 11)\">0</text></g><g class=\"a11 c2 node n8 p0\" transform=\"translate(22.935 10.1856)\"><g class=\"a8 i2 leaf node n5 p0 sample\" transform=\"translate(-15.29 3.88109)\"><path class=\"edge\" d=\"M 0 0 V -3.88109 H 15.29\" /><rect class=\"sym\" height=\"6\" width=\"6\" x=\"-3\" y=\"-3\" /><text class=\"lab\" transform=\"translate(0 11)\">5</text></g><g class=\"a8 i3 leaf node n7 p0 sample\" transform=\"translate(15.29 3.88109)\"><path class=\"edge\" d=\"M 0 0 V -3.88109 H -15.29\" /><rect class=\"sym\" height=\"6\" width=\"6\" x=\"-3\" y=\"-3\" /><text class=\"lab\" transform=\"translate(0 11)\">7</text></g><path class=\"edge\" d=\"M 0 0 V -10.1856 H -22.935\" /><circle class=\"sym\" cx=\"0\" cy=\"0\" r=\"3\" /><text class=\"lab rgt\" transform=\"translate(3 -7.0)\">8</text></g><path class=\"edge\" d=\"M 0 0 V -21.0652 H 45.87\" /><circle class=\"sym\" cx=\"0\" cy=\"0\" r=\"3\" /><text class=\"lab lft\" transform=\"translate(-3 -7.0)\">11</text></g><g class=\"a14 c2 node n13 p0\" transform=\"translate(45.87 1.9171)\"><g class=\"a13 i0 leaf node n1 p0 sample\" transform=\"translate(-22.935 33.2147)\"><path class=\"edge\" d=\"M 0 0 V -33.2147 H 22.935\" /><rect class=\"sym\" height=\"6\" width=\"6\" x=\"-3\" y=\"-3\" /><text class=\"lab\" transform=\"translate(0 11)\">1</text></g><g class=\"a13 c2 node n12 p0\" transform=\"translate(22.935 7.8951)\"><g class=\"a12 i1 leaf node n2 p0 sample\" transform=\"translate(-15.29 25.3196)\"><path class=\"edge\" d=\"M 0 0 V -25.3196 H 15.29\" /><rect class=\"sym\" height=\"6\" width=\"6\" x=\"-3\" y=\"-3\" /><text class=\"lab\" transform=\"translate(0 11)\">2</text></g><g class=\"a12 i3 leaf node n6 p0 sample\" transform=\"translate(15.29 25.3196)\"><path class=\"edge\" d=\"M 0 0 V -25.3196 H -15.29\" /><rect class=\"sym\" height=\"6\" width=\"6\" x=\"-3\" y=\"-3\" /><text class=\"lab\" transform=\"translate(0 11)\">6</text></g><path class=\"edge\" d=\"M 0 0 V -7.8951 H -22.935\" /><circle class=\"sym\" cx=\"0\" cy=\"0\" r=\"3\" /><text class=\"lab rgt\" transform=\"translate(3 -7.0)\">12</text></g><path class=\"edge\" d=\"M 0 0 V -1.9171 H -45.87\" /><circle class=\"sym\" cx=\"0\" cy=\"0\" r=\"3\" /><text class=\"lab rgt\" transform=\"translate(3 -7.0)\">13</text></g><path class=\"edge\" d=\"M 0 0 V -259.468 H 64.9825\" /><circle class=\"sym\" cx=\"0\" cy=\"0\" r=\"3\" /><text class=\"lab lft\" transform=\"translate(-3 -7.0)\">14</text></g><circle class=\"sym\" cx=\"0\" cy=\"0\" r=\"3\" /><text class=\"lab\" transform=\"translate(0 -11)\">17</text></g></g></g><g class=\"tree t2\" transform=\"translate(626.08 0)\"><g class=\"plotbox\"><g class=\"c2 node n15 p0 root\" transform=\"translate(169.078 141.477)\"><g class=\"a15 c2 node n10 p0\" transform=\"translate(64.9825 172.836)\"><g class=\"a10 i1 leaf node n3 p0 sample\" transform=\"translate(-15.29 7.08778)\"><path class=\"edge\" d=\"M 0 0 V -7.08778 H 15.29\" /><rect class=\"sym\" height=\"6\" width=\"6\" x=\"-3\" y=\"-3\" /><text class=\"lab\" transform=\"translate(0 11)\">3</text></g><g class=\"a10 i2 leaf node n4 p0 sample\" transform=\"translate(15.29 7.08778)\"><path class=\"edge\" d=\"M 0 0 V -7.08778 H -15.29\" /><rect class=\"sym\" height=\"6\" width=\"6\" x=\"-3\" y=\"-3\" /><text class=\"lab\" transform=\"translate(0 11)\">4</text></g><path class=\"edge\" d=\"M 0 0 V -172.836 H -64.9825\" /><circle class=\"sym\" cx=\"0\" cy=\"0\" r=\"3\" /><text class=\"lab rgt\" transform=\"translate(3 -7.0)\">10</text></g><g class=\"a15 c2 node n14 p0\" transform=\"translate(-64.9825 144.792)\"><g class=\"a14 c2 node n11 p0\" transform=\"translate(-45.87 21.0652)\"><g class=\"a11 i0 leaf node n0 p0 sample\" transform=\"translate(-22.935 14.0667)\"><path class=\"edge\" d=\"M 0 0 V -14.0667 H 22.935\" /><rect class=\"sym\" height=\"6\" width=\"6\" x=\"-3\" y=\"-3\" /><text class=\"lab\" transform=\"translate(0 11)\">0</text></g><g class=\"a11 c2 node n8 p0\" transform=\"translate(22.935 10.1856)\"><g class=\"a8 i2 leaf node n5 p0 sample\" transform=\"translate(-15.29 3.88109)\"><path class=\"edge\" d=\"M 0 0 V -3.88109 H 15.29\" /><rect class=\"sym\" height=\"6\" width=\"6\" x=\"-3\" y=\"-3\" /><text class=\"lab\" transform=\"translate(0 11)\">5</text></g><g class=\"a8 i3 leaf node n7 p0 sample\" transform=\"translate(15.29 3.88109)\"><path class=\"edge\" d=\"M 0 0 V -3.88109 H -15.29\" /><rect class=\"sym\" height=\"6\" width=\"6\" x=\"-3\" y=\"-3\" /><text class=\"lab\" transform=\"translate(0 11)\">7</text></g><path class=\"edge\" d=\"M 0 0 V -10.1856 H -22.935\" /><circle class=\"sym\" cx=\"0\" cy=\"0\" r=\"3\" /><text class=\"lab rgt\" transform=\"translate(3 -7.0)\">8</text></g><path class=\"edge\" d=\"M 0 0 V -21.0652 H 45.87\" /><circle class=\"sym\" cx=\"0\" cy=\"0\" r=\"3\" /><text class=\"lab lft\" transform=\"translate(-3 -7.0)\">11</text></g><g class=\"a14 c2 node n13 p0\" transform=\"translate(45.87 1.9171)\"><g class=\"a13 i0 leaf node n1 p0 sample\" transform=\"translate(-22.935 33.2147)\"><path class=\"edge\" d=\"M 0 0 V -33.2147 H 22.935\" /><rect class=\"sym\" height=\"6\" width=\"6\" x=\"-3\" y=\"-3\" /><text class=\"lab\" transform=\"translate(0 11)\">1</text></g><g class=\"a13 c2 node n12 p0\" transform=\"translate(22.935 7.8951)\"><g class=\"a12 i1 leaf node n2 p0 sample\" transform=\"translate(-15.29 25.3196)\"><path class=\"edge\" d=\"M 0 0 V -25.3196 H 15.29\" /><rect class=\"sym\" height=\"6\" width=\"6\" x=\"-3\" y=\"-3\" /><text class=\"lab\" transform=\"translate(0 11)\">2</text></g><g class=\"a12 i3 leaf node n6 p0 sample\" transform=\"translate(15.29 25.3196)\"><path class=\"edge\" d=\"M 0 0 V -25.3196 H -15.29\" /><rect class=\"sym\" height=\"6\" width=\"6\" x=\"-3\" y=\"-3\" /><text class=\"lab\" transform=\"translate(0 11)\">6</text></g><path class=\"edge\" d=\"M 0 0 V -7.8951 H -22.935\" /><circle class=\"sym\" cx=\"0\" cy=\"0\" r=\"3\" /><text class=\"lab rgt\" transform=\"translate(3 -7.0)\">12</text></g><path class=\"edge\" d=\"M 0 0 V -1.9171 H -45.87\" /><circle class=\"sym\" cx=\"0\" cy=\"0\" r=\"3\" /><text class=\"lab rgt\" transform=\"translate(3 -7.0)\">13</text></g><path class=\"edge\" d=\"M 0 0 V -144.792 H 64.9825\" /><circle class=\"sym\" cx=\"0\" cy=\"0\" r=\"3\" /><text class=\"lab lft\" transform=\"translate(-3 -7.0)\">14</text></g><circle class=\"sym\" cx=\"0\" cy=\"0\" r=\"3\" /><text class=\"lab\" transform=\"translate(0 -11)\">15</text></g></g></g><g class=\"tree t3\" transform=\"translate(910.72 0)\"><g class=\"plotbox\"><g class=\"c2 node n17 p0 root\" transform=\"translate(169.078 26.8)\"><g class=\"a17 c2 node n10 p0\" transform=\"translate(64.9825 287.512)\"><g class=\"a10 i1 leaf node n3 p0 sample\" transform=\"translate(-15.29 7.08778)\"><path class=\"edge\" d=\"M 0 0 V -7.08778 H 15.29\" /><rect class=\"sym\" height=\"6\" width=\"6\" x=\"-3\" y=\"-3\" /><text class=\"lab\" transform=\"translate(0 11)\">3</text></g><g class=\"a10 i2 leaf node n4 p0 sample\" transform=\"translate(15.29 7.08778)\"><path class=\"edge\" d=\"M 0 0 V -7.08778 H -15.29\" /><rect class=\"sym\" height=\"6\" width=\"6\" x=\"-3\" y=\"-3\" /><text class=\"lab\" transform=\"translate(0 11)\">4</text></g><path class=\"edge\" d=\"M 0 0 V -287.512 H -64.9825\" /><circle class=\"sym\" cx=\"0\" cy=\"0\" r=\"3\" /><text class=\"lab rgt\" transform=\"translate(3 -7.0)\">10</text></g><g class=\"a17 c2 node n14 p0\" transform=\"translate(-64.9825 259.468)\"><g class=\"a14 c2 node n11 p0\" transform=\"translate(-45.87 21.0652)\"><g class=\"a11 i0 leaf node n0 p0 sample\" transform=\"translate(-22.935 14.0667)\"><path class=\"edge\" d=\"M 0 0 V -14.0667 H 22.935\" /><rect class=\"sym\" height=\"6\" width=\"6\" x=\"-3\" y=\"-3\" /><text class=\"lab\" transform=\"translate(0 11)\">0</text></g><g class=\"a11 c2 node n8 p0\" transform=\"translate(22.935 10.1856)\"><g class=\"a8 i2 leaf node n5 p0 sample\" transform=\"translate(-15.29 3.88109)\"><path class=\"edge\" d=\"M 0 0 V -3.88109 H 15.29\" /><rect class=\"sym\" height=\"6\" width=\"6\" x=\"-3\" y=\"-3\" /><text class=\"lab\" transform=\"translate(0 11)\">5</text></g><g class=\"a8 i3 leaf node n7 p0 sample\" transform=\"translate(15.29 3.88109)\"><path class=\"edge\" d=\"M 0 0 V -3.88109 H -15.29\" /><rect class=\"sym\" height=\"6\" width=\"6\" x=\"-3\" y=\"-3\" /><text class=\"lab\" transform=\"translate(0 11)\">7</text></g><path class=\"edge\" d=\"M 0 0 V -10.1856 H -22.935\" /><circle class=\"sym\" cx=\"0\" cy=\"0\" r=\"3\" /><text class=\"lab rgt\" transform=\"translate(3 -7.0)\">8</text></g><path class=\"edge\" d=\"M 0 0 V -21.0652 H 45.87\" /><circle class=\"sym\" cx=\"0\" cy=\"0\" r=\"3\" /><text class=\"lab lft\" transform=\"translate(-3 -7.0)\">11</text></g><g class=\"a14 c2 node n13 p0\" transform=\"translate(45.87 1.9171)\"><g class=\"a13 i0 leaf node n1 p0 sample\" transform=\"translate(-22.935 33.2147)\"><path class=\"edge\" d=\"M 0 0 V -33.2147 H 22.935\" /><rect class=\"sym\" height=\"6\" width=\"6\" x=\"-3\" y=\"-3\" /><text class=\"lab\" transform=\"translate(0 11)\">1</text></g><g class=\"a13 c2 node n12 p0\" transform=\"translate(22.935 7.8951)\"><g class=\"a12 i1 leaf node n2 p0 sample\" transform=\"translate(-15.29 25.3196)\"><path class=\"edge\" d=\"M 0 0 V -25.3196 H 15.29\" /><rect class=\"sym\" height=\"6\" width=\"6\" x=\"-3\" y=\"-3\" /><text class=\"lab\" transform=\"translate(0 11)\">2</text></g><g class=\"a12 i3 leaf node n6 p0 sample\" transform=\"translate(15.29 25.3196)\"><path class=\"edge\" d=\"M 0 0 V -25.3196 H -15.29\" /><rect class=\"sym\" height=\"6\" width=\"6\" x=\"-3\" y=\"-3\" /><text class=\"lab\" transform=\"translate(0 11)\">6</text></g><path class=\"edge\" d=\"M 0 0 V -7.8951 H -22.935\" /><circle class=\"sym\" cx=\"0\" cy=\"0\" r=\"3\" /><text class=\"lab rgt\" transform=\"translate(3 -7.0)\">12</text></g><path class=\"edge\" d=\"M 0 0 V -1.9171 H -45.87\" /><circle class=\"sym\" cx=\"0\" cy=\"0\" r=\"3\" /><text class=\"lab rgt\" transform=\"translate(3 -7.0)\">13</text></g><path class=\"edge\" d=\"M 0 0 V -259.468 H 64.9825\" /><circle class=\"sym\" cx=\"0\" cy=\"0\" r=\"3\" /><text class=\"lab lft\" transform=\"translate(-3 -7.0)\">14</text></g><circle class=\"sym\" cx=\"0\" cy=\"0\" r=\"3\" /><text class=\"lab\" transform=\"translate(0 -11)\">17</text></g></g></g><g class=\"tree t4\" transform=\"translate(1195.36 0)\"><g class=\"plotbox\"><g class=\"c2 node n17 p0 root\" transform=\"translate(175.767 26.8)\"><g class=\"a17 c2 node n10 p0\" transform=\"translate(58.2931 287.512)\"><g class=\"a10 i1 leaf node n3 p0 sample\" transform=\"translate(-15.29 7.08778)\"><path class=\"edge\" d=\"M 0 0 V -7.08778 H 15.29\" /><rect class=\"sym\" height=\"6\" width=\"6\" x=\"-3\" y=\"-3\" /><text class=\"lab\" transform=\"translate(0 11)\">3</text></g><g class=\"a10 i2 leaf node n4 p0 sample\" transform=\"translate(15.29 7.08778)\"><path class=\"edge\" d=\"M 0 0 V -7.08778 H -15.29\" /><rect class=\"sym\" height=\"6\" width=\"6\" x=\"-3\" y=\"-3\" /><text class=\"lab\" transform=\"translate(0 11)\">4</text></g><path class=\"edge\" d=\"M 0 0 V -287.512 H -58.2931\" /><circle class=\"sym\" cx=\"0\" cy=\"0\" r=\"3\" /><text class=\"lab rgt\" transform=\"translate(3 -7.0)\">10</text></g><g class=\"a17 c2 node n14 p0\" transform=\"translate(-58.2931 259.468)\"><g class=\"a14 c2 node n11 p0\" transform=\"translate(-55.4262 21.0652)\"><g class=\"a11 i0 leaf node n0 p0 sample\" transform=\"translate(-26.7575 14.0667)\"><path class=\"edge\" d=\"M 0 0 V -14.0667 H 26.7575\" /><rect class=\"sym\" height=\"6\" width=\"6\" x=\"-3\" y=\"-3\" /><text class=\"lab\" transform=\"translate(0 11)\">0</text></g><g class=\"a11 c2 node n9 p0\" transform=\"translate(26.7575 9.01164)\"><g class=\"a9 i1 leaf node n2 p0 sample\" transform=\"translate(-22.935 5.05502)\"><path class=\"edge\" d=\"M 0 0 V -5.05502 H 22.935\" /><rect class=\"sym\" height=\"6\" width=\"6\" x=\"-3\" y=\"-3\" /><text class=\"lab\" transform=\"translate(0 11)\">2</text></g><g class=\"a9 c2 node n8 p0\" transform=\"translate(22.935 1.17393)\"><g class=\"a8 i2 leaf node n5 p0 sample\" transform=\"translate(-15.29 3.88109)\"><path class=\"edge\" d=\"M 0 0 V -3.88109 H 15.29\" /><rect class=\"sym\" height=\"6\" width=\"6\" x=\"-3\" y=\"-3\" /><text class=\"lab\" transform=\"translate(0 11)\">5</text></g><g class=\"a8 i3 leaf node n7 p0 sample\" transform=\"translate(15.29 3.88109)\"><path class=\"edge\" d=\"M 0 0 V -3.88109 H -15.29\" /><rect class=\"sym\" height=\"6\" width=\"6\" x=\"-3\" y=\"-3\" /><text class=\"lab\" transform=\"translate(0 11)\">7</text></g><path class=\"edge\" d=\"M 0 0 V -1.17393 H -22.935\" /><circle class=\"sym\" cx=\"0\" cy=\"0\" r=\"3\" /><text class=\"lab rgt\" transform=\"translate(3 -7.0)\">8</text></g><path class=\"edge\" d=\"M 0 0 V -9.01164 H -26.7575\" /><circle class=\"sym\" cx=\"0\" cy=\"0\" r=\"3\" /><text class=\"lab rgt\" transform=\"translate(3 -7.0)\">9</text></g><path class=\"edge\" d=\"M 0 0 V -21.0652 H 55.4262\" /><circle class=\"sym\" cx=\"0\" cy=\"0\" r=\"3\" /><text class=\"lab lft\" transform=\"translate(-3 -7.0)\">11</text></g><g class=\"a14 c2 node n13 p0\" transform=\"translate(55.4263 1.9171)\"><g class=\"a13 i0 leaf node n1 p0 sample\" transform=\"translate(-15.29 33.2147)\"><path class=\"edge\" d=\"M 0 0 V -33.2147 H 15.29\" /><rect class=\"sym\" height=\"6\" width=\"6\" x=\"-3\" y=\"-3\" /><text class=\"lab\" transform=\"translate(0 11)\">1</text></g><g class=\"a13 i3 leaf node n6 p0 sample\" transform=\"translate(15.29 33.2147)\"><path class=\"edge\" d=\"M 0 0 V -33.2147 H -15.29\" /><rect class=\"sym\" height=\"6\" width=\"6\" x=\"-3\" y=\"-3\" /><text class=\"lab\" transform=\"translate(0 11)\">6</text></g><path class=\"edge\" d=\"M 0 0 V -1.9171 H -55.4263\" /><circle class=\"sym\" cx=\"0\" cy=\"0\" r=\"3\" /><text class=\"lab rgt\" transform=\"translate(3 -7.0)\">13</text></g><path class=\"edge\" d=\"M 0 0 V -259.468 H 58.2931\" /><circle class=\"sym\" cx=\"0\" cy=\"0\" r=\"3\" /><text class=\"lab lft\" transform=\"translate(-3 -7.0)\">14</text></g><circle class=\"sym\" cx=\"0\" cy=\"0\" r=\"3\" /><text class=\"lab\" transform=\"translate(0 -11)\">17</text></g></g></g></g></g></svg>'"
      ]
     },
     "execution_count": 183,
     "metadata": {},
     "output_type": "execute_result"
    }
   ],
   "source": [
    "ts.draw_svg(y_axis=True, size=(1500,400))"
   ]
  },
  {
   "cell_type": "code",
   "execution_count": 182,
   "id": "53ee8c31-8ac8-4e94-bd1c-a9f86ec0767b",
   "metadata": {
    "scrolled": true
   },
   "outputs": [],
   "source": [
    "# from IPython import display\n",
    "# for e in ts.indexes_edge_insertion_order:\n",
    "#     display.display(ts.draw_svg(size=(1000, 300), style=f'.a{ts.edges_parent[e]}.n{ts.edges_child[e]} > .edge {{stroke: cyan; stroke-width: 2px}}'))\n",
    "#     # print(ts.edge(e))"
   ]
  },
  {
   "cell_type": "code",
   "execution_count": 47,
   "id": "15e7e365-ed43-47e1-a950-1eccc7dac678",
   "metadata": {},
   "outputs": [],
   "source": [
    "from itertools import combinations"
   ]
  },
  {
   "cell_type": "code",
   "execution_count": 196,
   "id": "8c284018-5271-4c17-b937-ea632edaf8ae",
   "metadata": {},
   "outputs": [
    {
     "data": {
      "text/plain": [
       "{(2, 6): 12, (3, 4): 10, (5, 7): 8}"
      ]
     },
     "execution_count": 196,
     "metadata": {},
     "output_type": "execute_result"
    }
   ],
   "source": [
    "{k: v for k, v in mrcas.items() if v != tskit.NULL}"
   ]
  },
  {
   "cell_type": "code",
   "execution_count": 215,
   "id": "41891a32-7c2c-46cb-8fe6-ce8bd85442f9",
   "metadata": {},
   "outputs": [
    {
     "name": "stdout",
     "output_type": "stream",
     "text": [
      "16 {0, 1, 2, 3, 4, 5, 6, 7}\n",
      "14 {0, 1, 2, 5, 6, 7}\n",
      "13 {1, 2, 6}\n",
      "12 {2, 6}\n",
      "11 {0, 5, 7}\n",
      "10 {3, 4}\n",
      "8 {5, 7}\n"
     ]
    }
   ],
   "source": [
    "mrcas = {(i, j): tskit.NULL for i, j in combinations(ts.samples(), 2)}\n",
    "n = ts.num_nodes - 1\n",
    "while ts.num_samples - 1 < n:\n",
    "    if samples := samples_under_nodes[n]:\n",
    "        print(n, samples)\n",
    "        for s1, s2 in combinations(samples, 2):\n",
    "            mrcas[s1, s2] = n\n",
    "    n -= 1"
   ]
  },
  {
   "cell_type": "code",
   "execution_count": 204,
   "id": "c9a6e203-7d8e-440d-b72b-00274980ba9b",
   "metadata": {},
   "outputs": [
    {
     "data": {
      "text/plain": [
       "{(0, 1): 14,\n",
       " (0, 2): 14,\n",
       " (0, 3): 16,\n",
       " (0, 4): 16,\n",
       " (0, 5): 11,\n",
       " (0, 6): 14,\n",
       " (0, 7): 11,\n",
       " (1, 2): 13,\n",
       " (1, 3): 16,\n",
       " (1, 4): 16,\n",
       " (1, 5): 14,\n",
       " (1, 6): 13,\n",
       " (1, 7): 14,\n",
       " (2, 3): 16,\n",
       " (2, 4): 16,\n",
       " (2, 5): 14,\n",
       " (2, 6): 12,\n",
       " (2, 7): 14,\n",
       " (3, 4): 10,\n",
       " (3, 5): 16,\n",
       " (3, 6): 16,\n",
       " (3, 7): 16,\n",
       " (4, 5): 16,\n",
       " (4, 6): 16,\n",
       " (4, 7): 16,\n",
       " (5, 6): 14,\n",
       " (5, 7): 8,\n",
       " (6, 7): 14}"
      ]
     },
     "execution_count": 204,
     "metadata": {},
     "output_type": "execute_result"
    }
   ],
   "source": [
    "mrcas"
   ]
  },
  {
   "cell_type": "code",
   "execution_count": 181,
   "id": "315e5cd2-cb28-4aab-9aab-6f96fa8768db",
   "metadata": {},
   "outputs": [],
   "source": [
    "# inner = 0\n",
    "# for i in range(ts.num_nodes - ts.num_samples):\n",
    "#     for j in range(inner + 1, ts.num_nodes - ts.num_samples):\n",
    "#         print(i + ts.num_samples, j + ts.num_samples, samples_under_nodes[ts.num_samples:][i], samples_under_nodes[ts.num_samples:][j])\n",
    "#     inner += 1"
   ]
  },
  {
   "cell_type": "code",
   "execution_count": 213,
   "id": "e3cafcaf-fcd1-43b7-9bb5-5532324b213d",
   "metadata": {},
   "outputs": [],
   "source": [
    "samples_under_nodes = [set() for _ in range(ts.num_nodes)]\n",
    "parents = [tskit.NULL] * ts.num_nodes\n",
    "\n",
    "for s in ts.samples():\n",
    "    samples_under_nodes[s].add(s)\n",
    "\n",
    "edges_out = ts.indexes_edge_removal_order\n",
    "edges_in = ts.indexes_edge_insertion_order\n",
    "\n",
    "tj, tk, t_left, tree_index, window_index = 0, 0, 0, 0, 0\n",
    "\n",
    "while tj < ts.num_edges or t_left < ts.sequence_length:\n",
    "    while tk < ts.num_edges and ts.edges_right[edges_out[tk]] == t_left:\n",
    "        e = edges_out[tk]\n",
    "        tk += 1\n",
    "        child = ts.edges_child[e]\n",
    "        parent = ts.edges_parent[e]\n",
    "        while parent != tskit.NULL:\n",
    "            samples_under_nodes[parent] -= samples_under_nodes[child]\n",
    "            parent = ts.edges_parent[parent]\n",
    "\n",
    "    while tj < ts.num_edges and ts.edges_left[edges_in[tj]] == t_left:\n",
    "        e = edges_in[tj]\n",
    "        tj += 1\n",
    "        child = ts.edges_child[e]\n",
    "        parent = ts.edges_parent[e]\n",
    "        parents[child] = parent\n",
    "        while parent != tskit.NULL:\n",
    "            samples_under_nodes[parent] |= samples_under_nodes[child]\n",
    "            parent = parents[parent]\n",
    "\n",
    "    t_right = ts.sequence_length\n",
    "    if tj < ts.num_edges:\n",
    "        t_right = min(t_right, ts.edges_left[edges_in[tj]])\n",
    "    if tk < ts.num_edges:\n",
    "        t_right = min(t_right, ts.edges_right[edges_out[tk]])\n",
    "\n",
    "    if tree_index == 0:\n",
    "        break\n",
    "    tree_index += 1\n",
    "    t_left = t_right"
   ]
  },
  {
   "cell_type": "code",
   "execution_count": 214,
   "id": "cd8e8933-31e4-4841-8396-9c2efa60a0e6",
   "metadata": {},
   "outputs": [
    {
     "data": {
      "text/plain": [
       "[{0},\n",
       " {1},\n",
       " {2},\n",
       " {3},\n",
       " {4},\n",
       " {5},\n",
       " {6},\n",
       " {7},\n",
       " {5, 7},\n",
       " set(),\n",
       " {3, 4},\n",
       " {0, 5, 7},\n",
       " {2, 6},\n",
       " {1, 2, 6},\n",
       " {0, 1, 2, 5, 6, 7},\n",
       " set(),\n",
       " {0, 1, 2, 3, 4, 5, 6, 7},\n",
       " set()]"
      ]
     },
     "execution_count": 214,
     "metadata": {},
     "output_type": "execute_result"
    }
   ],
   "source": [
    "samples_under_nodes"
   ]
  },
  {
   "cell_type": "code",
   "execution_count": 138,
   "id": "3a09a5bb-b7bc-4c42-8ece-fd4fe7b72140",
   "metadata": {},
   "outputs": [
    {
     "data": {
      "text/plain": [
       "1.0"
      ]
     },
     "execution_count": 138,
     "metadata": {},
     "output_type": "execute_result"
    }
   ],
   "source": [
    "ts.edges_right[edges_out[0]]"
   ]
  },
  {
   "cell_type": "code",
   "execution_count": 139,
   "id": "44b66028-66f9-4761-bc0f-4aff57cca4fa",
   "metadata": {},
   "outputs": [
    {
     "data": {
      "text/plain": [
       "10.0"
      ]
     },
     "execution_count": 139,
     "metadata": {},
     "output_type": "execute_result"
    }
   ],
   "source": [
    "t_left"
   ]
  },
  {
   "cell_type": "code",
   "execution_count": 133,
   "id": "f67e7660-f46b-4138-9256-5bc226264326",
   "metadata": {},
   "outputs": [
    {
     "data": {
      "text/plain": [
       "[set(),\n",
       " set(),\n",
       " set(),\n",
       " set(),\n",
       " set(),\n",
       " set(),\n",
       " set(),\n",
       " set(),\n",
       " set(),\n",
       " set(),\n",
       " set(),\n",
       " set(),\n",
       " set(),\n",
       " set(),\n",
       " set(),\n",
       " set(),\n",
       " set(),\n",
       " set()]"
      ]
     },
     "execution_count": 133,
     "metadata": {},
     "output_type": "execute_result"
    }
   ],
   "source": [
    "samples_under_nodes"
   ]
  },
  {
   "cell_type": "code",
   "execution_count": 64,
   "id": "dcfaaee8-aa39-4463-b39b-c4925aca6779",
   "metadata": {},
   "outputs": [
    {
     "data": {
      "text/plain": [
       "array([ 0,  1,  6,  7,  8,  9,  2,  3,  4,  5, 10, 11], dtype=int32)"
      ]
     },
     "execution_count": 64,
     "metadata": {},
     "output_type": "execute_result"
    }
   ],
   "source": [
    "ts.indexes_edge_insertion_order"
   ]
  },
  {
   "cell_type": "code",
   "execution_count": 55,
   "id": "01f42959-d7bf-4d46-b7de-bdeb69a367a5",
   "metadata": {},
   "outputs": [
    {
     "data": {
      "text/plain": [
       "2"
      ]
     },
     "execution_count": 55,
     "metadata": {},
     "output_type": "execute_result"
    }
   ],
   "source": [
    "ts.edges_child[4]"
   ]
  },
  {
   "cell_type": "code",
   "execution_count": 58,
   "id": "194b21c6-f861-4087-b062-8dcc754e8b4c",
   "metadata": {},
   "outputs": [
    {
     "data": {
      "text/plain": [
       "array([4, 4, 5, 5, 6, 6, 7, 7, 8, 8, 9, 9], dtype=int32)"
      ]
     },
     "execution_count": 58,
     "metadata": {},
     "output_type": "execute_result"
    }
   ],
   "source": [
    "ts.edges_parent"
   ]
  },
  {
   "cell_type": "code",
   "execution_count": 59,
   "id": "be3ae0bb-282f-48a5-b7df-c57d191ef16f",
   "metadata": {},
   "outputs": [
    {
     "data": {
      "text/plain": [
       "array([ 0.,  0., 10., 10., 10., 10.,  0.,  0.,  0.,  0., 10., 10.])"
      ]
     },
     "execution_count": 59,
     "metadata": {},
     "output_type": "execute_result"
    }
   ],
   "source": [
    "ts.edges_left"
   ]
  },
  {
   "cell_type": "code",
   "execution_count": 53,
   "id": "bd339521-0d9c-498b-aae0-e53e92786e45",
   "metadata": {},
   "outputs": [
    {
     "data": {
      "text/plain": [
       "Node(id=8, flags=0, time=10.0, population=-1, individual=-1, metadata=b'')"
      ]
     },
     "execution_count": 53,
     "metadata": {},
     "output_type": "execute_result"
    }
   ],
   "source": [
    "node"
   ]
  },
  {
   "cell_type": "code",
   "execution_count": 46,
   "id": "db45f4f1-8f26-49f1-af31-4234c4fee9d7",
   "metadata": {},
   "outputs": [
    {
     "data": {
      "text/plain": [
       "1"
      ]
     },
     "execution_count": 46,
     "metadata": {},
     "output_type": "execute_result"
    }
   ],
   "source": []
  },
  {
   "cell_type": "code",
   "execution_count": 43,
   "id": "328304dc-b1fa-4d6b-b93d-4ea04f1f7948",
   "metadata": {},
   "outputs": [
    {
     "data": {
      "text/plain": [
       "array([0, 1, 5, 2, 3, 6, 9], dtype=int32)"
      ]
     },
     "execution_count": 43,
     "metadata": {},
     "output_type": "execute_result"
    }
   ],
   "source": [
    "ts.at_index(1).postorder()"
   ]
  },
  {
   "cell_type": "code",
   "execution_count": 51,
   "id": "58460b23-ed54-44c5-afbc-0c88a54f070b",
   "metadata": {},
   "outputs": [],
   "source": [
    "# stack = []\n",
    "# for n in ts.at_index(0).postorder():\n",
    "#     node = ts.node(n)\n",
    "        \n",
    "#         # stack.insert"
   ]
  },
  {
   "cell_type": "code",
   "execution_count": 75,
   "id": "24d1bd2d-46dc-477b-b4a7-bb16cf7b6b30",
   "metadata": {},
   "outputs": [],
   "source": [
    "# mrcas = {(i, j): tskit.NULL for i, j in combinations(ts.samples(), 2)}\n",
    "# last_parent = tskit.NULL\n",
    "# last_child = tskit.NULL\n",
    "\n",
    "# for e in ts.indexes_edge_insertion_order:\n",
    "#     edge = ts.edge(e)\n",
    "#     child = ts.node(edge.child)\n",
    "#     if child.is_sample():\n",
    "#         if edge.parent == last_parent:\n",
    "#             mrcas[last_child.id, child.id] = edge.parent\n",
    "\n",
    "#     last_child = child\n",
    "#     last_parent = edge.parent"
   ]
  },
  {
   "cell_type": "code",
   "execution_count": 1,
   "id": "da806795-c631-4bb8-9cab-54dea3c42998",
   "metadata": {},
   "outputs": [],
   "source": [
    "from itertools import combinations, product"
   ]
  },
  {
   "cell_type": "code",
   "execution_count": 2,
   "id": "d29e116e-245f-4968-98bd-36fefa37416f",
   "metadata": {},
   "outputs": [],
   "source": [
    "def combine(samples):\n",
    "    ij = list(combinations(samples, 2))\n",
    "    ijk = [(i, j, k) for i, j, k in product(samples, repeat=3)\n",
    "           if i != k and i != j and j != k]\n",
    "    ijkl = [(i, j, k, l) for i, j in combinations(samples, 2)\n",
    "            for k in range(len(samples))\n",
    "            for l in range(k + 1, len(samples))\n",
    "            if i != k and j != k and l != i and l != j]\n",
    "    return ij, ijk, ijkl"
   ]
  },
  {
   "cell_type": "code",
   "execution_count": 26,
   "id": "55d7bc9a-2ded-4867-a16d-824cbc2c4f10",
   "metadata": {},
   "outputs": [],
   "source": [
    "def to_pairs(samples):\n",
    "    ijij, ijik, ijkl = combine(samples)\n",
    "    for i, j in ijij:\n",
    "        yield i, j\n",
    "    for i, j, k in ijik:\n",
    "        yield i, j\n",
    "        yield i, k\n",
    "    for i, j, k, l in ijkl:\n",
    "        yield i, j\n",
    "        yield k, l"
   ]
  },
  {
   "cell_type": "code",
   "execution_count": 28,
   "id": "ab999235-52d5-4942-8d9c-fac74ca9bd3b",
   "metadata": {},
   "outputs": [
    {
     "data": {
      "text/plain": [
       "{(0, 1),\n",
       " (0, 2),\n",
       " (0, 3),\n",
       " (1, 0),\n",
       " (1, 2),\n",
       " (1, 3),\n",
       " (2, 0),\n",
       " (2, 1),\n",
       " (2, 3),\n",
       " (3, 0),\n",
       " (3, 1),\n",
       " (3, 2)}"
      ]
     },
     "execution_count": 28,
     "metadata": {},
     "output_type": "execute_result"
    }
   ],
   "source": [
    "set(to_pairs(range(4)))"
   ]
  },
  {
   "cell_type": "code",
   "execution_count": 31,
   "id": "aebe27df-4001-46f9-aa37-b73b75bdcb32",
   "metadata": {},
   "outputs": [
    {
     "data": {
      "text/plain": [
       "{(0, 1), (0, 2), (0, 3), (1, 2), (1, 3), (2, 3)}"
      ]
     },
     "execution_count": 31,
     "metadata": {},
     "output_type": "execute_result"
    }
   ],
   "source": [
    "set([tuple(sorted(p)) for p in to_pairs(range(4))])"
   ]
  },
  {
   "cell_type": "code",
   "execution_count": 22,
   "id": "dbfddeb7-8b66-4438-a6b2-29267164c3ff",
   "metadata": {},
   "outputs": [
    {
     "data": {
      "text/plain": [
       "True"
      ]
     },
     "execution_count": 22,
     "metadata": {},
     "output_type": "execute_result"
    }
   ],
   "source": [
    "set(to_pairs(range(4))) == set(filter(lambda r: r[0] != r[1], product(range(4), repeat=2)))"
   ]
  }
 ],
 "metadata": {
  "kernelspec": {
   "display_name": "tskit-dev-2",
   "language": "python",
   "name": "tskit-dev-2"
  },
  "language_info": {
   "codemirror_mode": {
    "name": "ipython",
    "version": 3
   },
   "file_extension": ".py",
   "mimetype": "text/x-python",
   "name": "python",
   "nbconvert_exporter": "python",
   "pygments_lexer": "ipython3",
   "version": "3.11.4"
  }
 },
 "nbformat": 4,
 "nbformat_minor": 5
}
