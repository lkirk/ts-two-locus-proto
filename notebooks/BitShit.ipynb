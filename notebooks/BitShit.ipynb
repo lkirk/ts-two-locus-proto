{
 "cells": [
  {
   "cell_type": "code",
   "execution_count": 1,
   "id": "9b5677e2-0793-484a-bb94-a9f60a1d0aee",
   "metadata": {},
   "outputs": [],
   "source": [
    "set_a = {1, 3,    4, 7, 8, 29}\n",
    "set_b = {   3, 5, 6, 7, 30, 31}  # NB 32 bit int limit!"
   ]
  },
  {
   "cell_type": "code",
   "execution_count": 2,
   "id": "4552fa2d-3ace-4472-b473-8f36f14c53a4",
   "metadata": {},
   "outputs": [],
   "source": [
    "a = 0\n",
    "b = 0\n",
    "for s in set_a:\n",
    "    a |= 1 << s\n",
    "for s in set_b:\n",
    "    b |= 1 << s"
   ]
  },
  {
   "cell_type": "code",
   "execution_count": 3,
   "id": "46b92ab9-a693-4972-bf65-820781819c1c",
   "metadata": {},
   "outputs": [
    {
     "data": {
      "text/plain": [
       "536871322"
      ]
     },
     "execution_count": 3,
     "metadata": {},
     "output_type": "execute_result"
    }
   ],
   "source": [
    "a"
   ]
  },
  {
   "cell_type": "code",
   "execution_count": 4,
   "id": "b6942a6b-9d7e-4346-aafc-d49d837fbcdd",
   "metadata": {},
   "outputs": [
    {
     "data": {
      "text/plain": [
       "3221225704"
      ]
     },
     "execution_count": 4,
     "metadata": {},
     "output_type": "execute_result"
    }
   ],
   "source": [
    "b"
   ]
  },
  {
   "cell_type": "code",
   "execution_count": 5,
   "id": "90bd3518-49bb-467a-a364-583344874282",
   "metadata": {},
   "outputs": [
    {
     "data": {
      "text/plain": [
       "'0b100000000000000000000100010010'"
      ]
     },
     "execution_count": 5,
     "metadata": {},
     "output_type": "execute_result"
    }
   ],
   "source": [
    "bin(a & ~(b))"
   ]
  },
  {
   "cell_type": "code",
   "execution_count": 6,
   "id": "9b0cda90-4bc1-4d7b-9edc-94b06ab0f7a6",
   "metadata": {},
   "outputs": [
    {
     "data": {
      "text/plain": [
       "'0b100000000000000000000110011010'"
      ]
     },
     "execution_count": 6,
     "metadata": {},
     "output_type": "execute_result"
    }
   ],
   "source": [
    "bin(a)"
   ]
  },
  {
   "cell_type": "code",
   "execution_count": 7,
   "id": "25c6976c-0c75-4a8e-bab3-586552a75d7b",
   "metadata": {},
   "outputs": [
    {
     "data": {
      "text/plain": [
       "'0b11000000000000000000000011101000'"
      ]
     },
     "execution_count": 7,
     "metadata": {},
     "output_type": "execute_result"
    }
   ],
   "source": [
    "bin(b)"
   ]
  },
  {
   "cell_type": "code",
   "execution_count": 13,
   "id": "c841f444-95d3-43b8-b094-57efa033b148",
   "metadata": {},
   "outputs": [
    {
     "data": {
      "text/plain": [
       "'0b11000000000000000000000011100000'"
      ]
     },
     "execution_count": 13,
     "metadata": {},
     "output_type": "execute_result"
    }
   ],
   "source": [
    "bin((b & b-1))"
   ]
  },
  {
   "cell_type": "code",
   "execution_count": 8,
   "id": "dae91cb4-b190-4ee7-bed6-4812fe33eb7a",
   "metadata": {},
   "outputs": [
    {
     "data": {
      "text/plain": [
       "'0b11000000000000000000000011100000'"
      ]
     },
     "execution_count": 8,
     "metadata": {},
     "output_type": "execute_result"
    }
   ],
   "source": [
    "bin(b ^ (b & -b))"
   ]
  },
  {
   "cell_type": "code",
   "execution_count": 9,
   "id": "9cff8339-6d6b-4db3-a120-429de27f171a",
   "metadata": {},
   "outputs": [
    {
     "name": "stdout",
     "output_type": "stream",
     "text": [
      "0 \n",
      "1 \n",
      "2 \n",
      "3 both\n",
      "4 \n",
      "5 \n",
      "6 \n",
      "7 both\n",
      "8 \n",
      "9 \n",
      "10 \n",
      "11 \n",
      "12 \n",
      "13 \n",
      "14 \n",
      "15 \n",
      "16 \n",
      "17 \n",
      "18 \n",
      "19 \n",
      "20 \n",
      "21 \n",
      "22 \n",
      "23 \n",
      "24 \n",
      "25 \n",
      "26 \n",
      "27 \n",
      "28 \n",
      "29 \n",
      "30 \n",
      "31 \n"
     ]
    }
   ],
   "source": [
    "for s in range(32):\n",
    "    print(s, 'both' if (a & b) & (1 << s) else '')"
   ]
  },
  {
   "cell_type": "code",
   "execution_count": 10,
   "id": "d2517860-0adb-4ede-9e05-8b69acd53a97",
   "metadata": {},
   "outputs": [
    {
     "name": "stdout",
     "output_type": "stream",
     "text": [
      "a - b\n",
      "0 \n",
      "1 present\n",
      "2 \n",
      "3 \n",
      "4 present\n",
      "5 \n",
      "6 \n",
      "7 \n",
      "8 present\n",
      "9 \n",
      "10 \n",
      "11 \n",
      "12 \n",
      "13 \n",
      "14 \n",
      "15 \n",
      "16 \n",
      "17 \n",
      "18 \n",
      "19 \n",
      "20 \n",
      "21 \n",
      "22 \n",
      "23 \n",
      "24 \n",
      "25 \n",
      "26 \n",
      "27 \n",
      "28 \n",
      "29 present\n",
      "30 \n",
      "31 \n"
     ]
    }
   ],
   "source": [
    "print('a - b')\n",
    "for s in range(32):\n",
    "    print(s, 'present' if (a & ~(b)) & (1 << s) else '')"
   ]
  }
 ],
 "metadata": {
  "kernelspec": {
   "display_name": "tskit-dev-1",
   "language": "python",
   "name": "tskit-dev-1"
  },
  "language_info": {
   "codemirror_mode": {
    "name": "ipython",
    "version": 3
   },
   "file_extension": ".py",
   "mimetype": "text/x-python",
   "name": "python",
   "nbconvert_exporter": "python",
   "pygments_lexer": "ipython3",
   "version": "3.9.13"
  }
 },
 "nbformat": 4,
 "nbformat_minor": 5
}
