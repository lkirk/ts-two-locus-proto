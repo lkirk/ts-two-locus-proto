{
 "cells": [
  {
   "cell_type": "markdown",
   "id": "b4023655-bead-4b04-98f3-8c127fcf5e51",
   "metadata": {},
   "source": [
    "### Design\n",
    "\n",
    "We want to be able to fit the windows design for two-site statistics into the `tsk_treeseq_sample_count_stat` framework, while being able to use pairs of windows instead of the usual 1-d windows. This won't mean that the user has to explicitly specify two ranges of windows, they will be optional in the python api, but in the C api, we will have our two-site statistics code parse pairs of windows for simplicity. Our window validation code will run if we're on the code path for two-site statistics and the original window validation code will run for single site statistics.\n",
    "\n",
    "Unfortunately, I can't think of a way to keep the c api exactly the same. We'll have to turn the num_windows into a length-2 array or we'll need two num_windows parameters. Perhaps `num_windows_2` or `num_windows_total`.\n",
    "\n",
    "Ultimately, we would like to be able to comput the LD between pairs of windows. This will allow users to compute subsets of a whole correlation matrix. We will obtain either an nxn matrix or an nxm matrix from our specification.\n",
    "\n",
    "Our validation for windows will require:\n",
    "\n",
    "1. Windows are sorted (lefthand and righthand windows, by position).\n",
    "1. There will be at least one window\n",
    "\n",
    "The `tsk_treeseq_sample_count_stat` code accepts a double array for window boundnaries, so we will be storing both ranges in an array that gets passed into the two-site statistics code and transformed into two vectors.\n",
    "\n",
    "The following: `[1, 3, 6, 1, 2, 4]` will become `[[1, 3), [3, 6)]`, `[[1, 2), [2, 4)]`\n",
    "\n",
    "In the two-locus code, we'll make comparisons between `[1, 3) x [1, 2)`, `[1, 3) x [2, 4)`, `[3, 6) x [1, 2)`, `[3, 6) x [2, 4)`\n",
    "\n",
    "In the python api, if we only specify one list of windows, we'll make pairwise comparisons between all windows specified.\n",
    "\n",
    "What follows is an example implementation of windows in this style. If we think it's a good direction, I can add it to the two-locus C code."
   ]
  },
  {
   "cell_type": "code",
   "execution_count": 46,
   "id": "36d713f2-2757-4a39-8ccb-c0f9b961e7c8",
   "metadata": {},
   "outputs": [],
   "source": [
    "import numpy as np"
   ]
  },
  {
   "cell_type": "code",
   "execution_count": 85,
   "id": "9c49634e-794f-45e4-b0ef-08c6676ceed0",
   "metadata": {},
   "outputs": [],
   "source": [
    "def print_windows(left, right):\n",
    "    print('left: ', [(left[i], left[i + 1]) for i in range(len(left) - 1)])\n",
    "    print('right: ', [(right[i], right[i + 1]) for i in range(len(right) - 1)])\n",
    "\n",
    "def check_windows(windows, num_windows, ts_length, print_=True):\n",
    "    left_len, right_len = num_windows\n",
    "    left_windows = windows[:left_len]\n",
    "    right_windows = windows[left_len:]\n",
    "\n",
    "    if print_:\n",
    "        print_windows(left_windows, right_windows)\n",
    "\n",
    "    for i in range(left_len - 1):\n",
    "        if (left_windows[i] >= left_windows[i + 1]):\n",
    "            raise ValueError(f'Bad window (left) [{left_windows[i]}, {left_windows[i + 1]})')\n",
    "\n",
    "    for i in range(right_len - 1):\n",
    "        if (right_windows[i] >= right_windows[i + 1]):\n",
    "            raise ValueError(f'Bad window (right) {right_windows[i]}, {right_windows[i + 1]}')\n",
    "\n",
    "    if left_windows[left_len - 1] > ts_length:\n",
    "        raise ValueError('Left windows out of bounds')\n",
    "\n",
    "    if right_windows[right_len - 1] > ts_length:\n",
    "        raise ValueError('Right windows out of bounds')"
   ]
  },
  {
   "cell_type": "code",
   "execution_count": 86,
   "id": "d4bdce11-9018-4eaf-9c86-b20e6713ae97",
   "metadata": {},
   "outputs": [
    {
     "name": "stdout",
     "output_type": "stream",
     "text": [
      "left:  [(1, 6), (6, 3)]\n",
      "right:  [(1, 2), (2, 4)]\n"
     ]
    },
    {
     "ename": "ValueError",
     "evalue": "Bad window (left) [6, 3)",
     "output_type": "error",
     "traceback": [
      "\u001b[0;31m---------------------------------------------------------------------------\u001b[0m",
      "\u001b[0;31mValueError\u001b[0m                                Traceback (most recent call last)",
      "Cell \u001b[0;32mIn[86], line 3\u001b[0m\n\u001b[1;32m      1\u001b[0m ts_length \u001b[38;5;241m=\u001b[39m \u001b[38;5;241m10\u001b[39m\n\u001b[1;32m      2\u001b[0m windows \u001b[38;5;241m=\u001b[39m [\u001b[38;5;241m1\u001b[39m, \u001b[38;5;241m6\u001b[39m, \u001b[38;5;241m3\u001b[39m, \u001b[38;5;241m1\u001b[39m, \u001b[38;5;241m2\u001b[39m, \u001b[38;5;241m4\u001b[39m]\n\u001b[0;32m----> 3\u001b[0m \u001b[43mcheck_windows\u001b[49m\u001b[43m(\u001b[49m\u001b[43mwindows\u001b[49m\u001b[43m,\u001b[49m\u001b[43m \u001b[49m\u001b[43m(\u001b[49m\u001b[38;5;241;43m3\u001b[39;49m\u001b[43m,\u001b[49m\u001b[43m \u001b[49m\u001b[38;5;241;43m3\u001b[39;49m\u001b[43m)\u001b[49m\u001b[43m,\u001b[49m\u001b[43m \u001b[49m\u001b[43mts_length\u001b[49m\u001b[43m)\u001b[49m\n",
      "Cell \u001b[0;32mIn[85], line 15\u001b[0m, in \u001b[0;36mcheck_windows\u001b[0;34m(windows, num_windows, ts_length, print_)\u001b[0m\n\u001b[1;32m     13\u001b[0m \u001b[38;5;28;01mfor\u001b[39;00m i \u001b[38;5;129;01min\u001b[39;00m \u001b[38;5;28mrange\u001b[39m(left_len \u001b[38;5;241m-\u001b[39m \u001b[38;5;241m1\u001b[39m):\n\u001b[1;32m     14\u001b[0m     \u001b[38;5;28;01mif\u001b[39;00m (left_windows[i] \u001b[38;5;241m>\u001b[39m\u001b[38;5;241m=\u001b[39m left_windows[i \u001b[38;5;241m+\u001b[39m \u001b[38;5;241m1\u001b[39m]):\n\u001b[0;32m---> 15\u001b[0m         \u001b[38;5;28;01mraise\u001b[39;00m \u001b[38;5;167;01mValueError\u001b[39;00m(\u001b[38;5;124mf\u001b[39m\u001b[38;5;124m'\u001b[39m\u001b[38;5;124mBad window (left) [\u001b[39m\u001b[38;5;132;01m{\u001b[39;00mleft_windows[i]\u001b[38;5;132;01m}\u001b[39;00m\u001b[38;5;124m, \u001b[39m\u001b[38;5;132;01m{\u001b[39;00mleft_windows[i\u001b[38;5;250m \u001b[39m\u001b[38;5;241m+\u001b[39m\u001b[38;5;250m \u001b[39m\u001b[38;5;241m1\u001b[39m]\u001b[38;5;132;01m}\u001b[39;00m\u001b[38;5;124m)\u001b[39m\u001b[38;5;124m'\u001b[39m)\n\u001b[1;32m     17\u001b[0m \u001b[38;5;28;01mfor\u001b[39;00m i \u001b[38;5;129;01min\u001b[39;00m \u001b[38;5;28mrange\u001b[39m(right_len \u001b[38;5;241m-\u001b[39m \u001b[38;5;241m1\u001b[39m):\n\u001b[1;32m     18\u001b[0m     \u001b[38;5;28;01mif\u001b[39;00m (right_windows[i] \u001b[38;5;241m>\u001b[39m\u001b[38;5;241m=\u001b[39m right_windows[i \u001b[38;5;241m+\u001b[39m \u001b[38;5;241m1\u001b[39m]):\n",
      "\u001b[0;31mValueError\u001b[0m: Bad window (left) [6, 3)"
     ]
    }
   ],
   "source": [
    "ts_length = 10\n",
    "windows = [1, 6, 3, 1, 2, 4]\n",
    "check_windows(windows, (3, 3), ts_length)"
   ]
  },
  {
   "cell_type": "code",
   "execution_count": 87,
   "id": "ec24b699-6340-440c-bad4-8a1c2aa714bb",
   "metadata": {},
   "outputs": [
    {
     "name": "stdout",
     "output_type": "stream",
     "text": [
      "left:  [(1, 3), (3, 6)]\n",
      "right:  [(1, 4), (4, 2)]\n"
     ]
    },
    {
     "ename": "ValueError",
     "evalue": "Bad window (right) 4, 2",
     "output_type": "error",
     "traceback": [
      "\u001b[0;31m---------------------------------------------------------------------------\u001b[0m",
      "\u001b[0;31mValueError\u001b[0m                                Traceback (most recent call last)",
      "Cell \u001b[0;32mIn[87], line 3\u001b[0m\n\u001b[1;32m      1\u001b[0m ts_length \u001b[38;5;241m=\u001b[39m \u001b[38;5;241m10\u001b[39m\n\u001b[1;32m      2\u001b[0m windows \u001b[38;5;241m=\u001b[39m [\u001b[38;5;241m1\u001b[39m, \u001b[38;5;241m3\u001b[39m, \u001b[38;5;241m6\u001b[39m, \u001b[38;5;241m1\u001b[39m, \u001b[38;5;241m4\u001b[39m, \u001b[38;5;241m2\u001b[39m]\n\u001b[0;32m----> 3\u001b[0m \u001b[43mcheck_windows\u001b[49m\u001b[43m(\u001b[49m\u001b[43mwindows\u001b[49m\u001b[43m,\u001b[49m\u001b[43m \u001b[49m\u001b[43m(\u001b[49m\u001b[38;5;241;43m3\u001b[39;49m\u001b[43m,\u001b[49m\u001b[43m \u001b[49m\u001b[38;5;241;43m3\u001b[39;49m\u001b[43m)\u001b[49m\u001b[43m,\u001b[49m\u001b[43m \u001b[49m\u001b[43mts_length\u001b[49m\u001b[43m)\u001b[49m\n",
      "Cell \u001b[0;32mIn[85], line 19\u001b[0m, in \u001b[0;36mcheck_windows\u001b[0;34m(windows, num_windows, ts_length, print_)\u001b[0m\n\u001b[1;32m     17\u001b[0m \u001b[38;5;28;01mfor\u001b[39;00m i \u001b[38;5;129;01min\u001b[39;00m \u001b[38;5;28mrange\u001b[39m(right_len \u001b[38;5;241m-\u001b[39m \u001b[38;5;241m1\u001b[39m):\n\u001b[1;32m     18\u001b[0m     \u001b[38;5;28;01mif\u001b[39;00m (right_windows[i] \u001b[38;5;241m>\u001b[39m\u001b[38;5;241m=\u001b[39m right_windows[i \u001b[38;5;241m+\u001b[39m \u001b[38;5;241m1\u001b[39m]):\n\u001b[0;32m---> 19\u001b[0m         \u001b[38;5;28;01mraise\u001b[39;00m \u001b[38;5;167;01mValueError\u001b[39;00m(\u001b[38;5;124mf\u001b[39m\u001b[38;5;124m'\u001b[39m\u001b[38;5;124mBad window (right) \u001b[39m\u001b[38;5;132;01m{\u001b[39;00mright_windows[i]\u001b[38;5;132;01m}\u001b[39;00m\u001b[38;5;124m, \u001b[39m\u001b[38;5;132;01m{\u001b[39;00mright_windows[i\u001b[38;5;250m \u001b[39m\u001b[38;5;241m+\u001b[39m\u001b[38;5;250m \u001b[39m\u001b[38;5;241m1\u001b[39m]\u001b[38;5;132;01m}\u001b[39;00m\u001b[38;5;124m'\u001b[39m)\n\u001b[1;32m     21\u001b[0m \u001b[38;5;28;01mif\u001b[39;00m left_windows[left_len \u001b[38;5;241m-\u001b[39m \u001b[38;5;241m1\u001b[39m] \u001b[38;5;241m>\u001b[39m ts_length:\n\u001b[1;32m     22\u001b[0m     \u001b[38;5;28;01mraise\u001b[39;00m \u001b[38;5;167;01mValueError\u001b[39;00m(\u001b[38;5;124m'\u001b[39m\u001b[38;5;124mLeft windows out of bounds\u001b[39m\u001b[38;5;124m'\u001b[39m)\n",
      "\u001b[0;31mValueError\u001b[0m: Bad window (right) 4, 2"
     ]
    }
   ],
   "source": [
    "ts_length = 10\n",
    "windows = [1, 3, 6, 1, 4, 2]\n",
    "check_windows(windows, (3, 3), ts_length)"
   ]
  },
  {
   "cell_type": "code",
   "execution_count": 88,
   "id": "85e87160-a3d7-4bfb-952b-bb4fb8148a92",
   "metadata": {},
   "outputs": [
    {
     "name": "stdout",
     "output_type": "stream",
     "text": [
      "left:  [(1, 3), (3, 6)]\n",
      "right:  [(1, 4)]\n"
     ]
    }
   ],
   "source": [
    "ts_length = 10\n",
    "windows = [1, 3, 6, 1, 4]\n",
    "check_windows(windows, (3, 2), ts_length)"
   ]
  },
  {
   "cell_type": "code",
   "execution_count": 89,
   "id": "1ccdea20-94f1-4ba9-9e03-eea822e70daa",
   "metadata": {},
   "outputs": [
    {
     "name": "stdout",
     "output_type": "stream",
     "text": [
      "left:  [(1, 3), (3, 6)]\n",
      "right:  [(1, 2), (2, 4)]\n"
     ]
    }
   ],
   "source": [
    "ts_length = 10\n",
    "windows = [1, 3, 6, 1, 2, 4]\n",
    "check_windows(windows, (3, 3), 10)"
   ]
  },
  {
   "cell_type": "markdown",
   "id": "4e712d92-ad95-482c-88b4-72c0b7bb5e4d",
   "metadata": {},
   "source": [
    "### Application\n",
    "\n",
    "Now, let's demonstrate how this window format will be used when making comparisons between pairs of sites.\n",
    "\n",
    "We will seek to the first window and would process until we hit the end of the final window."
   ]
  },
  {
   "cell_type": "code",
   "execution_count": 90,
   "id": "c6896953-3daf-4cbc-bf4e-28778722dddc",
   "metadata": {},
   "outputs": [],
   "source": [
    "sites = [0, .2, .5, 1, 1.5, 1.8, 2, 2.3, 2.8, 3, 3.3, 3.5, 4, 4.6, 4.8, 5, 6, 8, 9, 9.9]"
   ]
  },
  {
   "cell_type": "code",
   "execution_count": 152,
   "id": "bcf524a6-7b27-436b-bacd-974a9563cd9a",
   "metadata": {},
   "outputs": [],
   "source": [
    "def get_site_ranges(windows, num_windows, sites):\n",
    "    ranges = np.zeros(num_windows, np.uint64)\n",
    "    win = 0\n",
    "    s = 0\n",
    "    while True:\n",
    "        start = windows[win]\n",
    "        stop = windows[win + 1]\n",
    "        # seek to start\n",
    "        while sites[s] < start:\n",
    "            s += 1\n",
    "        ranges[win] = s\n",
    "        # seek within range\n",
    "        while sites[s + 1] < stop:  # TODO: bounds checking?\n",
    "            s += 1\n",
    "        ranges[win + 1] = s\n",
    "        win += 1\n",
    "        if win == num_windows - 1:\n",
    "            break\n",
    "    return ranges"
   ]
  },
  {
   "cell_type": "code",
   "execution_count": 167,
   "id": "031dd933-a065-4f7c-9c7c-f5202f67b3bf",
   "metadata": {},
   "outputs": [],
   "source": [
    "def compare_sites(windows, num_windows, sites, num_sites):\n",
    "    result = np.zeros((num_sites, num_sites), np.uint64)\n",
    "    left_len, right_len = num_windows\n",
    "    left_windows = windows[:left_len]\n",
    "    right_windows = windows[left_len:]\n",
    "\n",
    "    left_range = get_site_ranges(left_windows, left_len, sites)\n",
    "    right_range = get_site_ranges(right_windows, right_len, sites)\n",
    "    \n",
    "    print('left_range:', left_range)\n",
    "    print('right_range:', right_range)\n",
    "\n",
    "    for w_l in range(left_len - 1):\n",
    "        for w_r in range(right_len - 1):\n",
    "            for site_l_idx in range(left_range[w_l], left_range[w_l + 1]):\n",
    "                for site_r_idx in range(right_range[w_r], right_range[w_r + 1]):\n",
    "                    result[site_l_idx, site_r_idx] += 1\n",
    "                    print(w_l, w_r, site_l_idx, site_r_idx, sites[site_l_idx], sites[site_r_idx])\n",
    "    return result"
   ]
  },
  {
   "cell_type": "code",
   "execution_count": 168,
   "id": "a2027647-0197-41a2-9aa6-e37e0a3382d1",
   "metadata": {},
   "outputs": [
    {
     "name": "stdout",
     "output_type": "stream",
     "text": [
      "left:  [(1, 3), (3, 6)]\n",
      "right:  [(1, 2), (2, 4)]\n",
      "left_range: [ 3  9 15]\n",
      "right_range: [ 3  6 11]\n",
      "0 0 3 3 1 1\n",
      "0 0 3 4 1 1.5\n",
      "0 0 3 5 1 1.8\n",
      "0 0 4 3 1.5 1\n",
      "0 0 4 4 1.5 1.5\n",
      "0 0 4 5 1.5 1.8\n",
      "0 0 5 3 1.8 1\n",
      "0 0 5 4 1.8 1.5\n",
      "0 0 5 5 1.8 1.8\n",
      "0 0 6 3 2 1\n",
      "0 0 6 4 2 1.5\n",
      "0 0 6 5 2 1.8\n",
      "0 0 7 3 2.3 1\n",
      "0 0 7 4 2.3 1.5\n",
      "0 0 7 5 2.3 1.8\n",
      "0 0 8 3 2.8 1\n",
      "0 0 8 4 2.8 1.5\n",
      "0 0 8 5 2.8 1.8\n",
      "0 1 3 6 1 2\n",
      "0 1 3 7 1 2.3\n",
      "0 1 3 8 1 2.8\n",
      "0 1 3 9 1 3\n",
      "0 1 3 10 1 3.3\n",
      "0 1 4 6 1.5 2\n",
      "0 1 4 7 1.5 2.3\n",
      "0 1 4 8 1.5 2.8\n",
      "0 1 4 9 1.5 3\n",
      "0 1 4 10 1.5 3.3\n",
      "0 1 5 6 1.8 2\n",
      "0 1 5 7 1.8 2.3\n",
      "0 1 5 8 1.8 2.8\n",
      "0 1 5 9 1.8 3\n",
      "0 1 5 10 1.8 3.3\n",
      "0 1 6 6 2 2\n",
      "0 1 6 7 2 2.3\n",
      "0 1 6 8 2 2.8\n",
      "0 1 6 9 2 3\n",
      "0 1 6 10 2 3.3\n",
      "0 1 7 6 2.3 2\n",
      "0 1 7 7 2.3 2.3\n",
      "0 1 7 8 2.3 2.8\n",
      "0 1 7 9 2.3 3\n",
      "0 1 7 10 2.3 3.3\n",
      "0 1 8 6 2.8 2\n",
      "0 1 8 7 2.8 2.3\n",
      "0 1 8 8 2.8 2.8\n",
      "0 1 8 9 2.8 3\n",
      "0 1 8 10 2.8 3.3\n",
      "1 0 9 3 3 1\n",
      "1 0 9 4 3 1.5\n",
      "1 0 9 5 3 1.8\n",
      "1 0 10 3 3.3 1\n",
      "1 0 10 4 3.3 1.5\n",
      "1 0 10 5 3.3 1.8\n",
      "1 0 11 3 3.5 1\n",
      "1 0 11 4 3.5 1.5\n",
      "1 0 11 5 3.5 1.8\n",
      "1 0 12 3 4 1\n",
      "1 0 12 4 4 1.5\n",
      "1 0 12 5 4 1.8\n",
      "1 0 13 3 4.6 1\n",
      "1 0 13 4 4.6 1.5\n",
      "1 0 13 5 4.6 1.8\n",
      "1 0 14 3 4.8 1\n",
      "1 0 14 4 4.8 1.5\n",
      "1 0 14 5 4.8 1.8\n",
      "1 1 9 6 3 2\n",
      "1 1 9 7 3 2.3\n",
      "1 1 9 8 3 2.8\n",
      "1 1 9 9 3 3\n",
      "1 1 9 10 3 3.3\n",
      "1 1 10 6 3.3 2\n",
      "1 1 10 7 3.3 2.3\n",
      "1 1 10 8 3.3 2.8\n",
      "1 1 10 9 3.3 3\n",
      "1 1 10 10 3.3 3.3\n",
      "1 1 11 6 3.5 2\n",
      "1 1 11 7 3.5 2.3\n",
      "1 1 11 8 3.5 2.8\n",
      "1 1 11 9 3.5 3\n",
      "1 1 11 10 3.5 3.3\n",
      "1 1 12 6 4 2\n",
      "1 1 12 7 4 2.3\n",
      "1 1 12 8 4 2.8\n",
      "1 1 12 9 4 3\n",
      "1 1 12 10 4 3.3\n",
      "1 1 13 6 4.6 2\n",
      "1 1 13 7 4.6 2.3\n",
      "1 1 13 8 4.6 2.8\n",
      "1 1 13 9 4.6 3\n",
      "1 1 13 10 4.6 3.3\n",
      "1 1 14 6 4.8 2\n",
      "1 1 14 7 4.8 2.3\n",
      "1 1 14 8 4.8 2.8\n",
      "1 1 14 9 4.8 3\n",
      "1 1 14 10 4.8 3.3\n"
     ]
    },
    {
     "data": {
      "text/plain": [
       "array([[0, 0, 0, 0, 0, 0, 0, 0, 0, 0, 0, 0, 0, 0, 0, 0, 0, 0, 0, 0],\n",
       "       [0, 0, 0, 0, 0, 0, 0, 0, 0, 0, 0, 0, 0, 0, 0, 0, 0, 0, 0, 0],\n",
       "       [0, 0, 0, 0, 0, 0, 0, 0, 0, 0, 0, 0, 0, 0, 0, 0, 0, 0, 0, 0],\n",
       "       [0, 0, 0, 1, 1, 1, 1, 1, 1, 1, 1, 0, 0, 0, 0, 0, 0, 0, 0, 0],\n",
       "       [0, 0, 0, 1, 1, 1, 1, 1, 1, 1, 1, 0, 0, 0, 0, 0, 0, 0, 0, 0],\n",
       "       [0, 0, 0, 1, 1, 1, 1, 1, 1, 1, 1, 0, 0, 0, 0, 0, 0, 0, 0, 0],\n",
       "       [0, 0, 0, 1, 1, 1, 1, 1, 1, 1, 1, 0, 0, 0, 0, 0, 0, 0, 0, 0],\n",
       "       [0, 0, 0, 1, 1, 1, 1, 1, 1, 1, 1, 0, 0, 0, 0, 0, 0, 0, 0, 0],\n",
       "       [0, 0, 0, 1, 1, 1, 1, 1, 1, 1, 1, 0, 0, 0, 0, 0, 0, 0, 0, 0],\n",
       "       [0, 0, 0, 1, 1, 1, 1, 1, 1, 1, 1, 0, 0, 0, 0, 0, 0, 0, 0, 0],\n",
       "       [0, 0, 0, 1, 1, 1, 1, 1, 1, 1, 1, 0, 0, 0, 0, 0, 0, 0, 0, 0],\n",
       "       [0, 0, 0, 1, 1, 1, 1, 1, 1, 1, 1, 0, 0, 0, 0, 0, 0, 0, 0, 0],\n",
       "       [0, 0, 0, 1, 1, 1, 1, 1, 1, 1, 1, 0, 0, 0, 0, 0, 0, 0, 0, 0],\n",
       "       [0, 0, 0, 1, 1, 1, 1, 1, 1, 1, 1, 0, 0, 0, 0, 0, 0, 0, 0, 0],\n",
       "       [0, 0, 0, 1, 1, 1, 1, 1, 1, 1, 1, 0, 0, 0, 0, 0, 0, 0, 0, 0],\n",
       "       [0, 0, 0, 0, 0, 0, 0, 0, 0, 0, 0, 0, 0, 0, 0, 0, 0, 0, 0, 0],\n",
       "       [0, 0, 0, 0, 0, 0, 0, 0, 0, 0, 0, 0, 0, 0, 0, 0, 0, 0, 0, 0],\n",
       "       [0, 0, 0, 0, 0, 0, 0, 0, 0, 0, 0, 0, 0, 0, 0, 0, 0, 0, 0, 0],\n",
       "       [0, 0, 0, 0, 0, 0, 0, 0, 0, 0, 0, 0, 0, 0, 0, 0, 0, 0, 0, 0],\n",
       "       [0, 0, 0, 0, 0, 0, 0, 0, 0, 0, 0, 0, 0, 0, 0, 0, 0, 0, 0, 0]],\n",
       "      dtype=uint64)"
      ]
     },
     "execution_count": 168,
     "metadata": {},
     "output_type": "execute_result"
    }
   ],
   "source": [
    "ts_length = 10\n",
    "windows = [1, 3, 6, 1, 2, 4]\n",
    "check_windows(windows, (3, 3), 10)\n",
    "compare_sites(windows, (3, 3), sites, len(sites))"
   ]
  }
 ],
 "metadata": {
  "kernelspec": {
   "display_name": "tskit-dev-2",
   "language": "python",
   "name": "tskit-dev-2"
  },
  "language_info": {
   "codemirror_mode": {
    "name": "ipython",
    "version": 3
   },
   "file_extension": ".py",
   "mimetype": "text/x-python",
   "name": "python",
   "nbconvert_exporter": "python",
   "pygments_lexer": "ipython3",
   "version": "3.11.4"
  }
 },
 "nbformat": 4,
 "nbformat_minor": 5
}
