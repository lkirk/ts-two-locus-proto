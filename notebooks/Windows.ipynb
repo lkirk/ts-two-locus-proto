{
 "cells": [
  {
   "cell_type": "markdown",
   "id": "febf1728-ffdc-4cdc-9865-ad048de99a0b",
   "metadata": {},
   "source": [
    "### Design\n",
    "\n",
    "The general idea here is to be able to fit into the `tsk_treeseq_sample_count_stat` framework, while being able to use pairs of windows instead of the usual 1-d windows. I think this should be easy enough to do if we add another parameter to the `tsk_flags_t`. Perhaps `TSK_WINDOW_PAIRS`?\n",
    "\n",
    "We'd like to be able to compute the LD between two completely arbitrary windows. To do this, we'll want our own `tsk_treeseq_check_windows` function, something like `tsk_treeseq_check_window_pairs`. With this code path, we will remove many of the constraints imposed on windows. We will no longer require:\n",
    "\n",
    "1. Windows start and end at 0 -> L\n",
    "1. Window intervals are non-overlapping\n",
    "\n",
    "To fulfill the final requirement above, we will perform reverse-seeking in the case of overlapping windows. This will have very little impact on the performance of our implementation of two-site statistics.\n",
    "\n",
    "We will, however still require:\n",
    "\n",
    "1. Righthand windows are sorted (they will be passed over in a tight loop) -- sorted by the start of the interval\n",
    "    1. Righthand windows will be first sorted by start position, then by interval size\n",
    "1. There is at least one window pair\n",
    "1. Windows are paired (see below)\n",
    "\n",
    "To use the existing framework, we will pass in a 1-d array of numbers and transform it into two vectors of pairs.\n",
    "\n",
    "`[1, 2 ,3, 4]` will become `[[1, 2)]`, `[[3, 4)]`  <- NB windows are half open \\[left, right\\)\n",
    "\n",
    "What follows is a toy implementation of what I'm talking about, if we think this is a good direction, I can implement this in the C api."
   ]
  },
  {
   "cell_type": "code",
   "execution_count": 1,
   "id": "e0f2abc3-7242-411a-8e65-3ebf6c18d41a",
   "metadata": {},
   "outputs": [],
   "source": [
    "import numpy as np"
   ]
  },
  {
   "cell_type": "code",
   "execution_count": 2,
   "id": "5399d154-28e2-4583-b669-1dea9b772984",
   "metadata": {},
   "outputs": [],
   "source": [
    "def print_windows(left, right):\n",
    "    print('left: ', [(left[i], left[i + 1]) for i in range(0, len(left), 2)])\n",
    "    print('right: ', [(right[i], right[i + 1]) for i in range(0, len(right), 2)])\n",
    "\n",
    "def check_windows(windows, num_windows, print_=True):\n",
    "    assert num_windows % 2 == 0, 'there must be an even number of windows'\n",
    "    row_len = 2\n",
    "    midpoint = num_windows // row_len\n",
    "    left_ivls = windows[:midpoint]\n",
    "    right_ivls = windows[midpoint:]\n",
    "    if print_:\n",
    "        print_windows(left_ivls, right_ivls)\n",
    "\n",
    "    for i in range(0, midpoint, 2):\n",
    "        size_left = left_ivls[i + 1] - left_ivls[i]\n",
    "        size_right = right_ivls[i + 1] - right_ivls[i]\n",
    "        if size_left <= 0:\n",
    "            raise ValueError(\n",
    "                f'left interval invalid, idx={i} : {left_ivls[i]} {left_ivls[i + 1]}'\n",
    "            )\n",
    "        elif size_right <= 0:\n",
    "            raise ValueError(\n",
    "                f'right interval invalid, idx={i} : {right_ivls[i]} {right_ivls[i + 1]}'\n",
    "            )\n",
    "\n",
    "    for i in range(0, midpoint - 2, 2):  # select index of start of each interval\n",
    "        if right_ivls[i] > right_ivls[i + 2]:\n",
    "            raise ValueError(\n",
    "                'right intervals must be sorted by position, '\n",
    "                f'idx={i}: {right_ivls[i]} {right_ivls[i + 2]}'\n",
    "            )\n",
    "\n",
    "        elif right_ivls[i] == right_ivls[i + 2]:\n",
    "            size_curr = right_ivls[i + 1] - right_ivls[i]\n",
    "            size_next = right_ivls[i + 2 + 1] - right_ivls[i + 2]\n",
    "\n",
    "            if size_next - size_curr < 0:\n",
    "                raise ValueError(\n",
    "                    'right intervals must be sorted by size, '\n",
    "                    f'idx={i}: {size_curr} {size_next}'\n",
    "                )"
   ]
  },
  {
   "cell_type": "code",
   "execution_count": 3,
   "id": "3085e6b3-faf3-4977-abd1-7738cfb97876",
   "metadata": {},
   "outputs": [
    {
     "name": "stdout",
     "output_type": "stream",
     "text": [
      "left:  [(1, 2), (1, 2), (1, 2), (2, 3), (9, 15)]\n",
      "right:  [(1, 2), (2, 4), (5, 6), (2, 3), (9, 15)]\n"
     ]
    },
    {
     "ename": "ValueError",
     "evalue": "right intervals must be sorted by position, idx=4: 5 2",
     "output_type": "error",
     "traceback": [
      "\u001b[0;31m---------------------------------------------------------------------------\u001b[0m",
      "\u001b[0;31mValueError\u001b[0m                                Traceback (most recent call last)",
      "Cell \u001b[0;32mIn[3], line 2\u001b[0m\n\u001b[1;32m      1\u001b[0m windows \u001b[38;5;241m=\u001b[39m [\u001b[38;5;241m1\u001b[39m, \u001b[38;5;241m2\u001b[39m, \u001b[38;5;241m1\u001b[39m, \u001b[38;5;241m2\u001b[39m, \u001b[38;5;241m1\u001b[39m, \u001b[38;5;241m2\u001b[39m, \u001b[38;5;241m2\u001b[39m, \u001b[38;5;241m3\u001b[39m, \u001b[38;5;241m9\u001b[39m, \u001b[38;5;241m15\u001b[39m, \u001b[38;5;241m1\u001b[39m, \u001b[38;5;241m2\u001b[39m, \u001b[38;5;241m2\u001b[39m, \u001b[38;5;241m4\u001b[39m, \u001b[38;5;241m5\u001b[39m, \u001b[38;5;241m6\u001b[39m, \u001b[38;5;241m2\u001b[39m, \u001b[38;5;241m3\u001b[39m, \u001b[38;5;241m9\u001b[39m, \u001b[38;5;241m15\u001b[39m]\n\u001b[0;32m----> 2\u001b[0m \u001b[43mcheck_windows\u001b[49m\u001b[43m(\u001b[49m\u001b[43mwindows\u001b[49m\u001b[43m,\u001b[49m\u001b[43m \u001b[49m\u001b[38;5;28;43mlen\u001b[39;49m\u001b[43m(\u001b[49m\u001b[43mwindows\u001b[49m\u001b[43m)\u001b[49m\u001b[43m)\u001b[49m\n",
      "Cell \u001b[0;32mIn[2], line 28\u001b[0m, in \u001b[0;36mcheck_windows\u001b[0;34m(windows, num_windows, print_)\u001b[0m\n\u001b[1;32m     26\u001b[0m \u001b[38;5;28;01mfor\u001b[39;00m i \u001b[38;5;129;01min\u001b[39;00m \u001b[38;5;28mrange\u001b[39m(\u001b[38;5;241m0\u001b[39m, midpoint \u001b[38;5;241m-\u001b[39m \u001b[38;5;241m2\u001b[39m, \u001b[38;5;241m2\u001b[39m):  \u001b[38;5;66;03m# select index of start of each interval\u001b[39;00m\n\u001b[1;32m     27\u001b[0m     \u001b[38;5;28;01mif\u001b[39;00m right_ivls[i] \u001b[38;5;241m>\u001b[39m right_ivls[i \u001b[38;5;241m+\u001b[39m \u001b[38;5;241m2\u001b[39m]:\n\u001b[0;32m---> 28\u001b[0m         \u001b[38;5;28;01mraise\u001b[39;00m \u001b[38;5;167;01mValueError\u001b[39;00m(\n\u001b[1;32m     29\u001b[0m             \u001b[38;5;124m'\u001b[39m\u001b[38;5;124mright intervals must be sorted by position, \u001b[39m\u001b[38;5;124m'\u001b[39m\n\u001b[1;32m     30\u001b[0m             \u001b[38;5;124mf\u001b[39m\u001b[38;5;124m'\u001b[39m\u001b[38;5;124midx=\u001b[39m\u001b[38;5;132;01m{\u001b[39;00mi\u001b[38;5;132;01m}\u001b[39;00m\u001b[38;5;124m: \u001b[39m\u001b[38;5;132;01m{\u001b[39;00mright_ivls[i]\u001b[38;5;132;01m}\u001b[39;00m\u001b[38;5;124m \u001b[39m\u001b[38;5;132;01m{\u001b[39;00mright_ivls[i\u001b[38;5;250m \u001b[39m\u001b[38;5;241m+\u001b[39m\u001b[38;5;250m \u001b[39m\u001b[38;5;241m2\u001b[39m]\u001b[38;5;132;01m}\u001b[39;00m\u001b[38;5;124m'\u001b[39m\n\u001b[1;32m     31\u001b[0m         )\n\u001b[1;32m     33\u001b[0m     \u001b[38;5;28;01melif\u001b[39;00m right_ivls[i] \u001b[38;5;241m==\u001b[39m right_ivls[i \u001b[38;5;241m+\u001b[39m \u001b[38;5;241m2\u001b[39m]:\n\u001b[1;32m     34\u001b[0m         size_curr \u001b[38;5;241m=\u001b[39m right_ivls[i \u001b[38;5;241m+\u001b[39m \u001b[38;5;241m1\u001b[39m] \u001b[38;5;241m-\u001b[39m right_ivls[i]\n",
      "\u001b[0;31mValueError\u001b[0m: right intervals must be sorted by position, idx=4: 5 2"
     ]
    }
   ],
   "source": [
    "windows = [1, 2, 1, 2, 1, 2, 2, 3, 9, 15, 1, 2, 2, 4, 5, 6, 2, 3, 9, 15]\n",
    "check_windows(windows, len(windows))"
   ]
  },
  {
   "cell_type": "code",
   "execution_count": 4,
   "id": "d86590ea-5260-4eb3-b688-8ea5a9095677",
   "metadata": {},
   "outputs": [
    {
     "name": "stdout",
     "output_type": "stream",
     "text": [
      "left:  [(1, 2), (1, 2), (1, 2), (2, 3), (9, 15)]\n",
      "right:  [(2, 1), (2, 4), (5, 6), (2, 3), (9, 15)]\n"
     ]
    },
    {
     "ename": "ValueError",
     "evalue": "right interval invalid, idx=0 : 2 1",
     "output_type": "error",
     "traceback": [
      "\u001b[0;31m---------------------------------------------------------------------------\u001b[0m",
      "\u001b[0;31mValueError\u001b[0m                                Traceback (most recent call last)",
      "Cell \u001b[0;32mIn[4], line 2\u001b[0m\n\u001b[1;32m      1\u001b[0m windows \u001b[38;5;241m=\u001b[39m [\u001b[38;5;241m1\u001b[39m, \u001b[38;5;241m2\u001b[39m, \u001b[38;5;241m1\u001b[39m, \u001b[38;5;241m2\u001b[39m, \u001b[38;5;241m1\u001b[39m, \u001b[38;5;241m2\u001b[39m, \u001b[38;5;241m2\u001b[39m, \u001b[38;5;241m3\u001b[39m, \u001b[38;5;241m9\u001b[39m, \u001b[38;5;241m15\u001b[39m, \u001b[38;5;241m2\u001b[39m, \u001b[38;5;241m1\u001b[39m, \u001b[38;5;241m2\u001b[39m, \u001b[38;5;241m4\u001b[39m, \u001b[38;5;241m5\u001b[39m, \u001b[38;5;241m6\u001b[39m, \u001b[38;5;241m2\u001b[39m, \u001b[38;5;241m3\u001b[39m, \u001b[38;5;241m9\u001b[39m, \u001b[38;5;241m15\u001b[39m]\n\u001b[0;32m----> 2\u001b[0m \u001b[43mcheck_windows\u001b[49m\u001b[43m(\u001b[49m\u001b[43mwindows\u001b[49m\u001b[43m,\u001b[49m\u001b[43m \u001b[49m\u001b[38;5;28;43mlen\u001b[39;49m\u001b[43m(\u001b[49m\u001b[43mwindows\u001b[49m\u001b[43m)\u001b[49m\u001b[43m)\u001b[49m\n",
      "Cell \u001b[0;32mIn[2], line 22\u001b[0m, in \u001b[0;36mcheck_windows\u001b[0;34m(windows, num_windows, print_)\u001b[0m\n\u001b[1;32m     18\u001b[0m         \u001b[38;5;28;01mraise\u001b[39;00m \u001b[38;5;167;01mValueError\u001b[39;00m(\n\u001b[1;32m     19\u001b[0m             \u001b[38;5;124mf\u001b[39m\u001b[38;5;124m'\u001b[39m\u001b[38;5;124mleft interval invalid, idx=\u001b[39m\u001b[38;5;132;01m{\u001b[39;00mi\u001b[38;5;132;01m}\u001b[39;00m\u001b[38;5;124m : \u001b[39m\u001b[38;5;132;01m{\u001b[39;00mleft_ivls[i]\u001b[38;5;132;01m}\u001b[39;00m\u001b[38;5;124m \u001b[39m\u001b[38;5;132;01m{\u001b[39;00mleft_ivls[i\u001b[38;5;250m \u001b[39m\u001b[38;5;241m+\u001b[39m\u001b[38;5;250m \u001b[39m\u001b[38;5;241m1\u001b[39m]\u001b[38;5;132;01m}\u001b[39;00m\u001b[38;5;124m'\u001b[39m\n\u001b[1;32m     20\u001b[0m         )\n\u001b[1;32m     21\u001b[0m     \u001b[38;5;28;01melif\u001b[39;00m size_right \u001b[38;5;241m<\u001b[39m\u001b[38;5;241m=\u001b[39m \u001b[38;5;241m0\u001b[39m:\n\u001b[0;32m---> 22\u001b[0m         \u001b[38;5;28;01mraise\u001b[39;00m \u001b[38;5;167;01mValueError\u001b[39;00m(\n\u001b[1;32m     23\u001b[0m             \u001b[38;5;124mf\u001b[39m\u001b[38;5;124m'\u001b[39m\u001b[38;5;124mright interval invalid, idx=\u001b[39m\u001b[38;5;132;01m{\u001b[39;00mi\u001b[38;5;132;01m}\u001b[39;00m\u001b[38;5;124m : \u001b[39m\u001b[38;5;132;01m{\u001b[39;00mright_ivls[i]\u001b[38;5;132;01m}\u001b[39;00m\u001b[38;5;124m \u001b[39m\u001b[38;5;132;01m{\u001b[39;00mright_ivls[i\u001b[38;5;250m \u001b[39m\u001b[38;5;241m+\u001b[39m\u001b[38;5;250m \u001b[39m\u001b[38;5;241m1\u001b[39m]\u001b[38;5;132;01m}\u001b[39;00m\u001b[38;5;124m'\u001b[39m\n\u001b[1;32m     24\u001b[0m         )\n\u001b[1;32m     26\u001b[0m \u001b[38;5;28;01mfor\u001b[39;00m i \u001b[38;5;129;01min\u001b[39;00m \u001b[38;5;28mrange\u001b[39m(\u001b[38;5;241m0\u001b[39m, midpoint \u001b[38;5;241m-\u001b[39m \u001b[38;5;241m2\u001b[39m, \u001b[38;5;241m2\u001b[39m):  \u001b[38;5;66;03m# select index of start of each interval\u001b[39;00m\n\u001b[1;32m     27\u001b[0m     \u001b[38;5;28;01mif\u001b[39;00m right_ivls[i] \u001b[38;5;241m>\u001b[39m right_ivls[i \u001b[38;5;241m+\u001b[39m \u001b[38;5;241m2\u001b[39m]:\n",
      "\u001b[0;31mValueError\u001b[0m: right interval invalid, idx=0 : 2 1"
     ]
    }
   ],
   "source": [
    "windows = [1, 2, 1, 2, 1, 2, 2, 3, 9, 15, 2, 1, 2, 4, 5, 6, 2, 3, 9, 15]\n",
    "check_windows(windows, len(windows))"
   ]
  },
  {
   "cell_type": "code",
   "execution_count": 5,
   "id": "cada2795-7c12-46d3-a43c-8eef0913b3b3",
   "metadata": {},
   "outputs": [
    {
     "name": "stdout",
     "output_type": "stream",
     "text": [
      "left:  [(1, 2), (1, 2), (2, 3), (1, 2), (9, 10)]\n",
      "right:  [(1, 2), (2, 4), (2, 3), (5, 6), (9, 10)]\n"
     ]
    },
    {
     "ename": "ValueError",
     "evalue": "right intervals must be sorted by size, idx=2: 2 1",
     "output_type": "error",
     "traceback": [
      "\u001b[0;31m---------------------------------------------------------------------------\u001b[0m",
      "\u001b[0;31mValueError\u001b[0m                                Traceback (most recent call last)",
      "Cell \u001b[0;32mIn[5], line 2\u001b[0m\n\u001b[1;32m      1\u001b[0m windows \u001b[38;5;241m=\u001b[39m [\u001b[38;5;241m1\u001b[39m, \u001b[38;5;241m2\u001b[39m, \u001b[38;5;241m1\u001b[39m, \u001b[38;5;241m2\u001b[39m, \u001b[38;5;241m2\u001b[39m, \u001b[38;5;241m3\u001b[39m, \u001b[38;5;241m1\u001b[39m, \u001b[38;5;241m2\u001b[39m, \u001b[38;5;241m9\u001b[39m, \u001b[38;5;241m10\u001b[39m, \u001b[38;5;241m1\u001b[39m, \u001b[38;5;241m2\u001b[39m, \u001b[38;5;241m2\u001b[39m, \u001b[38;5;241m4\u001b[39m, \u001b[38;5;241m2\u001b[39m, \u001b[38;5;241m3\u001b[39m, \u001b[38;5;241m5\u001b[39m, \u001b[38;5;241m6\u001b[39m, \u001b[38;5;241m9\u001b[39m, \u001b[38;5;241m10\u001b[39m]\n\u001b[0;32m----> 2\u001b[0m \u001b[43mcheck_windows\u001b[49m\u001b[43m(\u001b[49m\u001b[43mwindows\u001b[49m\u001b[43m,\u001b[49m\u001b[43m \u001b[49m\u001b[38;5;28;43mlen\u001b[39;49m\u001b[43m(\u001b[49m\u001b[43mwindows\u001b[49m\u001b[43m)\u001b[49m\u001b[43m)\u001b[49m\n",
      "Cell \u001b[0;32mIn[2], line 38\u001b[0m, in \u001b[0;36mcheck_windows\u001b[0;34m(windows, num_windows, print_)\u001b[0m\n\u001b[1;32m     35\u001b[0m size_next \u001b[38;5;241m=\u001b[39m right_ivls[i \u001b[38;5;241m+\u001b[39m \u001b[38;5;241m2\u001b[39m \u001b[38;5;241m+\u001b[39m \u001b[38;5;241m1\u001b[39m] \u001b[38;5;241m-\u001b[39m right_ivls[i \u001b[38;5;241m+\u001b[39m \u001b[38;5;241m2\u001b[39m]\n\u001b[1;32m     37\u001b[0m \u001b[38;5;28;01mif\u001b[39;00m size_next \u001b[38;5;241m-\u001b[39m size_curr \u001b[38;5;241m<\u001b[39m \u001b[38;5;241m0\u001b[39m:\n\u001b[0;32m---> 38\u001b[0m     \u001b[38;5;28;01mraise\u001b[39;00m \u001b[38;5;167;01mValueError\u001b[39;00m(\n\u001b[1;32m     39\u001b[0m         \u001b[38;5;124m'\u001b[39m\u001b[38;5;124mright intervals must be sorted by size, \u001b[39m\u001b[38;5;124m'\u001b[39m\n\u001b[1;32m     40\u001b[0m         \u001b[38;5;124mf\u001b[39m\u001b[38;5;124m'\u001b[39m\u001b[38;5;124midx=\u001b[39m\u001b[38;5;132;01m{\u001b[39;00mi\u001b[38;5;132;01m}\u001b[39;00m\u001b[38;5;124m: \u001b[39m\u001b[38;5;132;01m{\u001b[39;00msize_curr\u001b[38;5;132;01m}\u001b[39;00m\u001b[38;5;124m \u001b[39m\u001b[38;5;132;01m{\u001b[39;00msize_next\u001b[38;5;132;01m}\u001b[39;00m\u001b[38;5;124m'\u001b[39m\n\u001b[1;32m     41\u001b[0m     )\n",
      "\u001b[0;31mValueError\u001b[0m: right intervals must be sorted by size, idx=2: 2 1"
     ]
    }
   ],
   "source": [
    "windows = [1, 2, 1, 2, 2, 3, 1, 2, 9, 10, 1, 2, 2, 4, 2, 3, 5, 6, 9, 10]\n",
    "check_windows(windows, len(windows))"
   ]
  },
  {
   "cell_type": "code",
   "execution_count": 6,
   "id": "e537c135-447d-49ca-ae06-ae03b86e0c80",
   "metadata": {},
   "outputs": [
    {
     "name": "stdout",
     "output_type": "stream",
     "text": [
      "left:  [(1, 2), (1, 2), (2, 3), (1, 2), (9, 15)]\n",
      "right:  [(1, 2), (2, 4), (2, 3), (5, 6), (9, 15)]\n"
     ]
    },
    {
     "ename": "ValueError",
     "evalue": "right intervals must be sorted by size, idx=2: 2 1",
     "output_type": "error",
     "traceback": [
      "\u001b[0;31m---------------------------------------------------------------------------\u001b[0m",
      "\u001b[0;31mValueError\u001b[0m                                Traceback (most recent call last)",
      "Cell \u001b[0;32mIn[6], line 2\u001b[0m\n\u001b[1;32m      1\u001b[0m windows \u001b[38;5;241m=\u001b[39m [\u001b[38;5;241m1\u001b[39m, \u001b[38;5;241m2\u001b[39m, \u001b[38;5;241m1\u001b[39m, \u001b[38;5;241m2\u001b[39m, \u001b[38;5;241m2\u001b[39m, \u001b[38;5;241m3\u001b[39m, \u001b[38;5;241m1\u001b[39m, \u001b[38;5;241m2\u001b[39m, \u001b[38;5;241m9\u001b[39m, \u001b[38;5;241m15\u001b[39m, \u001b[38;5;241m1\u001b[39m, \u001b[38;5;241m2\u001b[39m, \u001b[38;5;241m2\u001b[39m, \u001b[38;5;241m4\u001b[39m, \u001b[38;5;241m2\u001b[39m, \u001b[38;5;241m3\u001b[39m, \u001b[38;5;241m5\u001b[39m, \u001b[38;5;241m6\u001b[39m, \u001b[38;5;241m9\u001b[39m, \u001b[38;5;241m15\u001b[39m]\n\u001b[0;32m----> 2\u001b[0m \u001b[43mcheck_windows\u001b[49m\u001b[43m(\u001b[49m\u001b[43mwindows\u001b[49m\u001b[43m,\u001b[49m\u001b[43m \u001b[49m\u001b[38;5;28;43mlen\u001b[39;49m\u001b[43m(\u001b[49m\u001b[43mwindows\u001b[49m\u001b[43m)\u001b[49m\u001b[43m)\u001b[49m\n",
      "Cell \u001b[0;32mIn[2], line 38\u001b[0m, in \u001b[0;36mcheck_windows\u001b[0;34m(windows, num_windows, print_)\u001b[0m\n\u001b[1;32m     35\u001b[0m size_next \u001b[38;5;241m=\u001b[39m right_ivls[i \u001b[38;5;241m+\u001b[39m \u001b[38;5;241m2\u001b[39m \u001b[38;5;241m+\u001b[39m \u001b[38;5;241m1\u001b[39m] \u001b[38;5;241m-\u001b[39m right_ivls[i \u001b[38;5;241m+\u001b[39m \u001b[38;5;241m2\u001b[39m]\n\u001b[1;32m     37\u001b[0m \u001b[38;5;28;01mif\u001b[39;00m size_next \u001b[38;5;241m-\u001b[39m size_curr \u001b[38;5;241m<\u001b[39m \u001b[38;5;241m0\u001b[39m:\n\u001b[0;32m---> 38\u001b[0m     \u001b[38;5;28;01mraise\u001b[39;00m \u001b[38;5;167;01mValueError\u001b[39;00m(\n\u001b[1;32m     39\u001b[0m         \u001b[38;5;124m'\u001b[39m\u001b[38;5;124mright intervals must be sorted by size, \u001b[39m\u001b[38;5;124m'\u001b[39m\n\u001b[1;32m     40\u001b[0m         \u001b[38;5;124mf\u001b[39m\u001b[38;5;124m'\u001b[39m\u001b[38;5;124midx=\u001b[39m\u001b[38;5;132;01m{\u001b[39;00mi\u001b[38;5;132;01m}\u001b[39;00m\u001b[38;5;124m: \u001b[39m\u001b[38;5;132;01m{\u001b[39;00msize_curr\u001b[38;5;132;01m}\u001b[39;00m\u001b[38;5;124m \u001b[39m\u001b[38;5;132;01m{\u001b[39;00msize_next\u001b[38;5;132;01m}\u001b[39;00m\u001b[38;5;124m'\u001b[39m\n\u001b[1;32m     41\u001b[0m     )\n",
      "\u001b[0;31mValueError\u001b[0m: right intervals must be sorted by size, idx=2: 2 1"
     ]
    }
   ],
   "source": [
    "windows = [1, 2, 1, 2, 2, 3, 1, 2, 9, 15, 1, 2, 2, 4, 2, 3, 5, 6, 9, 15]\n",
    "check_windows(windows, len(windows))"
   ]
  },
  {
   "cell_type": "code",
   "execution_count": 7,
   "id": "106ce813-eea1-4e68-ad6f-2b0c4bf0ce20",
   "metadata": {},
   "outputs": [
    {
     "name": "stdout",
     "output_type": "stream",
     "text": [
      "left:  [(1, 2), (2, 3), (1, 2), (1, 2), (9, 15)]\n",
      "right:  [(1, 2), (2, 3), (2, 4), (5, 6), (9, 15)]\n"
     ]
    }
   ],
   "source": [
    "windows = [1, 2, 2, 3, 1, 2, 1, 2, 9, 15, 1, 2, 2, 3, 2, 4, 5, 6, 9, 15]\n",
    "check_windows(windows, len(windows))"
   ]
  },
  {
   "cell_type": "markdown",
   "id": "9a61013a-8018-4613-a5cf-c4c9587eeefd",
   "metadata": {},
   "source": [
    "### Application\n",
    "\n",
    "Now, let's demonstrate how this window format will be used when making comparisons between pairs of sites.\n",
    "\n",
    "First off, we would compute the first and last window and would restrict our computations within this extent.\n",
    "\n",
    "Then, we'd perform all pairwise comparisons within the windows we've chosen."
   ]
  },
  {
   "cell_type": "code",
   "execution_count": 8,
   "id": "0bfdb765-e378-46b4-9fee-0307cf5a22df",
   "metadata": {},
   "outputs": [],
   "source": [
    "# we'll represent sites purely by their position\n",
    "# for simplicity's sake, there is one site at every integer position\n",
    "sites = [0, 1, 2, 3, 4, 5, 6, 7, 8, 9, 10, 11, 12, 13, 14, 15]"
   ]
  },
  {
   "cell_type": "code",
   "execution_count": 9,
   "id": "033e57f1-2bef-4db9-a8f6-aca71d284f50",
   "metadata": {},
   "outputs": [
    {
     "name": "stdout",
     "output_type": "stream",
     "text": [
      "left:  [(2, 4), (3, 6), (3, 8)]\n",
      "right:  [(0, 4), (4, 8), (9, 12)]\n"
     ]
    }
   ],
   "source": [
    "windows = [2, 4, 3, 6, 3, 8, 0, 4, 4, 8, 9, 12]\n",
    "check_windows(windows, len(windows))"
   ]
  },
  {
   "cell_type": "code",
   "execution_count": 10,
   "id": "606563cb-7d72-4dd5-a525-9ab4f0502610",
   "metadata": {},
   "outputs": [],
   "source": [
    "def compare_sites(windows, num_windows, sites, num_sites):\n",
    "    row_len = 2\n",
    "    midpoint = num_windows // row_len\n",
    "    left_ivls = windows[:midpoint]\n",
    "    right_ivls = windows[midpoint:]\n",
    "\n",
    "    # two arrays allocated, storing the site offsets for the left and right intervals\n",
    "    left_offsets = get_offsets(left_ivls, midpoint, sites)\n",
    "    right_offsets = get_offsets(right_ivls, midpoint, sites)\n",
    "    # right_offsets = np.empty(midpoint, np.uint64)\n",
    "    print('left_offsets', left_offsets)\n",
    "    print('right_offsets', right_offsets)\n",
    "\n",
    "    for w in range(0, midpoint, row_len):\n",
    "        # inner = 0\n",
    "        for site_1_idx in range(left_ivls[w], left_ivls[w + 1]):\n",
    "            site_1 = sites[site_1_idx]\n",
    "            # for site_2_idx in range(right_ivls[w] + inner, right_ivls[w + 1]):\n",
    "            for site_2_idx in range(right_ivls[w], right_ivls[w + 1]):\n",
    "                site_2 = sites[site_2_idx]\n",
    "                print(w, site_1, site_2)\n",
    "            # inner += 1\n",
    "\n",
    "def get_offsets(windows, num_windows, sites):\n",
    "    offsets = np.zeros(num_windows, np.uint64)\n",
    "    win = 0\n",
    "    s = 0\n",
    "    while True:\n",
    "        start = windows[win]\n",
    "        stop = windows[win + 1]\n",
    "        # seek to start\n",
    "        while sites[s] < start:\n",
    "            s += 1\n",
    "        offsets[win] = s\n",
    "        # seek within range\n",
    "        while sites[s + 1] < stop:  # TODO: bounds checking?\n",
    "            s += 1\n",
    "        offsets[win + 1] = s\n",
    "        win += 2\n",
    "        if win == num_windows:\n",
    "            break\n",
    "        if stop > windows[win]:\n",
    "            # seek backward to next window start\n",
    "            while sites[s] > windows[win]:\n",
    "                s -= 1\n",
    "    return offsets"
   ]
  },
  {
   "cell_type": "code",
   "execution_count": 11,
   "id": "6f11d703-40c4-4278-ba7b-5317e056bd02",
   "metadata": {},
   "outputs": [
    {
     "name": "stdout",
     "output_type": "stream",
     "text": [
      "left_offsets [2 3 3 5 3 7]\n",
      "right_offsets [ 0  3  4  7  9 11]\n",
      "0 2 0\n",
      "0 2 1\n",
      "0 2 2\n",
      "0 2 3\n",
      "0 3 0\n",
      "0 3 1\n",
      "0 3 2\n",
      "0 3 3\n",
      "2 3 4\n",
      "2 3 5\n",
      "2 3 6\n",
      "2 3 7\n",
      "2 4 4\n",
      "2 4 5\n",
      "2 4 6\n",
      "2 4 7\n",
      "2 5 4\n",
      "2 5 5\n",
      "2 5 6\n",
      "2 5 7\n",
      "4 3 9\n",
      "4 3 10\n",
      "4 3 11\n",
      "4 4 9\n",
      "4 4 10\n",
      "4 4 11\n",
      "4 5 9\n",
      "4 5 10\n",
      "4 5 11\n",
      "4 6 9\n",
      "4 6 10\n",
      "4 6 11\n",
      "4 7 9\n",
      "4 7 10\n",
      "4 7 11\n"
     ]
    }
   ],
   "source": [
    "compare_sites(windows, len(windows), sites, len(sites))"
   ]
  },
  {
   "cell_type": "code",
   "execution_count": null,
   "id": "2cf13973-e0b1-417d-b62a-e248402217b2",
   "metadata": {},
   "outputs": [],
   "source": []
  }
 ],
 "metadata": {
  "kernelspec": {
   "display_name": "tskit-dev-2",
   "language": "python",
   "name": "tskit-dev-2"
  },
  "language_info": {
   "codemirror_mode": {
    "name": "ipython",
    "version": 3
   },
   "file_extension": ".py",
   "mimetype": "text/x-python",
   "name": "python",
   "nbconvert_exporter": "python",
   "pygments_lexer": "ipython3",
   "version": "3.11.4"
  }
 },
 "nbformat": 4,
 "nbformat_minor": 5
}
