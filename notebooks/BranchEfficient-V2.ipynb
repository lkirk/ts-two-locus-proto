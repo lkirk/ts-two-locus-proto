{
 "cells": [
  {
   "cell_type": "code",
   "execution_count": 1,
   "id": "20865c43-39bb-4fdb-a255-7de215acaf59",
   "metadata": {},
   "outputs": [],
   "source": [
    "from itertools import combinations, combinations_with_replacement, product\n",
    "\n",
    "import tskit\n",
    "import msprime\n",
    "import numpy as np"
   ]
  },
  {
   "cell_type": "code",
   "execution_count": 2,
   "id": "da806795-c631-4bb8-9cab-54dea3c42998",
   "metadata": {},
   "outputs": [],
   "source": [
    "ts = msprime.sim_ancestry(samples=4, recombination_rate=.2, sequence_length=10, random_seed=1)  # seed=2 is a trickier test that is helpful for testing mrca correctness"
   ]
  },
  {
   "cell_type": "code",
   "execution_count": 3,
   "id": "4b40f019-d32c-4f50-a703-b9bbb3d47328",
   "metadata": {},
   "outputs": [
    {
     "data": {
      "image/svg+xml": [
       "<svg baseProfile=\"full\" height=\"400\" version=\"1.1\" width=\"1000\" xmlns=\"http://www.w3.org/2000/svg\" xmlns:ev=\"http://www.w3.org/2001/xml-events\" xmlns:xlink=\"http://www.w3.org/1999/xlink\"><defs><style type=\"text/css\"><![CDATA[.background path {fill: #808080; fill-opacity: 0}.background path:nth-child(odd) {fill-opacity: .1}.axes {font-size: 14px}.x-axis .tick .lab {font-weight: bold; dominant-baseline: hanging}.axes, .tree {font-size: 14px; text-anchor: middle}.axes line, .edge {stroke: black; fill: none}.axes .ax-skip {stroke-dasharray: 4}.y-axis .grid {stroke: #FAFAFA}.node > .sym {fill: black; stroke: none}.site > .sym {stroke: black}.mut text {fill: red; font-style: italic}.mut.extra text {fill: hotpink}.mut line {fill: none; stroke: none}.mut .sym {fill: none; stroke: red}.mut.extra .sym {stroke: hotpink}.node .mut .sym {stroke-width: 1.5px}.tree text, .tree-sequence text {dominant-baseline: central}.plotbox .lab.lft {text-anchor: end}.plotbox .lab.rgt {text-anchor: start}]]></style></defs><g class=\"tree-sequence\"><g class=\"background\"><path d=\"M56.8,0 l184.64,0 l0,338.2 l-92.32,25 l0,5 l-92.32,0 l0,-5 l0,-25 l0,-338.2z\" /><path d=\"M241.44,0 l184.64,0 l0,338.2 l-92.32,25 l0,5 l-184.64,0 l0,-5 l92.32,-25 l0,-338.2z\" /><path d=\"M426.08,0 l184.64,0 l0,338.2 l0,25 l0,5 l-276.96,0 l0,-5 l92.32,-25 l0,-338.2z\" /><path d=\"M610.72,0 l184.64,0 l0,338.2 l-92.32,25 l0,5 l-92.32,0 l0,-5 l0,-25 l0,-338.2z\" /><path d=\"M795.36,0 l184.64,0 l0,338.2 l0,25 l0,5 l-276.96,0 l0,-5 l92.32,-25 l0,-338.2z\" /></g><g class=\"axes\"><g class=\"x-axis\"><g class=\"title\" transform=\"translate(518.4 400)\"><text class=\"lab\" text-anchor=\"middle\" transform=\"translate(0 -11)\">Genome position</text></g><line class=\"ax-line\" x1=\"56.8\" x2=\"980\" y1=\"363.2\" y2=\"363.2\" /><g class=\"ticks\"><g class=\"tick\" transform=\"translate(56.8 363.2)\"><line x1=\"0\" x2=\"0\" y1=\"0\" y2=\"5\" /><g transform=\"translate(0 6)\"><text class=\"lab\">0</text></g></g><g class=\"tick\" transform=\"translate(149.12 363.2)\"><line x1=\"0\" x2=\"0\" y1=\"0\" y2=\"5\" /><g transform=\"translate(0 6)\"><text class=\"lab\">1</text></g></g><g class=\"tick\" transform=\"translate(333.76 363.2)\"><line x1=\"0\" x2=\"0\" y1=\"0\" y2=\"5\" /><g transform=\"translate(0 6)\"><text class=\"lab\">3</text></g></g><g class=\"tick\" transform=\"translate(610.72 363.2)\"><line x1=\"0\" x2=\"0\" y1=\"0\" y2=\"5\" /><g transform=\"translate(0 6)\"><text class=\"lab\">6</text></g></g><g class=\"tick\" transform=\"translate(703.04 363.2)\"><line x1=\"0\" x2=\"0\" y1=\"0\" y2=\"5\" /><g transform=\"translate(0 6)\"><text class=\"lab\">7</text></g></g><g class=\"tick\" transform=\"translate(980 363.2)\"><line x1=\"0\" x2=\"0\" y1=\"0\" y2=\"5\" /><g transform=\"translate(0 6)\"><text class=\"lab\">10</text></g></g></g></g><g class=\"y-axis\"><g class=\"title\" transform=\"translate(0 165.7)\"><text class=\"lab\" text-anchor=\"middle\" transform=\"translate(11) rotate(-90)\">Time (generations)</text></g><line class=\"ax-line\" x1=\"56.8\" x2=\"56.8\" y1=\"321.4\" y2=\"10\" /><g class=\"ticks\"><g class=\"tick\" transform=\"translate(56.8 321.4)\"><line x1=\"0\" x2=\"-5\" y1=\"0\" y2=\"0\" /><g transform=\"translate(-6 0)\"><text class=\"lab\" text-anchor=\"end\">0.00</text></g></g><g class=\"tick\" transform=\"translate(56.8 317.519)\"><line x1=\"0\" x2=\"-5\" y1=\"0\" y2=\"0\" /><g transform=\"translate(-6 0)\"><text class=\"lab\" text-anchor=\"end\">0.04</text></g></g><g class=\"tick\" transform=\"translate(56.8 316.345)\"><line x1=\"0\" x2=\"-5\" y1=\"0\" y2=\"0\" /><g transform=\"translate(-6 0)\"><text class=\"lab\" text-anchor=\"end\">0.05</text></g></g><g class=\"tick\" transform=\"translate(56.8 314.312)\"><line x1=\"0\" x2=\"-5\" y1=\"0\" y2=\"0\" /><g transform=\"translate(-6 0)\"><text class=\"lab\" text-anchor=\"end\">0.07</text></g></g><g class=\"tick\" transform=\"translate(56.8 307.333)\"><line x1=\"0\" x2=\"-5\" y1=\"0\" y2=\"0\" /><g transform=\"translate(-6 0)\"><text class=\"lab\" text-anchor=\"end\">0.14</text></g></g><g class=\"tick\" transform=\"translate(56.8 296.08)\"><line x1=\"0\" x2=\"-5\" y1=\"0\" y2=\"0\" /><g transform=\"translate(-6 0)\"><text class=\"lab\" text-anchor=\"end\">0.24</text></g></g><g class=\"tick\" transform=\"translate(56.8 288.185)\"><line x1=\"0\" x2=\"-5\" y1=\"0\" y2=\"0\" /><g transform=\"translate(-6 0)\"><text class=\"lab\" text-anchor=\"end\">0.32</text></g></g><g class=\"tick\" transform=\"translate(56.8 286.268)\"><line x1=\"0\" x2=\"-5\" y1=\"0\" y2=\"0\" /><g transform=\"translate(-6 0)\"><text class=\"lab\" text-anchor=\"end\">0.34</text></g></g><g class=\"tick\" transform=\"translate(56.8 141.477)\"><line x1=\"0\" x2=\"-5\" y1=\"0\" y2=\"0\" /><g transform=\"translate(-6 0)\"><text class=\"lab\" text-anchor=\"end\">1.74</text></g></g><g class=\"tick\" transform=\"translate(56.8 61.0902)\"><line x1=\"0\" x2=\"-5\" y1=\"0\" y2=\"0\" /><g transform=\"translate(-6 0)\"><text class=\"lab\" text-anchor=\"end\">2.51</text></g></g><g class=\"tick\" transform=\"translate(56.8 26.8)\"><line x1=\"0\" x2=\"-5\" y1=\"0\" y2=\"0\" /><g transform=\"translate(-6 0)\"><text class=\"lab\" text-anchor=\"end\">2.84</text></g></g></g></g></g><g class=\"plotbox trees\"><g class=\"tree t0\" transform=\"translate(56.8 0)\"><g class=\"plotbox\"><g class=\"c2 node n16 p0 root\" transform=\"translate(108.14 61.0902)\"><g class=\"a16 c2 node n10 p0\" transform=\"translate(38.42 253.222)\"><g class=\"a10 i1 leaf node n3 p0 sample\" transform=\"translate(-9.04 7.08778)\"><path class=\"edge\" d=\"M 0 0 V -7.08778 H 9.04\" /><rect class=\"sym\" height=\"6\" width=\"6\" x=\"-3\" y=\"-3\" /><text class=\"lab\" transform=\"translate(0 11)\">3</text></g><g class=\"a10 i2 leaf node n4 p0 sample\" transform=\"translate(9.04 7.08778)\"><path class=\"edge\" d=\"M 0 0 V -7.08778 H -9.04\" /><rect class=\"sym\" height=\"6\" width=\"6\" x=\"-3\" y=\"-3\" /><text class=\"lab\" transform=\"translate(0 11)\">4</text></g><path class=\"edge\" d=\"M 0 0 V -253.222 H -38.42\" /><circle class=\"sym\" cx=\"0\" cy=\"0\" r=\"3\" /><text class=\"lab rgt\" transform=\"translate(3 -7.0)\">10</text></g><g class=\"a16 c2 node n14 p0\" transform=\"translate(-38.42 225.178)\"><g class=\"a14 c2 node n11 p0\" transform=\"translate(-27.12 21.0652)\"><g class=\"a11 i0 leaf node n0 p0 sample\" transform=\"translate(-13.56 14.0667)\"><path class=\"edge\" d=\"M 0 0 V -14.0667 H 13.56\" /><rect class=\"sym\" height=\"6\" width=\"6\" x=\"-3\" y=\"-3\" /><text class=\"lab\" transform=\"translate(0 11)\">0</text></g><g class=\"a11 c2 node n8 p0\" transform=\"translate(13.56 10.1856)\"><g class=\"a8 i2 leaf node n5 p0 sample\" transform=\"translate(-9.04 3.88109)\"><path class=\"edge\" d=\"M 0 0 V -3.88109 H 9.04\" /><rect class=\"sym\" height=\"6\" width=\"6\" x=\"-3\" y=\"-3\" /><text class=\"lab\" transform=\"translate(0 11)\">5</text></g><g class=\"a8 i3 leaf node n7 p0 sample\" transform=\"translate(9.04 3.88109)\"><path class=\"edge\" d=\"M 0 0 V -3.88109 H -9.04\" /><rect class=\"sym\" height=\"6\" width=\"6\" x=\"-3\" y=\"-3\" /><text class=\"lab\" transform=\"translate(0 11)\">7</text></g><path class=\"edge\" d=\"M 0 0 V -10.1856 H -13.56\" /><circle class=\"sym\" cx=\"0\" cy=\"0\" r=\"3\" /><text class=\"lab rgt\" transform=\"translate(3 -7.0)\">8</text></g><path class=\"edge\" d=\"M 0 0 V -21.0652 H 27.12\" /><circle class=\"sym\" cx=\"0\" cy=\"0\" r=\"3\" /><text class=\"lab lft\" transform=\"translate(-3 -7.0)\">11</text></g><g class=\"a14 c2 node n13 p0\" transform=\"translate(27.12 1.9171)\"><g class=\"a13 i0 leaf node n1 p0 sample\" transform=\"translate(-13.56 33.2147)\"><path class=\"edge\" d=\"M 0 0 V -33.2147 H 13.56\" /><rect class=\"sym\" height=\"6\" width=\"6\" x=\"-3\" y=\"-3\" /><text class=\"lab\" transform=\"translate(0 11)\">1</text></g><g class=\"a13 c2 node n12 p0\" transform=\"translate(13.56 7.8951)\"><g class=\"a12 i1 leaf node n2 p0 sample\" transform=\"translate(-9.04 25.3196)\"><path class=\"edge\" d=\"M 0 0 V -25.3196 H 9.04\" /><rect class=\"sym\" height=\"6\" width=\"6\" x=\"-3\" y=\"-3\" /><text class=\"lab\" transform=\"translate(0 11)\">2</text></g><g class=\"a12 i3 leaf node n6 p0 sample\" transform=\"translate(9.04 25.3196)\"><path class=\"edge\" d=\"M 0 0 V -25.3196 H -9.04\" /><rect class=\"sym\" height=\"6\" width=\"6\" x=\"-3\" y=\"-3\" /><text class=\"lab\" transform=\"translate(0 11)\">6</text></g><path class=\"edge\" d=\"M 0 0 V -7.8951 H -13.56\" /><circle class=\"sym\" cx=\"0\" cy=\"0\" r=\"3\" /><text class=\"lab rgt\" transform=\"translate(3 -7.0)\">12</text></g><path class=\"edge\" d=\"M 0 0 V -1.9171 H -27.12\" /><circle class=\"sym\" cx=\"0\" cy=\"0\" r=\"3\" /><text class=\"lab rgt\" transform=\"translate(3 -7.0)\">13</text></g><path class=\"edge\" d=\"M 0 0 V -225.178 H 38.42\" /><circle class=\"sym\" cx=\"0\" cy=\"0\" r=\"3\" /><text class=\"lab lft\" transform=\"translate(-3 -7.0)\">14</text></g><circle class=\"sym\" cx=\"0\" cy=\"0\" r=\"3\" /><text class=\"lab\" transform=\"translate(0 -11)\">16</text></g></g></g><g class=\"tree t1\" transform=\"translate(241.44 0)\"><g class=\"plotbox\"><g class=\"c2 node n17 p0 root\" transform=\"translate(108.14 26.8)\"><g class=\"a17 c2 node n10 p0\" transform=\"translate(38.42 287.512)\"><g class=\"a10 i1 leaf node n3 p0 sample\" transform=\"translate(-9.04 7.08778)\"><path class=\"edge\" d=\"M 0 0 V -7.08778 H 9.04\" /><rect class=\"sym\" height=\"6\" width=\"6\" x=\"-3\" y=\"-3\" /><text class=\"lab\" transform=\"translate(0 11)\">3</text></g><g class=\"a10 i2 leaf node n4 p0 sample\" transform=\"translate(9.04 7.08778)\"><path class=\"edge\" d=\"M 0 0 V -7.08778 H -9.04\" /><rect class=\"sym\" height=\"6\" width=\"6\" x=\"-3\" y=\"-3\" /><text class=\"lab\" transform=\"translate(0 11)\">4</text></g><path class=\"edge\" d=\"M 0 0 V -287.512 H -38.42\" /><circle class=\"sym\" cx=\"0\" cy=\"0\" r=\"3\" /><text class=\"lab rgt\" transform=\"translate(3 -7.0)\">10</text></g><g class=\"a17 c2 node n14 p0\" transform=\"translate(-38.42 259.468)\"><g class=\"a14 c2 node n11 p0\" transform=\"translate(-27.12 21.0652)\"><g class=\"a11 i0 leaf node n0 p0 sample\" transform=\"translate(-13.56 14.0667)\"><path class=\"edge\" d=\"M 0 0 V -14.0667 H 13.56\" /><rect class=\"sym\" height=\"6\" width=\"6\" x=\"-3\" y=\"-3\" /><text class=\"lab\" transform=\"translate(0 11)\">0</text></g><g class=\"a11 c2 node n8 p0\" transform=\"translate(13.56 10.1856)\"><g class=\"a8 i2 leaf node n5 p0 sample\" transform=\"translate(-9.04 3.88109)\"><path class=\"edge\" d=\"M 0 0 V -3.88109 H 9.04\" /><rect class=\"sym\" height=\"6\" width=\"6\" x=\"-3\" y=\"-3\" /><text class=\"lab\" transform=\"translate(0 11)\">5</text></g><g class=\"a8 i3 leaf node n7 p0 sample\" transform=\"translate(9.04 3.88109)\"><path class=\"edge\" d=\"M 0 0 V -3.88109 H -9.04\" /><rect class=\"sym\" height=\"6\" width=\"6\" x=\"-3\" y=\"-3\" /><text class=\"lab\" transform=\"translate(0 11)\">7</text></g><path class=\"edge\" d=\"M 0 0 V -10.1856 H -13.56\" /><circle class=\"sym\" cx=\"0\" cy=\"0\" r=\"3\" /><text class=\"lab rgt\" transform=\"translate(3 -7.0)\">8</text></g><path class=\"edge\" d=\"M 0 0 V -21.0652 H 27.12\" /><circle class=\"sym\" cx=\"0\" cy=\"0\" r=\"3\" /><text class=\"lab lft\" transform=\"translate(-3 -7.0)\">11</text></g><g class=\"a14 c2 node n13 p0\" transform=\"translate(27.12 1.9171)\"><g class=\"a13 i0 leaf node n1 p0 sample\" transform=\"translate(-13.56 33.2147)\"><path class=\"edge\" d=\"M 0 0 V -33.2147 H 13.56\" /><rect class=\"sym\" height=\"6\" width=\"6\" x=\"-3\" y=\"-3\" /><text class=\"lab\" transform=\"translate(0 11)\">1</text></g><g class=\"a13 c2 node n12 p0\" transform=\"translate(13.56 7.8951)\"><g class=\"a12 i1 leaf node n2 p0 sample\" transform=\"translate(-9.04 25.3196)\"><path class=\"edge\" d=\"M 0 0 V -25.3196 H 9.04\" /><rect class=\"sym\" height=\"6\" width=\"6\" x=\"-3\" y=\"-3\" /><text class=\"lab\" transform=\"translate(0 11)\">2</text></g><g class=\"a12 i3 leaf node n6 p0 sample\" transform=\"translate(9.04 25.3196)\"><path class=\"edge\" d=\"M 0 0 V -25.3196 H -9.04\" /><rect class=\"sym\" height=\"6\" width=\"6\" x=\"-3\" y=\"-3\" /><text class=\"lab\" transform=\"translate(0 11)\">6</text></g><path class=\"edge\" d=\"M 0 0 V -7.8951 H -13.56\" /><circle class=\"sym\" cx=\"0\" cy=\"0\" r=\"3\" /><text class=\"lab rgt\" transform=\"translate(3 -7.0)\">12</text></g><path class=\"edge\" d=\"M 0 0 V -1.9171 H -27.12\" /><circle class=\"sym\" cx=\"0\" cy=\"0\" r=\"3\" /><text class=\"lab rgt\" transform=\"translate(3 -7.0)\">13</text></g><path class=\"edge\" d=\"M 0 0 V -259.468 H 38.42\" /><circle class=\"sym\" cx=\"0\" cy=\"0\" r=\"3\" /><text class=\"lab lft\" transform=\"translate(-3 -7.0)\">14</text></g><circle class=\"sym\" cx=\"0\" cy=\"0\" r=\"3\" /><text class=\"lab\" transform=\"translate(0 -11)\">17</text></g></g></g><g class=\"tree t2\" transform=\"translate(426.08 0)\"><g class=\"plotbox\"><g class=\"c2 node n15 p0 root\" transform=\"translate(108.14 141.477)\"><g class=\"a15 c2 node n10 p0\" transform=\"translate(38.42 172.836)\"><g class=\"a10 i1 leaf node n3 p0 sample\" transform=\"translate(-9.04 7.08778)\"><path class=\"edge\" d=\"M 0 0 V -7.08778 H 9.04\" /><rect class=\"sym\" height=\"6\" width=\"6\" x=\"-3\" y=\"-3\" /><text class=\"lab\" transform=\"translate(0 11)\">3</text></g><g class=\"a10 i2 leaf node n4 p0 sample\" transform=\"translate(9.04 7.08778)\"><path class=\"edge\" d=\"M 0 0 V -7.08778 H -9.04\" /><rect class=\"sym\" height=\"6\" width=\"6\" x=\"-3\" y=\"-3\" /><text class=\"lab\" transform=\"translate(0 11)\">4</text></g><path class=\"edge\" d=\"M 0 0 V -172.836 H -38.42\" /><circle class=\"sym\" cx=\"0\" cy=\"0\" r=\"3\" /><text class=\"lab rgt\" transform=\"translate(3 -7.0)\">10</text></g><g class=\"a15 c2 node n14 p0\" transform=\"translate(-38.42 144.792)\"><g class=\"a14 c2 node n11 p0\" transform=\"translate(-27.12 21.0652)\"><g class=\"a11 i0 leaf node n0 p0 sample\" transform=\"translate(-13.56 14.0667)\"><path class=\"edge\" d=\"M 0 0 V -14.0667 H 13.56\" /><rect class=\"sym\" height=\"6\" width=\"6\" x=\"-3\" y=\"-3\" /><text class=\"lab\" transform=\"translate(0 11)\">0</text></g><g class=\"a11 c2 node n8 p0\" transform=\"translate(13.56 10.1856)\"><g class=\"a8 i2 leaf node n5 p0 sample\" transform=\"translate(-9.04 3.88109)\"><path class=\"edge\" d=\"M 0 0 V -3.88109 H 9.04\" /><rect class=\"sym\" height=\"6\" width=\"6\" x=\"-3\" y=\"-3\" /><text class=\"lab\" transform=\"translate(0 11)\">5</text></g><g class=\"a8 i3 leaf node n7 p0 sample\" transform=\"translate(9.04 3.88109)\"><path class=\"edge\" d=\"M 0 0 V -3.88109 H -9.04\" /><rect class=\"sym\" height=\"6\" width=\"6\" x=\"-3\" y=\"-3\" /><text class=\"lab\" transform=\"translate(0 11)\">7</text></g><path class=\"edge\" d=\"M 0 0 V -10.1856 H -13.56\" /><circle class=\"sym\" cx=\"0\" cy=\"0\" r=\"3\" /><text class=\"lab rgt\" transform=\"translate(3 -7.0)\">8</text></g><path class=\"edge\" d=\"M 0 0 V -21.0652 H 27.12\" /><circle class=\"sym\" cx=\"0\" cy=\"0\" r=\"3\" /><text class=\"lab lft\" transform=\"translate(-3 -7.0)\">11</text></g><g class=\"a14 c2 node n13 p0\" transform=\"translate(27.12 1.9171)\"><g class=\"a13 i0 leaf node n1 p0 sample\" transform=\"translate(-13.56 33.2147)\"><path class=\"edge\" d=\"M 0 0 V -33.2147 H 13.56\" /><rect class=\"sym\" height=\"6\" width=\"6\" x=\"-3\" y=\"-3\" /><text class=\"lab\" transform=\"translate(0 11)\">1</text></g><g class=\"a13 c2 node n12 p0\" transform=\"translate(13.56 7.8951)\"><g class=\"a12 i1 leaf node n2 p0 sample\" transform=\"translate(-9.04 25.3196)\"><path class=\"edge\" d=\"M 0 0 V -25.3196 H 9.04\" /><rect class=\"sym\" height=\"6\" width=\"6\" x=\"-3\" y=\"-3\" /><text class=\"lab\" transform=\"translate(0 11)\">2</text></g><g class=\"a12 i3 leaf node n6 p0 sample\" transform=\"translate(9.04 25.3196)\"><path class=\"edge\" d=\"M 0 0 V -25.3196 H -9.04\" /><rect class=\"sym\" height=\"6\" width=\"6\" x=\"-3\" y=\"-3\" /><text class=\"lab\" transform=\"translate(0 11)\">6</text></g><path class=\"edge\" d=\"M 0 0 V -7.8951 H -13.56\" /><circle class=\"sym\" cx=\"0\" cy=\"0\" r=\"3\" /><text class=\"lab rgt\" transform=\"translate(3 -7.0)\">12</text></g><path class=\"edge\" d=\"M 0 0 V -1.9171 H -27.12\" /><circle class=\"sym\" cx=\"0\" cy=\"0\" r=\"3\" /><text class=\"lab rgt\" transform=\"translate(3 -7.0)\">13</text></g><path class=\"edge\" d=\"M 0 0 V -144.792 H 38.42\" /><circle class=\"sym\" cx=\"0\" cy=\"0\" r=\"3\" /><text class=\"lab lft\" transform=\"translate(-3 -7.0)\">14</text></g><circle class=\"sym\" cx=\"0\" cy=\"0\" r=\"3\" /><text class=\"lab\" transform=\"translate(0 -11)\">15</text></g></g></g><g class=\"tree t3\" transform=\"translate(610.72 0)\"><g class=\"plotbox\"><g class=\"c2 node n17 p0 root\" transform=\"translate(108.14 26.8)\"><g class=\"a17 c2 node n10 p0\" transform=\"translate(38.42 287.512)\"><g class=\"a10 i1 leaf node n3 p0 sample\" transform=\"translate(-9.04 7.08778)\"><path class=\"edge\" d=\"M 0 0 V -7.08778 H 9.04\" /><rect class=\"sym\" height=\"6\" width=\"6\" x=\"-3\" y=\"-3\" /><text class=\"lab\" transform=\"translate(0 11)\">3</text></g><g class=\"a10 i2 leaf node n4 p0 sample\" transform=\"translate(9.04 7.08778)\"><path class=\"edge\" d=\"M 0 0 V -7.08778 H -9.04\" /><rect class=\"sym\" height=\"6\" width=\"6\" x=\"-3\" y=\"-3\" /><text class=\"lab\" transform=\"translate(0 11)\">4</text></g><path class=\"edge\" d=\"M 0 0 V -287.512 H -38.42\" /><circle class=\"sym\" cx=\"0\" cy=\"0\" r=\"3\" /><text class=\"lab rgt\" transform=\"translate(3 -7.0)\">10</text></g><g class=\"a17 c2 node n14 p0\" transform=\"translate(-38.42 259.468)\"><g class=\"a14 c2 node n11 p0\" transform=\"translate(-27.12 21.0652)\"><g class=\"a11 i0 leaf node n0 p0 sample\" transform=\"translate(-13.56 14.0667)\"><path class=\"edge\" d=\"M 0 0 V -14.0667 H 13.56\" /><rect class=\"sym\" height=\"6\" width=\"6\" x=\"-3\" y=\"-3\" /><text class=\"lab\" transform=\"translate(0 11)\">0</text></g><g class=\"a11 c2 node n8 p0\" transform=\"translate(13.56 10.1856)\"><g class=\"a8 i2 leaf node n5 p0 sample\" transform=\"translate(-9.04 3.88109)\"><path class=\"edge\" d=\"M 0 0 V -3.88109 H 9.04\" /><rect class=\"sym\" height=\"6\" width=\"6\" x=\"-3\" y=\"-3\" /><text class=\"lab\" transform=\"translate(0 11)\">5</text></g><g class=\"a8 i3 leaf node n7 p0 sample\" transform=\"translate(9.04 3.88109)\"><path class=\"edge\" d=\"M 0 0 V -3.88109 H -9.04\" /><rect class=\"sym\" height=\"6\" width=\"6\" x=\"-3\" y=\"-3\" /><text class=\"lab\" transform=\"translate(0 11)\">7</text></g><path class=\"edge\" d=\"M 0 0 V -10.1856 H -13.56\" /><circle class=\"sym\" cx=\"0\" cy=\"0\" r=\"3\" /><text class=\"lab rgt\" transform=\"translate(3 -7.0)\">8</text></g><path class=\"edge\" d=\"M 0 0 V -21.0652 H 27.12\" /><circle class=\"sym\" cx=\"0\" cy=\"0\" r=\"3\" /><text class=\"lab lft\" transform=\"translate(-3 -7.0)\">11</text></g><g class=\"a14 c2 node n13 p0\" transform=\"translate(27.12 1.9171)\"><g class=\"a13 i0 leaf node n1 p0 sample\" transform=\"translate(-13.56 33.2147)\"><path class=\"edge\" d=\"M 0 0 V -33.2147 H 13.56\" /><rect class=\"sym\" height=\"6\" width=\"6\" x=\"-3\" y=\"-3\" /><text class=\"lab\" transform=\"translate(0 11)\">1</text></g><g class=\"a13 c2 node n12 p0\" transform=\"translate(13.56 7.8951)\"><g class=\"a12 i1 leaf node n2 p0 sample\" transform=\"translate(-9.04 25.3196)\"><path class=\"edge\" d=\"M 0 0 V -25.3196 H 9.04\" /><rect class=\"sym\" height=\"6\" width=\"6\" x=\"-3\" y=\"-3\" /><text class=\"lab\" transform=\"translate(0 11)\">2</text></g><g class=\"a12 i3 leaf node n6 p0 sample\" transform=\"translate(9.04 25.3196)\"><path class=\"edge\" d=\"M 0 0 V -25.3196 H -9.04\" /><rect class=\"sym\" height=\"6\" width=\"6\" x=\"-3\" y=\"-3\" /><text class=\"lab\" transform=\"translate(0 11)\">6</text></g><path class=\"edge\" d=\"M 0 0 V -7.8951 H -13.56\" /><circle class=\"sym\" cx=\"0\" cy=\"0\" r=\"3\" /><text class=\"lab rgt\" transform=\"translate(3 -7.0)\">12</text></g><path class=\"edge\" d=\"M 0 0 V -1.9171 H -27.12\" /><circle class=\"sym\" cx=\"0\" cy=\"0\" r=\"3\" /><text class=\"lab rgt\" transform=\"translate(3 -7.0)\">13</text></g><path class=\"edge\" d=\"M 0 0 V -259.468 H 38.42\" /><circle class=\"sym\" cx=\"0\" cy=\"0\" r=\"3\" /><text class=\"lab lft\" transform=\"translate(-3 -7.0)\">14</text></g><circle class=\"sym\" cx=\"0\" cy=\"0\" r=\"3\" /><text class=\"lab\" transform=\"translate(0 -11)\">17</text></g></g></g><g class=\"tree t4\" transform=\"translate(795.36 0)\"><g class=\"plotbox\"><g class=\"c2 node n17 p0 root\" transform=\"translate(112.095 26.8)\"><g class=\"a17 c2 node n10 p0\" transform=\"translate(34.465 287.512)\"><g class=\"a10 i1 leaf node n3 p0 sample\" transform=\"translate(-9.04 7.08778)\"><path class=\"edge\" d=\"M 0 0 V -7.08778 H 9.04\" /><rect class=\"sym\" height=\"6\" width=\"6\" x=\"-3\" y=\"-3\" /><text class=\"lab\" transform=\"translate(0 11)\">3</text></g><g class=\"a10 i2 leaf node n4 p0 sample\" transform=\"translate(9.04 7.08778)\"><path class=\"edge\" d=\"M 0 0 V -7.08778 H -9.04\" /><rect class=\"sym\" height=\"6\" width=\"6\" x=\"-3\" y=\"-3\" /><text class=\"lab\" transform=\"translate(0 11)\">4</text></g><path class=\"edge\" d=\"M 0 0 V -287.512 H -34.465\" /><circle class=\"sym\" cx=\"0\" cy=\"0\" r=\"3\" /><text class=\"lab rgt\" transform=\"translate(3 -7.0)\">10</text></g><g class=\"a17 c2 node n14 p0\" transform=\"translate(-34.465 259.468)\"><g class=\"a14 c2 node n11 p0\" transform=\"translate(-32.77 21.0652)\"><g class=\"a11 i0 leaf node n0 p0 sample\" transform=\"translate(-15.82 14.0667)\"><path class=\"edge\" d=\"M 0 0 V -14.0667 H 15.82\" /><rect class=\"sym\" height=\"6\" width=\"6\" x=\"-3\" y=\"-3\" /><text class=\"lab\" transform=\"translate(0 11)\">0</text></g><g class=\"a11 c2 node n9 p0\" transform=\"translate(15.82 9.01164)\"><g class=\"a9 i1 leaf node n2 p0 sample\" transform=\"translate(-13.56 5.05502)\"><path class=\"edge\" d=\"M 0 0 V -5.05502 H 13.56\" /><rect class=\"sym\" height=\"6\" width=\"6\" x=\"-3\" y=\"-3\" /><text class=\"lab\" transform=\"translate(0 11)\">2</text></g><g class=\"a9 c2 node n8 p0\" transform=\"translate(13.56 1.17393)\"><g class=\"a8 i2 leaf node n5 p0 sample\" transform=\"translate(-9.04 3.88109)\"><path class=\"edge\" d=\"M 0 0 V -3.88109 H 9.04\" /><rect class=\"sym\" height=\"6\" width=\"6\" x=\"-3\" y=\"-3\" /><text class=\"lab\" transform=\"translate(0 11)\">5</text></g><g class=\"a8 i3 leaf node n7 p0 sample\" transform=\"translate(9.04 3.88109)\"><path class=\"edge\" d=\"M 0 0 V -3.88109 H -9.04\" /><rect class=\"sym\" height=\"6\" width=\"6\" x=\"-3\" y=\"-3\" /><text class=\"lab\" transform=\"translate(0 11)\">7</text></g><path class=\"edge\" d=\"M 0 0 V -1.17393 H -13.56\" /><circle class=\"sym\" cx=\"0\" cy=\"0\" r=\"3\" /><text class=\"lab rgt\" transform=\"translate(3 -7.0)\">8</text></g><path class=\"edge\" d=\"M 0 0 V -9.01164 H -15.82\" /><circle class=\"sym\" cx=\"0\" cy=\"0\" r=\"3\" /><text class=\"lab rgt\" transform=\"translate(3 -7.0)\">9</text></g><path class=\"edge\" d=\"M 0 0 V -21.0652 H 32.77\" /><circle class=\"sym\" cx=\"0\" cy=\"0\" r=\"3\" /><text class=\"lab lft\" transform=\"translate(-3 -7.0)\">11</text></g><g class=\"a14 c2 node n13 p0\" transform=\"translate(32.77 1.9171)\"><g class=\"a13 i0 leaf node n1 p0 sample\" transform=\"translate(-9.04 33.2147)\"><path class=\"edge\" d=\"M 0 0 V -33.2147 H 9.04\" /><rect class=\"sym\" height=\"6\" width=\"6\" x=\"-3\" y=\"-3\" /><text class=\"lab\" transform=\"translate(0 11)\">1</text></g><g class=\"a13 i3 leaf node n6 p0 sample\" transform=\"translate(9.04 33.2147)\"><path class=\"edge\" d=\"M 0 0 V -33.2147 H -9.04\" /><rect class=\"sym\" height=\"6\" width=\"6\" x=\"-3\" y=\"-3\" /><text class=\"lab\" transform=\"translate(0 11)\">6</text></g><path class=\"edge\" d=\"M 0 0 V -1.9171 H -32.77\" /><circle class=\"sym\" cx=\"0\" cy=\"0\" r=\"3\" /><text class=\"lab rgt\" transform=\"translate(3 -7.0)\">13</text></g><path class=\"edge\" d=\"M 0 0 V -259.468 H 34.465\" /><circle class=\"sym\" cx=\"0\" cy=\"0\" r=\"3\" /><text class=\"lab lft\" transform=\"translate(-3 -7.0)\">14</text></g><circle class=\"sym\" cx=\"0\" cy=\"0\" r=\"3\" /><text class=\"lab\" transform=\"translate(0 -11)\">17</text></g></g></g></g></g></svg>"
      ],
      "text/plain": [
       "'<svg baseProfile=\"full\" height=\"400\" version=\"1.1\" width=\"1000\" xmlns=\"http://www.w3.org/2000/svg\" xmlns:ev=\"http://www.w3.org/2001/xml-events\" xmlns:xlink=\"http://www.w3.org/1999/xlink\"><defs><style type=\"text/css\"><![CDATA[.background path {fill: #808080; fill-opacity: 0}.background path:nth-child(odd) {fill-opacity: .1}.axes {font-size: 14px}.x-axis .tick .lab {font-weight: bold; dominant-baseline: hanging}.axes, .tree {font-size: 14px; text-anchor: middle}.axes line, .edge {stroke: black; fill: none}.axes .ax-skip {stroke-dasharray: 4}.y-axis .grid {stroke: #FAFAFA}.node > .sym {fill: black; stroke: none}.site > .sym {stroke: black}.mut text {fill: red; font-style: italic}.mut.extra text {fill: hotpink}.mut line {fill: none; stroke: none}.mut .sym {fill: none; stroke: red}.mut.extra .sym {stroke: hotpink}.node .mut .sym {stroke-width: 1.5px}.tree text, .tree-sequence text {dominant-baseline: central}.plotbox .lab.lft {text-anchor: end}.plotbox .lab.rgt {text-anchor: start}]]></style></defs><g class=\"tree-sequence\"><g class=\"background\"><path d=\"M56.8,0 l184.64,0 l0,338.2 l-92.32,25 l0,5 l-92.32,0 l0,-5 l0,-25 l0,-338.2z\" /><path d=\"M241.44,0 l184.64,0 l0,338.2 l-92.32,25 l0,5 l-184.64,0 l0,-5 l92.32,-25 l0,-338.2z\" /><path d=\"M426.08,0 l184.64,0 l0,338.2 l0,25 l0,5 l-276.96,0 l0,-5 l92.32,-25 l0,-338.2z\" /><path d=\"M610.72,0 l184.64,0 l0,338.2 l-92.32,25 l0,5 l-92.32,0 l0,-5 l0,-25 l0,-338.2z\" /><path d=\"M795.36,0 l184.64,0 l0,338.2 l0,25 l0,5 l-276.96,0 l0,-5 l92.32,-25 l0,-338.2z\" /></g><g class=\"axes\"><g class=\"x-axis\"><g class=\"title\" transform=\"translate(518.4 400)\"><text class=\"lab\" text-anchor=\"middle\" transform=\"translate(0 -11)\">Genome position</text></g><line class=\"ax-line\" x1=\"56.8\" x2=\"980\" y1=\"363.2\" y2=\"363.2\" /><g class=\"ticks\"><g class=\"tick\" transform=\"translate(56.8 363.2)\"><line x1=\"0\" x2=\"0\" y1=\"0\" y2=\"5\" /><g transform=\"translate(0 6)\"><text class=\"lab\">0</text></g></g><g class=\"tick\" transform=\"translate(149.12 363.2)\"><line x1=\"0\" x2=\"0\" y1=\"0\" y2=\"5\" /><g transform=\"translate(0 6)\"><text class=\"lab\">1</text></g></g><g class=\"tick\" transform=\"translate(333.76 363.2)\"><line x1=\"0\" x2=\"0\" y1=\"0\" y2=\"5\" /><g transform=\"translate(0 6)\"><text class=\"lab\">3</text></g></g><g class=\"tick\" transform=\"translate(610.72 363.2)\"><line x1=\"0\" x2=\"0\" y1=\"0\" y2=\"5\" /><g transform=\"translate(0 6)\"><text class=\"lab\">6</text></g></g><g class=\"tick\" transform=\"translate(703.04 363.2)\"><line x1=\"0\" x2=\"0\" y1=\"0\" y2=\"5\" /><g transform=\"translate(0 6)\"><text class=\"lab\">7</text></g></g><g class=\"tick\" transform=\"translate(980 363.2)\"><line x1=\"0\" x2=\"0\" y1=\"0\" y2=\"5\" /><g transform=\"translate(0 6)\"><text class=\"lab\">10</text></g></g></g></g><g class=\"y-axis\"><g class=\"title\" transform=\"translate(0 165.7)\"><text class=\"lab\" text-anchor=\"middle\" transform=\"translate(11) rotate(-90)\">Time (generations)</text></g><line class=\"ax-line\" x1=\"56.8\" x2=\"56.8\" y1=\"321.4\" y2=\"10\" /><g class=\"ticks\"><g class=\"tick\" transform=\"translate(56.8 321.4)\"><line x1=\"0\" x2=\"-5\" y1=\"0\" y2=\"0\" /><g transform=\"translate(-6 0)\"><text class=\"lab\" text-anchor=\"end\">0.00</text></g></g><g class=\"tick\" transform=\"translate(56.8 317.519)\"><line x1=\"0\" x2=\"-5\" y1=\"0\" y2=\"0\" /><g transform=\"translate(-6 0)\"><text class=\"lab\" text-anchor=\"end\">0.04</text></g></g><g class=\"tick\" transform=\"translate(56.8 316.345)\"><line x1=\"0\" x2=\"-5\" y1=\"0\" y2=\"0\" /><g transform=\"translate(-6 0)\"><text class=\"lab\" text-anchor=\"end\">0.05</text></g></g><g class=\"tick\" transform=\"translate(56.8 314.312)\"><line x1=\"0\" x2=\"-5\" y1=\"0\" y2=\"0\" /><g transform=\"translate(-6 0)\"><text class=\"lab\" text-anchor=\"end\">0.07</text></g></g><g class=\"tick\" transform=\"translate(56.8 307.333)\"><line x1=\"0\" x2=\"-5\" y1=\"0\" y2=\"0\" /><g transform=\"translate(-6 0)\"><text class=\"lab\" text-anchor=\"end\">0.14</text></g></g><g class=\"tick\" transform=\"translate(56.8 296.08)\"><line x1=\"0\" x2=\"-5\" y1=\"0\" y2=\"0\" /><g transform=\"translate(-6 0)\"><text class=\"lab\" text-anchor=\"end\">0.24</text></g></g><g class=\"tick\" transform=\"translate(56.8 288.185)\"><line x1=\"0\" x2=\"-5\" y1=\"0\" y2=\"0\" /><g transform=\"translate(-6 0)\"><text class=\"lab\" text-anchor=\"end\">0.32</text></g></g><g class=\"tick\" transform=\"translate(56.8 286.268)\"><line x1=\"0\" x2=\"-5\" y1=\"0\" y2=\"0\" /><g transform=\"translate(-6 0)\"><text class=\"lab\" text-anchor=\"end\">0.34</text></g></g><g class=\"tick\" transform=\"translate(56.8 141.477)\"><line x1=\"0\" x2=\"-5\" y1=\"0\" y2=\"0\" /><g transform=\"translate(-6 0)\"><text class=\"lab\" text-anchor=\"end\">1.74</text></g></g><g class=\"tick\" transform=\"translate(56.8 61.0902)\"><line x1=\"0\" x2=\"-5\" y1=\"0\" y2=\"0\" /><g transform=\"translate(-6 0)\"><text class=\"lab\" text-anchor=\"end\">2.51</text></g></g><g class=\"tick\" transform=\"translate(56.8 26.8)\"><line x1=\"0\" x2=\"-5\" y1=\"0\" y2=\"0\" /><g transform=\"translate(-6 0)\"><text class=\"lab\" text-anchor=\"end\">2.84</text></g></g></g></g></g><g class=\"plotbox trees\"><g class=\"tree t0\" transform=\"translate(56.8 0)\"><g class=\"plotbox\"><g class=\"c2 node n16 p0 root\" transform=\"translate(108.14 61.0902)\"><g class=\"a16 c2 node n10 p0\" transform=\"translate(38.42 253.222)\"><g class=\"a10 i1 leaf node n3 p0 sample\" transform=\"translate(-9.04 7.08778)\"><path class=\"edge\" d=\"M 0 0 V -7.08778 H 9.04\" /><rect class=\"sym\" height=\"6\" width=\"6\" x=\"-3\" y=\"-3\" /><text class=\"lab\" transform=\"translate(0 11)\">3</text></g><g class=\"a10 i2 leaf node n4 p0 sample\" transform=\"translate(9.04 7.08778)\"><path class=\"edge\" d=\"M 0 0 V -7.08778 H -9.04\" /><rect class=\"sym\" height=\"6\" width=\"6\" x=\"-3\" y=\"-3\" /><text class=\"lab\" transform=\"translate(0 11)\">4</text></g><path class=\"edge\" d=\"M 0 0 V -253.222 H -38.42\" /><circle class=\"sym\" cx=\"0\" cy=\"0\" r=\"3\" /><text class=\"lab rgt\" transform=\"translate(3 -7.0)\">10</text></g><g class=\"a16 c2 node n14 p0\" transform=\"translate(-38.42 225.178)\"><g class=\"a14 c2 node n11 p0\" transform=\"translate(-27.12 21.0652)\"><g class=\"a11 i0 leaf node n0 p0 sample\" transform=\"translate(-13.56 14.0667)\"><path class=\"edge\" d=\"M 0 0 V -14.0667 H 13.56\" /><rect class=\"sym\" height=\"6\" width=\"6\" x=\"-3\" y=\"-3\" /><text class=\"lab\" transform=\"translate(0 11)\">0</text></g><g class=\"a11 c2 node n8 p0\" transform=\"translate(13.56 10.1856)\"><g class=\"a8 i2 leaf node n5 p0 sample\" transform=\"translate(-9.04 3.88109)\"><path class=\"edge\" d=\"M 0 0 V -3.88109 H 9.04\" /><rect class=\"sym\" height=\"6\" width=\"6\" x=\"-3\" y=\"-3\" /><text class=\"lab\" transform=\"translate(0 11)\">5</text></g><g class=\"a8 i3 leaf node n7 p0 sample\" transform=\"translate(9.04 3.88109)\"><path class=\"edge\" d=\"M 0 0 V -3.88109 H -9.04\" /><rect class=\"sym\" height=\"6\" width=\"6\" x=\"-3\" y=\"-3\" /><text class=\"lab\" transform=\"translate(0 11)\">7</text></g><path class=\"edge\" d=\"M 0 0 V -10.1856 H -13.56\" /><circle class=\"sym\" cx=\"0\" cy=\"0\" r=\"3\" /><text class=\"lab rgt\" transform=\"translate(3 -7.0)\">8</text></g><path class=\"edge\" d=\"M 0 0 V -21.0652 H 27.12\" /><circle class=\"sym\" cx=\"0\" cy=\"0\" r=\"3\" /><text class=\"lab lft\" transform=\"translate(-3 -7.0)\">11</text></g><g class=\"a14 c2 node n13 p0\" transform=\"translate(27.12 1.9171)\"><g class=\"a13 i0 leaf node n1 p0 sample\" transform=\"translate(-13.56 33.2147)\"><path class=\"edge\" d=\"M 0 0 V -33.2147 H 13.56\" /><rect class=\"sym\" height=\"6\" width=\"6\" x=\"-3\" y=\"-3\" /><text class=\"lab\" transform=\"translate(0 11)\">1</text></g><g class=\"a13 c2 node n12 p0\" transform=\"translate(13.56 7.8951)\"><g class=\"a12 i1 leaf node n2 p0 sample\" transform=\"translate(-9.04 25.3196)\"><path class=\"edge\" d=\"M 0 0 V -25.3196 H 9.04\" /><rect class=\"sym\" height=\"6\" width=\"6\" x=\"-3\" y=\"-3\" /><text class=\"lab\" transform=\"translate(0 11)\">2</text></g><g class=\"a12 i3 leaf node n6 p0 sample\" transform=\"translate(9.04 25.3196)\"><path class=\"edge\" d=\"M 0 0 V -25.3196 H -9.04\" /><rect class=\"sym\" height=\"6\" width=\"6\" x=\"-3\" y=\"-3\" /><text class=\"lab\" transform=\"translate(0 11)\">6</text></g><path class=\"edge\" d=\"M 0 0 V -7.8951 H -13.56\" /><circle class=\"sym\" cx=\"0\" cy=\"0\" r=\"3\" /><text class=\"lab rgt\" transform=\"translate(3 -7.0)\">12</text></g><path class=\"edge\" d=\"M 0 0 V -1.9171 H -27.12\" /><circle class=\"sym\" cx=\"0\" cy=\"0\" r=\"3\" /><text class=\"lab rgt\" transform=\"translate(3 -7.0)\">13</text></g><path class=\"edge\" d=\"M 0 0 V -225.178 H 38.42\" /><circle class=\"sym\" cx=\"0\" cy=\"0\" r=\"3\" /><text class=\"lab lft\" transform=\"translate(-3 -7.0)\">14</text></g><circle class=\"sym\" cx=\"0\" cy=\"0\" r=\"3\" /><text class=\"lab\" transform=\"translate(0 -11)\">16</text></g></g></g><g class=\"tree t1\" transform=\"translate(241.44 0)\"><g class=\"plotbox\"><g class=\"c2 node n17 p0 root\" transform=\"translate(108.14 26.8)\"><g class=\"a17 c2 node n10 p0\" transform=\"translate(38.42 287.512)\"><g class=\"a10 i1 leaf node n3 p0 sample\" transform=\"translate(-9.04 7.08778)\"><path class=\"edge\" d=\"M 0 0 V -7.08778 H 9.04\" /><rect class=\"sym\" height=\"6\" width=\"6\" x=\"-3\" y=\"-3\" /><text class=\"lab\" transform=\"translate(0 11)\">3</text></g><g class=\"a10 i2 leaf node n4 p0 sample\" transform=\"translate(9.04 7.08778)\"><path class=\"edge\" d=\"M 0 0 V -7.08778 H -9.04\" /><rect class=\"sym\" height=\"6\" width=\"6\" x=\"-3\" y=\"-3\" /><text class=\"lab\" transform=\"translate(0 11)\">4</text></g><path class=\"edge\" d=\"M 0 0 V -287.512 H -38.42\" /><circle class=\"sym\" cx=\"0\" cy=\"0\" r=\"3\" /><text class=\"lab rgt\" transform=\"translate(3 -7.0)\">10</text></g><g class=\"a17 c2 node n14 p0\" transform=\"translate(-38.42 259.468)\"><g class=\"a14 c2 node n11 p0\" transform=\"translate(-27.12 21.0652)\"><g class=\"a11 i0 leaf node n0 p0 sample\" transform=\"translate(-13.56 14.0667)\"><path class=\"edge\" d=\"M 0 0 V -14.0667 H 13.56\" /><rect class=\"sym\" height=\"6\" width=\"6\" x=\"-3\" y=\"-3\" /><text class=\"lab\" transform=\"translate(0 11)\">0</text></g><g class=\"a11 c2 node n8 p0\" transform=\"translate(13.56 10.1856)\"><g class=\"a8 i2 leaf node n5 p0 sample\" transform=\"translate(-9.04 3.88109)\"><path class=\"edge\" d=\"M 0 0 V -3.88109 H 9.04\" /><rect class=\"sym\" height=\"6\" width=\"6\" x=\"-3\" y=\"-3\" /><text class=\"lab\" transform=\"translate(0 11)\">5</text></g><g class=\"a8 i3 leaf node n7 p0 sample\" transform=\"translate(9.04 3.88109)\"><path class=\"edge\" d=\"M 0 0 V -3.88109 H -9.04\" /><rect class=\"sym\" height=\"6\" width=\"6\" x=\"-3\" y=\"-3\" /><text class=\"lab\" transform=\"translate(0 11)\">7</text></g><path class=\"edge\" d=\"M 0 0 V -10.1856 H -13.56\" /><circle class=\"sym\" cx=\"0\" cy=\"0\" r=\"3\" /><text class=\"lab rgt\" transform=\"translate(3 -7.0)\">8</text></g><path class=\"edge\" d=\"M 0 0 V -21.0652 H 27.12\" /><circle class=\"sym\" cx=\"0\" cy=\"0\" r=\"3\" /><text class=\"lab lft\" transform=\"translate(-3 -7.0)\">11</text></g><g class=\"a14 c2 node n13 p0\" transform=\"translate(27.12 1.9171)\"><g class=\"a13 i0 leaf node n1 p0 sample\" transform=\"translate(-13.56 33.2147)\"><path class=\"edge\" d=\"M 0 0 V -33.2147 H 13.56\" /><rect class=\"sym\" height=\"6\" width=\"6\" x=\"-3\" y=\"-3\" /><text class=\"lab\" transform=\"translate(0 11)\">1</text></g><g class=\"a13 c2 node n12 p0\" transform=\"translate(13.56 7.8951)\"><g class=\"a12 i1 leaf node n2 p0 sample\" transform=\"translate(-9.04 25.3196)\"><path class=\"edge\" d=\"M 0 0 V -25.3196 H 9.04\" /><rect class=\"sym\" height=\"6\" width=\"6\" x=\"-3\" y=\"-3\" /><text class=\"lab\" transform=\"translate(0 11)\">2</text></g><g class=\"a12 i3 leaf node n6 p0 sample\" transform=\"translate(9.04 25.3196)\"><path class=\"edge\" d=\"M 0 0 V -25.3196 H -9.04\" /><rect class=\"sym\" height=\"6\" width=\"6\" x=\"-3\" y=\"-3\" /><text class=\"lab\" transform=\"translate(0 11)\">6</text></g><path class=\"edge\" d=\"M 0 0 V -7.8951 H -13.56\" /><circle class=\"sym\" cx=\"0\" cy=\"0\" r=\"3\" /><text class=\"lab rgt\" transform=\"translate(3 -7.0)\">12</text></g><path class=\"edge\" d=\"M 0 0 V -1.9171 H -27.12\" /><circle class=\"sym\" cx=\"0\" cy=\"0\" r=\"3\" /><text class=\"lab rgt\" transform=\"translate(3 -7.0)\">13</text></g><path class=\"edge\" d=\"M 0 0 V -259.468 H 38.42\" /><circle class=\"sym\" cx=\"0\" cy=\"0\" r=\"3\" /><text class=\"lab lft\" transform=\"translate(-3 -7.0)\">14</text></g><circle class=\"sym\" cx=\"0\" cy=\"0\" r=\"3\" /><text class=\"lab\" transform=\"translate(0 -11)\">17</text></g></g></g><g class=\"tree t2\" transform=\"translate(426.08 0)\"><g class=\"plotbox\"><g class=\"c2 node n15 p0 root\" transform=\"translate(108.14 141.477)\"><g class=\"a15 c2 node n10 p0\" transform=\"translate(38.42 172.836)\"><g class=\"a10 i1 leaf node n3 p0 sample\" transform=\"translate(-9.04 7.08778)\"><path class=\"edge\" d=\"M 0 0 V -7.08778 H 9.04\" /><rect class=\"sym\" height=\"6\" width=\"6\" x=\"-3\" y=\"-3\" /><text class=\"lab\" transform=\"translate(0 11)\">3</text></g><g class=\"a10 i2 leaf node n4 p0 sample\" transform=\"translate(9.04 7.08778)\"><path class=\"edge\" d=\"M 0 0 V -7.08778 H -9.04\" /><rect class=\"sym\" height=\"6\" width=\"6\" x=\"-3\" y=\"-3\" /><text class=\"lab\" transform=\"translate(0 11)\">4</text></g><path class=\"edge\" d=\"M 0 0 V -172.836 H -38.42\" /><circle class=\"sym\" cx=\"0\" cy=\"0\" r=\"3\" /><text class=\"lab rgt\" transform=\"translate(3 -7.0)\">10</text></g><g class=\"a15 c2 node n14 p0\" transform=\"translate(-38.42 144.792)\"><g class=\"a14 c2 node n11 p0\" transform=\"translate(-27.12 21.0652)\"><g class=\"a11 i0 leaf node n0 p0 sample\" transform=\"translate(-13.56 14.0667)\"><path class=\"edge\" d=\"M 0 0 V -14.0667 H 13.56\" /><rect class=\"sym\" height=\"6\" width=\"6\" x=\"-3\" y=\"-3\" /><text class=\"lab\" transform=\"translate(0 11)\">0</text></g><g class=\"a11 c2 node n8 p0\" transform=\"translate(13.56 10.1856)\"><g class=\"a8 i2 leaf node n5 p0 sample\" transform=\"translate(-9.04 3.88109)\"><path class=\"edge\" d=\"M 0 0 V -3.88109 H 9.04\" /><rect class=\"sym\" height=\"6\" width=\"6\" x=\"-3\" y=\"-3\" /><text class=\"lab\" transform=\"translate(0 11)\">5</text></g><g class=\"a8 i3 leaf node n7 p0 sample\" transform=\"translate(9.04 3.88109)\"><path class=\"edge\" d=\"M 0 0 V -3.88109 H -9.04\" /><rect class=\"sym\" height=\"6\" width=\"6\" x=\"-3\" y=\"-3\" /><text class=\"lab\" transform=\"translate(0 11)\">7</text></g><path class=\"edge\" d=\"M 0 0 V -10.1856 H -13.56\" /><circle class=\"sym\" cx=\"0\" cy=\"0\" r=\"3\" /><text class=\"lab rgt\" transform=\"translate(3 -7.0)\">8</text></g><path class=\"edge\" d=\"M 0 0 V -21.0652 H 27.12\" /><circle class=\"sym\" cx=\"0\" cy=\"0\" r=\"3\" /><text class=\"lab lft\" transform=\"translate(-3 -7.0)\">11</text></g><g class=\"a14 c2 node n13 p0\" transform=\"translate(27.12 1.9171)\"><g class=\"a13 i0 leaf node n1 p0 sample\" transform=\"translate(-13.56 33.2147)\"><path class=\"edge\" d=\"M 0 0 V -33.2147 H 13.56\" /><rect class=\"sym\" height=\"6\" width=\"6\" x=\"-3\" y=\"-3\" /><text class=\"lab\" transform=\"translate(0 11)\">1</text></g><g class=\"a13 c2 node n12 p0\" transform=\"translate(13.56 7.8951)\"><g class=\"a12 i1 leaf node n2 p0 sample\" transform=\"translate(-9.04 25.3196)\"><path class=\"edge\" d=\"M 0 0 V -25.3196 H 9.04\" /><rect class=\"sym\" height=\"6\" width=\"6\" x=\"-3\" y=\"-3\" /><text class=\"lab\" transform=\"translate(0 11)\">2</text></g><g class=\"a12 i3 leaf node n6 p0 sample\" transform=\"translate(9.04 25.3196)\"><path class=\"edge\" d=\"M 0 0 V -25.3196 H -9.04\" /><rect class=\"sym\" height=\"6\" width=\"6\" x=\"-3\" y=\"-3\" /><text class=\"lab\" transform=\"translate(0 11)\">6</text></g><path class=\"edge\" d=\"M 0 0 V -7.8951 H -13.56\" /><circle class=\"sym\" cx=\"0\" cy=\"0\" r=\"3\" /><text class=\"lab rgt\" transform=\"translate(3 -7.0)\">12</text></g><path class=\"edge\" d=\"M 0 0 V -1.9171 H -27.12\" /><circle class=\"sym\" cx=\"0\" cy=\"0\" r=\"3\" /><text class=\"lab rgt\" transform=\"translate(3 -7.0)\">13</text></g><path class=\"edge\" d=\"M 0 0 V -144.792 H 38.42\" /><circle class=\"sym\" cx=\"0\" cy=\"0\" r=\"3\" /><text class=\"lab lft\" transform=\"translate(-3 -7.0)\">14</text></g><circle class=\"sym\" cx=\"0\" cy=\"0\" r=\"3\" /><text class=\"lab\" transform=\"translate(0 -11)\">15</text></g></g></g><g class=\"tree t3\" transform=\"translate(610.72 0)\"><g class=\"plotbox\"><g class=\"c2 node n17 p0 root\" transform=\"translate(108.14 26.8)\"><g class=\"a17 c2 node n10 p0\" transform=\"translate(38.42 287.512)\"><g class=\"a10 i1 leaf node n3 p0 sample\" transform=\"translate(-9.04 7.08778)\"><path class=\"edge\" d=\"M 0 0 V -7.08778 H 9.04\" /><rect class=\"sym\" height=\"6\" width=\"6\" x=\"-3\" y=\"-3\" /><text class=\"lab\" transform=\"translate(0 11)\">3</text></g><g class=\"a10 i2 leaf node n4 p0 sample\" transform=\"translate(9.04 7.08778)\"><path class=\"edge\" d=\"M 0 0 V -7.08778 H -9.04\" /><rect class=\"sym\" height=\"6\" width=\"6\" x=\"-3\" y=\"-3\" /><text class=\"lab\" transform=\"translate(0 11)\">4</text></g><path class=\"edge\" d=\"M 0 0 V -287.512 H -38.42\" /><circle class=\"sym\" cx=\"0\" cy=\"0\" r=\"3\" /><text class=\"lab rgt\" transform=\"translate(3 -7.0)\">10</text></g><g class=\"a17 c2 node n14 p0\" transform=\"translate(-38.42 259.468)\"><g class=\"a14 c2 node n11 p0\" transform=\"translate(-27.12 21.0652)\"><g class=\"a11 i0 leaf node n0 p0 sample\" transform=\"translate(-13.56 14.0667)\"><path class=\"edge\" d=\"M 0 0 V -14.0667 H 13.56\" /><rect class=\"sym\" height=\"6\" width=\"6\" x=\"-3\" y=\"-3\" /><text class=\"lab\" transform=\"translate(0 11)\">0</text></g><g class=\"a11 c2 node n8 p0\" transform=\"translate(13.56 10.1856)\"><g class=\"a8 i2 leaf node n5 p0 sample\" transform=\"translate(-9.04 3.88109)\"><path class=\"edge\" d=\"M 0 0 V -3.88109 H 9.04\" /><rect class=\"sym\" height=\"6\" width=\"6\" x=\"-3\" y=\"-3\" /><text class=\"lab\" transform=\"translate(0 11)\">5</text></g><g class=\"a8 i3 leaf node n7 p0 sample\" transform=\"translate(9.04 3.88109)\"><path class=\"edge\" d=\"M 0 0 V -3.88109 H -9.04\" /><rect class=\"sym\" height=\"6\" width=\"6\" x=\"-3\" y=\"-3\" /><text class=\"lab\" transform=\"translate(0 11)\">7</text></g><path class=\"edge\" d=\"M 0 0 V -10.1856 H -13.56\" /><circle class=\"sym\" cx=\"0\" cy=\"0\" r=\"3\" /><text class=\"lab rgt\" transform=\"translate(3 -7.0)\">8</text></g><path class=\"edge\" d=\"M 0 0 V -21.0652 H 27.12\" /><circle class=\"sym\" cx=\"0\" cy=\"0\" r=\"3\" /><text class=\"lab lft\" transform=\"translate(-3 -7.0)\">11</text></g><g class=\"a14 c2 node n13 p0\" transform=\"translate(27.12 1.9171)\"><g class=\"a13 i0 leaf node n1 p0 sample\" transform=\"translate(-13.56 33.2147)\"><path class=\"edge\" d=\"M 0 0 V -33.2147 H 13.56\" /><rect class=\"sym\" height=\"6\" width=\"6\" x=\"-3\" y=\"-3\" /><text class=\"lab\" transform=\"translate(0 11)\">1</text></g><g class=\"a13 c2 node n12 p0\" transform=\"translate(13.56 7.8951)\"><g class=\"a12 i1 leaf node n2 p0 sample\" transform=\"translate(-9.04 25.3196)\"><path class=\"edge\" d=\"M 0 0 V -25.3196 H 9.04\" /><rect class=\"sym\" height=\"6\" width=\"6\" x=\"-3\" y=\"-3\" /><text class=\"lab\" transform=\"translate(0 11)\">2</text></g><g class=\"a12 i3 leaf node n6 p0 sample\" transform=\"translate(9.04 25.3196)\"><path class=\"edge\" d=\"M 0 0 V -25.3196 H -9.04\" /><rect class=\"sym\" height=\"6\" width=\"6\" x=\"-3\" y=\"-3\" /><text class=\"lab\" transform=\"translate(0 11)\">6</text></g><path class=\"edge\" d=\"M 0 0 V -7.8951 H -13.56\" /><circle class=\"sym\" cx=\"0\" cy=\"0\" r=\"3\" /><text class=\"lab rgt\" transform=\"translate(3 -7.0)\">12</text></g><path class=\"edge\" d=\"M 0 0 V -1.9171 H -27.12\" /><circle class=\"sym\" cx=\"0\" cy=\"0\" r=\"3\" /><text class=\"lab rgt\" transform=\"translate(3 -7.0)\">13</text></g><path class=\"edge\" d=\"M 0 0 V -259.468 H 38.42\" /><circle class=\"sym\" cx=\"0\" cy=\"0\" r=\"3\" /><text class=\"lab lft\" transform=\"translate(-3 -7.0)\">14</text></g><circle class=\"sym\" cx=\"0\" cy=\"0\" r=\"3\" /><text class=\"lab\" transform=\"translate(0 -11)\">17</text></g></g></g><g class=\"tree t4\" transform=\"translate(795.36 0)\"><g class=\"plotbox\"><g class=\"c2 node n17 p0 root\" transform=\"translate(112.095 26.8)\"><g class=\"a17 c2 node n10 p0\" transform=\"translate(34.465 287.512)\"><g class=\"a10 i1 leaf node n3 p0 sample\" transform=\"translate(-9.04 7.08778)\"><path class=\"edge\" d=\"M 0 0 V -7.08778 H 9.04\" /><rect class=\"sym\" height=\"6\" width=\"6\" x=\"-3\" y=\"-3\" /><text class=\"lab\" transform=\"translate(0 11)\">3</text></g><g class=\"a10 i2 leaf node n4 p0 sample\" transform=\"translate(9.04 7.08778)\"><path class=\"edge\" d=\"M 0 0 V -7.08778 H -9.04\" /><rect class=\"sym\" height=\"6\" width=\"6\" x=\"-3\" y=\"-3\" /><text class=\"lab\" transform=\"translate(0 11)\">4</text></g><path class=\"edge\" d=\"M 0 0 V -287.512 H -34.465\" /><circle class=\"sym\" cx=\"0\" cy=\"0\" r=\"3\" /><text class=\"lab rgt\" transform=\"translate(3 -7.0)\">10</text></g><g class=\"a17 c2 node n14 p0\" transform=\"translate(-34.465 259.468)\"><g class=\"a14 c2 node n11 p0\" transform=\"translate(-32.77 21.0652)\"><g class=\"a11 i0 leaf node n0 p0 sample\" transform=\"translate(-15.82 14.0667)\"><path class=\"edge\" d=\"M 0 0 V -14.0667 H 15.82\" /><rect class=\"sym\" height=\"6\" width=\"6\" x=\"-3\" y=\"-3\" /><text class=\"lab\" transform=\"translate(0 11)\">0</text></g><g class=\"a11 c2 node n9 p0\" transform=\"translate(15.82 9.01164)\"><g class=\"a9 i1 leaf node n2 p0 sample\" transform=\"translate(-13.56 5.05502)\"><path class=\"edge\" d=\"M 0 0 V -5.05502 H 13.56\" /><rect class=\"sym\" height=\"6\" width=\"6\" x=\"-3\" y=\"-3\" /><text class=\"lab\" transform=\"translate(0 11)\">2</text></g><g class=\"a9 c2 node n8 p0\" transform=\"translate(13.56 1.17393)\"><g class=\"a8 i2 leaf node n5 p0 sample\" transform=\"translate(-9.04 3.88109)\"><path class=\"edge\" d=\"M 0 0 V -3.88109 H 9.04\" /><rect class=\"sym\" height=\"6\" width=\"6\" x=\"-3\" y=\"-3\" /><text class=\"lab\" transform=\"translate(0 11)\">5</text></g><g class=\"a8 i3 leaf node n7 p0 sample\" transform=\"translate(9.04 3.88109)\"><path class=\"edge\" d=\"M 0 0 V -3.88109 H -9.04\" /><rect class=\"sym\" height=\"6\" width=\"6\" x=\"-3\" y=\"-3\" /><text class=\"lab\" transform=\"translate(0 11)\">7</text></g><path class=\"edge\" d=\"M 0 0 V -1.17393 H -13.56\" /><circle class=\"sym\" cx=\"0\" cy=\"0\" r=\"3\" /><text class=\"lab rgt\" transform=\"translate(3 -7.0)\">8</text></g><path class=\"edge\" d=\"M 0 0 V -9.01164 H -15.82\" /><circle class=\"sym\" cx=\"0\" cy=\"0\" r=\"3\" /><text class=\"lab rgt\" transform=\"translate(3 -7.0)\">9</text></g><path class=\"edge\" d=\"M 0 0 V -21.0652 H 32.77\" /><circle class=\"sym\" cx=\"0\" cy=\"0\" r=\"3\" /><text class=\"lab lft\" transform=\"translate(-3 -7.0)\">11</text></g><g class=\"a14 c2 node n13 p0\" transform=\"translate(32.77 1.9171)\"><g class=\"a13 i0 leaf node n1 p0 sample\" transform=\"translate(-9.04 33.2147)\"><path class=\"edge\" d=\"M 0 0 V -33.2147 H 9.04\" /><rect class=\"sym\" height=\"6\" width=\"6\" x=\"-3\" y=\"-3\" /><text class=\"lab\" transform=\"translate(0 11)\">1</text></g><g class=\"a13 i3 leaf node n6 p0 sample\" transform=\"translate(9.04 33.2147)\"><path class=\"edge\" d=\"M 0 0 V -33.2147 H -9.04\" /><rect class=\"sym\" height=\"6\" width=\"6\" x=\"-3\" y=\"-3\" /><text class=\"lab\" transform=\"translate(0 11)\">6</text></g><path class=\"edge\" d=\"M 0 0 V -1.9171 H -32.77\" /><circle class=\"sym\" cx=\"0\" cy=\"0\" r=\"3\" /><text class=\"lab rgt\" transform=\"translate(3 -7.0)\">13</text></g><path class=\"edge\" d=\"M 0 0 V -259.468 H 34.465\" /><circle class=\"sym\" cx=\"0\" cy=\"0\" r=\"3\" /><text class=\"lab lft\" transform=\"translate(-3 -7.0)\">14</text></g><circle class=\"sym\" cx=\"0\" cy=\"0\" r=\"3\" /><text class=\"lab\" transform=\"translate(0 -11)\">17</text></g></g></g></g></g></svg>'"
      ]
     },
     "execution_count": 3,
     "metadata": {},
     "output_type": "execute_result"
    }
   ],
   "source": [
    "ts.draw_svg(y_axis=True, size=(1000,400))"
   ]
  },
  {
   "cell_type": "code",
   "execution_count": 6,
   "id": "4365c985-f38b-4bef-b01e-21597cd00e4f",
   "metadata": {},
   "outputs": [],
   "source": [
    "from itertools import groupby\n",
    "def print_mrcas(mrcas):\n",
    "    \"\"\"print MRCAs in a format that's easy to verify by eye\"\"\"\n",
    "    [list(v) for k, v in groupby(sorted(mrcas.items(), key=lambda p: p[1]), key=lambda p: p[1])]"
   ]
  },
  {
   "cell_type": "code",
   "execution_count": 7,
   "id": "8f3c689f-e7a8-4158-b669-bb4464e8fd36",
   "metadata": {},
   "outputs": [],
   "source": [
    "## TODO: Get rid of sorting in indexing!!\n",
    "\n",
    "# For now, we take the mean of all pairs, but I think the end game solution is to\n",
    "# progressively update the sum of the products between two trees.\n",
    "\n",
    "# I'm not sure if we can actually remove the sorting here... in the next iteration of this code\n",
    "# I plan on formulating the sampling differently, so maybe it'll be a moot point.\n",
    "\n",
    "def compute_D2(left_tmrca, right_tmrca, ij, ijk, ijkl, mu):\n",
    "    E_ijij = np.mean([left_tmrca[tuple(sorted([i, j]))] * right_tmrca[tuple(sorted([i, j]))] for i, j in ij]) \n",
    "    E_ijik = np.mean([left_tmrca[tuple(sorted([i, j]))] * right_tmrca[tuple(sorted([i, k]))] for i, j, k in ijk])\n",
    "    E_ijkl = np.mean([left_tmrca[tuple(sorted([i, j]))] * right_tmrca[tuple(sorted([k, l]))] for i, j, k, l in ijkl])\n",
    "    D2 = E_ijij - 2 * E_ijik + E_ijkl\n",
    "    return D2 * (mu ** 2)  # TODO: divide by prod of tree heights\n",
    "\n",
    "def compute_pi2(left_tmrca, right_tmrca, ijkl, mu):\n",
    "    E_ijkl = np.mean([left_tmrca[tuple(sorted([i, j]))] * right_tmrca[tuple(sorted([k, l]))] for i, j, k, l in ijkl])\n",
    "    return E_ijkl * (mu ** 2)  # TODO: divide by prod of tree heights\n",
    "\n",
    "def compute_Dz(left_tmrca, right_tmrca, ijk, ijkl, mu):\n",
    "    E_ijik = np.mean([left_tmrca[tuple(sorted([i, j]))] * right_tmrca[tuple(sorted([i, k]))] for i, j, k in ijk])\n",
    "    E_ijkl = np.mean([left_tmrca[tuple(sorted([i, j]))] * right_tmrca[tuple(sorted([k, l]))] for i, j, k, l in ijkl])\n",
    "    return 4 * (E_ijik - E_ijkl) * (mu ** 2)  # TODO: divide by prod of tree heights"
   ]
  },
  {
   "cell_type": "code",
   "execution_count": 8,
   "id": "e3cafcaf-fcd1-43b7-9bb5-5532324b213d",
   "metadata": {},
   "outputs": [],
   "source": [
    "from IPython import display\n",
    "def iter_tree_tmrca(ts):\n",
    "    # initialize the TMRCAs dict, which maps pairs of samples to their TMRCA\n",
    "    tmrcas = {(i, j): tskit.NULL for i, j in combinations(range(ts.num_samples), 2)}\n",
    "    # this is a set currently, which is slightly annoying because it's unordered (see all of the subsequent sorting gymnastics)\n",
    "    samples_under_nodes = [set() for _ in range(ts.num_nodes)]\n",
    "    # this list is needed for propagating changes back up the tree\n",
    "    parents = [tskit.NULL] * ts.num_nodes\n",
    "\n",
    "    # initialize the sample nodes with its corresponding sample\n",
    "    for s in ts.samples():\n",
    "        samples_under_nodes[s].add(s)\n",
    "\n",
    "    # useful aliases\n",
    "    edges_out = ts.indexes_edge_removal_order\n",
    "    edges_in = ts.indexes_edge_insertion_order\n",
    "\n",
    "    # Initialize our indices. tj, tk are the current edge in/edge out indices, respectively\n",
    "    # t_left is the left genomic bound of the current valid tree\n",
    "    tj, tk, t_left, tree_index = 0, 0, 0, 0\n",
    "\n",
    "    # while there are edges_in left to consider or we're within the tree sequence length\n",
    "    while tj < ts.num_edges or t_left < ts.sequence_length:\n",
    "        # print(f\"tree {tree_index} ============================\")\n",
    "        # while there are edges_out left to consider or we're within the current tree genomic coordinates\n",
    "        while tk < ts.num_edges and ts.edges_right[edges_out[tk]] == t_left:\n",
    "            # get the next edge to remove\n",
    "            e = edges_out[tk]\n",
    "            tk += 1\n",
    "            # select the edge's parent/child node\n",
    "            child = ts.edges_child[e]\n",
    "            parent = ts.edges_parent[e]\n",
    "            # display.display(ts.draw_svg(size=(1000, 300), style=f'.t{tree_index - 1} .a{parent}.n{child} > .edge {{stroke: red; stroke-width: 2px}}'))\n",
    "            while parent != tskit.NULL:\n",
    "                # TODO: not sure if we need to clear out the tmrca table for removals (missing data)\n",
    "                # remove samples from the parent node\n",
    "                samples_under_nodes[parent] -= samples_under_nodes[child]\n",
    "                # propagate the removal upward, removing samples from parents of parents and so on\n",
    "                parent = parents[parent]\n",
    "            # the current child now has no parents\n",
    "            parents[child] = tskit.NULL\n",
    "\n",
    "        while tj < ts.num_edges and ts.edges_left[edges_in[tj]] == t_left:\n",
    "            # get the next edge to add\n",
    "            e = edges_in[tj]\n",
    "            tj += 1\n",
    "            # select the edge's parent/child node\n",
    "            child = ts.edges_child[e]\n",
    "            parent = ts.edges_parent[e]\n",
    "            # display.display(ts.draw_svg(size=(1000, 300), style=f'.t{tree_index} .a{parent}.n{child} > .edge {{stroke: cyan; stroke-width: 2px}}'))\n",
    "            # make the connection between the parent and child (needed later for upward propagation)\n",
    "            parents[child] = parent\n",
    "            # record the TMRCA between the parents and children, no need to propagate upwards (trouble will ensue)\n",
    "            for i in sorted(samples_under_nodes[parent]):\n",
    "                for j in sorted(samples_under_nodes[child]):\n",
    "                    # print(tuple(sorted([i, j])), parent)\n",
    "                    # tmrcas[tuple(sorted([i, j]))] = parent  # uncomment and comment the below line if you want mrcas \n",
    "                    tmrcas[tuple(sorted([i, j]))] = ts.nodes_time[parent]\n",
    "            while parent != tskit.NULL:\n",
    "                # add samples to the parent node\n",
    "                samples_under_nodes[parent] |= samples_under_nodes[child]\n",
    "                # propagate the addition upward, adding samples to parents of parents and so on\n",
    "                parent = parents[parent]\n",
    "\n",
    "        # begin by setting the righthand genomic coordinate as the sequence length\n",
    "        t_right = ts.sequence_length\n",
    "        # if there are more edges to consider, find the righthand bound\n",
    "        if tj < ts.num_edges:\n",
    "            t_right = min(t_right, ts.edges_left[edges_in[tj]])\n",
    "        if tk < ts.num_edges:\n",
    "            t_right = min(t_right, ts.edges_right[edges_out[tk]])\n",
    "\n",
    "        yield tmrcas.copy()\n",
    "\n",
    "        # set the lefthand bound\n",
    "        t_left = t_right\n",
    "        tree_index += 1"
   ]
  },
  {
   "cell_type": "code",
   "execution_count": 9,
   "id": "d29e116e-245f-4968-98bd-36fefa37416f",
   "metadata": {},
   "outputs": [],
   "source": [
    "def combine(num_samples):\n",
    "    \"\"\"\n",
    "    All sample pairings for 2/3/4 distinct samples.\n",
    "    \"\"\"\n",
    "    ij = list(combinations(range(num_samples), 2))\n",
    "    ijk = [(i, j, k) for i, j, k in product(range(num_samples), repeat=3)\n",
    "           if i != k and i != j and j != k]\n",
    "    ijkl = [(i, j, k, l) for i, j in combinations(range(num_samples), 2)\n",
    "            for k in range(num_samples)\n",
    "            for l in range(k + 1, num_samples)\n",
    "            if i != k and j != k and l != i and l != j]\n",
    "    return ij, ijk, ijkl"
   ]
  },
  {
   "cell_type": "code",
   "execution_count": 10,
   "id": "451a081f-77a7-4f16-af3b-c7a8add81aa8",
   "metadata": {},
   "outputs": [],
   "source": [
    "def compute_three_stats(ts, mu):\n",
    "    \"\"\"\n",
    "    Build matricies for each statistic (# trees x # trees)\n",
    "    \"\"\"\n",
    "    ij, ijk, ijkl = combine(ts.num_samples)\n",
    "    D2 = np.zeros((ts.num_trees, ts.num_trees), dtype=np.float64)\n",
    "    Dz = np.zeros((ts.num_trees, ts.num_trees), dtype=np.float64)\n",
    "    pi2 = np.zeros((ts.num_trees, ts.num_trees), dtype=np.float64)\n",
    "    for (i, left_tmrca), (j, right_tmrca) in combinations_with_replacement(enumerate(iter_tree_tmrca(ts)), 2):\n",
    "        D2[i, j] = compute_D2(left_tmrca, right_tmrca, ij, ijk, ijkl, mu)\n",
    "        Dz[i, j] = compute_Dz(left_tmrca, right_tmrca, ijk, ijkl, mu)\n",
    "        pi2[i, j] = compute_pi2(left_tmrca, right_tmrca, ijkl, mu)\n",
    "\n",
    "    # after computing upper triangle, reflect downward\n",
    "    tri_idx = np.tril_indices(ts.num_trees, k=-1)\n",
    "    D2[tri_idx] = D2.T[tri_idx]\n",
    "    Dz[tri_idx] = Dz.T[tri_idx]\n",
    "    pi2[tri_idx] = pi2.T[tri_idx]\n",
    "    return D2, Dz, pi2"
   ]
  },
  {
   "cell_type": "code",
   "execution_count": 12,
   "id": "99327674-9f30-4210-af34-951e6a56ed06",
   "metadata": {},
   "outputs": [
    {
     "data": {
      "text/plain": [
       "(array([[6.23333333, 2.4       ],\n",
       "        [2.4       , 1.06666667]]),\n",
       " array([[-6.53333333,  0.13333333],\n",
       "        [ 0.13333333,  5.6       ]]),\n",
       " array([[30.93333333, 30.53333333],\n",
       "        [30.53333333, 30.13333333]]))"
      ]
     },
     "execution_count": 12,
     "metadata": {},
     "output_type": "execute_result"
    }
   ],
   "source": [
    "# compute_three_stats(ts, mu=2e-8)\n",
    "compute_three_stats(ts, mu=1)"
   ]
  },
  {
   "cell_type": "code",
   "execution_count": 10,
   "id": "3fe38463-ce61-4d86-ab9b-ab18b98856e5",
   "metadata": {},
   "outputs": [
    {
     "name": "stdout",
     "output_type": "stream",
     "text": [
      "[6.97925870e-09 1.96471692e-09 1.61045273e-07]\n",
      "[7.13653127e-09 1.67404608e-09 1.60879484e-07]\n",
      "[6.98943362e-09 2.03670357e-09 1.60841530e-07]\n",
      "[7.12834574e-09 2.27112228e-09 1.60872443e-07]\n"
     ]
    },
    {
     "ename": "KeyboardInterrupt",
     "evalue": "",
     "output_type": "error",
     "traceback": [
      "\u001b[0;31m---------------------------------------------------------------------------\u001b[0m",
      "\u001b[0;31mKeyboardInterrupt\u001b[0m                         Traceback (most recent call last)",
      "Cell \u001b[0;32mIn[10], line 18\u001b[0m\n\u001b[1;32m      9\u001b[0m tss \u001b[38;5;241m=\u001b[39m msprime\u001b[38;5;241m.\u001b[39msim_ancestry(\n\u001b[1;32m     10\u001b[0m     samples\u001b[38;5;241m=\u001b[39m\u001b[38;5;241m2\u001b[39m,\n\u001b[1;32m     11\u001b[0m     population_size\u001b[38;5;241m=\u001b[39mNe,\n\u001b[0;32m   (...)\u001b[0m\n\u001b[1;32m     15\u001b[0m     \u001b[38;5;66;03m# num_replicates=100_000,\u001b[39;00m\n\u001b[1;32m     16\u001b[0m )\n\u001b[1;32m     17\u001b[0m stats \u001b[38;5;241m=\u001b[39m []\n\u001b[0;32m---> 18\u001b[0m \u001b[38;5;28;01mfor\u001b[39;00m ts \u001b[38;5;129;01min\u001b[39;00m tss:\n\u001b[1;32m     19\u001b[0m     \u001b[38;5;28;01mif\u001b[39;00m ts\u001b[38;5;241m.\u001b[39mnum_trees \u001b[38;5;241m!=\u001b[39m \u001b[38;5;241m2\u001b[39m:\n\u001b[1;32m     20\u001b[0m         \u001b[38;5;28;01mcontinue\u001b[39;00m\n",
      "File \u001b[0;32m~/.conda/envs/tskit-dev-2/lib/python3.11/site-packages/msprime/ancestry.py:1518\u001b[0m, in \u001b[0;36mSimulator.run_replicates\u001b[0;34m(self, num_replicates, mutation_rate, provenance_dict)\u001b[0m\n\u001b[1;32m   1514\u001b[0m     replicate_provenance \u001b[38;5;241m=\u001b[39m encoded_provenance\u001b[38;5;241m.\u001b[39mreplace(\n\u001b[1;32m   1515\u001b[0m         \u001b[38;5;124mf\u001b[39m\u001b[38;5;124m'\u001b[39m\u001b[38;5;124m\"\u001b[39m\u001b[38;5;132;01m{\u001b[39;00mplaceholder\u001b[38;5;132;01m}\u001b[39;00m\u001b[38;5;124m\"\u001b[39m\u001b[38;5;124m'\u001b[39m, \u001b[38;5;28mstr\u001b[39m(replicate_index)\n\u001b[1;32m   1516\u001b[0m     )\n\u001b[1;32m   1517\u001b[0m     tables\u001b[38;5;241m.\u001b[39mprovenances\u001b[38;5;241m.\u001b[39madd_row(replicate_provenance)\n\u001b[0;32m-> 1518\u001b[0m ts \u001b[38;5;241m=\u001b[39m \u001b[43mtables\u001b[49m\u001b[38;5;241;43m.\u001b[39;49m\u001b[43mtree_sequence\u001b[49m\u001b[43m(\u001b[49m\u001b[43m)\u001b[49m\n\u001b[1;32m   1519\u001b[0m \u001b[38;5;28;01myield\u001b[39;00m ts\n\u001b[1;32m   1520\u001b[0m \u001b[38;5;28mself\u001b[39m\u001b[38;5;241m.\u001b[39mreset()\n",
      "File \u001b[0;32m~/.conda/envs/tskit-dev-2/lib/python3.11/site-packages/tskit/tables.py:3340\u001b[0m, in \u001b[0;36mTableCollection.tree_sequence\u001b[0;34m(self)\u001b[0m\n\u001b[1;32m   3338\u001b[0m \u001b[38;5;28;01mif\u001b[39;00m \u001b[38;5;129;01mnot\u001b[39;00m \u001b[38;5;28mself\u001b[39m\u001b[38;5;241m.\u001b[39mhas_index():\n\u001b[1;32m   3339\u001b[0m     \u001b[38;5;28mself\u001b[39m\u001b[38;5;241m.\u001b[39mbuild_index()\n\u001b[0;32m-> 3340\u001b[0m \u001b[38;5;28;01mreturn\u001b[39;00m \u001b[43mtskit\u001b[49m\u001b[38;5;241;43m.\u001b[39;49m\u001b[43mTreeSequence\u001b[49m\u001b[38;5;241;43m.\u001b[39;49m\u001b[43mload_tables\u001b[49m\u001b[43m(\u001b[49m\u001b[38;5;28;43mself\u001b[39;49m\u001b[43m)\u001b[49m\n",
      "File \u001b[0;32m~/.conda/envs/tskit-dev-2/lib/python3.11/site-packages/tskit/trees.py:4103\u001b[0m, in \u001b[0;36mTreeSequence.load_tables\u001b[0;34m(cls, tables, build_indexes)\u001b[0m\n\u001b[1;32m   4101\u001b[0m ts \u001b[38;5;241m=\u001b[39m _tskit\u001b[38;5;241m.\u001b[39mTreeSequence()\n\u001b[1;32m   4102\u001b[0m ts\u001b[38;5;241m.\u001b[39mload_tables(tables\u001b[38;5;241m.\u001b[39m_ll_tables, build_indexes\u001b[38;5;241m=\u001b[39mbuild_indexes)\n\u001b[0;32m-> 4103\u001b[0m \u001b[38;5;28;01mreturn\u001b[39;00m \u001b[43mTreeSequence\u001b[49m\u001b[43m(\u001b[49m\u001b[43mts\u001b[49m\u001b[43m)\u001b[49m\n",
      "File \u001b[0;32m~/.conda/envs/tskit-dev-2/lib/python3.11/site-packages/tskit/trees.py:3988\u001b[0m, in \u001b[0;36mTreeSequence.__init__\u001b[0;34m(self, ll_tree_sequence)\u001b[0m\n\u001b[1;32m   3982\u001b[0m \u001b[38;5;28mself\u001b[39m\u001b[38;5;241m.\u001b[39m_ll_tree_sequence \u001b[38;5;241m=\u001b[39m ll_tree_sequence\n\u001b[1;32m   3983\u001b[0m metadata_schema_strings \u001b[38;5;241m=\u001b[39m \u001b[38;5;28mself\u001b[39m\u001b[38;5;241m.\u001b[39m_ll_tree_sequence\u001b[38;5;241m.\u001b[39mget_table_metadata_schemas()\n\u001b[1;32m   3984\u001b[0m metadata_schema_instances \u001b[38;5;241m=\u001b[39m {\n\u001b[1;32m   3985\u001b[0m     name: metadata_module\u001b[38;5;241m.\u001b[39mparse_metadata_schema(\n\u001b[1;32m   3986\u001b[0m         \u001b[38;5;28mgetattr\u001b[39m(metadata_schema_strings, name)\n\u001b[1;32m   3987\u001b[0m     )\n\u001b[0;32m-> 3988\u001b[0m     \u001b[38;5;28;01mfor\u001b[39;00m name \u001b[38;5;129;01min\u001b[39;00m \u001b[38;5;28;43mvars\u001b[39;49m\u001b[43m(\u001b[49m\u001b[43mTableMetadataSchemas\u001b[49m\u001b[43m)\u001b[49m\n\u001b[1;32m   3989\u001b[0m     \u001b[38;5;28;01mif\u001b[39;00m \u001b[38;5;129;01mnot\u001b[39;00m name\u001b[38;5;241m.\u001b[39mstartswith(\u001b[38;5;124m\"\u001b[39m\u001b[38;5;124m_\u001b[39m\u001b[38;5;124m\"\u001b[39m)\n\u001b[1;32m   3990\u001b[0m }\n\u001b[1;32m   3991\u001b[0m \u001b[38;5;28mself\u001b[39m\u001b[38;5;241m.\u001b[39m_table_metadata_schemas \u001b[38;5;241m=\u001b[39m TableMetadataSchemas(\u001b[38;5;241m*\u001b[39m\u001b[38;5;241m*\u001b[39mmetadata_schema_instances)\n\u001b[1;32m   3992\u001b[0m \u001b[38;5;28mself\u001b[39m\u001b[38;5;241m.\u001b[39m_individuals_time \u001b[38;5;241m=\u001b[39m \u001b[38;5;28;01mNone\u001b[39;00m\n",
      "\u001b[0;31mKeyboardInterrupt\u001b[0m: "
     ]
    }
   ],
   "source": [
    "# Moments result: LDstats([[7.07964602e-09 1.88790560e-09 1.60943953e-07]], [0.0008], num_pops=1, pop_ids=None)\n",
    "Ne = 10_000\n",
    "mu = 2e-8\n",
    "r = 5e-4\n",
    "\n",
    "# TODO: this could use some work. Right now, we're generating a bunch of tree sequences that usually\n",
    "#       have two trees, and then compute our stats between the two trees.\n",
    "while True:\n",
    "    tss = msprime.sim_ancestry(\n",
    "        samples=2,\n",
    "        population_size=Ne,\n",
    "        recombination_rate=r,\n",
    "        sequence_length=2,\n",
    "        num_replicates=1_000_000,\n",
    "        # num_replicates=100_000,\n",
    "    )\n",
    "    stats = []\n",
    "    for ts in tss:\n",
    "        if ts.num_trees != 2:\n",
    "            continue\n",
    "        ij, ijk, ijkl = combine(ts.num_samples)\n",
    "        tmrca_iter = iter_tree_tmrca(ts)\n",
    "        left_tmrca = next(tmrca_iter)\n",
    "        right_tmrca = next(tmrca_iter)\n",
    "        stats.append([\n",
    "            compute_D2(left_tmrca, right_tmrca, ij, ijk, ijkl, mu),\n",
    "            compute_Dz(left_tmrca, right_tmrca, ijk, ijkl, mu),\n",
    "            compute_pi2(left_tmrca, right_tmrca, ijkl, mu),\n",
    "        ])\n",
    "    print(np.mean(stats, 0))"
   ]
  }
 ],
 "metadata": {
  "kernelspec": {
   "display_name": "tskit-dev-2",
   "language": "python",
   "name": "tskit-dev-2"
  },
  "language_info": {
   "codemirror_mode": {
    "name": "ipython",
    "version": 3
   },
   "file_extension": ".py",
   "mimetype": "text/x-python",
   "name": "python",
   "nbconvert_exporter": "python",
   "pygments_lexer": "ipython3",
   "version": "3.11.4"
  }
 },
 "nbformat": 4,
 "nbformat_minor": 5
}
