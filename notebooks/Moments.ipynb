{
 "cells": [
  {
   "cell_type": "code",
   "execution_count": 1,
   "id": "d5dc3a87-d386-48be-b476-c48f51fdd439",
   "metadata": {},
   "outputs": [],
   "source": [
    "import moments.LD"
   ]
  },
  {
   "cell_type": "code",
   "execution_count": 2,
   "id": "f895c4f6-c8f5-406a-9ed0-a3a2ec6a2d36",
   "metadata": {},
   "outputs": [],
   "source": [
    "Ne = 10_000\n",
    "mu = 2e-8\n",
    "r = 5e-4\n",
    "theta = 4 * Ne * mu\n",
    "rho = 4 * Ne * r"
   ]
  },
  {
   "cell_type": "code",
   "execution_count": 4,
   "id": "487aae19-d4aa-4c7d-bb32-0ea93135153e",
   "metadata": {},
   "outputs": [
    {
     "data": {
      "text/plain": [
       "0.0008"
      ]
     },
     "execution_count": 4,
     "metadata": {},
     "output_type": "execute_result"
    }
   ],
   "source": [
    "theta"
   ]
  },
  {
   "cell_type": "code",
   "execution_count": 5,
   "id": "c2263304-0086-4113-ab27-08490c6ebd46",
   "metadata": {},
   "outputs": [
    {
     "data": {
      "text/plain": [
       "20.0"
      ]
     },
     "execution_count": 5,
     "metadata": {},
     "output_type": "execute_result"
    }
   ],
   "source": [
    "rho"
   ]
  },
  {
   "cell_type": "code",
   "execution_count": 6,
   "id": "e29f6e7d-a1cd-4101-89a4-100ba2288619",
   "metadata": {},
   "outputs": [],
   "source": [
    "y = moments.LD.Demographics1D.snm(rho=rho, theta=theta)"
   ]
  },
  {
   "cell_type": "code",
   "execution_count": 7,
   "id": "9b2befd1-f638-4669-b353-77c9d97841c8",
   "metadata": {},
   "outputs": [
    {
     "data": {
      "text/plain": [
       "(['DD_0_0', 'Dz_0_0_0', 'pi2_0_0_0_0'], ['H_0_0'])"
      ]
     },
     "execution_count": 7,
     "metadata": {},
     "output_type": "execute_result"
    }
   ],
   "source": [
    "y.names()"
   ]
  },
  {
   "cell_type": "code",
   "execution_count": 8,
   "id": "e027292b-517c-45e6-ad8b-be9466618aa9",
   "metadata": {},
   "outputs": [
    {
     "data": {
      "text/plain": [
       "LDstats([[7.07964602e-09 1.88790560e-09 1.60943953e-07]], [0.0008], num_pops=1, pop_ids=None)"
      ]
     },
     "execution_count": 8,
     "metadata": {},
     "output_type": "execute_result"
    }
   ],
   "source": [
    "y"
   ]
  },
  {
   "cell_type": "code",
   "execution_count": 9,
   "id": "acd1bbcd-32b6-4879-b0c3-df3187113a2f",
   "metadata": {},
   "outputs": [
    {
     "data": {
      "text/plain": [
       "17816392.393842526"
      ]
     },
     "execution_count": 9,
     "metadata": {},
     "output_type": "execute_result"
    }
   ],
   "source": [
    "7.126556957537011e-09 / (2e-8 ** 2)"
   ]
  },
  {
   "cell_type": "code",
   "execution_count": null,
   "id": "fc7fd01c-d5d0-41ef-970d-e5730a0280ec",
   "metadata": {},
   "outputs": [],
   "source": []
  }
 ],
 "metadata": {
  "kernelspec": {
   "display_name": "moments",
   "language": "python",
   "name": "moments"
  },
  "language_info": {
   "codemirror_mode": {
    "name": "ipython",
    "version": 3
   },
   "file_extension": ".py",
   "mimetype": "text/x-python",
   "name": "python",
   "nbconvert_exporter": "python",
   "pygments_lexer": "ipython3",
   "version": "3.10.9"
  }
 },
 "nbformat": 4,
 "nbformat_minor": 5
}
