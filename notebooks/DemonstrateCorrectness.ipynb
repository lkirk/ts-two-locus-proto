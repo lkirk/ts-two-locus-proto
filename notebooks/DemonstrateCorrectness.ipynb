{
 "cells": [
  {
   "cell_type": "code",
   "execution_count": 1,
   "id": "d3b6a508-3554-478d-8d7c-f36942e4986a",
   "metadata": {},
   "outputs": [],
   "source": [
    "import numpy as np\n",
    "from itertools import combinations_with_replacement"
   ]
  },
  {
   "cell_type": "code",
   "execution_count": 2,
   "id": "ccf3e3f3-1c75-4248-ae80-d2f2d2144933",
   "metadata": {},
   "outputs": [],
   "source": [
    "def r2(w_AB, w_Ab, w_aB, n):\n",
    "    p_AB = w_AB / float(n)\n",
    "    p_Ab = w_Ab / float(n)\n",
    "    p_aB = w_aB / float(n)\n",
    "\n",
    "    p_A = p_AB + p_Ab\n",
    "    p_B = p_AB + p_aB\n",
    "\n",
    "    D_ = p_AB - (p_A * p_B)\n",
    "    denom = p_A * p_B * (1 - p_A) * (1 - p_B)\n",
    "\n",
    "    if denom == 0 and D_ == 0:\n",
    "        return np.nan\n",
    "\n",
    "    return (D_ * D_) / denom"
   ]
  },
  {
   "cell_type": "code",
   "execution_count": 3,
   "id": "915412d3-fb32-4dd6-99f1-570ce23f8496",
   "metadata": {},
   "outputs": [],
   "source": [
    "def r(w_AB, w_Ab, w_aB, n):\n",
    "    p_AB = w_AB / float(n)\n",
    "    p_Ab = w_Ab / float(n)\n",
    "    p_aB = w_aB / float(n)\n",
    "\n",
    "    p_A = p_AB + p_Ab\n",
    "    p_B = p_AB + p_aB\n",
    "\n",
    "    D_ = p_AB - (p_A * p_B)\n",
    "    denom = p_A * p_B * (1 - p_A) * (1 - p_B)\n",
    "\n",
    "    if denom == 0 and D_ == 0:\n",
    "        return np.nan\n",
    "\n",
    "    return D_ / np.sqrt(denom)"
   ]
  },
  {
   "cell_type": "code",
   "execution_count": 4,
   "id": "2efcaf02-2958-4e78-b76e-8f21b4075285",
   "metadata": {},
   "outputs": [],
   "source": [
    "def D(w_AB, w_Ab, w_aB, n):\n",
    "    p_AB = w_AB / float(n)\n",
    "    p_Ab = w_Ab / float(n)\n",
    "    p_aB = w_aB / float(n)\n",
    "\n",
    "    p_A = p_AB + p_Ab\n",
    "    p_B = p_AB + p_aB\n",
    "\n",
    "    return p_AB - (p_A * p_B)"
   ]
  },
  {
   "cell_type": "code",
   "execution_count": 5,
   "id": "e6469a52-11ab-48d1-8732-f10bce294aab",
   "metadata": {},
   "outputs": [],
   "source": [
    "def compute_stat_matrix(a_alleles, b_alleles, func, polarized, norm_strategy, do_print=False):\n",
    "    assert len(a_alleles) == len(b_alleles), 'inputs must be same length'\n",
    "    assert norm_strategy in {'total', 'hap_weighted', 'af_weighted'}, f'unknown norm strategy: {norm_strategy}'\n",
    "    a_alleles = np.asarray(a_alleles)\n",
    "    b_alleles = np.asarray(b_alleles)\n",
    "\n",
    "    result = np.zeros((2, 2))\n",
    "    for (l_idx, left), (r_idx, right) in combinations_with_replacement([(0, a_alleles), (1, b_alleles)], 2):\n",
    "        hap_mat = np.zeros((len(np.unique(right)), len(np.unique(left))))\n",
    "        for A_i, B_i in zip(left, right):\n",
    "            hap_mat[A_i, B_i] += 1\n",
    "        stats, weights = compute_stat(hap_mat, func, polarized, norm_strategy)\n",
    "        if do_print:\n",
    "            print('haplotype_matrix', hap_mat, 'stat_result', stats, 'weights', weights, '============', sep='\\n')\n",
    "        result[l_idx, r_idx] = (stats * weights).sum()\n",
    "\n",
    "    tri_idx = np.tril_indices(len(result), k=-1)\n",
    "    result[tri_idx] = result.T[tri_idx]\n",
    "    return result"
   ]
  },
  {
   "cell_type": "code",
   "execution_count": 6,
   "id": "ebdf72a5-aa6f-4a92-841e-453ed44abf95",
   "metadata": {},
   "outputs": [],
   "source": [
    "def compute_stat(hap_mat, func, polarized, norm_strategy):\n",
    "    hap_mat = np.asarray(hap_mat)\n",
    "\n",
    "    n_B, n_A = hap_mat.shape\n",
    "    n = hap_mat.sum()\n",
    "    a_freq = hap_mat.sum(1) / n\n",
    "    b_freq = hap_mat.sum(0) / n\n",
    "    hap_freq = hap_mat / n\n",
    "\n",
    "    weights = np.zeros(hap_mat.shape)\n",
    "    stats = np.zeros(hap_mat.shape)\n",
    "    for A_i in range(1 if polarized else 0, n_A):\n",
    "        for B_i in range(1 if polarized else 0, n_B):\n",
    "            w_AB = hap_mat[A_i, B_i]\n",
    "            w_Ab = hap_mat[A_i,   :].sum() - w_AB \n",
    "            w_aB = hap_mat[:  , B_i].sum() - w_AB\n",
    "            stats[A_i, B_i] = func(w_AB, w_Ab, w_aB, n)\n",
    "            if norm_strategy == 'hap_weighted':\n",
    "                weights[A_i, B_i] = hap_freq[A_i, B_i]\n",
    "            elif norm_strategy == 'af_weighted':\n",
    "                weights[A_i, B_i] = a_freq[A_i] * b_freq[B_i]\n",
    "            elif norm_strategy == 'total':\n",
    "                weights[A_i, B_i] = 1 / ((n_A - (1 if polarized else 0)) * (n_B - (1 if polarized else 0)))\n",
    "    return stats, weights"
   ]
  },
  {
   "cell_type": "markdown",
   "id": "afb6100a-b302-49a3-9421-f14542506f57",
   "metadata": {},
   "source": [
    "Here, we have simplified the representation of the data for testing purposes. Each array represents an allelic state for a set of samples for a given site. Each set has two sites, we can see that sample 0 from site 1 in the CORRELATED dataset has the ancestral state (0)."
   ]
  },
  {
   "cell_type": "code",
   "execution_count": 7,
   "id": "b9c53d60-2bc3-4e5e-94b7-67232fd42802",
   "metadata": {},
   "outputs": [],
   "source": [
    "CORRELATED = (\n",
    "    [0, 1, 1, 0, 2, 2, 1, 0, 1],\n",
    "    [1, 2, 2, 1, 0, 0, 2, 1, 2]\n",
    ")\n",
    "CORRELATED_SYMMETRIC = (\n",
    "    [0, 1, 1, 0, 2, 2, 1, 0, 2],\n",
    "    [1, 2, 2, 1, 0, 0, 2, 1, 0]\n",
    ")\n",
    "CORRELATED_BIALLELIC = (\n",
    "    [0, 0, 0, 0, 1, 1, 1, 1],\n",
    "    [0, 0, 0, 0, 1, 1, 1, 1]\n",
    ")\n",
    "UNCORRELATED = (\n",
    "    [0, 0, 0, 1, 1, 1, 2, 2, 2],\n",
    "    [0, 1, 2, 0, 1, 2, 0, 1, 2]\n",
    ")\n",
    "UNCORRELATED_BIALLELIC = (\n",
    "    [0, 0, 0, 0, 1, 1, 1, 1],\n",
    "    [1, 1, 0, 0, 0, 0, 1, 1]\n",
    ")\n",
    "REPULSION_BIALLELIC = (\n",
    "    [0, 0, 0, 0, 1, 1, 1, 1],\n",
    "    [1, 1, 1, 1, 0, 0, 0, 0]\n",
    ")\n",
    "TEST_CASES = {k: v for k, v in locals().items() if 'CORRELATED' in k or 'ALLELIC' in k}"
   ]
  },
  {
   "cell_type": "markdown",
   "id": "f53d5c0a-2db3-4b28-aee3-e4e9b8b8b7df",
   "metadata": {},
   "source": [
    "correlated multi-allelic r2 sums to 1\n",
    "\n",
    "In this particular case, the alleles are correlated, but there are different numbers of pairs of correlated alleles. The haplotype matrix between sites 0/1 looks like this:\n",
    "\n",
    "```\n",
    "[[3. 0. 0.]\n",
    " [0. 4. 0.]\n",
    " [0. 0. 2.]]\n",
    "```\n",
    "\n",
    "Note, the haplotype matrix has A rows and B columns, and the matrix holds counts of A/B haplotypes for each allele."
   ]
  },
  {
   "cell_type": "code",
   "execution_count": 8,
   "id": "553c9900-6b70-4607-a382-6782e98e01fd",
   "metadata": {},
   "outputs": [
    {
     "data": {
      "text/plain": [
       "array([[1., 1.],\n",
       "       [1., 1.]])"
      ]
     },
     "execution_count": 8,
     "metadata": {},
     "output_type": "execute_result"
    }
   ],
   "source": [
    "compute_stat_matrix(*CORRELATED, func=r2, polarized=False, norm_strategy='hap_weighted')"
   ]
  },
  {
   "cell_type": "markdown",
   "id": "ba7487e7-e810-4705-b5da-6e72d2ee5a89",
   "metadata": {},
   "source": [
    "We get the same result for the \"symmetric\" correlated set, which has the same number of pairs of correlated alleles, haplotype matrix between sites 0/1 looks like this:\n",
    "\n",
    "```\n",
    "[[3. 0. 0.]\n",
    " [0. 3. 0.]\n",
    " [0. 0. 3.]]\n",
    "```"
   ]
  },
  {
   "cell_type": "code",
   "execution_count": 9,
   "id": "a9593d1a-130b-4078-aec2-c9bc8357fbe0",
   "metadata": {},
   "outputs": [
    {
     "data": {
      "text/plain": [
       "array([[1., 1.],\n",
       "       [1., 1.]])"
      ]
     },
     "execution_count": 9,
     "metadata": {},
     "output_type": "execute_result"
    }
   ],
   "source": [
    "compute_stat_matrix(*CORRELATED_SYMMETRIC, func=r2, polarized=False, norm_strategy='hap_weighted')"
   ]
  },
  {
   "cell_type": "markdown",
   "id": "959a6e26-5c39-491f-a56b-46a28684501d",
   "metadata": {},
   "source": [
    "Now, let's look at unpolarized D, which should always sum to 0 (or very close to it)"
   ]
  },
  {
   "cell_type": "code",
   "execution_count": 10,
   "id": "25ec20c9-2e5f-4920-895a-558116ad7fde",
   "metadata": {},
   "outputs": [
    {
     "name": "stdout",
     "output_type": "stream",
     "text": [
      "CORRELATED\n",
      "[[-3.46944695e-18  1.73472348e-18]\n",
      " [ 1.73472348e-18  0.00000000e+00]]\n",
      "CORRELATED_SYMMETRIC\n",
      "[[0. 0.]\n",
      " [0. 0.]]\n",
      "CORRELATED_BIALLELIC\n",
      "[[0. 0.]\n",
      " [0. 0.]]\n",
      "UNCORRELATED\n",
      "[[0. 0.]\n",
      " [0. 0.]]\n",
      "UNCORRELATED_BIALLELIC\n",
      "[[0. 0.]\n",
      " [0. 0.]]\n",
      "REPULSION_BIALLELIC\n",
      "[[0. 0.]\n",
      " [0. 0.]]\n"
     ]
    }
   ],
   "source": [
    "for test_case, test_data in TEST_CASES.items():\n",
    "    print(test_case)\n",
    "    print(compute_stat_matrix(*test_data, func=D, polarized=False, norm_strategy='total'))"
   ]
  },
  {
   "cell_type": "markdown",
   "id": "4b10ebd8-8962-4999-84b5-6510ec37859c",
   "metadata": {},
   "source": [
    "Unpolarized D appears to be incorrect when we perform \"hap_weighted\" normalization."
   ]
  },
  {
   "cell_type": "code",
   "execution_count": 11,
   "id": "618f5fc9-39ae-42e6-81e5-cb5ef31cb35e",
   "metadata": {},
   "outputs": [
    {
     "name": "stdout",
     "output_type": "stream",
     "text": [
      "CORRELATED\n",
      "[[0.22222222 0.22222222]\n",
      " [0.22222222 0.22222222]]\n",
      "CORRELATED_SYMMETRIC\n",
      "[[0.22222222 0.22222222]\n",
      " [0.22222222 0.22222222]]\n",
      "CORRELATED_BIALLELIC\n",
      "[[0.25 0.25]\n",
      " [0.25 0.25]]\n",
      "UNCORRELATED\n",
      "[[0.22222222 0.        ]\n",
      " [0.         0.22222222]]\n",
      "UNCORRELATED_BIALLELIC\n",
      "[[0.25 0.  ]\n",
      " [0.   0.25]]\n",
      "REPULSION_BIALLELIC\n",
      "[[0.25 0.25]\n",
      " [0.25 0.25]]\n"
     ]
    }
   ],
   "source": [
    "for test_case, test_data in TEST_CASES.items():\n",
    "    print(test_case)\n",
    "    print(compute_stat_matrix(*test_data, func=D, polarized=False, norm_strategy='hap_weighted'))"
   ]
  },
  {
   "cell_type": "markdown",
   "id": "7db0a468-7c69-47ff-ad42-b697dc8c8346",
   "metadata": {},
   "source": [
    "Now, let's look at \"total\" normed D for polarized stats, we observe the expected values for biallelic samples. I do think that the correlated multi-allelic samples look a bit fishy (mostly the sign), but I'm not sure what values we would expect."
   ]
  },
  {
   "cell_type": "code",
   "execution_count": 12,
   "id": "3eafade6-38ec-4fe0-a298-fd28f9621346",
   "metadata": {},
   "outputs": [
    {
     "name": "stdout",
     "output_type": "stream",
     "text": [
      "CORRELATED\n",
      "[[ 0.05555556 -0.01851852]\n",
      " [-0.01851852  0.04320988]]\n",
      "CORRELATED_SYMMETRIC\n",
      "[[ 0.05555556 -0.02777778]\n",
      " [-0.02777778  0.05555556]]\n",
      "CORRELATED_BIALLELIC\n",
      "[[0.25 0.25]\n",
      " [0.25 0.25]]\n",
      "UNCORRELATED\n",
      "[[0.05555556 0.        ]\n",
      " [0.         0.05555556]]\n",
      "UNCORRELATED_BIALLELIC\n",
      "[[0.25 0.  ]\n",
      " [0.   0.25]]\n",
      "REPULSION_BIALLELIC\n",
      "[[ 0.25 -0.25]\n",
      " [-0.25  0.25]]\n"
     ]
    }
   ],
   "source": [
    "for test_case, test_data in TEST_CASES.items():\n",
    "    print(test_case)\n",
    "    print(compute_stat_matrix(*test_data, func=D, polarized=True, norm_strategy='total'))"
   ]
  },
  {
   "cell_type": "markdown",
   "id": "7a53ef73-7db6-45a1-b205-a4745a5d6d10",
   "metadata": {},
   "source": [
    "Let's look at r, which we've also averaged across multi-allelic sites. We see a similar outcome, biallelic behave as we would expect and multiallelic have a similar pattern to D"
   ]
  },
  {
   "cell_type": "code",
   "execution_count": 13,
   "id": "bfef9f9e-ff1d-4189-86e1-e4e16609a2e4",
   "metadata": {},
   "outputs": [
    {
     "name": "stdout",
     "output_type": "stream",
     "text": [
      "CORRELATED\n",
      "[[ 0.05555556 -0.01851852]\n",
      " [-0.01851852  0.04320988]]\n",
      "CORRELATED_SYMMETRIC\n",
      "[[ 0.05555556 -0.02777778]\n",
      " [-0.02777778  0.05555556]]\n",
      "CORRELATED_BIALLELIC\n",
      "[[0.25 0.25]\n",
      " [0.25 0.25]]\n",
      "UNCORRELATED\n",
      "[[0.05555556 0.        ]\n",
      " [0.         0.05555556]]\n",
      "UNCORRELATED_BIALLELIC\n",
      "[[0.25 0.  ]\n",
      " [0.   0.25]]\n",
      "REPULSION_BIALLELIC\n",
      "[[ 0.25 -0.25]\n",
      " [-0.25  0.25]]\n"
     ]
    }
   ],
   "source": [
    "for test_case, test_data in TEST_CASES.items():\n",
    "    print(test_case)\n",
    "    print(compute_stat_matrix(*test_data, func=D, polarized=True, norm_strategy='total'))"
   ]
  },
  {
   "cell_type": "markdown",
   "id": "1d016ca2-9d15-4662-8272-91be0f4ff015",
   "metadata": {},
   "source": [
    "for a more detailed investigation, one can run with `do_print=True`, which prints out the haplotype comparison matrix, stat result, and weights between sites 0/0, 0/1, 1/1"
   ]
  },
  {
   "cell_type": "code",
   "execution_count": 14,
   "id": "714f6a5e-3d04-4bc7-ac85-6f8b7dc6cefe",
   "metadata": {},
   "outputs": [
    {
     "name": "stdout",
     "output_type": "stream",
     "text": [
      "haplotype_matrix\n",
      "[[4. 0.]\n",
      " [0. 4.]]\n",
      "stat_result\n",
      "[[0.   0.  ]\n",
      " [0.   0.25]]\n",
      "weights\n",
      "[[0. 0.]\n",
      " [0. 1.]]\n",
      "============\n",
      "haplotype_matrix\n",
      "[[4. 0.]\n",
      " [0. 4.]]\n",
      "stat_result\n",
      "[[0.   0.  ]\n",
      " [0.   0.25]]\n",
      "weights\n",
      "[[0. 0.]\n",
      " [0. 1.]]\n",
      "============\n",
      "haplotype_matrix\n",
      "[[4. 0.]\n",
      " [0. 4.]]\n",
      "stat_result\n",
      "[[0.   0.  ]\n",
      " [0.   0.25]]\n",
      "weights\n",
      "[[0. 0.]\n",
      " [0. 1.]]\n",
      "============\n"
     ]
    },
    {
     "data": {
      "text/plain": [
       "array([[0.25, 0.25],\n",
       "       [0.25, 0.25]])"
      ]
     },
     "execution_count": 14,
     "metadata": {},
     "output_type": "execute_result"
    }
   ],
   "source": [
    "compute_stat_matrix(*CORRELATED_BIALLELIC, func=D, polarized=True, norm_strategy='total', do_print=True)"
   ]
  },
  {
   "cell_type": "code",
   "execution_count": 15,
   "id": "c3bff42e-b724-446d-b7d7-471c934e635e",
   "metadata": {},
   "outputs": [
    {
     "name": "stdout",
     "output_type": "stream",
     "text": [
      "haplotype_matrix\n",
      "[[4. 0.]\n",
      " [0. 4.]]\n",
      "stat_result\n",
      "[[ 0.25 -0.25]\n",
      " [-0.25  0.25]]\n",
      "weights\n",
      "[[0.25 0.25]\n",
      " [0.25 0.25]]\n",
      "============\n",
      "haplotype_matrix\n",
      "[[4. 0.]\n",
      " [0. 4.]]\n",
      "stat_result\n",
      "[[ 0.25 -0.25]\n",
      " [-0.25  0.25]]\n",
      "weights\n",
      "[[0.25 0.25]\n",
      " [0.25 0.25]]\n",
      "============\n",
      "haplotype_matrix\n",
      "[[4. 0.]\n",
      " [0. 4.]]\n",
      "stat_result\n",
      "[[ 0.25 -0.25]\n",
      " [-0.25  0.25]]\n",
      "weights\n",
      "[[0.25 0.25]\n",
      " [0.25 0.25]]\n",
      "============\n"
     ]
    },
    {
     "data": {
      "text/plain": [
       "array([[0., 0.],\n",
       "       [0., 0.]])"
      ]
     },
     "execution_count": 15,
     "metadata": {},
     "output_type": "execute_result"
    }
   ],
   "source": [
    "compute_stat_matrix(*CORRELATED_BIALLELIC, func=D, polarized=False, norm_strategy='total', do_print=True)"
   ]
  },
  {
   "cell_type": "code",
   "execution_count": 16,
   "id": "f6198407-d076-4641-91a5-853ed35334d0",
   "metadata": {},
   "outputs": [
    {
     "name": "stdout",
     "output_type": "stream",
     "text": [
      "haplotype_matrix\n",
      "[[4. 0.]\n",
      " [0. 4.]]\n",
      "stat_result\n",
      "[[1. 1.]\n",
      " [1. 1.]]\n",
      "weights\n",
      "[[0.5 0. ]\n",
      " [0.  0.5]]\n",
      "============\n",
      "haplotype_matrix\n",
      "[[4. 0.]\n",
      " [0. 4.]]\n",
      "stat_result\n",
      "[[1. 1.]\n",
      " [1. 1.]]\n",
      "weights\n",
      "[[0.5 0. ]\n",
      " [0.  0.5]]\n",
      "============\n",
      "haplotype_matrix\n",
      "[[4. 0.]\n",
      " [0. 4.]]\n",
      "stat_result\n",
      "[[1. 1.]\n",
      " [1. 1.]]\n",
      "weights\n",
      "[[0.5 0. ]\n",
      " [0.  0.5]]\n",
      "============\n"
     ]
    },
    {
     "data": {
      "text/plain": [
       "array([[1., 1.],\n",
       "       [1., 1.]])"
      ]
     },
     "execution_count": 16,
     "metadata": {},
     "output_type": "execute_result"
    }
   ],
   "source": [
    "compute_stat_matrix(*CORRELATED_BIALLELIC, func=r2, polarized=False, norm_strategy='hap_weighted', do_print=True)"
   ]
  }
 ],
 "metadata": {
  "kernelspec": {
   "display_name": "tskit-dev-2",
   "language": "python",
   "name": "tskit-dev-2"
  },
  "language_info": {
   "codemirror_mode": {
    "name": "ipython",
    "version": 3
   },
   "file_extension": ".py",
   "mimetype": "text/x-python",
   "name": "python",
   "nbconvert_exporter": "python",
   "pygments_lexer": "ipython3",
   "version": "3.11.4"
  }
 },
 "nbformat": 4,
 "nbformat_minor": 5
}
