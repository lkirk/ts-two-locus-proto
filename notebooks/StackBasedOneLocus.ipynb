{
 "cells": [
  {
   "cell_type": "code",
   "execution_count": 1,
   "id": "7edce71d-fdcd-482c-b4fb-fb4385da1ad0",
   "metadata": {},
   "outputs": [],
   "source": [
    "import msprime\n",
    "import numpy as np\n",
    "import tskit"
   ]
  },
  {
   "cell_type": "code",
   "execution_count": 2,
   "id": "b19a3071-9686-46db-9c85-645115ada792",
   "metadata": {},
   "outputs": [
    {
     "data": {
      "image/svg+xml": [
       "<svg baseProfile=\"full\" height=\"300\" version=\"1.1\" width=\"1000\" xmlns=\"http://www.w3.org/2000/svg\" xmlns:ev=\"http://www.w3.org/2001/xml-events\" xmlns:xlink=\"http://www.w3.org/1999/xlink\"><defs><style type=\"text/css\"><![CDATA[.background path {fill: #808080; fill-opacity: 0}.background path:nth-child(odd) {fill-opacity: .1}.axes {font-size: 14px}.x-axis .tick .lab {font-weight: bold; dominant-baseline: hanging}.axes, .tree {font-size: 14px; text-anchor: middle}.axes line, .edge {stroke: black; fill: none}.y-axis .grid {stroke: #FAFAFA}.node > .sym {fill: black; stroke: none}.site > .sym {stroke: black}.mut text {fill: red; font-style: italic}.mut.extra text {fill: hotpink}.mut line {fill: none; stroke: none}.mut .sym {fill: none; stroke: red}.mut.extra .sym {stroke: hotpink}.node .mut .sym {stroke-width: 1.5px}.tree text, .tree-sequence text {dominant-baseline: central}.plotbox .lab.lft {text-anchor: end}.plotbox .lab.rgt {text-anchor: start}]]></style></defs><g class=\"tree-sequence\"><g class=\"background\"><path d=\"M20,0 l192,0 l0,238.2 l-96,25 l0,5 l-96,0 l0,-5 l0,-25 l0,-238.2z\" /><path d=\"M212,0 l192,0 l0,238.2 l-96,25 l0,5 l-192,0 l0,-5 l96,-25 l0,-238.2z\" /><path d=\"M404,0 l192,0 l0,238.2 l0,25 l0,5 l-288,0 l0,-5 l96,-25 l0,-238.2z\" /><path d=\"M596,0 l192,0 l0,238.2 l-96,25 l0,5 l-96,0 l0,-5 l0,-25 l0,-238.2z\" /><path d=\"M788,0 l192,0 l0,238.2 l0,25 l0,5 l-288,0 l0,-5 l96,-25 l0,-238.2z\" /></g><g class=\"axes\"><g class=\"x-axis\"><g transform=\"translate(500 300)\"><text class=\"lab\" text-anchor=\"middle\" transform=\"translate(0 -11)\">Genome position</text></g><line x1=\"20\" x2=\"980\" y1=\"263.2\" y2=\"263.2\" /><g class=\"ticks\"><g class=\"tick\" transform=\"translate(20 263.2)\"><line x1=\"0\" x2=\"0\" y1=\"0\" y2=\"5\" /><g transform=\"translate(0 6)\"><text class=\"lab\">0</text></g></g><g class=\"tick\" transform=\"translate(116 263.2)\"><line x1=\"0\" x2=\"0\" y1=\"0\" y2=\"5\" /><g transform=\"translate(0 6)\"><text class=\"lab\">1</text></g></g><g class=\"tick\" transform=\"translate(308 263.2)\"><line x1=\"0\" x2=\"0\" y1=\"0\" y2=\"5\" /><g transform=\"translate(0 6)\"><text class=\"lab\">3</text></g></g><g class=\"tick\" transform=\"translate(596 263.2)\"><line x1=\"0\" x2=\"0\" y1=\"0\" y2=\"5\" /><g transform=\"translate(0 6)\"><text class=\"lab\">6</text></g></g><g class=\"tick\" transform=\"translate(692 263.2)\"><line x1=\"0\" x2=\"0\" y1=\"0\" y2=\"5\" /><g transform=\"translate(0 6)\"><text class=\"lab\">7</text></g></g><g class=\"tick\" transform=\"translate(980 263.2)\"><line x1=\"0\" x2=\"0\" y1=\"0\" y2=\"5\" /><g transform=\"translate(0 6)\"><text class=\"lab\">10</text></g></g></g><g class=\"site s0\" transform=\"translate(116 263.2)\"><line class=\"sym\" x1=\"0\" x2=\"0\" y1=\"0\" y2=\"-10\" /><g class=\"mut m4\"><polyline class=\"sym\" points=\"2.5,-6.5 0,-1.5 -2.5,-6.5\" /></g><g class=\"mut m3\"><polyline class=\"sym\" points=\"2.5,-10.5 0,-5.5 -2.5,-10.5\" /></g><g class=\"mut m2\"><polyline class=\"sym\" points=\"2.5,-14.5 0,-9.5 -2.5,-14.5\" /></g><g class=\"mut m1\"><polyline class=\"sym\" points=\"2.5,-18.5 0,-13.5 -2.5,-18.5\" /></g><g class=\"mut m0\"><polyline class=\"sym\" points=\"2.5,-22.5 0,-17.5 -2.5,-22.5\" /></g></g><g class=\"site s1\" transform=\"translate(212 263.2)\"><line class=\"sym\" x1=\"0\" x2=\"0\" y1=\"0\" y2=\"-10\" /><g class=\"mut m7\"><polyline class=\"sym\" points=\"2.5,-6.5 0,-1.5 -2.5,-6.5\" /></g><g class=\"mut m6\"><polyline class=\"sym\" points=\"2.5,-10.5 0,-5.5 -2.5,-10.5\" /></g><g class=\"mut m5\"><polyline class=\"sym\" points=\"2.5,-14.5 0,-9.5 -2.5,-14.5\" /></g></g><g class=\"site s2\" transform=\"translate(308 263.2)\"><line class=\"sym\" x1=\"0\" x2=\"0\" y1=\"0\" y2=\"-10\" /><g class=\"mut m8\"><polyline class=\"sym\" points=\"2.5,-6.5 0,-1.5 -2.5,-6.5\" /></g></g><g class=\"site s3\" transform=\"translate(404 263.2)\"><line class=\"sym\" x1=\"0\" x2=\"0\" y1=\"0\" y2=\"-10\" /><g class=\"mut m9\"><polyline class=\"sym\" points=\"2.5,-6.5 0,-1.5 -2.5,-6.5\" /></g></g><g class=\"site s4\" transform=\"translate(500 263.2)\"><line class=\"sym\" x1=\"0\" x2=\"0\" y1=\"0\" y2=\"-10\" /><g class=\"mut m14\"><polyline class=\"sym\" points=\"2.5,-6.5 0,-1.5 -2.5,-6.5\" /></g><g class=\"mut m13\"><polyline class=\"sym\" points=\"2.5,-10.5 0,-5.5 -2.5,-10.5\" /></g><g class=\"mut m12\"><polyline class=\"sym\" points=\"2.5,-14.5 0,-9.5 -2.5,-14.5\" /></g><g class=\"mut m11\"><polyline class=\"sym\" points=\"2.5,-18.5 0,-13.5 -2.5,-18.5\" /></g><g class=\"mut m10\"><polyline class=\"sym\" points=\"2.5,-22.5 0,-17.5 -2.5,-22.5\" /></g></g><g class=\"site s5\" transform=\"translate(596 263.2)\"><line class=\"sym\" x1=\"0\" x2=\"0\" y1=\"0\" y2=\"-10\" /><g class=\"mut m19\"><polyline class=\"sym\" points=\"2.5,-6.5 0,-1.5 -2.5,-6.5\" /></g><g class=\"mut m18\"><polyline class=\"sym\" points=\"2.5,-10.5 0,-5.5 -2.5,-10.5\" /></g><g class=\"mut m17\"><polyline class=\"sym\" points=\"2.5,-14.5 0,-9.5 -2.5,-14.5\" /></g><g class=\"mut m16\"><polyline class=\"sym\" points=\"2.5,-18.5 0,-13.5 -2.5,-18.5\" /></g><g class=\"mut m15\"><polyline class=\"sym\" points=\"2.5,-22.5 0,-17.5 -2.5,-22.5\" /></g></g><g class=\"site s6\" transform=\"translate(692 263.2)\"><line class=\"sym\" x1=\"0\" x2=\"0\" y1=\"0\" y2=\"-10\" /><g class=\"mut m21\"><polyline class=\"sym\" points=\"2.5,-6.5 0,-1.5 -2.5,-6.5\" /></g><g class=\"mut m20\"><polyline class=\"sym\" points=\"2.5,-10.5 0,-5.5 -2.5,-10.5\" /></g></g><g class=\"site s7\" transform=\"translate(788 263.2)\"><line class=\"sym\" x1=\"0\" x2=\"0\" y1=\"0\" y2=\"-10\" /><g class=\"mut m22\"><polyline class=\"sym\" points=\"2.5,-6.5 0,-1.5 -2.5,-6.5\" /></g></g><g class=\"site s8\" transform=\"translate(884 263.2)\"><line class=\"sym\" x1=\"0\" x2=\"0\" y1=\"0\" y2=\"-10\" /><g class=\"mut m26\"><polyline class=\"sym\" points=\"2.5,-6.5 0,-1.5 -2.5,-6.5\" /></g><g class=\"mut m25\"><polyline class=\"sym\" points=\"2.5,-10.5 0,-5.5 -2.5,-10.5\" /></g><g class=\"mut m24\"><polyline class=\"sym\" points=\"2.5,-14.5 0,-9.5 -2.5,-14.5\" /></g><g class=\"mut m23\"><polyline class=\"sym\" points=\"2.5,-18.5 0,-13.5 -2.5,-18.5\" /></g></g></g></g><g class=\"plotbox trees\"><g class=\"tree t0\" transform=\"translate(20 0)\"><g class=\"plotbox\"><g class=\"c2 node n16 p0 root\" transform=\"translate(112.625 49.4506)\"><g class=\"a16 c2 node n10 p0\" transform=\"translate(40.375 167.267)\"><g class=\"a10 i1 leaf node n3 p0 sample\" transform=\"translate(-9.5 4.68188)\"><path class=\"edge\" d=\"M 0 0 V -4.68188 H 9.5\" /><rect class=\"sym\" height=\"6\" width=\"6\" x=\"-3\" y=\"-3\" /><text class=\"lab\" transform=\"translate(0 11)\">3</text></g><g class=\"a10 i2 leaf node n4 p0 sample\" transform=\"translate(9.5 4.68188)\"><path class=\"edge\" d=\"M 0 0 V -4.68188 H -9.5\" /><rect class=\"sym\" height=\"6\" width=\"6\" x=\"-3\" y=\"-3\" /><text class=\"lab\" transform=\"translate(0 11)\">4</text></g><path class=\"edge\" d=\"M 0 0 V -167.267 H -40.375\" /><circle class=\"sym\" cx=\"0\" cy=\"0\" r=\"3\" /><text class=\"lab rgt\" transform=\"translate(3 -7.0)\">10</text></g><g class=\"a16 c2 node n14 p0\" transform=\"translate(-40.375 148.743)\"><g class=\"a14 c2 node n11 p0\" transform=\"translate(-28.5 13.9147)\"><g class=\"a11 i0 leaf node n0 p0 sample\" transform=\"translate(-14.25 9.29182)\"><path class=\"edge\" d=\"M 0 0 V -9.29182 H 14.25\" /><rect class=\"sym\" height=\"6\" width=\"6\" x=\"-3\" y=\"-3\" /><text class=\"lab\" transform=\"translate(0 11)\">0</text></g><g class=\"a11 c2 node n8 p0\" transform=\"translate(14.25 6.72814)\"><g class=\"a8 i2 leaf node n5 p0 sample\" transform=\"translate(-9.5 2.56368)\"><path class=\"edge\" d=\"M 0 0 V -2.56368 H 9.5\" /><rect class=\"sym\" height=\"6\" width=\"6\" x=\"-3\" y=\"-3\" /><text class=\"lab\" transform=\"translate(0 11)\">5</text></g><g class=\"a8 i3 leaf node n7 p0 sample\" transform=\"translate(9.5 2.56368)\"><path class=\"edge\" d=\"M 0 0 V -2.56368 H -9.5\" /><rect class=\"sym\" height=\"6\" width=\"6\" x=\"-3\" y=\"-3\" /><text class=\"lab\" transform=\"translate(0 11)\">7</text></g><path class=\"edge\" d=\"M 0 0 V -6.72814 H -14.25\" /><circle class=\"sym\" cx=\"0\" cy=\"0\" r=\"3\" /><text class=\"lab rgt\" transform=\"translate(3 -7.0)\">8</text></g><path class=\"edge\" d=\"M 0 0 V -13.9147 H 28.5\" /><circle class=\"sym\" cx=\"0\" cy=\"0\" r=\"3\" /><text class=\"lab lft\" transform=\"translate(-3 -7.0)\">11</text></g><g class=\"a14 c2 node n13 p0\" transform=\"translate(28.5 1.26635)\"><g class=\"a13 i0 leaf node n1 p0 sample\" transform=\"translate(-14.25 21.9402)\"><path class=\"edge\" d=\"M 0 0 V -21.9402 H 14.25\" /><rect class=\"sym\" height=\"6\" width=\"6\" x=\"-3\" y=\"-3\" /><text class=\"lab\" transform=\"translate(0 11)\">1</text></g><g class=\"a13 c2 node n12 p0\" transform=\"translate(14.25 5.21516)\"><g class=\"a12 i1 leaf node n2 p0 sample\" transform=\"translate(-9.5 16.7251)\"><path class=\"edge\" d=\"M 0 0 V -16.7251 H 9.5\" /><rect class=\"sym\" height=\"6\" width=\"6\" x=\"-3\" y=\"-3\" /><text class=\"lab\" transform=\"translate(0 11)\">2</text></g><g class=\"a12 i3 leaf node n6 p0 sample\" transform=\"translate(9.5 16.7251)\"><path class=\"edge\" d=\"M 0 0 V -16.7251 H -9.5\" /><rect class=\"sym\" height=\"6\" width=\"6\" x=\"-3\" y=\"-3\" /><text class=\"lab\" transform=\"translate(0 11)\">6</text></g><path class=\"edge\" d=\"M 0 0 V -5.21516 H -14.25\" /><circle class=\"sym\" cx=\"0\" cy=\"0\" r=\"3\" /><text class=\"lab rgt\" transform=\"translate(3 -7.0)\">12</text></g><path class=\"edge\" d=\"M 0 0 V -1.26635 H -28.5\" /><circle class=\"sym\" cx=\"0\" cy=\"0\" r=\"3\" /><text class=\"lab rgt\" transform=\"translate(3 -7.0)\">13</text></g><path class=\"edge\" d=\"M 0 0 V -148.743 H 40.375\" /><circle class=\"sym\" cx=\"0\" cy=\"0\" r=\"3\" /><text class=\"lab lft\" transform=\"translate(-3 -7.0)\">14</text></g><circle class=\"sym\" cx=\"0\" cy=\"0\" r=\"3\" /><text class=\"lab\" transform=\"translate(0 -11)\">16</text></g></g></g><g class=\"tree t1\" transform=\"translate(212 0)\"><g class=\"plotbox\"><g class=\"c2 node n17 p0 root\" transform=\"translate(112.625 26.8)\"><g class=\"a17 c2 m5 node n10 p0 s1\" transform=\"translate(40.375 189.918)\"><g class=\"a10 i1 leaf m7 node n3 p0 s1 sample\" transform=\"translate(-9.5 4.68188)\"><path class=\"edge\" d=\"M 0 0 V -4.68188 H 9.5\" /><g class=\"mut m7 s1\" transform=\"translate(0 -0.432318)\"><line x1=\"0\" x2=\"0\" y1=\"0\" y2=\"0.432318\" /><path class=\"sym\" d=\"M -3,-3 l 6,6 M -3,3 l 6,-6\" /><text class=\"lab lft\" transform=\"translate(-5 0)\">7</text></g><rect class=\"sym\" height=\"6\" width=\"6\" x=\"-3\" y=\"-3\" /><text class=\"lab\" transform=\"translate(0 11)\">3</text></g><g class=\"a10 i2 leaf node n4 p0 sample\" transform=\"translate(9.5 4.68188)\"><path class=\"edge\" d=\"M 0 0 V -4.68188 H -9.5\" /><rect class=\"sym\" height=\"6\" width=\"6\" x=\"-3\" y=\"-3\" /><text class=\"lab\" transform=\"translate(0 11)\">4</text></g><path class=\"edge\" d=\"M 0 0 V -189.918 H -40.375\" /><g class=\"mut m5 s1\" transform=\"translate(0 -127.345)\"><line x1=\"0\" x2=\"0\" y1=\"0\" y2=\"127.345\" /><path class=\"sym\" d=\"M -3,-3 l 6,6 M -3,3 l 6,-6\" /><text class=\"lab rgt\" transform=\"translate(5 0)\">5</text></g><circle class=\"sym\" cx=\"0\" cy=\"0\" r=\"3\" /><text class=\"lab rgt\" transform=\"translate(3 -7.0)\">10</text></g><g class=\"a17 c2 m0 m1 m2 m3 m4 node n14 p0 s0\" transform=\"translate(-40.375 171.393)\"><g class=\"a14 c2 node n11 p0\" transform=\"translate(-28.5 13.9147)\"><g class=\"a11 i0 leaf node n0 p0 sample\" transform=\"translate(-14.25 9.29182)\"><path class=\"edge\" d=\"M 0 0 V -9.29182 H 14.25\" /><rect class=\"sym\" height=\"6\" width=\"6\" x=\"-3\" y=\"-3\" /><text class=\"lab\" transform=\"translate(0 11)\">0</text></g><g class=\"a11 c2 node n8 p0\" transform=\"translate(14.25 6.72814)\"><g class=\"a8 i2 leaf node n5 p0 sample\" transform=\"translate(-9.5 2.56368)\"><path class=\"edge\" d=\"M 0 0 V -2.56368 H 9.5\" /><rect class=\"sym\" height=\"6\" width=\"6\" x=\"-3\" y=\"-3\" /><text class=\"lab\" transform=\"translate(0 11)\">5</text></g><g class=\"a8 i3 leaf node n7 p0 sample\" transform=\"translate(9.5 2.56368)\"><path class=\"edge\" d=\"M 0 0 V -2.56368 H -9.5\" /><rect class=\"sym\" height=\"6\" width=\"6\" x=\"-3\" y=\"-3\" /><text class=\"lab\" transform=\"translate(0 11)\">7</text></g><path class=\"edge\" d=\"M 0 0 V -6.72814 H -14.25\" /><circle class=\"sym\" cx=\"0\" cy=\"0\" r=\"3\" /><text class=\"lab rgt\" transform=\"translate(3 -7.0)\">8</text></g><path class=\"edge\" d=\"M 0 0 V -13.9147 H 28.5\" /><circle class=\"sym\" cx=\"0\" cy=\"0\" r=\"3\" /><text class=\"lab lft\" transform=\"translate(-3 -7.0)\">11</text></g><g class=\"a14 c2 node n13 p0\" transform=\"translate(28.5 1.26635)\"><g class=\"a13 i0 leaf node n1 p0 sample\" transform=\"translate(-14.25 21.9402)\"><path class=\"edge\" d=\"M 0 0 V -21.9402 H 14.25\" /><rect class=\"sym\" height=\"6\" width=\"6\" x=\"-3\" y=\"-3\" /><text class=\"lab\" transform=\"translate(0 11)\">1</text></g><g class=\"a13 c2 node n12 p0\" transform=\"translate(14.25 5.21516)\"><g class=\"a12 i1 leaf node n2 p0 sample\" transform=\"translate(-9.5 16.7251)\"><path class=\"edge\" d=\"M 0 0 V -16.7251 H 9.5\" /><rect class=\"sym\" height=\"6\" width=\"6\" x=\"-3\" y=\"-3\" /><text class=\"lab\" transform=\"translate(0 11)\">2</text></g><g class=\"a12 i3 leaf m6 node n6 p0 s1 sample\" transform=\"translate(9.5 16.7251)\"><path class=\"edge\" d=\"M 0 0 V -16.7251 H -9.5\" /><g class=\"mut m6 s1\" transform=\"translate(0 -11.4603)\"><line x1=\"0\" x2=\"0\" y1=\"0\" y2=\"11.4603\" /><path class=\"sym\" d=\"M -3,-3 l 6,6 M -3,3 l 6,-6\" /><text class=\"lab rgt\" transform=\"translate(5 0)\">6</text></g><rect class=\"sym\" height=\"6\" width=\"6\" x=\"-3\" y=\"-3\" /><text class=\"lab\" transform=\"translate(0 11)\">6</text></g><path class=\"edge\" d=\"M 0 0 V -5.21516 H -14.25\" /><circle class=\"sym\" cx=\"0\" cy=\"0\" r=\"3\" /><text class=\"lab rgt\" transform=\"translate(3 -7.0)\">12</text></g><path class=\"edge\" d=\"M 0 0 V -1.26635 H -28.5\" /><circle class=\"sym\" cx=\"0\" cy=\"0\" r=\"3\" /><text class=\"lab rgt\" transform=\"translate(3 -7.0)\">13</text></g><path class=\"edge\" d=\"M 0 0 V -171.393 H 40.375\" /><g class=\"mut m0 s0\" transform=\"translate(0 -155.727)\"><line x1=\"0\" x2=\"0\" y1=\"0\" y2=\"155.727\" /><path class=\"sym\" d=\"M -3,-3 l 6,6 M -3,3 l 6,-6\" /><text class=\"lab lft\" transform=\"translate(-5 0)\">0</text></g><g class=\"mut m1 s0\" transform=\"translate(0 -135.277)\"><line x1=\"0\" x2=\"0\" y1=\"0\" y2=\"135.277\" /><path class=\"sym\" d=\"M -3,-3 l 6,6 M -3,3 l 6,-6\" /><text class=\"lab lft\" transform=\"translate(-5 0)\">1</text></g><g class=\"mut m2 s0\" transform=\"translate(0 -76.766)\"><line x1=\"0\" x2=\"0\" y1=\"0\" y2=\"76.766\" /><path class=\"sym\" d=\"M -3,-3 l 6,6 M -3,3 l 6,-6\" /><text class=\"lab lft\" transform=\"translate(-5 0)\">2</text></g><g class=\"mut m3 s0\" transform=\"translate(0 -50.3235)\"><line x1=\"0\" x2=\"0\" y1=\"0\" y2=\"50.3235\" /><path class=\"sym\" d=\"M -3,-3 l 6,6 M -3,3 l 6,-6\" /><text class=\"lab lft\" transform=\"translate(-5 0)\">3</text></g><g class=\"mut m4 s0\" transform=\"translate(0 -17.6923)\"><line x1=\"0\" x2=\"0\" y1=\"0\" y2=\"17.6923\" /><path class=\"sym\" d=\"M -3,-3 l 6,6 M -3,3 l 6,-6\" /><text class=\"lab lft\" transform=\"translate(-5 0)\">4</text></g><circle class=\"sym\" cx=\"0\" cy=\"0\" r=\"3\" /><text class=\"lab lft\" transform=\"translate(-3 -7.0)\">14</text></g><circle class=\"sym\" cx=\"0\" cy=\"0\" r=\"3\" /><text class=\"lab\" transform=\"translate(0 -11)\">17</text></g></g></g><g class=\"tree t2\" transform=\"translate(404 0)\"><g class=\"plotbox\"><g class=\"c2 node n15 p0 root\" transform=\"translate(112.625 102.55)\"><g class=\"a15 c2 m12 m14 node n10 p0 s4\" transform=\"translate(40.375 114.168)\"><g class=\"a10 i1 leaf node n3 p0 sample\" transform=\"translate(-9.5 4.68188)\"><path class=\"edge\" d=\"M 0 0 V -4.68188 H 9.5\" /><rect class=\"sym\" height=\"6\" width=\"6\" x=\"-3\" y=\"-3\" /><text class=\"lab\" transform=\"translate(0 11)\">3</text></g><g class=\"a10 i2 leaf node n4 p0 sample\" transform=\"translate(9.5 4.68188)\"><path class=\"edge\" d=\"M 0 0 V -4.68188 H -9.5\" /><rect class=\"sym\" height=\"6\" width=\"6\" x=\"-3\" y=\"-3\" /><text class=\"lab\" transform=\"translate(0 11)\">4</text></g><path class=\"edge\" d=\"M 0 0 V -114.168 H -40.375\" /><g class=\"mut m12 s4\" transform=\"translate(0 -91.4192)\"><line x1=\"0\" x2=\"0\" y1=\"0\" y2=\"91.4192\" /><path class=\"sym\" d=\"M -3,-3 l 6,6 M -3,3 l 6,-6\" /><text class=\"lab rgt\" transform=\"translate(5 0)\">12</text></g><g class=\"mut m14 s4\" transform=\"translate(0 -22.6168)\"><line x1=\"0\" x2=\"0\" y1=\"0\" y2=\"22.6168\" /><path class=\"sym\" d=\"M -3,-3 l 6,6 M -3,3 l 6,-6\" /><text class=\"lab rgt\" transform=\"translate(5 0)\">14</text></g><circle class=\"sym\" cx=\"0\" cy=\"0\" r=\"3\" /><text class=\"lab rgt\" transform=\"translate(3 -7.0)\">10</text></g><g class=\"a15 c2 m10 m11 m13 m8 node n14 p0 s2 s4\" transform=\"translate(-40.375 95.6431)\"><g class=\"a14 c2 node n11 p0\" transform=\"translate(-28.5 13.9147)\"><g class=\"a11 i0 leaf node n0 p0 sample\" transform=\"translate(-14.25 9.29182)\"><path class=\"edge\" d=\"M 0 0 V -9.29182 H 14.25\" /><rect class=\"sym\" height=\"6\" width=\"6\" x=\"-3\" y=\"-3\" /><text class=\"lab\" transform=\"translate(0 11)\">0</text></g><g class=\"a11 c2 node n8 p0\" transform=\"translate(14.25 6.72814)\"><g class=\"a8 i2 leaf node n5 p0 sample\" transform=\"translate(-9.5 2.56368)\"><path class=\"edge\" d=\"M 0 0 V -2.56368 H 9.5\" /><rect class=\"sym\" height=\"6\" width=\"6\" x=\"-3\" y=\"-3\" /><text class=\"lab\" transform=\"translate(0 11)\">5</text></g><g class=\"a8 i3 leaf node n7 p0 sample\" transform=\"translate(9.5 2.56368)\"><path class=\"edge\" d=\"M 0 0 V -2.56368 H -9.5\" /><rect class=\"sym\" height=\"6\" width=\"6\" x=\"-3\" y=\"-3\" /><text class=\"lab\" transform=\"translate(0 11)\">7</text></g><path class=\"edge\" d=\"M 0 0 V -6.72814 H -14.25\" /><circle class=\"sym\" cx=\"0\" cy=\"0\" r=\"3\" /><text class=\"lab rgt\" transform=\"translate(3 -7.0)\">8</text></g><path class=\"edge\" d=\"M 0 0 V -13.9147 H 28.5\" /><circle class=\"sym\" cx=\"0\" cy=\"0\" r=\"3\" /><text class=\"lab lft\" transform=\"translate(-3 -7.0)\">11</text></g><g class=\"a14 c2 node n13 p0\" transform=\"translate(28.5 1.26635)\"><g class=\"a13 i0 leaf m9 node n1 p0 s3 sample\" transform=\"translate(-14.25 21.9402)\"><path class=\"edge\" d=\"M 0 0 V -21.9402 H 14.25\" /><g class=\"mut m9 s3\" transform=\"translate(0 -19.2661)\"><line x1=\"0\" x2=\"0\" y1=\"0\" y2=\"19.2661\" /><path class=\"sym\" d=\"M -3,-3 l 6,6 M -3,3 l 6,-6\" /><text class=\"lab lft\" transform=\"translate(-5 0)\">9</text></g><rect class=\"sym\" height=\"6\" width=\"6\" x=\"-3\" y=\"-3\" /><text class=\"lab\" transform=\"translate(0 11)\">1</text></g><g class=\"a13 c2 node n12 p0\" transform=\"translate(14.25 5.21516)\"><g class=\"a12 i1 leaf node n2 p0 sample\" transform=\"translate(-9.5 16.7251)\"><path class=\"edge\" d=\"M 0 0 V -16.7251 H 9.5\" /><rect class=\"sym\" height=\"6\" width=\"6\" x=\"-3\" y=\"-3\" /><text class=\"lab\" transform=\"translate(0 11)\">2</text></g><g class=\"a12 i3 leaf node n6 p0 sample\" transform=\"translate(9.5 16.7251)\"><path class=\"edge\" d=\"M 0 0 V -16.7251 H -9.5\" /><rect class=\"sym\" height=\"6\" width=\"6\" x=\"-3\" y=\"-3\" /><text class=\"lab\" transform=\"translate(0 11)\">6</text></g><path class=\"edge\" d=\"M 0 0 V -5.21516 H -14.25\" /><circle class=\"sym\" cx=\"0\" cy=\"0\" r=\"3\" /><text class=\"lab rgt\" transform=\"translate(3 -7.0)\">12</text></g><path class=\"edge\" d=\"M 0 0 V -1.26635 H -28.5\" /><circle class=\"sym\" cx=\"0\" cy=\"0\" r=\"3\" /><text class=\"lab rgt\" transform=\"translate(3 -7.0)\">13</text></g><path class=\"edge\" d=\"M 0 0 V -95.6431 H 40.375\" /><g class=\"mut m10 s4\" transform=\"translate(0 -82.7332)\"><line x1=\"0\" x2=\"0\" y1=\"0\" y2=\"82.7332\" /><path class=\"sym\" d=\"M -3,-3 l 6,6 M -3,3 l 6,-6\" /><text class=\"lab lft\" transform=\"translate(-5 0)\">10</text></g><g class=\"mut m8 s2\" transform=\"translate(0 -79.3458)\"><line x1=\"0\" x2=\"0\" y1=\"0\" y2=\"79.3458\" /><path class=\"sym\" d=\"M -3,-3 l 6,6 M -3,3 l 6,-6\" /><text class=\"lab lft\" transform=\"translate(-5 0)\">8</text></g><g class=\"mut m11 s4\" transform=\"translate(0 -79.3021)\"><line x1=\"0\" x2=\"0\" y1=\"0\" y2=\"79.3021\" /><path class=\"sym\" d=\"M -3,-3 l 6,6 M -3,3 l 6,-6\" /><text class=\"lab lft\" transform=\"translate(-5 0)\">11</text></g><g class=\"mut m13 s4\" transform=\"translate(0 -49.5577)\"><line x1=\"0\" x2=\"0\" y1=\"0\" y2=\"49.5577\" /><path class=\"sym\" d=\"M -3,-3 l 6,6 M -3,3 l 6,-6\" /><text class=\"lab lft\" transform=\"translate(-5 0)\">13</text></g><circle class=\"sym\" cx=\"0\" cy=\"0\" r=\"3\" /><text class=\"lab lft\" transform=\"translate(-3 -7.0)\">14</text></g><circle class=\"sym\" cx=\"0\" cy=\"0\" r=\"3\" /><text class=\"lab\" transform=\"translate(0 -11)\">15</text></g></g></g><g class=\"tree t3\" transform=\"translate(596 0)\"><g class=\"plotbox\"><g class=\"c2 node n17 p0 root\" transform=\"translate(112.625 26.8)\"><g class=\"a17 c2 m15 m17 m18 node n10 p0 s5\" transform=\"translate(40.375 189.918)\"><g class=\"a10 i1 leaf node n3 p0 sample\" transform=\"translate(-9.5 4.68188)\"><path class=\"edge\" d=\"M 0 0 V -4.68188 H 9.5\" /><rect class=\"sym\" height=\"6\" width=\"6\" x=\"-3\" y=\"-3\" /><text class=\"lab\" transform=\"translate(0 11)\">3</text></g><g class=\"a10 i2 leaf node n4 p0 sample\" transform=\"translate(9.5 4.68188)\"><path class=\"edge\" d=\"M 0 0 V -4.68188 H -9.5\" /><rect class=\"sym\" height=\"6\" width=\"6\" x=\"-3\" y=\"-3\" /><text class=\"lab\" transform=\"translate(0 11)\">4</text></g><path class=\"edge\" d=\"M 0 0 V -189.918 H -40.375\" /><g class=\"mut m15 s5\" transform=\"translate(0 -142.466)\"><line x1=\"0\" x2=\"0\" y1=\"0\" y2=\"142.466\" /><path class=\"sym\" d=\"M -3,-3 l 6,6 M -3,3 l 6,-6\" /><text class=\"lab rgt\" transform=\"translate(5 0)\">15</text></g><g class=\"mut m17 s5\" transform=\"translate(0 -131.4)\"><line x1=\"0\" x2=\"0\" y1=\"0\" y2=\"131.4\" /><path class=\"sym\" d=\"M -3,-3 l 6,6 M -3,3 l 6,-6\" /><text class=\"lab rgt\" transform=\"translate(5 0)\">17</text></g><g class=\"mut m18 s5\" transform=\"translate(0 -130.379)\"><line x1=\"0\" x2=\"0\" y1=\"0\" y2=\"130.379\" /><path class=\"sym\" d=\"M -3,-3 l 6,6 M -3,3 l 6,-6\" /><text class=\"lab rgt\" transform=\"translate(5 0)\">18</text></g><circle class=\"sym\" cx=\"0\" cy=\"0\" r=\"3\" /><text class=\"lab rgt\" transform=\"translate(3 -7.0)\">10</text></g><g class=\"a17 c2 m16 node n14 p0 s5\" transform=\"translate(-40.375 171.393)\"><g class=\"a14 c2 node n11 p0\" transform=\"translate(-28.5 13.9147)\"><g class=\"a11 i0 leaf node n0 p0 sample\" transform=\"translate(-14.25 9.29182)\"><path class=\"edge\" d=\"M 0 0 V -9.29182 H 14.25\" /><rect class=\"sym\" height=\"6\" width=\"6\" x=\"-3\" y=\"-3\" /><text class=\"lab\" transform=\"translate(0 11)\">0</text></g><g class=\"a11 c2 node n8 p0\" transform=\"translate(14.25 6.72814)\"><g class=\"a8 i2 leaf node n5 p0 sample\" transform=\"translate(-9.5 2.56368)\"><path class=\"edge\" d=\"M 0 0 V -2.56368 H 9.5\" /><rect class=\"sym\" height=\"6\" width=\"6\" x=\"-3\" y=\"-3\" /><text class=\"lab\" transform=\"translate(0 11)\">5</text></g><g class=\"a8 i3 leaf node n7 p0 sample\" transform=\"translate(9.5 2.56368)\"><path class=\"edge\" d=\"M 0 0 V -2.56368 H -9.5\" /><rect class=\"sym\" height=\"6\" width=\"6\" x=\"-3\" y=\"-3\" /><text class=\"lab\" transform=\"translate(0 11)\">7</text></g><path class=\"edge\" d=\"M 0 0 V -6.72814 H -14.25\" /><circle class=\"sym\" cx=\"0\" cy=\"0\" r=\"3\" /><text class=\"lab rgt\" transform=\"translate(3 -7.0)\">8</text></g><path class=\"edge\" d=\"M 0 0 V -13.9147 H 28.5\" /><circle class=\"sym\" cx=\"0\" cy=\"0\" r=\"3\" /><text class=\"lab lft\" transform=\"translate(-3 -7.0)\">11</text></g><g class=\"a14 c2 node n13 p0\" transform=\"translate(28.5 1.26635)\"><g class=\"a13 i0 leaf node n1 p0 sample\" transform=\"translate(-14.25 21.9402)\"><path class=\"edge\" d=\"M 0 0 V -21.9402 H 14.25\" /><rect class=\"sym\" height=\"6\" width=\"6\" x=\"-3\" y=\"-3\" /><text class=\"lab\" transform=\"translate(0 11)\">1</text></g><g class=\"a13 c2 node n12 p0\" transform=\"translate(14.25 5.21516)\"><g class=\"a12 i1 leaf m19 node n2 p0 s5 sample\" transform=\"translate(-9.5 16.7251)\"><path class=\"edge\" d=\"M 0 0 V -16.7251 H 9.5\" /><g class=\"mut m19 s5\" transform=\"translate(0 -9.01174)\"><line x1=\"0\" x2=\"0\" y1=\"0\" y2=\"9.01174\" /><path class=\"sym\" d=\"M -3,-3 l 6,6 M -3,3 l 6,-6\" /><text class=\"lab lft\" transform=\"translate(-5 0)\">19</text></g><rect class=\"sym\" height=\"6\" width=\"6\" x=\"-3\" y=\"-3\" /><text class=\"lab\" transform=\"translate(0 11)\">2</text></g><g class=\"a12 i3 leaf node n6 p0 sample\" transform=\"translate(9.5 16.7251)\"><path class=\"edge\" d=\"M 0 0 V -16.7251 H -9.5\" /><rect class=\"sym\" height=\"6\" width=\"6\" x=\"-3\" y=\"-3\" /><text class=\"lab\" transform=\"translate(0 11)\">6</text></g><path class=\"edge\" d=\"M 0 0 V -5.21516 H -14.25\" /><circle class=\"sym\" cx=\"0\" cy=\"0\" r=\"3\" /><text class=\"lab rgt\" transform=\"translate(3 -7.0)\">12</text></g><path class=\"edge\" d=\"M 0 0 V -1.26635 H -28.5\" /><circle class=\"sym\" cx=\"0\" cy=\"0\" r=\"3\" /><text class=\"lab rgt\" transform=\"translate(3 -7.0)\">13</text></g><path class=\"edge\" d=\"M 0 0 V -171.393 H 40.375\" /><g class=\"mut m16 s5\" transform=\"translate(0 -116.348)\"><line x1=\"0\" x2=\"0\" y1=\"0\" y2=\"116.348\" /><path class=\"sym\" d=\"M -3,-3 l 6,6 M -3,3 l 6,-6\" /><text class=\"lab lft\" transform=\"translate(-5 0)\">16</text></g><circle class=\"sym\" cx=\"0\" cy=\"0\" r=\"3\" /><text class=\"lab lft\" transform=\"translate(-3 -7.0)\">14</text></g><circle class=\"sym\" cx=\"0\" cy=\"0\" r=\"3\" /><text class=\"lab\" transform=\"translate(0 -11)\">17</text></g></g></g><g class=\"tree t4\" transform=\"translate(788 0)\"><g class=\"plotbox\"><g class=\"c2 node n17 p0 root\" transform=\"translate(116.781 26.8)\"><g class=\"a17 c2 m20 m21 m23 node n10 p0 s6 s8\" transform=\"translate(36.2188 189.918)\"><g class=\"a10 i1 leaf node n3 p0 sample\" transform=\"translate(-9.5 4.68188)\"><path class=\"edge\" d=\"M 0 0 V -4.68188 H 9.5\" /><rect class=\"sym\" height=\"6\" width=\"6\" x=\"-3\" y=\"-3\" /><text class=\"lab\" transform=\"translate(0 11)\">3</text></g><g class=\"a10 i2 leaf node n4 p0 sample\" transform=\"translate(9.5 4.68188)\"><path class=\"edge\" d=\"M 0 0 V -4.68188 H -9.5\" /><rect class=\"sym\" height=\"6\" width=\"6\" x=\"-3\" y=\"-3\" /><text class=\"lab\" transform=\"translate(0 11)\">4</text></g><path class=\"edge\" d=\"M 0 0 V -189.918 H -36.2188\" /><g class=\"mut m23 s8\" transform=\"translate(0 -158.511)\"><line x1=\"0\" x2=\"0\" y1=\"0\" y2=\"158.511\" /><path class=\"sym\" d=\"M -3,-3 l 6,6 M -3,3 l 6,-6\" /><text class=\"lab rgt\" transform=\"translate(5 0)\">23</text></g><g class=\"mut m20 s6\" transform=\"translate(0 -59.9221)\"><line x1=\"0\" x2=\"0\" y1=\"0\" y2=\"59.9221\" /><path class=\"sym\" d=\"M -3,-3 l 6,6 M -3,3 l 6,-6\" /><text class=\"lab rgt\" transform=\"translate(5 0)\">20</text></g><g class=\"mut m21 s6\" transform=\"translate(0 -3.47328)\"><line x1=\"0\" x2=\"0\" y1=\"0\" y2=\"3.47328\" /><path class=\"sym\" d=\"M -3,-3 l 6,6 M -3,3 l 6,-6\" /><text class=\"lab rgt\" transform=\"translate(5 0)\">21</text></g><circle class=\"sym\" cx=\"0\" cy=\"0\" r=\"3\" /><text class=\"lab rgt\" transform=\"translate(3 -7.0)\">10</text></g><g class=\"a17 c2 m22 m24 node n14 p0 s7 s8\" transform=\"translate(-36.2188 171.393)\"><g class=\"a14 c2 m25 node n11 p0 s8\" transform=\"translate(-34.4375 13.9147)\"><g class=\"a11 i0 leaf node n0 p0 sample\" transform=\"translate(-16.625 9.29182)\"><path class=\"edge\" d=\"M 0 0 V -9.29182 H 16.625\" /><rect class=\"sym\" height=\"6\" width=\"6\" x=\"-3\" y=\"-3\" /><text class=\"lab\" transform=\"translate(0 11)\">0</text></g><g class=\"a11 c2 node n9 p0\" transform=\"translate(16.625 5.9527)\"><g class=\"a9 i1 leaf node n2 p0 sample\" transform=\"translate(-14.25 3.33913)\"><path class=\"edge\" d=\"M 0 0 V -3.33913 H 14.25\" /><rect class=\"sym\" height=\"6\" width=\"6\" x=\"-3\" y=\"-3\" /><text class=\"lab\" transform=\"translate(0 11)\">2</text></g><g class=\"a9 c2 node n8 p0\" transform=\"translate(14.25 0.775446)\"><g class=\"a8 i2 leaf node n5 p0 sample\" transform=\"translate(-9.5 2.56368)\"><path class=\"edge\" d=\"M 0 0 V -2.56368 H 9.5\" /><rect class=\"sym\" height=\"6\" width=\"6\" x=\"-3\" y=\"-3\" /><text class=\"lab\" transform=\"translate(0 11)\">5</text></g><g class=\"a8 i3 leaf m26 node n7 p0 s8 sample\" transform=\"translate(9.5 2.56368)\"><path class=\"edge\" d=\"M 0 0 V -2.56368 H -9.5\" /><g class=\"mut m26 s8\" transform=\"translate(0 -0.000293237)\"><line x1=\"0\" x2=\"0\" y1=\"0\" y2=\"0.000293237\" /><path class=\"sym\" d=\"M -3,-3 l 6,6 M -3,3 l 6,-6\" /><text class=\"lab rgt\" transform=\"translate(5 0)\">26</text></g><rect class=\"sym\" height=\"6\" width=\"6\" x=\"-3\" y=\"-3\" /><text class=\"lab\" transform=\"translate(0 11)\">7</text></g><path class=\"edge\" d=\"M 0 0 V -0.775446 H -14.25\" /><circle class=\"sym\" cx=\"0\" cy=\"0\" r=\"3\" /><text class=\"lab rgt\" transform=\"translate(3 -7.0)\">8</text></g><path class=\"edge\" d=\"M 0 0 V -5.9527 H -16.625\" /><circle class=\"sym\" cx=\"0\" cy=\"0\" r=\"3\" /><text class=\"lab rgt\" transform=\"translate(3 -7.0)\">9</text></g><path class=\"edge\" d=\"M 0 0 V -13.9147 H 34.4375\" /><g class=\"mut m25 s8\" transform=\"translate(0 -5.80669)\"><line x1=\"0\" x2=\"0\" y1=\"0\" y2=\"5.80669\" /><path class=\"sym\" d=\"M -3,-3 l 6,6 M -3,3 l 6,-6\" /><text class=\"lab lft\" transform=\"translate(-5 0)\">25</text></g><circle class=\"sym\" cx=\"0\" cy=\"0\" r=\"3\" /><text class=\"lab lft\" transform=\"translate(-3 -7.0)\">11</text></g><g class=\"a14 c2 node n13 p0\" transform=\"translate(34.4375 1.26635)\"><g class=\"a13 i0 leaf node n1 p0 sample\" transform=\"translate(-9.5 21.9402)\"><path class=\"edge\" d=\"M 0 0 V -21.9402 H 9.5\" /><rect class=\"sym\" height=\"6\" width=\"6\" x=\"-3\" y=\"-3\" /><text class=\"lab\" transform=\"translate(0 11)\">1</text></g><g class=\"a13 i3 leaf node n6 p0 sample\" transform=\"translate(9.5 21.9402)\"><path class=\"edge\" d=\"M 0 0 V -21.9402 H -9.5\" /><rect class=\"sym\" height=\"6\" width=\"6\" x=\"-3\" y=\"-3\" /><text class=\"lab\" transform=\"translate(0 11)\">6</text></g><path class=\"edge\" d=\"M 0 0 V -1.26635 H -34.4375\" /><circle class=\"sym\" cx=\"0\" cy=\"0\" r=\"3\" /><text class=\"lab rgt\" transform=\"translate(3 -7.0)\">13</text></g><path class=\"edge\" d=\"M 0 0 V -171.393 H 36.2188\" /><g class=\"mut m24 s8\" transform=\"translate(0 -36.2717)\"><line x1=\"0\" x2=\"0\" y1=\"0\" y2=\"36.2717\" /><path class=\"sym\" d=\"M -3,-3 l 6,6 M -3,3 l 6,-6\" /><text class=\"lab lft\" transform=\"translate(-5 0)\">24</text></g><g class=\"mut m22 s7\" transform=\"translate(0 -3.31937)\"><line x1=\"0\" x2=\"0\" y1=\"0\" y2=\"3.31937\" /><path class=\"sym\" d=\"M -3,-3 l 6,6 M -3,3 l 6,-6\" /><text class=\"lab lft\" transform=\"translate(-5 0)\">22</text></g><circle class=\"sym\" cx=\"0\" cy=\"0\" r=\"3\" /><text class=\"lab lft\" transform=\"translate(-3 -7.0)\">14</text></g><circle class=\"sym\" cx=\"0\" cy=\"0\" r=\"3\" /><text class=\"lab\" transform=\"translate(0 -11)\">17</text></g></g></g></g></g></svg>"
      ],
      "text/plain": [
       "'<svg baseProfile=\"full\" height=\"300\" version=\"1.1\" width=\"1000\" xmlns=\"http://www.w3.org/2000/svg\" xmlns:ev=\"http://www.w3.org/2001/xml-events\" xmlns:xlink=\"http://www.w3.org/1999/xlink\"><defs><style type=\"text/css\"><![CDATA[.background path {fill: #808080; fill-opacity: 0}.background path:nth-child(odd) {fill-opacity: .1}.axes {font-size: 14px}.x-axis .tick .lab {font-weight: bold; dominant-baseline: hanging}.axes, .tree {font-size: 14px; text-anchor: middle}.axes line, .edge {stroke: black; fill: none}.y-axis .grid {stroke: #FAFAFA}.node > .sym {fill: black; stroke: none}.site > .sym {stroke: black}.mut text {fill: red; font-style: italic}.mut.extra text {fill: hotpink}.mut line {fill: none; stroke: none}.mut .sym {fill: none; stroke: red}.mut.extra .sym {stroke: hotpink}.node .mut .sym {stroke-width: 1.5px}.tree text, .tree-sequence text {dominant-baseline: central}.plotbox .lab.lft {text-anchor: end}.plotbox .lab.rgt {text-anchor: start}]]></style></defs><g class=\"tree-sequence\"><g class=\"background\"><path d=\"M20,0 l192,0 l0,238.2 l-96,25 l0,5 l-96,0 l0,-5 l0,-25 l0,-238.2z\" /><path d=\"M212,0 l192,0 l0,238.2 l-96,25 l0,5 l-192,0 l0,-5 l96,-25 l0,-238.2z\" /><path d=\"M404,0 l192,0 l0,238.2 l0,25 l0,5 l-288,0 l0,-5 l96,-25 l0,-238.2z\" /><path d=\"M596,0 l192,0 l0,238.2 l-96,25 l0,5 l-96,0 l0,-5 l0,-25 l0,-238.2z\" /><path d=\"M788,0 l192,0 l0,238.2 l0,25 l0,5 l-288,0 l0,-5 l96,-25 l0,-238.2z\" /></g><g class=\"axes\"><g class=\"x-axis\"><g transform=\"translate(500 300)\"><text class=\"lab\" text-anchor=\"middle\" transform=\"translate(0 -11)\">Genome position</text></g><line x1=\"20\" x2=\"980\" y1=\"263.2\" y2=\"263.2\" /><g class=\"ticks\"><g class=\"tick\" transform=\"translate(20 263.2)\"><line x1=\"0\" x2=\"0\" y1=\"0\" y2=\"5\" /><g transform=\"translate(0 6)\"><text class=\"lab\">0</text></g></g><g class=\"tick\" transform=\"translate(116 263.2)\"><line x1=\"0\" x2=\"0\" y1=\"0\" y2=\"5\" /><g transform=\"translate(0 6)\"><text class=\"lab\">1</text></g></g><g class=\"tick\" transform=\"translate(308 263.2)\"><line x1=\"0\" x2=\"0\" y1=\"0\" y2=\"5\" /><g transform=\"translate(0 6)\"><text class=\"lab\">3</text></g></g><g class=\"tick\" transform=\"translate(596 263.2)\"><line x1=\"0\" x2=\"0\" y1=\"0\" y2=\"5\" /><g transform=\"translate(0 6)\"><text class=\"lab\">6</text></g></g><g class=\"tick\" transform=\"translate(692 263.2)\"><line x1=\"0\" x2=\"0\" y1=\"0\" y2=\"5\" /><g transform=\"translate(0 6)\"><text class=\"lab\">7</text></g></g><g class=\"tick\" transform=\"translate(980 263.2)\"><line x1=\"0\" x2=\"0\" y1=\"0\" y2=\"5\" /><g transform=\"translate(0 6)\"><text class=\"lab\">10</text></g></g></g><g class=\"site s0\" transform=\"translate(116 263.2)\"><line class=\"sym\" x1=\"0\" x2=\"0\" y1=\"0\" y2=\"-10\" /><g class=\"mut m4\"><polyline class=\"sym\" points=\"2.5,-6.5 0,-1.5 -2.5,-6.5\" /></g><g class=\"mut m3\"><polyline class=\"sym\" points=\"2.5,-10.5 0,-5.5 -2.5,-10.5\" /></g><g class=\"mut m2\"><polyline class=\"sym\" points=\"2.5,-14.5 0,-9.5 -2.5,-14.5\" /></g><g class=\"mut m1\"><polyline class=\"sym\" points=\"2.5,-18.5 0,-13.5 -2.5,-18.5\" /></g><g class=\"mut m0\"><polyline class=\"sym\" points=\"2.5,-22.5 0,-17.5 -2.5,-22.5\" /></g></g><g class=\"site s1\" transform=\"translate(212 263.2)\"><line class=\"sym\" x1=\"0\" x2=\"0\" y1=\"0\" y2=\"-10\" /><g class=\"mut m7\"><polyline class=\"sym\" points=\"2.5,-6.5 0,-1.5 -2.5,-6.5\" /></g><g class=\"mut m6\"><polyline class=\"sym\" points=\"2.5,-10.5 0,-5.5 -2.5,-10.5\" /></g><g class=\"mut m5\"><polyline class=\"sym\" points=\"2.5,-14.5 0,-9.5 -2.5,-14.5\" /></g></g><g class=\"site s2\" transform=\"translate(308 263.2)\"><line class=\"sym\" x1=\"0\" x2=\"0\" y1=\"0\" y2=\"-10\" /><g class=\"mut m8\"><polyline class=\"sym\" points=\"2.5,-6.5 0,-1.5 -2.5,-6.5\" /></g></g><g class=\"site s3\" transform=\"translate(404 263.2)\"><line class=\"sym\" x1=\"0\" x2=\"0\" y1=\"0\" y2=\"-10\" /><g class=\"mut m9\"><polyline class=\"sym\" points=\"2.5,-6.5 0,-1.5 -2.5,-6.5\" /></g></g><g class=\"site s4\" transform=\"translate(500 263.2)\"><line class=\"sym\" x1=\"0\" x2=\"0\" y1=\"0\" y2=\"-10\" /><g class=\"mut m14\"><polyline class=\"sym\" points=\"2.5,-6.5 0,-1.5 -2.5,-6.5\" /></g><g class=\"mut m13\"><polyline class=\"sym\" points=\"2.5,-10.5 0,-5.5 -2.5,-10.5\" /></g><g class=\"mut m12\"><polyline class=\"sym\" points=\"2.5,-14.5 0,-9.5 -2.5,-14.5\" /></g><g class=\"mut m11\"><polyline class=\"sym\" points=\"2.5,-18.5 0,-13.5 -2.5,-18.5\" /></g><g class=\"mut m10\"><polyline class=\"sym\" points=\"2.5,-22.5 0,-17.5 -2.5,-22.5\" /></g></g><g class=\"site s5\" transform=\"translate(596 263.2)\"><line class=\"sym\" x1=\"0\" x2=\"0\" y1=\"0\" y2=\"-10\" /><g class=\"mut m19\"><polyline class=\"sym\" points=\"2.5,-6.5 0,-1.5 -2.5,-6.5\" /></g><g class=\"mut m18\"><polyline class=\"sym\" points=\"2.5,-10.5 0,-5.5 -2.5,-10.5\" /></g><g class=\"mut m17\"><polyline class=\"sym\" points=\"2.5,-14.5 0,-9.5 -2.5,-14.5\" /></g><g class=\"mut m16\"><polyline class=\"sym\" points=\"2.5,-18.5 0,-13.5 -2.5,-18.5\" /></g><g class=\"mut m15\"><polyline class=\"sym\" points=\"2.5,-22.5 0,-17.5 -2.5,-22.5\" /></g></g><g class=\"site s6\" transform=\"translate(692 263.2)\"><line class=\"sym\" x1=\"0\" x2=\"0\" y1=\"0\" y2=\"-10\" /><g class=\"mut m21\"><polyline class=\"sym\" points=\"2.5,-6.5 0,-1.5 -2.5,-6.5\" /></g><g class=\"mut m20\"><polyline class=\"sym\" points=\"2.5,-10.5 0,-5.5 -2.5,-10.5\" /></g></g><g class=\"site s7\" transform=\"translate(788 263.2)\"><line class=\"sym\" x1=\"0\" x2=\"0\" y1=\"0\" y2=\"-10\" /><g class=\"mut m22\"><polyline class=\"sym\" points=\"2.5,-6.5 0,-1.5 -2.5,-6.5\" /></g></g><g class=\"site s8\" transform=\"translate(884 263.2)\"><line class=\"sym\" x1=\"0\" x2=\"0\" y1=\"0\" y2=\"-10\" /><g class=\"mut m26\"><polyline class=\"sym\" points=\"2.5,-6.5 0,-1.5 -2.5,-6.5\" /></g><g class=\"mut m25\"><polyline class=\"sym\" points=\"2.5,-10.5 0,-5.5 -2.5,-10.5\" /></g><g class=\"mut m24\"><polyline class=\"sym\" points=\"2.5,-14.5 0,-9.5 -2.5,-14.5\" /></g><g class=\"mut m23\"><polyline class=\"sym\" points=\"2.5,-18.5 0,-13.5 -2.5,-18.5\" /></g></g></g></g><g class=\"plotbox trees\"><g class=\"tree t0\" transform=\"translate(20 0)\"><g class=\"plotbox\"><g class=\"c2 node n16 p0 root\" transform=\"translate(112.625 49.4506)\"><g class=\"a16 c2 node n10 p0\" transform=\"translate(40.375 167.267)\"><g class=\"a10 i1 leaf node n3 p0 sample\" transform=\"translate(-9.5 4.68188)\"><path class=\"edge\" d=\"M 0 0 V -4.68188 H 9.5\" /><rect class=\"sym\" height=\"6\" width=\"6\" x=\"-3\" y=\"-3\" /><text class=\"lab\" transform=\"translate(0 11)\">3</text></g><g class=\"a10 i2 leaf node n4 p0 sample\" transform=\"translate(9.5 4.68188)\"><path class=\"edge\" d=\"M 0 0 V -4.68188 H -9.5\" /><rect class=\"sym\" height=\"6\" width=\"6\" x=\"-3\" y=\"-3\" /><text class=\"lab\" transform=\"translate(0 11)\">4</text></g><path class=\"edge\" d=\"M 0 0 V -167.267 H -40.375\" /><circle class=\"sym\" cx=\"0\" cy=\"0\" r=\"3\" /><text class=\"lab rgt\" transform=\"translate(3 -7.0)\">10</text></g><g class=\"a16 c2 node n14 p0\" transform=\"translate(-40.375 148.743)\"><g class=\"a14 c2 node n11 p0\" transform=\"translate(-28.5 13.9147)\"><g class=\"a11 i0 leaf node n0 p0 sample\" transform=\"translate(-14.25 9.29182)\"><path class=\"edge\" d=\"M 0 0 V -9.29182 H 14.25\" /><rect class=\"sym\" height=\"6\" width=\"6\" x=\"-3\" y=\"-3\" /><text class=\"lab\" transform=\"translate(0 11)\">0</text></g><g class=\"a11 c2 node n8 p0\" transform=\"translate(14.25 6.72814)\"><g class=\"a8 i2 leaf node n5 p0 sample\" transform=\"translate(-9.5 2.56368)\"><path class=\"edge\" d=\"M 0 0 V -2.56368 H 9.5\" /><rect class=\"sym\" height=\"6\" width=\"6\" x=\"-3\" y=\"-3\" /><text class=\"lab\" transform=\"translate(0 11)\">5</text></g><g class=\"a8 i3 leaf node n7 p0 sample\" transform=\"translate(9.5 2.56368)\"><path class=\"edge\" d=\"M 0 0 V -2.56368 H -9.5\" /><rect class=\"sym\" height=\"6\" width=\"6\" x=\"-3\" y=\"-3\" /><text class=\"lab\" transform=\"translate(0 11)\">7</text></g><path class=\"edge\" d=\"M 0 0 V -6.72814 H -14.25\" /><circle class=\"sym\" cx=\"0\" cy=\"0\" r=\"3\" /><text class=\"lab rgt\" transform=\"translate(3 -7.0)\">8</text></g><path class=\"edge\" d=\"M 0 0 V -13.9147 H 28.5\" /><circle class=\"sym\" cx=\"0\" cy=\"0\" r=\"3\" /><text class=\"lab lft\" transform=\"translate(-3 -7.0)\">11</text></g><g class=\"a14 c2 node n13 p0\" transform=\"translate(28.5 1.26635)\"><g class=\"a13 i0 leaf node n1 p0 sample\" transform=\"translate(-14.25 21.9402)\"><path class=\"edge\" d=\"M 0 0 V -21.9402 H 14.25\" /><rect class=\"sym\" height=\"6\" width=\"6\" x=\"-3\" y=\"-3\" /><text class=\"lab\" transform=\"translate(0 11)\">1</text></g><g class=\"a13 c2 node n12 p0\" transform=\"translate(14.25 5.21516)\"><g class=\"a12 i1 leaf node n2 p0 sample\" transform=\"translate(-9.5 16.7251)\"><path class=\"edge\" d=\"M 0 0 V -16.7251 H 9.5\" /><rect class=\"sym\" height=\"6\" width=\"6\" x=\"-3\" y=\"-3\" /><text class=\"lab\" transform=\"translate(0 11)\">2</text></g><g class=\"a12 i3 leaf node n6 p0 sample\" transform=\"translate(9.5 16.7251)\"><path class=\"edge\" d=\"M 0 0 V -16.7251 H -9.5\" /><rect class=\"sym\" height=\"6\" width=\"6\" x=\"-3\" y=\"-3\" /><text class=\"lab\" transform=\"translate(0 11)\">6</text></g><path class=\"edge\" d=\"M 0 0 V -5.21516 H -14.25\" /><circle class=\"sym\" cx=\"0\" cy=\"0\" r=\"3\" /><text class=\"lab rgt\" transform=\"translate(3 -7.0)\">12</text></g><path class=\"edge\" d=\"M 0 0 V -1.26635 H -28.5\" /><circle class=\"sym\" cx=\"0\" cy=\"0\" r=\"3\" /><text class=\"lab rgt\" transform=\"translate(3 -7.0)\">13</text></g><path class=\"edge\" d=\"M 0 0 V -148.743 H 40.375\" /><circle class=\"sym\" cx=\"0\" cy=\"0\" r=\"3\" /><text class=\"lab lft\" transform=\"translate(-3 -7.0)\">14</text></g><circle class=\"sym\" cx=\"0\" cy=\"0\" r=\"3\" /><text class=\"lab\" transform=\"translate(0 -11)\">16</text></g></g></g><g class=\"tree t1\" transform=\"translate(212 0)\"><g class=\"plotbox\"><g class=\"c2 node n17 p0 root\" transform=\"translate(112.625 26.8)\"><g class=\"a17 c2 m5 node n10 p0 s1\" transform=\"translate(40.375 189.918)\"><g class=\"a10 i1 leaf m7 node n3 p0 s1 sample\" transform=\"translate(-9.5 4.68188)\"><path class=\"edge\" d=\"M 0 0 V -4.68188 H 9.5\" /><g class=\"mut m7 s1\" transform=\"translate(0 -0.432318)\"><line x1=\"0\" x2=\"0\" y1=\"0\" y2=\"0.432318\" /><path class=\"sym\" d=\"M -3,-3 l 6,6 M -3,3 l 6,-6\" /><text class=\"lab lft\" transform=\"translate(-5 0)\">7</text></g><rect class=\"sym\" height=\"6\" width=\"6\" x=\"-3\" y=\"-3\" /><text class=\"lab\" transform=\"translate(0 11)\">3</text></g><g class=\"a10 i2 leaf node n4 p0 sample\" transform=\"translate(9.5 4.68188)\"><path class=\"edge\" d=\"M 0 0 V -4.68188 H -9.5\" /><rect class=\"sym\" height=\"6\" width=\"6\" x=\"-3\" y=\"-3\" /><text class=\"lab\" transform=\"translate(0 11)\">4</text></g><path class=\"edge\" d=\"M 0 0 V -189.918 H -40.375\" /><g class=\"mut m5 s1\" transform=\"translate(0 -127.345)\"><line x1=\"0\" x2=\"0\" y1=\"0\" y2=\"127.345\" /><path class=\"sym\" d=\"M -3,-3 l 6,6 M -3,3 l 6,-6\" /><text class=\"lab rgt\" transform=\"translate(5 0)\">5</text></g><circle class=\"sym\" cx=\"0\" cy=\"0\" r=\"3\" /><text class=\"lab rgt\" transform=\"translate(3 -7.0)\">10</text></g><g class=\"a17 c2 m0 m1 m2 m3 m4 node n14 p0 s0\" transform=\"translate(-40.375 171.393)\"><g class=\"a14 c2 node n11 p0\" transform=\"translate(-28.5 13.9147)\"><g class=\"a11 i0 leaf node n0 p0 sample\" transform=\"translate(-14.25 9.29182)\"><path class=\"edge\" d=\"M 0 0 V -9.29182 H 14.25\" /><rect class=\"sym\" height=\"6\" width=\"6\" x=\"-3\" y=\"-3\" /><text class=\"lab\" transform=\"translate(0 11)\">0</text></g><g class=\"a11 c2 node n8 p0\" transform=\"translate(14.25 6.72814)\"><g class=\"a8 i2 leaf node n5 p0 sample\" transform=\"translate(-9.5 2.56368)\"><path class=\"edge\" d=\"M 0 0 V -2.56368 H 9.5\" /><rect class=\"sym\" height=\"6\" width=\"6\" x=\"-3\" y=\"-3\" /><text class=\"lab\" transform=\"translate(0 11)\">5</text></g><g class=\"a8 i3 leaf node n7 p0 sample\" transform=\"translate(9.5 2.56368)\"><path class=\"edge\" d=\"M 0 0 V -2.56368 H -9.5\" /><rect class=\"sym\" height=\"6\" width=\"6\" x=\"-3\" y=\"-3\" /><text class=\"lab\" transform=\"translate(0 11)\">7</text></g><path class=\"edge\" d=\"M 0 0 V -6.72814 H -14.25\" /><circle class=\"sym\" cx=\"0\" cy=\"0\" r=\"3\" /><text class=\"lab rgt\" transform=\"translate(3 -7.0)\">8</text></g><path class=\"edge\" d=\"M 0 0 V -13.9147 H 28.5\" /><circle class=\"sym\" cx=\"0\" cy=\"0\" r=\"3\" /><text class=\"lab lft\" transform=\"translate(-3 -7.0)\">11</text></g><g class=\"a14 c2 node n13 p0\" transform=\"translate(28.5 1.26635)\"><g class=\"a13 i0 leaf node n1 p0 sample\" transform=\"translate(-14.25 21.9402)\"><path class=\"edge\" d=\"M 0 0 V -21.9402 H 14.25\" /><rect class=\"sym\" height=\"6\" width=\"6\" x=\"-3\" y=\"-3\" /><text class=\"lab\" transform=\"translate(0 11)\">1</text></g><g class=\"a13 c2 node n12 p0\" transform=\"translate(14.25 5.21516)\"><g class=\"a12 i1 leaf node n2 p0 sample\" transform=\"translate(-9.5 16.7251)\"><path class=\"edge\" d=\"M 0 0 V -16.7251 H 9.5\" /><rect class=\"sym\" height=\"6\" width=\"6\" x=\"-3\" y=\"-3\" /><text class=\"lab\" transform=\"translate(0 11)\">2</text></g><g class=\"a12 i3 leaf m6 node n6 p0 s1 sample\" transform=\"translate(9.5 16.7251)\"><path class=\"edge\" d=\"M 0 0 V -16.7251 H -9.5\" /><g class=\"mut m6 s1\" transform=\"translate(0 -11.4603)\"><line x1=\"0\" x2=\"0\" y1=\"0\" y2=\"11.4603\" /><path class=\"sym\" d=\"M -3,-3 l 6,6 M -3,3 l 6,-6\" /><text class=\"lab rgt\" transform=\"translate(5 0)\">6</text></g><rect class=\"sym\" height=\"6\" width=\"6\" x=\"-3\" y=\"-3\" /><text class=\"lab\" transform=\"translate(0 11)\">6</text></g><path class=\"edge\" d=\"M 0 0 V -5.21516 H -14.25\" /><circle class=\"sym\" cx=\"0\" cy=\"0\" r=\"3\" /><text class=\"lab rgt\" transform=\"translate(3 -7.0)\">12</text></g><path class=\"edge\" d=\"M 0 0 V -1.26635 H -28.5\" /><circle class=\"sym\" cx=\"0\" cy=\"0\" r=\"3\" /><text class=\"lab rgt\" transform=\"translate(3 -7.0)\">13</text></g><path class=\"edge\" d=\"M 0 0 V -171.393 H 40.375\" /><g class=\"mut m0 s0\" transform=\"translate(0 -155.727)\"><line x1=\"0\" x2=\"0\" y1=\"0\" y2=\"155.727\" /><path class=\"sym\" d=\"M -3,-3 l 6,6 M -3,3 l 6,-6\" /><text class=\"lab lft\" transform=\"translate(-5 0)\">0</text></g><g class=\"mut m1 s0\" transform=\"translate(0 -135.277)\"><line x1=\"0\" x2=\"0\" y1=\"0\" y2=\"135.277\" /><path class=\"sym\" d=\"M -3,-3 l 6,6 M -3,3 l 6,-6\" /><text class=\"lab lft\" transform=\"translate(-5 0)\">1</text></g><g class=\"mut m2 s0\" transform=\"translate(0 -76.766)\"><line x1=\"0\" x2=\"0\" y1=\"0\" y2=\"76.766\" /><path class=\"sym\" d=\"M -3,-3 l 6,6 M -3,3 l 6,-6\" /><text class=\"lab lft\" transform=\"translate(-5 0)\">2</text></g><g class=\"mut m3 s0\" transform=\"translate(0 -50.3235)\"><line x1=\"0\" x2=\"0\" y1=\"0\" y2=\"50.3235\" /><path class=\"sym\" d=\"M -3,-3 l 6,6 M -3,3 l 6,-6\" /><text class=\"lab lft\" transform=\"translate(-5 0)\">3</text></g><g class=\"mut m4 s0\" transform=\"translate(0 -17.6923)\"><line x1=\"0\" x2=\"0\" y1=\"0\" y2=\"17.6923\" /><path class=\"sym\" d=\"M -3,-3 l 6,6 M -3,3 l 6,-6\" /><text class=\"lab lft\" transform=\"translate(-5 0)\">4</text></g><circle class=\"sym\" cx=\"0\" cy=\"0\" r=\"3\" /><text class=\"lab lft\" transform=\"translate(-3 -7.0)\">14</text></g><circle class=\"sym\" cx=\"0\" cy=\"0\" r=\"3\" /><text class=\"lab\" transform=\"translate(0 -11)\">17</text></g></g></g><g class=\"tree t2\" transform=\"translate(404 0)\"><g class=\"plotbox\"><g class=\"c2 node n15 p0 root\" transform=\"translate(112.625 102.55)\"><g class=\"a15 c2 m12 m14 node n10 p0 s4\" transform=\"translate(40.375 114.168)\"><g class=\"a10 i1 leaf node n3 p0 sample\" transform=\"translate(-9.5 4.68188)\"><path class=\"edge\" d=\"M 0 0 V -4.68188 H 9.5\" /><rect class=\"sym\" height=\"6\" width=\"6\" x=\"-3\" y=\"-3\" /><text class=\"lab\" transform=\"translate(0 11)\">3</text></g><g class=\"a10 i2 leaf node n4 p0 sample\" transform=\"translate(9.5 4.68188)\"><path class=\"edge\" d=\"M 0 0 V -4.68188 H -9.5\" /><rect class=\"sym\" height=\"6\" width=\"6\" x=\"-3\" y=\"-3\" /><text class=\"lab\" transform=\"translate(0 11)\">4</text></g><path class=\"edge\" d=\"M 0 0 V -114.168 H -40.375\" /><g class=\"mut m12 s4\" transform=\"translate(0 -91.4192)\"><line x1=\"0\" x2=\"0\" y1=\"0\" y2=\"91.4192\" /><path class=\"sym\" d=\"M -3,-3 l 6,6 M -3,3 l 6,-6\" /><text class=\"lab rgt\" transform=\"translate(5 0)\">12</text></g><g class=\"mut m14 s4\" transform=\"translate(0 -22.6168)\"><line x1=\"0\" x2=\"0\" y1=\"0\" y2=\"22.6168\" /><path class=\"sym\" d=\"M -3,-3 l 6,6 M -3,3 l 6,-6\" /><text class=\"lab rgt\" transform=\"translate(5 0)\">14</text></g><circle class=\"sym\" cx=\"0\" cy=\"0\" r=\"3\" /><text class=\"lab rgt\" transform=\"translate(3 -7.0)\">10</text></g><g class=\"a15 c2 m10 m11 m13 m8 node n14 p0 s2 s4\" transform=\"translate(-40.375 95.6431)\"><g class=\"a14 c2 node n11 p0\" transform=\"translate(-28.5 13.9147)\"><g class=\"a11 i0 leaf node n0 p0 sample\" transform=\"translate(-14.25 9.29182)\"><path class=\"edge\" d=\"M 0 0 V -9.29182 H 14.25\" /><rect class=\"sym\" height=\"6\" width=\"6\" x=\"-3\" y=\"-3\" /><text class=\"lab\" transform=\"translate(0 11)\">0</text></g><g class=\"a11 c2 node n8 p0\" transform=\"translate(14.25 6.72814)\"><g class=\"a8 i2 leaf node n5 p0 sample\" transform=\"translate(-9.5 2.56368)\"><path class=\"edge\" d=\"M 0 0 V -2.56368 H 9.5\" /><rect class=\"sym\" height=\"6\" width=\"6\" x=\"-3\" y=\"-3\" /><text class=\"lab\" transform=\"translate(0 11)\">5</text></g><g class=\"a8 i3 leaf node n7 p0 sample\" transform=\"translate(9.5 2.56368)\"><path class=\"edge\" d=\"M 0 0 V -2.56368 H -9.5\" /><rect class=\"sym\" height=\"6\" width=\"6\" x=\"-3\" y=\"-3\" /><text class=\"lab\" transform=\"translate(0 11)\">7</text></g><path class=\"edge\" d=\"M 0 0 V -6.72814 H -14.25\" /><circle class=\"sym\" cx=\"0\" cy=\"0\" r=\"3\" /><text class=\"lab rgt\" transform=\"translate(3 -7.0)\">8</text></g><path class=\"edge\" d=\"M 0 0 V -13.9147 H 28.5\" /><circle class=\"sym\" cx=\"0\" cy=\"0\" r=\"3\" /><text class=\"lab lft\" transform=\"translate(-3 -7.0)\">11</text></g><g class=\"a14 c2 node n13 p0\" transform=\"translate(28.5 1.26635)\"><g class=\"a13 i0 leaf m9 node n1 p0 s3 sample\" transform=\"translate(-14.25 21.9402)\"><path class=\"edge\" d=\"M 0 0 V -21.9402 H 14.25\" /><g class=\"mut m9 s3\" transform=\"translate(0 -19.2661)\"><line x1=\"0\" x2=\"0\" y1=\"0\" y2=\"19.2661\" /><path class=\"sym\" d=\"M -3,-3 l 6,6 M -3,3 l 6,-6\" /><text class=\"lab lft\" transform=\"translate(-5 0)\">9</text></g><rect class=\"sym\" height=\"6\" width=\"6\" x=\"-3\" y=\"-3\" /><text class=\"lab\" transform=\"translate(0 11)\">1</text></g><g class=\"a13 c2 node n12 p0\" transform=\"translate(14.25 5.21516)\"><g class=\"a12 i1 leaf node n2 p0 sample\" transform=\"translate(-9.5 16.7251)\"><path class=\"edge\" d=\"M 0 0 V -16.7251 H 9.5\" /><rect class=\"sym\" height=\"6\" width=\"6\" x=\"-3\" y=\"-3\" /><text class=\"lab\" transform=\"translate(0 11)\">2</text></g><g class=\"a12 i3 leaf node n6 p0 sample\" transform=\"translate(9.5 16.7251)\"><path class=\"edge\" d=\"M 0 0 V -16.7251 H -9.5\" /><rect class=\"sym\" height=\"6\" width=\"6\" x=\"-3\" y=\"-3\" /><text class=\"lab\" transform=\"translate(0 11)\">6</text></g><path class=\"edge\" d=\"M 0 0 V -5.21516 H -14.25\" /><circle class=\"sym\" cx=\"0\" cy=\"0\" r=\"3\" /><text class=\"lab rgt\" transform=\"translate(3 -7.0)\">12</text></g><path class=\"edge\" d=\"M 0 0 V -1.26635 H -28.5\" /><circle class=\"sym\" cx=\"0\" cy=\"0\" r=\"3\" /><text class=\"lab rgt\" transform=\"translate(3 -7.0)\">13</text></g><path class=\"edge\" d=\"M 0 0 V -95.6431 H 40.375\" /><g class=\"mut m10 s4\" transform=\"translate(0 -82.7332)\"><line x1=\"0\" x2=\"0\" y1=\"0\" y2=\"82.7332\" /><path class=\"sym\" d=\"M -3,-3 l 6,6 M -3,3 l 6,-6\" /><text class=\"lab lft\" transform=\"translate(-5 0)\">10</text></g><g class=\"mut m8 s2\" transform=\"translate(0 -79.3458)\"><line x1=\"0\" x2=\"0\" y1=\"0\" y2=\"79.3458\" /><path class=\"sym\" d=\"M -3,-3 l 6,6 M -3,3 l 6,-6\" /><text class=\"lab lft\" transform=\"translate(-5 0)\">8</text></g><g class=\"mut m11 s4\" transform=\"translate(0 -79.3021)\"><line x1=\"0\" x2=\"0\" y1=\"0\" y2=\"79.3021\" /><path class=\"sym\" d=\"M -3,-3 l 6,6 M -3,3 l 6,-6\" /><text class=\"lab lft\" transform=\"translate(-5 0)\">11</text></g><g class=\"mut m13 s4\" transform=\"translate(0 -49.5577)\"><line x1=\"0\" x2=\"0\" y1=\"0\" y2=\"49.5577\" /><path class=\"sym\" d=\"M -3,-3 l 6,6 M -3,3 l 6,-6\" /><text class=\"lab lft\" transform=\"translate(-5 0)\">13</text></g><circle class=\"sym\" cx=\"0\" cy=\"0\" r=\"3\" /><text class=\"lab lft\" transform=\"translate(-3 -7.0)\">14</text></g><circle class=\"sym\" cx=\"0\" cy=\"0\" r=\"3\" /><text class=\"lab\" transform=\"translate(0 -11)\">15</text></g></g></g><g class=\"tree t3\" transform=\"translate(596 0)\"><g class=\"plotbox\"><g class=\"c2 node n17 p0 root\" transform=\"translate(112.625 26.8)\"><g class=\"a17 c2 m15 m17 m18 node n10 p0 s5\" transform=\"translate(40.375 189.918)\"><g class=\"a10 i1 leaf node n3 p0 sample\" transform=\"translate(-9.5 4.68188)\"><path class=\"edge\" d=\"M 0 0 V -4.68188 H 9.5\" /><rect class=\"sym\" height=\"6\" width=\"6\" x=\"-3\" y=\"-3\" /><text class=\"lab\" transform=\"translate(0 11)\">3</text></g><g class=\"a10 i2 leaf node n4 p0 sample\" transform=\"translate(9.5 4.68188)\"><path class=\"edge\" d=\"M 0 0 V -4.68188 H -9.5\" /><rect class=\"sym\" height=\"6\" width=\"6\" x=\"-3\" y=\"-3\" /><text class=\"lab\" transform=\"translate(0 11)\">4</text></g><path class=\"edge\" d=\"M 0 0 V -189.918 H -40.375\" /><g class=\"mut m15 s5\" transform=\"translate(0 -142.466)\"><line x1=\"0\" x2=\"0\" y1=\"0\" y2=\"142.466\" /><path class=\"sym\" d=\"M -3,-3 l 6,6 M -3,3 l 6,-6\" /><text class=\"lab rgt\" transform=\"translate(5 0)\">15</text></g><g class=\"mut m17 s5\" transform=\"translate(0 -131.4)\"><line x1=\"0\" x2=\"0\" y1=\"0\" y2=\"131.4\" /><path class=\"sym\" d=\"M -3,-3 l 6,6 M -3,3 l 6,-6\" /><text class=\"lab rgt\" transform=\"translate(5 0)\">17</text></g><g class=\"mut m18 s5\" transform=\"translate(0 -130.379)\"><line x1=\"0\" x2=\"0\" y1=\"0\" y2=\"130.379\" /><path class=\"sym\" d=\"M -3,-3 l 6,6 M -3,3 l 6,-6\" /><text class=\"lab rgt\" transform=\"translate(5 0)\">18</text></g><circle class=\"sym\" cx=\"0\" cy=\"0\" r=\"3\" /><text class=\"lab rgt\" transform=\"translate(3 -7.0)\">10</text></g><g class=\"a17 c2 m16 node n14 p0 s5\" transform=\"translate(-40.375 171.393)\"><g class=\"a14 c2 node n11 p0\" transform=\"translate(-28.5 13.9147)\"><g class=\"a11 i0 leaf node n0 p0 sample\" transform=\"translate(-14.25 9.29182)\"><path class=\"edge\" d=\"M 0 0 V -9.29182 H 14.25\" /><rect class=\"sym\" height=\"6\" width=\"6\" x=\"-3\" y=\"-3\" /><text class=\"lab\" transform=\"translate(0 11)\">0</text></g><g class=\"a11 c2 node n8 p0\" transform=\"translate(14.25 6.72814)\"><g class=\"a8 i2 leaf node n5 p0 sample\" transform=\"translate(-9.5 2.56368)\"><path class=\"edge\" d=\"M 0 0 V -2.56368 H 9.5\" /><rect class=\"sym\" height=\"6\" width=\"6\" x=\"-3\" y=\"-3\" /><text class=\"lab\" transform=\"translate(0 11)\">5</text></g><g class=\"a8 i3 leaf node n7 p0 sample\" transform=\"translate(9.5 2.56368)\"><path class=\"edge\" d=\"M 0 0 V -2.56368 H -9.5\" /><rect class=\"sym\" height=\"6\" width=\"6\" x=\"-3\" y=\"-3\" /><text class=\"lab\" transform=\"translate(0 11)\">7</text></g><path class=\"edge\" d=\"M 0 0 V -6.72814 H -14.25\" /><circle class=\"sym\" cx=\"0\" cy=\"0\" r=\"3\" /><text class=\"lab rgt\" transform=\"translate(3 -7.0)\">8</text></g><path class=\"edge\" d=\"M 0 0 V -13.9147 H 28.5\" /><circle class=\"sym\" cx=\"0\" cy=\"0\" r=\"3\" /><text class=\"lab lft\" transform=\"translate(-3 -7.0)\">11</text></g><g class=\"a14 c2 node n13 p0\" transform=\"translate(28.5 1.26635)\"><g class=\"a13 i0 leaf node n1 p0 sample\" transform=\"translate(-14.25 21.9402)\"><path class=\"edge\" d=\"M 0 0 V -21.9402 H 14.25\" /><rect class=\"sym\" height=\"6\" width=\"6\" x=\"-3\" y=\"-3\" /><text class=\"lab\" transform=\"translate(0 11)\">1</text></g><g class=\"a13 c2 node n12 p0\" transform=\"translate(14.25 5.21516)\"><g class=\"a12 i1 leaf m19 node n2 p0 s5 sample\" transform=\"translate(-9.5 16.7251)\"><path class=\"edge\" d=\"M 0 0 V -16.7251 H 9.5\" /><g class=\"mut m19 s5\" transform=\"translate(0 -9.01174)\"><line x1=\"0\" x2=\"0\" y1=\"0\" y2=\"9.01174\" /><path class=\"sym\" d=\"M -3,-3 l 6,6 M -3,3 l 6,-6\" /><text class=\"lab lft\" transform=\"translate(-5 0)\">19</text></g><rect class=\"sym\" height=\"6\" width=\"6\" x=\"-3\" y=\"-3\" /><text class=\"lab\" transform=\"translate(0 11)\">2</text></g><g class=\"a12 i3 leaf node n6 p0 sample\" transform=\"translate(9.5 16.7251)\"><path class=\"edge\" d=\"M 0 0 V -16.7251 H -9.5\" /><rect class=\"sym\" height=\"6\" width=\"6\" x=\"-3\" y=\"-3\" /><text class=\"lab\" transform=\"translate(0 11)\">6</text></g><path class=\"edge\" d=\"M 0 0 V -5.21516 H -14.25\" /><circle class=\"sym\" cx=\"0\" cy=\"0\" r=\"3\" /><text class=\"lab rgt\" transform=\"translate(3 -7.0)\">12</text></g><path class=\"edge\" d=\"M 0 0 V -1.26635 H -28.5\" /><circle class=\"sym\" cx=\"0\" cy=\"0\" r=\"3\" /><text class=\"lab rgt\" transform=\"translate(3 -7.0)\">13</text></g><path class=\"edge\" d=\"M 0 0 V -171.393 H 40.375\" /><g class=\"mut m16 s5\" transform=\"translate(0 -116.348)\"><line x1=\"0\" x2=\"0\" y1=\"0\" y2=\"116.348\" /><path class=\"sym\" d=\"M -3,-3 l 6,6 M -3,3 l 6,-6\" /><text class=\"lab lft\" transform=\"translate(-5 0)\">16</text></g><circle class=\"sym\" cx=\"0\" cy=\"0\" r=\"3\" /><text class=\"lab lft\" transform=\"translate(-3 -7.0)\">14</text></g><circle class=\"sym\" cx=\"0\" cy=\"0\" r=\"3\" /><text class=\"lab\" transform=\"translate(0 -11)\">17</text></g></g></g><g class=\"tree t4\" transform=\"translate(788 0)\"><g class=\"plotbox\"><g class=\"c2 node n17 p0 root\" transform=\"translate(116.781 26.8)\"><g class=\"a17 c2 m20 m21 m23 node n10 p0 s6 s8\" transform=\"translate(36.2188 189.918)\"><g class=\"a10 i1 leaf node n3 p0 sample\" transform=\"translate(-9.5 4.68188)\"><path class=\"edge\" d=\"M 0 0 V -4.68188 H 9.5\" /><rect class=\"sym\" height=\"6\" width=\"6\" x=\"-3\" y=\"-3\" /><text class=\"lab\" transform=\"translate(0 11)\">3</text></g><g class=\"a10 i2 leaf node n4 p0 sample\" transform=\"translate(9.5 4.68188)\"><path class=\"edge\" d=\"M 0 0 V -4.68188 H -9.5\" /><rect class=\"sym\" height=\"6\" width=\"6\" x=\"-3\" y=\"-3\" /><text class=\"lab\" transform=\"translate(0 11)\">4</text></g><path class=\"edge\" d=\"M 0 0 V -189.918 H -36.2188\" /><g class=\"mut m23 s8\" transform=\"translate(0 -158.511)\"><line x1=\"0\" x2=\"0\" y1=\"0\" y2=\"158.511\" /><path class=\"sym\" d=\"M -3,-3 l 6,6 M -3,3 l 6,-6\" /><text class=\"lab rgt\" transform=\"translate(5 0)\">23</text></g><g class=\"mut m20 s6\" transform=\"translate(0 -59.9221)\"><line x1=\"0\" x2=\"0\" y1=\"0\" y2=\"59.9221\" /><path class=\"sym\" d=\"M -3,-3 l 6,6 M -3,3 l 6,-6\" /><text class=\"lab rgt\" transform=\"translate(5 0)\">20</text></g><g class=\"mut m21 s6\" transform=\"translate(0 -3.47328)\"><line x1=\"0\" x2=\"0\" y1=\"0\" y2=\"3.47328\" /><path class=\"sym\" d=\"M -3,-3 l 6,6 M -3,3 l 6,-6\" /><text class=\"lab rgt\" transform=\"translate(5 0)\">21</text></g><circle class=\"sym\" cx=\"0\" cy=\"0\" r=\"3\" /><text class=\"lab rgt\" transform=\"translate(3 -7.0)\">10</text></g><g class=\"a17 c2 m22 m24 node n14 p0 s7 s8\" transform=\"translate(-36.2188 171.393)\"><g class=\"a14 c2 m25 node n11 p0 s8\" transform=\"translate(-34.4375 13.9147)\"><g class=\"a11 i0 leaf node n0 p0 sample\" transform=\"translate(-16.625 9.29182)\"><path class=\"edge\" d=\"M 0 0 V -9.29182 H 16.625\" /><rect class=\"sym\" height=\"6\" width=\"6\" x=\"-3\" y=\"-3\" /><text class=\"lab\" transform=\"translate(0 11)\">0</text></g><g class=\"a11 c2 node n9 p0\" transform=\"translate(16.625 5.9527)\"><g class=\"a9 i1 leaf node n2 p0 sample\" transform=\"translate(-14.25 3.33913)\"><path class=\"edge\" d=\"M 0 0 V -3.33913 H 14.25\" /><rect class=\"sym\" height=\"6\" width=\"6\" x=\"-3\" y=\"-3\" /><text class=\"lab\" transform=\"translate(0 11)\">2</text></g><g class=\"a9 c2 node n8 p0\" transform=\"translate(14.25 0.775446)\"><g class=\"a8 i2 leaf node n5 p0 sample\" transform=\"translate(-9.5 2.56368)\"><path class=\"edge\" d=\"M 0 0 V -2.56368 H 9.5\" /><rect class=\"sym\" height=\"6\" width=\"6\" x=\"-3\" y=\"-3\" /><text class=\"lab\" transform=\"translate(0 11)\">5</text></g><g class=\"a8 i3 leaf m26 node n7 p0 s8 sample\" transform=\"translate(9.5 2.56368)\"><path class=\"edge\" d=\"M 0 0 V -2.56368 H -9.5\" /><g class=\"mut m26 s8\" transform=\"translate(0 -0.000293237)\"><line x1=\"0\" x2=\"0\" y1=\"0\" y2=\"0.000293237\" /><path class=\"sym\" d=\"M -3,-3 l 6,6 M -3,3 l 6,-6\" /><text class=\"lab rgt\" transform=\"translate(5 0)\">26</text></g><rect class=\"sym\" height=\"6\" width=\"6\" x=\"-3\" y=\"-3\" /><text class=\"lab\" transform=\"translate(0 11)\">7</text></g><path class=\"edge\" d=\"M 0 0 V -0.775446 H -14.25\" /><circle class=\"sym\" cx=\"0\" cy=\"0\" r=\"3\" /><text class=\"lab rgt\" transform=\"translate(3 -7.0)\">8</text></g><path class=\"edge\" d=\"M 0 0 V -5.9527 H -16.625\" /><circle class=\"sym\" cx=\"0\" cy=\"0\" r=\"3\" /><text class=\"lab rgt\" transform=\"translate(3 -7.0)\">9</text></g><path class=\"edge\" d=\"M 0 0 V -13.9147 H 34.4375\" /><g class=\"mut m25 s8\" transform=\"translate(0 -5.80669)\"><line x1=\"0\" x2=\"0\" y1=\"0\" y2=\"5.80669\" /><path class=\"sym\" d=\"M -3,-3 l 6,6 M -3,3 l 6,-6\" /><text class=\"lab lft\" transform=\"translate(-5 0)\">25</text></g><circle class=\"sym\" cx=\"0\" cy=\"0\" r=\"3\" /><text class=\"lab lft\" transform=\"translate(-3 -7.0)\">11</text></g><g class=\"a14 c2 node n13 p0\" transform=\"translate(34.4375 1.26635)\"><g class=\"a13 i0 leaf node n1 p0 sample\" transform=\"translate(-9.5 21.9402)\"><path class=\"edge\" d=\"M 0 0 V -21.9402 H 9.5\" /><rect class=\"sym\" height=\"6\" width=\"6\" x=\"-3\" y=\"-3\" /><text class=\"lab\" transform=\"translate(0 11)\">1</text></g><g class=\"a13 i3 leaf node n6 p0 sample\" transform=\"translate(9.5 21.9402)\"><path class=\"edge\" d=\"M 0 0 V -21.9402 H -9.5\" /><rect class=\"sym\" height=\"6\" width=\"6\" x=\"-3\" y=\"-3\" /><text class=\"lab\" transform=\"translate(0 11)\">6</text></g><path class=\"edge\" d=\"M 0 0 V -1.26635 H -34.4375\" /><circle class=\"sym\" cx=\"0\" cy=\"0\" r=\"3\" /><text class=\"lab rgt\" transform=\"translate(3 -7.0)\">13</text></g><path class=\"edge\" d=\"M 0 0 V -171.393 H 36.2188\" /><g class=\"mut m24 s8\" transform=\"translate(0 -36.2717)\"><line x1=\"0\" x2=\"0\" y1=\"0\" y2=\"36.2717\" /><path class=\"sym\" d=\"M -3,-3 l 6,6 M -3,3 l 6,-6\" /><text class=\"lab lft\" transform=\"translate(-5 0)\">24</text></g><g class=\"mut m22 s7\" transform=\"translate(0 -3.31937)\"><line x1=\"0\" x2=\"0\" y1=\"0\" y2=\"3.31937\" /><path class=\"sym\" d=\"M -3,-3 l 6,6 M -3,3 l 6,-6\" /><text class=\"lab lft\" transform=\"translate(-5 0)\">22</text></g><circle class=\"sym\" cx=\"0\" cy=\"0\" r=\"3\" /><text class=\"lab lft\" transform=\"translate(-3 -7.0)\">14</text></g><circle class=\"sym\" cx=\"0\" cy=\"0\" r=\"3\" /><text class=\"lab\" transform=\"translate(0 -11)\">17</text></g></g></g></g></g></svg>'"
      ]
     },
     "execution_count": 2,
     "metadata": {},
     "output_type": "execute_result"
    }
   ],
   "source": [
    "ts = msprime.sim_ancestry(samples=4, recombination_rate=0.2, sequence_length=10, random_seed=1)\n",
    "ts = msprime.sim_mutations(ts, rate=.5, random_seed=1)\n",
    "ts.draw_svg(size=(1000, 300))"
   ]
  },
  {
   "cell_type": "code",
   "execution_count": 3,
   "id": "d99cbff3-47e9-4a17-bb7a-0e3e055aefb9",
   "metadata": {},
   "outputs": [
    {
     "data": {
      "image/svg+xml": [
       "<svg baseProfile=\"full\" height=\"200\" version=\"1.1\" width=\"400\" xmlns=\"http://www.w3.org/2000/svg\" xmlns:ev=\"http://www.w3.org/2001/xml-events\" xmlns:xlink=\"http://www.w3.org/1999/xlink\"><defs><style type=\"text/css\"><![CDATA[.background path {fill: #808080; fill-opacity: 0}.background path:nth-child(odd) {fill-opacity: .1}.axes {font-size: 14px}.x-axis .tick .lab {font-weight: bold; dominant-baseline: hanging}.axes, .tree {font-size: 14px; text-anchor: middle}.axes line, .edge {stroke: black; fill: none}.y-axis .grid {stroke: #FAFAFA}.node > .sym {fill: black; stroke: none}.site > .sym {stroke: black}.mut text {fill: red; font-style: italic}.mut.extra text {fill: hotpink}.mut line {fill: none; stroke: none}.mut .sym {fill: none; stroke: red}.mut.extra .sym {stroke: hotpink}.node .mut .sym {stroke-width: 1.5px}.tree text, .tree-sequence text {dominant-baseline: central}.plotbox .lab.lft {text-anchor: end}.plotbox .lab.rgt {text-anchor: start}]]></style></defs><g class=\"tree-sequence\"><g class=\"background\"><path d=\"M56.8,0 l161.6,0 l0,138.2 l0,25 l0,5 l-161.6,0 l0,-5 l0,-25 l0,-138.2z\" /><path d=\"M218.4,0 l161.6,0 l0,138.2 l0,25 l0,5 l-161.6,0 l0,-5 l0,-25 l0,-138.2z\" /></g><g class=\"axes\"><g class=\"x-axis\"><g transform=\"translate(218.4 200)\"><text class=\"lab\" text-anchor=\"middle\" transform=\"translate(0 -11)\">Genome position</text></g><line x1=\"56.8\" x2=\"380\" y1=\"163.2\" y2=\"163.2\" /><g class=\"ticks\"><g class=\"tick\" transform=\"translate(56.8 163.2)\"><line x1=\"0\" x2=\"0\" y1=\"0\" y2=\"5\" /><g transform=\"translate(0 6)\"><text class=\"lab\">0</text></g></g><g class=\"tick\" transform=\"translate(218.4 163.2)\"><line x1=\"0\" x2=\"0\" y1=\"0\" y2=\"5\" /><g transform=\"translate(0 6)\"><text class=\"lab\">10</text></g></g><g class=\"tick\" transform=\"translate(380 163.2)\"><line x1=\"0\" x2=\"0\" y1=\"0\" y2=\"5\" /><g transform=\"translate(0 6)\"><text class=\"lab\">20</text></g></g></g><g class=\"site s0\" transform=\"translate(169.92 163.2)\"><line class=\"sym\" x1=\"0\" x2=\"0\" y1=\"0\" y2=\"-10\" /><g class=\"mut m0\"><polyline class=\"sym\" points=\"2.5,-6.5 0,-1.5 -2.5,-6.5\" /></g></g><g class=\"site s1\" transform=\"translate(186.08 163.2)\"><line class=\"sym\" x1=\"0\" x2=\"0\" y1=\"0\" y2=\"-10\" /><g class=\"mut m1\"><polyline class=\"sym\" points=\"2.5,-6.5 0,-1.5 -2.5,-6.5\" /></g></g><g class=\"site s2\" transform=\"translate(283.04 163.2)\"><line class=\"sym\" x1=\"0\" x2=\"0\" y1=\"0\" y2=\"-10\" /><g class=\"mut m2\"><polyline class=\"sym\" points=\"2.5,-6.5 0,-1.5 -2.5,-6.5\" /></g></g></g><g class=\"y-axis\"><g transform=\"translate(0 65.7)\"><text class=\"lab\" text-anchor=\"middle\" transform=\"translate(11) rotate(-90)\">Time</text></g><line x1=\"56.8\" x2=\"56.8\" y1=\"121.4\" y2=\"10\" /><g class=\"ticks\"><g class=\"tick\" transform=\"translate(56.8 121.4)\"><line x1=\"0\" x2=\"-5\" y1=\"0\" y2=\"0\" /><g transform=\"translate(-6 0)\"><text class=\"lab\" text-anchor=\"end\">0</text></g></g><g class=\"tick\" transform=\"translate(56.8 89.8667)\"><line x1=\"0\" x2=\"-5\" y1=\"0\" y2=\"0\" /><g transform=\"translate(-6 0)\"><text class=\"lab\" text-anchor=\"end\">2</text></g></g><g class=\"tick\" transform=\"translate(56.8 58.3333)\"><line x1=\"0\" x2=\"-5\" y1=\"0\" y2=\"0\" /><g transform=\"translate(-6 0)\"><text class=\"lab\" text-anchor=\"end\">4</text></g></g><g class=\"tick\" transform=\"translate(56.8 26.8)\"><line x1=\"0\" x2=\"-5\" y1=\"0\" y2=\"0\" /><g transform=\"translate(-6 0)\"><text class=\"lab\" text-anchor=\"end\">6</text></g></g></g></g></g><g class=\"plotbox trees\"><g class=\"tree t0\" transform=\"translate(56.8 0)\"><g class=\"plotbox\"><g class=\"c2 node n6 root\" transform=\"translate(99.8 26.8)\"><g class=\"a6 leaf node n3 sample\" transform=\"translate(26.6 94.6)\"><path class=\"edge\" d=\"M 0 0 V -94.6 H -26.6\" /><rect class=\"sym\" height=\"6\" width=\"6\" x=\"-3\" y=\"-3\" /><text class=\"lab\" transform=\"translate(0 11)\">3</text></g><g class=\"a6 c2 m0 node n5 s0\" transform=\"translate(-26.6 31.5333)\"><g class=\"a5 leaf node n2 sample\" transform=\"translate(22.8 63.0667)\"><path class=\"edge\" d=\"M 0 0 V -63.0667 H -22.8\" /><rect class=\"sym\" height=\"6\" width=\"6\" x=\"-3\" y=\"-3\" /><text class=\"lab\" transform=\"translate(0 11)\">2</text></g><g class=\"a5 c2 m1 node n4 s1\" transform=\"translate(-22.8 31.5333)\"><g class=\"a4 leaf node n0 sample\" transform=\"translate(-15.2 31.5333)\"><path class=\"edge\" d=\"M 0 0 V -31.5333 H 15.2\" /><rect class=\"sym\" height=\"6\" width=\"6\" x=\"-3\" y=\"-3\" /><text class=\"lab\" transform=\"translate(0 11)\">0</text></g><g class=\"a4 leaf node n1 sample\" transform=\"translate(15.2 31.5333)\"><path class=\"edge\" d=\"M 0 0 V -31.5333 H -15.2\" /><rect class=\"sym\" height=\"6\" width=\"6\" x=\"-3\" y=\"-3\" /><text class=\"lab\" transform=\"translate(0 11)\">1</text></g><path class=\"edge\" d=\"M 0 0 V -31.5333 H 22.8\" /><g class=\"mut m1 s1 unknown_time\" transform=\"translate(0 -15.7667)\"><line x1=\"0\" x2=\"0\" y1=\"0\" y2=\"15.7667\" /><path class=\"sym\" d=\"M -3,-3 l 6,6 M -3,3 l 6,-6\" /><text class=\"lab lft\" transform=\"translate(-5 0)\">(1)C→G</text></g><circle class=\"sym\" cx=\"0\" cy=\"0\" r=\"3\" /><text class=\"lab lft\" transform=\"translate(-3 -7.0)\">4</text></g><path class=\"edge\" d=\"M 0 0 V -31.5333 H 26.6\" /><g class=\"mut m0 s0 unknown_time\" transform=\"translate(0 -15.7667)\"><line x1=\"0\" x2=\"0\" y1=\"0\" y2=\"15.7667\" /><path class=\"sym\" d=\"M -3,-3 l 6,6 M -3,3 l 6,-6\" /><text class=\"lab lft\" transform=\"translate(-5 0)\">(0)A→T</text></g><circle class=\"sym\" cx=\"0\" cy=\"0\" r=\"3\" /><text class=\"lab lft\" transform=\"translate(-3 -7.0)\">5</text></g><circle class=\"sym\" cx=\"0\" cy=\"0\" r=\"3\" /><text class=\"lab\" transform=\"translate(0 -11)\">6</text></g></g></g><g class=\"tree t1\" transform=\"translate(218.4 0)\"><g class=\"plotbox\"><g class=\"c2 node n8 root\" transform=\"translate(80.8 58.3333)\"><g class=\"a8 c2 node n4\" transform=\"translate(-30.4 31.5333)\"><g class=\"a4 leaf node n0 sample\" transform=\"translate(-15.2 31.5333)\"><path class=\"edge\" d=\"M 0 0 V -31.5333 H 15.2\" /><rect class=\"sym\" height=\"6\" width=\"6\" x=\"-3\" y=\"-3\" /><text class=\"lab\" transform=\"translate(0 11)\">0</text></g><g class=\"a4 leaf node n1 sample\" transform=\"translate(15.2 31.5333)\"><path class=\"edge\" d=\"M 0 0 V -31.5333 H -15.2\" /><rect class=\"sym\" height=\"6\" width=\"6\" x=\"-3\" y=\"-3\" /><text class=\"lab\" transform=\"translate(0 11)\">1</text></g><path class=\"edge\" d=\"M 0 0 V -31.5333 H 30.4\" /><circle class=\"sym\" cx=\"0\" cy=\"0\" r=\"3\" /><text class=\"lab lft\" transform=\"translate(-3 -7.0)\">4</text></g><g class=\"a8 c2 m2 node n7 s2\" transform=\"translate(30.4 31.5333)\"><g class=\"a7 leaf node n2 sample\" transform=\"translate(-15.2 31.5333)\"><path class=\"edge\" d=\"M 0 0 V -31.5333 H 15.2\" /><rect class=\"sym\" height=\"6\" width=\"6\" x=\"-3\" y=\"-3\" /><text class=\"lab\" transform=\"translate(0 11)\">2</text></g><g class=\"a7 leaf node n3 sample\" transform=\"translate(15.2 31.5333)\"><path class=\"edge\" d=\"M 0 0 V -31.5333 H -15.2\" /><rect class=\"sym\" height=\"6\" width=\"6\" x=\"-3\" y=\"-3\" /><text class=\"lab\" transform=\"translate(0 11)\">3</text></g><path class=\"edge\" d=\"M 0 0 V -31.5333 H -30.4\" /><g class=\"mut m2 s2 unknown_time\" transform=\"translate(0 -15.7667)\"><line x1=\"0\" x2=\"0\" y1=\"0\" y2=\"15.7667\" /><path class=\"sym\" d=\"M -3,-3 l 6,6 M -3,3 l 6,-6\" /><text class=\"lab rgt\" transform=\"translate(5 0)\">(2)G→C</text></g><circle class=\"sym\" cx=\"0\" cy=\"0\" r=\"3\" /><text class=\"lab rgt\" transform=\"translate(3 -7.0)\">7</text></g><circle class=\"sym\" cx=\"0\" cy=\"0\" r=\"3\" /><text class=\"lab\" transform=\"translate(0 -11)\">8</text></g></g></g></g></g></svg>"
      ],
      "text/plain": [
       "'<svg baseProfile=\"full\" height=\"200\" version=\"1.1\" width=\"400\" xmlns=\"http://www.w3.org/2000/svg\" xmlns:ev=\"http://www.w3.org/2001/xml-events\" xmlns:xlink=\"http://www.w3.org/1999/xlink\"><defs><style type=\"text/css\"><![CDATA[.background path {fill: #808080; fill-opacity: 0}.background path:nth-child(odd) {fill-opacity: .1}.axes {font-size: 14px}.x-axis .tick .lab {font-weight: bold; dominant-baseline: hanging}.axes, .tree {font-size: 14px; text-anchor: middle}.axes line, .edge {stroke: black; fill: none}.y-axis .grid {stroke: #FAFAFA}.node > .sym {fill: black; stroke: none}.site > .sym {stroke: black}.mut text {fill: red; font-style: italic}.mut.extra text {fill: hotpink}.mut line {fill: none; stroke: none}.mut .sym {fill: none; stroke: red}.mut.extra .sym {stroke: hotpink}.node .mut .sym {stroke-width: 1.5px}.tree text, .tree-sequence text {dominant-baseline: central}.plotbox .lab.lft {text-anchor: end}.plotbox .lab.rgt {text-anchor: start}]]></style></defs><g class=\"tree-sequence\"><g class=\"background\"><path d=\"M56.8,0 l161.6,0 l0,138.2 l0,25 l0,5 l-161.6,0 l0,-5 l0,-25 l0,-138.2z\" /><path d=\"M218.4,0 l161.6,0 l0,138.2 l0,25 l0,5 l-161.6,0 l0,-5 l0,-25 l0,-138.2z\" /></g><g class=\"axes\"><g class=\"x-axis\"><g transform=\"translate(218.4 200)\"><text class=\"lab\" text-anchor=\"middle\" transform=\"translate(0 -11)\">Genome position</text></g><line x1=\"56.8\" x2=\"380\" y1=\"163.2\" y2=\"163.2\" /><g class=\"ticks\"><g class=\"tick\" transform=\"translate(56.8 163.2)\"><line x1=\"0\" x2=\"0\" y1=\"0\" y2=\"5\" /><g transform=\"translate(0 6)\"><text class=\"lab\">0</text></g></g><g class=\"tick\" transform=\"translate(218.4 163.2)\"><line x1=\"0\" x2=\"0\" y1=\"0\" y2=\"5\" /><g transform=\"translate(0 6)\"><text class=\"lab\">10</text></g></g><g class=\"tick\" transform=\"translate(380 163.2)\"><line x1=\"0\" x2=\"0\" y1=\"0\" y2=\"5\" /><g transform=\"translate(0 6)\"><text class=\"lab\">20</text></g></g></g><g class=\"site s0\" transform=\"translate(169.92 163.2)\"><line class=\"sym\" x1=\"0\" x2=\"0\" y1=\"0\" y2=\"-10\" /><g class=\"mut m0\"><polyline class=\"sym\" points=\"2.5,-6.5 0,-1.5 -2.5,-6.5\" /></g></g><g class=\"site s1\" transform=\"translate(186.08 163.2)\"><line class=\"sym\" x1=\"0\" x2=\"0\" y1=\"0\" y2=\"-10\" /><g class=\"mut m1\"><polyline class=\"sym\" points=\"2.5,-6.5 0,-1.5 -2.5,-6.5\" /></g></g><g class=\"site s2\" transform=\"translate(283.04 163.2)\"><line class=\"sym\" x1=\"0\" x2=\"0\" y1=\"0\" y2=\"-10\" /><g class=\"mut m2\"><polyline class=\"sym\" points=\"2.5,-6.5 0,-1.5 -2.5,-6.5\" /></g></g></g><g class=\"y-axis\"><g transform=\"translate(0 65.7)\"><text class=\"lab\" text-anchor=\"middle\" transform=\"translate(11) rotate(-90)\">Time</text></g><line x1=\"56.8\" x2=\"56.8\" y1=\"121.4\" y2=\"10\" /><g class=\"ticks\"><g class=\"tick\" transform=\"translate(56.8 121.4)\"><line x1=\"0\" x2=\"-5\" y1=\"0\" y2=\"0\" /><g transform=\"translate(-6 0)\"><text class=\"lab\" text-anchor=\"end\">0</text></g></g><g class=\"tick\" transform=\"translate(56.8 89.8667)\"><line x1=\"0\" x2=\"-5\" y1=\"0\" y2=\"0\" /><g transform=\"translate(-6 0)\"><text class=\"lab\" text-anchor=\"end\">2</text></g></g><g class=\"tick\" transform=\"translate(56.8 58.3333)\"><line x1=\"0\" x2=\"-5\" y1=\"0\" y2=\"0\" /><g transform=\"translate(-6 0)\"><text class=\"lab\" text-anchor=\"end\">4</text></g></g><g class=\"tick\" transform=\"translate(56.8 26.8)\"><line x1=\"0\" x2=\"-5\" y1=\"0\" y2=\"0\" /><g transform=\"translate(-6 0)\"><text class=\"lab\" text-anchor=\"end\">6</text></g></g></g></g></g><g class=\"plotbox trees\"><g class=\"tree t0\" transform=\"translate(56.8 0)\"><g class=\"plotbox\"><g class=\"c2 node n6 root\" transform=\"translate(99.8 26.8)\"><g class=\"a6 leaf node n3 sample\" transform=\"translate(26.6 94.6)\"><path class=\"edge\" d=\"M 0 0 V -94.6 H -26.6\" /><rect class=\"sym\" height=\"6\" width=\"6\" x=\"-3\" y=\"-3\" /><text class=\"lab\" transform=\"translate(0 11)\">3</text></g><g class=\"a6 c2 m0 node n5 s0\" transform=\"translate(-26.6 31.5333)\"><g class=\"a5 leaf node n2 sample\" transform=\"translate(22.8 63.0667)\"><path class=\"edge\" d=\"M 0 0 V -63.0667 H -22.8\" /><rect class=\"sym\" height=\"6\" width=\"6\" x=\"-3\" y=\"-3\" /><text class=\"lab\" transform=\"translate(0 11)\">2</text></g><g class=\"a5 c2 m1 node n4 s1\" transform=\"translate(-22.8 31.5333)\"><g class=\"a4 leaf node n0 sample\" transform=\"translate(-15.2 31.5333)\"><path class=\"edge\" d=\"M 0 0 V -31.5333 H 15.2\" /><rect class=\"sym\" height=\"6\" width=\"6\" x=\"-3\" y=\"-3\" /><text class=\"lab\" transform=\"translate(0 11)\">0</text></g><g class=\"a4 leaf node n1 sample\" transform=\"translate(15.2 31.5333)\"><path class=\"edge\" d=\"M 0 0 V -31.5333 H -15.2\" /><rect class=\"sym\" height=\"6\" width=\"6\" x=\"-3\" y=\"-3\" /><text class=\"lab\" transform=\"translate(0 11)\">1</text></g><path class=\"edge\" d=\"M 0 0 V -31.5333 H 22.8\" /><g class=\"mut m1 s1 unknown_time\" transform=\"translate(0 -15.7667)\"><line x1=\"0\" x2=\"0\" y1=\"0\" y2=\"15.7667\" /><path class=\"sym\" d=\"M -3,-3 l 6,6 M -3,3 l 6,-6\" /><text class=\"lab lft\" transform=\"translate(-5 0)\">(1)C→G</text></g><circle class=\"sym\" cx=\"0\" cy=\"0\" r=\"3\" /><text class=\"lab lft\" transform=\"translate(-3 -7.0)\">4</text></g><path class=\"edge\" d=\"M 0 0 V -31.5333 H 26.6\" /><g class=\"mut m0 s0 unknown_time\" transform=\"translate(0 -15.7667)\"><line x1=\"0\" x2=\"0\" y1=\"0\" y2=\"15.7667\" /><path class=\"sym\" d=\"M -3,-3 l 6,6 M -3,3 l 6,-6\" /><text class=\"lab lft\" transform=\"translate(-5 0)\">(0)A→T</text></g><circle class=\"sym\" cx=\"0\" cy=\"0\" r=\"3\" /><text class=\"lab lft\" transform=\"translate(-3 -7.0)\">5</text></g><circle class=\"sym\" cx=\"0\" cy=\"0\" r=\"3\" /><text class=\"lab\" transform=\"translate(0 -11)\">6</text></g></g></g><g class=\"tree t1\" transform=\"translate(218.4 0)\"><g class=\"plotbox\"><g class=\"c2 node n8 root\" transform=\"translate(80.8 58.3333)\"><g class=\"a8 c2 node n4\" transform=\"translate(-30.4 31.5333)\"><g class=\"a4 leaf node n0 sample\" transform=\"translate(-15.2 31.5333)\"><path class=\"edge\" d=\"M 0 0 V -31.5333 H 15.2\" /><rect class=\"sym\" height=\"6\" width=\"6\" x=\"-3\" y=\"-3\" /><text class=\"lab\" transform=\"translate(0 11)\">0</text></g><g class=\"a4 leaf node n1 sample\" transform=\"translate(15.2 31.5333)\"><path class=\"edge\" d=\"M 0 0 V -31.5333 H -15.2\" /><rect class=\"sym\" height=\"6\" width=\"6\" x=\"-3\" y=\"-3\" /><text class=\"lab\" transform=\"translate(0 11)\">1</text></g><path class=\"edge\" d=\"M 0 0 V -31.5333 H 30.4\" /><circle class=\"sym\" cx=\"0\" cy=\"0\" r=\"3\" /><text class=\"lab lft\" transform=\"translate(-3 -7.0)\">4</text></g><g class=\"a8 c2 m2 node n7 s2\" transform=\"translate(30.4 31.5333)\"><g class=\"a7 leaf node n2 sample\" transform=\"translate(-15.2 31.5333)\"><path class=\"edge\" d=\"M 0 0 V -31.5333 H 15.2\" /><rect class=\"sym\" height=\"6\" width=\"6\" x=\"-3\" y=\"-3\" /><text class=\"lab\" transform=\"translate(0 11)\">2</text></g><g class=\"a7 leaf node n3 sample\" transform=\"translate(15.2 31.5333)\"><path class=\"edge\" d=\"M 0 0 V -31.5333 H -15.2\" /><rect class=\"sym\" height=\"6\" width=\"6\" x=\"-3\" y=\"-3\" /><text class=\"lab\" transform=\"translate(0 11)\">3</text></g><path class=\"edge\" d=\"M 0 0 V -31.5333 H -30.4\" /><g class=\"mut m2 s2 unknown_time\" transform=\"translate(0 -15.7667)\"><line x1=\"0\" x2=\"0\" y1=\"0\" y2=\"15.7667\" /><path class=\"sym\" d=\"M -3,-3 l 6,6 M -3,3 l 6,-6\" /><text class=\"lab rgt\" transform=\"translate(5 0)\">(2)G→C</text></g><circle class=\"sym\" cx=\"0\" cy=\"0\" r=\"3\" /><text class=\"lab rgt\" transform=\"translate(3 -7.0)\">7</text></g><circle class=\"sym\" cx=\"0\" cy=\"0\" r=\"3\" /><text class=\"lab\" transform=\"translate(0 -11)\">8</text></g></g></g></g></g></svg>'"
      ]
     },
     "execution_count": 3,
     "metadata": {},
     "output_type": "execute_result"
    }
   ],
   "source": [
    "import tskit\n",
    "import io\n",
    "\n",
    "nodes = \"\"\"\\\n",
    "is_sample time\n",
    "1         0\n",
    "1         0\n",
    "1         0\n",
    "1         0\n",
    "0         2\n",
    "0         4\n",
    "0         6\n",
    "0         2\n",
    "0         4\n",
    "\"\"\"\n",
    "\n",
    "edges = \"\"\"\\\n",
    "left right parent child\n",
    "0    10    4      0,1\n",
    "0    10    5      2,4\n",
    "0    10    6      3,5\n",
    "10   20    4      0,1\n",
    "10   20    7      2,3\n",
    "10   20    8      4,7\n",
    "\"\"\"\n",
    "\n",
    "sites = \"\"\"\\\n",
    "position ancestral_state\n",
    "7        A\n",
    "8        C\n",
    "14       G\n",
    "\"\"\"\n",
    "\n",
    "# this is what's on disk\n",
    "mutations = \"\"\"\\\n",
    "site node parent derived_state\n",
    "0    5    -1     T\n",
    "1    4    -1     G\n",
    "2    7    -1     C\n",
    "# \"\"\"\n",
    "# mutations = \"\"\"\\\n",
    "# site node parent derived_state\n",
    "# 0    5    -1     T\n",
    "# 1    4    -1     G\n",
    "# 2    4    -1     C\n",
    "# \"\"\"\n",
    "\n",
    "# mutations = \"\"\"\\\n",
    "# site node parent derived_state\n",
    "# 0    5    -1     T\n",
    "# 0    4    0      G\n",
    "# 1    4    -1     G\n",
    "# 2    4    -1     C\n",
    "# \"\"\"\n",
    "\n",
    "ts = tskit.load_text(\n",
    "    nodes=io.StringIO(nodes),\n",
    "    edges=io.StringIO(edges),\n",
    "    sites=io.StringIO(sites),\n",
    "    mutations=io.StringIO(mutations),\n",
    "    strict=False,\n",
    ")\n",
    "\n",
    "mut_labels = {}  # An array of labels for the mutations\n",
    "for mut in ts.mutations():  # Make pretty labels showing the change in state\n",
    "    site = ts.site(mut.site)\n",
    "    older_mut = mut.parent >= 0  # is there an older mutation at the same position?\n",
    "    prev = ts.mutation(mut.parent).derived_state if older_mut else site.ancestral_state\n",
    "    mut_labels[mut.id] = f\"({mut.site}){prev}→{mut.derived_state}\"\n",
    "\n",
    "ts.draw_svg(\n",
    "    y_axis=True,\n",
    "    mutation_labels=mut_labels\n",
    ")"
   ]
  },
  {
   "cell_type": "code",
   "execution_count": 4,
   "id": "915c6adc-3605-4e34-ade2-ffbf2b063472",
   "metadata": {},
   "outputs": [],
   "source": [
    "# ts.dump('../tree-simple.tree')"
   ]
  },
  {
   "cell_type": "code",
   "execution_count": 119,
   "id": "0d508689-0efa-4bd8-b3f0-f63f7ac4db8c",
   "metadata": {},
   "outputs": [
    {
     "data": {
      "image/svg+xml": [
       "<svg baseProfile=\"full\" height=\"200\" version=\"1.1\" width=\"400\" xmlns=\"http://www.w3.org/2000/svg\" xmlns:ev=\"http://www.w3.org/2001/xml-events\" xmlns:xlink=\"http://www.w3.org/1999/xlink\"><defs><style type=\"text/css\"><![CDATA[.background path {fill: #808080; fill-opacity: 0}.background path:nth-child(odd) {fill-opacity: .1}.axes {font-size: 14px}.x-axis .tick .lab {font-weight: bold; dominant-baseline: hanging}.axes, .tree {font-size: 14px; text-anchor: middle}.axes line, .edge {stroke: black; fill: none}.y-axis .grid {stroke: #FAFAFA}.node > .sym {fill: black; stroke: none}.site > .sym {stroke: black}.mut text {fill: red; font-style: italic}.mut.extra text {fill: hotpink}.mut line {fill: none; stroke: none}.mut .sym {fill: none; stroke: red}.mut.extra .sym {stroke: hotpink}.node .mut .sym {stroke-width: 1.5px}.tree text, .tree-sequence text {dominant-baseline: central}.plotbox .lab.lft {text-anchor: end}.plotbox .lab.rgt {text-anchor: start}]]></style></defs><g class=\"tree-sequence\"><g class=\"background\"><path d=\"M56.8,0 l161.6,0 l0,138.2 l0,25 l0,5 l-161.6,0 l0,-5 l0,-25 l0,-138.2z\" /><path d=\"M218.4,0 l161.6,0 l0,138.2 l0,25 l0,5 l-161.6,0 l0,-5 l0,-25 l0,-138.2z\" /></g><g class=\"axes\"><g class=\"x-axis\"><g transform=\"translate(218.4 200)\"><text class=\"lab\" text-anchor=\"middle\" transform=\"translate(0 -11)\">Genome position</text></g><line x1=\"56.8\" x2=\"380\" y1=\"163.2\" y2=\"163.2\" /><g class=\"ticks\"><g class=\"tick\" transform=\"translate(56.8 163.2)\"><line x1=\"0\" x2=\"0\" y1=\"0\" y2=\"5\" /><g transform=\"translate(0 6)\"><text class=\"lab\">0</text></g></g><g class=\"tick\" transform=\"translate(218.4 163.2)\"><line x1=\"0\" x2=\"0\" y1=\"0\" y2=\"5\" /><g transform=\"translate(0 6)\"><text class=\"lab\">10</text></g></g><g class=\"tick\" transform=\"translate(380 163.2)\"><line x1=\"0\" x2=\"0\" y1=\"0\" y2=\"5\" /><g transform=\"translate(0 6)\"><text class=\"lab\">20</text></g></g></g><g class=\"site s0\" transform=\"translate(169.92 163.2)\"><line class=\"sym\" x1=\"0\" x2=\"0\" y1=\"0\" y2=\"-10\" /><g class=\"mut m0\"><polyline class=\"sym\" points=\"2.5,-6.5 0,-1.5 -2.5,-6.5\" /></g></g><g class=\"site s1\" transform=\"translate(283.04 163.2)\"><line class=\"sym\" x1=\"0\" x2=\"0\" y1=\"0\" y2=\"-10\" /><g class=\"mut m1\"><polyline class=\"sym\" points=\"2.5,-6.5 0,-1.5 -2.5,-6.5\" /></g></g></g><g class=\"y-axis\"><g transform=\"translate(0 65.7)\"><text class=\"lab\" text-anchor=\"middle\" transform=\"translate(11) rotate(-90)\">Time</text></g><line x1=\"56.8\" x2=\"56.8\" y1=\"121.4\" y2=\"10\" /><g class=\"ticks\"><g class=\"tick\" transform=\"translate(56.8 121.4)\"><line x1=\"0\" x2=\"-5\" y1=\"0\" y2=\"0\" /><g transform=\"translate(-6 0)\"><text class=\"lab\" text-anchor=\"end\">0</text></g></g><g class=\"tick\" transform=\"translate(56.8 74.1)\"><line x1=\"0\" x2=\"-5\" y1=\"0\" y2=\"0\" /><g transform=\"translate(-6 0)\"><text class=\"lab\" text-anchor=\"end\">2</text></g></g><g class=\"tick\" transform=\"translate(56.8 26.8)\"><line x1=\"0\" x2=\"-5\" y1=\"0\" y2=\"0\" /><g transform=\"translate(-6 0)\"><text class=\"lab\" text-anchor=\"end\">4</text></g></g></g></g></g><g class=\"plotbox trees\"><g class=\"tree t0\" transform=\"translate(56.8 0)\"><g class=\"plotbox\"><g class=\"c2 node n4 root\" transform=\"translate(70.6667 26.8)\"><g class=\"a4 leaf m0 node n0 s0 sample\" transform=\"translate(-30.4 94.6)\"><path class=\"edge\" d=\"M 0 0 V -94.6 H 30.4\" /><g class=\"mut m0 s0 unknown_time\" transform=\"translate(0 -47.3)\"><line x1=\"0\" x2=\"0\" y1=\"0\" y2=\"47.3\" /><path class=\"sym\" d=\"M -3,-3 l 6,6 M -3,3 l 6,-6\" /><text class=\"lab lft\" transform=\"translate(-5 0)\">(0)A→T</text></g><rect class=\"sym\" height=\"6\" width=\"6\" x=\"-3\" y=\"-3\" /><text class=\"lab\" transform=\"translate(0 11)\">0</text></g><g class=\"a4 c2 node n3\" transform=\"translate(30.4 47.3)\"><g class=\"a3 leaf node n1 sample\" transform=\"translate(-20.2667 47.3)\"><path class=\"edge\" d=\"M 0 0 V -47.3 H 20.2667\" /><rect class=\"sym\" height=\"6\" width=\"6\" x=\"-3\" y=\"-3\" /><text class=\"lab\" transform=\"translate(0 11)\">1</text></g><g class=\"a3 leaf node n2 sample\" transform=\"translate(20.2667 47.3)\"><path class=\"edge\" d=\"M 0 0 V -47.3 H -20.2667\" /><rect class=\"sym\" height=\"6\" width=\"6\" x=\"-3\" y=\"-3\" /><text class=\"lab\" transform=\"translate(0 11)\">2</text></g><path class=\"edge\" d=\"M 0 0 V -47.3 H -30.4\" /><circle class=\"sym\" cx=\"0\" cy=\"0\" r=\"3\" /><text class=\"lab rgt\" transform=\"translate(3 -7.0)\">3</text></g><circle class=\"sym\" cx=\"0\" cy=\"0\" r=\"3\" /><text class=\"lab\" transform=\"translate(0 -11)\">4</text></g></g></g><g class=\"tree t1\" transform=\"translate(218.4 0)\"><g class=\"plotbox\"><g class=\"c2 node n6 root\" transform=\"translate(90.9333 26.8)\"><g class=\"a6 leaf m1 node n2 s1 sample\" transform=\"translate(30.4 94.6)\"><path class=\"edge\" d=\"M 0 0 V -94.6 H -30.4\" /><g class=\"mut m1 s1 unknown_time\" transform=\"translate(0 -47.3)\"><line x1=\"0\" x2=\"0\" y1=\"0\" y2=\"47.3\" /><path class=\"sym\" d=\"M -3,-3 l 6,6 M -3,3 l 6,-6\" /><text class=\"lab rgt\" transform=\"translate(5 0)\">(1)G→A</text></g><rect class=\"sym\" height=\"6\" width=\"6\" x=\"-3\" y=\"-3\" /><text class=\"lab\" transform=\"translate(0 11)\">2</text></g><g class=\"a6 c2 node n5\" transform=\"translate(-30.4 47.3)\"><g class=\"a5 leaf node n0 sample\" transform=\"translate(-20.2667 47.3)\"><path class=\"edge\" d=\"M 0 0 V -47.3 H 20.2667\" /><rect class=\"sym\" height=\"6\" width=\"6\" x=\"-3\" y=\"-3\" /><text class=\"lab\" transform=\"translate(0 11)\">0</text></g><g class=\"a5 leaf node n1 sample\" transform=\"translate(20.2667 47.3)\"><path class=\"edge\" d=\"M 0 0 V -47.3 H -20.2667\" /><rect class=\"sym\" height=\"6\" width=\"6\" x=\"-3\" y=\"-3\" /><text class=\"lab\" transform=\"translate(0 11)\">1</text></g><path class=\"edge\" d=\"M 0 0 V -47.3 H 30.4\" /><circle class=\"sym\" cx=\"0\" cy=\"0\" r=\"3\" /><text class=\"lab lft\" transform=\"translate(-3 -7.0)\">5</text></g><circle class=\"sym\" cx=\"0\" cy=\"0\" r=\"3\" /><text class=\"lab\" transform=\"translate(0 -11)\">6</text></g></g></g></g></g></svg>"
      ],
      "text/plain": [
       "'<svg baseProfile=\"full\" height=\"200\" version=\"1.1\" width=\"400\" xmlns=\"http://www.w3.org/2000/svg\" xmlns:ev=\"http://www.w3.org/2001/xml-events\" xmlns:xlink=\"http://www.w3.org/1999/xlink\"><defs><style type=\"text/css\"><![CDATA[.background path {fill: #808080; fill-opacity: 0}.background path:nth-child(odd) {fill-opacity: .1}.axes {font-size: 14px}.x-axis .tick .lab {font-weight: bold; dominant-baseline: hanging}.axes, .tree {font-size: 14px; text-anchor: middle}.axes line, .edge {stroke: black; fill: none}.y-axis .grid {stroke: #FAFAFA}.node > .sym {fill: black; stroke: none}.site > .sym {stroke: black}.mut text {fill: red; font-style: italic}.mut.extra text {fill: hotpink}.mut line {fill: none; stroke: none}.mut .sym {fill: none; stroke: red}.mut.extra .sym {stroke: hotpink}.node .mut .sym {stroke-width: 1.5px}.tree text, .tree-sequence text {dominant-baseline: central}.plotbox .lab.lft {text-anchor: end}.plotbox .lab.rgt {text-anchor: start}]]></style></defs><g class=\"tree-sequence\"><g class=\"background\"><path d=\"M56.8,0 l161.6,0 l0,138.2 l0,25 l0,5 l-161.6,0 l0,-5 l0,-25 l0,-138.2z\" /><path d=\"M218.4,0 l161.6,0 l0,138.2 l0,25 l0,5 l-161.6,0 l0,-5 l0,-25 l0,-138.2z\" /></g><g class=\"axes\"><g class=\"x-axis\"><g transform=\"translate(218.4 200)\"><text class=\"lab\" text-anchor=\"middle\" transform=\"translate(0 -11)\">Genome position</text></g><line x1=\"56.8\" x2=\"380\" y1=\"163.2\" y2=\"163.2\" /><g class=\"ticks\"><g class=\"tick\" transform=\"translate(56.8 163.2)\"><line x1=\"0\" x2=\"0\" y1=\"0\" y2=\"5\" /><g transform=\"translate(0 6)\"><text class=\"lab\">0</text></g></g><g class=\"tick\" transform=\"translate(218.4 163.2)\"><line x1=\"0\" x2=\"0\" y1=\"0\" y2=\"5\" /><g transform=\"translate(0 6)\"><text class=\"lab\">10</text></g></g><g class=\"tick\" transform=\"translate(380 163.2)\"><line x1=\"0\" x2=\"0\" y1=\"0\" y2=\"5\" /><g transform=\"translate(0 6)\"><text class=\"lab\">20</text></g></g></g><g class=\"site s0\" transform=\"translate(169.92 163.2)\"><line class=\"sym\" x1=\"0\" x2=\"0\" y1=\"0\" y2=\"-10\" /><g class=\"mut m0\"><polyline class=\"sym\" points=\"2.5,-6.5 0,-1.5 -2.5,-6.5\" /></g></g><g class=\"site s1\" transform=\"translate(283.04 163.2)\"><line class=\"sym\" x1=\"0\" x2=\"0\" y1=\"0\" y2=\"-10\" /><g class=\"mut m1\"><polyline class=\"sym\" points=\"2.5,-6.5 0,-1.5 -2.5,-6.5\" /></g></g></g><g class=\"y-axis\"><g transform=\"translate(0 65.7)\"><text class=\"lab\" text-anchor=\"middle\" transform=\"translate(11) rotate(-90)\">Time</text></g><line x1=\"56.8\" x2=\"56.8\" y1=\"121.4\" y2=\"10\" /><g class=\"ticks\"><g class=\"tick\" transform=\"translate(56.8 121.4)\"><line x1=\"0\" x2=\"-5\" y1=\"0\" y2=\"0\" /><g transform=\"translate(-6 0)\"><text class=\"lab\" text-anchor=\"end\">0</text></g></g><g class=\"tick\" transform=\"translate(56.8 74.1)\"><line x1=\"0\" x2=\"-5\" y1=\"0\" y2=\"0\" /><g transform=\"translate(-6 0)\"><text class=\"lab\" text-anchor=\"end\">2</text></g></g><g class=\"tick\" transform=\"translate(56.8 26.8)\"><line x1=\"0\" x2=\"-5\" y1=\"0\" y2=\"0\" /><g transform=\"translate(-6 0)\"><text class=\"lab\" text-anchor=\"end\">4</text></g></g></g></g></g><g class=\"plotbox trees\"><g class=\"tree t0\" transform=\"translate(56.8 0)\"><g class=\"plotbox\"><g class=\"c2 node n4 root\" transform=\"translate(70.6667 26.8)\"><g class=\"a4 leaf m0 node n0 s0 sample\" transform=\"translate(-30.4 94.6)\"><path class=\"edge\" d=\"M 0 0 V -94.6 H 30.4\" /><g class=\"mut m0 s0 unknown_time\" transform=\"translate(0 -47.3)\"><line x1=\"0\" x2=\"0\" y1=\"0\" y2=\"47.3\" /><path class=\"sym\" d=\"M -3,-3 l 6,6 M -3,3 l 6,-6\" /><text class=\"lab lft\" transform=\"translate(-5 0)\">(0)A→T</text></g><rect class=\"sym\" height=\"6\" width=\"6\" x=\"-3\" y=\"-3\" /><text class=\"lab\" transform=\"translate(0 11)\">0</text></g><g class=\"a4 c2 node n3\" transform=\"translate(30.4 47.3)\"><g class=\"a3 leaf node n1 sample\" transform=\"translate(-20.2667 47.3)\"><path class=\"edge\" d=\"M 0 0 V -47.3 H 20.2667\" /><rect class=\"sym\" height=\"6\" width=\"6\" x=\"-3\" y=\"-3\" /><text class=\"lab\" transform=\"translate(0 11)\">1</text></g><g class=\"a3 leaf node n2 sample\" transform=\"translate(20.2667 47.3)\"><path class=\"edge\" d=\"M 0 0 V -47.3 H -20.2667\" /><rect class=\"sym\" height=\"6\" width=\"6\" x=\"-3\" y=\"-3\" /><text class=\"lab\" transform=\"translate(0 11)\">2</text></g><path class=\"edge\" d=\"M 0 0 V -47.3 H -30.4\" /><circle class=\"sym\" cx=\"0\" cy=\"0\" r=\"3\" /><text class=\"lab rgt\" transform=\"translate(3 -7.0)\">3</text></g><circle class=\"sym\" cx=\"0\" cy=\"0\" r=\"3\" /><text class=\"lab\" transform=\"translate(0 -11)\">4</text></g></g></g><g class=\"tree t1\" transform=\"translate(218.4 0)\"><g class=\"plotbox\"><g class=\"c2 node n6 root\" transform=\"translate(90.9333 26.8)\"><g class=\"a6 leaf m1 node n2 s1 sample\" transform=\"translate(30.4 94.6)\"><path class=\"edge\" d=\"M 0 0 V -94.6 H -30.4\" /><g class=\"mut m1 s1 unknown_time\" transform=\"translate(0 -47.3)\"><line x1=\"0\" x2=\"0\" y1=\"0\" y2=\"47.3\" /><path class=\"sym\" d=\"M -3,-3 l 6,6 M -3,3 l 6,-6\" /><text class=\"lab rgt\" transform=\"translate(5 0)\">(1)G→A</text></g><rect class=\"sym\" height=\"6\" width=\"6\" x=\"-3\" y=\"-3\" /><text class=\"lab\" transform=\"translate(0 11)\">2</text></g><g class=\"a6 c2 node n5\" transform=\"translate(-30.4 47.3)\"><g class=\"a5 leaf node n0 sample\" transform=\"translate(-20.2667 47.3)\"><path class=\"edge\" d=\"M 0 0 V -47.3 H 20.2667\" /><rect class=\"sym\" height=\"6\" width=\"6\" x=\"-3\" y=\"-3\" /><text class=\"lab\" transform=\"translate(0 11)\">0</text></g><g class=\"a5 leaf node n1 sample\" transform=\"translate(20.2667 47.3)\"><path class=\"edge\" d=\"M 0 0 V -47.3 H -20.2667\" /><rect class=\"sym\" height=\"6\" width=\"6\" x=\"-3\" y=\"-3\" /><text class=\"lab\" transform=\"translate(0 11)\">1</text></g><path class=\"edge\" d=\"M 0 0 V -47.3 H 30.4\" /><circle class=\"sym\" cx=\"0\" cy=\"0\" r=\"3\" /><text class=\"lab lft\" transform=\"translate(-3 -7.0)\">5</text></g><circle class=\"sym\" cx=\"0\" cy=\"0\" r=\"3\" /><text class=\"lab\" transform=\"translate(0 -11)\">6</text></g></g></g></g></g></svg>'"
      ]
     },
     "execution_count": 119,
     "metadata": {},
     "output_type": "execute_result"
    }
   ],
   "source": [
    "import tskit\n",
    "import io\n",
    "\n",
    "nodes = \"\"\"\\\n",
    "is_sample time\n",
    "1         0\n",
    "1         0\n",
    "1         0\n",
    "0         2\n",
    "0         4\n",
    "0         2\n",
    "0         4\n",
    "\"\"\"\n",
    "\n",
    "edges = \"\"\"\\\n",
    "left right parent child\n",
    "0    10    4      0,3\n",
    "0    10    3      1,2\n",
    "10   20    5      0,1\n",
    "10   20    6      2,5\n",
    "\"\"\"\n",
    "\n",
    "sites = \"\"\"\\\n",
    "position ancestral_state\n",
    "7        A\n",
    "14       G\n",
    "\"\"\"\n",
    "\n",
    "mutations = \"\"\"\\\n",
    "site node parent derived_state\n",
    "0    0    -1     T\n",
    "1    2    -1     A\n",
    "# \"\"\"\n",
    "\n",
    "ts = tskit.load_text(\n",
    "    nodes=io.StringIO(nodes),\n",
    "    edges=io.StringIO(edges),\n",
    "    sites=io.StringIO(sites),\n",
    "    mutations=io.StringIO(mutations),\n",
    "    strict=False,\n",
    ")\n",
    "\n",
    "mut_labels = {}  # An array of labels for the mutations\n",
    "for mut in ts.mutations():  # Make pretty labels showing the change in state\n",
    "    site = ts.site(mut.site)\n",
    "    older_mut = mut.parent >= 0  # is there an older mutation at the same position?\n",
    "    prev = ts.mutation(mut.parent).derived_state if older_mut else site.ancestral_state\n",
    "    mut_labels[mut.id] = f\"({mut.site}){prev}→{mut.derived_state}\"\n",
    "\n",
    "ts.draw_svg(\n",
    "    y_axis=True,\n",
    "    mutation_labels=mut_labels\n",
    ")"
   ]
  },
  {
   "cell_type": "code",
   "execution_count": 121,
   "id": "93a05ce4-9725-4fc4-97ef-1815cc577ff5",
   "metadata": {},
   "outputs": [],
   "source": [
    "# ts.dump('../tree-simple-1.tree')"
   ]
  },
  {
   "cell_type": "code",
   "execution_count": 122,
   "id": "f9fbfa11-2f6b-4dd7-b8b0-478b9a187a34",
   "metadata": {},
   "outputs": [],
   "source": [
    "# ts.diversity(span_normalise=False, sample_sets=[[0, 1, 2], [3, 4, 5], [4, 5, 6], [1, 2]])"
   ]
  },
  {
   "cell_type": "code",
   "execution_count": 123,
   "id": "d2f93b4a-9fb5-49ea-b23e-831ee38e2630",
   "metadata": {},
   "outputs": [
    {
     "name": "stdout",
     "output_type": "stream",
     "text": [
      "[[2.]\n",
      " [1.]]\n",
      "[[2.]\n",
      " [1.]]\n"
     ]
    }
   ],
   "source": [
    "# sample_sets = [[0, 1, 2], [3, 4, 5], [4, 5, 6], [1, 2]]\n",
    "sample_sets = [[0, 1, 2]]\n",
    "\n",
    "tj = 0\n",
    "tk = 0\n",
    "t_left = 0\n",
    "tree_iter = enumerate(ts.trees())\n",
    "tree_index, tree = next(tree_iter)\n",
    "window_index = 0\n",
    "I = ts.indexes_edge_insertion_order\n",
    "O = ts.indexes_edge_removal_order\n",
    "parent = -np.ones(ts.num_nodes, dtype=np.int32)\n",
    "\n",
    "state = np.zeros((ts.num_nodes, len(sample_sets)), dtype=np.int32)\n",
    "allele_state = []\n",
    "\n",
    "for i, sample_set in enumerate(sample_sets):\n",
    "    state[sample_set, i] = 1\n",
    "\n",
    "while (tj < ts.num_edges) or (t_left < ts.sequence_length):\n",
    "    while (tk < ts.num_edges) and (ts.edges_right[O[tk]] == t_left):\n",
    "        h = O[tk]\n",
    "        tk += 1\n",
    "        u = ts.edges_child[h]\n",
    "        v = ts.edges_parent[h]\n",
    "        while (v != -1):\n",
    "            state[v] += -state[u]\n",
    "            v = parent[v]\n",
    "        parent[u] = -1\n",
    "    while (tj < ts.num_edges) and (ts.edges_left[I[tj]] == t_left):\n",
    "        h = I[tj]\n",
    "        tj += 1\n",
    "        u = ts.edges_child[h]\n",
    "        v = ts.edges_parent[h]\n",
    "        parent[u] = v\n",
    "        while (v != -1):\n",
    "            state[v] += state[u]\n",
    "            v = parent[v]\n",
    "    t_right = ts.sequence_length\n",
    "    if (tj < ts.num_edges):\n",
    "        t_right = min(t_right, ts.edges_left[I[tj]])\n",
    "    if (tk < ts.num_edges):\n",
    "        t_right = min(t_right, ts.edges_right[O[tk]])\n",
    "\n",
    "    for site in tree.sites():\n",
    "        allele_mat = np.zeros((len(site.mutations) + 1, len(sample_sets)))\n",
    "        allele_states = [site.ancestral_state]\n",
    "        allele = 0\n",
    "        allele_mat[allele] = np.array(list(map(len, sample_sets)))\n",
    "        for mutation in site.mutations:\n",
    "\n",
    "            if mutation.derived_state in allele_states:\n",
    "                allele = allele_states.index(mutation.derived_state)\n",
    "            else:\n",
    "                allele_states.append(mutation.derived_state)\n",
    "                allele = len(allele_states) - 1\n",
    "            allele_mat[allele] += state[mutation.node]\n",
    "\n",
    "            alt_allele = allele_states.index(site.ancestral_state)\n",
    "            if mutation.parent != -1:\n",
    "                # TODO haven't exercised this code path yet\n",
    "                alt_allele = allele_states.index(site.mutations[mutation.parent - site.mutations[0].id].derived_state)\n",
    "            allele_mat[alt_allele] -= state[mutation.node]\n",
    "\n",
    "        allele_state.append((len(allele_states), allele_mat))\n",
    "\n",
    "    try:\n",
    "        tree_index, tree = next(tree_iter)\n",
    "    except StopIteration:\n",
    "        tree_index += 1\n",
    "\n",
    "    t_left = t_right\n",
    "\n",
    "for _n_alleles, _a_state in allele_state:\n",
    "    print(_a_state)"
   ]
  },
  {
   "cell_type": "code",
   "execution_count": null,
   "id": "47920974-3097-44dc-b121-fd65ed5ab1ec",
   "metadata": {},
   "outputs": [],
   "source": []
  },
  {
   "cell_type": "code",
   "execution_count": 124,
   "id": "e62702ba-a24e-4267-9c46-c5edfbf3f1e7",
   "metadata": {},
   "outputs": [
    {
     "data": {
      "text/plain": [
       "array([0, 1, 4, 5, 2, 3, 6, 7], dtype=int32)"
      ]
     },
     "execution_count": 124,
     "metadata": {},
     "output_type": "execute_result"
    }
   ],
   "source": [
    "ts.indexes_edge_insertion_order"
   ]
  },
  {
   "cell_type": "code",
   "execution_count": 125,
   "id": "7fa7543e-f3fd-4040-8f45-2a7f10b98208",
   "metadata": {},
   "outputs": [
    {
     "data": {
      "text/plain": [
       "array([5, 4, 1, 0, 7, 6, 3, 2], dtype=int32)"
      ]
     },
     "execution_count": 125,
     "metadata": {},
     "output_type": "execute_result"
    }
   ],
   "source": [
    "ts.indexes_edge_removal_order"
   ]
  },
  {
   "cell_type": "code",
   "execution_count": 126,
   "id": "74aec696-160f-49a7-adc2-72a895d025b1",
   "metadata": {},
   "outputs": [
    {
     "data": {
      "text/plain": [
       "[0, 1, 2, 3, 4]"
      ]
     },
     "execution_count": 126,
     "metadata": {},
     "output_type": "execute_result"
    }
   ],
   "source": [
    "list(ts.at_index(0).nodes(order='postorder'))"
   ]
  },
  {
   "cell_type": "code",
   "execution_count": 127,
   "id": "5f154735-fcdd-4b57-b93c-fb07fc195b33",
   "metadata": {},
   "outputs": [
    {
     "data": {
      "text/plain": [
       "[4, 0, 3, 1, 2]"
      ]
     },
     "execution_count": 127,
     "metadata": {},
     "output_type": "execute_result"
    }
   ],
   "source": [
    "list(ts.at_index(0).nodes(order='preorder'))"
   ]
  },
  {
   "cell_type": "code",
   "execution_count": 128,
   "id": "a20e90fe-56fb-4173-a354-8062354ae358",
   "metadata": {},
   "outputs": [
    {
     "data": {
      "text/plain": [
       "[0, 4, 1, 3, 2]"
      ]
     },
     "execution_count": 128,
     "metadata": {},
     "output_type": "execute_result"
    }
   ],
   "source": [
    "list(ts.at_index(0).nodes(order='inorder'))"
   ]
  },
  {
   "cell_type": "code",
   "execution_count": 129,
   "id": "e05988cd-62bd-4906-aa21-1486af0e58ad",
   "metadata": {},
   "outputs": [],
   "source": [
    "def diversity_summary_func(state, sample_sets):\n",
    "    x = state\n",
    "    n = np.array([len(ss) for ss in sample_sets])  # sample_set_sizes\n",
    "    return x * (n - x) / (n * (n - 1))"
   ]
  },
  {
   "cell_type": "code",
   "execution_count": 130,
   "id": "942dbd68-9f79-41b3-a5a9-248bc20fd857",
   "metadata": {},
   "outputs": [],
   "source": [
    "stats = []\n",
    "for _n_alleles, _a_state in allele_state:\n",
    "    for i in range(_n_alleles):  # If polarized, range from 1\n",
    "        stats.append(diversity_summary_func(_a_state[i], sample_sets))"
   ]
  },
  {
   "cell_type": "code",
   "execution_count": 131,
   "id": "83cdeebe-99e2-48f5-8b18-5703737536e3",
   "metadata": {},
   "outputs": [
    {
     "data": {
      "text/plain": [
       "array([1.])"
      ]
     },
     "execution_count": 131,
     "metadata": {},
     "output_type": "execute_result"
    }
   ],
   "source": [
    "_a_state[i]"
   ]
  },
  {
   "cell_type": "code",
   "execution_count": 132,
   "id": "03c0a76c-abac-4fb5-b6b3-adb17afc2783",
   "metadata": {},
   "outputs": [
    {
     "data": {
      "text/plain": [
       "array([[2.],\n",
       "       [1.]])"
      ]
     },
     "execution_count": 132,
     "metadata": {},
     "output_type": "execute_result"
    }
   ],
   "source": [
    "_a_state"
   ]
  },
  {
   "cell_type": "code",
   "execution_count": 133,
   "id": "f9cc351e-ce01-4d71-af75-46c48f32af1a",
   "metadata": {},
   "outputs": [
    {
     "data": {
      "text/plain": [
       "array([1.33333333])"
      ]
     },
     "execution_count": 133,
     "metadata": {},
     "output_type": "execute_result"
    }
   ],
   "source": [
    "np.vstack(stats).sum(0)"
   ]
  },
  {
   "cell_type": "code",
   "execution_count": 134,
   "id": "d760b896-5bd6-4f0a-a19c-7a0caae8c525",
   "metadata": {},
   "outputs": [
    {
     "data": {
      "text/plain": [
       "array(1.33333333)"
      ]
     },
     "execution_count": 134,
     "metadata": {},
     "output_type": "execute_result"
    }
   ],
   "source": [
    "ts.diversity(span_normalise=False)"
   ]
  },
  {
   "cell_type": "code",
   "execution_count": 135,
   "id": "91326d94-3e22-4066-bc78-5c2828a2c6aa",
   "metadata": {},
   "outputs": [],
   "source": [
    "from IPython import display"
   ]
  },
  {
   "cell_type": "code",
   "execution_count": 300,
   "id": "cdfea8f5-c779-43b3-9601-e41b672413cd",
   "metadata": {
    "scrolled": true,
    "tags": []
   },
   "outputs": [
    {
     "name": "stdout",
     "output_type": "stream",
     "text": [
      "[1]\n"
     ]
    },
    {
     "data": {
      "image/svg+xml": [
       "<svg baseProfile=\"full\" height=\"300\" version=\"1.1\" width=\"1000\" xmlns=\"http://www.w3.org/2000/svg\" xmlns:ev=\"http://www.w3.org/2001/xml-events\" xmlns:xlink=\"http://www.w3.org/1999/xlink\"><defs><style type=\"text/css\"><![CDATA[.background path {fill: #808080; fill-opacity: 0}.background path:nth-child(odd) {fill-opacity: .1}.axes {font-size: 14px}.x-axis .tick .lab {font-weight: bold; dominant-baseline: hanging}.axes, .tree {font-size: 14px; text-anchor: middle}.axes line, .edge {stroke: black; fill: none}.y-axis .grid {stroke: #FAFAFA}.node > .sym {fill: black; stroke: none}.site > .sym {stroke: black}.mut text {fill: red; font-style: italic}.mut.extra text {fill: hotpink}.mut line {fill: none; stroke: none}.mut .sym {fill: none; stroke: red}.mut.extra .sym {stroke: hotpink}.node .mut .sym {stroke-width: 1.5px}.tree text, .tree-sequence text {dominant-baseline: central}.plotbox .lab.lft {text-anchor: end}.plotbox .lab.rgt {text-anchor: start}.a3.n1 > .edge {stroke: cyan; stroke-width: 2px}]]></style></defs><g class=\"tree-sequence\"><g class=\"background\"><path d=\"M20,0 l480,0 l0,238.2 l0,25 l0,5 l-480,0 l0,-5 l0,-25 l0,-238.2z\" /><path d=\"M500,0 l480,0 l0,238.2 l0,25 l0,5 l-480,0 l0,-5 l0,-25 l0,-238.2z\" /></g><g class=\"axes\"><g class=\"x-axis\"><g transform=\"translate(500 300)\"><text class=\"lab\" text-anchor=\"middle\" transform=\"translate(0 -11)\">Genome position</text></g><line x1=\"20\" x2=\"980\" y1=\"263.2\" y2=\"263.2\" /><g class=\"ticks\"><g class=\"tick\" transform=\"translate(20 263.2)\"><line x1=\"0\" x2=\"0\" y1=\"0\" y2=\"5\" /><g transform=\"translate(0 6)\"><text class=\"lab\">0</text></g></g><g class=\"tick\" transform=\"translate(500 263.2)\"><line x1=\"0\" x2=\"0\" y1=\"0\" y2=\"5\" /><g transform=\"translate(0 6)\"><text class=\"lab\">10</text></g></g><g class=\"tick\" transform=\"translate(980 263.2)\"><line x1=\"0\" x2=\"0\" y1=\"0\" y2=\"5\" /><g transform=\"translate(0 6)\"><text class=\"lab\">20</text></g></g></g><g class=\"site s0\" transform=\"translate(356 263.2)\"><line class=\"sym\" x1=\"0\" x2=\"0\" y1=\"0\" y2=\"-10\" /><g class=\"mut m0\"><polyline class=\"sym\" points=\"2.5,-6.5 0,-1.5 -2.5,-6.5\" /></g></g><g class=\"site s1\" transform=\"translate(692 263.2)\"><line class=\"sym\" x1=\"0\" x2=\"0\" y1=\"0\" y2=\"-10\" /><g class=\"mut m1\"><polyline class=\"sym\" points=\"2.5,-6.5 0,-1.5 -2.5,-6.5\" /></g></g></g></g><g class=\"plotbox trees\"><g class=\"tree t0\" transform=\"translate(20 0)\"><g class=\"plotbox\"><g class=\"c2 node n4 root\" transform=\"translate(203.333 26.8)\"><g class=\"a4 leaf m0 node n0 s0 sample\" transform=\"translate(-110 194.6)\"><path class=\"edge\" d=\"M 0 0 V -194.6 H 110\" /><g class=\"mut m0 s0 unknown_time\" transform=\"translate(0 -97.3)\"><line x1=\"0\" x2=\"0\" y1=\"0\" y2=\"97.3\" /><path class=\"sym\" d=\"M -3,-3 l 6,6 M -3,3 l 6,-6\" /><text class=\"lab lft\" transform=\"translate(-5 0)\">0</text></g><rect class=\"sym\" height=\"6\" width=\"6\" x=\"-3\" y=\"-3\" /><text class=\"lab\" transform=\"translate(0 11)\">0</text></g><g class=\"a4 c2 node n3\" transform=\"translate(110 97.3)\"><g class=\"a3 leaf node n1 sample\" transform=\"translate(-73.3333 97.3)\"><path class=\"edge\" d=\"M 0 0 V -97.3 H 73.3333\" /><rect class=\"sym\" height=\"6\" width=\"6\" x=\"-3\" y=\"-3\" /><text class=\"lab\" transform=\"translate(0 11)\">1</text></g><g class=\"a3 leaf node n2 sample\" transform=\"translate(73.3333 97.3)\"><path class=\"edge\" d=\"M 0 0 V -97.3 H -73.3333\" /><rect class=\"sym\" height=\"6\" width=\"6\" x=\"-3\" y=\"-3\" /><text class=\"lab\" transform=\"translate(0 11)\">2</text></g><path class=\"edge\" d=\"M 0 0 V -97.3 H -110\" /><circle class=\"sym\" cx=\"0\" cy=\"0\" r=\"3\" /><text class=\"lab rgt\" transform=\"translate(3 -7.0)\">3</text></g><circle class=\"sym\" cx=\"0\" cy=\"0\" r=\"3\" /><text class=\"lab\" transform=\"translate(0 -11)\">4</text></g></g></g><g class=\"tree t1\" transform=\"translate(500 0)\"><g class=\"plotbox\"><g class=\"c2 node n6 root\" transform=\"translate(276.667 26.8)\"><g class=\"a6 leaf m1 node n2 s1 sample\" transform=\"translate(110 194.6)\"><path class=\"edge\" d=\"M 0 0 V -194.6 H -110\" /><g class=\"mut m1 s1 unknown_time\" transform=\"translate(0 -97.3)\"><line x1=\"0\" x2=\"0\" y1=\"0\" y2=\"97.3\" /><path class=\"sym\" d=\"M -3,-3 l 6,6 M -3,3 l 6,-6\" /><text class=\"lab rgt\" transform=\"translate(5 0)\">1</text></g><rect class=\"sym\" height=\"6\" width=\"6\" x=\"-3\" y=\"-3\" /><text class=\"lab\" transform=\"translate(0 11)\">2</text></g><g class=\"a6 c2 node n5\" transform=\"translate(-110 97.3)\"><g class=\"a5 leaf node n0 sample\" transform=\"translate(-73.3333 97.3)\"><path class=\"edge\" d=\"M 0 0 V -97.3 H 73.3333\" /><rect class=\"sym\" height=\"6\" width=\"6\" x=\"-3\" y=\"-3\" /><text class=\"lab\" transform=\"translate(0 11)\">0</text></g><g class=\"a5 leaf node n1 sample\" transform=\"translate(73.3333 97.3)\"><path class=\"edge\" d=\"M 0 0 V -97.3 H -73.3333\" /><rect class=\"sym\" height=\"6\" width=\"6\" x=\"-3\" y=\"-3\" /><text class=\"lab\" transform=\"translate(0 11)\">1</text></g><path class=\"edge\" d=\"M 0 0 V -97.3 H 110\" /><circle class=\"sym\" cx=\"0\" cy=\"0\" r=\"3\" /><text class=\"lab lft\" transform=\"translate(-3 -7.0)\">5</text></g><circle class=\"sym\" cx=\"0\" cy=\"0\" r=\"3\" /><text class=\"lab\" transform=\"translate(0 -11)\">6</text></g></g></g></g></g></svg>"
      ],
      "text/plain": [
       "'<svg baseProfile=\"full\" height=\"300\" version=\"1.1\" width=\"1000\" xmlns=\"http://www.w3.org/2000/svg\" xmlns:ev=\"http://www.w3.org/2001/xml-events\" xmlns:xlink=\"http://www.w3.org/1999/xlink\"><defs><style type=\"text/css\"><![CDATA[.background path {fill: #808080; fill-opacity: 0}.background path:nth-child(odd) {fill-opacity: .1}.axes {font-size: 14px}.x-axis .tick .lab {font-weight: bold; dominant-baseline: hanging}.axes, .tree {font-size: 14px; text-anchor: middle}.axes line, .edge {stroke: black; fill: none}.y-axis .grid {stroke: #FAFAFA}.node > .sym {fill: black; stroke: none}.site > .sym {stroke: black}.mut text {fill: red; font-style: italic}.mut.extra text {fill: hotpink}.mut line {fill: none; stroke: none}.mut .sym {fill: none; stroke: red}.mut.extra .sym {stroke: hotpink}.node .mut .sym {stroke-width: 1.5px}.tree text, .tree-sequence text {dominant-baseline: central}.plotbox .lab.lft {text-anchor: end}.plotbox .lab.rgt {text-anchor: start}.a3.n1 > .edge {stroke: cyan; stroke-width: 2px}]]></style></defs><g class=\"tree-sequence\"><g class=\"background\"><path d=\"M20,0 l480,0 l0,238.2 l0,25 l0,5 l-480,0 l0,-5 l0,-25 l0,-238.2z\" /><path d=\"M500,0 l480,0 l0,238.2 l0,25 l0,5 l-480,0 l0,-5 l0,-25 l0,-238.2z\" /></g><g class=\"axes\"><g class=\"x-axis\"><g transform=\"translate(500 300)\"><text class=\"lab\" text-anchor=\"middle\" transform=\"translate(0 -11)\">Genome position</text></g><line x1=\"20\" x2=\"980\" y1=\"263.2\" y2=\"263.2\" /><g class=\"ticks\"><g class=\"tick\" transform=\"translate(20 263.2)\"><line x1=\"0\" x2=\"0\" y1=\"0\" y2=\"5\" /><g transform=\"translate(0 6)\"><text class=\"lab\">0</text></g></g><g class=\"tick\" transform=\"translate(500 263.2)\"><line x1=\"0\" x2=\"0\" y1=\"0\" y2=\"5\" /><g transform=\"translate(0 6)\"><text class=\"lab\">10</text></g></g><g class=\"tick\" transform=\"translate(980 263.2)\"><line x1=\"0\" x2=\"0\" y1=\"0\" y2=\"5\" /><g transform=\"translate(0 6)\"><text class=\"lab\">20</text></g></g></g><g class=\"site s0\" transform=\"translate(356 263.2)\"><line class=\"sym\" x1=\"0\" x2=\"0\" y1=\"0\" y2=\"-10\" /><g class=\"mut m0\"><polyline class=\"sym\" points=\"2.5,-6.5 0,-1.5 -2.5,-6.5\" /></g></g><g class=\"site s1\" transform=\"translate(692 263.2)\"><line class=\"sym\" x1=\"0\" x2=\"0\" y1=\"0\" y2=\"-10\" /><g class=\"mut m1\"><polyline class=\"sym\" points=\"2.5,-6.5 0,-1.5 -2.5,-6.5\" /></g></g></g></g><g class=\"plotbox trees\"><g class=\"tree t0\" transform=\"translate(20 0)\"><g class=\"plotbox\"><g class=\"c2 node n4 root\" transform=\"translate(203.333 26.8)\"><g class=\"a4 leaf m0 node n0 s0 sample\" transform=\"translate(-110 194.6)\"><path class=\"edge\" d=\"M 0 0 V -194.6 H 110\" /><g class=\"mut m0 s0 unknown_time\" transform=\"translate(0 -97.3)\"><line x1=\"0\" x2=\"0\" y1=\"0\" y2=\"97.3\" /><path class=\"sym\" d=\"M -3,-3 l 6,6 M -3,3 l 6,-6\" /><text class=\"lab lft\" transform=\"translate(-5 0)\">0</text></g><rect class=\"sym\" height=\"6\" width=\"6\" x=\"-3\" y=\"-3\" /><text class=\"lab\" transform=\"translate(0 11)\">0</text></g><g class=\"a4 c2 node n3\" transform=\"translate(110 97.3)\"><g class=\"a3 leaf node n1 sample\" transform=\"translate(-73.3333 97.3)\"><path class=\"edge\" d=\"M 0 0 V -97.3 H 73.3333\" /><rect class=\"sym\" height=\"6\" width=\"6\" x=\"-3\" y=\"-3\" /><text class=\"lab\" transform=\"translate(0 11)\">1</text></g><g class=\"a3 leaf node n2 sample\" transform=\"translate(73.3333 97.3)\"><path class=\"edge\" d=\"M 0 0 V -97.3 H -73.3333\" /><rect class=\"sym\" height=\"6\" width=\"6\" x=\"-3\" y=\"-3\" /><text class=\"lab\" transform=\"translate(0 11)\">2</text></g><path class=\"edge\" d=\"M 0 0 V -97.3 H -110\" /><circle class=\"sym\" cx=\"0\" cy=\"0\" r=\"3\" /><text class=\"lab rgt\" transform=\"translate(3 -7.0)\">3</text></g><circle class=\"sym\" cx=\"0\" cy=\"0\" r=\"3\" /><text class=\"lab\" transform=\"translate(0 -11)\">4</text></g></g></g><g class=\"tree t1\" transform=\"translate(500 0)\"><g class=\"plotbox\"><g class=\"c2 node n6 root\" transform=\"translate(276.667 26.8)\"><g class=\"a6 leaf m1 node n2 s1 sample\" transform=\"translate(110 194.6)\"><path class=\"edge\" d=\"M 0 0 V -194.6 H -110\" /><g class=\"mut m1 s1 unknown_time\" transform=\"translate(0 -97.3)\"><line x1=\"0\" x2=\"0\" y1=\"0\" y2=\"97.3\" /><path class=\"sym\" d=\"M -3,-3 l 6,6 M -3,3 l 6,-6\" /><text class=\"lab rgt\" transform=\"translate(5 0)\">1</text></g><rect class=\"sym\" height=\"6\" width=\"6\" x=\"-3\" y=\"-3\" /><text class=\"lab\" transform=\"translate(0 11)\">2</text></g><g class=\"a6 c2 node n5\" transform=\"translate(-110 97.3)\"><g class=\"a5 leaf node n0 sample\" transform=\"translate(-73.3333 97.3)\"><path class=\"edge\" d=\"M 0 0 V -97.3 H 73.3333\" /><rect class=\"sym\" height=\"6\" width=\"6\" x=\"-3\" y=\"-3\" /><text class=\"lab\" transform=\"translate(0 11)\">0</text></g><g class=\"a5 leaf node n1 sample\" transform=\"translate(73.3333 97.3)\"><path class=\"edge\" d=\"M 0 0 V -97.3 H -73.3333\" /><rect class=\"sym\" height=\"6\" width=\"6\" x=\"-3\" y=\"-3\" /><text class=\"lab\" transform=\"translate(0 11)\">1</text></g><path class=\"edge\" d=\"M 0 0 V -97.3 H 110\" /><circle class=\"sym\" cx=\"0\" cy=\"0\" r=\"3\" /><text class=\"lab lft\" transform=\"translate(-3 -7.0)\">5</text></g><circle class=\"sym\" cx=\"0\" cy=\"0\" r=\"3\" /><text class=\"lab\" transform=\"translate(0 -11)\">6</text></g></g></g></g></g></svg>'"
      ]
     },
     "metadata": {},
     "output_type": "display_data"
    },
    {
     "name": "stdout",
     "output_type": "stream",
     "text": [
      "[1]\n"
     ]
    },
    {
     "data": {
      "image/svg+xml": [
       "<svg baseProfile=\"full\" height=\"300\" version=\"1.1\" width=\"1000\" xmlns=\"http://www.w3.org/2000/svg\" xmlns:ev=\"http://www.w3.org/2001/xml-events\" xmlns:xlink=\"http://www.w3.org/1999/xlink\"><defs><style type=\"text/css\"><![CDATA[.background path {fill: #808080; fill-opacity: 0}.background path:nth-child(odd) {fill-opacity: .1}.axes {font-size: 14px}.x-axis .tick .lab {font-weight: bold; dominant-baseline: hanging}.axes, .tree {font-size: 14px; text-anchor: middle}.axes line, .edge {stroke: black; fill: none}.y-axis .grid {stroke: #FAFAFA}.node > .sym {fill: black; stroke: none}.site > .sym {stroke: black}.mut text {fill: red; font-style: italic}.mut.extra text {fill: hotpink}.mut line {fill: none; stroke: none}.mut .sym {fill: none; stroke: red}.mut.extra .sym {stroke: hotpink}.node .mut .sym {stroke-width: 1.5px}.tree text, .tree-sequence text {dominant-baseline: central}.plotbox .lab.lft {text-anchor: end}.plotbox .lab.rgt {text-anchor: start}.a3.n2 > .edge {stroke: cyan; stroke-width: 2px}]]></style></defs><g class=\"tree-sequence\"><g class=\"background\"><path d=\"M20,0 l480,0 l0,238.2 l0,25 l0,5 l-480,0 l0,-5 l0,-25 l0,-238.2z\" /><path d=\"M500,0 l480,0 l0,238.2 l0,25 l0,5 l-480,0 l0,-5 l0,-25 l0,-238.2z\" /></g><g class=\"axes\"><g class=\"x-axis\"><g transform=\"translate(500 300)\"><text class=\"lab\" text-anchor=\"middle\" transform=\"translate(0 -11)\">Genome position</text></g><line x1=\"20\" x2=\"980\" y1=\"263.2\" y2=\"263.2\" /><g class=\"ticks\"><g class=\"tick\" transform=\"translate(20 263.2)\"><line x1=\"0\" x2=\"0\" y1=\"0\" y2=\"5\" /><g transform=\"translate(0 6)\"><text class=\"lab\">0</text></g></g><g class=\"tick\" transform=\"translate(500 263.2)\"><line x1=\"0\" x2=\"0\" y1=\"0\" y2=\"5\" /><g transform=\"translate(0 6)\"><text class=\"lab\">10</text></g></g><g class=\"tick\" transform=\"translate(980 263.2)\"><line x1=\"0\" x2=\"0\" y1=\"0\" y2=\"5\" /><g transform=\"translate(0 6)\"><text class=\"lab\">20</text></g></g></g><g class=\"site s0\" transform=\"translate(356 263.2)\"><line class=\"sym\" x1=\"0\" x2=\"0\" y1=\"0\" y2=\"-10\" /><g class=\"mut m0\"><polyline class=\"sym\" points=\"2.5,-6.5 0,-1.5 -2.5,-6.5\" /></g></g><g class=\"site s1\" transform=\"translate(692 263.2)\"><line class=\"sym\" x1=\"0\" x2=\"0\" y1=\"0\" y2=\"-10\" /><g class=\"mut m1\"><polyline class=\"sym\" points=\"2.5,-6.5 0,-1.5 -2.5,-6.5\" /></g></g></g></g><g class=\"plotbox trees\"><g class=\"tree t0\" transform=\"translate(20 0)\"><g class=\"plotbox\"><g class=\"c2 node n4 root\" transform=\"translate(203.333 26.8)\"><g class=\"a4 leaf m0 node n0 s0 sample\" transform=\"translate(-110 194.6)\"><path class=\"edge\" d=\"M 0 0 V -194.6 H 110\" /><g class=\"mut m0 s0 unknown_time\" transform=\"translate(0 -97.3)\"><line x1=\"0\" x2=\"0\" y1=\"0\" y2=\"97.3\" /><path class=\"sym\" d=\"M -3,-3 l 6,6 M -3,3 l 6,-6\" /><text class=\"lab lft\" transform=\"translate(-5 0)\">0</text></g><rect class=\"sym\" height=\"6\" width=\"6\" x=\"-3\" y=\"-3\" /><text class=\"lab\" transform=\"translate(0 11)\">0</text></g><g class=\"a4 c2 node n3\" transform=\"translate(110 97.3)\"><g class=\"a3 leaf node n1 sample\" transform=\"translate(-73.3333 97.3)\"><path class=\"edge\" d=\"M 0 0 V -97.3 H 73.3333\" /><rect class=\"sym\" height=\"6\" width=\"6\" x=\"-3\" y=\"-3\" /><text class=\"lab\" transform=\"translate(0 11)\">1</text></g><g class=\"a3 leaf node n2 sample\" transform=\"translate(73.3333 97.3)\"><path class=\"edge\" d=\"M 0 0 V -97.3 H -73.3333\" /><rect class=\"sym\" height=\"6\" width=\"6\" x=\"-3\" y=\"-3\" /><text class=\"lab\" transform=\"translate(0 11)\">2</text></g><path class=\"edge\" d=\"M 0 0 V -97.3 H -110\" /><circle class=\"sym\" cx=\"0\" cy=\"0\" r=\"3\" /><text class=\"lab rgt\" transform=\"translate(3 -7.0)\">3</text></g><circle class=\"sym\" cx=\"0\" cy=\"0\" r=\"3\" /><text class=\"lab\" transform=\"translate(0 -11)\">4</text></g></g></g><g class=\"tree t1\" transform=\"translate(500 0)\"><g class=\"plotbox\"><g class=\"c2 node n6 root\" transform=\"translate(276.667 26.8)\"><g class=\"a6 leaf m1 node n2 s1 sample\" transform=\"translate(110 194.6)\"><path class=\"edge\" d=\"M 0 0 V -194.6 H -110\" /><g class=\"mut m1 s1 unknown_time\" transform=\"translate(0 -97.3)\"><line x1=\"0\" x2=\"0\" y1=\"0\" y2=\"97.3\" /><path class=\"sym\" d=\"M -3,-3 l 6,6 M -3,3 l 6,-6\" /><text class=\"lab rgt\" transform=\"translate(5 0)\">1</text></g><rect class=\"sym\" height=\"6\" width=\"6\" x=\"-3\" y=\"-3\" /><text class=\"lab\" transform=\"translate(0 11)\">2</text></g><g class=\"a6 c2 node n5\" transform=\"translate(-110 97.3)\"><g class=\"a5 leaf node n0 sample\" transform=\"translate(-73.3333 97.3)\"><path class=\"edge\" d=\"M 0 0 V -97.3 H 73.3333\" /><rect class=\"sym\" height=\"6\" width=\"6\" x=\"-3\" y=\"-3\" /><text class=\"lab\" transform=\"translate(0 11)\">0</text></g><g class=\"a5 leaf node n1 sample\" transform=\"translate(73.3333 97.3)\"><path class=\"edge\" d=\"M 0 0 V -97.3 H -73.3333\" /><rect class=\"sym\" height=\"6\" width=\"6\" x=\"-3\" y=\"-3\" /><text class=\"lab\" transform=\"translate(0 11)\">1</text></g><path class=\"edge\" d=\"M 0 0 V -97.3 H 110\" /><circle class=\"sym\" cx=\"0\" cy=\"0\" r=\"3\" /><text class=\"lab lft\" transform=\"translate(-3 -7.0)\">5</text></g><circle class=\"sym\" cx=\"0\" cy=\"0\" r=\"3\" /><text class=\"lab\" transform=\"translate(0 -11)\">6</text></g></g></g></g></g></svg>"
      ],
      "text/plain": [
       "'<svg baseProfile=\"full\" height=\"300\" version=\"1.1\" width=\"1000\" xmlns=\"http://www.w3.org/2000/svg\" xmlns:ev=\"http://www.w3.org/2001/xml-events\" xmlns:xlink=\"http://www.w3.org/1999/xlink\"><defs><style type=\"text/css\"><![CDATA[.background path {fill: #808080; fill-opacity: 0}.background path:nth-child(odd) {fill-opacity: .1}.axes {font-size: 14px}.x-axis .tick .lab {font-weight: bold; dominant-baseline: hanging}.axes, .tree {font-size: 14px; text-anchor: middle}.axes line, .edge {stroke: black; fill: none}.y-axis .grid {stroke: #FAFAFA}.node > .sym {fill: black; stroke: none}.site > .sym {stroke: black}.mut text {fill: red; font-style: italic}.mut.extra text {fill: hotpink}.mut line {fill: none; stroke: none}.mut .sym {fill: none; stroke: red}.mut.extra .sym {stroke: hotpink}.node .mut .sym {stroke-width: 1.5px}.tree text, .tree-sequence text {dominant-baseline: central}.plotbox .lab.lft {text-anchor: end}.plotbox .lab.rgt {text-anchor: start}.a3.n2 > .edge {stroke: cyan; stroke-width: 2px}]]></style></defs><g class=\"tree-sequence\"><g class=\"background\"><path d=\"M20,0 l480,0 l0,238.2 l0,25 l0,5 l-480,0 l0,-5 l0,-25 l0,-238.2z\" /><path d=\"M500,0 l480,0 l0,238.2 l0,25 l0,5 l-480,0 l0,-5 l0,-25 l0,-238.2z\" /></g><g class=\"axes\"><g class=\"x-axis\"><g transform=\"translate(500 300)\"><text class=\"lab\" text-anchor=\"middle\" transform=\"translate(0 -11)\">Genome position</text></g><line x1=\"20\" x2=\"980\" y1=\"263.2\" y2=\"263.2\" /><g class=\"ticks\"><g class=\"tick\" transform=\"translate(20 263.2)\"><line x1=\"0\" x2=\"0\" y1=\"0\" y2=\"5\" /><g transform=\"translate(0 6)\"><text class=\"lab\">0</text></g></g><g class=\"tick\" transform=\"translate(500 263.2)\"><line x1=\"0\" x2=\"0\" y1=\"0\" y2=\"5\" /><g transform=\"translate(0 6)\"><text class=\"lab\">10</text></g></g><g class=\"tick\" transform=\"translate(980 263.2)\"><line x1=\"0\" x2=\"0\" y1=\"0\" y2=\"5\" /><g transform=\"translate(0 6)\"><text class=\"lab\">20</text></g></g></g><g class=\"site s0\" transform=\"translate(356 263.2)\"><line class=\"sym\" x1=\"0\" x2=\"0\" y1=\"0\" y2=\"-10\" /><g class=\"mut m0\"><polyline class=\"sym\" points=\"2.5,-6.5 0,-1.5 -2.5,-6.5\" /></g></g><g class=\"site s1\" transform=\"translate(692 263.2)\"><line class=\"sym\" x1=\"0\" x2=\"0\" y1=\"0\" y2=\"-10\" /><g class=\"mut m1\"><polyline class=\"sym\" points=\"2.5,-6.5 0,-1.5 -2.5,-6.5\" /></g></g></g></g><g class=\"plotbox trees\"><g class=\"tree t0\" transform=\"translate(20 0)\"><g class=\"plotbox\"><g class=\"c2 node n4 root\" transform=\"translate(203.333 26.8)\"><g class=\"a4 leaf m0 node n0 s0 sample\" transform=\"translate(-110 194.6)\"><path class=\"edge\" d=\"M 0 0 V -194.6 H 110\" /><g class=\"mut m0 s0 unknown_time\" transform=\"translate(0 -97.3)\"><line x1=\"0\" x2=\"0\" y1=\"0\" y2=\"97.3\" /><path class=\"sym\" d=\"M -3,-3 l 6,6 M -3,3 l 6,-6\" /><text class=\"lab lft\" transform=\"translate(-5 0)\">0</text></g><rect class=\"sym\" height=\"6\" width=\"6\" x=\"-3\" y=\"-3\" /><text class=\"lab\" transform=\"translate(0 11)\">0</text></g><g class=\"a4 c2 node n3\" transform=\"translate(110 97.3)\"><g class=\"a3 leaf node n1 sample\" transform=\"translate(-73.3333 97.3)\"><path class=\"edge\" d=\"M 0 0 V -97.3 H 73.3333\" /><rect class=\"sym\" height=\"6\" width=\"6\" x=\"-3\" y=\"-3\" /><text class=\"lab\" transform=\"translate(0 11)\">1</text></g><g class=\"a3 leaf node n2 sample\" transform=\"translate(73.3333 97.3)\"><path class=\"edge\" d=\"M 0 0 V -97.3 H -73.3333\" /><rect class=\"sym\" height=\"6\" width=\"6\" x=\"-3\" y=\"-3\" /><text class=\"lab\" transform=\"translate(0 11)\">2</text></g><path class=\"edge\" d=\"M 0 0 V -97.3 H -110\" /><circle class=\"sym\" cx=\"0\" cy=\"0\" r=\"3\" /><text class=\"lab rgt\" transform=\"translate(3 -7.0)\">3</text></g><circle class=\"sym\" cx=\"0\" cy=\"0\" r=\"3\" /><text class=\"lab\" transform=\"translate(0 -11)\">4</text></g></g></g><g class=\"tree t1\" transform=\"translate(500 0)\"><g class=\"plotbox\"><g class=\"c2 node n6 root\" transform=\"translate(276.667 26.8)\"><g class=\"a6 leaf m1 node n2 s1 sample\" transform=\"translate(110 194.6)\"><path class=\"edge\" d=\"M 0 0 V -194.6 H -110\" /><g class=\"mut m1 s1 unknown_time\" transform=\"translate(0 -97.3)\"><line x1=\"0\" x2=\"0\" y1=\"0\" y2=\"97.3\" /><path class=\"sym\" d=\"M -3,-3 l 6,6 M -3,3 l 6,-6\" /><text class=\"lab rgt\" transform=\"translate(5 0)\">1</text></g><rect class=\"sym\" height=\"6\" width=\"6\" x=\"-3\" y=\"-3\" /><text class=\"lab\" transform=\"translate(0 11)\">2</text></g><g class=\"a6 c2 node n5\" transform=\"translate(-110 97.3)\"><g class=\"a5 leaf node n0 sample\" transform=\"translate(-73.3333 97.3)\"><path class=\"edge\" d=\"M 0 0 V -97.3 H 73.3333\" /><rect class=\"sym\" height=\"6\" width=\"6\" x=\"-3\" y=\"-3\" /><text class=\"lab\" transform=\"translate(0 11)\">0</text></g><g class=\"a5 leaf node n1 sample\" transform=\"translate(73.3333 97.3)\"><path class=\"edge\" d=\"M 0 0 V -97.3 H -73.3333\" /><rect class=\"sym\" height=\"6\" width=\"6\" x=\"-3\" y=\"-3\" /><text class=\"lab\" transform=\"translate(0 11)\">1</text></g><path class=\"edge\" d=\"M 0 0 V -97.3 H 110\" /><circle class=\"sym\" cx=\"0\" cy=\"0\" r=\"3\" /><text class=\"lab lft\" transform=\"translate(-3 -7.0)\">5</text></g><circle class=\"sym\" cx=\"0\" cy=\"0\" r=\"3\" /><text class=\"lab\" transform=\"translate(0 -11)\">6</text></g></g></g></g></g></svg>'"
      ]
     },
     "metadata": {},
     "output_type": "display_data"
    },
    {
     "name": "stdout",
     "output_type": "stream",
     "text": [
      "[1]\n"
     ]
    },
    {
     "data": {
      "image/svg+xml": [
       "<svg baseProfile=\"full\" height=\"300\" version=\"1.1\" width=\"1000\" xmlns=\"http://www.w3.org/2000/svg\" xmlns:ev=\"http://www.w3.org/2001/xml-events\" xmlns:xlink=\"http://www.w3.org/1999/xlink\"><defs><style type=\"text/css\"><![CDATA[.background path {fill: #808080; fill-opacity: 0}.background path:nth-child(odd) {fill-opacity: .1}.axes {font-size: 14px}.x-axis .tick .lab {font-weight: bold; dominant-baseline: hanging}.axes, .tree {font-size: 14px; text-anchor: middle}.axes line, .edge {stroke: black; fill: none}.y-axis .grid {stroke: #FAFAFA}.node > .sym {fill: black; stroke: none}.site > .sym {stroke: black}.mut text {fill: red; font-style: italic}.mut.extra text {fill: hotpink}.mut line {fill: none; stroke: none}.mut .sym {fill: none; stroke: red}.mut.extra .sym {stroke: hotpink}.node .mut .sym {stroke-width: 1.5px}.tree text, .tree-sequence text {dominant-baseline: central}.plotbox .lab.lft {text-anchor: end}.plotbox .lab.rgt {text-anchor: start}.a4.n0 > .edge {stroke: cyan; stroke-width: 2px}]]></style></defs><g class=\"tree-sequence\"><g class=\"background\"><path d=\"M20,0 l480,0 l0,238.2 l0,25 l0,5 l-480,0 l0,-5 l0,-25 l0,-238.2z\" /><path d=\"M500,0 l480,0 l0,238.2 l0,25 l0,5 l-480,0 l0,-5 l0,-25 l0,-238.2z\" /></g><g class=\"axes\"><g class=\"x-axis\"><g transform=\"translate(500 300)\"><text class=\"lab\" text-anchor=\"middle\" transform=\"translate(0 -11)\">Genome position</text></g><line x1=\"20\" x2=\"980\" y1=\"263.2\" y2=\"263.2\" /><g class=\"ticks\"><g class=\"tick\" transform=\"translate(20 263.2)\"><line x1=\"0\" x2=\"0\" y1=\"0\" y2=\"5\" /><g transform=\"translate(0 6)\"><text class=\"lab\">0</text></g></g><g class=\"tick\" transform=\"translate(500 263.2)\"><line x1=\"0\" x2=\"0\" y1=\"0\" y2=\"5\" /><g transform=\"translate(0 6)\"><text class=\"lab\">10</text></g></g><g class=\"tick\" transform=\"translate(980 263.2)\"><line x1=\"0\" x2=\"0\" y1=\"0\" y2=\"5\" /><g transform=\"translate(0 6)\"><text class=\"lab\">20</text></g></g></g><g class=\"site s0\" transform=\"translate(356 263.2)\"><line class=\"sym\" x1=\"0\" x2=\"0\" y1=\"0\" y2=\"-10\" /><g class=\"mut m0\"><polyline class=\"sym\" points=\"2.5,-6.5 0,-1.5 -2.5,-6.5\" /></g></g><g class=\"site s1\" transform=\"translate(692 263.2)\"><line class=\"sym\" x1=\"0\" x2=\"0\" y1=\"0\" y2=\"-10\" /><g class=\"mut m1\"><polyline class=\"sym\" points=\"2.5,-6.5 0,-1.5 -2.5,-6.5\" /></g></g></g></g><g class=\"plotbox trees\"><g class=\"tree t0\" transform=\"translate(20 0)\"><g class=\"plotbox\"><g class=\"c2 node n4 root\" transform=\"translate(203.333 26.8)\"><g class=\"a4 leaf m0 node n0 s0 sample\" transform=\"translate(-110 194.6)\"><path class=\"edge\" d=\"M 0 0 V -194.6 H 110\" /><g class=\"mut m0 s0 unknown_time\" transform=\"translate(0 -97.3)\"><line x1=\"0\" x2=\"0\" y1=\"0\" y2=\"97.3\" /><path class=\"sym\" d=\"M -3,-3 l 6,6 M -3,3 l 6,-6\" /><text class=\"lab lft\" transform=\"translate(-5 0)\">0</text></g><rect class=\"sym\" height=\"6\" width=\"6\" x=\"-3\" y=\"-3\" /><text class=\"lab\" transform=\"translate(0 11)\">0</text></g><g class=\"a4 c2 node n3\" transform=\"translate(110 97.3)\"><g class=\"a3 leaf node n1 sample\" transform=\"translate(-73.3333 97.3)\"><path class=\"edge\" d=\"M 0 0 V -97.3 H 73.3333\" /><rect class=\"sym\" height=\"6\" width=\"6\" x=\"-3\" y=\"-3\" /><text class=\"lab\" transform=\"translate(0 11)\">1</text></g><g class=\"a3 leaf node n2 sample\" transform=\"translate(73.3333 97.3)\"><path class=\"edge\" d=\"M 0 0 V -97.3 H -73.3333\" /><rect class=\"sym\" height=\"6\" width=\"6\" x=\"-3\" y=\"-3\" /><text class=\"lab\" transform=\"translate(0 11)\">2</text></g><path class=\"edge\" d=\"M 0 0 V -97.3 H -110\" /><circle class=\"sym\" cx=\"0\" cy=\"0\" r=\"3\" /><text class=\"lab rgt\" transform=\"translate(3 -7.0)\">3</text></g><circle class=\"sym\" cx=\"0\" cy=\"0\" r=\"3\" /><text class=\"lab\" transform=\"translate(0 -11)\">4</text></g></g></g><g class=\"tree t1\" transform=\"translate(500 0)\"><g class=\"plotbox\"><g class=\"c2 node n6 root\" transform=\"translate(276.667 26.8)\"><g class=\"a6 leaf m1 node n2 s1 sample\" transform=\"translate(110 194.6)\"><path class=\"edge\" d=\"M 0 0 V -194.6 H -110\" /><g class=\"mut m1 s1 unknown_time\" transform=\"translate(0 -97.3)\"><line x1=\"0\" x2=\"0\" y1=\"0\" y2=\"97.3\" /><path class=\"sym\" d=\"M -3,-3 l 6,6 M -3,3 l 6,-6\" /><text class=\"lab rgt\" transform=\"translate(5 0)\">1</text></g><rect class=\"sym\" height=\"6\" width=\"6\" x=\"-3\" y=\"-3\" /><text class=\"lab\" transform=\"translate(0 11)\">2</text></g><g class=\"a6 c2 node n5\" transform=\"translate(-110 97.3)\"><g class=\"a5 leaf node n0 sample\" transform=\"translate(-73.3333 97.3)\"><path class=\"edge\" d=\"M 0 0 V -97.3 H 73.3333\" /><rect class=\"sym\" height=\"6\" width=\"6\" x=\"-3\" y=\"-3\" /><text class=\"lab\" transform=\"translate(0 11)\">0</text></g><g class=\"a5 leaf node n1 sample\" transform=\"translate(73.3333 97.3)\"><path class=\"edge\" d=\"M 0 0 V -97.3 H -73.3333\" /><rect class=\"sym\" height=\"6\" width=\"6\" x=\"-3\" y=\"-3\" /><text class=\"lab\" transform=\"translate(0 11)\">1</text></g><path class=\"edge\" d=\"M 0 0 V -97.3 H 110\" /><circle class=\"sym\" cx=\"0\" cy=\"0\" r=\"3\" /><text class=\"lab lft\" transform=\"translate(-3 -7.0)\">5</text></g><circle class=\"sym\" cx=\"0\" cy=\"0\" r=\"3\" /><text class=\"lab\" transform=\"translate(0 -11)\">6</text></g></g></g></g></g></svg>"
      ],
      "text/plain": [
       "'<svg baseProfile=\"full\" height=\"300\" version=\"1.1\" width=\"1000\" xmlns=\"http://www.w3.org/2000/svg\" xmlns:ev=\"http://www.w3.org/2001/xml-events\" xmlns:xlink=\"http://www.w3.org/1999/xlink\"><defs><style type=\"text/css\"><![CDATA[.background path {fill: #808080; fill-opacity: 0}.background path:nth-child(odd) {fill-opacity: .1}.axes {font-size: 14px}.x-axis .tick .lab {font-weight: bold; dominant-baseline: hanging}.axes, .tree {font-size: 14px; text-anchor: middle}.axes line, .edge {stroke: black; fill: none}.y-axis .grid {stroke: #FAFAFA}.node > .sym {fill: black; stroke: none}.site > .sym {stroke: black}.mut text {fill: red; font-style: italic}.mut.extra text {fill: hotpink}.mut line {fill: none; stroke: none}.mut .sym {fill: none; stroke: red}.mut.extra .sym {stroke: hotpink}.node .mut .sym {stroke-width: 1.5px}.tree text, .tree-sequence text {dominant-baseline: central}.plotbox .lab.lft {text-anchor: end}.plotbox .lab.rgt {text-anchor: start}.a4.n0 > .edge {stroke: cyan; stroke-width: 2px}]]></style></defs><g class=\"tree-sequence\"><g class=\"background\"><path d=\"M20,0 l480,0 l0,238.2 l0,25 l0,5 l-480,0 l0,-5 l0,-25 l0,-238.2z\" /><path d=\"M500,0 l480,0 l0,238.2 l0,25 l0,5 l-480,0 l0,-5 l0,-25 l0,-238.2z\" /></g><g class=\"axes\"><g class=\"x-axis\"><g transform=\"translate(500 300)\"><text class=\"lab\" text-anchor=\"middle\" transform=\"translate(0 -11)\">Genome position</text></g><line x1=\"20\" x2=\"980\" y1=\"263.2\" y2=\"263.2\" /><g class=\"ticks\"><g class=\"tick\" transform=\"translate(20 263.2)\"><line x1=\"0\" x2=\"0\" y1=\"0\" y2=\"5\" /><g transform=\"translate(0 6)\"><text class=\"lab\">0</text></g></g><g class=\"tick\" transform=\"translate(500 263.2)\"><line x1=\"0\" x2=\"0\" y1=\"0\" y2=\"5\" /><g transform=\"translate(0 6)\"><text class=\"lab\">10</text></g></g><g class=\"tick\" transform=\"translate(980 263.2)\"><line x1=\"0\" x2=\"0\" y1=\"0\" y2=\"5\" /><g transform=\"translate(0 6)\"><text class=\"lab\">20</text></g></g></g><g class=\"site s0\" transform=\"translate(356 263.2)\"><line class=\"sym\" x1=\"0\" x2=\"0\" y1=\"0\" y2=\"-10\" /><g class=\"mut m0\"><polyline class=\"sym\" points=\"2.5,-6.5 0,-1.5 -2.5,-6.5\" /></g></g><g class=\"site s1\" transform=\"translate(692 263.2)\"><line class=\"sym\" x1=\"0\" x2=\"0\" y1=\"0\" y2=\"-10\" /><g class=\"mut m1\"><polyline class=\"sym\" points=\"2.5,-6.5 0,-1.5 -2.5,-6.5\" /></g></g></g></g><g class=\"plotbox trees\"><g class=\"tree t0\" transform=\"translate(20 0)\"><g class=\"plotbox\"><g class=\"c2 node n4 root\" transform=\"translate(203.333 26.8)\"><g class=\"a4 leaf m0 node n0 s0 sample\" transform=\"translate(-110 194.6)\"><path class=\"edge\" d=\"M 0 0 V -194.6 H 110\" /><g class=\"mut m0 s0 unknown_time\" transform=\"translate(0 -97.3)\"><line x1=\"0\" x2=\"0\" y1=\"0\" y2=\"97.3\" /><path class=\"sym\" d=\"M -3,-3 l 6,6 M -3,3 l 6,-6\" /><text class=\"lab lft\" transform=\"translate(-5 0)\">0</text></g><rect class=\"sym\" height=\"6\" width=\"6\" x=\"-3\" y=\"-3\" /><text class=\"lab\" transform=\"translate(0 11)\">0</text></g><g class=\"a4 c2 node n3\" transform=\"translate(110 97.3)\"><g class=\"a3 leaf node n1 sample\" transform=\"translate(-73.3333 97.3)\"><path class=\"edge\" d=\"M 0 0 V -97.3 H 73.3333\" /><rect class=\"sym\" height=\"6\" width=\"6\" x=\"-3\" y=\"-3\" /><text class=\"lab\" transform=\"translate(0 11)\">1</text></g><g class=\"a3 leaf node n2 sample\" transform=\"translate(73.3333 97.3)\"><path class=\"edge\" d=\"M 0 0 V -97.3 H -73.3333\" /><rect class=\"sym\" height=\"6\" width=\"6\" x=\"-3\" y=\"-3\" /><text class=\"lab\" transform=\"translate(0 11)\">2</text></g><path class=\"edge\" d=\"M 0 0 V -97.3 H -110\" /><circle class=\"sym\" cx=\"0\" cy=\"0\" r=\"3\" /><text class=\"lab rgt\" transform=\"translate(3 -7.0)\">3</text></g><circle class=\"sym\" cx=\"0\" cy=\"0\" r=\"3\" /><text class=\"lab\" transform=\"translate(0 -11)\">4</text></g></g></g><g class=\"tree t1\" transform=\"translate(500 0)\"><g class=\"plotbox\"><g class=\"c2 node n6 root\" transform=\"translate(276.667 26.8)\"><g class=\"a6 leaf m1 node n2 s1 sample\" transform=\"translate(110 194.6)\"><path class=\"edge\" d=\"M 0 0 V -194.6 H -110\" /><g class=\"mut m1 s1 unknown_time\" transform=\"translate(0 -97.3)\"><line x1=\"0\" x2=\"0\" y1=\"0\" y2=\"97.3\" /><path class=\"sym\" d=\"M -3,-3 l 6,6 M -3,3 l 6,-6\" /><text class=\"lab rgt\" transform=\"translate(5 0)\">1</text></g><rect class=\"sym\" height=\"6\" width=\"6\" x=\"-3\" y=\"-3\" /><text class=\"lab\" transform=\"translate(0 11)\">2</text></g><g class=\"a6 c2 node n5\" transform=\"translate(-110 97.3)\"><g class=\"a5 leaf node n0 sample\" transform=\"translate(-73.3333 97.3)\"><path class=\"edge\" d=\"M 0 0 V -97.3 H 73.3333\" /><rect class=\"sym\" height=\"6\" width=\"6\" x=\"-3\" y=\"-3\" /><text class=\"lab\" transform=\"translate(0 11)\">0</text></g><g class=\"a5 leaf node n1 sample\" transform=\"translate(73.3333 97.3)\"><path class=\"edge\" d=\"M 0 0 V -97.3 H -73.3333\" /><rect class=\"sym\" height=\"6\" width=\"6\" x=\"-3\" y=\"-3\" /><text class=\"lab\" transform=\"translate(0 11)\">1</text></g><path class=\"edge\" d=\"M 0 0 V -97.3 H 110\" /><circle class=\"sym\" cx=\"0\" cy=\"0\" r=\"3\" /><text class=\"lab lft\" transform=\"translate(-3 -7.0)\">5</text></g><circle class=\"sym\" cx=\"0\" cy=\"0\" r=\"3\" /><text class=\"lab\" transform=\"translate(0 -11)\">6</text></g></g></g></g></g></svg>'"
      ]
     },
     "metadata": {},
     "output_type": "display_data"
    },
    {
     "name": "stdout",
     "output_type": "stream",
     "text": [
      "[2]\n"
     ]
    },
    {
     "data": {
      "image/svg+xml": [
       "<svg baseProfile=\"full\" height=\"300\" version=\"1.1\" width=\"1000\" xmlns=\"http://www.w3.org/2000/svg\" xmlns:ev=\"http://www.w3.org/2001/xml-events\" xmlns:xlink=\"http://www.w3.org/1999/xlink\"><defs><style type=\"text/css\"><![CDATA[.background path {fill: #808080; fill-opacity: 0}.background path:nth-child(odd) {fill-opacity: .1}.axes {font-size: 14px}.x-axis .tick .lab {font-weight: bold; dominant-baseline: hanging}.axes, .tree {font-size: 14px; text-anchor: middle}.axes line, .edge {stroke: black; fill: none}.y-axis .grid {stroke: #FAFAFA}.node > .sym {fill: black; stroke: none}.site > .sym {stroke: black}.mut text {fill: red; font-style: italic}.mut.extra text {fill: hotpink}.mut line {fill: none; stroke: none}.mut .sym {fill: none; stroke: red}.mut.extra .sym {stroke: hotpink}.node .mut .sym {stroke-width: 1.5px}.tree text, .tree-sequence text {dominant-baseline: central}.plotbox .lab.lft {text-anchor: end}.plotbox .lab.rgt {text-anchor: start}.a4.n3 > .edge {stroke: cyan; stroke-width: 2px}]]></style></defs><g class=\"tree-sequence\"><g class=\"background\"><path d=\"M20,0 l480,0 l0,238.2 l0,25 l0,5 l-480,0 l0,-5 l0,-25 l0,-238.2z\" /><path d=\"M500,0 l480,0 l0,238.2 l0,25 l0,5 l-480,0 l0,-5 l0,-25 l0,-238.2z\" /></g><g class=\"axes\"><g class=\"x-axis\"><g transform=\"translate(500 300)\"><text class=\"lab\" text-anchor=\"middle\" transform=\"translate(0 -11)\">Genome position</text></g><line x1=\"20\" x2=\"980\" y1=\"263.2\" y2=\"263.2\" /><g class=\"ticks\"><g class=\"tick\" transform=\"translate(20 263.2)\"><line x1=\"0\" x2=\"0\" y1=\"0\" y2=\"5\" /><g transform=\"translate(0 6)\"><text class=\"lab\">0</text></g></g><g class=\"tick\" transform=\"translate(500 263.2)\"><line x1=\"0\" x2=\"0\" y1=\"0\" y2=\"5\" /><g transform=\"translate(0 6)\"><text class=\"lab\">10</text></g></g><g class=\"tick\" transform=\"translate(980 263.2)\"><line x1=\"0\" x2=\"0\" y1=\"0\" y2=\"5\" /><g transform=\"translate(0 6)\"><text class=\"lab\">20</text></g></g></g><g class=\"site s0\" transform=\"translate(356 263.2)\"><line class=\"sym\" x1=\"0\" x2=\"0\" y1=\"0\" y2=\"-10\" /><g class=\"mut m0\"><polyline class=\"sym\" points=\"2.5,-6.5 0,-1.5 -2.5,-6.5\" /></g></g><g class=\"site s1\" transform=\"translate(692 263.2)\"><line class=\"sym\" x1=\"0\" x2=\"0\" y1=\"0\" y2=\"-10\" /><g class=\"mut m1\"><polyline class=\"sym\" points=\"2.5,-6.5 0,-1.5 -2.5,-6.5\" /></g></g></g></g><g class=\"plotbox trees\"><g class=\"tree t0\" transform=\"translate(20 0)\"><g class=\"plotbox\"><g class=\"c2 node n4 root\" transform=\"translate(203.333 26.8)\"><g class=\"a4 leaf m0 node n0 s0 sample\" transform=\"translate(-110 194.6)\"><path class=\"edge\" d=\"M 0 0 V -194.6 H 110\" /><g class=\"mut m0 s0 unknown_time\" transform=\"translate(0 -97.3)\"><line x1=\"0\" x2=\"0\" y1=\"0\" y2=\"97.3\" /><path class=\"sym\" d=\"M -3,-3 l 6,6 M -3,3 l 6,-6\" /><text class=\"lab lft\" transform=\"translate(-5 0)\">0</text></g><rect class=\"sym\" height=\"6\" width=\"6\" x=\"-3\" y=\"-3\" /><text class=\"lab\" transform=\"translate(0 11)\">0</text></g><g class=\"a4 c2 node n3\" transform=\"translate(110 97.3)\"><g class=\"a3 leaf node n1 sample\" transform=\"translate(-73.3333 97.3)\"><path class=\"edge\" d=\"M 0 0 V -97.3 H 73.3333\" /><rect class=\"sym\" height=\"6\" width=\"6\" x=\"-3\" y=\"-3\" /><text class=\"lab\" transform=\"translate(0 11)\">1</text></g><g class=\"a3 leaf node n2 sample\" transform=\"translate(73.3333 97.3)\"><path class=\"edge\" d=\"M 0 0 V -97.3 H -73.3333\" /><rect class=\"sym\" height=\"6\" width=\"6\" x=\"-3\" y=\"-3\" /><text class=\"lab\" transform=\"translate(0 11)\">2</text></g><path class=\"edge\" d=\"M 0 0 V -97.3 H -110\" /><circle class=\"sym\" cx=\"0\" cy=\"0\" r=\"3\" /><text class=\"lab rgt\" transform=\"translate(3 -7.0)\">3</text></g><circle class=\"sym\" cx=\"0\" cy=\"0\" r=\"3\" /><text class=\"lab\" transform=\"translate(0 -11)\">4</text></g></g></g><g class=\"tree t1\" transform=\"translate(500 0)\"><g class=\"plotbox\"><g class=\"c2 node n6 root\" transform=\"translate(276.667 26.8)\"><g class=\"a6 leaf m1 node n2 s1 sample\" transform=\"translate(110 194.6)\"><path class=\"edge\" d=\"M 0 0 V -194.6 H -110\" /><g class=\"mut m1 s1 unknown_time\" transform=\"translate(0 -97.3)\"><line x1=\"0\" x2=\"0\" y1=\"0\" y2=\"97.3\" /><path class=\"sym\" d=\"M -3,-3 l 6,6 M -3,3 l 6,-6\" /><text class=\"lab rgt\" transform=\"translate(5 0)\">1</text></g><rect class=\"sym\" height=\"6\" width=\"6\" x=\"-3\" y=\"-3\" /><text class=\"lab\" transform=\"translate(0 11)\">2</text></g><g class=\"a6 c2 node n5\" transform=\"translate(-110 97.3)\"><g class=\"a5 leaf node n0 sample\" transform=\"translate(-73.3333 97.3)\"><path class=\"edge\" d=\"M 0 0 V -97.3 H 73.3333\" /><rect class=\"sym\" height=\"6\" width=\"6\" x=\"-3\" y=\"-3\" /><text class=\"lab\" transform=\"translate(0 11)\">0</text></g><g class=\"a5 leaf node n1 sample\" transform=\"translate(73.3333 97.3)\"><path class=\"edge\" d=\"M 0 0 V -97.3 H -73.3333\" /><rect class=\"sym\" height=\"6\" width=\"6\" x=\"-3\" y=\"-3\" /><text class=\"lab\" transform=\"translate(0 11)\">1</text></g><path class=\"edge\" d=\"M 0 0 V -97.3 H 110\" /><circle class=\"sym\" cx=\"0\" cy=\"0\" r=\"3\" /><text class=\"lab lft\" transform=\"translate(-3 -7.0)\">5</text></g><circle class=\"sym\" cx=\"0\" cy=\"0\" r=\"3\" /><text class=\"lab\" transform=\"translate(0 -11)\">6</text></g></g></g></g></g></svg>"
      ],
      "text/plain": [
       "'<svg baseProfile=\"full\" height=\"300\" version=\"1.1\" width=\"1000\" xmlns=\"http://www.w3.org/2000/svg\" xmlns:ev=\"http://www.w3.org/2001/xml-events\" xmlns:xlink=\"http://www.w3.org/1999/xlink\"><defs><style type=\"text/css\"><![CDATA[.background path {fill: #808080; fill-opacity: 0}.background path:nth-child(odd) {fill-opacity: .1}.axes {font-size: 14px}.x-axis .tick .lab {font-weight: bold; dominant-baseline: hanging}.axes, .tree {font-size: 14px; text-anchor: middle}.axes line, .edge {stroke: black; fill: none}.y-axis .grid {stroke: #FAFAFA}.node > .sym {fill: black; stroke: none}.site > .sym {stroke: black}.mut text {fill: red; font-style: italic}.mut.extra text {fill: hotpink}.mut line {fill: none; stroke: none}.mut .sym {fill: none; stroke: red}.mut.extra .sym {stroke: hotpink}.node .mut .sym {stroke-width: 1.5px}.tree text, .tree-sequence text {dominant-baseline: central}.plotbox .lab.lft {text-anchor: end}.plotbox .lab.rgt {text-anchor: start}.a4.n3 > .edge {stroke: cyan; stroke-width: 2px}]]></style></defs><g class=\"tree-sequence\"><g class=\"background\"><path d=\"M20,0 l480,0 l0,238.2 l0,25 l0,5 l-480,0 l0,-5 l0,-25 l0,-238.2z\" /><path d=\"M500,0 l480,0 l0,238.2 l0,25 l0,5 l-480,0 l0,-5 l0,-25 l0,-238.2z\" /></g><g class=\"axes\"><g class=\"x-axis\"><g transform=\"translate(500 300)\"><text class=\"lab\" text-anchor=\"middle\" transform=\"translate(0 -11)\">Genome position</text></g><line x1=\"20\" x2=\"980\" y1=\"263.2\" y2=\"263.2\" /><g class=\"ticks\"><g class=\"tick\" transform=\"translate(20 263.2)\"><line x1=\"0\" x2=\"0\" y1=\"0\" y2=\"5\" /><g transform=\"translate(0 6)\"><text class=\"lab\">0</text></g></g><g class=\"tick\" transform=\"translate(500 263.2)\"><line x1=\"0\" x2=\"0\" y1=\"0\" y2=\"5\" /><g transform=\"translate(0 6)\"><text class=\"lab\">10</text></g></g><g class=\"tick\" transform=\"translate(980 263.2)\"><line x1=\"0\" x2=\"0\" y1=\"0\" y2=\"5\" /><g transform=\"translate(0 6)\"><text class=\"lab\">20</text></g></g></g><g class=\"site s0\" transform=\"translate(356 263.2)\"><line class=\"sym\" x1=\"0\" x2=\"0\" y1=\"0\" y2=\"-10\" /><g class=\"mut m0\"><polyline class=\"sym\" points=\"2.5,-6.5 0,-1.5 -2.5,-6.5\" /></g></g><g class=\"site s1\" transform=\"translate(692 263.2)\"><line class=\"sym\" x1=\"0\" x2=\"0\" y1=\"0\" y2=\"-10\" /><g class=\"mut m1\"><polyline class=\"sym\" points=\"2.5,-6.5 0,-1.5 -2.5,-6.5\" /></g></g></g></g><g class=\"plotbox trees\"><g class=\"tree t0\" transform=\"translate(20 0)\"><g class=\"plotbox\"><g class=\"c2 node n4 root\" transform=\"translate(203.333 26.8)\"><g class=\"a4 leaf m0 node n0 s0 sample\" transform=\"translate(-110 194.6)\"><path class=\"edge\" d=\"M 0 0 V -194.6 H 110\" /><g class=\"mut m0 s0 unknown_time\" transform=\"translate(0 -97.3)\"><line x1=\"0\" x2=\"0\" y1=\"0\" y2=\"97.3\" /><path class=\"sym\" d=\"M -3,-3 l 6,6 M -3,3 l 6,-6\" /><text class=\"lab lft\" transform=\"translate(-5 0)\">0</text></g><rect class=\"sym\" height=\"6\" width=\"6\" x=\"-3\" y=\"-3\" /><text class=\"lab\" transform=\"translate(0 11)\">0</text></g><g class=\"a4 c2 node n3\" transform=\"translate(110 97.3)\"><g class=\"a3 leaf node n1 sample\" transform=\"translate(-73.3333 97.3)\"><path class=\"edge\" d=\"M 0 0 V -97.3 H 73.3333\" /><rect class=\"sym\" height=\"6\" width=\"6\" x=\"-3\" y=\"-3\" /><text class=\"lab\" transform=\"translate(0 11)\">1</text></g><g class=\"a3 leaf node n2 sample\" transform=\"translate(73.3333 97.3)\"><path class=\"edge\" d=\"M 0 0 V -97.3 H -73.3333\" /><rect class=\"sym\" height=\"6\" width=\"6\" x=\"-3\" y=\"-3\" /><text class=\"lab\" transform=\"translate(0 11)\">2</text></g><path class=\"edge\" d=\"M 0 0 V -97.3 H -110\" /><circle class=\"sym\" cx=\"0\" cy=\"0\" r=\"3\" /><text class=\"lab rgt\" transform=\"translate(3 -7.0)\">3</text></g><circle class=\"sym\" cx=\"0\" cy=\"0\" r=\"3\" /><text class=\"lab\" transform=\"translate(0 -11)\">4</text></g></g></g><g class=\"tree t1\" transform=\"translate(500 0)\"><g class=\"plotbox\"><g class=\"c2 node n6 root\" transform=\"translate(276.667 26.8)\"><g class=\"a6 leaf m1 node n2 s1 sample\" transform=\"translate(110 194.6)\"><path class=\"edge\" d=\"M 0 0 V -194.6 H -110\" /><g class=\"mut m1 s1 unknown_time\" transform=\"translate(0 -97.3)\"><line x1=\"0\" x2=\"0\" y1=\"0\" y2=\"97.3\" /><path class=\"sym\" d=\"M -3,-3 l 6,6 M -3,3 l 6,-6\" /><text class=\"lab rgt\" transform=\"translate(5 0)\">1</text></g><rect class=\"sym\" height=\"6\" width=\"6\" x=\"-3\" y=\"-3\" /><text class=\"lab\" transform=\"translate(0 11)\">2</text></g><g class=\"a6 c2 node n5\" transform=\"translate(-110 97.3)\"><g class=\"a5 leaf node n0 sample\" transform=\"translate(-73.3333 97.3)\"><path class=\"edge\" d=\"M 0 0 V -97.3 H 73.3333\" /><rect class=\"sym\" height=\"6\" width=\"6\" x=\"-3\" y=\"-3\" /><text class=\"lab\" transform=\"translate(0 11)\">0</text></g><g class=\"a5 leaf node n1 sample\" transform=\"translate(73.3333 97.3)\"><path class=\"edge\" d=\"M 0 0 V -97.3 H -73.3333\" /><rect class=\"sym\" height=\"6\" width=\"6\" x=\"-3\" y=\"-3\" /><text class=\"lab\" transform=\"translate(0 11)\">1</text></g><path class=\"edge\" d=\"M 0 0 V -97.3 H 110\" /><circle class=\"sym\" cx=\"0\" cy=\"0\" r=\"3\" /><text class=\"lab lft\" transform=\"translate(-3 -7.0)\">5</text></g><circle class=\"sym\" cx=\"0\" cy=\"0\" r=\"3\" /><text class=\"lab\" transform=\"translate(0 -11)\">6</text></g></g></g></g></g></svg>'"
      ]
     },
     "metadata": {},
     "output_type": "display_data"
    }
   ],
   "source": [
    "# sample_sets = [[0, 1, 2], [3, 4, 5], [4, 5, 6], [1, 2]]\n",
    "sample_sets = [[0, 1, 2]]\n",
    "\n",
    "tj = 0\n",
    "tk = 0\n",
    "t_left = 0\n",
    "tree_iter = enumerate(ts.trees())\n",
    "tree_index, tree = next(tree_iter)\n",
    "window_index = 0\n",
    "I = ts.indexes_edge_insertion_order\n",
    "O = ts.indexes_edge_removal_order\n",
    "parent = -np.ones(ts.num_nodes, dtype=np.int32)\n",
    "\n",
    "left_child = -np.ones(ts.num_nodes, dtype=np.int32)\n",
    "right_child = -np.ones(ts.num_nodes, dtype=np.int32)\n",
    "left_sib = -np.ones(ts.num_nodes, dtype=np.int32)\n",
    "right_sib = -np.ones(ts.num_nodes, dtype=np.int32)\n",
    "\n",
    "states = []\n",
    "state = np.zeros((ts.num_nodes, len(sample_sets)), dtype=np.int32)\n",
    "allele_state = []\n",
    "\n",
    "for i, sample_set in enumerate(sample_sets):\n",
    "    state[sample_set, i] = 1\n",
    "\n",
    "\n",
    "while (tj < ts.num_edges) or (t_left < ts.sequence_length):\n",
    "    while (tk < ts.num_edges) and (ts.edges_right[O[tk]] == t_left):\n",
    "        h = O[tk]\n",
    "        tk += 1\n",
    "        u = ts.edges_child[h]\n",
    "        v = ts.edges_parent[h]\n",
    "\n",
    "        while (v != -1):\n",
    "            print(state[u])\n",
    "            display.display(ts.draw_svg(size=(1000, 300), style=f'.a{v}.n{u} > .edge {{stroke: red; stroke-width: 2px}}'))\n",
    "            state[v] += -state[u]\n",
    "            \n",
    "            if left_sib[u] == -1:\n",
    "                left_child[v] = right_sib[u]\n",
    "            else:\n",
    "                right_sib[left_sib[u]] = right_sib[u]\n",
    "            if right_sib[u] == -1:\n",
    "                right_child[v] = left_sib[u]\n",
    "            else:\n",
    "                left_sib[right_sib[u]] = left_sib[u]\n",
    "            left_sib[u] = -1\n",
    "            right_sib[u] = -1\n",
    "\n",
    "            v = parent[v]\n",
    "        parent[u] = -1\n",
    "    while (tj < ts.num_edges) and (ts.edges_left[I[tj]] == t_left):\n",
    "        h = I[tj]\n",
    "        tj += 1\n",
    "        u = ts.edges_child[h]\n",
    "        v = ts.edges_parent[h]\n",
    "        parent[u] = v\n",
    "        while (v != -1):\n",
    "            print(state[u])\n",
    "            display.display(ts.draw_svg(size=(1000, 300), style=f'.a{v}.n{u} > .edge {{stroke: cyan; stroke-width: 2px}}'))\n",
    "            state[v] += state[u]\n",
    "            \n",
    "            c = right_child[v]\n",
    "            if c == -1:\n",
    "                left_child[v] = u\n",
    "                left_sib[u] = -1\n",
    "                right_sib[u] = -1\n",
    "            else:\n",
    "                right_sib[c] = u\n",
    "                left_sib[u] = c\n",
    "                right_sib[u] = -1\n",
    "\n",
    "            right_child[v] = u\n",
    "\n",
    "            v = parent[v] \n",
    "            \n",
    "    t_right = ts.sequence_length\n",
    "    if (tj < ts.num_edges):\n",
    "        t_right = min(t_right, ts.edges_left[I[tj]])\n",
    "    if (tk < ts.num_edges):\n",
    "        t_right = min(t_right, ts.edges_right[O[tk]])\n",
    "    break\n",
    "    for site in tree.sites():\n",
    "        allele_mat = np.zeros((len(site.mutations) + 1, len(sample_sets)))\n",
    "        allele_states = [site.ancestral_state]\n",
    "        allele = 0\n",
    "        allele_mat[allele] = np.array(list(map(len, sample_sets)))\n",
    "        for mutation in site.mutations:\n",
    "\n",
    "            if mutation.derived_state in allele_states:\n",
    "                allele = allele_states.index(mutation.derived_state)\n",
    "            else:\n",
    "                allele_states.append(mutation.derived_state)\n",
    "                allele = len(allele_states) - 1\n",
    "            allele_mat[allele] += state[mutation.node]\n",
    "\n",
    "            alt_allele = allele_states.index(site.ancestral_state)\n",
    "            if mutation.parent != -1:\n",
    "                # TODO haven't exercised this code path yet\n",
    "                alt_allele = allele_states.index(site.mutations[mutation.parent - site.mutations[0].id].derived_state)\n",
    "            allele_mat[alt_allele] -= state[mutation.node]\n",
    "\n",
    "        allele_state.append((len(allele_states), allele_mat))\n",
    "\n",
    "    states.append(state.copy())\n",
    "    try:\n",
    "        tree_index, tree = next(tree_iter)\n",
    "    except StopIteration:\n",
    "        tree_index += 1\n",
    "\n",
    "    t_left = t_right\n",
    "\n",
    "# for _n_alleles, _a_state in allele_state:\n",
    "#     print(_a_state)"
   ]
  },
  {
   "cell_type": "code",
   "execution_count": 301,
   "id": "2524f591-ed1d-4088-97bf-8cb6ba00a9c9",
   "metadata": {},
   "outputs": [
    {
     "name": "stdout",
     "output_type": "stream",
     "text": [
      "[ 3  2 -1 -1 -1 -1 -1]\n",
      "[ 3  2 -1 -1 -1 -1 -1 -1]\n"
     ]
    }
   ],
   "source": [
    "print(right_sib, ts.at_index(0).right_sib_array, sep='\\n')"
   ]
  },
  {
   "cell_type": "code",
   "execution_count": 302,
   "id": "b8413943-0d70-40a9-878e-896c38e9a7df",
   "metadata": {},
   "outputs": [
    {
     "name": "stdout",
     "output_type": "stream",
     "text": [
      "[-1 -1  1  0 -1 -1 -1]\n",
      "[-1 -1  1  0 -1 -1 -1 -1]\n"
     ]
    }
   ],
   "source": [
    "print(left_sib, ts.at_index(0).left_sib_array, sep='\\n')"
   ]
  },
  {
   "cell_type": "code",
   "execution_count": 303,
   "id": "18b026f7-d598-487f-af3b-6f9dec911bab",
   "metadata": {},
   "outputs": [
    {
     "name": "stdout",
     "output_type": "stream",
     "text": [
      "[-1 -1 -1  1  0 -1 -1]\n",
      "[-1 -1 -1  1  0 -1 -1  4]\n"
     ]
    }
   ],
   "source": [
    "print(left_child, ts.at_index(0).left_child_array, sep='\\n')"
   ]
  },
  {
   "cell_type": "code",
   "execution_count": 304,
   "id": "a6a4d689-fe72-4c79-b89a-20d73661955f",
   "metadata": {},
   "outputs": [
    {
     "name": "stdout",
     "output_type": "stream",
     "text": [
      "[-1 -1 -1  2  3 -1 -1]\n",
      "[-1 -1 -1  2  3 -1 -1  4]\n"
     ]
    }
   ],
   "source": [
    "print(right_child, ts.at_index(0).right_child_array, sep='\\n')"
   ]
  },
  {
   "cell_type": "code",
   "execution_count": 137,
   "id": "d004a9a8-bd1b-450c-950a-d21c42532c25",
   "metadata": {},
   "outputs": [
    {
     "data": {
      "text/plain": [
       "[array([[1],\n",
       "        [1],\n",
       "        [1],\n",
       "        [2],\n",
       "        [3],\n",
       "        [0],\n",
       "        [0]], dtype=int32),\n",
       " array([[1],\n",
       "        [1],\n",
       "        [1],\n",
       "        [0],\n",
       "        [0],\n",
       "        [2],\n",
       "        [3]], dtype=int32)]"
      ]
     },
     "execution_count": 137,
     "metadata": {},
     "output_type": "execute_result"
    }
   ],
   "source": [
    "states"
   ]
  },
  {
   "cell_type": "code",
   "execution_count": 138,
   "id": "4926c405-ce18-48b3-a2e4-eef75fd5761e",
   "metadata": {},
   "outputs": [
    {
     "data": {
      "text/plain": [
       "[5]"
      ]
     },
     "execution_count": 138,
     "metadata": {},
     "output_type": "execute_result"
    }
   ],
   "source": [
    "list(ts.at_index(0).nodes(5, order='postorder'))"
   ]
  },
  {
   "cell_type": "code",
   "execution_count": 139,
   "id": "bd4e9e4f-22f8-4379-a2bc-cc7a15571a0d",
   "metadata": {},
   "outputs": [
    {
     "data": {
      "text/plain": [
       "[0, 1, 2, 3, 4]"
      ]
     },
     "execution_count": 139,
     "metadata": {},
     "output_type": "execute_result"
    }
   ],
   "source": [
    "list(ts.at_index(0).nodes(-1, order='postorder'))"
   ]
  },
  {
   "cell_type": "code",
   "execution_count": 258,
   "id": "1c108099-87b3-40c0-b58b-41211224334f",
   "metadata": {},
   "outputs": [
    {
     "name": "stdout",
     "output_type": "stream",
     "text": [
      "[1, 0, 0, 0, 1, 0, 0]\n",
      "removed 4 3 \n",
      "removed 4 0 \n",
      "removed 3 2 removed 4 2 \n",
      "removed 3 1 removed 4 1 \n",
      "added 5 0 \n",
      "added 5 1 \n",
      "added 6 2 \n",
      "added 6 5 \n",
      "[1, 0, 0, 0, 0, 1, 1]\n"
     ]
    }
   ],
   "source": [
    "I = ts.indexes_edge_insertion_order\n",
    "O = ts.indexes_edge_removal_order\n",
    "\n",
    "num_tracked_samples = [0, 0, 0, 0, 0, 0, 0]\n",
    "node = 0\n",
    "# node = 5\n",
    "nodes = list(ts.at_index(0).nodes(node, order='postorder'))\n",
    "for j in range(len(nodes)):\n",
    "    u = nodes[j]\n",
    "    v = ts.at_index(0).left_child(u)\n",
    "    while v != -1:\n",
    "        num_tracked_samples[u] += num_tracked_samples[v]\n",
    "        v = ts.at_index(0).right_sib(u)\n",
    "    num_tracked_samples[u] += 1 if (ts.node(u).flags & 1) else 0\n",
    "    n = num_tracked_samples[u]\n",
    "    u = ts.at_index(0).parent(u)\n",
    "    while u != -1:\n",
    "        num_tracked_samples[u] = n\n",
    "        u = ts.at_index(0).parent(u)\n",
    "\n",
    "print(num_tracked_samples)\n",
    "\n",
    "out = 0  # TODO What is out in this context? (see tsk_tree_advance out_index)\n",
    "i = 4  # TODO What is in in this context? (see tsk_tree_advance in_index)\n",
    "while out < ts.num_edges and ts.edges_right[O[out]] == ts.at_index(0).interval.right:\n",
    "    k = O[out]\n",
    "    out += 1\n",
    "    # NB redefine u here\n",
    "    u = ts.edges_parent[k]\n",
    "    c = ts.edges_child[k]\n",
    "    while u != -1:\n",
    "        num_tracked_samples[u] -= num_tracked_samples[c]\n",
    "        print(f'removed {u} {c}', end=' ')\n",
    "        u = ts.at_index(0).parent(u)\n",
    "        # u = parent[u]\n",
    "    print()\n",
    "while i < ts.num_edges and ts.edges_left[I[i]] == ts.at_index(0).interval.right:\n",
    "    k = I[i]\n",
    "    i += 1\n",
    "    u = ts.edges_parent[k]\n",
    "    c = ts.edges_child[k]\n",
    "    while u != -1:\n",
    "        num_tracked_samples[u] += num_tracked_samples[c]\n",
    "        print(f'added {u} {c}', end=' ')\n",
    "        u = ts.at_index(0).parent(u)\n",
    "        # u = parent[u]\n",
    "    print()\n",
    "\n",
    "\n",
    "# out = 0  # TODO What is out in this context? (see tsk_tree_advance out_index)\n",
    "# i = 4  # TODO What is in in this context? (see tsk_tree_advance in_index)\n",
    "# while out < ts.num_edges and ts.edges_right[O[out]] == ts.at_index(0).interval.right:\n",
    "#     k = O[out]\n",
    "#     out += 1\n",
    "#     # NB redefine u here\n",
    "#     u = ts.edges_parent[k]\n",
    "#     c = ts.edges_child[k]\n",
    "#     num_tracked_samples[u] -= num_tracked_samples[c]\n",
    "#     print(f'removed {k} {u} {c}')\n",
    "# while i < ts.num_edges and ts.edges_left[I[i]] == ts.at_index(0).interval.right:\n",
    "#     k = I[i]\n",
    "#     i += 1\n",
    "#     u = ts.edges_parent[k]\n",
    "#     c = ts.edges_child[k]\n",
    "#     num_tracked_samples[u] += num_tracked_samples[c]\n",
    "#     print(f'added {k} {u} {c}')\n",
    "\n",
    "print(num_tracked_samples)"
   ]
  },
  {
   "cell_type": "code",
   "execution_count": 147,
   "id": "f49fe4d4-ef29-4449-9d7f-9e5a1d20a69c",
   "metadata": {},
   "outputs": [
    {
     "data": {
      "text/plain": [
       "array([5, 4, 1, 0, 7, 6, 3, 2], dtype=int32)"
      ]
     },
     "execution_count": 147,
     "metadata": {},
     "output_type": "execute_result"
    }
   ],
   "source": [
    "O"
   ]
  },
  {
   "cell_type": "code",
   "execution_count": 148,
   "id": "83bebcdf-d042-4a17-a501-9378baac2c83",
   "metadata": {},
   "outputs": [
    {
     "data": {
      "text/plain": [
       "array([0, 1, 4, 5, 2, 3, 6, 7], dtype=int32)"
      ]
     },
     "execution_count": 148,
     "metadata": {},
     "output_type": "execute_result"
    }
   ],
   "source": [
    "I"
   ]
  },
  {
   "cell_type": "code",
   "execution_count": 151,
   "id": "70041048-00fa-4842-95cb-3788af723611",
   "metadata": {},
   "outputs": [
    {
     "data": {
      "text/plain": [
       "array([[1],\n",
       "       [1],\n",
       "       [1],\n",
       "       [2],\n",
       "       [3],\n",
       "       [0],\n",
       "       [0]], dtype=int32)"
      ]
     },
     "execution_count": 151,
     "metadata": {},
     "output_type": "execute_result"
    }
   ],
   "source": [
    "states[0]"
   ]
  },
  {
   "cell_type": "code",
   "execution_count": 157,
   "id": "470fd6fe-f7fe-441a-92c0-54c9ac47fbfb",
   "metadata": {},
   "outputs": [
    {
     "data": {
      "text/plain": [
       "array([3, 3, 5, 5, 4, 4, 6, 6], dtype=int32)"
      ]
     },
     "execution_count": 157,
     "metadata": {},
     "output_type": "execute_result"
    }
   ],
   "source": [
    "ts.edges_parent"
   ]
  },
  {
   "cell_type": "code",
   "execution_count": 347,
   "id": "bd8ed1cc-0b0b-4962-b7fb-a45a17b8b03f",
   "metadata": {},
   "outputs": [
    {
     "name": "stdout",
     "output_type": "stream",
     "text": [
      "removed 5 4 3\n",
      "removed 4 4 0\n",
      "removed 1 3 2\n",
      "removed 0 3 1\n",
      "added 2 5 0\n",
      "added 3 5 1\n",
      "added 6 6 2\n",
      "added 7 6 5\n"
     ]
    }
   ],
   "source": [
    "I = ts.indexes_edge_insertion_order\n",
    "O = ts.indexes_edge_removal_order\n",
    "\n",
    "mut_parent = ts.edge(ts.mutation(0).edge).parent\n",
    "if ts.edges_parent[mut_parent - 1] == mut_parent:\n",
    "    prune_edge = mut_parent - 1\n",
    "elif ts.edges_parent[mut_parent + 1] == mut_parent:\n",
    "    prune_edge = mut_parent + 1\n",
    "else:\n",
    "    raise Exception('Unexpected condition')\n",
    "\n",
    "# start_state = states[0].copy()\n",
    "start_state = state.copy()\n",
    "start_state[ts.edge(prune_edge).parent] -= start_state[ts.edge(prune_edge).child]\n",
    "\n",
    "# last_p = ts.edges_parent[prune_edge]\n",
    "# while True:\n",
    "#     c = ts.edges_child[prune_edge]\n",
    "#     p = ts.edges_parent[prune_edge]\n",
    "#     if p > last_p:\n",
    "#         break\n",
    "#     start_state[c] -= start_state[c]\n",
    "\n",
    "stack = []\n",
    "stack.append(ts.edge(prune_edge).child)\n",
    "while len(stack) > 0:\n",
    "    node = stack.pop()\n",
    "    start_state[node] -= start_state[node]\n",
    "    if right_child[node] != -1:\n",
    "        stack.append(right_child[node])\n",
    "    if left_child[node] != -1:\n",
    "        stack.append(left_child[node])\n",
    "\n",
    "out = 0  # TODO What is out in this context? (see tsk_tree_advance out_index)\n",
    "i = 4  # TODO What is in in this context? (see tsk_tree_advance in_index)\n",
    "while out < ts.num_edges and ts.edges_right[O[out]] == ts.at_index(0).interval.right:\n",
    "    k = O[out]\n",
    "    out += 1\n",
    "    # NB redefine u here\n",
    "    u = ts.edges_parent[k]\n",
    "    c = ts.edges_child[k]\n",
    "    start_state[u] -= start_state[c]\n",
    "    print(f'removed {k} {u} {c}')\n",
    "while i < ts.num_edges and ts.edges_left[I[i]] == ts.at_index(0).interval.right:\n",
    "    k = I[i]\n",
    "    i += 1\n",
    "    u = ts.edges_parent[k]\n",
    "    c = ts.edges_child[k]\n",
    "    start_state[u] += start_state[c]\n",
    "    print(f'added {k} {u} {c}')"
   ]
  },
  {
   "cell_type": "code",
   "execution_count": 348,
   "id": "4ec26dca-5bb9-4724-b0a3-bf426ea1da10",
   "metadata": {},
   "outputs": [
    {
     "data": {
      "text/plain": [
       "array([[1],\n",
       "       [0],\n",
       "       [0],\n",
       "       [0],\n",
       "       [0],\n",
       "       [1],\n",
       "       [1]], dtype=int32)"
      ]
     },
     "execution_count": 348,
     "metadata": {},
     "output_type": "execute_result"
    }
   ],
   "source": [
    "start_state"
   ]
  },
  {
   "cell_type": "code",
   "execution_count": 349,
   "id": "4ef7cfaf-11f7-4e59-ac06-3cc1199fbedf",
   "metadata": {},
   "outputs": [
    {
     "name": "stdout",
     "output_type": "stream",
     "text": [
      "[ 3  2 -1 -1 -1 -1 -1]\n",
      "[ 3  2 -1 -1 -1 -1 -1 -1]\n"
     ]
    }
   ],
   "source": [
    "print(right_sib, ts.at_index(0).right_sib_array, sep='\\n')"
   ]
  },
  {
   "cell_type": "code",
   "execution_count": 350,
   "id": "2746cc63-93f3-48f6-9bbc-ece0019ade03",
   "metadata": {},
   "outputs": [
    {
     "name": "stdout",
     "output_type": "stream",
     "text": [
      "[-1 -1  1  0 -1 -1 -1]\n",
      "[-1 -1  1  0 -1 -1 -1 -1]\n"
     ]
    }
   ],
   "source": [
    "print(left_sib, ts.at_index(0).left_sib_array, sep='\\n')"
   ]
  },
  {
   "cell_type": "code",
   "execution_count": 351,
   "id": "f1c32a72-4a78-46b6-803e-0342ea289825",
   "metadata": {},
   "outputs": [
    {
     "name": "stdout",
     "output_type": "stream",
     "text": [
      "[-1 -1 -1  1  0 -1 -1]\n",
      "[-1 -1 -1  1  0 -1 -1  4]\n"
     ]
    }
   ],
   "source": [
    "print(left_child, ts.at_index(0).left_child_array, sep='\\n')"
   ]
  },
  {
   "cell_type": "code",
   "execution_count": 352,
   "id": "f766b371-48d9-42e0-b3e0-400dbaf97cf8",
   "metadata": {},
   "outputs": [
    {
     "name": "stdout",
     "output_type": "stream",
     "text": [
      "[-1 -1 -1  2  3 -1 -1]\n",
      "[-1 -1 -1  2  3 -1 -1  4]\n"
     ]
    }
   ],
   "source": [
    "print(right_child, ts.at_index(0).right_child_array, sep='\\n')"
   ]
  },
  {
   "cell_type": "code",
   "execution_count": 247,
   "id": "2e9deb16-812d-470b-bbda-581e009d6b55",
   "metadata": {},
   "outputs": [
    {
     "data": {
      "text/plain": [
       "array([ 4,  3,  3,  4, -1, -1, -1], dtype=int32)"
      ]
     },
     "execution_count": 247,
     "metadata": {},
     "output_type": "execute_result"
    }
   ],
   "source": [
    "parent"
   ]
  },
  {
   "cell_type": "code",
   "execution_count": 241,
   "id": "2ec675e9-f810-4408-b66f-da53ba566c09",
   "metadata": {},
   "outputs": [
    {
     "data": {
      "text/plain": [
       "array([0, 1, 4, 5, 2, 3, 6, 7], dtype=int32)"
      ]
     },
     "execution_count": 241,
     "metadata": {},
     "output_type": "execute_result"
    }
   ],
   "source": [
    "I"
   ]
  },
  {
   "cell_type": "code",
   "execution_count": 242,
   "id": "cbf0f9fa-9ff4-4ba1-9311-bf4ce2f0a034",
   "metadata": {},
   "outputs": [
    {
     "data": {
      "text/plain": [
       "array([5, 4, 1, 0, 7, 6, 3, 2], dtype=int32)"
      ]
     },
     "execution_count": 242,
     "metadata": {},
     "output_type": "execute_result"
    }
   ],
   "source": [
    "O"
   ]
  },
  {
   "cell_type": "code",
   "execution_count": 243,
   "id": "03abfea9-2b3a-4db8-9bb0-19754cf0d65f",
   "metadata": {},
   "outputs": [
    {
     "data": {
      "image/svg+xml": [
       "<svg baseProfile=\"full\" height=\"200\" version=\"1.1\" width=\"400\" xmlns=\"http://www.w3.org/2000/svg\" xmlns:ev=\"http://www.w3.org/2001/xml-events\" xmlns:xlink=\"http://www.w3.org/1999/xlink\"><defs><style type=\"text/css\"><![CDATA[.background path {fill: #808080; fill-opacity: 0}.background path:nth-child(odd) {fill-opacity: .1}.axes {font-size: 14px}.x-axis .tick .lab {font-weight: bold; dominant-baseline: hanging}.axes, .tree {font-size: 14px; text-anchor: middle}.axes line, .edge {stroke: black; fill: none}.y-axis .grid {stroke: #FAFAFA}.node > .sym {fill: black; stroke: none}.site > .sym {stroke: black}.mut text {fill: red; font-style: italic}.mut.extra text {fill: hotpink}.mut line {fill: none; stroke: none}.mut .sym {fill: none; stroke: red}.mut.extra .sym {stroke: hotpink}.node .mut .sym {stroke-width: 1.5px}.tree text, .tree-sequence text {dominant-baseline: central}.plotbox .lab.lft {text-anchor: end}.plotbox .lab.rgt {text-anchor: start}]]></style></defs><g class=\"tree-sequence\"><g class=\"background\"><path d=\"M20,0 l180,0 l0,138.2 l0,25 l0,5 l-180,0 l0,-5 l0,-25 l0,-138.2z\" /><path d=\"M200,0 l180,0 l0,138.2 l0,25 l0,5 l-180,0 l0,-5 l0,-25 l0,-138.2z\" /></g><g class=\"axes\"><g class=\"x-axis\"><g transform=\"translate(200 200)\"><text class=\"lab\" text-anchor=\"middle\" transform=\"translate(0 -11)\">Genome position</text></g><line x1=\"20\" x2=\"380\" y1=\"163.2\" y2=\"163.2\" /><g class=\"ticks\"><g class=\"tick\" transform=\"translate(20 163.2)\"><line x1=\"0\" x2=\"0\" y1=\"0\" y2=\"5\" /><g transform=\"translate(0 6)\"><text class=\"lab\">0</text></g></g><g class=\"tick\" transform=\"translate(200 163.2)\"><line x1=\"0\" x2=\"0\" y1=\"0\" y2=\"5\" /><g transform=\"translate(0 6)\"><text class=\"lab\">10</text></g></g><g class=\"tick\" transform=\"translate(380 163.2)\"><line x1=\"0\" x2=\"0\" y1=\"0\" y2=\"5\" /><g transform=\"translate(0 6)\"><text class=\"lab\">20</text></g></g></g><g class=\"site s0\" transform=\"translate(146 163.2)\"><line class=\"sym\" x1=\"0\" x2=\"0\" y1=\"0\" y2=\"-10\" /><g class=\"mut m0\"><polyline class=\"sym\" points=\"2.5,-6.5 0,-1.5 -2.5,-6.5\" /></g></g><g class=\"site s1\" transform=\"translate(272 163.2)\"><line class=\"sym\" x1=\"0\" x2=\"0\" y1=\"0\" y2=\"-10\" /><g class=\"mut m1\"><polyline class=\"sym\" points=\"2.5,-6.5 0,-1.5 -2.5,-6.5\" /></g></g></g></g><g class=\"plotbox trees\"><g class=\"tree t0\" transform=\"translate(20 0)\"><g class=\"plotbox\"><g class=\"c2 node n4 root\" transform=\"translate(78.3333 26.8)\"><g class=\"a4 leaf m0 node n0 s0 sample\" transform=\"translate(-35 94.6)\"><path class=\"edge\" d=\"M 0 0 V -94.6 H 35\" /><g class=\"mut m0 s0 unknown_time\" transform=\"translate(0 -47.3)\"><line x1=\"0\" x2=\"0\" y1=\"0\" y2=\"47.3\" /><path class=\"sym\" d=\"M -3,-3 l 6,6 M -3,3 l 6,-6\" /><text class=\"lab lft\" transform=\"translate(-5 0)\">0</text></g><rect class=\"sym\" height=\"6\" width=\"6\" x=\"-3\" y=\"-3\" /><text class=\"lab\" transform=\"translate(0 11)\">0</text></g><g class=\"a4 c2 node n3\" transform=\"translate(35 47.3)\"><g class=\"a3 leaf node n1 sample\" transform=\"translate(-23.3333 47.3)\"><path class=\"edge\" d=\"M 0 0 V -47.3 H 23.3333\" /><rect class=\"sym\" height=\"6\" width=\"6\" x=\"-3\" y=\"-3\" /><text class=\"lab\" transform=\"translate(0 11)\">1</text></g><g class=\"a3 leaf node n2 sample\" transform=\"translate(23.3333 47.3)\"><path class=\"edge\" d=\"M 0 0 V -47.3 H -23.3333\" /><rect class=\"sym\" height=\"6\" width=\"6\" x=\"-3\" y=\"-3\" /><text class=\"lab\" transform=\"translate(0 11)\">2</text></g><path class=\"edge\" d=\"M 0 0 V -47.3 H -35\" /><circle class=\"sym\" cx=\"0\" cy=\"0\" r=\"3\" /><text class=\"lab rgt\" transform=\"translate(3 -7.0)\">3</text></g><circle class=\"sym\" cx=\"0\" cy=\"0\" r=\"3\" /><text class=\"lab\" transform=\"translate(0 -11)\">4</text></g></g></g><g class=\"tree t1\" transform=\"translate(200 0)\"><g class=\"plotbox\"><g class=\"c2 node n6 root\" transform=\"translate(101.667 26.8)\"><g class=\"a6 leaf m1 node n2 s1 sample\" transform=\"translate(35 94.6)\"><path class=\"edge\" d=\"M 0 0 V -94.6 H -35\" /><g class=\"mut m1 s1 unknown_time\" transform=\"translate(0 -47.3)\"><line x1=\"0\" x2=\"0\" y1=\"0\" y2=\"47.3\" /><path class=\"sym\" d=\"M -3,-3 l 6,6 M -3,3 l 6,-6\" /><text class=\"lab rgt\" transform=\"translate(5 0)\">1</text></g><rect class=\"sym\" height=\"6\" width=\"6\" x=\"-3\" y=\"-3\" /><text class=\"lab\" transform=\"translate(0 11)\">2</text></g><g class=\"a6 c2 node n5\" transform=\"translate(-35 47.3)\"><g class=\"a5 leaf node n0 sample\" transform=\"translate(-23.3333 47.3)\"><path class=\"edge\" d=\"M 0 0 V -47.3 H 23.3333\" /><rect class=\"sym\" height=\"6\" width=\"6\" x=\"-3\" y=\"-3\" /><text class=\"lab\" transform=\"translate(0 11)\">0</text></g><g class=\"a5 leaf node n1 sample\" transform=\"translate(23.3333 47.3)\"><path class=\"edge\" d=\"M 0 0 V -47.3 H -23.3333\" /><rect class=\"sym\" height=\"6\" width=\"6\" x=\"-3\" y=\"-3\" /><text class=\"lab\" transform=\"translate(0 11)\">1</text></g><path class=\"edge\" d=\"M 0 0 V -47.3 H 35\" /><circle class=\"sym\" cx=\"0\" cy=\"0\" r=\"3\" /><text class=\"lab lft\" transform=\"translate(-3 -7.0)\">5</text></g><circle class=\"sym\" cx=\"0\" cy=\"0\" r=\"3\" /><text class=\"lab\" transform=\"translate(0 -11)\">6</text></g></g></g></g></g></svg>"
      ],
      "text/plain": [
       "'<svg baseProfile=\"full\" height=\"200\" version=\"1.1\" width=\"400\" xmlns=\"http://www.w3.org/2000/svg\" xmlns:ev=\"http://www.w3.org/2001/xml-events\" xmlns:xlink=\"http://www.w3.org/1999/xlink\"><defs><style type=\"text/css\"><![CDATA[.background path {fill: #808080; fill-opacity: 0}.background path:nth-child(odd) {fill-opacity: .1}.axes {font-size: 14px}.x-axis .tick .lab {font-weight: bold; dominant-baseline: hanging}.axes, .tree {font-size: 14px; text-anchor: middle}.axes line, .edge {stroke: black; fill: none}.y-axis .grid {stroke: #FAFAFA}.node > .sym {fill: black; stroke: none}.site > .sym {stroke: black}.mut text {fill: red; font-style: italic}.mut.extra text {fill: hotpink}.mut line {fill: none; stroke: none}.mut .sym {fill: none; stroke: red}.mut.extra .sym {stroke: hotpink}.node .mut .sym {stroke-width: 1.5px}.tree text, .tree-sequence text {dominant-baseline: central}.plotbox .lab.lft {text-anchor: end}.plotbox .lab.rgt {text-anchor: start}]]></style></defs><g class=\"tree-sequence\"><g class=\"background\"><path d=\"M20,0 l180,0 l0,138.2 l0,25 l0,5 l-180,0 l0,-5 l0,-25 l0,-138.2z\" /><path d=\"M200,0 l180,0 l0,138.2 l0,25 l0,5 l-180,0 l0,-5 l0,-25 l0,-138.2z\" /></g><g class=\"axes\"><g class=\"x-axis\"><g transform=\"translate(200 200)\"><text class=\"lab\" text-anchor=\"middle\" transform=\"translate(0 -11)\">Genome position</text></g><line x1=\"20\" x2=\"380\" y1=\"163.2\" y2=\"163.2\" /><g class=\"ticks\"><g class=\"tick\" transform=\"translate(20 163.2)\"><line x1=\"0\" x2=\"0\" y1=\"0\" y2=\"5\" /><g transform=\"translate(0 6)\"><text class=\"lab\">0</text></g></g><g class=\"tick\" transform=\"translate(200 163.2)\"><line x1=\"0\" x2=\"0\" y1=\"0\" y2=\"5\" /><g transform=\"translate(0 6)\"><text class=\"lab\">10</text></g></g><g class=\"tick\" transform=\"translate(380 163.2)\"><line x1=\"0\" x2=\"0\" y1=\"0\" y2=\"5\" /><g transform=\"translate(0 6)\"><text class=\"lab\">20</text></g></g></g><g class=\"site s0\" transform=\"translate(146 163.2)\"><line class=\"sym\" x1=\"0\" x2=\"0\" y1=\"0\" y2=\"-10\" /><g class=\"mut m0\"><polyline class=\"sym\" points=\"2.5,-6.5 0,-1.5 -2.5,-6.5\" /></g></g><g class=\"site s1\" transform=\"translate(272 163.2)\"><line class=\"sym\" x1=\"0\" x2=\"0\" y1=\"0\" y2=\"-10\" /><g class=\"mut m1\"><polyline class=\"sym\" points=\"2.5,-6.5 0,-1.5 -2.5,-6.5\" /></g></g></g></g><g class=\"plotbox trees\"><g class=\"tree t0\" transform=\"translate(20 0)\"><g class=\"plotbox\"><g class=\"c2 node n4 root\" transform=\"translate(78.3333 26.8)\"><g class=\"a4 leaf m0 node n0 s0 sample\" transform=\"translate(-35 94.6)\"><path class=\"edge\" d=\"M 0 0 V -94.6 H 35\" /><g class=\"mut m0 s0 unknown_time\" transform=\"translate(0 -47.3)\"><line x1=\"0\" x2=\"0\" y1=\"0\" y2=\"47.3\" /><path class=\"sym\" d=\"M -3,-3 l 6,6 M -3,3 l 6,-6\" /><text class=\"lab lft\" transform=\"translate(-5 0)\">0</text></g><rect class=\"sym\" height=\"6\" width=\"6\" x=\"-3\" y=\"-3\" /><text class=\"lab\" transform=\"translate(0 11)\">0</text></g><g class=\"a4 c2 node n3\" transform=\"translate(35 47.3)\"><g class=\"a3 leaf node n1 sample\" transform=\"translate(-23.3333 47.3)\"><path class=\"edge\" d=\"M 0 0 V -47.3 H 23.3333\" /><rect class=\"sym\" height=\"6\" width=\"6\" x=\"-3\" y=\"-3\" /><text class=\"lab\" transform=\"translate(0 11)\">1</text></g><g class=\"a3 leaf node n2 sample\" transform=\"translate(23.3333 47.3)\"><path class=\"edge\" d=\"M 0 0 V -47.3 H -23.3333\" /><rect class=\"sym\" height=\"6\" width=\"6\" x=\"-3\" y=\"-3\" /><text class=\"lab\" transform=\"translate(0 11)\">2</text></g><path class=\"edge\" d=\"M 0 0 V -47.3 H -35\" /><circle class=\"sym\" cx=\"0\" cy=\"0\" r=\"3\" /><text class=\"lab rgt\" transform=\"translate(3 -7.0)\">3</text></g><circle class=\"sym\" cx=\"0\" cy=\"0\" r=\"3\" /><text class=\"lab\" transform=\"translate(0 -11)\">4</text></g></g></g><g class=\"tree t1\" transform=\"translate(200 0)\"><g class=\"plotbox\"><g class=\"c2 node n6 root\" transform=\"translate(101.667 26.8)\"><g class=\"a6 leaf m1 node n2 s1 sample\" transform=\"translate(35 94.6)\"><path class=\"edge\" d=\"M 0 0 V -94.6 H -35\" /><g class=\"mut m1 s1 unknown_time\" transform=\"translate(0 -47.3)\"><line x1=\"0\" x2=\"0\" y1=\"0\" y2=\"47.3\" /><path class=\"sym\" d=\"M -3,-3 l 6,6 M -3,3 l 6,-6\" /><text class=\"lab rgt\" transform=\"translate(5 0)\">1</text></g><rect class=\"sym\" height=\"6\" width=\"6\" x=\"-3\" y=\"-3\" /><text class=\"lab\" transform=\"translate(0 11)\">2</text></g><g class=\"a6 c2 node n5\" transform=\"translate(-35 47.3)\"><g class=\"a5 leaf node n0 sample\" transform=\"translate(-23.3333 47.3)\"><path class=\"edge\" d=\"M 0 0 V -47.3 H 23.3333\" /><rect class=\"sym\" height=\"6\" width=\"6\" x=\"-3\" y=\"-3\" /><text class=\"lab\" transform=\"translate(0 11)\">0</text></g><g class=\"a5 leaf node n1 sample\" transform=\"translate(23.3333 47.3)\"><path class=\"edge\" d=\"M 0 0 V -47.3 H -23.3333\" /><rect class=\"sym\" height=\"6\" width=\"6\" x=\"-3\" y=\"-3\" /><text class=\"lab\" transform=\"translate(0 11)\">1</text></g><path class=\"edge\" d=\"M 0 0 V -47.3 H 35\" /><circle class=\"sym\" cx=\"0\" cy=\"0\" r=\"3\" /><text class=\"lab lft\" transform=\"translate(-3 -7.0)\">5</text></g><circle class=\"sym\" cx=\"0\" cy=\"0\" r=\"3\" /><text class=\"lab\" transform=\"translate(0 -11)\">6</text></g></g></g></g></g></svg>'"
      ]
     },
     "execution_count": 243,
     "metadata": {},
     "output_type": "execute_result"
    }
   ],
   "source": [
    "ts.draw_svg()"
   ]
  },
  {
   "cell_type": "code",
   "execution_count": 240,
   "id": "8b9531e6-af34-4d08-8fe5-f19ae26dcc88",
   "metadata": {},
   "outputs": [
    {
     "data": {
      "text/plain": [
       "3"
      ]
     },
     "execution_count": 240,
     "metadata": {},
     "output_type": "execute_result"
    }
   ],
   "source": [
    "ts.edges_child[prune_edge]"
   ]
  },
  {
   "cell_type": "code",
   "execution_count": 250,
   "id": "87434c55-09d3-4d2c-ac4e-1529543fdf7e",
   "metadata": {},
   "outputs": [
    {
     "name": "stdout",
     "output_type": "stream",
     "text": [
      "4\n"
     ]
    }
   ],
   "source": [
    "v = parent[ts.edges_child[prune_edge]]\n",
    "while v != -1:\n",
    "    print(v)\n",
    "    v = parent[v]"
   ]
  },
  {
   "cell_type": "code",
   "execution_count": 251,
   "id": "22188f2b-0efa-4c66-a38c-0ff7a7f90332",
   "metadata": {},
   "outputs": [
    {
     "data": {
      "text/plain": [
       "array([ 4,  3,  3,  4, -1, -1, -1], dtype=int32)"
      ]
     },
     "execution_count": 251,
     "metadata": {},
     "output_type": "execute_result"
    }
   ],
   "source": [
    "parent"
   ]
  },
  {
   "cell_type": "code",
   "execution_count": 255,
   "id": "2bb03b1d-41b2-4f43-a4e1-6274beda9b56",
   "metadata": {},
   "outputs": [
    {
     "data": {
      "text/plain": [
       "array([-1, -1, -1,  1,  0, -1, -1,  4], dtype=int32)"
      ]
     },
     "execution_count": 255,
     "metadata": {},
     "output_type": "execute_result"
    }
   ],
   "source": [
    "ts.at_index(0).left_child_array"
   ]
  },
  {
   "cell_type": "code",
   "execution_count": 214,
   "id": "30894924-5d59-41f4-bf36-e2f24e2d53a0",
   "metadata": {},
   "outputs": [
    {
     "data": {
      "text/html": [
       "\n",
       "            <div>\n",
       "                <style scoped=\"\">\n",
       "                    .tskit-table tbody tr th:only-of-type {vertical-align: middle;}\n",
       "                    .tskit-table tbody tr th {vertical-align: top;}\n",
       "                    .tskit-table tbody td {text-align: right;padding: 0.5em 0.5em;}\n",
       "                    .tskit-table tbody th {padding: 0.5em 0.5em;}\n",
       "                </style>\n",
       "                <table border=\"1\" class=\"tskit-table\">\n",
       "                    <thead>\n",
       "                        <tr>\n",
       "                            <th>id</th><th>left</th><th>right</th><th>parent</th><th>child</th><th>metadata</th>\n",
       "                        </tr>\n",
       "                    </thead>\n",
       "                    <tbody>\n",
       "                        <tr><td>0</td><td>0</td><td>10</td><td>3</td><td>1</td><td></td></tr>\n",
       "<tr><td>1</td><td>0</td><td>10</td><td>3</td><td>2</td><td></td></tr>\n",
       "<tr><td>2</td><td>10</td><td>20</td><td>5</td><td>0</td><td></td></tr>\n",
       "<tr><td>3</td><td>10</td><td>20</td><td>5</td><td>1</td><td></td></tr>\n",
       "<tr><td>4</td><td>0</td><td>10</td><td>4</td><td>0</td><td></td></tr>\n",
       "<tr><td>5</td><td>0</td><td>10</td><td>4</td><td>3</td><td></td></tr>\n",
       "<tr><td>6</td><td>10</td><td>20</td><td>6</td><td>2</td><td></td></tr>\n",
       "<tr><td>7</td><td>10</td><td>20</td><td>6</td><td>5</td><td></td></tr>\n",
       "\n",
       "                    </tbody>\n",
       "                </table>\n",
       "            </div>\n",
       "        "
      ],
      "text/plain": [
       "<tskit.tables.EdgeTable at 0x7fe42881c190>"
      ]
     },
     "execution_count": 214,
     "metadata": {},
     "output_type": "execute_result"
    }
   ],
   "source": [
    "ts.tables.edges"
   ]
  },
  {
   "cell_type": "code",
   "execution_count": 207,
   "id": "82bb89d6-3097-471c-a45c-d1dae80bc95f",
   "metadata": {},
   "outputs": [
    {
     "data": {
      "text/plain": [
       "array([1, 2, 0, 1, 0, 3, 2, 5], dtype=int32)"
      ]
     },
     "execution_count": 207,
     "metadata": {},
     "output_type": "execute_result"
    }
   ],
   "source": [
    "ts.edges_child"
   ]
  },
  {
   "cell_type": "code",
   "execution_count": 203,
   "id": "931fb4b4-cd46-4365-b81b-3a990f7cbdaa",
   "metadata": {},
   "outputs": [
    {
     "data": {
      "text/plain": [
       "array([[1],\n",
       "       [1],\n",
       "       [1],\n",
       "       [2],\n",
       "       [1],\n",
       "       [0],\n",
       "       [0]], dtype=int32)"
      ]
     },
     "execution_count": 203,
     "metadata": {},
     "output_type": "execute_result"
    }
   ],
   "source": [
    "start_state"
   ]
  },
  {
   "cell_type": "code",
   "execution_count": 212,
   "id": "48addcf0-1d8a-45d1-a2ee-5a19aa4f209d",
   "metadata": {},
   "outputs": [
    {
     "data": {
      "text/plain": [
       "array([ 4,  3,  3,  4, -1, -1, -1], dtype=int32)"
      ]
     },
     "execution_count": 212,
     "metadata": {},
     "output_type": "execute_result"
    }
   ],
   "source": [
    "parent"
   ]
  },
  {
   "cell_type": "code",
   "execution_count": 200,
   "id": "ed675cd4-8570-4462-b401-81a4b5c94dd0",
   "metadata": {},
   "outputs": [
    {
     "data": {
      "text/plain": [
       "array([[1],\n",
       "       [1],\n",
       "       [1],\n",
       "       [2],\n",
       "       [1],\n",
       "       [0],\n",
       "       [0]], dtype=int32)"
      ]
     },
     "execution_count": 200,
     "metadata": {},
     "output_type": "execute_result"
    }
   ],
   "source": [
    "start_state"
   ]
  },
  {
   "cell_type": "code",
   "execution_count": 211,
   "id": "f4265d0c-9a9f-45c5-a124-a356059ab9ba",
   "metadata": {},
   "outputs": [
    {
     "data": {
      "text/plain": [
       "[array([[1],\n",
       "        [1],\n",
       "        [1],\n",
       "        [2],\n",
       "        [3],\n",
       "        [0],\n",
       "        [0]], dtype=int32),\n",
       " array([[1],\n",
       "        [1],\n",
       "        [1],\n",
       "        [0],\n",
       "        [0],\n",
       "        [2],\n",
       "        [3]], dtype=int32)]"
      ]
     },
     "execution_count": 211,
     "metadata": {},
     "output_type": "execute_result"
    }
   ],
   "source": [
    "states"
   ]
  },
  {
   "cell_type": "code",
   "execution_count": 186,
   "id": "3af8d6e4-4b56-42db-aa88-5dcb82f69596",
   "metadata": {},
   "outputs": [
    {
     "data": {
      "text/plain": [
       "5"
      ]
     },
     "execution_count": 186,
     "metadata": {},
     "output_type": "execute_result"
    }
   ],
   "source": [
    "prune_edge"
   ]
  },
  {
   "cell_type": "code",
   "execution_count": 184,
   "id": "adc716b7-9fec-4e79-9b4c-45fa24a1b3c3",
   "metadata": {},
   "outputs": [
    {
     "name": "stdout",
     "output_type": "stream",
     "text": [
      "left right parent child\n",
      "0    10    4      0,3\n",
      "0    10    3      1,2\n",
      "10   20    5      0,1\n",
      "10   20    6      2,5\n",
      "\n"
     ]
    }
   ],
   "source": [
    "print(edges)"
   ]
  },
  {
   "cell_type": "code",
   "execution_count": 171,
   "id": "ccd0aaeb-8c42-40c5-8116-933556e16203",
   "metadata": {},
   "outputs": [
    {
     "data": {
      "text/plain": [
       "4"
      ]
     },
     "execution_count": 171,
     "metadata": {},
     "output_type": "execute_result"
    }
   ],
   "source": [
    "ts.edge(ts.mutation(0).edge).parent"
   ]
  },
  {
   "cell_type": "code",
   "execution_count": 172,
   "id": "7e05b258-355b-49b3-baca-80f007486069",
   "metadata": {},
   "outputs": [
    {
     "data": {
      "text/plain": [
       "array([3, 3, 5, 5, 4, 4, 6, 6], dtype=int32)"
      ]
     },
     "execution_count": 172,
     "metadata": {},
     "output_type": "execute_result"
    }
   ],
   "source": [
    "ts.edges_parent"
   ]
  },
  {
   "cell_type": "code",
   "execution_count": 173,
   "id": "81cd2537-330a-4fa9-95d0-732367568873",
   "metadata": {},
   "outputs": [
    {
     "data": {
      "text/html": [
       "\n",
       "            <div>\n",
       "                <style scoped=\"\">\n",
       "                    .tskit-table tbody tr th:only-of-type {vertical-align: middle;}\n",
       "                    .tskit-table tbody tr th {vertical-align: top;}\n",
       "                    .tskit-table tbody td {text-align: right;padding: 0.5em 0.5em;}\n",
       "                    .tskit-table tbody th {padding: 0.5em 0.5em;}\n",
       "                </style>\n",
       "                <table border=\"1\" class=\"tskit-table\">\n",
       "                    <thead>\n",
       "                        <tr>\n",
       "                            <th>id</th><th>left</th><th>right</th><th>parent</th><th>child</th><th>metadata</th>\n",
       "                        </tr>\n",
       "                    </thead>\n",
       "                    <tbody>\n",
       "                        <tr><td>0</td><td>0</td><td>10</td><td>3</td><td>1</td><td></td></tr>\n",
       "<tr><td>1</td><td>0</td><td>10</td><td>3</td><td>2</td><td></td></tr>\n",
       "<tr><td>2</td><td>10</td><td>20</td><td>5</td><td>0</td><td></td></tr>\n",
       "<tr><td>3</td><td>10</td><td>20</td><td>5</td><td>1</td><td></td></tr>\n",
       "<tr><td>4</td><td>0</td><td>10</td><td>4</td><td>0</td><td></td></tr>\n",
       "<tr><td>5</td><td>0</td><td>10</td><td>4</td><td>3</td><td></td></tr>\n",
       "<tr><td>6</td><td>10</td><td>20</td><td>6</td><td>2</td><td></td></tr>\n",
       "<tr><td>7</td><td>10</td><td>20</td><td>6</td><td>5</td><td></td></tr>\n",
       "\n",
       "                    </tbody>\n",
       "                </table>\n",
       "            </div>\n",
       "        "
      ],
      "text/plain": [
       "<tskit.tables.EdgeTable at 0x7fe42aa08b50>"
      ]
     },
     "execution_count": 173,
     "metadata": {},
     "output_type": "execute_result"
    }
   ],
   "source": [
    "ts.tables.edges"
   ]
  },
  {
   "cell_type": "code",
   "execution_count": 174,
   "id": "8d14e8a8-5336-4d26-ab5f-854f233010a3",
   "metadata": {},
   "outputs": [
    {
     "data": {
      "text/html": [
       "\n",
       "            <div>\n",
       "                <style scoped=\"\">\n",
       "                    .tskit-table tbody tr th:only-of-type {vertical-align: middle;}\n",
       "                    .tskit-table tbody tr th {vertical-align: top;}\n",
       "                    .tskit-table tbody td {text-align: right;padding: 0.5em 0.5em;}\n",
       "                    .tskit-table tbody th {padding: 0.5em 0.5em;}\n",
       "                </style>\n",
       "                <table border=\"1\" class=\"tskit-table\">\n",
       "                    <thead>\n",
       "                        <tr>\n",
       "                            <th>id</th><th>flags</th><th>population</th><th>individual</th><th>time</th><th>metadata</th>\n",
       "                        </tr>\n",
       "                    </thead>\n",
       "                    <tbody>\n",
       "                        <tr><td>0</td><td>1</td><td>-1</td><td>-1</td><td>0</td><td></td></tr>\n",
       "<tr><td>1</td><td>1</td><td>-1</td><td>-1</td><td>0</td><td></td></tr>\n",
       "<tr><td>2</td><td>1</td><td>-1</td><td>-1</td><td>0</td><td></td></tr>\n",
       "<tr><td>3</td><td>0</td><td>-1</td><td>-1</td><td>2</td><td></td></tr>\n",
       "<tr><td>4</td><td>0</td><td>-1</td><td>-1</td><td>4</td><td></td></tr>\n",
       "<tr><td>5</td><td>0</td><td>-1</td><td>-1</td><td>2</td><td></td></tr>\n",
       "<tr><td>6</td><td>0</td><td>-1</td><td>-1</td><td>4</td><td></td></tr>\n",
       "\n",
       "                    </tbody>\n",
       "                </table>\n",
       "            </div>\n",
       "        "
      ],
      "text/plain": [
       "<tskit.tables.NodeTable at 0x7fe42aa08640>"
      ]
     },
     "execution_count": 174,
     "metadata": {},
     "output_type": "execute_result"
    }
   ],
   "source": [
    "ts.tables.nodes"
   ]
  }
 ],
 "metadata": {
  "kernelspec": {
   "display_name": "tskit-dev-1",
   "language": "python",
   "name": "tskit-dev-1"
  },
  "language_info": {
   "codemirror_mode": {
    "name": "ipython",
    "version": 3
   },
   "file_extension": ".py",
   "mimetype": "text/x-python",
   "name": "python",
   "nbconvert_exporter": "python",
   "pygments_lexer": "ipython3",
   "version": "3.9.13"
  }
 },
 "nbformat": 4,
 "nbformat_minor": 5
}
