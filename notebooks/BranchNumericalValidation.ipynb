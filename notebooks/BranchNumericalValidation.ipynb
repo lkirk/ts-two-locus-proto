{
 "cells": [
  {
   "cell_type": "code",
   "execution_count": 9,
   "id": "89981845-7e0b-4079-9923-c0a2335d7484",
   "metadata": {},
   "outputs": [],
   "source": [
    "from itertools import combinations, product\n",
    "import numpy as np"
   ]
  },
  {
   "cell_type": "code",
   "execution_count": 30,
   "id": "1ddccecd-1719-4b14-85b8-071f70ed4bb7",
   "metadata": {},
   "outputs": [],
   "source": [
    "import math"
   ]
  },
  {
   "cell_type": "code",
   "execution_count": 94,
   "id": "4ddd9b2f-c442-4ce3-b707-cdd783cff200",
   "metadata": {},
   "outputs": [],
   "source": [
    "samples_1 = [{0}, {1}, {2}, {3}, {4}, {0, 1}, {3, 4}, {0, 1, 2}, set(), {0, 1, 2, 3, 4}]\n",
    "# len_1 = [0, 0, 0, 0, 0, 4.0, 6.0, 10.0, 0, 23.0]\n",
    "len_1 = [0, 0, 0, 0, 0, 5.0, 4.0, 3.0, 0, 0.0]\n",
    "# tot_1 = len_1[-1]\n",
    "tot_1 = 23.0\n",
    "samples_2 = [{0}, {1}, {2}, {3}, {4}, {0, 1}, set(), {0, 1, 2}, {0, 1, 2, 3}, {0, 1, 2, 3, 4}]\n",
    "# len_2 = [0, 0, 0, 0, 0, 4.0, 0.0, 10.0, 18.0, 26.0]\n",
    "len_2 = [0, 0, 0, 0, 0, 5.0, 0, 3.0, 1.0, 0.0]\n",
    "# tot_2 = len_2[-1]\n",
    "tot_2 = 26.0"
   ]
  },
  {
   "cell_type": "code",
   "execution_count": 99,
   "id": "7ad91f77-d73c-4ed3-8f93-44fa264758fa",
   "metadata": {},
   "outputs": [
    {
     "data": {
      "text/plain": [
       "array([ 0,  1,  4,  2,  3,  5,  9, 10, -1, -1, -1], dtype=int32)"
      ]
     },
     "execution_count": 99,
     "metadata": {},
     "output_type": "execute_result"
    }
   ],
   "source": [
    "ts.at_index(0).edge_array"
   ]
  },
  {
   "cell_type": "code",
   "execution_count": 100,
   "id": "467d3619-a418-440e-ad39-3fd594555716",
   "metadata": {},
   "outputs": [
    {
     "data": {
      "text/plain": [
       "array([ 0,  1,  4,  6,  8,  5, -1,  7, 11, -1, -1], dtype=int32)"
      ]
     },
     "execution_count": 100,
     "metadata": {},
     "output_type": "execute_result"
    }
   ],
   "source": [
    "ts.at_index(1).edge_array"
   ]
  },
  {
   "cell_type": "code",
   "execution_count": 101,
   "id": "f5755f0f-10a5-4ba4-914e-f149646b49d7",
   "metadata": {},
   "outputs": [
    {
     "ename": "LibraryError",
     "evalue": "Edge out of bounds. (TSK_ERR_EDGE_OUT_OF_BOUNDS)",
     "output_type": "error",
     "traceback": [
      "\u001b[0;31m---------------------------------------------------------------------------\u001b[0m",
      "\u001b[0;31mLibraryError\u001b[0m                              Traceback (most recent call last)",
      "Cell \u001b[0;32mIn[101], line 1\u001b[0m\n\u001b[0;32m----> 1\u001b[0m \u001b[43mts\u001b[49m\u001b[38;5;241;43m.\u001b[39;49m\u001b[43mtables\u001b[49m\u001b[38;5;241;43m.\u001b[39;49m\u001b[43medges\u001b[49m\u001b[43m[\u001b[49m\u001b[43mts\u001b[49m\u001b[38;5;241;43m.\u001b[39;49m\u001b[43mat_index\u001b[49m\u001b[43m(\u001b[49m\u001b[38;5;241;43m1\u001b[39;49m\u001b[43m)\u001b[49m\u001b[38;5;241;43m.\u001b[39;49m\u001b[43medge_array\u001b[49m\u001b[43m]\u001b[49m\n",
      "File \u001b[0;32m~/.conda/envs/tskit-dev-2/lib/python3.11/site-packages/tskit/tables.py:531\u001b[0m, in \u001b[0;36mBaseTable.__getitem__\u001b[0;34m(self, index)\u001b[0m\n\u001b[1;32m    529\u001b[0m ret \u001b[38;5;241m=\u001b[39m \u001b[38;5;28mself\u001b[39m\u001b[38;5;241m.\u001b[39m\u001b[38;5;18m__class__\u001b[39m()\n\u001b[1;32m    530\u001b[0m ret\u001b[38;5;241m.\u001b[39mmetadata_schema \u001b[38;5;241m=\u001b[39m \u001b[38;5;28mself\u001b[39m\u001b[38;5;241m.\u001b[39mmetadata_schema\n\u001b[0;32m--> 531\u001b[0m \u001b[43mret\u001b[49m\u001b[38;5;241;43m.\u001b[39;49m\u001b[43mll_table\u001b[49m\u001b[38;5;241;43m.\u001b[39;49m\u001b[43mextend\u001b[49m\u001b[43m(\u001b[49m\u001b[38;5;28;43mself\u001b[39;49m\u001b[38;5;241;43m.\u001b[39;49m\u001b[43mll_table\u001b[49m\u001b[43m,\u001b[49m\u001b[43m \u001b[49m\u001b[43mrow_indexes\u001b[49m\u001b[38;5;241;43m=\u001b[39;49m\u001b[43mindex\u001b[49m\u001b[43m)\u001b[49m\n\u001b[1;32m    533\u001b[0m \u001b[38;5;28;01mreturn\u001b[39;00m ret\n",
      "\u001b[0;31mLibraryError\u001b[0m: Edge out of bounds. (TSK_ERR_EDGE_OUT_OF_BOUNDS)"
     ]
    }
   ],
   "source": [
    "ts.tables.edges[ts.at_index(1).edge_array]"
   ]
  },
  {
   "cell_type": "code",
   "execution_count": 106,
   "id": "e4551def-fa4d-4364-a6b4-5fec8938d006",
   "metadata": {},
   "outputs": [
    {
     "data": {
      "text/plain": [
       "array([ 0,  1,  4,  6,  8,  5,  7, 11], dtype=int32)"
      ]
     },
     "execution_count": 106,
     "metadata": {},
     "output_type": "execute_result"
    }
   ],
   "source": [
    "ts.at_index(1).edge_array[ts.at_index(1).edge_array != -1]"
   ]
  },
  {
   "cell_type": "code",
   "execution_count": 110,
   "id": "e01266cc-00f5-4279-aaa7-256410b8655d",
   "metadata": {},
   "outputs": [],
   "source": [
    "def get_edge_table(tree_idx, ts):\n",
    "    return ts.tables.edges[\n",
    "        ts.at_index(tree_idx).edge_array[\n",
    "            ts.at_index(tree_idx).edge_array != -1\n",
    "        ]\n",
    "    ]"
   ]
  },
  {
   "cell_type": "code",
   "execution_count": 125,
   "id": "3a2ad340-0a78-4295-ab4c-fc597098faf8",
   "metadata": {},
   "outputs": [
    {
     "data": {
      "text/html": [
       "\n",
       "        <div>\n",
       "            <style scoped=\"\">\n",
       "                .tskit-table tbody tr th:only-of-type {vertical-align: middle;}\n",
       "                .tskit-table tbody tr th {vertical-align: top;}\n",
       "                .tskit-table tbody td {text-align: right;padding: 0.5em 0.5em;}\n",
       "                .tskit-table tbody th {padding: 0.5em 0.5em;}\n",
       "            </style>\n",
       "            <table border=\"1\" class=\"tskit-table\">\n",
       "                <thead>\n",
       "                    <tr>\n",
       "                        <th>id</th><th>left</th><th>right</th><th>parent</th><th>child</th><th>metadata</th>\n",
       "                    </tr>\n",
       "                </thead>\n",
       "                <tbody>\n",
       "                    <tr><td>0</td><td>0</td><td>20</td><td>5</td><td>0</td><td></td></tr>\n",
       "<tr><td>1</td><td>0</td><td>20</td><td>5</td><td>1</td><td></td></tr>\n",
       "<tr><td>2</td><td>0</td><td>20</td><td>7</td><td>2</td><td></td></tr>\n",
       "<tr><td>3</td><td>0</td><td>10</td><td>6</td><td>3</td><td></td></tr>\n",
       "<tr><td>4</td><td>0</td><td>10</td><td>6</td><td>4</td><td></td></tr>\n",
       "<tr><td>5</td><td>0</td><td>20</td><td>7</td><td>5</td><td></td></tr>\n",
       "<tr><td>6</td><td>0</td><td>10</td><td>9</td><td>6</td><td></td></tr>\n",
       "<tr><td>7</td><td>0</td><td>10</td><td>9</td><td>7</td><td></td></tr>\n",
       "\n",
       "                </tbody>\n",
       "            </table>\n",
       "        </div>\n",
       "    "
      ],
      "text/plain": [
       "<tskit.tables.EdgeTable at 0x7f324aca9390>"
      ]
     },
     "execution_count": 125,
     "metadata": {},
     "output_type": "execute_result"
    }
   ],
   "source": [
    "get_edge_table(0, ts)"
   ]
  },
  {
   "cell_type": "code",
   "execution_count": 173,
   "id": "b47e8922-471d-45cc-9e49-c65b3945b569",
   "metadata": {},
   "outputs": [
    {
     "data": {
      "text/plain": [
       "7.0"
      ]
     },
     "execution_count": 173,
     "metadata": {},
     "output_type": "execute_result"
    }
   ],
   "source": [
    "ts.tables.nodes.time[ts.at_index(0).root]"
   ]
  },
  {
   "cell_type": "code",
   "execution_count": 163,
   "id": "c68cccc5-28fc-4502-ba8f-733b5e0ee119",
   "metadata": {},
   "outputs": [
    {
     "data": {
      "text/plain": [
       "43.0"
      ]
     },
     "execution_count": 163,
     "metadata": {},
     "output_type": "execute_result"
    }
   ],
   "source": [
    "t = 0\n",
    "time = ts.tables.nodes.time\n",
    "tot = 0\n",
    "for e_x in get_edge_table(0, ts):\n",
    "    for e_y in get_edge_table(1, ts):\n",
    "        # t += len(samples_1[e_x.parent] & samples_2[e_y.parent]) * (7 - time[e_x.child]) * (7 - time[e_y.child])\n",
    "        t += math.comb(len(samples_1[e_x.child] & samples_2[e_y.child]), 2) * (time[e_x.parent] - time[e_x.child]) * (time[e_y.parent] - time[e_y.child])\n",
    "# t / (ts.at_index(0).total_branch_length * ts.at_index(1).total_branch_length)\n",
    "# t / tot\n",
    "t"
   ]
  },
  {
   "cell_type": "code",
   "execution_count": 95,
   "id": "26be6fc1-8aa6-4487-ada2-f54fb914a0bf",
   "metadata": {},
   "outputs": [
    {
     "name": "stdout",
     "output_type": "stream",
     "text": [
      "25.0 1 5.0 5.0 {0, 1}\n",
      "15.0 1 5.0 3.0 {0, 1}\n",
      "5.0 1 5.0 1.0 {0, 1}\n",
      "0.0 1 5.0 0.0 {0, 1}\n",
      "0.0 1 4.0 0.0 {3, 4}\n",
      "15.0 1 3.0 5.0 {0, 1}\n",
      "27.0 3 3.0 3.0 {0, 1, 2}\n",
      "9.0 3 3.0 1.0 {0, 1, 2}\n",
      "0.0 3 3.0 0.0 {0, 1, 2}\n",
      "0.0 1 0.0 5.0 {0, 1}\n",
      "0.0 3 0.0 3.0 {0, 1, 2}\n",
      "0.0 6 0.0 1.0 {0, 1, 2, 3}\n",
      "0.0 10 0.0 0.0 {0, 1, 2, 3, 4}\n"
     ]
    },
    {
     "data": {
      "text/plain": [
       "96.0"
      ]
     },
     "execution_count": 95,
     "metadata": {},
     "output_type": "execute_result"
    }
   ],
   "source": [
    "t = 0\n",
    "children = [0, 1, 3, 4, 2, 5, 3, 7, 4, 6, 7, 8]\n",
    "for i, x in enumerate(len_1):\n",
    "    for j, y in enumerate(len_2):\n",
    "        # c = math.comb(len(samples_1[children[i]] & samples_2[children[j]]), 2)\n",
    "        c = math.comb(len(samples_1[i] & samples_2[j]), 2)\n",
    "        if c:\n",
    "            print(c * x * y, c, x, y, samples_1[i] & samples_2[j])\n",
    "            # print(c * x * y, c, x, y, children[i], children[j], samples_1[children[i]] & samples_2[children[j]])\n",
    "        t += c * x * y\n",
    "t"
   ]
  },
  {
   "cell_type": "code",
   "execution_count": 80,
   "id": "70d46b19-abbc-4f39-a9dc-66480429ee14",
   "metadata": {},
   "outputs": [
    {
     "data": {
      "text/plain": [
       "49"
      ]
     },
     "execution_count": 80,
     "metadata": {},
     "output_type": "execute_result"
    }
   ],
   "source": [
    "total"
   ]
  },
  {
   "cell_type": "code",
   "execution_count": 64,
   "id": "6c1fa7b8-95fc-408c-a14c-c6480e1941e0",
   "metadata": {},
   "outputs": [
    {
     "data": {
      "text/plain": [
       "0"
      ]
     },
     "execution_count": 64,
     "metadata": {},
     "output_type": "execute_result"
    }
   ],
   "source": [
    "i"
   ]
  },
  {
   "cell_type": "code",
   "execution_count": 44,
   "id": "9b925591-869d-4ceb-b9de-c8d02a5f48e7",
   "metadata": {},
   "outputs": [
    {
     "data": {
      "text/plain": [
       "21.779264214046822"
      ]
     },
     "execution_count": 44,
     "metadata": {},
     "output_type": "execute_result"
    }
   ],
   "source": [
    "t = 0\n",
    "for x, y in product(range(5, 9 + 1), repeat=2):\n",
    "    # print(samples_1[x], samples_2[y], samples_1[x] & samples_2[y])\n",
    "    # print(math.comb(len(samples_1[x] & samples_2[y]), 2) * (len_1[x] / tot_1) * (len_2[x] / tot_2))\n",
    "    t += math.comb(len(samples_1[x] & samples_2[y]), 2) * (len_1[x] / tot_1) * (len_2[x] / tot_2)\n",
    "t"
   ]
  },
  {
   "cell_type": "code",
   "execution_count": 59,
   "id": "1c485b7d-8ace-4110-929f-0ae4f3c148dc",
   "metadata": {},
   "outputs": [
    {
     "data": {
      "text/plain": [
       "13024.0"
      ]
     },
     "execution_count": 59,
     "metadata": {},
     "output_type": "execute_result"
    }
   ],
   "source": [
    "\n",
    "t = 0\n",
    "for x in [5, 6, 7, 9]:\n",
    "    for y in [5, 7, 8, 9]:\n",
    "        t += math.comb(len(samples_1[x] & samples_2[y]), 2) * (len_1[x]) * (len_2[x])\n",
    "        # t += math.comb(len(samples_1[x] & samples_2[y]), 2) * (len_1[x] / tot_1) * (len_2[x] / tot_2)\n",
    "t"
   ]
  },
  {
   "cell_type": "code",
   "execution_count": 28,
   "id": "096253bb-e04c-444d-8c40-2690ba92dcf1",
   "metadata": {},
   "outputs": [
    {
     "data": {
      "text/plain": [
       "5.0"
      ]
     },
     "execution_count": 28,
     "metadata": {},
     "output_type": "execute_result"
    }
   ],
   "source": [
    "len(samples_1[x] & samples_2[y]) * (len_1[x] / tot_1) * (len_2[x] / tot_2)"
   ]
  },
  {
   "cell_type": "code",
   "execution_count": 51,
   "id": "700d6ec3-8a86-430e-9b96-6c7a516fafbd",
   "metadata": {},
   "outputs": [
    {
     "data": {
      "text/plain": [
       "67.83333333333333"
      ]
     },
     "execution_count": 51,
     "metadata": {},
     "output_type": "execute_result"
    }
   ],
   "source": [
    "e_ijij = np.sum([tmrca0[i, j] * tmrca0[i, j] for i, j in ij])\n",
    "e_ijij / n_ij"
   ]
  },
  {
   "cell_type": "code",
   "execution_count": 52,
   "id": "040745f4-13d8-4a4f-b590-90437720c5aa",
   "metadata": {},
   "outputs": [
    {
     "data": {
      "text/plain": [
       "60.916666666666664"
      ]
     },
     "execution_count": 52,
     "metadata": {},
     "output_type": "execute_result"
    }
   ],
   "source": [
    "e_ijik = np.sum([tmrca0[s(_i, _j)] * tmrca0[s(_i, _k)] for i, j in ij for _i, _j, _k in gen_ijk(i, j, 4)])\n",
    "e_ijik / n_ijk"
   ]
  },
  {
   "cell_type": "code",
   "execution_count": 53,
   "id": "78354031-9c7d-4d47-8405-60016b9c3385",
   "metadata": {},
   "outputs": [
    {
     "data": {
      "text/plain": [
       "56.666666666666664"
      ]
     },
     "execution_count": 53,
     "metadata": {},
     "output_type": "execute_result"
    }
   ],
   "source": [
    "e_ijkl = np.sum([tmrca0[s(_i, _j)] * tmrca0[s(_k, _l)] for i, j in ij for _i, _j, _k, _l in gen_ijkl(i, j, 4)])\n",
    "e_ijkl / n_ijkl"
   ]
  },
  {
   "cell_type": "code",
   "execution_count": 54,
   "id": "d40a92d8-7836-4d7f-bdf3-363df04c774c",
   "metadata": {},
   "outputs": [],
   "source": [
    "for i, j in ij:\n",
    "    e_ijij -= tmrca0[i, j] * tmrca0[i, j]\n",
    "    e_ijij += tmrca0[i, j] * tmrca1[i, j]"
   ]
  },
  {
   "cell_type": "code",
   "execution_count": 55,
   "id": "96353bca-52a5-4f4c-bd78-be37737b332c",
   "metadata": {},
   "outputs": [
    {
     "data": {
      "text/plain": [
       "72.66666666666667"
      ]
     },
     "execution_count": 55,
     "metadata": {},
     "output_type": "execute_result"
    }
   ],
   "source": [
    "e_ijij / n_ij"
   ]
  },
  {
   "cell_type": "code",
   "execution_count": 56,
   "id": "7fa465a7-48d8-4bf2-ad09-667a048648f5",
   "metadata": {},
   "outputs": [],
   "source": [
    "for i, j in ij:\n",
    "    for _i, _j, _k in gen_ijk(i, j, 4):\n",
    "        e_ijik -= tmrca0[s(_i, _j)] * tmrca0[s(_i, _k)]\n",
    "        e_ijik += tmrca0[s(_i, _j)] * tmrca1[s(_i, _k)]"
   ]
  },
  {
   "cell_type": "code",
   "execution_count": 57,
   "id": "8efb2826-a8a8-4771-b65d-0d211389fe02",
   "metadata": {},
   "outputs": [
    {
     "data": {
      "text/plain": [
       "67.75"
      ]
     },
     "execution_count": 57,
     "metadata": {},
     "output_type": "execute_result"
    }
   ],
   "source": [
    "e_ijik / n_ijk"
   ]
  },
  {
   "cell_type": "code",
   "execution_count": 58,
   "id": "ad790249-a8b7-4c1e-aa31-df440360bc5b",
   "metadata": {},
   "outputs": [],
   "source": [
    "for i, j in ij:\n",
    "    for _i, _j, _k, _l in gen_ijkl(i, j, 4):\n",
    "        e_ijkl -= tmrca0[s(_i, _j)] * tmrca0[s(_k, _l)]\n",
    "        e_ijkl += tmrca0[s(_i, _j)] * tmrca1[s(_k, _l)]"
   ]
  },
  {
   "cell_type": "code",
   "execution_count": 60,
   "id": "ccf329be-e0e4-4a01-986c-d097dd317652",
   "metadata": {},
   "outputs": [
    {
     "data": {
      "text/plain": [
       "71.5"
      ]
     },
     "execution_count": 60,
     "metadata": {},
     "output_type": "execute_result"
    }
   ],
   "source": [
    "e_ijkl / n_ijkl"
   ]
  },
  {
   "cell_type": "code",
   "execution_count": 96,
   "id": "55ed6617-3aeb-4309-b0e2-79d5d3e62ab2",
   "metadata": {},
   "outputs": [
    {
     "data": {
      "image/svg+xml": [
       "<svg baseProfile=\"full\" height=\"200\" version=\"1.1\" width=\"400\" xmlns=\"http://www.w3.org/2000/svg\" xmlns:ev=\"http://www.w3.org/2001/xml-events\" xmlns:xlink=\"http://www.w3.org/1999/xlink\"><defs><style type=\"text/css\"><![CDATA[.background path {fill: #808080; fill-opacity: 0}.background path:nth-child(odd) {fill-opacity: .1}.axes {font-size: 14px}.x-axis .tick .lab {font-weight: bold; dominant-baseline: hanging}.axes, .tree {font-size: 14px; text-anchor: middle}.axes line, .edge {stroke: black; fill: none}.axes .ax-skip {stroke-dasharray: 4}.y-axis .grid {stroke: #FAFAFA}.node > .sym {fill: black; stroke: none}.site > .sym {stroke: black}.mut text {fill: red; font-style: italic}.mut.extra text {fill: hotpink}.mut line {fill: none; stroke: none}.mut .sym {fill: none; stroke: red}.mut.extra .sym {stroke: hotpink}.node .mut .sym {stroke-width: 1.5px}.tree text, .tree-sequence text {dominant-baseline: central}.plotbox .lab.lft {text-anchor: end}.plotbox .lab.rgt {text-anchor: start}]]></style></defs><g class=\"tree-sequence\"><g class=\"background\"><path d=\"M56.8,0 l161.6,0 l0,138.2 l2.84217e-14,25 l0,5 l-161.6,0 l0,-5 l0,-25 l0,-138.2z\" /><path d=\"M218.4,0 l161.6,0 l0,138.2 l0,25 l0,5 l-161.6,0 l0,-5 l0,-25 l0,-138.2z\" /></g><g class=\"axes\"><g class=\"x-axis\"><g class=\"title\" transform=\"translate(218.4 200)\"><text class=\"lab\" text-anchor=\"middle\" transform=\"translate(0 -11)\">Genome position</text></g><line class=\"ax-line\" x1=\"56.8\" x2=\"380\" y1=\"163.2\" y2=\"163.2\" /><g class=\"ticks\"><g class=\"tick\" transform=\"translate(56.8 163.2)\"><line x1=\"0\" x2=\"0\" y1=\"0\" y2=\"5\" /><g transform=\"translate(0 6)\"><text class=\"lab\">0</text></g></g><g class=\"tick\" transform=\"translate(218.4 163.2)\"><line x1=\"0\" x2=\"0\" y1=\"0\" y2=\"5\" /><g transform=\"translate(0 6)\"><text class=\"lab\">10</text></g></g><g class=\"tick\" transform=\"translate(380 163.2)\"><line x1=\"0\" x2=\"0\" y1=\"0\" y2=\"5\" /><g transform=\"translate(0 6)\"><text class=\"lab\">20</text></g></g></g></g><g class=\"y-axis\"><g class=\"title\" transform=\"translate(0 65.7)\"><text class=\"lab\" text-anchor=\"middle\" transform=\"translate(11) rotate(-90)\">Time</text></g><line class=\"ax-line\" x1=\"56.8\" x2=\"56.8\" y1=\"121.4\" y2=\"10\" /><g class=\"ticks\"><g class=\"tick\" transform=\"translate(56.8 121.4)\"><line x1=\"0\" x2=\"-5\" y1=\"0\" y2=\"0\" /><g transform=\"translate(-6 0)\"><text class=\"lab\" text-anchor=\"end\">0</text></g></g><g class=\"tick\" transform=\"translate(56.8 94.3714)\"><line x1=\"0\" x2=\"-5\" y1=\"0\" y2=\"0\" /><g transform=\"translate(-6 0)\"><text class=\"lab\" text-anchor=\"end\">2</text></g></g><g class=\"tick\" transform=\"translate(56.8 80.8571)\"><line x1=\"0\" x2=\"-5\" y1=\"0\" y2=\"0\" /><g transform=\"translate(-6 0)\"><text class=\"lab\" text-anchor=\"end\">3</text></g></g><g class=\"tick\" transform=\"translate(56.8 67.3429)\"><line x1=\"0\" x2=\"-5\" y1=\"0\" y2=\"0\" /><g transform=\"translate(-6 0)\"><text class=\"lab\" text-anchor=\"end\">4</text></g></g><g class=\"tick\" transform=\"translate(56.8 40.3143)\"><line x1=\"0\" x2=\"-5\" y1=\"0\" y2=\"0\" /><g transform=\"translate(-6 0)\"><text class=\"lab\" text-anchor=\"end\">6</text></g></g><g class=\"tick\" transform=\"translate(56.8 26.8)\"><line x1=\"0\" x2=\"-5\" y1=\"0\" y2=\"0\" /><g transform=\"translate(-6 0)\"><text class=\"lab\" text-anchor=\"end\">7</text></g></g></g></g></g><g class=\"plotbox trees\"><g class=\"tree t0\" transform=\"translate(56.8 0)\"><g class=\"plotbox\"><g class=\"c2 node n9 root\" transform=\"translate(89.92 26.8)\"><g class=\"a9 c2 node n6\" transform=\"translate(27.36 54.0571)\"><g class=\"a6 leaf node n3 sample\" transform=\"translate(-12.16 40.5429)\"><path class=\"edge\" d=\"M 0 0 V -40.5429 H 12.16\" /><rect class=\"sym\" height=\"6\" width=\"6\" x=\"-3\" y=\"-3\" /><text class=\"lab\" transform=\"translate(0 11)\">3</text></g><g class=\"a6 leaf node n4 sample\" transform=\"translate(12.16 40.5429)\"><path class=\"edge\" d=\"M 0 0 V -40.5429 H -12.16\" /><rect class=\"sym\" height=\"6\" width=\"6\" x=\"-3\" y=\"-3\" /><text class=\"lab\" transform=\"translate(0 11)\">4</text></g><path class=\"edge\" d=\"M 0 0 V -54.0571 H -27.36\" /><circle class=\"sym\" cx=\"0\" cy=\"0\" r=\"3\" /><text class=\"lab rgt\" transform=\"translate(3 -7.0)\">6</text></g><g class=\"a9 c2 node n7\" transform=\"translate(-27.36 40.5429)\"><g class=\"a7 leaf node n2 sample\" transform=\"translate(18.24 54.0571)\"><path class=\"edge\" d=\"M 0 0 V -54.0571 H -18.24\" /><rect class=\"sym\" height=\"6\" width=\"6\" x=\"-3\" y=\"-3\" /><text class=\"lab\" transform=\"translate(0 11)\">2</text></g><g class=\"a7 c2 node n5\" transform=\"translate(-18.24 27.0286)\"><g class=\"a5 leaf node n0 sample\" transform=\"translate(-12.16 27.0286)\"><path class=\"edge\" d=\"M 0 0 V -27.0286 H 12.16\" /><rect class=\"sym\" height=\"6\" width=\"6\" x=\"-3\" y=\"-3\" /><text class=\"lab\" transform=\"translate(0 11)\">0</text></g><g class=\"a5 leaf node n1 sample\" transform=\"translate(12.16 27.0286)\"><path class=\"edge\" d=\"M 0 0 V -27.0286 H -12.16\" /><rect class=\"sym\" height=\"6\" width=\"6\" x=\"-3\" y=\"-3\" /><text class=\"lab\" transform=\"translate(0 11)\">1</text></g><path class=\"edge\" d=\"M 0 0 V -27.0286 H 18.24\" /><circle class=\"sym\" cx=\"0\" cy=\"0\" r=\"3\" /><text class=\"lab lft\" transform=\"translate(-3 -7.0)\">5</text></g><path class=\"edge\" d=\"M 0 0 V -40.5429 H 27.36\" /><circle class=\"sym\" cx=\"0\" cy=\"0\" r=\"3\" /><text class=\"lab lft\" transform=\"translate(-3 -7.0)\">7</text></g><circle class=\"sym\" cx=\"0\" cy=\"0\" r=\"3\" /><text class=\"lab\" transform=\"translate(0 -11)\">9</text></g></g></g><g class=\"tree t1\" transform=\"translate(218.4 0)\"><g class=\"plotbox\"><g class=\"c2 node n9 root\" transform=\"translate(106.64 26.8)\"><g class=\"a9 leaf node n4 sample\" transform=\"translate(22.8 94.6)\"><path class=\"edge\" d=\"M 0 0 V -94.6 H -22.8\" /><rect class=\"sym\" height=\"6\" width=\"6\" x=\"-3\" y=\"-3\" /><text class=\"lab\" transform=\"translate(0 11)\">4</text></g><g class=\"a9 c2 node n8\" transform=\"translate(-22.8 13.5143)\"><g class=\"a8 leaf node n3 sample\" transform=\"translate(21.28 81.0857)\"><path class=\"edge\" d=\"M 0 0 V -81.0857 H -21.28\" /><rect class=\"sym\" height=\"6\" width=\"6\" x=\"-3\" y=\"-3\" /><text class=\"lab\" transform=\"translate(0 11)\">3</text></g><g class=\"a8 c2 node n7\" transform=\"translate(-21.28 27.0286)\"><g class=\"a7 leaf node n2 sample\" transform=\"translate(18.24 54.0571)\"><path class=\"edge\" d=\"M 0 0 V -54.0571 H -18.24\" /><rect class=\"sym\" height=\"6\" width=\"6\" x=\"-3\" y=\"-3\" /><text class=\"lab\" transform=\"translate(0 11)\">2</text></g><g class=\"a7 c2 node n5\" transform=\"translate(-18.24 27.0286)\"><g class=\"a5 leaf node n0 sample\" transform=\"translate(-12.16 27.0286)\"><path class=\"edge\" d=\"M 0 0 V -27.0286 H 12.16\" /><rect class=\"sym\" height=\"6\" width=\"6\" x=\"-3\" y=\"-3\" /><text class=\"lab\" transform=\"translate(0 11)\">0</text></g><g class=\"a5 leaf node n1 sample\" transform=\"translate(12.16 27.0286)\"><path class=\"edge\" d=\"M 0 0 V -27.0286 H -12.16\" /><rect class=\"sym\" height=\"6\" width=\"6\" x=\"-3\" y=\"-3\" /><text class=\"lab\" transform=\"translate(0 11)\">1</text></g><path class=\"edge\" d=\"M 0 0 V -27.0286 H 18.24\" /><circle class=\"sym\" cx=\"0\" cy=\"0\" r=\"3\" /><text class=\"lab lft\" transform=\"translate(-3 -7.0)\">5</text></g><path class=\"edge\" d=\"M 0 0 V -27.0286 H 21.28\" /><circle class=\"sym\" cx=\"0\" cy=\"0\" r=\"3\" /><text class=\"lab lft\" transform=\"translate(-3 -7.0)\">7</text></g><path class=\"edge\" d=\"M 0 0 V -13.5143 H 22.8\" /><circle class=\"sym\" cx=\"0\" cy=\"0\" r=\"3\" /><text class=\"lab lft\" transform=\"translate(-3 -7.0)\">8</text></g><circle class=\"sym\" cx=\"0\" cy=\"0\" r=\"3\" /><text class=\"lab\" transform=\"translate(0 -11)\">9</text></g></g></g></g></g></svg>"
      ],
      "text/plain": [
       "'<svg baseProfile=\"full\" height=\"200\" version=\"1.1\" width=\"400\" xmlns=\"http://www.w3.org/2000/svg\" xmlns:ev=\"http://www.w3.org/2001/xml-events\" xmlns:xlink=\"http://www.w3.org/1999/xlink\"><defs><style type=\"text/css\"><![CDATA[.background path {fill: #808080; fill-opacity: 0}.background path:nth-child(odd) {fill-opacity: .1}.axes {font-size: 14px}.x-axis .tick .lab {font-weight: bold; dominant-baseline: hanging}.axes, .tree {font-size: 14px; text-anchor: middle}.axes line, .edge {stroke: black; fill: none}.axes .ax-skip {stroke-dasharray: 4}.y-axis .grid {stroke: #FAFAFA}.node > .sym {fill: black; stroke: none}.site > .sym {stroke: black}.mut text {fill: red; font-style: italic}.mut.extra text {fill: hotpink}.mut line {fill: none; stroke: none}.mut .sym {fill: none; stroke: red}.mut.extra .sym {stroke: hotpink}.node .mut .sym {stroke-width: 1.5px}.tree text, .tree-sequence text {dominant-baseline: central}.plotbox .lab.lft {text-anchor: end}.plotbox .lab.rgt {text-anchor: start}]]></style></defs><g class=\"tree-sequence\"><g class=\"background\"><path d=\"M56.8,0 l161.6,0 l0,138.2 l2.84217e-14,25 l0,5 l-161.6,0 l0,-5 l0,-25 l0,-138.2z\" /><path d=\"M218.4,0 l161.6,0 l0,138.2 l0,25 l0,5 l-161.6,0 l0,-5 l0,-25 l0,-138.2z\" /></g><g class=\"axes\"><g class=\"x-axis\"><g class=\"title\" transform=\"translate(218.4 200)\"><text class=\"lab\" text-anchor=\"middle\" transform=\"translate(0 -11)\">Genome position</text></g><line class=\"ax-line\" x1=\"56.8\" x2=\"380\" y1=\"163.2\" y2=\"163.2\" /><g class=\"ticks\"><g class=\"tick\" transform=\"translate(56.8 163.2)\"><line x1=\"0\" x2=\"0\" y1=\"0\" y2=\"5\" /><g transform=\"translate(0 6)\"><text class=\"lab\">0</text></g></g><g class=\"tick\" transform=\"translate(218.4 163.2)\"><line x1=\"0\" x2=\"0\" y1=\"0\" y2=\"5\" /><g transform=\"translate(0 6)\"><text class=\"lab\">10</text></g></g><g class=\"tick\" transform=\"translate(380 163.2)\"><line x1=\"0\" x2=\"0\" y1=\"0\" y2=\"5\" /><g transform=\"translate(0 6)\"><text class=\"lab\">20</text></g></g></g></g><g class=\"y-axis\"><g class=\"title\" transform=\"translate(0 65.7)\"><text class=\"lab\" text-anchor=\"middle\" transform=\"translate(11) rotate(-90)\">Time</text></g><line class=\"ax-line\" x1=\"56.8\" x2=\"56.8\" y1=\"121.4\" y2=\"10\" /><g class=\"ticks\"><g class=\"tick\" transform=\"translate(56.8 121.4)\"><line x1=\"0\" x2=\"-5\" y1=\"0\" y2=\"0\" /><g transform=\"translate(-6 0)\"><text class=\"lab\" text-anchor=\"end\">0</text></g></g><g class=\"tick\" transform=\"translate(56.8 94.3714)\"><line x1=\"0\" x2=\"-5\" y1=\"0\" y2=\"0\" /><g transform=\"translate(-6 0)\"><text class=\"lab\" text-anchor=\"end\">2</text></g></g><g class=\"tick\" transform=\"translate(56.8 80.8571)\"><line x1=\"0\" x2=\"-5\" y1=\"0\" y2=\"0\" /><g transform=\"translate(-6 0)\"><text class=\"lab\" text-anchor=\"end\">3</text></g></g><g class=\"tick\" transform=\"translate(56.8 67.3429)\"><line x1=\"0\" x2=\"-5\" y1=\"0\" y2=\"0\" /><g transform=\"translate(-6 0)\"><text class=\"lab\" text-anchor=\"end\">4</text></g></g><g class=\"tick\" transform=\"translate(56.8 40.3143)\"><line x1=\"0\" x2=\"-5\" y1=\"0\" y2=\"0\" /><g transform=\"translate(-6 0)\"><text class=\"lab\" text-anchor=\"end\">6</text></g></g><g class=\"tick\" transform=\"translate(56.8 26.8)\"><line x1=\"0\" x2=\"-5\" y1=\"0\" y2=\"0\" /><g transform=\"translate(-6 0)\"><text class=\"lab\" text-anchor=\"end\">7</text></g></g></g></g></g><g class=\"plotbox trees\"><g class=\"tree t0\" transform=\"translate(56.8 0)\"><g class=\"plotbox\"><g class=\"c2 node n9 root\" transform=\"translate(89.92 26.8)\"><g class=\"a9 c2 node n6\" transform=\"translate(27.36 54.0571)\"><g class=\"a6 leaf node n3 sample\" transform=\"translate(-12.16 40.5429)\"><path class=\"edge\" d=\"M 0 0 V -40.5429 H 12.16\" /><rect class=\"sym\" height=\"6\" width=\"6\" x=\"-3\" y=\"-3\" /><text class=\"lab\" transform=\"translate(0 11)\">3</text></g><g class=\"a6 leaf node n4 sample\" transform=\"translate(12.16 40.5429)\"><path class=\"edge\" d=\"M 0 0 V -40.5429 H -12.16\" /><rect class=\"sym\" height=\"6\" width=\"6\" x=\"-3\" y=\"-3\" /><text class=\"lab\" transform=\"translate(0 11)\">4</text></g><path class=\"edge\" d=\"M 0 0 V -54.0571 H -27.36\" /><circle class=\"sym\" cx=\"0\" cy=\"0\" r=\"3\" /><text class=\"lab rgt\" transform=\"translate(3 -7.0)\">6</text></g><g class=\"a9 c2 node n7\" transform=\"translate(-27.36 40.5429)\"><g class=\"a7 leaf node n2 sample\" transform=\"translate(18.24 54.0571)\"><path class=\"edge\" d=\"M 0 0 V -54.0571 H -18.24\" /><rect class=\"sym\" height=\"6\" width=\"6\" x=\"-3\" y=\"-3\" /><text class=\"lab\" transform=\"translate(0 11)\">2</text></g><g class=\"a7 c2 node n5\" transform=\"translate(-18.24 27.0286)\"><g class=\"a5 leaf node n0 sample\" transform=\"translate(-12.16 27.0286)\"><path class=\"edge\" d=\"M 0 0 V -27.0286 H 12.16\" /><rect class=\"sym\" height=\"6\" width=\"6\" x=\"-3\" y=\"-3\" /><text class=\"lab\" transform=\"translate(0 11)\">0</text></g><g class=\"a5 leaf node n1 sample\" transform=\"translate(12.16 27.0286)\"><path class=\"edge\" d=\"M 0 0 V -27.0286 H -12.16\" /><rect class=\"sym\" height=\"6\" width=\"6\" x=\"-3\" y=\"-3\" /><text class=\"lab\" transform=\"translate(0 11)\">1</text></g><path class=\"edge\" d=\"M 0 0 V -27.0286 H 18.24\" /><circle class=\"sym\" cx=\"0\" cy=\"0\" r=\"3\" /><text class=\"lab lft\" transform=\"translate(-3 -7.0)\">5</text></g><path class=\"edge\" d=\"M 0 0 V -40.5429 H 27.36\" /><circle class=\"sym\" cx=\"0\" cy=\"0\" r=\"3\" /><text class=\"lab lft\" transform=\"translate(-3 -7.0)\">7</text></g><circle class=\"sym\" cx=\"0\" cy=\"0\" r=\"3\" /><text class=\"lab\" transform=\"translate(0 -11)\">9</text></g></g></g><g class=\"tree t1\" transform=\"translate(218.4 0)\"><g class=\"plotbox\"><g class=\"c2 node n9 root\" transform=\"translate(106.64 26.8)\"><g class=\"a9 leaf node n4 sample\" transform=\"translate(22.8 94.6)\"><path class=\"edge\" d=\"M 0 0 V -94.6 H -22.8\" /><rect class=\"sym\" height=\"6\" width=\"6\" x=\"-3\" y=\"-3\" /><text class=\"lab\" transform=\"translate(0 11)\">4</text></g><g class=\"a9 c2 node n8\" transform=\"translate(-22.8 13.5143)\"><g class=\"a8 leaf node n3 sample\" transform=\"translate(21.28 81.0857)\"><path class=\"edge\" d=\"M 0 0 V -81.0857 H -21.28\" /><rect class=\"sym\" height=\"6\" width=\"6\" x=\"-3\" y=\"-3\" /><text class=\"lab\" transform=\"translate(0 11)\">3</text></g><g class=\"a8 c2 node n7\" transform=\"translate(-21.28 27.0286)\"><g class=\"a7 leaf node n2 sample\" transform=\"translate(18.24 54.0571)\"><path class=\"edge\" d=\"M 0 0 V -54.0571 H -18.24\" /><rect class=\"sym\" height=\"6\" width=\"6\" x=\"-3\" y=\"-3\" /><text class=\"lab\" transform=\"translate(0 11)\">2</text></g><g class=\"a7 c2 node n5\" transform=\"translate(-18.24 27.0286)\"><g class=\"a5 leaf node n0 sample\" transform=\"translate(-12.16 27.0286)\"><path class=\"edge\" d=\"M 0 0 V -27.0286 H 12.16\" /><rect class=\"sym\" height=\"6\" width=\"6\" x=\"-3\" y=\"-3\" /><text class=\"lab\" transform=\"translate(0 11)\">0</text></g><g class=\"a5 leaf node n1 sample\" transform=\"translate(12.16 27.0286)\"><path class=\"edge\" d=\"M 0 0 V -27.0286 H -12.16\" /><rect class=\"sym\" height=\"6\" width=\"6\" x=\"-3\" y=\"-3\" /><text class=\"lab\" transform=\"translate(0 11)\">1</text></g><path class=\"edge\" d=\"M 0 0 V -27.0286 H 18.24\" /><circle class=\"sym\" cx=\"0\" cy=\"0\" r=\"3\" /><text class=\"lab lft\" transform=\"translate(-3 -7.0)\">5</text></g><path class=\"edge\" d=\"M 0 0 V -27.0286 H 21.28\" /><circle class=\"sym\" cx=\"0\" cy=\"0\" r=\"3\" /><text class=\"lab lft\" transform=\"translate(-3 -7.0)\">7</text></g><path class=\"edge\" d=\"M 0 0 V -13.5143 H 22.8\" /><circle class=\"sym\" cx=\"0\" cy=\"0\" r=\"3\" /><text class=\"lab lft\" transform=\"translate(-3 -7.0)\">8</text></g><circle class=\"sym\" cx=\"0\" cy=\"0\" r=\"3\" /><text class=\"lab\" transform=\"translate(0 -11)\">9</text></g></g></g></g></g></svg>'"
      ]
     },
     "execution_count": 96,
     "metadata": {},
     "output_type": "execute_result"
    }
   ],
   "source": [
    "import io\n",
    "import tskit\n",
    "\n",
    "nodes = \"\"\"\\\n",
    "is_sample time\n",
    "1         0\n",
    "1         0\n",
    "1         0\n",
    "1         0\n",
    "1         0\n",
    "0         2\n",
    "0         3\n",
    "0         4\n",
    "0         6\n",
    "0         7\n",
    "\"\"\"\n",
    "\n",
    "edges = \"\"\"\\\n",
    "left   right   parent  child\n",
    "0      20      5       0,1\n",
    "0      10      6       3,4\n",
    "0      20      7       5,2\n",
    "0      10      9       7,6\n",
    "10     20      8       7,3\n",
    "10     20      9       8,4\n",
    "\"\"\"\n",
    "\n",
    "# sites = \"\"\"\\\n",
    "# position ancestral_state\n",
    "# \"\"\"\n",
    "\n",
    "# mutations = \"\"\"\\\n",
    "# site node parent derived_state\n",
    "# \"\"\"\n",
    "\n",
    "ts = tskit.load_text(\n",
    "    nodes=io.StringIO(nodes),\n",
    "    edges=io.StringIO(edges),\n",
    "    # sites=io.StringIO(sites),\n",
    "    # mutations=io.StringIO(mutations),\n",
    "    strict=False,\n",
    ")\n",
    "\n",
    "ts.draw_svg(y_axis=True)"
   ]
  }
 ],
 "metadata": {
  "kernelspec": {
   "display_name": "tskit-dev-2",
   "language": "python",
   "name": "tskit-dev-2"
  },
  "language_info": {
   "codemirror_mode": {
    "name": "ipython",
    "version": 3
   },
   "file_extension": ".py",
   "mimetype": "text/x-python",
   "name": "python",
   "nbconvert_exporter": "python",
   "pygments_lexer": "ipython3",
   "version": "3.11.4"
  }
 },
 "nbformat": 4,
 "nbformat_minor": 5
}
