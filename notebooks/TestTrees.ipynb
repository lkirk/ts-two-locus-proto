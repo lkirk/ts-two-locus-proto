{
 "cells": [
  {
   "cell_type": "code",
   "execution_count": 62,
   "id": "a382440a-79de-4fbc-926b-52dada5584df",
   "metadata": {},
   "outputs": [
    {
     "data": {
      "image/svg+xml": [
       "<svg baseProfile=\"full\" height=\"300\" version=\"1.1\" width=\"800\" xmlns=\"http://www.w3.org/2000/svg\" xmlns:ev=\"http://www.w3.org/2001/xml-events\" xmlns:xlink=\"http://www.w3.org/1999/xlink\"><defs><style type=\"text/css\"><![CDATA[.background path {fill: #808080; fill-opacity: 0}.background path:nth-child(odd) {fill-opacity: .1}.axes {font-size: 14px}.x-axis .tick .lab {font-weight: bold; dominant-baseline: hanging}.axes, .tree {font-size: 14px; text-anchor: middle}.axes line, .edge {stroke: black; fill: none}.y-axis .grid {stroke: #FAFAFA}.node > .sym {fill: black; stroke: none}.site > .sym {stroke: black}.mut text {fill: red; font-style: italic}.mut.extra text {fill: hotpink}.mut line {fill: none; stroke: none}.mut .sym {fill: none; stroke: red}.mut.extra .sym {stroke: hotpink}.node .mut .sym {stroke-width: 1.5px}.tree text, .tree-sequence text {dominant-baseline: central}.plotbox .lab.lft {text-anchor: end}.plotbox .lab.rgt {text-anchor: start}]]></style></defs><g class=\"tree-sequence\"><g class=\"background\"><path d=\"M56.8,0 l361.6,0 l0,238.2 l0,25 l0,5 l-361.6,0 l0,-5 l0,-25 l0,-238.2z\" /><path d=\"M418.4,0 l361.6,0 l0,238.2 l0,25 l0,5 l-361.6,0 l0,-5 l0,-25 l0,-238.2z\" /></g><g class=\"axes\"><g class=\"x-axis\"><g transform=\"translate(418.4 300)\"><text class=\"lab\" text-anchor=\"middle\" transform=\"translate(0 -11)\">Genome position</text></g><line x1=\"56.8\" x2=\"780\" y1=\"263.2\" y2=\"263.2\" /><g class=\"ticks\"><g class=\"tick\" transform=\"translate(56.8 263.2)\"><line x1=\"0\" x2=\"0\" y1=\"0\" y2=\"5\" /><g transform=\"translate(0 6)\"><text class=\"lab\">0</text></g></g><g class=\"tick\" transform=\"translate(418.4 263.2)\"><line x1=\"0\" x2=\"0\" y1=\"0\" y2=\"5\" /><g transform=\"translate(0 6)\"><text class=\"lab\">100</text></g></g><g class=\"tick\" transform=\"translate(780 263.2)\"><line x1=\"0\" x2=\"0\" y1=\"0\" y2=\"5\" /><g transform=\"translate(0 6)\"><text class=\"lab\">200</text></g></g></g><g class=\"site s0\" transform=\"translate(92.96 263.2)\"><line class=\"sym\" x1=\"0\" x2=\"0\" y1=\"0\" y2=\"-10\" /><g class=\"mut m0\"><polyline class=\"sym\" points=\"2.5,-6.5 0,-1.5 -2.5,-6.5\" /></g></g><g class=\"site s1\" transform=\"translate(165.28 263.2)\"><line class=\"sym\" x1=\"0\" x2=\"0\" y1=\"0\" y2=\"-10\" /><g class=\"mut m1\"><polyline class=\"sym\" points=\"2.5,-6.5 0,-1.5 -2.5,-6.5\" /></g></g><g class=\"site s2\" transform=\"translate(309.92 263.2)\"><line class=\"sym\" x1=\"0\" x2=\"0\" y1=\"0\" y2=\"-10\" /><g class=\"mut m2\"><polyline class=\"sym\" points=\"2.5,-6.5 0,-1.5 -2.5,-6.5\" /></g></g><g class=\"site s3\" transform=\"translate(599.2 263.2)\"><line class=\"sym\" x1=\"0\" x2=\"0\" y1=\"0\" y2=\"-10\" /><g class=\"mut m3\"><polyline class=\"sym\" points=\"2.5,-6.5 0,-1.5 -2.5,-6.5\" /></g></g><g class=\"site s4\" transform=\"translate(671.52 263.2)\"><line class=\"sym\" x1=\"0\" x2=\"0\" y1=\"0\" y2=\"-10\" /><g class=\"mut m4\"><polyline class=\"sym\" points=\"2.5,-6.5 0,-1.5 -2.5,-6.5\" /></g></g></g><g class=\"y-axis\"><g transform=\"translate(0 115.7)\"><text class=\"lab\" text-anchor=\"middle\" transform=\"translate(11) rotate(-90)\">Time</text></g><line x1=\"56.8\" x2=\"56.8\" y1=\"221.4\" y2=\"10\" /><g class=\"ticks\"><g class=\"tick\" transform=\"translate(56.8 221.4)\"><line x1=\"0\" x2=\"-5\" y1=\"0\" y2=\"0\" /><g transform=\"translate(-6 0)\"><text class=\"lab\" text-anchor=\"end\">0</text></g></g><g class=\"tick\" transform=\"translate(56.8 197.075)\"><line x1=\"0\" x2=\"-5\" y1=\"0\" y2=\"0\" /><g transform=\"translate(-6 0)\"><text class=\"lab\" text-anchor=\"end\">1</text></g></g><g class=\"tick\" transform=\"translate(56.8 172.75)\"><line x1=\"0\" x2=\"-5\" y1=\"0\" y2=\"0\" /><g transform=\"translate(-6 0)\"><text class=\"lab\" text-anchor=\"end\">2</text></g></g><g class=\"tick\" transform=\"translate(56.8 148.425)\"><line x1=\"0\" x2=\"-5\" y1=\"0\" y2=\"0\" /><g transform=\"translate(-6 0)\"><text class=\"lab\" text-anchor=\"end\">3</text></g></g><g class=\"tick\" transform=\"translate(56.8 124.1)\"><line x1=\"0\" x2=\"-5\" y1=\"0\" y2=\"0\" /><g transform=\"translate(-6 0)\"><text class=\"lab\" text-anchor=\"end\">4</text></g></g><g class=\"tick\" transform=\"translate(56.8 99.775)\"><line x1=\"0\" x2=\"-5\" y1=\"0\" y2=\"0\" /><g transform=\"translate(-6 0)\"><text class=\"lab\" text-anchor=\"end\">5</text></g></g><g class=\"tick\" transform=\"translate(56.8 75.45)\"><line x1=\"0\" x2=\"-5\" y1=\"0\" y2=\"0\" /><g transform=\"translate(-6 0)\"><text class=\"lab\" text-anchor=\"end\">6</text></g></g><g class=\"tick\" transform=\"translate(56.8 51.125)\"><line x1=\"0\" x2=\"-5\" y1=\"0\" y2=\"0\" /><g transform=\"translate(-6 0)\"><text class=\"lab\" text-anchor=\"end\">7</text></g></g><g class=\"tick\" transform=\"translate(56.8 26.8)\"><line x1=\"0\" x2=\"-5\" y1=\"0\" y2=\"0\" /><g transform=\"translate(-6 0)\"><text class=\"lab\" text-anchor=\"end\">8</text></g></g></g></g></g><g class=\"plotbox trees\"><g class=\"tree t0\" transform=\"translate(56.8 0)\"><g class=\"plotbox\"><g class=\"c2 node n11 root\" transform=\"translate(172.76 51.125)\"><g class=\"a11 c2 m1 node n8 s1\" transform=\"translate(88.44 72.975)\"><g class=\"a8 leaf node n4 sample\" transform=\"translate(48.24 97.3)\"><path class=\"edge\" d=\"M 0 0 V -97.3 H -48.24\" /><rect class=\"sym\" height=\"6\" width=\"6\" x=\"-3\" y=\"-3\" /><text class=\"lab\" transform=\"translate(0 11)\">4</text></g><g class=\"a8 c2 node n5\" transform=\"translate(-48.24 72.975)\"><g class=\"a5 leaf node n2 sample\" transform=\"translate(-32.16 24.325)\"><path class=\"edge\" d=\"M 0 0 V -24.325 H 32.16\" /><rect class=\"sym\" height=\"6\" width=\"6\" x=\"-3\" y=\"-3\" /><text class=\"lab\" transform=\"translate(0 11)\">2</text></g><g class=\"a5 leaf m2 node n3 s2 sample\" transform=\"translate(32.16 24.325)\"><path class=\"edge\" d=\"M 0 0 V -24.325 H -32.16\" /><g class=\"mut m2 s2 unknown_time\" transform=\"translate(0 -12.1625)\"><line x1=\"0\" x2=\"0\" y1=\"0\" y2=\"12.1625\" /><path class=\"sym\" d=\"M -3,-3 l 6,6 M -3,3 l 6,-6\" /><text class=\"lab rgt\" transform=\"translate(5 0)\">2:G→T</text></g><rect class=\"sym\" height=\"6\" width=\"6\" x=\"-3\" y=\"-3\" /><text class=\"lab\" transform=\"translate(0 11)\">3</text></g><path class=\"edge\" d=\"M 0 0 V -72.975 H 48.24\" /><circle class=\"sym\" cx=\"0\" cy=\"0\" r=\"3\" /><text class=\"lab lft\" transform=\"translate(-3 -7.0)\">5</text></g><path class=\"edge\" d=\"M 0 0 V -72.975 H -88.44\" /><g class=\"mut m1 s1 unknown_time\" transform=\"translate(0 -36.4875)\"><line x1=\"0\" x2=\"0\" y1=\"0\" y2=\"36.4875\" /><path class=\"sym\" d=\"M -3,-3 l 6,6 M -3,3 l 6,-6\" /><text class=\"lab rgt\" transform=\"translate(5 0)\">1:C→T</text></g><circle class=\"sym\" cx=\"0\" cy=\"0\" r=\"3\" /><text class=\"lab rgt\" transform=\"translate(3 -7.0)\">8</text></g><g class=\"a11 c2 node n10\" transform=\"translate(-88.44 24.325)\"><g class=\"a10 leaf m0 node n0 s0 sample\" transform=\"translate(-32.16 145.95)\"><path class=\"edge\" d=\"M 0 0 V -145.95 H 32.16\" /><g class=\"mut m0 s0 unknown_time\" transform=\"translate(0 -72.975)\"><line x1=\"0\" x2=\"0\" y1=\"0\" y2=\"72.975\" /><path class=\"sym\" d=\"M -3,-3 l 6,6 M -3,3 l 6,-6\" /><text class=\"lab lft\" transform=\"translate(-5 0)\">0:A→T</text></g><rect class=\"sym\" height=\"6\" width=\"6\" x=\"-3\" y=\"-3\" /><text class=\"lab\" transform=\"translate(0 11)\">0</text></g><g class=\"a10 leaf node n1 sample\" transform=\"translate(32.16 145.95)\"><path class=\"edge\" d=\"M 0 0 V -145.95 H -32.16\" /><rect class=\"sym\" height=\"6\" width=\"6\" x=\"-3\" y=\"-3\" /><text class=\"lab\" transform=\"translate(0 11)\">1</text></g><path class=\"edge\" d=\"M 0 0 V -24.325 H 88.44\" /><circle class=\"sym\" cx=\"0\" cy=\"0\" r=\"3\" /><text class=\"lab lft\" transform=\"translate(-3 -7.0)\">10</text></g><circle class=\"sym\" cx=\"0\" cy=\"0\" r=\"3\" /><text class=\"lab\" transform=\"translate(0 -11)\">11</text></g></g></g><g class=\"tree t1\" transform=\"translate(418.4 0)\"><g class=\"plotbox\"><g class=\"c2 node n12 root\" transform=\"translate(112.46 26.8)\"><g class=\"a12 leaf node n0 sample\" transform=\"translate(-60.3 194.6)\"><path class=\"edge\" d=\"M 0 0 V -194.6 H 60.3\" /><rect class=\"sym\" height=\"6\" width=\"6\" x=\"-3\" y=\"-3\" /><text class=\"lab\" transform=\"translate(0 11)\">0</text></g><g class=\"a12 c2 node n9\" transform=\"translate(60.3 72.975)\"><g class=\"a9 leaf m3 node n1 s3 sample\" transform=\"translate(-56.28 121.625)\"><path class=\"edge\" d=\"M 0 0 V -121.625 H 56.28\" /><g class=\"mut m3 s3 unknown_time\" transform=\"translate(0 -60.8125)\"><line x1=\"0\" x2=\"0\" y1=\"0\" y2=\"60.8125\" /><path class=\"sym\" d=\"M -3,-3 l 6,6 M -3,3 l 6,-6\" /><text class=\"lab lft\" transform=\"translate(-5 0)\">3:G→T</text></g><rect class=\"sym\" height=\"6\" width=\"6\" x=\"-3\" y=\"-3\" /><text class=\"lab\" transform=\"translate(0 11)\">1</text></g><g class=\"a9 c2 node n7\" transform=\"translate(56.28 48.65)\"><g class=\"a7 leaf node n2 sample\" transform=\"translate(-48.24 72.975)\"><path class=\"edge\" d=\"M 0 0 V -72.975 H 48.24\" /><rect class=\"sym\" height=\"6\" width=\"6\" x=\"-3\" y=\"-3\" /><text class=\"lab\" transform=\"translate(0 11)\">2</text></g><g class=\"a7 c2 node n6\" transform=\"translate(48.24 24.325)\"><g class=\"a6 leaf node n3 sample\" transform=\"translate(-32.16 48.65)\"><path class=\"edge\" d=\"M 0 0 V -48.65 H 32.16\" /><rect class=\"sym\" height=\"6\" width=\"6\" x=\"-3\" y=\"-3\" /><text class=\"lab\" transform=\"translate(0 11)\">3</text></g><g class=\"a6 leaf m4 node n4 s4 sample\" transform=\"translate(32.16 48.65)\"><path class=\"edge\" d=\"M 0 0 V -48.65 H -32.16\" /><g class=\"mut m4 s4 unknown_time\" transform=\"translate(0 -24.325)\"><line x1=\"0\" x2=\"0\" y1=\"0\" y2=\"24.325\" /><path class=\"sym\" d=\"M -3,-3 l 6,6 M -3,3 l 6,-6\" /><text class=\"lab rgt\" transform=\"translate(5 0)\">4:C→T</text></g><rect class=\"sym\" height=\"6\" width=\"6\" x=\"-3\" y=\"-3\" /><text class=\"lab\" transform=\"translate(0 11)\">4</text></g><path class=\"edge\" d=\"M 0 0 V -24.325 H -48.24\" /><circle class=\"sym\" cx=\"0\" cy=\"0\" r=\"3\" /><text class=\"lab rgt\" transform=\"translate(3 -7.0)\">6</text></g><path class=\"edge\" d=\"M 0 0 V -48.65 H -56.28\" /><circle class=\"sym\" cx=\"0\" cy=\"0\" r=\"3\" /><text class=\"lab rgt\" transform=\"translate(3 -7.0)\">7</text></g><path class=\"edge\" d=\"M 0 0 V -72.975 H -60.3\" /><circle class=\"sym\" cx=\"0\" cy=\"0\" r=\"3\" /><text class=\"lab rgt\" transform=\"translate(3 -7.0)\">9</text></g><circle class=\"sym\" cx=\"0\" cy=\"0\" r=\"3\" /><text class=\"lab\" transform=\"translate(0 -11)\">12</text></g></g></g></g></g></svg>"
      ],
      "text/plain": [
       "'<svg baseProfile=\"full\" height=\"300\" version=\"1.1\" width=\"800\" xmlns=\"http://www.w3.org/2000/svg\" xmlns:ev=\"http://www.w3.org/2001/xml-events\" xmlns:xlink=\"http://www.w3.org/1999/xlink\"><defs><style type=\"text/css\"><![CDATA[.background path {fill: #808080; fill-opacity: 0}.background path:nth-child(odd) {fill-opacity: .1}.axes {font-size: 14px}.x-axis .tick .lab {font-weight: bold; dominant-baseline: hanging}.axes, .tree {font-size: 14px; text-anchor: middle}.axes line, .edge {stroke: black; fill: none}.y-axis .grid {stroke: #FAFAFA}.node > .sym {fill: black; stroke: none}.site > .sym {stroke: black}.mut text {fill: red; font-style: italic}.mut.extra text {fill: hotpink}.mut line {fill: none; stroke: none}.mut .sym {fill: none; stroke: red}.mut.extra .sym {stroke: hotpink}.node .mut .sym {stroke-width: 1.5px}.tree text, .tree-sequence text {dominant-baseline: central}.plotbox .lab.lft {text-anchor: end}.plotbox .lab.rgt {text-anchor: start}]]></style></defs><g class=\"tree-sequence\"><g class=\"background\"><path d=\"M56.8,0 l361.6,0 l0,238.2 l0,25 l0,5 l-361.6,0 l0,-5 l0,-25 l0,-238.2z\" /><path d=\"M418.4,0 l361.6,0 l0,238.2 l0,25 l0,5 l-361.6,0 l0,-5 l0,-25 l0,-238.2z\" /></g><g class=\"axes\"><g class=\"x-axis\"><g transform=\"translate(418.4 300)\"><text class=\"lab\" text-anchor=\"middle\" transform=\"translate(0 -11)\">Genome position</text></g><line x1=\"56.8\" x2=\"780\" y1=\"263.2\" y2=\"263.2\" /><g class=\"ticks\"><g class=\"tick\" transform=\"translate(56.8 263.2)\"><line x1=\"0\" x2=\"0\" y1=\"0\" y2=\"5\" /><g transform=\"translate(0 6)\"><text class=\"lab\">0</text></g></g><g class=\"tick\" transform=\"translate(418.4 263.2)\"><line x1=\"0\" x2=\"0\" y1=\"0\" y2=\"5\" /><g transform=\"translate(0 6)\"><text class=\"lab\">100</text></g></g><g class=\"tick\" transform=\"translate(780 263.2)\"><line x1=\"0\" x2=\"0\" y1=\"0\" y2=\"5\" /><g transform=\"translate(0 6)\"><text class=\"lab\">200</text></g></g></g><g class=\"site s0\" transform=\"translate(92.96 263.2)\"><line class=\"sym\" x1=\"0\" x2=\"0\" y1=\"0\" y2=\"-10\" /><g class=\"mut m0\"><polyline class=\"sym\" points=\"2.5,-6.5 0,-1.5 -2.5,-6.5\" /></g></g><g class=\"site s1\" transform=\"translate(165.28 263.2)\"><line class=\"sym\" x1=\"0\" x2=\"0\" y1=\"0\" y2=\"-10\" /><g class=\"mut m1\"><polyline class=\"sym\" points=\"2.5,-6.5 0,-1.5 -2.5,-6.5\" /></g></g><g class=\"site s2\" transform=\"translate(309.92 263.2)\"><line class=\"sym\" x1=\"0\" x2=\"0\" y1=\"0\" y2=\"-10\" /><g class=\"mut m2\"><polyline class=\"sym\" points=\"2.5,-6.5 0,-1.5 -2.5,-6.5\" /></g></g><g class=\"site s3\" transform=\"translate(599.2 263.2)\"><line class=\"sym\" x1=\"0\" x2=\"0\" y1=\"0\" y2=\"-10\" /><g class=\"mut m3\"><polyline class=\"sym\" points=\"2.5,-6.5 0,-1.5 -2.5,-6.5\" /></g></g><g class=\"site s4\" transform=\"translate(671.52 263.2)\"><line class=\"sym\" x1=\"0\" x2=\"0\" y1=\"0\" y2=\"-10\" /><g class=\"mut m4\"><polyline class=\"sym\" points=\"2.5,-6.5 0,-1.5 -2.5,-6.5\" /></g></g></g><g class=\"y-axis\"><g transform=\"translate(0 115.7)\"><text class=\"lab\" text-anchor=\"middle\" transform=\"translate(11) rotate(-90)\">Time</text></g><line x1=\"56.8\" x2=\"56.8\" y1=\"221.4\" y2=\"10\" /><g class=\"ticks\"><g class=\"tick\" transform=\"translate(56.8 221.4)\"><line x1=\"0\" x2=\"-5\" y1=\"0\" y2=\"0\" /><g transform=\"translate(-6 0)\"><text class=\"lab\" text-anchor=\"end\">0</text></g></g><g class=\"tick\" transform=\"translate(56.8 197.075)\"><line x1=\"0\" x2=\"-5\" y1=\"0\" y2=\"0\" /><g transform=\"translate(-6 0)\"><text class=\"lab\" text-anchor=\"end\">1</text></g></g><g class=\"tick\" transform=\"translate(56.8 172.75)\"><line x1=\"0\" x2=\"-5\" y1=\"0\" y2=\"0\" /><g transform=\"translate(-6 0)\"><text class=\"lab\" text-anchor=\"end\">2</text></g></g><g class=\"tick\" transform=\"translate(56.8 148.425)\"><line x1=\"0\" x2=\"-5\" y1=\"0\" y2=\"0\" /><g transform=\"translate(-6 0)\"><text class=\"lab\" text-anchor=\"end\">3</text></g></g><g class=\"tick\" transform=\"translate(56.8 124.1)\"><line x1=\"0\" x2=\"-5\" y1=\"0\" y2=\"0\" /><g transform=\"translate(-6 0)\"><text class=\"lab\" text-anchor=\"end\">4</text></g></g><g class=\"tick\" transform=\"translate(56.8 99.775)\"><line x1=\"0\" x2=\"-5\" y1=\"0\" y2=\"0\" /><g transform=\"translate(-6 0)\"><text class=\"lab\" text-anchor=\"end\">5</text></g></g><g class=\"tick\" transform=\"translate(56.8 75.45)\"><line x1=\"0\" x2=\"-5\" y1=\"0\" y2=\"0\" /><g transform=\"translate(-6 0)\"><text class=\"lab\" text-anchor=\"end\">6</text></g></g><g class=\"tick\" transform=\"translate(56.8 51.125)\"><line x1=\"0\" x2=\"-5\" y1=\"0\" y2=\"0\" /><g transform=\"translate(-6 0)\"><text class=\"lab\" text-anchor=\"end\">7</text></g></g><g class=\"tick\" transform=\"translate(56.8 26.8)\"><line x1=\"0\" x2=\"-5\" y1=\"0\" y2=\"0\" /><g transform=\"translate(-6 0)\"><text class=\"lab\" text-anchor=\"end\">8</text></g></g></g></g></g><g class=\"plotbox trees\"><g class=\"tree t0\" transform=\"translate(56.8 0)\"><g class=\"plotbox\"><g class=\"c2 node n11 root\" transform=\"translate(172.76 51.125)\"><g class=\"a11 c2 m1 node n8 s1\" transform=\"translate(88.44 72.975)\"><g class=\"a8 leaf node n4 sample\" transform=\"translate(48.24 97.3)\"><path class=\"edge\" d=\"M 0 0 V -97.3 H -48.24\" /><rect class=\"sym\" height=\"6\" width=\"6\" x=\"-3\" y=\"-3\" /><text class=\"lab\" transform=\"translate(0 11)\">4</text></g><g class=\"a8 c2 node n5\" transform=\"translate(-48.24 72.975)\"><g class=\"a5 leaf node n2 sample\" transform=\"translate(-32.16 24.325)\"><path class=\"edge\" d=\"M 0 0 V -24.325 H 32.16\" /><rect class=\"sym\" height=\"6\" width=\"6\" x=\"-3\" y=\"-3\" /><text class=\"lab\" transform=\"translate(0 11)\">2</text></g><g class=\"a5 leaf m2 node n3 s2 sample\" transform=\"translate(32.16 24.325)\"><path class=\"edge\" d=\"M 0 0 V -24.325 H -32.16\" /><g class=\"mut m2 s2 unknown_time\" transform=\"translate(0 -12.1625)\"><line x1=\"0\" x2=\"0\" y1=\"0\" y2=\"12.1625\" /><path class=\"sym\" d=\"M -3,-3 l 6,6 M -3,3 l 6,-6\" /><text class=\"lab rgt\" transform=\"translate(5 0)\">2:G→T</text></g><rect class=\"sym\" height=\"6\" width=\"6\" x=\"-3\" y=\"-3\" /><text class=\"lab\" transform=\"translate(0 11)\">3</text></g><path class=\"edge\" d=\"M 0 0 V -72.975 H 48.24\" /><circle class=\"sym\" cx=\"0\" cy=\"0\" r=\"3\" /><text class=\"lab lft\" transform=\"translate(-3 -7.0)\">5</text></g><path class=\"edge\" d=\"M 0 0 V -72.975 H -88.44\" /><g class=\"mut m1 s1 unknown_time\" transform=\"translate(0 -36.4875)\"><line x1=\"0\" x2=\"0\" y1=\"0\" y2=\"36.4875\" /><path class=\"sym\" d=\"M -3,-3 l 6,6 M -3,3 l 6,-6\" /><text class=\"lab rgt\" transform=\"translate(5 0)\">1:C→T</text></g><circle class=\"sym\" cx=\"0\" cy=\"0\" r=\"3\" /><text class=\"lab rgt\" transform=\"translate(3 -7.0)\">8</text></g><g class=\"a11 c2 node n10\" transform=\"translate(-88.44 24.325)\"><g class=\"a10 leaf m0 node n0 s0 sample\" transform=\"translate(-32.16 145.95)\"><path class=\"edge\" d=\"M 0 0 V -145.95 H 32.16\" /><g class=\"mut m0 s0 unknown_time\" transform=\"translate(0 -72.975)\"><line x1=\"0\" x2=\"0\" y1=\"0\" y2=\"72.975\" /><path class=\"sym\" d=\"M -3,-3 l 6,6 M -3,3 l 6,-6\" /><text class=\"lab lft\" transform=\"translate(-5 0)\">0:A→T</text></g><rect class=\"sym\" height=\"6\" width=\"6\" x=\"-3\" y=\"-3\" /><text class=\"lab\" transform=\"translate(0 11)\">0</text></g><g class=\"a10 leaf node n1 sample\" transform=\"translate(32.16 145.95)\"><path class=\"edge\" d=\"M 0 0 V -145.95 H -32.16\" /><rect class=\"sym\" height=\"6\" width=\"6\" x=\"-3\" y=\"-3\" /><text class=\"lab\" transform=\"translate(0 11)\">1</text></g><path class=\"edge\" d=\"M 0 0 V -24.325 H 88.44\" /><circle class=\"sym\" cx=\"0\" cy=\"0\" r=\"3\" /><text class=\"lab lft\" transform=\"translate(-3 -7.0)\">10</text></g><circle class=\"sym\" cx=\"0\" cy=\"0\" r=\"3\" /><text class=\"lab\" transform=\"translate(0 -11)\">11</text></g></g></g><g class=\"tree t1\" transform=\"translate(418.4 0)\"><g class=\"plotbox\"><g class=\"c2 node n12 root\" transform=\"translate(112.46 26.8)\"><g class=\"a12 leaf node n0 sample\" transform=\"translate(-60.3 194.6)\"><path class=\"edge\" d=\"M 0 0 V -194.6 H 60.3\" /><rect class=\"sym\" height=\"6\" width=\"6\" x=\"-3\" y=\"-3\" /><text class=\"lab\" transform=\"translate(0 11)\">0</text></g><g class=\"a12 c2 node n9\" transform=\"translate(60.3 72.975)\"><g class=\"a9 leaf m3 node n1 s3 sample\" transform=\"translate(-56.28 121.625)\"><path class=\"edge\" d=\"M 0 0 V -121.625 H 56.28\" /><g class=\"mut m3 s3 unknown_time\" transform=\"translate(0 -60.8125)\"><line x1=\"0\" x2=\"0\" y1=\"0\" y2=\"60.8125\" /><path class=\"sym\" d=\"M -3,-3 l 6,6 M -3,3 l 6,-6\" /><text class=\"lab lft\" transform=\"translate(-5 0)\">3:G→T</text></g><rect class=\"sym\" height=\"6\" width=\"6\" x=\"-3\" y=\"-3\" /><text class=\"lab\" transform=\"translate(0 11)\">1</text></g><g class=\"a9 c2 node n7\" transform=\"translate(56.28 48.65)\"><g class=\"a7 leaf node n2 sample\" transform=\"translate(-48.24 72.975)\"><path class=\"edge\" d=\"M 0 0 V -72.975 H 48.24\" /><rect class=\"sym\" height=\"6\" width=\"6\" x=\"-3\" y=\"-3\" /><text class=\"lab\" transform=\"translate(0 11)\">2</text></g><g class=\"a7 c2 node n6\" transform=\"translate(48.24 24.325)\"><g class=\"a6 leaf node n3 sample\" transform=\"translate(-32.16 48.65)\"><path class=\"edge\" d=\"M 0 0 V -48.65 H 32.16\" /><rect class=\"sym\" height=\"6\" width=\"6\" x=\"-3\" y=\"-3\" /><text class=\"lab\" transform=\"translate(0 11)\">3</text></g><g class=\"a6 leaf m4 node n4 s4 sample\" transform=\"translate(32.16 48.65)\"><path class=\"edge\" d=\"M 0 0 V -48.65 H -32.16\" /><g class=\"mut m4 s4 unknown_time\" transform=\"translate(0 -24.325)\"><line x1=\"0\" x2=\"0\" y1=\"0\" y2=\"24.325\" /><path class=\"sym\" d=\"M -3,-3 l 6,6 M -3,3 l 6,-6\" /><text class=\"lab rgt\" transform=\"translate(5 0)\">4:C→T</text></g><rect class=\"sym\" height=\"6\" width=\"6\" x=\"-3\" y=\"-3\" /><text class=\"lab\" transform=\"translate(0 11)\">4</text></g><path class=\"edge\" d=\"M 0 0 V -24.325 H -48.24\" /><circle class=\"sym\" cx=\"0\" cy=\"0\" r=\"3\" /><text class=\"lab rgt\" transform=\"translate(3 -7.0)\">6</text></g><path class=\"edge\" d=\"M 0 0 V -48.65 H -56.28\" /><circle class=\"sym\" cx=\"0\" cy=\"0\" r=\"3\" /><text class=\"lab rgt\" transform=\"translate(3 -7.0)\">7</text></g><path class=\"edge\" d=\"M 0 0 V -72.975 H -60.3\" /><circle class=\"sym\" cx=\"0\" cy=\"0\" r=\"3\" /><text class=\"lab rgt\" transform=\"translate(3 -7.0)\">9</text></g><circle class=\"sym\" cx=\"0\" cy=\"0\" r=\"3\" /><text class=\"lab\" transform=\"translate(0 -11)\">12</text></g></g></g></g></g></svg>'"
      ]
     },
     "execution_count": 62,
     "metadata": {},
     "output_type": "execute_result"
    }
   ],
   "source": [
    "import tskit\n",
    "import io\n",
    "\n",
    "nodes = \"\"\"\\\n",
    "is_sample time\n",
    "1         0 \n",
    "1         0\n",
    "1         0\n",
    "1         0\n",
    "1         0\n",
    "0         1\n",
    "0         2\n",
    "0         3\n",
    "0         4\n",
    "0         5\n",
    "0         6\n",
    "0         7\n",
    "0         8\n",
    "\"\"\"\n",
    "\n",
    "edges = \"\"\"\\\n",
    "left right parent child\n",
    "0    100   10      0,1\n",
    "0    100   5      2,3\n",
    "0    100   8      4,5\n",
    "0    100   11     8,10\n",
    "100  200   12     0,9\n",
    "100  200   9      1,7\n",
    "100  200   7      2,6\n",
    "100  200   6      3,4\n",
    "\"\"\"\n",
    "\n",
    "sites = \"\"\"\\\n",
    "position ancestral_state\n",
    "10       A\n",
    "30       C\n",
    "70       G\n",
    "150      G\n",
    "170      C\n",
    "\"\"\"\n",
    "\n",
    "mutations = \"\"\"\\\n",
    "site node parent derived_state\n",
    "0    0    -1     T\n",
    "1    8    -1     T\n",
    "2    3    -1     T\n",
    "3    1    -1     T\n",
    "4    4    -1     T\n",
    "\"\"\"\n",
    "\n",
    "ts = tskit.load_text(\n",
    "    nodes=io.StringIO(nodes),\n",
    "    edges=io.StringIO(edges),\n",
    "    sites=io.StringIO(sites),\n",
    "    # individuals=io.StringIO(individuals),\n",
    "    mutations=io.StringIO(mutations),\n",
    "    strict=False,\n",
    ")\n",
    "\n",
    "mut_labels = {}  # An array of labels for the mutations\n",
    "for mut in ts.mutations():  # Make pretty labels showing the change in state\n",
    "    site = ts.site(mut.site)\n",
    "    older_mut = mut.parent >= 0  # is there an older mutation at the same position?\n",
    "    prev = ts.mutation(mut.parent).derived_state if older_mut else site.ancestral_state\n",
    "    mut_labels[mut.id] = f\"{site.id}:{prev}→{mut.derived_state}\"\n",
    "\n",
    "ts.draw_svg(\n",
    "    size=(800, 300),\n",
    "    y_axis=True,\n",
    "    mutation_labels=mut_labels\n",
    ")"
   ]
  },
  {
   "cell_type": "code",
   "execution_count": 63,
   "id": "3105142a-8153-4812-b3c7-4c29bf57b9e4",
   "metadata": {},
   "outputs": [
    {
     "data": {
      "image/svg+xml": [
       "<svg baseProfile=\"full\" height=\"300\" version=\"1.1\" width=\"800\" xmlns=\"http://www.w3.org/2000/svg\" xmlns:ev=\"http://www.w3.org/2001/xml-events\" xmlns:xlink=\"http://www.w3.org/1999/xlink\"><defs><style type=\"text/css\"><![CDATA[.background path {fill: #808080; fill-opacity: 0}.background path:nth-child(odd) {fill-opacity: .1}.axes {font-size: 14px}.x-axis .tick .lab {font-weight: bold; dominant-baseline: hanging}.axes, .tree {font-size: 14px; text-anchor: middle}.axes line, .edge {stroke: black; fill: none}.y-axis .grid {stroke: #FAFAFA}.node > .sym {fill: black; stroke: none}.site > .sym {stroke: black}.mut text {fill: red; font-style: italic}.mut.extra text {fill: hotpink}.mut line {fill: none; stroke: none}.mut .sym {fill: none; stroke: red}.mut.extra .sym {stroke: hotpink}.node .mut .sym {stroke-width: 1.5px}.tree text, .tree-sequence text {dominant-baseline: central}.plotbox .lab.lft {text-anchor: end}.plotbox .lab.rgt {text-anchor: start}]]></style></defs><g class=\"tree-sequence\"><g class=\"background\"><path d=\"M56.8,0 l361.6,0 l0,238.2 l0,25 l0,5 l-361.6,0 l0,-5 l0,-25 l0,-238.2z\" /><path d=\"M418.4,0 l361.6,0 l0,238.2 l0,25 l0,5 l-361.6,0 l0,-5 l0,-25 l0,-238.2z\" /></g><g class=\"axes\"><g class=\"x-axis\"><g transform=\"translate(418.4 300)\"><text class=\"lab\" text-anchor=\"middle\" transform=\"translate(0 -11)\">Genome position</text></g><line x1=\"56.8\" x2=\"780\" y1=\"263.2\" y2=\"263.2\" /><g class=\"ticks\"><g class=\"tick\" transform=\"translate(56.8 263.2)\"><line x1=\"0\" x2=\"0\" y1=\"0\" y2=\"5\" /><g transform=\"translate(0 6)\"><text class=\"lab\">0</text></g></g><g class=\"tick\" transform=\"translate(418.4 263.2)\"><line x1=\"0\" x2=\"0\" y1=\"0\" y2=\"5\" /><g transform=\"translate(0 6)\"><text class=\"lab\">100</text></g></g><g class=\"tick\" transform=\"translate(780 263.2)\"><line x1=\"0\" x2=\"0\" y1=\"0\" y2=\"5\" /><g transform=\"translate(0 6)\"><text class=\"lab\">200</text></g></g></g><g class=\"site s0\" transform=\"translate(92.96 263.2)\"><line class=\"sym\" x1=\"0\" x2=\"0\" y1=\"0\" y2=\"-10\" /><g class=\"mut m0\"><polyline class=\"sym\" points=\"2.5,-6.5 0,-1.5 -2.5,-6.5\" /></g></g><g class=\"site s1\" transform=\"translate(165.28 263.2)\"><line class=\"sym\" x1=\"0\" x2=\"0\" y1=\"0\" y2=\"-10\" /><g class=\"mut m2\"><polyline class=\"sym\" points=\"2.5,-6.5 0,-1.5 -2.5,-6.5\" /></g><g class=\"mut m1\"><polyline class=\"sym\" points=\"2.5,-10.5 0,-5.5 -2.5,-10.5\" /></g></g><g class=\"site s2\" transform=\"translate(309.92 263.2)\"><line class=\"sym\" x1=\"0\" x2=\"0\" y1=\"0\" y2=\"-10\" /><g class=\"mut m3\"><polyline class=\"sym\" points=\"2.5,-6.5 0,-1.5 -2.5,-6.5\" /></g></g><g class=\"site s3\" transform=\"translate(454.56 263.2)\"><line class=\"sym\" x1=\"0\" x2=\"0\" y1=\"0\" y2=\"-10\" /><g class=\"mut m6\"><polyline class=\"sym\" points=\"2.5,-6.5 0,-1.5 -2.5,-6.5\" /></g><g class=\"mut m5\"><polyline class=\"sym\" points=\"2.5,-10.5 0,-5.5 -2.5,-10.5\" /></g><g class=\"mut m4\"><polyline class=\"sym\" points=\"2.5,-14.5 0,-9.5 -2.5,-14.5\" /></g></g><g class=\"site s4\" transform=\"translate(599.2 263.2)\"><line class=\"sym\" x1=\"0\" x2=\"0\" y1=\"0\" y2=\"-10\" /><g class=\"mut m7\"><polyline class=\"sym\" points=\"2.5,-6.5 0,-1.5 -2.5,-6.5\" /></g></g><g class=\"site s5\" transform=\"translate(671.52 263.2)\"><line class=\"sym\" x1=\"0\" x2=\"0\" y1=\"0\" y2=\"-10\" /><g class=\"mut m8\"><polyline class=\"sym\" points=\"2.5,-6.5 0,-1.5 -2.5,-6.5\" /></g></g></g><g class=\"y-axis\"><g transform=\"translate(0 115.7)\"><text class=\"lab\" text-anchor=\"middle\" transform=\"translate(11) rotate(-90)\">Time</text></g><line x1=\"56.8\" x2=\"56.8\" y1=\"221.4\" y2=\"10\" /><g class=\"ticks\"><g class=\"tick\" transform=\"translate(56.8 221.4)\"><line x1=\"0\" x2=\"-5\" y1=\"0\" y2=\"0\" /><g transform=\"translate(-6 0)\"><text class=\"lab\" text-anchor=\"end\">0</text></g></g><g class=\"tick\" transform=\"translate(56.8 197.075)\"><line x1=\"0\" x2=\"-5\" y1=\"0\" y2=\"0\" /><g transform=\"translate(-6 0)\"><text class=\"lab\" text-anchor=\"end\">1</text></g></g><g class=\"tick\" transform=\"translate(56.8 172.75)\"><line x1=\"0\" x2=\"-5\" y1=\"0\" y2=\"0\" /><g transform=\"translate(-6 0)\"><text class=\"lab\" text-anchor=\"end\">2</text></g></g><g class=\"tick\" transform=\"translate(56.8 148.425)\"><line x1=\"0\" x2=\"-5\" y1=\"0\" y2=\"0\" /><g transform=\"translate(-6 0)\"><text class=\"lab\" text-anchor=\"end\">3</text></g></g><g class=\"tick\" transform=\"translate(56.8 124.1)\"><line x1=\"0\" x2=\"-5\" y1=\"0\" y2=\"0\" /><g transform=\"translate(-6 0)\"><text class=\"lab\" text-anchor=\"end\">4</text></g></g><g class=\"tick\" transform=\"translate(56.8 99.775)\"><line x1=\"0\" x2=\"-5\" y1=\"0\" y2=\"0\" /><g transform=\"translate(-6 0)\"><text class=\"lab\" text-anchor=\"end\">5</text></g></g><g class=\"tick\" transform=\"translate(56.8 75.45)\"><line x1=\"0\" x2=\"-5\" y1=\"0\" y2=\"0\" /><g transform=\"translate(-6 0)\"><text class=\"lab\" text-anchor=\"end\">6</text></g></g><g class=\"tick\" transform=\"translate(56.8 51.125)\"><line x1=\"0\" x2=\"-5\" y1=\"0\" y2=\"0\" /><g transform=\"translate(-6 0)\"><text class=\"lab\" text-anchor=\"end\">7</text></g></g><g class=\"tick\" transform=\"translate(56.8 26.8)\"><line x1=\"0\" x2=\"-5\" y1=\"0\" y2=\"0\" /><g transform=\"translate(-6 0)\"><text class=\"lab\" text-anchor=\"end\">8</text></g></g></g></g></g><g class=\"plotbox trees\"><g class=\"tree t0\" transform=\"translate(56.8 0)\"><g class=\"plotbox\"><g class=\"c2 node n11 root\" transform=\"translate(172.76 51.125)\"><g class=\"a11 c2 m1 node n8 s1\" transform=\"translate(88.44 72.975)\"><g class=\"a8 leaf node n4 sample\" transform=\"translate(48.24 97.3)\"><path class=\"edge\" d=\"M 0 0 V -97.3 H -48.24\" /><rect class=\"sym\" height=\"6\" width=\"6\" x=\"-3\" y=\"-3\" /><text class=\"lab\" transform=\"translate(0 11)\">4</text></g><g class=\"a8 c2 m2 node n5 s1\" transform=\"translate(-48.24 72.975)\"><g class=\"a5 leaf node n2 sample\" transform=\"translate(-32.16 24.325)\"><path class=\"edge\" d=\"M 0 0 V -24.325 H 32.16\" /><rect class=\"sym\" height=\"6\" width=\"6\" x=\"-3\" y=\"-3\" /><text class=\"lab\" transform=\"translate(0 11)\">2</text></g><g class=\"a5 leaf m3 node n3 s2 sample\" transform=\"translate(32.16 24.325)\"><path class=\"edge\" d=\"M 0 0 V -24.325 H -32.16\" /><g class=\"mut m3 s2 unknown_time\" transform=\"translate(0 -12.1625)\"><line x1=\"0\" x2=\"0\" y1=\"0\" y2=\"12.1625\" /><path class=\"sym\" d=\"M -3,-3 l 6,6 M -3,3 l 6,-6\" /><text class=\"lab rgt\" transform=\"translate(5 0)\">2:G→T</text></g><rect class=\"sym\" height=\"6\" width=\"6\" x=\"-3\" y=\"-3\" /><text class=\"lab\" transform=\"translate(0 11)\">3</text></g><path class=\"edge\" d=\"M 0 0 V -72.975 H 48.24\" /><g class=\"mut m2 s1 unknown_time\" transform=\"translate(0 -36.4875)\"><line x1=\"0\" x2=\"0\" y1=\"0\" y2=\"36.4875\" /><path class=\"sym\" d=\"M -3,-3 l 6,6 M -3,3 l 6,-6\" /><text class=\"lab lft\" transform=\"translate(-5 0)\">1:T→A</text></g><circle class=\"sym\" cx=\"0\" cy=\"0\" r=\"3\" /><text class=\"lab lft\" transform=\"translate(-3 -7.0)\">5</text></g><path class=\"edge\" d=\"M 0 0 V -72.975 H -88.44\" /><g class=\"mut m1 s1 unknown_time\" transform=\"translate(0 -36.4875)\"><line x1=\"0\" x2=\"0\" y1=\"0\" y2=\"36.4875\" /><path class=\"sym\" d=\"M -3,-3 l 6,6 M -3,3 l 6,-6\" /><text class=\"lab rgt\" transform=\"translate(5 0)\">1:C→T</text></g><circle class=\"sym\" cx=\"0\" cy=\"0\" r=\"3\" /><text class=\"lab rgt\" transform=\"translate(3 -7.0)\">8</text></g><g class=\"a11 c2 node n10\" transform=\"translate(-88.44 24.325)\"><g class=\"a10 leaf m0 node n0 s0 sample\" transform=\"translate(-32.16 145.95)\"><path class=\"edge\" d=\"M 0 0 V -145.95 H 32.16\" /><g class=\"mut m0 s0 unknown_time\" transform=\"translate(0 -72.975)\"><line x1=\"0\" x2=\"0\" y1=\"0\" y2=\"72.975\" /><path class=\"sym\" d=\"M -3,-3 l 6,6 M -3,3 l 6,-6\" /><text class=\"lab lft\" transform=\"translate(-5 0)\">0:A→T</text></g><rect class=\"sym\" height=\"6\" width=\"6\" x=\"-3\" y=\"-3\" /><text class=\"lab\" transform=\"translate(0 11)\">0</text></g><g class=\"a10 leaf node n1 sample\" transform=\"translate(32.16 145.95)\"><path class=\"edge\" d=\"M 0 0 V -145.95 H -32.16\" /><rect class=\"sym\" height=\"6\" width=\"6\" x=\"-3\" y=\"-3\" /><text class=\"lab\" transform=\"translate(0 11)\">1</text></g><path class=\"edge\" d=\"M 0 0 V -24.325 H 88.44\" /><circle class=\"sym\" cx=\"0\" cy=\"0\" r=\"3\" /><text class=\"lab lft\" transform=\"translate(-3 -7.0)\">10</text></g><circle class=\"sym\" cx=\"0\" cy=\"0\" r=\"3\" /><text class=\"lab\" transform=\"translate(0 -11)\">11</text></g></g></g><g class=\"tree t1\" transform=\"translate(418.4 0)\"><g class=\"plotbox\"><g class=\"c2 node n12 root\" transform=\"translate(112.46 26.8)\"><g class=\"a12 leaf node n0 sample\" transform=\"translate(-60.3 194.6)\"><path class=\"edge\" d=\"M 0 0 V -194.6 H 60.3\" /><rect class=\"sym\" height=\"6\" width=\"6\" x=\"-3\" y=\"-3\" /><text class=\"lab\" transform=\"translate(0 11)\">0</text></g><g class=\"a12 c2 m4 node n9 s3\" transform=\"translate(60.3 72.975)\"><g class=\"a9 leaf m7 node n1 s4 sample\" transform=\"translate(-56.28 121.625)\"><path class=\"edge\" d=\"M 0 0 V -121.625 H 56.28\" /><g class=\"mut m7 s4 unknown_time\" transform=\"translate(0 -60.8125)\"><line x1=\"0\" x2=\"0\" y1=\"0\" y2=\"60.8125\" /><path class=\"sym\" d=\"M -3,-3 l 6,6 M -3,3 l 6,-6\" /><text class=\"lab lft\" transform=\"translate(-5 0)\">4:G→T</text></g><rect class=\"sym\" height=\"6\" width=\"6\" x=\"-3\" y=\"-3\" /><text class=\"lab\" transform=\"translate(0 11)\">1</text></g><g class=\"a9 c2 m5 node n7 s3\" transform=\"translate(56.28 48.65)\"><g class=\"a7 leaf m6 node n2 s3 sample\" transform=\"translate(-48.24 72.975)\"><path class=\"edge\" d=\"M 0 0 V -72.975 H 48.24\" /><g class=\"mut m6 s3 unknown_time\" transform=\"translate(0 -36.4875)\"><line x1=\"0\" x2=\"0\" y1=\"0\" y2=\"36.4875\" /><path class=\"sym\" d=\"M -3,-3 l 6,6 M -3,3 l 6,-6\" /><text class=\"lab lft\" transform=\"translate(-5 0)\">3:A→G</text></g><rect class=\"sym\" height=\"6\" width=\"6\" x=\"-3\" y=\"-3\" /><text class=\"lab\" transform=\"translate(0 11)\">2</text></g><g class=\"a7 c2 node n6\" transform=\"translate(48.24 24.325)\"><g class=\"a6 leaf node n3 sample\" transform=\"translate(-32.16 48.65)\"><path class=\"edge\" d=\"M 0 0 V -48.65 H 32.16\" /><rect class=\"sym\" height=\"6\" width=\"6\" x=\"-3\" y=\"-3\" /><text class=\"lab\" transform=\"translate(0 11)\">3</text></g><g class=\"a6 leaf m8 node n4 s5 sample\" transform=\"translate(32.16 48.65)\"><path class=\"edge\" d=\"M 0 0 V -48.65 H -32.16\" /><g class=\"mut m8 s5 unknown_time\" transform=\"translate(0 -24.325)\"><line x1=\"0\" x2=\"0\" y1=\"0\" y2=\"24.325\" /><path class=\"sym\" d=\"M -3,-3 l 6,6 M -3,3 l 6,-6\" /><text class=\"lab rgt\" transform=\"translate(5 0)\">5:C→T</text></g><rect class=\"sym\" height=\"6\" width=\"6\" x=\"-3\" y=\"-3\" /><text class=\"lab\" transform=\"translate(0 11)\">4</text></g><path class=\"edge\" d=\"M 0 0 V -24.325 H -48.24\" /><circle class=\"sym\" cx=\"0\" cy=\"0\" r=\"3\" /><text class=\"lab rgt\" transform=\"translate(3 -7.0)\">6</text></g><path class=\"edge\" d=\"M 0 0 V -48.65 H -56.28\" /><g class=\"mut m5 s3 unknown_time\" transform=\"translate(0 -24.325)\"><line x1=\"0\" x2=\"0\" y1=\"0\" y2=\"24.325\" /><path class=\"sym\" d=\"M -3,-3 l 6,6 M -3,3 l 6,-6\" /><text class=\"lab rgt\" transform=\"translate(5 0)\">3:T→A</text></g><circle class=\"sym\" cx=\"0\" cy=\"0\" r=\"3\" /><text class=\"lab rgt\" transform=\"translate(3 -7.0)\">7</text></g><path class=\"edge\" d=\"M 0 0 V -72.975 H -60.3\" /><g class=\"mut m4 s3 unknown_time\" transform=\"translate(0 -36.4875)\"><line x1=\"0\" x2=\"0\" y1=\"0\" y2=\"36.4875\" /><path class=\"sym\" d=\"M -3,-3 l 6,6 M -3,3 l 6,-6\" /><text class=\"lab rgt\" transform=\"translate(5 0)\">3:A→T</text></g><circle class=\"sym\" cx=\"0\" cy=\"0\" r=\"3\" /><text class=\"lab rgt\" transform=\"translate(3 -7.0)\">9</text></g><circle class=\"sym\" cx=\"0\" cy=\"0\" r=\"3\" /><text class=\"lab\" transform=\"translate(0 -11)\">12</text></g></g></g></g></g></svg>"
      ],
      "text/plain": [
       "'<svg baseProfile=\"full\" height=\"300\" version=\"1.1\" width=\"800\" xmlns=\"http://www.w3.org/2000/svg\" xmlns:ev=\"http://www.w3.org/2001/xml-events\" xmlns:xlink=\"http://www.w3.org/1999/xlink\"><defs><style type=\"text/css\"><![CDATA[.background path {fill: #808080; fill-opacity: 0}.background path:nth-child(odd) {fill-opacity: .1}.axes {font-size: 14px}.x-axis .tick .lab {font-weight: bold; dominant-baseline: hanging}.axes, .tree {font-size: 14px; text-anchor: middle}.axes line, .edge {stroke: black; fill: none}.y-axis .grid {stroke: #FAFAFA}.node > .sym {fill: black; stroke: none}.site > .sym {stroke: black}.mut text {fill: red; font-style: italic}.mut.extra text {fill: hotpink}.mut line {fill: none; stroke: none}.mut .sym {fill: none; stroke: red}.mut.extra .sym {stroke: hotpink}.node .mut .sym {stroke-width: 1.5px}.tree text, .tree-sequence text {dominant-baseline: central}.plotbox .lab.lft {text-anchor: end}.plotbox .lab.rgt {text-anchor: start}]]></style></defs><g class=\"tree-sequence\"><g class=\"background\"><path d=\"M56.8,0 l361.6,0 l0,238.2 l0,25 l0,5 l-361.6,0 l0,-5 l0,-25 l0,-238.2z\" /><path d=\"M418.4,0 l361.6,0 l0,238.2 l0,25 l0,5 l-361.6,0 l0,-5 l0,-25 l0,-238.2z\" /></g><g class=\"axes\"><g class=\"x-axis\"><g transform=\"translate(418.4 300)\"><text class=\"lab\" text-anchor=\"middle\" transform=\"translate(0 -11)\">Genome position</text></g><line x1=\"56.8\" x2=\"780\" y1=\"263.2\" y2=\"263.2\" /><g class=\"ticks\"><g class=\"tick\" transform=\"translate(56.8 263.2)\"><line x1=\"0\" x2=\"0\" y1=\"0\" y2=\"5\" /><g transform=\"translate(0 6)\"><text class=\"lab\">0</text></g></g><g class=\"tick\" transform=\"translate(418.4 263.2)\"><line x1=\"0\" x2=\"0\" y1=\"0\" y2=\"5\" /><g transform=\"translate(0 6)\"><text class=\"lab\">100</text></g></g><g class=\"tick\" transform=\"translate(780 263.2)\"><line x1=\"0\" x2=\"0\" y1=\"0\" y2=\"5\" /><g transform=\"translate(0 6)\"><text class=\"lab\">200</text></g></g></g><g class=\"site s0\" transform=\"translate(92.96 263.2)\"><line class=\"sym\" x1=\"0\" x2=\"0\" y1=\"0\" y2=\"-10\" /><g class=\"mut m0\"><polyline class=\"sym\" points=\"2.5,-6.5 0,-1.5 -2.5,-6.5\" /></g></g><g class=\"site s1\" transform=\"translate(165.28 263.2)\"><line class=\"sym\" x1=\"0\" x2=\"0\" y1=\"0\" y2=\"-10\" /><g class=\"mut m2\"><polyline class=\"sym\" points=\"2.5,-6.5 0,-1.5 -2.5,-6.5\" /></g><g class=\"mut m1\"><polyline class=\"sym\" points=\"2.5,-10.5 0,-5.5 -2.5,-10.5\" /></g></g><g class=\"site s2\" transform=\"translate(309.92 263.2)\"><line class=\"sym\" x1=\"0\" x2=\"0\" y1=\"0\" y2=\"-10\" /><g class=\"mut m3\"><polyline class=\"sym\" points=\"2.5,-6.5 0,-1.5 -2.5,-6.5\" /></g></g><g class=\"site s3\" transform=\"translate(454.56 263.2)\"><line class=\"sym\" x1=\"0\" x2=\"0\" y1=\"0\" y2=\"-10\" /><g class=\"mut m6\"><polyline class=\"sym\" points=\"2.5,-6.5 0,-1.5 -2.5,-6.5\" /></g><g class=\"mut m5\"><polyline class=\"sym\" points=\"2.5,-10.5 0,-5.5 -2.5,-10.5\" /></g><g class=\"mut m4\"><polyline class=\"sym\" points=\"2.5,-14.5 0,-9.5 -2.5,-14.5\" /></g></g><g class=\"site s4\" transform=\"translate(599.2 263.2)\"><line class=\"sym\" x1=\"0\" x2=\"0\" y1=\"0\" y2=\"-10\" /><g class=\"mut m7\"><polyline class=\"sym\" points=\"2.5,-6.5 0,-1.5 -2.5,-6.5\" /></g></g><g class=\"site s5\" transform=\"translate(671.52 263.2)\"><line class=\"sym\" x1=\"0\" x2=\"0\" y1=\"0\" y2=\"-10\" /><g class=\"mut m8\"><polyline class=\"sym\" points=\"2.5,-6.5 0,-1.5 -2.5,-6.5\" /></g></g></g><g class=\"y-axis\"><g transform=\"translate(0 115.7)\"><text class=\"lab\" text-anchor=\"middle\" transform=\"translate(11) rotate(-90)\">Time</text></g><line x1=\"56.8\" x2=\"56.8\" y1=\"221.4\" y2=\"10\" /><g class=\"ticks\"><g class=\"tick\" transform=\"translate(56.8 221.4)\"><line x1=\"0\" x2=\"-5\" y1=\"0\" y2=\"0\" /><g transform=\"translate(-6 0)\"><text class=\"lab\" text-anchor=\"end\">0</text></g></g><g class=\"tick\" transform=\"translate(56.8 197.075)\"><line x1=\"0\" x2=\"-5\" y1=\"0\" y2=\"0\" /><g transform=\"translate(-6 0)\"><text class=\"lab\" text-anchor=\"end\">1</text></g></g><g class=\"tick\" transform=\"translate(56.8 172.75)\"><line x1=\"0\" x2=\"-5\" y1=\"0\" y2=\"0\" /><g transform=\"translate(-6 0)\"><text class=\"lab\" text-anchor=\"end\">2</text></g></g><g class=\"tick\" transform=\"translate(56.8 148.425)\"><line x1=\"0\" x2=\"-5\" y1=\"0\" y2=\"0\" /><g transform=\"translate(-6 0)\"><text class=\"lab\" text-anchor=\"end\">3</text></g></g><g class=\"tick\" transform=\"translate(56.8 124.1)\"><line x1=\"0\" x2=\"-5\" y1=\"0\" y2=\"0\" /><g transform=\"translate(-6 0)\"><text class=\"lab\" text-anchor=\"end\">4</text></g></g><g class=\"tick\" transform=\"translate(56.8 99.775)\"><line x1=\"0\" x2=\"-5\" y1=\"0\" y2=\"0\" /><g transform=\"translate(-6 0)\"><text class=\"lab\" text-anchor=\"end\">5</text></g></g><g class=\"tick\" transform=\"translate(56.8 75.45)\"><line x1=\"0\" x2=\"-5\" y1=\"0\" y2=\"0\" /><g transform=\"translate(-6 0)\"><text class=\"lab\" text-anchor=\"end\">6</text></g></g><g class=\"tick\" transform=\"translate(56.8 51.125)\"><line x1=\"0\" x2=\"-5\" y1=\"0\" y2=\"0\" /><g transform=\"translate(-6 0)\"><text class=\"lab\" text-anchor=\"end\">7</text></g></g><g class=\"tick\" transform=\"translate(56.8 26.8)\"><line x1=\"0\" x2=\"-5\" y1=\"0\" y2=\"0\" /><g transform=\"translate(-6 0)\"><text class=\"lab\" text-anchor=\"end\">8</text></g></g></g></g></g><g class=\"plotbox trees\"><g class=\"tree t0\" transform=\"translate(56.8 0)\"><g class=\"plotbox\"><g class=\"c2 node n11 root\" transform=\"translate(172.76 51.125)\"><g class=\"a11 c2 m1 node n8 s1\" transform=\"translate(88.44 72.975)\"><g class=\"a8 leaf node n4 sample\" transform=\"translate(48.24 97.3)\"><path class=\"edge\" d=\"M 0 0 V -97.3 H -48.24\" /><rect class=\"sym\" height=\"6\" width=\"6\" x=\"-3\" y=\"-3\" /><text class=\"lab\" transform=\"translate(0 11)\">4</text></g><g class=\"a8 c2 m2 node n5 s1\" transform=\"translate(-48.24 72.975)\"><g class=\"a5 leaf node n2 sample\" transform=\"translate(-32.16 24.325)\"><path class=\"edge\" d=\"M 0 0 V -24.325 H 32.16\" /><rect class=\"sym\" height=\"6\" width=\"6\" x=\"-3\" y=\"-3\" /><text class=\"lab\" transform=\"translate(0 11)\">2</text></g><g class=\"a5 leaf m3 node n3 s2 sample\" transform=\"translate(32.16 24.325)\"><path class=\"edge\" d=\"M 0 0 V -24.325 H -32.16\" /><g class=\"mut m3 s2 unknown_time\" transform=\"translate(0 -12.1625)\"><line x1=\"0\" x2=\"0\" y1=\"0\" y2=\"12.1625\" /><path class=\"sym\" d=\"M -3,-3 l 6,6 M -3,3 l 6,-6\" /><text class=\"lab rgt\" transform=\"translate(5 0)\">2:G→T</text></g><rect class=\"sym\" height=\"6\" width=\"6\" x=\"-3\" y=\"-3\" /><text class=\"lab\" transform=\"translate(0 11)\">3</text></g><path class=\"edge\" d=\"M 0 0 V -72.975 H 48.24\" /><g class=\"mut m2 s1 unknown_time\" transform=\"translate(0 -36.4875)\"><line x1=\"0\" x2=\"0\" y1=\"0\" y2=\"36.4875\" /><path class=\"sym\" d=\"M -3,-3 l 6,6 M -3,3 l 6,-6\" /><text class=\"lab lft\" transform=\"translate(-5 0)\">1:T→A</text></g><circle class=\"sym\" cx=\"0\" cy=\"0\" r=\"3\" /><text class=\"lab lft\" transform=\"translate(-3 -7.0)\">5</text></g><path class=\"edge\" d=\"M 0 0 V -72.975 H -88.44\" /><g class=\"mut m1 s1 unknown_time\" transform=\"translate(0 -36.4875)\"><line x1=\"0\" x2=\"0\" y1=\"0\" y2=\"36.4875\" /><path class=\"sym\" d=\"M -3,-3 l 6,6 M -3,3 l 6,-6\" /><text class=\"lab rgt\" transform=\"translate(5 0)\">1:C→T</text></g><circle class=\"sym\" cx=\"0\" cy=\"0\" r=\"3\" /><text class=\"lab rgt\" transform=\"translate(3 -7.0)\">8</text></g><g class=\"a11 c2 node n10\" transform=\"translate(-88.44 24.325)\"><g class=\"a10 leaf m0 node n0 s0 sample\" transform=\"translate(-32.16 145.95)\"><path class=\"edge\" d=\"M 0 0 V -145.95 H 32.16\" /><g class=\"mut m0 s0 unknown_time\" transform=\"translate(0 -72.975)\"><line x1=\"0\" x2=\"0\" y1=\"0\" y2=\"72.975\" /><path class=\"sym\" d=\"M -3,-3 l 6,6 M -3,3 l 6,-6\" /><text class=\"lab lft\" transform=\"translate(-5 0)\">0:A→T</text></g><rect class=\"sym\" height=\"6\" width=\"6\" x=\"-3\" y=\"-3\" /><text class=\"lab\" transform=\"translate(0 11)\">0</text></g><g class=\"a10 leaf node n1 sample\" transform=\"translate(32.16 145.95)\"><path class=\"edge\" d=\"M 0 0 V -145.95 H -32.16\" /><rect class=\"sym\" height=\"6\" width=\"6\" x=\"-3\" y=\"-3\" /><text class=\"lab\" transform=\"translate(0 11)\">1</text></g><path class=\"edge\" d=\"M 0 0 V -24.325 H 88.44\" /><circle class=\"sym\" cx=\"0\" cy=\"0\" r=\"3\" /><text class=\"lab lft\" transform=\"translate(-3 -7.0)\">10</text></g><circle class=\"sym\" cx=\"0\" cy=\"0\" r=\"3\" /><text class=\"lab\" transform=\"translate(0 -11)\">11</text></g></g></g><g class=\"tree t1\" transform=\"translate(418.4 0)\"><g class=\"plotbox\"><g class=\"c2 node n12 root\" transform=\"translate(112.46 26.8)\"><g class=\"a12 leaf node n0 sample\" transform=\"translate(-60.3 194.6)\"><path class=\"edge\" d=\"M 0 0 V -194.6 H 60.3\" /><rect class=\"sym\" height=\"6\" width=\"6\" x=\"-3\" y=\"-3\" /><text class=\"lab\" transform=\"translate(0 11)\">0</text></g><g class=\"a12 c2 m4 node n9 s3\" transform=\"translate(60.3 72.975)\"><g class=\"a9 leaf m7 node n1 s4 sample\" transform=\"translate(-56.28 121.625)\"><path class=\"edge\" d=\"M 0 0 V -121.625 H 56.28\" /><g class=\"mut m7 s4 unknown_time\" transform=\"translate(0 -60.8125)\"><line x1=\"0\" x2=\"0\" y1=\"0\" y2=\"60.8125\" /><path class=\"sym\" d=\"M -3,-3 l 6,6 M -3,3 l 6,-6\" /><text class=\"lab lft\" transform=\"translate(-5 0)\">4:G→T</text></g><rect class=\"sym\" height=\"6\" width=\"6\" x=\"-3\" y=\"-3\" /><text class=\"lab\" transform=\"translate(0 11)\">1</text></g><g class=\"a9 c2 m5 node n7 s3\" transform=\"translate(56.28 48.65)\"><g class=\"a7 leaf m6 node n2 s3 sample\" transform=\"translate(-48.24 72.975)\"><path class=\"edge\" d=\"M 0 0 V -72.975 H 48.24\" /><g class=\"mut m6 s3 unknown_time\" transform=\"translate(0 -36.4875)\"><line x1=\"0\" x2=\"0\" y1=\"0\" y2=\"36.4875\" /><path class=\"sym\" d=\"M -3,-3 l 6,6 M -3,3 l 6,-6\" /><text class=\"lab lft\" transform=\"translate(-5 0)\">3:A→G</text></g><rect class=\"sym\" height=\"6\" width=\"6\" x=\"-3\" y=\"-3\" /><text class=\"lab\" transform=\"translate(0 11)\">2</text></g><g class=\"a7 c2 node n6\" transform=\"translate(48.24 24.325)\"><g class=\"a6 leaf node n3 sample\" transform=\"translate(-32.16 48.65)\"><path class=\"edge\" d=\"M 0 0 V -48.65 H 32.16\" /><rect class=\"sym\" height=\"6\" width=\"6\" x=\"-3\" y=\"-3\" /><text class=\"lab\" transform=\"translate(0 11)\">3</text></g><g class=\"a6 leaf m8 node n4 s5 sample\" transform=\"translate(32.16 48.65)\"><path class=\"edge\" d=\"M 0 0 V -48.65 H -32.16\" /><g class=\"mut m8 s5 unknown_time\" transform=\"translate(0 -24.325)\"><line x1=\"0\" x2=\"0\" y1=\"0\" y2=\"24.325\" /><path class=\"sym\" d=\"M -3,-3 l 6,6 M -3,3 l 6,-6\" /><text class=\"lab rgt\" transform=\"translate(5 0)\">5:C→T</text></g><rect class=\"sym\" height=\"6\" width=\"6\" x=\"-3\" y=\"-3\" /><text class=\"lab\" transform=\"translate(0 11)\">4</text></g><path class=\"edge\" d=\"M 0 0 V -24.325 H -48.24\" /><circle class=\"sym\" cx=\"0\" cy=\"0\" r=\"3\" /><text class=\"lab rgt\" transform=\"translate(3 -7.0)\">6</text></g><path class=\"edge\" d=\"M 0 0 V -48.65 H -56.28\" /><g class=\"mut m5 s3 unknown_time\" transform=\"translate(0 -24.325)\"><line x1=\"0\" x2=\"0\" y1=\"0\" y2=\"24.325\" /><path class=\"sym\" d=\"M -3,-3 l 6,6 M -3,3 l 6,-6\" /><text class=\"lab rgt\" transform=\"translate(5 0)\">3:T→A</text></g><circle class=\"sym\" cx=\"0\" cy=\"0\" r=\"3\" /><text class=\"lab rgt\" transform=\"translate(3 -7.0)\">7</text></g><path class=\"edge\" d=\"M 0 0 V -72.975 H -60.3\" /><g class=\"mut m4 s3 unknown_time\" transform=\"translate(0 -36.4875)\"><line x1=\"0\" x2=\"0\" y1=\"0\" y2=\"36.4875\" /><path class=\"sym\" d=\"M -3,-3 l 6,6 M -3,3 l 6,-6\" /><text class=\"lab rgt\" transform=\"translate(5 0)\">3:A→T</text></g><circle class=\"sym\" cx=\"0\" cy=\"0\" r=\"3\" /><text class=\"lab rgt\" transform=\"translate(3 -7.0)\">9</text></g><circle class=\"sym\" cx=\"0\" cy=\"0\" r=\"3\" /><text class=\"lab\" transform=\"translate(0 -11)\">12</text></g></g></g></g></g></svg>'"
      ]
     },
     "execution_count": 63,
     "metadata": {},
     "output_type": "execute_result"
    }
   ],
   "source": [
    "import tskit\n",
    "import io\n",
    "\n",
    "nodes = \"\"\"\\\n",
    "is_sample time\n",
    "1         0 \n",
    "1         0\n",
    "1         0\n",
    "1         0\n",
    "1         0\n",
    "0         1\n",
    "0         2\n",
    "0         3\n",
    "0         4\n",
    "0         5\n",
    "0         6\n",
    "0         7\n",
    "0         8\n",
    "\"\"\"\n",
    "\n",
    "edges = \"\"\"\\\n",
    "left right parent child\n",
    "0    100   10      0,1\n",
    "0    100   5      2,3\n",
    "0    100   8      4,5\n",
    "0    100   11     8,10\n",
    "100  200   12     0,9\n",
    "100  200   9      1,7\n",
    "100  200   7      2,6\n",
    "100  200   6      3,4\n",
    "\"\"\"\n",
    "\n",
    "sites = \"\"\"\\\n",
    "position ancestral_state\n",
    "10       A\n",
    "30       C\n",
    "70       G\n",
    "110      A\n",
    "150      G\n",
    "170      C\n",
    "\"\"\"\n",
    "\n",
    "mutations = \"\"\"\\\n",
    "site node parent derived_state\n",
    "0    0    -1     T\n",
    "1    8    -1     T\n",
    "2    3    -1     T\n",
    "4    1    -1     T\n",
    "5    4    -1     T\n",
    "1    5    1      A\n",
    "3    9    -1     T\n",
    "3    7    6      A\n",
    "3    2    7      G\n",
    "\"\"\"\n",
    "\n",
    "ts = tskit.load_text(\n",
    "    nodes=io.StringIO(nodes),\n",
    "    edges=io.StringIO(edges),\n",
    "    sites=io.StringIO(sites),\n",
    "    # individuals=io.StringIO(individuals),\n",
    "    mutations=io.StringIO(mutations),\n",
    "    strict=False,\n",
    ")\n",
    "\n",
    "mut_labels = {}  # An array of labels for the mutations\n",
    "for mut in ts.mutations():  # Make pretty labels showing the change in state\n",
    "    site = ts.site(mut.site)\n",
    "    older_mut = mut.parent >= 0  # is there an older mutation at the same position?\n",
    "    prev = ts.mutation(mut.parent).derived_state if older_mut else site.ancestral_state\n",
    "    mut_labels[mut.id] = f\"{site.id}:{prev}→{mut.derived_state}\"\n",
    "\n",
    "ts.draw_svg(\n",
    "    size=(800, 300),\n",
    "    y_axis=True,\n",
    "    mutation_labels=mut_labels\n",
    ")"
   ]
  },
  {
   "cell_type": "code",
   "execution_count": 64,
   "id": "e9fbf82c-cacf-4484-aa24-4f8beb2f9519",
   "metadata": {},
   "outputs": [],
   "source": [
    "from tskit_ld_proto.ld_proto import get_state"
   ]
  },
  {
   "cell_type": "code",
   "execution_count": 65,
   "id": "79c09082-87cd-4c51-9732-24f9d414f5cf",
   "metadata": {},
   "outputs": [
    {
     "data": {
      "text/plain": [
       "array([[1, 0, 0, 0, 0],\n",
       "       [0, 0, 2, 2, 1],\n",
       "       [0, 0, 0, 1, 0],\n",
       "       [0, 1, 2, 0, 0],\n",
       "       [0, 1, 0, 0, 0],\n",
       "       [0, 0, 0, 0, 1]])"
      ]
     },
     "execution_count": 65,
     "metadata": {},
     "output_type": "execute_result"
    }
   ],
   "source": [
    "get_state(ts)"
   ]
  },
  {
   "cell_type": "code",
   "execution_count": 73,
   "id": "b5385b3d-a5ee-437a-832d-293fdfda6a7f",
   "metadata": {},
   "outputs": [
    {
     "data": {
      "image/svg+xml": [
       "<svg baseProfile=\"full\" height=\"300\" version=\"1.1\" width=\"800\" xmlns=\"http://www.w3.org/2000/svg\" xmlns:ev=\"http://www.w3.org/2001/xml-events\" xmlns:xlink=\"http://www.w3.org/1999/xlink\"><defs><style type=\"text/css\"><![CDATA[.background path {fill: #808080; fill-opacity: 0}.background path:nth-child(odd) {fill-opacity: .1}.axes {font-size: 14px}.x-axis .tick .lab {font-weight: bold; dominant-baseline: hanging}.axes, .tree {font-size: 14px; text-anchor: middle}.axes line, .edge {stroke: black; fill: none}.y-axis .grid {stroke: #FAFAFA}.node > .sym {fill: black; stroke: none}.site > .sym {stroke: black}.mut text {fill: red; font-style: italic}.mut.extra text {fill: hotpink}.mut line {fill: none; stroke: none}.mut .sym {fill: none; stroke: red}.mut.extra .sym {stroke: hotpink}.node .mut .sym {stroke-width: 1.5px}.tree text, .tree-sequence text {dominant-baseline: central}.plotbox .lab.lft {text-anchor: end}.plotbox .lab.rgt {text-anchor: start}]]></style></defs><g class=\"tree-sequence\"><g class=\"background\"><path d=\"M56.8,0 l361.6,0 l0,238.2 l0,25 l0,5 l-361.6,0 l0,-5 l0,-25 l0,-238.2z\" /><path d=\"M418.4,0 l361.6,0 l0,238.2 l0,25 l0,5 l-361.6,0 l0,-5 l0,-25 l0,-238.2z\" /></g><g class=\"axes\"><g class=\"x-axis\"><g transform=\"translate(418.4 300)\"><text class=\"lab\" text-anchor=\"middle\" transform=\"translate(0 -11)\">Genome position</text></g><line x1=\"56.8\" x2=\"780\" y1=\"263.2\" y2=\"263.2\" /><g class=\"ticks\"><g class=\"tick\" transform=\"translate(56.8 263.2)\"><line x1=\"0\" x2=\"0\" y1=\"0\" y2=\"5\" /><g transform=\"translate(0 6)\"><text class=\"lab\">0</text></g></g><g class=\"tick\" transform=\"translate(418.4 263.2)\"><line x1=\"0\" x2=\"0\" y1=\"0\" y2=\"5\" /><g transform=\"translate(0 6)\"><text class=\"lab\">100</text></g></g><g class=\"tick\" transform=\"translate(780 263.2)\"><line x1=\"0\" x2=\"0\" y1=\"0\" y2=\"5\" /><g transform=\"translate(0 6)\"><text class=\"lab\">200</text></g></g></g><g class=\"site s0\" transform=\"translate(92.96 263.2)\"><line class=\"sym\" x1=\"0\" x2=\"0\" y1=\"0\" y2=\"-10\" /><g class=\"mut m0\"><polyline class=\"sym\" points=\"2.5,-6.5 0,-1.5 -2.5,-6.5\" /></g></g><g class=\"site s1\" transform=\"translate(165.28 263.2)\"><line class=\"sym\" x1=\"0\" x2=\"0\" y1=\"0\" y2=\"-10\" /><g class=\"mut m1\"><polyline class=\"sym\" points=\"2.5,-6.5 0,-1.5 -2.5,-6.5\" /></g></g><g class=\"site s2\" transform=\"translate(309.92 263.2)\"><line class=\"sym\" x1=\"0\" x2=\"0\" y1=\"0\" y2=\"-10\" /><g class=\"mut m2\"><polyline class=\"sym\" points=\"2.5,-6.5 0,-1.5 -2.5,-6.5\" /></g></g><g class=\"site s3\" transform=\"translate(454.56 263.2)\"><line class=\"sym\" x1=\"0\" x2=\"0\" y1=\"0\" y2=\"-10\" /><g class=\"mut m4\"><polyline class=\"sym\" points=\"2.5,-6.5 0,-1.5 -2.5,-6.5\" /></g><g class=\"mut m3\"><polyline class=\"sym\" points=\"2.5,-10.5 0,-5.5 -2.5,-10.5\" /></g></g><g class=\"site s4\" transform=\"translate(599.2 263.2)\"><line class=\"sym\" x1=\"0\" x2=\"0\" y1=\"0\" y2=\"-10\" /><g class=\"mut m5\"><polyline class=\"sym\" points=\"2.5,-6.5 0,-1.5 -2.5,-6.5\" /></g></g><g class=\"site s5\" transform=\"translate(671.52 263.2)\"><line class=\"sym\" x1=\"0\" x2=\"0\" y1=\"0\" y2=\"-10\" /><g class=\"mut m6\"><polyline class=\"sym\" points=\"2.5,-6.5 0,-1.5 -2.5,-6.5\" /></g></g></g><g class=\"y-axis\"><g transform=\"translate(0 115.7)\"><text class=\"lab\" text-anchor=\"middle\" transform=\"translate(11) rotate(-90)\">Time</text></g><line x1=\"56.8\" x2=\"56.8\" y1=\"221.4\" y2=\"10\" /><g class=\"ticks\"><g class=\"tick\" transform=\"translate(56.8 221.4)\"><line x1=\"0\" x2=\"-5\" y1=\"0\" y2=\"0\" /><g transform=\"translate(-6 0)\"><text class=\"lab\" text-anchor=\"end\">0</text></g></g><g class=\"tick\" transform=\"translate(56.8 197.075)\"><line x1=\"0\" x2=\"-5\" y1=\"0\" y2=\"0\" /><g transform=\"translate(-6 0)\"><text class=\"lab\" text-anchor=\"end\">1</text></g></g><g class=\"tick\" transform=\"translate(56.8 172.75)\"><line x1=\"0\" x2=\"-5\" y1=\"0\" y2=\"0\" /><g transform=\"translate(-6 0)\"><text class=\"lab\" text-anchor=\"end\">2</text></g></g><g class=\"tick\" transform=\"translate(56.8 148.425)\"><line x1=\"0\" x2=\"-5\" y1=\"0\" y2=\"0\" /><g transform=\"translate(-6 0)\"><text class=\"lab\" text-anchor=\"end\">3</text></g></g><g class=\"tick\" transform=\"translate(56.8 124.1)\"><line x1=\"0\" x2=\"-5\" y1=\"0\" y2=\"0\" /><g transform=\"translate(-6 0)\"><text class=\"lab\" text-anchor=\"end\">4</text></g></g><g class=\"tick\" transform=\"translate(56.8 99.775)\"><line x1=\"0\" x2=\"-5\" y1=\"0\" y2=\"0\" /><g transform=\"translate(-6 0)\"><text class=\"lab\" text-anchor=\"end\">5</text></g></g><g class=\"tick\" transform=\"translate(56.8 75.45)\"><line x1=\"0\" x2=\"-5\" y1=\"0\" y2=\"0\" /><g transform=\"translate(-6 0)\"><text class=\"lab\" text-anchor=\"end\">6</text></g></g><g class=\"tick\" transform=\"translate(56.8 51.125)\"><line x1=\"0\" x2=\"-5\" y1=\"0\" y2=\"0\" /><g transform=\"translate(-6 0)\"><text class=\"lab\" text-anchor=\"end\">7</text></g></g><g class=\"tick\" transform=\"translate(56.8 26.8)\"><line x1=\"0\" x2=\"-5\" y1=\"0\" y2=\"0\" /><g transform=\"translate(-6 0)\"><text class=\"lab\" text-anchor=\"end\">8</text></g></g></g></g></g><g class=\"plotbox trees\"><g class=\"tree t0\" transform=\"translate(56.8 0)\"><g class=\"plotbox\"><g class=\"c2 node n11 root\" transform=\"translate(172.76 51.125)\"><g class=\"a11 c2 m1 node n8 s1\" transform=\"translate(88.44 72.975)\"><g class=\"a8 leaf node n4 sample\" transform=\"translate(48.24 97.3)\"><path class=\"edge\" d=\"M 0 0 V -97.3 H -48.24\" /><rect class=\"sym\" height=\"6\" width=\"6\" x=\"-3\" y=\"-3\" /><text class=\"lab\" transform=\"translate(0 11)\">4</text></g><g class=\"a8 c2 node n5\" transform=\"translate(-48.24 72.975)\"><g class=\"a5 leaf node n2 sample\" transform=\"translate(-32.16 24.325)\"><path class=\"edge\" d=\"M 0 0 V -24.325 H 32.16\" /><rect class=\"sym\" height=\"6\" width=\"6\" x=\"-3\" y=\"-3\" /><text class=\"lab\" transform=\"translate(0 11)\">2</text></g><g class=\"a5 leaf m2 node n3 s2 sample\" transform=\"translate(32.16 24.325)\"><path class=\"edge\" d=\"M 0 0 V -24.325 H -32.16\" /><g class=\"mut m2 s2 unknown_time\" transform=\"translate(0 -12.1625)\"><line x1=\"0\" x2=\"0\" y1=\"0\" y2=\"12.1625\" /><path class=\"sym\" d=\"M -3,-3 l 6,6 M -3,3 l 6,-6\" /><text class=\"lab rgt\" transform=\"translate(5 0)\">2:G→T</text></g><rect class=\"sym\" height=\"6\" width=\"6\" x=\"-3\" y=\"-3\" /><text class=\"lab\" transform=\"translate(0 11)\">3</text></g><path class=\"edge\" d=\"M 0 0 V -72.975 H 48.24\" /><circle class=\"sym\" cx=\"0\" cy=\"0\" r=\"3\" /><text class=\"lab lft\" transform=\"translate(-3 -7.0)\">5</text></g><path class=\"edge\" d=\"M 0 0 V -72.975 H -88.44\" /><g class=\"mut m1 s1 unknown_time\" transform=\"translate(0 -36.4875)\"><line x1=\"0\" x2=\"0\" y1=\"0\" y2=\"36.4875\" /><path class=\"sym\" d=\"M -3,-3 l 6,6 M -3,3 l 6,-6\" /><text class=\"lab rgt\" transform=\"translate(5 0)\">1:C→T</text></g><circle class=\"sym\" cx=\"0\" cy=\"0\" r=\"3\" /><text class=\"lab rgt\" transform=\"translate(3 -7.0)\">8</text></g><g class=\"a11 c2 node n10\" transform=\"translate(-88.44 24.325)\"><g class=\"a10 leaf m0 node n0 s0 sample\" transform=\"translate(-32.16 145.95)\"><path class=\"edge\" d=\"M 0 0 V -145.95 H 32.16\" /><g class=\"mut m0 s0 unknown_time\" transform=\"translate(0 -72.975)\"><line x1=\"0\" x2=\"0\" y1=\"0\" y2=\"72.975\" /><path class=\"sym\" d=\"M -3,-3 l 6,6 M -3,3 l 6,-6\" /><text class=\"lab lft\" transform=\"translate(-5 0)\">0:A→T</text></g><rect class=\"sym\" height=\"6\" width=\"6\" x=\"-3\" y=\"-3\" /><text class=\"lab\" transform=\"translate(0 11)\">0</text></g><g class=\"a10 leaf node n1 sample\" transform=\"translate(32.16 145.95)\"><path class=\"edge\" d=\"M 0 0 V -145.95 H -32.16\" /><rect class=\"sym\" height=\"6\" width=\"6\" x=\"-3\" y=\"-3\" /><text class=\"lab\" transform=\"translate(0 11)\">1</text></g><path class=\"edge\" d=\"M 0 0 V -24.325 H 88.44\" /><circle class=\"sym\" cx=\"0\" cy=\"0\" r=\"3\" /><text class=\"lab lft\" transform=\"translate(-3 -7.0)\">10</text></g><circle class=\"sym\" cx=\"0\" cy=\"0\" r=\"3\" /><text class=\"lab\" transform=\"translate(0 -11)\">11</text></g></g></g><g class=\"tree t1\" transform=\"translate(418.4 0)\"><g class=\"plotbox\"><g class=\"c2 node n12 root\" transform=\"translate(112.46 26.8)\"><g class=\"a12 leaf node n0 sample\" transform=\"translate(-60.3 194.6)\"><path class=\"edge\" d=\"M 0 0 V -194.6 H 60.3\" /><rect class=\"sym\" height=\"6\" width=\"6\" x=\"-3\" y=\"-3\" /><text class=\"lab\" transform=\"translate(0 11)\">0</text></g><g class=\"a12 c2 m3 node n9 s3\" transform=\"translate(60.3 72.975)\"><g class=\"a9 leaf m5 node n1 s4 sample\" transform=\"translate(-56.28 121.625)\"><path class=\"edge\" d=\"M 0 0 V -121.625 H 56.28\" /><g class=\"mut m5 s4 unknown_time\" transform=\"translate(0 -60.8125)\"><line x1=\"0\" x2=\"0\" y1=\"0\" y2=\"60.8125\" /><path class=\"sym\" d=\"M -3,-3 l 6,6 M -3,3 l 6,-6\" /><text class=\"lab lft\" transform=\"translate(-5 0)\">4:G→T</text></g><rect class=\"sym\" height=\"6\" width=\"6\" x=\"-3\" y=\"-3\" /><text class=\"lab\" transform=\"translate(0 11)\">1</text></g><g class=\"a9 c2 m4 node n7 s3\" transform=\"translate(56.28 48.65)\"><g class=\"a7 leaf node n2 sample\" transform=\"translate(-48.24 72.975)\"><path class=\"edge\" d=\"M 0 0 V -72.975 H 48.24\" /><rect class=\"sym\" height=\"6\" width=\"6\" x=\"-3\" y=\"-3\" /><text class=\"lab\" transform=\"translate(0 11)\">2</text></g><g class=\"a7 c2 node n6\" transform=\"translate(48.24 24.325)\"><g class=\"a6 leaf node n3 sample\" transform=\"translate(-32.16 48.65)\"><path class=\"edge\" d=\"M 0 0 V -48.65 H 32.16\" /><rect class=\"sym\" height=\"6\" width=\"6\" x=\"-3\" y=\"-3\" /><text class=\"lab\" transform=\"translate(0 11)\">3</text></g><g class=\"a6 leaf m6 node n4 s5 sample\" transform=\"translate(32.16 48.65)\"><path class=\"edge\" d=\"M 0 0 V -48.65 H -32.16\" /><g class=\"mut m6 s5 unknown_time\" transform=\"translate(0 -24.325)\"><line x1=\"0\" x2=\"0\" y1=\"0\" y2=\"24.325\" /><path class=\"sym\" d=\"M -3,-3 l 6,6 M -3,3 l 6,-6\" /><text class=\"lab rgt\" transform=\"translate(5 0)\">5:C→T</text></g><rect class=\"sym\" height=\"6\" width=\"6\" x=\"-3\" y=\"-3\" /><text class=\"lab\" transform=\"translate(0 11)\">4</text></g><path class=\"edge\" d=\"M 0 0 V -24.325 H -48.24\" /><circle class=\"sym\" cx=\"0\" cy=\"0\" r=\"3\" /><text class=\"lab rgt\" transform=\"translate(3 -7.0)\">6</text></g><path class=\"edge\" d=\"M 0 0 V -48.65 H -56.28\" /><g class=\"mut m4 s3 unknown_time\" transform=\"translate(0 -24.325)\"><line x1=\"0\" x2=\"0\" y1=\"0\" y2=\"24.325\" /><path class=\"sym\" d=\"M -3,-3 l 6,6 M -3,3 l 6,-6\" /><text class=\"lab rgt\" transform=\"translate(5 0)\">3:T→A</text></g><circle class=\"sym\" cx=\"0\" cy=\"0\" r=\"3\" /><text class=\"lab rgt\" transform=\"translate(3 -7.0)\">7</text></g><path class=\"edge\" d=\"M 0 0 V -72.975 H -60.3\" /><g class=\"mut m3 s3 unknown_time\" transform=\"translate(0 -36.4875)\"><line x1=\"0\" x2=\"0\" y1=\"0\" y2=\"36.4875\" /><path class=\"sym\" d=\"M -3,-3 l 6,6 M -3,3 l 6,-6\" /><text class=\"lab rgt\" transform=\"translate(5 0)\">3:A→T</text></g><circle class=\"sym\" cx=\"0\" cy=\"0\" r=\"3\" /><text class=\"lab rgt\" transform=\"translate(3 -7.0)\">9</text></g><circle class=\"sym\" cx=\"0\" cy=\"0\" r=\"3\" /><text class=\"lab\" transform=\"translate(0 -11)\">12</text></g></g></g></g></g></svg>"
      ],
      "text/plain": [
       "'<svg baseProfile=\"full\" height=\"300\" version=\"1.1\" width=\"800\" xmlns=\"http://www.w3.org/2000/svg\" xmlns:ev=\"http://www.w3.org/2001/xml-events\" xmlns:xlink=\"http://www.w3.org/1999/xlink\"><defs><style type=\"text/css\"><![CDATA[.background path {fill: #808080; fill-opacity: 0}.background path:nth-child(odd) {fill-opacity: .1}.axes {font-size: 14px}.x-axis .tick .lab {font-weight: bold; dominant-baseline: hanging}.axes, .tree {font-size: 14px; text-anchor: middle}.axes line, .edge {stroke: black; fill: none}.y-axis .grid {stroke: #FAFAFA}.node > .sym {fill: black; stroke: none}.site > .sym {stroke: black}.mut text {fill: red; font-style: italic}.mut.extra text {fill: hotpink}.mut line {fill: none; stroke: none}.mut .sym {fill: none; stroke: red}.mut.extra .sym {stroke: hotpink}.node .mut .sym {stroke-width: 1.5px}.tree text, .tree-sequence text {dominant-baseline: central}.plotbox .lab.lft {text-anchor: end}.plotbox .lab.rgt {text-anchor: start}]]></style></defs><g class=\"tree-sequence\"><g class=\"background\"><path d=\"M56.8,0 l361.6,0 l0,238.2 l0,25 l0,5 l-361.6,0 l0,-5 l0,-25 l0,-238.2z\" /><path d=\"M418.4,0 l361.6,0 l0,238.2 l0,25 l0,5 l-361.6,0 l0,-5 l0,-25 l0,-238.2z\" /></g><g class=\"axes\"><g class=\"x-axis\"><g transform=\"translate(418.4 300)\"><text class=\"lab\" text-anchor=\"middle\" transform=\"translate(0 -11)\">Genome position</text></g><line x1=\"56.8\" x2=\"780\" y1=\"263.2\" y2=\"263.2\" /><g class=\"ticks\"><g class=\"tick\" transform=\"translate(56.8 263.2)\"><line x1=\"0\" x2=\"0\" y1=\"0\" y2=\"5\" /><g transform=\"translate(0 6)\"><text class=\"lab\">0</text></g></g><g class=\"tick\" transform=\"translate(418.4 263.2)\"><line x1=\"0\" x2=\"0\" y1=\"0\" y2=\"5\" /><g transform=\"translate(0 6)\"><text class=\"lab\">100</text></g></g><g class=\"tick\" transform=\"translate(780 263.2)\"><line x1=\"0\" x2=\"0\" y1=\"0\" y2=\"5\" /><g transform=\"translate(0 6)\"><text class=\"lab\">200</text></g></g></g><g class=\"site s0\" transform=\"translate(92.96 263.2)\"><line class=\"sym\" x1=\"0\" x2=\"0\" y1=\"0\" y2=\"-10\" /><g class=\"mut m0\"><polyline class=\"sym\" points=\"2.5,-6.5 0,-1.5 -2.5,-6.5\" /></g></g><g class=\"site s1\" transform=\"translate(165.28 263.2)\"><line class=\"sym\" x1=\"0\" x2=\"0\" y1=\"0\" y2=\"-10\" /><g class=\"mut m1\"><polyline class=\"sym\" points=\"2.5,-6.5 0,-1.5 -2.5,-6.5\" /></g></g><g class=\"site s2\" transform=\"translate(309.92 263.2)\"><line class=\"sym\" x1=\"0\" x2=\"0\" y1=\"0\" y2=\"-10\" /><g class=\"mut m2\"><polyline class=\"sym\" points=\"2.5,-6.5 0,-1.5 -2.5,-6.5\" /></g></g><g class=\"site s3\" transform=\"translate(454.56 263.2)\"><line class=\"sym\" x1=\"0\" x2=\"0\" y1=\"0\" y2=\"-10\" /><g class=\"mut m4\"><polyline class=\"sym\" points=\"2.5,-6.5 0,-1.5 -2.5,-6.5\" /></g><g class=\"mut m3\"><polyline class=\"sym\" points=\"2.5,-10.5 0,-5.5 -2.5,-10.5\" /></g></g><g class=\"site s4\" transform=\"translate(599.2 263.2)\"><line class=\"sym\" x1=\"0\" x2=\"0\" y1=\"0\" y2=\"-10\" /><g class=\"mut m5\"><polyline class=\"sym\" points=\"2.5,-6.5 0,-1.5 -2.5,-6.5\" /></g></g><g class=\"site s5\" transform=\"translate(671.52 263.2)\"><line class=\"sym\" x1=\"0\" x2=\"0\" y1=\"0\" y2=\"-10\" /><g class=\"mut m6\"><polyline class=\"sym\" points=\"2.5,-6.5 0,-1.5 -2.5,-6.5\" /></g></g></g><g class=\"y-axis\"><g transform=\"translate(0 115.7)\"><text class=\"lab\" text-anchor=\"middle\" transform=\"translate(11) rotate(-90)\">Time</text></g><line x1=\"56.8\" x2=\"56.8\" y1=\"221.4\" y2=\"10\" /><g class=\"ticks\"><g class=\"tick\" transform=\"translate(56.8 221.4)\"><line x1=\"0\" x2=\"-5\" y1=\"0\" y2=\"0\" /><g transform=\"translate(-6 0)\"><text class=\"lab\" text-anchor=\"end\">0</text></g></g><g class=\"tick\" transform=\"translate(56.8 197.075)\"><line x1=\"0\" x2=\"-5\" y1=\"0\" y2=\"0\" /><g transform=\"translate(-6 0)\"><text class=\"lab\" text-anchor=\"end\">1</text></g></g><g class=\"tick\" transform=\"translate(56.8 172.75)\"><line x1=\"0\" x2=\"-5\" y1=\"0\" y2=\"0\" /><g transform=\"translate(-6 0)\"><text class=\"lab\" text-anchor=\"end\">2</text></g></g><g class=\"tick\" transform=\"translate(56.8 148.425)\"><line x1=\"0\" x2=\"-5\" y1=\"0\" y2=\"0\" /><g transform=\"translate(-6 0)\"><text class=\"lab\" text-anchor=\"end\">3</text></g></g><g class=\"tick\" transform=\"translate(56.8 124.1)\"><line x1=\"0\" x2=\"-5\" y1=\"0\" y2=\"0\" /><g transform=\"translate(-6 0)\"><text class=\"lab\" text-anchor=\"end\">4</text></g></g><g class=\"tick\" transform=\"translate(56.8 99.775)\"><line x1=\"0\" x2=\"-5\" y1=\"0\" y2=\"0\" /><g transform=\"translate(-6 0)\"><text class=\"lab\" text-anchor=\"end\">5</text></g></g><g class=\"tick\" transform=\"translate(56.8 75.45)\"><line x1=\"0\" x2=\"-5\" y1=\"0\" y2=\"0\" /><g transform=\"translate(-6 0)\"><text class=\"lab\" text-anchor=\"end\">6</text></g></g><g class=\"tick\" transform=\"translate(56.8 51.125)\"><line x1=\"0\" x2=\"-5\" y1=\"0\" y2=\"0\" /><g transform=\"translate(-6 0)\"><text class=\"lab\" text-anchor=\"end\">7</text></g></g><g class=\"tick\" transform=\"translate(56.8 26.8)\"><line x1=\"0\" x2=\"-5\" y1=\"0\" y2=\"0\" /><g transform=\"translate(-6 0)\"><text class=\"lab\" text-anchor=\"end\">8</text></g></g></g></g></g><g class=\"plotbox trees\"><g class=\"tree t0\" transform=\"translate(56.8 0)\"><g class=\"plotbox\"><g class=\"c2 node n11 root\" transform=\"translate(172.76 51.125)\"><g class=\"a11 c2 m1 node n8 s1\" transform=\"translate(88.44 72.975)\"><g class=\"a8 leaf node n4 sample\" transform=\"translate(48.24 97.3)\"><path class=\"edge\" d=\"M 0 0 V -97.3 H -48.24\" /><rect class=\"sym\" height=\"6\" width=\"6\" x=\"-3\" y=\"-3\" /><text class=\"lab\" transform=\"translate(0 11)\">4</text></g><g class=\"a8 c2 node n5\" transform=\"translate(-48.24 72.975)\"><g class=\"a5 leaf node n2 sample\" transform=\"translate(-32.16 24.325)\"><path class=\"edge\" d=\"M 0 0 V -24.325 H 32.16\" /><rect class=\"sym\" height=\"6\" width=\"6\" x=\"-3\" y=\"-3\" /><text class=\"lab\" transform=\"translate(0 11)\">2</text></g><g class=\"a5 leaf m2 node n3 s2 sample\" transform=\"translate(32.16 24.325)\"><path class=\"edge\" d=\"M 0 0 V -24.325 H -32.16\" /><g class=\"mut m2 s2 unknown_time\" transform=\"translate(0 -12.1625)\"><line x1=\"0\" x2=\"0\" y1=\"0\" y2=\"12.1625\" /><path class=\"sym\" d=\"M -3,-3 l 6,6 M -3,3 l 6,-6\" /><text class=\"lab rgt\" transform=\"translate(5 0)\">2:G→T</text></g><rect class=\"sym\" height=\"6\" width=\"6\" x=\"-3\" y=\"-3\" /><text class=\"lab\" transform=\"translate(0 11)\">3</text></g><path class=\"edge\" d=\"M 0 0 V -72.975 H 48.24\" /><circle class=\"sym\" cx=\"0\" cy=\"0\" r=\"3\" /><text class=\"lab lft\" transform=\"translate(-3 -7.0)\">5</text></g><path class=\"edge\" d=\"M 0 0 V -72.975 H -88.44\" /><g class=\"mut m1 s1 unknown_time\" transform=\"translate(0 -36.4875)\"><line x1=\"0\" x2=\"0\" y1=\"0\" y2=\"36.4875\" /><path class=\"sym\" d=\"M -3,-3 l 6,6 M -3,3 l 6,-6\" /><text class=\"lab rgt\" transform=\"translate(5 0)\">1:C→T</text></g><circle class=\"sym\" cx=\"0\" cy=\"0\" r=\"3\" /><text class=\"lab rgt\" transform=\"translate(3 -7.0)\">8</text></g><g class=\"a11 c2 node n10\" transform=\"translate(-88.44 24.325)\"><g class=\"a10 leaf m0 node n0 s0 sample\" transform=\"translate(-32.16 145.95)\"><path class=\"edge\" d=\"M 0 0 V -145.95 H 32.16\" /><g class=\"mut m0 s0 unknown_time\" transform=\"translate(0 -72.975)\"><line x1=\"0\" x2=\"0\" y1=\"0\" y2=\"72.975\" /><path class=\"sym\" d=\"M -3,-3 l 6,6 M -3,3 l 6,-6\" /><text class=\"lab lft\" transform=\"translate(-5 0)\">0:A→T</text></g><rect class=\"sym\" height=\"6\" width=\"6\" x=\"-3\" y=\"-3\" /><text class=\"lab\" transform=\"translate(0 11)\">0</text></g><g class=\"a10 leaf node n1 sample\" transform=\"translate(32.16 145.95)\"><path class=\"edge\" d=\"M 0 0 V -145.95 H -32.16\" /><rect class=\"sym\" height=\"6\" width=\"6\" x=\"-3\" y=\"-3\" /><text class=\"lab\" transform=\"translate(0 11)\">1</text></g><path class=\"edge\" d=\"M 0 0 V -24.325 H 88.44\" /><circle class=\"sym\" cx=\"0\" cy=\"0\" r=\"3\" /><text class=\"lab lft\" transform=\"translate(-3 -7.0)\">10</text></g><circle class=\"sym\" cx=\"0\" cy=\"0\" r=\"3\" /><text class=\"lab\" transform=\"translate(0 -11)\">11</text></g></g></g><g class=\"tree t1\" transform=\"translate(418.4 0)\"><g class=\"plotbox\"><g class=\"c2 node n12 root\" transform=\"translate(112.46 26.8)\"><g class=\"a12 leaf node n0 sample\" transform=\"translate(-60.3 194.6)\"><path class=\"edge\" d=\"M 0 0 V -194.6 H 60.3\" /><rect class=\"sym\" height=\"6\" width=\"6\" x=\"-3\" y=\"-3\" /><text class=\"lab\" transform=\"translate(0 11)\">0</text></g><g class=\"a12 c2 m3 node n9 s3\" transform=\"translate(60.3 72.975)\"><g class=\"a9 leaf m5 node n1 s4 sample\" transform=\"translate(-56.28 121.625)\"><path class=\"edge\" d=\"M 0 0 V -121.625 H 56.28\" /><g class=\"mut m5 s4 unknown_time\" transform=\"translate(0 -60.8125)\"><line x1=\"0\" x2=\"0\" y1=\"0\" y2=\"60.8125\" /><path class=\"sym\" d=\"M -3,-3 l 6,6 M -3,3 l 6,-6\" /><text class=\"lab lft\" transform=\"translate(-5 0)\">4:G→T</text></g><rect class=\"sym\" height=\"6\" width=\"6\" x=\"-3\" y=\"-3\" /><text class=\"lab\" transform=\"translate(0 11)\">1</text></g><g class=\"a9 c2 m4 node n7 s3\" transform=\"translate(56.28 48.65)\"><g class=\"a7 leaf node n2 sample\" transform=\"translate(-48.24 72.975)\"><path class=\"edge\" d=\"M 0 0 V -72.975 H 48.24\" /><rect class=\"sym\" height=\"6\" width=\"6\" x=\"-3\" y=\"-3\" /><text class=\"lab\" transform=\"translate(0 11)\">2</text></g><g class=\"a7 c2 node n6\" transform=\"translate(48.24 24.325)\"><g class=\"a6 leaf node n3 sample\" transform=\"translate(-32.16 48.65)\"><path class=\"edge\" d=\"M 0 0 V -48.65 H 32.16\" /><rect class=\"sym\" height=\"6\" width=\"6\" x=\"-3\" y=\"-3\" /><text class=\"lab\" transform=\"translate(0 11)\">3</text></g><g class=\"a6 leaf m6 node n4 s5 sample\" transform=\"translate(32.16 48.65)\"><path class=\"edge\" d=\"M 0 0 V -48.65 H -32.16\" /><g class=\"mut m6 s5 unknown_time\" transform=\"translate(0 -24.325)\"><line x1=\"0\" x2=\"0\" y1=\"0\" y2=\"24.325\" /><path class=\"sym\" d=\"M -3,-3 l 6,6 M -3,3 l 6,-6\" /><text class=\"lab rgt\" transform=\"translate(5 0)\">5:C→T</text></g><rect class=\"sym\" height=\"6\" width=\"6\" x=\"-3\" y=\"-3\" /><text class=\"lab\" transform=\"translate(0 11)\">4</text></g><path class=\"edge\" d=\"M 0 0 V -24.325 H -48.24\" /><circle class=\"sym\" cx=\"0\" cy=\"0\" r=\"3\" /><text class=\"lab rgt\" transform=\"translate(3 -7.0)\">6</text></g><path class=\"edge\" d=\"M 0 0 V -48.65 H -56.28\" /><g class=\"mut m4 s3 unknown_time\" transform=\"translate(0 -24.325)\"><line x1=\"0\" x2=\"0\" y1=\"0\" y2=\"24.325\" /><path class=\"sym\" d=\"M -3,-3 l 6,6 M -3,3 l 6,-6\" /><text class=\"lab rgt\" transform=\"translate(5 0)\">3:T→A</text></g><circle class=\"sym\" cx=\"0\" cy=\"0\" r=\"3\" /><text class=\"lab rgt\" transform=\"translate(3 -7.0)\">7</text></g><path class=\"edge\" d=\"M 0 0 V -72.975 H -60.3\" /><g class=\"mut m3 s3 unknown_time\" transform=\"translate(0 -36.4875)\"><line x1=\"0\" x2=\"0\" y1=\"0\" y2=\"36.4875\" /><path class=\"sym\" d=\"M -3,-3 l 6,6 M -3,3 l 6,-6\" /><text class=\"lab rgt\" transform=\"translate(5 0)\">3:A→T</text></g><circle class=\"sym\" cx=\"0\" cy=\"0\" r=\"3\" /><text class=\"lab rgt\" transform=\"translate(3 -7.0)\">9</text></g><circle class=\"sym\" cx=\"0\" cy=\"0\" r=\"3\" /><text class=\"lab\" transform=\"translate(0 -11)\">12</text></g></g></g></g></g></svg>'"
      ]
     },
     "execution_count": 73,
     "metadata": {},
     "output_type": "execute_result"
    }
   ],
   "source": [
    "import tskit\n",
    "import io\n",
    "\n",
    "nodes = \"\"\"\\\n",
    "is_sample time\n",
    "1         0 \n",
    "1         0\n",
    "1         0\n",
    "1         0\n",
    "1         0\n",
    "0         1\n",
    "0         2\n",
    "0         3\n",
    "0         4\n",
    "0         5\n",
    "0         6\n",
    "0         7\n",
    "0         8\n",
    "\"\"\"\n",
    "\n",
    "edges = \"\"\"\\\n",
    "left right parent child\n",
    "0    100   10      0,1\n",
    "0    100   5      2,3\n",
    "0    100   8      4,5\n",
    "0    100   11     8,10\n",
    "100  200   12     0,9\n",
    "100  200   9      1,7\n",
    "100  200   7      2,6\n",
    "100  200   6      3,4\n",
    "\"\"\"\n",
    "\n",
    "sites = \"\"\"\\\n",
    "position ancestral_state\n",
    "10       A\n",
    "30       C\n",
    "70       G\n",
    "110      A\n",
    "150      G\n",
    "170      C\n",
    "\"\"\"\n",
    "\n",
    "mutations = \"\"\"\\\n",
    "site node parent derived_state\n",
    "0    0    -1     T\n",
    "1    8    -1     T\n",
    "2    3    -1     T\n",
    "4    1    -1     T\n",
    "5    4    -1     T\n",
    "3    9    -1     T\n",
    "3    7    5      A\n",
    "\"\"\"\n",
    "\n",
    "ts = tskit.load_text(\n",
    "    nodes=io.StringIO(nodes),\n",
    "    edges=io.StringIO(edges),\n",
    "    sites=io.StringIO(sites),\n",
    "    # individuals=io.StringIO(individuals),\n",
    "    mutations=io.StringIO(mutations),\n",
    "    strict=False,\n",
    ")\n",
    "\n",
    "mut_labels = {}  # An array of labels for the mutations\n",
    "for mut in ts.mutations():  # Make pretty labels showing the change in state\n",
    "    site = ts.site(mut.site)\n",
    "    older_mut = mut.parent >= 0  # is there an older mutation at the same position?\n",
    "    prev = ts.mutation(mut.parent).derived_state if older_mut else site.ancestral_state\n",
    "    mut_labels[mut.id] = f\"{site.id}:{prev}→{mut.derived_state}\"\n",
    "\n",
    "ts.draw_svg(\n",
    "    size=(800, 300),\n",
    "    y_axis=True,\n",
    "    mutation_labels=mut_labels\n",
    ")"
   ]
  },
  {
   "cell_type": "code",
   "execution_count": 74,
   "id": "fa7d4e9c-3793-4d24-af90-1034eb9e8fe1",
   "metadata": {},
   "outputs": [
    {
     "data": {
      "text/plain": [
       "array([[1, 0, 0, 0, 0],\n",
       "       [0, 0, 1, 1, 1],\n",
       "       [0, 0, 0, 1, 0],\n",
       "       [0, 1, 0, 0, 0],\n",
       "       [0, 1, 0, 0, 0],\n",
       "       [0, 0, 0, 0, 1]])"
      ]
     },
     "execution_count": 74,
     "metadata": {},
     "output_type": "execute_result"
    }
   ],
   "source": [
    "get_state(ts)"
   ]
  },
  {
   "cell_type": "code",
   "execution_count": 85,
   "id": "2db3a482-d143-40ed-a71f-3f04e4572bbd",
   "metadata": {},
   "outputs": [],
   "source": [
    "import numpy as np"
   ]
  },
  {
   "cell_type": "code",
   "execution_count": 91,
   "id": "329465d0-5b8f-40d8-ac49-1fb1d48c8358",
   "metadata": {},
   "outputs": [
    {
     "name": "stdout",
     "output_type": "stream",
     "text": [
      "[0 1 2 3 4]\n"
     ]
    }
   ],
   "source": [
    "for s in np.asarray([ts.samples()]):\n",
    "    print(s)"
   ]
  },
  {
   "cell_type": "code",
   "execution_count": 96,
   "id": "a6f0cfbe-340a-46a8-a3d2-ed555eaa452c",
   "metadata": {},
   "outputs": [
    {
     "data": {
      "text/plain": [
       "False"
      ]
     },
     "execution_count": 96,
     "metadata": {},
     "output_type": "execute_result"
    }
   ],
   "source": [
    "ts.diversity()"
   ]
  },
  {
   "cell_type": "code",
   "execution_count": 97,
   "id": "2e35a85b-da53-4c87-88f8-0f63de0f6190",
   "metadata": {},
   "outputs": [
    {
     "data": {
      "text/plain": [
       "1"
      ]
     },
     "execution_count": 97,
     "metadata": {},
     "output_type": "execute_result"
    }
   ],
   "source": [
    "len(np.asarray([ts.samples()]))"
   ]
  },
  {
   "cell_type": "code",
   "execution_count": 108,
   "id": "c3ba3e38-3f08-4d81-82f2-2278d2ff21eb",
   "metadata": {},
   "outputs": [
    {
     "data": {
      "text/plain": [
       "array([0.015     , 0.00666667])"
      ]
     },
     "execution_count": 108,
     "metadata": {},
     "output_type": "execute_result"
    }
   ],
   "source": [
    "ts.diversity(sample_sets=[[0, 1], [2, 3, 4]])"
   ]
  },
  {
   "cell_type": "code",
   "execution_count": null,
   "id": "204c49c5-6aec-4a4b-ae85-bbb1243c7e13",
   "metadata": {},
   "outputs": [],
   "source": []
  }
 ],
 "metadata": {
  "kernelspec": {
   "display_name": "tskit-dev-1",
   "language": "python",
   "name": "tskit-dev-1"
  },
  "language_info": {
   "codemirror_mode": {
    "name": "ipython",
    "version": 3
   },
   "file_extension": ".py",
   "mimetype": "text/x-python",
   "name": "python",
   "nbconvert_exporter": "python",
   "pygments_lexer": "ipython3",
   "version": "3.9.13"
  }
 },
 "nbformat": 4,
 "nbformat_minor": 5
}
