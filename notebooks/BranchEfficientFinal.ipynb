{
 "cells": [
  {
   "cell_type": "code",
   "execution_count": 1,
   "id": "4af7c84a-6980-4e56-9ef2-1acb98a77827",
   "metadata": {},
   "outputs": [
    {
     "data": {
      "image/svg+xml": [
       "<svg baseProfile=\"full\" height=\"200\" version=\"1.1\" width=\"400\" xmlns=\"http://www.w3.org/2000/svg\" xmlns:ev=\"http://www.w3.org/2001/xml-events\" xmlns:xlink=\"http://www.w3.org/1999/xlink\"><defs><style type=\"text/css\"><![CDATA[.background path {fill: #808080; fill-opacity: 0}.background path:nth-child(odd) {fill-opacity: .1}.axes {font-size: 14px}.x-axis .tick .lab {font-weight: bold; dominant-baseline: hanging}.axes, .tree {font-size: 14px; text-anchor: middle}.axes line, .edge {stroke: black; fill: none}.axes .ax-skip {stroke-dasharray: 4}.y-axis .grid {stroke: #FAFAFA}.node > .sym {fill: black; stroke: none}.site > .sym {stroke: black}.mut text {fill: red; font-style: italic}.mut.extra text {fill: hotpink}.mut line {fill: none; stroke: none}.mut .sym {fill: none; stroke: red}.mut.extra .sym {stroke: hotpink}.node .mut .sym {stroke-width: 1.5px}.tree text, .tree-sequence text {dominant-baseline: central}.plotbox .lab.lft {text-anchor: end}.plotbox .lab.rgt {text-anchor: start}]]></style></defs><g class=\"tree-sequence\"><g class=\"background\"><path d=\"M56.8,0 l161.6,0 l0,138.2 l2.84217e-14,25 l0,5 l-161.6,0 l0,-5 l0,-25 l0,-138.2z\" /><path d=\"M218.4,0 l161.6,0 l0,138.2 l0,25 l0,5 l-161.6,0 l0,-5 l0,-25 l0,-138.2z\" /></g><g class=\"axes\"><g class=\"x-axis\"><g class=\"title\" transform=\"translate(218.4 200)\"><text class=\"lab\" text-anchor=\"middle\" transform=\"translate(0 -11)\">Genome position</text></g><line class=\"ax-line\" x1=\"56.8\" x2=\"380\" y1=\"163.2\" y2=\"163.2\" /><g class=\"ticks\"><g class=\"tick\" transform=\"translate(56.8 163.2)\"><line x1=\"0\" x2=\"0\" y1=\"0\" y2=\"5\" /><g transform=\"translate(0 6)\"><text class=\"lab\">0</text></g></g><g class=\"tick\" transform=\"translate(218.4 163.2)\"><line x1=\"0\" x2=\"0\" y1=\"0\" y2=\"5\" /><g transform=\"translate(0 6)\"><text class=\"lab\">10</text></g></g><g class=\"tick\" transform=\"translate(380 163.2)\"><line x1=\"0\" x2=\"0\" y1=\"0\" y2=\"5\" /><g transform=\"translate(0 6)\"><text class=\"lab\">20</text></g></g></g></g><g class=\"y-axis\"><g class=\"title\" transform=\"translate(0 65.7)\"><text class=\"lab\" text-anchor=\"middle\" transform=\"translate(11) rotate(-90)\">Time</text></g><line class=\"ax-line\" x1=\"56.8\" x2=\"56.8\" y1=\"121.4\" y2=\"10\" /><g class=\"ticks\"><g class=\"tick\" transform=\"translate(56.8 121.4)\"><line x1=\"0\" x2=\"-5\" y1=\"0\" y2=\"0\" /><g transform=\"translate(-6 0)\"><text class=\"lab\" text-anchor=\"end\">0</text></g></g><g class=\"tick\" transform=\"translate(56.8 94.3714)\"><line x1=\"0\" x2=\"-5\" y1=\"0\" y2=\"0\" /><g transform=\"translate(-6 0)\"><text class=\"lab\" text-anchor=\"end\">2</text></g></g><g class=\"tick\" transform=\"translate(56.8 80.8571)\"><line x1=\"0\" x2=\"-5\" y1=\"0\" y2=\"0\" /><g transform=\"translate(-6 0)\"><text class=\"lab\" text-anchor=\"end\">3</text></g></g><g class=\"tick\" transform=\"translate(56.8 67.3429)\"><line x1=\"0\" x2=\"-5\" y1=\"0\" y2=\"0\" /><g transform=\"translate(-6 0)\"><text class=\"lab\" text-anchor=\"end\">4</text></g></g><g class=\"tick\" transform=\"translate(56.8 40.3143)\"><line x1=\"0\" x2=\"-5\" y1=\"0\" y2=\"0\" /><g transform=\"translate(-6 0)\"><text class=\"lab\" text-anchor=\"end\">6</text></g></g><g class=\"tick\" transform=\"translate(56.8 26.8)\"><line x1=\"0\" x2=\"-5\" y1=\"0\" y2=\"0\" /><g transform=\"translate(-6 0)\"><text class=\"lab\" text-anchor=\"end\">7</text></g></g></g></g></g><g class=\"plotbox trees\"><g class=\"tree t0\" transform=\"translate(56.8 0)\"><g class=\"plotbox\"><g class=\"c2 node n9 root\" transform=\"translate(89.92 26.8)\"><g class=\"a9 c2 node n6\" transform=\"translate(27.36 54.0571)\"><g class=\"a6 leaf node n3 sample\" transform=\"translate(-12.16 40.5429)\"><path class=\"edge\" d=\"M 0 0 V -40.5429 H 12.16\" /><rect class=\"sym\" height=\"6\" width=\"6\" x=\"-3\" y=\"-3\" /><text class=\"lab\" transform=\"translate(0 11)\">3</text></g><g class=\"a6 leaf node n4 sample\" transform=\"translate(12.16 40.5429)\"><path class=\"edge\" d=\"M 0 0 V -40.5429 H -12.16\" /><rect class=\"sym\" height=\"6\" width=\"6\" x=\"-3\" y=\"-3\" /><text class=\"lab\" transform=\"translate(0 11)\">4</text></g><path class=\"edge\" d=\"M 0 0 V -54.0571 H -27.36\" /><circle class=\"sym\" cx=\"0\" cy=\"0\" r=\"3\" /><text class=\"lab rgt\" transform=\"translate(3 -7.0)\">6</text></g><g class=\"a9 c2 node n7\" transform=\"translate(-27.36 40.5429)\"><g class=\"a7 leaf node n2 sample\" transform=\"translate(18.24 54.0571)\"><path class=\"edge\" d=\"M 0 0 V -54.0571 H -18.24\" /><rect class=\"sym\" height=\"6\" width=\"6\" x=\"-3\" y=\"-3\" /><text class=\"lab\" transform=\"translate(0 11)\">2</text></g><g class=\"a7 c2 node n5\" transform=\"translate(-18.24 27.0286)\"><g class=\"a5 leaf node n0 sample\" transform=\"translate(-12.16 27.0286)\"><path class=\"edge\" d=\"M 0 0 V -27.0286 H 12.16\" /><rect class=\"sym\" height=\"6\" width=\"6\" x=\"-3\" y=\"-3\" /><text class=\"lab\" transform=\"translate(0 11)\">0</text></g><g class=\"a5 leaf node n1 sample\" transform=\"translate(12.16 27.0286)\"><path class=\"edge\" d=\"M 0 0 V -27.0286 H -12.16\" /><rect class=\"sym\" height=\"6\" width=\"6\" x=\"-3\" y=\"-3\" /><text class=\"lab\" transform=\"translate(0 11)\">1</text></g><path class=\"edge\" d=\"M 0 0 V -27.0286 H 18.24\" /><circle class=\"sym\" cx=\"0\" cy=\"0\" r=\"3\" /><text class=\"lab lft\" transform=\"translate(-3 -7.0)\">5</text></g><path class=\"edge\" d=\"M 0 0 V -40.5429 H 27.36\" /><circle class=\"sym\" cx=\"0\" cy=\"0\" r=\"3\" /><text class=\"lab lft\" transform=\"translate(-3 -7.0)\">7</text></g><circle class=\"sym\" cx=\"0\" cy=\"0\" r=\"3\" /><text class=\"lab\" transform=\"translate(0 -11)\">9</text></g></g></g><g class=\"tree t1\" transform=\"translate(218.4 0)\"><g class=\"plotbox\"><g class=\"c2 node n9 root\" transform=\"translate(106.64 26.8)\"><g class=\"a9 leaf node n4 sample\" transform=\"translate(22.8 94.6)\"><path class=\"edge\" d=\"M 0 0 V -94.6 H -22.8\" /><rect class=\"sym\" height=\"6\" width=\"6\" x=\"-3\" y=\"-3\" /><text class=\"lab\" transform=\"translate(0 11)\">4</text></g><g class=\"a9 c2 node n8\" transform=\"translate(-22.8 13.5143)\"><g class=\"a8 leaf node n3 sample\" transform=\"translate(21.28 81.0857)\"><path class=\"edge\" d=\"M 0 0 V -81.0857 H -21.28\" /><rect class=\"sym\" height=\"6\" width=\"6\" x=\"-3\" y=\"-3\" /><text class=\"lab\" transform=\"translate(0 11)\">3</text></g><g class=\"a8 c2 node n7\" transform=\"translate(-21.28 27.0286)\"><g class=\"a7 leaf node n2 sample\" transform=\"translate(18.24 54.0571)\"><path class=\"edge\" d=\"M 0 0 V -54.0571 H -18.24\" /><rect class=\"sym\" height=\"6\" width=\"6\" x=\"-3\" y=\"-3\" /><text class=\"lab\" transform=\"translate(0 11)\">2</text></g><g class=\"a7 c2 node n5\" transform=\"translate(-18.24 27.0286)\"><g class=\"a5 leaf node n0 sample\" transform=\"translate(-12.16 27.0286)\"><path class=\"edge\" d=\"M 0 0 V -27.0286 H 12.16\" /><rect class=\"sym\" height=\"6\" width=\"6\" x=\"-3\" y=\"-3\" /><text class=\"lab\" transform=\"translate(0 11)\">0</text></g><g class=\"a5 leaf node n1 sample\" transform=\"translate(12.16 27.0286)\"><path class=\"edge\" d=\"M 0 0 V -27.0286 H -12.16\" /><rect class=\"sym\" height=\"6\" width=\"6\" x=\"-3\" y=\"-3\" /><text class=\"lab\" transform=\"translate(0 11)\">1</text></g><path class=\"edge\" d=\"M 0 0 V -27.0286 H 18.24\" /><circle class=\"sym\" cx=\"0\" cy=\"0\" r=\"3\" /><text class=\"lab lft\" transform=\"translate(-3 -7.0)\">5</text></g><path class=\"edge\" d=\"M 0 0 V -27.0286 H 21.28\" /><circle class=\"sym\" cx=\"0\" cy=\"0\" r=\"3\" /><text class=\"lab lft\" transform=\"translate(-3 -7.0)\">7</text></g><path class=\"edge\" d=\"M 0 0 V -13.5143 H 22.8\" /><circle class=\"sym\" cx=\"0\" cy=\"0\" r=\"3\" /><text class=\"lab lft\" transform=\"translate(-3 -7.0)\">8</text></g><circle class=\"sym\" cx=\"0\" cy=\"0\" r=\"3\" /><text class=\"lab\" transform=\"translate(0 -11)\">9</text></g></g></g></g></g></svg>"
      ],
      "text/plain": [
       "'<svg baseProfile=\"full\" height=\"200\" version=\"1.1\" width=\"400\" xmlns=\"http://www.w3.org/2000/svg\" xmlns:ev=\"http://www.w3.org/2001/xml-events\" xmlns:xlink=\"http://www.w3.org/1999/xlink\"><defs><style type=\"text/css\"><![CDATA[.background path {fill: #808080; fill-opacity: 0}.background path:nth-child(odd) {fill-opacity: .1}.axes {font-size: 14px}.x-axis .tick .lab {font-weight: bold; dominant-baseline: hanging}.axes, .tree {font-size: 14px; text-anchor: middle}.axes line, .edge {stroke: black; fill: none}.axes .ax-skip {stroke-dasharray: 4}.y-axis .grid {stroke: #FAFAFA}.node > .sym {fill: black; stroke: none}.site > .sym {stroke: black}.mut text {fill: red; font-style: italic}.mut.extra text {fill: hotpink}.mut line {fill: none; stroke: none}.mut .sym {fill: none; stroke: red}.mut.extra .sym {stroke: hotpink}.node .mut .sym {stroke-width: 1.5px}.tree text, .tree-sequence text {dominant-baseline: central}.plotbox .lab.lft {text-anchor: end}.plotbox .lab.rgt {text-anchor: start}]]></style></defs><g class=\"tree-sequence\"><g class=\"background\"><path d=\"M56.8,0 l161.6,0 l0,138.2 l2.84217e-14,25 l0,5 l-161.6,0 l0,-5 l0,-25 l0,-138.2z\" /><path d=\"M218.4,0 l161.6,0 l0,138.2 l0,25 l0,5 l-161.6,0 l0,-5 l0,-25 l0,-138.2z\" /></g><g class=\"axes\"><g class=\"x-axis\"><g class=\"title\" transform=\"translate(218.4 200)\"><text class=\"lab\" text-anchor=\"middle\" transform=\"translate(0 -11)\">Genome position</text></g><line class=\"ax-line\" x1=\"56.8\" x2=\"380\" y1=\"163.2\" y2=\"163.2\" /><g class=\"ticks\"><g class=\"tick\" transform=\"translate(56.8 163.2)\"><line x1=\"0\" x2=\"0\" y1=\"0\" y2=\"5\" /><g transform=\"translate(0 6)\"><text class=\"lab\">0</text></g></g><g class=\"tick\" transform=\"translate(218.4 163.2)\"><line x1=\"0\" x2=\"0\" y1=\"0\" y2=\"5\" /><g transform=\"translate(0 6)\"><text class=\"lab\">10</text></g></g><g class=\"tick\" transform=\"translate(380 163.2)\"><line x1=\"0\" x2=\"0\" y1=\"0\" y2=\"5\" /><g transform=\"translate(0 6)\"><text class=\"lab\">20</text></g></g></g></g><g class=\"y-axis\"><g class=\"title\" transform=\"translate(0 65.7)\"><text class=\"lab\" text-anchor=\"middle\" transform=\"translate(11) rotate(-90)\">Time</text></g><line class=\"ax-line\" x1=\"56.8\" x2=\"56.8\" y1=\"121.4\" y2=\"10\" /><g class=\"ticks\"><g class=\"tick\" transform=\"translate(56.8 121.4)\"><line x1=\"0\" x2=\"-5\" y1=\"0\" y2=\"0\" /><g transform=\"translate(-6 0)\"><text class=\"lab\" text-anchor=\"end\">0</text></g></g><g class=\"tick\" transform=\"translate(56.8 94.3714)\"><line x1=\"0\" x2=\"-5\" y1=\"0\" y2=\"0\" /><g transform=\"translate(-6 0)\"><text class=\"lab\" text-anchor=\"end\">2</text></g></g><g class=\"tick\" transform=\"translate(56.8 80.8571)\"><line x1=\"0\" x2=\"-5\" y1=\"0\" y2=\"0\" /><g transform=\"translate(-6 0)\"><text class=\"lab\" text-anchor=\"end\">3</text></g></g><g class=\"tick\" transform=\"translate(56.8 67.3429)\"><line x1=\"0\" x2=\"-5\" y1=\"0\" y2=\"0\" /><g transform=\"translate(-6 0)\"><text class=\"lab\" text-anchor=\"end\">4</text></g></g><g class=\"tick\" transform=\"translate(56.8 40.3143)\"><line x1=\"0\" x2=\"-5\" y1=\"0\" y2=\"0\" /><g transform=\"translate(-6 0)\"><text class=\"lab\" text-anchor=\"end\">6</text></g></g><g class=\"tick\" transform=\"translate(56.8 26.8)\"><line x1=\"0\" x2=\"-5\" y1=\"0\" y2=\"0\" /><g transform=\"translate(-6 0)\"><text class=\"lab\" text-anchor=\"end\">7</text></g></g></g></g></g><g class=\"plotbox trees\"><g class=\"tree t0\" transform=\"translate(56.8 0)\"><g class=\"plotbox\"><g class=\"c2 node n9 root\" transform=\"translate(89.92 26.8)\"><g class=\"a9 c2 node n6\" transform=\"translate(27.36 54.0571)\"><g class=\"a6 leaf node n3 sample\" transform=\"translate(-12.16 40.5429)\"><path class=\"edge\" d=\"M 0 0 V -40.5429 H 12.16\" /><rect class=\"sym\" height=\"6\" width=\"6\" x=\"-3\" y=\"-3\" /><text class=\"lab\" transform=\"translate(0 11)\">3</text></g><g class=\"a6 leaf node n4 sample\" transform=\"translate(12.16 40.5429)\"><path class=\"edge\" d=\"M 0 0 V -40.5429 H -12.16\" /><rect class=\"sym\" height=\"6\" width=\"6\" x=\"-3\" y=\"-3\" /><text class=\"lab\" transform=\"translate(0 11)\">4</text></g><path class=\"edge\" d=\"M 0 0 V -54.0571 H -27.36\" /><circle class=\"sym\" cx=\"0\" cy=\"0\" r=\"3\" /><text class=\"lab rgt\" transform=\"translate(3 -7.0)\">6</text></g><g class=\"a9 c2 node n7\" transform=\"translate(-27.36 40.5429)\"><g class=\"a7 leaf node n2 sample\" transform=\"translate(18.24 54.0571)\"><path class=\"edge\" d=\"M 0 0 V -54.0571 H -18.24\" /><rect class=\"sym\" height=\"6\" width=\"6\" x=\"-3\" y=\"-3\" /><text class=\"lab\" transform=\"translate(0 11)\">2</text></g><g class=\"a7 c2 node n5\" transform=\"translate(-18.24 27.0286)\"><g class=\"a5 leaf node n0 sample\" transform=\"translate(-12.16 27.0286)\"><path class=\"edge\" d=\"M 0 0 V -27.0286 H 12.16\" /><rect class=\"sym\" height=\"6\" width=\"6\" x=\"-3\" y=\"-3\" /><text class=\"lab\" transform=\"translate(0 11)\">0</text></g><g class=\"a5 leaf node n1 sample\" transform=\"translate(12.16 27.0286)\"><path class=\"edge\" d=\"M 0 0 V -27.0286 H -12.16\" /><rect class=\"sym\" height=\"6\" width=\"6\" x=\"-3\" y=\"-3\" /><text class=\"lab\" transform=\"translate(0 11)\">1</text></g><path class=\"edge\" d=\"M 0 0 V -27.0286 H 18.24\" /><circle class=\"sym\" cx=\"0\" cy=\"0\" r=\"3\" /><text class=\"lab lft\" transform=\"translate(-3 -7.0)\">5</text></g><path class=\"edge\" d=\"M 0 0 V -40.5429 H 27.36\" /><circle class=\"sym\" cx=\"0\" cy=\"0\" r=\"3\" /><text class=\"lab lft\" transform=\"translate(-3 -7.0)\">7</text></g><circle class=\"sym\" cx=\"0\" cy=\"0\" r=\"3\" /><text class=\"lab\" transform=\"translate(0 -11)\">9</text></g></g></g><g class=\"tree t1\" transform=\"translate(218.4 0)\"><g class=\"plotbox\"><g class=\"c2 node n9 root\" transform=\"translate(106.64 26.8)\"><g class=\"a9 leaf node n4 sample\" transform=\"translate(22.8 94.6)\"><path class=\"edge\" d=\"M 0 0 V -94.6 H -22.8\" /><rect class=\"sym\" height=\"6\" width=\"6\" x=\"-3\" y=\"-3\" /><text class=\"lab\" transform=\"translate(0 11)\">4</text></g><g class=\"a9 c2 node n8\" transform=\"translate(-22.8 13.5143)\"><g class=\"a8 leaf node n3 sample\" transform=\"translate(21.28 81.0857)\"><path class=\"edge\" d=\"M 0 0 V -81.0857 H -21.28\" /><rect class=\"sym\" height=\"6\" width=\"6\" x=\"-3\" y=\"-3\" /><text class=\"lab\" transform=\"translate(0 11)\">3</text></g><g class=\"a8 c2 node n7\" transform=\"translate(-21.28 27.0286)\"><g class=\"a7 leaf node n2 sample\" transform=\"translate(18.24 54.0571)\"><path class=\"edge\" d=\"M 0 0 V -54.0571 H -18.24\" /><rect class=\"sym\" height=\"6\" width=\"6\" x=\"-3\" y=\"-3\" /><text class=\"lab\" transform=\"translate(0 11)\">2</text></g><g class=\"a7 c2 node n5\" transform=\"translate(-18.24 27.0286)\"><g class=\"a5 leaf node n0 sample\" transform=\"translate(-12.16 27.0286)\"><path class=\"edge\" d=\"M 0 0 V -27.0286 H 12.16\" /><rect class=\"sym\" height=\"6\" width=\"6\" x=\"-3\" y=\"-3\" /><text class=\"lab\" transform=\"translate(0 11)\">0</text></g><g class=\"a5 leaf node n1 sample\" transform=\"translate(12.16 27.0286)\"><path class=\"edge\" d=\"M 0 0 V -27.0286 H -12.16\" /><rect class=\"sym\" height=\"6\" width=\"6\" x=\"-3\" y=\"-3\" /><text class=\"lab\" transform=\"translate(0 11)\">1</text></g><path class=\"edge\" d=\"M 0 0 V -27.0286 H 18.24\" /><circle class=\"sym\" cx=\"0\" cy=\"0\" r=\"3\" /><text class=\"lab lft\" transform=\"translate(-3 -7.0)\">5</text></g><path class=\"edge\" d=\"M 0 0 V -27.0286 H 21.28\" /><circle class=\"sym\" cx=\"0\" cy=\"0\" r=\"3\" /><text class=\"lab lft\" transform=\"translate(-3 -7.0)\">7</text></g><path class=\"edge\" d=\"M 0 0 V -13.5143 H 22.8\" /><circle class=\"sym\" cx=\"0\" cy=\"0\" r=\"3\" /><text class=\"lab lft\" transform=\"translate(-3 -7.0)\">8</text></g><circle class=\"sym\" cx=\"0\" cy=\"0\" r=\"3\" /><text class=\"lab\" transform=\"translate(0 -11)\">9</text></g></g></g></g></g></svg>'"
      ]
     },
     "execution_count": 1,
     "metadata": {},
     "output_type": "execute_result"
    }
   ],
   "source": [
    "import io\n",
    "import tskit\n",
    "\n",
    "nodes = \"\"\"\\\n",
    "is_sample time\n",
    "1         0\n",
    "1         0\n",
    "1         0\n",
    "1         0\n",
    "1         0\n",
    "0         2\n",
    "0         3\n",
    "0         4\n",
    "0         6\n",
    "0         7\n",
    "\"\"\"\n",
    "\n",
    "edges = \"\"\"\\\n",
    "left   right   parent  child\n",
    "0      20      5       0,1\n",
    "0      10      6       3,4\n",
    "0      20      7       5,2\n",
    "0      10      9       7,6\n",
    "10     20      8       7,3\n",
    "10     20      9       8,4\n",
    "\"\"\"\n",
    "\n",
    "# nodes = \"\"\"\\\n",
    "# is_sample time\n",
    "# 1         0\n",
    "# 1         0\n",
    "# 1         0\n",
    "# 1         0\n",
    "# 0         4\n",
    "# 0         5\n",
    "# 0         6\n",
    "# 0         7\n",
    "# \"\"\"\n",
    "# edges = \"\"\"\\\n",
    "# left   right   parent  child\n",
    "# 0      2       4       0,1\n",
    "# 0      2       5       2,3\n",
    "# 0      1       6       4,5\n",
    "# 1      2       7       4,5\n",
    "# \"\"\"\n",
    "\n",
    "# sites = \"\"\"\\\n",
    "# position ancestral_state\n",
    "# \"\"\"\n",
    "\n",
    "# mutations = \"\"\"\\\n",
    "# site node parent derived_state\n",
    "# \"\"\"\n",
    "\n",
    "ts = tskit.load_text(\n",
    "    nodes=io.StringIO(nodes),\n",
    "    edges=io.StringIO(edges),\n",
    "    # sites=io.StringIO(sites),\n",
    "    # mutations=io.StringIO(mutations),\n",
    "    strict=False,\n",
    ")\n",
    "\n",
    "ts.draw_svg(y_axis=True)"
   ]
  },
  {
   "cell_type": "code",
   "execution_count": 3,
   "id": "69de0659-41f8-4d06-ae47-d340824020bd",
   "metadata": {},
   "outputs": [],
   "source": [
    "def get_weights(A, B):\n",
    "    w_AB = A & B\n",
    "    w_Ab = A - w_AB\n",
    "    w_aB = B - w_AB\n",
    "    return tuple(map(len, (w_AB, w_Ab, w_aB)))"
   ]
  },
  {
   "cell_type": "code",
   "execution_count": 226,
   "id": "7772c948-2ca9-4475-922b-b0ef19b9c500",
   "metadata": {},
   "outputs": [],
   "source": [
    "from math import prod\n",
    "def sample(val, n):\n",
    "    \"\"\"\n",
    "    Perform ordered sampling without replacement\n",
    "    \"\"\"\n",
    "    assert n > 0, \"not valid for n < 1\"\n",
    "    vals = []\n",
    "    while n:\n",
    "        vals.append(val)\n",
    "        val -= 1\n",
    "        n -= 1\n",
    "    return prod(vals)\n",
    "\n",
    "def F_ijij(w_AB, w_Ab, w_aB, n):\n",
    "    return (\n",
    "        sample(w_AB, 2) / sample(n, 2)\n",
    "    )\n",
    "\n",
    "def F_ijik(w_AB, w_Ab, w_aB, n):\n",
    "    return (\n",
    "        (sample(w_AB, 3)) +\n",
    "        (sample(w_AB, 2) * sample(w_Ab, 1)) +\n",
    "        (sample(w_AB, 2) * sample(w_aB, 1)) +\n",
    "        (sample(w_AB, 1) * sample(w_Ab, 1) * sample(w_aB, 1))\n",
    "    ) / sample(n, 3)\n",
    "\n",
    "def F_ijkl(w_AB, w_Ab, w_aB, n):\n",
    "    return (\n",
    "        (1 * (sample(w_AB, 4))) +\n",
    "        (2 * (sample(w_AB, 3) * sample(w_Ab, 1))) +\n",
    "        (2 * (sample(w_AB, 3) * sample(w_aB, 1))) +\n",
    "        (1 * (sample(w_AB, 2) * sample(w_Ab, 2))) +\n",
    "        (1 * (sample(w_AB, 2) * sample(w_aB, 2))) +\n",
    "        (1 * (sample(w_Ab, 2) * sample(w_aB, 2))) +\n",
    "        (4 * (sample(w_AB, 2) * sample(w_Ab, 1) * sample(w_aB, 1))) +\n",
    "        (2 * (sample(w_AB, 1) * sample(w_Ab, 2) * sample(w_aB, 1))) +\n",
    "        (2 * (sample(w_AB, 1) * sample(w_Ab, 1) * sample(w_aB, 2)))\n",
    "    ) / sample(n, 4)\n",
    "\n",
    "def D2(w_AB, w_Ab, w_aB, n):\n",
    "    return F_ijij(w_AB, w_Ab, w_aB, n) - 2 * F_ijik(w_AB, w_Ab, w_aB, n) + F_ijkl(w_AB, w_Ab, w_aB, n)\n",
    "\n",
    "def pi2(w_AB, w_Ab, w_aB, n):\n",
    "    return F_ijkl(w_AB, w_Ab, w_aB, n)\n",
    "\n",
    "def r2(w_AB, w_Ab, w_aB, n):\n",
    "    p_AB = w_AB / float(n)\n",
    "    p_Ab = w_Ab / float(n)\n",
    "    p_aB = w_aB / float(n)\n",
    "\n",
    "    p_A = p_AB + p_Ab\n",
    "    p_B = p_AB + p_aB\n",
    "\n",
    "    D_ = p_AB - (p_A * p_B)\n",
    "    denom = p_A * p_B * (1 - p_A) * (1 - p_B)\n",
    "\n",
    "    if denom == 0 and D_ == 0:\n",
    "        return 0.0\n",
    "        # return np.nan\n",
    "\n",
    "    return (D_ * D_) / denom"
   ]
  },
  {
   "cell_type": "code",
   "execution_count": 200,
   "id": "79279021-fa73-40d2-9708-6a44506299a7",
   "metadata": {},
   "outputs": [],
   "source": [
    "from dataclasses import dataclass\n",
    "from typing import get_type_hints\n",
    "\n",
    "@dataclass\n",
    "class TreeState:\n",
    "    samples_under_nodes: list[set]\n",
    "    parents: list[int]\n",
    "    branch_len: list[float]\n",
    "    nodes: list[int]\n",
    "\n",
    "    tj: int = 0\n",
    "    tk: int = 0\n",
    "    t_left: int = 0\n",
    "    t_right: int = 0\n",
    "    tree_index: int = 0\n",
    "    total_branch_len: int = 0\n",
    "\n",
    "    def __init__(self, ts=None):\n",
    "        if ts is not None:\n",
    "            self.parents = [tskit.NULL] * ts.num_nodes\n",
    "            self.nodes = [tskit.NULL] * ts.num_nodes\n",
    "            self.samples_under_nodes = [set() for _ in range(ts.num_nodes)]\n",
    "            self.branch_len = [0.0 for _ in range(ts.num_nodes)]\n",
    "            for s in ts.samples():\n",
    "                self.samples_under_nodes[s].add(s)\n",
    "\n",
    "    def copy(self):\n",
    "        new = TreeState()\n",
    "        for attr, a_type in get_type_hints(self).items():\n",
    "            if a_type == list[set]:\n",
    "                setattr(new, attr, [v.copy() for v in getattr(self, attr)])\n",
    "            elif a_type in {list[float], list[int]}:\n",
    "                setattr(new, attr, getattr(self, attr).copy())\n",
    "            elif a_type == int:\n",
    "                setattr(new, attr, getattr(self, attr))\n",
    "            else:\n",
    "                raise ValueError(f\"Unknown type encountered in copy: {a_type}\")\n",
    "        return new "
   ]
  },
  {
   "cell_type": "code",
   "execution_count": 201,
   "id": "c37a54b9-f505-486b-b511-ffa5cad53f25",
   "metadata": {},
   "outputs": [],
   "source": [
    "def compute_stat(ts, stat_func, stat, l_state=None, r_state=None):\n",
    "    if l_state is None:\n",
    "        l_state = TreeState(ts)\n",
    "    if r_state is None:\n",
    "        r_state = TreeState(ts)\n",
    "\n",
    "    time = ts.tables.nodes.time\n",
    "    edges_out = ts.indexes_edge_removal_order\n",
    "    edges_in = ts.indexes_edge_insertion_order\n",
    "\n",
    "    assert r_state.tj < ts.num_edges or r_state.t_left < ts.sequence_length, \"out of bounds\"\n",
    "    while r_state.tk < ts.num_edges and ts.edges_right[edges_out[r_state.tk]] == r_state.t_left:\n",
    "        e = edges_out[r_state.tk]\n",
    "        r_state.tk += 1\n",
    "        child = ts.edges_child[e]\n",
    "        parent = ts.edges_parent[e]\n",
    "\n",
    "        r_len = time[parent] - time[child]\n",
    "        r_state.branch_len[child] = 0\n",
    "        r_state.total_branch_len -= r_len\n",
    "        r_state.nodes[child] = tskit.NULL\n",
    "\n",
    "        for n, has in enumerate(l_state.nodes):\n",
    "            if has != tskit.NULL:\n",
    "                l_len = l_state.branch_len[n]\n",
    "                weights = get_weights(l_state.samples_under_nodes[n], r_state.samples_under_nodes[child])\n",
    "                stat -= stat_func(*weights, ts.num_samples) * l_len * r_len\n",
    "\n",
    "        while parent != tskit.NULL:\n",
    "            r_state.samples_under_nodes[parent] -= r_state.samples_under_nodes[child]\n",
    "            parent = r_state.parents[parent]\n",
    "        r_state.parents[child] = tskit.NULL\n",
    "\n",
    "    while r_state.tj < ts.num_edges and ts.edges_left[edges_in[r_state.tj]] == r_state.t_left:\n",
    "        e = edges_in[r_state.tj]\n",
    "        r_state.tj += 1\n",
    "        child = ts.edges_child[e]\n",
    "        parent = ts.edges_parent[e]\n",
    "\n",
    "        r_len = time[parent] - time[child]\n",
    "        r_state.branch_len[child] = r_len\n",
    "        r_state.total_branch_len += r_len\n",
    "        r_state.nodes[child] = 1\n",
    "\n",
    "        for n, has in enumerate(l_state.nodes):\n",
    "            if has != tskit.NULL:\n",
    "                l_len = l_state.branch_len[n]\n",
    "                weights = get_weights(l_state.samples_under_nodes[n], r_state.samples_under_nodes[child])\n",
    "                stat += stat_func(*weights, ts.num_samples) * l_len * r_len\n",
    "\n",
    "        r_state.parents[child] = parent\n",
    "        while parent != tskit.NULL:\n",
    "            r_state.samples_under_nodes[parent] |= r_state.samples_under_nodes[child]\n",
    "            parent = r_state.parents[parent]\n",
    "\n",
    "    r_state.t_right = ts.sequence_length\n",
    "    if r_state.tj < ts.num_edges:\n",
    "        r_state.t_right = min(r_state.t_right, ts.edges_left[edges_in[r_state.tj]])\n",
    "    if r_state.tk < ts.num_edges:\n",
    "        r_state.t_right = min(r_state.t_right, ts.edges_right[edges_out[r_state.tk]])\n",
    "\n",
    "    # set the lefthand bound\n",
    "    r_state.t_left = r_state.t_right\n",
    "    r_state.tree_index += 1\n",
    "    return stat, r_state"
   ]
  },
  {
   "cell_type": "code",
   "execution_count": 214,
   "id": "35f4d0eb-07ef-4058-958b-7fbe2be1ed0f",
   "metadata": {},
   "outputs": [
    {
     "name": "stdout",
     "output_type": "stream",
     "text": [
      "0\n",
      "6.233333333333333 0.011783238815374922\n",
      "2.3999999999999995 0.004013377926421403\n"
     ]
    }
   ],
   "source": [
    "l_state = None\n",
    "stat = 0\n",
    "\n",
    "stat, l_state = compute_stat(ts, D2, stat)\n",
    "print(stat)\n",
    "stat, r_state = compute_stat(ts, D2, stat, l_state, None)\n",
    "print(stat, stat / (l_state.total_branch_len * r_state.total_branch_len))\n",
    "stat, r_state = compute_stat(ts, D2, stat, l_state, r_state)\n",
    "print(stat, stat / (l_state.total_branch_len * r_state.total_branch_len))"
   ]
  },
  {
   "cell_type": "code",
   "execution_count": 227,
   "id": "7d4853ae-3235-4ec1-8f04-b661e6fffebc",
   "metadata": {},
   "outputs": [
    {
     "name": "stdout",
     "output_type": "stream",
     "text": [
      "0\n",
      "2.9333333333333336 0.005545053560176434\n",
      "1.8333333333333333 0.0030657748049052395\n"
     ]
    }
   ],
   "source": [
    "l_state = None\n",
    "stat = 0\n",
    "\n",
    "stat, l_state = compute_stat(ts, pi2, stat)\n",
    "print(stat)\n",
    "stat, r_state = compute_stat(ts, pi2, stat, l_state, None)\n",
    "print(stat, stat / (l_state.total_branch_len * r_state.total_branch_len))\n",
    "stat, r_state = compute_stat(ts, pi2, stat, l_state, r_state)\n",
    "print(stat, stat / (l_state.total_branch_len * r_state.total_branch_len))"
   ]
  },
  {
   "cell_type": "code",
   "execution_count": 217,
   "id": "ac44becf-e70f-42fe-88cd-c637889dc8f2",
   "metadata": {},
   "outputs": [
    {
     "data": {
      "text/plain": [
       "(23.0, 26.0)"
      ]
     },
     "execution_count": 217,
     "metadata": {},
     "output_type": "execute_result"
    }
   ],
   "source": [
    "l_state.total_branch_len, r_state.total_branch_len"
   ]
  },
  {
   "cell_type": "code",
   "execution_count": 218,
   "id": "6e4fe66b-8a84-4aa4-b47f-14741f610dff",
   "metadata": {},
   "outputs": [
    {
     "name": "stdout",
     "output_type": "stream",
     "text": [
      "0\n",
      "179.90277777777774 0.34008086536441917\n",
      "175.7083333333333 0.29382664437012257\n"
     ]
    }
   ],
   "source": [
    "l_state = None\n",
    "stat = 0\n",
    "\n",
    "stat, l_state = compute_stat(ts, r2, stat)\n",
    "print(stat)\n",
    "stat, r_state = compute_stat(ts, r2, stat, l_state, None)\n",
    "print(stat, stat / (l_state.total_branch_len * r_state.total_branch_len))\n",
    "stat, r_state = compute_stat(ts, r2, stat, l_state, r_state)\n",
    "print(stat, stat / (l_state.total_branch_len * r_state.total_branch_len))"
   ]
  },
  {
   "cell_type": "code",
   "execution_count": 228,
   "id": "76a5248d-edb3-43d7-b3b7-d34b125fe267",
   "metadata": {},
   "outputs": [],
   "source": [
    "import msprime"
   ]
  },
  {
   "cell_type": "code",
   "execution_count": null,
   "id": "f8d69540-9d77-48eb-8c63-c2fefe3fd158",
   "metadata": {},
   "outputs": [],
   "source": [
    "ts = msprime."
   ]
  },
  {
   "cell_type": "code",
   "execution_count": 13,
   "id": "decb8a93-1818-4e07-be47-88be586cacdb",
   "metadata": {},
   "outputs": [],
   "source": [
    "def gen_two_muts(ts, rate, lim=1000):\n",
    "    while True:\n",
    "        ts_new = msprime.sim_mutations(ts, rate=rate)\n",
    "        lim -= 1\n",
    "        if ts_new.at_index(0).num_mutations == 1 and ts_new.at_index(1).num_mutations == 1:\n",
    "            return ts_new\n",
    "        if not lim:\n",
    "            raise Exception(\"Didn't gen a tree\")"
   ]
  },
  {
   "cell_type": "code",
   "execution_count": 14,
   "id": "b9d76a23-6bf9-4fbb-bf3b-ca2a8cc63371",
   "metadata": {},
   "outputs": [],
   "source": [
    "def gen_n_two_muts(ts, rate, n, print_rate=1000):\n",
    "    out = []\n",
    "    for i in range(n):\n",
    "        out.append(gen_two_muts(ts, rate=rate))\n",
    "        if not i % print_rate:\n",
    "            print(i)\n",
    "    return out"
   ]
  },
  {
   "cell_type": "code",
   "execution_count": 15,
   "id": "5c7e456e-f3ea-4f75-93b5-d90281056dd1",
   "metadata": {
    "collapsed": true,
    "jupyter": {
     "outputs_hidden": true
    },
    "scrolled": true
   },
   "outputs": [
    {
     "name": "stdout",
     "output_type": "stream",
     "text": [
      "0\n",
      "1000\n",
      "2000\n",
      "3000\n",
      "4000\n",
      "5000\n",
      "6000\n",
      "7000\n",
      "8000\n",
      "9000\n",
      "10000\n",
      "11000\n",
      "12000\n",
      "13000\n",
      "14000\n",
      "15000\n",
      "16000\n",
      "17000\n",
      "18000\n",
      "19000\n",
      "20000\n",
      "21000\n",
      "22000\n",
      "23000\n",
      "24000\n",
      "25000\n",
      "26000\n",
      "27000\n",
      "28000\n",
      "29000\n",
      "30000\n",
      "31000\n",
      "32000\n",
      "33000\n",
      "34000\n",
      "35000\n",
      "36000\n",
      "37000\n",
      "38000\n",
      "39000\n",
      "40000\n",
      "41000\n",
      "42000\n",
      "43000\n",
      "44000\n",
      "45000\n",
      "46000\n",
      "47000\n",
      "48000\n",
      "49000\n",
      "50000\n",
      "51000\n",
      "52000\n",
      "53000\n",
      "54000\n",
      "55000\n",
      "56000\n",
      "57000\n",
      "58000\n",
      "59000\n",
      "60000\n",
      "61000\n",
      "62000\n",
      "63000\n",
      "64000\n",
      "65000\n",
      "66000\n",
      "67000\n",
      "68000\n",
      "69000\n",
      "70000\n",
      "71000\n",
      "72000\n",
      "73000\n",
      "74000\n",
      "75000\n",
      "76000\n",
      "77000\n",
      "78000\n",
      "79000\n",
      "80000\n",
      "81000\n",
      "82000\n",
      "83000\n",
      "84000\n",
      "85000\n",
      "86000\n",
      "87000\n",
      "88000\n",
      "89000\n",
      "90000\n",
      "91000\n",
      "92000\n",
      "93000\n",
      "94000\n",
      "95000\n",
      "96000\n",
      "97000\n",
      "98000\n",
      "99000\n"
     ]
    }
   ],
   "source": [
    "two_muts_trees = gen_n_two_muts(ts, .001, 100_000)"
   ]
  },
  {
   "cell_type": "code",
   "execution_count": 31,
   "id": "b1f39dea-34a3-4c9a-adb9-45d2d76b0f07",
   "metadata": {},
   "outputs": [],
   "source": [
    "import numpy as np"
   ]
  },
  {
   "cell_type": "code",
   "execution_count": 32,
   "id": "c4b63446-75fc-4d91-b27b-6d42e9d3efec",
   "metadata": {},
   "outputs": [
    {
     "data": {
      "text/plain": [
       "0.2933854166666667"
      ]
     },
     "execution_count": 32,
     "metadata": {},
     "output_type": "execute_result"
    }
   ],
   "source": [
    "np.mean([tskit.LdCalculator(ts).get_r2(0, 1) for ts in two_muts_trees])"
   ]
  }
 ],
 "metadata": {
  "kernelspec": {
   "display_name": "tskit-dev-2",
   "language": "python",
   "name": "tskit-dev-2"
  },
  "language_info": {
   "codemirror_mode": {
    "name": "ipython",
    "version": 3
   },
   "file_extension": ".py",
   "mimetype": "text/x-python",
   "name": "python",
   "nbconvert_exporter": "python",
   "pygments_lexer": "ipython3",
   "version": "3.11.4"
  }
 },
 "nbformat": 4,
 "nbformat_minor": 5
}
