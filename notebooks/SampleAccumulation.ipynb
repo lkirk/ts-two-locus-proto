{
 "cells": [
  {
   "cell_type": "code",
   "execution_count": 28,
   "id": "3029aa03-b37c-418a-b092-04f802c70fdc",
   "metadata": {},
   "outputs": [],
   "source": [
    "import tskit\n",
    "import numpy as np"
   ]
  },
  {
   "cell_type": "code",
   "execution_count": 29,
   "id": "e4065b0b-2ecf-4c03-a2d8-4bae8ab95f3a",
   "metadata": {},
   "outputs": [
    {
     "data": {
      "image/svg+xml": [
       "<svg baseProfile=\"full\" height=\"200\" version=\"1.1\" width=\"400\" xmlns=\"http://www.w3.org/2000/svg\" xmlns:ev=\"http://www.w3.org/2001/xml-events\" xmlns:xlink=\"http://www.w3.org/1999/xlink\"><defs><style type=\"text/css\"><![CDATA[.background path {fill: #808080; fill-opacity: 0}.background path:nth-child(odd) {fill-opacity: .1}.axes {font-size: 14px}.x-axis .tick .lab {font-weight: bold; dominant-baseline: hanging}.axes, .tree {font-size: 14px; text-anchor: middle}.axes line, .edge {stroke: black; fill: none}.y-axis .grid {stroke: #FAFAFA}.node > .sym {fill: black; stroke: none}.site > .sym {stroke: black}.mut text {fill: red; font-style: italic}.mut.extra text {fill: hotpink}.mut line {fill: none; stroke: none}.mut .sym {fill: none; stroke: red}.mut.extra .sym {stroke: hotpink}.node .mut .sym {stroke-width: 1.5px}.tree text, .tree-sequence text {dominant-baseline: central}.plotbox .lab.lft {text-anchor: end}.plotbox .lab.rgt {text-anchor: start}]]></style></defs><g class=\"tree-sequence\"><g class=\"background\"><path d=\"M20,0 l180,0 l0,138.2 l0,25 l0,5 l-180,0 l0,-5 l0,-25 l0,-138.2z\" /><path d=\"M200,0 l180,0 l0,138.2 l0,25 l0,5 l-180,0 l0,-5 l0,-25 l0,-138.2z\" /></g><g class=\"axes\"><g class=\"x-axis\"><g transform=\"translate(200 200)\"><text class=\"lab\" text-anchor=\"middle\" transform=\"translate(0 -11)\">Genome position</text></g><line x1=\"20\" x2=\"380\" y1=\"163.2\" y2=\"163.2\" /><g class=\"ticks\"><g class=\"tick\" transform=\"translate(20 163.2)\"><line x1=\"0\" x2=\"0\" y1=\"0\" y2=\"5\" /><g transform=\"translate(0 6)\"><text class=\"lab\">0</text></g></g><g class=\"tick\" transform=\"translate(200 163.2)\"><line x1=\"0\" x2=\"0\" y1=\"0\" y2=\"5\" /><g transform=\"translate(0 6)\"><text class=\"lab\">10</text></g></g><g class=\"tick\" transform=\"translate(380 163.2)\"><line x1=\"0\" x2=\"0\" y1=\"0\" y2=\"5\" /><g transform=\"translate(0 6)\"><text class=\"lab\">20</text></g></g></g><g class=\"site s0\" transform=\"translate(146 163.2)\"><line class=\"sym\" x1=\"0\" x2=\"0\" y1=\"0\" y2=\"-10\" /><g class=\"mut m1\"><polyline class=\"sym\" points=\"2.5,-6.5 0,-1.5 -2.5,-6.5\" /></g><g class=\"mut m0\"><polyline class=\"sym\" points=\"2.5,-10.5 0,-5.5 -2.5,-10.5\" /></g></g><g class=\"site s1\" transform=\"translate(164 163.2)\"><line class=\"sym\" x1=\"0\" x2=\"0\" y1=\"0\" y2=\"-10\" /><g class=\"mut m2\"><polyline class=\"sym\" points=\"2.5,-6.5 0,-1.5 -2.5,-6.5\" /></g></g><g class=\"site s2\" transform=\"translate(272 163.2)\"><line class=\"sym\" x1=\"0\" x2=\"0\" y1=\"0\" y2=\"-10\" /><g class=\"mut m3\"><polyline class=\"sym\" points=\"2.5,-6.5 0,-1.5 -2.5,-6.5\" /></g></g></g></g><g class=\"plotbox trees\"><g class=\"tree t0\" transform=\"translate(20 0)\"><g class=\"plotbox\"><g class=\"c2 node n6 root\" transform=\"translate(111.875 26.8)\"><g class=\"a6 leaf node n3 sample\" transform=\"translate(30.625 94.6)\"><path class=\"edge\" d=\"M 0 0 V -94.6 H -30.625\" /><rect class=\"sym\" height=\"6\" width=\"6\" x=\"-3\" y=\"-3\" /><text class=\"lab\" transform=\"translate(0 11)\">3</text></g><g class=\"a6 c2 m0 node n5 s0\" transform=\"translate(-30.625 31.5333)\"><g class=\"a5 leaf node n2 sample\" transform=\"translate(26.25 63.0667)\"><path class=\"edge\" d=\"M 0 0 V -63.0667 H -26.25\" /><rect class=\"sym\" height=\"6\" width=\"6\" x=\"-3\" y=\"-3\" /><text class=\"lab\" transform=\"translate(0 11)\">2</text></g><g class=\"a5 c2 m1 m2 node n4 s0 s1\" transform=\"translate(-26.25 31.5333)\"><g class=\"a4 leaf node n0 sample\" transform=\"translate(-17.5 31.5333)\"><path class=\"edge\" d=\"M 0 0 V -31.5333 H 17.5\" /><rect class=\"sym\" height=\"6\" width=\"6\" x=\"-3\" y=\"-3\" /><text class=\"lab\" transform=\"translate(0 11)\">0</text></g><g class=\"a4 leaf node n1 sample\" transform=\"translate(17.5 31.5333)\"><path class=\"edge\" d=\"M 0 0 V -31.5333 H -17.5\" /><rect class=\"sym\" height=\"6\" width=\"6\" x=\"-3\" y=\"-3\" /><text class=\"lab\" transform=\"translate(0 11)\">1</text></g><path class=\"edge\" d=\"M 0 0 V -31.5333 H 26.25\" /><g class=\"mut m1 s0 unknown_time\" transform=\"translate(0 -21.0222)\"><line x1=\"0\" x2=\"0\" y1=\"0\" y2=\"21.0222\" /><path class=\"sym\" d=\"M -3,-3 l 6,6 M -3,3 l 6,-6\" /><text class=\"lab lft\" transform=\"translate(-5 0)\">(0:1)T→G</text></g><g class=\"mut m2 s1 unknown_time\" transform=\"translate(0 -10.5111)\"><line x1=\"0\" x2=\"0\" y1=\"0\" y2=\"10.5111\" /><path class=\"sym\" d=\"M -3,-3 l 6,6 M -3,3 l 6,-6\" /><text class=\"lab lft\" transform=\"translate(-5 0)\">(1:2)C→G</text></g><circle class=\"sym\" cx=\"0\" cy=\"0\" r=\"3\" /><text class=\"lab lft\" transform=\"translate(-3 -7.0)\">4</text></g><path class=\"edge\" d=\"M 0 0 V -31.5333 H 30.625\" /><g class=\"mut m0 s0 unknown_time\" transform=\"translate(0 -15.7667)\"><line x1=\"0\" x2=\"0\" y1=\"0\" y2=\"15.7667\" /><path class=\"sym\" d=\"M -3,-3 l 6,6 M -3,3 l 6,-6\" /><text class=\"lab lft\" transform=\"translate(-5 0)\">(0:0)A→T</text></g><circle class=\"sym\" cx=\"0\" cy=\"0\" r=\"3\" /><text class=\"lab lft\" transform=\"translate(-3 -7.0)\">5</text></g><circle class=\"sym\" cx=\"0\" cy=\"0\" r=\"3\" /><text class=\"lab\" transform=\"translate(0 -11)\">6</text></g></g></g><g class=\"tree t1\" transform=\"translate(200 0)\"><g class=\"plotbox\"><g class=\"c2 node n8 root\" transform=\"translate(90 58.3333)\"><g class=\"a8 c2 m3 node n4 s2\" transform=\"translate(-35 31.5333)\"><g class=\"a4 leaf node n0 sample\" transform=\"translate(-17.5 31.5333)\"><path class=\"edge\" d=\"M 0 0 V -31.5333 H 17.5\" /><rect class=\"sym\" height=\"6\" width=\"6\" x=\"-3\" y=\"-3\" /><text class=\"lab\" transform=\"translate(0 11)\">0</text></g><g class=\"a4 leaf node n1 sample\" transform=\"translate(17.5 31.5333)\"><path class=\"edge\" d=\"M 0 0 V -31.5333 H -17.5\" /><rect class=\"sym\" height=\"6\" width=\"6\" x=\"-3\" y=\"-3\" /><text class=\"lab\" transform=\"translate(0 11)\">1</text></g><path class=\"edge\" d=\"M 0 0 V -31.5333 H 35\" /><g class=\"mut m3 s2 unknown_time\" transform=\"translate(0 -15.7667)\"><line x1=\"0\" x2=\"0\" y1=\"0\" y2=\"15.7667\" /><path class=\"sym\" d=\"M -3,-3 l 6,6 M -3,3 l 6,-6\" /><text class=\"lab lft\" transform=\"translate(-5 0)\">(2:3)G→C</text></g><circle class=\"sym\" cx=\"0\" cy=\"0\" r=\"3\" /><text class=\"lab lft\" transform=\"translate(-3 -7.0)\">4</text></g><g class=\"a8 c2 node n7\" transform=\"translate(35 31.5333)\"><g class=\"a7 leaf node n2 sample\" transform=\"translate(-17.5 31.5333)\"><path class=\"edge\" d=\"M 0 0 V -31.5333 H 17.5\" /><rect class=\"sym\" height=\"6\" width=\"6\" x=\"-3\" y=\"-3\" /><text class=\"lab\" transform=\"translate(0 11)\">2</text></g><g class=\"a7 leaf node n3 sample\" transform=\"translate(17.5 31.5333)\"><path class=\"edge\" d=\"M 0 0 V -31.5333 H -17.5\" /><rect class=\"sym\" height=\"6\" width=\"6\" x=\"-3\" y=\"-3\" /><text class=\"lab\" transform=\"translate(0 11)\">3</text></g><path class=\"edge\" d=\"M 0 0 V -31.5333 H -35\" /><circle class=\"sym\" cx=\"0\" cy=\"0\" r=\"3\" /><text class=\"lab rgt\" transform=\"translate(3 -7.0)\">7</text></g><circle class=\"sym\" cx=\"0\" cy=\"0\" r=\"3\" /><text class=\"lab\" transform=\"translate(0 -11)\">8</text></g></g></g></g></g></svg>"
      ],
      "text/plain": [
       "'<svg baseProfile=\"full\" height=\"200\" version=\"1.1\" width=\"400\" xmlns=\"http://www.w3.org/2000/svg\" xmlns:ev=\"http://www.w3.org/2001/xml-events\" xmlns:xlink=\"http://www.w3.org/1999/xlink\"><defs><style type=\"text/css\"><![CDATA[.background path {fill: #808080; fill-opacity: 0}.background path:nth-child(odd) {fill-opacity: .1}.axes {font-size: 14px}.x-axis .tick .lab {font-weight: bold; dominant-baseline: hanging}.axes, .tree {font-size: 14px; text-anchor: middle}.axes line, .edge {stroke: black; fill: none}.y-axis .grid {stroke: #FAFAFA}.node > .sym {fill: black; stroke: none}.site > .sym {stroke: black}.mut text {fill: red; font-style: italic}.mut.extra text {fill: hotpink}.mut line {fill: none; stroke: none}.mut .sym {fill: none; stroke: red}.mut.extra .sym {stroke: hotpink}.node .mut .sym {stroke-width: 1.5px}.tree text, .tree-sequence text {dominant-baseline: central}.plotbox .lab.lft {text-anchor: end}.plotbox .lab.rgt {text-anchor: start}]]></style></defs><g class=\"tree-sequence\"><g class=\"background\"><path d=\"M20,0 l180,0 l0,138.2 l0,25 l0,5 l-180,0 l0,-5 l0,-25 l0,-138.2z\" /><path d=\"M200,0 l180,0 l0,138.2 l0,25 l0,5 l-180,0 l0,-5 l0,-25 l0,-138.2z\" /></g><g class=\"axes\"><g class=\"x-axis\"><g transform=\"translate(200 200)\"><text class=\"lab\" text-anchor=\"middle\" transform=\"translate(0 -11)\">Genome position</text></g><line x1=\"20\" x2=\"380\" y1=\"163.2\" y2=\"163.2\" /><g class=\"ticks\"><g class=\"tick\" transform=\"translate(20 163.2)\"><line x1=\"0\" x2=\"0\" y1=\"0\" y2=\"5\" /><g transform=\"translate(0 6)\"><text class=\"lab\">0</text></g></g><g class=\"tick\" transform=\"translate(200 163.2)\"><line x1=\"0\" x2=\"0\" y1=\"0\" y2=\"5\" /><g transform=\"translate(0 6)\"><text class=\"lab\">10</text></g></g><g class=\"tick\" transform=\"translate(380 163.2)\"><line x1=\"0\" x2=\"0\" y1=\"0\" y2=\"5\" /><g transform=\"translate(0 6)\"><text class=\"lab\">20</text></g></g></g><g class=\"site s0\" transform=\"translate(146 163.2)\"><line class=\"sym\" x1=\"0\" x2=\"0\" y1=\"0\" y2=\"-10\" /><g class=\"mut m1\"><polyline class=\"sym\" points=\"2.5,-6.5 0,-1.5 -2.5,-6.5\" /></g><g class=\"mut m0\"><polyline class=\"sym\" points=\"2.5,-10.5 0,-5.5 -2.5,-10.5\" /></g></g><g class=\"site s1\" transform=\"translate(164 163.2)\"><line class=\"sym\" x1=\"0\" x2=\"0\" y1=\"0\" y2=\"-10\" /><g class=\"mut m2\"><polyline class=\"sym\" points=\"2.5,-6.5 0,-1.5 -2.5,-6.5\" /></g></g><g class=\"site s2\" transform=\"translate(272 163.2)\"><line class=\"sym\" x1=\"0\" x2=\"0\" y1=\"0\" y2=\"-10\" /><g class=\"mut m3\"><polyline class=\"sym\" points=\"2.5,-6.5 0,-1.5 -2.5,-6.5\" /></g></g></g></g><g class=\"plotbox trees\"><g class=\"tree t0\" transform=\"translate(20 0)\"><g class=\"plotbox\"><g class=\"c2 node n6 root\" transform=\"translate(111.875 26.8)\"><g class=\"a6 leaf node n3 sample\" transform=\"translate(30.625 94.6)\"><path class=\"edge\" d=\"M 0 0 V -94.6 H -30.625\" /><rect class=\"sym\" height=\"6\" width=\"6\" x=\"-3\" y=\"-3\" /><text class=\"lab\" transform=\"translate(0 11)\">3</text></g><g class=\"a6 c2 m0 node n5 s0\" transform=\"translate(-30.625 31.5333)\"><g class=\"a5 leaf node n2 sample\" transform=\"translate(26.25 63.0667)\"><path class=\"edge\" d=\"M 0 0 V -63.0667 H -26.25\" /><rect class=\"sym\" height=\"6\" width=\"6\" x=\"-3\" y=\"-3\" /><text class=\"lab\" transform=\"translate(0 11)\">2</text></g><g class=\"a5 c2 m1 m2 node n4 s0 s1\" transform=\"translate(-26.25 31.5333)\"><g class=\"a4 leaf node n0 sample\" transform=\"translate(-17.5 31.5333)\"><path class=\"edge\" d=\"M 0 0 V -31.5333 H 17.5\" /><rect class=\"sym\" height=\"6\" width=\"6\" x=\"-3\" y=\"-3\" /><text class=\"lab\" transform=\"translate(0 11)\">0</text></g><g class=\"a4 leaf node n1 sample\" transform=\"translate(17.5 31.5333)\"><path class=\"edge\" d=\"M 0 0 V -31.5333 H -17.5\" /><rect class=\"sym\" height=\"6\" width=\"6\" x=\"-3\" y=\"-3\" /><text class=\"lab\" transform=\"translate(0 11)\">1</text></g><path class=\"edge\" d=\"M 0 0 V -31.5333 H 26.25\" /><g class=\"mut m1 s0 unknown_time\" transform=\"translate(0 -21.0222)\"><line x1=\"0\" x2=\"0\" y1=\"0\" y2=\"21.0222\" /><path class=\"sym\" d=\"M -3,-3 l 6,6 M -3,3 l 6,-6\" /><text class=\"lab lft\" transform=\"translate(-5 0)\">(0:1)T→G</text></g><g class=\"mut m2 s1 unknown_time\" transform=\"translate(0 -10.5111)\"><line x1=\"0\" x2=\"0\" y1=\"0\" y2=\"10.5111\" /><path class=\"sym\" d=\"M -3,-3 l 6,6 M -3,3 l 6,-6\" /><text class=\"lab lft\" transform=\"translate(-5 0)\">(1:2)C→G</text></g><circle class=\"sym\" cx=\"0\" cy=\"0\" r=\"3\" /><text class=\"lab lft\" transform=\"translate(-3 -7.0)\">4</text></g><path class=\"edge\" d=\"M 0 0 V -31.5333 H 30.625\" /><g class=\"mut m0 s0 unknown_time\" transform=\"translate(0 -15.7667)\"><line x1=\"0\" x2=\"0\" y1=\"0\" y2=\"15.7667\" /><path class=\"sym\" d=\"M -3,-3 l 6,6 M -3,3 l 6,-6\" /><text class=\"lab lft\" transform=\"translate(-5 0)\">(0:0)A→T</text></g><circle class=\"sym\" cx=\"0\" cy=\"0\" r=\"3\" /><text class=\"lab lft\" transform=\"translate(-3 -7.0)\">5</text></g><circle class=\"sym\" cx=\"0\" cy=\"0\" r=\"3\" /><text class=\"lab\" transform=\"translate(0 -11)\">6</text></g></g></g><g class=\"tree t1\" transform=\"translate(200 0)\"><g class=\"plotbox\"><g class=\"c2 node n8 root\" transform=\"translate(90 58.3333)\"><g class=\"a8 c2 m3 node n4 s2\" transform=\"translate(-35 31.5333)\"><g class=\"a4 leaf node n0 sample\" transform=\"translate(-17.5 31.5333)\"><path class=\"edge\" d=\"M 0 0 V -31.5333 H 17.5\" /><rect class=\"sym\" height=\"6\" width=\"6\" x=\"-3\" y=\"-3\" /><text class=\"lab\" transform=\"translate(0 11)\">0</text></g><g class=\"a4 leaf node n1 sample\" transform=\"translate(17.5 31.5333)\"><path class=\"edge\" d=\"M 0 0 V -31.5333 H -17.5\" /><rect class=\"sym\" height=\"6\" width=\"6\" x=\"-3\" y=\"-3\" /><text class=\"lab\" transform=\"translate(0 11)\">1</text></g><path class=\"edge\" d=\"M 0 0 V -31.5333 H 35\" /><g class=\"mut m3 s2 unknown_time\" transform=\"translate(0 -15.7667)\"><line x1=\"0\" x2=\"0\" y1=\"0\" y2=\"15.7667\" /><path class=\"sym\" d=\"M -3,-3 l 6,6 M -3,3 l 6,-6\" /><text class=\"lab lft\" transform=\"translate(-5 0)\">(2:3)G→C</text></g><circle class=\"sym\" cx=\"0\" cy=\"0\" r=\"3\" /><text class=\"lab lft\" transform=\"translate(-3 -7.0)\">4</text></g><g class=\"a8 c2 node n7\" transform=\"translate(35 31.5333)\"><g class=\"a7 leaf node n2 sample\" transform=\"translate(-17.5 31.5333)\"><path class=\"edge\" d=\"M 0 0 V -31.5333 H 17.5\" /><rect class=\"sym\" height=\"6\" width=\"6\" x=\"-3\" y=\"-3\" /><text class=\"lab\" transform=\"translate(0 11)\">2</text></g><g class=\"a7 leaf node n3 sample\" transform=\"translate(17.5 31.5333)\"><path class=\"edge\" d=\"M 0 0 V -31.5333 H -17.5\" /><rect class=\"sym\" height=\"6\" width=\"6\" x=\"-3\" y=\"-3\" /><text class=\"lab\" transform=\"translate(0 11)\">3</text></g><path class=\"edge\" d=\"M 0 0 V -31.5333 H -35\" /><circle class=\"sym\" cx=\"0\" cy=\"0\" r=\"3\" /><text class=\"lab rgt\" transform=\"translate(3 -7.0)\">7</text></g><circle class=\"sym\" cx=\"0\" cy=\"0\" r=\"3\" /><text class=\"lab\" transform=\"translate(0 -11)\">8</text></g></g></g></g></g></svg>'"
      ]
     },
     "execution_count": 29,
     "metadata": {},
     "output_type": "execute_result"
    }
   ],
   "source": [
    "ts = tskit.load(\"../trees/case2.tree\")\n",
    "# ts = tskit.load(\"../tree-simple-1.tree\")\n",
    "# ts = tskit.load(\"../test.tree\")\n",
    "\n",
    "mut_labels = {}  # An array of labels for the mutations\n",
    "for mut in ts.mutations():  # Make pretty labels showing the change in state\n",
    "    site = ts.site(mut.site)\n",
    "    older_mut = mut.parent >= 0  # is there an older mutation at the same position?\n",
    "    prev = ts.mutation(mut.parent).derived_state if older_mut else site.ancestral_state\n",
    "    mut_labels[mut.id] = f\"({mut.site}:{mut.id}){prev}→{mut.derived_state}\"\n",
    "\n",
    "ts.draw_svg(mutation_labels=mut_labels)"
   ]
  },
  {
   "cell_type": "code",
   "execution_count": 18,
   "id": "36d0f419-7f98-4b1e-86db-a5f58fa44dd1",
   "metadata": {},
   "outputs": [],
   "source": [
    "def union_sample_arrays(a, b, num_sample_chunks):\n",
    "    out = np.zeros(num_sample_chunks, dtype=np.uint64)\n",
    "    if a == 0 and b == 0:\n",
    "        return out\n",
    "    for i in range(num_sample_chunks):\n",
    "        out[i] = a[i] & b[i]\n",
    "    return out\n",
    "\n",
    "def subtract_sample_arrays(a, b, num_sample_chunks):\n",
    "    # NB modifies a in place\n",
    "    # essentially, a -= b\n",
    "    if b == 0:\n",
    "        return\n",
    "    for i in range(num_sample_chunks):\n",
    "        a[i] &= ~(b[i])\n",
    "\n",
    "def add_sample_arrays(a, b, num_sample_chunks):\n",
    "    # NB modifies a in place\n",
    "    # essentially, a += b\n",
    "    if b == 0:\n",
    "        return\n",
    "    for i in range(num_sample_chunks):\n",
    "        a[i] |= b[i]\n",
    "\n",
    "BITMASK_CHUNK_SIZE = np.uint64(64)\n",
    "ONE = np.uint64(1)\n",
    "def add_samples_to_array(a, samples):\n",
    "    for s in samples:\n",
    "        i = s // BITMASK_CHUNK_SIZE\n",
    "        a[i] |= ONE << (s - (BITMASK_CHUNK_SIZE * i))\n",
    "\n",
    "def add_sample_to_array(a, s):\n",
    "    i = s // BITMASK_CHUNK_SIZE\n",
    "    a[i] |= ONE << (s - (BITMASK_CHUNK_SIZE * i))\n",
    "\n",
    "def count_bits(a):\n",
    "    # https://graphics.stanford.edu/~seander/bithacks.html#CountBitsSetNaive\n",
    "    count = np.uint8(0)\n",
    "    while a:\n",
    "        a &= a - np.uint8(1)\n",
    "        count += np.uint8(1)\n",
    "    return count\n",
    "\n",
    "def number_of_samples_in_array(a, num_sample_chunks):\n",
    "    total = 0\n",
    "    for s in range(num_sample_chunks):\n",
    "        total += count_bits(a[s])\n",
    "    return total\n",
    "\n",
    "def get_samples_from_array(a, num_sample_chunks):\n",
    "    for i in range(num_sample_chunks):\n",
    "        for s in np.arange(BITMASK_CHUNK_SIZE, dtype=np.uint64):\n",
    "            if a[i] & (ONE << s):\n",
    "                yield s\n",
    "\n",
    "# st = np.zeros((150, len(sample_sets), (100 // 64) + 1), dtype=np.uint64)\n",
    "# for ss in range(len([np.arange(100, dtype=np.uint64)])):\n",
    "#     for s in [np.arange(100, dtype=np.uint64)][ss]:\n",
    "#         add_samples_to_array(st[s, ss], [s])"
   ]
  },
  {
   "cell_type": "code",
   "execution_count": 19,
   "id": "b9ff812f-ff69-4420-9bc3-ae7b1154e7f5",
   "metadata": {},
   "outputs": [],
   "source": [
    "def pairs_with_replacement(n):\n",
    "    subloop_start = 0\n",
    "    for i in range(n):\n",
    "        for j in range(subloop_start, n):\n",
    "            yield i, j\n",
    "        subloop_start += 1"
   ]
  },
  {
   "cell_type": "code",
   "execution_count": 20,
   "id": "3d1af090-8231-43b9-907c-8384868183d3",
   "metadata": {},
   "outputs": [],
   "source": [
    "def next_state_at(ts, tj, tk, t_left, sample_sets, parent=None, state=None):\n",
    "    I = ts.indexes_edge_insertion_order\n",
    "    O = ts.indexes_edge_removal_order\n",
    "\n",
    "    parent = -np.ones(ts.num_nodes, dtype=np.int32) if parent is None else parent\n",
    "    state = np.zeros((ts.num_nodes, len(sample_sets), (int(ts.num_samples // BITMASK_CHUNK_SIZE)) + 1), dtype=np.uint64) if state is None else state\n",
    "    state_dim = state.shape[1]  # number of sample sets\n",
    "    num_bitmask_chunks = state.shape[2]\n",
    "\n",
    "    for k in range(state_dim):\n",
    "        for sample_node in sample_sets[k]:\n",
    "            add_samples_to_array(state[sample_node, k], [sample_node])\n",
    "\n",
    "    while (tk < ts.num_edges) and (ts.edges_right[O[tk]] == t_left):\n",
    "        h = O[tk]\n",
    "        tk += 1\n",
    "        u = ts.edges_child[h]\n",
    "        v = ts.edges_parent[h]\n",
    "        while (v != -1):\n",
    "            for k in range(state_dim):\n",
    "                subtract_sample_arrays(state[v, k], state[u, k], num_bitmask_chunks)\n",
    "            v = parent[v]\n",
    "        parent[u] = -1\n",
    "    while (tj < ts.num_edges) and (ts.edges_left[I[tj]] == t_left):\n",
    "        h = I[tj]\n",
    "        tj += 1\n",
    "        u = ts.edges_child[h]\n",
    "        v = ts.edges_parent[h]\n",
    "        parent[u] = v\n",
    "        while (v != -1):\n",
    "            for k in range(state_dim):\n",
    "                add_sample_arrays(state[v, k], state[u, k], num_bitmask_chunks)\n",
    "            v = parent[v]\n",
    "    t_right = ts.sequence_length\n",
    "    if (tj < ts.num_edges):\n",
    "        t_right = min(t_right, ts.edges_left[I[tj]])\n",
    "    if (tk < ts.num_edges):\n",
    "        t_right = min(t_right, ts.edges_right[O[tk]])\n",
    "\n",
    "    t_left = t_right\n",
    "    return tj, tk, t_left, parent, state"
   ]
  },
  {
   "cell_type": "code",
   "execution_count": 21,
   "id": "fdbcdc33-15fc-4626-887b-7f684ea7359e",
   "metadata": {},
   "outputs": [],
   "source": [
    "def get_allele_samples(state, site, sample_sets):\n",
    "    allele_state = np.zeros((len(site.mutations) + 1, len(sample_sets), (int(ts.num_samples // BITMASK_CHUNK_SIZE)) + 1), dtype=np.uint64)\n",
    "    alleles = [site.ancestral_state]\n",
    "    num_alleles = 1\n",
    "\n",
    "    # TODO: total weight\n",
    "    for k in range(len(sample_sets)):\n",
    "        add_samples_to_array(allele_state[0, k], sample_sets[k])\n",
    "\n",
    "    for mutation in site.mutations:\n",
    "        if mutation.derived_state in alleles:\n",
    "            allele = alleles.index(mutation.derived_state)\n",
    "        else:\n",
    "            alleles.append(mutation.derived_state)\n",
    "            allele = len(alleles) - 1\n",
    "            num_alleles += 1\n",
    "\n",
    "        for k in range(len(sample_sets)):\n",
    "            add_sample_arrays(allele_state[allele, k], state[mutation.node, k], allele_state.shape[1])\n",
    "\n",
    "        alt_allele = alleles.index(site.ancestral_state)\n",
    "        if mutation.parent != -1:\n",
    "            # TODO haven't exercised this code path yet\n",
    "            alt_allele = alleles.index(site.mutations[mutation.parent - site.mutations[0].id].derived_state)\n",
    "        for k in range(len(sample_sets)):\n",
    "            subtract_sample_arrays(allele_state[alt_allele, k], state[mutation.node, k], allele_state.shape[1])\n",
    "    return num_alleles, allele_state"
   ]
  },
  {
   "cell_type": "code",
   "execution_count": 22,
   "id": "952317ec-c84d-45f1-a638-7f585673251e",
   "metadata": {
    "tags": []
   },
   "outputs": [
    {
     "name": "stdout",
     "output_type": "stream",
     "text": [
      "trees:  0 0 sites:  0 0\n",
      "[[1 0 0]\n",
      " [0 1 0]\n",
      " [0 0 2]]\n",
      "trees:  0 0 sites:  0 1\n",
      "[[1 0]\n",
      " [1 0]\n",
      " [0 2]]\n",
      "trees:  0 0 sites:  1 1\n",
      "[[2 0]\n",
      " [0 2]]\n",
      "trees:  0 1 sites:  0 2\n",
      "[[1 0]\n",
      " [1 0]\n",
      " [0 2]]\n",
      "trees:  0 1 sites:  1 2\n",
      "[[2 0]\n",
      " [0 2]]\n",
      "trees:  1 1 sites:  2 2\n",
      "[[2 0]\n",
      " [0 2]]\n"
     ]
    }
   ],
   "source": [
    "# sample_sets = [[0, 1, 2], [3, 4, 5], [4, 5, 6], [1, 2]]\n",
    "# sample_sets = [[0, 1, 2]]\n",
    "sample_sets = [list(ts.samples())]\n",
    "sample_sets = np.array(sample_sets, dtype=np.uint64)\n",
    "\n",
    "tj_left = 0\n",
    "tk_left = 0\n",
    "t_left_left = 0\n",
    "tree_index_left = 0\n",
    "parent_left = None\n",
    "state_left = None\n",
    "\n",
    "tj_right = 0\n",
    "tk_right = 0\n",
    "t_left_right = 0\n",
    "tree_index_right = 0\n",
    "parent_right = None\n",
    "state_right = None\n",
    "\n",
    "last = False\n",
    "\n",
    "while (tj_left < ts.num_edges) or (t_left_left < ts.sequence_length):\n",
    "    treeseq_state_left = next_state_at(\n",
    "        ts=ts, tj=tj_left, tk=tk_left, t_left=t_left_left,\n",
    "        sample_sets=sample_sets, parent=parent_left, state=state_left,\n",
    "    )\n",
    "    tj_left, tk_left, t_left_left, parent_left, state_left = treeseq_state_left\n",
    "    tj_right, tk_right, t_left_right, parent_right, state_right = treeseq_state_left\n",
    "    parent_right = parent_right.copy()\n",
    "    state_right = state_right.copy()\n",
    "\n",
    "    tree_index_right = tree_index_left\n",
    "\n",
    "    if (tj_right >= ts.num_edges) or (t_left_right >= ts.sequence_length):  # TODO: there must be a better way to do this.\n",
    "        last = True\n",
    "\n",
    "    while (tj_right < ts.num_edges) or (t_left_right < ts.sequence_length) or last:\n",
    "        if tree_index_left != tree_index_right:  # TODO: there must be a better way to do this.\n",
    "            treeseq_state_right = next_state_at(\n",
    "                ts=ts, tj=tj_right, tk=tk_right, t_left=t_left_right,\n",
    "                sample_sets=sample_sets, parent=parent_right, state=state_right,\n",
    "            )\n",
    "            tj_right, tk_right, t_left_right, parent_right, state_right = treeseq_state_right\n",
    "\n",
    "        num_sites_left = ts.at_index(tree_index_left).num_sites  # ts->tree_sites_len[tree_index_left]\n",
    "        num_sites_right = ts.at_index(tree_index_right).num_sites\n",
    "        sites_left = list(ts.at_index(tree_index_left).sites())  # ts->tree_sites[tree_index_left]\n",
    "        sites_right = list(ts.at_index(tree_index_right).sites())\n",
    "\n",
    "        if tree_index_left != tree_index_right:\n",
    "            for i in range(num_sites_left):\n",
    "                for j in range(num_sites_right):\n",
    "                    site_left = sites_left[i]\n",
    "                    site_right = sites_right[j]\n",
    "                    \n",
    "                    len_s_1, s_1 = get_allele_samples(state_left, site_left, sample_sets)\n",
    "                    len_s_2, s_2 = get_allele_samples(state_right, site_right, sample_sets)\n",
    "                    hap_matrix = np.zeros((len_s_1, len_s_2), dtype=np.uint32)\n",
    "                    for i in range(len_s_1):\n",
    "                        for j in range(len_s_2):\n",
    "                            hap_matrix[i, j] = number_of_samples_in_array(union_sample_arrays(s_1[i, 0], s_2[j, 0], 1), 1)\n",
    "                    print('trees: ', tree_index_left, tree_index_right, 'sites: ', site_left.id, site_right.id)\n",
    "                    print(hap_matrix)\n",
    "                    # raise Exception\n",
    "        else:\n",
    "            assert num_sites_left == num_sites_right\n",
    "            for i, j in pairs_with_replacement(num_sites_left):\n",
    "                site_left = sites_left[i]\n",
    "                site_right = sites_right[j]\n",
    "                len_s_1, s_1 = get_allele_samples(state_left, site_left, sample_sets)\n",
    "                len_s_2, s_2 = get_allele_samples(state_right, site_right, sample_sets)\n",
    "                hap_matrix = np.zeros((len_s_1, len_s_2), dtype=np.uint32)\n",
    "                for i in range(len_s_1):\n",
    "                    for j in range(len_s_2):\n",
    "                        hap_matrix[i, j] = number_of_samples_in_array(union_sample_arrays(s_1[i, 0], s_2[j, 0], 1), 1)\n",
    "                print('trees: ', tree_index_left, tree_index_right, 'sites: ', site_left.id, site_right.id)\n",
    "                print(hap_matrix)\n",
    "        if last:\n",
    "            break\n",
    "        tree_index_right += 1\n",
    "    tree_index_left += 1"
   ]
  },
  {
   "cell_type": "code",
   "execution_count": 27,
   "id": "f035f0c3-41df-451b-9f07-25d087463116",
   "metadata": {},
   "outputs": [
    {
     "name": "stdout",
     "output_type": "stream",
     "text": [
      "0b1\n",
      "0b10\n",
      "0b100\n",
      "0b1000\n",
      "0b11\n",
      "0b0\n",
      "0b0\n",
      "0b1100\n",
      "0b1111\n"
     ]
    }
   ],
   "source": [
    "for i in state_left.reshape(-1):\n",
    "    print(bin(i))"
   ]
  },
  {
   "cell_type": "code",
   "execution_count": 16,
   "id": "26da4d93-07ec-4b96-9c3d-0136d11d8329",
   "metadata": {},
   "outputs": [],
   "source": [
    "from two_locus_proto.site import two_site_general_stat\n",
    "from two_locus_proto.summary_functions import r2"
   ]
  },
  {
   "cell_type": "code",
   "execution_count": null,
   "id": "3af099e8-cb59-4951-ac7e-b1d21a3cfda8",
   "metadata": {
    "scrolled": true,
    "tags": []
   },
   "outputs": [
    {
     "name": "stdout",
     "output_type": "stream",
     "text": [
      "hap_mat\n",
      "[[1. 0. 0.]\n",
      " [0. 1. 0.]\n",
      " [0. 0. 2.]]\n",
      "stats\n",
      "[[1.         0.11111111 0.33333333]\n",
      " [0.11111111 1.         0.33333333]\n",
      " [0.33333333 0.33333333 1.        ]]\n",
      "weights\n",
      "[[0.11111111 0.11111111 0.11111111]\n",
      " [0.11111111 0.11111111 0.11111111]\n",
      " [0.11111111 0.11111111 0.11111111]]\n",
      "============\n",
      "hap_mat\n",
      "[[1. 1. 0.]\n",
      " [0. 0. 2.]]\n",
      "stats\n",
      "[[0.33333333 0.33333333 1.        ]\n",
      " [0.33333333 0.33333333 1.        ]]\n",
      "weights\n",
      "[[0.16666667 0.16666667 0.16666667]\n",
      " [0.16666667 0.16666667 0.16666667]]\n",
      "============\n",
      "hap_mat\n",
      "[[1. 1. 0.]\n",
      " [0. 0. 2.]]\n",
      "stats\n",
      "[[0.33333333 0.33333333 1.        ]\n",
      " [0.33333333 0.33333333 1.        ]]\n",
      "weights\n",
      "[[0.16666667 0.16666667 0.16666667]\n",
      " [0.16666667 0.16666667 0.16666667]]\n",
      "============\n",
      "hap_mat\n",
      "[[2. 0.]\n",
      " [0. 2.]]\n",
      "stats\n",
      "[[1. 1.]\n",
      " [1. 1.]]\n",
      "weights\n",
      "[[0.25 0.25]\n",
      " [0.25 0.25]]\n",
      "============\n",
      "hap_mat\n",
      "[[2. 0.]\n",
      " [0. 2.]]\n",
      "stats\n",
      "[[1. 1.]\n",
      " [1. 1.]]\n",
      "weights\n",
      "[[0.25 0.25]\n",
      " [0.25 0.25]]\n",
      "============\n",
      "hap_mat\n",
      "[[2. 0.]\n",
      " [0. 2.]]\n",
      "stats\n",
      "[[1. 1.]\n",
      " [1. 1.]]\n",
      "weights\n",
      "[[0.25 0.25]\n",
      " [0.25 0.25]]\n",
      "============\n"
     ]
    },
    {
     "data": {
      "text/plain": [
       "array([[0.50617284, 0.55555556, 0.55555556],\n",
       "       [0.55555556, 1.        , 1.        ],\n",
       "       [0.55555556, 1.        , 1.        ]])"
      ]
     },
     "execution_count": 17,
     "metadata": {},
     "output_type": "execute_result"
    }
   ],
   "source": [
    "two_site_general_stat(ts, r2, 'total', False,debug=True)"
   ]
  },
  {
   "cell_type": "code",
   "execution_count": 8,
   "id": "604722ed-70ce-413f-b2d2-eb2fd41b00fa",
   "metadata": {},
   "outputs": [
    {
     "name": "stdout",
     "output_type": "stream",
     "text": [
      "[0]\n",
      "[1]\n",
      "[2]\n",
      "[3]\n",
      "[0, 1]\n",
      "[]\n",
      "[]\n",
      "[2, 3]\n",
      "[0, 1, 2, 3]\n"
     ]
    }
   ],
   "source": [
    "for n in range(len(state_left)):\n",
    "    print(list(get_samples_from_array(state_left[n, 0], 1)))"
   ]
  },
  {
   "cell_type": "code",
   "execution_count": 9,
   "id": "b4f164ac-8c43-41bc-853f-60b699ae9aa5",
   "metadata": {},
   "outputs": [
    {
     "name": "stdout",
     "output_type": "stream",
     "text": [
      "[0]\n",
      "[1]\n",
      "[2]\n",
      "[3]\n",
      "[0, 1]\n",
      "[]\n",
      "[]\n",
      "[2, 3]\n",
      "[0, 1, 2, 3]\n"
     ]
    }
   ],
   "source": [
    "for n in range(len(state_left)):\n",
    "    print(list(get_samples_from_array(state_right[n, 0], 1)))"
   ]
  },
  {
   "cell_type": "code",
   "execution_count": 10,
   "id": "305d6871-92d7-491f-85cf-595b04931e09",
   "metadata": {},
   "outputs": [],
   "source": [
    "len_s_1, s_1 = get_allele_samples(state_left, site_left, sample_sets)"
   ]
  },
  {
   "cell_type": "code",
   "execution_count": 11,
   "id": "d514bd07-207e-4de4-93b0-4fbeb1b314e7",
   "metadata": {},
   "outputs": [
    {
     "name": "stdout",
     "output_type": "stream",
     "text": [
      "2\n",
      "[2, 3]\n",
      "[0, 1]\n"
     ]
    }
   ],
   "source": [
    "print(len_s_1)\n",
    "for i in range(len_s_1):\n",
    "    print(list(get_samples_from_array(s_1[i, 0], 1)))"
   ]
  },
  {
   "cell_type": "code",
   "execution_count": 12,
   "id": "e9c482a6-1213-4c66-82c3-30c77b627509",
   "metadata": {},
   "outputs": [],
   "source": [
    "len_s_2, s_2 = get_allele_samples(state_right, site_right, sample_sets)"
   ]
  },
  {
   "cell_type": "code",
   "execution_count": 13,
   "id": "7cba6357-f885-4464-9347-4f611b9b8eff",
   "metadata": {},
   "outputs": [
    {
     "name": "stdout",
     "output_type": "stream",
     "text": [
      "2\n",
      "[2, 3]\n",
      "[0, 1]\n"
     ]
    }
   ],
   "source": [
    "print(len_s_2)\n",
    "for i in range(len_s_2):\n",
    "    print(list(get_samples_from_array(s_2[i, 0], 1)))"
   ]
  },
  {
   "cell_type": "code",
   "execution_count": 14,
   "id": "ac236aff-87ed-4294-a734-c3a05db20e6d",
   "metadata": {},
   "outputs": [],
   "source": [
    "hap_matrix = np.zeros((len_s_1, len_s_2), dtype=np.uint32)\n",
    "for i in range(len_s_1):\n",
    "    for j in range(len_s_2):\n",
    "        hap_matrix[i, j] = number_of_samples_in_array(union_sample_arrays(s_1[i, 0], s_2[j, 0], 1), 1)"
   ]
  },
  {
   "cell_type": "code",
   "execution_count": 15,
   "id": "21950d6f-687c-4e1b-9bb8-8a1bc803bcc6",
   "metadata": {},
   "outputs": [
    {
     "data": {
      "text/plain": [
       "array([[2, 0],\n",
       "       [0, 2]], dtype=uint32)"
      ]
     },
     "execution_count": 15,
     "metadata": {},
     "output_type": "execute_result"
    }
   ],
   "source": [
    "hap_matrix"
   ]
  }
 ],
 "metadata": {
  "kernelspec": {
   "display_name": "tskit-dev-1",
   "language": "python",
   "name": "tskit-dev-1"
  },
  "language_info": {
   "codemirror_mode": {
    "name": "ipython",
    "version": 3
   },
   "file_extension": ".py",
   "mimetype": "text/x-python",
   "name": "python",
   "nbconvert_exporter": "python",
   "pygments_lexer": "ipython3",
   "version": "3.9.13"
  }
 },
 "nbformat": 4,
 "nbformat_minor": 5
}
