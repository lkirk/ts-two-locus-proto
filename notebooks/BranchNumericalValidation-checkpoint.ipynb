{
 "cells": [
  {
   "cell_type": "code",
   "execution_count": 7,
   "id": "89981845-7e0b-4079-9923-c0a2335d7484",
   "metadata": {},
   "outputs": [],
   "source": [
    "from itertools import combinations\n",
    "import numpy as np"
   ]
  },
  {
   "cell_type": "code",
   "execution_count": 3,
   "id": "02ad52bc-e94b-46e6-ac61-0c09443357e5",
   "metadata": {},
   "outputs": [],
   "source": [
    "tmrca0 = {\n",
    "    (0, 1): 3.0,\n",
    "    (0, 2): 7.0,\n",
    "    (0, 3): 10.0,\n",
    "    (1, 2): 7.0,\n",
    "    (1, 3): 10.0,\n",
    "    (2, 3): 10.0\n",
    "}"
   ]
  },
  {
   "cell_type": "code",
   "execution_count": 4,
   "id": "fe54993b-836e-4965-a5de-3aac42c13382",
   "metadata": {},
   "outputs": [],
   "source": [
    "tmrca1 = {\n",
    "    (0, 1): 4.0,\n",
    "    (0, 2): 11.0,\n",
    "    (0, 3): 11.0,\n",
    "    (1, 2): 11.0,\n",
    "    (1, 3): 11.0,\n",
    "    (2, 3): 5.0\n",
    "}"
   ]
  },
  {
   "cell_type": "code",
   "execution_count": 5,
   "id": "589be828-aed7-49c6-8da6-5d83b6f610d3",
   "metadata": {},
   "outputs": [],
   "source": [
    "def gen_ijk(i, j, n):\n",
    "    for k in sorted(set(range(n)) - {i, j}):\n",
    "        yield i, j, k\n",
    "        yield j, i, k"
   ]
  },
  {
   "cell_type": "code",
   "execution_count": 6,
   "id": "ab60f18f-692f-4305-be26-24192515ff65",
   "metadata": {},
   "outputs": [],
   "source": [
    "def gen_ijkl(i, j, n):\n",
    "    for k, l in combinations(sorted(set(range(n)) - {i, j}), 2):\n",
    "        yield i, j, k, l"
   ]
  },
  {
   "cell_type": "code",
   "execution_count": 20,
   "id": "94b0bf44-46ce-40fe-91fd-793c2016e195",
   "metadata": {},
   "outputs": [],
   "source": [
    "def s(i, j):\n",
    "    return tuple(sorted([i, j]))"
   ]
  },
  {
   "cell_type": "code",
   "execution_count": 8,
   "id": "974c214e-cbb5-4cfe-84eb-b583eebc136f",
   "metadata": {},
   "outputs": [],
   "source": [
    "ij = list(combinations(range(4), 2))"
   ]
  },
  {
   "cell_type": "code",
   "execution_count": 10,
   "id": "b049b48d-b45e-4a00-b529-258a696e39b5",
   "metadata": {},
   "outputs": [],
   "source": [
    "n_ij = len(ij)\n",
    "n_ijk = len([p for i, j in ij for p in gen_ijk(i, j, 4)])\n",
    "n_ijkl = len([p for i, j in ij for p in gen_ijkl(i, j, 4)])"
   ]
  },
  {
   "cell_type": "code",
   "execution_count": 11,
   "id": "bd06d1da-c0a9-4271-83e6-6255634be114",
   "metadata": {},
   "outputs": [
    {
     "data": {
      "text/plain": [
       "24"
      ]
     },
     "execution_count": 11,
     "metadata": {},
     "output_type": "execute_result"
    }
   ],
   "source": [
    "n_ijk"
   ]
  },
  {
   "cell_type": "code",
   "execution_count": 12,
   "id": "e9b855fe-61e2-471f-b8b8-a5f132ef803f",
   "metadata": {},
   "outputs": [
    {
     "data": {
      "text/plain": [
       "6"
      ]
     },
     "execution_count": 12,
     "metadata": {},
     "output_type": "execute_result"
    }
   ],
   "source": [
    "n_ij"
   ]
  },
  {
   "cell_type": "code",
   "execution_count": 13,
   "id": "bd8b41bc-342a-4acf-9fb3-315c4f7a812e",
   "metadata": {},
   "outputs": [
    {
     "data": {
      "text/plain": [
       "6"
      ]
     },
     "execution_count": 13,
     "metadata": {},
     "output_type": "execute_result"
    }
   ],
   "source": [
    "n_ijkl"
   ]
  },
  {
   "cell_type": "code",
   "execution_count": 51,
   "id": "700d6ec3-8a86-430e-9b96-6c7a516fafbd",
   "metadata": {},
   "outputs": [
    {
     "data": {
      "text/plain": [
       "67.83333333333333"
      ]
     },
     "execution_count": 51,
     "metadata": {},
     "output_type": "execute_result"
    }
   ],
   "source": [
    "e_ijij = np.sum([tmrca0[i, j] * tmrca0[i, j] for i, j in ij])\n",
    "e_ijij / n_ij"
   ]
  },
  {
   "cell_type": "code",
   "execution_count": 52,
   "id": "040745f4-13d8-4a4f-b590-90437720c5aa",
   "metadata": {},
   "outputs": [
    {
     "data": {
      "text/plain": [
       "60.916666666666664"
      ]
     },
     "execution_count": 52,
     "metadata": {},
     "output_type": "execute_result"
    }
   ],
   "source": [
    "e_ijik = np.sum([tmrca0[s(_i, _j)] * tmrca0[s(_i, _k)] for i, j in ij for _i, _j, _k in gen_ijk(i, j, 4)])\n",
    "e_ijik / n_ijk"
   ]
  },
  {
   "cell_type": "code",
   "execution_count": 53,
   "id": "78354031-9c7d-4d47-8405-60016b9c3385",
   "metadata": {},
   "outputs": [
    {
     "data": {
      "text/plain": [
       "56.666666666666664"
      ]
     },
     "execution_count": 53,
     "metadata": {},
     "output_type": "execute_result"
    }
   ],
   "source": [
    "e_ijkl = np.sum([tmrca0[s(_i, _j)] * tmrca0[s(_k, _l)] for i, j in ij for _i, _j, _k, _l in gen_ijkl(i, j, 4)])\n",
    "e_ijkl / n_ijkl"
   ]
  },
  {
   "cell_type": "code",
   "execution_count": 54,
   "id": "d40a92d8-7836-4d7f-bdf3-363df04c774c",
   "metadata": {},
   "outputs": [],
   "source": [
    "for i, j in ij:\n",
    "    e_ijij -= tmrca0[i, j] * tmrca0[i, j]\n",
    "    e_ijij += tmrca0[i, j] * tmrca1[i, j]"
   ]
  },
  {
   "cell_type": "code",
   "execution_count": 55,
   "id": "96353bca-52a5-4f4c-bd78-be37737b332c",
   "metadata": {},
   "outputs": [
    {
     "data": {
      "text/plain": [
       "72.66666666666667"
      ]
     },
     "execution_count": 55,
     "metadata": {},
     "output_type": "execute_result"
    }
   ],
   "source": [
    "e_ijij / n_ij"
   ]
  },
  {
   "cell_type": "code",
   "execution_count": 56,
   "id": "7fa465a7-48d8-4bf2-ad09-667a048648f5",
   "metadata": {},
   "outputs": [],
   "source": [
    "for i, j in ij:\n",
    "    for _i, _j, _k in gen_ijk(i, j, 4):\n",
    "        e_ijik -= tmrca0[s(_i, _j)] * tmrca0[s(_i, _k)]\n",
    "        e_ijik += tmrca0[s(_i, _j)] * tmrca1[s(_i, _k)]"
   ]
  },
  {
   "cell_type": "code",
   "execution_count": 57,
   "id": "8efb2826-a8a8-4771-b65d-0d211389fe02",
   "metadata": {},
   "outputs": [
    {
     "data": {
      "text/plain": [
       "67.75"
      ]
     },
     "execution_count": 57,
     "metadata": {},
     "output_type": "execute_result"
    }
   ],
   "source": [
    "e_ijik / n_ijk"
   ]
  },
  {
   "cell_type": "code",
   "execution_count": 58,
   "id": "ad790249-a8b7-4c1e-aa31-df440360bc5b",
   "metadata": {},
   "outputs": [],
   "source": [
    "for i, j in ij:\n",
    "    for _i, _j, _k, _l in gen_ijkl(i, j, 4):\n",
    "        e_ijkl -= tmrca0[s(_i, _j)] * tmrca0[s(_k, _l)]\n",
    "        e_ijkl += tmrca0[s(_i, _j)] * tmrca1[s(_k, _l)]"
   ]
  },
  {
   "cell_type": "code",
   "execution_count": 60,
   "id": "ccf329be-e0e4-4a01-986c-d097dd317652",
   "metadata": {},
   "outputs": [
    {
     "data": {
      "text/plain": [
       "71.5"
      ]
     },
     "execution_count": 60,
     "metadata": {},
     "output_type": "execute_result"
    }
   ],
   "source": [
    "e_ijkl / n_ijkl"
   ]
  }
 ],
 "metadata": {
  "kernelspec": {
   "display_name": "tskit-dev-2",
   "language": "python",
   "name": "tskit-dev-2"
  },
  "language_info": {
   "codemirror_mode": {
    "name": "ipython",
    "version": 3
   },
   "file_extension": ".py",
   "mimetype": "text/x-python",
   "name": "python",
   "nbconvert_exporter": "python",
   "pygments_lexer": "ipython3",
   "version": "3.11.4"
  }
 },
 "nbformat": 4,
 "nbformat_minor": 5
}
