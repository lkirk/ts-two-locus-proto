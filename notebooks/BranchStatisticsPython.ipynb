{
 "cells": [
  {
   "cell_type": "code",
   "execution_count": 4,
   "id": "809e40d3-c2b7-4457-9c04-86bd83ed0f34",
   "metadata": {},
   "outputs": [],
   "source": [
    "import tskit\n",
    "import msprime\n",
    "import numpy as np"
   ]
  },
  {
   "cell_type": "code",
   "execution_count": 5,
   "id": "9c49634e-794f-45e4-b0ef-08c6676ceed0",
   "metadata": {},
   "outputs": [],
   "source": [
    "def print_windows(left, right):\n",
    "    print('left: ', [(left[i], left[i + 1]) for i in range(len(left) - 1)])\n",
    "    print('right: ', [(right[i], right[i + 1]) for i in range(len(right) - 1)])\n",
    "\n",
    "def check_windows(windows, num_windows, ts_length, print_=True):\n",
    "    left_len, right_len = num_windows\n",
    "    left_windows = windows[:left_len]\n",
    "    right_windows = windows[left_len:]\n",
    "\n",
    "    if print_:\n",
    "        print_windows(left_windows, right_windows)\n",
    "\n",
    "    for i in range(left_len - 1):\n",
    "        if (left_windows[i] >= left_windows[i + 1]):\n",
    "            raise ValueError(f'Bad window (left) [{left_windows[i]}, {left_windows[i + 1]})')\n",
    "\n",
    "    for i in range(right_len - 1):\n",
    "        if (right_windows[i] >= right_windows[i + 1]):\n",
    "            raise ValueError(f'Bad window (right) {right_windows[i]}, {right_windows[i + 1]}')\n",
    "\n",
    "    if left_windows[left_len - 1] > ts_length:\n",
    "        raise ValueError('Left windows out of bounds')\n",
    "\n",
    "    if right_windows[right_len - 1] > ts_length:\n",
    "        raise ValueError('Right windows out of bounds')"
   ]
  },
  {
   "cell_type": "code",
   "execution_count": 6,
   "id": "2b061c35-5383-4659-b949-8f44046c6a74",
   "metadata": {},
   "outputs": [
    {
     "data": {
      "image/svg+xml": [
       "<svg baseProfile=\"full\" height=\"200\" version=\"1.1\" width=\"400\" xmlns=\"http://www.w3.org/2000/svg\" xmlns:ev=\"http://www.w3.org/2001/xml-events\" xmlns:xlink=\"http://www.w3.org/1999/xlink\"><defs><style type=\"text/css\"><![CDATA[.background path {fill: #808080; fill-opacity: 0}.background path:nth-child(odd) {fill-opacity: .1}.axes {font-size: 14px}.x-axis .tick .lab {font-weight: bold; dominant-baseline: hanging}.axes, .tree {font-size: 14px; text-anchor: middle}.axes line, .edge {stroke: black; fill: none}.axes .ax-skip {stroke-dasharray: 4}.y-axis .grid {stroke: #FAFAFA}.node > .sym {fill: black; stroke: none}.site > .sym {stroke: black}.mut text {fill: red; font-style: italic}.mut.extra text {fill: hotpink}.mut line {fill: none; stroke: none}.mut .sym {fill: none; stroke: red}.mut.extra .sym {stroke: hotpink}.node .mut .sym {stroke-width: 1.5px}.tree text, .tree-sequence text {dominant-baseline: central}.plotbox .lab.lft {text-anchor: end}.plotbox .lab.rgt {text-anchor: start}]]></style></defs><g class=\"tree-sequence\"><g class=\"background\"><path d=\"M56.8,0 l161.6,0 l0,138.2 l2.84217e-14,25 l0,5 l-161.6,0 l0,-5 l0,-25 l0,-138.2z\" /><path d=\"M218.4,0 l161.6,0 l0,138.2 l0,25 l0,5 l-161.6,0 l0,-5 l0,-25 l0,-138.2z\" /></g><g class=\"axes\"><g class=\"x-axis\"><g class=\"title\" transform=\"translate(218.4 200)\"><text class=\"lab\" text-anchor=\"middle\" transform=\"translate(0 -11)\">Genome position</text></g><line class=\"ax-line\" x1=\"56.8\" x2=\"380\" y1=\"163.2\" y2=\"163.2\" /><g class=\"ticks\"><g class=\"tick\" transform=\"translate(56.8 163.2)\"><line x1=\"0\" x2=\"0\" y1=\"0\" y2=\"5\" /><g transform=\"translate(0 6)\"><text class=\"lab\">0</text></g></g><g class=\"tick\" transform=\"translate(218.4 163.2)\"><line x1=\"0\" x2=\"0\" y1=\"0\" y2=\"5\" /><g transform=\"translate(0 6)\"><text class=\"lab\">1</text></g></g><g class=\"tick\" transform=\"translate(380 163.2)\"><line x1=\"0\" x2=\"0\" y1=\"0\" y2=\"5\" /><g transform=\"translate(0 6)\"><text class=\"lab\">2</text></g></g></g></g><g class=\"y-axis\"><g class=\"title\" transform=\"translate(0 65.7)\"><text class=\"lab\" text-anchor=\"middle\" transform=\"translate(11) rotate(-90)\">Time (generations)</text></g><line class=\"ax-line\" x1=\"56.8\" x2=\"56.8\" y1=\"121.4\" y2=\"10\" /><g class=\"ticks\"><g class=\"tick\" transform=\"translate(56.8 121.4)\"><line x1=\"0\" x2=\"-5\" y1=\"0\" y2=\"0\" /><g transform=\"translate(-6 0)\"><text class=\"lab\" text-anchor=\"end\">0.00</text></g></g><g class=\"tick\" transform=\"translate(56.8 109.942)\"><line x1=\"0\" x2=\"-5\" y1=\"0\" y2=\"0\" /><g transform=\"translate(-6 0)\"><text class=\"lab\" text-anchor=\"end\">416.04</text></g></g><g class=\"tick\" transform=\"translate(56.8 57.7901)\"><line x1=\"0\" x2=\"-5\" y1=\"0\" y2=\"0\" /><g transform=\"translate(-6 0)\"><text class=\"lab\" text-anchor=\"end\">2309.68</text></g></g><g class=\"tick\" transform=\"translate(56.8 48.38)\"><line x1=\"0\" x2=\"-5\" y1=\"0\" y2=\"0\" /><g transform=\"translate(-6 0)\"><text class=\"lab\" text-anchor=\"end\">2651.36</text></g></g><g class=\"tick\" transform=\"translate(56.8 26.8)\"><line x1=\"0\" x2=\"-5\" y1=\"0\" y2=\"0\" /><g transform=\"translate(-6 0)\"><text class=\"lab\" text-anchor=\"end\">3434.93</text></g></g></g></g></g><g class=\"plotbox trees\"><g class=\"tree t0\" transform=\"translate(56.8 0)\"><g class=\"plotbox\"><g class=\"c2 node n7 p0 root\" transform=\"translate(69.4 26.8)\"><g class=\"a7 i0 leaf node n0 p0 sample\" transform=\"translate(-34.2 94.6)\"><path class=\"edge\" d=\"M 0 0 V -94.6 H 34.2\" /><rect class=\"sym\" height=\"6\" width=\"6\" x=\"-3\" y=\"-3\" /><text class=\"lab\" transform=\"translate(0 11)\">0</text></g><g class=\"a7 c2 node n5 p0\" transform=\"translate(34.2 30.9901)\"><g class=\"a5 i1 leaf node n3 p0 sample\" transform=\"translate(22.8 63.6099)\"><path class=\"edge\" d=\"M 0 0 V -63.6099 H -22.8\" /><rect class=\"sym\" height=\"6\" width=\"6\" x=\"-3\" y=\"-3\" /><text class=\"lab\" transform=\"translate(0 11)\">3</text></g><g class=\"a5 c2 node n4 p0\" transform=\"translate(-22.8 52.1519)\"><g class=\"a4 i0 leaf node n1 p0 sample\" transform=\"translate(-15.2 11.458)\"><path class=\"edge\" d=\"M 0 0 V -11.458 H 15.2\" /><rect class=\"sym\" height=\"6\" width=\"6\" x=\"-3\" y=\"-3\" /><text class=\"lab\" transform=\"translate(0 11)\">1</text></g><g class=\"a4 i1 leaf node n2 p0 sample\" transform=\"translate(15.2 11.458)\"><path class=\"edge\" d=\"M 0 0 V -11.458 H -15.2\" /><rect class=\"sym\" height=\"6\" width=\"6\" x=\"-3\" y=\"-3\" /><text class=\"lab\" transform=\"translate(0 11)\">2</text></g><path class=\"edge\" d=\"M 0 0 V -52.1519 H 22.8\" /><circle class=\"sym\" cx=\"0\" cy=\"0\" r=\"3\" /><text class=\"lab lft\" transform=\"translate(-3 -7.0)\">4</text></g><path class=\"edge\" d=\"M 0 0 V -30.9901 H -34.2\" /><circle class=\"sym\" cx=\"0\" cy=\"0\" r=\"3\" /><text class=\"lab rgt\" transform=\"translate(3 -7.0)\">5</text></g><circle class=\"sym\" cx=\"0\" cy=\"0\" r=\"3\" /><text class=\"lab\" transform=\"translate(0 -11)\">7</text></g></g></g><g class=\"tree t1\" transform=\"translate(218.4 0)\"><g class=\"plotbox\"><g class=\"c2 node n7 p0 root\" transform=\"translate(80.8 26.8)\"><g class=\"a7 c2 node n4 p0\" transform=\"translate(30.4 83.142)\"><g class=\"a4 i0 leaf node n1 p0 sample\" transform=\"translate(-15.2 11.458)\"><path class=\"edge\" d=\"M 0 0 V -11.458 H 15.2\" /><rect class=\"sym\" height=\"6\" width=\"6\" x=\"-3\" y=\"-3\" /><text class=\"lab\" transform=\"translate(0 11)\">1</text></g><g class=\"a4 i1 leaf node n2 p0 sample\" transform=\"translate(15.2 11.458)\"><path class=\"edge\" d=\"M 0 0 V -11.458 H -15.2\" /><rect class=\"sym\" height=\"6\" width=\"6\" x=\"-3\" y=\"-3\" /><text class=\"lab\" transform=\"translate(0 11)\">2</text></g><path class=\"edge\" d=\"M 0 0 V -83.142 H -30.4\" /><circle class=\"sym\" cx=\"0\" cy=\"0\" r=\"3\" /><text class=\"lab rgt\" transform=\"translate(3 -7.0)\">4</text></g><g class=\"a7 c2 node n6 p0\" transform=\"translate(-30.4 21.58)\"><g class=\"a6 i0 leaf node n0 p0 sample\" transform=\"translate(-15.2 73.02)\"><path class=\"edge\" d=\"M 0 0 V -73.02 H 15.2\" /><rect class=\"sym\" height=\"6\" width=\"6\" x=\"-3\" y=\"-3\" /><text class=\"lab\" transform=\"translate(0 11)\">0</text></g><g class=\"a6 i1 leaf node n3 p0 sample\" transform=\"translate(15.2 73.02)\"><path class=\"edge\" d=\"M 0 0 V -73.02 H -15.2\" /><rect class=\"sym\" height=\"6\" width=\"6\" x=\"-3\" y=\"-3\" /><text class=\"lab\" transform=\"translate(0 11)\">3</text></g><path class=\"edge\" d=\"M 0 0 V -21.58 H 30.4\" /><circle class=\"sym\" cx=\"0\" cy=\"0\" r=\"3\" /><text class=\"lab lft\" transform=\"translate(-3 -7.0)\">6</text></g><circle class=\"sym\" cx=\"0\" cy=\"0\" r=\"3\" /><text class=\"lab\" transform=\"translate(0 -11)\">7</text></g></g></g></g></g></svg>"
      ],
      "text/plain": [
       "'<svg baseProfile=\"full\" height=\"200\" version=\"1.1\" width=\"400\" xmlns=\"http://www.w3.org/2000/svg\" xmlns:ev=\"http://www.w3.org/2001/xml-events\" xmlns:xlink=\"http://www.w3.org/1999/xlink\"><defs><style type=\"text/css\"><![CDATA[.background path {fill: #808080; fill-opacity: 0}.background path:nth-child(odd) {fill-opacity: .1}.axes {font-size: 14px}.x-axis .tick .lab {font-weight: bold; dominant-baseline: hanging}.axes, .tree {font-size: 14px; text-anchor: middle}.axes line, .edge {stroke: black; fill: none}.axes .ax-skip {stroke-dasharray: 4}.y-axis .grid {stroke: #FAFAFA}.node > .sym {fill: black; stroke: none}.site > .sym {stroke: black}.mut text {fill: red; font-style: italic}.mut.extra text {fill: hotpink}.mut line {fill: none; stroke: none}.mut .sym {fill: none; stroke: red}.mut.extra .sym {stroke: hotpink}.node .mut .sym {stroke-width: 1.5px}.tree text, .tree-sequence text {dominant-baseline: central}.plotbox .lab.lft {text-anchor: end}.plotbox .lab.rgt {text-anchor: start}]]></style></defs><g class=\"tree-sequence\"><g class=\"background\"><path d=\"M56.8,0 l161.6,0 l0,138.2 l2.84217e-14,25 l0,5 l-161.6,0 l0,-5 l0,-25 l0,-138.2z\" /><path d=\"M218.4,0 l161.6,0 l0,138.2 l0,25 l0,5 l-161.6,0 l0,-5 l0,-25 l0,-138.2z\" /></g><g class=\"axes\"><g class=\"x-axis\"><g class=\"title\" transform=\"translate(218.4 200)\"><text class=\"lab\" text-anchor=\"middle\" transform=\"translate(0 -11)\">Genome position</text></g><line class=\"ax-line\" x1=\"56.8\" x2=\"380\" y1=\"163.2\" y2=\"163.2\" /><g class=\"ticks\"><g class=\"tick\" transform=\"translate(56.8 163.2)\"><line x1=\"0\" x2=\"0\" y1=\"0\" y2=\"5\" /><g transform=\"translate(0 6)\"><text class=\"lab\">0</text></g></g><g class=\"tick\" transform=\"translate(218.4 163.2)\"><line x1=\"0\" x2=\"0\" y1=\"0\" y2=\"5\" /><g transform=\"translate(0 6)\"><text class=\"lab\">1</text></g></g><g class=\"tick\" transform=\"translate(380 163.2)\"><line x1=\"0\" x2=\"0\" y1=\"0\" y2=\"5\" /><g transform=\"translate(0 6)\"><text class=\"lab\">2</text></g></g></g></g><g class=\"y-axis\"><g class=\"title\" transform=\"translate(0 65.7)\"><text class=\"lab\" text-anchor=\"middle\" transform=\"translate(11) rotate(-90)\">Time (generations)</text></g><line class=\"ax-line\" x1=\"56.8\" x2=\"56.8\" y1=\"121.4\" y2=\"10\" /><g class=\"ticks\"><g class=\"tick\" transform=\"translate(56.8 121.4)\"><line x1=\"0\" x2=\"-5\" y1=\"0\" y2=\"0\" /><g transform=\"translate(-6 0)\"><text class=\"lab\" text-anchor=\"end\">0.00</text></g></g><g class=\"tick\" transform=\"translate(56.8 109.942)\"><line x1=\"0\" x2=\"-5\" y1=\"0\" y2=\"0\" /><g transform=\"translate(-6 0)\"><text class=\"lab\" text-anchor=\"end\">416.04</text></g></g><g class=\"tick\" transform=\"translate(56.8 57.7901)\"><line x1=\"0\" x2=\"-5\" y1=\"0\" y2=\"0\" /><g transform=\"translate(-6 0)\"><text class=\"lab\" text-anchor=\"end\">2309.68</text></g></g><g class=\"tick\" transform=\"translate(56.8 48.38)\"><line x1=\"0\" x2=\"-5\" y1=\"0\" y2=\"0\" /><g transform=\"translate(-6 0)\"><text class=\"lab\" text-anchor=\"end\">2651.36</text></g></g><g class=\"tick\" transform=\"translate(56.8 26.8)\"><line x1=\"0\" x2=\"-5\" y1=\"0\" y2=\"0\" /><g transform=\"translate(-6 0)\"><text class=\"lab\" text-anchor=\"end\">3434.93</text></g></g></g></g></g><g class=\"plotbox trees\"><g class=\"tree t0\" transform=\"translate(56.8 0)\"><g class=\"plotbox\"><g class=\"c2 node n7 p0 root\" transform=\"translate(69.4 26.8)\"><g class=\"a7 i0 leaf node n0 p0 sample\" transform=\"translate(-34.2 94.6)\"><path class=\"edge\" d=\"M 0 0 V -94.6 H 34.2\" /><rect class=\"sym\" height=\"6\" width=\"6\" x=\"-3\" y=\"-3\" /><text class=\"lab\" transform=\"translate(0 11)\">0</text></g><g class=\"a7 c2 node n5 p0\" transform=\"translate(34.2 30.9901)\"><g class=\"a5 i1 leaf node n3 p0 sample\" transform=\"translate(22.8 63.6099)\"><path class=\"edge\" d=\"M 0 0 V -63.6099 H -22.8\" /><rect class=\"sym\" height=\"6\" width=\"6\" x=\"-3\" y=\"-3\" /><text class=\"lab\" transform=\"translate(0 11)\">3</text></g><g class=\"a5 c2 node n4 p0\" transform=\"translate(-22.8 52.1519)\"><g class=\"a4 i0 leaf node n1 p0 sample\" transform=\"translate(-15.2 11.458)\"><path class=\"edge\" d=\"M 0 0 V -11.458 H 15.2\" /><rect class=\"sym\" height=\"6\" width=\"6\" x=\"-3\" y=\"-3\" /><text class=\"lab\" transform=\"translate(0 11)\">1</text></g><g class=\"a4 i1 leaf node n2 p0 sample\" transform=\"translate(15.2 11.458)\"><path class=\"edge\" d=\"M 0 0 V -11.458 H -15.2\" /><rect class=\"sym\" height=\"6\" width=\"6\" x=\"-3\" y=\"-3\" /><text class=\"lab\" transform=\"translate(0 11)\">2</text></g><path class=\"edge\" d=\"M 0 0 V -52.1519 H 22.8\" /><circle class=\"sym\" cx=\"0\" cy=\"0\" r=\"3\" /><text class=\"lab lft\" transform=\"translate(-3 -7.0)\">4</text></g><path class=\"edge\" d=\"M 0 0 V -30.9901 H -34.2\" /><circle class=\"sym\" cx=\"0\" cy=\"0\" r=\"3\" /><text class=\"lab rgt\" transform=\"translate(3 -7.0)\">5</text></g><circle class=\"sym\" cx=\"0\" cy=\"0\" r=\"3\" /><text class=\"lab\" transform=\"translate(0 -11)\">7</text></g></g></g><g class=\"tree t1\" transform=\"translate(218.4 0)\"><g class=\"plotbox\"><g class=\"c2 node n7 p0 root\" transform=\"translate(80.8 26.8)\"><g class=\"a7 c2 node n4 p0\" transform=\"translate(30.4 83.142)\"><g class=\"a4 i0 leaf node n1 p0 sample\" transform=\"translate(-15.2 11.458)\"><path class=\"edge\" d=\"M 0 0 V -11.458 H 15.2\" /><rect class=\"sym\" height=\"6\" width=\"6\" x=\"-3\" y=\"-3\" /><text class=\"lab\" transform=\"translate(0 11)\">1</text></g><g class=\"a4 i1 leaf node n2 p0 sample\" transform=\"translate(15.2 11.458)\"><path class=\"edge\" d=\"M 0 0 V -11.458 H -15.2\" /><rect class=\"sym\" height=\"6\" width=\"6\" x=\"-3\" y=\"-3\" /><text class=\"lab\" transform=\"translate(0 11)\">2</text></g><path class=\"edge\" d=\"M 0 0 V -83.142 H -30.4\" /><circle class=\"sym\" cx=\"0\" cy=\"0\" r=\"3\" /><text class=\"lab rgt\" transform=\"translate(3 -7.0)\">4</text></g><g class=\"a7 c2 node n6 p0\" transform=\"translate(-30.4 21.58)\"><g class=\"a6 i0 leaf node n0 p0 sample\" transform=\"translate(-15.2 73.02)\"><path class=\"edge\" d=\"M 0 0 V -73.02 H 15.2\" /><rect class=\"sym\" height=\"6\" width=\"6\" x=\"-3\" y=\"-3\" /><text class=\"lab\" transform=\"translate(0 11)\">0</text></g><g class=\"a6 i1 leaf node n3 p0 sample\" transform=\"translate(15.2 73.02)\"><path class=\"edge\" d=\"M 0 0 V -73.02 H -15.2\" /><rect class=\"sym\" height=\"6\" width=\"6\" x=\"-3\" y=\"-3\" /><text class=\"lab\" transform=\"translate(0 11)\">3</text></g><path class=\"edge\" d=\"M 0 0 V -21.58 H 30.4\" /><circle class=\"sym\" cx=\"0\" cy=\"0\" r=\"3\" /><text class=\"lab lft\" transform=\"translate(-3 -7.0)\">6</text></g><circle class=\"sym\" cx=\"0\" cy=\"0\" r=\"3\" /><text class=\"lab\" transform=\"translate(0 -11)\">7</text></g></g></g></g></g></svg>'"
      ]
     },
     "execution_count": 6,
     "metadata": {},
     "output_type": "execute_result"
    }
   ],
   "source": [
    "ts = msprime.sim_ancestry(\n",
    "    samples=2,\n",
    "    population_size=1000,\n",
    "    recombination_rate=5e-4,\n",
    "    sequence_length=2,\n",
    "    random_seed=123\n",
    ")\n",
    "ts.draw_svg(y_axis=True)"
   ]
  },
  {
   "cell_type": "code",
   "execution_count": 7,
   "id": "bcf524a6-7b27-436b-bacd-974a9563cd9a",
   "metadata": {},
   "outputs": [],
   "source": [
    "def get_tree_ranges(windows, num_windows, ts):\n",
    "    ranges = np.zeros(num_windows, np.uint64)\n",
    "    scales = np.zeros(num_windows, np.float64)\n",
    "    win = 0\n",
    "    t = 0\n",
    "    tree = ts.at_index(t)\n",
    "    while True:\n",
    "        start = windows[win]\n",
    "        stop = windows[win + 1]\n",
    "        # seek to start\n",
    "        while tree.interval.left < start:\n",
    "            t += 1\n",
    "            tree = ts.at_index(t)\n",
    "        ranges[win] = t\n",
    "        scales[win] = min(tree.interval.right, stop) - max(tree.interval.left, start)\n",
    "        # seek within range\n",
    "        while stop < tree.interval.right:\n",
    "            win += 1\n",
    "            ranges[win] = t\n",
    "            scales[win] = min(tree.interval.right, stop) - max(tree.interval.left, start)\n",
    "            if win == num_windows - 1:\n",
    "                return ranges, scales\n",
    "            start = windows[win]\n",
    "            stop = windows[win + 1]\n",
    "        win += 1\n",
    "        ranges[win] = t\n",
    "        scales[win] = min(tree.interval.right, stop) - max(tree.interval.left, start)\n",
    "        if win == num_windows - 1:\n",
    "            return ranges, scales\n",
    "    return ranges, scales"
   ]
  },
  {
   "cell_type": "code",
   "execution_count": 8,
   "id": "3663a820-27b3-4a39-9ab2-74b86827a34e",
   "metadata": {},
   "outputs": [],
   "source": [
    "# # TODO: fix this case\n",
    "# windows = [0, 1.3, 1.5, 1.8, 2]\n",
    "# check_windows(windows + windows, (len(windows), len(windows)), ts.sequence_length)\n",
    "# get_tree_ranges(windows, len(windows), ts)"
   ]
  },
  {
   "cell_type": "code",
   "execution_count": 9,
   "id": "2db90fc2-f8e4-44ab-a994-ecc7951557a4",
   "metadata": {},
   "outputs": [
    {
     "name": "stdout",
     "output_type": "stream",
     "text": [
      "left:  [(0, 0.1), (0.1, 0.2), (0.2, 0.3), (0.3, 1), (1, 1.2), (1.2, 1.5), (1.5, 1.8), (1.8, 2)]\n",
      "right:  [(0, 0.1), (0.1, 0.2), (0.2, 0.3), (0.3, 1), (1, 1.2), (1.2, 1.5), (1.5, 1.8), (1.8, 2)]\n"
     ]
    },
    {
     "data": {
      "text/plain": [
       "(array([0, 0, 0, 0, 1, 1, 1, 1, 1], dtype=uint64),\n",
       " array([0.1, 0.1, 0.1, 0.1, 0.2, 0.2, 0.3, 0.3, 0.2]))"
      ]
     },
     "execution_count": 9,
     "metadata": {},
     "output_type": "execute_result"
    }
   ],
   "source": [
    "windows = [0, .1, .2, .3, 1, 1.2, 1.5, 1.8, 2]\n",
    "check_windows(windows + windows, (len(windows), len(windows)), ts.sequence_length)\n",
    "get_tree_ranges(windows, len(windows), ts)"
   ]
  },
  {
   "cell_type": "code",
   "execution_count": 13,
   "id": "62e00b4b-739d-42cf-a1aa-05098ff289ab",
   "metadata": {},
   "outputs": [],
   "source": [
    "def two_branch_stat(ts, left_windows, left_span, right_windows, right_span):\n",
    "    e_ijij = 0\n",
    "    e_ijik = 0\n",
    "    e_ijkl = 0\n",
    "    "
   ]
  },
  {
   "cell_type": "code",
   "execution_count": 16,
   "id": "f0c7252b-a8d7-4e21-b069-c5d244a8fa8e",
   "metadata": {},
   "outputs": [],
   "source": [
    "from itertools import combinations"
   ]
  },
  {
   "cell_type": "code",
   "execution_count": 18,
   "id": "00eba141-cdab-4bb4-96a6-505656691408",
   "metadata": {
    "tags": []
   },
   "outputs": [
    {
     "data": {
      "text/plain": [
       "True"
      ]
     },
     "execution_count": 18,
     "metadata": {},
     "output_type": "execute_result"
    }
   ],
   "source": [
    "a == b"
   ]
  },
  {
   "cell_type": "code",
   "execution_count": 19,
   "id": "cf912177-4043-417c-b6af-27b0904a2b25",
   "metadata": {},
   "outputs": [],
   "source": [
    "# ts = msprime.sim_ancestry(\n",
    "#     samples=3,\n",
    "#     population_size=100,\n",
    "#     recombination_rate=2e-8,\n",
    "#     sequence_length=1e5,\n",
    "#     random_seed=122\n",
    "# )\n",
    "\n",
    "# ts.draw_svg(y_axis=True)"
   ]
  },
  {
   "cell_type": "code",
   "execution_count": 20,
   "id": "dda80a68-ab65-440d-92d3-dbb11e05d0d3",
   "metadata": {},
   "outputs": [],
   "source": [
    "def pairwise_windows(ts, d):\n",
    "    # S, T are the left and right trees\n",
    "    S = ts.first()\n",
    "    T = ts.at(d) \n",
    "    l = 0\n",
    "    r = d\n",
    "    L = []  # an empty list\n",
    "\n",
    "    # while the right end of the last window doesn't reach the end point of the entire sequence\n",
    "    while r < ts.sequence_length: \n",
    "        # non-overlapping length candidates \n",
    "        # ld is the non-overlapping length from the left tree and rd is from the right tree\n",
    "        ld = S.interval.right - l  \n",
    "        rd = T.interval.right - r  \n",
    "        L.append([S.index, T.index, min(ld, rd)])\n",
    "\n",
    "        \n",
    "        # slide the interval to the right side\n",
    "        if ld > rd:\n",
    "            l += rd\n",
    "\n",
    "            # end condition of the entire process\n",
    "            if ts.sequence_length == (r + rd):\n",
    "                break\n",
    "            T.next()\n",
    "            r = T.interval.left  # interval left bound of T\n",
    "        # slide the interval to the left side\n",
    "        else: \n",
    "            r += ld\n",
    "            S.next()\n",
    "            l = S.interval.left # interval left bound of S\n",
    "    return L"
   ]
  },
  {
   "cell_type": "code",
   "execution_count": 21,
   "id": "0d56547d-faf1-429a-b3d4-a148de164f1c",
   "metadata": {},
   "outputs": [
    {
     "data": {
      "text/plain": [
       "[[0, 0, 0.999], [0, 1, 0.0010000000000000009], [1, 1, 0.9990000000000001]]"
      ]
     },
     "execution_count": 21,
     "metadata": {},
     "output_type": "execute_result"
    }
   ],
   "source": [
    "pairwise_windows(ts, .001)"
   ]
  },
  {
   "cell_type": "code",
   "execution_count": 28,
   "id": "28f0197a-9cba-446a-b625-794051ff0859",
   "metadata": {},
   "outputs": [],
   "source": [
    "from itertools import combinations"
   ]
  },
  {
   "cell_type": "code",
   "execution_count": 29,
   "id": "f5de8944-820b-4e5b-8adf-ee01a1ccb815",
   "metadata": {},
   "outputs": [
    {
     "data": {
      "text/plain": [
       "[(0, 1), (0, 2), (0, 3), (1, 2), (1, 3), (2, 3)]"
      ]
     },
     "execution_count": 29,
     "metadata": {},
     "output_type": "execute_result"
    }
   ],
   "source": [
    "list(combinations(ts.samples(), 2))"
   ]
  },
  {
   "cell_type": "code",
   "execution_count": 63,
   "id": "645ed02d-cbb7-4d64-b2e2-8604aeec64a1",
   "metadata": {},
   "outputs": [],
   "source": [
    "def get_tmrca_for_all_samples_all_trees(ts):\n",
    "    return [\n",
    "        {(a, b): tree.tmrca(a, b) for a, b in combinations(ts.samples(), 2)}\n",
    "        for tree in ts.trees()\n",
    "    ]"
   ]
  },
  {
   "cell_type": "code",
   "execution_count": 66,
   "id": "7777651a-c80a-41a9-9fa7-8a0fe84ae0f6",
   "metadata": {},
   "outputs": [
    {
     "data": {
      "text/plain": [
       "[{(0, 1): 3434.9319915864203,\n",
       "  (0, 2): 3434.9319915864203,\n",
       "  (0, 3): 3434.9319915864203,\n",
       "  (1, 2): 416.03913361240484,\n",
       "  (1, 3): 2309.6791068836915,\n",
       "  (2, 3): 2309.6791068836915},\n",
       " {(0, 1): 3434.9319915864203,\n",
       "  (0, 2): 3434.9319915864203,\n",
       "  (0, 3): 2651.3610982033315,\n",
       "  (1, 2): 416.03913361240484,\n",
       "  (1, 3): 3434.9319915864203,\n",
       "  (2, 3): 3434.9319915864203}]"
      ]
     },
     "execution_count": 66,
     "metadata": {},
     "output_type": "execute_result"
    }
   ],
   "source": [
    "get_tmrca_for_all_samples_all_trees(ts)"
   ]
  },
  {
   "cell_type": "code",
   "execution_count": 17,
   "id": "cf1b51b1-df5a-4a16-9c87-915fdc794448",
   "metadata": {},
   "outputs": [],
   "source": [
    "b = []\n",
    "n = 5\n",
    "for i, j in combinations(range(n), 2):\n",
    "    b.append((i, j))\n",
    "    for k in range(n):\n",
    "        if k == i or k == j:\n",
    "            continue\n",
    "        else:\n",
    "            b.append((i, j, k))\n",
    "            for l in range(k + 1, n):\n",
    "                if (l == i or l == j):\n",
    "                    continue\n",
    "                else:\n",
    "                    b.append((i, j, k,l))"
   ]
  },
  {
   "cell_type": "code",
   "execution_count": 144,
   "id": "0f76948e-a62b-4e44-99ac-b8b491af38f6",
   "metadata": {},
   "outputs": [
    {
     "data": {
      "text/plain": [
       "[[0, 0, 0.5], [0, 1, 0.5], [1, 1, 0.5]]"
      ]
     },
     "execution_count": 144,
     "metadata": {},
     "output_type": "execute_result"
    }
   ],
   "source": [
    "pairwise_windows(ts, .5)"
   ]
  },
  {
   "cell_type": "code",
   "execution_count": 146,
   "id": "b1b37145-5611-4582-b1bd-4de29238b06b",
   "metadata": {},
   "outputs": [
    {
     "data": {
      "text/plain": [
       "array([0.5, 1. , 1.5])"
      ]
     },
     "execution_count": 146,
     "metadata": {},
     "output_type": "execute_result"
    }
   ],
   "source": [
    "np.arange(.5, 2, .5)"
   ]
  },
  {
   "cell_type": "code",
   "execution_count": 151,
   "id": "fc4f2d9f-9abb-4c32-88f6-ff24730d2eb8",
   "metadata": {},
   "outputs": [
    {
     "name": "stdout",
     "output_type": "stream",
     "text": [
      "left:  [(0.0, 0.5), (0.5, 1.0), (1.0, 1.5)]\n",
      "right:  [(0.0, 0.5), (0.5, 1.0), (1.0, 1.5)]\n"
     ]
    },
    {
     "data": {
      "text/plain": [
       "(array([0, 0, 1, 1], dtype=uint64), array([0.5, 0.5, 0.5, 0.5]))"
      ]
     },
     "execution_count": 151,
     "metadata": {},
     "output_type": "execute_result"
    }
   ],
   "source": [
    "windows = list(np.arange(0, 2, .5))\n",
    "check_windows(windows + windows, (len(windows), len(windows)), ts.sequence_length)\n",
    "get_tree_ranges(windows, len(windows), ts)"
   ]
  },
  {
   "cell_type": "code",
   "execution_count": 149,
   "id": "eb7772d1-4f02-4f5c-8c58-7b58a9c11ed4",
   "metadata": {},
   "outputs": [
    {
     "data": {
      "image/svg+xml": [
       "<svg baseProfile=\"full\" height=\"200\" version=\"1.1\" width=\"400\" xmlns=\"http://www.w3.org/2000/svg\" xmlns:ev=\"http://www.w3.org/2001/xml-events\" xmlns:xlink=\"http://www.w3.org/1999/xlink\"><defs><style type=\"text/css\"><![CDATA[.background path {fill: #808080; fill-opacity: 0}.background path:nth-child(odd) {fill-opacity: .1}.axes {font-size: 14px}.x-axis .tick .lab {font-weight: bold; dominant-baseline: hanging}.axes, .tree {font-size: 14px; text-anchor: middle}.axes line, .edge {stroke: black; fill: none}.axes .ax-skip {stroke-dasharray: 4}.y-axis .grid {stroke: #FAFAFA}.node > .sym {fill: black; stroke: none}.site > .sym {stroke: black}.mut text {fill: red; font-style: italic}.mut.extra text {fill: hotpink}.mut line {fill: none; stroke: none}.mut .sym {fill: none; stroke: red}.mut.extra .sym {stroke: hotpink}.node .mut .sym {stroke-width: 1.5px}.tree text, .tree-sequence text {dominant-baseline: central}.plotbox .lab.lft {text-anchor: end}.plotbox .lab.rgt {text-anchor: start}]]></style></defs><g class=\"tree-sequence\"><g class=\"background\"><path d=\"M20,0 l180,0 l0,138.2 l0,25 l0,5 l-180,0 l0,-5 l0,-25 l0,-138.2z\" /><path d=\"M200,0 l180,0 l0,138.2 l0,25 l0,5 l-180,0 l0,-5 l0,-25 l0,-138.2z\" /></g><g class=\"axes\"><g class=\"x-axis\"><g class=\"title\" transform=\"translate(200 200)\"><text class=\"lab\" text-anchor=\"middle\" transform=\"translate(0 -11)\">Genome position</text></g><line class=\"ax-line\" x1=\"20\" x2=\"380\" y1=\"163.2\" y2=\"163.2\" /><g class=\"ticks\"><g class=\"tick\" transform=\"translate(20 163.2)\"><line x1=\"0\" x2=\"0\" y1=\"0\" y2=\"5\" /><g transform=\"translate(0 6)\"><text class=\"lab\">0</text></g></g><g class=\"tick\" transform=\"translate(200 163.2)\"><line x1=\"0\" x2=\"0\" y1=\"0\" y2=\"5\" /><g transform=\"translate(0 6)\"><text class=\"lab\">1</text></g></g><g class=\"tick\" transform=\"translate(380 163.2)\"><line x1=\"0\" x2=\"0\" y1=\"0\" y2=\"5\" /><g transform=\"translate(0 6)\"><text class=\"lab\">2</text></g></g></g></g></g><g class=\"plotbox trees\"><g class=\"tree t0\" transform=\"translate(20 0)\"><g class=\"plotbox\"><g class=\"c2 node n7 p0 root\" transform=\"translate(76.875 26.8)\"><g class=\"a7 i0 leaf node n0 p0 sample\" transform=\"translate(-39.375 94.6)\"><path class=\"edge\" d=\"M 0 0 V -94.6 H 39.375\" /><rect class=\"sym\" height=\"6\" width=\"6\" x=\"-3\" y=\"-3\" /><text class=\"lab\" transform=\"translate(0 11)\">0</text></g><g class=\"a7 c2 node n5 p0\" transform=\"translate(39.375 30.9901)\"><g class=\"a5 i1 leaf node n3 p0 sample\" transform=\"translate(26.25 63.6099)\"><path class=\"edge\" d=\"M 0 0 V -63.6099 H -26.25\" /><rect class=\"sym\" height=\"6\" width=\"6\" x=\"-3\" y=\"-3\" /><text class=\"lab\" transform=\"translate(0 11)\">3</text></g><g class=\"a5 c2 node n4 p0\" transform=\"translate(-26.25 52.1519)\"><g class=\"a4 i0 leaf node n1 p0 sample\" transform=\"translate(-17.5 11.458)\"><path class=\"edge\" d=\"M 0 0 V -11.458 H 17.5\" /><rect class=\"sym\" height=\"6\" width=\"6\" x=\"-3\" y=\"-3\" /><text class=\"lab\" transform=\"translate(0 11)\">1</text></g><g class=\"a4 i1 leaf node n2 p0 sample\" transform=\"translate(17.5 11.458)\"><path class=\"edge\" d=\"M 0 0 V -11.458 H -17.5\" /><rect class=\"sym\" height=\"6\" width=\"6\" x=\"-3\" y=\"-3\" /><text class=\"lab\" transform=\"translate(0 11)\">2</text></g><path class=\"edge\" d=\"M 0 0 V -52.1519 H 26.25\" /><circle class=\"sym\" cx=\"0\" cy=\"0\" r=\"3\" /><text class=\"lab lft\" transform=\"translate(-3 -7.0)\">4</text></g><path class=\"edge\" d=\"M 0 0 V -30.9901 H -39.375\" /><circle class=\"sym\" cx=\"0\" cy=\"0\" r=\"3\" /><text class=\"lab rgt\" transform=\"translate(3 -7.0)\">5</text></g><circle class=\"sym\" cx=\"0\" cy=\"0\" r=\"3\" /><text class=\"lab\" transform=\"translate(0 -11)\">7</text></g></g></g><g class=\"tree t1\" transform=\"translate(200 0)\"><g class=\"plotbox\"><g class=\"c2 node n7 p0 root\" transform=\"translate(90 26.8)\"><g class=\"a7 c2 node n4 p0\" transform=\"translate(35 83.142)\"><g class=\"a4 i0 leaf node n1 p0 sample\" transform=\"translate(-17.5 11.458)\"><path class=\"edge\" d=\"M 0 0 V -11.458 H 17.5\" /><rect class=\"sym\" height=\"6\" width=\"6\" x=\"-3\" y=\"-3\" /><text class=\"lab\" transform=\"translate(0 11)\">1</text></g><g class=\"a4 i1 leaf node n2 p0 sample\" transform=\"translate(17.5 11.458)\"><path class=\"edge\" d=\"M 0 0 V -11.458 H -17.5\" /><rect class=\"sym\" height=\"6\" width=\"6\" x=\"-3\" y=\"-3\" /><text class=\"lab\" transform=\"translate(0 11)\">2</text></g><path class=\"edge\" d=\"M 0 0 V -83.142 H -35\" /><circle class=\"sym\" cx=\"0\" cy=\"0\" r=\"3\" /><text class=\"lab rgt\" transform=\"translate(3 -7.0)\">4</text></g><g class=\"a7 c2 node n6 p0\" transform=\"translate(-35 21.58)\"><g class=\"a6 i0 leaf node n0 p0 sample\" transform=\"translate(-17.5 73.02)\"><path class=\"edge\" d=\"M 0 0 V -73.02 H 17.5\" /><rect class=\"sym\" height=\"6\" width=\"6\" x=\"-3\" y=\"-3\" /><text class=\"lab\" transform=\"translate(0 11)\">0</text></g><g class=\"a6 i1 leaf node n3 p0 sample\" transform=\"translate(17.5 73.02)\"><path class=\"edge\" d=\"M 0 0 V -73.02 H -17.5\" /><rect class=\"sym\" height=\"6\" width=\"6\" x=\"-3\" y=\"-3\" /><text class=\"lab\" transform=\"translate(0 11)\">3</text></g><path class=\"edge\" d=\"M 0 0 V -21.58 H 35\" /><circle class=\"sym\" cx=\"0\" cy=\"0\" r=\"3\" /><text class=\"lab lft\" transform=\"translate(-3 -7.0)\">6</text></g><circle class=\"sym\" cx=\"0\" cy=\"0\" r=\"3\" /><text class=\"lab\" transform=\"translate(0 -11)\">7</text></g></g></g></g></g></svg>"
      ],
      "text/plain": [
       "'<svg baseProfile=\"full\" height=\"200\" version=\"1.1\" width=\"400\" xmlns=\"http://www.w3.org/2000/svg\" xmlns:ev=\"http://www.w3.org/2001/xml-events\" xmlns:xlink=\"http://www.w3.org/1999/xlink\"><defs><style type=\"text/css\"><![CDATA[.background path {fill: #808080; fill-opacity: 0}.background path:nth-child(odd) {fill-opacity: .1}.axes {font-size: 14px}.x-axis .tick .lab {font-weight: bold; dominant-baseline: hanging}.axes, .tree {font-size: 14px; text-anchor: middle}.axes line, .edge {stroke: black; fill: none}.axes .ax-skip {stroke-dasharray: 4}.y-axis .grid {stroke: #FAFAFA}.node > .sym {fill: black; stroke: none}.site > .sym {stroke: black}.mut text {fill: red; font-style: italic}.mut.extra text {fill: hotpink}.mut line {fill: none; stroke: none}.mut .sym {fill: none; stroke: red}.mut.extra .sym {stroke: hotpink}.node .mut .sym {stroke-width: 1.5px}.tree text, .tree-sequence text {dominant-baseline: central}.plotbox .lab.lft {text-anchor: end}.plotbox .lab.rgt {text-anchor: start}]]></style></defs><g class=\"tree-sequence\"><g class=\"background\"><path d=\"M20,0 l180,0 l0,138.2 l0,25 l0,5 l-180,0 l0,-5 l0,-25 l0,-138.2z\" /><path d=\"M200,0 l180,0 l0,138.2 l0,25 l0,5 l-180,0 l0,-5 l0,-25 l0,-138.2z\" /></g><g class=\"axes\"><g class=\"x-axis\"><g class=\"title\" transform=\"translate(200 200)\"><text class=\"lab\" text-anchor=\"middle\" transform=\"translate(0 -11)\">Genome position</text></g><line class=\"ax-line\" x1=\"20\" x2=\"380\" y1=\"163.2\" y2=\"163.2\" /><g class=\"ticks\"><g class=\"tick\" transform=\"translate(20 163.2)\"><line x1=\"0\" x2=\"0\" y1=\"0\" y2=\"5\" /><g transform=\"translate(0 6)\"><text class=\"lab\">0</text></g></g><g class=\"tick\" transform=\"translate(200 163.2)\"><line x1=\"0\" x2=\"0\" y1=\"0\" y2=\"5\" /><g transform=\"translate(0 6)\"><text class=\"lab\">1</text></g></g><g class=\"tick\" transform=\"translate(380 163.2)\"><line x1=\"0\" x2=\"0\" y1=\"0\" y2=\"5\" /><g transform=\"translate(0 6)\"><text class=\"lab\">2</text></g></g></g></g></g><g class=\"plotbox trees\"><g class=\"tree t0\" transform=\"translate(20 0)\"><g class=\"plotbox\"><g class=\"c2 node n7 p0 root\" transform=\"translate(76.875 26.8)\"><g class=\"a7 i0 leaf node n0 p0 sample\" transform=\"translate(-39.375 94.6)\"><path class=\"edge\" d=\"M 0 0 V -94.6 H 39.375\" /><rect class=\"sym\" height=\"6\" width=\"6\" x=\"-3\" y=\"-3\" /><text class=\"lab\" transform=\"translate(0 11)\">0</text></g><g class=\"a7 c2 node n5 p0\" transform=\"translate(39.375 30.9901)\"><g class=\"a5 i1 leaf node n3 p0 sample\" transform=\"translate(26.25 63.6099)\"><path class=\"edge\" d=\"M 0 0 V -63.6099 H -26.25\" /><rect class=\"sym\" height=\"6\" width=\"6\" x=\"-3\" y=\"-3\" /><text class=\"lab\" transform=\"translate(0 11)\">3</text></g><g class=\"a5 c2 node n4 p0\" transform=\"translate(-26.25 52.1519)\"><g class=\"a4 i0 leaf node n1 p0 sample\" transform=\"translate(-17.5 11.458)\"><path class=\"edge\" d=\"M 0 0 V -11.458 H 17.5\" /><rect class=\"sym\" height=\"6\" width=\"6\" x=\"-3\" y=\"-3\" /><text class=\"lab\" transform=\"translate(0 11)\">1</text></g><g class=\"a4 i1 leaf node n2 p0 sample\" transform=\"translate(17.5 11.458)\"><path class=\"edge\" d=\"M 0 0 V -11.458 H -17.5\" /><rect class=\"sym\" height=\"6\" width=\"6\" x=\"-3\" y=\"-3\" /><text class=\"lab\" transform=\"translate(0 11)\">2</text></g><path class=\"edge\" d=\"M 0 0 V -52.1519 H 26.25\" /><circle class=\"sym\" cx=\"0\" cy=\"0\" r=\"3\" /><text class=\"lab lft\" transform=\"translate(-3 -7.0)\">4</text></g><path class=\"edge\" d=\"M 0 0 V -30.9901 H -39.375\" /><circle class=\"sym\" cx=\"0\" cy=\"0\" r=\"3\" /><text class=\"lab rgt\" transform=\"translate(3 -7.0)\">5</text></g><circle class=\"sym\" cx=\"0\" cy=\"0\" r=\"3\" /><text class=\"lab\" transform=\"translate(0 -11)\">7</text></g></g></g><g class=\"tree t1\" transform=\"translate(200 0)\"><g class=\"plotbox\"><g class=\"c2 node n7 p0 root\" transform=\"translate(90 26.8)\"><g class=\"a7 c2 node n4 p0\" transform=\"translate(35 83.142)\"><g class=\"a4 i0 leaf node n1 p0 sample\" transform=\"translate(-17.5 11.458)\"><path class=\"edge\" d=\"M 0 0 V -11.458 H 17.5\" /><rect class=\"sym\" height=\"6\" width=\"6\" x=\"-3\" y=\"-3\" /><text class=\"lab\" transform=\"translate(0 11)\">1</text></g><g class=\"a4 i1 leaf node n2 p0 sample\" transform=\"translate(17.5 11.458)\"><path class=\"edge\" d=\"M 0 0 V -11.458 H -17.5\" /><rect class=\"sym\" height=\"6\" width=\"6\" x=\"-3\" y=\"-3\" /><text class=\"lab\" transform=\"translate(0 11)\">2</text></g><path class=\"edge\" d=\"M 0 0 V -83.142 H -35\" /><circle class=\"sym\" cx=\"0\" cy=\"0\" r=\"3\" /><text class=\"lab rgt\" transform=\"translate(3 -7.0)\">4</text></g><g class=\"a7 c2 node n6 p0\" transform=\"translate(-35 21.58)\"><g class=\"a6 i0 leaf node n0 p0 sample\" transform=\"translate(-17.5 73.02)\"><path class=\"edge\" d=\"M 0 0 V -73.02 H 17.5\" /><rect class=\"sym\" height=\"6\" width=\"6\" x=\"-3\" y=\"-3\" /><text class=\"lab\" transform=\"translate(0 11)\">0</text></g><g class=\"a6 i1 leaf node n3 p0 sample\" transform=\"translate(17.5 73.02)\"><path class=\"edge\" d=\"M 0 0 V -73.02 H -17.5\" /><rect class=\"sym\" height=\"6\" width=\"6\" x=\"-3\" y=\"-3\" /><text class=\"lab\" transform=\"translate(0 11)\">3</text></g><path class=\"edge\" d=\"M 0 0 V -21.58 H 35\" /><circle class=\"sym\" cx=\"0\" cy=\"0\" r=\"3\" /><text class=\"lab lft\" transform=\"translate(-3 -7.0)\">6</text></g><circle class=\"sym\" cx=\"0\" cy=\"0\" r=\"3\" /><text class=\"lab\" transform=\"translate(0 -11)\">7</text></g></g></g></g></g></svg>'"
      ]
     },
     "execution_count": 149,
     "metadata": {},
     "output_type": "execute_result"
    }
   ],
   "source": [
    "ts.draw_svg()"
   ]
  },
  {
   "cell_type": "code",
   "execution_count": 25,
   "id": "1024a8b2-0c8c-4b98-8be2-368aa240af0e",
   "metadata": {},
   "outputs": [],
   "source": [
    "tree = ts.at(0)"
   ]
  },
  {
   "cell_type": "code",
   "execution_count": 26,
   "id": "2905b144-4e9e-4ae0-91e6-c80a6b3799aa",
   "metadata": {},
   "outputs": [
    {
     "data": {
      "image/svg+xml": [
       "<svg baseProfile=\"full\" height=\"200\" version=\"1.1\" width=\"200\" xmlns=\"http://www.w3.org/2000/svg\" xmlns:ev=\"http://www.w3.org/2001/xml-events\" xmlns:xlink=\"http://www.w3.org/1999/xlink\"><defs><style type=\"text/css\"><![CDATA[.background path {fill: #808080; fill-opacity: 0}.background path:nth-child(odd) {fill-opacity: .1}.axes {font-size: 14px}.x-axis .tick .lab {font-weight: bold; dominant-baseline: hanging}.axes, .tree {font-size: 14px; text-anchor: middle}.axes line, .edge {stroke: black; fill: none}.axes .ax-skip {stroke-dasharray: 4}.y-axis .grid {stroke: #FAFAFA}.node > .sym {fill: black; stroke: none}.site > .sym {stroke: black}.mut text {fill: red; font-style: italic}.mut.extra text {fill: hotpink}.mut line {fill: none; stroke: none}.mut .sym {fill: none; stroke: red}.mut.extra .sym {stroke: hotpink}.node .mut .sym {stroke-width: 1.5px}.tree text, .tree-sequence text {dominant-baseline: central}.plotbox .lab.lft {text-anchor: end}.plotbox .lab.rgt {text-anchor: start}]]></style></defs><g class=\"tree t0\"><g class=\"plotbox\"><g class=\"c2 node n7 p0 root\" transform=\"translate(85 26.8)\"><g class=\"a7 i0 leaf node n0 p0 sample\" transform=\"translate(-45 141.4)\"><path class=\"edge\" d=\"M 0 0 V -141.4 H 45\" /><rect class=\"sym\" height=\"6\" width=\"6\" x=\"-3\" y=\"-3\" /><text class=\"lab\" transform=\"translate(0 11)\">0</text></g><g class=\"a7 c2 node n5 p0\" transform=\"translate(45 46.3214)\"><g class=\"a5 i1 leaf node n3 p0 sample\" transform=\"translate(30 95.0786)\"><path class=\"edge\" d=\"M 0 0 V -95.0786 H -30\" /><rect class=\"sym\" height=\"6\" width=\"6\" x=\"-3\" y=\"-3\" /><text class=\"lab\" transform=\"translate(0 11)\">3</text></g><g class=\"a5 c2 node n4 p0\" transform=\"translate(-30 77.9523)\"><g class=\"a4 i0 leaf node n1 p0 sample\" transform=\"translate(-20 17.1264)\"><path class=\"edge\" d=\"M 0 0 V -17.1264 H 20\" /><rect class=\"sym\" height=\"6\" width=\"6\" x=\"-3\" y=\"-3\" /><text class=\"lab\" transform=\"translate(0 11)\">1</text></g><g class=\"a4 i1 leaf node n2 p0 sample\" transform=\"translate(20 17.1264)\"><path class=\"edge\" d=\"M 0 0 V -17.1264 H -20\" /><rect class=\"sym\" height=\"6\" width=\"6\" x=\"-3\" y=\"-3\" /><text class=\"lab\" transform=\"translate(0 11)\">2</text></g><path class=\"edge\" d=\"M 0 0 V -77.9523 H 30\" /><circle class=\"sym\" cx=\"0\" cy=\"0\" r=\"3\" /><text class=\"lab lft\" transform=\"translate(-3 -7.0)\">4</text></g><path class=\"edge\" d=\"M 0 0 V -46.3214 H -45\" /><circle class=\"sym\" cx=\"0\" cy=\"0\" r=\"3\" /><text class=\"lab rgt\" transform=\"translate(3 -7.0)\">5</text></g><circle class=\"sym\" cx=\"0\" cy=\"0\" r=\"3\" /><text class=\"lab\" transform=\"translate(0 -11)\">7</text></g></g></g></svg>"
      ],
      "text/plain": [
       "'<svg baseProfile=\"full\" height=\"200\" version=\"1.1\" width=\"200\" xmlns=\"http://www.w3.org/2000/svg\" xmlns:ev=\"http://www.w3.org/2001/xml-events\" xmlns:xlink=\"http://www.w3.org/1999/xlink\"><defs><style type=\"text/css\"><![CDATA[.background path {fill: #808080; fill-opacity: 0}.background path:nth-child(odd) {fill-opacity: .1}.axes {font-size: 14px}.x-axis .tick .lab {font-weight: bold; dominant-baseline: hanging}.axes, .tree {font-size: 14px; text-anchor: middle}.axes line, .edge {stroke: black; fill: none}.axes .ax-skip {stroke-dasharray: 4}.y-axis .grid {stroke: #FAFAFA}.node > .sym {fill: black; stroke: none}.site > .sym {stroke: black}.mut text {fill: red; font-style: italic}.mut.extra text {fill: hotpink}.mut line {fill: none; stroke: none}.mut .sym {fill: none; stroke: red}.mut.extra .sym {stroke: hotpink}.node .mut .sym {stroke-width: 1.5px}.tree text, .tree-sequence text {dominant-baseline: central}.plotbox .lab.lft {text-anchor: end}.plotbox .lab.rgt {text-anchor: start}]]></style></defs><g class=\"tree t0\"><g class=\"plotbox\"><g class=\"c2 node n7 p0 root\" transform=\"translate(85 26.8)\"><g class=\"a7 i0 leaf node n0 p0 sample\" transform=\"translate(-45 141.4)\"><path class=\"edge\" d=\"M 0 0 V -141.4 H 45\" /><rect class=\"sym\" height=\"6\" width=\"6\" x=\"-3\" y=\"-3\" /><text class=\"lab\" transform=\"translate(0 11)\">0</text></g><g class=\"a7 c2 node n5 p0\" transform=\"translate(45 46.3214)\"><g class=\"a5 i1 leaf node n3 p0 sample\" transform=\"translate(30 95.0786)\"><path class=\"edge\" d=\"M 0 0 V -95.0786 H -30\" /><rect class=\"sym\" height=\"6\" width=\"6\" x=\"-3\" y=\"-3\" /><text class=\"lab\" transform=\"translate(0 11)\">3</text></g><g class=\"a5 c2 node n4 p0\" transform=\"translate(-30 77.9523)\"><g class=\"a4 i0 leaf node n1 p0 sample\" transform=\"translate(-20 17.1264)\"><path class=\"edge\" d=\"M 0 0 V -17.1264 H 20\" /><rect class=\"sym\" height=\"6\" width=\"6\" x=\"-3\" y=\"-3\" /><text class=\"lab\" transform=\"translate(0 11)\">1</text></g><g class=\"a4 i1 leaf node n2 p0 sample\" transform=\"translate(20 17.1264)\"><path class=\"edge\" d=\"M 0 0 V -17.1264 H -20\" /><rect class=\"sym\" height=\"6\" width=\"6\" x=\"-3\" y=\"-3\" /><text class=\"lab\" transform=\"translate(0 11)\">2</text></g><path class=\"edge\" d=\"M 0 0 V -77.9523 H 30\" /><circle class=\"sym\" cx=\"0\" cy=\"0\" r=\"3\" /><text class=\"lab lft\" transform=\"translate(-3 -7.0)\">4</text></g><path class=\"edge\" d=\"M 0 0 V -46.3214 H -45\" /><circle class=\"sym\" cx=\"0\" cy=\"0\" r=\"3\" /><text class=\"lab rgt\" transform=\"translate(3 -7.0)\">5</text></g><circle class=\"sym\" cx=\"0\" cy=\"0\" r=\"3\" /><text class=\"lab\" transform=\"translate(0 -11)\">7</text></g></g></g></svg>'"
      ]
     },
     "execution_count": 26,
     "metadata": {},
     "output_type": "execute_result"
    }
   ],
   "source": [
    "tree.draw_svg()"
   ]
  },
  {
   "cell_type": "code",
   "execution_count": 43,
   "id": "6df661a1-05e9-4788-a4eb-72504d383eef",
   "metadata": {},
   "outputs": [
    {
     "name": "stdout",
     "output_type": "stream",
     "text": [
      "( 0 , 1 ) 7\n",
      "( 0 , 1 , 2 ) 7 7\n",
      "( 0 , 1 , 2 , 3 ) 7 5\n",
      "( 0 , 1 , 3 ) 7 7\n",
      "( 0 , 2 ) 7\n",
      "( 0 , 2 , 1 ) 7 7\n",
      "( 0 , 2 , 1 , 3 ) 7 5\n",
      "( 0 , 2 , 3 ) 7 7\n",
      "( 0 , 3 ) 7\n",
      "( 0 , 3 , 1 ) 7 7\n",
      "( 0 , 3 , 1 , 2 ) 7 4\n",
      "( 0 , 3 , 2 ) 7 7\n",
      "( 1 , 2 ) 4\n",
      "( 1 , 2 , 0 ) 4 7\n",
      "( 1 , 2 , 0 , 3 ) 4 7\n",
      "( 1 , 2 , 3 ) 4 5\n",
      "( 1 , 3 ) 5\n",
      "( 1 , 3 , 0 ) 5 7\n",
      "( 1 , 3 , 0 , 2 ) 5 7\n",
      "( 1 , 3 , 2 ) 5 4\n",
      "( 2 , 3 ) 5\n",
      "( 2 , 3 , 0 ) 5 7\n",
      "( 2 , 3 , 0 , 1 ) 5 7\n",
      "( 2 , 3 , 1 ) 5 4\n"
     ]
    }
   ],
   "source": [
    "for c in combine(ts.samples()):\n",
    "    if len(c) == 2:\n",
    "        i, j = c\n",
    "        print('(', i, ',' , j, ')', tree.mrca(i, j))\n",
    "    elif len(c) == 3:\n",
    "        i, j, k = c\n",
    "        print('(', i, ',' , j, ',' , k, ')', tree.mrca(i, j), tree.mrca(i, k))\n",
    "    elif len(c) == 4:\n",
    "        i, j, k, l = c\n",
    "        print('(', i, ',' , j, ',' , k, ',' , l, ')', tree.mrca(i, j), tree.mrca(k, l))\n",
    "    else:\n",
    "        raise ValueError"
   ]
  },
  {
   "cell_type": "code",
   "execution_count": 35,
   "id": "f8f53bb1-6ef7-4056-80bc-4ae4d6035ced",
   "metadata": {},
   "outputs": [],
   "source": [
    "def combine(samples):\n",
    "    n = len(samples)\n",
    "    for i, j in combinations(range(n), 2):\n",
    "        yield i, j\n",
    "        for k in range(n):\n",
    "            if k == i or k == j:\n",
    "                continue\n",
    "            else:\n",
    "                yield i, j, k\n",
    "                for l in range(k + 1, n):\n",
    "                    if (l == i or l == j):\n",
    "                        continue\n",
    "                    else:\n",
    "                        yield i, j, k, l"
   ]
  },
  {
   "cell_type": "code",
   "execution_count": 36,
   "id": "4835db7a-8a57-4337-8a15-32e24a4a43f3",
   "metadata": {},
   "outputs": [
    {
     "data": {
      "text/plain": [
       "[(0, 1),\n",
       " (0, 1, 2),\n",
       " (0, 1, 2, 3),\n",
       " (0, 1, 3),\n",
       " (0, 2),\n",
       " (0, 2, 1),\n",
       " (0, 2, 1, 3),\n",
       " (0, 2, 3),\n",
       " (0, 3),\n",
       " (0, 3, 1),\n",
       " (0, 3, 1, 2),\n",
       " (0, 3, 2),\n",
       " (1, 2),\n",
       " (1, 2, 0),\n",
       " (1, 2, 0, 3),\n",
       " (1, 2, 3),\n",
       " (1, 3),\n",
       " (1, 3, 0),\n",
       " (1, 3, 0, 2),\n",
       " (1, 3, 2),\n",
       " (2, 3),\n",
       " (2, 3, 0),\n",
       " (2, 3, 0, 1),\n",
       " (2, 3, 1)]"
      ]
     },
     "execution_count": 36,
     "metadata": {},
     "output_type": "execute_result"
    }
   ],
   "source": [
    "list(combine(ts.samples()))"
   ]
  }
 ],
 "metadata": {
  "kernelspec": {
   "display_name": "tskit-dev-2",
   "language": "python",
   "name": "tskit-dev-2"
  },
  "language_info": {
   "codemirror_mode": {
    "name": "ipython",
    "version": 3
   },
   "file_extension": ".py",
   "mimetype": "text/x-python",
   "name": "python",
   "nbconvert_exporter": "python",
   "pygments_lexer": "ipython3",
   "version": "3.11.4"
  }
 },
 "nbformat": 4,
 "nbformat_minor": 5
}
