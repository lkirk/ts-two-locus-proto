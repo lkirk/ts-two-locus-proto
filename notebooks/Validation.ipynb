{
 "cells": [
  {
   "cell_type": "markdown",
   "id": "e00d79b1-b6a4-4a68-bfcf-d58dd34cdcde",
   "metadata": {},
   "source": [
    "# Validation of python prototype code\n",
    "\n",
    "This notebook provides a basic demonstration of the intended behavior of our summary functions."
   ]
  },
  {
   "cell_type": "markdown",
   "id": "b7ea7f73-cf9a-4477-a3e1-3df5c6f706d6",
   "metadata": {},
   "source": [
    "## Add prototype python code to the path"
   ]
  },
  {
   "cell_type": "code",
   "execution_count": 2,
   "id": "9b7ef5d9-3466-4329-a1c4-aee02badb8e0",
   "metadata": {},
   "outputs": [],
   "source": [
    "import os\n",
    "import sys\n",
    "if not any(['tskit-ld-proto' in s for s in sys.path]):\n",
    "    sys.path.append(os.path.abspath('.'))"
   ]
  },
  {
   "cell_type": "code",
   "execution_count": 3,
   "id": "ebbc7199-007f-42f8-ae5b-e5e7c810fa8c",
   "metadata": {},
   "outputs": [],
   "source": [
    "import numpy as np\n",
    "\n",
    "from tskit_ld_proto.ld_proto import _two_site_general_stat\n",
    "from tskit_ld_proto.summary_functions import r, r2, D, D2, D_prime, Dz, pi2"
   ]
  },
  {
   "cell_type": "markdown",
   "id": "9cce503d-e88c-4038-8356-0b4cfcb78269",
   "metadata": {},
   "source": [
    "## Results display functionality"
   ]
  },
  {
   "cell_type": "code",
   "execution_count": 4,
   "id": "6eec043d-632e-49f9-b1b2-a98232cb2817",
   "metadata": {},
   "outputs": [],
   "source": [
    "from IPython.display import display_latex, display_markdown"
   ]
  },
  {
   "cell_type": "code",
   "execution_count": 5,
   "id": "d23f68b5-d9b4-4e5a-bdec-14e2b3c84df4",
   "metadata": {},
   "outputs": [],
   "source": [
    "DISPLAY_MODE = 'latex'\n",
    "def display_matrix(m, mode=DISPLAY_MODE, round_decimals=5):\n",
    "    m = m.copy()\n",
    "    if round_decimals:\n",
    "        m = np.round(m, decimals=round_decimals)\n",
    "    if mode == 'latex':\n",
    "        display_latex(matrix_to_latex(m), raw=True)\n",
    "    elif mode == 'raw_latex':\n",
    "        print(matrix_to_latex(m))\n",
    "    elif mode == 'print':\n",
    "        print(m)\n",
    "    else:\n",
    "        raise ValueError(mode)\n",
    "\n",
    "\n",
    "def matrix_to_latex(a):\n",
    "    assert len(a.shape) == 2, 'this fn works on matricies only'\n",
    "    out = r'$\\left(\\begin{array}'\n",
    "    out += f'{{{\"c\" * a.shape[1]}}}'\n",
    "    for r in a:\n",
    "        out += ' & '.join(map(str, r)) + ' \\\\\\\\'\n",
    "    out += r'\\end{array}\\right)$'\n",
    "    return out"
   ]
  },
  {
   "cell_type": "markdown",
   "id": "7c0df7e9-930d-4683-bd72-6e199ea82ab6",
   "metadata": {},
   "source": [
    "## Test Cases"
   ]
  },
  {
   "cell_type": "code",
   "execution_count": 6,
   "id": "1025dfba-4e0a-4921-8378-2d61fed70cff",
   "metadata": {},
   "outputs": [],
   "source": [
    "CORRELATED = (\n",
    "    np.array(\n",
    "        [[0, 1, 1, 0, 2, 2, 1, 0, 1],\n",
    "         [1, 2, 2, 1, 0, 0, 2, 1, 2]]\n",
    "    ),\n",
    "    np.array([3, 3])\n",
    ")"
   ]
  },
  {
   "cell_type": "code",
   "execution_count": 61,
   "id": "bddd2fbf-c539-4540-8b01-2d2e8b3f0064",
   "metadata": {},
   "outputs": [],
   "source": [
    "CORRELATED_SYMMETRIC = (\n",
    "    np.array(\n",
    "        [[0, 1, 1, 0, 2, 2, 1, 0, 2],\n",
    "         [1, 2, 2, 1, 0, 0, 2, 1, 0]]\n",
    "    ),\n",
    "    np.array([3, 3])\n",
    ")"
   ]
  },
  {
   "cell_type": "code",
   "execution_count": 7,
   "id": "0da760cf-e9a7-4e71-86b3-00d6c4bd4ed2",
   "metadata": {},
   "outputs": [],
   "source": [
    "CORRELATED_BIALLELIC = (\n",
    "    np.array(\n",
    "        [[0, 0, 0, 0, 1, 1, 1, 1],\n",
    "         [0, 0, 0, 0, 1, 1, 1, 1]]\n",
    "    ),\n",
    "    np.array([2, 2])\n",
    ")"
   ]
  },
  {
   "cell_type": "code",
   "execution_count": 8,
   "id": "e14836aa-f382-4d59-a202-0369a6aa0758",
   "metadata": {},
   "outputs": [],
   "source": [
    "UNCORRELATED = (\n",
    "    np.array(\n",
    "        [[0, 0, 0, 1, 1, 1, 2, 2, 2],\n",
    "         [0, 1, 2, 0, 1, 2, 0, 1, 2]]\n",
    "    ),\n",
    "    np.array([3, 3])\n",
    ")"
   ]
  },
  {
   "cell_type": "code",
   "execution_count": 9,
   "id": "5818fd5b-0a4d-434b-a706-135491bb7fe7",
   "metadata": {},
   "outputs": [],
   "source": [
    "UNCORRELATED_BIALLELIC = (\n",
    "    np.array(\n",
    "        [[0, 0, 0, 0, 1, 1, 1, 1],\n",
    "         [1, 1, 0, 0, 0, 0, 1, 1]]\n",
    "    ),\n",
    "    np.array([2, 2])\n",
    ")"
   ]
  },
  {
   "cell_type": "code",
   "execution_count": 10,
   "id": "480666a3-3075-4622-b185-d2b37d1133cf",
   "metadata": {},
   "outputs": [],
   "source": [
    "REPULSION_BIALLELIC = (\n",
    "    np.array(\n",
    "        [[0, 0, 0, 0, 1, 1, 1, 1],\n",
    "         [1, 1, 1, 1, 0, 0, 0, 0]]\n",
    "    ),\n",
    "    np.array([2, 2])\n",
    ")"
   ]
  },
  {
   "cell_type": "code",
   "execution_count": 11,
   "id": "a304db66-85cd-4a15-ac47-18b76e5377fd",
   "metadata": {},
   "outputs": [],
   "source": [
    "TEST_CASES = {k: v for k, v in locals().items() if 'CORRELATED' in k or 'ALLELIC' in k}"
   ]
  },
  {
   "cell_type": "markdown",
   "id": "74e1da90-abea-47f3-b8d3-60c5ea436e3b",
   "metadata": {},
   "source": [
    "## Test Results"
   ]
  },
  {
   "cell_type": "code",
   "execution_count": 12,
   "id": "62765eca-2bc8-4915-a3b0-d395ca5c6b2b",
   "metadata": {},
   "outputs": [
    {
     "data": {
      "text/latex": [
       "$D$ unpolarized"
      ]
     },
     "metadata": {},
     "output_type": "display_data"
    },
    {
     "name": "stdout",
     "output_type": "stream",
     "text": [
      "correlated\n"
     ]
    },
    {
     "data": {
      "text/latex": [
       "$\\left(\\begin{array}{cc}0.0 & 0.0 \\\\0.0 & 0.0 \\\\\\end{array}\\right)$"
      ]
     },
     "metadata": {},
     "output_type": "display_data"
    },
    {
     "name": "stdout",
     "output_type": "stream",
     "text": [
      "correlated_biallelic\n"
     ]
    },
    {
     "data": {
      "text/latex": [
       "$\\left(\\begin{array}{cc}0.0 & 0.0 \\\\0.0 & 0.0 \\\\\\end{array}\\right)$"
      ]
     },
     "metadata": {},
     "output_type": "display_data"
    },
    {
     "name": "stdout",
     "output_type": "stream",
     "text": [
      "uncorrelated\n"
     ]
    },
    {
     "data": {
      "text/latex": [
       "$\\left(\\begin{array}{cc}0.0 & 0.0 \\\\0.0 & 0.0 \\\\\\end{array}\\right)$"
      ]
     },
     "metadata": {},
     "output_type": "display_data"
    },
    {
     "name": "stdout",
     "output_type": "stream",
     "text": [
      "uncorrelated_biallelic\n"
     ]
    },
    {
     "data": {
      "text/latex": [
       "$\\left(\\begin{array}{cc}0.0 & 0.0 \\\\0.0 & 0.0 \\\\\\end{array}\\right)$"
      ]
     },
     "metadata": {},
     "output_type": "display_data"
    },
    {
     "name": "stdout",
     "output_type": "stream",
     "text": [
      "repulsion_biallelic\n"
     ]
    },
    {
     "data": {
      "text/latex": [
       "$\\left(\\begin{array}{cc}0.0 & 0.0 \\\\0.0 & 0.0 \\\\\\end{array}\\right)$"
      ]
     },
     "metadata": {},
     "output_type": "display_data"
    }
   ],
   "source": [
    "display_latex(r'$D$ unpolarized', raw=True)\n",
    "for case_name, data in TEST_CASES.items():\n",
    "    print(case_name.lower())\n",
    "    display_matrix(_two_site_general_stat(*data, D, 'total'))"
   ]
  },
  {
   "cell_type": "code",
   "execution_count": 79,
   "id": "0334531f-0c8b-4f41-aebf-5b271a07c5e9",
   "metadata": {},
   "outputs": [
    {
     "data": {
      "text/latex": [
       "$D$ polarized"
      ]
     },
     "metadata": {},
     "output_type": "display_data"
    },
    {
     "name": "stdout",
     "output_type": "stream",
     "text": [
      "correlated\n"
     ]
    },
    {
     "data": {
      "text/latex": [
       "$\\left(\\begin{array}{cc}0.05556 & -0.01852 \\\\-0.01852 & 0.04321 \\\\\\end{array}\\right)$"
      ]
     },
     "metadata": {},
     "output_type": "display_data"
    },
    {
     "name": "stdout",
     "output_type": "stream",
     "text": [
      "correlated_biallelic\n"
     ]
    },
    {
     "data": {
      "text/latex": [
       "$\\left(\\begin{array}{cc}0.25 & 0.25 \\\\0.25 & 0.25 \\\\\\end{array}\\right)$"
      ]
     },
     "metadata": {},
     "output_type": "display_data"
    },
    {
     "name": "stdout",
     "output_type": "stream",
     "text": [
      "uncorrelated\n"
     ]
    },
    {
     "data": {
      "text/latex": [
       "$\\left(\\begin{array}{cc}0.05556 & 0.0 \\\\0.0 & 0.05556 \\\\\\end{array}\\right)$"
      ]
     },
     "metadata": {},
     "output_type": "display_data"
    },
    {
     "name": "stdout",
     "output_type": "stream",
     "text": [
      "uncorrelated_biallelic\n"
     ]
    },
    {
     "data": {
      "text/latex": [
       "$\\left(\\begin{array}{cc}0.25 & 0.0 \\\\0.0 & 0.25 \\\\\\end{array}\\right)$"
      ]
     },
     "metadata": {},
     "output_type": "display_data"
    },
    {
     "name": "stdout",
     "output_type": "stream",
     "text": [
      "repulsion_biallelic\n"
     ]
    },
    {
     "data": {
      "text/latex": [
       "$\\left(\\begin{array}{cc}0.25 & -0.25 \\\\-0.25 & 0.25 \\\\\\end{array}\\right)$"
      ]
     },
     "metadata": {},
     "output_type": "display_data"
    }
   ],
   "source": [
    "display_latex(r'$D$ polarized', raw=True)\n",
    "for case_name, data in TEST_CASES.items():\n",
    "    print(case_name.lower())\n",
    "    display_matrix(_two_site_general_stat(*data, D, 'total', polarized=True))"
   ]
  },
  {
   "cell_type": "code",
   "execution_count": 14,
   "id": "ff1280be-944f-4de9-910b-9bd8bed74bf8",
   "metadata": {},
   "outputs": [
    {
     "data": {
      "text/latex": [
       "$r^{2}$ unpolarized"
      ]
     },
     "metadata": {},
     "output_type": "display_data"
    },
    {
     "name": "stdout",
     "output_type": "stream",
     "text": [
      "correlated\n"
     ]
    },
    {
     "data": {
      "text/latex": [
       "$\\left(\\begin{array}{cc}1.0 & 1.0 \\\\1.0 & 1.0 \\\\\\end{array}\\right)$"
      ]
     },
     "metadata": {},
     "output_type": "display_data"
    },
    {
     "name": "stdout",
     "output_type": "stream",
     "text": [
      "correlated_biallelic\n"
     ]
    },
    {
     "data": {
      "text/latex": [
       "$\\left(\\begin{array}{cc}1.0 & 1.0 \\\\1.0 & 1.0 \\\\\\end{array}\\right)$"
      ]
     },
     "metadata": {},
     "output_type": "display_data"
    },
    {
     "name": "stdout",
     "output_type": "stream",
     "text": [
      "uncorrelated\n"
     ]
    },
    {
     "data": {
      "text/latex": [
       "$\\left(\\begin{array}{cc}1.0 & 0.0 \\\\0.0 & 1.0 \\\\\\end{array}\\right)$"
      ]
     },
     "metadata": {},
     "output_type": "display_data"
    },
    {
     "name": "stdout",
     "output_type": "stream",
     "text": [
      "uncorrelated_biallelic\n"
     ]
    },
    {
     "data": {
      "text/latex": [
       "$\\left(\\begin{array}{cc}1.0 & 0.0 \\\\0.0 & 1.0 \\\\\\end{array}\\right)$"
      ]
     },
     "metadata": {},
     "output_type": "display_data"
    },
    {
     "name": "stdout",
     "output_type": "stream",
     "text": [
      "repulsion_biallelic\n"
     ]
    },
    {
     "data": {
      "text/latex": [
       "$\\left(\\begin{array}{cc}1.0 & 1.0 \\\\1.0 & 1.0 \\\\\\end{array}\\right)$"
      ]
     },
     "metadata": {},
     "output_type": "display_data"
    }
   ],
   "source": [
    "display_latex(r'$r^{2}$ unpolarized', raw=True)\n",
    "for case_name, data in TEST_CASES.items():\n",
    "    print(case_name.lower())\n",
    "    display_matrix(_two_site_general_stat(*data, r2, 'hap_weighted'))"
   ]
  },
  {
   "cell_type": "code",
   "execution_count": 15,
   "id": "989e1f3a-43d3-46d8-b024-b8558cb9fe2f",
   "metadata": {},
   "outputs": [
    {
     "data": {
      "text/latex": [
       "$r^{2}$ polarized"
      ]
     },
     "metadata": {},
     "output_type": "display_data"
    },
    {
     "name": "stdout",
     "output_type": "stream",
     "text": [
      "correlated\n"
     ]
    },
    {
     "data": {
      "text/latex": [
       "$\\left(\\begin{array}{cc}0.66667 & 0.44444 \\\\0.44444 & 0.77778 \\\\\\end{array}\\right)$"
      ]
     },
     "metadata": {},
     "output_type": "display_data"
    },
    {
     "name": "stdout",
     "output_type": "stream",
     "text": [
      "correlated_biallelic\n"
     ]
    },
    {
     "data": {
      "text/latex": [
       "$\\left(\\begin{array}{cc}0.5 & 0.5 \\\\0.5 & 0.5 \\\\\\end{array}\\right)$"
      ]
     },
     "metadata": {},
     "output_type": "display_data"
    },
    {
     "name": "stdout",
     "output_type": "stream",
     "text": [
      "uncorrelated\n"
     ]
    },
    {
     "data": {
      "text/latex": [
       "$\\left(\\begin{array}{cc}0.66667 & 0.0 \\\\0.0 & 0.66667 \\\\\\end{array}\\right)$"
      ]
     },
     "metadata": {},
     "output_type": "display_data"
    },
    {
     "name": "stdout",
     "output_type": "stream",
     "text": [
      "uncorrelated_biallelic\n"
     ]
    },
    {
     "data": {
      "text/latex": [
       "$\\left(\\begin{array}{cc}0.5 & 0.0 \\\\0.0 & 0.5 \\\\\\end{array}\\right)$"
      ]
     },
     "metadata": {},
     "output_type": "display_data"
    },
    {
     "name": "stdout",
     "output_type": "stream",
     "text": [
      "repulsion_biallelic\n"
     ]
    },
    {
     "data": {
      "text/latex": [
       "$\\left(\\begin{array}{cc}0.5 & 0.0 \\\\0.0 & 0.5 \\\\\\end{array}\\right)$"
      ]
     },
     "metadata": {},
     "output_type": "display_data"
    }
   ],
   "source": [
    "display_latex(r'$r^{2}$ polarized', raw=True)\n",
    "for case_name, data in TEST_CASES.items():\n",
    "    print(case_name.lower())\n",
    "    display_matrix(_two_site_general_stat(*data, r2, 'hap_weighted', polarized=True))"
   ]
  },
  {
   "cell_type": "code",
   "execution_count": 16,
   "id": "9c74d7ca-e6bd-491b-874d-187afa886482",
   "metadata": {},
   "outputs": [
    {
     "data": {
      "text/latex": [
       "$D^{\\prime}$ polarized"
      ]
     },
     "metadata": {},
     "output_type": "display_data"
    },
    {
     "name": "stdout",
     "output_type": "stream",
     "text": [
      "correlated\n"
     ]
    },
    {
     "data": {
      "text/latex": [
       "$\\left(\\begin{array}{cc}0.66667 & 0.44444 \\\\0.44444 & 0.77778 \\\\\\end{array}\\right)$"
      ]
     },
     "metadata": {},
     "output_type": "display_data"
    },
    {
     "name": "stdout",
     "output_type": "stream",
     "text": [
      "correlated_biallelic\n"
     ]
    },
    {
     "data": {
      "text/latex": [
       "$\\left(\\begin{array}{cc}0.5 & 0.5 \\\\0.5 & 0.5 \\\\\\end{array}\\right)$"
      ]
     },
     "metadata": {},
     "output_type": "display_data"
    },
    {
     "name": "stdout",
     "output_type": "stream",
     "text": [
      "uncorrelated\n"
     ]
    },
    {
     "data": {
      "text/latex": [
       "$\\left(\\begin{array}{cc}0.66667 & 0.0 \\\\0.0 & 0.66667 \\\\\\end{array}\\right)$"
      ]
     },
     "metadata": {},
     "output_type": "display_data"
    },
    {
     "name": "stdout",
     "output_type": "stream",
     "text": [
      "uncorrelated_biallelic\n"
     ]
    },
    {
     "data": {
      "text/latex": [
       "$\\left(\\begin{array}{cc}0.5 & 0.0 \\\\0.0 & 0.5 \\\\\\end{array}\\right)$"
      ]
     },
     "metadata": {},
     "output_type": "display_data"
    },
    {
     "name": "stdout",
     "output_type": "stream",
     "text": [
      "repulsion_biallelic\n"
     ]
    },
    {
     "data": {
      "text/latex": [
       "$\\left(\\begin{array}{cc}0.5 & 0.0 \\\\0.0 & 0.5 \\\\\\end{array}\\right)$"
      ]
     },
     "metadata": {},
     "output_type": "display_data"
    }
   ],
   "source": [
    "display_latex(r'$D^{\\prime}$ polarized', raw=True)\n",
    "for case_name, data in TEST_CASES.items():\n",
    "    print(case_name.lower())\n",
    "    display_matrix(_two_site_general_stat(*data, D_prime, 'hap_weighted', polarized=True))"
   ]
  },
  {
   "cell_type": "markdown",
   "id": "f500b27b-ae1a-4626-9fb8-45626416335a",
   "metadata": {},
   "source": [
    "## r debubbing"
   ]
  },
  {
   "cell_type": "code",
   "execution_count": 17,
   "id": "eb8b72d4-396d-444c-b30f-0df43ba0685a",
   "metadata": {},
   "outputs": [
    {
     "data": {
      "text/latex": [
       "$r$ unpolarized"
      ]
     },
     "metadata": {},
     "output_type": "display_data"
    },
    {
     "name": "stdout",
     "output_type": "stream",
     "text": [
      "correlated\n"
     ]
    },
    {
     "data": {
      "text/latex": [
       "$\\left(\\begin{array}{cc}0.00255 & 0.00255 \\\\0.00255 & 0.00255 \\\\\\end{array}\\right)$"
      ]
     },
     "metadata": {},
     "output_type": "display_data"
    },
    {
     "name": "stdout",
     "output_type": "stream",
     "text": [
      "correlated_biallelic\n"
     ]
    },
    {
     "data": {
      "text/latex": [
       "$\\left(\\begin{array}{cc}0.0 & 0.0 \\\\0.0 & 0.0 \\\\\\end{array}\\right)$"
      ]
     },
     "metadata": {},
     "output_type": "display_data"
    },
    {
     "name": "stdout",
     "output_type": "stream",
     "text": [
      "uncorrelated\n"
     ]
    },
    {
     "data": {
      "text/latex": [
       "$\\left(\\begin{array}{cc}0.0 & 0.0 \\\\0.0 & 0.0 \\\\\\end{array}\\right)$"
      ]
     },
     "metadata": {},
     "output_type": "display_data"
    },
    {
     "name": "stdout",
     "output_type": "stream",
     "text": [
      "uncorrelated_biallelic\n"
     ]
    },
    {
     "data": {
      "text/latex": [
       "$\\left(\\begin{array}{cc}0.0 & 0.0 \\\\0.0 & 0.0 \\\\\\end{array}\\right)$"
      ]
     },
     "metadata": {},
     "output_type": "display_data"
    },
    {
     "name": "stdout",
     "output_type": "stream",
     "text": [
      "repulsion_biallelic\n"
     ]
    },
    {
     "data": {
      "text/latex": [
       "$\\left(\\begin{array}{cc}0.0 & 0.0 \\\\0.0 & 0.0 \\\\\\end{array}\\right)$"
      ]
     },
     "metadata": {},
     "output_type": "display_data"
    }
   ],
   "source": [
    "display_latex(r'$r$ unpolarized', raw=True)\n",
    "for case_name, data in TEST_CASES.items():\n",
    "    print(case_name.lower())\n",
    "    display_matrix(_two_site_general_stat(*data, r, 'total'))"
   ]
  },
  {
   "cell_type": "code",
   "execution_count": 46,
   "id": "a49b3ca2-dad9-4f76-8ef2-af0a9b28a8f5",
   "metadata": {},
   "outputs": [
    {
     "data": {
      "text/latex": [
       "$r$ unpolarized"
      ]
     },
     "metadata": {},
     "output_type": "display_data"
    },
    {
     "name": "stdout",
     "output_type": "stream",
     "text": [
      "correlated\n"
     ]
    },
    {
     "data": {
      "text/latex": [
       "$\\left(\\begin{array}{cc}1.0 & 1.0 \\\\1.0 & 1.0 \\\\\\end{array}\\right)$"
      ]
     },
     "metadata": {},
     "output_type": "display_data"
    },
    {
     "name": "stdout",
     "output_type": "stream",
     "text": [
      "correlated_biallelic\n"
     ]
    },
    {
     "data": {
      "text/latex": [
       "$\\left(\\begin{array}{cc}1.0 & 1.0 \\\\1.0 & 1.0 \\\\\\end{array}\\right)$"
      ]
     },
     "metadata": {},
     "output_type": "display_data"
    },
    {
     "name": "stdout",
     "output_type": "stream",
     "text": [
      "uncorrelated\n"
     ]
    },
    {
     "data": {
      "text/latex": [
       "$\\left(\\begin{array}{cc}1.0 & 0.0 \\\\0.0 & 1.0 \\\\\\end{array}\\right)$"
      ]
     },
     "metadata": {},
     "output_type": "display_data"
    },
    {
     "name": "stdout",
     "output_type": "stream",
     "text": [
      "uncorrelated_biallelic\n"
     ]
    },
    {
     "data": {
      "text/latex": [
       "$\\left(\\begin{array}{cc}1.0 & 0.0 \\\\0.0 & 1.0 \\\\\\end{array}\\right)$"
      ]
     },
     "metadata": {},
     "output_type": "display_data"
    },
    {
     "name": "stdout",
     "output_type": "stream",
     "text": [
      "repulsion_biallelic\n"
     ]
    },
    {
     "data": {
      "text/latex": [
       "$\\left(\\begin{array}{cc}1.0 & 1.0 \\\\1.0 & 1.0 \\\\\\end{array}\\right)$"
      ]
     },
     "metadata": {},
     "output_type": "display_data"
    }
   ],
   "source": [
    "display_latex(r'$r$ unpolarized', raw=True)\n",
    "for case_name, data in TEST_CASES.items():\n",
    "    print(case_name.lower())\n",
    "    display_matrix(_two_site_general_stat(*data, r, 'hap_weighted'))"
   ]
  },
  {
   "cell_type": "code",
   "execution_count": null,
   "id": "eaf9bdd8-6ad4-4d7f-861d-29b8a072aa4f",
   "metadata": {},
   "outputs": [],
   "source": [
    "def r2(w_AB, w_Ab, w_aB, n):\n",
    "    p_AB = w_AB / float(n)\n",
    "    p_Ab = w_Ab / float(n)\n",
    "    p_aB = w_aB / float(n)\n",
    "\n",
    "    p_A = p_AB + p_Ab\n",
    "    p_B = p_AB + p_aB\n",
    "\n",
    "    D_ = p_AB - (p_A * p_B)\n",
    "    denom = p_A * p_B * (1 - p_A) * (1 - p_B)\n",
    "\n",
    "    if denom == 0 and D_ == 0:\n",
    "        return np.nan\n",
    "\n",
    "    print(p_AB, p_A, p_B, D_, denom)\n",
    "    return (D_ * D_) / denom"
   ]
  },
  {
   "cell_type": "code",
   "execution_count": 59,
   "id": "59bc3311-f252-4f10-b7b1-e73192bc2106",
   "metadata": {},
   "outputs": [],
   "source": [
    "def r(w_AB, w_Ab, w_aB, n):\n",
    "    p_AB = w_AB / float(n)\n",
    "    p_Ab = w_Ab / float(n)\n",
    "    p_aB = w_aB / float(n)\n",
    "\n",
    "    p_A = p_AB + p_Ab\n",
    "    p_B = p_AB + p_aB\n",
    "\n",
    "    D_ = p_AB - (p_A * p_B)\n",
    "    denom = p_A * p_B * (1 - p_A) * (1 - p_B)\n",
    "\n",
    "    if denom == 0 and D_ == 0:\n",
    "        return np.nan\n",
    "\n",
    "    print(p_AB, p_A, p_B, D_, denom)\n",
    "    return D_ / np.sqrt(denom)"
   ]
  },
  {
   "cell_type": "code",
   "execution_count": 63,
   "id": "07c70f95-18a3-4f00-aa64-9aeef5c2d3c1",
   "metadata": {},
   "outputs": [],
   "source": [
    "def r_p(p_AB, p_Ab, p_aB):\n",
    "    p_A = p_AB + p_Ab\n",
    "    p_B = p_AB + p_aB\n",
    "\n",
    "    D_ = p_AB - (p_A * p_B)\n",
    "    denom = p_A * p_B * (1 - p_A) * (1 - p_B)\n",
    "\n",
    "    if denom == 0 and D_ == 0:\n",
    "        return np.nan\n",
    "\n",
    "    print(p_AB, p_A, p_B, D_, denom)\n",
    "    return D_ / np.sqrt(denom)"
   ]
  },
  {
   "cell_type": "code",
   "execution_count": 64,
   "id": "540dc0dd-714e-48cc-aef8-5f01caba4318",
   "metadata": {},
   "outputs": [
    {
     "name": "stdout",
     "output_type": "stream",
     "text": [
      "0 0.3333333333333333 0.2222222222222222 -0.07407407407407407 0.038408779149519894\n"
     ]
    },
    {
     "data": {
      "text/plain": [
       "-0.3779644730092272"
      ]
     },
     "execution_count": 64,
     "metadata": {},
     "output_type": "execute_result"
    }
   ],
   "source": [
    "r_p(0, 1/3, 2/9)"
   ]
  },
  {
   "cell_type": "code",
   "execution_count": 75,
   "id": "2b2d0654-af0e-4e9a-a0d9-110e262698f1",
   "metadata": {},
   "outputs": [],
   "source": [
    "ASYM = (\n",
    "    np.array(\n",
    "        [[0, 1, 1, 0, 2, 2, 1, 0, 2],\n",
    "         [1, 1, 1, 1, 0, 0, 1, 1, 0]]\n",
    "    ),\n",
    "    np.array([3, 3])\n",
    ")"
   ]
  },
  {
   "cell_type": "code",
   "execution_count": 76,
   "id": "8b6fb6b8-06ce-4f4c-8590-d5ef3159f0fc",
   "metadata": {},
   "outputs": [
    {
     "name": "stdout",
     "output_type": "stream",
     "text": [
      "a: [0 1 1 0 2 2 1 0 2] b: [0 1 1 0 2 2 1 0 2]\n",
      "[[3 0 0]\n",
      " [0 3 0]\n",
      " [0 0 3]]\n",
      "wAB\twAb\twaB\tstat\thap_prop\n",
      "3\t0\t0\t0.9999999999999999\t0.3333333333333333\n",
      "0\t3\t3\t-0.49999999999999994\t0.0\n",
      "0\t3\t3\t-0.49999999999999994\t0.0\n",
      "0\t3\t3\t-0.49999999999999994\t0.0\n",
      "3\t0\t0\t0.9999999999999999\t0.3333333333333333\n",
      "0\t3\t3\t-0.49999999999999994\t0.0\n",
      "0\t3\t3\t-0.49999999999999994\t0.0\n",
      "0\t3\t3\t-0.49999999999999994\t0.0\n",
      "3\t0\t0\t0.9999999999999999\t0.3333333333333333\n",
      "--------------------------------------------------------\n",
      "a: [0 1 1 0 2 2 1 0 2] b: [1 1 1 1 0 0 1 1 0]\n",
      "[[0 3 0]\n",
      " [0 3 0]\n",
      " [3 0 0]]\n",
      "wAB\twAb\twaB\tstat\thap_prop\n",
      "0\t3\t3\t-0.49999999999999994\t0.0\n",
      "3\t0\t3\t0.49999999999999994\t0.3333333333333333\n",
      "0\t3\t0\tnan\t0.0\n",
      "0\t3\t3\t-0.49999999999999994\t0.0\n",
      "3\t0\t3\t0.49999999999999994\t0.3333333333333333\n",
      "0\t3\t0\tnan\t0.0\n",
      "3\t0\t0\t0.9999999999999999\t0.3333333333333333\n",
      "0\t3\t6\t-0.9999999999999999\t0.0\n",
      "0\t3\t0\tnan\t0.0\n",
      "--------------------------------------------------------\n",
      "a: [1 1 1 1 0 0 1 1 0] b: [1 1 1 1 0 0 1 1 0]\n",
      "[[3 0 0]\n",
      " [0 6 0]\n",
      " [0 0 0]]\n",
      "wAB\twAb\twaB\tstat\thap_prop\n",
      "3\t0\t0\t0.9999999999999999\t0.3333333333333333\n",
      "0\t3\t6\t-0.9999999999999999\t0.0\n",
      "0\t3\t0\tnan\t0.0\n",
      "0\t6\t3\t-0.9999999999999999\t0.0\n",
      "6\t0\t0\t0.9999999999999999\t0.6666666666666666\n",
      "0\t6\t0\tnan\t0.0\n",
      "0\t0\t3\tnan\t0.0\n",
      "0\t0\t6\tnan\t0.0\n",
      "0\t0\t0\tnan\t0.0\n",
      "--------------------------------------------------------\n"
     ]
    },
    {
     "data": {
      "text/plain": [
       "array([[ 1., nan],\n",
       "       [nan, nan]])"
      ]
     },
     "execution_count": 76,
     "metadata": {},
     "output_type": "execute_result"
    }
   ],
   "source": [
    "_two_site_general_stat(*ASYM, r, 'hap_weighted', polarized=False, debug=True)"
   ]
  },
  {
   "cell_type": "code",
   "execution_count": 60,
   "id": "2b8a9621-58ef-409a-85c0-e81b4ee7ee1b",
   "metadata": {},
   "outputs": [
    {
     "name": "stdout",
     "output_type": "stream",
     "text": [
      "a: [0 1 1 0 2 2 1 0 1] b: [0 1 1 0 2 2 1 0 1]\n",
      "[[3 0 0]\n",
      " [0 4 0]\n",
      " [0 0 2]]\n",
      "wAB\twAb\twaB\tstat\thap_prop\n",
      "0.3333333333333333 0.3333333333333333 0.3333333333333333 0.2222222222222222 0.04938271604938273\n",
      "0.3333333333333333 0.3333333333333333 0.3333333333333333 0.2222222222222222 0.04938271604938273\n",
      "3\t0\t0\t0.9999999999999999\t0.3333333333333333\n",
      "0.0 0.3333333333333333 0.4444444444444444 -0.14814814814814814 0.054869684499314134\n",
      "0.0 0.3333333333333333 0.4444444444444444 -0.14814814814814814 0.054869684499314134\n",
      "0\t3\t4\t-0.6324555320336758\t0.0\n",
      "0.0 0.3333333333333333 0.2222222222222222 -0.07407407407407407 0.038408779149519894\n",
      "0.0 0.3333333333333333 0.2222222222222222 -0.07407407407407407 0.038408779149519894\n",
      "0\t3\t2\t-0.3779644730092272\t0.0\n",
      "0.0 0.4444444444444444 0.3333333333333333 -0.14814814814814814 0.054869684499314134\n",
      "0.0 0.4444444444444444 0.3333333333333333 -0.14814814814814814 0.054869684499314134\n",
      "0\t4\t3\t-0.6324555320336758\t0.0\n",
      "0.4444444444444444 0.4444444444444444 0.4444444444444444 0.24691358024691357 0.060966316110349035\n",
      "0.4444444444444444 0.4444444444444444 0.4444444444444444 0.24691358024691357 0.060966316110349035\n",
      "4\t0\t0\t0.9999999999999999\t0.4444444444444444\n",
      "0.0 0.4444444444444444 0.2222222222222222 -0.09876543209876543 0.042676421277244324\n",
      "0.0 0.4444444444444444 0.2222222222222222 -0.09876543209876543 0.042676421277244324\n",
      "0\t4\t2\t-0.4780914437337574\t0.0\n",
      "0.0 0.2222222222222222 0.3333333333333333 -0.07407407407407407 0.038408779149519894\n",
      "0.0 0.2222222222222222 0.3333333333333333 -0.07407407407407407 0.038408779149519894\n",
      "0\t2\t3\t-0.3779644730092272\t0.0\n",
      "0.0 0.2222222222222222 0.4444444444444444 -0.09876543209876543 0.04267642127724432\n",
      "0.0 0.2222222222222222 0.4444444444444444 -0.09876543209876543 0.04267642127724432\n",
      "0\t2\t4\t-0.47809144373375745\t0.0\n",
      "0.2222222222222222 0.2222222222222222 0.2222222222222222 0.1728395061728395 0.029873494894071023\n",
      "0.2222222222222222 0.2222222222222222 0.2222222222222222 0.1728395061728395 0.029873494894071023\n",
      "2\t0\t0\t1.0\t0.2222222222222222\n",
      "--------------------------------------------------------\n",
      "a: [0 1 1 0 2 2 1 0 1] b: [1 2 2 1 0 0 2 1 2]\n",
      "[[0 3 0]\n",
      " [0 0 4]\n",
      " [2 0 0]]\n",
      "wAB\twAb\twaB\tstat\thap_prop\n",
      "0.0 0.3333333333333333 0.2222222222222222 -0.07407407407407407 0.038408779149519894\n",
      "0.0 0.3333333333333333 0.2222222222222222 -0.07407407407407407 0.038408779149519894\n",
      "0\t3\t2\t-0.3779644730092272\t0.0\n",
      "0.3333333333333333 0.3333333333333333 0.3333333333333333 0.2222222222222222 0.04938271604938273\n",
      "0.3333333333333333 0.3333333333333333 0.3333333333333333 0.2222222222222222 0.04938271604938273\n",
      "3\t0\t0\t0.9999999999999999\t0.3333333333333333\n",
      "0.0 0.3333333333333333 0.4444444444444444 -0.14814814814814814 0.054869684499314134\n",
      "0.0 0.3333333333333333 0.4444444444444444 -0.14814814814814814 0.054869684499314134\n",
      "0\t3\t4\t-0.6324555320336758\t0.0\n",
      "0.0 0.4444444444444444 0.2222222222222222 -0.09876543209876543 0.042676421277244324\n",
      "0.0 0.4444444444444444 0.2222222222222222 -0.09876543209876543 0.042676421277244324\n",
      "0\t4\t2\t-0.4780914437337574\t0.0\n",
      "0.0 0.4444444444444444 0.3333333333333333 -0.14814814814814814 0.054869684499314134\n",
      "0.0 0.4444444444444444 0.3333333333333333 -0.14814814814814814 0.054869684499314134\n",
      "0\t4\t3\t-0.6324555320336758\t0.0\n",
      "0.4444444444444444 0.4444444444444444 0.4444444444444444 0.24691358024691357 0.060966316110349035\n",
      "0.4444444444444444 0.4444444444444444 0.4444444444444444 0.24691358024691357 0.060966316110349035\n",
      "4\t0\t0\t0.9999999999999999\t0.4444444444444444\n",
      "0.2222222222222222 0.2222222222222222 0.2222222222222222 0.1728395061728395 0.029873494894071023\n",
      "0.2222222222222222 0.2222222222222222 0.2222222222222222 0.1728395061728395 0.029873494894071023\n",
      "2\t0\t0\t1.0\t0.2222222222222222\n",
      "0.0 0.2222222222222222 0.3333333333333333 -0.07407407407407407 0.038408779149519894\n",
      "0.0 0.2222222222222222 0.3333333333333333 -0.07407407407407407 0.038408779149519894\n",
      "0\t2\t3\t-0.3779644730092272\t0.0\n",
      "0.0 0.2222222222222222 0.4444444444444444 -0.09876543209876543 0.04267642127724432\n",
      "0.0 0.2222222222222222 0.4444444444444444 -0.09876543209876543 0.04267642127724432\n",
      "0\t2\t4\t-0.47809144373375745\t0.0\n",
      "--------------------------------------------------------\n",
      "a: [1 2 2 1 0 0 2 1 2] b: [1 2 2 1 0 0 2 1 2]\n",
      "[[2 0 0]\n",
      " [0 3 0]\n",
      " [0 0 4]]\n",
      "wAB\twAb\twaB\tstat\thap_prop\n",
      "0.2222222222222222 0.2222222222222222 0.2222222222222222 0.1728395061728395 0.029873494894071023\n",
      "0.2222222222222222 0.2222222222222222 0.2222222222222222 0.1728395061728395 0.029873494894071023\n",
      "2\t0\t0\t1.0\t0.2222222222222222\n",
      "0.0 0.2222222222222222 0.3333333333333333 -0.07407407407407407 0.038408779149519894\n",
      "0.0 0.2222222222222222 0.3333333333333333 -0.07407407407407407 0.038408779149519894\n",
      "0\t2\t3\t-0.3779644730092272\t0.0\n",
      "0.0 0.2222222222222222 0.4444444444444444 -0.09876543209876543 0.04267642127724432\n",
      "0.0 0.2222222222222222 0.4444444444444444 -0.09876543209876543 0.04267642127724432\n",
      "0\t2\t4\t-0.47809144373375745\t0.0\n",
      "0.0 0.3333333333333333 0.2222222222222222 -0.07407407407407407 0.038408779149519894\n",
      "0.0 0.3333333333333333 0.2222222222222222 -0.07407407407407407 0.038408779149519894\n",
      "0\t3\t2\t-0.3779644730092272\t0.0\n",
      "0.3333333333333333 0.3333333333333333 0.3333333333333333 0.2222222222222222 0.04938271604938273\n",
      "0.3333333333333333 0.3333333333333333 0.3333333333333333 0.2222222222222222 0.04938271604938273\n",
      "3\t0\t0\t0.9999999999999999\t0.3333333333333333\n",
      "0.0 0.3333333333333333 0.4444444444444444 -0.14814814814814814 0.054869684499314134\n",
      "0.0 0.3333333333333333 0.4444444444444444 -0.14814814814814814 0.054869684499314134\n",
      "0\t3\t4\t-0.6324555320336758\t0.0\n",
      "0.0 0.4444444444444444 0.2222222222222222 -0.09876543209876543 0.042676421277244324\n",
      "0.0 0.4444444444444444 0.2222222222222222 -0.09876543209876543 0.042676421277244324\n",
      "0\t4\t2\t-0.4780914437337574\t0.0\n",
      "0.0 0.4444444444444444 0.3333333333333333 -0.14814814814814814 0.054869684499314134\n",
      "0.0 0.4444444444444444 0.3333333333333333 -0.14814814814814814 0.054869684499314134\n",
      "0\t4\t3\t-0.6324555320336758\t0.0\n",
      "0.4444444444444444 0.4444444444444444 0.4444444444444444 0.24691358024691357 0.060966316110349035\n",
      "0.4444444444444444 0.4444444444444444 0.4444444444444444 0.24691358024691357 0.060966316110349035\n",
      "4\t0\t0\t0.9999999999999999\t0.4444444444444444\n",
      "--------------------------------------------------------\n"
     ]
    },
    {
     "data": {
      "text/plain": [
       "array([[1., 1.],\n",
       "       [1., 1.]])"
      ]
     },
     "execution_count": 60,
     "metadata": {},
     "output_type": "execute_result"
    }
   ],
   "source": [
    "_two_site_general_stat(*CORRELATED, r, 'hap_weighted', polarized=False, debug=True)"
   ]
  },
  {
   "cell_type": "code",
   "execution_count": 50,
   "id": "66140870-fba3-4f6c-adf2-71be25fac373",
   "metadata": {},
   "outputs": [
    {
     "name": "stdout",
     "output_type": "stream",
     "text": [
      "a: [0 0 0 0 1 1 1 1] b: [0 0 0 0 1 1 1 1]\n",
      "[[4 0]\n",
      " [0 4]]\n",
      "wAB\twAb\twaB\tstat\thap_prop\n",
      "4\t0\t0\t1.0\t0.5\n",
      "0\t4\t4\t-1.0\t0.0\n",
      "0\t4\t4\t-1.0\t0.0\n",
      "4\t0\t0\t1.0\t0.5\n",
      "--------------------------------------------------------\n",
      "a: [0 0 0 0 1 1 1 1] b: [0 0 0 0 1 1 1 1]\n",
      "[[4 0]\n",
      " [0 4]]\n",
      "wAB\twAb\twaB\tstat\thap_prop\n",
      "4\t0\t0\t1.0\t0.5\n",
      "0\t4\t4\t-1.0\t0.0\n",
      "0\t4\t4\t-1.0\t0.0\n",
      "4\t0\t0\t1.0\t0.5\n",
      "--------------------------------------------------------\n",
      "a: [0 0 0 0 1 1 1 1] b: [0 0 0 0 1 1 1 1]\n",
      "[[4 0]\n",
      " [0 4]]\n",
      "wAB\twAb\twaB\tstat\thap_prop\n",
      "4\t0\t0\t1.0\t0.5\n",
      "0\t4\t4\t-1.0\t0.0\n",
      "0\t4\t4\t-1.0\t0.0\n",
      "4\t0\t0\t1.0\t0.5\n",
      "--------------------------------------------------------\n"
     ]
    },
    {
     "data": {
      "text/plain": [
       "array([[1., 1.],\n",
       "       [1., 1.]])"
      ]
     },
     "execution_count": 50,
     "metadata": {},
     "output_type": "execute_result"
    }
   ],
   "source": [
    "_two_site_general_stat(*CORRELATED_BIALLELIC, r, 'hap_weighted', polarized=False, debug=True)"
   ]
  },
  {
   "cell_type": "code",
   "execution_count": 20,
   "id": "3997349c-1cc6-40f2-912e-857669e7d044",
   "metadata": {},
   "outputs": [
    {
     "data": {
      "text/plain": [
       "1.0"
      ]
     },
     "execution_count": 20,
     "metadata": {},
     "output_type": "execute_result"
    }
   ],
   "source": [
    "r(4, 0, 0, 8)"
   ]
  },
  {
   "cell_type": "code",
   "execution_count": 21,
   "id": "f7ab5465-3256-4ae8-a0ea-46ccee1b504c",
   "metadata": {},
   "outputs": [
    {
     "data": {
      "text/plain": [
       "-1.0"
      ]
     },
     "execution_count": 21,
     "metadata": {},
     "output_type": "execute_result"
    }
   ],
   "source": [
    "r(0, 4, 4, 8)"
   ]
  },
  {
   "cell_type": "code",
   "execution_count": 22,
   "id": "74938a6f-6fc2-4785-a0c8-22e046ddc082",
   "metadata": {},
   "outputs": [
    {
     "data": {
      "text/plain": [
       "1.0"
      ]
     },
     "execution_count": 22,
     "metadata": {},
     "output_type": "execute_result"
    }
   ],
   "source": [
    "r2(0, 4, 4, 8)"
   ]
  },
  {
   "cell_type": "code",
   "execution_count": 23,
   "id": "6c1be4a4-368f-4c67-ba32-bb8a5fcaa37a",
   "metadata": {},
   "outputs": [
    {
     "data": {
      "text/latex": [
       "$r$ polarized"
      ]
     },
     "metadata": {},
     "output_type": "display_data"
    },
    {
     "name": "stdout",
     "output_type": "stream",
     "text": [
      "correlated\n"
     ]
    },
    {
     "data": {
      "text/latex": [
       "$\\left(\\begin{array}{cc}0.26095 & -0.12213 \\\\-0.12213 & 0.18377 \\\\\\end{array}\\right)$"
      ]
     },
     "metadata": {},
     "output_type": "display_data"
    },
    {
     "name": "stdout",
     "output_type": "stream",
     "text": [
      "correlated_biallelic\n"
     ]
    },
    {
     "data": {
      "text/latex": [
       "$\\left(\\begin{array}{cc}1.0 & 1.0 \\\\1.0 & 1.0 \\\\\\end{array}\\right)$"
      ]
     },
     "metadata": {},
     "output_type": "display_data"
    },
    {
     "name": "stdout",
     "output_type": "stream",
     "text": [
      "uncorrelated\n"
     ]
    },
    {
     "data": {
      "text/latex": [
       "$\\left(\\begin{array}{cc}0.25 & 0.0 \\\\0.0 & 0.25 \\\\\\end{array}\\right)$"
      ]
     },
     "metadata": {},
     "output_type": "display_data"
    },
    {
     "name": "stdout",
     "output_type": "stream",
     "text": [
      "uncorrelated_biallelic\n"
     ]
    },
    {
     "data": {
      "text/latex": [
       "$\\left(\\begin{array}{cc}1.0 & 0.0 \\\\0.0 & 1.0 \\\\\\end{array}\\right)$"
      ]
     },
     "metadata": {},
     "output_type": "display_data"
    },
    {
     "name": "stdout",
     "output_type": "stream",
     "text": [
      "repulsion_biallelic\n"
     ]
    },
    {
     "data": {
      "text/latex": [
       "$\\left(\\begin{array}{cc}1.0 & -1.0 \\\\-1.0 & 1.0 \\\\\\end{array}\\right)$"
      ]
     },
     "metadata": {},
     "output_type": "display_data"
    }
   ],
   "source": [
    "display_latex(r'$r$ polarized', raw=True)\n",
    "for case_name, data in TEST_CASES.items():\n",
    "    print(case_name.lower())\n",
    "    display_matrix(_two_site_general_stat(*data, r, 'total', polarized=True))"
   ]
  },
  {
   "cell_type": "code",
   "execution_count": 24,
   "id": "3be0bb89-b602-438c-a429-a683cbddf807",
   "metadata": {},
   "outputs": [
    {
     "data": {
      "text/latex": [
       "$r$ polarized"
      ]
     },
     "metadata": {},
     "output_type": "display_data"
    },
    {
     "name": "stdout",
     "output_type": "stream",
     "text": [
      "correlated\n"
     ]
    },
    {
     "data": {
      "text/latex": [
       "$\\left(\\begin{array}{cc}0.66667 & 0.44444 \\\\0.44444 & 0.77778 \\\\\\end{array}\\right)$"
      ]
     },
     "metadata": {},
     "output_type": "display_data"
    },
    {
     "name": "stdout",
     "output_type": "stream",
     "text": [
      "correlated_biallelic\n"
     ]
    },
    {
     "data": {
      "text/latex": [
       "$\\left(\\begin{array}{cc}0.5 & 0.5 \\\\0.5 & 0.5 \\\\\\end{array}\\right)$"
      ]
     },
     "metadata": {},
     "output_type": "display_data"
    },
    {
     "name": "stdout",
     "output_type": "stream",
     "text": [
      "uncorrelated\n"
     ]
    },
    {
     "data": {
      "text/latex": [
       "$\\left(\\begin{array}{cc}0.66667 & 0.0 \\\\0.0 & 0.66667 \\\\\\end{array}\\right)$"
      ]
     },
     "metadata": {},
     "output_type": "display_data"
    },
    {
     "name": "stdout",
     "output_type": "stream",
     "text": [
      "uncorrelated_biallelic\n"
     ]
    },
    {
     "data": {
      "text/latex": [
       "$\\left(\\begin{array}{cc}0.5 & 0.0 \\\\0.0 & 0.5 \\\\\\end{array}\\right)$"
      ]
     },
     "metadata": {},
     "output_type": "display_data"
    },
    {
     "name": "stdout",
     "output_type": "stream",
     "text": [
      "repulsion_biallelic\n"
     ]
    },
    {
     "data": {
      "text/latex": [
       "$\\left(\\begin{array}{cc}0.5 & 0.0 \\\\0.0 & 0.5 \\\\\\end{array}\\right)$"
      ]
     },
     "metadata": {},
     "output_type": "display_data"
    }
   ],
   "source": [
    "display_latex(r'$r$ polarized', raw=True)\n",
    "for case_name, data in TEST_CASES.items():\n",
    "    print(case_name.lower())\n",
    "    display_matrix(_two_site_general_stat(*data, r, 'hap_weighted', polarized=True))"
   ]
  },
  {
   "cell_type": "markdown",
   "id": "772432c9-19dc-4c41-9a3c-2adc8d956ec0",
   "metadata": {},
   "source": [
    "## Investigations/musings"
   ]
  },
  {
   "cell_type": "code",
   "execution_count": 25,
   "id": "8abd5a93-86b9-480b-ad61-e2964210b630",
   "metadata": {},
   "outputs": [
    {
     "data": {
      "text/plain": [
       "array([[0.5, 0. ],\n",
       "       [0. , 0.5]])"
      ]
     },
     "execution_count": 25,
     "metadata": {},
     "output_type": "execute_result"
    }
   ],
   "source": [
    "_two_site_general_stat(\n",
    "    np.array([[0, 0, 1, 2],[1, 2, 0 ,0 ]]), np.array([3, 3]), r2, 'hap_weighted', polarized=True)"
   ]
  },
  {
   "cell_type": "code",
   "execution_count": 26,
   "id": "6170347f-f04b-4355-9de6-11422ca84549",
   "metadata": {},
   "outputs": [
    {
     "data": {
      "text/plain": [
       "array([[1.        , 0.33333333],\n",
       "       [0.33333333, 1.        ]])"
      ]
     },
     "execution_count": 26,
     "metadata": {},
     "output_type": "execute_result"
    }
   ],
   "source": [
    "_two_site_general_stat(\n",
    "    np.array([[0, 0, 1, 2],[1, 2, 0 ,0 ]]), np.array([3, 3]), r2, 'hap_weighted')"
   ]
  },
  {
   "cell_type": "code",
   "execution_count": 27,
   "id": "42a76cde-0c50-4305-aee0-cdc5593063a6",
   "metadata": {},
   "outputs": [
    {
     "data": {
      "text/plain": [
       "array([[0.66666667, 0.        ],\n",
       "       [0.        , 0.33333333]])"
      ]
     },
     "execution_count": 27,
     "metadata": {},
     "output_type": "execute_result"
    }
   ],
   "source": [
    "_two_site_general_stat(\n",
    "    np.array([[0, 1, 2],[1, 0, 0]]), np.array([3, 2]), r2, 'hap_weighted', polarized=True)"
   ]
  },
  {
   "cell_type": "code",
   "execution_count": 28,
   "id": "719cc944-e000-47d8-83aa-252646768bca",
   "metadata": {},
   "outputs": [
    {
     "data": {
      "text/plain": [
       "array([[1. , 0.5],\n",
       "       [0.5, 1. ]])"
      ]
     },
     "execution_count": 28,
     "metadata": {},
     "output_type": "execute_result"
    }
   ],
   "source": [
    "_two_site_general_stat(\n",
    "    np.array([[0, 1, 2],[1, 0, 0]]), np.array([3, 2]), r2, 'hap_weighted')"
   ]
  },
  {
   "cell_type": "code",
   "execution_count": null,
   "id": "c5bc69ac-3be7-4e1d-8ae0-0a13d23d7391",
   "metadata": {},
   "outputs": [],
   "source": []
  },
  {
   "cell_type": "code",
   "execution_count": 29,
   "id": "8a4f8aef-0bb4-41e6-a3b2-6ae9137c84cb",
   "metadata": {},
   "outputs": [
    {
     "data": {
      "text/plain": [
       "array([[-0.33333333, -0.33333333],\n",
       "       [-0.33333333, -0.33333333]])"
      ]
     },
     "execution_count": 29,
     "metadata": {},
     "output_type": "execute_result"
    }
   ],
   "source": [
    "_two_site_general_stat(*CORRELATED, D_prime, 'total')"
   ]
  },
  {
   "cell_type": "code",
   "execution_count": 30,
   "id": "032638df-9416-4ad6-af97-3028f9537f1c",
   "metadata": {},
   "outputs": [
    {
     "data": {
      "text/plain": [
       "array([[1., 1.],\n",
       "       [1., 1.]])"
      ]
     },
     "execution_count": 30,
     "metadata": {},
     "output_type": "execute_result"
    }
   ],
   "source": [
    "_two_site_general_stat(*CORRELATED, D_prime, 'hap_weighted')"
   ]
  },
  {
   "cell_type": "code",
   "execution_count": 31,
   "id": "902c4b01-5c11-4701-bdea-91e12511d4a1",
   "metadata": {},
   "outputs": [
    {
     "data": {
      "text/plain": [
       "array([[-0.33333333,  0.        ],\n",
       "       [ 0.        , -0.33333333]])"
      ]
     },
     "execution_count": 31,
     "metadata": {},
     "output_type": "execute_result"
    }
   ],
   "source": [
    "_two_site_general_stat(*UNCORRELATED, D_prime, 'total')"
   ]
  },
  {
   "cell_type": "code",
   "execution_count": 32,
   "id": "805a813f-620a-46fb-a05e-29b77d5867df",
   "metadata": {},
   "outputs": [
    {
     "data": {
      "text/plain": [
       "array([[1., 0.],\n",
       "       [0., 1.]])"
      ]
     },
     "execution_count": 32,
     "metadata": {},
     "output_type": "execute_result"
    }
   ],
   "source": [
    "_two_site_general_stat(*UNCORRELATED, D_prime, 'hap_weighted')"
   ]
  },
  {
   "cell_type": "code",
   "execution_count": 33,
   "id": "3f65f777-8950-458e-ab0d-e5c85174061f",
   "metadata": {},
   "outputs": [
    {
     "data": {
      "text/plain": [
       "array([[0., 0.],\n",
       "       [0., 0.]])"
      ]
     },
     "execution_count": 33,
     "metadata": {},
     "output_type": "execute_result"
    }
   ],
   "source": [
    "_two_site_general_stat(*CORRELATED_BIALLELIC, D_prime, 'total')"
   ]
  },
  {
   "cell_type": "code",
   "execution_count": 34,
   "id": "fb234116-377e-4b2e-94f7-44a1bd3ec306",
   "metadata": {},
   "outputs": [
    {
     "data": {
      "text/plain": [
       "array([[0., 0.],\n",
       "       [0., 0.]])"
      ]
     },
     "execution_count": 34,
     "metadata": {},
     "output_type": "execute_result"
    }
   ],
   "source": [
    "_two_site_general_stat(*UNCORRELATED_BIALLELIC, D_prime, 'total')"
   ]
  },
  {
   "cell_type": "code",
   "execution_count": 35,
   "id": "2a8acfa2-a511-42b9-aace-eeb0fcead2dc",
   "metadata": {},
   "outputs": [
    {
     "data": {
      "text/plain": [
       "array([[0., 0.],\n",
       "       [0., 0.]])"
      ]
     },
     "execution_count": 35,
     "metadata": {},
     "output_type": "execute_result"
    }
   ],
   "source": [
    "_two_site_general_stat(*REPULSION_BIALLELIC, D_prime, 'total')"
   ]
  },
  {
   "cell_type": "markdown",
   "id": "fcd23ef7-2d7b-4c9e-a60b-debe23b94449",
   "metadata": {},
   "source": [
    "## Generate doctests"
   ]
  },
  {
   "cell_type": "code",
   "execution_count": 81,
   "id": "af174a58-82e6-4a6c-b1b7-d55a41ac557f",
   "metadata": {},
   "outputs": [],
   "source": [
    "NORM_METHOD = {\n",
    "    D: 'total',\n",
    "    D_prime: 'hap_weighted',\n",
    "    D2: 'total',\n",
    "    Dz: 'total',\n",
    "    pi2: 'total',\n",
    "    r: 'total',\n",
    "    r2: 'hap_weighted',\n",
    "}"
   ]
  },
  {
   "cell_type": "code",
   "execution_count": 87,
   "id": "bc8ee01d-2cbe-4e19-a82c-796e437ba5cb",
   "metadata": {},
   "outputs": [],
   "source": [
    "POLARIZATION = {\n",
    "    D: True,\n",
    "    D_prime: True,\n",
    "    D2: False,\n",
    "    Dz: False,\n",
    "    pi2: False,\n",
    "    r: True,\n",
    "    r2: False,\n",
    "}"
   ]
  },
  {
   "cell_type": "code",
   "execution_count": 102,
   "id": "86f8b339-5eb1-4471-9c38-4168d9c091d8",
   "metadata": {},
   "outputs": [
    {
     "name": "stdout",
     "output_type": "stream",
     "text": [
      "(D, \"CORRELATED\",\n",
      "np.array([[ 0.05555556, -0.01851852],\n",
      "       [-0.01851852,  0.04320988]])),\n",
      "(D, \"CORRELATED_BIALLELIC\",\n",
      "np.array([[0.25, 0.25],\n",
      "       [0.25, 0.25]])),\n",
      "(D, \"UNCORRELATED\",\n",
      "np.array([[0.05555556, 0.        ],\n",
      "       [0.        , 0.05555556]])),\n",
      "(D, \"UNCORRELATED_BIALLELIC\",\n",
      "np.array([[0.25, 0.  ],\n",
      "       [0.  , 0.25]])),\n",
      "(D, \"REPULSION_BIALLELIC\",\n",
      "np.array([[ 0.25, -0.25],\n",
      "       [-0.25,  0.25]])),\n",
      "(D_prime, \"CORRELATED\",\n",
      "np.array([[0.66666667, 0.44444444],\n",
      "       [0.44444444, 0.77777778]])),\n",
      "(D_prime, \"CORRELATED_BIALLELIC\",\n",
      "np.array([[0.5, 0.5],\n",
      "       [0.5, 0.5]])),\n",
      "(D_prime, \"UNCORRELATED\",\n",
      "np.array([[0.66666667, 0.        ],\n",
      "       [0.        , 0.66666667]])),\n",
      "(D_prime, \"UNCORRELATED_BIALLELIC\",\n",
      "np.array([[0.5, 0. ],\n",
      "       [0. , 0.5]])),\n",
      "(D_prime, \"REPULSION_BIALLELIC\",\n",
      "np.array([[0.5, 0. ],\n",
      "       [0. , 0.5]])),\n",
      "(D2, \"CORRELATED\",\n",
      "np.array([[0.0238446, 0.0238446],\n",
      "       [0.0238446, 0.0238446]])),\n",
      "(D2, \"CORRELATED_BIALLELIC\",\n",
      "np.array([[0.0625, 0.0625],\n",
      "       [0.0625, 0.0625]])),\n",
      "(D2, \"UNCORRELATED\",\n",
      "np.array([[0.02469136, 0.        ],\n",
      "       [0.        , 0.02469136]])),\n",
      "(D2, \"UNCORRELATED_BIALLELIC\",\n",
      "np.array([[0.0625, 0.    ],\n",
      "       [0.    , 0.0625]])),\n",
      "(D2, \"REPULSION_BIALLELIC\",\n",
      "np.array([[0.0625, 0.0625],\n",
      "       [0.0625, 0.0625]])),\n",
      "(Dz, \"CORRELATED\",\n",
      "np.array([[0.00338702, 0.00338702],\n",
      "       [0.00338702, 0.00338702]])),\n",
      "(Dz, \"CORRELATED_BIALLELIC\",\n",
      "np.array([[0., 0.],\n",
      "       [0., 0.]])),\n",
      "(Dz, \"UNCORRELATED\",\n",
      "np.array([[0., 0.],\n",
      "       [0., 0.]])),\n",
      "(Dz, \"UNCORRELATED_BIALLELIC\",\n",
      "np.array([[0., 0.],\n",
      "       [0., 0.]])),\n",
      "(Dz, \"REPULSION_BIALLELIC\",\n",
      "np.array([[0., 0.],\n",
      "       [0., 0.]])),\n",
      "(pi2, \"CORRELATED\",\n",
      "np.array([[0.04579248, 0.04579248],\n",
      "       [0.04579248, 0.04579248]])),\n",
      "(pi2, \"CORRELATED_BIALLELIC\",\n",
      "np.array([[0.0625, 0.0625],\n",
      "       [0.0625, 0.0625]])),\n",
      "(pi2, \"UNCORRELATED\",\n",
      "np.array([[0.04938272, 0.04938272],\n",
      "       [0.04938272, 0.04938272]])),\n",
      "(pi2, \"UNCORRELATED_BIALLELIC\",\n",
      "np.array([[0.0625, 0.0625],\n",
      "       [0.0625, 0.0625]])),\n",
      "(pi2, \"REPULSION_BIALLELIC\",\n",
      "np.array([[0.0625, 0.0625],\n",
      "       [0.0625, 0.0625]])),\n",
      "(r, \"CORRELATED\",\n",
      "np.array([[ 0.26095428, -0.12212786],\n",
      "       [-0.12212786,  0.18377223]])),\n",
      "(r, \"CORRELATED_BIALLELIC\",\n",
      "np.array([[1., 1.],\n",
      "       [1., 1.]])),\n",
      "(r, \"UNCORRELATED\",\n",
      "np.array([[0.25, 0.  ],\n",
      "       [0.  , 0.25]])),\n",
      "(r, \"UNCORRELATED_BIALLELIC\",\n",
      "np.array([[1., 0.],\n",
      "       [0., 1.]])),\n",
      "(r, \"REPULSION_BIALLELIC\",\n",
      "np.array([[ 1., -1.],\n",
      "       [-1.,  1.]])),\n",
      "(r2, \"CORRELATED\",\n",
      "np.array([[1., 1.],\n",
      "       [1., 1.]])),\n",
      "(r2, \"CORRELATED_BIALLELIC\",\n",
      "np.array([[1., 1.],\n",
      "       [1., 1.]])),\n",
      "(r2, \"UNCORRELATED\",\n",
      "np.array([[1., 0.],\n",
      "       [0., 1.]])),\n",
      "(r2, \"UNCORRELATED_BIALLELIC\",\n",
      "np.array([[1., 0.],\n",
      "       [0., 1.]])),\n",
      "(r2, \"REPULSION_BIALLELIC\",\n",
      "np.array([[1., 1.],\n",
      "       [1., 1.]])),\n"
     ]
    }
   ],
   "source": [
    "for func in NORM_METHOD:\n",
    "    # print(f'{func.__name__}: {{')\n",
    "    for case_name, data in TEST_CASES.items():\n",
    "        print(f'({func.__name__}, \"{case_name}\",\\nnp.{repr(_two_site_general_stat(*data, func, NORM_METHOD[func], polarized=POLARIZATION[func]))}),')\n",
    "        # print(f'    (\"{case_name}\",\\nnp.{repr(_two_site_general_stat(*data, func, NORM_METHOD[func], polarized=POLARIZATION[func]))}),')\n",
    "    # print('},')"
   ]
  },
  {
   "cell_type": "code",
   "execution_count": 89,
   "id": "8fb63f61-1736-42bc-a9c5-b0e311529119",
   "metadata": {
    "scrolled": true,
    "tags": []
   },
   "outputs": [
    {
     "name": "stdout",
     "output_type": "stream",
     "text": [
      ">>> _two_site_general_stat(*correlated, D, total, polarized=True)\n",
      "[[ 0.05555556 -0.01851852]\n",
      " [-0.01851852  0.04320988]]\n",
      ">>> _two_site_general_stat(*correlated_biallelic, D, total, polarized=True)\n",
      "[[0.25 0.25]\n",
      " [0.25 0.25]]\n",
      ">>> _two_site_general_stat(*uncorrelated, D, total, polarized=True)\n",
      "[[0.05555556 0.        ]\n",
      " [0.         0.05555556]]\n",
      ">>> _two_site_general_stat(*uncorrelated_biallelic, D, total, polarized=True)\n",
      "[[0.25 0.  ]\n",
      " [0.   0.25]]\n",
      ">>> _two_site_general_stat(*repulsion_biallelic, D, total, polarized=True)\n",
      "[[ 0.25 -0.25]\n",
      " [-0.25  0.25]]\n",
      "\n",
      ">>> _two_site_general_stat(*correlated, D_prime, hap_weighted, polarized=True)\n",
      "[[0.66666667 0.44444444]\n",
      " [0.44444444 0.77777778]]\n",
      ">>> _two_site_general_stat(*correlated_biallelic, D_prime, hap_weighted, polarized=True)\n",
      "[[0.5 0.5]\n",
      " [0.5 0.5]]\n",
      ">>> _two_site_general_stat(*uncorrelated, D_prime, hap_weighted, polarized=True)\n",
      "[[0.66666667 0.        ]\n",
      " [0.         0.66666667]]\n",
      ">>> _two_site_general_stat(*uncorrelated_biallelic, D_prime, hap_weighted, polarized=True)\n",
      "[[0.5 0. ]\n",
      " [0.  0.5]]\n",
      ">>> _two_site_general_stat(*repulsion_biallelic, D_prime, hap_weighted, polarized=True)\n",
      "[[0.5 0. ]\n",
      " [0.  0.5]]\n",
      "\n",
      ">>> _two_site_general_stat(*correlated, D2, total, polarized=False)\n",
      "[[0.0238446 0.0238446]\n",
      " [0.0238446 0.0238446]]\n",
      ">>> _two_site_general_stat(*correlated_biallelic, D2, total, polarized=False)\n",
      "[[0.0625 0.0625]\n",
      " [0.0625 0.0625]]\n",
      ">>> _two_site_general_stat(*uncorrelated, D2, total, polarized=False)\n",
      "[[0.02469136 0.        ]\n",
      " [0.         0.02469136]]\n",
      ">>> _two_site_general_stat(*uncorrelated_biallelic, D2, total, polarized=False)\n",
      "[[0.0625 0.    ]\n",
      " [0.     0.0625]]\n",
      ">>> _two_site_general_stat(*repulsion_biallelic, D2, total, polarized=False)\n",
      "[[0.0625 0.0625]\n",
      " [0.0625 0.0625]]\n",
      "\n",
      ">>> _two_site_general_stat(*correlated, Dz, total, polarized=False)\n",
      "[[0.00338702 0.00338702]\n",
      " [0.00338702 0.00338702]]\n",
      ">>> _two_site_general_stat(*correlated_biallelic, Dz, total, polarized=False)\n",
      "[[0. 0.]\n",
      " [0. 0.]]\n",
      ">>> _two_site_general_stat(*uncorrelated, Dz, total, polarized=False)\n",
      "[[0. 0.]\n",
      " [0. 0.]]\n",
      ">>> _two_site_general_stat(*uncorrelated_biallelic, Dz, total, polarized=False)\n",
      "[[0. 0.]\n",
      " [0. 0.]]\n",
      ">>> _two_site_general_stat(*repulsion_biallelic, Dz, total, polarized=False)\n",
      "[[0. 0.]\n",
      " [0. 0.]]\n",
      "\n",
      ">>> _two_site_general_stat(*correlated, pi2, total, polarized=False)\n",
      "[[0.04579248 0.04579248]\n",
      " [0.04579248 0.04579248]]\n",
      ">>> _two_site_general_stat(*correlated_biallelic, pi2, total, polarized=False)\n",
      "[[0.0625 0.0625]\n",
      " [0.0625 0.0625]]\n",
      ">>> _two_site_general_stat(*uncorrelated, pi2, total, polarized=False)\n",
      "[[0.04938272 0.04938272]\n",
      " [0.04938272 0.04938272]]\n",
      ">>> _two_site_general_stat(*uncorrelated_biallelic, pi2, total, polarized=False)\n",
      "[[0.0625 0.0625]\n",
      " [0.0625 0.0625]]\n",
      ">>> _two_site_general_stat(*repulsion_biallelic, pi2, total, polarized=False)\n",
      "[[0.0625 0.0625]\n",
      " [0.0625 0.0625]]\n",
      "\n",
      ">>> _two_site_general_stat(*correlated, r, total, polarized=True)\n",
      "[[ 0.26095428 -0.12212786]\n",
      " [-0.12212786  0.18377223]]\n",
      ">>> _two_site_general_stat(*correlated_biallelic, r, total, polarized=True)\n",
      "[[1. 1.]\n",
      " [1. 1.]]\n",
      ">>> _two_site_general_stat(*uncorrelated, r, total, polarized=True)\n",
      "[[0.25 0.  ]\n",
      " [0.   0.25]]\n",
      ">>> _two_site_general_stat(*uncorrelated_biallelic, r, total, polarized=True)\n",
      "[[1. 0.]\n",
      " [0. 1.]]\n",
      ">>> _two_site_general_stat(*repulsion_biallelic, r, total, polarized=True)\n",
      "[[ 1. -1.]\n",
      " [-1.  1.]]\n",
      "\n",
      ">>> _two_site_general_stat(*correlated, r2, hap_weighted, polarized=False)\n",
      "[[1. 1.]\n",
      " [1. 1.]]\n",
      ">>> _two_site_general_stat(*correlated_biallelic, r2, hap_weighted, polarized=False)\n",
      "[[1. 1.]\n",
      " [1. 1.]]\n",
      ">>> _two_site_general_stat(*uncorrelated, r2, hap_weighted, polarized=False)\n",
      "[[1. 0.]\n",
      " [0. 1.]]\n",
      ">>> _two_site_general_stat(*uncorrelated_biallelic, r2, hap_weighted, polarized=False)\n",
      "[[1. 0.]\n",
      " [0. 1.]]\n",
      ">>> _two_site_general_stat(*repulsion_biallelic, r2, hap_weighted, polarized=False)\n",
      "[[1. 1.]\n",
      " [1. 1.]]\n",
      "\n"
     ]
    }
   ],
   "source": [
    "# for func in NORM_METHOD:\n",
    "#     for case_name, data in TEST_CASES.items():\n",
    "#         print(f'>>> _two_site_general_stat(*{case_name.lower()}, {func.__name__}, {NORM_METHOD[func]}, polarized={POLARIZATION[func]})')\n",
    "#         print(_two_site_general_stat(*data, func, NORM_METHOD[func], polarized=POLARIZATION[func]))\n",
    "#     print()"
   ]
  },
  {
   "cell_type": "code",
   "execution_count": 38,
   "id": "9fbcb0fa-f474-462a-a35e-c85e4d0c45a6",
   "metadata": {},
   "outputs": [],
   "source": [
    "import tskit\n",
    "import io\n",
    "\n",
    "nodes = \"\"\"\\\n",
    "is_sample time\n",
    "1         0 \n",
    "1         0\n",
    "1         0\n",
    "1         0\n",
    "1         0\n",
    "0         1\n",
    "0         2\n",
    "0         3\n",
    "0         4\n",
    "0         5\n",
    "0         6\n",
    "0         7\n",
    "0         8\n",
    "\"\"\"\n",
    "\n",
    "edges = \"\"\"\\\n",
    "left right parent child\n",
    "0    100   10      0,1\n",
    "0    100   5      2,3\n",
    "0    100   8      4,5\n",
    "0    100   11     8,10\n",
    "100  200   12     0,9\n",
    "100  200   9      1,7\n",
    "100  200   7      2,6\n",
    "100  200   6      3,4\n",
    "\"\"\"\n",
    "\n",
    "sites = \"\"\"\\\n",
    "position ancestral_state\n",
    "10       A\n",
    "30       C\n",
    "70       G\n",
    "150      G\n",
    "170      C\n",
    "\"\"\"\n",
    "\n",
    "mutations = \"\"\"\\\n",
    "site node parent derived_state\n",
    "0    0    -1     T\n",
    "1    8    -1     T\n",
    "2    3    -1     T\n",
    "3    1    -1     T\n",
    "4    4    -1     T\n",
    "\"\"\"\n",
    "\n",
    "ts = tskit.load_text(\n",
    "    nodes=io.StringIO(nodes),\n",
    "    edges=io.StringIO(edges),\n",
    "    sites=io.StringIO(sites),\n",
    "    # individuals=io.StringIO(individuals),\n",
    "    mutations=io.StringIO(mutations),\n",
    "    strict=False,\n",
    ")"
   ]
  },
  {
   "cell_type": "code",
   "execution_count": 39,
   "id": "0cd61bff-6fa1-40ca-a09d-eb0e4fc6f085",
   "metadata": {},
   "outputs": [
    {
     "data": {
      "image/svg+xml": [
       "<svg baseProfile=\"full\" height=\"200\" version=\"1.1\" width=\"400\" xmlns=\"http://www.w3.org/2000/svg\" xmlns:ev=\"http://www.w3.org/2001/xml-events\" xmlns:xlink=\"http://www.w3.org/1999/xlink\"><defs><style type=\"text/css\"><![CDATA[.background path {fill: #808080; fill-opacity: 0}.background path:nth-child(odd) {fill-opacity: .1}.axes {font-size: 14px}.x-axis .tick .lab {font-weight: bold; dominant-baseline: hanging}.axes, .tree {font-size: 14px; text-anchor: middle}.axes line, .edge {stroke: black; fill: none}.y-axis .grid {stroke: #FAFAFA}.node > .sym {fill: black; stroke: none}.site > .sym {stroke: black}.mut text {fill: red; font-style: italic}.mut.extra text {fill: hotpink}.mut line {fill: none; stroke: none}.mut .sym {fill: none; stroke: red}.mut.extra .sym {stroke: hotpink}.node .mut .sym {stroke-width: 1.5px}.tree text, .tree-sequence text {dominant-baseline: central}.plotbox .lab.lft {text-anchor: end}.plotbox .lab.rgt {text-anchor: start}]]></style></defs><g class=\"tree-sequence\"><g class=\"background\"><path d=\"M20,0 l180,0 l0,138.2 l0,25 l0,5 l-180,0 l0,-5 l0,-25 l0,-138.2z\" /><path d=\"M200,0 l180,0 l0,138.2 l0,25 l0,5 l-180,0 l0,-5 l0,-25 l0,-138.2z\" /></g><g class=\"axes\"><g class=\"x-axis\"><g transform=\"translate(200 200)\"><text class=\"lab\" text-anchor=\"middle\" transform=\"translate(0 -11)\">Genome position</text></g><line x1=\"20\" x2=\"380\" y1=\"163.2\" y2=\"163.2\" /><g class=\"ticks\"><g class=\"tick\" transform=\"translate(20 163.2)\"><line x1=\"0\" x2=\"0\" y1=\"0\" y2=\"5\" /><g transform=\"translate(0 6)\"><text class=\"lab\">0</text></g></g><g class=\"tick\" transform=\"translate(200 163.2)\"><line x1=\"0\" x2=\"0\" y1=\"0\" y2=\"5\" /><g transform=\"translate(0 6)\"><text class=\"lab\">100</text></g></g><g class=\"tick\" transform=\"translate(380 163.2)\"><line x1=\"0\" x2=\"0\" y1=\"0\" y2=\"5\" /><g transform=\"translate(0 6)\"><text class=\"lab\">200</text></g></g></g><g class=\"site s0\" transform=\"translate(38 163.2)\"><line class=\"sym\" x1=\"0\" x2=\"0\" y1=\"0\" y2=\"-10\" /><g class=\"mut m0\"><polyline class=\"sym\" points=\"2.5,-6.5 0,-1.5 -2.5,-6.5\" /></g></g><g class=\"site s1\" transform=\"translate(74 163.2)\"><line class=\"sym\" x1=\"0\" x2=\"0\" y1=\"0\" y2=\"-10\" /><g class=\"mut m1\"><polyline class=\"sym\" points=\"2.5,-6.5 0,-1.5 -2.5,-6.5\" /></g></g><g class=\"site s2\" transform=\"translate(146 163.2)\"><line class=\"sym\" x1=\"0\" x2=\"0\" y1=\"0\" y2=\"-10\" /><g class=\"mut m2\"><polyline class=\"sym\" points=\"2.5,-6.5 0,-1.5 -2.5,-6.5\" /></g></g><g class=\"site s3\" transform=\"translate(290 163.2)\"><line class=\"sym\" x1=\"0\" x2=\"0\" y1=\"0\" y2=\"-10\" /><g class=\"mut m3\"><polyline class=\"sym\" points=\"2.5,-6.5 0,-1.5 -2.5,-6.5\" /></g></g><g class=\"site s4\" transform=\"translate(326 163.2)\"><line class=\"sym\" x1=\"0\" x2=\"0\" y1=\"0\" y2=\"-10\" /><g class=\"mut m4\"><polyline class=\"sym\" points=\"2.5,-6.5 0,-1.5 -2.5,-6.5\" /></g></g></g></g><g class=\"plotbox trees\"><g class=\"tree t0\" transform=\"translate(20 0)\"><g class=\"plotbox\"><g class=\"c2 node n11 root\" transform=\"translate(86.5 38.625)\"><g class=\"a11 c2 m1 node n8 s1\" transform=\"translate(38.5 35.475)\"><g class=\"a8 leaf node n4 sample\" transform=\"translate(21 47.3)\"><path class=\"edge\" d=\"M 0 0 V -47.3 H -21\" /><rect class=\"sym\" height=\"6\" width=\"6\" x=\"-3\" y=\"-3\" /><text class=\"lab\" transform=\"translate(0 11)\">4</text></g><g class=\"a8 c2 node n5\" transform=\"translate(-21 35.475)\"><g class=\"a5 leaf node n2 sample\" transform=\"translate(-14 11.825)\"><path class=\"edge\" d=\"M 0 0 V -11.825 H 14\" /><rect class=\"sym\" height=\"6\" width=\"6\" x=\"-3\" y=\"-3\" /><text class=\"lab\" transform=\"translate(0 11)\">2</text></g><g class=\"a5 leaf m2 node n3 s2 sample\" transform=\"translate(14 11.825)\"><path class=\"edge\" d=\"M 0 0 V -11.825 H -14\" /><g class=\"mut m2 s2 unknown_time\" transform=\"translate(0 -5.9125)\"><line x1=\"0\" x2=\"0\" y1=\"0\" y2=\"5.9125\" /><path class=\"sym\" d=\"M -3,-3 l 6,6 M -3,3 l 6,-6\" /><text class=\"lab rgt\" transform=\"translate(5 0)\">2</text></g><rect class=\"sym\" height=\"6\" width=\"6\" x=\"-3\" y=\"-3\" /><text class=\"lab\" transform=\"translate(0 11)\">3</text></g><path class=\"edge\" d=\"M 0 0 V -35.475 H 21\" /><circle class=\"sym\" cx=\"0\" cy=\"0\" r=\"3\" /><text class=\"lab lft\" transform=\"translate(-3 -7.0)\">5</text></g><path class=\"edge\" d=\"M 0 0 V -35.475 H -38.5\" /><g class=\"mut m1 s1 unknown_time\" transform=\"translate(0 -17.7375)\"><line x1=\"0\" x2=\"0\" y1=\"0\" y2=\"17.7375\" /><path class=\"sym\" d=\"M -3,-3 l 6,6 M -3,3 l 6,-6\" /><text class=\"lab rgt\" transform=\"translate(5 0)\">1</text></g><circle class=\"sym\" cx=\"0\" cy=\"0\" r=\"3\" /><text class=\"lab rgt\" transform=\"translate(3 -7.0)\">8</text></g><g class=\"a11 c2 node n10\" transform=\"translate(-38.5 11.825)\"><g class=\"a10 leaf m0 node n0 s0 sample\" transform=\"translate(-14 70.95)\"><path class=\"edge\" d=\"M 0 0 V -70.95 H 14\" /><g class=\"mut m0 s0 unknown_time\" transform=\"translate(0 -35.475)\"><line x1=\"0\" x2=\"0\" y1=\"0\" y2=\"35.475\" /><path class=\"sym\" d=\"M -3,-3 l 6,6 M -3,3 l 6,-6\" /><text class=\"lab lft\" transform=\"translate(-5 0)\">0</text></g><rect class=\"sym\" height=\"6\" width=\"6\" x=\"-3\" y=\"-3\" /><text class=\"lab\" transform=\"translate(0 11)\">0</text></g><g class=\"a10 leaf node n1 sample\" transform=\"translate(14 70.95)\"><path class=\"edge\" d=\"M 0 0 V -70.95 H -14\" /><rect class=\"sym\" height=\"6\" width=\"6\" x=\"-3\" y=\"-3\" /><text class=\"lab\" transform=\"translate(0 11)\">1</text></g><path class=\"edge\" d=\"M 0 0 V -11.825 H 38.5\" /><circle class=\"sym\" cx=\"0\" cy=\"0\" r=\"3\" /><text class=\"lab lft\" transform=\"translate(-3 -7.0)\">10</text></g><circle class=\"sym\" cx=\"0\" cy=\"0\" r=\"3\" /><text class=\"lab\" transform=\"translate(0 -11)\">11</text></g></g></g><g class=\"tree t1\" transform=\"translate(200 0)\"><g class=\"plotbox\"><g class=\"c2 node n12 root\" transform=\"translate(60.25 26.8)\"><g class=\"a12 leaf node n0 sample\" transform=\"translate(-26.25 94.6)\"><path class=\"edge\" d=\"M 0 0 V -94.6 H 26.25\" /><rect class=\"sym\" height=\"6\" width=\"6\" x=\"-3\" y=\"-3\" /><text class=\"lab\" transform=\"translate(0 11)\">0</text></g><g class=\"a12 c2 node n9\" transform=\"translate(26.25 35.475)\"><g class=\"a9 leaf m3 node n1 s3 sample\" transform=\"translate(-24.5 59.125)\"><path class=\"edge\" d=\"M 0 0 V -59.125 H 24.5\" /><g class=\"mut m3 s3 unknown_time\" transform=\"translate(0 -29.5625)\"><line x1=\"0\" x2=\"0\" y1=\"0\" y2=\"29.5625\" /><path class=\"sym\" d=\"M -3,-3 l 6,6 M -3,3 l 6,-6\" /><text class=\"lab lft\" transform=\"translate(-5 0)\">3</text></g><rect class=\"sym\" height=\"6\" width=\"6\" x=\"-3\" y=\"-3\" /><text class=\"lab\" transform=\"translate(0 11)\">1</text></g><g class=\"a9 c2 node n7\" transform=\"translate(24.5 23.65)\"><g class=\"a7 leaf node n2 sample\" transform=\"translate(-21 35.475)\"><path class=\"edge\" d=\"M 0 0 V -35.475 H 21\" /><rect class=\"sym\" height=\"6\" width=\"6\" x=\"-3\" y=\"-3\" /><text class=\"lab\" transform=\"translate(0 11)\">2</text></g><g class=\"a7 c2 node n6\" transform=\"translate(21 11.825)\"><g class=\"a6 leaf node n3 sample\" transform=\"translate(-14 23.65)\"><path class=\"edge\" d=\"M 0 0 V -23.65 H 14\" /><rect class=\"sym\" height=\"6\" width=\"6\" x=\"-3\" y=\"-3\" /><text class=\"lab\" transform=\"translate(0 11)\">3</text></g><g class=\"a6 leaf m4 node n4 s4 sample\" transform=\"translate(14 23.65)\"><path class=\"edge\" d=\"M 0 0 V -23.65 H -14\" /><g class=\"mut m4 s4 unknown_time\" transform=\"translate(0 -11.825)\"><line x1=\"0\" x2=\"0\" y1=\"0\" y2=\"11.825\" /><path class=\"sym\" d=\"M -3,-3 l 6,6 M -3,3 l 6,-6\" /><text class=\"lab rgt\" transform=\"translate(5 0)\">4</text></g><rect class=\"sym\" height=\"6\" width=\"6\" x=\"-3\" y=\"-3\" /><text class=\"lab\" transform=\"translate(0 11)\">4</text></g><path class=\"edge\" d=\"M 0 0 V -11.825 H -21\" /><circle class=\"sym\" cx=\"0\" cy=\"0\" r=\"3\" /><text class=\"lab rgt\" transform=\"translate(3 -7.0)\">6</text></g><path class=\"edge\" d=\"M 0 0 V -23.65 H -24.5\" /><circle class=\"sym\" cx=\"0\" cy=\"0\" r=\"3\" /><text class=\"lab rgt\" transform=\"translate(3 -7.0)\">7</text></g><path class=\"edge\" d=\"M 0 0 V -35.475 H -26.25\" /><circle class=\"sym\" cx=\"0\" cy=\"0\" r=\"3\" /><text class=\"lab rgt\" transform=\"translate(3 -7.0)\">9</text></g><circle class=\"sym\" cx=\"0\" cy=\"0\" r=\"3\" /><text class=\"lab\" transform=\"translate(0 -11)\">12</text></g></g></g></g></g></svg>"
      ],
      "text/plain": [
       "'<svg baseProfile=\"full\" height=\"200\" version=\"1.1\" width=\"400\" xmlns=\"http://www.w3.org/2000/svg\" xmlns:ev=\"http://www.w3.org/2001/xml-events\" xmlns:xlink=\"http://www.w3.org/1999/xlink\"><defs><style type=\"text/css\"><![CDATA[.background path {fill: #808080; fill-opacity: 0}.background path:nth-child(odd) {fill-opacity: .1}.axes {font-size: 14px}.x-axis .tick .lab {font-weight: bold; dominant-baseline: hanging}.axes, .tree {font-size: 14px; text-anchor: middle}.axes line, .edge {stroke: black; fill: none}.y-axis .grid {stroke: #FAFAFA}.node > .sym {fill: black; stroke: none}.site > .sym {stroke: black}.mut text {fill: red; font-style: italic}.mut.extra text {fill: hotpink}.mut line {fill: none; stroke: none}.mut .sym {fill: none; stroke: red}.mut.extra .sym {stroke: hotpink}.node .mut .sym {stroke-width: 1.5px}.tree text, .tree-sequence text {dominant-baseline: central}.plotbox .lab.lft {text-anchor: end}.plotbox .lab.rgt {text-anchor: start}]]></style></defs><g class=\"tree-sequence\"><g class=\"background\"><path d=\"M20,0 l180,0 l0,138.2 l0,25 l0,5 l-180,0 l0,-5 l0,-25 l0,-138.2z\" /><path d=\"M200,0 l180,0 l0,138.2 l0,25 l0,5 l-180,0 l0,-5 l0,-25 l0,-138.2z\" /></g><g class=\"axes\"><g class=\"x-axis\"><g transform=\"translate(200 200)\"><text class=\"lab\" text-anchor=\"middle\" transform=\"translate(0 -11)\">Genome position</text></g><line x1=\"20\" x2=\"380\" y1=\"163.2\" y2=\"163.2\" /><g class=\"ticks\"><g class=\"tick\" transform=\"translate(20 163.2)\"><line x1=\"0\" x2=\"0\" y1=\"0\" y2=\"5\" /><g transform=\"translate(0 6)\"><text class=\"lab\">0</text></g></g><g class=\"tick\" transform=\"translate(200 163.2)\"><line x1=\"0\" x2=\"0\" y1=\"0\" y2=\"5\" /><g transform=\"translate(0 6)\"><text class=\"lab\">100</text></g></g><g class=\"tick\" transform=\"translate(380 163.2)\"><line x1=\"0\" x2=\"0\" y1=\"0\" y2=\"5\" /><g transform=\"translate(0 6)\"><text class=\"lab\">200</text></g></g></g><g class=\"site s0\" transform=\"translate(38 163.2)\"><line class=\"sym\" x1=\"0\" x2=\"0\" y1=\"0\" y2=\"-10\" /><g class=\"mut m0\"><polyline class=\"sym\" points=\"2.5,-6.5 0,-1.5 -2.5,-6.5\" /></g></g><g class=\"site s1\" transform=\"translate(74 163.2)\"><line class=\"sym\" x1=\"0\" x2=\"0\" y1=\"0\" y2=\"-10\" /><g class=\"mut m1\"><polyline class=\"sym\" points=\"2.5,-6.5 0,-1.5 -2.5,-6.5\" /></g></g><g class=\"site s2\" transform=\"translate(146 163.2)\"><line class=\"sym\" x1=\"0\" x2=\"0\" y1=\"0\" y2=\"-10\" /><g class=\"mut m2\"><polyline class=\"sym\" points=\"2.5,-6.5 0,-1.5 -2.5,-6.5\" /></g></g><g class=\"site s3\" transform=\"translate(290 163.2)\"><line class=\"sym\" x1=\"0\" x2=\"0\" y1=\"0\" y2=\"-10\" /><g class=\"mut m3\"><polyline class=\"sym\" points=\"2.5,-6.5 0,-1.5 -2.5,-6.5\" /></g></g><g class=\"site s4\" transform=\"translate(326 163.2)\"><line class=\"sym\" x1=\"0\" x2=\"0\" y1=\"0\" y2=\"-10\" /><g class=\"mut m4\"><polyline class=\"sym\" points=\"2.5,-6.5 0,-1.5 -2.5,-6.5\" /></g></g></g></g><g class=\"plotbox trees\"><g class=\"tree t0\" transform=\"translate(20 0)\"><g class=\"plotbox\"><g class=\"c2 node n11 root\" transform=\"translate(86.5 38.625)\"><g class=\"a11 c2 m1 node n8 s1\" transform=\"translate(38.5 35.475)\"><g class=\"a8 leaf node n4 sample\" transform=\"translate(21 47.3)\"><path class=\"edge\" d=\"M 0 0 V -47.3 H -21\" /><rect class=\"sym\" height=\"6\" width=\"6\" x=\"-3\" y=\"-3\" /><text class=\"lab\" transform=\"translate(0 11)\">4</text></g><g class=\"a8 c2 node n5\" transform=\"translate(-21 35.475)\"><g class=\"a5 leaf node n2 sample\" transform=\"translate(-14 11.825)\"><path class=\"edge\" d=\"M 0 0 V -11.825 H 14\" /><rect class=\"sym\" height=\"6\" width=\"6\" x=\"-3\" y=\"-3\" /><text class=\"lab\" transform=\"translate(0 11)\">2</text></g><g class=\"a5 leaf m2 node n3 s2 sample\" transform=\"translate(14 11.825)\"><path class=\"edge\" d=\"M 0 0 V -11.825 H -14\" /><g class=\"mut m2 s2 unknown_time\" transform=\"translate(0 -5.9125)\"><line x1=\"0\" x2=\"0\" y1=\"0\" y2=\"5.9125\" /><path class=\"sym\" d=\"M -3,-3 l 6,6 M -3,3 l 6,-6\" /><text class=\"lab rgt\" transform=\"translate(5 0)\">2</text></g><rect class=\"sym\" height=\"6\" width=\"6\" x=\"-3\" y=\"-3\" /><text class=\"lab\" transform=\"translate(0 11)\">3</text></g><path class=\"edge\" d=\"M 0 0 V -35.475 H 21\" /><circle class=\"sym\" cx=\"0\" cy=\"0\" r=\"3\" /><text class=\"lab lft\" transform=\"translate(-3 -7.0)\">5</text></g><path class=\"edge\" d=\"M 0 0 V -35.475 H -38.5\" /><g class=\"mut m1 s1 unknown_time\" transform=\"translate(0 -17.7375)\"><line x1=\"0\" x2=\"0\" y1=\"0\" y2=\"17.7375\" /><path class=\"sym\" d=\"M -3,-3 l 6,6 M -3,3 l 6,-6\" /><text class=\"lab rgt\" transform=\"translate(5 0)\">1</text></g><circle class=\"sym\" cx=\"0\" cy=\"0\" r=\"3\" /><text class=\"lab rgt\" transform=\"translate(3 -7.0)\">8</text></g><g class=\"a11 c2 node n10\" transform=\"translate(-38.5 11.825)\"><g class=\"a10 leaf m0 node n0 s0 sample\" transform=\"translate(-14 70.95)\"><path class=\"edge\" d=\"M 0 0 V -70.95 H 14\" /><g class=\"mut m0 s0 unknown_time\" transform=\"translate(0 -35.475)\"><line x1=\"0\" x2=\"0\" y1=\"0\" y2=\"35.475\" /><path class=\"sym\" d=\"M -3,-3 l 6,6 M -3,3 l 6,-6\" /><text class=\"lab lft\" transform=\"translate(-5 0)\">0</text></g><rect class=\"sym\" height=\"6\" width=\"6\" x=\"-3\" y=\"-3\" /><text class=\"lab\" transform=\"translate(0 11)\">0</text></g><g class=\"a10 leaf node n1 sample\" transform=\"translate(14 70.95)\"><path class=\"edge\" d=\"M 0 0 V -70.95 H -14\" /><rect class=\"sym\" height=\"6\" width=\"6\" x=\"-3\" y=\"-3\" /><text class=\"lab\" transform=\"translate(0 11)\">1</text></g><path class=\"edge\" d=\"M 0 0 V -11.825 H 38.5\" /><circle class=\"sym\" cx=\"0\" cy=\"0\" r=\"3\" /><text class=\"lab lft\" transform=\"translate(-3 -7.0)\">10</text></g><circle class=\"sym\" cx=\"0\" cy=\"0\" r=\"3\" /><text class=\"lab\" transform=\"translate(0 -11)\">11</text></g></g></g><g class=\"tree t1\" transform=\"translate(200 0)\"><g class=\"plotbox\"><g class=\"c2 node n12 root\" transform=\"translate(60.25 26.8)\"><g class=\"a12 leaf node n0 sample\" transform=\"translate(-26.25 94.6)\"><path class=\"edge\" d=\"M 0 0 V -94.6 H 26.25\" /><rect class=\"sym\" height=\"6\" width=\"6\" x=\"-3\" y=\"-3\" /><text class=\"lab\" transform=\"translate(0 11)\">0</text></g><g class=\"a12 c2 node n9\" transform=\"translate(26.25 35.475)\"><g class=\"a9 leaf m3 node n1 s3 sample\" transform=\"translate(-24.5 59.125)\"><path class=\"edge\" d=\"M 0 0 V -59.125 H 24.5\" /><g class=\"mut m3 s3 unknown_time\" transform=\"translate(0 -29.5625)\"><line x1=\"0\" x2=\"0\" y1=\"0\" y2=\"29.5625\" /><path class=\"sym\" d=\"M -3,-3 l 6,6 M -3,3 l 6,-6\" /><text class=\"lab lft\" transform=\"translate(-5 0)\">3</text></g><rect class=\"sym\" height=\"6\" width=\"6\" x=\"-3\" y=\"-3\" /><text class=\"lab\" transform=\"translate(0 11)\">1</text></g><g class=\"a9 c2 node n7\" transform=\"translate(24.5 23.65)\"><g class=\"a7 leaf node n2 sample\" transform=\"translate(-21 35.475)\"><path class=\"edge\" d=\"M 0 0 V -35.475 H 21\" /><rect class=\"sym\" height=\"6\" width=\"6\" x=\"-3\" y=\"-3\" /><text class=\"lab\" transform=\"translate(0 11)\">2</text></g><g class=\"a7 c2 node n6\" transform=\"translate(21 11.825)\"><g class=\"a6 leaf node n3 sample\" transform=\"translate(-14 23.65)\"><path class=\"edge\" d=\"M 0 0 V -23.65 H 14\" /><rect class=\"sym\" height=\"6\" width=\"6\" x=\"-3\" y=\"-3\" /><text class=\"lab\" transform=\"translate(0 11)\">3</text></g><g class=\"a6 leaf m4 node n4 s4 sample\" transform=\"translate(14 23.65)\"><path class=\"edge\" d=\"M 0 0 V -23.65 H -14\" /><g class=\"mut m4 s4 unknown_time\" transform=\"translate(0 -11.825)\"><line x1=\"0\" x2=\"0\" y1=\"0\" y2=\"11.825\" /><path class=\"sym\" d=\"M -3,-3 l 6,6 M -3,3 l 6,-6\" /><text class=\"lab rgt\" transform=\"translate(5 0)\">4</text></g><rect class=\"sym\" height=\"6\" width=\"6\" x=\"-3\" y=\"-3\" /><text class=\"lab\" transform=\"translate(0 11)\">4</text></g><path class=\"edge\" d=\"M 0 0 V -11.825 H -21\" /><circle class=\"sym\" cx=\"0\" cy=\"0\" r=\"3\" /><text class=\"lab rgt\" transform=\"translate(3 -7.0)\">6</text></g><path class=\"edge\" d=\"M 0 0 V -23.65 H -24.5\" /><circle class=\"sym\" cx=\"0\" cy=\"0\" r=\"3\" /><text class=\"lab rgt\" transform=\"translate(3 -7.0)\">7</text></g><path class=\"edge\" d=\"M 0 0 V -35.475 H -26.25\" /><circle class=\"sym\" cx=\"0\" cy=\"0\" r=\"3\" /><text class=\"lab rgt\" transform=\"translate(3 -7.0)\">9</text></g><circle class=\"sym\" cx=\"0\" cy=\"0\" r=\"3\" /><text class=\"lab\" transform=\"translate(0 -11)\">12</text></g></g></g></g></g></svg>'"
      ]
     },
     "execution_count": 39,
     "metadata": {},
     "output_type": "execute_result"
    }
   ],
   "source": [
    "ts.draw_svg()"
   ]
  },
  {
   "cell_type": "code",
   "execution_count": 40,
   "id": "00b32a70-7929-4e67-80a2-b4836e8b2fdd",
   "metadata": {},
   "outputs": [],
   "source": [
    "from tskit_ld_proto.ld_proto import two_site_general_stat"
   ]
  },
  {
   "cell_type": "code",
   "execution_count": 41,
   "id": "af920de1-fb12-436f-ba60-8072389d4c9d",
   "metadata": {},
   "outputs": [],
   "source": [
    "truth_r2 = tskit.LdCalculator(ts).get_r2_matrix()\n",
    "test_r2 = two_site_general_stat(ts, r2, 'hap_weighted', polarized=True)"
   ]
  },
  {
   "cell_type": "code",
   "execution_count": 42,
   "id": "9ad75a0f-bf11-414a-83a7-907dfc968989",
   "metadata": {},
   "outputs": [
    {
     "data": {
      "text/plain": [
       "array([[False, False, False, False, False],\n",
       "       [False, False, False, False, False],\n",
       "       [False, False, False, False, False],\n",
       "       [False, False, False, False, False],\n",
       "       [False, False, False, False, False]])"
      ]
     },
     "execution_count": 42,
     "metadata": {},
     "output_type": "execute_result"
    }
   ],
   "source": [
    "np.isclose(truth_r2, test_r2)"
   ]
  },
  {
   "cell_type": "code",
   "execution_count": 43,
   "id": "1e0f4ba2-b9bf-4c89-957b-5bfad0a2704f",
   "metadata": {},
   "outputs": [
    {
     "data": {
      "text/plain": [
       "array([[1.        , 0.375     , 0.0625    , 0.0625    , 0.0625    ],\n",
       "       [0.375     , 1.        , 0.16666667, 0.375     , 0.16666667],\n",
       "       [0.0625    , 0.16666667, 1.        , 0.0625    , 0.0625    ],\n",
       "       [0.0625    , 0.375     , 0.0625    , 1.        , 0.0625    ],\n",
       "       [0.0625    , 0.16666667, 0.0625    , 0.0625    , 1.        ]])"
      ]
     },
     "execution_count": 43,
     "metadata": {},
     "output_type": "execute_result"
    }
   ],
   "source": [
    "truth_r2"
   ]
  },
  {
   "cell_type": "code",
   "execution_count": 44,
   "id": "b9de2d00-19d8-472d-8980-7606984135a9",
   "metadata": {},
   "outputs": [
    {
     "data": {
      "text/plain": [
       "array([[0.2       , 0.        , 0.        , 0.        , 0.        ],\n",
       "       [0.        , 0.6       , 0.03333333, 0.        , 0.03333333],\n",
       "       [0.        , 0.03333333, 0.2       , 0.        , 0.        ],\n",
       "       [0.        , 0.        , 0.        , 0.2       , 0.        ],\n",
       "       [0.        , 0.03333333, 0.        , 0.        , 0.2       ]])"
      ]
     },
     "execution_count": 44,
     "metadata": {},
     "output_type": "execute_result"
    }
   ],
   "source": [
    "test_r2"
   ]
  },
  {
   "cell_type": "code",
   "execution_count": null,
   "id": "cd05f5e1-b281-4979-b778-db1dcef301d0",
   "metadata": {},
   "outputs": [],
   "source": [
    "truth_r = np.sqrt(truth_r2)\n",
    "test_r = two_site_general_stat(ts, r, 'total', polarized=True)"
   ]
  },
  {
   "cell_type": "code",
   "execution_count": 41,
   "id": "199ae2a5-6d12-4d9d-a6e8-11495900da33",
   "metadata": {},
   "outputs": [
    {
     "data": {
      "text/plain": [
       "array([[ True,  True,  True,  True,  True],\n",
       "       [ True,  True,  True,  True,  True],\n",
       "       [ True,  True,  True,  True,  True],\n",
       "       [ True,  True,  True,  True,  True],\n",
       "       [ True,  True,  True,  True,  True]])"
      ]
     },
     "execution_count": 41,
     "metadata": {},
     "output_type": "execute_result"
    }
   ],
   "source": [
    "np.isclose(truth_r, np.abs(test_r))"
   ]
  },
  {
   "cell_type": "code",
   "execution_count": 42,
   "id": "0f8e3fa3-f72f-4a7e-9237-5a010a91699a",
   "metadata": {},
   "outputs": [
    {
     "data": {
      "text/plain": [
       "array([[ 1.        , -0.61237244, -0.25      , -0.25      , -0.25      ],\n",
       "       [-0.61237244,  1.        ,  0.40824829, -0.61237244,  0.40824829],\n",
       "       [-0.25      ,  0.40824829,  1.        , -0.25      , -0.25      ],\n",
       "       [-0.25      , -0.61237244, -0.25      ,  1.        , -0.25      ],\n",
       "       [-0.25      ,  0.40824829, -0.25      , -0.25      ,  1.        ]])"
      ]
     },
     "execution_count": 42,
     "metadata": {},
     "output_type": "execute_result"
    }
   ],
   "source": [
    "test_r"
   ]
  },
  {
   "cell_type": "code",
   "execution_count": 43,
   "id": "7c780ad8-1c80-4bd0-b009-f41c1c1fd6b6",
   "metadata": {},
   "outputs": [
    {
     "data": {
      "text/plain": [
       "array([[1.        , 0.61237244, 0.25      , 0.25      , 0.25      ],\n",
       "       [0.61237244, 1.        , 0.40824829, 0.61237244, 0.40824829],\n",
       "       [0.25      , 0.40824829, 1.        , 0.25      , 0.25      ],\n",
       "       [0.25      , 0.61237244, 0.25      , 1.        , 0.25      ],\n",
       "       [0.25      , 0.40824829, 0.25      , 0.25      , 1.        ]])"
      ]
     },
     "execution_count": 43,
     "metadata": {},
     "output_type": "execute_result"
    }
   ],
   "source": [
    "truth_r"
   ]
  }
 ],
 "metadata": {
  "kernelspec": {
   "display_name": "tskit-dev-1",
   "language": "python",
   "name": "tskit-dev-1"
  },
  "language_info": {
   "codemirror_mode": {
    "name": "ipython",
    "version": 3
   },
   "file_extension": ".py",
   "mimetype": "text/x-python",
   "name": "python",
   "nbconvert_exporter": "python",
   "pygments_lexer": "ipython3",
   "version": "3.9.13"
  }
 },
 "nbformat": 4,
 "nbformat_minor": 5
}
