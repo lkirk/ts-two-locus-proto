{
 "cells": [
  {
   "cell_type": "code",
   "execution_count": 136,
   "id": "7edce71d-fdcd-482c-b4fb-fb4385da1ad0",
   "metadata": {},
   "outputs": [],
   "source": [
    "from IPython import display\n",
    "\n",
    "import msprime\n",
    "import numpy as np\n",
    "import tskit"
   ]
  },
  {
   "cell_type": "code",
   "execution_count": 251,
   "id": "ff0ade66-8844-44bd-904d-b1c524a4f48f",
   "metadata": {},
   "outputs": [
    {
     "data": {
      "image/svg+xml": [
       "<svg baseProfile=\"full\" height=\"200\" version=\"1.1\" width=\"400\" xmlns=\"http://www.w3.org/2000/svg\" xmlns:ev=\"http://www.w3.org/2001/xml-events\" xmlns:xlink=\"http://www.w3.org/1999/xlink\"><defs><style type=\"text/css\"><![CDATA[.background path {fill: #808080; fill-opacity: 0}.background path:nth-child(odd) {fill-opacity: .1}.axes {font-size: 14px}.x-axis .tick .lab {font-weight: bold; dominant-baseline: hanging}.axes, .tree {font-size: 14px; text-anchor: middle}.axes line, .edge {stroke: black; fill: none}.y-axis .grid {stroke: #FAFAFA}.node > .sym {fill: black; stroke: none}.site > .sym {stroke: black}.mut text {fill: red; font-style: italic}.mut.extra text {fill: hotpink}.mut line {fill: none; stroke: none}.mut .sym {fill: none; stroke: red}.mut.extra .sym {stroke: hotpink}.node .mut .sym {stroke-width: 1.5px}.tree text, .tree-sequence text {dominant-baseline: central}.plotbox .lab.lft {text-anchor: end}.plotbox .lab.rgt {text-anchor: start}]]></style></defs><g class=\"tree-sequence\"><g class=\"background\"><path d=\"M20,0 l180,0 l0,138.2 l0,25 l0,5 l-180,0 l0,-5 l0,-25 l0,-138.2z\" /><path d=\"M200,0 l180,0 l0,138.2 l0,25 l0,5 l-180,0 l0,-5 l0,-25 l0,-138.2z\" /></g><g class=\"axes\"><g class=\"x-axis\"><g transform=\"translate(200 200)\"><text class=\"lab\" text-anchor=\"middle\" transform=\"translate(0 -11)\">Genome position</text></g><line x1=\"20\" x2=\"380\" y1=\"163.2\" y2=\"163.2\" /><g class=\"ticks\"><g class=\"tick\" transform=\"translate(20 163.2)\"><line x1=\"0\" x2=\"0\" y1=\"0\" y2=\"5\" /><g transform=\"translate(0 6)\"><text class=\"lab\">0</text></g></g><g class=\"tick\" transform=\"translate(200 163.2)\"><line x1=\"0\" x2=\"0\" y1=\"0\" y2=\"5\" /><g transform=\"translate(0 6)\"><text class=\"lab\">10</text></g></g><g class=\"tick\" transform=\"translate(380 163.2)\"><line x1=\"0\" x2=\"0\" y1=\"0\" y2=\"5\" /><g transform=\"translate(0 6)\"><text class=\"lab\">20</text></g></g></g><g class=\"site s0\" transform=\"translate(146 163.2)\"><line class=\"sym\" x1=\"0\" x2=\"0\" y1=\"0\" y2=\"-10\" /><g class=\"mut m1\"><polyline class=\"sym\" points=\"2.5,-6.5 0,-1.5 -2.5,-6.5\" /></g><g class=\"mut m0\"><polyline class=\"sym\" points=\"2.5,-10.5 0,-5.5 -2.5,-10.5\" /></g></g><g class=\"site s1\" transform=\"translate(164 163.2)\"><line class=\"sym\" x1=\"0\" x2=\"0\" y1=\"0\" y2=\"-10\" /><g class=\"mut m2\"><polyline class=\"sym\" points=\"2.5,-6.5 0,-1.5 -2.5,-6.5\" /></g></g><g class=\"site s2\" transform=\"translate(272 163.2)\"><line class=\"sym\" x1=\"0\" x2=\"0\" y1=\"0\" y2=\"-10\" /><g class=\"mut m3\"><polyline class=\"sym\" points=\"2.5,-6.5 0,-1.5 -2.5,-6.5\" /></g></g></g></g><g class=\"plotbox trees\"><g class=\"tree t0\" transform=\"translate(20 0)\"><g class=\"plotbox\"><g class=\"c2 node n6 root\" transform=\"translate(111.875 26.8)\"><g class=\"a6 leaf node n3 sample\" transform=\"translate(30.625 94.6)\"><path class=\"edge\" d=\"M 0 0 V -94.6 H -30.625\" /><rect class=\"sym\" height=\"6\" width=\"6\" x=\"-3\" y=\"-3\" /><text class=\"lab\" transform=\"translate(0 11)\">3</text></g><g class=\"a6 c2 m0 node n5 s0\" transform=\"translate(-30.625 31.5333)\"><g class=\"a5 leaf node n2 sample\" transform=\"translate(26.25 63.0667)\"><path class=\"edge\" d=\"M 0 0 V -63.0667 H -26.25\" /><rect class=\"sym\" height=\"6\" width=\"6\" x=\"-3\" y=\"-3\" /><text class=\"lab\" transform=\"translate(0 11)\">2</text></g><g class=\"a5 c2 m1 m2 node n4 s0 s1\" transform=\"translate(-26.25 31.5333)\"><g class=\"a4 leaf node n0 sample\" transform=\"translate(-17.5 31.5333)\"><path class=\"edge\" d=\"M 0 0 V -31.5333 H 17.5\" /><rect class=\"sym\" height=\"6\" width=\"6\" x=\"-3\" y=\"-3\" /><text class=\"lab\" transform=\"translate(0 11)\">0</text></g><g class=\"a4 leaf node n1 sample\" transform=\"translate(17.5 31.5333)\"><path class=\"edge\" d=\"M 0 0 V -31.5333 H -17.5\" /><rect class=\"sym\" height=\"6\" width=\"6\" x=\"-3\" y=\"-3\" /><text class=\"lab\" transform=\"translate(0 11)\">1</text></g><path class=\"edge\" d=\"M 0 0 V -31.5333 H 26.25\" /><g class=\"mut m1 s0 unknown_time\" transform=\"translate(0 -21.0222)\"><line x1=\"0\" x2=\"0\" y1=\"0\" y2=\"21.0222\" /><path class=\"sym\" d=\"M -3,-3 l 6,6 M -3,3 l 6,-6\" /><text class=\"lab lft\" transform=\"translate(-5 0)\">(0:1)T→G</text></g><g class=\"mut m2 s1 unknown_time\" transform=\"translate(0 -10.5111)\"><line x1=\"0\" x2=\"0\" y1=\"0\" y2=\"10.5111\" /><path class=\"sym\" d=\"M -3,-3 l 6,6 M -3,3 l 6,-6\" /><text class=\"lab lft\" transform=\"translate(-5 0)\">(1:2)C→G</text></g><circle class=\"sym\" cx=\"0\" cy=\"0\" r=\"3\" /><text class=\"lab lft\" transform=\"translate(-3 -7.0)\">4</text></g><path class=\"edge\" d=\"M 0 0 V -31.5333 H 30.625\" /><g class=\"mut m0 s0 unknown_time\" transform=\"translate(0 -15.7667)\"><line x1=\"0\" x2=\"0\" y1=\"0\" y2=\"15.7667\" /><path class=\"sym\" d=\"M -3,-3 l 6,6 M -3,3 l 6,-6\" /><text class=\"lab lft\" transform=\"translate(-5 0)\">(0:0)A→T</text></g><circle class=\"sym\" cx=\"0\" cy=\"0\" r=\"3\" /><text class=\"lab lft\" transform=\"translate(-3 -7.0)\">5</text></g><circle class=\"sym\" cx=\"0\" cy=\"0\" r=\"3\" /><text class=\"lab\" transform=\"translate(0 -11)\">6</text></g></g></g><g class=\"tree t1\" transform=\"translate(200 0)\"><g class=\"plotbox\"><g class=\"c2 node n8 root\" transform=\"translate(90 58.3333)\"><g class=\"a8 c2 m3 node n4 s2\" transform=\"translate(-35 31.5333)\"><g class=\"a4 leaf node n0 sample\" transform=\"translate(-17.5 31.5333)\"><path class=\"edge\" d=\"M 0 0 V -31.5333 H 17.5\" /><rect class=\"sym\" height=\"6\" width=\"6\" x=\"-3\" y=\"-3\" /><text class=\"lab\" transform=\"translate(0 11)\">0</text></g><g class=\"a4 leaf node n1 sample\" transform=\"translate(17.5 31.5333)\"><path class=\"edge\" d=\"M 0 0 V -31.5333 H -17.5\" /><rect class=\"sym\" height=\"6\" width=\"6\" x=\"-3\" y=\"-3\" /><text class=\"lab\" transform=\"translate(0 11)\">1</text></g><path class=\"edge\" d=\"M 0 0 V -31.5333 H 35\" /><g class=\"mut m3 s2 unknown_time\" transform=\"translate(0 -15.7667)\"><line x1=\"0\" x2=\"0\" y1=\"0\" y2=\"15.7667\" /><path class=\"sym\" d=\"M -3,-3 l 6,6 M -3,3 l 6,-6\" /><text class=\"lab lft\" transform=\"translate(-5 0)\">(2:3)G→C</text></g><circle class=\"sym\" cx=\"0\" cy=\"0\" r=\"3\" /><text class=\"lab lft\" transform=\"translate(-3 -7.0)\">4</text></g><g class=\"a8 c2 node n7\" transform=\"translate(35 31.5333)\"><g class=\"a7 leaf node n2 sample\" transform=\"translate(-17.5 31.5333)\"><path class=\"edge\" d=\"M 0 0 V -31.5333 H 17.5\" /><rect class=\"sym\" height=\"6\" width=\"6\" x=\"-3\" y=\"-3\" /><text class=\"lab\" transform=\"translate(0 11)\">2</text></g><g class=\"a7 leaf node n3 sample\" transform=\"translate(17.5 31.5333)\"><path class=\"edge\" d=\"M 0 0 V -31.5333 H -17.5\" /><rect class=\"sym\" height=\"6\" width=\"6\" x=\"-3\" y=\"-3\" /><text class=\"lab\" transform=\"translate(0 11)\">3</text></g><path class=\"edge\" d=\"M 0 0 V -31.5333 H -35\" /><circle class=\"sym\" cx=\"0\" cy=\"0\" r=\"3\" /><text class=\"lab rgt\" transform=\"translate(3 -7.0)\">7</text></g><circle class=\"sym\" cx=\"0\" cy=\"0\" r=\"3\" /><text class=\"lab\" transform=\"translate(0 -11)\">8</text></g></g></g></g></g></svg>"
      ],
      "text/plain": [
       "'<svg baseProfile=\"full\" height=\"200\" version=\"1.1\" width=\"400\" xmlns=\"http://www.w3.org/2000/svg\" xmlns:ev=\"http://www.w3.org/2001/xml-events\" xmlns:xlink=\"http://www.w3.org/1999/xlink\"><defs><style type=\"text/css\"><![CDATA[.background path {fill: #808080; fill-opacity: 0}.background path:nth-child(odd) {fill-opacity: .1}.axes {font-size: 14px}.x-axis .tick .lab {font-weight: bold; dominant-baseline: hanging}.axes, .tree {font-size: 14px; text-anchor: middle}.axes line, .edge {stroke: black; fill: none}.y-axis .grid {stroke: #FAFAFA}.node > .sym {fill: black; stroke: none}.site > .sym {stroke: black}.mut text {fill: red; font-style: italic}.mut.extra text {fill: hotpink}.mut line {fill: none; stroke: none}.mut .sym {fill: none; stroke: red}.mut.extra .sym {stroke: hotpink}.node .mut .sym {stroke-width: 1.5px}.tree text, .tree-sequence text {dominant-baseline: central}.plotbox .lab.lft {text-anchor: end}.plotbox .lab.rgt {text-anchor: start}]]></style></defs><g class=\"tree-sequence\"><g class=\"background\"><path d=\"M20,0 l180,0 l0,138.2 l0,25 l0,5 l-180,0 l0,-5 l0,-25 l0,-138.2z\" /><path d=\"M200,0 l180,0 l0,138.2 l0,25 l0,5 l-180,0 l0,-5 l0,-25 l0,-138.2z\" /></g><g class=\"axes\"><g class=\"x-axis\"><g transform=\"translate(200 200)\"><text class=\"lab\" text-anchor=\"middle\" transform=\"translate(0 -11)\">Genome position</text></g><line x1=\"20\" x2=\"380\" y1=\"163.2\" y2=\"163.2\" /><g class=\"ticks\"><g class=\"tick\" transform=\"translate(20 163.2)\"><line x1=\"0\" x2=\"0\" y1=\"0\" y2=\"5\" /><g transform=\"translate(0 6)\"><text class=\"lab\">0</text></g></g><g class=\"tick\" transform=\"translate(200 163.2)\"><line x1=\"0\" x2=\"0\" y1=\"0\" y2=\"5\" /><g transform=\"translate(0 6)\"><text class=\"lab\">10</text></g></g><g class=\"tick\" transform=\"translate(380 163.2)\"><line x1=\"0\" x2=\"0\" y1=\"0\" y2=\"5\" /><g transform=\"translate(0 6)\"><text class=\"lab\">20</text></g></g></g><g class=\"site s0\" transform=\"translate(146 163.2)\"><line class=\"sym\" x1=\"0\" x2=\"0\" y1=\"0\" y2=\"-10\" /><g class=\"mut m1\"><polyline class=\"sym\" points=\"2.5,-6.5 0,-1.5 -2.5,-6.5\" /></g><g class=\"mut m0\"><polyline class=\"sym\" points=\"2.5,-10.5 0,-5.5 -2.5,-10.5\" /></g></g><g class=\"site s1\" transform=\"translate(164 163.2)\"><line class=\"sym\" x1=\"0\" x2=\"0\" y1=\"0\" y2=\"-10\" /><g class=\"mut m2\"><polyline class=\"sym\" points=\"2.5,-6.5 0,-1.5 -2.5,-6.5\" /></g></g><g class=\"site s2\" transform=\"translate(272 163.2)\"><line class=\"sym\" x1=\"0\" x2=\"0\" y1=\"0\" y2=\"-10\" /><g class=\"mut m3\"><polyline class=\"sym\" points=\"2.5,-6.5 0,-1.5 -2.5,-6.5\" /></g></g></g></g><g class=\"plotbox trees\"><g class=\"tree t0\" transform=\"translate(20 0)\"><g class=\"plotbox\"><g class=\"c2 node n6 root\" transform=\"translate(111.875 26.8)\"><g class=\"a6 leaf node n3 sample\" transform=\"translate(30.625 94.6)\"><path class=\"edge\" d=\"M 0 0 V -94.6 H -30.625\" /><rect class=\"sym\" height=\"6\" width=\"6\" x=\"-3\" y=\"-3\" /><text class=\"lab\" transform=\"translate(0 11)\">3</text></g><g class=\"a6 c2 m0 node n5 s0\" transform=\"translate(-30.625 31.5333)\"><g class=\"a5 leaf node n2 sample\" transform=\"translate(26.25 63.0667)\"><path class=\"edge\" d=\"M 0 0 V -63.0667 H -26.25\" /><rect class=\"sym\" height=\"6\" width=\"6\" x=\"-3\" y=\"-3\" /><text class=\"lab\" transform=\"translate(0 11)\">2</text></g><g class=\"a5 c2 m1 m2 node n4 s0 s1\" transform=\"translate(-26.25 31.5333)\"><g class=\"a4 leaf node n0 sample\" transform=\"translate(-17.5 31.5333)\"><path class=\"edge\" d=\"M 0 0 V -31.5333 H 17.5\" /><rect class=\"sym\" height=\"6\" width=\"6\" x=\"-3\" y=\"-3\" /><text class=\"lab\" transform=\"translate(0 11)\">0</text></g><g class=\"a4 leaf node n1 sample\" transform=\"translate(17.5 31.5333)\"><path class=\"edge\" d=\"M 0 0 V -31.5333 H -17.5\" /><rect class=\"sym\" height=\"6\" width=\"6\" x=\"-3\" y=\"-3\" /><text class=\"lab\" transform=\"translate(0 11)\">1</text></g><path class=\"edge\" d=\"M 0 0 V -31.5333 H 26.25\" /><g class=\"mut m1 s0 unknown_time\" transform=\"translate(0 -21.0222)\"><line x1=\"0\" x2=\"0\" y1=\"0\" y2=\"21.0222\" /><path class=\"sym\" d=\"M -3,-3 l 6,6 M -3,3 l 6,-6\" /><text class=\"lab lft\" transform=\"translate(-5 0)\">(0:1)T→G</text></g><g class=\"mut m2 s1 unknown_time\" transform=\"translate(0 -10.5111)\"><line x1=\"0\" x2=\"0\" y1=\"0\" y2=\"10.5111\" /><path class=\"sym\" d=\"M -3,-3 l 6,6 M -3,3 l 6,-6\" /><text class=\"lab lft\" transform=\"translate(-5 0)\">(1:2)C→G</text></g><circle class=\"sym\" cx=\"0\" cy=\"0\" r=\"3\" /><text class=\"lab lft\" transform=\"translate(-3 -7.0)\">4</text></g><path class=\"edge\" d=\"M 0 0 V -31.5333 H 30.625\" /><g class=\"mut m0 s0 unknown_time\" transform=\"translate(0 -15.7667)\"><line x1=\"0\" x2=\"0\" y1=\"0\" y2=\"15.7667\" /><path class=\"sym\" d=\"M -3,-3 l 6,6 M -3,3 l 6,-6\" /><text class=\"lab lft\" transform=\"translate(-5 0)\">(0:0)A→T</text></g><circle class=\"sym\" cx=\"0\" cy=\"0\" r=\"3\" /><text class=\"lab lft\" transform=\"translate(-3 -7.0)\">5</text></g><circle class=\"sym\" cx=\"0\" cy=\"0\" r=\"3\" /><text class=\"lab\" transform=\"translate(0 -11)\">6</text></g></g></g><g class=\"tree t1\" transform=\"translate(200 0)\"><g class=\"plotbox\"><g class=\"c2 node n8 root\" transform=\"translate(90 58.3333)\"><g class=\"a8 c2 m3 node n4 s2\" transform=\"translate(-35 31.5333)\"><g class=\"a4 leaf node n0 sample\" transform=\"translate(-17.5 31.5333)\"><path class=\"edge\" d=\"M 0 0 V -31.5333 H 17.5\" /><rect class=\"sym\" height=\"6\" width=\"6\" x=\"-3\" y=\"-3\" /><text class=\"lab\" transform=\"translate(0 11)\">0</text></g><g class=\"a4 leaf node n1 sample\" transform=\"translate(17.5 31.5333)\"><path class=\"edge\" d=\"M 0 0 V -31.5333 H -17.5\" /><rect class=\"sym\" height=\"6\" width=\"6\" x=\"-3\" y=\"-3\" /><text class=\"lab\" transform=\"translate(0 11)\">1</text></g><path class=\"edge\" d=\"M 0 0 V -31.5333 H 35\" /><g class=\"mut m3 s2 unknown_time\" transform=\"translate(0 -15.7667)\"><line x1=\"0\" x2=\"0\" y1=\"0\" y2=\"15.7667\" /><path class=\"sym\" d=\"M -3,-3 l 6,6 M -3,3 l 6,-6\" /><text class=\"lab lft\" transform=\"translate(-5 0)\">(2:3)G→C</text></g><circle class=\"sym\" cx=\"0\" cy=\"0\" r=\"3\" /><text class=\"lab lft\" transform=\"translate(-3 -7.0)\">4</text></g><g class=\"a8 c2 node n7\" transform=\"translate(35 31.5333)\"><g class=\"a7 leaf node n2 sample\" transform=\"translate(-17.5 31.5333)\"><path class=\"edge\" d=\"M 0 0 V -31.5333 H 17.5\" /><rect class=\"sym\" height=\"6\" width=\"6\" x=\"-3\" y=\"-3\" /><text class=\"lab\" transform=\"translate(0 11)\">2</text></g><g class=\"a7 leaf node n3 sample\" transform=\"translate(17.5 31.5333)\"><path class=\"edge\" d=\"M 0 0 V -31.5333 H -17.5\" /><rect class=\"sym\" height=\"6\" width=\"6\" x=\"-3\" y=\"-3\" /><text class=\"lab\" transform=\"translate(0 11)\">3</text></g><path class=\"edge\" d=\"M 0 0 V -31.5333 H -35\" /><circle class=\"sym\" cx=\"0\" cy=\"0\" r=\"3\" /><text class=\"lab rgt\" transform=\"translate(3 -7.0)\">7</text></g><circle class=\"sym\" cx=\"0\" cy=\"0\" r=\"3\" /><text class=\"lab\" transform=\"translate(0 -11)\">8</text></g></g></g></g></g></svg>'"
      ]
     },
     "execution_count": 251,
     "metadata": {},
     "output_type": "execute_result"
    }
   ],
   "source": [
    "ts = tskit.load(\"../trees/case2.tree\")\n",
    "# ts = tskit.load(\"../tree-simple-1.tree\")\n",
    "# ts = tskit.load(\"../test.tree\")\n",
    "\n",
    "mut_labels = {}  # An array of labels for the mutations\n",
    "for mut in ts.mutations():  # Make pretty labels showing the change in state\n",
    "    site = ts.site(mut.site)\n",
    "    older_mut = mut.parent >= 0  # is there an older mutation at the same position?\n",
    "    prev = ts.mutation(mut.parent).derived_state if older_mut else site.ancestral_state\n",
    "    mut_labels[mut.id] = f\"({mut.site}:{mut.id}){prev}→{mut.derived_state}\"\n",
    "\n",
    "ts.draw_svg(mutation_labels=mut_labels)"
   ]
  },
  {
   "cell_type": "code",
   "execution_count": 254,
   "id": "9cd4eecb-db59-4733-af64-235e4fd22297",
   "metadata": {},
   "outputs": [
    {
     "name": "stdout",
     "output_type": "stream",
     "text": [
      "0\n",
      "[[1 1 1 0 2 0 0 1 3]\n",
      " [0 0 0 1 0 0 0 1 1]]\n",
      "1\n",
      "[[1 1 0 0 2 0 0 0 2]\n",
      " [0 0 1 1 0 0 0 2 2]]\n",
      "2\n",
      "[[1 1 0 0 2 0 0 0 2]\n",
      " [0 0 1 1 0 0 0 2 2]]\n"
     ]
    }
   ],
   "source": [
    "for i in range(3):\n",
    "    print(i)\n",
    "    print(np.hstack(track_ab_haplotypes(ts, tk_left, tj_left, tk_right, tj_right, t_left_right, left_child_left, right_child_left, i, state_left, parent_left)).T)\n",
    "\n",
    "counts = {i: track_ab_haplotypes(ts, tk_left, tj_left, tk_right, tj_right, t_left_right, left_child_left, right_child_left, i, state_left, parent_left) for i in range(3)}"
   ]
  },
  {
   "cell_type": "code",
   "execution_count": 257,
   "id": "acdf376f-6652-428a-88a9-1875d6e7404a",
   "metadata": {},
   "outputs": [
    {
     "data": {
      "text/plain": [
       "array([2], dtype=int32)"
      ]
     },
     "execution_count": 257,
     "metadata": {},
     "output_type": "execute_result"
    }
   ],
   "source": [
    "counts[2][0][4]"
   ]
  },
  {
   "cell_type": "code",
   "execution_count": 260,
   "id": "fb868a4d-c95d-4cb2-8083-1c2e7f4cc805",
   "metadata": {},
   "outputs": [],
   "source": [
    "#     2    2    1    0\n",
    "a = ['G', 'G', 'T', 'A']\n",
    "a = [ 2,   2,   1,   0 ]\n",
    "#     1    1    0    0\n",
    "b = ['C', 'C', 'G', 'G']\n",
    "b = [ 1,   1,   0,   0]"
   ]
  },
  {
   "cell_type": "code",
   "execution_count": 268,
   "id": "789917bd-25e6-43b5-b04c-84cbb158ada5",
   "metadata": {},
   "outputs": [],
   "source": [
    "arr = np.zeros((2, 3))"
   ]
  },
  {
   "cell_type": "code",
   "execution_count": 269,
   "id": "ce8ec6d3-fb53-4a81-adc5-b5fa0e7dad8a",
   "metadata": {},
   "outputs": [],
   "source": [
    "for i, j in zip(a, b):\n",
    "    arr[j, i] += 1"
   ]
  },
  {
   "cell_type": "code",
   "execution_count": 270,
   "id": "eefa4ab8-46a6-4622-9312-2d799aaa54f9",
   "metadata": {},
   "outputs": [
    {
     "data": {
      "text/plain": [
       "array([[1., 1., 0.],\n",
       "       [0., 0., 2.]])"
      ]
     },
     "execution_count": 270,
     "metadata": {},
     "output_type": "execute_result"
    }
   ],
   "source": [
    "arr"
   ]
  },
  {
   "cell_type": "code",
   "execution_count": null,
   "id": "365e34aa-ed03-4e80-9a9f-3db06f793d38",
   "metadata": {},
   "outputs": [],
   "source": [
    "{\n",
    "    'AC': 0,\n",
    "    'TC': 2,\n",
    "    'GC': 2,\n",
    "    'AG': \n",
    "}"
   ]
  },
  {
   "cell_type": "code",
   "execution_count": 3,
   "id": "181c1457-0b46-4ee7-9590-0de5ea83a7b6",
   "metadata": {},
   "outputs": [
    {
     "data": {
      "text/plain": [
       "[Site(id=0, position=7.0, ancestral_state='A', mutations=[Mutation(id=0, site=0, node=5, derived_state='T', parent=-1, metadata=b'', time=nan, edge=11), Mutation(id=1, site=0, node=4, derived_state='G', parent=0, metadata=b'', time=nan, edge=7)], metadata=b''),\n",
       " Site(id=1, position=8.0, ancestral_state='C', mutations=[Mutation(id=2, site=1, node=4, derived_state='G', parent=-1, metadata=b'', time=nan, edge=7)], metadata=b''),\n",
       " Site(id=2, position=14.0, ancestral_state='G', mutations=[Mutation(id=3, site=2, node=4, derived_state='C', parent=-1, metadata=b'', time=nan, edge=8)], metadata=b'')]"
      ]
     },
     "execution_count": 3,
     "metadata": {},
     "output_type": "execute_result"
    }
   ],
   "source": [
    "list(ts.sites())"
   ]
  },
  {
   "cell_type": "code",
   "execution_count": 4,
   "id": "b9ff812f-ff69-4420-9bc3-ae7b1154e7f5",
   "metadata": {},
   "outputs": [],
   "source": [
    "def pairs_with_replacement(n):\n",
    "    subloop_start = 0\n",
    "    for i in range(n):\n",
    "        for j in range(subloop_start, n):\n",
    "            yield i, j\n",
    "        subloop_start += 1"
   ]
  },
  {
   "cell_type": "code",
   "execution_count": 5,
   "id": "3d1af090-8231-43b9-907c-8384868183d3",
   "metadata": {},
   "outputs": [],
   "source": [
    "def next_state_at(ts, tj, tk, t_left, sample_sets, parent=None, state=None, left_child=None, right_child=None, left_sib=None, right_sib=None):\n",
    "    I = ts.indexes_edge_insertion_order\n",
    "    O = ts.indexes_edge_removal_order\n",
    "    parent = -np.ones(ts.num_nodes, dtype=np.int32) if parent is None else parent\n",
    "\n",
    "    state = np.zeros((ts.num_nodes, len(sample_sets)), dtype=np.int32) if state is None else state\n",
    "\n",
    "    left_child = -np.ones(ts.num_nodes, dtype=np.int32) if left_child is None else left_child \n",
    "    right_child = -np.ones(ts.num_nodes, dtype=np.int32) if right_child is None else right_child\n",
    "    left_sib = -np.ones(ts.num_nodes, dtype=np.int32) if left_sib is None else left_sib\n",
    "    right_sib = -np.ones(ts.num_nodes, dtype=np.int32) if right_sib is None else right_sib\n",
    "\n",
    "    for i, sample_set in enumerate(sample_sets):\n",
    "        state[sample_set, i] = 1\n",
    "    \n",
    "    while (tk < ts.num_edges) and (ts.edges_right[O[tk]] == t_left):\n",
    "        h = O[tk]\n",
    "        tk += 1\n",
    "        u = ts.edges_child[h]\n",
    "        v = ts.edges_parent[h]\n",
    "    \n",
    "        while (v != -1):\n",
    "            # print(state[u])\n",
    "            # display.display(ts.draw_svg(size=(1000, 300), style=f'.a{v}.n{u} > .edge {{stroke: red; stroke-width: 2px}}'))\n",
    "            state[v] += -state[u]\n",
    "\n",
    "            if left_sib[u] == -1:\n",
    "                left_child[v] = right_sib[u]\n",
    "            else:\n",
    "                right_sib[left_sib[u]] = right_sib[u]\n",
    "            if right_sib[u] == -1:\n",
    "                right_child[v] = left_sib[u]\n",
    "            else:\n",
    "                left_sib[right_sib[u]] = left_sib[u]\n",
    "            left_sib[u] = -1\n",
    "            right_sib[u] = -1\n",
    "\n",
    "            v = parent[v]\n",
    "        parent[u] = -1\n",
    "    while (tj < ts.num_edges) and (ts.edges_left[I[tj]] == t_left):\n",
    "        h = I[tj]\n",
    "        tj += 1\n",
    "        u = ts.edges_child[h]\n",
    "        v = ts.edges_parent[h]\n",
    "        parent[u] = v\n",
    "        while (v != -1):\n",
    "            # print(state[u])\n",
    "            # display.display(ts.draw_svg(size=(1000, 300), style=f'.a{v}.n{u} > .edge {{stroke: cyan; stroke-width: 2px}}'))\n",
    "            state[v] += state[u]\n",
    "\n",
    "            c = right_child[v]\n",
    "            if c == -1:\n",
    "                left_child[v] = u\n",
    "                left_sib[u] = -1\n",
    "                right_sib[u] = -1\n",
    "            else:\n",
    "                right_sib[c] = u\n",
    "                left_sib[u] = c\n",
    "                right_sib[u] = -1\n",
    "\n",
    "            right_child[v] = u\n",
    "\n",
    "            v = parent[v]\n",
    "    t_right = ts.sequence_length\n",
    "    if (tj < ts.num_edges):\n",
    "        t_right = min(t_right, ts.edges_left[I[tj]])\n",
    "    if (tk < ts.num_edges):\n",
    "        t_right = min(t_right, ts.edges_right[O[tk]])\n",
    "\n",
    "    t_left = t_right\n",
    "    return tj, tk, t_left, parent, left_child, right_child, left_sib, right_sib, state"
   ]
  },
  {
   "cell_type": "code",
   "execution_count": 87,
   "id": "3f257863-d209-49a9-b31a-31d6128c2a51",
   "metadata": {},
   "outputs": [
    {
     "data": {
      "text/plain": [
       "array([[0],\n",
       "       [0],\n",
       "       [0],\n",
       "       [1],\n",
       "       [0],\n",
       "       [0],\n",
       "       [0],\n",
       "       [1],\n",
       "       [1]], dtype=int32)"
      ]
     },
     "execution_count": 87,
     "metadata": {},
     "output_type": "execute_result"
    }
   ],
   "source": [
    "track_ab_haplotypes(ts, tk_left, tj_left, tk_right, tj_right, t_left_right, left_child_left,\n",
    "                    right_child_left, 0, state_left, parent_right, 0)"
   ]
  },
  {
   "cell_type": "code",
   "execution_count": 16,
   "id": "aca67546-809b-4856-b03d-ff9031d21a44",
   "metadata": {},
   "outputs": [
    {
     "data": {
      "text/plain": [
       "array([[1],\n",
       "       [1],\n",
       "       [0],\n",
       "       [1],\n",
       "       [2],\n",
       "       [0],\n",
       "       [1],\n",
       "       [1],\n",
       "       [3]], dtype=int32)"
      ]
     },
     "execution_count": 16,
     "metadata": {},
     "output_type": "execute_result"
    }
   ],
   "source": [
    "track_ab_haplotypes(ts, tk_left, tj_left, tk_right, tj_right, t_left_right, left_child_left,\n",
    "                    right_child_left, 1, state_left, parent_right, 1)"
   ]
  },
  {
   "cell_type": "code",
   "execution_count": 307,
   "id": "3375eb0d-03b5-4756-9677-a24f63e6ce14",
   "metadata": {},
   "outputs": [],
   "source": [
    "def track_ab_haplotypes(\n",
    "    ts, tk_left, tj_left, tk_right, tj_right, t_left_right,\n",
    "    left_child, right_child, mutation_id, state, parent_left\n",
    "):\n",
    "    I = ts.indexes_edge_insertion_order\n",
    "    O = ts.indexes_edge_removal_order\n",
    "\n",
    "    out_state = np.zeros_like(state)\n",
    "    out_not_state = state.copy()\n",
    "\n",
    "    mut_edge = ts.mutation(mutation_id).edge\n",
    "    u = ts.edges_parent[mut_edge]\n",
    "    c = ts.edges_child[mut_edge]\n",
    "    while u != -1:\n",
    "        out_state[u] += state[c]\n",
    "        out_not_state[u] -= out_not_state[c]\n",
    "        u = parent_left[u]\n",
    "\n",
    "    stack = []\n",
    "    stack.append(c)\n",
    "    while len(stack) > 0:\n",
    "        node = stack.pop()\n",
    "        out_state[node] += state[node]\n",
    "        out_not_state[node] -= out_not_state[node]\n",
    "        if right_child[node] != -1:\n",
    "            stack.append(right_child[node])\n",
    "        if left_child[node] != -1:\n",
    "            stack.append(left_child[node])\n",
    "\n",
    "    # play diffs between both trees\n",
    "    # NB does not remove counts from deleted root nodes. does this matter?\n",
    "    # NB does not modify root nodes directly above mutation. does this matter?\n",
    "    for tk in range(tk_left, tk_right):\n",
    "        k = O[tk]\n",
    "        u = ts.edges_parent[k]\n",
    "        c = ts.edges_child[k]\n",
    "        out_state[u] -= out_state[c]\n",
    "        out_not_state[u] -= out_not_state[c]\n",
    "        # print(f'removing {u} {c}')\n",
    "\n",
    "    for tj in range(tj_left, tj_right):\n",
    "        k = I[tj]\n",
    "        u = ts.edges_parent[k]\n",
    "        c = ts.edges_child[k]\n",
    "        out_state[u] += out_state[c]\n",
    "        out_not_state[u] += out_not_state[c]\n",
    "        # print(f'adding {u} {c}')\n",
    "\n",
    "    return out_state, out_not_state"
   ]
  },
  {
   "cell_type": "code",
   "execution_count": 15,
   "id": "3b3a4bdb-85f5-41ec-bd00-20f225f0a503",
   "metadata": {},
   "outputs": [],
   "source": [
    "def get_allele_weights(site, state):\n",
    "    allele_mat = np.zeros((len(site.mutations) + 1, len(sample_sets)))\n",
    "    allele_states = [site.ancestral_state]\n",
    "    num_alleles = 1\n",
    "    allele = 0\n",
    "    allele_mat[allele] = np.array(list(map(len, sample_sets)))  # This is not really total weight... I'm just assuming that all samples are either 1 or 0\n",
    "    for mutation in site.mutations:\n",
    "\n",
    "        if mutation.derived_state in allele_states:\n",
    "            allele = allele_states.index(mutation.derived_state)\n",
    "        else:\n",
    "            allele_states.append(mutation.derived_state)\n",
    "            allele = len(allele_states) - 1\n",
    "            num_alleles += 1\n",
    "        allele_mat[allele] += state[mutation.node]\n",
    "\n",
    "        alt_allele = allele_states.index(site.ancestral_state)\n",
    "        if mutation.parent != -1:\n",
    "            # TODO haven't exercised this code path yet\n",
    "            alt_allele = allele_states.index(site.mutations[mutation.parent - site.mutations[0].id].derived_state)\n",
    "        allele_mat[alt_allele] -= state[mutation.node]\n",
    "\n",
    "    return num_alleles, allele_mat"
   ]
  },
  {
   "cell_type": "code",
   "execution_count": 8,
   "id": "ce92bd70-0e3f-4966-85f8-267172dc6b98",
   "metadata": {},
   "outputs": [],
   "source": [
    "# def n_combos_w_replacement(n, k):\n",
    "#     return int(np.math.factorial(n + k - 1) / (np.math.factorial(k) * np.math.factorial(n - 1)))"
   ]
  },
  {
   "cell_type": "code",
   "execution_count": 9,
   "id": "8582ca4c-d63b-4df7-95b6-42934b379961",
   "metadata": {},
   "outputs": [],
   "source": [
    "def get_linked_allele_weights(\n",
    "    site_left, site_right, ts, tk_left, tj_left, tk_right, tj_right,\n",
    "    t_left_right, left_child_left, right_child_left, state_left, parent_right\n",
    "):\n",
    "    allele_mat = np.zeros(((len(site_left.mutations) + 1) * (len(site_right.mutations) + 1), len(sample_sets)))\n",
    "    allele_states = [site_left.ancestral_state + site_right.ancestral_state]\n",
    "    allele = 0\n",
    "    allele_mat[allele] = np.array(list(map(len, sample_sets)))\n",
    "    # allele_mat[allele] *= 2\n",
    "\n",
    "    for mutation_left in site_left.mutations:\n",
    "        state = track_ab_haplotypes(ts, tk_left, tj_left, tk_right, tj_right, t_left_right, left_child_left, right_child_left, mutation_left.id, state_left, parent_right, 1)\n",
    "        state_not = track_ab_haplotypes(ts, tk_left, tj_left, tk_right, tj_right, t_left_right, left_child_left, right_child_left, mutation_left.id, state_left, parent_right, 0)\n",
    "        num_alleles = 1\n",
    "        allele = 0\n",
    "        for mutation_right in site_right.mutations:\n",
    "            key = mutation_left.derived_state + mutation_right.derived_state\n",
    "            if key in allele_states:\n",
    "                allele = allele_states.index(key)\n",
    "            else:\n",
    "                allele_states.append(key)\n",
    "                allele = len(allele_states) - 1\n",
    "                num_alleles += 1\n",
    "            allele_mat[allele] += state[mutation_right.node]\n",
    "\n",
    "            if mutation_left.parent != -1:\n",
    "                # TODO haven't exercised this code path yet\n",
    "                alt_allele_left = site_left.mutations[mutation_left.parent - site_left.mutations[0].id].derived_state\n",
    "            else:\n",
    "                alt_allele_left = ts.site(mutation_left.site).ancestral_state\n",
    "            key = alt_allele_left + mutation_right.derived_state\n",
    "            if key in allele_states:\n",
    "                allele = allele_states.index(key)\n",
    "            else:\n",
    "                allele_states.append(key)\n",
    "                allele = len(allele_states) - 1\n",
    "                num_alleles += 1\n",
    "            allele_mat[allele] += state_not[mutation_right.node]\n",
    "\n",
    "            if mutation_right.parent != -1:\n",
    "                # TODO haven't exercised this code path yet\n",
    "                alt_allele_right = site_right.mutations[mutation_right.parent - site_right.mutations[0].id].derived_state\n",
    "            else:\n",
    "                alt_allele_right = ts.site(mutation_right.site).ancestral_state\n",
    "            key = mutation_left.derived_state + alt_allele_right\n",
    "            if key in allele_states:\n",
    "                allele = allele_states.index(key)\n",
    "            else:\n",
    "                allele_states.append(key)\n",
    "                allele = len(allele_states) - 1\n",
    "                num_alleles += 1\n",
    "\n",
    "            # allele_mat[allele] += state_not[mutation_right.node]\n",
    "\n",
    "            # alt_allele = allele_states.index(alt_allele_str)\n",
    "            # # for mutation in [mutation_left, mutation_right]:\n",
    "            # allele_mat[alt_allele] -= state[mutation.node]\n",
    "\n",
    "    # return num_alleles, allele_mat\n",
    "    return allele_mat, allele_states"
   ]
  },
  {
   "cell_type": "code",
   "execution_count": 12,
   "id": "2af27fac-4330-48df-bd27-a067407145ed",
   "metadata": {},
   "outputs": [
    {
     "data": {
      "text/plain": [
       "Site(id=0, position=7.0, ancestral_state='A', mutations=[Mutation(id=0, site=0, node=5, derived_state='T', parent=-1, metadata=b'', time=nan, edge=11), Mutation(id=1, site=0, node=4, derived_state='G', parent=0, metadata=b'', time=nan, edge=7)], metadata=b'')"
      ]
     },
     "execution_count": 12,
     "metadata": {},
     "output_type": "execute_result"
    }
   ],
   "source": [
    "left_site"
   ]
  },
  {
   "cell_type": "code",
   "execution_count": 13,
   "id": "05001d34-f83c-4258-909c-91726328c91c",
   "metadata": {},
   "outputs": [
    {
     "data": {
      "text/plain": [
       "Site(id=2, position=14.0, ancestral_state='G', mutations=[Mutation(id=3, site=2, node=4, derived_state='C', parent=-1, metadata=b'', time=nan, edge=8)], metadata=b'')"
      ]
     },
     "execution_count": 13,
     "metadata": {},
     "output_type": "execute_result"
    }
   ],
   "source": [
    "right_site"
   ]
  },
  {
   "cell_type": "code",
   "execution_count": 114,
   "id": "4b1f2581-d6d0-44df-a922-3c990a7f1372",
   "metadata": {},
   "outputs": [
    {
     "data": {
      "text/plain": [
       "(array([[4.],\n",
       "        [2.],\n",
       "        [0.],\n",
       "        [0.],\n",
       "        [2.],\n",
       "        [0.]]),\n",
       " ['AG', 'TC', 'AC', 'TG', 'GC', 'GG'])"
      ]
     },
     "execution_count": 114,
     "metadata": {},
     "output_type": "execute_result"
    }
   ],
   "source": [
    "get_linked_allele_weights(left_site, right_site, ts, tk_left, tj_left, tk_right, tj_right, t_left_right, left_child_left, right_child_left, state_left, parent_right)"
   ]
  },
  {
   "cell_type": "code",
   "execution_count": 138,
   "id": "952317ec-c84d-45f1-a638-7f585673251e",
   "metadata": {
    "tags": []
   },
   "outputs": [
    {
     "ename": "Exception",
     "evalue": "",
     "output_type": "error",
     "traceback": [
      "\u001b[0;31m---------------------------------------------------------------------------\u001b[0m",
      "\u001b[0;31mException\u001b[0m                                 Traceback (most recent call last)",
      "Input \u001b[0;32mIn [138]\u001b[0m, in \u001b[0;36m<cell line: 32>\u001b[0;34m()\u001b[0m\n\u001b[1;32m     80\u001b[0m             num_alleles_right, allele_mat_right \u001b[38;5;241m=\u001b[39m get_allele_weights(right_site, state_right)\n\u001b[1;32m     81\u001b[0m             \u001b[38;5;66;03m# get_linked_allele_weights(\u001b[39;00m\n\u001b[1;32m     82\u001b[0m             \u001b[38;5;66;03m# print(track_ab_haplotypes(ts, tk_left, tj_left, tk_right, tj_right, t_left_right, left_child_left, right_child_left, 0, state_left, parent_right))\u001b[39;00m\n\u001b[0;32m---> 83\u001b[0m             \u001b[38;5;28;01mraise\u001b[39;00m \u001b[38;5;167;01mException\u001b[39;00m\n\u001b[1;32m     84\u001b[0m \u001b[38;5;28;01melse\u001b[39;00m:\n\u001b[1;32m     85\u001b[0m     \u001b[38;5;28;01massert\u001b[39;00m num_sites_left \u001b[38;5;241m==\u001b[39m num_sites_right\n",
      "\u001b[0;31mException\u001b[0m: "
     ]
    }
   ],
   "source": [
    "# sample_sets = [[0, 1, 2], [3, 4, 5], [4, 5, 6], [1, 2]]\n",
    "# sample_sets = [[0, 1, 2]]\n",
    "sample_sets = [list(ts.samples())]\n",
    "\n",
    "tj_left = 0\n",
    "tk_left = 0\n",
    "t_left_left = 0\n",
    "tree_index_left = 0\n",
    "parent_left = None\n",
    "state_left = None\n",
    "\n",
    "left_child_left = None\n",
    "right_child_left = None\n",
    "left_sib_left = None\n",
    "right_sib_left = None\n",
    "\n",
    "tj_right = 0\n",
    "tk_right = 0\n",
    "t_left_right = 0\n",
    "tree_index_right = 0\n",
    "parent_right = None\n",
    "state_right = None\n",
    "\n",
    "left_child_right = None\n",
    "right_child_right = None\n",
    "left_sib_right = None\n",
    "right_sib_right = None\n",
    "\n",
    "\n",
    "last = False\n",
    "\n",
    "while (tj_left < ts.num_edges) or (t_left_left < ts.sequence_length):\n",
    "    treeseq_state_left = next_state_at(\n",
    "        ts=ts, tj=tj_left, tk=tk_left, t_left=t_left_left,\n",
    "        sample_sets=sample_sets, parent=parent_left, state=state_left,\n",
    "        left_child=left_child_left, right_child=right_child_left,\n",
    "        left_sib=left_sib_left, right_sib=right_sib_left\n",
    "    )\n",
    "    tj_left, tk_left, t_left_left, parent_left, left_child_left, right_child_left, left_sib_left, right_sib_left, state_left = treeseq_state_left\n",
    "    tj_right, tk_right, t_left_right, parent_right, left_child_right, right_child_right, left_sib_right, right_sib_right, state_right = treeseq_state_left\n",
    "    parent_right = parent_right.copy()\n",
    "    state_right = state_right.copy()\n",
    "    left_child_right = left_child_right.copy()\n",
    "    right_child_right = right_child_right.copy()\n",
    "    left_sib_right = left_sib_right.copy()\n",
    "    right_sib_right = right_sib_right.copy()\n",
    "\n",
    "    tree_index_right = tree_index_left\n",
    "\n",
    "    if (tj_right >= ts.num_edges) or (t_left_right >= ts.sequence_length):  # TODO: there must be a better way to do this.\n",
    "        last = True\n",
    "\n",
    "    while (tj_right < ts.num_edges) or (t_left_right < ts.sequence_length) or last:\n",
    "        if tree_index_left != tree_index_right:  # TODO: there must be a better way to do this.\n",
    "            treeseq_state_right = next_state_at(\n",
    "                ts=ts, tj=tj_right, tk=tk_right, t_left=t_left_right,\n",
    "                sample_sets=sample_sets, parent=parent_right, state=state_right,\n",
    "                left_child=left_child_right, right_child=right_child_right,\n",
    "                left_sib=left_sib_right, right_sib=right_sib_right\n",
    "            )\n",
    "            tj_right, tk_right, t_left_right, parent_right, left_child_right, right_child_right, left_sib_right, right_sib_right, state_right = treeseq_state_right\n",
    "\n",
    "        num_sites_left = ts.at_index(tree_index_left).num_sites\n",
    "        num_sites_right = ts.at_index(tree_index_right).num_sites\n",
    "        left_sites = list(ts.at_index(tree_index_left).sites())  # ts->tree_sites[tree_index_left]\n",
    "        right_sites = list(ts.at_index(tree_index_right).sites())\n",
    "\n",
    "        # print('left tk ', tk_left, 'tj', tj_left, 't_left', t_left_left)\n",
    "        # print('right tk ', tk_right, 'tj', tj_right, 't_right', t_left_right)\n",
    "        # print('-----')\n",
    "        # if t_left_left == 10.0 and t_left_right == 20.0:\n",
    "        #     raise Exception\n",
    "\n",
    "        if tree_index_left != tree_index_right:\n",
    "            for i in range(num_sites_left):\n",
    "                for j in range(num_sites_right):\n",
    "                    left_site = left_sites[i]\n",
    "                    right_site = right_sites[j]\n",
    "                    num_alleles_left, allele_mat_left = get_allele_weights(left_site, state_left)\n",
    "                    num_alleles_right, allele_mat_right = get_allele_weights(right_site, state_right)\n",
    "                    # get_linked_allele_weights(\n",
    "                    # print(track_ab_haplotypes(ts, tk_left, tj_left, tk_right, tj_right, t_left_right, left_child_left, right_child_left, 0, state_left, parent_right))\n",
    "                    raise Exception\n",
    "        else:\n",
    "            assert num_sites_left == num_sites_right\n",
    "            for i, j in pairs_with_replacement(num_sites_left):\n",
    "                left_site = left_sites[i]\n",
    "                right_site = right_sites[j]\n",
    "                num_alleles_left, allele_mat_left = get_allele_weights(left_site, state_left)\n",
    "                num_alleles_right, allele_mat_right = get_allele_weights(right_site, state_right)\n",
    "                # print(track_ab_haplotypes(ts, tk_left, tj_left, tk_right, tj_right, t_left_right, left_child_left, right_child_left, 0, state_left, parent_right))\n",
    "                \n",
    "        if last:\n",
    "            break\n",
    "        tree_index_right += 1\n",
    "    tree_index_left += 1"
   ]
  },
  {
   "cell_type": "code",
   "execution_count": null,
   "id": "fdfd034f-f303-4ceb-9149-0e23bdfe7e68",
   "metadata": {},
   "outputs": [],
   "source": []
  },
  {
   "cell_type": "code",
   "execution_count": 142,
   "id": "41dcc279-0f05-4d78-b319-c65bba6268e7",
   "metadata": {},
   "outputs": [],
   "source": [
    "def track_ab_haplotypes(\n",
    "    ts, tk_left, tj_left, tk_right, tj_right, t_left_right,\n",
    "    left_child, right_child, mutation_id, state, parent_left, direction\n",
    "):\n",
    "    I = ts.indexes_edge_insertion_order\n",
    "    O = ts.indexes_edge_removal_order\n",
    "\n",
    "    # remove all non-parents of mutation\n",
    "    if direction == 1:\n",
    "        mut_parent = ts.edge(ts.mutation(mutation_id).edge).parent\n",
    "        if ts.edges_parent[mut_parent - 1] == mut_parent:\n",
    "            prune_edge = mut_parent - 1\n",
    "        elif ts.edges_parent[mut_parent + 1] == mut_parent:\n",
    "            prune_edge = mut_parent + 1\n",
    "        else:\n",
    "            raise Exception('Unexpected condition')\n",
    "        state = state.copy()\n",
    "        state[ts.edge(prune_edge).parent] -= state[ts.edge(prune_edge).child]\n",
    "\n",
    "    # remove all parents of mutation\n",
    "    # TODO: do I need to crawl all the way back up in the prior case? :/\n",
    "    elif direction == 0:\n",
    "        state = state.copy()\n",
    "        mut_parent = ts.mutation(mutation_id).node\n",
    "        prune_edge = ts.mutation(mutation_id).edge\n",
    "        u = ts.edges_parent[prune_edge]\n",
    "        c = ts.edges_child[prune_edge]\n",
    "        while u != -1:\n",
    "            state[u] -= state[c]\n",
    "            u = parent_left[u]\n",
    "\n",
    "    # print(state)\n",
    "    # prune the state so that we can get the starting state\n",
    "    stack = []\n",
    "    stack.append(ts.edge(prune_edge).child)\n",
    "    while len(stack) > 0:\n",
    "        node = stack.pop()\n",
    "        state[node] -= state[node]\n",
    "        if right_child[node] != -1:\n",
    "            stack.append(right_child[node])\n",
    "        if left_child[node] != -1:\n",
    "            stack.append(left_child[node])\n",
    "\n",
    "    # print(state)\n",
    "    # play diffs between both trees\n",
    "    for tk in range(tk_left, tk_right):\n",
    "        k = O[tk]\n",
    "        u = ts.edges_parent[k]\n",
    "        c = ts.edges_child[k]\n",
    "        state[u] -= state[c]\n",
    "        # print(f'removing {u} {c}')\n",
    "        # while u != -1:\n",
    "        #     state[u] -= state[c]\n",
    "        #     u = parent[u]\n",
    "\n",
    "    for tj in range(tj_left, tj_right):\n",
    "        k = I[tj]\n",
    "        u = ts.edges_parent[k]\n",
    "        c = ts.edges_child[k]\n",
    "        state[u] += state[c]\n",
    "        # print(f'adding {u} {c}')\n",
    "        # while u != -1:\n",
    "        #     state[u] += state[c]\n",
    "        #     u = parent[u]\n",
    "\n",
    "    # apply the edge diffs for the next tree\n",
    "    return state"
   ]
  },
  {
   "cell_type": "code",
   "execution_count": 165,
   "id": "bcf16e97-fa83-45c3-88cb-8ed560e41b65",
   "metadata": {},
   "outputs": [],
   "source": [
    "def track_ab_haplotypes(\n",
    "    ts, tk_left, tj_left, tk_right, tj_right, t_left_right,\n",
    "    left_child, right_child, mutation_id, state, parent_left, direction\n",
    "):\n",
    "    I = ts.indexes_edge_insertion_order\n",
    "    O = ts.indexes_edge_removal_order\n",
    "\n",
    "    out_state = state.copy()\n",
    "    # remove all non-parents of mutation\n",
    "    if direction == 1:\n",
    "        out_state = np.zeros_like(state)\n",
    "        mut_edge = ts.mutation(mutation_id).edge\n",
    "        u = ts.edges_parent[mut_edge]\n",
    "        c = ts.edges_child[mut_edge]\n",
    "        while u != -1:\n",
    "            out_state[u] += state[c]\n",
    "            # print(f'{u} {c} {out_state.reshape(-1)}')\n",
    "            u = parent_left[u]\n",
    "\n",
    "        stack = []\n",
    "        stack.append(c)\n",
    "        while len(stack) > 0:\n",
    "            node = stack.pop()\n",
    "            out_state[node] += state[node]\n",
    "            # print(out_state.reshape(-1))\n",
    "            if right_child[node] != -1:\n",
    "                stack.append(right_child[node])\n",
    "            if left_child[node] != -1:\n",
    "                stack.append(left_child[node])\n",
    "\n",
    "    # remove all parents of mutation\n",
    "    elif direction == 0:\n",
    "        out_state = state.copy()\n",
    "        mut_edge = ts.mutation(mutation_id).edge\n",
    "        u = ts.edges_parent[mut_edge]\n",
    "        c = ts.edges_child[mut_edge]\n",
    "        while u != -1:\n",
    "            out_state[u] -= out_state[c]\n",
    "            u = parent_left[u]\n",
    "\n",
    "        stack = []\n",
    "        stack.append(ts.edge(mut_edge).child)\n",
    "        while len(stack) > 0:\n",
    "            node = stack.pop()\n",
    "            out_state[node] -= out_state[node]\n",
    "            if right_child[node] != -1:\n",
    "                stack.append(right_child[node])\n",
    "            if left_child[node] != -1:\n",
    "                stack.append(left_child[node])\n",
    "\n",
    "    # play diffs between both trees\n",
    "    # NB does not remove counts from deleted root nodes. does this matter?\n",
    "    for tk in range(tk_left, tk_right):\n",
    "        k = O[tk]\n",
    "        u = ts.edges_parent[k]\n",
    "        c = ts.edges_child[k]\n",
    "        out_state[u] -= out_state[c]\n",
    "        # print(f'removing {u} {c} {out_state.reshape(-1)}')\n",
    "\n",
    "    for tj in range(tj_left, tj_right):\n",
    "        k = I[tj]\n",
    "        u = ts.edges_parent[k]\n",
    "        c = ts.edges_child[k]\n",
    "        out_state[u] += out_state[c]\n",
    "        # print(f'adding {u} {c} {out_state.reshape(-1)}')\n",
    "\n",
    "    return out_state"
   ]
  },
  {
   "cell_type": "code",
   "execution_count": 308,
   "id": "213347b0-4427-47ef-bee5-01a7b6ad6b18",
   "metadata": {},
   "outputs": [
    {
     "data": {
      "text/plain": [
       "array([[1],\n",
       "       [1],\n",
       "       [1],\n",
       "       [1],\n",
       "       [2],\n",
       "       [3],\n",
       "       [4],\n",
       "       [0],\n",
       "       [0]], dtype=int32)"
      ]
     },
     "execution_count": 308,
     "metadata": {},
     "output_type": "execute_result"
    }
   ],
   "source": [
    "state_left"
   ]
  },
  {
   "cell_type": "code",
   "execution_count": 306,
   "id": "35b5273d-cf20-43cc-bbbf-f1fa6427a842",
   "metadata": {},
   "outputs": [
    {
     "data": {
      "text/plain": [
       "(array([[1],\n",
       "        [1],\n",
       "        [1],\n",
       "        [0],\n",
       "        [2],\n",
       "        [3],\n",
       "        [3],\n",
       "        [0],\n",
       "        [0]], dtype=int32),\n",
       " array([[0],\n",
       "        [0],\n",
       "        [0],\n",
       "        [1],\n",
       "        [0],\n",
       "        [0],\n",
       "        [1],\n",
       "        [0],\n",
       "        [0]], dtype=int32))"
      ]
     },
     "execution_count": 306,
     "metadata": {},
     "output_type": "execute_result"
    }
   ],
   "source": [
    "mod_tree(ts, left_child_left, right_child_left, 0, state_left, parent_left)"
   ]
  },
  {
   "cell_type": "code",
   "execution_count": 275,
   "id": "6459b427-00e0-4daa-8a19-f486834c9218",
   "metadata": {},
   "outputs": [],
   "source": [
    "def flatten_diff(\n",
    "    ts, tk_left, tj_left, tk_right, tj_right, state\n",
    "):\n",
    "    I = ts.indexes_edge_insertion_order\n",
    "    O = ts.indexes_edge_removal_order\n",
    "    out_state = np.zeros_like(state)\n",
    "\n",
    "    # play diffs between both trees\n",
    "    for tk in range(tk_left, tk_right):\n",
    "        k = O[tk]\n",
    "        u = ts.edges_parent[k]\n",
    "        c = ts.edges_child[k]\n",
    "        out_state[u] -= state[c]\n",
    "\n",
    "    for tj in range(tj_left, tj_right):\n",
    "        k = I[tj]\n",
    "        u = ts.edges_parent[k]\n",
    "        c = ts.edges_child[k]\n",
    "        out_state[u] += state[c]\n",
    "\n",
    "    return out_state"
   ]
  },
  {
   "cell_type": "code",
   "execution_count": 298,
   "id": "43913204-cdc2-4bae-946b-9728201da0fe",
   "metadata": {},
   "outputs": [],
   "source": [
    "def mod_tree(ts, left_child, right_child, mutation_id, state, parent_left):\n",
    "    out_state = np.zeros_like(state)\n",
    "    out_not_state = state.copy()\n",
    "\n",
    "    mut_edge = ts.mutation(mutation_id).edge\n",
    "    u = ts.edges_parent[mut_edge]\n",
    "    c = ts.edges_child[mut_edge]\n",
    "    while u != -1:\n",
    "        out_state[u] += state[c]\n",
    "        out_not_state[u] -= out_not_state[c]\n",
    "        u = parent_left[u]\n",
    "\n",
    "    stack = []\n",
    "    stack.append(c)\n",
    "    while len(stack) > 0:\n",
    "        node = stack.pop()\n",
    "        out_state[node] += state[node]\n",
    "        out_not_state[node] -= out_not_state[node]\n",
    "        if right_child[node] != -1:\n",
    "            stack.append(right_child[node])\n",
    "        if left_child[node] != -1:\n",
    "            stack.append(left_child[node])\n",
    "    return out_state, out_not_state"
   ]
  },
  {
   "cell_type": "code",
   "execution_count": 302,
   "id": "28c070e7-dfa2-4ffe-abf1-8f1d2eb99839",
   "metadata": {},
   "outputs": [
    {
     "name": "stdout",
     "output_type": "stream",
     "text": [
      "(array([[ 1],\n",
      "       [ 1],\n",
      "       [ 1],\n",
      "       [ 0],\n",
      "       [ 2],\n",
      "       [ 0],\n",
      "       [-1],\n",
      "       [ 0],\n",
      "       [ 0]], dtype=int32), array([[0],\n",
      "       [0],\n",
      "       [0],\n",
      "       [1],\n",
      "       [0],\n",
      "       [0],\n",
      "       [5],\n",
      "       [0],\n",
      "       [0]], dtype=int32))\n",
      "(array([[ 1],\n",
      "       [ 1],\n",
      "       [ 0],\n",
      "       [ 0],\n",
      "       [ 2],\n",
      "       [-1],\n",
      "       [-2],\n",
      "       [ 0],\n",
      "       [ 0]], dtype=int32), array([[0],\n",
      "       [0],\n",
      "       [1],\n",
      "       [1],\n",
      "       [0],\n",
      "       [4],\n",
      "       [6],\n",
      "       [0],\n",
      "       [0]], dtype=int32))\n",
      "(array([[ 1],\n",
      "       [ 1],\n",
      "       [ 0],\n",
      "       [ 0],\n",
      "       [ 2],\n",
      "       [-1],\n",
      "       [-2],\n",
      "       [ 0],\n",
      "       [ 0]], dtype=int32), array([[0],\n",
      "       [0],\n",
      "       [1],\n",
      "       [1],\n",
      "       [0],\n",
      "       [4],\n",
      "       [6],\n",
      "       [0],\n",
      "       [0]], dtype=int32))\n"
     ]
    }
   ],
   "source": [
    "for i in range(3):\n",
    "    s = mod_tree(ts, left_child_left, right_child_left, i, state_left, parent_left)\n",
    "    d = flatten_diff(ts, tk_left, tj_left, tk_right, tj_right, state_left)\n",
    "    i = np.where(~(s[0] == 0))[0]\n",
    "    s[0][i] += d[i]\n",
    "    i = np.where(~(s[1] == 0))[0]\n",
    "    s[1][i] -= d[i]\n",
    "    print(s)"
   ]
  }
 ],
 "metadata": {
  "kernelspec": {
   "display_name": "tskit-dev-1",
   "language": "python",
   "name": "tskit-dev-1"
  },
  "language_info": {
   "codemirror_mode": {
    "name": "ipython",
    "version": 3
   },
   "file_extension": ".py",
   "mimetype": "text/x-python",
   "name": "python",
   "nbconvert_exporter": "python",
   "pygments_lexer": "ipython3",
   "version": "3.9.13"
  }
 },
 "nbformat": 4,
 "nbformat_minor": 5
}
