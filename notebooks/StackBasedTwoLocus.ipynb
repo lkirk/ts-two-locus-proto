{
 "cells": [
  {
   "cell_type": "code",
   "execution_count": 1,
   "id": "7edce71d-fdcd-482c-b4fb-fb4385da1ad0",
   "metadata": {},
   "outputs": [],
   "source": [
    "from IPython import display\n",
    "\n",
    "import msprime\n",
    "import numpy as np\n",
    "import tskit"
   ]
  },
  {
   "cell_type": "code",
   "execution_count": 220,
   "id": "ff0ade66-8844-44bd-904d-b1c524a4f48f",
   "metadata": {},
   "outputs": [
    {
     "data": {
      "image/svg+xml": [
       "<svg baseProfile=\"full\" height=\"200\" version=\"1.1\" width=\"1000\" xmlns=\"http://www.w3.org/2000/svg\" xmlns:ev=\"http://www.w3.org/2001/xml-events\" xmlns:xlink=\"http://www.w3.org/1999/xlink\"><defs><style type=\"text/css\"><![CDATA[.background path {fill: #808080; fill-opacity: 0}.background path:nth-child(odd) {fill-opacity: .1}.axes {font-size: 14px}.x-axis .tick .lab {font-weight: bold; dominant-baseline: hanging}.axes, .tree {font-size: 14px; text-anchor: middle}.axes line, .edge {stroke: black; fill: none}.y-axis .grid {stroke: #FAFAFA}.node > .sym {fill: black; stroke: none}.site > .sym {stroke: black}.mut text {fill: red; font-style: italic}.mut.extra text {fill: hotpink}.mut line {fill: none; stroke: none}.mut .sym {fill: none; stroke: red}.mut.extra .sym {stroke: hotpink}.node .mut .sym {stroke-width: 1.5px}.tree text, .tree-sequence text {dominant-baseline: central}.plotbox .lab.lft {text-anchor: end}.plotbox .lab.rgt {text-anchor: start}]]></style></defs><g class=\"tree-sequence\"><g class=\"background\"><path d=\"M20,0 l192,0 l0,138.2 l-96,25 l0,5 l-96,0 l0,-5 l0,-25 l0,-138.2z\" /><path d=\"M212,0 l192,0 l0,138.2 l-96,25 l0,5 l-192,0 l0,-5 l96,-25 l0,-138.2z\" /><path d=\"M404,0 l192,0 l0,138.2 l0,25 l0,5 l-288,0 l0,-5 l96,-25 l0,-138.2z\" /><path d=\"M596,0 l192,0 l0,138.2 l-96,25 l0,5 l-96,0 l0,-5 l0,-25 l0,-138.2z\" /><path d=\"M788,0 l192,0 l0,138.2 l0,25 l0,5 l-288,0 l0,-5 l96,-25 l0,-138.2z\" /></g><g class=\"axes\"><g class=\"x-axis\"><g transform=\"translate(500 200)\"><text class=\"lab\" text-anchor=\"middle\" transform=\"translate(0 -11)\">Genome position</text></g><line x1=\"20\" x2=\"980\" y1=\"163.2\" y2=\"163.2\" /><g class=\"ticks\"><g class=\"tick\" transform=\"translate(20 163.2)\"><line x1=\"0\" x2=\"0\" y1=\"0\" y2=\"5\" /><g transform=\"translate(0 6)\"><text class=\"lab\">0</text></g></g><g class=\"tick\" transform=\"translate(116 163.2)\"><line x1=\"0\" x2=\"0\" y1=\"0\" y2=\"5\" /><g transform=\"translate(0 6)\"><text class=\"lab\">1</text></g></g><g class=\"tick\" transform=\"translate(308 163.2)\"><line x1=\"0\" x2=\"0\" y1=\"0\" y2=\"5\" /><g transform=\"translate(0 6)\"><text class=\"lab\">3</text></g></g><g class=\"tick\" transform=\"translate(596 163.2)\"><line x1=\"0\" x2=\"0\" y1=\"0\" y2=\"5\" /><g transform=\"translate(0 6)\"><text class=\"lab\">6</text></g></g><g class=\"tick\" transform=\"translate(692 163.2)\"><line x1=\"0\" x2=\"0\" y1=\"0\" y2=\"5\" /><g transform=\"translate(0 6)\"><text class=\"lab\">7</text></g></g><g class=\"tick\" transform=\"translate(980 163.2)\"><line x1=\"0\" x2=\"0\" y1=\"0\" y2=\"5\" /><g transform=\"translate(0 6)\"><text class=\"lab\">10</text></g></g></g><g class=\"site s0\" transform=\"translate(116 163.2)\"><line class=\"sym\" x1=\"0\" x2=\"0\" y1=\"0\" y2=\"-10\" /><g class=\"mut m4\"><polyline class=\"sym\" points=\"2.5,-6.5 0,-1.5 -2.5,-6.5\" /></g><g class=\"mut m3\"><polyline class=\"sym\" points=\"2.5,-10.5 0,-5.5 -2.5,-10.5\" /></g><g class=\"mut m2\"><polyline class=\"sym\" points=\"2.5,-14.5 0,-9.5 -2.5,-14.5\" /></g><g class=\"mut m1\"><polyline class=\"sym\" points=\"2.5,-18.5 0,-13.5 -2.5,-18.5\" /></g><g class=\"mut m0\"><polyline class=\"sym\" points=\"2.5,-22.5 0,-17.5 -2.5,-22.5\" /></g></g><g class=\"site s1\" transform=\"translate(212 163.2)\"><line class=\"sym\" x1=\"0\" x2=\"0\" y1=\"0\" y2=\"-10\" /><g class=\"mut m7\"><polyline class=\"sym\" points=\"2.5,-6.5 0,-1.5 -2.5,-6.5\" /></g><g class=\"mut m6\"><polyline class=\"sym\" points=\"2.5,-10.5 0,-5.5 -2.5,-10.5\" /></g><g class=\"mut m5\"><polyline class=\"sym\" points=\"2.5,-14.5 0,-9.5 -2.5,-14.5\" /></g></g><g class=\"site s2\" transform=\"translate(308 163.2)\"><line class=\"sym\" x1=\"0\" x2=\"0\" y1=\"0\" y2=\"-10\" /><g class=\"mut m8\"><polyline class=\"sym\" points=\"2.5,-6.5 0,-1.5 -2.5,-6.5\" /></g></g><g class=\"site s3\" transform=\"translate(404 163.2)\"><line class=\"sym\" x1=\"0\" x2=\"0\" y1=\"0\" y2=\"-10\" /><g class=\"mut m9\"><polyline class=\"sym\" points=\"2.5,-6.5 0,-1.5 -2.5,-6.5\" /></g></g><g class=\"site s4\" transform=\"translate(500 163.2)\"><line class=\"sym\" x1=\"0\" x2=\"0\" y1=\"0\" y2=\"-10\" /><g class=\"mut m14\"><polyline class=\"sym\" points=\"2.5,-6.5 0,-1.5 -2.5,-6.5\" /></g><g class=\"mut m13\"><polyline class=\"sym\" points=\"2.5,-10.5 0,-5.5 -2.5,-10.5\" /></g><g class=\"mut m12\"><polyline class=\"sym\" points=\"2.5,-14.5 0,-9.5 -2.5,-14.5\" /></g><g class=\"mut m11\"><polyline class=\"sym\" points=\"2.5,-18.5 0,-13.5 -2.5,-18.5\" /></g><g class=\"mut m10\"><polyline class=\"sym\" points=\"2.5,-22.5 0,-17.5 -2.5,-22.5\" /></g></g><g class=\"site s5\" transform=\"translate(596 163.2)\"><line class=\"sym\" x1=\"0\" x2=\"0\" y1=\"0\" y2=\"-10\" /><g class=\"mut m19\"><polyline class=\"sym\" points=\"2.5,-6.5 0,-1.5 -2.5,-6.5\" /></g><g class=\"mut m18\"><polyline class=\"sym\" points=\"2.5,-10.5 0,-5.5 -2.5,-10.5\" /></g><g class=\"mut m17\"><polyline class=\"sym\" points=\"2.5,-14.5 0,-9.5 -2.5,-14.5\" /></g><g class=\"mut m16\"><polyline class=\"sym\" points=\"2.5,-18.5 0,-13.5 -2.5,-18.5\" /></g><g class=\"mut m15\"><polyline class=\"sym\" points=\"2.5,-22.5 0,-17.5 -2.5,-22.5\" /></g></g><g class=\"site s6\" transform=\"translate(692 163.2)\"><line class=\"sym\" x1=\"0\" x2=\"0\" y1=\"0\" y2=\"-10\" /><g class=\"mut m21\"><polyline class=\"sym\" points=\"2.5,-6.5 0,-1.5 -2.5,-6.5\" /></g><g class=\"mut m20\"><polyline class=\"sym\" points=\"2.5,-10.5 0,-5.5 -2.5,-10.5\" /></g></g><g class=\"site s7\" transform=\"translate(788 163.2)\"><line class=\"sym\" x1=\"0\" x2=\"0\" y1=\"0\" y2=\"-10\" /><g class=\"mut m22\"><polyline class=\"sym\" points=\"2.5,-6.5 0,-1.5 -2.5,-6.5\" /></g></g><g class=\"site s8\" transform=\"translate(884 163.2)\"><line class=\"sym\" x1=\"0\" x2=\"0\" y1=\"0\" y2=\"-10\" /><g class=\"mut m26\"><polyline class=\"sym\" points=\"2.5,-6.5 0,-1.5 -2.5,-6.5\" /></g><g class=\"mut m25\"><polyline class=\"sym\" points=\"2.5,-10.5 0,-5.5 -2.5,-10.5\" /></g><g class=\"mut m24\"><polyline class=\"sym\" points=\"2.5,-14.5 0,-9.5 -2.5,-14.5\" /></g><g class=\"mut m23\"><polyline class=\"sym\" points=\"2.5,-18.5 0,-13.5 -2.5,-18.5\" /></g></g></g></g><g class=\"plotbox trees\"><g class=\"tree t0\" transform=\"translate(20 0)\"><g class=\"plotbox\"><g class=\"c2 node n16 p0 root\" transform=\"translate(112.625 37.8111)\"><g class=\"a16 c2 node n10 p0\" transform=\"translate(40.375 81.313)\"><g class=\"a10 i1 leaf node n3 p0 sample\" transform=\"translate(-9.5 2.27598)\"><path class=\"edge\" d=\"M 0 0 V -2.27598 H 9.5\" /><rect class=\"sym\" height=\"6\" width=\"6\" x=\"-3\" y=\"-3\" /><text class=\"lab\" transform=\"translate(0 11)\">3</text></g><g class=\"a10 i2 leaf node n4 p0 sample\" transform=\"translate(9.5 2.27598)\"><path class=\"edge\" d=\"M 0 0 V -2.27598 H -9.5\" /><rect class=\"sym\" height=\"6\" width=\"6\" x=\"-3\" y=\"-3\" /><text class=\"lab\" transform=\"translate(0 11)\">4</text></g><path class=\"edge\" d=\"M 0 0 V -81.313 H -40.375\" /><circle class=\"sym\" cx=\"0\" cy=\"0\" r=\"3\" /><text class=\"lab rgt\" transform=\"translate(3 -7.0)\">10</text></g><g class=\"a16 c2 node n14 p0\" transform=\"translate(-40.375 72.3076)\"><g class=\"a14 c2 node n11 p0\" transform=\"translate(-28.5 6.76431)\"><g class=\"a11 i0 leaf node n0 p0 sample\" transform=\"translate(-14.25 4.51699)\"><path class=\"edge\" d=\"M 0 0 V -4.51699 H 14.25\" /><rect class=\"sym\" height=\"6\" width=\"6\" x=\"-3\" y=\"-3\" /><text class=\"lab\" transform=\"translate(0 11)\">0</text></g><g class=\"a11 c2 node n8 p0\" transform=\"translate(14.25 3.27072)\"><g class=\"a8 i2 leaf node n5 p0 sample\" transform=\"translate(-9.5 1.24627)\"><path class=\"edge\" d=\"M 0 0 V -1.24627 H 9.5\" /><rect class=\"sym\" height=\"6\" width=\"6\" x=\"-3\" y=\"-3\" /><text class=\"lab\" transform=\"translate(0 11)\">5</text></g><g class=\"a8 i3 leaf node n7 p0 sample\" transform=\"translate(9.5 1.24627)\"><path class=\"edge\" d=\"M 0 0 V -1.24627 H -9.5\" /><rect class=\"sym\" height=\"6\" width=\"6\" x=\"-3\" y=\"-3\" /><text class=\"lab\" transform=\"translate(0 11)\">7</text></g><path class=\"edge\" d=\"M 0 0 V -3.27072 H -14.25\" /><circle class=\"sym\" cx=\"0\" cy=\"0\" r=\"3\" /><text class=\"lab rgt\" transform=\"translate(3 -7.0)\">8</text></g><path class=\"edge\" d=\"M 0 0 V -6.76431 H 28.5\" /><circle class=\"sym\" cx=\"0\" cy=\"0\" r=\"3\" /><text class=\"lab lft\" transform=\"translate(-3 -7.0)\">11</text></g><g class=\"a14 c2 node n13 p0\" transform=\"translate(28.5 0.615607)\"><g class=\"a13 i0 leaf node n1 p0 sample\" transform=\"translate(-14.25 10.6657)\"><path class=\"edge\" d=\"M 0 0 V -10.6657 H 14.25\" /><rect class=\"sym\" height=\"6\" width=\"6\" x=\"-3\" y=\"-3\" /><text class=\"lab\" transform=\"translate(0 11)\">1</text></g><g class=\"a13 c2 node n12 p0\" transform=\"translate(14.25 2.53522)\"><g class=\"a12 i1 leaf node n2 p0 sample\" transform=\"translate(-9.5 8.13047)\"><path class=\"edge\" d=\"M 0 0 V -8.13047 H 9.5\" /><rect class=\"sym\" height=\"6\" width=\"6\" x=\"-3\" y=\"-3\" /><text class=\"lab\" transform=\"translate(0 11)\">2</text></g><g class=\"a12 i3 leaf node n6 p0 sample\" transform=\"translate(9.5 8.13047)\"><path class=\"edge\" d=\"M 0 0 V -8.13047 H -9.5\" /><rect class=\"sym\" height=\"6\" width=\"6\" x=\"-3\" y=\"-3\" /><text class=\"lab\" transform=\"translate(0 11)\">6</text></g><path class=\"edge\" d=\"M 0 0 V -2.53522 H -14.25\" /><circle class=\"sym\" cx=\"0\" cy=\"0\" r=\"3\" /><text class=\"lab rgt\" transform=\"translate(3 -7.0)\">12</text></g><path class=\"edge\" d=\"M 0 0 V -0.615607 H -28.5\" /><circle class=\"sym\" cx=\"0\" cy=\"0\" r=\"3\" /><text class=\"lab rgt\" transform=\"translate(3 -7.0)\">13</text></g><path class=\"edge\" d=\"M 0 0 V -72.3076 H 40.375\" /><circle class=\"sym\" cx=\"0\" cy=\"0\" r=\"3\" /><text class=\"lab lft\" transform=\"translate(-3 -7.0)\">14</text></g><circle class=\"sym\" cx=\"0\" cy=\"0\" r=\"3\" /><text class=\"lab\" transform=\"translate(0 -11)\">16</text></g></g></g><g class=\"tree t1\" transform=\"translate(212 0)\"><g class=\"plotbox\"><g class=\"c2 node n17 p0 root\" transform=\"translate(112.625 26.8)\"><g class=\"a17 c2 m5 node n10 p0 s1\" transform=\"translate(40.375 92.324)\"><g class=\"a10 i1 leaf m7 node n3 p0 s1 sample\" transform=\"translate(-9.5 2.27598)\"><path class=\"edge\" d=\"M 0 0 V -2.27598 H 9.5\" /><g class=\"mut m7 s1\" transform=\"translate(0 -0.210161)\"><line x1=\"0\" x2=\"0\" y1=\"0\" y2=\"0.210161\" /><path class=\"sym\" d=\"M -3,-3 l 6,6 M -3,3 l 6,-6\" /><text class=\"lab lft\" transform=\"translate(-5 0)\">7</text></g><rect class=\"sym\" height=\"6\" width=\"6\" x=\"-3\" y=\"-3\" /><text class=\"lab\" transform=\"translate(0 11)\">3</text></g><g class=\"a10 i2 leaf node n4 p0 sample\" transform=\"translate(9.5 2.27598)\"><path class=\"edge\" d=\"M 0 0 V -2.27598 H -9.5\" /><rect class=\"sym\" height=\"6\" width=\"6\" x=\"-3\" y=\"-3\" /><text class=\"lab\" transform=\"translate(0 11)\">4</text></g><path class=\"edge\" d=\"M 0 0 V -92.324 H -40.375\" /><g class=\"mut m5 s1\" transform=\"translate(0 -61.9058)\"><line x1=\"0\" x2=\"0\" y1=\"0\" y2=\"61.9058\" /><path class=\"sym\" d=\"M -3,-3 l 6,6 M -3,3 l 6,-6\" /><text class=\"lab rgt\" transform=\"translate(5 0)\">5</text></g><circle class=\"sym\" cx=\"0\" cy=\"0\" r=\"3\" /><text class=\"lab rgt\" transform=\"translate(3 -7.0)\">10</text></g><g class=\"a17 c2 m0 m1 m2 m3 m4 node n14 p0 s0\" transform=\"translate(-40.375 83.3187)\"><g class=\"a14 c2 node n11 p0\" transform=\"translate(-28.5 6.76431)\"><g class=\"a11 i0 leaf node n0 p0 sample\" transform=\"translate(-14.25 4.51699)\"><path class=\"edge\" d=\"M 0 0 V -4.51699 H 14.25\" /><rect class=\"sym\" height=\"6\" width=\"6\" x=\"-3\" y=\"-3\" /><text class=\"lab\" transform=\"translate(0 11)\">0</text></g><g class=\"a11 c2 node n8 p0\" transform=\"translate(14.25 3.27072)\"><g class=\"a8 i2 leaf node n5 p0 sample\" transform=\"translate(-9.5 1.24627)\"><path class=\"edge\" d=\"M 0 0 V -1.24627 H 9.5\" /><rect class=\"sym\" height=\"6\" width=\"6\" x=\"-3\" y=\"-3\" /><text class=\"lab\" transform=\"translate(0 11)\">5</text></g><g class=\"a8 i3 leaf node n7 p0 sample\" transform=\"translate(9.5 1.24627)\"><path class=\"edge\" d=\"M 0 0 V -1.24627 H -9.5\" /><rect class=\"sym\" height=\"6\" width=\"6\" x=\"-3\" y=\"-3\" /><text class=\"lab\" transform=\"translate(0 11)\">7</text></g><path class=\"edge\" d=\"M 0 0 V -3.27072 H -14.25\" /><circle class=\"sym\" cx=\"0\" cy=\"0\" r=\"3\" /><text class=\"lab rgt\" transform=\"translate(3 -7.0)\">8</text></g><path class=\"edge\" d=\"M 0 0 V -6.76431 H 28.5\" /><circle class=\"sym\" cx=\"0\" cy=\"0\" r=\"3\" /><text class=\"lab lft\" transform=\"translate(-3 -7.0)\">11</text></g><g class=\"a14 c2 node n13 p0\" transform=\"translate(28.5 0.615607)\"><g class=\"a13 i0 leaf node n1 p0 sample\" transform=\"translate(-14.25 10.6657)\"><path class=\"edge\" d=\"M 0 0 V -10.6657 H 14.25\" /><rect class=\"sym\" height=\"6\" width=\"6\" x=\"-3\" y=\"-3\" /><text class=\"lab\" transform=\"translate(0 11)\">1</text></g><g class=\"a13 c2 node n12 p0\" transform=\"translate(14.25 2.53522)\"><g class=\"a12 i1 leaf node n2 p0 sample\" transform=\"translate(-9.5 8.13047)\"><path class=\"edge\" d=\"M 0 0 V -8.13047 H 9.5\" /><rect class=\"sym\" height=\"6\" width=\"6\" x=\"-3\" y=\"-3\" /><text class=\"lab\" transform=\"translate(0 11)\">2</text></g><g class=\"a12 i3 leaf m6 node n6 p0 s1 sample\" transform=\"translate(9.5 8.13047)\"><path class=\"edge\" d=\"M 0 0 V -8.13047 H -9.5\" /><g class=\"mut m6 s1\" transform=\"translate(0 -5.57116)\"><line x1=\"0\" x2=\"0\" y1=\"0\" y2=\"5.57116\" /><path class=\"sym\" d=\"M -3,-3 l 6,6 M -3,3 l 6,-6\" /><text class=\"lab rgt\" transform=\"translate(5 0)\">6</text></g><rect class=\"sym\" height=\"6\" width=\"6\" x=\"-3\" y=\"-3\" /><text class=\"lab\" transform=\"translate(0 11)\">6</text></g><path class=\"edge\" d=\"M 0 0 V -2.53522 H -14.25\" /><circle class=\"sym\" cx=\"0\" cy=\"0\" r=\"3\" /><text class=\"lab rgt\" transform=\"translate(3 -7.0)\">12</text></g><path class=\"edge\" d=\"M 0 0 V -0.615607 H -28.5\" /><circle class=\"sym\" cx=\"0\" cy=\"0\" r=\"3\" /><text class=\"lab rgt\" transform=\"translate(3 -7.0)\">13</text></g><path class=\"edge\" d=\"M 0 0 V -83.3187 H 40.375\" /><g class=\"mut m0 s0\" transform=\"translate(0 -75.703)\"><line x1=\"0\" x2=\"0\" y1=\"0\" y2=\"75.703\" /><path class=\"sym\" d=\"M -3,-3 l 6,6 M -3,3 l 6,-6\" /><text class=\"lab lft\" transform=\"translate(-5 0)\">0</text></g><g class=\"mut m1 s0\" transform=\"translate(0 -65.7617)\"><line x1=\"0\" x2=\"0\" y1=\"0\" y2=\"65.7617\" /><path class=\"sym\" d=\"M -3,-3 l 6,6 M -3,3 l 6,-6\" /><text class=\"lab lft\" transform=\"translate(-5 0)\">1</text></g><g class=\"mut m2 s0\" transform=\"translate(0 -37.3179)\"><line x1=\"0\" x2=\"0\" y1=\"0\" y2=\"37.3179\" /><path class=\"sym\" d=\"M -3,-3 l 6,6 M -3,3 l 6,-6\" /><text class=\"lab lft\" transform=\"translate(-5 0)\">2</text></g><g class=\"mut m3 s0\" transform=\"translate(0 -24.4635)\"><line x1=\"0\" x2=\"0\" y1=\"0\" y2=\"24.4635\" /><path class=\"sym\" d=\"M -3,-3 l 6,6 M -3,3 l 6,-6\" /><text class=\"lab lft\" transform=\"translate(-5 0)\">3</text></g><g class=\"mut m4 s0\" transform=\"translate(0 -8.60066)\"><line x1=\"0\" x2=\"0\" y1=\"0\" y2=\"8.60066\" /><path class=\"sym\" d=\"M -3,-3 l 6,6 M -3,3 l 6,-6\" /><text class=\"lab lft\" transform=\"translate(-5 0)\">4</text></g><circle class=\"sym\" cx=\"0\" cy=\"0\" r=\"3\" /><text class=\"lab lft\" transform=\"translate(-3 -7.0)\">14</text></g><circle class=\"sym\" cx=\"0\" cy=\"0\" r=\"3\" /><text class=\"lab\" transform=\"translate(0 -11)\">17</text></g></g></g><g class=\"tree t2\" transform=\"translate(404 0)\"><g class=\"plotbox\"><g class=\"c2 node n15 p0 root\" transform=\"translate(112.625 63.6242)\"><g class=\"a15 c2 m12 m14 node n10 p0 s4\" transform=\"translate(40.375 55.4998)\"><g class=\"a10 i1 leaf node n3 p0 sample\" transform=\"translate(-9.5 2.27598)\"><path class=\"edge\" d=\"M 0 0 V -2.27598 H 9.5\" /><rect class=\"sym\" height=\"6\" width=\"6\" x=\"-3\" y=\"-3\" /><text class=\"lab\" transform=\"translate(0 11)\">3</text></g><g class=\"a10 i2 leaf node n4 p0 sample\" transform=\"translate(9.5 2.27598)\"><path class=\"edge\" d=\"M 0 0 V -2.27598 H -9.5\" /><rect class=\"sym\" height=\"6\" width=\"6\" x=\"-3\" y=\"-3\" /><text class=\"lab\" transform=\"translate(0 11)\">4</text></g><path class=\"edge\" d=\"M 0 0 V -55.4998 H -40.375\" /><g class=\"mut m12 s4\" transform=\"translate(0 -44.4412)\"><line x1=\"0\" x2=\"0\" y1=\"0\" y2=\"44.4412\" /><path class=\"sym\" d=\"M -3,-3 l 6,6 M -3,3 l 6,-6\" /><text class=\"lab rgt\" transform=\"translate(5 0)\">12</text></g><g class=\"mut m14 s4\" transform=\"translate(0 -10.9946)\"><line x1=\"0\" x2=\"0\" y1=\"0\" y2=\"10.9946\" /><path class=\"sym\" d=\"M -3,-3 l 6,6 M -3,3 l 6,-6\" /><text class=\"lab rgt\" transform=\"translate(5 0)\">14</text></g><circle class=\"sym\" cx=\"0\" cy=\"0\" r=\"3\" /><text class=\"lab rgt\" transform=\"translate(3 -7.0)\">10</text></g><g class=\"a15 c2 m10 m11 m13 m8 node n14 p0 s2 s4\" transform=\"translate(-40.375 46.4945)\"><g class=\"a14 c2 node n11 p0\" transform=\"translate(-28.5 6.76431)\"><g class=\"a11 i0 leaf node n0 p0 sample\" transform=\"translate(-14.25 4.51699)\"><path class=\"edge\" d=\"M 0 0 V -4.51699 H 14.25\" /><rect class=\"sym\" height=\"6\" width=\"6\" x=\"-3\" y=\"-3\" /><text class=\"lab\" transform=\"translate(0 11)\">0</text></g><g class=\"a11 c2 node n8 p0\" transform=\"translate(14.25 3.27072)\"><g class=\"a8 i2 leaf node n5 p0 sample\" transform=\"translate(-9.5 1.24627)\"><path class=\"edge\" d=\"M 0 0 V -1.24627 H 9.5\" /><rect class=\"sym\" height=\"6\" width=\"6\" x=\"-3\" y=\"-3\" /><text class=\"lab\" transform=\"translate(0 11)\">5</text></g><g class=\"a8 i3 leaf node n7 p0 sample\" transform=\"translate(9.5 1.24627)\"><path class=\"edge\" d=\"M 0 0 V -1.24627 H -9.5\" /><rect class=\"sym\" height=\"6\" width=\"6\" x=\"-3\" y=\"-3\" /><text class=\"lab\" transform=\"translate(0 11)\">7</text></g><path class=\"edge\" d=\"M 0 0 V -3.27072 H -14.25\" /><circle class=\"sym\" cx=\"0\" cy=\"0\" r=\"3\" /><text class=\"lab rgt\" transform=\"translate(3 -7.0)\">8</text></g><path class=\"edge\" d=\"M 0 0 V -6.76431 H 28.5\" /><circle class=\"sym\" cx=\"0\" cy=\"0\" r=\"3\" /><text class=\"lab lft\" transform=\"translate(-3 -7.0)\">11</text></g><g class=\"a14 c2 node n13 p0\" transform=\"translate(28.5 0.615607)\"><g class=\"a13 i0 leaf m9 node n1 p0 s3 sample\" transform=\"translate(-14.25 10.6657)\"><path class=\"edge\" d=\"M 0 0 V -10.6657 H 14.25\" /><g class=\"mut m9 s3\" transform=\"translate(0 -9.36573)\"><line x1=\"0\" x2=\"0\" y1=\"0\" y2=\"9.36573\" /><path class=\"sym\" d=\"M -3,-3 l 6,6 M -3,3 l 6,-6\" /><text class=\"lab lft\" transform=\"translate(-5 0)\">9</text></g><rect class=\"sym\" height=\"6\" width=\"6\" x=\"-3\" y=\"-3\" /><text class=\"lab\" transform=\"translate(0 11)\">1</text></g><g class=\"a13 c2 node n12 p0\" transform=\"translate(14.25 2.53522)\"><g class=\"a12 i1 leaf node n2 p0 sample\" transform=\"translate(-9.5 8.13047)\"><path class=\"edge\" d=\"M 0 0 V -8.13047 H 9.5\" /><rect class=\"sym\" height=\"6\" width=\"6\" x=\"-3\" y=\"-3\" /><text class=\"lab\" transform=\"translate(0 11)\">2</text></g><g class=\"a12 i3 leaf node n6 p0 sample\" transform=\"translate(9.5 8.13047)\"><path class=\"edge\" d=\"M 0 0 V -8.13047 H -9.5\" /><rect class=\"sym\" height=\"6\" width=\"6\" x=\"-3\" y=\"-3\" /><text class=\"lab\" transform=\"translate(0 11)\">6</text></g><path class=\"edge\" d=\"M 0 0 V -2.53522 H -14.25\" /><circle class=\"sym\" cx=\"0\" cy=\"0\" r=\"3\" /><text class=\"lab rgt\" transform=\"translate(3 -7.0)\">12</text></g><path class=\"edge\" d=\"M 0 0 V -0.615607 H -28.5\" /><circle class=\"sym\" cx=\"0\" cy=\"0\" r=\"3\" /><text class=\"lab rgt\" transform=\"translate(3 -7.0)\">13</text></g><path class=\"edge\" d=\"M 0 0 V -46.4945 H 40.375\" /><g class=\"mut m10 s4\" transform=\"translate(0 -40.2187)\"><line x1=\"0\" x2=\"0\" y1=\"0\" y2=\"40.2187\" /><path class=\"sym\" d=\"M -3,-3 l 6,6 M -3,3 l 6,-6\" /><text class=\"lab lft\" transform=\"translate(-5 0)\">10</text></g><g class=\"mut m8 s2\" transform=\"translate(0 -38.572)\"><line x1=\"0\" x2=\"0\" y1=\"0\" y2=\"38.572\" /><path class=\"sym\" d=\"M -3,-3 l 6,6 M -3,3 l 6,-6\" /><text class=\"lab lft\" transform=\"translate(-5 0)\">8</text></g><g class=\"mut m11 s4\" transform=\"translate(0 -38.5508)\"><line x1=\"0\" x2=\"0\" y1=\"0\" y2=\"38.5508\" /><path class=\"sym\" d=\"M -3,-3 l 6,6 M -3,3 l 6,-6\" /><text class=\"lab lft\" transform=\"translate(-5 0)\">11</text></g><g class=\"mut m13 s4\" transform=\"translate(0 -24.0913)\"><line x1=\"0\" x2=\"0\" y1=\"0\" y2=\"24.0913\" /><path class=\"sym\" d=\"M -3,-3 l 6,6 M -3,3 l 6,-6\" /><text class=\"lab lft\" transform=\"translate(-5 0)\">13</text></g><circle class=\"sym\" cx=\"0\" cy=\"0\" r=\"3\" /><text class=\"lab lft\" transform=\"translate(-3 -7.0)\">14</text></g><circle class=\"sym\" cx=\"0\" cy=\"0\" r=\"3\" /><text class=\"lab\" transform=\"translate(0 -11)\">15</text></g></g></g><g class=\"tree t3\" transform=\"translate(596 0)\"><g class=\"plotbox\"><g class=\"c2 node n17 p0 root\" transform=\"translate(112.625 26.8)\"><g class=\"a17 c2 m15 m17 m18 node n10 p0 s5\" transform=\"translate(40.375 92.324)\"><g class=\"a10 i1 leaf node n3 p0 sample\" transform=\"translate(-9.5 2.27598)\"><path class=\"edge\" d=\"M 0 0 V -2.27598 H 9.5\" /><rect class=\"sym\" height=\"6\" width=\"6\" x=\"-3\" y=\"-3\" /><text class=\"lab\" transform=\"translate(0 11)\">3</text></g><g class=\"a10 i2 leaf node n4 p0 sample\" transform=\"translate(9.5 2.27598)\"><path class=\"edge\" d=\"M 0 0 V -2.27598 H -9.5\" /><rect class=\"sym\" height=\"6\" width=\"6\" x=\"-3\" y=\"-3\" /><text class=\"lab\" transform=\"translate(0 11)\">4</text></g><path class=\"edge\" d=\"M 0 0 V -92.324 H -40.375\" /><g class=\"mut m15 s5\" transform=\"translate(0 -69.2563)\"><line x1=\"0\" x2=\"0\" y1=\"0\" y2=\"69.2563\" /><path class=\"sym\" d=\"M -3,-3 l 6,6 M -3,3 l 6,-6\" /><text class=\"lab rgt\" transform=\"translate(5 0)\">15</text></g><g class=\"mut m17 s5\" transform=\"translate(0 -63.8769)\"><line x1=\"0\" x2=\"0\" y1=\"0\" y2=\"63.8769\" /><path class=\"sym\" d=\"M -3,-3 l 6,6 M -3,3 l 6,-6\" /><text class=\"lab rgt\" transform=\"translate(5 0)\">17</text></g><g class=\"mut m18 s5\" transform=\"translate(0 -63.3805)\"><line x1=\"0\" x2=\"0\" y1=\"0\" y2=\"63.3805\" /><path class=\"sym\" d=\"M -3,-3 l 6,6 M -3,3 l 6,-6\" /><text class=\"lab rgt\" transform=\"translate(5 0)\">18</text></g><circle class=\"sym\" cx=\"0\" cy=\"0\" r=\"3\" /><text class=\"lab rgt\" transform=\"translate(3 -7.0)\">10</text></g><g class=\"a17 c2 m16 node n14 p0 s5\" transform=\"translate(-40.375 83.3187)\"><g class=\"a14 c2 node n11 p0\" transform=\"translate(-28.5 6.76431)\"><g class=\"a11 i0 leaf node n0 p0 sample\" transform=\"translate(-14.25 4.51699)\"><path class=\"edge\" d=\"M 0 0 V -4.51699 H 14.25\" /><rect class=\"sym\" height=\"6\" width=\"6\" x=\"-3\" y=\"-3\" /><text class=\"lab\" transform=\"translate(0 11)\">0</text></g><g class=\"a11 c2 node n8 p0\" transform=\"translate(14.25 3.27072)\"><g class=\"a8 i2 leaf node n5 p0 sample\" transform=\"translate(-9.5 1.24627)\"><path class=\"edge\" d=\"M 0 0 V -1.24627 H 9.5\" /><rect class=\"sym\" height=\"6\" width=\"6\" x=\"-3\" y=\"-3\" /><text class=\"lab\" transform=\"translate(0 11)\">5</text></g><g class=\"a8 i3 leaf node n7 p0 sample\" transform=\"translate(9.5 1.24627)\"><path class=\"edge\" d=\"M 0 0 V -1.24627 H -9.5\" /><rect class=\"sym\" height=\"6\" width=\"6\" x=\"-3\" y=\"-3\" /><text class=\"lab\" transform=\"translate(0 11)\">7</text></g><path class=\"edge\" d=\"M 0 0 V -3.27072 H -14.25\" /><circle class=\"sym\" cx=\"0\" cy=\"0\" r=\"3\" /><text class=\"lab rgt\" transform=\"translate(3 -7.0)\">8</text></g><path class=\"edge\" d=\"M 0 0 V -6.76431 H 28.5\" /><circle class=\"sym\" cx=\"0\" cy=\"0\" r=\"3\" /><text class=\"lab lft\" transform=\"translate(-3 -7.0)\">11</text></g><g class=\"a14 c2 node n13 p0\" transform=\"translate(28.5 0.615607)\"><g class=\"a13 i0 leaf node n1 p0 sample\" transform=\"translate(-14.25 10.6657)\"><path class=\"edge\" d=\"M 0 0 V -10.6657 H 14.25\" /><rect class=\"sym\" height=\"6\" width=\"6\" x=\"-3\" y=\"-3\" /><text class=\"lab\" transform=\"translate(0 11)\">1</text></g><g class=\"a13 c2 node n12 p0\" transform=\"translate(14.25 2.53522)\"><g class=\"a12 i1 leaf m19 node n2 p0 s5 sample\" transform=\"translate(-9.5 8.13047)\"><path class=\"edge\" d=\"M 0 0 V -8.13047 H 9.5\" /><g class=\"mut m19 s5\" transform=\"translate(0 -4.38084)\"><line x1=\"0\" x2=\"0\" y1=\"0\" y2=\"4.38084\" /><path class=\"sym\" d=\"M -3,-3 l 6,6 M -3,3 l 6,-6\" /><text class=\"lab lft\" transform=\"translate(-5 0)\">19</text></g><rect class=\"sym\" height=\"6\" width=\"6\" x=\"-3\" y=\"-3\" /><text class=\"lab\" transform=\"translate(0 11)\">2</text></g><g class=\"a12 i3 leaf node n6 p0 sample\" transform=\"translate(9.5 8.13047)\"><path class=\"edge\" d=\"M 0 0 V -8.13047 H -9.5\" /><rect class=\"sym\" height=\"6\" width=\"6\" x=\"-3\" y=\"-3\" /><text class=\"lab\" transform=\"translate(0 11)\">6</text></g><path class=\"edge\" d=\"M 0 0 V -2.53522 H -14.25\" /><circle class=\"sym\" cx=\"0\" cy=\"0\" r=\"3\" /><text class=\"lab rgt\" transform=\"translate(3 -7.0)\">12</text></g><path class=\"edge\" d=\"M 0 0 V -0.615607 H -28.5\" /><circle class=\"sym\" cx=\"0\" cy=\"0\" r=\"3\" /><text class=\"lab rgt\" transform=\"translate(3 -7.0)\">13</text></g><path class=\"edge\" d=\"M 0 0 V -83.3187 H 40.375\" /><g class=\"mut m16 s5\" transform=\"translate(0 -56.5597)\"><line x1=\"0\" x2=\"0\" y1=\"0\" y2=\"56.5597\" /><path class=\"sym\" d=\"M -3,-3 l 6,6 M -3,3 l 6,-6\" /><text class=\"lab lft\" transform=\"translate(-5 0)\">16</text></g><circle class=\"sym\" cx=\"0\" cy=\"0\" r=\"3\" /><text class=\"lab lft\" transform=\"translate(-3 -7.0)\">14</text></g><circle class=\"sym\" cx=\"0\" cy=\"0\" r=\"3\" /><text class=\"lab\" transform=\"translate(0 -11)\">17</text></g></g></g><g class=\"tree t4\" transform=\"translate(788 0)\"><g class=\"plotbox\"><g class=\"c2 node n17 p0 root\" transform=\"translate(116.781 26.8)\"><g class=\"a17 c2 m20 m21 m23 node n10 p0 s6 s8\" transform=\"translate(36.2188 92.324)\"><g class=\"a10 i1 leaf node n3 p0 sample\" transform=\"translate(-9.5 2.27598)\"><path class=\"edge\" d=\"M 0 0 V -2.27598 H 9.5\" /><rect class=\"sym\" height=\"6\" width=\"6\" x=\"-3\" y=\"-3\" /><text class=\"lab\" transform=\"translate(0 11)\">3</text></g><g class=\"a10 i2 leaf node n4 p0 sample\" transform=\"translate(9.5 2.27598)\"><path class=\"edge\" d=\"M 0 0 V -2.27598 H -9.5\" /><rect class=\"sym\" height=\"6\" width=\"6\" x=\"-3\" y=\"-3\" /><text class=\"lab\" transform=\"translate(0 11)\">4</text></g><path class=\"edge\" d=\"M 0 0 V -92.324 H -36.2188\" /><g class=\"mut m23 s8\" transform=\"translate(0 -77.056)\"><line x1=\"0\" x2=\"0\" y1=\"0\" y2=\"77.056\" /><path class=\"sym\" d=\"M -3,-3 l 6,6 M -3,3 l 6,-6\" /><text class=\"lab rgt\" transform=\"translate(5 0)\">23</text></g><g class=\"mut m20 s6\" transform=\"translate(0 -29.1297)\"><line x1=\"0\" x2=\"0\" y1=\"0\" y2=\"29.1297\" /><path class=\"sym\" d=\"M -3,-3 l 6,6 M -3,3 l 6,-6\" /><text class=\"lab rgt\" transform=\"translate(5 0)\">20</text></g><g class=\"mut m21 s6\" transform=\"translate(0 -1.68845)\"><line x1=\"0\" x2=\"0\" y1=\"0\" y2=\"1.68845\" /><path class=\"sym\" d=\"M -3,-3 l 6,6 M -3,3 l 6,-6\" /><text class=\"lab rgt\" transform=\"translate(5 0)\">21</text></g><circle class=\"sym\" cx=\"0\" cy=\"0\" r=\"3\" /><text class=\"lab rgt\" transform=\"translate(3 -7.0)\">10</text></g><g class=\"a17 c2 m22 m24 node n14 p0 s7 s8\" transform=\"translate(-36.2188 83.3187)\"><g class=\"a14 c2 m25 node n11 p0 s8\" transform=\"translate(-34.4375 6.76431)\"><g class=\"a11 i0 leaf node n0 p0 sample\" transform=\"translate(-16.625 4.51699)\"><path class=\"edge\" d=\"M 0 0 V -4.51699 H 16.625\" /><rect class=\"sym\" height=\"6\" width=\"6\" x=\"-3\" y=\"-3\" /><text class=\"lab\" transform=\"translate(0 11)\">0</text></g><g class=\"a11 c2 node n9 p0\" transform=\"translate(16.625 2.89376)\"><g class=\"a9 i1 leaf node n2 p0 sample\" transform=\"translate(-14.25 1.62324)\"><path class=\"edge\" d=\"M 0 0 V -1.62324 H 14.25\" /><rect class=\"sym\" height=\"6\" width=\"6\" x=\"-3\" y=\"-3\" /><text class=\"lab\" transform=\"translate(0 11)\">2</text></g><g class=\"a9 c2 node n8 p0\" transform=\"translate(14.25 0.376964)\"><g class=\"a8 i2 leaf node n5 p0 sample\" transform=\"translate(-9.5 1.24627)\"><path class=\"edge\" d=\"M 0 0 V -1.24627 H 9.5\" /><rect class=\"sym\" height=\"6\" width=\"6\" x=\"-3\" y=\"-3\" /><text class=\"lab\" transform=\"translate(0 11)\">5</text></g><g class=\"a8 i3 leaf m26 node n7 p0 s8 sample\" transform=\"translate(9.5 1.24627)\"><path class=\"edge\" d=\"M 0 0 V -1.24627 H -9.5\" /><g class=\"mut m26 s8\" transform=\"translate(0 -0.00014255)\"><line x1=\"0\" x2=\"0\" y1=\"0\" y2=\"0.00014255\" /><path class=\"sym\" d=\"M -3,-3 l 6,6 M -3,3 l 6,-6\" /><text class=\"lab rgt\" transform=\"translate(5 0)\">26</text></g><rect class=\"sym\" height=\"6\" width=\"6\" x=\"-3\" y=\"-3\" /><text class=\"lab\" transform=\"translate(0 11)\">7</text></g><path class=\"edge\" d=\"M 0 0 V -0.376964 H -14.25\" /><circle class=\"sym\" cx=\"0\" cy=\"0\" r=\"3\" /><text class=\"lab rgt\" transform=\"translate(3 -7.0)\">8</text></g><path class=\"edge\" d=\"M 0 0 V -2.89376 H -16.625\" /><circle class=\"sym\" cx=\"0\" cy=\"0\" r=\"3\" /><text class=\"lab rgt\" transform=\"translate(3 -7.0)\">9</text></g><path class=\"edge\" d=\"M 0 0 V -6.76431 H 34.4375\" /><g class=\"mut m25 s8\" transform=\"translate(0 -2.82278)\"><line x1=\"0\" x2=\"0\" y1=\"0\" y2=\"2.82278\" /><path class=\"sym\" d=\"M -3,-3 l 6,6 M -3,3 l 6,-6\" /><text class=\"lab lft\" transform=\"translate(-5 0)\">25</text></g><circle class=\"sym\" cx=\"0\" cy=\"0\" r=\"3\" /><text class=\"lab lft\" transform=\"translate(-3 -7.0)\">11</text></g><g class=\"a14 c2 node n13 p0\" transform=\"translate(34.4375 0.615607)\"><g class=\"a13 i0 leaf node n1 p0 sample\" transform=\"translate(-9.5 10.6657)\"><path class=\"edge\" d=\"M 0 0 V -10.6657 H 9.5\" /><rect class=\"sym\" height=\"6\" width=\"6\" x=\"-3\" y=\"-3\" /><text class=\"lab\" transform=\"translate(0 11)\">1</text></g><g class=\"a13 i3 leaf node n6 p0 sample\" transform=\"translate(9.5 10.6657)\"><path class=\"edge\" d=\"M 0 0 V -10.6657 H -9.5\" /><rect class=\"sym\" height=\"6\" width=\"6\" x=\"-3\" y=\"-3\" /><text class=\"lab\" transform=\"translate(0 11)\">6</text></g><path class=\"edge\" d=\"M 0 0 V -0.615607 H -34.4375\" /><circle class=\"sym\" cx=\"0\" cy=\"0\" r=\"3\" /><text class=\"lab rgt\" transform=\"translate(3 -7.0)\">13</text></g><path class=\"edge\" d=\"M 0 0 V -83.3187 H 36.2188\" /><g class=\"mut m24 s8\" transform=\"translate(0 -17.6326)\"><line x1=\"0\" x2=\"0\" y1=\"0\" y2=\"17.6326\" /><path class=\"sym\" d=\"M -3,-3 l 6,6 M -3,3 l 6,-6\" /><text class=\"lab lft\" transform=\"translate(-5 0)\">24</text></g><g class=\"mut m22 s7\" transform=\"translate(0 -1.61363)\"><line x1=\"0\" x2=\"0\" y1=\"0\" y2=\"1.61363\" /><path class=\"sym\" d=\"M -3,-3 l 6,6 M -3,3 l 6,-6\" /><text class=\"lab lft\" transform=\"translate(-5 0)\">22</text></g><circle class=\"sym\" cx=\"0\" cy=\"0\" r=\"3\" /><text class=\"lab lft\" transform=\"translate(-3 -7.0)\">14</text></g><circle class=\"sym\" cx=\"0\" cy=\"0\" r=\"3\" /><text class=\"lab\" transform=\"translate(0 -11)\">17</text></g></g></g></g></g></svg>"
      ],
      "text/plain": [
       "'<svg baseProfile=\"full\" height=\"200\" version=\"1.1\" width=\"1000\" xmlns=\"http://www.w3.org/2000/svg\" xmlns:ev=\"http://www.w3.org/2001/xml-events\" xmlns:xlink=\"http://www.w3.org/1999/xlink\"><defs><style type=\"text/css\"><![CDATA[.background path {fill: #808080; fill-opacity: 0}.background path:nth-child(odd) {fill-opacity: .1}.axes {font-size: 14px}.x-axis .tick .lab {font-weight: bold; dominant-baseline: hanging}.axes, .tree {font-size: 14px; text-anchor: middle}.axes line, .edge {stroke: black; fill: none}.y-axis .grid {stroke: #FAFAFA}.node > .sym {fill: black; stroke: none}.site > .sym {stroke: black}.mut text {fill: red; font-style: italic}.mut.extra text {fill: hotpink}.mut line {fill: none; stroke: none}.mut .sym {fill: none; stroke: red}.mut.extra .sym {stroke: hotpink}.node .mut .sym {stroke-width: 1.5px}.tree text, .tree-sequence text {dominant-baseline: central}.plotbox .lab.lft {text-anchor: end}.plotbox .lab.rgt {text-anchor: start}]]></style></defs><g class=\"tree-sequence\"><g class=\"background\"><path d=\"M20,0 l192,0 l0,138.2 l-96,25 l0,5 l-96,0 l0,-5 l0,-25 l0,-138.2z\" /><path d=\"M212,0 l192,0 l0,138.2 l-96,25 l0,5 l-192,0 l0,-5 l96,-25 l0,-138.2z\" /><path d=\"M404,0 l192,0 l0,138.2 l0,25 l0,5 l-288,0 l0,-5 l96,-25 l0,-138.2z\" /><path d=\"M596,0 l192,0 l0,138.2 l-96,25 l0,5 l-96,0 l0,-5 l0,-25 l0,-138.2z\" /><path d=\"M788,0 l192,0 l0,138.2 l0,25 l0,5 l-288,0 l0,-5 l96,-25 l0,-138.2z\" /></g><g class=\"axes\"><g class=\"x-axis\"><g transform=\"translate(500 200)\"><text class=\"lab\" text-anchor=\"middle\" transform=\"translate(0 -11)\">Genome position</text></g><line x1=\"20\" x2=\"980\" y1=\"163.2\" y2=\"163.2\" /><g class=\"ticks\"><g class=\"tick\" transform=\"translate(20 163.2)\"><line x1=\"0\" x2=\"0\" y1=\"0\" y2=\"5\" /><g transform=\"translate(0 6)\"><text class=\"lab\">0</text></g></g><g class=\"tick\" transform=\"translate(116 163.2)\"><line x1=\"0\" x2=\"0\" y1=\"0\" y2=\"5\" /><g transform=\"translate(0 6)\"><text class=\"lab\">1</text></g></g><g class=\"tick\" transform=\"translate(308 163.2)\"><line x1=\"0\" x2=\"0\" y1=\"0\" y2=\"5\" /><g transform=\"translate(0 6)\"><text class=\"lab\">3</text></g></g><g class=\"tick\" transform=\"translate(596 163.2)\"><line x1=\"0\" x2=\"0\" y1=\"0\" y2=\"5\" /><g transform=\"translate(0 6)\"><text class=\"lab\">6</text></g></g><g class=\"tick\" transform=\"translate(692 163.2)\"><line x1=\"0\" x2=\"0\" y1=\"0\" y2=\"5\" /><g transform=\"translate(0 6)\"><text class=\"lab\">7</text></g></g><g class=\"tick\" transform=\"translate(980 163.2)\"><line x1=\"0\" x2=\"0\" y1=\"0\" y2=\"5\" /><g transform=\"translate(0 6)\"><text class=\"lab\">10</text></g></g></g><g class=\"site s0\" transform=\"translate(116 163.2)\"><line class=\"sym\" x1=\"0\" x2=\"0\" y1=\"0\" y2=\"-10\" /><g class=\"mut m4\"><polyline class=\"sym\" points=\"2.5,-6.5 0,-1.5 -2.5,-6.5\" /></g><g class=\"mut m3\"><polyline class=\"sym\" points=\"2.5,-10.5 0,-5.5 -2.5,-10.5\" /></g><g class=\"mut m2\"><polyline class=\"sym\" points=\"2.5,-14.5 0,-9.5 -2.5,-14.5\" /></g><g class=\"mut m1\"><polyline class=\"sym\" points=\"2.5,-18.5 0,-13.5 -2.5,-18.5\" /></g><g class=\"mut m0\"><polyline class=\"sym\" points=\"2.5,-22.5 0,-17.5 -2.5,-22.5\" /></g></g><g class=\"site s1\" transform=\"translate(212 163.2)\"><line class=\"sym\" x1=\"0\" x2=\"0\" y1=\"0\" y2=\"-10\" /><g class=\"mut m7\"><polyline class=\"sym\" points=\"2.5,-6.5 0,-1.5 -2.5,-6.5\" /></g><g class=\"mut m6\"><polyline class=\"sym\" points=\"2.5,-10.5 0,-5.5 -2.5,-10.5\" /></g><g class=\"mut m5\"><polyline class=\"sym\" points=\"2.5,-14.5 0,-9.5 -2.5,-14.5\" /></g></g><g class=\"site s2\" transform=\"translate(308 163.2)\"><line class=\"sym\" x1=\"0\" x2=\"0\" y1=\"0\" y2=\"-10\" /><g class=\"mut m8\"><polyline class=\"sym\" points=\"2.5,-6.5 0,-1.5 -2.5,-6.5\" /></g></g><g class=\"site s3\" transform=\"translate(404 163.2)\"><line class=\"sym\" x1=\"0\" x2=\"0\" y1=\"0\" y2=\"-10\" /><g class=\"mut m9\"><polyline class=\"sym\" points=\"2.5,-6.5 0,-1.5 -2.5,-6.5\" /></g></g><g class=\"site s4\" transform=\"translate(500 163.2)\"><line class=\"sym\" x1=\"0\" x2=\"0\" y1=\"0\" y2=\"-10\" /><g class=\"mut m14\"><polyline class=\"sym\" points=\"2.5,-6.5 0,-1.5 -2.5,-6.5\" /></g><g class=\"mut m13\"><polyline class=\"sym\" points=\"2.5,-10.5 0,-5.5 -2.5,-10.5\" /></g><g class=\"mut m12\"><polyline class=\"sym\" points=\"2.5,-14.5 0,-9.5 -2.5,-14.5\" /></g><g class=\"mut m11\"><polyline class=\"sym\" points=\"2.5,-18.5 0,-13.5 -2.5,-18.5\" /></g><g class=\"mut m10\"><polyline class=\"sym\" points=\"2.5,-22.5 0,-17.5 -2.5,-22.5\" /></g></g><g class=\"site s5\" transform=\"translate(596 163.2)\"><line class=\"sym\" x1=\"0\" x2=\"0\" y1=\"0\" y2=\"-10\" /><g class=\"mut m19\"><polyline class=\"sym\" points=\"2.5,-6.5 0,-1.5 -2.5,-6.5\" /></g><g class=\"mut m18\"><polyline class=\"sym\" points=\"2.5,-10.5 0,-5.5 -2.5,-10.5\" /></g><g class=\"mut m17\"><polyline class=\"sym\" points=\"2.5,-14.5 0,-9.5 -2.5,-14.5\" /></g><g class=\"mut m16\"><polyline class=\"sym\" points=\"2.5,-18.5 0,-13.5 -2.5,-18.5\" /></g><g class=\"mut m15\"><polyline class=\"sym\" points=\"2.5,-22.5 0,-17.5 -2.5,-22.5\" /></g></g><g class=\"site s6\" transform=\"translate(692 163.2)\"><line class=\"sym\" x1=\"0\" x2=\"0\" y1=\"0\" y2=\"-10\" /><g class=\"mut m21\"><polyline class=\"sym\" points=\"2.5,-6.5 0,-1.5 -2.5,-6.5\" /></g><g class=\"mut m20\"><polyline class=\"sym\" points=\"2.5,-10.5 0,-5.5 -2.5,-10.5\" /></g></g><g class=\"site s7\" transform=\"translate(788 163.2)\"><line class=\"sym\" x1=\"0\" x2=\"0\" y1=\"0\" y2=\"-10\" /><g class=\"mut m22\"><polyline class=\"sym\" points=\"2.5,-6.5 0,-1.5 -2.5,-6.5\" /></g></g><g class=\"site s8\" transform=\"translate(884 163.2)\"><line class=\"sym\" x1=\"0\" x2=\"0\" y1=\"0\" y2=\"-10\" /><g class=\"mut m26\"><polyline class=\"sym\" points=\"2.5,-6.5 0,-1.5 -2.5,-6.5\" /></g><g class=\"mut m25\"><polyline class=\"sym\" points=\"2.5,-10.5 0,-5.5 -2.5,-10.5\" /></g><g class=\"mut m24\"><polyline class=\"sym\" points=\"2.5,-14.5 0,-9.5 -2.5,-14.5\" /></g><g class=\"mut m23\"><polyline class=\"sym\" points=\"2.5,-18.5 0,-13.5 -2.5,-18.5\" /></g></g></g></g><g class=\"plotbox trees\"><g class=\"tree t0\" transform=\"translate(20 0)\"><g class=\"plotbox\"><g class=\"c2 node n16 p0 root\" transform=\"translate(112.625 37.8111)\"><g class=\"a16 c2 node n10 p0\" transform=\"translate(40.375 81.313)\"><g class=\"a10 i1 leaf node n3 p0 sample\" transform=\"translate(-9.5 2.27598)\"><path class=\"edge\" d=\"M 0 0 V -2.27598 H 9.5\" /><rect class=\"sym\" height=\"6\" width=\"6\" x=\"-3\" y=\"-3\" /><text class=\"lab\" transform=\"translate(0 11)\">3</text></g><g class=\"a10 i2 leaf node n4 p0 sample\" transform=\"translate(9.5 2.27598)\"><path class=\"edge\" d=\"M 0 0 V -2.27598 H -9.5\" /><rect class=\"sym\" height=\"6\" width=\"6\" x=\"-3\" y=\"-3\" /><text class=\"lab\" transform=\"translate(0 11)\">4</text></g><path class=\"edge\" d=\"M 0 0 V -81.313 H -40.375\" /><circle class=\"sym\" cx=\"0\" cy=\"0\" r=\"3\" /><text class=\"lab rgt\" transform=\"translate(3 -7.0)\">10</text></g><g class=\"a16 c2 node n14 p0\" transform=\"translate(-40.375 72.3076)\"><g class=\"a14 c2 node n11 p0\" transform=\"translate(-28.5 6.76431)\"><g class=\"a11 i0 leaf node n0 p0 sample\" transform=\"translate(-14.25 4.51699)\"><path class=\"edge\" d=\"M 0 0 V -4.51699 H 14.25\" /><rect class=\"sym\" height=\"6\" width=\"6\" x=\"-3\" y=\"-3\" /><text class=\"lab\" transform=\"translate(0 11)\">0</text></g><g class=\"a11 c2 node n8 p0\" transform=\"translate(14.25 3.27072)\"><g class=\"a8 i2 leaf node n5 p0 sample\" transform=\"translate(-9.5 1.24627)\"><path class=\"edge\" d=\"M 0 0 V -1.24627 H 9.5\" /><rect class=\"sym\" height=\"6\" width=\"6\" x=\"-3\" y=\"-3\" /><text class=\"lab\" transform=\"translate(0 11)\">5</text></g><g class=\"a8 i3 leaf node n7 p0 sample\" transform=\"translate(9.5 1.24627)\"><path class=\"edge\" d=\"M 0 0 V -1.24627 H -9.5\" /><rect class=\"sym\" height=\"6\" width=\"6\" x=\"-3\" y=\"-3\" /><text class=\"lab\" transform=\"translate(0 11)\">7</text></g><path class=\"edge\" d=\"M 0 0 V -3.27072 H -14.25\" /><circle class=\"sym\" cx=\"0\" cy=\"0\" r=\"3\" /><text class=\"lab rgt\" transform=\"translate(3 -7.0)\">8</text></g><path class=\"edge\" d=\"M 0 0 V -6.76431 H 28.5\" /><circle class=\"sym\" cx=\"0\" cy=\"0\" r=\"3\" /><text class=\"lab lft\" transform=\"translate(-3 -7.0)\">11</text></g><g class=\"a14 c2 node n13 p0\" transform=\"translate(28.5 0.615607)\"><g class=\"a13 i0 leaf node n1 p0 sample\" transform=\"translate(-14.25 10.6657)\"><path class=\"edge\" d=\"M 0 0 V -10.6657 H 14.25\" /><rect class=\"sym\" height=\"6\" width=\"6\" x=\"-3\" y=\"-3\" /><text class=\"lab\" transform=\"translate(0 11)\">1</text></g><g class=\"a13 c2 node n12 p0\" transform=\"translate(14.25 2.53522)\"><g class=\"a12 i1 leaf node n2 p0 sample\" transform=\"translate(-9.5 8.13047)\"><path class=\"edge\" d=\"M 0 0 V -8.13047 H 9.5\" /><rect class=\"sym\" height=\"6\" width=\"6\" x=\"-3\" y=\"-3\" /><text class=\"lab\" transform=\"translate(0 11)\">2</text></g><g class=\"a12 i3 leaf node n6 p0 sample\" transform=\"translate(9.5 8.13047)\"><path class=\"edge\" d=\"M 0 0 V -8.13047 H -9.5\" /><rect class=\"sym\" height=\"6\" width=\"6\" x=\"-3\" y=\"-3\" /><text class=\"lab\" transform=\"translate(0 11)\">6</text></g><path class=\"edge\" d=\"M 0 0 V -2.53522 H -14.25\" /><circle class=\"sym\" cx=\"0\" cy=\"0\" r=\"3\" /><text class=\"lab rgt\" transform=\"translate(3 -7.0)\">12</text></g><path class=\"edge\" d=\"M 0 0 V -0.615607 H -28.5\" /><circle class=\"sym\" cx=\"0\" cy=\"0\" r=\"3\" /><text class=\"lab rgt\" transform=\"translate(3 -7.0)\">13</text></g><path class=\"edge\" d=\"M 0 0 V -72.3076 H 40.375\" /><circle class=\"sym\" cx=\"0\" cy=\"0\" r=\"3\" /><text class=\"lab lft\" transform=\"translate(-3 -7.0)\">14</text></g><circle class=\"sym\" cx=\"0\" cy=\"0\" r=\"3\" /><text class=\"lab\" transform=\"translate(0 -11)\">16</text></g></g></g><g class=\"tree t1\" transform=\"translate(212 0)\"><g class=\"plotbox\"><g class=\"c2 node n17 p0 root\" transform=\"translate(112.625 26.8)\"><g class=\"a17 c2 m5 node n10 p0 s1\" transform=\"translate(40.375 92.324)\"><g class=\"a10 i1 leaf m7 node n3 p0 s1 sample\" transform=\"translate(-9.5 2.27598)\"><path class=\"edge\" d=\"M 0 0 V -2.27598 H 9.5\" /><g class=\"mut m7 s1\" transform=\"translate(0 -0.210161)\"><line x1=\"0\" x2=\"0\" y1=\"0\" y2=\"0.210161\" /><path class=\"sym\" d=\"M -3,-3 l 6,6 M -3,3 l 6,-6\" /><text class=\"lab lft\" transform=\"translate(-5 0)\">7</text></g><rect class=\"sym\" height=\"6\" width=\"6\" x=\"-3\" y=\"-3\" /><text class=\"lab\" transform=\"translate(0 11)\">3</text></g><g class=\"a10 i2 leaf node n4 p0 sample\" transform=\"translate(9.5 2.27598)\"><path class=\"edge\" d=\"M 0 0 V -2.27598 H -9.5\" /><rect class=\"sym\" height=\"6\" width=\"6\" x=\"-3\" y=\"-3\" /><text class=\"lab\" transform=\"translate(0 11)\">4</text></g><path class=\"edge\" d=\"M 0 0 V -92.324 H -40.375\" /><g class=\"mut m5 s1\" transform=\"translate(0 -61.9058)\"><line x1=\"0\" x2=\"0\" y1=\"0\" y2=\"61.9058\" /><path class=\"sym\" d=\"M -3,-3 l 6,6 M -3,3 l 6,-6\" /><text class=\"lab rgt\" transform=\"translate(5 0)\">5</text></g><circle class=\"sym\" cx=\"0\" cy=\"0\" r=\"3\" /><text class=\"lab rgt\" transform=\"translate(3 -7.0)\">10</text></g><g class=\"a17 c2 m0 m1 m2 m3 m4 node n14 p0 s0\" transform=\"translate(-40.375 83.3187)\"><g class=\"a14 c2 node n11 p0\" transform=\"translate(-28.5 6.76431)\"><g class=\"a11 i0 leaf node n0 p0 sample\" transform=\"translate(-14.25 4.51699)\"><path class=\"edge\" d=\"M 0 0 V -4.51699 H 14.25\" /><rect class=\"sym\" height=\"6\" width=\"6\" x=\"-3\" y=\"-3\" /><text class=\"lab\" transform=\"translate(0 11)\">0</text></g><g class=\"a11 c2 node n8 p0\" transform=\"translate(14.25 3.27072)\"><g class=\"a8 i2 leaf node n5 p0 sample\" transform=\"translate(-9.5 1.24627)\"><path class=\"edge\" d=\"M 0 0 V -1.24627 H 9.5\" /><rect class=\"sym\" height=\"6\" width=\"6\" x=\"-3\" y=\"-3\" /><text class=\"lab\" transform=\"translate(0 11)\">5</text></g><g class=\"a8 i3 leaf node n7 p0 sample\" transform=\"translate(9.5 1.24627)\"><path class=\"edge\" d=\"M 0 0 V -1.24627 H -9.5\" /><rect class=\"sym\" height=\"6\" width=\"6\" x=\"-3\" y=\"-3\" /><text class=\"lab\" transform=\"translate(0 11)\">7</text></g><path class=\"edge\" d=\"M 0 0 V -3.27072 H -14.25\" /><circle class=\"sym\" cx=\"0\" cy=\"0\" r=\"3\" /><text class=\"lab rgt\" transform=\"translate(3 -7.0)\">8</text></g><path class=\"edge\" d=\"M 0 0 V -6.76431 H 28.5\" /><circle class=\"sym\" cx=\"0\" cy=\"0\" r=\"3\" /><text class=\"lab lft\" transform=\"translate(-3 -7.0)\">11</text></g><g class=\"a14 c2 node n13 p0\" transform=\"translate(28.5 0.615607)\"><g class=\"a13 i0 leaf node n1 p0 sample\" transform=\"translate(-14.25 10.6657)\"><path class=\"edge\" d=\"M 0 0 V -10.6657 H 14.25\" /><rect class=\"sym\" height=\"6\" width=\"6\" x=\"-3\" y=\"-3\" /><text class=\"lab\" transform=\"translate(0 11)\">1</text></g><g class=\"a13 c2 node n12 p0\" transform=\"translate(14.25 2.53522)\"><g class=\"a12 i1 leaf node n2 p0 sample\" transform=\"translate(-9.5 8.13047)\"><path class=\"edge\" d=\"M 0 0 V -8.13047 H 9.5\" /><rect class=\"sym\" height=\"6\" width=\"6\" x=\"-3\" y=\"-3\" /><text class=\"lab\" transform=\"translate(0 11)\">2</text></g><g class=\"a12 i3 leaf m6 node n6 p0 s1 sample\" transform=\"translate(9.5 8.13047)\"><path class=\"edge\" d=\"M 0 0 V -8.13047 H -9.5\" /><g class=\"mut m6 s1\" transform=\"translate(0 -5.57116)\"><line x1=\"0\" x2=\"0\" y1=\"0\" y2=\"5.57116\" /><path class=\"sym\" d=\"M -3,-3 l 6,6 M -3,3 l 6,-6\" /><text class=\"lab rgt\" transform=\"translate(5 0)\">6</text></g><rect class=\"sym\" height=\"6\" width=\"6\" x=\"-3\" y=\"-3\" /><text class=\"lab\" transform=\"translate(0 11)\">6</text></g><path class=\"edge\" d=\"M 0 0 V -2.53522 H -14.25\" /><circle class=\"sym\" cx=\"0\" cy=\"0\" r=\"3\" /><text class=\"lab rgt\" transform=\"translate(3 -7.0)\">12</text></g><path class=\"edge\" d=\"M 0 0 V -0.615607 H -28.5\" /><circle class=\"sym\" cx=\"0\" cy=\"0\" r=\"3\" /><text class=\"lab rgt\" transform=\"translate(3 -7.0)\">13</text></g><path class=\"edge\" d=\"M 0 0 V -83.3187 H 40.375\" /><g class=\"mut m0 s0\" transform=\"translate(0 -75.703)\"><line x1=\"0\" x2=\"0\" y1=\"0\" y2=\"75.703\" /><path class=\"sym\" d=\"M -3,-3 l 6,6 M -3,3 l 6,-6\" /><text class=\"lab lft\" transform=\"translate(-5 0)\">0</text></g><g class=\"mut m1 s0\" transform=\"translate(0 -65.7617)\"><line x1=\"0\" x2=\"0\" y1=\"0\" y2=\"65.7617\" /><path class=\"sym\" d=\"M -3,-3 l 6,6 M -3,3 l 6,-6\" /><text class=\"lab lft\" transform=\"translate(-5 0)\">1</text></g><g class=\"mut m2 s0\" transform=\"translate(0 -37.3179)\"><line x1=\"0\" x2=\"0\" y1=\"0\" y2=\"37.3179\" /><path class=\"sym\" d=\"M -3,-3 l 6,6 M -3,3 l 6,-6\" /><text class=\"lab lft\" transform=\"translate(-5 0)\">2</text></g><g class=\"mut m3 s0\" transform=\"translate(0 -24.4635)\"><line x1=\"0\" x2=\"0\" y1=\"0\" y2=\"24.4635\" /><path class=\"sym\" d=\"M -3,-3 l 6,6 M -3,3 l 6,-6\" /><text class=\"lab lft\" transform=\"translate(-5 0)\">3</text></g><g class=\"mut m4 s0\" transform=\"translate(0 -8.60066)\"><line x1=\"0\" x2=\"0\" y1=\"0\" y2=\"8.60066\" /><path class=\"sym\" d=\"M -3,-3 l 6,6 M -3,3 l 6,-6\" /><text class=\"lab lft\" transform=\"translate(-5 0)\">4</text></g><circle class=\"sym\" cx=\"0\" cy=\"0\" r=\"3\" /><text class=\"lab lft\" transform=\"translate(-3 -7.0)\">14</text></g><circle class=\"sym\" cx=\"0\" cy=\"0\" r=\"3\" /><text class=\"lab\" transform=\"translate(0 -11)\">17</text></g></g></g><g class=\"tree t2\" transform=\"translate(404 0)\"><g class=\"plotbox\"><g class=\"c2 node n15 p0 root\" transform=\"translate(112.625 63.6242)\"><g class=\"a15 c2 m12 m14 node n10 p0 s4\" transform=\"translate(40.375 55.4998)\"><g class=\"a10 i1 leaf node n3 p0 sample\" transform=\"translate(-9.5 2.27598)\"><path class=\"edge\" d=\"M 0 0 V -2.27598 H 9.5\" /><rect class=\"sym\" height=\"6\" width=\"6\" x=\"-3\" y=\"-3\" /><text class=\"lab\" transform=\"translate(0 11)\">3</text></g><g class=\"a10 i2 leaf node n4 p0 sample\" transform=\"translate(9.5 2.27598)\"><path class=\"edge\" d=\"M 0 0 V -2.27598 H -9.5\" /><rect class=\"sym\" height=\"6\" width=\"6\" x=\"-3\" y=\"-3\" /><text class=\"lab\" transform=\"translate(0 11)\">4</text></g><path class=\"edge\" d=\"M 0 0 V -55.4998 H -40.375\" /><g class=\"mut m12 s4\" transform=\"translate(0 -44.4412)\"><line x1=\"0\" x2=\"0\" y1=\"0\" y2=\"44.4412\" /><path class=\"sym\" d=\"M -3,-3 l 6,6 M -3,3 l 6,-6\" /><text class=\"lab rgt\" transform=\"translate(5 0)\">12</text></g><g class=\"mut m14 s4\" transform=\"translate(0 -10.9946)\"><line x1=\"0\" x2=\"0\" y1=\"0\" y2=\"10.9946\" /><path class=\"sym\" d=\"M -3,-3 l 6,6 M -3,3 l 6,-6\" /><text class=\"lab rgt\" transform=\"translate(5 0)\">14</text></g><circle class=\"sym\" cx=\"0\" cy=\"0\" r=\"3\" /><text class=\"lab rgt\" transform=\"translate(3 -7.0)\">10</text></g><g class=\"a15 c2 m10 m11 m13 m8 node n14 p0 s2 s4\" transform=\"translate(-40.375 46.4945)\"><g class=\"a14 c2 node n11 p0\" transform=\"translate(-28.5 6.76431)\"><g class=\"a11 i0 leaf node n0 p0 sample\" transform=\"translate(-14.25 4.51699)\"><path class=\"edge\" d=\"M 0 0 V -4.51699 H 14.25\" /><rect class=\"sym\" height=\"6\" width=\"6\" x=\"-3\" y=\"-3\" /><text class=\"lab\" transform=\"translate(0 11)\">0</text></g><g class=\"a11 c2 node n8 p0\" transform=\"translate(14.25 3.27072)\"><g class=\"a8 i2 leaf node n5 p0 sample\" transform=\"translate(-9.5 1.24627)\"><path class=\"edge\" d=\"M 0 0 V -1.24627 H 9.5\" /><rect class=\"sym\" height=\"6\" width=\"6\" x=\"-3\" y=\"-3\" /><text class=\"lab\" transform=\"translate(0 11)\">5</text></g><g class=\"a8 i3 leaf node n7 p0 sample\" transform=\"translate(9.5 1.24627)\"><path class=\"edge\" d=\"M 0 0 V -1.24627 H -9.5\" /><rect class=\"sym\" height=\"6\" width=\"6\" x=\"-3\" y=\"-3\" /><text class=\"lab\" transform=\"translate(0 11)\">7</text></g><path class=\"edge\" d=\"M 0 0 V -3.27072 H -14.25\" /><circle class=\"sym\" cx=\"0\" cy=\"0\" r=\"3\" /><text class=\"lab rgt\" transform=\"translate(3 -7.0)\">8</text></g><path class=\"edge\" d=\"M 0 0 V -6.76431 H 28.5\" /><circle class=\"sym\" cx=\"0\" cy=\"0\" r=\"3\" /><text class=\"lab lft\" transform=\"translate(-3 -7.0)\">11</text></g><g class=\"a14 c2 node n13 p0\" transform=\"translate(28.5 0.615607)\"><g class=\"a13 i0 leaf m9 node n1 p0 s3 sample\" transform=\"translate(-14.25 10.6657)\"><path class=\"edge\" d=\"M 0 0 V -10.6657 H 14.25\" /><g class=\"mut m9 s3\" transform=\"translate(0 -9.36573)\"><line x1=\"0\" x2=\"0\" y1=\"0\" y2=\"9.36573\" /><path class=\"sym\" d=\"M -3,-3 l 6,6 M -3,3 l 6,-6\" /><text class=\"lab lft\" transform=\"translate(-5 0)\">9</text></g><rect class=\"sym\" height=\"6\" width=\"6\" x=\"-3\" y=\"-3\" /><text class=\"lab\" transform=\"translate(0 11)\">1</text></g><g class=\"a13 c2 node n12 p0\" transform=\"translate(14.25 2.53522)\"><g class=\"a12 i1 leaf node n2 p0 sample\" transform=\"translate(-9.5 8.13047)\"><path class=\"edge\" d=\"M 0 0 V -8.13047 H 9.5\" /><rect class=\"sym\" height=\"6\" width=\"6\" x=\"-3\" y=\"-3\" /><text class=\"lab\" transform=\"translate(0 11)\">2</text></g><g class=\"a12 i3 leaf node n6 p0 sample\" transform=\"translate(9.5 8.13047)\"><path class=\"edge\" d=\"M 0 0 V -8.13047 H -9.5\" /><rect class=\"sym\" height=\"6\" width=\"6\" x=\"-3\" y=\"-3\" /><text class=\"lab\" transform=\"translate(0 11)\">6</text></g><path class=\"edge\" d=\"M 0 0 V -2.53522 H -14.25\" /><circle class=\"sym\" cx=\"0\" cy=\"0\" r=\"3\" /><text class=\"lab rgt\" transform=\"translate(3 -7.0)\">12</text></g><path class=\"edge\" d=\"M 0 0 V -0.615607 H -28.5\" /><circle class=\"sym\" cx=\"0\" cy=\"0\" r=\"3\" /><text class=\"lab rgt\" transform=\"translate(3 -7.0)\">13</text></g><path class=\"edge\" d=\"M 0 0 V -46.4945 H 40.375\" /><g class=\"mut m10 s4\" transform=\"translate(0 -40.2187)\"><line x1=\"0\" x2=\"0\" y1=\"0\" y2=\"40.2187\" /><path class=\"sym\" d=\"M -3,-3 l 6,6 M -3,3 l 6,-6\" /><text class=\"lab lft\" transform=\"translate(-5 0)\">10</text></g><g class=\"mut m8 s2\" transform=\"translate(0 -38.572)\"><line x1=\"0\" x2=\"0\" y1=\"0\" y2=\"38.572\" /><path class=\"sym\" d=\"M -3,-3 l 6,6 M -3,3 l 6,-6\" /><text class=\"lab lft\" transform=\"translate(-5 0)\">8</text></g><g class=\"mut m11 s4\" transform=\"translate(0 -38.5508)\"><line x1=\"0\" x2=\"0\" y1=\"0\" y2=\"38.5508\" /><path class=\"sym\" d=\"M -3,-3 l 6,6 M -3,3 l 6,-6\" /><text class=\"lab lft\" transform=\"translate(-5 0)\">11</text></g><g class=\"mut m13 s4\" transform=\"translate(0 -24.0913)\"><line x1=\"0\" x2=\"0\" y1=\"0\" y2=\"24.0913\" /><path class=\"sym\" d=\"M -3,-3 l 6,6 M -3,3 l 6,-6\" /><text class=\"lab lft\" transform=\"translate(-5 0)\">13</text></g><circle class=\"sym\" cx=\"0\" cy=\"0\" r=\"3\" /><text class=\"lab lft\" transform=\"translate(-3 -7.0)\">14</text></g><circle class=\"sym\" cx=\"0\" cy=\"0\" r=\"3\" /><text class=\"lab\" transform=\"translate(0 -11)\">15</text></g></g></g><g class=\"tree t3\" transform=\"translate(596 0)\"><g class=\"plotbox\"><g class=\"c2 node n17 p0 root\" transform=\"translate(112.625 26.8)\"><g class=\"a17 c2 m15 m17 m18 node n10 p0 s5\" transform=\"translate(40.375 92.324)\"><g class=\"a10 i1 leaf node n3 p0 sample\" transform=\"translate(-9.5 2.27598)\"><path class=\"edge\" d=\"M 0 0 V -2.27598 H 9.5\" /><rect class=\"sym\" height=\"6\" width=\"6\" x=\"-3\" y=\"-3\" /><text class=\"lab\" transform=\"translate(0 11)\">3</text></g><g class=\"a10 i2 leaf node n4 p0 sample\" transform=\"translate(9.5 2.27598)\"><path class=\"edge\" d=\"M 0 0 V -2.27598 H -9.5\" /><rect class=\"sym\" height=\"6\" width=\"6\" x=\"-3\" y=\"-3\" /><text class=\"lab\" transform=\"translate(0 11)\">4</text></g><path class=\"edge\" d=\"M 0 0 V -92.324 H -40.375\" /><g class=\"mut m15 s5\" transform=\"translate(0 -69.2563)\"><line x1=\"0\" x2=\"0\" y1=\"0\" y2=\"69.2563\" /><path class=\"sym\" d=\"M -3,-3 l 6,6 M -3,3 l 6,-6\" /><text class=\"lab rgt\" transform=\"translate(5 0)\">15</text></g><g class=\"mut m17 s5\" transform=\"translate(0 -63.8769)\"><line x1=\"0\" x2=\"0\" y1=\"0\" y2=\"63.8769\" /><path class=\"sym\" d=\"M -3,-3 l 6,6 M -3,3 l 6,-6\" /><text class=\"lab rgt\" transform=\"translate(5 0)\">17</text></g><g class=\"mut m18 s5\" transform=\"translate(0 -63.3805)\"><line x1=\"0\" x2=\"0\" y1=\"0\" y2=\"63.3805\" /><path class=\"sym\" d=\"M -3,-3 l 6,6 M -3,3 l 6,-6\" /><text class=\"lab rgt\" transform=\"translate(5 0)\">18</text></g><circle class=\"sym\" cx=\"0\" cy=\"0\" r=\"3\" /><text class=\"lab rgt\" transform=\"translate(3 -7.0)\">10</text></g><g class=\"a17 c2 m16 node n14 p0 s5\" transform=\"translate(-40.375 83.3187)\"><g class=\"a14 c2 node n11 p0\" transform=\"translate(-28.5 6.76431)\"><g class=\"a11 i0 leaf node n0 p0 sample\" transform=\"translate(-14.25 4.51699)\"><path class=\"edge\" d=\"M 0 0 V -4.51699 H 14.25\" /><rect class=\"sym\" height=\"6\" width=\"6\" x=\"-3\" y=\"-3\" /><text class=\"lab\" transform=\"translate(0 11)\">0</text></g><g class=\"a11 c2 node n8 p0\" transform=\"translate(14.25 3.27072)\"><g class=\"a8 i2 leaf node n5 p0 sample\" transform=\"translate(-9.5 1.24627)\"><path class=\"edge\" d=\"M 0 0 V -1.24627 H 9.5\" /><rect class=\"sym\" height=\"6\" width=\"6\" x=\"-3\" y=\"-3\" /><text class=\"lab\" transform=\"translate(0 11)\">5</text></g><g class=\"a8 i3 leaf node n7 p0 sample\" transform=\"translate(9.5 1.24627)\"><path class=\"edge\" d=\"M 0 0 V -1.24627 H -9.5\" /><rect class=\"sym\" height=\"6\" width=\"6\" x=\"-3\" y=\"-3\" /><text class=\"lab\" transform=\"translate(0 11)\">7</text></g><path class=\"edge\" d=\"M 0 0 V -3.27072 H -14.25\" /><circle class=\"sym\" cx=\"0\" cy=\"0\" r=\"3\" /><text class=\"lab rgt\" transform=\"translate(3 -7.0)\">8</text></g><path class=\"edge\" d=\"M 0 0 V -6.76431 H 28.5\" /><circle class=\"sym\" cx=\"0\" cy=\"0\" r=\"3\" /><text class=\"lab lft\" transform=\"translate(-3 -7.0)\">11</text></g><g class=\"a14 c2 node n13 p0\" transform=\"translate(28.5 0.615607)\"><g class=\"a13 i0 leaf node n1 p0 sample\" transform=\"translate(-14.25 10.6657)\"><path class=\"edge\" d=\"M 0 0 V -10.6657 H 14.25\" /><rect class=\"sym\" height=\"6\" width=\"6\" x=\"-3\" y=\"-3\" /><text class=\"lab\" transform=\"translate(0 11)\">1</text></g><g class=\"a13 c2 node n12 p0\" transform=\"translate(14.25 2.53522)\"><g class=\"a12 i1 leaf m19 node n2 p0 s5 sample\" transform=\"translate(-9.5 8.13047)\"><path class=\"edge\" d=\"M 0 0 V -8.13047 H 9.5\" /><g class=\"mut m19 s5\" transform=\"translate(0 -4.38084)\"><line x1=\"0\" x2=\"0\" y1=\"0\" y2=\"4.38084\" /><path class=\"sym\" d=\"M -3,-3 l 6,6 M -3,3 l 6,-6\" /><text class=\"lab lft\" transform=\"translate(-5 0)\">19</text></g><rect class=\"sym\" height=\"6\" width=\"6\" x=\"-3\" y=\"-3\" /><text class=\"lab\" transform=\"translate(0 11)\">2</text></g><g class=\"a12 i3 leaf node n6 p0 sample\" transform=\"translate(9.5 8.13047)\"><path class=\"edge\" d=\"M 0 0 V -8.13047 H -9.5\" /><rect class=\"sym\" height=\"6\" width=\"6\" x=\"-3\" y=\"-3\" /><text class=\"lab\" transform=\"translate(0 11)\">6</text></g><path class=\"edge\" d=\"M 0 0 V -2.53522 H -14.25\" /><circle class=\"sym\" cx=\"0\" cy=\"0\" r=\"3\" /><text class=\"lab rgt\" transform=\"translate(3 -7.0)\">12</text></g><path class=\"edge\" d=\"M 0 0 V -0.615607 H -28.5\" /><circle class=\"sym\" cx=\"0\" cy=\"0\" r=\"3\" /><text class=\"lab rgt\" transform=\"translate(3 -7.0)\">13</text></g><path class=\"edge\" d=\"M 0 0 V -83.3187 H 40.375\" /><g class=\"mut m16 s5\" transform=\"translate(0 -56.5597)\"><line x1=\"0\" x2=\"0\" y1=\"0\" y2=\"56.5597\" /><path class=\"sym\" d=\"M -3,-3 l 6,6 M -3,3 l 6,-6\" /><text class=\"lab lft\" transform=\"translate(-5 0)\">16</text></g><circle class=\"sym\" cx=\"0\" cy=\"0\" r=\"3\" /><text class=\"lab lft\" transform=\"translate(-3 -7.0)\">14</text></g><circle class=\"sym\" cx=\"0\" cy=\"0\" r=\"3\" /><text class=\"lab\" transform=\"translate(0 -11)\">17</text></g></g></g><g class=\"tree t4\" transform=\"translate(788 0)\"><g class=\"plotbox\"><g class=\"c2 node n17 p0 root\" transform=\"translate(116.781 26.8)\"><g class=\"a17 c2 m20 m21 m23 node n10 p0 s6 s8\" transform=\"translate(36.2188 92.324)\"><g class=\"a10 i1 leaf node n3 p0 sample\" transform=\"translate(-9.5 2.27598)\"><path class=\"edge\" d=\"M 0 0 V -2.27598 H 9.5\" /><rect class=\"sym\" height=\"6\" width=\"6\" x=\"-3\" y=\"-3\" /><text class=\"lab\" transform=\"translate(0 11)\">3</text></g><g class=\"a10 i2 leaf node n4 p0 sample\" transform=\"translate(9.5 2.27598)\"><path class=\"edge\" d=\"M 0 0 V -2.27598 H -9.5\" /><rect class=\"sym\" height=\"6\" width=\"6\" x=\"-3\" y=\"-3\" /><text class=\"lab\" transform=\"translate(0 11)\">4</text></g><path class=\"edge\" d=\"M 0 0 V -92.324 H -36.2188\" /><g class=\"mut m23 s8\" transform=\"translate(0 -77.056)\"><line x1=\"0\" x2=\"0\" y1=\"0\" y2=\"77.056\" /><path class=\"sym\" d=\"M -3,-3 l 6,6 M -3,3 l 6,-6\" /><text class=\"lab rgt\" transform=\"translate(5 0)\">23</text></g><g class=\"mut m20 s6\" transform=\"translate(0 -29.1297)\"><line x1=\"0\" x2=\"0\" y1=\"0\" y2=\"29.1297\" /><path class=\"sym\" d=\"M -3,-3 l 6,6 M -3,3 l 6,-6\" /><text class=\"lab rgt\" transform=\"translate(5 0)\">20</text></g><g class=\"mut m21 s6\" transform=\"translate(0 -1.68845)\"><line x1=\"0\" x2=\"0\" y1=\"0\" y2=\"1.68845\" /><path class=\"sym\" d=\"M -3,-3 l 6,6 M -3,3 l 6,-6\" /><text class=\"lab rgt\" transform=\"translate(5 0)\">21</text></g><circle class=\"sym\" cx=\"0\" cy=\"0\" r=\"3\" /><text class=\"lab rgt\" transform=\"translate(3 -7.0)\">10</text></g><g class=\"a17 c2 m22 m24 node n14 p0 s7 s8\" transform=\"translate(-36.2188 83.3187)\"><g class=\"a14 c2 m25 node n11 p0 s8\" transform=\"translate(-34.4375 6.76431)\"><g class=\"a11 i0 leaf node n0 p0 sample\" transform=\"translate(-16.625 4.51699)\"><path class=\"edge\" d=\"M 0 0 V -4.51699 H 16.625\" /><rect class=\"sym\" height=\"6\" width=\"6\" x=\"-3\" y=\"-3\" /><text class=\"lab\" transform=\"translate(0 11)\">0</text></g><g class=\"a11 c2 node n9 p0\" transform=\"translate(16.625 2.89376)\"><g class=\"a9 i1 leaf node n2 p0 sample\" transform=\"translate(-14.25 1.62324)\"><path class=\"edge\" d=\"M 0 0 V -1.62324 H 14.25\" /><rect class=\"sym\" height=\"6\" width=\"6\" x=\"-3\" y=\"-3\" /><text class=\"lab\" transform=\"translate(0 11)\">2</text></g><g class=\"a9 c2 node n8 p0\" transform=\"translate(14.25 0.376964)\"><g class=\"a8 i2 leaf node n5 p0 sample\" transform=\"translate(-9.5 1.24627)\"><path class=\"edge\" d=\"M 0 0 V -1.24627 H 9.5\" /><rect class=\"sym\" height=\"6\" width=\"6\" x=\"-3\" y=\"-3\" /><text class=\"lab\" transform=\"translate(0 11)\">5</text></g><g class=\"a8 i3 leaf m26 node n7 p0 s8 sample\" transform=\"translate(9.5 1.24627)\"><path class=\"edge\" d=\"M 0 0 V -1.24627 H -9.5\" /><g class=\"mut m26 s8\" transform=\"translate(0 -0.00014255)\"><line x1=\"0\" x2=\"0\" y1=\"0\" y2=\"0.00014255\" /><path class=\"sym\" d=\"M -3,-3 l 6,6 M -3,3 l 6,-6\" /><text class=\"lab rgt\" transform=\"translate(5 0)\">26</text></g><rect class=\"sym\" height=\"6\" width=\"6\" x=\"-3\" y=\"-3\" /><text class=\"lab\" transform=\"translate(0 11)\">7</text></g><path class=\"edge\" d=\"M 0 0 V -0.376964 H -14.25\" /><circle class=\"sym\" cx=\"0\" cy=\"0\" r=\"3\" /><text class=\"lab rgt\" transform=\"translate(3 -7.0)\">8</text></g><path class=\"edge\" d=\"M 0 0 V -2.89376 H -16.625\" /><circle class=\"sym\" cx=\"0\" cy=\"0\" r=\"3\" /><text class=\"lab rgt\" transform=\"translate(3 -7.0)\">9</text></g><path class=\"edge\" d=\"M 0 0 V -6.76431 H 34.4375\" /><g class=\"mut m25 s8\" transform=\"translate(0 -2.82278)\"><line x1=\"0\" x2=\"0\" y1=\"0\" y2=\"2.82278\" /><path class=\"sym\" d=\"M -3,-3 l 6,6 M -3,3 l 6,-6\" /><text class=\"lab lft\" transform=\"translate(-5 0)\">25</text></g><circle class=\"sym\" cx=\"0\" cy=\"0\" r=\"3\" /><text class=\"lab lft\" transform=\"translate(-3 -7.0)\">11</text></g><g class=\"a14 c2 node n13 p0\" transform=\"translate(34.4375 0.615607)\"><g class=\"a13 i0 leaf node n1 p0 sample\" transform=\"translate(-9.5 10.6657)\"><path class=\"edge\" d=\"M 0 0 V -10.6657 H 9.5\" /><rect class=\"sym\" height=\"6\" width=\"6\" x=\"-3\" y=\"-3\" /><text class=\"lab\" transform=\"translate(0 11)\">1</text></g><g class=\"a13 i3 leaf node n6 p0 sample\" transform=\"translate(9.5 10.6657)\"><path class=\"edge\" d=\"M 0 0 V -10.6657 H -9.5\" /><rect class=\"sym\" height=\"6\" width=\"6\" x=\"-3\" y=\"-3\" /><text class=\"lab\" transform=\"translate(0 11)\">6</text></g><path class=\"edge\" d=\"M 0 0 V -0.615607 H -34.4375\" /><circle class=\"sym\" cx=\"0\" cy=\"0\" r=\"3\" /><text class=\"lab rgt\" transform=\"translate(3 -7.0)\">13</text></g><path class=\"edge\" d=\"M 0 0 V -83.3187 H 36.2188\" /><g class=\"mut m24 s8\" transform=\"translate(0 -17.6326)\"><line x1=\"0\" x2=\"0\" y1=\"0\" y2=\"17.6326\" /><path class=\"sym\" d=\"M -3,-3 l 6,6 M -3,3 l 6,-6\" /><text class=\"lab lft\" transform=\"translate(-5 0)\">24</text></g><g class=\"mut m22 s7\" transform=\"translate(0 -1.61363)\"><line x1=\"0\" x2=\"0\" y1=\"0\" y2=\"1.61363\" /><path class=\"sym\" d=\"M -3,-3 l 6,6 M -3,3 l 6,-6\" /><text class=\"lab lft\" transform=\"translate(-5 0)\">22</text></g><circle class=\"sym\" cx=\"0\" cy=\"0\" r=\"3\" /><text class=\"lab lft\" transform=\"translate(-3 -7.0)\">14</text></g><circle class=\"sym\" cx=\"0\" cy=\"0\" r=\"3\" /><text class=\"lab\" transform=\"translate(0 -11)\">17</text></g></g></g></g></g></svg>'"
      ]
     },
     "execution_count": 220,
     "metadata": {},
     "output_type": "execute_result"
    }
   ],
   "source": [
    "# ts = tskit.load(\"../tree-simple-1.tree\")\n",
    "ts = tskit.load(\"../test.tree\")\n",
    "ts.draw_svg()"
   ]
  },
  {
   "cell_type": "code",
   "execution_count": 192,
   "id": "3d1af090-8231-43b9-907c-8384868183d3",
   "metadata": {},
   "outputs": [],
   "source": [
    "def next_state_at(ts, tj, tk, t_left, sample_sets, parent=None, state=None):\n",
    "    I = ts.indexes_edge_insertion_order\n",
    "    O = ts.indexes_edge_removal_order\n",
    "    parent = -np.ones(ts.num_nodes, dtype=np.int32) if parent is None else parent\n",
    "\n",
    "    state = np.zeros((ts.num_nodes, len(sample_sets)), dtype=np.int32) if state is None else state\n",
    "\n",
    "    for i, sample_set in enumerate(sample_sets):\n",
    "        state[sample_set, i] = 1\n",
    "    \n",
    "    while (tk < ts.num_edges) and (ts.edges_right[O[tk]] == t_left):\n",
    "        h = O[tk]\n",
    "        tk += 1\n",
    "        u = ts.edges_child[h]\n",
    "        v = ts.edges_parent[h]\n",
    "    \n",
    "        while (v != -1):\n",
    "            # print(state[u])\n",
    "            # display.display(ts.draw_svg(size=(1000, 300), style=f'.a{v}.n{u} > .edge {{stroke: red; stroke-width: 2px}}'))\n",
    "            state[v] += -state[u]\n",
    "            v = parent[v]\n",
    "        parent[u] = -1\n",
    "    while (tj < ts.num_edges) and (ts.edges_left[I[tj]] == t_left):\n",
    "        h = I[tj]\n",
    "        tj += 1\n",
    "        u = ts.edges_child[h]\n",
    "        v = ts.edges_parent[h]\n",
    "        parent[u] = v\n",
    "        while (v != -1):\n",
    "            # print(state[u])\n",
    "            # display.display(ts.draw_svg(size=(1000, 300), style=f'.a{v}.n{u} > .edge {{stroke: cyan; stroke-width: 2px}}'))\n",
    "            state[v] += state[u]\n",
    "            v = parent[v]\n",
    "    t_right = ts.sequence_length\n",
    "    if (tj < ts.num_edges):\n",
    "        t_right = min(t_right, ts.edges_left[I[tj]])\n",
    "    if (tk < ts.num_edges):\n",
    "        t_right = min(t_right, ts.edges_right[O[tk]])\n",
    "\n",
    "    t_left = t_right\n",
    "    return tj, tk, t_left, parent, state"
   ]
  },
  {
   "cell_type": "code",
   "execution_count": 193,
   "id": "bcf16e97-fa83-45c3-88cb-8ed560e41b65",
   "metadata": {},
   "outputs": [],
   "source": [
    "def track_ab_haplotypes(ts, tk, tj, t_left, state):\n",
    "    I = ts.indexes_edge_insertion_order\n",
    "    O = ts.indexes_edge_removal_order\n",
    "\n",
    "    mut_parent = ts.edge(ts.mutation(0).edge).parent\n",
    "    if ts.edges_parent[mut_parent - 1] == mut_parent:\n",
    "        prune_edge = mut_parent - 1\n",
    "    elif ts.edges_parent[mut_parent + 1] == mut_parent:\n",
    "        prune_edge = mut_parent + 1\n",
    "    else:\n",
    "        raise Exception('Unexpected condition')\n",
    "\n",
    "    state = state.copy()\n",
    "    state[ts.edge(prune_edge).parent] -= state[ts.edge(prune_edge).child]\n",
    "\n",
    "    stack = []\n",
    "    stack.append(ts.edge(prune_edge).child)\n",
    "    while len(stack) > 0:\n",
    "        node = stack.pop()\n",
    "        state[node] -= state[node]\n",
    "        if right_child[node] != -1:\n",
    "            stack.append(right_child[node])\n",
    "        if left_child[node] != -1:\n",
    "            stack.append(left_child[node])\n",
    "\n",
    "    # walk over the edge diffs for the next tree\n",
    "    while out < ts.num_edges and ts.edges_right[O[out]] == t_left:\n",
    "        k = O[out]\n",
    "        out += 1\n",
    "        # NB redefine u here\n",
    "        u = ts.edges_parent[k]\n",
    "        c = ts.edges_child[k]\n",
    "        state[u] -= state[c]\n",
    "        # print(f'removed {k} {u} {c}')\n",
    "    while i < ts.num_edges and ts.edges_left[I[i]] == t_left:\n",
    "        k = I[i]\n",
    "        i += 1\n",
    "        u = ts.edges_parent[k]\n",
    "        c = ts.edges_child[k]\n",
    "        state[u] += state[c]\n",
    "        # print(f'added {k} {u} {c}')"
   ]
  },
  {
   "cell_type": "code",
   "execution_count": 261,
   "id": "3b3a4bdb-85f5-41ec-bd00-20f225f0a503",
   "metadata": {},
   "outputs": [],
   "source": [
    "def get_allele_weights(site, state):\n",
    "    allele_mat = np.zeros((len(site.mutations) + 1, len(sample_sets)))\n",
    "    allele_states = [site.ancestral_state]\n",
    "    num_alleles = 1\n",
    "    allele = 0\n",
    "    allele_mat[allele] = np.array(list(map(len, sample_sets)))\n",
    "    for mutation in site.mutations:\n",
    "\n",
    "        if mutation.derived_state in allele_states:\n",
    "            allele = allele_states.index(mutation.derived_state)\n",
    "        else:\n",
    "            allele_states.append(mutation.derived_state)\n",
    "            allele = len(allele_states) - 1\n",
    "            num_alleles += 1\n",
    "        allele_mat[allele] += state[mutation.node]\n",
    "\n",
    "        alt_allele = allele_states.index(site.ancestral_state)\n",
    "        if mutation.parent != -1:\n",
    "            # TODO haven't exercised this code path yet\n",
    "            alt_allele = allele_states.index(site.mutations[mutation.parent - site.mutations[0].id].derived_state)\n",
    "        allele_mat[alt_allele] -= state[mutation.node]\n",
    "\n",
    "    allele_state.append((len(allele_states), allele_mat))\n",
    "    return num_alleles, allele_mat"
   ]
  },
  {
   "cell_type": "code",
   "execution_count": 221,
   "id": "0d22aa12-ad3b-4563-92c1-e78e46c469b3",
   "metadata": {},
   "outputs": [
    {
     "data": {
      "text/plain": [
       "9"
      ]
     },
     "execution_count": 221,
     "metadata": {},
     "output_type": "execute_result"
    }
   ],
   "source": [
    "ts.num_sites"
   ]
  },
  {
   "cell_type": "code",
   "execution_count": 229,
   "id": "6210e5d8-9779-4181-9bdd-5a17ee6d2138",
   "metadata": {},
   "outputs": [],
   "source": [
    "def combos_w_replacement(n, k):\n",
    "    return np.math.factorial(n + k - 1) / (np.math.factorial(k) * np.math.factorial(n - 1))"
   ]
  },
  {
   "cell_type": "code",
   "execution_count": 230,
   "id": "eb930936-7d82-49f5-9fba-9e8da2a9c482",
   "metadata": {},
   "outputs": [
    {
     "data": {
      "text/plain": [
       "45.0"
      ]
     },
     "execution_count": 230,
     "metadata": {},
     "output_type": "execute_result"
    }
   ],
   "source": [
    "combos_w_replacement(9, 2)"
   ]
  },
  {
   "cell_type": "code",
   "execution_count": 199,
   "id": "839641f6-4155-44b4-b53e-0e5fb8c47f5f",
   "metadata": {},
   "outputs": [
    {
     "data": {
      "text/plain": [
       "(14,\n",
       " 0,\n",
       " 1.0,\n",
       " array([11, 13, 12, 10, 10,  8, 12,  8, 11, -1, 16, 14, 13, 14, 16, -1, -1,\n",
       "        -1], dtype=int32),\n",
       " array([[1],\n",
       "        [1],\n",
       "        [1],\n",
       "        [1],\n",
       "        [1],\n",
       "        [1],\n",
       "        [1],\n",
       "        [1],\n",
       "        [2],\n",
       "        [0],\n",
       "        [2],\n",
       "        [3],\n",
       "        [2],\n",
       "        [3],\n",
       "        [6],\n",
       "        [0],\n",
       "        [8],\n",
       "        [0]], dtype=int32))"
      ]
     },
     "execution_count": 199,
     "metadata": {},
     "output_type": "execute_result"
    }
   ],
   "source": [
    "next_state_at(\n",
    "ts=ts, tj=0, tk=0, t_left=0,\n",
    "sample_sets=sample_sets, parent=None, state=None\n",
    ")"
   ]
  },
  {
   "cell_type": "code",
   "execution_count": 263,
   "id": "952317ec-c84d-45f1-a638-7f585673251e",
   "metadata": {
    "tags": []
   },
   "outputs": [],
   "source": [
    "# sample_sets = [[0, 1, 2], [3, 4, 5], [4, 5, 6], [1, 2]]\n",
    "# sample_sets = [[0, 1, 2]]\n",
    "sample_sets = [list(ts.samples())]\n",
    "\n",
    "allele_state = []\n",
    "\n",
    "tj_left = 0\n",
    "tk_left = 0\n",
    "t_left_left = 0\n",
    "tree_index_left = 0\n",
    "parent_left = None\n",
    "state_left = None\n",
    "\n",
    "tj_right = 0\n",
    "tk_right = 0\n",
    "t_left_right = 0\n",
    "tree_index_right = 0\n",
    "parent_right = None\n",
    "state_right = None\n",
    "\n",
    "last = False\n",
    "\n",
    "\n",
    "while (tj_left < ts.num_edges) or (t_left_left < ts.sequence_length):\n",
    "    treeseq_state_left = next_state_at(\n",
    "        ts=ts, tj=tj_left, tk=tk_left, t_left=t_left_left,\n",
    "        sample_sets=sample_sets, parent=parent_left, state=state_left\n",
    "    )\n",
    "    tj_left, tk_left, t_left_left, parent_left, state_left = treeseq_state_left\n",
    "    tj_right, tk_right, t_left_right, parent_right, state_right = treeseq_state_left\n",
    "    parent_right = parent_right.copy()\n",
    "    state_right = state_right.copy()\n",
    "    tree_index_right = tree_index_left\n",
    "    if (tj_right >= ts.num_edges) or (t_left_right >= ts.sequence_length):\n",
    "        last = True\n",
    "\n",
    "    while (tj_right < ts.num_edges) or (t_left_right < ts.sequence_length) or last:\n",
    "        if tree_index_left != tree_index_right:\n",
    "            treeseq_state_right = next_state_at(\n",
    "                ts=ts, tj=tj_right, tk=tk_right, t_left=t_left_right,\n",
    "                sample_sets=sample_sets, parent=parent_right, state=state_right\n",
    "            )\n",
    "            tj_right, tk_right, t_left_right, parent_right, state_right = treeseq_state_right\n",
    "\n",
    "        num_sites_left = ts.at_index(tree_index_left).num_sites\n",
    "        num_sites_right = ts.at_index(tree_index_right).num_sites\n",
    "        left_sites = list(ts.at_index(tree_index_left).sites())  # ts->tree_sites[tree_index_left]\n",
    "        right_sites = list(ts.at_index(tree_index_right).sites())\n",
    "\n",
    "        if tree_index_left != tree_index_right:\n",
    "            for i in range(num_sites_left):\n",
    "                for j in range(num_sites_right):\n",
    "                    left_site = left_sites[i]\n",
    "                    right_site = right_sites[j]\n",
    "                    num_alleles_left, allele_mat_left = get_allele_weights(left_site, state_left)\n",
    "                    num_alleles_right, allele_mat_right = get_allele_weights(right_site, state_right)\n",
    "        else:\n",
    "            assert num_sites_left == num_sites_right\n",
    "            for i, j in pairs_with_replacement(num_sites_left):\n",
    "                left_site = left_sites[i]\n",
    "                right_site = right_sites[j]\n",
    "                num_alleles_left, allele_mat_left = get_allele_weights(left_site, state_left)\n",
    "                num_alleles_right, allele_mat_right = get_allele_weights(right_site, state_right)\n",
    "                \n",
    "        if last:\n",
    "            break\n",
    "        tree_index_right += 1\n",
    "    tree_index_left += 1\n",
    "\n",
    "# for _n_alleles, _a_state in allele_state:\n",
    "#     print(_a_state)\n",
    "# sample_sets = [[0, 1, 2], [3, 4, 5], [4, 5, 6], [1, 2]]"
   ]
  },
  {
   "cell_type": "code",
   "execution_count": 266,
   "id": "470ba539-e186-489e-aa69-6775e6b9689c",
   "metadata": {},
   "outputs": [
    {
     "data": {
      "text/plain": [
       "array([[3.],\n",
       "       [2.],\n",
       "       [2.],\n",
       "       [1.],\n",
       "       [0.]])"
      ]
     },
     "execution_count": 266,
     "metadata": {},
     "output_type": "execute_result"
    }
   ],
   "source": [
    "allele_mat_left"
   ]
  },
  {
   "cell_type": "code",
   "execution_count": 267,
   "id": "5c737148-1a21-4215-b129-64b162313072",
   "metadata": {},
   "outputs": [
    {
     "data": {
      "text/plain": [
       "4"
      ]
     },
     "execution_count": 267,
     "metadata": {},
     "output_type": "execute_result"
    }
   ],
   "source": [
    "num_alleles_left"
   ]
  },
  {
   "cell_type": "code",
   "execution_count": 255,
   "id": "d2f93b4a-9fb5-49ea-b23e-831ee38e2630",
   "metadata": {
    "scrolled": true,
    "tags": []
   },
   "outputs": [
    {
     "name": "stdout",
     "output_type": "stream",
     "text": [
      "site_id 0 0\n",
      "-------\n",
      "site_id 0 1\n",
      "-------\n",
      "site_id 1 1\n",
      "-------\n",
      "site_id 2 2\n",
      "-------\n",
      "site_id 2 3\n",
      "-------\n",
      "site_id 2 4\n",
      "-------\n",
      "site_id 3 3\n",
      "-------\n",
      "site_id 3 4\n",
      "-------\n",
      "site_id 4 4\n",
      "-------\n",
      "site_id 5 5\n",
      "-------\n",
      "site_id 6 6\n",
      "-------\n",
      "site_id 6 7\n",
      "-------\n",
      "site_id 6 8\n",
      "-------\n",
      "site_id 7 7\n",
      "-------\n",
      "site_id 7 8\n",
      "-------\n",
      "site_id 8 8\n",
      "-------\n",
      "site_id 0 0\n",
      "-------\n",
      "site_id 0 1\n",
      "-------\n",
      "site_id 0 2\n",
      "-------\n",
      "site_id 0 3\n",
      "-------\n",
      "site_id 0 4\n",
      "-------\n",
      "site_id 1 1\n",
      "-------\n",
      "site_id 1 2\n",
      "-------\n",
      "site_id 1 3\n",
      "-------\n",
      "site_id 1 4\n",
      "-------\n",
      "site_id 2 2\n",
      "-------\n",
      "site_id 2 3\n",
      "-------\n",
      "site_id 2 4\n",
      "-------\n",
      "site_id 3 3\n",
      "-------\n",
      "site_id 3 4\n",
      "-------\n",
      "site_id 4 4\n",
      "-------\n",
      "site_id 0 0\n",
      "-------\n",
      "site_id 0 1\n",
      "-------\n",
      "site_id 0 5\n",
      "-------\n",
      "site_id 1 1\n",
      "-------\n",
      "site_id 1 5\n",
      "-------\n",
      "site_id 5 5\n",
      "-------\n",
      "site_id 0 0\n",
      "-------\n",
      "site_id 0 1\n",
      "-------\n",
      "site_id 0 6\n",
      "-------\n",
      "site_id 0 7\n",
      "-------\n",
      "site_id 0 8\n",
      "-------\n",
      "site_id 1 1\n",
      "-------\n",
      "site_id 1 6\n",
      "-------\n",
      "site_id 1 7\n",
      "-------\n",
      "site_id 1 8\n",
      "-------\n",
      "site_id 6 6\n",
      "-------\n",
      "site_id 6 7\n",
      "-------\n",
      "site_id 6 8\n",
      "-------\n",
      "site_id 7 7\n",
      "-------\n",
      "site_id 7 8\n",
      "-------\n",
      "site_id 8 8\n",
      "-------\n",
      "site_id 2 2\n",
      "-------\n",
      "site_id 2 3\n",
      "-------\n",
      "site_id 2 4\n",
      "-------\n",
      "site_id 2 5\n",
      "-------\n",
      "site_id 3 3\n",
      "-------\n",
      "site_id 3 4\n",
      "-------\n",
      "site_id 3 5\n",
      "-------\n",
      "site_id 4 4\n",
      "-------\n",
      "site_id 4 5\n",
      "-------\n",
      "site_id 5 5\n",
      "-------\n",
      "site_id 2 2\n",
      "-------\n",
      "site_id 2 3\n",
      "-------\n",
      "site_id 2 4\n",
      "-------\n",
      "site_id 2 6\n",
      "-------\n",
      "site_id 2 7\n",
      "-------\n",
      "site_id 2 8\n",
      "-------\n",
      "site_id 3 3\n",
      "-------\n",
      "site_id 3 4\n",
      "-------\n",
      "site_id 3 6\n",
      "-------\n",
      "site_id 3 7\n",
      "-------\n",
      "site_id 3 8\n",
      "-------\n",
      "site_id 4 4\n",
      "-------\n",
      "site_id 4 6\n",
      "-------\n",
      "site_id 4 7\n",
      "-------\n",
      "site_id 4 8\n",
      "-------\n",
      "site_id 6 6\n",
      "-------\n",
      "site_id 6 7\n",
      "-------\n",
      "site_id 6 8\n",
      "-------\n",
      "site_id 7 7\n",
      "-------\n",
      "site_id 7 8\n",
      "-------\n",
      "site_id 8 8\n",
      "-------\n",
      "site_id 5 5\n",
      "-------\n",
      "site_id 5 6\n",
      "-------\n",
      "site_id 5 7\n",
      "-------\n",
      "site_id 5 8\n",
      "-------\n",
      "site_id 6 6\n",
      "-------\n",
      "site_id 6 7\n",
      "-------\n",
      "site_id 6 8\n",
      "-------\n",
      "site_id 7 7\n",
      "-------\n",
      "site_id 7 8\n",
      "-------\n",
      "site_id 8 8\n",
      "-------\n"
     ]
    }
   ],
   "source": [
    "# sample_sets = [[0, 1, 2], [3, 4, 5], [4, 5, 6], [1, 2]]\n",
    "# sample_sets = [[0, 1, 2]]\n",
    "sample_sets = [list(ts.samples())]\n",
    "\n",
    "allele_state = []\n",
    "\n",
    "tj_left = 0\n",
    "tk_left = 0\n",
    "t_left_left = 0\n",
    "tree_index_left = 0\n",
    "parent_left = None\n",
    "state_left = None\n",
    "\n",
    "tj_right = 0\n",
    "tk_right = 0\n",
    "t_left_right = 0\n",
    "tree_index_right = 0\n",
    "parent_right = None\n",
    "state_right = None\n",
    "\n",
    "last = False\n",
    "\n",
    "while (tj_left < ts.num_edges) or (t_left_left < ts.sequence_length):\n",
    "    treeseq_state_left = next_state_at(\n",
    "        ts=ts, tj=tj_left, tk=tk_left, t_left=t_left_left,\n",
    "        sample_sets=sample_sets, parent=parent_left, state=state_left\n",
    "    )\n",
    "    tj_left, tk_left, t_left_left, parent_left, state_left = treeseq_state_left\n",
    "    tj_right, tk_right, t_left_right, parent_right, state_right = treeseq_state_left\n",
    "    parent_right = parent_right.copy()\n",
    "    state_right = state_right.copy()\n",
    "    tree_index_right = tree_index_left\n",
    "    if (tj_right >= ts.num_edges) or (t_left_right >= ts.sequence_length):\n",
    "        last = True\n",
    "\n",
    "    while (tj_right < ts.num_edges) or (t_left_right < ts.sequence_length) or last:\n",
    "        if tree_index_left != tree_index_right:\n",
    "            treeseq_state_right = next_state_at(\n",
    "                ts=ts, tj=tj_right, tk=tk_right, t_left=t_left_right,\n",
    "                sample_sets=sample_sets, parent=parent_right, state=state_right\n",
    "            )\n",
    "            tj_right, tk_right, t_left_right, parent_right, state_right = treeseq_state_right\n",
    "\n",
    "        # for site in ts.at_index(tree_index_left).sites():  # ts->tree_sites[tree_index_left]\n",
    "        #     allele_mat = get_allele_weights(site, state_left)\n",
    "        num_sites_left = ts.at_index(tree_index_left).num_sites\n",
    "        num_sites_right = ts.at_index(tree_index_right).num_sites\n",
    "        left_sites = list(ts.at_index(tree_index_left).sites())\n",
    "        right_sites = list(ts.at_index(tree_index_right).sites())\n",
    "\n",
    "        if tree_index_left != tree_index_right:\n",
    "            # print('tree', tree_index_left, state_left.reshape(-1))\n",
    "            # print('tree', tree_index_right, state_right.reshape(-1))\n",
    "            for i, j in pairs_with_replacement(num_sites_left + num_sites_right):\n",
    "                left_site = left_sites[i] if i < num_sites_left else right_sites[i - num_sites_left]\n",
    "                right_site = left_sites[j] if j < num_sites_left else right_sites[j - num_sites_left]\n",
    "                allele_mat_left = get_allele_weights(left_site, state_left)\n",
    "                allele_mat_right = get_allele_weights(right_site, state_right)\n",
    "                # print('tree_index', tree_index_left, tree_index_right)\n",
    "                print('site_id', left_site.id, right_site.id)\n",
    "                # print(allele_mat_left, allele_mat_right, sep='\\n')\n",
    "                print('-------')\n",
    "\n",
    "        # print(tree_index_left, tree_index_right)\n",
    "        # print('-------')\n",
    "\n",
    "        if last:\n",
    "            break\n",
    "        tree_index_right += 1\n",
    "    tree_index_left += 1\n",
    "\n",
    "# for _n_alleles, _a_state in allele_state:\n",
    "#     print(_a_state)\n",
    "# sample_sets = [[0, 1, 2], [3, 4, 5], [4, 5, 6], [1, 2]]"
   ]
  },
  {
   "cell_type": "code",
   "execution_count": 202,
   "id": "017b3c0c-15cf-47f9-9ac1-144bac4c1716",
   "metadata": {},
   "outputs": [],
   "source": [
    "treeseq_state_right = next_state_at(\n",
    "    ts=ts, tj=tj_right, tk=tk_right, t_left=t_left_right,\n",
    "    sample_sets=sample_sets, parent=parent_right, state=state_right\n",
    ")\n",
    "tj_right, tk_right, t_left_right, parent_right, state_right = treeseq_state_right"
   ]
  },
  {
   "cell_type": "code",
   "execution_count": null,
   "id": "fe1f3414-0466-49e9-95b3-b6f132749871",
   "metadata": {},
   "outputs": [
    {
     "data": {
      "text/plain": [
       "array([[1],\n",
       "       [1],\n",
       "       [1],\n",
       "       [1],\n",
       "       [1],\n",
       "       [1],\n",
       "       [1],\n",
       "       [1],\n",
       "       [2],\n",
       "       [0],\n",
       "       [2],\n",
       "       [3],\n",
       "       [2],\n",
       "       [3],\n",
       "       [6],\n",
       "       [0],\n",
       "       [0],\n",
       "       [8]], dtype=int32)"
      ]
     },
     "execution_count": 203,
     "metadata": {},
     "output_type": "execute_result"
    }
   ],
   "source": [
    "state_left"
   ]
  },
  {
   "cell_type": "code",
   "execution_count": 197,
   "id": "54ec0eb2-25a3-4fee-8d33-9989e6c38dd4",
   "metadata": {},
   "outputs": [
    {
     "data": {
      "text/plain": [
       "array([11, 13,  9, 10, 10,  8, 13,  8,  9, 11, 17, 14, -1, 14, 17, -1, -1,\n",
       "       -1], dtype=int32)"
      ]
     },
     "execution_count": 197,
     "metadata": {},
     "output_type": "execute_result"
    }
   ],
   "source": [
    "parent_left"
   ]
  },
  {
   "cell_type": "code",
   "execution_count": 198,
   "id": "da7c7fdf-b88f-45db-9302-8ca07650db27",
   "metadata": {},
   "outputs": [
    {
     "data": {
      "text/plain": [
       "array([11, 13,  9, 10, 10,  8, 13,  8,  9, 11, 17, 14, -1, 14, 17, -1, -1,\n",
       "       -1], dtype=int32)"
      ]
     },
     "execution_count": 198,
     "metadata": {},
     "output_type": "execute_result"
    }
   ],
   "source": [
    "parent_right"
   ]
  },
  {
   "cell_type": "code",
   "execution_count": 183,
   "id": "f11766a6-43f9-4fca-944d-14fc3b456d9e",
   "metadata": {},
   "outputs": [
    {
     "name": "stdout",
     "output_type": "stream",
     "text": [
      "[ 1  1  1  1  1  1  1  1  2 15  2 38 -8 18  6 -8 -8 24]\n"
     ]
    }
   ],
   "source": []
  },
  {
   "cell_type": "code",
   "execution_count": null,
   "id": "8c7d8539-7d11-48ae-b451-03996695c416",
   "metadata": {},
   "outputs": [],
   "source": []
  },
  {
   "cell_type": "code",
   "execution_count": null,
   "id": "a5c91b7b-1bf4-452c-9c88-83b3ee8dfdee",
   "metadata": {},
   "outputs": [],
   "source": []
  },
  {
   "cell_type": "code",
   "execution_count": null,
   "id": "c82c58c6-e683-4f38-b3f6-8eb136547f15",
   "metadata": {},
   "outputs": [],
   "source": []
  },
  {
   "cell_type": "code",
   "execution_count": null,
   "id": "058c5c44-d4a7-44e3-93ec-d211245845ea",
   "metadata": {},
   "outputs": [],
   "source": []
  },
  {
   "cell_type": "code",
   "execution_count": null,
   "id": "10ae4b4a-6935-4940-8971-ff61a1c98120",
   "metadata": {},
   "outputs": [],
   "source": []
  },
  {
   "cell_type": "code",
   "execution_count": null,
   "id": "f05c01d0-d4db-4fa9-a768-46cdad19d605",
   "metadata": {},
   "outputs": [],
   "source": []
  },
  {
   "cell_type": "code",
   "execution_count": null,
   "id": "42b4766b-7bb5-4c30-ad19-6b2a3daf21a7",
   "metadata": {},
   "outputs": [],
   "source": []
  },
  {
   "cell_type": "code",
   "execution_count": null,
   "id": "c32212b3-9fd8-4306-8396-fcdd27d5f44a",
   "metadata": {},
   "outputs": [],
   "source": []
  },
  {
   "cell_type": "code",
   "execution_count": null,
   "id": "22ac0ebf-1fea-495b-8ae3-31decf9182cd",
   "metadata": {},
   "outputs": [],
   "source": []
  },
  {
   "cell_type": "code",
   "execution_count": null,
   "id": "17bf007a-f35d-4981-a2d4-0d328aca7759",
   "metadata": {},
   "outputs": [],
   "source": []
  },
  {
   "cell_type": "code",
   "execution_count": null,
   "id": "9ae02819-34da-4867-be3d-0512d1637c32",
   "metadata": {},
   "outputs": [],
   "source": []
  },
  {
   "cell_type": "code",
   "execution_count": null,
   "id": "d15ecdbf-edff-44c5-828d-538721d3c05f",
   "metadata": {},
   "outputs": [],
   "source": []
  },
  {
   "cell_type": "code",
   "execution_count": null,
   "id": "acdefbbe-9cae-4c8f-96c7-7f9a17a55a3d",
   "metadata": {},
   "outputs": [],
   "source": []
  },
  {
   "cell_type": "code",
   "execution_count": null,
   "id": "d50d1ef0-fd0f-4d08-b248-716411740c60",
   "metadata": {},
   "outputs": [],
   "source": []
  },
  {
   "cell_type": "code",
   "execution_count": 137,
   "id": "635d61ac-c2f1-418f-8b6b-a53514fa48d1",
   "metadata": {
    "tags": []
   },
   "outputs": [
    {
     "name": "stdout",
     "output_type": "stream",
     "text": [
      "0 0\n",
      "-------\n",
      "1 0\n",
      "-------\n",
      "1 1\n",
      "-------\n"
     ]
    },
    {
     "ename": "IndexError",
     "evalue": "Index out of bounds",
     "output_type": "error",
     "traceback": [
      "\u001b[0;31m---------------------------------------------------------------------------\u001b[0m",
      "\u001b[0;31mIndexError\u001b[0m                                Traceback (most recent call last)",
      "Input \u001b[0;32mIn [137]\u001b[0m, in \u001b[0;36m<cell line: 22>\u001b[0;34m()\u001b[0m\n\u001b[1;32m     40\u001b[0m     tj_right, tk_right, t_left_right, tree_index_right, state_right \u001b[38;5;241m=\u001b[39m treeseq_state_right\n\u001b[1;32m     42\u001b[0m \u001b[38;5;66;03m# for site in ts.at_index(tree_index_left).sites():  # ts->tree_sites[tree_index_left]\u001b[39;00m\n\u001b[1;32m     43\u001b[0m \u001b[38;5;66;03m#     allele_mat = get_allele_weights(site, state_left)\u001b[39;00m\n\u001b[0;32m---> 44\u001b[0m num_sites_left \u001b[38;5;241m=\u001b[39m \u001b[43mts\u001b[49m\u001b[38;5;241;43m.\u001b[39;49m\u001b[43mat_index\u001b[49m\u001b[43m(\u001b[49m\u001b[43mtree_index_left\u001b[49m\u001b[43m)\u001b[49m\u001b[38;5;241m.\u001b[39mnum_sites\n\u001b[1;32m     45\u001b[0m num_sites_right \u001b[38;5;241m=\u001b[39m ts\u001b[38;5;241m.\u001b[39mat_index(tree_index_right)\u001b[38;5;241m.\u001b[39mnum_sites\n\u001b[1;32m     46\u001b[0m left_sites \u001b[38;5;241m=\u001b[39m \u001b[38;5;28mlist\u001b[39m(ts\u001b[38;5;241m.\u001b[39mat_index(tree_index_left)\u001b[38;5;241m.\u001b[39msites())\n",
      "File \u001b[0;32m~/.conda/envs/tskit-dev-1/lib/python3.9/site-packages/tskit/trees.py:4787\u001b[0m, in \u001b[0;36mTreeSequence.at_index\u001b[0;34m(self, index, **kwargs)\u001b[0m\n\u001b[1;32m   4774\u001b[0m \u001b[38;5;124;03m\"\"\"\u001b[39;00m\n\u001b[1;32m   4775\u001b[0m \u001b[38;5;124;03mReturns the tree at the specified index. See also :meth:`Tree.seek_index`.\u001b[39;00m\n\u001b[1;32m   4776\u001b[0m \n\u001b[0;32m   (...)\u001b[0m\n\u001b[1;32m   4784\u001b[0m \u001b[38;5;124;03m:rtype: Tree\u001b[39;00m\n\u001b[1;32m   4785\u001b[0m \u001b[38;5;124;03m\"\"\"\u001b[39;00m\n\u001b[1;32m   4786\u001b[0m tree \u001b[38;5;241m=\u001b[39m Tree(\u001b[38;5;28mself\u001b[39m, \u001b[38;5;241m*\u001b[39m\u001b[38;5;241m*\u001b[39mkwargs)\n\u001b[0;32m-> 4787\u001b[0m \u001b[43mtree\u001b[49m\u001b[38;5;241;43m.\u001b[39;49m\u001b[43mseek_index\u001b[49m\u001b[43m(\u001b[49m\u001b[43mindex\u001b[49m\u001b[43m)\u001b[49m\n\u001b[1;32m   4788\u001b[0m \u001b[38;5;28;01mreturn\u001b[39;00m tree\n",
      "File \u001b[0;32m~/.conda/envs/tskit-dev-1/lib/python3.9/site-packages/tskit/trees.py:826\u001b[0m, in \u001b[0;36mTree.seek_index\u001b[0;34m(self, index)\u001b[0m\n\u001b[1;32m    824\u001b[0m     index \u001b[38;5;241m+\u001b[39m\u001b[38;5;241m=\u001b[39m num_trees\n\u001b[1;32m    825\u001b[0m \u001b[38;5;28;01mif\u001b[39;00m index \u001b[38;5;241m<\u001b[39m \u001b[38;5;241m0\u001b[39m \u001b[38;5;129;01mor\u001b[39;00m index \u001b[38;5;241m>\u001b[39m\u001b[38;5;241m=\u001b[39m num_trees:\n\u001b[0;32m--> 826\u001b[0m     \u001b[38;5;28;01mraise\u001b[39;00m \u001b[38;5;167;01mIndexError\u001b[39;00m(\u001b[38;5;124m\"\u001b[39m\u001b[38;5;124mIndex out of bounds\u001b[39m\u001b[38;5;124m\"\u001b[39m)\n\u001b[1;32m    827\u001b[0m \u001b[38;5;66;03m# This should be implemented in C efficiently using the indexes.\u001b[39;00m\n\u001b[1;32m    828\u001b[0m \u001b[38;5;66;03m# No point in complicating the current implementation by trying\u001b[39;00m\n\u001b[1;32m    829\u001b[0m \u001b[38;5;66;03m# to seek from the correct direction.\u001b[39;00m\n\u001b[1;32m    830\u001b[0m \u001b[38;5;28mself\u001b[39m\u001b[38;5;241m.\u001b[39mfirst()\n",
      "\u001b[0;31mIndexError\u001b[0m: Index out of bounds"
     ]
    }
   ],
   "source": [
    "# sample_sets = [[0, 1, 2], [3, 4, 5], [4, 5, 6], [1, 2]]\n",
    "sample_sets = [[0, 1, 2]]\n",
    "\n",
    "allele_state = []\n",
    "\n",
    "tj_left = 0\n",
    "tk_left = 0\n",
    "t_left_left = 0\n",
    "tree_index_left = 0\n",
    "parent_left = None\n",
    "state_left = None\n",
    "\n",
    "tj_right = 0\n",
    "tk_right = 0\n",
    "t_left_right = 0\n",
    "tree_index_right = 0\n",
    "parent_right = None\n",
    "state_right = None\n",
    "\n",
    "at_end = 1\n",
    "\n",
    "while (tj_left < ts.num_edges) or (t_left_left < ts.sequence_length):\n",
    "    if at_end:\n",
    "        treeseq_state_left = next_state_at(\n",
    "            ts=ts, tj=tj_left, tk=tk_left, t_left=t_left_left,\n",
    "            tree_index=tree_index_left, sample_sets=sample_sets, parent=parent_left, state=state_left\n",
    "        )\n",
    "        tj_left, tk_left, t_left_left, tree_index_left, state_left = treeseq_state_left\n",
    "        tj_right, tk_right, t_left_right, tree_index_right, state_right = treeseq_state_left\n",
    "\n",
    "    if (tj_right >= ts.num_edges) or (t_left_right >= ts.sequence_length):\n",
    "        at_end = 1\n",
    "    elif at_end:\n",
    "        pass\n",
    "    else:\n",
    "        treeseq_state_right = next_state_at(\n",
    "            ts=ts, tj=tj_right, tk=tk_right, t_left=t_left_right,\n",
    "            tree_index=tree_index_right, sample_sets=sample_sets, parent=parent_right, state=state_right\n",
    "        )\n",
    "        tj_right, tk_right, t_left_right, tree_index_right, state_right = treeseq_state_right\n",
    "\n",
    "    # for site in ts.at_index(tree_index_left).sites():  # ts->tree_sites[tree_index_left]\n",
    "    #     allele_mat = get_allele_weights(site, state_left)\n",
    "    num_sites_left = ts.at_index(tree_index_left).num_sites\n",
    "    num_sites_right = ts.at_index(tree_index_right).num_sites\n",
    "    left_sites = list(ts.at_index(tree_index_left).sites())\n",
    "    right_sites = list(ts.at_index(tree_index_right).sites())\n",
    "\n",
    "    # print(num_sites_left, num_sites_right)\n",
    "    # print([\n",
    "    #     (\n",
    "    #         i if i < num_sites_left else i - num_sites_left,\n",
    "    #         j if j < num_sites_left else j - num_sites_left\n",
    "    #     )\n",
    "    #     for i, j in pairs_with_replacement(num_sites_left + num_sites_right)\n",
    "    # ])\n",
    "    print(tree_index_left, tree_index_right)\n",
    "    print('-------')\n",
    "    # for i, j in pairs_with_replacement(num_sites_left + num_sites_right):\n",
    "    #     left_site = left_sites[i] if i < num_sites_left else right_sites[i - num_sites_left]\n",
    "    #     right_site = left_sites[j] if j < num_sites_left else right_sites[j - num_sites_left]\n",
    "    #     allele_mat_left = get_allele_weights(left_site, state_left)\n",
    "    #     allele_mat_right = get_allele_weights(right_site, state_right)\n",
    "    #     print(tree_index_left, tree_index_right)\n",
    "    #     print(left_site.id, right_site.id)\n",
    "    #     print(allele_mat_left, allele_mat_right, sep='\\n')\n",
    "    #     print('-------')\n",
    "\n",
    "    if at_end:\n",
    "        tree_index_left += 1\n",
    "        at_end = 0\n",
    "        tree_index_right = 0\n",
    "    else:\n",
    "        tree_index_right += 1\n",
    "\n",
    "# for _n_alleles, _a_state in allele_state:\n",
    "#     print(_a_state)\n",
    "# sample_sets = [[0, 1, 2], [3, 4, 5], [4, 5, 6], [1, 2]]"
   ]
  },
  {
   "cell_type": "code",
   "execution_count": 130,
   "id": "3dadea5d-c33e-4b2e-b7c0-0d1802d61a40",
   "metadata": {},
   "outputs": [
    {
     "data": {
      "text/plain": [
       "[Site(id=1, position=14.0, ancestral_state='G', mutations=[Mutation(id=1, site=1, node=2, derived_state='A', parent=-1, metadata=b'', time=nan, edge=6)], metadata=b'')]"
      ]
     },
     "execution_count": 130,
     "metadata": {},
     "output_type": "execute_result"
    }
   ],
   "source": [
    "left_sites"
   ]
  },
  {
   "cell_type": "code",
   "execution_count": 99,
   "id": "1fda9957-695e-48aa-a5e8-535ef03e4e0a",
   "metadata": {},
   "outputs": [
    {
     "data": {
      "text/plain": [
       "array([[1],\n",
       "       [1],\n",
       "       [1],\n",
       "       [0],\n",
       "       [0],\n",
       "       [2],\n",
       "       [3]], dtype=int32)"
      ]
     },
     "execution_count": 99,
     "metadata": {},
     "output_type": "execute_result"
    }
   ],
   "source": [
    "state_left"
   ]
  },
  {
   "cell_type": "code",
   "execution_count": 98,
   "id": "13bf032a-4774-463c-bcc5-2d1d0fc9c59e",
   "metadata": {},
   "outputs": [
    {
     "data": {
      "text/plain": [
       "array([[1],\n",
       "       [1],\n",
       "       [1],\n",
       "       [0],\n",
       "       [0],\n",
       "       [2],\n",
       "       [3]], dtype=int32)"
      ]
     },
     "execution_count": 98,
     "metadata": {},
     "output_type": "execute_result"
    }
   ],
   "source": [
    "state_right"
   ]
  },
  {
   "cell_type": "code",
   "execution_count": 79,
   "id": "b9ff812f-ff69-4420-9bc3-ae7b1154e7f5",
   "metadata": {},
   "outputs": [],
   "source": [
    "def pairs_with_replacement(n):\n",
    "    subloop_start = 0\n",
    "    for i in range(n):\n",
    "        for j in range(subloop_start, n):\n",
    "            yield i, j\n",
    "        subloop_start += 1"
   ]
  },
  {
   "cell_type": "code",
   "execution_count": 126,
   "id": "8211aa0a-6582-4738-82d8-0153731952db",
   "metadata": {},
   "outputs": [
    {
     "data": {
      "text/plain": [
       "True"
      ]
     },
     "execution_count": 126,
     "metadata": {},
     "output_type": "execute_result"
    }
   ],
   "source": [
    "# yyy = ['x', 'y', 'z']\n",
    "# zzz = ['a', 'b', 'c', 'd', 'e']\n",
    "yyy = ['y']\n",
    "zzz = ['z']\n",
    "\n",
    "ppp = [\n",
    "    (yyy[yyy_i] if yyy_i < len(yyy) else zzz[yyy_i - len(yyy)],\n",
    "     yyy[zzz_i] if zzz_i < len(yyy) else zzz[zzz_i - len(yyy)])\n",
    "    for yyy_i, zzz_i in list(pairs_with_replacement(len(yyy) + len(zzz)))\n",
    "]\n",
    "\n",
    "from itertools import combinations_with_replacement\n",
    "list(combinations_with_replacement(yyy + zzz, 2)) == ppp"
   ]
  },
  {
   "cell_type": "code",
   "execution_count": 17,
   "id": "d5331717-133b-4d24-b5cd-58e5cb3da3e0",
   "metadata": {},
   "outputs": [
    {
     "data": {
      "text/plain": [
       "array([[2.],\n",
       "       [1.]])"
      ]
     },
     "execution_count": 17,
     "metadata": {},
     "output_type": "execute_result"
    }
   ],
   "source": [
    "allele_mat"
   ]
  },
  {
   "cell_type": "code",
   "execution_count": 18,
   "id": "b6984b92-ce7b-4494-8758-8c669eedea21",
   "metadata": {},
   "outputs": [
    {
     "data": {
      "text/plain": [
       "array([[1],\n",
       "       [1],\n",
       "       [1],\n",
       "       [0],\n",
       "       [0],\n",
       "       [2],\n",
       "       [3]], dtype=int32)"
      ]
     },
     "execution_count": 18,
     "metadata": {},
     "output_type": "execute_result"
    }
   ],
   "source": [
    "state_left"
   ]
  },
  {
   "cell_type": "code",
   "execution_count": 5,
   "id": "e05988cd-62bd-4906-aa21-1486af0e58ad",
   "metadata": {},
   "outputs": [],
   "source": [
    "def diversity_summary_func(state, sample_sets):\n",
    "    x = state\n",
    "    n = np.array([len(ss) for ss in sample_sets])  # sample_set_sizes\n",
    "    return x * (n - x) / (n * (n - 1))"
   ]
  },
  {
   "cell_type": "code",
   "execution_count": 6,
   "id": "942dbd68-9f79-41b3-a5a9-248bc20fd857",
   "metadata": {},
   "outputs": [],
   "source": [
    "stats = []\n",
    "for _n_alleles, _a_state in allele_state:\n",
    "    for i in range(_n_alleles):  # If polarized, range from 1\n",
    "        stats.append(diversity_summary_func(_a_state[i], sample_sets))"
   ]
  },
  {
   "cell_type": "code",
   "execution_count": 7,
   "id": "4a2efbd8-46b9-4d9e-a079-25b1b145fc39",
   "metadata": {},
   "outputs": [
    {
     "ename": "ValueError",
     "evalue": "need at least one array to concatenate",
     "output_type": "error",
     "traceback": [
      "\u001b[0;31m---------------------------------------------------------------------------\u001b[0m",
      "\u001b[0;31mValueError\u001b[0m                                Traceback (most recent call last)",
      "Input \u001b[0;32mIn [7]\u001b[0m, in \u001b[0;36m<cell line: 1>\u001b[0;34m()\u001b[0m\n\u001b[0;32m----> 1\u001b[0m \u001b[43mnp\u001b[49m\u001b[38;5;241;43m.\u001b[39;49m\u001b[43mvstack\u001b[49m\u001b[43m(\u001b[49m\u001b[43mstats\u001b[49m\u001b[43m)\u001b[49m\u001b[38;5;241m.\u001b[39msum(\u001b[38;5;241m0\u001b[39m)\n",
      "File \u001b[0;32m<__array_function__ internals>:180\u001b[0m, in \u001b[0;36mvstack\u001b[0;34m(*args, **kwargs)\u001b[0m\n",
      "File \u001b[0;32m~/.conda/envs/tskit-dev-1/lib/python3.9/site-packages/numpy/core/shape_base.py:282\u001b[0m, in \u001b[0;36mvstack\u001b[0;34m(tup)\u001b[0m\n\u001b[1;32m    280\u001b[0m \u001b[38;5;28;01mif\u001b[39;00m \u001b[38;5;129;01mnot\u001b[39;00m \u001b[38;5;28misinstance\u001b[39m(arrs, \u001b[38;5;28mlist\u001b[39m):\n\u001b[1;32m    281\u001b[0m     arrs \u001b[38;5;241m=\u001b[39m [arrs]\n\u001b[0;32m--> 282\u001b[0m \u001b[38;5;28;01mreturn\u001b[39;00m \u001b[43m_nx\u001b[49m\u001b[38;5;241;43m.\u001b[39;49m\u001b[43mconcatenate\u001b[49m\u001b[43m(\u001b[49m\u001b[43marrs\u001b[49m\u001b[43m,\u001b[49m\u001b[43m \u001b[49m\u001b[38;5;241;43m0\u001b[39;49m\u001b[43m)\u001b[49m\n",
      "File \u001b[0;32m<__array_function__ internals>:180\u001b[0m, in \u001b[0;36mconcatenate\u001b[0;34m(*args, **kwargs)\u001b[0m\n",
      "\u001b[0;31mValueError\u001b[0m: need at least one array to concatenate"
     ]
    }
   ],
   "source": [
    "np.vstack(stats).sum(0)"
   ]
  },
  {
   "cell_type": "code",
   "execution_count": 8,
   "id": "2248d5fa-0100-43b9-b133-9a9cccd6ef0e",
   "metadata": {
    "scrolled": true,
    "tags": []
   },
   "outputs": [],
   "source": [
    "# display.display(display.Markdown(\"# Edge Insertion Order\"))\n",
    "# for i in I:\n",
    "#     edge = ts.edge(i)\n",
    "#     display.display(ts.draw_svg(style=f'.a{edge.parent}.n{edge.child} > .edge {{stroke: cyan; stroke-width: 2px}}'))"
   ]
  },
  {
   "cell_type": "code",
   "execution_count": 8,
   "id": "3e509e7b-7c3a-4d27-8004-5045e7f68233",
   "metadata": {
    "scrolled": true,
    "tags": []
   },
   "outputs": [],
   "source": [
    "# display.display(display.Markdown(\"# Edge Removal Order\"))\n",
    "# for i in O:\n",
    "#     edge = ts.edge(i)\n",
    "#     display.display(ts.draw_svg(style=f'.a{edge.parent}.n{edge.child} > .edge {{stroke: cyan; stroke-width: 2px}}'))"
   ]
  }
 ],
 "metadata": {
  "kernelspec": {
   "display_name": "tskit-dev-1",
   "language": "python",
   "name": "tskit-dev-1"
  },
  "language_info": {
   "codemirror_mode": {
    "name": "ipython",
    "version": 3
   },
   "file_extension": ".py",
   "mimetype": "text/x-python",
   "name": "python",
   "nbconvert_exporter": "python",
   "pygments_lexer": "ipython3",
   "version": "3.9.13"
  }
 },
 "nbformat": 4,
 "nbformat_minor": 5
}
