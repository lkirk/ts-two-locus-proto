{
 "cells": [
  {
   "cell_type": "markdown",
   "id": "a0ba2fec-bfee-4ef8-a26e-a55a57cd042a",
   "metadata": {},
   "source": [
    "# "
   ]
  },
  {
   "cell_type": "code",
   "execution_count": 183,
   "id": "628d1f2f-1e2e-4fee-b360-f0f9e939c11d",
   "metadata": {},
   "outputs": [],
   "source": [
    "from itertools import combinations\n",
    "import math\n",
    "\n",
    "import tskit\n",
    "import msprime\n",
    "import numpy as np"
   ]
  },
  {
   "cell_type": "code",
   "execution_count": 159,
   "id": "9edf30d5-0135-4fd8-a9c1-2ab1205fd423",
   "metadata": {},
   "outputs": [
    {
     "data": {
      "image/svg+xml": [
       "<svg baseProfile=\"full\" height=\"200\" version=\"1.1\" width=\"400\" xmlns=\"http://www.w3.org/2000/svg\" xmlns:ev=\"http://www.w3.org/2001/xml-events\" xmlns:xlink=\"http://www.w3.org/1999/xlink\"><defs><style type=\"text/css\"><![CDATA[.background path {fill: #808080; fill-opacity: 0}.background path:nth-child(odd) {fill-opacity: .1}.axes {font-size: 14px}.x-axis .tick .lab {font-weight: bold; dominant-baseline: hanging}.axes, .tree {font-size: 14px; text-anchor: middle}.axes line, .edge {stroke: black; fill: none}.axes .ax-skip {stroke-dasharray: 4}.y-axis .grid {stroke: #FAFAFA}.node > .sym {fill: black; stroke: none}.site > .sym {stroke: black}.mut text {fill: red; font-style: italic}.mut.extra text {fill: hotpink}.mut line {fill: none; stroke: none}.mut .sym {fill: none; stroke: red}.mut.extra .sym {stroke: hotpink}.node .mut .sym {stroke-width: 1.5px}.tree text, .tree-sequence text {dominant-baseline: central}.plotbox .lab.lft {text-anchor: end}.plotbox .lab.rgt {text-anchor: start}]]></style></defs><g class=\"tree-sequence\"><g class=\"background\"><path d=\"M20,0 l180,0 l0,138.2 l0,25 l0,5 l-180,0 l0,-5 l0,-25 l0,-138.2z\" /><path d=\"M200,0 l180,0 l0,138.2 l0,25 l0,5 l-180,0 l0,-5 l0,-25 l0,-138.2z\" /></g><g class=\"axes\"><g class=\"x-axis\"><g class=\"title\" transform=\"translate(200 200)\"><text class=\"lab\" text-anchor=\"middle\" transform=\"translate(0 -11)\">Genome position</text></g><line class=\"ax-line\" x1=\"20\" x2=\"380\" y1=\"163.2\" y2=\"163.2\" /><g class=\"ticks\"><g class=\"tick\" transform=\"translate(20 163.2)\"><line x1=\"0\" x2=\"0\" y1=\"0\" y2=\"5\" /><g transform=\"translate(0 6)\"><text class=\"lab\">0</text></g></g><g class=\"tick\" transform=\"translate(200 163.2)\"><line x1=\"0\" x2=\"0\" y1=\"0\" y2=\"5\" /><g transform=\"translate(0 6)\"><text class=\"lab\">1</text></g></g><g class=\"tick\" transform=\"translate(380 163.2)\"><line x1=\"0\" x2=\"0\" y1=\"0\" y2=\"5\" /><g transform=\"translate(0 6)\"><text class=\"lab\">2</text></g></g></g><g class=\"site s0\" transform=\"translate(20 163.2)\"><line class=\"sym\" x1=\"0\" x2=\"0\" y1=\"0\" y2=\"-10\" /><g class=\"mut m3\"><polyline class=\"sym\" points=\"2.5,-6.5 0,-1.5 -2.5,-6.5\" /></g><g class=\"mut m2\"><polyline class=\"sym\" points=\"2.5,-10.5 0,-5.5 -2.5,-10.5\" /></g><g class=\"mut m1\"><polyline class=\"sym\" points=\"2.5,-14.5 0,-9.5 -2.5,-14.5\" /></g><g class=\"mut m0\"><polyline class=\"sym\" points=\"2.5,-18.5 0,-13.5 -2.5,-18.5\" /></g></g><g class=\"site s1\" transform=\"translate(200 163.2)\"><line class=\"sym\" x1=\"0\" x2=\"0\" y1=\"0\" y2=\"-10\" /><g class=\"mut m10\"><polyline class=\"sym\" points=\"2.5,-6.5 0,-1.5 -2.5,-6.5\" /></g><g class=\"mut m9\"><polyline class=\"sym\" points=\"2.5,-10.5 0,-5.5 -2.5,-10.5\" /></g><g class=\"mut m8\"><polyline class=\"sym\" points=\"2.5,-14.5 0,-9.5 -2.5,-14.5\" /></g><g class=\"mut m7\"><polyline class=\"sym\" points=\"2.5,-18.5 0,-13.5 -2.5,-18.5\" /></g><g class=\"mut m6\"><polyline class=\"sym\" points=\"2.5,-22.5 0,-17.5 -2.5,-22.5\" /></g><g class=\"mut m5\"><polyline class=\"sym\" points=\"2.5,-26.5 0,-21.5 -2.5,-26.5\" /></g><g class=\"mut m4\"><polyline class=\"sym\" points=\"2.5,-30.5 0,-25.5 -2.5,-30.5\" /></g></g></g></g><g class=\"plotbox trees\"><g class=\"tree t0\" transform=\"translate(20 0)\"><g class=\"plotbox\"><g class=\"c2 node n7 p0 root\" transform=\"translate(76.875 26.8)\"><g class=\"a7 i0 leaf node n0 p0 sample\" transform=\"translate(-39.375 94.6)\"><path class=\"edge\" d=\"M 0 0 V -94.6 H 39.375\" /><rect class=\"sym\" height=\"6\" width=\"6\" x=\"-3\" y=\"-3\" /><text class=\"lab\" transform=\"translate(0 11)\">0</text></g><g class=\"a7 c2 m0 node n5 p0 s0\" transform=\"translate(39.375 30.9901)\"><g class=\"a5 i1 leaf m1 node n3 p0 s0 sample\" transform=\"translate(26.25 63.6099)\"><path class=\"edge\" d=\"M 0 0 V -63.6099 H -26.25\" /><g class=\"mut m1 s0\" transform=\"translate(0 -58.7672)\"><line x1=\"0\" x2=\"0\" y1=\"0\" y2=\"58.7672\" /><path class=\"sym\" d=\"M -3,-3 l 6,6 M -3,3 l 6,-6\" /><text class=\"lab rgt\" transform=\"translate(5 0)\">1</text></g><rect class=\"sym\" height=\"6\" width=\"6\" x=\"-3\" y=\"-3\" /><text class=\"lab\" transform=\"translate(0 11)\">3</text></g><g class=\"a5 c2 m2 m3 node n4 p0 s0\" transform=\"translate(-26.25 52.1519)\"><g class=\"a4 i0 leaf node n1 p0 sample\" transform=\"translate(-17.5 11.458)\"><path class=\"edge\" d=\"M 0 0 V -11.458 H 17.5\" /><rect class=\"sym\" height=\"6\" width=\"6\" x=\"-3\" y=\"-3\" /><text class=\"lab\" transform=\"translate(0 11)\">1</text></g><g class=\"a4 i1 leaf node n2 p0 sample\" transform=\"translate(17.5 11.458)\"><path class=\"edge\" d=\"M 0 0 V -11.458 H -17.5\" /><rect class=\"sym\" height=\"6\" width=\"6\" x=\"-3\" y=\"-3\" /><text class=\"lab\" transform=\"translate(0 11)\">2</text></g><path class=\"edge\" d=\"M 0 0 V -52.1519 H 26.25\" /><g class=\"mut m2 s0\" transform=\"translate(0 -37.2833)\"><line x1=\"0\" x2=\"0\" y1=\"0\" y2=\"37.2833\" /><path class=\"sym\" d=\"M -3,-3 l 6,6 M -3,3 l 6,-6\" /><text class=\"lab lft\" transform=\"translate(-5 0)\">2</text></g><g class=\"mut m3 s0\" transform=\"translate(0 -23.9761)\"><line x1=\"0\" x2=\"0\" y1=\"0\" y2=\"23.9761\" /><path class=\"sym\" d=\"M -3,-3 l 6,6 M -3,3 l 6,-6\" /><text class=\"lab lft\" transform=\"translate(-5 0)\">3</text></g><circle class=\"sym\" cx=\"0\" cy=\"0\" r=\"3\" /><text class=\"lab lft\" transform=\"translate(-3 -7.0)\">4</text></g><path class=\"edge\" d=\"M 0 0 V -30.9901 H -39.375\" /><g class=\"mut m0 s0\" transform=\"translate(0 -27.7981)\"><line x1=\"0\" x2=\"0\" y1=\"0\" y2=\"27.7981\" /><path class=\"sym\" d=\"M -3,-3 l 6,6 M -3,3 l 6,-6\" /><text class=\"lab rgt\" transform=\"translate(5 0)\">0</text></g><circle class=\"sym\" cx=\"0\" cy=\"0\" r=\"3\" /><text class=\"lab rgt\" transform=\"translate(3 -7.0)\">5</text></g><circle class=\"sym\" cx=\"0\" cy=\"0\" r=\"3\" /><text class=\"lab\" transform=\"translate(0 -11)\">7</text></g></g></g><g class=\"tree t1\" transform=\"translate(200 0)\"><g class=\"plotbox\"><g class=\"c2 node n7 p0 root\" transform=\"translate(90 26.8)\"><g class=\"a7 c2 m4 m5 m6 m7 m9 node n4 p0 s1\" transform=\"translate(35 83.142)\"><g class=\"a4 i0 leaf node n1 p0 sample\" transform=\"translate(-17.5 11.458)\"><path class=\"edge\" d=\"M 0 0 V -11.458 H 17.5\" /><rect class=\"sym\" height=\"6\" width=\"6\" x=\"-3\" y=\"-3\" /><text class=\"lab\" transform=\"translate(0 11)\">1</text></g><g class=\"a4 i1 leaf node n2 p0 sample\" transform=\"translate(17.5 11.458)\"><path class=\"edge\" d=\"M 0 0 V -11.458 H -17.5\" /><rect class=\"sym\" height=\"6\" width=\"6\" x=\"-3\" y=\"-3\" /><text class=\"lab\" transform=\"translate(0 11)\">2</text></g><path class=\"edge\" d=\"M 0 0 V -83.142 H -35\" /><g class=\"mut m4 s1\" transform=\"translate(0 -74.0711)\"><line x1=\"0\" x2=\"0\" y1=\"0\" y2=\"74.0711\" /><path class=\"sym\" d=\"M -3,-3 l 6,6 M -3,3 l 6,-6\" /><text class=\"lab rgt\" transform=\"translate(5 0)\">4</text></g><g class=\"mut m5 s1\" transform=\"translate(0 -63.5985)\"><line x1=\"0\" x2=\"0\" y1=\"0\" y2=\"63.5985\" /><path class=\"sym\" d=\"M -3,-3 l 6,6 M -3,3 l 6,-6\" /><text class=\"lab rgt\" transform=\"translate(5 0)\">5</text></g><g class=\"mut m6 s1\" transform=\"translate(0 -58.6418)\"><line x1=\"0\" x2=\"0\" y1=\"0\" y2=\"58.6418\" /><path class=\"sym\" d=\"M -3,-3 l 6,6 M -3,3 l 6,-6\" /><text class=\"lab rgt\" transform=\"translate(5 0)\">6</text></g><g class=\"mut m7 s1\" transform=\"translate(0 -33.2261)\"><line x1=\"0\" x2=\"0\" y1=\"0\" y2=\"33.2261\" /><path class=\"sym\" d=\"M -3,-3 l 6,6 M -3,3 l 6,-6\" /><text class=\"lab rgt\" transform=\"translate(5 0)\">7</text></g><g class=\"mut m9 s1\" transform=\"translate(0 -28.6886)\"><line x1=\"0\" x2=\"0\" y1=\"0\" y2=\"28.6886\" /><path class=\"sym\" d=\"M -3,-3 l 6,6 M -3,3 l 6,-6\" /><text class=\"lab rgt\" transform=\"translate(5 0)\">9</text></g><circle class=\"sym\" cx=\"0\" cy=\"0\" r=\"3\" /><text class=\"lab rgt\" transform=\"translate(3 -7.0)\">4</text></g><g class=\"a7 c2 node n6 p0\" transform=\"translate(-35 21.58)\"><g class=\"a6 i0 leaf node n0 p0 sample\" transform=\"translate(-17.5 73.02)\"><path class=\"edge\" d=\"M 0 0 V -73.02 H 17.5\" /><rect class=\"sym\" height=\"6\" width=\"6\" x=\"-3\" y=\"-3\" /><text class=\"lab\" transform=\"translate(0 11)\">0</text></g><g class=\"a6 i1 leaf m10 m8 node n3 p0 s1 sample\" transform=\"translate(17.5 73.02)\"><path class=\"edge\" d=\"M 0 0 V -73.02 H -17.5\" /><g class=\"mut m8 s1\" transform=\"translate(0 -44.6443)\"><line x1=\"0\" x2=\"0\" y1=\"0\" y2=\"44.6443\" /><path class=\"sym\" d=\"M -3,-3 l 6,6 M -3,3 l 6,-6\" /><text class=\"lab rgt\" transform=\"translate(5 0)\">8</text></g><g class=\"mut m10 s1\" transform=\"translate(0 -34.0174)\"><line x1=\"0\" x2=\"0\" y1=\"0\" y2=\"34.0174\" /><path class=\"sym\" d=\"M -3,-3 l 6,6 M -3,3 l 6,-6\" /><text class=\"lab rgt\" transform=\"translate(5 0)\">10</text></g><rect class=\"sym\" height=\"6\" width=\"6\" x=\"-3\" y=\"-3\" /><text class=\"lab\" transform=\"translate(0 11)\">3</text></g><path class=\"edge\" d=\"M 0 0 V -21.58 H 35\" /><circle class=\"sym\" cx=\"0\" cy=\"0\" r=\"3\" /><text class=\"lab lft\" transform=\"translate(-3 -7.0)\">6</text></g><circle class=\"sym\" cx=\"0\" cy=\"0\" r=\"3\" /><text class=\"lab\" transform=\"translate(0 -11)\">7</text></g></g></g></g></g></svg>"
      ],
      "text/plain": [
       "'<svg baseProfile=\"full\" height=\"200\" version=\"1.1\" width=\"400\" xmlns=\"http://www.w3.org/2000/svg\" xmlns:ev=\"http://www.w3.org/2001/xml-events\" xmlns:xlink=\"http://www.w3.org/1999/xlink\"><defs><style type=\"text/css\"><![CDATA[.background path {fill: #808080; fill-opacity: 0}.background path:nth-child(odd) {fill-opacity: .1}.axes {font-size: 14px}.x-axis .tick .lab {font-weight: bold; dominant-baseline: hanging}.axes, .tree {font-size: 14px; text-anchor: middle}.axes line, .edge {stroke: black; fill: none}.axes .ax-skip {stroke-dasharray: 4}.y-axis .grid {stroke: #FAFAFA}.node > .sym {fill: black; stroke: none}.site > .sym {stroke: black}.mut text {fill: red; font-style: italic}.mut.extra text {fill: hotpink}.mut line {fill: none; stroke: none}.mut .sym {fill: none; stroke: red}.mut.extra .sym {stroke: hotpink}.node .mut .sym {stroke-width: 1.5px}.tree text, .tree-sequence text {dominant-baseline: central}.plotbox .lab.lft {text-anchor: end}.plotbox .lab.rgt {text-anchor: start}]]></style></defs><g class=\"tree-sequence\"><g class=\"background\"><path d=\"M20,0 l180,0 l0,138.2 l0,25 l0,5 l-180,0 l0,-5 l0,-25 l0,-138.2z\" /><path d=\"M200,0 l180,0 l0,138.2 l0,25 l0,5 l-180,0 l0,-5 l0,-25 l0,-138.2z\" /></g><g class=\"axes\"><g class=\"x-axis\"><g class=\"title\" transform=\"translate(200 200)\"><text class=\"lab\" text-anchor=\"middle\" transform=\"translate(0 -11)\">Genome position</text></g><line class=\"ax-line\" x1=\"20\" x2=\"380\" y1=\"163.2\" y2=\"163.2\" /><g class=\"ticks\"><g class=\"tick\" transform=\"translate(20 163.2)\"><line x1=\"0\" x2=\"0\" y1=\"0\" y2=\"5\" /><g transform=\"translate(0 6)\"><text class=\"lab\">0</text></g></g><g class=\"tick\" transform=\"translate(200 163.2)\"><line x1=\"0\" x2=\"0\" y1=\"0\" y2=\"5\" /><g transform=\"translate(0 6)\"><text class=\"lab\">1</text></g></g><g class=\"tick\" transform=\"translate(380 163.2)\"><line x1=\"0\" x2=\"0\" y1=\"0\" y2=\"5\" /><g transform=\"translate(0 6)\"><text class=\"lab\">2</text></g></g></g><g class=\"site s0\" transform=\"translate(20 163.2)\"><line class=\"sym\" x1=\"0\" x2=\"0\" y1=\"0\" y2=\"-10\" /><g class=\"mut m3\"><polyline class=\"sym\" points=\"2.5,-6.5 0,-1.5 -2.5,-6.5\" /></g><g class=\"mut m2\"><polyline class=\"sym\" points=\"2.5,-10.5 0,-5.5 -2.5,-10.5\" /></g><g class=\"mut m1\"><polyline class=\"sym\" points=\"2.5,-14.5 0,-9.5 -2.5,-14.5\" /></g><g class=\"mut m0\"><polyline class=\"sym\" points=\"2.5,-18.5 0,-13.5 -2.5,-18.5\" /></g></g><g class=\"site s1\" transform=\"translate(200 163.2)\"><line class=\"sym\" x1=\"0\" x2=\"0\" y1=\"0\" y2=\"-10\" /><g class=\"mut m10\"><polyline class=\"sym\" points=\"2.5,-6.5 0,-1.5 -2.5,-6.5\" /></g><g class=\"mut m9\"><polyline class=\"sym\" points=\"2.5,-10.5 0,-5.5 -2.5,-10.5\" /></g><g class=\"mut m8\"><polyline class=\"sym\" points=\"2.5,-14.5 0,-9.5 -2.5,-14.5\" /></g><g class=\"mut m7\"><polyline class=\"sym\" points=\"2.5,-18.5 0,-13.5 -2.5,-18.5\" /></g><g class=\"mut m6\"><polyline class=\"sym\" points=\"2.5,-22.5 0,-17.5 -2.5,-22.5\" /></g><g class=\"mut m5\"><polyline class=\"sym\" points=\"2.5,-26.5 0,-21.5 -2.5,-26.5\" /></g><g class=\"mut m4\"><polyline class=\"sym\" points=\"2.5,-30.5 0,-25.5 -2.5,-30.5\" /></g></g></g></g><g class=\"plotbox trees\"><g class=\"tree t0\" transform=\"translate(20 0)\"><g class=\"plotbox\"><g class=\"c2 node n7 p0 root\" transform=\"translate(76.875 26.8)\"><g class=\"a7 i0 leaf node n0 p0 sample\" transform=\"translate(-39.375 94.6)\"><path class=\"edge\" d=\"M 0 0 V -94.6 H 39.375\" /><rect class=\"sym\" height=\"6\" width=\"6\" x=\"-3\" y=\"-3\" /><text class=\"lab\" transform=\"translate(0 11)\">0</text></g><g class=\"a7 c2 m0 node n5 p0 s0\" transform=\"translate(39.375 30.9901)\"><g class=\"a5 i1 leaf m1 node n3 p0 s0 sample\" transform=\"translate(26.25 63.6099)\"><path class=\"edge\" d=\"M 0 0 V -63.6099 H -26.25\" /><g class=\"mut m1 s0\" transform=\"translate(0 -58.7672)\"><line x1=\"0\" x2=\"0\" y1=\"0\" y2=\"58.7672\" /><path class=\"sym\" d=\"M -3,-3 l 6,6 M -3,3 l 6,-6\" /><text class=\"lab rgt\" transform=\"translate(5 0)\">1</text></g><rect class=\"sym\" height=\"6\" width=\"6\" x=\"-3\" y=\"-3\" /><text class=\"lab\" transform=\"translate(0 11)\">3</text></g><g class=\"a5 c2 m2 m3 node n4 p0 s0\" transform=\"translate(-26.25 52.1519)\"><g class=\"a4 i0 leaf node n1 p0 sample\" transform=\"translate(-17.5 11.458)\"><path class=\"edge\" d=\"M 0 0 V -11.458 H 17.5\" /><rect class=\"sym\" height=\"6\" width=\"6\" x=\"-3\" y=\"-3\" /><text class=\"lab\" transform=\"translate(0 11)\">1</text></g><g class=\"a4 i1 leaf node n2 p0 sample\" transform=\"translate(17.5 11.458)\"><path class=\"edge\" d=\"M 0 0 V -11.458 H -17.5\" /><rect class=\"sym\" height=\"6\" width=\"6\" x=\"-3\" y=\"-3\" /><text class=\"lab\" transform=\"translate(0 11)\">2</text></g><path class=\"edge\" d=\"M 0 0 V -52.1519 H 26.25\" /><g class=\"mut m2 s0\" transform=\"translate(0 -37.2833)\"><line x1=\"0\" x2=\"0\" y1=\"0\" y2=\"37.2833\" /><path class=\"sym\" d=\"M -3,-3 l 6,6 M -3,3 l 6,-6\" /><text class=\"lab lft\" transform=\"translate(-5 0)\">2</text></g><g class=\"mut m3 s0\" transform=\"translate(0 -23.9761)\"><line x1=\"0\" x2=\"0\" y1=\"0\" y2=\"23.9761\" /><path class=\"sym\" d=\"M -3,-3 l 6,6 M -3,3 l 6,-6\" /><text class=\"lab lft\" transform=\"translate(-5 0)\">3</text></g><circle class=\"sym\" cx=\"0\" cy=\"0\" r=\"3\" /><text class=\"lab lft\" transform=\"translate(-3 -7.0)\">4</text></g><path class=\"edge\" d=\"M 0 0 V -30.9901 H -39.375\" /><g class=\"mut m0 s0\" transform=\"translate(0 -27.7981)\"><line x1=\"0\" x2=\"0\" y1=\"0\" y2=\"27.7981\" /><path class=\"sym\" d=\"M -3,-3 l 6,6 M -3,3 l 6,-6\" /><text class=\"lab rgt\" transform=\"translate(5 0)\">0</text></g><circle class=\"sym\" cx=\"0\" cy=\"0\" r=\"3\" /><text class=\"lab rgt\" transform=\"translate(3 -7.0)\">5</text></g><circle class=\"sym\" cx=\"0\" cy=\"0\" r=\"3\" /><text class=\"lab\" transform=\"translate(0 -11)\">7</text></g></g></g><g class=\"tree t1\" transform=\"translate(200 0)\"><g class=\"plotbox\"><g class=\"c2 node n7 p0 root\" transform=\"translate(90 26.8)\"><g class=\"a7 c2 m4 m5 m6 m7 m9 node n4 p0 s1\" transform=\"translate(35 83.142)\"><g class=\"a4 i0 leaf node n1 p0 sample\" transform=\"translate(-17.5 11.458)\"><path class=\"edge\" d=\"M 0 0 V -11.458 H 17.5\" /><rect class=\"sym\" height=\"6\" width=\"6\" x=\"-3\" y=\"-3\" /><text class=\"lab\" transform=\"translate(0 11)\">1</text></g><g class=\"a4 i1 leaf node n2 p0 sample\" transform=\"translate(17.5 11.458)\"><path class=\"edge\" d=\"M 0 0 V -11.458 H -17.5\" /><rect class=\"sym\" height=\"6\" width=\"6\" x=\"-3\" y=\"-3\" /><text class=\"lab\" transform=\"translate(0 11)\">2</text></g><path class=\"edge\" d=\"M 0 0 V -83.142 H -35\" /><g class=\"mut m4 s1\" transform=\"translate(0 -74.0711)\"><line x1=\"0\" x2=\"0\" y1=\"0\" y2=\"74.0711\" /><path class=\"sym\" d=\"M -3,-3 l 6,6 M -3,3 l 6,-6\" /><text class=\"lab rgt\" transform=\"translate(5 0)\">4</text></g><g class=\"mut m5 s1\" transform=\"translate(0 -63.5985)\"><line x1=\"0\" x2=\"0\" y1=\"0\" y2=\"63.5985\" /><path class=\"sym\" d=\"M -3,-3 l 6,6 M -3,3 l 6,-6\" /><text class=\"lab rgt\" transform=\"translate(5 0)\">5</text></g><g class=\"mut m6 s1\" transform=\"translate(0 -58.6418)\"><line x1=\"0\" x2=\"0\" y1=\"0\" y2=\"58.6418\" /><path class=\"sym\" d=\"M -3,-3 l 6,6 M -3,3 l 6,-6\" /><text class=\"lab rgt\" transform=\"translate(5 0)\">6</text></g><g class=\"mut m7 s1\" transform=\"translate(0 -33.2261)\"><line x1=\"0\" x2=\"0\" y1=\"0\" y2=\"33.2261\" /><path class=\"sym\" d=\"M -3,-3 l 6,6 M -3,3 l 6,-6\" /><text class=\"lab rgt\" transform=\"translate(5 0)\">7</text></g><g class=\"mut m9 s1\" transform=\"translate(0 -28.6886)\"><line x1=\"0\" x2=\"0\" y1=\"0\" y2=\"28.6886\" /><path class=\"sym\" d=\"M -3,-3 l 6,6 M -3,3 l 6,-6\" /><text class=\"lab rgt\" transform=\"translate(5 0)\">9</text></g><circle class=\"sym\" cx=\"0\" cy=\"0\" r=\"3\" /><text class=\"lab rgt\" transform=\"translate(3 -7.0)\">4</text></g><g class=\"a7 c2 node n6 p0\" transform=\"translate(-35 21.58)\"><g class=\"a6 i0 leaf node n0 p0 sample\" transform=\"translate(-17.5 73.02)\"><path class=\"edge\" d=\"M 0 0 V -73.02 H 17.5\" /><rect class=\"sym\" height=\"6\" width=\"6\" x=\"-3\" y=\"-3\" /><text class=\"lab\" transform=\"translate(0 11)\">0</text></g><g class=\"a6 i1 leaf m10 m8 node n3 p0 s1 sample\" transform=\"translate(17.5 73.02)\"><path class=\"edge\" d=\"M 0 0 V -73.02 H -17.5\" /><g class=\"mut m8 s1\" transform=\"translate(0 -44.6443)\"><line x1=\"0\" x2=\"0\" y1=\"0\" y2=\"44.6443\" /><path class=\"sym\" d=\"M -3,-3 l 6,6 M -3,3 l 6,-6\" /><text class=\"lab rgt\" transform=\"translate(5 0)\">8</text></g><g class=\"mut m10 s1\" transform=\"translate(0 -34.0174)\"><line x1=\"0\" x2=\"0\" y1=\"0\" y2=\"34.0174\" /><path class=\"sym\" d=\"M -3,-3 l 6,6 M -3,3 l 6,-6\" /><text class=\"lab rgt\" transform=\"translate(5 0)\">10</text></g><rect class=\"sym\" height=\"6\" width=\"6\" x=\"-3\" y=\"-3\" /><text class=\"lab\" transform=\"translate(0 11)\">3</text></g><path class=\"edge\" d=\"M 0 0 V -21.58 H 35\" /><circle class=\"sym\" cx=\"0\" cy=\"0\" r=\"3\" /><text class=\"lab lft\" transform=\"translate(-3 -7.0)\">6</text></g><circle class=\"sym\" cx=\"0\" cy=\"0\" r=\"3\" /><text class=\"lab\" transform=\"translate(0 -11)\">7</text></g></g></g></g></g></svg>'"
      ]
     },
     "execution_count": 159,
     "metadata": {},
     "output_type": "execute_result"
    }
   ],
   "source": [
    "msprime.sim_mutations(ts, 0.0004).draw_svg()"
   ]
  },
  {
   "cell_type": "code",
   "execution_count": 161,
   "id": "b1711936-8c93-4c9e-96fb-1bdbc88db1d2",
   "metadata": {},
   "outputs": [
    {
     "data": {
      "image/svg+xml": [
       "<svg baseProfile=\"full\" height=\"200\" version=\"1.1\" width=\"400\" xmlns=\"http://www.w3.org/2000/svg\" xmlns:ev=\"http://www.w3.org/2001/xml-events\" xmlns:xlink=\"http://www.w3.org/1999/xlink\"><defs><style type=\"text/css\"><![CDATA[.background path {fill: #808080; fill-opacity: 0}.background path:nth-child(odd) {fill-opacity: .1}.axes {font-size: 14px}.x-axis .tick .lab {font-weight: bold; dominant-baseline: hanging}.axes, .tree {font-size: 14px; text-anchor: middle}.axes line, .edge {stroke: black; fill: none}.axes .ax-skip {stroke-dasharray: 4}.y-axis .grid {stroke: #FAFAFA}.node > .sym {fill: black; stroke: none}.site > .sym {stroke: black}.mut text {fill: red; font-style: italic}.mut.extra text {fill: hotpink}.mut line {fill: none; stroke: none}.mut .sym {fill: none; stroke: red}.mut.extra .sym {stroke: hotpink}.node .mut .sym {stroke-width: 1.5px}.tree text, .tree-sequence text {dominant-baseline: central}.plotbox .lab.lft {text-anchor: end}.plotbox .lab.rgt {text-anchor: start}]]></style></defs><g class=\"tree-sequence\"><g class=\"background\"><path d=\"M56.8,0 l161.6,0 l0,138.2 l2.84217e-14,25 l0,5 l-161.6,0 l0,-5 l0,-25 l0,-138.2z\" /><path d=\"M218.4,0 l161.6,0 l0,138.2 l0,25 l0,5 l-161.6,0 l0,-5 l0,-25 l0,-138.2z\" /></g><g class=\"axes\"><g class=\"x-axis\"><g class=\"title\" transform=\"translate(218.4 200)\"><text class=\"lab\" text-anchor=\"middle\" transform=\"translate(0 -11)\">Genome position</text></g><line class=\"ax-line\" x1=\"56.8\" x2=\"380\" y1=\"163.2\" y2=\"163.2\" /><g class=\"ticks\"><g class=\"tick\" transform=\"translate(56.8 163.2)\"><line x1=\"0\" x2=\"0\" y1=\"0\" y2=\"5\" /><g transform=\"translate(0 6)\"><text class=\"lab\">0</text></g></g><g class=\"tick\" transform=\"translate(218.4 163.2)\"><line x1=\"0\" x2=\"0\" y1=\"0\" y2=\"5\" /><g transform=\"translate(0 6)\"><text class=\"lab\">1</text></g></g><g class=\"tick\" transform=\"translate(380 163.2)\"><line x1=\"0\" x2=\"0\" y1=\"0\" y2=\"5\" /><g transform=\"translate(0 6)\"><text class=\"lab\">2</text></g></g></g></g><g class=\"y-axis\"><g class=\"title\" transform=\"translate(0 65.7)\"><text class=\"lab\" text-anchor=\"middle\" transform=\"translate(11) rotate(-90)\"> </text></g><line class=\"ax-line\" x1=\"56.8\" x2=\"56.8\" y1=\"121.4\" y2=\"10\" /><g class=\"ticks\"><g class=\"tick\" transform=\"translate(56.8 121.4)\"><line x1=\"0\" x2=\"-5\" y1=\"0\" y2=\"0\" /><g transform=\"translate(-6 0)\"><text class=\"lab\" text-anchor=\"end\">0.00</text></g></g><g class=\"tick\" transform=\"translate(56.8 112.963)\"><line x1=\"0\" x2=\"-5\" y1=\"0\" y2=\"0\" /><g transform=\"translate(-6 0)\"><text class=\"lab\" text-anchor=\"end\">2294.43</text></g></g><g class=\"tick\" transform=\"translate(56.8 104.714)\"><line x1=\"0\" x2=\"-5\" y1=\"0\" y2=\"0\" /><g transform=\"translate(-6 0)\"><text class=\"lab\" text-anchor=\"end\">4537.79</text></g></g><g class=\"tick\" transform=\"translate(56.8 75.4628)\"><line x1=\"0\" x2=\"-5\" y1=\"0\" y2=\"0\" /><g transform=\"translate(-6 0)\"><text class=\"lab\" text-anchor=\"end\">12492.37</text></g></g><g class=\"tick\" transform=\"translate(56.8 58.4332)\"><line x1=\"0\" x2=\"-5\" y1=\"0\" y2=\"0\" /><g transform=\"translate(-6 0)\"><text class=\"lab\" text-anchor=\"end\">17123.45</text></g></g><g class=\"tick\" transform=\"translate(56.8 54.3311)\"><line x1=\"0\" x2=\"-5\" y1=\"0\" y2=\"0\" /><g transform=\"translate(-6 0)\"><text class=\"lab\" text-anchor=\"end\">18239.00</text></g></g><g class=\"tick\" transform=\"translate(56.8 26.8)\"><line x1=\"0\" x2=\"-5\" y1=\"0\" y2=\"0\" /><g transform=\"translate(-6 0)\"><text class=\"lab\" text-anchor=\"end\">25725.93</text></g></g></g></g></g><g class=\"plotbox trees\"><g class=\"tree t0\" transform=\"translate(56.8 0)\"><g class=\"plotbox\"><g class=\"c2 node n9 p0 root\" transform=\"translate(80.8 26.8)\"><g class=\"a9 c2 node n4 p0\" transform=\"translate(-30.4 86.1629)\"><g class=\"a4 i0 leaf node n0 p0 sample\" transform=\"translate(-15.2 8.43714)\"><path class=\"edge\" d=\"M 0 0 V -8.43714 H 15.2\" /><rect class=\"sym\" height=\"6\" width=\"6\" x=\"-3\" y=\"-3\" /><text class=\"lab\" transform=\"translate(0 11)\">0</text></g><g class=\"a4 i0 leaf node n1 p0 sample\" transform=\"translate(15.2 8.43714)\"><path class=\"edge\" d=\"M 0 0 V -8.43714 H -15.2\" /><rect class=\"sym\" height=\"6\" width=\"6\" x=\"-3\" y=\"-3\" /><text class=\"lab\" transform=\"translate(0 11)\">1</text></g><path class=\"edge\" d=\"M 0 0 V -86.1629 H 30.4\" /><circle class=\"sym\" cx=\"0\" cy=\"0\" r=\"3\" /><text class=\"lab lft\" transform=\"translate(-3 -7.0)\">4</text></g><g class=\"a9 c2 node n5 p0\" transform=\"translate(30.4 77.9135)\"><g class=\"a5 i1 leaf node n2 p0 sample\" transform=\"translate(-15.2 16.6865)\"><path class=\"edge\" d=\"M 0 0 V -16.6865 H 15.2\" /><rect class=\"sym\" height=\"6\" width=\"6\" x=\"-3\" y=\"-3\" /><text class=\"lab\" transform=\"translate(0 11)\">2</text></g><g class=\"a5 i1 leaf node n3 p0 sample\" transform=\"translate(15.2 16.6865)\"><path class=\"edge\" d=\"M 0 0 V -16.6865 H -15.2\" /><rect class=\"sym\" height=\"6\" width=\"6\" x=\"-3\" y=\"-3\" /><text class=\"lab\" transform=\"translate(0 11)\">3</text></g><path class=\"edge\" d=\"M 0 0 V -77.9135 H -30.4\" /><circle class=\"sym\" cx=\"0\" cy=\"0\" r=\"3\" /><text class=\"lab rgt\" transform=\"translate(3 -7.0)\">5</text></g><circle class=\"sym\" cx=\"0\" cy=\"0\" r=\"3\" /><text class=\"lab\" transform=\"translate(0 -11)\">9</text></g></g></g><g class=\"tree t1\" transform=\"translate(218.4 0)\"><g class=\"plotbox\"><g class=\"c2 node n8 p0 root\" transform=\"translate(80.8 54.3311)\"><g class=\"a8 c2 node n6 p0\" transform=\"translate(30.4 21.1317)\"><g class=\"a6 i0 leaf node n1 p0 sample\" transform=\"translate(-15.2 45.9372)\"><path class=\"edge\" d=\"M 0 0 V -45.9372 H 15.2\" /><rect class=\"sym\" height=\"6\" width=\"6\" x=\"-3\" y=\"-3\" /><text class=\"lab\" transform=\"translate(0 11)\">1</text></g><g class=\"a6 i1 leaf node n2 p0 sample\" transform=\"translate(15.2 45.9372)\"><path class=\"edge\" d=\"M 0 0 V -45.9372 H -15.2\" /><rect class=\"sym\" height=\"6\" width=\"6\" x=\"-3\" y=\"-3\" /><text class=\"lab\" transform=\"translate(0 11)\">2</text></g><path class=\"edge\" d=\"M 0 0 V -21.1317 H -30.4\" /><circle class=\"sym\" cx=\"0\" cy=\"0\" r=\"3\" /><text class=\"lab rgt\" transform=\"translate(3 -7.0)\">6</text></g><g class=\"a8 c2 node n7 p0\" transform=\"translate(-30.4 4.10214)\"><g class=\"a7 i0 leaf node n0 p0 sample\" transform=\"translate(-15.2 62.9668)\"><path class=\"edge\" d=\"M 0 0 V -62.9668 H 15.2\" /><rect class=\"sym\" height=\"6\" width=\"6\" x=\"-3\" y=\"-3\" /><text class=\"lab\" transform=\"translate(0 11)\">0</text></g><g class=\"a7 i1 leaf node n3 p0 sample\" transform=\"translate(15.2 62.9668)\"><path class=\"edge\" d=\"M 0 0 V -62.9668 H -15.2\" /><rect class=\"sym\" height=\"6\" width=\"6\" x=\"-3\" y=\"-3\" /><text class=\"lab\" transform=\"translate(0 11)\">3</text></g><path class=\"edge\" d=\"M 0 0 V -4.10214 H 30.4\" /><circle class=\"sym\" cx=\"0\" cy=\"0\" r=\"3\" /><text class=\"lab lft\" transform=\"translate(-3 -7.0)\">7</text></g><circle class=\"sym\" cx=\"0\" cy=\"0\" r=\"3\" /><text class=\"lab\" transform=\"translate(0 -11)\">8</text></g></g></g></g></g></svg>"
      ],
      "text/plain": [
       "'<svg baseProfile=\"full\" height=\"200\" version=\"1.1\" width=\"400\" xmlns=\"http://www.w3.org/2000/svg\" xmlns:ev=\"http://www.w3.org/2001/xml-events\" xmlns:xlink=\"http://www.w3.org/1999/xlink\"><defs><style type=\"text/css\"><![CDATA[.background path {fill: #808080; fill-opacity: 0}.background path:nth-child(odd) {fill-opacity: .1}.axes {font-size: 14px}.x-axis .tick .lab {font-weight: bold; dominant-baseline: hanging}.axes, .tree {font-size: 14px; text-anchor: middle}.axes line, .edge {stroke: black; fill: none}.axes .ax-skip {stroke-dasharray: 4}.y-axis .grid {stroke: #FAFAFA}.node > .sym {fill: black; stroke: none}.site > .sym {stroke: black}.mut text {fill: red; font-style: italic}.mut.extra text {fill: hotpink}.mut line {fill: none; stroke: none}.mut .sym {fill: none; stroke: red}.mut.extra .sym {stroke: hotpink}.node .mut .sym {stroke-width: 1.5px}.tree text, .tree-sequence text {dominant-baseline: central}.plotbox .lab.lft {text-anchor: end}.plotbox .lab.rgt {text-anchor: start}]]></style></defs><g class=\"tree-sequence\"><g class=\"background\"><path d=\"M56.8,0 l161.6,0 l0,138.2 l2.84217e-14,25 l0,5 l-161.6,0 l0,-5 l0,-25 l0,-138.2z\" /><path d=\"M218.4,0 l161.6,0 l0,138.2 l0,25 l0,5 l-161.6,0 l0,-5 l0,-25 l0,-138.2z\" /></g><g class=\"axes\"><g class=\"x-axis\"><g class=\"title\" transform=\"translate(218.4 200)\"><text class=\"lab\" text-anchor=\"middle\" transform=\"translate(0 -11)\">Genome position</text></g><line class=\"ax-line\" x1=\"56.8\" x2=\"380\" y1=\"163.2\" y2=\"163.2\" /><g class=\"ticks\"><g class=\"tick\" transform=\"translate(56.8 163.2)\"><line x1=\"0\" x2=\"0\" y1=\"0\" y2=\"5\" /><g transform=\"translate(0 6)\"><text class=\"lab\">0</text></g></g><g class=\"tick\" transform=\"translate(218.4 163.2)\"><line x1=\"0\" x2=\"0\" y1=\"0\" y2=\"5\" /><g transform=\"translate(0 6)\"><text class=\"lab\">1</text></g></g><g class=\"tick\" transform=\"translate(380 163.2)\"><line x1=\"0\" x2=\"0\" y1=\"0\" y2=\"5\" /><g transform=\"translate(0 6)\"><text class=\"lab\">2</text></g></g></g></g><g class=\"y-axis\"><g class=\"title\" transform=\"translate(0 65.7)\"><text class=\"lab\" text-anchor=\"middle\" transform=\"translate(11) rotate(-90)\"> </text></g><line class=\"ax-line\" x1=\"56.8\" x2=\"56.8\" y1=\"121.4\" y2=\"10\" /><g class=\"ticks\"><g class=\"tick\" transform=\"translate(56.8 121.4)\"><line x1=\"0\" x2=\"-5\" y1=\"0\" y2=\"0\" /><g transform=\"translate(-6 0)\"><text class=\"lab\" text-anchor=\"end\">0.00</text></g></g><g class=\"tick\" transform=\"translate(56.8 112.963)\"><line x1=\"0\" x2=\"-5\" y1=\"0\" y2=\"0\" /><g transform=\"translate(-6 0)\"><text class=\"lab\" text-anchor=\"end\">2294.43</text></g></g><g class=\"tick\" transform=\"translate(56.8 104.714)\"><line x1=\"0\" x2=\"-5\" y1=\"0\" y2=\"0\" /><g transform=\"translate(-6 0)\"><text class=\"lab\" text-anchor=\"end\">4537.79</text></g></g><g class=\"tick\" transform=\"translate(56.8 75.4628)\"><line x1=\"0\" x2=\"-5\" y1=\"0\" y2=\"0\" /><g transform=\"translate(-6 0)\"><text class=\"lab\" text-anchor=\"end\">12492.37</text></g></g><g class=\"tick\" transform=\"translate(56.8 58.4332)\"><line x1=\"0\" x2=\"-5\" y1=\"0\" y2=\"0\" /><g transform=\"translate(-6 0)\"><text class=\"lab\" text-anchor=\"end\">17123.45</text></g></g><g class=\"tick\" transform=\"translate(56.8 54.3311)\"><line x1=\"0\" x2=\"-5\" y1=\"0\" y2=\"0\" /><g transform=\"translate(-6 0)\"><text class=\"lab\" text-anchor=\"end\">18239.00</text></g></g><g class=\"tick\" transform=\"translate(56.8 26.8)\"><line x1=\"0\" x2=\"-5\" y1=\"0\" y2=\"0\" /><g transform=\"translate(-6 0)\"><text class=\"lab\" text-anchor=\"end\">25725.93</text></g></g></g></g></g><g class=\"plotbox trees\"><g class=\"tree t0\" transform=\"translate(56.8 0)\"><g class=\"plotbox\"><g class=\"c2 node n9 p0 root\" transform=\"translate(80.8 26.8)\"><g class=\"a9 c2 node n4 p0\" transform=\"translate(-30.4 86.1629)\"><g class=\"a4 i0 leaf node n0 p0 sample\" transform=\"translate(-15.2 8.43714)\"><path class=\"edge\" d=\"M 0 0 V -8.43714 H 15.2\" /><rect class=\"sym\" height=\"6\" width=\"6\" x=\"-3\" y=\"-3\" /><text class=\"lab\" transform=\"translate(0 11)\">0</text></g><g class=\"a4 i0 leaf node n1 p0 sample\" transform=\"translate(15.2 8.43714)\"><path class=\"edge\" d=\"M 0 0 V -8.43714 H -15.2\" /><rect class=\"sym\" height=\"6\" width=\"6\" x=\"-3\" y=\"-3\" /><text class=\"lab\" transform=\"translate(0 11)\">1</text></g><path class=\"edge\" d=\"M 0 0 V -86.1629 H 30.4\" /><circle class=\"sym\" cx=\"0\" cy=\"0\" r=\"3\" /><text class=\"lab lft\" transform=\"translate(-3 -7.0)\">4</text></g><g class=\"a9 c2 node n5 p0\" transform=\"translate(30.4 77.9135)\"><g class=\"a5 i1 leaf node n2 p0 sample\" transform=\"translate(-15.2 16.6865)\"><path class=\"edge\" d=\"M 0 0 V -16.6865 H 15.2\" /><rect class=\"sym\" height=\"6\" width=\"6\" x=\"-3\" y=\"-3\" /><text class=\"lab\" transform=\"translate(0 11)\">2</text></g><g class=\"a5 i1 leaf node n3 p0 sample\" transform=\"translate(15.2 16.6865)\"><path class=\"edge\" d=\"M 0 0 V -16.6865 H -15.2\" /><rect class=\"sym\" height=\"6\" width=\"6\" x=\"-3\" y=\"-3\" /><text class=\"lab\" transform=\"translate(0 11)\">3</text></g><path class=\"edge\" d=\"M 0 0 V -77.9135 H -30.4\" /><circle class=\"sym\" cx=\"0\" cy=\"0\" r=\"3\" /><text class=\"lab rgt\" transform=\"translate(3 -7.0)\">5</text></g><circle class=\"sym\" cx=\"0\" cy=\"0\" r=\"3\" /><text class=\"lab\" transform=\"translate(0 -11)\">9</text></g></g></g><g class=\"tree t1\" transform=\"translate(218.4 0)\"><g class=\"plotbox\"><g class=\"c2 node n8 p0 root\" transform=\"translate(80.8 54.3311)\"><g class=\"a8 c2 node n6 p0\" transform=\"translate(30.4 21.1317)\"><g class=\"a6 i0 leaf node n1 p0 sample\" transform=\"translate(-15.2 45.9372)\"><path class=\"edge\" d=\"M 0 0 V -45.9372 H 15.2\" /><rect class=\"sym\" height=\"6\" width=\"6\" x=\"-3\" y=\"-3\" /><text class=\"lab\" transform=\"translate(0 11)\">1</text></g><g class=\"a6 i1 leaf node n2 p0 sample\" transform=\"translate(15.2 45.9372)\"><path class=\"edge\" d=\"M 0 0 V -45.9372 H -15.2\" /><rect class=\"sym\" height=\"6\" width=\"6\" x=\"-3\" y=\"-3\" /><text class=\"lab\" transform=\"translate(0 11)\">2</text></g><path class=\"edge\" d=\"M 0 0 V -21.1317 H -30.4\" /><circle class=\"sym\" cx=\"0\" cy=\"0\" r=\"3\" /><text class=\"lab rgt\" transform=\"translate(3 -7.0)\">6</text></g><g class=\"a8 c2 node n7 p0\" transform=\"translate(-30.4 4.10214)\"><g class=\"a7 i0 leaf node n0 p0 sample\" transform=\"translate(-15.2 62.9668)\"><path class=\"edge\" d=\"M 0 0 V -62.9668 H 15.2\" /><rect class=\"sym\" height=\"6\" width=\"6\" x=\"-3\" y=\"-3\" /><text class=\"lab\" transform=\"translate(0 11)\">0</text></g><g class=\"a7 i1 leaf node n3 p0 sample\" transform=\"translate(15.2 62.9668)\"><path class=\"edge\" d=\"M 0 0 V -62.9668 H -15.2\" /><rect class=\"sym\" height=\"6\" width=\"6\" x=\"-3\" y=\"-3\" /><text class=\"lab\" transform=\"translate(0 11)\">3</text></g><path class=\"edge\" d=\"M 0 0 V -4.10214 H 30.4\" /><circle class=\"sym\" cx=\"0\" cy=\"0\" r=\"3\" /><text class=\"lab lft\" transform=\"translate(-3 -7.0)\">7</text></g><circle class=\"sym\" cx=\"0\" cy=\"0\" r=\"3\" /><text class=\"lab\" transform=\"translate(0 -11)\">8</text></g></g></g></g></g></svg>'"
      ]
     },
     "execution_count": 161,
     "metadata": {},
     "output_type": "execute_result"
    }
   ],
   "source": [
    "ts.draw_svg(y_axis=True, y_label=\" \")"
   ]
  },
  {
   "cell_type": "code",
   "execution_count": 230,
   "id": "fc147d46-9179-4039-83a0-56961c2a7127",
   "metadata": {},
   "outputs": [],
   "source": [
    "from itertools import product"
   ]
  },
  {
   "cell_type": "code",
   "execution_count": 362,
   "id": "70d522c3-002a-44ca-805d-a1e5802d2361",
   "metadata": {},
   "outputs": [],
   "source": [
    "def combine(samples):\n",
    "    ij = list(combinations(samples, 2))\n",
    "    ijk = [(i, j, k) for i, j, k in product(samples, repeat=3)\n",
    "           if i != k and i != j and j != k]\n",
    "    ijkl = [(i, j, k, l) for i, j in combinations(samples, 2)\n",
    "            for k in range(len(samples))\n",
    "            for l in range(k + 1, len(samples))\n",
    "            if i != k and j != k and l != i and l != j]\n",
    "    return ij, ijk, ijkl"
   ]
  },
  {
   "cell_type": "code",
   "execution_count": 257,
   "id": "2f55e9b6-5574-4d6a-9e45-8e2489302d0d",
   "metadata": {},
   "outputs": [
    {
     "data": {
      "text/plain": [
       "array([0, 1, 2, 3], dtype=int32)"
      ]
     },
     "execution_count": 257,
     "metadata": {},
     "output_type": "execute_result"
    }
   ],
   "source": [
    "ts.samples()"
   ]
  },
  {
   "cell_type": "code",
   "execution_count": 267,
   "id": "c0ba7193-0e9d-4375-9fe6-e097e1eaa02e",
   "metadata": {},
   "outputs": [],
   "source": [
    "def new_combine(num_samples):\n",
    "    j_start = 1\n",
    "\n",
    "    all_samps = set(range(num_samples))\n",
    "    for i in range(num_samples - 1):\n",
    "        for j in range(j_start, num_samples):\n",
    "            for k, l in combinations(sorted(all_samps - {i, j}), 2):\n",
    "                yield i, j, k, l\n",
    "        j_start += 1"
   ]
  },
  {
   "cell_type": "code",
   "execution_count": 272,
   "id": "213ce5fa-5fb4-4fee-b58c-12d57a0d4a06",
   "metadata": {},
   "outputs": [
    {
     "data": {
      "text/plain": [
       "True"
      ]
     },
     "execution_count": 272,
     "metadata": {},
     "output_type": "execute_result"
    }
   ],
   "source": [
    "sorted(combine(list(range(9)))[2]) == sorted(new_combine(9))"
   ]
  },
  {
   "cell_type": "code",
   "execution_count": 250,
   "id": "f2b9c34f-2f7e-40df-9e4b-7f1ee10dbacb",
   "metadata": {},
   "outputs": [
    {
     "data": {
      "text/plain": [
       "[(0, 1, 2, 3),\n",
       " (0, 2, 1, 3),\n",
       " (0, 3, 1, 2),\n",
       " (1, 2, 0, 3),\n",
       " (1, 3, 0, 2),\n",
       " (2, 3, 0, 1)]"
      ]
     },
     "execution_count": 250,
     "metadata": {},
     "output_type": "execute_result"
    }
   ],
   "source": [
    "ijkl"
   ]
  },
  {
   "cell_type": "code",
   "execution_count": 248,
   "id": "afd424ae-8d37-45e2-bc67-af85531e968d",
   "metadata": {},
   "outputs": [
    {
     "data": {
      "text/plain": [
       "[(0, 1, 2, 3),\n",
       " (0, 2, 1, 3),\n",
       " (0, 3, 1, 2),\n",
       " (1, 2, 0, 3),\n",
       " (1, 3, 0, 2),\n",
       " (2, 3, 0, 1)]"
      ]
     },
     "execution_count": 248,
     "metadata": {},
     "output_type": "execute_result"
    }
   ],
   "source": [
    "ijkl"
   ]
  },
  {
   "cell_type": "code",
   "execution_count": 360,
   "id": "0c22a508-e14c-4b34-ae5b-3d324edc6b59",
   "metadata": {},
   "outputs": [],
   "source": [
    "def combine2(n):\n",
    "    # rest = [None] * (n - 2)\n",
    "    rest = [None] * n\n",
    "    n_rest = n - 2\n",
    "    for idx in range(n_rest):\n",
    "        rest[idx] = idx + 2\n",
    "    for len_ivl in range(1, n):\n",
    "        i = 0\n",
    "        j = len_ivl\n",
    "        for ivl_idx in range(n - len_ivl): \n",
    "            inner = 0\n",
    "            ff = 0\n",
    "            for fff in range(n):\n",
    "                if fff != i and fff != j:\n",
    "                    rest[ff] = fff\n",
    "                    ff += 1\n",
    "            for k in range(n_rest):\n",
    "                for l in range(inner + 1, n_rest):\n",
    "                    yield i, j, rest[k], rest[l]\n",
    "                    # print(i, j, rest[k], rest[l])\n",
    "                inner += 1\n",
    "            i += 1\n",
    "            j += 1\n",
    "            rest[ivl_idx] = i\n",
    "            if len_ivl > 1:\n",
    "                rest[ivl_idx + len_ivl] = j\n",
    "            # print(rest)"
   ]
  },
  {
   "cell_type": "code",
   "execution_count": 361,
   "id": "f81265e6-fc74-4026-bb8e-a57fb12d332c",
   "metadata": {},
   "outputs": [
    {
     "data": {
      "text/plain": [
       "[((0, 1, 2, 3), (0, 1, 2, 3), True),\n",
       " ((0, 1, 2, 4), (0, 1, 2, 4), True),\n",
       " ((0, 1, 2, 5), (0, 1, 2, 5), True),\n",
       " ((0, 1, 3, 4), (0, 1, 3, 4), True),\n",
       " ((0, 1, 3, 5), (0, 1, 3, 5), True),\n",
       " ((0, 1, 4, 5), (0, 1, 4, 5), True),\n",
       " ((0, 2, 1, 3), (0, 2, 1, 3), True),\n",
       " ((0, 2, 1, 4), (0, 2, 1, 4), True),\n",
       " ((0, 2, 1, 5), (0, 2, 1, 5), True),\n",
       " ((0, 2, 3, 4), (0, 2, 3, 4), True),\n",
       " ((0, 2, 3, 5), (0, 2, 3, 5), True),\n",
       " ((0, 2, 4, 5), (0, 2, 4, 5), True),\n",
       " ((0, 3, 1, 2), (0, 3, 1, 2), True),\n",
       " ((0, 3, 1, 4), (0, 3, 1, 4), True),\n",
       " ((0, 3, 1, 5), (0, 3, 1, 5), True),\n",
       " ((0, 3, 2, 4), (0, 3, 2, 4), True),\n",
       " ((0, 3, 2, 5), (0, 3, 2, 5), True),\n",
       " ((0, 3, 4, 5), (0, 3, 4, 5), True),\n",
       " ((0, 4, 1, 2), (0, 4, 1, 2), True),\n",
       " ((0, 4, 1, 3), (0, 4, 1, 3), True),\n",
       " ((0, 4, 1, 5), (0, 4, 1, 5), True),\n",
       " ((0, 4, 2, 3), (0, 4, 2, 3), True),\n",
       " ((0, 4, 2, 5), (0, 4, 2, 5), True),\n",
       " ((0, 4, 3, 5), (0, 4, 3, 5), True),\n",
       " ((0, 5, 1, 2), (0, 5, 1, 2), True),\n",
       " ((0, 5, 1, 3), (0, 5, 1, 3), True),\n",
       " ((0, 5, 1, 4), (0, 5, 1, 4), True),\n",
       " ((0, 5, 2, 3), (0, 5, 2, 3), True),\n",
       " ((0, 5, 2, 4), (0, 5, 2, 4), True),\n",
       " ((0, 5, 3, 4), (0, 5, 3, 4), True),\n",
       " ((1, 2, 0, 3), (1, 2, 0, 3), True),\n",
       " ((1, 2, 0, 4), (1, 2, 0, 4), True),\n",
       " ((1, 2, 0, 5), (1, 2, 0, 5), True),\n",
       " ((1, 2, 3, 4), (1, 2, 3, 4), True),\n",
       " ((1, 2, 3, 5), (1, 2, 3, 5), True),\n",
       " ((1, 2, 4, 5), (1, 2, 4, 5), True),\n",
       " ((1, 3, 0, 2), (1, 3, 0, 2), True),\n",
       " ((1, 3, 0, 4), (1, 3, 0, 4), True),\n",
       " ((1, 3, 0, 5), (1, 3, 0, 5), True),\n",
       " ((1, 3, 2, 4), (1, 3, 2, 4), True),\n",
       " ((1, 3, 2, 5), (1, 3, 2, 5), True),\n",
       " ((1, 3, 4, 5), (1, 3, 4, 5), True),\n",
       " ((1, 4, 0, 2), (1, 4, 0, 2), True),\n",
       " ((1, 4, 0, 3), (1, 4, 0, 3), True),\n",
       " ((1, 4, 0, 5), (1, 4, 0, 5), True),\n",
       " ((1, 4, 2, 3), (1, 4, 2, 3), True),\n",
       " ((1, 4, 2, 5), (1, 4, 2, 5), True),\n",
       " ((1, 4, 3, 5), (1, 4, 3, 5), True),\n",
       " ((1, 5, 0, 2), (1, 5, 0, 2), True),\n",
       " ((1, 5, 0, 3), (1, 5, 0, 3), True),\n",
       " ((1, 5, 0, 4), (1, 5, 0, 4), True),\n",
       " ((1, 5, 2, 3), (1, 5, 2, 3), True),\n",
       " ((1, 5, 2, 4), (1, 5, 2, 4), True),\n",
       " ((1, 5, 3, 4), (1, 5, 3, 4), True),\n",
       " ((2, 3, 0, 1), (2, 3, 0, 1), True),\n",
       " ((2, 3, 0, 4), (2, 3, 0, 4), True),\n",
       " ((2, 3, 0, 5), (2, 3, 0, 5), True),\n",
       " ((2, 3, 1, 4), (2, 3, 1, 4), True),\n",
       " ((2, 3, 1, 5), (2, 3, 1, 5), True),\n",
       " ((2, 3, 4, 5), (2, 3, 4, 5), True),\n",
       " ((2, 4, 0, 1), (2, 4, 0, 1), True),\n",
       " ((2, 4, 0, 3), (2, 4, 0, 3), True),\n",
       " ((2, 4, 0, 5), (2, 4, 0, 5), True),\n",
       " ((2, 4, 1, 3), (2, 4, 1, 3), True),\n",
       " ((2, 4, 1, 5), (2, 4, 1, 5), True),\n",
       " ((2, 4, 3, 5), (2, 4, 3, 5), True),\n",
       " ((2, 5, 0, 1), (2, 5, 0, 1), True),\n",
       " ((2, 5, 0, 3), (2, 5, 0, 3), True),\n",
       " ((2, 5, 0, 4), (2, 5, 0, 4), True),\n",
       " ((2, 5, 1, 3), (2, 5, 1, 3), True),\n",
       " ((2, 5, 1, 4), (2, 5, 1, 4), True),\n",
       " ((2, 5, 3, 4), (2, 5, 3, 4), True),\n",
       " ((3, 4, 0, 1), (3, 4, 0, 1), True),\n",
       " ((3, 4, 0, 2), (3, 4, 0, 2), True),\n",
       " ((3, 4, 0, 5), (3, 4, 0, 5), True),\n",
       " ((3, 4, 1, 2), (3, 4, 1, 2), True),\n",
       " ((3, 4, 1, 5), (3, 4, 1, 5), True),\n",
       " ((3, 4, 2, 5), (3, 4, 2, 5), True),\n",
       " ((3, 5, 0, 1), (3, 5, 0, 1), True),\n",
       " ((3, 5, 0, 2), (3, 5, 0, 2), True),\n",
       " ((3, 5, 0, 4), (3, 5, 0, 4), True),\n",
       " ((3, 5, 1, 2), (3, 5, 1, 2), True),\n",
       " ((3, 5, 1, 4), (3, 5, 1, 4), True),\n",
       " ((3, 5, 2, 4), (3, 5, 2, 4), True),\n",
       " ((4, 5, 0, 1), (4, 5, 0, 1), True),\n",
       " ((4, 5, 0, 2), (4, 5, 0, 2), True),\n",
       " ((4, 5, 0, 3), (4, 5, 0, 3), True),\n",
       " ((4, 5, 1, 2), (4, 5, 1, 2), True),\n",
       " ((4, 5, 1, 3), (4, 5, 1, 3), True),\n",
       " ((4, 5, 2, 3), (4, 5, 2, 3), True)]"
      ]
     },
     "execution_count": 361,
     "metadata": {},
     "output_type": "execute_result"
    }
   ],
   "source": [
    "[(i, j, i == j) for i, j in zip(sorted(combine(list(range(6)))[2]), sorted(combine2(6)))]"
   ]
  },
  {
   "cell_type": "code",
   "execution_count": 346,
   "id": "dde8b2fb-3d36-4928-ad9c-29d1892686ad",
   "metadata": {},
   "outputs": [
    {
     "name": "stdout",
     "output_type": "stream",
     "text": [
      "0 1 2 3\n",
      "0 1 2 4\n",
      "0 1 3 4\n",
      "[1, 3, 4, None, None]\n",
      "1 2 0 3\n",
      "1 2 0 4\n",
      "1 2 3 4\n",
      "[0, 2, 4, None, None]\n",
      "2 3 0 1\n",
      "2 3 0 4\n",
      "2 3 1 4\n",
      "[0, 1, 3, None, None]\n",
      "3 4 0 1\n",
      "3 4 0 2\n",
      "3 4 1 2\n",
      "[0, 1, 2, 4, None]\n",
      "0 2 1 3\n",
      "0 2 1 4\n",
      "0 2 3 4\n",
      "[1, 3, 3, 4, None]\n",
      "1 3 0 2\n",
      "1 3 0 4\n",
      "1 3 2 4\n",
      "[0, 2, 4, 4, None]\n",
      "2 4 0 1\n",
      "2 4 0 3\n",
      "2 4 1 3\n",
      "[0, 1, 3, 4, None]\n",
      "0 3 1 2\n",
      "0 3 1 4\n",
      "0 3 2 4\n",
      "[1, 2, 4, 4, None]\n",
      "1 4 0 2\n",
      "1 4 0 3\n",
      "1 4 2 3\n",
      "[0, 2, 3, 4, None]\n",
      "0 4 1 2\n",
      "0 4 1 3\n",
      "0 4 2 3\n",
      "[1, 2, 3, 4, None]\n"
     ]
    },
    {
     "ename": "TypeError",
     "evalue": "'NoneType' object is not iterable",
     "output_type": "error",
     "traceback": [
      "\u001b[0;31m---------------------------------------------------------------------------\u001b[0m",
      "\u001b[0;31mTypeError\u001b[0m                                 Traceback (most recent call last)",
      "Cell \u001b[0;32mIn[346], line 1\u001b[0m\n\u001b[0;32m----> 1\u001b[0m \u001b[38;5;28;43msorted\u001b[39;49m\u001b[43m(\u001b[49m\u001b[43mcombine2\u001b[49m\u001b[43m(\u001b[49m\u001b[38;5;241;43m5\u001b[39;49m\u001b[43m)\u001b[49m\u001b[43m)\u001b[49m\n",
      "\u001b[0;31mTypeError\u001b[0m: 'NoneType' object is not iterable"
     ]
    }
   ],
   "source": [
    "sorted(combine2(5))"
   ]
  },
  {
   "cell_type": "code",
   "execution_count": 371,
   "id": "508a4a73-cb89-4781-8f09-a496adf3a91e",
   "metadata": {},
   "outputs": [],
   "source": [
    "def compute_D2(ts, x, y, ij, ijk, ijkl, norm=False, mu=None):\n",
    "    E_ijij = np.mean([x.tmrca(i, j) * y.tmrca(i, j) for i, j in ij]) \n",
    "    E_ijik = np.mean([x.tmrca(i, j) * y.tmrca(i, k) for i, j, k in ijk])\n",
    "    E_ijkl = np.mean([x.tmrca(i, j) * y.tmrca(k, l) for i, j, k, l in ijkl])\n",
    "    D2 = E_ijij - 2 * E_ijik + E_ijkl\n",
    "    if norm:\n",
    "        T_xy = ts.get_time(x.root) * ts.get_time(y.root)\n",
    "        return D2 / T_xy\n",
    "    elif mu:\n",
    "        return D2 / (mu ** 2)\n",
    "    return D2"
   ]
  },
  {
   "cell_type": "code",
   "execution_count": 369,
   "id": "e5162910-e373-4e25-9180-54d4daa10e6d",
   "metadata": {},
   "outputs": [
    {
     "data": {
      "text/plain": [
       "[(0, 0), (0, 1), (1, 0), (1, 1)]"
      ]
     },
     "execution_count": 369,
     "metadata": {},
     "output_type": "execute_result"
    }
   ],
   "source": [
    "list(product(range(ts.num_trees), repeat=2))"
   ]
  },
  {
   "cell_type": "code",
   "execution_count": 365,
   "id": "bcea1824-2b13-46f7-b238-f1342a8b1b4f",
   "metadata": {},
   "outputs": [
    {
     "data": {
      "text/plain": [
       "2"
      ]
     },
     "execution_count": 365,
     "metadata": {},
     "output_type": "execute_result"
    }
   ],
   "source": []
  },
  {
   "cell_type": "code",
   "execution_count": null,
   "id": "f67861ca-3e76-44ef-80ea-ac25e3bc8984",
   "metadata": {},
   "outputs": [],
   "source": [
    "def compute_pi2(ts, mu):\n",
    "    "
   ]
  },
  {
   "cell_type": "code",
   "execution_count": null,
   "id": "0c4bc694-ce1a-4851-9bdc-9de5ee3d62bd",
   "metadata": {},
   "outputs": [],
   "source": [
    "def ld_matrix_branch(pos):\n",
    "    for "
   ]
  },
  {
   "cell_type": "code",
   "execution_count": null,
   "id": "081cdae0-93b3-41f8-a7c2-c93eb37c2c6e",
   "metadata": {},
   "outputs": [],
   "source": [
    "while True:\n",
    "    tss = msprime.sim_ancestry(\n",
    "        samples=2,\n",
    "        population_size=10_000,\n",
    "        recombination_rate=5e-4,\n",
    "        sequence_length=2,\n",
    "        # random_seed=123,\n",
    "        num_replicates=1_000_000,\n",
    "    )\n",
    "    stats = []\n",
    "    for ts in tss:\n",
    "        ij, ijk, ijkl = ts.samples()\n",
    "        x = ts.at(0)\n",
    "        y = ts.at(1)\n",
    "        stats.append(((E_ijij - 2 * E_ijik + E_ijkl), T_xy))\n",
    "    print(np.mean([s * (2e-8 ** 2) for s, t in stats]))"
   ]
  },
  {
   "cell_type": "code",
   "execution_count": 239,
   "id": "374fbdc4-1dc4-4d71-b86c-9ee03acfa0bb",
   "metadata": {},
   "outputs": [
    {
     "data": {
      "text/plain": [
       "[(0, 1, 2, 3),\n",
       " (0, 2, 1, 3),\n",
       " (0, 3, 1, 2),\n",
       " (1, 2, 0, 3),\n",
       " (1, 3, 0, 2),\n",
       " (2, 3, 0, 1)]"
      ]
     },
     "execution_count": 239,
     "metadata": {},
     "output_type": "execute_result"
    }
   ],
   "source": [
    "ijkl"
   ]
  },
  {
   "cell_type": "code",
   "execution_count": 206,
   "id": "ca22ca36-38f5-4fad-8b52-d104279c706d",
   "metadata": {
    "scrolled": true
   },
   "outputs": [
    {
     "name": "stdout",
     "output_type": "stream",
     "text": [
      "7.126556957537011e-09\n",
      "7.1437145315541264e-09\n",
      "7.0640660568687126e-09\n",
      "7.0157066063538205e-09\n",
      "7.067938623729014e-09\n",
      "7.1945812868940525e-09\n",
      "7.1020677940997e-09\n",
      "7.07502825229645e-09\n",
      "7.1395715442028805e-09\n",
      "7.147787343637892e-09\n",
      "7.036459225182681e-09\n",
      "7.0813566589666984e-09\n",
      "7.104429418880696e-09\n",
      "6.998533739783401e-09\n",
      "7.017942147878117e-09\n",
      "7.165168075286494e-09\n",
      "6.998936261822306e-09\n",
      "7.098301746253584e-09\n",
      "7.143052447325168e-09\n",
      "7.216060313807266e-09\n",
      "7.1672662154586e-09\n",
      "7.022046740075799e-09\n",
      "7.100879482556157e-09\n",
      "6.953334864031252e-09\n",
      "7.0953568985579815e-09\n",
      "7.1094027857506e-09\n",
      "7.203709101400579e-09\n",
      "7.1256679179995035e-09\n",
      "7.105895185596519e-09\n",
      "7.125248329449941e-09\n",
      "7.020750355900649e-09\n",
      "7.0088553363089295e-09\n"
     ]
    },
    {
     "ename": "KeyboardInterrupt",
     "evalue": "",
     "output_type": "error",
     "traceback": [
      "\u001b[0;31m---------------------------------------------------------------------------\u001b[0m",
      "\u001b[0;31mKeyboardInterrupt\u001b[0m                         Traceback (most recent call last)",
      "Cell \u001b[0;32mIn[206], line 11\u001b[0m\n\u001b[1;32m      2\u001b[0m tss \u001b[38;5;241m=\u001b[39m msprime\u001b[38;5;241m.\u001b[39msim_ancestry(\n\u001b[1;32m      3\u001b[0m     samples\u001b[38;5;241m=\u001b[39m\u001b[38;5;241m2\u001b[39m,\n\u001b[1;32m      4\u001b[0m     population_size\u001b[38;5;241m=\u001b[39m\u001b[38;5;241m10_000\u001b[39m,\n\u001b[0;32m   (...)\u001b[0m\n\u001b[1;32m      8\u001b[0m     num_replicates\u001b[38;5;241m=\u001b[39m\u001b[38;5;241m1_000_000\u001b[39m,\n\u001b[1;32m      9\u001b[0m )\n\u001b[1;32m     10\u001b[0m stats \u001b[38;5;241m=\u001b[39m []\n\u001b[0;32m---> 11\u001b[0m \u001b[38;5;28;01mfor\u001b[39;00m ts \u001b[38;5;129;01min\u001b[39;00m tss:\n\u001b[1;32m     12\u001b[0m     x \u001b[38;5;241m=\u001b[39m ts\u001b[38;5;241m.\u001b[39mat(\u001b[38;5;241m0\u001b[39m)\n\u001b[1;32m     13\u001b[0m     y \u001b[38;5;241m=\u001b[39m ts\u001b[38;5;241m.\u001b[39mat(\u001b[38;5;241m1\u001b[39m)\n",
      "File \u001b[0;32m~/.conda/envs/tskit-dev-2/lib/python3.11/site-packages/msprime/ancestry.py:1497\u001b[0m, in \u001b[0;36mSimulator.run_replicates\u001b[0;34m(self, num_replicates, mutation_rate, provenance_dict)\u001b[0m\n\u001b[1;32m   1495\u001b[0m \u001b[38;5;28;01mfor\u001b[39;00m replicate_index \u001b[38;5;129;01min\u001b[39;00m \u001b[38;5;28mrange\u001b[39m(num_replicates):\n\u001b[1;32m   1496\u001b[0m     logger\u001b[38;5;241m.\u001b[39minfo(\u001b[38;5;124m\"\u001b[39m\u001b[38;5;124mStarting replicate \u001b[39m\u001b[38;5;132;01m%d\u001b[39;00m\u001b[38;5;124m\"\u001b[39m, replicate_index)\n\u001b[0;32m-> 1497\u001b[0m     \u001b[38;5;28;43mself\u001b[39;49m\u001b[38;5;241;43m.\u001b[39;49m\u001b[43mrun\u001b[49m\u001b[43m(\u001b[49m\u001b[43m)\u001b[49m\n\u001b[1;32m   1498\u001b[0m     \u001b[38;5;28;01mif\u001b[39;00m mutation_rate \u001b[38;5;129;01mis\u001b[39;00m \u001b[38;5;129;01mnot\u001b[39;00m \u001b[38;5;28;01mNone\u001b[39;00m:\n\u001b[1;32m   1499\u001b[0m         \u001b[38;5;66;03m# This is only called from simulate() or the ms interface,\u001b[39;00m\n\u001b[1;32m   1500\u001b[0m         \u001b[38;5;66;03m# so does not need any further parameters.\u001b[39;00m\n\u001b[1;32m   1501\u001b[0m         mutations\u001b[38;5;241m.\u001b[39m_simple_mutate(\n\u001b[1;32m   1502\u001b[0m             tables\u001b[38;5;241m=\u001b[39m\u001b[38;5;28mself\u001b[39m\u001b[38;5;241m.\u001b[39mtables,\n\u001b[1;32m   1503\u001b[0m             random_generator\u001b[38;5;241m=\u001b[39m\u001b[38;5;28mself\u001b[39m\u001b[38;5;241m.\u001b[39mrandom_generator,\n\u001b[1;32m   1504\u001b[0m             sequence_length\u001b[38;5;241m=\u001b[39m\u001b[38;5;28mself\u001b[39m\u001b[38;5;241m.\u001b[39msequence_length,\n\u001b[1;32m   1505\u001b[0m             rate\u001b[38;5;241m=\u001b[39mmutation_rate,\n\u001b[1;32m   1506\u001b[0m         )\n",
      "File \u001b[0;32m~/.conda/envs/tskit-dev-2/lib/python3.11/site-packages/msprime/ancestry.py:1450\u001b[0m, in \u001b[0;36mSimulator.run\u001b[0;34m(self, event_chunk, debug_func)\u001b[0m\n\u001b[1;32m   1448\u001b[0m \u001b[38;5;28;01mfor\u001b[39;00m j, model \u001b[38;5;129;01min\u001b[39;00m \u001b[38;5;28menumerate\u001b[39m(\u001b[38;5;28mself\u001b[39m\u001b[38;5;241m.\u001b[39mmodels):\n\u001b[1;32m   1449\u001b[0m     \u001b[38;5;28mself\u001b[39m\u001b[38;5;241m.\u001b[39mmodel \u001b[38;5;241m=\u001b[39m model\u001b[38;5;241m.\u001b[39m_as_lowlevel()\n\u001b[0;32m-> 1450\u001b[0m     \u001b[43mlogger\u001b[49m\u001b[38;5;241;43m.\u001b[39;49m\u001b[43minfo\u001b[49m\u001b[43m(\u001b[49m\n\u001b[1;32m   1451\u001b[0m \u001b[43m        \u001b[49m\u001b[38;5;124;43m\"\u001b[39;49m\u001b[38;5;124;43mmodel[\u001b[39;49m\u001b[38;5;132;43;01m%d\u001b[39;49;00m\u001b[38;5;124;43m] \u001b[39;49m\u001b[38;5;132;43;01m%s\u001b[39;49;00m\u001b[38;5;124;43m started at time=\u001b[39;49m\u001b[38;5;132;43;01m%g\u001b[39;49;00m\u001b[38;5;124;43m nodes=\u001b[39;49m\u001b[38;5;132;43;01m%d\u001b[39;49;00m\u001b[38;5;124;43m edges=\u001b[39;49m\u001b[38;5;132;43;01m%d\u001b[39;49;00m\u001b[38;5;124;43m\"\u001b[39;49m\u001b[43m,\u001b[49m\n\u001b[1;32m   1452\u001b[0m \u001b[43m        \u001b[49m\u001b[43mj\u001b[49m\u001b[43m,\u001b[49m\n\u001b[1;32m   1453\u001b[0m \u001b[43m        \u001b[49m\u001b[38;5;28;43mself\u001b[39;49m\u001b[38;5;241;43m.\u001b[39;49m\u001b[43mmodel\u001b[49m\u001b[43m,\u001b[49m\n\u001b[1;32m   1454\u001b[0m \u001b[43m        \u001b[49m\u001b[38;5;28;43mself\u001b[39;49m\u001b[38;5;241;43m.\u001b[39;49m\u001b[43mtime\u001b[49m\u001b[43m,\u001b[49m\n\u001b[1;32m   1455\u001b[0m \u001b[43m        \u001b[49m\u001b[38;5;28;43mself\u001b[39;49m\u001b[38;5;241;43m.\u001b[39;49m\u001b[43mnum_nodes\u001b[49m\u001b[43m,\u001b[49m\n\u001b[1;32m   1456\u001b[0m \u001b[43m        \u001b[49m\u001b[38;5;28;43mself\u001b[39;49m\u001b[38;5;241;43m.\u001b[39;49m\u001b[43mnum_edges\u001b[49m\u001b[43m,\u001b[49m\n\u001b[1;32m   1457\u001b[0m \u001b[43m    \u001b[49m\u001b[43m)\u001b[49m\n\u001b[1;32m   1458\u001b[0m     model_duration \u001b[38;5;241m=\u001b[39m np\u001b[38;5;241m.\u001b[39minf \u001b[38;5;28;01mif\u001b[39;00m model\u001b[38;5;241m.\u001b[39mduration \u001b[38;5;129;01mis\u001b[39;00m \u001b[38;5;28;01mNone\u001b[39;00m \u001b[38;5;28;01melse\u001b[39;00m model\u001b[38;5;241m.\u001b[39mduration\n\u001b[1;32m   1459\u001b[0m     \u001b[38;5;28;01mif\u001b[39;00m model_duration \u001b[38;5;241m<\u001b[39m \u001b[38;5;241m0\u001b[39m:\n",
      "File \u001b[0;32m~/.conda/envs/tskit-dev-2/lib/python3.11/logging/__init__.py:1479\u001b[0m, in \u001b[0;36mLogger.info\u001b[0;34m(self, msg, *args, **kwargs)\u001b[0m\n\u001b[1;32m   1476\u001b[0m     \u001b[38;5;28;01mif\u001b[39;00m \u001b[38;5;28mself\u001b[39m\u001b[38;5;241m.\u001b[39misEnabledFor(DEBUG):\n\u001b[1;32m   1477\u001b[0m         \u001b[38;5;28mself\u001b[39m\u001b[38;5;241m.\u001b[39m_log(DEBUG, msg, args, \u001b[38;5;241m*\u001b[39m\u001b[38;5;241m*\u001b[39mkwargs)\n\u001b[0;32m-> 1479\u001b[0m \u001b[38;5;28;01mdef\u001b[39;00m \u001b[38;5;21minfo\u001b[39m(\u001b[38;5;28mself\u001b[39m, msg, \u001b[38;5;241m*\u001b[39margs, \u001b[38;5;241m*\u001b[39m\u001b[38;5;241m*\u001b[39mkwargs):\n\u001b[1;32m   1480\u001b[0m \u001b[38;5;250m    \u001b[39m\u001b[38;5;124;03m\"\"\"\u001b[39;00m\n\u001b[1;32m   1481\u001b[0m \u001b[38;5;124;03m    Log 'msg % args' with severity 'INFO'.\u001b[39;00m\n\u001b[1;32m   1482\u001b[0m \n\u001b[0;32m   (...)\u001b[0m\n\u001b[1;32m   1486\u001b[0m \u001b[38;5;124;03m    logger.info(\"Houston, we have a %s\", \"interesting problem\", exc_info=1)\u001b[39;00m\n\u001b[1;32m   1487\u001b[0m \u001b[38;5;124;03m    \"\"\"\u001b[39;00m\n\u001b[1;32m   1488\u001b[0m     \u001b[38;5;28;01mif\u001b[39;00m \u001b[38;5;28mself\u001b[39m\u001b[38;5;241m.\u001b[39misEnabledFor(INFO):\n",
      "\u001b[0;31mKeyboardInterrupt\u001b[0m: "
     ]
    }
   ],
   "source": [
    "while True:\n",
    "    tss = msprime.sim_ancestry(\n",
    "        samples=2,\n",
    "        population_size=10_000,\n",
    "        recombination_rate=5e-4,\n",
    "        sequence_length=2,\n",
    "        # random_seed=123,\n",
    "        num_replicates=1_000_000,\n",
    "    )\n",
    "    stats = []\n",
    "    for ts in tss:\n",
    "        x = ts.at(0)\n",
    "        y = ts.at(1)\n",
    "        T_xy = ts.get_time(x.root) * ts.get_time(y.root)\n",
    "        E_ijij = np.mean([x.tmrca(i, j) * y.tmrca(i, j) for i, j in ij]) \n",
    "        E_ijik = np.mean([x.tmrca(i, j) * y.tmrca(i, k) for i, j, k in ijk])\n",
    "        E_ijkl = np.mean([x.tmrca(i, j) * y.tmrca(k, l) for i, j, k, l in ijkl])\n",
    "        stats.append(((E_ijij - 2 * E_ijik + E_ijkl), T_xy))\n",
    "    print(np.mean([s * (2e-8 ** 2) for s, t in stats]))"
   ]
  },
  {
   "cell_type": "code",
   "execution_count": 195,
   "id": "84b344f3-88b8-40e9-9880-e6f004504752",
   "metadata": {},
   "outputs": [
    {
     "data": {
      "text/plain": [
       "0.02367571663110949"
      ]
     },
     "execution_count": 195,
     "metadata": {},
     "output_type": "execute_result"
    }
   ],
   "source": [
    "np.mean([s/t for s, t in stats])"
   ]
  },
  {
   "cell_type": "markdown",
   "id": "7646ed0b-d6df-4586-ab28-655dd53eb597",
   "metadata": {},
   "source": [
    "10,000"
   ]
  },
  {
   "cell_type": "code",
   "execution_count": 192,
   "id": "95f25901-b0db-4d7f-838d-32b33bf155ba",
   "metadata": {},
   "outputs": [
    {
     "data": {
      "text/plain": [
       "7.937922516339654e-09"
      ]
     },
     "execution_count": 192,
     "metadata": {},
     "output_type": "execute_result"
    }
   ],
   "source": [
    "np.mean([s * (2e-8 ** 2) for s, t in stats])"
   ]
  },
  {
   "cell_type": "code",
   "execution_count": 196,
   "id": "0f2c7a42-bd81-4739-9ded-d9bf3dd1e636",
   "metadata": {},
   "outputs": [
    {
     "data": {
      "text/plain": [
       "7.0850015782578876e-09"
      ]
     },
     "execution_count": 196,
     "metadata": {},
     "output_type": "execute_result"
    }
   ],
   "source": [
    "np.mean([s * (2e-8 ** 2) for s, t in stats])"
   ]
  },
  {
   "cell_type": "markdown",
   "id": "fd68e899-8f95-4305-937b-0437f79e36b4",
   "metadata": {},
   "source": [
    "100,000"
   ]
  },
  {
   "cell_type": "code",
   "execution_count": 199,
   "id": "7094db49-6781-4707-b55d-a2f08cbbd6d5",
   "metadata": {},
   "outputs": [
    {
     "data": {
      "text/plain": [
       "7.3397941639902335e-09"
      ]
     },
     "execution_count": 199,
     "metadata": {},
     "output_type": "execute_result"
    }
   ],
   "source": [
    "np.mean([s * (2e-8 ** 2) for s, t in stats])"
   ]
  },
  {
   "cell_type": "code",
   "execution_count": 202,
   "id": "b35bab58-9fec-4c3e-b9d3-b2ccc7242340",
   "metadata": {},
   "outputs": [
    {
     "data": {
      "text/plain": [
       "6.743195590798205e-09"
      ]
     },
     "execution_count": 202,
     "metadata": {},
     "output_type": "execute_result"
    }
   ],
   "source": [
    "np.mean([s * (2e-8 ** 2) for s, t in stats])"
   ]
  },
  {
   "cell_type": "code",
   "execution_count": 205,
   "id": "39c2e84c-3c09-4c07-a6f9-8c5d957e5be7",
   "metadata": {},
   "outputs": [
    {
     "data": {
      "text/plain": [
       "7.167408886605498e-09"
      ]
     },
     "execution_count": 205,
     "metadata": {},
     "output_type": "execute_result"
    }
   ],
   "source": [
    "np.mean([s * (2e-8 ** 2) for s, t in stats])"
   ]
  },
  {
   "cell_type": "code",
   "execution_count": 189,
   "id": "fbe58b3d-4046-4995-bc39-92ce6d178c83",
   "metadata": {},
   "outputs": [],
   "source": [
    "import matplotlib.pyplot as plt"
   ]
  },
  {
   "cell_type": "code",
   "execution_count": 209,
   "id": "d726d5b1-2322-4c4e-b9cb-057ee6bd1117",
   "metadata": {},
   "outputs": [
    {
     "data": {
      "text/plain": [
       "(array([1.51000e+02, 8.66000e+02, 1.85100e+03, 2.78500e+03, 3.60200e+03,\n",
       "        4.09800e+03, 4.51100e+03, 4.94500e+03, 6.53000e+03, 1.04590e+04,\n",
       "        1.86450e+04, 3.89190e+04, 2.25496e+05, 1.15946e+05, 3.79270e+04,\n",
       "        2.20180e+04, 1.45840e+04, 1.04660e+04, 7.87200e+03, 6.26600e+03,\n",
       "        4.92500e+03, 4.06900e+03, 3.26300e+03, 2.77600e+03, 2.43900e+03,\n",
       "        2.24100e+03, 2.13300e+03, 2.10200e+03, 2.13600e+03, 2.12700e+03,\n",
       "        2.05200e+03, 2.01500e+03, 1.90900e+03, 1.78200e+03, 1.56100e+03,\n",
       "        1.49500e+03, 1.19600e+03, 9.83000e+02, 8.96000e+02, 5.13000e+02]),\n",
       " array([-0.31941475, -0.29477923, -0.27014372, -0.2455082 , -0.22087269,\n",
       "        -0.19623717, -0.17160166, -0.14696614, -0.12233063, -0.09769511,\n",
       "        -0.0730596 , -0.04842409, -0.02378857,  0.00084694,  0.02548246,\n",
       "         0.05011797,  0.07475349,  0.099389  ,  0.12402452,  0.14866003,\n",
       "         0.17329554,  0.19793106,  0.22256657,  0.24720209,  0.2718376 ,\n",
       "         0.29647312,  0.32110863,  0.34574415,  0.37037966,  0.39501518,\n",
       "         0.41965069,  0.4442862 ,  0.46892172,  0.49355723,  0.51819275,\n",
       "         0.54282826,  0.56746378,  0.59209929,  0.61673481,  0.64137032,\n",
       "         0.66600584]),\n",
       " <BarContainer object of 40 artists>)"
      ]
     },
     "execution_count": 209,
     "metadata": {},
     "output_type": "execute_result"
    },
    {
     "data": {
      "image/png": "[encoded data removed]",
      "text/plain": [
       "<Figure size 640x480 with 1 Axes>"
      ]
     },
     "metadata": {},
     "output_type": "display_data"
    }
   ],
   "source": [
    "plt.hist([s/t for s, t in stats], bins=40)"
   ]
  }
 ],
 "metadata": {
  "kernelspec": {
   "display_name": "tskit-dev-2",
   "language": "python",
   "name": "tskit-dev-2"
  },
  "language_info": {
   "codemirror_mode": {
    "name": "ipython",
    "version": 3
   },
   "file_extension": ".py",
   "mimetype": "text/x-python",
   "name": "python",
   "nbconvert_exporter": "python",
   "pygments_lexer": "ipython3",
   "version": "3.11.4"
  }
 },
 "nbformat": 4,
 "nbformat_minor": 5
}
