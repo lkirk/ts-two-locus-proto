{
 "cells": [
  {
   "cell_type": "code",
   "execution_count": 1,
   "id": "20865c43-39bb-4fdb-a255-7de215acaf59",
   "metadata": {},
   "outputs": [],
   "source": [
    "from itertools import combinations, combinations_with_replacement, product\n",
    "\n",
    "import tskit\n",
    "import msprime\n",
    "import numpy as np"
   ]
  },
  {
   "cell_type": "code",
   "execution_count": 112,
   "id": "da806795-c631-4bb8-9cab-54dea3c42998",
   "metadata": {},
   "outputs": [],
   "source": [
    "ts = msprime.sim_ancestry(samples=4, recombination_rate=.2, sequence_length=10, random_seed=1)  # seed=2 is a trickier test that is helpful for testing mrca correctness"
   ]
  },
  {
   "cell_type": "code",
   "execution_count": 113,
   "id": "4b40f019-d32c-4f50-a703-b9bbb3d47328",
   "metadata": {},
   "outputs": [
    {
     "data": {
      "image/svg+xml": [
       "<svg baseProfile=\"full\" height=\"400\" version=\"1.1\" width=\"1000\" xmlns=\"http://www.w3.org/2000/svg\" xmlns:ev=\"http://www.w3.org/2001/xml-events\" xmlns:xlink=\"http://www.w3.org/1999/xlink\"><defs><style type=\"text/css\"><![CDATA[.background path {fill: #808080; fill-opacity: 0}.background path:nth-child(odd) {fill-opacity: .1}.axes {font-size: 14px}.x-axis .tick .lab {font-weight: bold; dominant-baseline: hanging}.axes, .tree {font-size: 14px; text-anchor: middle}.axes line, .edge {stroke: black; fill: none}.axes .ax-skip {stroke-dasharray: 4}.y-axis .grid {stroke: #FAFAFA}.node > .sym {fill: black; stroke: none}.site > .sym {stroke: black}.mut text {fill: red; font-style: italic}.mut.extra text {fill: hotpink}.mut line {fill: none; stroke: none}.mut .sym {fill: none; stroke: red}.mut.extra .sym {stroke: hotpink}.node .mut .sym {stroke-width: 1.5px}.tree text, .tree-sequence text {dominant-baseline: central}.plotbox .lab.lft {text-anchor: end}.plotbox .lab.rgt {text-anchor: start}]]></style></defs><g class=\"tree-sequence\"><g class=\"background\"><path d=\"M56.8,0 l184.64,0 l0,338.2 l-92.32,25 l0,5 l-92.32,0 l0,-5 l0,-25 l0,-338.2z\" /><path d=\"M241.44,0 l184.64,0 l0,338.2 l-92.32,25 l0,5 l-184.64,0 l0,-5 l92.32,-25 l0,-338.2z\" /><path d=\"M426.08,0 l184.64,0 l0,338.2 l0,25 l0,5 l-276.96,0 l0,-5 l92.32,-25 l0,-338.2z\" /><path d=\"M610.72,0 l184.64,0 l0,338.2 l-92.32,25 l0,5 l-92.32,0 l0,-5 l0,-25 l0,-338.2z\" /><path d=\"M795.36,0 l184.64,0 l0,338.2 l0,25 l0,5 l-276.96,0 l0,-5 l92.32,-25 l0,-338.2z\" /></g><g class=\"axes\"><g class=\"x-axis\"><g class=\"title\" transform=\"translate(518.4 400)\"><text class=\"lab\" text-anchor=\"middle\" transform=\"translate(0 -11)\">Genome position</text></g><line class=\"ax-line\" x1=\"56.8\" x2=\"980\" y1=\"363.2\" y2=\"363.2\" /><g class=\"ticks\"><g class=\"tick\" transform=\"translate(56.8 363.2)\"><line x1=\"0\" x2=\"0\" y1=\"0\" y2=\"5\" /><g transform=\"translate(0 6)\"><text class=\"lab\">0</text></g></g><g class=\"tick\" transform=\"translate(149.12 363.2)\"><line x1=\"0\" x2=\"0\" y1=\"0\" y2=\"5\" /><g transform=\"translate(0 6)\"><text class=\"lab\">1</text></g></g><g class=\"tick\" transform=\"translate(333.76 363.2)\"><line x1=\"0\" x2=\"0\" y1=\"0\" y2=\"5\" /><g transform=\"translate(0 6)\"><text class=\"lab\">3</text></g></g><g class=\"tick\" transform=\"translate(610.72 363.2)\"><line x1=\"0\" x2=\"0\" y1=\"0\" y2=\"5\" /><g transform=\"translate(0 6)\"><text class=\"lab\">6</text></g></g><g class=\"tick\" transform=\"translate(703.04 363.2)\"><line x1=\"0\" x2=\"0\" y1=\"0\" y2=\"5\" /><g transform=\"translate(0 6)\"><text class=\"lab\">7</text></g></g><g class=\"tick\" transform=\"translate(980 363.2)\"><line x1=\"0\" x2=\"0\" y1=\"0\" y2=\"5\" /><g transform=\"translate(0 6)\"><text class=\"lab\">10</text></g></g></g></g><g class=\"y-axis\"><g class=\"title\" transform=\"translate(0 165.7)\"><text class=\"lab\" text-anchor=\"middle\" transform=\"translate(11) rotate(-90)\">Time (generations)</text></g><line class=\"ax-line\" x1=\"56.8\" x2=\"56.8\" y1=\"321.4\" y2=\"10\" /><g class=\"ticks\"><g class=\"tick\" transform=\"translate(56.8 321.4)\"><line x1=\"0\" x2=\"-5\" y1=\"0\" y2=\"0\" /><g transform=\"translate(-6 0)\"><text class=\"lab\" text-anchor=\"end\">0.00</text></g></g><g class=\"tick\" transform=\"translate(56.8 317.519)\"><line x1=\"0\" x2=\"-5\" y1=\"0\" y2=\"0\" /><g transform=\"translate(-6 0)\"><text class=\"lab\" text-anchor=\"end\">0.04</text></g></g><g class=\"tick\" transform=\"translate(56.8 316.345)\"><line x1=\"0\" x2=\"-5\" y1=\"0\" y2=\"0\" /><g transform=\"translate(-6 0)\"><text class=\"lab\" text-anchor=\"end\">0.05</text></g></g><g class=\"tick\" transform=\"translate(56.8 314.312)\"><line x1=\"0\" x2=\"-5\" y1=\"0\" y2=\"0\" /><g transform=\"translate(-6 0)\"><text class=\"lab\" text-anchor=\"end\">0.07</text></g></g><g class=\"tick\" transform=\"translate(56.8 307.333)\"><line x1=\"0\" x2=\"-5\" y1=\"0\" y2=\"0\" /><g transform=\"translate(-6 0)\"><text class=\"lab\" text-anchor=\"end\">0.14</text></g></g><g class=\"tick\" transform=\"translate(56.8 296.08)\"><line x1=\"0\" x2=\"-5\" y1=\"0\" y2=\"0\" /><g transform=\"translate(-6 0)\"><text class=\"lab\" text-anchor=\"end\">0.24</text></g></g><g class=\"tick\" transform=\"translate(56.8 288.185)\"><line x1=\"0\" x2=\"-5\" y1=\"0\" y2=\"0\" /><g transform=\"translate(-6 0)\"><text class=\"lab\" text-anchor=\"end\">0.32</text></g></g><g class=\"tick\" transform=\"translate(56.8 286.268)\"><line x1=\"0\" x2=\"-5\" y1=\"0\" y2=\"0\" /><g transform=\"translate(-6 0)\"><text class=\"lab\" text-anchor=\"end\">0.34</text></g></g><g class=\"tick\" transform=\"translate(56.8 141.477)\"><line x1=\"0\" x2=\"-5\" y1=\"0\" y2=\"0\" /><g transform=\"translate(-6 0)\"><text class=\"lab\" text-anchor=\"end\">1.74</text></g></g><g class=\"tick\" transform=\"translate(56.8 61.0902)\"><line x1=\"0\" x2=\"-5\" y1=\"0\" y2=\"0\" /><g transform=\"translate(-6 0)\"><text class=\"lab\" text-anchor=\"end\">2.51</text></g></g><g class=\"tick\" transform=\"translate(56.8 26.8)\"><line x1=\"0\" x2=\"-5\" y1=\"0\" y2=\"0\" /><g transform=\"translate(-6 0)\"><text class=\"lab\" text-anchor=\"end\">2.84</text></g></g></g></g></g><g class=\"plotbox trees\"><g class=\"tree t0\" transform=\"translate(56.8 0)\"><g class=\"plotbox\"><g class=\"c2 node n16 p0 root\" transform=\"translate(108.14 61.0902)\"><g class=\"a16 c2 node n10 p0\" transform=\"translate(38.42 253.222)\"><g class=\"a10 i1 leaf node n3 p0 sample\" transform=\"translate(-9.04 7.08778)\"><path class=\"edge\" d=\"M 0 0 V -7.08778 H 9.04\" /><rect class=\"sym\" height=\"6\" width=\"6\" x=\"-3\" y=\"-3\" /><text class=\"lab\" transform=\"translate(0 11)\">3</text></g><g class=\"a10 i2 leaf node n4 p0 sample\" transform=\"translate(9.04 7.08778)\"><path class=\"edge\" d=\"M 0 0 V -7.08778 H -9.04\" /><rect class=\"sym\" height=\"6\" width=\"6\" x=\"-3\" y=\"-3\" /><text class=\"lab\" transform=\"translate(0 11)\">4</text></g><path class=\"edge\" d=\"M 0 0 V -253.222 H -38.42\" /><circle class=\"sym\" cx=\"0\" cy=\"0\" r=\"3\" /><text class=\"lab rgt\" transform=\"translate(3 -7.0)\">10</text></g><g class=\"a16 c2 node n14 p0\" transform=\"translate(-38.42 225.178)\"><g class=\"a14 c2 node n11 p0\" transform=\"translate(-27.12 21.0652)\"><g class=\"a11 i0 leaf node n0 p0 sample\" transform=\"translate(-13.56 14.0667)\"><path class=\"edge\" d=\"M 0 0 V -14.0667 H 13.56\" /><rect class=\"sym\" height=\"6\" width=\"6\" x=\"-3\" y=\"-3\" /><text class=\"lab\" transform=\"translate(0 11)\">0</text></g><g class=\"a11 c2 node n8 p0\" transform=\"translate(13.56 10.1856)\"><g class=\"a8 i2 leaf node n5 p0 sample\" transform=\"translate(-9.04 3.88109)\"><path class=\"edge\" d=\"M 0 0 V -3.88109 H 9.04\" /><rect class=\"sym\" height=\"6\" width=\"6\" x=\"-3\" y=\"-3\" /><text class=\"lab\" transform=\"translate(0 11)\">5</text></g><g class=\"a8 i3 leaf node n7 p0 sample\" transform=\"translate(9.04 3.88109)\"><path class=\"edge\" d=\"M 0 0 V -3.88109 H -9.04\" /><rect class=\"sym\" height=\"6\" width=\"6\" x=\"-3\" y=\"-3\" /><text class=\"lab\" transform=\"translate(0 11)\">7</text></g><path class=\"edge\" d=\"M 0 0 V -10.1856 H -13.56\" /><circle class=\"sym\" cx=\"0\" cy=\"0\" r=\"3\" /><text class=\"lab rgt\" transform=\"translate(3 -7.0)\">8</text></g><path class=\"edge\" d=\"M 0 0 V -21.0652 H 27.12\" /><circle class=\"sym\" cx=\"0\" cy=\"0\" r=\"3\" /><text class=\"lab lft\" transform=\"translate(-3 -7.0)\">11</text></g><g class=\"a14 c2 node n13 p0\" transform=\"translate(27.12 1.9171)\"><g class=\"a13 i0 leaf node n1 p0 sample\" transform=\"translate(-13.56 33.2147)\"><path class=\"edge\" d=\"M 0 0 V -33.2147 H 13.56\" /><rect class=\"sym\" height=\"6\" width=\"6\" x=\"-3\" y=\"-3\" /><text class=\"lab\" transform=\"translate(0 11)\">1</text></g><g class=\"a13 c2 node n12 p0\" transform=\"translate(13.56 7.8951)\"><g class=\"a12 i1 leaf node n2 p0 sample\" transform=\"translate(-9.04 25.3196)\"><path class=\"edge\" d=\"M 0 0 V -25.3196 H 9.04\" /><rect class=\"sym\" height=\"6\" width=\"6\" x=\"-3\" y=\"-3\" /><text class=\"lab\" transform=\"translate(0 11)\">2</text></g><g class=\"a12 i3 leaf node n6 p0 sample\" transform=\"translate(9.04 25.3196)\"><path class=\"edge\" d=\"M 0 0 V -25.3196 H -9.04\" /><rect class=\"sym\" height=\"6\" width=\"6\" x=\"-3\" y=\"-3\" /><text class=\"lab\" transform=\"translate(0 11)\">6</text></g><path class=\"edge\" d=\"M 0 0 V -7.8951 H -13.56\" /><circle class=\"sym\" cx=\"0\" cy=\"0\" r=\"3\" /><text class=\"lab rgt\" transform=\"translate(3 -7.0)\">12</text></g><path class=\"edge\" d=\"M 0 0 V -1.9171 H -27.12\" /><circle class=\"sym\" cx=\"0\" cy=\"0\" r=\"3\" /><text class=\"lab rgt\" transform=\"translate(3 -7.0)\">13</text></g><path class=\"edge\" d=\"M 0 0 V -225.178 H 38.42\" /><circle class=\"sym\" cx=\"0\" cy=\"0\" r=\"3\" /><text class=\"lab lft\" transform=\"translate(-3 -7.0)\">14</text></g><circle class=\"sym\" cx=\"0\" cy=\"0\" r=\"3\" /><text class=\"lab\" transform=\"translate(0 -11)\">16</text></g></g></g><g class=\"tree t1\" transform=\"translate(241.44 0)\"><g class=\"plotbox\"><g class=\"c2 node n17 p0 root\" transform=\"translate(108.14 26.8)\"><g class=\"a17 c2 node n10 p0\" transform=\"translate(38.42 287.512)\"><g class=\"a10 i1 leaf node n3 p0 sample\" transform=\"translate(-9.04 7.08778)\"><path class=\"edge\" d=\"M 0 0 V -7.08778 H 9.04\" /><rect class=\"sym\" height=\"6\" width=\"6\" x=\"-3\" y=\"-3\" /><text class=\"lab\" transform=\"translate(0 11)\">3</text></g><g class=\"a10 i2 leaf node n4 p0 sample\" transform=\"translate(9.04 7.08778)\"><path class=\"edge\" d=\"M 0 0 V -7.08778 H -9.04\" /><rect class=\"sym\" height=\"6\" width=\"6\" x=\"-3\" y=\"-3\" /><text class=\"lab\" transform=\"translate(0 11)\">4</text></g><path class=\"edge\" d=\"M 0 0 V -287.512 H -38.42\" /><circle class=\"sym\" cx=\"0\" cy=\"0\" r=\"3\" /><text class=\"lab rgt\" transform=\"translate(3 -7.0)\">10</text></g><g class=\"a17 c2 node n14 p0\" transform=\"translate(-38.42 259.468)\"><g class=\"a14 c2 node n11 p0\" transform=\"translate(-27.12 21.0652)\"><g class=\"a11 i0 leaf node n0 p0 sample\" transform=\"translate(-13.56 14.0667)\"><path class=\"edge\" d=\"M 0 0 V -14.0667 H 13.56\" /><rect class=\"sym\" height=\"6\" width=\"6\" x=\"-3\" y=\"-3\" /><text class=\"lab\" transform=\"translate(0 11)\">0</text></g><g class=\"a11 c2 node n8 p0\" transform=\"translate(13.56 10.1856)\"><g class=\"a8 i2 leaf node n5 p0 sample\" transform=\"translate(-9.04 3.88109)\"><path class=\"edge\" d=\"M 0 0 V -3.88109 H 9.04\" /><rect class=\"sym\" height=\"6\" width=\"6\" x=\"-3\" y=\"-3\" /><text class=\"lab\" transform=\"translate(0 11)\">5</text></g><g class=\"a8 i3 leaf node n7 p0 sample\" transform=\"translate(9.04 3.88109)\"><path class=\"edge\" d=\"M 0 0 V -3.88109 H -9.04\" /><rect class=\"sym\" height=\"6\" width=\"6\" x=\"-3\" y=\"-3\" /><text class=\"lab\" transform=\"translate(0 11)\">7</text></g><path class=\"edge\" d=\"M 0 0 V -10.1856 H -13.56\" /><circle class=\"sym\" cx=\"0\" cy=\"0\" r=\"3\" /><text class=\"lab rgt\" transform=\"translate(3 -7.0)\">8</text></g><path class=\"edge\" d=\"M 0 0 V -21.0652 H 27.12\" /><circle class=\"sym\" cx=\"0\" cy=\"0\" r=\"3\" /><text class=\"lab lft\" transform=\"translate(-3 -7.0)\">11</text></g><g class=\"a14 c2 node n13 p0\" transform=\"translate(27.12 1.9171)\"><g class=\"a13 i0 leaf node n1 p0 sample\" transform=\"translate(-13.56 33.2147)\"><path class=\"edge\" d=\"M 0 0 V -33.2147 H 13.56\" /><rect class=\"sym\" height=\"6\" width=\"6\" x=\"-3\" y=\"-3\" /><text class=\"lab\" transform=\"translate(0 11)\">1</text></g><g class=\"a13 c2 node n12 p0\" transform=\"translate(13.56 7.8951)\"><g class=\"a12 i1 leaf node n2 p0 sample\" transform=\"translate(-9.04 25.3196)\"><path class=\"edge\" d=\"M 0 0 V -25.3196 H 9.04\" /><rect class=\"sym\" height=\"6\" width=\"6\" x=\"-3\" y=\"-3\" /><text class=\"lab\" transform=\"translate(0 11)\">2</text></g><g class=\"a12 i3 leaf node n6 p0 sample\" transform=\"translate(9.04 25.3196)\"><path class=\"edge\" d=\"M 0 0 V -25.3196 H -9.04\" /><rect class=\"sym\" height=\"6\" width=\"6\" x=\"-3\" y=\"-3\" /><text class=\"lab\" transform=\"translate(0 11)\">6</text></g><path class=\"edge\" d=\"M 0 0 V -7.8951 H -13.56\" /><circle class=\"sym\" cx=\"0\" cy=\"0\" r=\"3\" /><text class=\"lab rgt\" transform=\"translate(3 -7.0)\">12</text></g><path class=\"edge\" d=\"M 0 0 V -1.9171 H -27.12\" /><circle class=\"sym\" cx=\"0\" cy=\"0\" r=\"3\" /><text class=\"lab rgt\" transform=\"translate(3 -7.0)\">13</text></g><path class=\"edge\" d=\"M 0 0 V -259.468 H 38.42\" /><circle class=\"sym\" cx=\"0\" cy=\"0\" r=\"3\" /><text class=\"lab lft\" transform=\"translate(-3 -7.0)\">14</text></g><circle class=\"sym\" cx=\"0\" cy=\"0\" r=\"3\" /><text class=\"lab\" transform=\"translate(0 -11)\">17</text></g></g></g><g class=\"tree t2\" transform=\"translate(426.08 0)\"><g class=\"plotbox\"><g class=\"c2 node n15 p0 root\" transform=\"translate(108.14 141.477)\"><g class=\"a15 c2 node n10 p0\" transform=\"translate(38.42 172.836)\"><g class=\"a10 i1 leaf node n3 p0 sample\" transform=\"translate(-9.04 7.08778)\"><path class=\"edge\" d=\"M 0 0 V -7.08778 H 9.04\" /><rect class=\"sym\" height=\"6\" width=\"6\" x=\"-3\" y=\"-3\" /><text class=\"lab\" transform=\"translate(0 11)\">3</text></g><g class=\"a10 i2 leaf node n4 p0 sample\" transform=\"translate(9.04 7.08778)\"><path class=\"edge\" d=\"M 0 0 V -7.08778 H -9.04\" /><rect class=\"sym\" height=\"6\" width=\"6\" x=\"-3\" y=\"-3\" /><text class=\"lab\" transform=\"translate(0 11)\">4</text></g><path class=\"edge\" d=\"M 0 0 V -172.836 H -38.42\" /><circle class=\"sym\" cx=\"0\" cy=\"0\" r=\"3\" /><text class=\"lab rgt\" transform=\"translate(3 -7.0)\">10</text></g><g class=\"a15 c2 node n14 p0\" transform=\"translate(-38.42 144.792)\"><g class=\"a14 c2 node n11 p0\" transform=\"translate(-27.12 21.0652)\"><g class=\"a11 i0 leaf node n0 p0 sample\" transform=\"translate(-13.56 14.0667)\"><path class=\"edge\" d=\"M 0 0 V -14.0667 H 13.56\" /><rect class=\"sym\" height=\"6\" width=\"6\" x=\"-3\" y=\"-3\" /><text class=\"lab\" transform=\"translate(0 11)\">0</text></g><g class=\"a11 c2 node n8 p0\" transform=\"translate(13.56 10.1856)\"><g class=\"a8 i2 leaf node n5 p0 sample\" transform=\"translate(-9.04 3.88109)\"><path class=\"edge\" d=\"M 0 0 V -3.88109 H 9.04\" /><rect class=\"sym\" height=\"6\" width=\"6\" x=\"-3\" y=\"-3\" /><text class=\"lab\" transform=\"translate(0 11)\">5</text></g><g class=\"a8 i3 leaf node n7 p0 sample\" transform=\"translate(9.04 3.88109)\"><path class=\"edge\" d=\"M 0 0 V -3.88109 H -9.04\" /><rect class=\"sym\" height=\"6\" width=\"6\" x=\"-3\" y=\"-3\" /><text class=\"lab\" transform=\"translate(0 11)\">7</text></g><path class=\"edge\" d=\"M 0 0 V -10.1856 H -13.56\" /><circle class=\"sym\" cx=\"0\" cy=\"0\" r=\"3\" /><text class=\"lab rgt\" transform=\"translate(3 -7.0)\">8</text></g><path class=\"edge\" d=\"M 0 0 V -21.0652 H 27.12\" /><circle class=\"sym\" cx=\"0\" cy=\"0\" r=\"3\" /><text class=\"lab lft\" transform=\"translate(-3 -7.0)\">11</text></g><g class=\"a14 c2 node n13 p0\" transform=\"translate(27.12 1.9171)\"><g class=\"a13 i0 leaf node n1 p0 sample\" transform=\"translate(-13.56 33.2147)\"><path class=\"edge\" d=\"M 0 0 V -33.2147 H 13.56\" /><rect class=\"sym\" height=\"6\" width=\"6\" x=\"-3\" y=\"-3\" /><text class=\"lab\" transform=\"translate(0 11)\">1</text></g><g class=\"a13 c2 node n12 p0\" transform=\"translate(13.56 7.8951)\"><g class=\"a12 i1 leaf node n2 p0 sample\" transform=\"translate(-9.04 25.3196)\"><path class=\"edge\" d=\"M 0 0 V -25.3196 H 9.04\" /><rect class=\"sym\" height=\"6\" width=\"6\" x=\"-3\" y=\"-3\" /><text class=\"lab\" transform=\"translate(0 11)\">2</text></g><g class=\"a12 i3 leaf node n6 p0 sample\" transform=\"translate(9.04 25.3196)\"><path class=\"edge\" d=\"M 0 0 V -25.3196 H -9.04\" /><rect class=\"sym\" height=\"6\" width=\"6\" x=\"-3\" y=\"-3\" /><text class=\"lab\" transform=\"translate(0 11)\">6</text></g><path class=\"edge\" d=\"M 0 0 V -7.8951 H -13.56\" /><circle class=\"sym\" cx=\"0\" cy=\"0\" r=\"3\" /><text class=\"lab rgt\" transform=\"translate(3 -7.0)\">12</text></g><path class=\"edge\" d=\"M 0 0 V -1.9171 H -27.12\" /><circle class=\"sym\" cx=\"0\" cy=\"0\" r=\"3\" /><text class=\"lab rgt\" transform=\"translate(3 -7.0)\">13</text></g><path class=\"edge\" d=\"M 0 0 V -144.792 H 38.42\" /><circle class=\"sym\" cx=\"0\" cy=\"0\" r=\"3\" /><text class=\"lab lft\" transform=\"translate(-3 -7.0)\">14</text></g><circle class=\"sym\" cx=\"0\" cy=\"0\" r=\"3\" /><text class=\"lab\" transform=\"translate(0 -11)\">15</text></g></g></g><g class=\"tree t3\" transform=\"translate(610.72 0)\"><g class=\"plotbox\"><g class=\"c2 node n17 p0 root\" transform=\"translate(108.14 26.8)\"><g class=\"a17 c2 node n10 p0\" transform=\"translate(38.42 287.512)\"><g class=\"a10 i1 leaf node n3 p0 sample\" transform=\"translate(-9.04 7.08778)\"><path class=\"edge\" d=\"M 0 0 V -7.08778 H 9.04\" /><rect class=\"sym\" height=\"6\" width=\"6\" x=\"-3\" y=\"-3\" /><text class=\"lab\" transform=\"translate(0 11)\">3</text></g><g class=\"a10 i2 leaf node n4 p0 sample\" transform=\"translate(9.04 7.08778)\"><path class=\"edge\" d=\"M 0 0 V -7.08778 H -9.04\" /><rect class=\"sym\" height=\"6\" width=\"6\" x=\"-3\" y=\"-3\" /><text class=\"lab\" transform=\"translate(0 11)\">4</text></g><path class=\"edge\" d=\"M 0 0 V -287.512 H -38.42\" /><circle class=\"sym\" cx=\"0\" cy=\"0\" r=\"3\" /><text class=\"lab rgt\" transform=\"translate(3 -7.0)\">10</text></g><g class=\"a17 c2 node n14 p0\" transform=\"translate(-38.42 259.468)\"><g class=\"a14 c2 node n11 p0\" transform=\"translate(-27.12 21.0652)\"><g class=\"a11 i0 leaf node n0 p0 sample\" transform=\"translate(-13.56 14.0667)\"><path class=\"edge\" d=\"M 0 0 V -14.0667 H 13.56\" /><rect class=\"sym\" height=\"6\" width=\"6\" x=\"-3\" y=\"-3\" /><text class=\"lab\" transform=\"translate(0 11)\">0</text></g><g class=\"a11 c2 node n8 p0\" transform=\"translate(13.56 10.1856)\"><g class=\"a8 i2 leaf node n5 p0 sample\" transform=\"translate(-9.04 3.88109)\"><path class=\"edge\" d=\"M 0 0 V -3.88109 H 9.04\" /><rect class=\"sym\" height=\"6\" width=\"6\" x=\"-3\" y=\"-3\" /><text class=\"lab\" transform=\"translate(0 11)\">5</text></g><g class=\"a8 i3 leaf node n7 p0 sample\" transform=\"translate(9.04 3.88109)\"><path class=\"edge\" d=\"M 0 0 V -3.88109 H -9.04\" /><rect class=\"sym\" height=\"6\" width=\"6\" x=\"-3\" y=\"-3\" /><text class=\"lab\" transform=\"translate(0 11)\">7</text></g><path class=\"edge\" d=\"M 0 0 V -10.1856 H -13.56\" /><circle class=\"sym\" cx=\"0\" cy=\"0\" r=\"3\" /><text class=\"lab rgt\" transform=\"translate(3 -7.0)\">8</text></g><path class=\"edge\" d=\"M 0 0 V -21.0652 H 27.12\" /><circle class=\"sym\" cx=\"0\" cy=\"0\" r=\"3\" /><text class=\"lab lft\" transform=\"translate(-3 -7.0)\">11</text></g><g class=\"a14 c2 node n13 p0\" transform=\"translate(27.12 1.9171)\"><g class=\"a13 i0 leaf node n1 p0 sample\" transform=\"translate(-13.56 33.2147)\"><path class=\"edge\" d=\"M 0 0 V -33.2147 H 13.56\" /><rect class=\"sym\" height=\"6\" width=\"6\" x=\"-3\" y=\"-3\" /><text class=\"lab\" transform=\"translate(0 11)\">1</text></g><g class=\"a13 c2 node n12 p0\" transform=\"translate(13.56 7.8951)\"><g class=\"a12 i1 leaf node n2 p0 sample\" transform=\"translate(-9.04 25.3196)\"><path class=\"edge\" d=\"M 0 0 V -25.3196 H 9.04\" /><rect class=\"sym\" height=\"6\" width=\"6\" x=\"-3\" y=\"-3\" /><text class=\"lab\" transform=\"translate(0 11)\">2</text></g><g class=\"a12 i3 leaf node n6 p0 sample\" transform=\"translate(9.04 25.3196)\"><path class=\"edge\" d=\"M 0 0 V -25.3196 H -9.04\" /><rect class=\"sym\" height=\"6\" width=\"6\" x=\"-3\" y=\"-3\" /><text class=\"lab\" transform=\"translate(0 11)\">6</text></g><path class=\"edge\" d=\"M 0 0 V -7.8951 H -13.56\" /><circle class=\"sym\" cx=\"0\" cy=\"0\" r=\"3\" /><text class=\"lab rgt\" transform=\"translate(3 -7.0)\">12</text></g><path class=\"edge\" d=\"M 0 0 V -1.9171 H -27.12\" /><circle class=\"sym\" cx=\"0\" cy=\"0\" r=\"3\" /><text class=\"lab rgt\" transform=\"translate(3 -7.0)\">13</text></g><path class=\"edge\" d=\"M 0 0 V -259.468 H 38.42\" /><circle class=\"sym\" cx=\"0\" cy=\"0\" r=\"3\" /><text class=\"lab lft\" transform=\"translate(-3 -7.0)\">14</text></g><circle class=\"sym\" cx=\"0\" cy=\"0\" r=\"3\" /><text class=\"lab\" transform=\"translate(0 -11)\">17</text></g></g></g><g class=\"tree t4\" transform=\"translate(795.36 0)\"><g class=\"plotbox\"><g class=\"c2 node n17 p0 root\" transform=\"translate(112.095 26.8)\"><g class=\"a17 c2 node n10 p0\" transform=\"translate(34.465 287.512)\"><g class=\"a10 i1 leaf node n3 p0 sample\" transform=\"translate(-9.04 7.08778)\"><path class=\"edge\" d=\"M 0 0 V -7.08778 H 9.04\" /><rect class=\"sym\" height=\"6\" width=\"6\" x=\"-3\" y=\"-3\" /><text class=\"lab\" transform=\"translate(0 11)\">3</text></g><g class=\"a10 i2 leaf node n4 p0 sample\" transform=\"translate(9.04 7.08778)\"><path class=\"edge\" d=\"M 0 0 V -7.08778 H -9.04\" /><rect class=\"sym\" height=\"6\" width=\"6\" x=\"-3\" y=\"-3\" /><text class=\"lab\" transform=\"translate(0 11)\">4</text></g><path class=\"edge\" d=\"M 0 0 V -287.512 H -34.465\" /><circle class=\"sym\" cx=\"0\" cy=\"0\" r=\"3\" /><text class=\"lab rgt\" transform=\"translate(3 -7.0)\">10</text></g><g class=\"a17 c2 node n14 p0\" transform=\"translate(-34.465 259.468)\"><g class=\"a14 c2 node n11 p0\" transform=\"translate(-32.77 21.0652)\"><g class=\"a11 i0 leaf node n0 p0 sample\" transform=\"translate(-15.82 14.0667)\"><path class=\"edge\" d=\"M 0 0 V -14.0667 H 15.82\" /><rect class=\"sym\" height=\"6\" width=\"6\" x=\"-3\" y=\"-3\" /><text class=\"lab\" transform=\"translate(0 11)\">0</text></g><g class=\"a11 c2 node n9 p0\" transform=\"translate(15.82 9.01164)\"><g class=\"a9 i1 leaf node n2 p0 sample\" transform=\"translate(-13.56 5.05502)\"><path class=\"edge\" d=\"M 0 0 V -5.05502 H 13.56\" /><rect class=\"sym\" height=\"6\" width=\"6\" x=\"-3\" y=\"-3\" /><text class=\"lab\" transform=\"translate(0 11)\">2</text></g><g class=\"a9 c2 node n8 p0\" transform=\"translate(13.56 1.17393)\"><g class=\"a8 i2 leaf node n5 p0 sample\" transform=\"translate(-9.04 3.88109)\"><path class=\"edge\" d=\"M 0 0 V -3.88109 H 9.04\" /><rect class=\"sym\" height=\"6\" width=\"6\" x=\"-3\" y=\"-3\" /><text class=\"lab\" transform=\"translate(0 11)\">5</text></g><g class=\"a8 i3 leaf node n7 p0 sample\" transform=\"translate(9.04 3.88109)\"><path class=\"edge\" d=\"M 0 0 V -3.88109 H -9.04\" /><rect class=\"sym\" height=\"6\" width=\"6\" x=\"-3\" y=\"-3\" /><text class=\"lab\" transform=\"translate(0 11)\">7</text></g><path class=\"edge\" d=\"M 0 0 V -1.17393 H -13.56\" /><circle class=\"sym\" cx=\"0\" cy=\"0\" r=\"3\" /><text class=\"lab rgt\" transform=\"translate(3 -7.0)\">8</text></g><path class=\"edge\" d=\"M 0 0 V -9.01164 H -15.82\" /><circle class=\"sym\" cx=\"0\" cy=\"0\" r=\"3\" /><text class=\"lab rgt\" transform=\"translate(3 -7.0)\">9</text></g><path class=\"edge\" d=\"M 0 0 V -21.0652 H 32.77\" /><circle class=\"sym\" cx=\"0\" cy=\"0\" r=\"3\" /><text class=\"lab lft\" transform=\"translate(-3 -7.0)\">11</text></g><g class=\"a14 c2 node n13 p0\" transform=\"translate(32.77 1.9171)\"><g class=\"a13 i0 leaf node n1 p0 sample\" transform=\"translate(-9.04 33.2147)\"><path class=\"edge\" d=\"M 0 0 V -33.2147 H 9.04\" /><rect class=\"sym\" height=\"6\" width=\"6\" x=\"-3\" y=\"-3\" /><text class=\"lab\" transform=\"translate(0 11)\">1</text></g><g class=\"a13 i3 leaf node n6 p0 sample\" transform=\"translate(9.04 33.2147)\"><path class=\"edge\" d=\"M 0 0 V -33.2147 H -9.04\" /><rect class=\"sym\" height=\"6\" width=\"6\" x=\"-3\" y=\"-3\" /><text class=\"lab\" transform=\"translate(0 11)\">6</text></g><path class=\"edge\" d=\"M 0 0 V -1.9171 H -32.77\" /><circle class=\"sym\" cx=\"0\" cy=\"0\" r=\"3\" /><text class=\"lab rgt\" transform=\"translate(3 -7.0)\">13</text></g><path class=\"edge\" d=\"M 0 0 V -259.468 H 34.465\" /><circle class=\"sym\" cx=\"0\" cy=\"0\" r=\"3\" /><text class=\"lab lft\" transform=\"translate(-3 -7.0)\">14</text></g><circle class=\"sym\" cx=\"0\" cy=\"0\" r=\"3\" /><text class=\"lab\" transform=\"translate(0 -11)\">17</text></g></g></g></g></g></svg>"
      ],
      "text/plain": [
       "'<svg baseProfile=\"full\" height=\"400\" version=\"1.1\" width=\"1000\" xmlns=\"http://www.w3.org/2000/svg\" xmlns:ev=\"http://www.w3.org/2001/xml-events\" xmlns:xlink=\"http://www.w3.org/1999/xlink\"><defs><style type=\"text/css\"><![CDATA[.background path {fill: #808080; fill-opacity: 0}.background path:nth-child(odd) {fill-opacity: .1}.axes {font-size: 14px}.x-axis .tick .lab {font-weight: bold; dominant-baseline: hanging}.axes, .tree {font-size: 14px; text-anchor: middle}.axes line, .edge {stroke: black; fill: none}.axes .ax-skip {stroke-dasharray: 4}.y-axis .grid {stroke: #FAFAFA}.node > .sym {fill: black; stroke: none}.site > .sym {stroke: black}.mut text {fill: red; font-style: italic}.mut.extra text {fill: hotpink}.mut line {fill: none; stroke: none}.mut .sym {fill: none; stroke: red}.mut.extra .sym {stroke: hotpink}.node .mut .sym {stroke-width: 1.5px}.tree text, .tree-sequence text {dominant-baseline: central}.plotbox .lab.lft {text-anchor: end}.plotbox .lab.rgt {text-anchor: start}]]></style></defs><g class=\"tree-sequence\"><g class=\"background\"><path d=\"M56.8,0 l184.64,0 l0,338.2 l-92.32,25 l0,5 l-92.32,0 l0,-5 l0,-25 l0,-338.2z\" /><path d=\"M241.44,0 l184.64,0 l0,338.2 l-92.32,25 l0,5 l-184.64,0 l0,-5 l92.32,-25 l0,-338.2z\" /><path d=\"M426.08,0 l184.64,0 l0,338.2 l0,25 l0,5 l-276.96,0 l0,-5 l92.32,-25 l0,-338.2z\" /><path d=\"M610.72,0 l184.64,0 l0,338.2 l-92.32,25 l0,5 l-92.32,0 l0,-5 l0,-25 l0,-338.2z\" /><path d=\"M795.36,0 l184.64,0 l0,338.2 l0,25 l0,5 l-276.96,0 l0,-5 l92.32,-25 l0,-338.2z\" /></g><g class=\"axes\"><g class=\"x-axis\"><g class=\"title\" transform=\"translate(518.4 400)\"><text class=\"lab\" text-anchor=\"middle\" transform=\"translate(0 -11)\">Genome position</text></g><line class=\"ax-line\" x1=\"56.8\" x2=\"980\" y1=\"363.2\" y2=\"363.2\" /><g class=\"ticks\"><g class=\"tick\" transform=\"translate(56.8 363.2)\"><line x1=\"0\" x2=\"0\" y1=\"0\" y2=\"5\" /><g transform=\"translate(0 6)\"><text class=\"lab\">0</text></g></g><g class=\"tick\" transform=\"translate(149.12 363.2)\"><line x1=\"0\" x2=\"0\" y1=\"0\" y2=\"5\" /><g transform=\"translate(0 6)\"><text class=\"lab\">1</text></g></g><g class=\"tick\" transform=\"translate(333.76 363.2)\"><line x1=\"0\" x2=\"0\" y1=\"0\" y2=\"5\" /><g transform=\"translate(0 6)\"><text class=\"lab\">3</text></g></g><g class=\"tick\" transform=\"translate(610.72 363.2)\"><line x1=\"0\" x2=\"0\" y1=\"0\" y2=\"5\" /><g transform=\"translate(0 6)\"><text class=\"lab\">6</text></g></g><g class=\"tick\" transform=\"translate(703.04 363.2)\"><line x1=\"0\" x2=\"0\" y1=\"0\" y2=\"5\" /><g transform=\"translate(0 6)\"><text class=\"lab\">7</text></g></g><g class=\"tick\" transform=\"translate(980 363.2)\"><line x1=\"0\" x2=\"0\" y1=\"0\" y2=\"5\" /><g transform=\"translate(0 6)\"><text class=\"lab\">10</text></g></g></g></g><g class=\"y-axis\"><g class=\"title\" transform=\"translate(0 165.7)\"><text class=\"lab\" text-anchor=\"middle\" transform=\"translate(11) rotate(-90)\">Time (generations)</text></g><line class=\"ax-line\" x1=\"56.8\" x2=\"56.8\" y1=\"321.4\" y2=\"10\" /><g class=\"ticks\"><g class=\"tick\" transform=\"translate(56.8 321.4)\"><line x1=\"0\" x2=\"-5\" y1=\"0\" y2=\"0\" /><g transform=\"translate(-6 0)\"><text class=\"lab\" text-anchor=\"end\">0.00</text></g></g><g class=\"tick\" transform=\"translate(56.8 317.519)\"><line x1=\"0\" x2=\"-5\" y1=\"0\" y2=\"0\" /><g transform=\"translate(-6 0)\"><text class=\"lab\" text-anchor=\"end\">0.04</text></g></g><g class=\"tick\" transform=\"translate(56.8 316.345)\"><line x1=\"0\" x2=\"-5\" y1=\"0\" y2=\"0\" /><g transform=\"translate(-6 0)\"><text class=\"lab\" text-anchor=\"end\">0.05</text></g></g><g class=\"tick\" transform=\"translate(56.8 314.312)\"><line x1=\"0\" x2=\"-5\" y1=\"0\" y2=\"0\" /><g transform=\"translate(-6 0)\"><text class=\"lab\" text-anchor=\"end\">0.07</text></g></g><g class=\"tick\" transform=\"translate(56.8 307.333)\"><line x1=\"0\" x2=\"-5\" y1=\"0\" y2=\"0\" /><g transform=\"translate(-6 0)\"><text class=\"lab\" text-anchor=\"end\">0.14</text></g></g><g class=\"tick\" transform=\"translate(56.8 296.08)\"><line x1=\"0\" x2=\"-5\" y1=\"0\" y2=\"0\" /><g transform=\"translate(-6 0)\"><text class=\"lab\" text-anchor=\"end\">0.24</text></g></g><g class=\"tick\" transform=\"translate(56.8 288.185)\"><line x1=\"0\" x2=\"-5\" y1=\"0\" y2=\"0\" /><g transform=\"translate(-6 0)\"><text class=\"lab\" text-anchor=\"end\">0.32</text></g></g><g class=\"tick\" transform=\"translate(56.8 286.268)\"><line x1=\"0\" x2=\"-5\" y1=\"0\" y2=\"0\" /><g transform=\"translate(-6 0)\"><text class=\"lab\" text-anchor=\"end\">0.34</text></g></g><g class=\"tick\" transform=\"translate(56.8 141.477)\"><line x1=\"0\" x2=\"-5\" y1=\"0\" y2=\"0\" /><g transform=\"translate(-6 0)\"><text class=\"lab\" text-anchor=\"end\">1.74</text></g></g><g class=\"tick\" transform=\"translate(56.8 61.0902)\"><line x1=\"0\" x2=\"-5\" y1=\"0\" y2=\"0\" /><g transform=\"translate(-6 0)\"><text class=\"lab\" text-anchor=\"end\">2.51</text></g></g><g class=\"tick\" transform=\"translate(56.8 26.8)\"><line x1=\"0\" x2=\"-5\" y1=\"0\" y2=\"0\" /><g transform=\"translate(-6 0)\"><text class=\"lab\" text-anchor=\"end\">2.84</text></g></g></g></g></g><g class=\"plotbox trees\"><g class=\"tree t0\" transform=\"translate(56.8 0)\"><g class=\"plotbox\"><g class=\"c2 node n16 p0 root\" transform=\"translate(108.14 61.0902)\"><g class=\"a16 c2 node n10 p0\" transform=\"translate(38.42 253.222)\"><g class=\"a10 i1 leaf node n3 p0 sample\" transform=\"translate(-9.04 7.08778)\"><path class=\"edge\" d=\"M 0 0 V -7.08778 H 9.04\" /><rect class=\"sym\" height=\"6\" width=\"6\" x=\"-3\" y=\"-3\" /><text class=\"lab\" transform=\"translate(0 11)\">3</text></g><g class=\"a10 i2 leaf node n4 p0 sample\" transform=\"translate(9.04 7.08778)\"><path class=\"edge\" d=\"M 0 0 V -7.08778 H -9.04\" /><rect class=\"sym\" height=\"6\" width=\"6\" x=\"-3\" y=\"-3\" /><text class=\"lab\" transform=\"translate(0 11)\">4</text></g><path class=\"edge\" d=\"M 0 0 V -253.222 H -38.42\" /><circle class=\"sym\" cx=\"0\" cy=\"0\" r=\"3\" /><text class=\"lab rgt\" transform=\"translate(3 -7.0)\">10</text></g><g class=\"a16 c2 node n14 p0\" transform=\"translate(-38.42 225.178)\"><g class=\"a14 c2 node n11 p0\" transform=\"translate(-27.12 21.0652)\"><g class=\"a11 i0 leaf node n0 p0 sample\" transform=\"translate(-13.56 14.0667)\"><path class=\"edge\" d=\"M 0 0 V -14.0667 H 13.56\" /><rect class=\"sym\" height=\"6\" width=\"6\" x=\"-3\" y=\"-3\" /><text class=\"lab\" transform=\"translate(0 11)\">0</text></g><g class=\"a11 c2 node n8 p0\" transform=\"translate(13.56 10.1856)\"><g class=\"a8 i2 leaf node n5 p0 sample\" transform=\"translate(-9.04 3.88109)\"><path class=\"edge\" d=\"M 0 0 V -3.88109 H 9.04\" /><rect class=\"sym\" height=\"6\" width=\"6\" x=\"-3\" y=\"-3\" /><text class=\"lab\" transform=\"translate(0 11)\">5</text></g><g class=\"a8 i3 leaf node n7 p0 sample\" transform=\"translate(9.04 3.88109)\"><path class=\"edge\" d=\"M 0 0 V -3.88109 H -9.04\" /><rect class=\"sym\" height=\"6\" width=\"6\" x=\"-3\" y=\"-3\" /><text class=\"lab\" transform=\"translate(0 11)\">7</text></g><path class=\"edge\" d=\"M 0 0 V -10.1856 H -13.56\" /><circle class=\"sym\" cx=\"0\" cy=\"0\" r=\"3\" /><text class=\"lab rgt\" transform=\"translate(3 -7.0)\">8</text></g><path class=\"edge\" d=\"M 0 0 V -21.0652 H 27.12\" /><circle class=\"sym\" cx=\"0\" cy=\"0\" r=\"3\" /><text class=\"lab lft\" transform=\"translate(-3 -7.0)\">11</text></g><g class=\"a14 c2 node n13 p0\" transform=\"translate(27.12 1.9171)\"><g class=\"a13 i0 leaf node n1 p0 sample\" transform=\"translate(-13.56 33.2147)\"><path class=\"edge\" d=\"M 0 0 V -33.2147 H 13.56\" /><rect class=\"sym\" height=\"6\" width=\"6\" x=\"-3\" y=\"-3\" /><text class=\"lab\" transform=\"translate(0 11)\">1</text></g><g class=\"a13 c2 node n12 p0\" transform=\"translate(13.56 7.8951)\"><g class=\"a12 i1 leaf node n2 p0 sample\" transform=\"translate(-9.04 25.3196)\"><path class=\"edge\" d=\"M 0 0 V -25.3196 H 9.04\" /><rect class=\"sym\" height=\"6\" width=\"6\" x=\"-3\" y=\"-3\" /><text class=\"lab\" transform=\"translate(0 11)\">2</text></g><g class=\"a12 i3 leaf node n6 p0 sample\" transform=\"translate(9.04 25.3196)\"><path class=\"edge\" d=\"M 0 0 V -25.3196 H -9.04\" /><rect class=\"sym\" height=\"6\" width=\"6\" x=\"-3\" y=\"-3\" /><text class=\"lab\" transform=\"translate(0 11)\">6</text></g><path class=\"edge\" d=\"M 0 0 V -7.8951 H -13.56\" /><circle class=\"sym\" cx=\"0\" cy=\"0\" r=\"3\" /><text class=\"lab rgt\" transform=\"translate(3 -7.0)\">12</text></g><path class=\"edge\" d=\"M 0 0 V -1.9171 H -27.12\" /><circle class=\"sym\" cx=\"0\" cy=\"0\" r=\"3\" /><text class=\"lab rgt\" transform=\"translate(3 -7.0)\">13</text></g><path class=\"edge\" d=\"M 0 0 V -225.178 H 38.42\" /><circle class=\"sym\" cx=\"0\" cy=\"0\" r=\"3\" /><text class=\"lab lft\" transform=\"translate(-3 -7.0)\">14</text></g><circle class=\"sym\" cx=\"0\" cy=\"0\" r=\"3\" /><text class=\"lab\" transform=\"translate(0 -11)\">16</text></g></g></g><g class=\"tree t1\" transform=\"translate(241.44 0)\"><g class=\"plotbox\"><g class=\"c2 node n17 p0 root\" transform=\"translate(108.14 26.8)\"><g class=\"a17 c2 node n10 p0\" transform=\"translate(38.42 287.512)\"><g class=\"a10 i1 leaf node n3 p0 sample\" transform=\"translate(-9.04 7.08778)\"><path class=\"edge\" d=\"M 0 0 V -7.08778 H 9.04\" /><rect class=\"sym\" height=\"6\" width=\"6\" x=\"-3\" y=\"-3\" /><text class=\"lab\" transform=\"translate(0 11)\">3</text></g><g class=\"a10 i2 leaf node n4 p0 sample\" transform=\"translate(9.04 7.08778)\"><path class=\"edge\" d=\"M 0 0 V -7.08778 H -9.04\" /><rect class=\"sym\" height=\"6\" width=\"6\" x=\"-3\" y=\"-3\" /><text class=\"lab\" transform=\"translate(0 11)\">4</text></g><path class=\"edge\" d=\"M 0 0 V -287.512 H -38.42\" /><circle class=\"sym\" cx=\"0\" cy=\"0\" r=\"3\" /><text class=\"lab rgt\" transform=\"translate(3 -7.0)\">10</text></g><g class=\"a17 c2 node n14 p0\" transform=\"translate(-38.42 259.468)\"><g class=\"a14 c2 node n11 p0\" transform=\"translate(-27.12 21.0652)\"><g class=\"a11 i0 leaf node n0 p0 sample\" transform=\"translate(-13.56 14.0667)\"><path class=\"edge\" d=\"M 0 0 V -14.0667 H 13.56\" /><rect class=\"sym\" height=\"6\" width=\"6\" x=\"-3\" y=\"-3\" /><text class=\"lab\" transform=\"translate(0 11)\">0</text></g><g class=\"a11 c2 node n8 p0\" transform=\"translate(13.56 10.1856)\"><g class=\"a8 i2 leaf node n5 p0 sample\" transform=\"translate(-9.04 3.88109)\"><path class=\"edge\" d=\"M 0 0 V -3.88109 H 9.04\" /><rect class=\"sym\" height=\"6\" width=\"6\" x=\"-3\" y=\"-3\" /><text class=\"lab\" transform=\"translate(0 11)\">5</text></g><g class=\"a8 i3 leaf node n7 p0 sample\" transform=\"translate(9.04 3.88109)\"><path class=\"edge\" d=\"M 0 0 V -3.88109 H -9.04\" /><rect class=\"sym\" height=\"6\" width=\"6\" x=\"-3\" y=\"-3\" /><text class=\"lab\" transform=\"translate(0 11)\">7</text></g><path class=\"edge\" d=\"M 0 0 V -10.1856 H -13.56\" /><circle class=\"sym\" cx=\"0\" cy=\"0\" r=\"3\" /><text class=\"lab rgt\" transform=\"translate(3 -7.0)\">8</text></g><path class=\"edge\" d=\"M 0 0 V -21.0652 H 27.12\" /><circle class=\"sym\" cx=\"0\" cy=\"0\" r=\"3\" /><text class=\"lab lft\" transform=\"translate(-3 -7.0)\">11</text></g><g class=\"a14 c2 node n13 p0\" transform=\"translate(27.12 1.9171)\"><g class=\"a13 i0 leaf node n1 p0 sample\" transform=\"translate(-13.56 33.2147)\"><path class=\"edge\" d=\"M 0 0 V -33.2147 H 13.56\" /><rect class=\"sym\" height=\"6\" width=\"6\" x=\"-3\" y=\"-3\" /><text class=\"lab\" transform=\"translate(0 11)\">1</text></g><g class=\"a13 c2 node n12 p0\" transform=\"translate(13.56 7.8951)\"><g class=\"a12 i1 leaf node n2 p0 sample\" transform=\"translate(-9.04 25.3196)\"><path class=\"edge\" d=\"M 0 0 V -25.3196 H 9.04\" /><rect class=\"sym\" height=\"6\" width=\"6\" x=\"-3\" y=\"-3\" /><text class=\"lab\" transform=\"translate(0 11)\">2</text></g><g class=\"a12 i3 leaf node n6 p0 sample\" transform=\"translate(9.04 25.3196)\"><path class=\"edge\" d=\"M 0 0 V -25.3196 H -9.04\" /><rect class=\"sym\" height=\"6\" width=\"6\" x=\"-3\" y=\"-3\" /><text class=\"lab\" transform=\"translate(0 11)\">6</text></g><path class=\"edge\" d=\"M 0 0 V -7.8951 H -13.56\" /><circle class=\"sym\" cx=\"0\" cy=\"0\" r=\"3\" /><text class=\"lab rgt\" transform=\"translate(3 -7.0)\">12</text></g><path class=\"edge\" d=\"M 0 0 V -1.9171 H -27.12\" /><circle class=\"sym\" cx=\"0\" cy=\"0\" r=\"3\" /><text class=\"lab rgt\" transform=\"translate(3 -7.0)\">13</text></g><path class=\"edge\" d=\"M 0 0 V -259.468 H 38.42\" /><circle class=\"sym\" cx=\"0\" cy=\"0\" r=\"3\" /><text class=\"lab lft\" transform=\"translate(-3 -7.0)\">14</text></g><circle class=\"sym\" cx=\"0\" cy=\"0\" r=\"3\" /><text class=\"lab\" transform=\"translate(0 -11)\">17</text></g></g></g><g class=\"tree t2\" transform=\"translate(426.08 0)\"><g class=\"plotbox\"><g class=\"c2 node n15 p0 root\" transform=\"translate(108.14 141.477)\"><g class=\"a15 c2 node n10 p0\" transform=\"translate(38.42 172.836)\"><g class=\"a10 i1 leaf node n3 p0 sample\" transform=\"translate(-9.04 7.08778)\"><path class=\"edge\" d=\"M 0 0 V -7.08778 H 9.04\" /><rect class=\"sym\" height=\"6\" width=\"6\" x=\"-3\" y=\"-3\" /><text class=\"lab\" transform=\"translate(0 11)\">3</text></g><g class=\"a10 i2 leaf node n4 p0 sample\" transform=\"translate(9.04 7.08778)\"><path class=\"edge\" d=\"M 0 0 V -7.08778 H -9.04\" /><rect class=\"sym\" height=\"6\" width=\"6\" x=\"-3\" y=\"-3\" /><text class=\"lab\" transform=\"translate(0 11)\">4</text></g><path class=\"edge\" d=\"M 0 0 V -172.836 H -38.42\" /><circle class=\"sym\" cx=\"0\" cy=\"0\" r=\"3\" /><text class=\"lab rgt\" transform=\"translate(3 -7.0)\">10</text></g><g class=\"a15 c2 node n14 p0\" transform=\"translate(-38.42 144.792)\"><g class=\"a14 c2 node n11 p0\" transform=\"translate(-27.12 21.0652)\"><g class=\"a11 i0 leaf node n0 p0 sample\" transform=\"translate(-13.56 14.0667)\"><path class=\"edge\" d=\"M 0 0 V -14.0667 H 13.56\" /><rect class=\"sym\" height=\"6\" width=\"6\" x=\"-3\" y=\"-3\" /><text class=\"lab\" transform=\"translate(0 11)\">0</text></g><g class=\"a11 c2 node n8 p0\" transform=\"translate(13.56 10.1856)\"><g class=\"a8 i2 leaf node n5 p0 sample\" transform=\"translate(-9.04 3.88109)\"><path class=\"edge\" d=\"M 0 0 V -3.88109 H 9.04\" /><rect class=\"sym\" height=\"6\" width=\"6\" x=\"-3\" y=\"-3\" /><text class=\"lab\" transform=\"translate(0 11)\">5</text></g><g class=\"a8 i3 leaf node n7 p0 sample\" transform=\"translate(9.04 3.88109)\"><path class=\"edge\" d=\"M 0 0 V -3.88109 H -9.04\" /><rect class=\"sym\" height=\"6\" width=\"6\" x=\"-3\" y=\"-3\" /><text class=\"lab\" transform=\"translate(0 11)\">7</text></g><path class=\"edge\" d=\"M 0 0 V -10.1856 H -13.56\" /><circle class=\"sym\" cx=\"0\" cy=\"0\" r=\"3\" /><text class=\"lab rgt\" transform=\"translate(3 -7.0)\">8</text></g><path class=\"edge\" d=\"M 0 0 V -21.0652 H 27.12\" /><circle class=\"sym\" cx=\"0\" cy=\"0\" r=\"3\" /><text class=\"lab lft\" transform=\"translate(-3 -7.0)\">11</text></g><g class=\"a14 c2 node n13 p0\" transform=\"translate(27.12 1.9171)\"><g class=\"a13 i0 leaf node n1 p0 sample\" transform=\"translate(-13.56 33.2147)\"><path class=\"edge\" d=\"M 0 0 V -33.2147 H 13.56\" /><rect class=\"sym\" height=\"6\" width=\"6\" x=\"-3\" y=\"-3\" /><text class=\"lab\" transform=\"translate(0 11)\">1</text></g><g class=\"a13 c2 node n12 p0\" transform=\"translate(13.56 7.8951)\"><g class=\"a12 i1 leaf node n2 p0 sample\" transform=\"translate(-9.04 25.3196)\"><path class=\"edge\" d=\"M 0 0 V -25.3196 H 9.04\" /><rect class=\"sym\" height=\"6\" width=\"6\" x=\"-3\" y=\"-3\" /><text class=\"lab\" transform=\"translate(0 11)\">2</text></g><g class=\"a12 i3 leaf node n6 p0 sample\" transform=\"translate(9.04 25.3196)\"><path class=\"edge\" d=\"M 0 0 V -25.3196 H -9.04\" /><rect class=\"sym\" height=\"6\" width=\"6\" x=\"-3\" y=\"-3\" /><text class=\"lab\" transform=\"translate(0 11)\">6</text></g><path class=\"edge\" d=\"M 0 0 V -7.8951 H -13.56\" /><circle class=\"sym\" cx=\"0\" cy=\"0\" r=\"3\" /><text class=\"lab rgt\" transform=\"translate(3 -7.0)\">12</text></g><path class=\"edge\" d=\"M 0 0 V -1.9171 H -27.12\" /><circle class=\"sym\" cx=\"0\" cy=\"0\" r=\"3\" /><text class=\"lab rgt\" transform=\"translate(3 -7.0)\">13</text></g><path class=\"edge\" d=\"M 0 0 V -144.792 H 38.42\" /><circle class=\"sym\" cx=\"0\" cy=\"0\" r=\"3\" /><text class=\"lab lft\" transform=\"translate(-3 -7.0)\">14</text></g><circle class=\"sym\" cx=\"0\" cy=\"0\" r=\"3\" /><text class=\"lab\" transform=\"translate(0 -11)\">15</text></g></g></g><g class=\"tree t3\" transform=\"translate(610.72 0)\"><g class=\"plotbox\"><g class=\"c2 node n17 p0 root\" transform=\"translate(108.14 26.8)\"><g class=\"a17 c2 node n10 p0\" transform=\"translate(38.42 287.512)\"><g class=\"a10 i1 leaf node n3 p0 sample\" transform=\"translate(-9.04 7.08778)\"><path class=\"edge\" d=\"M 0 0 V -7.08778 H 9.04\" /><rect class=\"sym\" height=\"6\" width=\"6\" x=\"-3\" y=\"-3\" /><text class=\"lab\" transform=\"translate(0 11)\">3</text></g><g class=\"a10 i2 leaf node n4 p0 sample\" transform=\"translate(9.04 7.08778)\"><path class=\"edge\" d=\"M 0 0 V -7.08778 H -9.04\" /><rect class=\"sym\" height=\"6\" width=\"6\" x=\"-3\" y=\"-3\" /><text class=\"lab\" transform=\"translate(0 11)\">4</text></g><path class=\"edge\" d=\"M 0 0 V -287.512 H -38.42\" /><circle class=\"sym\" cx=\"0\" cy=\"0\" r=\"3\" /><text class=\"lab rgt\" transform=\"translate(3 -7.0)\">10</text></g><g class=\"a17 c2 node n14 p0\" transform=\"translate(-38.42 259.468)\"><g class=\"a14 c2 node n11 p0\" transform=\"translate(-27.12 21.0652)\"><g class=\"a11 i0 leaf node n0 p0 sample\" transform=\"translate(-13.56 14.0667)\"><path class=\"edge\" d=\"M 0 0 V -14.0667 H 13.56\" /><rect class=\"sym\" height=\"6\" width=\"6\" x=\"-3\" y=\"-3\" /><text class=\"lab\" transform=\"translate(0 11)\">0</text></g><g class=\"a11 c2 node n8 p0\" transform=\"translate(13.56 10.1856)\"><g class=\"a8 i2 leaf node n5 p0 sample\" transform=\"translate(-9.04 3.88109)\"><path class=\"edge\" d=\"M 0 0 V -3.88109 H 9.04\" /><rect class=\"sym\" height=\"6\" width=\"6\" x=\"-3\" y=\"-3\" /><text class=\"lab\" transform=\"translate(0 11)\">5</text></g><g class=\"a8 i3 leaf node n7 p0 sample\" transform=\"translate(9.04 3.88109)\"><path class=\"edge\" d=\"M 0 0 V -3.88109 H -9.04\" /><rect class=\"sym\" height=\"6\" width=\"6\" x=\"-3\" y=\"-3\" /><text class=\"lab\" transform=\"translate(0 11)\">7</text></g><path class=\"edge\" d=\"M 0 0 V -10.1856 H -13.56\" /><circle class=\"sym\" cx=\"0\" cy=\"0\" r=\"3\" /><text class=\"lab rgt\" transform=\"translate(3 -7.0)\">8</text></g><path class=\"edge\" d=\"M 0 0 V -21.0652 H 27.12\" /><circle class=\"sym\" cx=\"0\" cy=\"0\" r=\"3\" /><text class=\"lab lft\" transform=\"translate(-3 -7.0)\">11</text></g><g class=\"a14 c2 node n13 p0\" transform=\"translate(27.12 1.9171)\"><g class=\"a13 i0 leaf node n1 p0 sample\" transform=\"translate(-13.56 33.2147)\"><path class=\"edge\" d=\"M 0 0 V -33.2147 H 13.56\" /><rect class=\"sym\" height=\"6\" width=\"6\" x=\"-3\" y=\"-3\" /><text class=\"lab\" transform=\"translate(0 11)\">1</text></g><g class=\"a13 c2 node n12 p0\" transform=\"translate(13.56 7.8951)\"><g class=\"a12 i1 leaf node n2 p0 sample\" transform=\"translate(-9.04 25.3196)\"><path class=\"edge\" d=\"M 0 0 V -25.3196 H 9.04\" /><rect class=\"sym\" height=\"6\" width=\"6\" x=\"-3\" y=\"-3\" /><text class=\"lab\" transform=\"translate(0 11)\">2</text></g><g class=\"a12 i3 leaf node n6 p0 sample\" transform=\"translate(9.04 25.3196)\"><path class=\"edge\" d=\"M 0 0 V -25.3196 H -9.04\" /><rect class=\"sym\" height=\"6\" width=\"6\" x=\"-3\" y=\"-3\" /><text class=\"lab\" transform=\"translate(0 11)\">6</text></g><path class=\"edge\" d=\"M 0 0 V -7.8951 H -13.56\" /><circle class=\"sym\" cx=\"0\" cy=\"0\" r=\"3\" /><text class=\"lab rgt\" transform=\"translate(3 -7.0)\">12</text></g><path class=\"edge\" d=\"M 0 0 V -1.9171 H -27.12\" /><circle class=\"sym\" cx=\"0\" cy=\"0\" r=\"3\" /><text class=\"lab rgt\" transform=\"translate(3 -7.0)\">13</text></g><path class=\"edge\" d=\"M 0 0 V -259.468 H 38.42\" /><circle class=\"sym\" cx=\"0\" cy=\"0\" r=\"3\" /><text class=\"lab lft\" transform=\"translate(-3 -7.0)\">14</text></g><circle class=\"sym\" cx=\"0\" cy=\"0\" r=\"3\" /><text class=\"lab\" transform=\"translate(0 -11)\">17</text></g></g></g><g class=\"tree t4\" transform=\"translate(795.36 0)\"><g class=\"plotbox\"><g class=\"c2 node n17 p0 root\" transform=\"translate(112.095 26.8)\"><g class=\"a17 c2 node n10 p0\" transform=\"translate(34.465 287.512)\"><g class=\"a10 i1 leaf node n3 p0 sample\" transform=\"translate(-9.04 7.08778)\"><path class=\"edge\" d=\"M 0 0 V -7.08778 H 9.04\" /><rect class=\"sym\" height=\"6\" width=\"6\" x=\"-3\" y=\"-3\" /><text class=\"lab\" transform=\"translate(0 11)\">3</text></g><g class=\"a10 i2 leaf node n4 p0 sample\" transform=\"translate(9.04 7.08778)\"><path class=\"edge\" d=\"M 0 0 V -7.08778 H -9.04\" /><rect class=\"sym\" height=\"6\" width=\"6\" x=\"-3\" y=\"-3\" /><text class=\"lab\" transform=\"translate(0 11)\">4</text></g><path class=\"edge\" d=\"M 0 0 V -287.512 H -34.465\" /><circle class=\"sym\" cx=\"0\" cy=\"0\" r=\"3\" /><text class=\"lab rgt\" transform=\"translate(3 -7.0)\">10</text></g><g class=\"a17 c2 node n14 p0\" transform=\"translate(-34.465 259.468)\"><g class=\"a14 c2 node n11 p0\" transform=\"translate(-32.77 21.0652)\"><g class=\"a11 i0 leaf node n0 p0 sample\" transform=\"translate(-15.82 14.0667)\"><path class=\"edge\" d=\"M 0 0 V -14.0667 H 15.82\" /><rect class=\"sym\" height=\"6\" width=\"6\" x=\"-3\" y=\"-3\" /><text class=\"lab\" transform=\"translate(0 11)\">0</text></g><g class=\"a11 c2 node n9 p0\" transform=\"translate(15.82 9.01164)\"><g class=\"a9 i1 leaf node n2 p0 sample\" transform=\"translate(-13.56 5.05502)\"><path class=\"edge\" d=\"M 0 0 V -5.05502 H 13.56\" /><rect class=\"sym\" height=\"6\" width=\"6\" x=\"-3\" y=\"-3\" /><text class=\"lab\" transform=\"translate(0 11)\">2</text></g><g class=\"a9 c2 node n8 p0\" transform=\"translate(13.56 1.17393)\"><g class=\"a8 i2 leaf node n5 p0 sample\" transform=\"translate(-9.04 3.88109)\"><path class=\"edge\" d=\"M 0 0 V -3.88109 H 9.04\" /><rect class=\"sym\" height=\"6\" width=\"6\" x=\"-3\" y=\"-3\" /><text class=\"lab\" transform=\"translate(0 11)\">5</text></g><g class=\"a8 i3 leaf node n7 p0 sample\" transform=\"translate(9.04 3.88109)\"><path class=\"edge\" d=\"M 0 0 V -3.88109 H -9.04\" /><rect class=\"sym\" height=\"6\" width=\"6\" x=\"-3\" y=\"-3\" /><text class=\"lab\" transform=\"translate(0 11)\">7</text></g><path class=\"edge\" d=\"M 0 0 V -1.17393 H -13.56\" /><circle class=\"sym\" cx=\"0\" cy=\"0\" r=\"3\" /><text class=\"lab rgt\" transform=\"translate(3 -7.0)\">8</text></g><path class=\"edge\" d=\"M 0 0 V -9.01164 H -15.82\" /><circle class=\"sym\" cx=\"0\" cy=\"0\" r=\"3\" /><text class=\"lab rgt\" transform=\"translate(3 -7.0)\">9</text></g><path class=\"edge\" d=\"M 0 0 V -21.0652 H 32.77\" /><circle class=\"sym\" cx=\"0\" cy=\"0\" r=\"3\" /><text class=\"lab lft\" transform=\"translate(-3 -7.0)\">11</text></g><g class=\"a14 c2 node n13 p0\" transform=\"translate(32.77 1.9171)\"><g class=\"a13 i0 leaf node n1 p0 sample\" transform=\"translate(-9.04 33.2147)\"><path class=\"edge\" d=\"M 0 0 V -33.2147 H 9.04\" /><rect class=\"sym\" height=\"6\" width=\"6\" x=\"-3\" y=\"-3\" /><text class=\"lab\" transform=\"translate(0 11)\">1</text></g><g class=\"a13 i3 leaf node n6 p0 sample\" transform=\"translate(9.04 33.2147)\"><path class=\"edge\" d=\"M 0 0 V -33.2147 H -9.04\" /><rect class=\"sym\" height=\"6\" width=\"6\" x=\"-3\" y=\"-3\" /><text class=\"lab\" transform=\"translate(0 11)\">6</text></g><path class=\"edge\" d=\"M 0 0 V -1.9171 H -32.77\" /><circle class=\"sym\" cx=\"0\" cy=\"0\" r=\"3\" /><text class=\"lab rgt\" transform=\"translate(3 -7.0)\">13</text></g><path class=\"edge\" d=\"M 0 0 V -259.468 H 34.465\" /><circle class=\"sym\" cx=\"0\" cy=\"0\" r=\"3\" /><text class=\"lab lft\" transform=\"translate(-3 -7.0)\">14</text></g><circle class=\"sym\" cx=\"0\" cy=\"0\" r=\"3\" /><text class=\"lab\" transform=\"translate(0 -11)\">17</text></g></g></g></g></g></svg>'"
      ]
     },
     "execution_count": 113,
     "metadata": {},
     "output_type": "execute_result"
    }
   ],
   "source": [
    "ts.draw_svg(y_axis=True, size=(1000,400))"
   ]
  },
  {
   "cell_type": "code",
   "execution_count": 127,
   "id": "973dab89-bdc6-4c27-b6ab-64ce8d671c97",
   "metadata": {},
   "outputs": [
    {
     "data": {
      "image/svg+xml": [
       "<svg baseProfile=\"full\" height=\"200\" version=\"1.1\" width=\"400\" xmlns=\"http://www.w3.org/2000/svg\" xmlns:ev=\"http://www.w3.org/2001/xml-events\" xmlns:xlink=\"http://www.w3.org/1999/xlink\"><defs><style type=\"text/css\"><![CDATA[.background path {fill: #808080; fill-opacity: 0}.background path:nth-child(odd) {fill-opacity: .1}.axes {font-size: 14px}.x-axis .tick .lab {font-weight: bold; dominant-baseline: hanging}.axes, .tree {font-size: 14px; text-anchor: middle}.axes line, .edge {stroke: black; fill: none}.axes .ax-skip {stroke-dasharray: 4}.y-axis .grid {stroke: #FAFAFA}.node > .sym {fill: black; stroke: none}.site > .sym {stroke: black}.mut text {fill: red; font-style: italic}.mut.extra text {fill: hotpink}.mut line {fill: none; stroke: none}.mut .sym {fill: none; stroke: red}.mut.extra .sym {stroke: hotpink}.node .mut .sym {stroke-width: 1.5px}.tree text, .tree-sequence text {dominant-baseline: central}.plotbox .lab.lft {text-anchor: end}.plotbox .lab.rgt {text-anchor: start}]]></style></defs><g class=\"tree-sequence\"><g class=\"background\"><path d=\"M56.8,0 l161.6,0 l0,138.2 l2.84217e-14,25 l0,5 l-161.6,0 l0,-5 l0,-25 l0,-138.2z\" /><path d=\"M218.4,0 l161.6,0 l0,138.2 l0,25 l0,5 l-161.6,0 l0,-5 l0,-25 l0,-138.2z\" /></g><g class=\"axes\"><g class=\"x-axis\"><g class=\"title\" transform=\"translate(218.4 200)\"><text class=\"lab\" text-anchor=\"middle\" transform=\"translate(0 -11)\">Genome position</text></g><line class=\"ax-line\" x1=\"56.8\" x2=\"380\" y1=\"163.2\" y2=\"163.2\" /><g class=\"ticks\"><g class=\"tick\" transform=\"translate(56.8 163.2)\"><line x1=\"0\" x2=\"0\" y1=\"0\" y2=\"5\" /><g transform=\"translate(0 6)\"><text class=\"lab\">0</text></g></g><g class=\"tick\" transform=\"translate(218.4 163.2)\"><line x1=\"0\" x2=\"0\" y1=\"0\" y2=\"5\" /><g transform=\"translate(0 6)\"><text class=\"lab\">10</text></g></g><g class=\"tick\" transform=\"translate(380 163.2)\"><line x1=\"0\" x2=\"0\" y1=\"0\" y2=\"5\" /><g transform=\"translate(0 6)\"><text class=\"lab\">20</text></g></g></g></g><g class=\"y-axis\"><g class=\"title\" transform=\"translate(0 65.7)\"><text class=\"lab\" text-anchor=\"middle\" transform=\"translate(11) rotate(-90)\">Time</text></g><line class=\"ax-line\" x1=\"56.8\" x2=\"56.8\" y1=\"121.4\" y2=\"10\" /><g class=\"ticks\"><g class=\"tick\" transform=\"translate(56.8 121.4)\"><line x1=\"0\" x2=\"-5\" y1=\"0\" y2=\"0\" /><g transform=\"translate(-6 0)\"><text class=\"lab\" text-anchor=\"end\">0</text></g></g><g class=\"tick\" transform=\"translate(56.8 95.6)\"><line x1=\"0\" x2=\"-5\" y1=\"0\" y2=\"0\" /><g transform=\"translate(-6 0)\"><text class=\"lab\" text-anchor=\"end\">3</text></g></g><g class=\"tick\" transform=\"translate(56.8 87)\"><line x1=\"0\" x2=\"-5\" y1=\"0\" y2=\"0\" /><g transform=\"translate(-6 0)\"><text class=\"lab\" text-anchor=\"end\">4</text></g></g><g class=\"tick\" transform=\"translate(56.8 78.4)\"><line x1=\"0\" x2=\"-5\" y1=\"0\" y2=\"0\" /><g transform=\"translate(-6 0)\"><text class=\"lab\" text-anchor=\"end\">5</text></g></g><g class=\"tick\" transform=\"translate(56.8 61.2)\"><line x1=\"0\" x2=\"-5\" y1=\"0\" y2=\"0\" /><g transform=\"translate(-6 0)\"><text class=\"lab\" text-anchor=\"end\">7</text></g></g><g class=\"tick\" transform=\"translate(56.8 35.4)\"><line x1=\"0\" x2=\"-5\" y1=\"0\" y2=\"0\" /><g transform=\"translate(-6 0)\"><text class=\"lab\" text-anchor=\"end\">10</text></g></g><g class=\"tick\" transform=\"translate(56.8 26.8)\"><line x1=\"0\" x2=\"-5\" y1=\"0\" y2=\"0\" /><g transform=\"translate(-6 0)\"><text class=\"lab\" text-anchor=\"end\">11</text></g></g></g></g></g><g class=\"plotbox trees\"><g class=\"tree t0\" transform=\"translate(56.8 0)\"><g class=\"plotbox\"><g class=\"c2 node n8 root\" transform=\"translate(99.8 35.4)\"><g class=\"a8 leaf node n3 sample\" transform=\"translate(26.6 86)\"><path class=\"edge\" d=\"M 0 0 V -86 H -26.6\" /><rect class=\"sym\" height=\"6\" width=\"6\" x=\"-3\" y=\"-3\" /><text class=\"lab\" transform=\"translate(0 11)\">3</text></g><g class=\"a8 c2 node n7\" transform=\"translate(-26.6 25.8)\"><g class=\"a7 leaf node n2 sample\" transform=\"translate(22.8 60.2)\"><path class=\"edge\" d=\"M 0 0 V -60.2 H -22.8\" /><rect class=\"sym\" height=\"6\" width=\"6\" x=\"-3\" y=\"-3\" /><text class=\"lab\" transform=\"translate(0 11)\">2</text></g><g class=\"a7 c2 node n4\" transform=\"translate(-22.8 34.4)\"><g class=\"a4 leaf node n0 sample\" transform=\"translate(-15.2 25.8)\"><path class=\"edge\" d=\"M 0 0 V -25.8 H 15.2\" /><rect class=\"sym\" height=\"6\" width=\"6\" x=\"-3\" y=\"-3\" /><text class=\"lab\" transform=\"translate(0 11)\">0</text></g><g class=\"a4 leaf node n1 sample\" transform=\"translate(15.2 25.8)\"><path class=\"edge\" d=\"M 0 0 V -25.8 H -15.2\" /><rect class=\"sym\" height=\"6\" width=\"6\" x=\"-3\" y=\"-3\" /><text class=\"lab\" transform=\"translate(0 11)\">1</text></g><path class=\"edge\" d=\"M 0 0 V -34.4 H 22.8\" /><circle class=\"sym\" cx=\"0\" cy=\"0\" r=\"3\" /><text class=\"lab lft\" transform=\"translate(-3 -7.0)\">4</text></g><path class=\"edge\" d=\"M 0 0 V -25.8 H 26.6\" /><circle class=\"sym\" cx=\"0\" cy=\"0\" r=\"3\" /><text class=\"lab lft\" transform=\"translate(-3 -7.0)\">7</text></g><circle class=\"sym\" cx=\"0\" cy=\"0\" r=\"3\" /><text class=\"lab\" transform=\"translate(0 -11)\">8</text></g></g></g><g class=\"tree t1\" transform=\"translate(218.4 0)\"><g class=\"plotbox\"><g class=\"c2 node n9 root\" transform=\"translate(80.8 26.8)\"><g class=\"a9 c2 node n5\" transform=\"translate(-30.4 60.2)\"><g class=\"a5 leaf node n0 sample\" transform=\"translate(-15.2 34.4)\"><path class=\"edge\" d=\"M 0 0 V -34.4 H 15.2\" /><rect class=\"sym\" height=\"6\" width=\"6\" x=\"-3\" y=\"-3\" /><text class=\"lab\" transform=\"translate(0 11)\">0</text></g><g class=\"a5 leaf node n1 sample\" transform=\"translate(15.2 34.4)\"><path class=\"edge\" d=\"M 0 0 V -34.4 H -15.2\" /><rect class=\"sym\" height=\"6\" width=\"6\" x=\"-3\" y=\"-3\" /><text class=\"lab\" transform=\"translate(0 11)\">1</text></g><path class=\"edge\" d=\"M 0 0 V -60.2 H 30.4\" /><circle class=\"sym\" cx=\"0\" cy=\"0\" r=\"3\" /><text class=\"lab lft\" transform=\"translate(-3 -7.0)\">5</text></g><g class=\"a9 c2 node n6\" transform=\"translate(30.4 51.6)\"><g class=\"a6 leaf node n2 sample\" transform=\"translate(-15.2 43)\"><path class=\"edge\" d=\"M 0 0 V -43 H 15.2\" /><rect class=\"sym\" height=\"6\" width=\"6\" x=\"-3\" y=\"-3\" /><text class=\"lab\" transform=\"translate(0 11)\">2</text></g><g class=\"a6 leaf node n3 sample\" transform=\"translate(15.2 43)\"><path class=\"edge\" d=\"M 0 0 V -43 H -15.2\" /><rect class=\"sym\" height=\"6\" width=\"6\" x=\"-3\" y=\"-3\" /><text class=\"lab\" transform=\"translate(0 11)\">3</text></g><path class=\"edge\" d=\"M 0 0 V -51.6 H -30.4\" /><circle class=\"sym\" cx=\"0\" cy=\"0\" r=\"3\" /><text class=\"lab rgt\" transform=\"translate(3 -7.0)\">6</text></g><circle class=\"sym\" cx=\"0\" cy=\"0\" r=\"3\" /><text class=\"lab\" transform=\"translate(0 -11)\">9</text></g></g></g></g></g></svg>"
      ],
      "text/plain": [
       "'<svg baseProfile=\"full\" height=\"200\" version=\"1.1\" width=\"400\" xmlns=\"http://www.w3.org/2000/svg\" xmlns:ev=\"http://www.w3.org/2001/xml-events\" xmlns:xlink=\"http://www.w3.org/1999/xlink\"><defs><style type=\"text/css\"><![CDATA[.background path {fill: #808080; fill-opacity: 0}.background path:nth-child(odd) {fill-opacity: .1}.axes {font-size: 14px}.x-axis .tick .lab {font-weight: bold; dominant-baseline: hanging}.axes, .tree {font-size: 14px; text-anchor: middle}.axes line, .edge {stroke: black; fill: none}.axes .ax-skip {stroke-dasharray: 4}.y-axis .grid {stroke: #FAFAFA}.node > .sym {fill: black; stroke: none}.site > .sym {stroke: black}.mut text {fill: red; font-style: italic}.mut.extra text {fill: hotpink}.mut line {fill: none; stroke: none}.mut .sym {fill: none; stroke: red}.mut.extra .sym {stroke: hotpink}.node .mut .sym {stroke-width: 1.5px}.tree text, .tree-sequence text {dominant-baseline: central}.plotbox .lab.lft {text-anchor: end}.plotbox .lab.rgt {text-anchor: start}]]></style></defs><g class=\"tree-sequence\"><g class=\"background\"><path d=\"M56.8,0 l161.6,0 l0,138.2 l2.84217e-14,25 l0,5 l-161.6,0 l0,-5 l0,-25 l0,-138.2z\" /><path d=\"M218.4,0 l161.6,0 l0,138.2 l0,25 l0,5 l-161.6,0 l0,-5 l0,-25 l0,-138.2z\" /></g><g class=\"axes\"><g class=\"x-axis\"><g class=\"title\" transform=\"translate(218.4 200)\"><text class=\"lab\" text-anchor=\"middle\" transform=\"translate(0 -11)\">Genome position</text></g><line class=\"ax-line\" x1=\"56.8\" x2=\"380\" y1=\"163.2\" y2=\"163.2\" /><g class=\"ticks\"><g class=\"tick\" transform=\"translate(56.8 163.2)\"><line x1=\"0\" x2=\"0\" y1=\"0\" y2=\"5\" /><g transform=\"translate(0 6)\"><text class=\"lab\">0</text></g></g><g class=\"tick\" transform=\"translate(218.4 163.2)\"><line x1=\"0\" x2=\"0\" y1=\"0\" y2=\"5\" /><g transform=\"translate(0 6)\"><text class=\"lab\">10</text></g></g><g class=\"tick\" transform=\"translate(380 163.2)\"><line x1=\"0\" x2=\"0\" y1=\"0\" y2=\"5\" /><g transform=\"translate(0 6)\"><text class=\"lab\">20</text></g></g></g></g><g class=\"y-axis\"><g class=\"title\" transform=\"translate(0 65.7)\"><text class=\"lab\" text-anchor=\"middle\" transform=\"translate(11) rotate(-90)\">Time</text></g><line class=\"ax-line\" x1=\"56.8\" x2=\"56.8\" y1=\"121.4\" y2=\"10\" /><g class=\"ticks\"><g class=\"tick\" transform=\"translate(56.8 121.4)\"><line x1=\"0\" x2=\"-5\" y1=\"0\" y2=\"0\" /><g transform=\"translate(-6 0)\"><text class=\"lab\" text-anchor=\"end\">0</text></g></g><g class=\"tick\" transform=\"translate(56.8 95.6)\"><line x1=\"0\" x2=\"-5\" y1=\"0\" y2=\"0\" /><g transform=\"translate(-6 0)\"><text class=\"lab\" text-anchor=\"end\">3</text></g></g><g class=\"tick\" transform=\"translate(56.8 87)\"><line x1=\"0\" x2=\"-5\" y1=\"0\" y2=\"0\" /><g transform=\"translate(-6 0)\"><text class=\"lab\" text-anchor=\"end\">4</text></g></g><g class=\"tick\" transform=\"translate(56.8 78.4)\"><line x1=\"0\" x2=\"-5\" y1=\"0\" y2=\"0\" /><g transform=\"translate(-6 0)\"><text class=\"lab\" text-anchor=\"end\">5</text></g></g><g class=\"tick\" transform=\"translate(56.8 61.2)\"><line x1=\"0\" x2=\"-5\" y1=\"0\" y2=\"0\" /><g transform=\"translate(-6 0)\"><text class=\"lab\" text-anchor=\"end\">7</text></g></g><g class=\"tick\" transform=\"translate(56.8 35.4)\"><line x1=\"0\" x2=\"-5\" y1=\"0\" y2=\"0\" /><g transform=\"translate(-6 0)\"><text class=\"lab\" text-anchor=\"end\">10</text></g></g><g class=\"tick\" transform=\"translate(56.8 26.8)\"><line x1=\"0\" x2=\"-5\" y1=\"0\" y2=\"0\" /><g transform=\"translate(-6 0)\"><text class=\"lab\" text-anchor=\"end\">11</text></g></g></g></g></g><g class=\"plotbox trees\"><g class=\"tree t0\" transform=\"translate(56.8 0)\"><g class=\"plotbox\"><g class=\"c2 node n8 root\" transform=\"translate(99.8 35.4)\"><g class=\"a8 leaf node n3 sample\" transform=\"translate(26.6 86)\"><path class=\"edge\" d=\"M 0 0 V -86 H -26.6\" /><rect class=\"sym\" height=\"6\" width=\"6\" x=\"-3\" y=\"-3\" /><text class=\"lab\" transform=\"translate(0 11)\">3</text></g><g class=\"a8 c2 node n7\" transform=\"translate(-26.6 25.8)\"><g class=\"a7 leaf node n2 sample\" transform=\"translate(22.8 60.2)\"><path class=\"edge\" d=\"M 0 0 V -60.2 H -22.8\" /><rect class=\"sym\" height=\"6\" width=\"6\" x=\"-3\" y=\"-3\" /><text class=\"lab\" transform=\"translate(0 11)\">2</text></g><g class=\"a7 c2 node n4\" transform=\"translate(-22.8 34.4)\"><g class=\"a4 leaf node n0 sample\" transform=\"translate(-15.2 25.8)\"><path class=\"edge\" d=\"M 0 0 V -25.8 H 15.2\" /><rect class=\"sym\" height=\"6\" width=\"6\" x=\"-3\" y=\"-3\" /><text class=\"lab\" transform=\"translate(0 11)\">0</text></g><g class=\"a4 leaf node n1 sample\" transform=\"translate(15.2 25.8)\"><path class=\"edge\" d=\"M 0 0 V -25.8 H -15.2\" /><rect class=\"sym\" height=\"6\" width=\"6\" x=\"-3\" y=\"-3\" /><text class=\"lab\" transform=\"translate(0 11)\">1</text></g><path class=\"edge\" d=\"M 0 0 V -34.4 H 22.8\" /><circle class=\"sym\" cx=\"0\" cy=\"0\" r=\"3\" /><text class=\"lab lft\" transform=\"translate(-3 -7.0)\">4</text></g><path class=\"edge\" d=\"M 0 0 V -25.8 H 26.6\" /><circle class=\"sym\" cx=\"0\" cy=\"0\" r=\"3\" /><text class=\"lab lft\" transform=\"translate(-3 -7.0)\">7</text></g><circle class=\"sym\" cx=\"0\" cy=\"0\" r=\"3\" /><text class=\"lab\" transform=\"translate(0 -11)\">8</text></g></g></g><g class=\"tree t1\" transform=\"translate(218.4 0)\"><g class=\"plotbox\"><g class=\"c2 node n9 root\" transform=\"translate(80.8 26.8)\"><g class=\"a9 c2 node n5\" transform=\"translate(-30.4 60.2)\"><g class=\"a5 leaf node n0 sample\" transform=\"translate(-15.2 34.4)\"><path class=\"edge\" d=\"M 0 0 V -34.4 H 15.2\" /><rect class=\"sym\" height=\"6\" width=\"6\" x=\"-3\" y=\"-3\" /><text class=\"lab\" transform=\"translate(0 11)\">0</text></g><g class=\"a5 leaf node n1 sample\" transform=\"translate(15.2 34.4)\"><path class=\"edge\" d=\"M 0 0 V -34.4 H -15.2\" /><rect class=\"sym\" height=\"6\" width=\"6\" x=\"-3\" y=\"-3\" /><text class=\"lab\" transform=\"translate(0 11)\">1</text></g><path class=\"edge\" d=\"M 0 0 V -60.2 H 30.4\" /><circle class=\"sym\" cx=\"0\" cy=\"0\" r=\"3\" /><text class=\"lab lft\" transform=\"translate(-3 -7.0)\">5</text></g><g class=\"a9 c2 node n6\" transform=\"translate(30.4 51.6)\"><g class=\"a6 leaf node n2 sample\" transform=\"translate(-15.2 43)\"><path class=\"edge\" d=\"M 0 0 V -43 H 15.2\" /><rect class=\"sym\" height=\"6\" width=\"6\" x=\"-3\" y=\"-3\" /><text class=\"lab\" transform=\"translate(0 11)\">2</text></g><g class=\"a6 leaf node n3 sample\" transform=\"translate(15.2 43)\"><path class=\"edge\" d=\"M 0 0 V -43 H -15.2\" /><rect class=\"sym\" height=\"6\" width=\"6\" x=\"-3\" y=\"-3\" /><text class=\"lab\" transform=\"translate(0 11)\">3</text></g><path class=\"edge\" d=\"M 0 0 V -51.6 H -30.4\" /><circle class=\"sym\" cx=\"0\" cy=\"0\" r=\"3\" /><text class=\"lab rgt\" transform=\"translate(3 -7.0)\">6</text></g><circle class=\"sym\" cx=\"0\" cy=\"0\" r=\"3\" /><text class=\"lab\" transform=\"translate(0 -11)\">9</text></g></g></g></g></g></svg>'"
      ]
     },
     "execution_count": 127,
     "metadata": {},
     "output_type": "execute_result"
    }
   ],
   "source": [
    "import io\n",
    "import tskit\n",
    "\n",
    "nodes = \"\"\"\\\n",
    "is_sample time\n",
    "1         0\n",
    "1         0\n",
    "1         0\n",
    "1         0\n",
    "0         3\n",
    "0         4\n",
    "0         5\n",
    "0         7\n",
    "0         10\n",
    "0         11\n",
    "\"\"\"\n",
    "\n",
    "edges = \"\"\"\\\n",
    "left   right   parent  child\n",
    "0      10      4       0,1\n",
    "0      10      7       2,4\n",
    "0      10      8       3,7\n",
    "10     20      5       0,1\n",
    "10     20      6       2,3\n",
    "10     20      9       5,6\n",
    "\"\"\"\n",
    "\n",
    "# sites = \"\"\"\\\n",
    "# position ancestral_state\n",
    "# \"\"\"\n",
    "\n",
    "# mutations = \"\"\"\\\n",
    "# site node parent derived_state\n",
    "# \"\"\"\n",
    "\n",
    "ts = tskit.load_text(\n",
    "    nodes=io.StringIO(nodes),\n",
    "    edges=io.StringIO(edges),\n",
    "    # sites=io.StringIO(sites),\n",
    "    # mutations=io.StringIO(mutations),\n",
    "    strict=False,\n",
    ")\n",
    "\n",
    "ts.draw_svg(y_axis=True)"
   ]
  },
  {
   "cell_type": "code",
   "execution_count": 120,
   "id": "cebbc82f-4348-4e78-a787-06b0349f8014",
   "metadata": {},
   "outputs": [
    {
     "data": {
      "image/svg+xml": [
       "<svg baseProfile=\"full\" height=\"200\" version=\"1.1\" width=\"400\" xmlns=\"http://www.w3.org/2000/svg\" xmlns:ev=\"http://www.w3.org/2001/xml-events\" xmlns:xlink=\"http://www.w3.org/1999/xlink\"><defs><style type=\"text/css\"><![CDATA[.background path {fill: #808080; fill-opacity: 0}.background path:nth-child(odd) {fill-opacity: .1}.axes {font-size: 14px}.x-axis .tick .lab {font-weight: bold; dominant-baseline: hanging}.axes, .tree {font-size: 14px; text-anchor: middle}.axes line, .edge {stroke: black; fill: none}.axes .ax-skip {stroke-dasharray: 4}.y-axis .grid {stroke: #FAFAFA}.node > .sym {fill: black; stroke: none}.site > .sym {stroke: black}.mut text {fill: red; font-style: italic}.mut.extra text {fill: hotpink}.mut line {fill: none; stroke: none}.mut .sym {fill: none; stroke: red}.mut.extra .sym {stroke: hotpink}.node .mut .sym {stroke-width: 1.5px}.tree text, .tree-sequence text {dominant-baseline: central}.plotbox .lab.lft {text-anchor: end}.plotbox .lab.rgt {text-anchor: start}]]></style></defs><g class=\"tree-sequence\"><g class=\"background\"><path d=\"M56.8,0 l161.6,0 l0,138.2 l2.84217e-14,25 l0,5 l-161.6,0 l0,-5 l0,-25 l0,-138.2z\" /><path d=\"M218.4,0 l161.6,0 l0,138.2 l0,25 l0,5 l-161.6,0 l0,-5 l0,-25 l0,-138.2z\" /></g><g class=\"axes\"><g class=\"x-axis\"><g class=\"title\" transform=\"translate(218.4 200)\"><text class=\"lab\" text-anchor=\"middle\" transform=\"translate(0 -11)\">Genome position</text></g><line class=\"ax-line\" x1=\"56.8\" x2=\"380\" y1=\"163.2\" y2=\"163.2\" /><g class=\"ticks\"><g class=\"tick\" transform=\"translate(56.8 163.2)\"><line x1=\"0\" x2=\"0\" y1=\"0\" y2=\"5\" /><g transform=\"translate(0 6)\"><text class=\"lab\">0</text></g></g><g class=\"tick\" transform=\"translate(218.4 163.2)\"><line x1=\"0\" x2=\"0\" y1=\"0\" y2=\"5\" /><g transform=\"translate(0 6)\"><text class=\"lab\">10</text></g></g><g class=\"tick\" transform=\"translate(380 163.2)\"><line x1=\"0\" x2=\"0\" y1=\"0\" y2=\"5\" /><g transform=\"translate(0 6)\"><text class=\"lab\">20</text></g></g></g></g><g class=\"y-axis\"><g class=\"title\" transform=\"translate(0 65.7)\"><text class=\"lab\" text-anchor=\"middle\" transform=\"translate(11) rotate(-90)\">Time</text></g><line class=\"ax-line\" x1=\"56.8\" x2=\"56.8\" y1=\"121.4\" y2=\"10\" /><g class=\"ticks\"><g class=\"tick\" transform=\"translate(56.8 121.4)\"><line x1=\"0\" x2=\"-5\" y1=\"0\" y2=\"0\" /><g transform=\"translate(-6 0)\"><text class=\"lab\" text-anchor=\"end\">0</text></g></g><g class=\"tick\" transform=\"translate(56.8 93.02)\"><line x1=\"0\" x2=\"-5\" y1=\"0\" y2=\"0\" /><g transform=\"translate(-6 0)\"><text class=\"lab\" text-anchor=\"end\">3</text></g></g><g class=\"tick\" transform=\"translate(56.8 83.56)\"><line x1=\"0\" x2=\"-5\" y1=\"0\" y2=\"0\" /><g transform=\"translate(-6 0)\"><text class=\"lab\" text-anchor=\"end\">4</text></g></g><g class=\"tick\" transform=\"translate(56.8 55.18)\"><line x1=\"0\" x2=\"-5\" y1=\"0\" y2=\"0\" /><g transform=\"translate(-6 0)\"><text class=\"lab\" text-anchor=\"end\">7</text></g></g><g class=\"tick\" transform=\"translate(56.8 26.8)\"><line x1=\"0\" x2=\"-5\" y1=\"0\" y2=\"0\" /><g transform=\"translate(-6 0)\"><text class=\"lab\" text-anchor=\"end\">10</text></g></g></g></g></g><g class=\"plotbox trees\"><g class=\"tree t0\" transform=\"translate(56.8 0)\"><g class=\"plotbox\"><g class=\"c2 node n8 root\" transform=\"translate(99.8 26.8)\"><g class=\"a8 leaf node n3 sample\" transform=\"translate(26.6 94.6)\"><path class=\"edge\" d=\"M 0 0 V -94.6 H -26.6\" /><rect class=\"sym\" height=\"6\" width=\"6\" x=\"-3\" y=\"-3\" /><text class=\"lab\" transform=\"translate(0 11)\">3</text></g><g class=\"a8 c2 node n7\" transform=\"translate(-26.6 28.38)\"><g class=\"a7 leaf node n2 sample\" transform=\"translate(22.8 66.22)\"><path class=\"edge\" d=\"M 0 0 V -66.22 H -22.8\" /><rect class=\"sym\" height=\"6\" width=\"6\" x=\"-3\" y=\"-3\" /><text class=\"lab\" transform=\"translate(0 11)\">2</text></g><g class=\"a7 c2 node n4\" transform=\"translate(-22.8 37.84)\"><g class=\"a4 leaf node n0 sample\" transform=\"translate(-15.2 28.38)\"><path class=\"edge\" d=\"M 0 0 V -28.38 H 15.2\" /><rect class=\"sym\" height=\"6\" width=\"6\" x=\"-3\" y=\"-3\" /><text class=\"lab\" transform=\"translate(0 11)\">0</text></g><g class=\"a4 leaf node n1 sample\" transform=\"translate(15.2 28.38)\"><path class=\"edge\" d=\"M 0 0 V -28.38 H -15.2\" /><rect class=\"sym\" height=\"6\" width=\"6\" x=\"-3\" y=\"-3\" /><text class=\"lab\" transform=\"translate(0 11)\">1</text></g><path class=\"edge\" d=\"M 0 0 V -37.84 H 22.8\" /><circle class=\"sym\" cx=\"0\" cy=\"0\" r=\"3\" /><text class=\"lab lft\" transform=\"translate(-3 -7.0)\">4</text></g><path class=\"edge\" d=\"M 0 0 V -28.38 H 26.6\" /><circle class=\"sym\" cx=\"0\" cy=\"0\" r=\"3\" /><text class=\"lab lft\" transform=\"translate(-3 -7.0)\">7</text></g><circle class=\"sym\" cx=\"0\" cy=\"0\" r=\"3\" /><text class=\"lab\" transform=\"translate(0 -11)\">8</text></g></g></g><g class=\"tree t1\" transform=\"translate(218.4 0)\"><g class=\"plotbox\"><g class=\"c2 node n8 root\" transform=\"translate(80.8 26.8)\"><g class=\"a8 c2 node n5\" transform=\"translate(-30.4 56.76)\"><g class=\"a5 leaf node n0 sample\" transform=\"translate(-15.2 37.84)\"><path class=\"edge\" d=\"M 0 0 V -37.84 H 15.2\" /><rect class=\"sym\" height=\"6\" width=\"6\" x=\"-3\" y=\"-3\" /><text class=\"lab\" transform=\"translate(0 11)\">0</text></g><g class=\"a5 leaf node n1 sample\" transform=\"translate(15.2 37.84)\"><path class=\"edge\" d=\"M 0 0 V -37.84 H -15.2\" /><rect class=\"sym\" height=\"6\" width=\"6\" x=\"-3\" y=\"-3\" /><text class=\"lab\" transform=\"translate(0 11)\">1</text></g><path class=\"edge\" d=\"M 0 0 V -56.76 H 30.4\" /><circle class=\"sym\" cx=\"0\" cy=\"0\" r=\"3\" /><text class=\"lab lft\" transform=\"translate(-3 -7.0)\">5</text></g><g class=\"a8 c2 node n7\" transform=\"translate(30.4 28.38)\"><g class=\"a7 leaf node n2 sample\" transform=\"translate(-15.2 66.22)\"><path class=\"edge\" d=\"M 0 0 V -66.22 H 15.2\" /><rect class=\"sym\" height=\"6\" width=\"6\" x=\"-3\" y=\"-3\" /><text class=\"lab\" transform=\"translate(0 11)\">2</text></g><g class=\"a7 leaf node n3 sample\" transform=\"translate(15.2 66.22)\"><path class=\"edge\" d=\"M 0 0 V -66.22 H -15.2\" /><rect class=\"sym\" height=\"6\" width=\"6\" x=\"-3\" y=\"-3\" /><text class=\"lab\" transform=\"translate(0 11)\">3</text></g><path class=\"edge\" d=\"M 0 0 V -28.38 H -30.4\" /><circle class=\"sym\" cx=\"0\" cy=\"0\" r=\"3\" /><text class=\"lab rgt\" transform=\"translate(3 -7.0)\">7</text></g><circle class=\"sym\" cx=\"0\" cy=\"0\" r=\"3\" /><text class=\"lab\" transform=\"translate(0 -11)\">8</text></g></g></g></g></g></svg>"
      ],
      "text/plain": [
       "'<svg baseProfile=\"full\" height=\"200\" version=\"1.1\" width=\"400\" xmlns=\"http://www.w3.org/2000/svg\" xmlns:ev=\"http://www.w3.org/2001/xml-events\" xmlns:xlink=\"http://www.w3.org/1999/xlink\"><defs><style type=\"text/css\"><![CDATA[.background path {fill: #808080; fill-opacity: 0}.background path:nth-child(odd) {fill-opacity: .1}.axes {font-size: 14px}.x-axis .tick .lab {font-weight: bold; dominant-baseline: hanging}.axes, .tree {font-size: 14px; text-anchor: middle}.axes line, .edge {stroke: black; fill: none}.axes .ax-skip {stroke-dasharray: 4}.y-axis .grid {stroke: #FAFAFA}.node > .sym {fill: black; stroke: none}.site > .sym {stroke: black}.mut text {fill: red; font-style: italic}.mut.extra text {fill: hotpink}.mut line {fill: none; stroke: none}.mut .sym {fill: none; stroke: red}.mut.extra .sym {stroke: hotpink}.node .mut .sym {stroke-width: 1.5px}.tree text, .tree-sequence text {dominant-baseline: central}.plotbox .lab.lft {text-anchor: end}.plotbox .lab.rgt {text-anchor: start}]]></style></defs><g class=\"tree-sequence\"><g class=\"background\"><path d=\"M56.8,0 l161.6,0 l0,138.2 l2.84217e-14,25 l0,5 l-161.6,0 l0,-5 l0,-25 l0,-138.2z\" /><path d=\"M218.4,0 l161.6,0 l0,138.2 l0,25 l0,5 l-161.6,0 l0,-5 l0,-25 l0,-138.2z\" /></g><g class=\"axes\"><g class=\"x-axis\"><g class=\"title\" transform=\"translate(218.4 200)\"><text class=\"lab\" text-anchor=\"middle\" transform=\"translate(0 -11)\">Genome position</text></g><line class=\"ax-line\" x1=\"56.8\" x2=\"380\" y1=\"163.2\" y2=\"163.2\" /><g class=\"ticks\"><g class=\"tick\" transform=\"translate(56.8 163.2)\"><line x1=\"0\" x2=\"0\" y1=\"0\" y2=\"5\" /><g transform=\"translate(0 6)\"><text class=\"lab\">0</text></g></g><g class=\"tick\" transform=\"translate(218.4 163.2)\"><line x1=\"0\" x2=\"0\" y1=\"0\" y2=\"5\" /><g transform=\"translate(0 6)\"><text class=\"lab\">10</text></g></g><g class=\"tick\" transform=\"translate(380 163.2)\"><line x1=\"0\" x2=\"0\" y1=\"0\" y2=\"5\" /><g transform=\"translate(0 6)\"><text class=\"lab\">20</text></g></g></g></g><g class=\"y-axis\"><g class=\"title\" transform=\"translate(0 65.7)\"><text class=\"lab\" text-anchor=\"middle\" transform=\"translate(11) rotate(-90)\">Time</text></g><line class=\"ax-line\" x1=\"56.8\" x2=\"56.8\" y1=\"121.4\" y2=\"10\" /><g class=\"ticks\"><g class=\"tick\" transform=\"translate(56.8 121.4)\"><line x1=\"0\" x2=\"-5\" y1=\"0\" y2=\"0\" /><g transform=\"translate(-6 0)\"><text class=\"lab\" text-anchor=\"end\">0</text></g></g><g class=\"tick\" transform=\"translate(56.8 93.02)\"><line x1=\"0\" x2=\"-5\" y1=\"0\" y2=\"0\" /><g transform=\"translate(-6 0)\"><text class=\"lab\" text-anchor=\"end\">3</text></g></g><g class=\"tick\" transform=\"translate(56.8 83.56)\"><line x1=\"0\" x2=\"-5\" y1=\"0\" y2=\"0\" /><g transform=\"translate(-6 0)\"><text class=\"lab\" text-anchor=\"end\">4</text></g></g><g class=\"tick\" transform=\"translate(56.8 55.18)\"><line x1=\"0\" x2=\"-5\" y1=\"0\" y2=\"0\" /><g transform=\"translate(-6 0)\"><text class=\"lab\" text-anchor=\"end\">7</text></g></g><g class=\"tick\" transform=\"translate(56.8 26.8)\"><line x1=\"0\" x2=\"-5\" y1=\"0\" y2=\"0\" /><g transform=\"translate(-6 0)\"><text class=\"lab\" text-anchor=\"end\">10</text></g></g></g></g></g><g class=\"plotbox trees\"><g class=\"tree t0\" transform=\"translate(56.8 0)\"><g class=\"plotbox\"><g class=\"c2 node n8 root\" transform=\"translate(99.8 26.8)\"><g class=\"a8 leaf node n3 sample\" transform=\"translate(26.6 94.6)\"><path class=\"edge\" d=\"M 0 0 V -94.6 H -26.6\" /><rect class=\"sym\" height=\"6\" width=\"6\" x=\"-3\" y=\"-3\" /><text class=\"lab\" transform=\"translate(0 11)\">3</text></g><g class=\"a8 c2 node n7\" transform=\"translate(-26.6 28.38)\"><g class=\"a7 leaf node n2 sample\" transform=\"translate(22.8 66.22)\"><path class=\"edge\" d=\"M 0 0 V -66.22 H -22.8\" /><rect class=\"sym\" height=\"6\" width=\"6\" x=\"-3\" y=\"-3\" /><text class=\"lab\" transform=\"translate(0 11)\">2</text></g><g class=\"a7 c2 node n4\" transform=\"translate(-22.8 37.84)\"><g class=\"a4 leaf node n0 sample\" transform=\"translate(-15.2 28.38)\"><path class=\"edge\" d=\"M 0 0 V -28.38 H 15.2\" /><rect class=\"sym\" height=\"6\" width=\"6\" x=\"-3\" y=\"-3\" /><text class=\"lab\" transform=\"translate(0 11)\">0</text></g><g class=\"a4 leaf node n1 sample\" transform=\"translate(15.2 28.38)\"><path class=\"edge\" d=\"M 0 0 V -28.38 H -15.2\" /><rect class=\"sym\" height=\"6\" width=\"6\" x=\"-3\" y=\"-3\" /><text class=\"lab\" transform=\"translate(0 11)\">1</text></g><path class=\"edge\" d=\"M 0 0 V -37.84 H 22.8\" /><circle class=\"sym\" cx=\"0\" cy=\"0\" r=\"3\" /><text class=\"lab lft\" transform=\"translate(-3 -7.0)\">4</text></g><path class=\"edge\" d=\"M 0 0 V -28.38 H 26.6\" /><circle class=\"sym\" cx=\"0\" cy=\"0\" r=\"3\" /><text class=\"lab lft\" transform=\"translate(-3 -7.0)\">7</text></g><circle class=\"sym\" cx=\"0\" cy=\"0\" r=\"3\" /><text class=\"lab\" transform=\"translate(0 -11)\">8</text></g></g></g><g class=\"tree t1\" transform=\"translate(218.4 0)\"><g class=\"plotbox\"><g class=\"c2 node n8 root\" transform=\"translate(80.8 26.8)\"><g class=\"a8 c2 node n5\" transform=\"translate(-30.4 56.76)\"><g class=\"a5 leaf node n0 sample\" transform=\"translate(-15.2 37.84)\"><path class=\"edge\" d=\"M 0 0 V -37.84 H 15.2\" /><rect class=\"sym\" height=\"6\" width=\"6\" x=\"-3\" y=\"-3\" /><text class=\"lab\" transform=\"translate(0 11)\">0</text></g><g class=\"a5 leaf node n1 sample\" transform=\"translate(15.2 37.84)\"><path class=\"edge\" d=\"M 0 0 V -37.84 H -15.2\" /><rect class=\"sym\" height=\"6\" width=\"6\" x=\"-3\" y=\"-3\" /><text class=\"lab\" transform=\"translate(0 11)\">1</text></g><path class=\"edge\" d=\"M 0 0 V -56.76 H 30.4\" /><circle class=\"sym\" cx=\"0\" cy=\"0\" r=\"3\" /><text class=\"lab lft\" transform=\"translate(-3 -7.0)\">5</text></g><g class=\"a8 c2 node n7\" transform=\"translate(30.4 28.38)\"><g class=\"a7 leaf node n2 sample\" transform=\"translate(-15.2 66.22)\"><path class=\"edge\" d=\"M 0 0 V -66.22 H 15.2\" /><rect class=\"sym\" height=\"6\" width=\"6\" x=\"-3\" y=\"-3\" /><text class=\"lab\" transform=\"translate(0 11)\">2</text></g><g class=\"a7 leaf node n3 sample\" transform=\"translate(15.2 66.22)\"><path class=\"edge\" d=\"M 0 0 V -66.22 H -15.2\" /><rect class=\"sym\" height=\"6\" width=\"6\" x=\"-3\" y=\"-3\" /><text class=\"lab\" transform=\"translate(0 11)\">3</text></g><path class=\"edge\" d=\"M 0 0 V -28.38 H -30.4\" /><circle class=\"sym\" cx=\"0\" cy=\"0\" r=\"3\" /><text class=\"lab rgt\" transform=\"translate(3 -7.0)\">7</text></g><circle class=\"sym\" cx=\"0\" cy=\"0\" r=\"3\" /><text class=\"lab\" transform=\"translate(0 -11)\">8</text></g></g></g></g></g></svg>'"
      ]
     },
     "execution_count": 120,
     "metadata": {},
     "output_type": "execute_result"
    }
   ],
   "source": [
    "import io\n",
    "import tskit\n",
    "\n",
    "nodes = \"\"\"\\\n",
    "is_sample time\n",
    "1         0\n",
    "1         0\n",
    "1         0\n",
    "1         0\n",
    "0         3\n",
    "0         4\n",
    "0         5\n",
    "0         7\n",
    "0         10\n",
    "\"\"\"\n",
    "\n",
    "edges = \"\"\"\\\n",
    "left   right   parent  child\n",
    "0      10      4       0,1\n",
    "0      10      7       2,4\n",
    "0      10      8       3,7\n",
    "10     20      5       0,1\n",
    "10     20      7       2,3\n",
    "10     20      8       5,7\n",
    "\"\"\"\n",
    "\n",
    "# sites = \"\"\"\\\n",
    "# position ancestral_state\n",
    "# \"\"\"\n",
    "\n",
    "# mutations = \"\"\"\\\n",
    "# site node parent derived_state\n",
    "# \"\"\"\n",
    "\n",
    "ts = tskit.load_text(\n",
    "    nodes=io.StringIO(nodes),\n",
    "    edges=io.StringIO(edges),\n",
    "    # sites=io.StringIO(sites),\n",
    "    # mutations=io.StringIO(mutations),\n",
    "    strict=False,\n",
    ")\n",
    "\n",
    "ts.draw_svg(y_axis=True)"
   ]
  },
  {
   "cell_type": "code",
   "execution_count": 128,
   "id": "4365c985-f38b-4bef-b01e-21597cd00e4f",
   "metadata": {},
   "outputs": [],
   "source": [
    "from itertools import groupby\n",
    "def print_mrcas(mrcas):\n",
    "    \"\"\"print MRCAs in a format that's easy to verify by eye\"\"\"\n",
    "    [list(v) for k, v in groupby(sorted(mrcas.items(), key=lambda p: p[1]), key=lambda p: p[1])]"
   ]
  },
  {
   "cell_type": "code",
   "execution_count": 129,
   "id": "8f3c689f-e7a8-4158-b669-bb4464e8fd36",
   "metadata": {},
   "outputs": [],
   "source": [
    "## TODO: Get rid of sorting in indexing!!\n",
    "\n",
    "# For now, we take the mean of all pairs, but I think the end game solution is to\n",
    "# progressively update the sum of the products between two trees.\n",
    "\n",
    "# I'm not sure if we can actually remove the sorting here... in the next iteration of this code\n",
    "# I plan on formulating the sampling differently, so maybe it'll be a moot point.\n",
    "\n",
    "def compute_D2(left_tmrca, right_tmrca, ij, ijk, ijkl, mu):\n",
    "    E_ijij = np.mean([left_tmrca[tuple(sorted([i, j]))] * right_tmrca[tuple(sorted([i, j]))] for i, j in ij]) \n",
    "    E_ijik = np.mean([left_tmrca[tuple(sorted([i, j]))] * right_tmrca[tuple(sorted([i, k]))] for i, j, k in ijk])\n",
    "    E_ijkl = np.mean([left_tmrca[tuple(sorted([i, j]))] * right_tmrca[tuple(sorted([k, l]))] for i, j, k, l in ijkl])\n",
    "    D2 = E_ijij - 2 * E_ijik + E_ijkl\n",
    "    return D2 * (mu ** 2)  # TODO: divide by prod of tree heights\n",
    "\n",
    "def compute_pi2(left_tmrca, right_tmrca, ijkl, mu):\n",
    "    E_ijkl = np.mean([left_tmrca[tuple(sorted([i, j]))] * right_tmrca[tuple(sorted([k, l]))] for i, j, k, l in ijkl])\n",
    "    return E_ijkl * (mu ** 2)  # TODO: divide by prod of tree heights\n",
    "\n",
    "def compute_Dz(left_tmrca, right_tmrca, ijk, ijkl, mu):\n",
    "    E_ijik = np.mean([left_tmrca[tuple(sorted([i, j]))] * right_tmrca[tuple(sorted([i, k]))] for i, j, k in ijk])\n",
    "    E_ijkl = np.mean([left_tmrca[tuple(sorted([i, j]))] * right_tmrca[tuple(sorted([k, l]))] for i, j, k, l in ijkl])\n",
    "    return 4 * (E_ijik - E_ijkl) * (mu ** 2)  # TODO: divide by prod of tree heights"
   ]
  },
  {
   "cell_type": "code",
   "execution_count": 330,
   "id": "e3cafcaf-fcd1-43b7-9bb5-5532324b213d",
   "metadata": {},
   "outputs": [],
   "source": [
    "from IPython import display\n",
    "def iter_tree_tmrca(ts, left_tmrcas, e_ijij, e_ijik, e_ijkl):\n",
    "    tmrcas = {(i, j): tskit.NULL for i, j in combinations(range(ts.num_samples), 2)}\n",
    "    samples_under_nodes = [set() for _ in range(ts.num_nodes)]\n",
    "    parents = [tskit.NULL] * ts.num_nodes\n",
    "\n",
    "    for s in ts.samples():\n",
    "        samples_under_nodes[s].add(s)\n",
    "\n",
    "    edges_out = ts.indexes_edge_removal_order\n",
    "    edges_in = ts.indexes_edge_insertion_order\n",
    "\n",
    "    tj, tk, t_left, tree_index = 0, 0, 0, 0\n",
    "\n",
    "    added = []\n",
    "    removed = []\n",
    "    while tj < ts.num_edges or t_left < ts.sequence_length:\n",
    "        # print(f\"tree {tree_index} ============================\")\n",
    "        while tk < ts.num_edges and ts.edges_right[edges_out[tk]] == t_left:\n",
    "            e = edges_out[tk]\n",
    "            tk += 1\n",
    "            child = ts.edges_child[e]\n",
    "            parent = ts.edges_parent[e]\n",
    "            # display.display(ts.draw_svg(size=(1000, 300), style=f'.t{tree_index - 1} .a{parent}.n{child} > .edge {{stroke: red; stroke-width: 2px}}'))\n",
    "            # display.display(ts.draw_svg(style=f'.t{tree_index - 1} .a{parent}.n{child} > .edge {{stroke: red; stroke-width: 2px}}'))\n",
    "            # print(samples_under_nodes[parent], samples_under_nodes[child])\n",
    "\n",
    "            for i in sorted(samples_under_nodes[child]):\n",
    "                for j in sorted(samples_under_nodes[parent] - samples_under_nodes[child]):\n",
    "                    # tmrcas[tuple(sorted([i, j]))] = tskit.NULL\n",
    "                    print(\"removing\", e, i, j)\n",
    "                    removed.append(tuple(sorted([i, j])))\n",
    "            while parent != tskit.NULL:\n",
    "                # TODO: not sure if we need to clear out the tmrca table for removals (missing data)\n",
    "                samples_under_nodes[parent] -= samples_under_nodes[child]\n",
    "                # print(samples_under_nodes[parent], samples_under_nodes[child], end='|')\n",
    "                parent = parents[parent]\n",
    "            # print()\n",
    "            parents[child] = tskit.NULL\n",
    "\n",
    "        while tj < ts.num_edges and ts.edges_left[edges_in[tj]] == t_left:\n",
    "            e = edges_in[tj]\n",
    "            tj += 1\n",
    "            child = ts.edges_child[e]\n",
    "            parent = ts.edges_parent[e]\n",
    "            # display.display(ts.draw_svg(size=(1000, 300), style=f'.t{tree_index} .a{parent}.n{child} > .edge {{stroke: cyan; stroke-width: 2px}}'))\n",
    "            # display.display(ts.draw_svg(style=f'.t{tree_index} .a{parent}.n{child} > .edge {{stroke: cyan; stroke-width: 2px}}'))\n",
    "            # print(samples_under_nodes[parent], samples_under_nodes[child])\n",
    "            parents[child] = parent\n",
    "            for i in sorted(samples_under_nodes[parent]):\n",
    "                for j in sorted(samples_under_nodes[child]):\n",
    "                    # print(tuple(sorted([i, j])), parent)\n",
    "                    # tmrcas[tuple(sorted([i, j]))] = parent  # uncomment and comment the below line if you want mrcas \n",
    "\n",
    "                    t = ts.nodes_time[parent]\n",
    "                    tmrcas[tuple(sorted([i, j]))] = t\n",
    "                    # added.append((i, j))\n",
    "                    added.append(tuple(sorted([i, j])))\n",
    "                    # if right_tmrca is None:\n",
    "                    #     e_ijij += t * t\n",
    "                    #     for _i, _j, _k in gen_ijk(i, j, ts.num_samples):\n",
    "                    #         e_ijik += t * t\n",
    "\n",
    "                    # if right_tmrca is None:\n",
    "                    #     t1 = tmrcas[tuple(sorted([i, j]))]\n",
    "                    #     e_ijij += t1 * t1\n",
    "                    #     for _i, _j, _k in gen_ijk(i, j, ts.num_samples):\n",
    "                    #         print(i, j, '-', _i, _j, _k)\n",
    "                    #         t1 = tmrcas[tuple(sorted([_i, _j]))]\n",
    "                    #         t2 = tmrcas[tuple(sorted([_i, _k]))]\n",
    "                    #         e_ijik += t1 * t2\n",
    "\n",
    "            while parent != tskit.NULL:\n",
    "                samples_under_nodes[parent] |= samples_under_nodes[child]\n",
    "                # print(samples_under_nodes[parent], samples_under_nodes[child], end='|')\n",
    "                parent = parents[parent]\n",
    "            # print()\n",
    "\n",
    "        t_right = ts.sequence_length\n",
    "        if tj < ts.num_edges:\n",
    "            t_right = min(t_right, ts.edges_left[edges_in[tj]])\n",
    "        if tk < ts.num_edges:\n",
    "            t_right = min(t_right, ts.edges_right[edges_out[tk]])\n",
    "\n",
    "        for i, j in removed:\n",
    "            if left_tmrcas is not None:\n",
    "                t1 = left_tmrcas[tuple(sorted([i, j]))]\n",
    "                t2 = tmrcas[tuple(sorted([i, j]))]\n",
    "                e_ijij -= t1 * t2\n",
    "                for _i, _j, _k in gen_ijk(i, j, ts.num_samples):\n",
    "                    # print(i, j, '-', _i, _j, _k)\n",
    "                    t1 = left_tmrcas[tuple(sorted([_i, _j]))]\n",
    "                    t2 = tmrcas[tuple(sorted([_i, _k]))]\n",
    "                    e_ijik -= t1 * t2\n",
    "                for _i, _j, _k, _l in gen_ijkl(i, j, ts.num_samples):\n",
    "                    t1 = left_tmrcas[tuple(sorted([_i, _j]))]\n",
    "                    t2 = tmrcas[tuple(sorted([_k, _l]))]\n",
    "                    e_ijkl -= t1 * t2\n",
    "        for i, j in added:\n",
    "            if left_tmrcas is None:\n",
    "                t1 = tmrcas[tuple(sorted([i, j]))]\n",
    "                e_ijij += t1 * t1\n",
    "                for _i, _j, _k in gen_ijk(i, j, ts.num_samples):\n",
    "                    # print(i, j, '-', _i, _j, _k)\n",
    "                    t1 = tmrcas[tuple(sorted([_i, _j]))]\n",
    "                    t2 = tmrcas[tuple(sorted([_i, _k]))]\n",
    "                    e_ijik += t1 * t2\n",
    "                for _i, _j, _k, _l in gen_ijkl(i, j, ts.num_samples):\n",
    "                    t1 = tmrcas[tuple(sorted([_i, _j]))]\n",
    "                    t2 = tmrcas[tuple(sorted([_k, _l]))]\n",
    "                    e_ijkl += t1 * t2\n",
    "            else:\n",
    "                t1 = left_tmrcas[tuple(sorted([i, j]))]\n",
    "                t2 = tmrcas[tuple(sorted([i, j]))]\n",
    "                e_ijij += t1 * t2\n",
    "                for _i, _j, _k in gen_ijk(i, j, ts.num_samples):\n",
    "                    # print(i, j, '-', _i, _j, _k)\n",
    "                    t1 = left_tmrcas[tuple(sorted([_i, _j]))]\n",
    "                    t2 = tmrcas[tuple(sorted([_i, _k]))]\n",
    "                    e_ijik += t1 * t2\n",
    "                for _i, _j, _k, _l in gen_ijkl(i, j, ts.num_samples):\n",
    "                    t1 = left_tmrcas[tuple(sorted([_i, _j]))]\n",
    "                    t2 = tmrcas[tuple(sorted([_k, _l]))]\n",
    "                    e_ijkl += t1 * t2\n",
    "\n",
    "        left_tmrcas = tmrcas.copy()\n",
    "        yield tmrcas.copy(), e_ijij, e_ijik, e_ijkl\n",
    "\n",
    "        # set the lefthand bound\n",
    "        t_left = t_right\n",
    "        tree_index += 1"
   ]
  },
  {
   "cell_type": "code",
   "execution_count": 331,
   "id": "bcd03641-d18d-4584-aa62-5bdbb46911e4",
   "metadata": {},
   "outputs": [
    {
     "data": {
      "text/plain": [
       "[(0, 1, 2, 3)]"
      ]
     },
     "execution_count": 331,
     "metadata": {},
     "output_type": "execute_result"
    }
   ],
   "source": [
    "list(gen_ijkl(0, 1, 4))"
   ]
  },
  {
   "cell_type": "code",
   "execution_count": 332,
   "id": "a9b34613-71d4-4950-9674-a4558aa30b0b",
   "metadata": {},
   "outputs": [
    {
     "data": {
      "text/plain": [
       "[(0, 1, 2, 3),\n",
       " (0, 2, 1, 3),\n",
       " (0, 3, 1, 2),\n",
       " (1, 2, 0, 3),\n",
       " (1, 3, 0, 2),\n",
       " (2, 3, 0, 1)]"
      ]
     },
     "execution_count": 332,
     "metadata": {},
     "output_type": "execute_result"
    }
   ],
   "source": [
    "combine(4)[2]"
   ]
  },
  {
   "cell_type": "code",
   "execution_count": 333,
   "id": "fd1d9b34-c53f-4a69-92e0-aade756aa216",
   "metadata": {},
   "outputs": [],
   "source": [
    "i = iter_tree_tmrca(ts, None, 0, 0, 0)"
   ]
  },
  {
   "cell_type": "code",
   "execution_count": 334,
   "id": "968edbe3-ec67-4bb9-b0cb-43fc8eb2510e",
   "metadata": {},
   "outputs": [],
   "source": [
    "m, e_ijij, e_ijik, e_ijkl = next(i)"
   ]
  },
  {
   "cell_type": "code",
   "execution_count": 335,
   "id": "297ad96e-e7ef-4618-bf08-557756cb2c84",
   "metadata": {},
   "outputs": [
    {
     "data": {
      "text/plain": [
       "{(0, 1): 3.0,\n",
       " (0, 2): 7.0,\n",
       " (0, 3): 10.0,\n",
       " (1, 2): 7.0,\n",
       " (1, 3): 10.0,\n",
       " (2, 3): 10.0}"
      ]
     },
     "execution_count": 335,
     "metadata": {},
     "output_type": "execute_result"
    }
   ],
   "source": [
    "m"
   ]
  },
  {
   "cell_type": "code",
   "execution_count": 336,
   "id": "6f07ebc4-adde-46d6-98e2-140312d33fda",
   "metadata": {},
   "outputs": [
    {
     "data": {
      "text/plain": [
       "(407.0, 67.83333333333333)"
      ]
     },
     "execution_count": 336,
     "metadata": {},
     "output_type": "execute_result"
    }
   ],
   "source": [
    "e_ijij, e_ijij / len(list(combinations(range(4), 2)))"
   ]
  },
  {
   "cell_type": "code",
   "execution_count": 337,
   "id": "cc16670b-2818-448e-a1e6-18fc0635c142",
   "metadata": {},
   "outputs": [
    {
     "data": {
      "text/plain": [
       "(1462.0, 60.916666666666664)"
      ]
     },
     "execution_count": 337,
     "metadata": {},
     "output_type": "execute_result"
    }
   ],
   "source": [
    "e_ijik, e_ijik / len([p for i, j in combinations(range(4), 2) for p in gen_ijk(i, j, 4)])"
   ]
  },
  {
   "cell_type": "code",
   "execution_count": 338,
   "id": "fcdd221c-7fe5-4128-95e0-705f54ae47cc",
   "metadata": {},
   "outputs": [
    {
     "data": {
      "text/plain": [
       "(340.0, 56.666666666666664)"
      ]
     },
     "execution_count": 338,
     "metadata": {},
     "output_type": "execute_result"
    }
   ],
   "source": [
    "e_ijkl, e_ijkl / len([p for i, j in combinations(range(4), 2) for p in gen_ijkl(i, j, 4)])"
   ]
  },
  {
   "cell_type": "code",
   "execution_count": 339,
   "id": "5b5308ae-7656-4c50-a239-5f7deae7d0bb",
   "metadata": {},
   "outputs": [
    {
     "name": "stdout",
     "output_type": "stream",
     "text": [
      "removing 9 0 3\n",
      "removing 9 1 3\n",
      "removing 9 2 3\n",
      "removing 7 0 2\n",
      "removing 7 1 2\n",
      "removing 1 1 0\n"
     ]
    }
   ],
   "source": [
    "m, e_ijij, e_ijik, e_ijkl = next(i)"
   ]
  },
  {
   "cell_type": "code",
   "execution_count": 340,
   "id": "707307ab-fa91-42e3-a8ee-ef2b341eb1cb",
   "metadata": {},
   "outputs": [
    {
     "data": {
      "text/plain": [
       "{(0, 1): 4.0,\n",
       " (0, 2): 11.0,\n",
       " (0, 3): 11.0,\n",
       " (1, 2): 11.0,\n",
       " (1, 3): 11.0,\n",
       " (2, 3): 5.0}"
      ]
     },
     "execution_count": 340,
     "metadata": {},
     "output_type": "execute_result"
    }
   ],
   "source": [
    "m"
   ]
  },
  {
   "cell_type": "code",
   "execution_count": 341,
   "id": "d25c876e-2807-4ce6-847d-c286147c39dd",
   "metadata": {},
   "outputs": [
    {
     "data": {
      "text/plain": [
       "(843.0, 140.5)"
      ]
     },
     "execution_count": 341,
     "metadata": {},
     "output_type": "execute_result"
    }
   ],
   "source": [
    "e_ijij, e_ijij / len(list(combinations(range(4), 2)))"
   ]
  },
  {
   "cell_type": "code",
   "execution_count": 342,
   "id": "829a142e-80fd-40ee-894e-54ed32d1eafa",
   "metadata": {},
   "outputs": [
    {
     "data": {
      "text/plain": [
       "(3088.0, 128.66666666666666)"
      ]
     },
     "execution_count": 342,
     "metadata": {},
     "output_type": "execute_result"
    }
   ],
   "source": [
    "e_ijik, e_ijik / len([p for i, j in combinations(range(4), 2) for p in gen_ijk(i, j, 4)])"
   ]
  },
  {
   "cell_type": "code",
   "execution_count": 343,
   "id": "247c7976-f1fd-4f01-ae2d-9163546f1881",
   "metadata": {},
   "outputs": [
    {
     "data": {
      "text/plain": [
       "(769.0, 128.16666666666666)"
      ]
     },
     "execution_count": 343,
     "metadata": {},
     "output_type": "execute_result"
    }
   ],
   "source": [
    "e_ijkl, e_ijkl / len([p for i, j in combinations(range(4), 2) for p in gen_ijkl(i, j, 4)])"
   ]
  },
  {
   "cell_type": "code",
   "execution_count": 99,
   "id": "d29e116e-245f-4968-98bd-36fefa37416f",
   "metadata": {},
   "outputs": [],
   "source": [
    "def combine(num_samples):\n",
    "    \"\"\"\n",
    "    All sample pairings for 2/3/4 distinct samples.\n",
    "    \"\"\"\n",
    "    ij = list(combinations(range(num_samples), 2))\n",
    "    ijk = [(i, j, k) for i, j, k in product(range(num_samples), repeat=3)\n",
    "           if i != k and i != j and j != k]\n",
    "    ijkl = [(i, j, k, l) for i, j in combinations(range(num_samples), 2)\n",
    "            for k in range(num_samples)\n",
    "            for l in range(k + 1, num_samples)\n",
    "            if i != k and j != k and l != i and l != j]\n",
    "    return ij, ijk, ijkl"
   ]
  },
  {
   "cell_type": "code",
   "execution_count": 100,
   "id": "451a081f-77a7-4f16-af3b-c7a8add81aa8",
   "metadata": {},
   "outputs": [],
   "source": [
    "def compute_three_stats(ts, mu):\n",
    "    \"\"\"\n",
    "    Build matricies for each statistic (# trees x # trees)\n",
    "    \"\"\"\n",
    "    ij, ijk, ijkl = combine(ts.num_samples)\n",
    "    D2 = np.zeros((ts.num_trees, ts.num_trees), dtype=np.float64)\n",
    "    Dz = np.zeros((ts.num_trees, ts.num_trees), dtype=np.float64)\n",
    "    pi2 = np.zeros((ts.num_trees, ts.num_trees), dtype=np.float64)\n",
    "    for (i, left_tmrca), (j, right_tmrca) in combinations_with_replacement(enumerate(iter_tree_tmrca(ts)), 2):\n",
    "        D2[i, j] = compute_D2(left_tmrca, right_tmrca, ij, ijk, ijkl, mu)\n",
    "        Dz[i, j] = compute_Dz(left_tmrca, right_tmrca, ijk, ijkl, mu)\n",
    "        pi2[i, j] = compute_pi2(left_tmrca, right_tmrca, ijkl, mu)\n",
    "\n",
    "    # after computing upper triangle, reflect downward\n",
    "    tri_idx = np.tril_indices(ts.num_trees, k=-1)\n",
    "    D2[tri_idx] = D2.T[tri_idx]\n",
    "    Dz[tri_idx] = Dz.T[tri_idx]\n",
    "    pi2[tri_idx] = pi2.T[tri_idx]\n",
    "    return D2, Dz, pi2"
   ]
  },
  {
   "cell_type": "code",
   "execution_count": 9,
   "id": "99327674-9f30-4210-af34-951e6a56ed06",
   "metadata": {},
   "outputs": [
    {
     "data": {
      "text/plain": [
       "(array([[3.14290255e-16, 3.58528306e-16, 2.10583334e-16, 3.58528306e-16,\n",
       "         3.61056682e-16],\n",
       "        [3.58528306e-16, 4.09032065e-16, 2.40132736e-16, 4.09032065e-16,\n",
       "         4.12055133e-16],\n",
       "        [2.10583334e-16, 2.40132736e-16, 1.41310899e-16, 2.40132736e-16,\n",
       "         2.41501408e-16],\n",
       "        [3.58528306e-16, 4.09032065e-16, 2.40132736e-16, 4.09032065e-16,\n",
       "         4.12055133e-16],\n",
       "        [3.61056682e-16, 4.12055133e-16, 2.41501408e-16, 4.12055133e-16,\n",
       "         4.17115201e-16]]),\n",
       " array([[5.14017887e-16, 5.94365537e-16, 3.25659512e-16, 5.94365537e-16,\n",
       "         6.14522988e-16],\n",
       "        [5.94365537e-16, 6.87244603e-16, 3.76629864e-16, 6.87244603e-16,\n",
       "         7.10370206e-16],\n",
       "        [3.25659512e-16, 3.76629864e-16, 2.06170110e-16, 3.76629864e-16,\n",
       "         3.89829096e-16],\n",
       "        [5.94365537e-16, 6.87244603e-16, 3.76629864e-16, 6.87244603e-16,\n",
       "         7.10370206e-16],\n",
       "        [6.14522988e-16, 7.10370206e-16, 3.89829096e-16, 7.10370206e-16,\n",
       "         7.35424623e-16]]),\n",
       " array([[5.31163420e-16, 5.89447396e-16, 3.94528746e-16, 5.89447396e-16,\n",
       "         5.73039043e-16],\n",
       "        [5.89447396e-16, 6.53997079e-16, 4.38124073e-16, 6.53997079e-16,\n",
       "         6.35609957e-16],\n",
       "        [3.94528746e-16, 4.38124073e-16, 2.92328559e-16, 4.38124073e-16,\n",
       "         4.26354532e-16],\n",
       "        [5.89447396e-16, 6.53997079e-16, 4.38124073e-16, 6.53997079e-16,\n",
       "         6.35609957e-16],\n",
       "        [5.73039043e-16, 6.35609957e-16, 4.26354532e-16, 6.35609957e-16,\n",
       "         6.17222835e-16]]))"
      ]
     },
     "execution_count": 9,
     "metadata": {},
     "output_type": "execute_result"
    }
   ],
   "source": [
    "compute_three_stats(ts, mu=2e-8)"
   ]
  },
  {
   "cell_type": "code",
   "execution_count": 10,
   "id": "3fe38463-ce61-4d86-ab9b-ab18b98856e5",
   "metadata": {},
   "outputs": [
    {
     "ename": "KeyboardInterrupt",
     "evalue": "",
     "output_type": "error",
     "traceback": [
      "\u001b[0;31m---------------------------------------------------------------------------\u001b[0m",
      "\u001b[0;31mKeyboardInterrupt\u001b[0m                         Traceback (most recent call last)",
      "Cell \u001b[0;32mIn[10], line 23\u001b[0m\n\u001b[1;32m     21\u001b[0m ij, ijk, ijkl \u001b[38;5;241m=\u001b[39m combine(ts\u001b[38;5;241m.\u001b[39mnum_samples)\n\u001b[1;32m     22\u001b[0m tmrca_iter \u001b[38;5;241m=\u001b[39m iter_tree_tmrca(ts)\n\u001b[0;32m---> 23\u001b[0m left_tmrca \u001b[38;5;241m=\u001b[39m \u001b[38;5;28mnext\u001b[39m(tmrca_iter)\n\u001b[1;32m     24\u001b[0m right_tmrca \u001b[38;5;241m=\u001b[39m \u001b[38;5;28mnext\u001b[39m(tmrca_iter)\n\u001b[1;32m     25\u001b[0m stats\u001b[38;5;241m.\u001b[39mappend([\n\u001b[1;32m     26\u001b[0m     compute_D2(left_tmrca, right_tmrca, ij, ijk, ijkl, mu),\n\u001b[1;32m     27\u001b[0m     compute_Dz(left_tmrca, right_tmrca, ijk, ijkl, mu),\n\u001b[1;32m     28\u001b[0m     compute_pi2(left_tmrca, right_tmrca, ijkl, mu),\n\u001b[1;32m     29\u001b[0m ])\n",
      "Cell \u001b[0;32mIn[6], line 2\u001b[0m, in \u001b[0;36miter_tree_tmrca\u001b[0;34m(ts)\u001b[0m\n\u001b[1;32m      1\u001b[0m \u001b[38;5;28;01mfrom\u001b[39;00m \u001b[38;5;21;01mIPython\u001b[39;00m \u001b[38;5;28;01mimport\u001b[39;00m display\n\u001b[0;32m----> 2\u001b[0m \u001b[38;5;28;01mdef\u001b[39;00m \u001b[38;5;21miter_tree_tmrca\u001b[39m(ts):\n\u001b[1;32m      3\u001b[0m     \u001b[38;5;66;03m# initialize the TMRCAs dict, which maps pairs of samples to their TMRCA\u001b[39;00m\n\u001b[1;32m      4\u001b[0m     tmrcas \u001b[38;5;241m=\u001b[39m {(i, j): tskit\u001b[38;5;241m.\u001b[39mNULL \u001b[38;5;28;01mfor\u001b[39;00m i, j \u001b[38;5;129;01min\u001b[39;00m combinations(\u001b[38;5;28mrange\u001b[39m(ts\u001b[38;5;241m.\u001b[39mnum_samples), \u001b[38;5;241m2\u001b[39m)}\n\u001b[1;32m      5\u001b[0m     \u001b[38;5;66;03m# this is a set currently, which is slightly annoying because it's unordered (see all of the subsequent sorting gymnastics)\u001b[39;00m\n",
      "\u001b[0;31mKeyboardInterrupt\u001b[0m: "
     ]
    }
   ],
   "source": [
    "# Moments result: LDstats([[7.07964602e-09 1.88790560e-09 1.60943953e-07]], [0.0008], num_pops=1, pop_ids=None)\n",
    "Ne = 10_000\n",
    "mu = 2e-8\n",
    "r = 5e-4\n",
    "\n",
    "# TODO: this could use some work. Right now, we're generating a bunch of tree sequences that usually\n",
    "#       have two trees, and then compute our stats between the two trees.\n",
    "while True:\n",
    "    tss = msprime.sim_ancestry(\n",
    "        samples=2,\n",
    "        population_size=Ne,\n",
    "        recombination_rate=r,\n",
    "        sequence_length=2,\n",
    "        num_replicates=1_000_000,\n",
    "        # num_replicates=100_000,\n",
    "    )\n",
    "    stats = []\n",
    "    for ts in tss:\n",
    "        if ts.num_trees != 2:\n",
    "            continue\n",
    "        ij, ijk, ijkl = combine(ts.num_samples)\n",
    "        tmrca_iter = iter_tree_tmrca(ts)\n",
    "        left_tmrca = next(tmrca_iter)\n",
    "        right_tmrca = next(tmrca_iter)\n",
    "        stats.append([\n",
    "            compute_D2(left_tmrca, right_tmrca, ij, ijk, ijkl, mu),\n",
    "            compute_Dz(left_tmrca, right_tmrca, ijk, ijkl, mu),\n",
    "            compute_pi2(left_tmrca, right_tmrca, ijkl, mu),\n",
    "        ])\n",
    "    print(np.mean(stats, 0))"
   ]
  },
  {
   "cell_type": "code",
   "execution_count": 174,
   "id": "9690336b-4604-4f41-923a-979525848780",
   "metadata": {},
   "outputs": [],
   "source": [
    "def gen_ijk(i, j, n):\n",
    "    for k in sorted(set(range(n)) - {i, j}):\n",
    "        yield i, j, k\n",
    "        yield j, i, k"
   ]
  },
  {
   "cell_type": "code",
   "execution_count": 222,
   "id": "610b6008-420f-43b2-9636-57d1891ae302",
   "metadata": {},
   "outputs": [],
   "source": [
    "def gen_ijkl(i, j, n):\n",
    "    for k, l in combinations(sorted(set(range(n)) - {i, j}), 2):\n",
    "        yield i, j, k, l"
   ]
  },
  {
   "cell_type": "code",
   "execution_count": 226,
   "id": "30968490-8ec0-43a9-aacb-912b1c95eb85",
   "metadata": {},
   "outputs": [
    {
     "data": {
      "text/plain": [
       "[(0, 1, 2), (1, 0, 2), (0, 1, 3), (1, 0, 3)]"
      ]
     },
     "execution_count": 226,
     "metadata": {},
     "output_type": "execute_result"
    }
   ],
   "source": [
    "list(gen_ijk(0, 1, 4))"
   ]
  },
  {
   "cell_type": "code",
   "execution_count": 230,
   "id": "c9223025-1e11-4b03-8f29-c1fae6c13df1",
   "metadata": {},
   "outputs": [
    {
     "data": {
      "text/plain": [
       "[(0, 3, 1, 2)]"
      ]
     },
     "execution_count": 230,
     "metadata": {},
     "output_type": "execute_result"
    }
   ],
   "source": [
    "list(gen_ijkl(0, 3, 4))"
   ]
  },
  {
   "cell_type": "code",
   "execution_count": 145,
   "id": "6a442304-34ff-4e94-ba14-200b67243304",
   "metadata": {},
   "outputs": [
    {
     "data": {
      "text/plain": [
       "True"
      ]
     },
     "execution_count": 145,
     "metadata": {},
     "output_type": "execute_result"
    }
   ],
   "source": [
    "combine(4)[1] == sorted([p for i, j in combinations(range(4), 2) for p in gen_ijk(i, j, 4)])"
   ]
  },
  {
   "cell_type": "code",
   "execution_count": 46,
   "id": "3a907081-c7cd-4df6-aa74-185c771cd77b",
   "metadata": {},
   "outputs": [],
   "source": [
    "def select_ij(i_match, j_match, n):\n",
    "    \"\"\" diagnostic tool for selecting ij pairs \"\"\"\n",
    "    ij, ijk, ijkl = combine(n)\n",
    "    to_match = set([i_match, j_match])\n",
    "    return [\n",
    "        [(i, j) for i, j in ij if set([i, j]) == to_match],\n",
    "        [(i, j, k) for i, j, k in ijk if set([i, j]) == to_match or set([i, k]) == to_match],\n",
    "        [(i, j, k, l) for i, j, k, l in ijkl if set([i, j]) == to_match or set([k, l]) == to_match],\n",
    "    ]\n",
    "\n",
    "#     # to_match = (i_match, j_match)\n",
    "#     # return [\n",
    "#     #     [(i, j) for i, j in ij if (i, j) == to_match],\n",
    "#     #     [(i, j, k) for i, j, k in ijk if (i, j) == to_match or (i, k) == to_match],\n",
    "#     #     [(i, j, k, l) for i, j, k, l in ijkl if (i, j) == to_match or (k, l) == to_match],\n",
    "#     # ]\n",
    "\n",
    "# def gen_ijk(i, j, n):\n",
    "#     i, j = sorted([i, j])\n",
    "#     for k in sorted(set(range(n)) - {i, j}):\n",
    "#         yield i, j, k\n",
    "#         yield i, k, j\n",
    "#         yield j, i, k\n",
    "#         yield j, k, i\n",
    "\n",
    "\n",
    "def gen_ijk(i, j, n):\n",
    "    for k in sorted(set(range(n)) - {i, j}):\n",
    "        yield i, j, k\n",
    "        # yield i, k, j\n",
    "\n",
    "\n",
    "def gen_ijkl(i, j, n):\n",
    "    i, j = sorted([i, j])\n",
    "    for k, l in combinations(sorted(set(range(n)) - {i, j}), 2):\n",
    "        yield i, j, k, l\n",
    "        yield k, l, i, j"
   ]
  },
  {
   "cell_type": "code",
   "execution_count": 23,
   "id": "659c53b8-0e54-4edf-b77d-47b2d835a00e",
   "metadata": {},
   "outputs": [],
   "source": [
    "ij, ijk, ijkl = combine(5)"
   ]
  },
  {
   "cell_type": "code",
   "execution_count": 49,
   "id": "366e01e7-76dc-415a-bfc1-c53fd11bec92",
   "metadata": {},
   "outputs": [
    {
     "data": {
      "text/plain": [
       "True"
      ]
     },
     "execution_count": 49,
     "metadata": {},
     "output_type": "execute_result"
    }
   ],
   "source": [
    "# set([(i, j, k) for _i, _j in combinations(range(5), 2)\n",
    "#  for i, j, k in gen_ijk(_i, _j, 5)]) ^ set(ijk)\n",
    "sorted([(i, j, k) for _i, _j in product(range(5), repeat=2)\n",
    " for i, j, k in gen_ijk(_i, _j, 5) if _i != _j]) == sorted(ijk)"
   ]
  },
  {
   "cell_type": "code",
   "execution_count": 24,
   "id": "abbc3bb1-e873-41ae-ac26-2c409fe2178b",
   "metadata": {},
   "outputs": [
    {
     "data": {
      "text/plain": [
       "set()"
      ]
     },
     "execution_count": 24,
     "metadata": {},
     "output_type": "execute_result"
    }
   ],
   "source": [
    "set([(i, j, k) for _i, _j in combinations(range(5), 2)\n",
    " for i, j, k in gen_ijk(_i, _j, 5)]) ^ set(ijk)"
   ]
  },
  {
   "cell_type": "code",
   "execution_count": 25,
   "id": "e50edc89-d130-4424-9313-5650abddf14c",
   "metadata": {},
   "outputs": [
    {
     "data": {
      "text/plain": [
       "set()"
      ]
     },
     "execution_count": 25,
     "metadata": {},
     "output_type": "execute_result"
    }
   ],
   "source": [
    "set([(i, j, k, l) for _i, _j in combinations(range(5), 2)\n",
    " for i, j, k, l in gen_ijkl(_i, _j, 5)]) ^ set(ijkl)"
   ]
  },
  {
   "cell_type": "code",
   "execution_count": 195,
   "id": "158bef01-3ddb-47c1-9537-371199353b22",
   "metadata": {},
   "outputs": [],
   "source": [
    "i = iter_tree_tmrca(ts, None, 0, 0, 0)"
   ]
  },
  {
   "cell_type": "code",
   "execution_count": 196,
   "id": "756ad57c-0426-422c-aceb-ac84f156f15b",
   "metadata": {},
   "outputs": [],
   "source": [
    "m, e_ijij, e_ijik, e_ijkl = next(i)"
   ]
  },
  {
   "cell_type": "code",
   "execution_count": 197,
   "id": "22ebf0b5-33e8-4cf5-93e8-fe9c17ed4c09",
   "metadata": {},
   "outputs": [
    {
     "data": {
      "text/plain": [
       "(407.0, 67.83333333333333)"
      ]
     },
     "execution_count": 197,
     "metadata": {},
     "output_type": "execute_result"
    }
   ],
   "source": [
    "e_ijij, e_ijij / len(list(combinations(range(4), 2)))"
   ]
  },
  {
   "cell_type": "code",
   "execution_count": 198,
   "id": "f7fcc0e2-81f8-4daf-9589-ce2de6749d64",
   "metadata": {},
   "outputs": [
    {
     "data": {
      "text/plain": [
       "(654.0, 27.25)"
      ]
     },
     "execution_count": 198,
     "metadata": {},
     "output_type": "execute_result"
    }
   ],
   "source": [
    "e_ijik, e_ijik / len([p for i, j in combinations(range(4), 2) for p in gen_ijk(i, j, 4)])"
   ]
  },
  {
   "cell_type": "code",
   "execution_count": 199,
   "id": "3b2f6890-bbf5-4fc1-9ffa-873fc72bbfa6",
   "metadata": {},
   "outputs": [],
   "source": [
    "m, e_ijij, e_ijik, e_ijkl = next(i)"
   ]
  },
  {
   "cell_type": "code",
   "execution_count": 200,
   "id": "1be1f4be-cbc9-43b3-9a24-9b7172529a3e",
   "metadata": {},
   "outputs": [
    {
     "data": {
      "text/plain": [
       "155.33333333333334"
      ]
     },
     "execution_count": 200,
     "metadata": {},
     "output_type": "execute_result"
    }
   ],
   "source": [
    "e_ijij / len(combine(ts.num_samples)[0])"
   ]
  },
  {
   "cell_type": "code",
   "execution_count": null,
   "id": "0d2ed133-2a32-4a02-abdf-3eb0171ab8f2",
   "metadata": {},
   "outputs": [],
   "source": []
  }
 ],
 "metadata": {
  "kernelspec": {
   "display_name": "tskit-dev-2",
   "language": "python",
   "name": "tskit-dev-2"
  },
  "language_info": {
   "codemirror_mode": {
    "name": "ipython",
    "version": 3
   },
   "file_extension": ".py",
   "mimetype": "text/x-python",
   "name": "python",
   "nbconvert_exporter": "python",
   "pygments_lexer": "ipython3",
   "version": "3.11.4"
  }
 },
 "nbformat": 4,
 "nbformat_minor": 5
}
